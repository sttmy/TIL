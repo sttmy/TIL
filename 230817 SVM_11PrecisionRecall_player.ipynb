{
 "cells": [
  {
   "cell_type": "code",
   "execution_count": null,
   "id": "9be2f124",
   "metadata": {},
   "outputs": [],
   "source": []
  },
  {
   "cell_type": "markdown",
   "id": "bb46012b",
   "metadata": {},
   "source": [
    "### 분류 모형의 정확도를 평가하기 위한 Precision-Recall curve\n",
    "-  precision(정밀도)과 recall(재현율) 간의 절충점을 보여주는 그래프\n",
    "-  곡선 아래의 면적 : ACU-PR\n",
    "-  곡선 아래의 면적이 클수록 좋은 모형\n",
    "-  ROC 커브는 0.5에서 점차 증가하여 1에 도달하지만\n",
    "-  PR 커브는 1.0에서 점차 줄어드는 형태"
   ]
  },
  {
   "cell_type": "code",
   "execution_count": 1,
   "id": "6b7d8226",
   "metadata": {},
   "outputs": [
    {
     "data": {
      "text/html": [
       "<div>\n",
       "<style scoped>\n",
       "    .dataframe tbody tr th:only-of-type {\n",
       "        vertical-align: middle;\n",
       "    }\n",
       "\n",
       "    .dataframe tbody tr th {\n",
       "        vertical-align: top;\n",
       "    }\n",
       "\n",
       "    .dataframe thead th {\n",
       "        text-align: right;\n",
       "    }\n",
       "</style>\n",
       "<table border=\"1\" class=\"dataframe\">\n",
       "  <thead>\n",
       "    <tr style=\"text-align: right;\">\n",
       "      <th></th>\n",
       "      <th>id</th>\n",
       "      <th>player_name</th>\n",
       "      <th>birthday</th>\n",
       "      <th>preferred_foot</th>\n",
       "      <th>age</th>\n",
       "      <th>height</th>\n",
       "      <th>weight</th>\n",
       "      <th>potential</th>\n",
       "      <th>right_foot</th>\n",
       "      <th>left_foot</th>\n",
       "      <th>...</th>\n",
       "      <th>marking</th>\n",
       "      <th>standing_tackle</th>\n",
       "      <th>sliding_tackle</th>\n",
       "      <th>gk_diving</th>\n",
       "      <th>gk_handling</th>\n",
       "      <th>gk_kicking</th>\n",
       "      <th>gk_positioning</th>\n",
       "      <th>gk_reflexes</th>\n",
       "      <th>overall_rating</th>\n",
       "      <th>Label</th>\n",
       "    </tr>\n",
       "  </thead>\n",
       "  <tbody>\n",
       "    <tr>\n",
       "      <th>0</th>\n",
       "      <td>1</td>\n",
       "      <td>Aaron Appindangoye</td>\n",
       "      <td>1992-02-29</td>\n",
       "      <td>right</td>\n",
       "      <td>27</td>\n",
       "      <td>183</td>\n",
       "      <td>187</td>\n",
       "      <td>71</td>\n",
       "      <td>1</td>\n",
       "      <td>0</td>\n",
       "      <td>...</td>\n",
       "      <td>65</td>\n",
       "      <td>69</td>\n",
       "      <td>69</td>\n",
       "      <td>6</td>\n",
       "      <td>11</td>\n",
       "      <td>10</td>\n",
       "      <td>8</td>\n",
       "      <td>8</td>\n",
       "      <td>67</td>\n",
       "      <td>0</td>\n",
       "    </tr>\n",
       "    <tr>\n",
       "      <th>1</th>\n",
       "      <td>2</td>\n",
       "      <td>Aaron Cresswell</td>\n",
       "      <td>1989-12-15</td>\n",
       "      <td>right</td>\n",
       "      <td>30</td>\n",
       "      <td>170</td>\n",
       "      <td>146</td>\n",
       "      <td>71</td>\n",
       "      <td>1</td>\n",
       "      <td>0</td>\n",
       "      <td>...</td>\n",
       "      <td>65</td>\n",
       "      <td>69</td>\n",
       "      <td>69</td>\n",
       "      <td>6</td>\n",
       "      <td>11</td>\n",
       "      <td>10</td>\n",
       "      <td>8</td>\n",
       "      <td>8</td>\n",
       "      <td>67</td>\n",
       "      <td>0</td>\n",
       "    </tr>\n",
       "    <tr>\n",
       "      <th>2</th>\n",
       "      <td>3</td>\n",
       "      <td>Aaron Doran</td>\n",
       "      <td>1991-05-13</td>\n",
       "      <td>right</td>\n",
       "      <td>28</td>\n",
       "      <td>170</td>\n",
       "      <td>163</td>\n",
       "      <td>66</td>\n",
       "      <td>1</td>\n",
       "      <td>0</td>\n",
       "      <td>...</td>\n",
       "      <td>65</td>\n",
       "      <td>66</td>\n",
       "      <td>69</td>\n",
       "      <td>6</td>\n",
       "      <td>11</td>\n",
       "      <td>10</td>\n",
       "      <td>8</td>\n",
       "      <td>8</td>\n",
       "      <td>62</td>\n",
       "      <td>0</td>\n",
       "    </tr>\n",
       "    <tr>\n",
       "      <th>3</th>\n",
       "      <td>4</td>\n",
       "      <td>Aaron Galindo</td>\n",
       "      <td>1982-05-08</td>\n",
       "      <td>right</td>\n",
       "      <td>37</td>\n",
       "      <td>183</td>\n",
       "      <td>198</td>\n",
       "      <td>65</td>\n",
       "      <td>1</td>\n",
       "      <td>0</td>\n",
       "      <td>...</td>\n",
       "      <td>62</td>\n",
       "      <td>63</td>\n",
       "      <td>66</td>\n",
       "      <td>5</td>\n",
       "      <td>10</td>\n",
       "      <td>9</td>\n",
       "      <td>7</td>\n",
       "      <td>7</td>\n",
       "      <td>61</td>\n",
       "      <td>0</td>\n",
       "    </tr>\n",
       "    <tr>\n",
       "      <th>4</th>\n",
       "      <td>5</td>\n",
       "      <td>Aaron Hughes</td>\n",
       "      <td>1979-11-08</td>\n",
       "      <td>right</td>\n",
       "      <td>40</td>\n",
       "      <td>183</td>\n",
       "      <td>154</td>\n",
       "      <td>65</td>\n",
       "      <td>1</td>\n",
       "      <td>0</td>\n",
       "      <td>...</td>\n",
       "      <td>62</td>\n",
       "      <td>63</td>\n",
       "      <td>66</td>\n",
       "      <td>5</td>\n",
       "      <td>10</td>\n",
       "      <td>9</td>\n",
       "      <td>7</td>\n",
       "      <td>7</td>\n",
       "      <td>61</td>\n",
       "      <td>0</td>\n",
       "    </tr>\n",
       "  </tbody>\n",
       "</table>\n",
       "<p>5 rows × 45 columns</p>\n",
       "</div>"
      ],
      "text/plain": [
       "   id         player_name    birthday preferred_foot  age  height  weight  \\\n",
       "0   1  Aaron Appindangoye  1992-02-29          right   27     183     187   \n",
       "1   2     Aaron Cresswell  1989-12-15          right   30     170     146   \n",
       "2   3         Aaron Doran  1991-05-13          right   28     170     163   \n",
       "3   4       Aaron Galindo  1982-05-08          right   37     183     198   \n",
       "4   5        Aaron Hughes  1979-11-08          right   40     183     154   \n",
       "\n",
       "   potential  right_foot  left_foot  ...  marking  standing_tackle  \\\n",
       "0         71           1          0  ...       65               69   \n",
       "1         71           1          0  ...       65               69   \n",
       "2         66           1          0  ...       65               66   \n",
       "3         65           1          0  ...       62               63   \n",
       "4         65           1          0  ...       62               63   \n",
       "\n",
       "   sliding_tackle  gk_diving  gk_handling  gk_kicking  gk_positioning  \\\n",
       "0              69          6           11          10               8   \n",
       "1              69          6           11          10               8   \n",
       "2              69          6           11          10               8   \n",
       "3              66          5           10           9               7   \n",
       "4              66          5           10           9               7   \n",
       "\n",
       "   gk_reflexes  overall_rating  Label  \n",
       "0            8              67      0  \n",
       "1            8              67      0  \n",
       "2            8              62      0  \n",
       "3            7              61      0  \n",
       "4            7              61      0  \n",
       "\n",
       "[5 rows x 45 columns]"
      ]
     },
     "execution_count": 1,
     "metadata": {},
     "output_type": "execute_result"
    }
   ],
   "source": [
    "import pandas as pd\n",
    "df = pd.read_csv(\"Data/player.csv\")\n",
    "df.head()"
   ]
  },
  {
   "cell_type": "code",
   "execution_count": 2,
   "id": "add0f442",
   "metadata": {},
   "outputs": [
    {
     "data": {
      "text/plain": [
       "Index(['id', 'player_name', 'birthday', 'preferred_foot', 'age', 'height',\n",
       "       'weight', 'potential', 'right_foot', 'left_foot', 'crossing',\n",
       "       'finishing', 'heading_accuracy', 'short_passing', 'volleys',\n",
       "       'dribbling', 'curve', 'free_kick_accuracy', 'long_passing',\n",
       "       'ball_control', 'acceleration', 'sprint_speed', 'agility', 'reactions',\n",
       "       'balance', 'shot_power', 'jumping', 'stamina', 'strength', 'long_shots',\n",
       "       'aggression', 'interceptions', 'positioning', 'vision', 'penalties',\n",
       "       'marking', 'standing_tackle', 'sliding_tackle', 'gk_diving',\n",
       "       'gk_handling', 'gk_kicking', 'gk_positioning', 'gk_reflexes',\n",
       "       'overall_rating', 'Label'],\n",
       "      dtype='object')"
      ]
     },
     "execution_count": 2,
     "metadata": {},
     "output_type": "execute_result"
    }
   ],
   "source": [
    "df.columns"
   ]
  },
  {
   "cell_type": "code",
   "execution_count": 3,
   "id": "c8349c34",
   "metadata": {},
   "outputs": [
    {
     "data": {
      "text/plain": [
       "Label\n",
       "1    5705\n",
       "0    5230\n",
       "Name: count, dtype: int64"
      ]
     },
     "execution_count": 3,
     "metadata": {},
     "output_type": "execute_result"
    }
   ],
   "source": [
    "cols = ['age', 'height',\n",
    "       'weight', 'potential', 'right_foot', 'left_foot', 'crossing',\n",
    "       'finishing', 'heading_accuracy', 'short_passing', 'volleys',\n",
    "       'dribbling', 'curve', 'free_kick_accuracy', 'long_passing',\n",
    "       'ball_control', 'acceleration', 'sprint_speed', 'agility', 'reactions',\n",
    "       'balance', 'shot_power', 'jumping', 'stamina', 'strength', 'long_shots',\n",
    "       'aggression', 'interceptions', 'positioning', 'vision', 'penalties',\n",
    "       'marking', 'standing_tackle', 'sliding_tackle', 'gk_diving',\n",
    "       'gk_handling', 'gk_kicking', 'gk_positioning', 'gk_reflexes',]\n",
    "x = df[cols]\n",
    "y = df['Label']\n",
    "y.value_counts()"
   ]
  },
  {
   "cell_type": "markdown",
   "id": "bede2f4b",
   "metadata": {},
   "source": [
    "Precision-Recall curve는 주로 불균형 데이터셋의 정밀도와 재현율을 측정하는 지표로 사용되므로 여기서는 샘플링 과정을 생략함"
   ]
  },
  {
   "cell_type": "code",
   "execution_count": 4,
   "id": "a84a87ae",
   "metadata": {},
   "outputs": [
    {
     "data": {
      "text/plain": [
       "((8748, 39), (2187, 39), (8748,), (2187,))"
      ]
     },
     "execution_count": 4,
     "metadata": {},
     "output_type": "execute_result"
    }
   ],
   "source": [
    "from sklearn.model_selection import train_test_split\n",
    "\n",
    "x_tr, x_ts, y_tr, y_ts = train_test_split(x, y, test_size=0.2,stratify=y, random_state=0)\n",
    "x_tr.shape, x_ts.shape, y_tr.shape, y_ts.shape"
   ]
  },
  {
   "cell_type": "code",
   "execution_count": 5,
   "id": "cfeb5095",
   "metadata": {},
   "outputs": [
    {
     "data": {
      "text/plain": [
       "<Axes: >"
      ]
     },
     "execution_count": 5,
     "metadata": {},
     "output_type": "execute_result"
    },
    {
     "data": {
      "image/png": "[encoded data removed]",
      "text/plain": [
       "<Figure size 640x480 with 1 Axes>"
      ]
     },
     "metadata": {},
     "output_type": "display_data"
    }
   ],
   "source": [
    "x_tr.boxplot()"
   ]
  },
  {
   "cell_type": "code",
   "execution_count": 7,
   "id": "8fd0d183",
   "metadata": {},
   "outputs": [],
   "source": [
    "from sklearn.preprocessing import RobustScaler\n",
    "# 중앙값(median) 0, IQR(interquartile range, Q3-Q1) 1이 되도록 변환\n",
    "# 이상치를 다루기에 더 좋음\n",
    "scaler = RobustScaler()\n",
    "scaler.fit(x_tr)\n",
    "x_tr_scaled = pd.DataFrame(scaler.transform(x_tr))\n",
    "x_ts_scaled = pd.DataFrame(scaler.transform(x_ts))"
   ]
  },
  {
   "cell_type": "code",
   "execution_count": 8,
   "id": "821222ad",
   "metadata": {},
   "outputs": [
    {
     "name": "stderr",
     "output_type": "stream",
     "text": [
      "c:\\Python\\Python39\\lib\\site-packages\\sklearn\\ensemble\\_base.py:156: FutureWarning: `base_estimator` was renamed to `estimator` in version 1.2 and will be removed in 1.4.\n",
      "  warnings.warn(\n"
     ]
    },
    {
     "name": "stdout",
     "output_type": "stream",
     "text": [
      "0.9245541838134431\n",
      "0.9218106995884774\n"
     ]
    }
   ],
   "source": [
    "from sklearn.ensemble import BaggingClassifier\n",
    "from sklearn.svm import SVC\n",
    "# svm모형은 데이터의 양이 많을 경우 많은 메모리를 사용하여 속도가 매우 느려질 수 있으므로 BaggingClassifier를 사용하는 것을 권장함\n",
    "\n",
    "# 1개의 기계학습모형이지만 데이터 샘플을 중복사용하여 서로 다른 결과를 출력하는 다수의 모형을 비교\n",
    "\n",
    "svm = SVC()\n",
    "n_estimators = 10\n",
    "model = BaggingClassifier(base_estimator = svm,   # 분류기\n",
    "                    n_estimators = n_estimators,  # 분류기수\n",
    "                    max_samples = 1/n_estimators, # 부트스트랩 \n",
    "                    n_jobs = -1) \n",
    "model.fit(x_tr_scaled, y_tr)\n",
    "print(model.score(x_tr_scaled, y_tr))\n",
    "print(model.score(x_ts_scaled, y_ts))"
   ]
  },
  {
   "cell_type": "code",
   "execution_count": 11,
   "id": "449538bf",
   "metadata": {},
   "outputs": [
    {
     "name": "stdout",
     "output_type": "stream",
     "text": [
      "              precision    recall  f1-score   support\n",
      "\n",
      "           0       0.93      0.90      0.92      1046\n",
      "           1       0.91      0.94      0.93      1141\n",
      "\n",
      "    accuracy                           0.92      2187\n",
      "   macro avg       0.92      0.92      0.92      2187\n",
      "weighted avg       0.92      0.92      0.92      2187\n",
      "\n"
     ]
    }
   ],
   "source": [
    "from sklearn.metrics import classification_report\n",
    "pred = model.predict(x_ts_scaled)\n",
    "print(classification_report(y_ts, pred))"
   ]
  },
  {
   "cell_type": "code",
   "execution_count": 12,
   "id": "ad6b92f4",
   "metadata": {},
   "outputs": [
    {
     "name": "stdout",
     "output_type": "stream",
     "text": [
      "[-0.06787021  2.45341644  0.84611479 ...  2.81144103 -0.54743011\n",
      " -0.69903662]\n"
     ]
    }
   ],
   "source": [
    "y_score = model.decision_function(x_ts_scaled)\n",
    "print(y_score)"
   ]
  },
  {
   "cell_type": "code",
   "execution_count": 13,
   "id": "33cc4e21",
   "metadata": {},
   "outputs": [
    {
     "data": {
      "text/plain": [
       "0.9827600651737468"
      ]
     },
     "execution_count": 13,
     "metadata": {},
     "output_type": "execute_result"
    }
   ],
   "source": [
    "# 판별함수값으로 구한 precision 평균점수\n",
    "from sklearn.metrics import average_precision_score\n",
    "average_precision_score(y_ts, y_score)"
   ]
  },
  {
   "cell_type": "code",
   "execution_count": 25,
   "id": "a937a7e1",
   "metadata": {},
   "outputs": [
    {
     "data": {
      "image/png": "[encoded data removed]",
      "text/plain": [
       "<Figure size 640x480 with 1 Axes>"
      ]
     },
     "metadata": {},
     "output_type": "display_data"
    }
   ],
   "source": [
    "import matplotlib.pyplot as plt\n",
    "from sklearn.metrics import PrecisionRecallDisplay\n",
    "disp = PrecisionRecallDisplay.from_estimator(model, x_ts_scaled, y_ts)\n",
    "plt.show()"
   ]
  },
  {
   "cell_type": "code",
   "execution_count": null,
   "id": "4b2530f6",
   "metadata": {},
   "outputs": [],
   "source": []
  }
 ],
 "metadata": {
  "kernelspec": {
   "display_name": "Python 3 (ipykernel)",
   "language": "python",
   "name": "python3"
  },
  "language_info": {
   "codemirror_mode": {
    "name": "ipython",
    "version": 3
   },
   "file_extension": ".py",
   "mimetype": "text/x-python",
   "name": "python",
   "nbconvert_exporter": "python",
   "pygments_lexer": "ipython3",
   "version": "3.9.13"
  }
 },
 "nbformat": 4,
 "nbformat_minor": 5
}
