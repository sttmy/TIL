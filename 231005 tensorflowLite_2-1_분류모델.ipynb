{
 "cells": [
  {
   "cell_type": "code",
   "execution_count": 2,
   "metadata": {},
   "outputs": [
    {
     "data": {
      "text/html": [
       "<div>\n",
       "<style scoped>\n",
       "    .dataframe tbody tr th:only-of-type {\n",
       "        vertical-align: middle;\n",
       "    }\n",
       "\n",
       "    .dataframe tbody tr th {\n",
       "        vertical-align: top;\n",
       "    }\n",
       "\n",
       "    .dataframe thead th {\n",
       "        text-align: right;\n",
       "    }\n",
       "</style>\n",
       "<table border=\"1\" class=\"dataframe\">\n",
       "  <thead>\n",
       "    <tr style=\"text-align: right;\">\n",
       "      <th></th>\n",
       "      <th>sepal_length</th>\n",
       "      <th>sepal_width</th>\n",
       "      <th>petal_length</th>\n",
       "      <th>petal_width</th>\n",
       "      <th>species</th>\n",
       "    </tr>\n",
       "  </thead>\n",
       "  <tbody>\n",
       "    <tr>\n",
       "      <th>0</th>\n",
       "      <td>5.1</td>\n",
       "      <td>3.5</td>\n",
       "      <td>1.4</td>\n",
       "      <td>0.2</td>\n",
       "      <td>setosa</td>\n",
       "    </tr>\n",
       "    <tr>\n",
       "      <th>1</th>\n",
       "      <td>4.9</td>\n",
       "      <td>3.0</td>\n",
       "      <td>1.4</td>\n",
       "      <td>0.2</td>\n",
       "      <td>setosa</td>\n",
       "    </tr>\n",
       "    <tr>\n",
       "      <th>2</th>\n",
       "      <td>4.7</td>\n",
       "      <td>3.2</td>\n",
       "      <td>1.3</td>\n",
       "      <td>0.2</td>\n",
       "      <td>setosa</td>\n",
       "    </tr>\n",
       "    <tr>\n",
       "      <th>3</th>\n",
       "      <td>4.6</td>\n",
       "      <td>3.1</td>\n",
       "      <td>1.5</td>\n",
       "      <td>0.2</td>\n",
       "      <td>setosa</td>\n",
       "    </tr>\n",
       "    <tr>\n",
       "      <th>4</th>\n",
       "      <td>5.0</td>\n",
       "      <td>3.6</td>\n",
       "      <td>1.4</td>\n",
       "      <td>0.2</td>\n",
       "      <td>setosa</td>\n",
       "    </tr>\n",
       "  </tbody>\n",
       "</table>\n",
       "</div>"
      ],
      "text/plain": [
       "   sepal_length  sepal_width  petal_length  petal_width species\n",
       "0           5.1          3.5           1.4          0.2  setosa\n",
       "1           4.9          3.0           1.4          0.2  setosa\n",
       "2           4.7          3.2           1.3          0.2  setosa\n",
       "3           4.6          3.1           1.5          0.2  setosa\n",
       "4           5.0          3.6           1.4          0.2  setosa"
      ]
     },
     "execution_count": 2,
     "metadata": {},
     "output_type": "execute_result"
    }
   ],
   "source": [
    "import seaborn as sns\n",
    "\n",
    "iris = sns.load_dataset('iris')\n",
    "iris.head()"
   ]
  },
  {
   "cell_type": "code",
   "execution_count": 3,
   "metadata": {},
   "outputs": [
    {
     "name": "stdout",
     "output_type": "stream",
     "text": [
      "['setosa' 'setosa' 'setosa' 'setosa' 'setosa']\n"
     ]
    }
   ],
   "source": [
    "from sklearn.preprocessing import LabelEncoder\n",
    "import pandas as pd\n",
    "\n",
    "x = iris.iloc[:, :4].values  # 독립변수\n",
    "y = iris.iloc[:, 4].values\n",
    "print(y[:5])"
   ]
  },
  {
   "cell_type": "code",
   "execution_count": 4,
   "metadata": {},
   "outputs": [
    {
     "name": "stdout",
     "output_type": "stream",
     "text": [
      "[0 0 0 0 0]\n"
     ]
    }
   ],
   "source": [
    "encoder = LabelEncoder()\n",
    "y1 = encoder.fit_transform(y)\n",
    "print(y1[:5])"
   ]
  },
  {
   "cell_type": "code",
   "execution_count": 5,
   "metadata": {},
   "outputs": [
    {
     "name": "stdout",
     "output_type": "stream",
     "text": [
      "[[ True False False]\n",
      " [ True False False]\n",
      " [ True False False]\n",
      " [ True False False]\n",
      " [ True False False]]\n"
     ]
    }
   ],
   "source": [
    "y2 = pd.get_dummies(y1).values #\n",
    "print(y2[:5])"
   ]
  },
  {
   "cell_type": "code",
   "execution_count": 15,
   "metadata": {},
   "outputs": [
    {
     "name": "stdout",
     "output_type": "stream",
     "text": [
      "Model: \"sequential_1\"\n",
      "_________________________________________________________________\n",
      " Layer (type)                Output Shape              Param #   \n",
      "=================================================================\n",
      " dense_3 (Dense)             (None, 64)                320       \n",
      "                                                                 \n",
      " dense_4 (Dense)             (None, 64)                4160      \n",
      "                                                                 \n",
      " dense_5 (Dense)             (None, 3)                 195       \n",
      "                                                                 \n",
      "=================================================================\n",
      "Total params: 4,675\n",
      "Trainable params: 4,675\n",
      "Non-trainable params: 0\n",
      "_________________________________________________________________\n"
     ]
    }
   ],
   "source": [
    "from sklearn.model_selection import train_test_split\n",
    "\n",
    "x_tr, x_ts, y_tr, y_ts = train_test_split(x, y2, test_size=0.2, stratify=y, random_state = 10)\n",
    "\n",
    "from keras.models import Sequential\n",
    "from keras.layers import Dense\n",
    "from keras.optimizers import SGD\n",
    "\n",
    "# model 생성\n",
    "model = Sequential()\n",
    "model.add(Dense(64, input_shape=(4,), activation='relu'))\n",
    "model.add(Dense(64, activation='relu'))\n",
    "model.add(Dense(3, activation='softmax'))\n",
    "sgd = SGD(learning_rate = 0.01)\n",
    "model.compile(loss='categorical_crossentropy', optimizer=sgd, metrics=['accuracy'])\n",
    "\n",
    "model.summary()"
   ]
  },
  {
   "cell_type": "code",
   "execution_count": 16,
   "metadata": {},
   "outputs": [
    {
     "data": {
      "image/png": "[encoded data removed]",
      "text/plain": [
       "<IPython.core.display.Image object>"
      ]
     },
     "execution_count": 16,
     "metadata": {},
     "output_type": "execute_result"
    }
   ],
   "source": [
    "from keras.utils import plot_model  \n",
    "plot_model(model,show_shapes=True)"
   ]
  },
  {
   "cell_type": "code",
   "execution_count": 17,
   "metadata": {},
   "outputs": [
    {
     "name": "stdout",
     "output_type": "stream",
     "text": [
      "Epoch 1/100\n",
      "3/3 [==============================] - 1s 113ms/step - loss: 0.9950 - accuracy: 0.6250 - val_loss: 0.8633 - val_accuracy: 0.8333 - lr: 0.0100\n",
      "Epoch 2/100\n",
      "3/3 [==============================] - 0s 28ms/step - loss: 0.9290 - accuracy: 0.6250 - val_loss: 0.8368 - val_accuracy: 0.8333 - lr: 0.0100\n",
      "Epoch 3/100\n",
      "3/3 [==============================] - 0s 26ms/step - loss: 0.8795 - accuracy: 0.6250 - val_loss: 0.8112 - val_accuracy: 0.8333 - lr: 0.0100\n",
      "Epoch 4/100\n",
      "3/3 [==============================] - 0s 28ms/step - loss: 0.8413 - accuracy: 0.6250 - val_loss: 0.7866 - val_accuracy: 0.8333 - lr: 0.0100\n",
      "Epoch 5/100\n",
      "3/3 [==============================] - 0s 27ms/step - loss: 0.8168 - accuracy: 0.7188 - val_loss: 0.7609 - val_accuracy: 0.8333 - lr: 0.0100\n",
      "Epoch 6/100\n",
      "3/3 [==============================] - 0s 28ms/step - loss: 0.7945 - accuracy: 0.6667 - val_loss: 0.7398 - val_accuracy: 0.8333 - lr: 0.0100\n",
      "Epoch 7/100\n",
      "3/3 [==============================] - 0s 27ms/step - loss: 0.7757 - accuracy: 0.7604 - val_loss: 0.7199 - val_accuracy: 0.8750 - lr: 0.0100\n",
      "Epoch 8/100\n",
      "3/3 [==============================] - 0s 37ms/step - loss: 0.7659 - accuracy: 0.7292 - val_loss: 0.7010 - val_accuracy: 0.8750 - lr: 0.0100\n",
      "Epoch 9/100\n",
      "3/3 [==============================] - 0s 28ms/step - loss: 0.7428 - accuracy: 0.8333 - val_loss: 0.6811 - val_accuracy: 0.9583 - lr: 0.0100\n",
      "Epoch 10/100\n",
      "3/3 [==============================] - 0s 27ms/step - loss: 0.7288 - accuracy: 0.8542 - val_loss: 0.6622 - val_accuracy: 0.9583 - lr: 0.0100\n",
      "Epoch 11/100\n",
      "3/3 [==============================] - 0s 26ms/step - loss: 0.7171 - accuracy: 0.7812 - val_loss: 0.6493 - val_accuracy: 0.9583 - lr: 0.0100\n",
      "Epoch 12/100\n",
      "3/3 [==============================] - 0s 26ms/step - loss: 0.7056 - accuracy: 0.9062 - val_loss: 0.6286 - val_accuracy: 0.9583 - lr: 0.0100\n",
      "Epoch 13/100\n",
      "3/3 [==============================] - 0s 26ms/step - loss: 0.6910 - accuracy: 0.8542 - val_loss: 0.6138 - val_accuracy: 0.9583 - lr: 0.0100\n",
      "Epoch 14/100\n",
      "3/3 [==============================] - 0s 27ms/step - loss: 0.6799 - accuracy: 0.9271 - val_loss: 0.5982 - val_accuracy: 0.9583 - lr: 0.0100\n",
      "Epoch 15/100\n",
      "3/3 [==============================] - 0s 26ms/step - loss: 0.6678 - accuracy: 0.8333 - val_loss: 0.5870 - val_accuracy: 0.9583 - lr: 0.0100\n",
      "Epoch 16/100\n",
      "3/3 [==============================] - 0s 27ms/step - loss: 0.6562 - accuracy: 0.9479 - val_loss: 0.5724 - val_accuracy: 0.9583 - lr: 0.0100\n",
      "Epoch 17/100\n",
      "3/3 [==============================] - 0s 29ms/step - loss: 0.6451 - accuracy: 0.8438 - val_loss: 0.5618 - val_accuracy: 0.9583 - lr: 0.0100\n",
      "Epoch 18/100\n",
      "3/3 [==============================] - 0s 26ms/step - loss: 0.6358 - accuracy: 0.8542 - val_loss: 0.5503 - val_accuracy: 0.9583 - lr: 0.0100\n",
      "Epoch 19/100\n",
      "3/3 [==============================] - 0s 27ms/step - loss: 0.6246 - accuracy: 0.8854 - val_loss: 0.5390 - val_accuracy: 1.0000 - lr: 0.0100\n",
      "Epoch 20/100\n",
      "3/3 [==============================] - 0s 26ms/step - loss: 0.6136 - accuracy: 0.9583 - val_loss: 0.5266 - val_accuracy: 0.9583 - lr: 0.0100\n",
      "Epoch 21/100\n",
      "3/3 [==============================] - 0s 26ms/step - loss: 0.6047 - accuracy: 0.8854 - val_loss: 0.5154 - val_accuracy: 0.9583 - lr: 0.0100\n",
      "Epoch 22/100\n",
      "3/3 [==============================] - 0s 26ms/step - loss: 0.5952 - accuracy: 0.9271 - val_loss: 0.5056 - val_accuracy: 1.0000 - lr: 0.0100\n",
      "Epoch 23/100\n",
      "3/3 [==============================] - 0s 26ms/step - loss: 0.5863 - accuracy: 0.9375 - val_loss: 0.4948 - val_accuracy: 0.9583 - lr: 0.0100\n",
      "Epoch 24/100\n",
      "3/3 [==============================] - 0s 26ms/step - loss: 0.5789 - accuracy: 0.9062 - val_loss: 0.4861 - val_accuracy: 1.0000 - lr: 0.0100\n",
      "Epoch 25/100\n",
      "3/3 [==============================] - 0s 30ms/step - loss: 0.5719 - accuracy: 0.9479 - val_loss: 0.4754 - val_accuracy: 0.9583 - lr: 0.0100\n",
      "Epoch 26/100\n",
      "3/3 [==============================] - 0s 26ms/step - loss: 0.5615 - accuracy: 0.9375 - val_loss: 0.4676 - val_accuracy: 1.0000 - lr: 0.0100\n",
      "Epoch 27/100\n",
      "3/3 [==============================] - 0s 27ms/step - loss: 0.5559 - accuracy: 0.9479 - val_loss: 0.4585 - val_accuracy: 1.0000 - lr: 0.0100\n",
      "Epoch 28/100\n",
      "3/3 [==============================] - 0s 26ms/step - loss: 0.5490 - accuracy: 0.9583 - val_loss: 0.4493 - val_accuracy: 0.9583 - lr: 0.0100\n",
      "Epoch 29/100\n",
      "3/3 [==============================] - 0s 27ms/step - loss: 0.5456 - accuracy: 0.9583 - val_loss: 0.4398 - val_accuracy: 0.9583 - lr: 0.0100\n",
      "Epoch 30/100\n",
      "3/3 [==============================] - 0s 30ms/step - loss: 0.5344 - accuracy: 0.9375 - val_loss: 0.4320 - val_accuracy: 0.9583 - lr: 0.0100\n",
      "Epoch 31/100\n",
      "3/3 [==============================] - 0s 28ms/step - loss: 0.5317 - accuracy: 0.9062 - val_loss: 0.4290 - val_accuracy: 1.0000 - lr: 0.0100\n",
      "Epoch 32/100\n",
      "3/3 [==============================] - 0s 27ms/step - loss: 0.5210 - accuracy: 0.9375 - val_loss: 0.4228 - val_accuracy: 1.0000 - lr: 0.0100\n",
      "Epoch 33/100\n",
      "3/3 [==============================] - 0s 28ms/step - loss: 0.5184 - accuracy: 0.9688 - val_loss: 0.4127 - val_accuracy: 0.9583 - lr: 0.0100\n",
      "Epoch 34/100\n",
      "3/3 [==============================] - 0s 37ms/step - loss: 0.5109 - accuracy: 0.9688 - val_loss: 0.4045 - val_accuracy: 0.9583 - lr: 0.0100\n",
      "Epoch 35/100\n",
      "3/3 [==============================] - 0s 26ms/step - loss: 0.5029 - accuracy: 0.9375 - val_loss: 0.3992 - val_accuracy: 0.9583 - lr: 0.0100\n",
      "Epoch 36/100\n",
      "3/3 [==============================] - 0s 27ms/step - loss: 0.4958 - accuracy: 0.9375 - val_loss: 0.3946 - val_accuracy: 1.0000 - lr: 0.0100\n",
      "Epoch 37/100\n",
      "3/3 [==============================] - 0s 32ms/step - loss: 0.4900 - accuracy: 0.9479 - val_loss: 0.3894 - val_accuracy: 1.0000 - lr: 0.0100\n",
      "Epoch 38/100\n",
      "3/3 [==============================] - 0s 29ms/step - loss: 0.4855 - accuracy: 0.9375 - val_loss: 0.3866 - val_accuracy: 1.0000 - lr: 0.0100\n",
      "Epoch 39/100\n",
      "3/3 [==============================] - 0s 29ms/step - loss: 0.4803 - accuracy: 0.9479 - val_loss: 0.3818 - val_accuracy: 1.0000 - lr: 0.0100\n",
      "Epoch 40/100\n",
      "3/3 [==============================] - 0s 28ms/step - loss: 0.4752 - accuracy: 0.9479 - val_loss: 0.3777 - val_accuracy: 1.0000 - lr: 0.0100\n",
      "Epoch 41/100\n",
      "3/3 [==============================] - 0s 29ms/step - loss: 0.4737 - accuracy: 0.9688 - val_loss: 0.3662 - val_accuracy: 0.9583 - lr: 0.0100\n",
      "Epoch 42/100\n",
      "3/3 [==============================] - 0s 27ms/step - loss: 0.4670 - accuracy: 0.9375 - val_loss: 0.3647 - val_accuracy: 1.0000 - lr: 0.0100\n",
      "Epoch 43/100\n",
      "3/3 [==============================] - 0s 27ms/step - loss: 0.4596 - accuracy: 0.9583 - val_loss: 0.3598 - val_accuracy: 1.0000 - lr: 0.0100\n",
      "Epoch 44/100\n",
      "3/3 [==============================] - 0s 26ms/step - loss: 0.4557 - accuracy: 0.9583 - val_loss: 0.3537 - val_accuracy: 1.0000 - lr: 0.0100\n",
      "Epoch 45/100\n",
      "3/3 [==============================] - 0s 26ms/step - loss: 0.4513 - accuracy: 0.9583 - val_loss: 0.3513 - val_accuracy: 1.0000 - lr: 0.0100\n",
      "Epoch 46/100\n",
      "3/3 [==============================] - 0s 27ms/step - loss: 0.4562 - accuracy: 0.9479 - val_loss: 0.3457 - val_accuracy: 1.0000 - lr: 0.0100\n",
      "Epoch 47/100\n",
      "3/3 [==============================] - 0s 28ms/step - loss: 0.4423 - accuracy: 0.9479 - val_loss: 0.3429 - val_accuracy: 1.0000 - lr: 0.0100\n",
      "Epoch 48/100\n",
      "3/3 [==============================] - 0s 27ms/step - loss: 0.4381 - accuracy: 0.9583 - val_loss: 0.3376 - val_accuracy: 1.0000 - lr: 0.0100\n",
      "Epoch 49/100\n",
      "3/3 [==============================] - 0s 30ms/step - loss: 0.4395 - accuracy: 0.9583 - val_loss: 0.3318 - val_accuracy: 1.0000 - lr: 0.0100\n",
      "Epoch 50/100\n",
      "3/3 [==============================] - 0s 19ms/step - loss: 0.4331 - accuracy: 0.9271 - val_loss: 0.3377 - val_accuracy: 1.0000 - lr: 0.0100\n",
      "Epoch 51/100\n",
      "3/3 [==============================] - 0s 18ms/step - loss: 0.4295 - accuracy: 0.9479 - val_loss: 0.3364 - val_accuracy: 1.0000 - lr: 0.0100\n",
      "Epoch 52/100\n",
      "3/3 [==============================] - 0s 27ms/step - loss: 0.4217 - accuracy: 0.9688 - val_loss: 0.3256 - val_accuracy: 1.0000 - lr: 0.0100\n",
      "Epoch 53/100\n",
      "3/3 [==============================] - 0s 32ms/step - loss: 0.4217 - accuracy: 0.9479 - val_loss: 0.3269 - val_accuracy: 1.0000 - lr: 0.0100\n",
      "Epoch 54/100\n",
      "3/3 [==============================] - 0s 27ms/step - loss: 0.4154 - accuracy: 0.9583 - val_loss: 0.3213 - val_accuracy: 1.0000 - lr: 0.0100\n",
      "Epoch 55/100\n",
      "3/3 [==============================] - 0s 19ms/step - loss: 0.4147 - accuracy: 0.9479 - val_loss: 0.3217 - val_accuracy: 1.0000 - lr: 0.0100\n",
      "Epoch 56/100\n",
      "3/3 [==============================] - 0s 27ms/step - loss: 0.4063 - accuracy: 0.9688 - val_loss: 0.3118 - val_accuracy: 1.0000 - lr: 0.0100\n",
      "Epoch 57/100\n",
      "3/3 [==============================] - 0s 31ms/step - loss: 0.4028 - accuracy: 0.9688 - val_loss: 0.3075 - val_accuracy: 1.0000 - lr: 0.0100\n",
      "Epoch 58/100\n",
      "3/3 [==============================] - 0s 29ms/step - loss: 0.3999 - accuracy: 0.9583 - val_loss: 0.3051 - val_accuracy: 1.0000 - lr: 0.0100\n",
      "Epoch 59/100\n",
      "3/3 [==============================] - 0s 26ms/step - loss: 0.3954 - accuracy: 0.9688 - val_loss: 0.3036 - val_accuracy: 1.0000 - lr: 0.0100\n",
      "Epoch 60/100\n",
      "3/3 [==============================] - 0s 25ms/step - loss: 0.4027 - accuracy: 0.9375 - val_loss: 0.2958 - val_accuracy: 1.0000 - lr: 0.0100\n",
      "Epoch 61/100\n",
      "3/3 [==============================] - 0s 17ms/step - loss: 0.3921 - accuracy: 0.9583 - val_loss: 0.3027 - val_accuracy: 1.0000 - lr: 0.0100\n",
      "Epoch 62/100\n",
      "3/3 [==============================] - 0s 26ms/step - loss: 0.3853 - accuracy: 0.9688 - val_loss: 0.2935 - val_accuracy: 1.0000 - lr: 0.0100\n",
      "Epoch 63/100\n",
      "3/3 [==============================] - 0s 27ms/step - loss: 0.3815 - accuracy: 0.9688 - val_loss: 0.2905 - val_accuracy: 1.0000 - lr: 0.0100\n",
      "Epoch 64/100\n",
      "3/3 [==============================] - 0s 26ms/step - loss: 0.3799 - accuracy: 0.9688 - val_loss: 0.2858 - val_accuracy: 1.0000 - lr: 0.0100\n",
      "Epoch 65/100\n",
      "3/3 [==============================] - 0s 28ms/step - loss: 0.3794 - accuracy: 0.9688 - val_loss: 0.2833 - val_accuracy: 1.0000 - lr: 0.0100\n",
      "Epoch 66/100\n",
      "3/3 [==============================] - 0s 31ms/step - loss: 0.3742 - accuracy: 0.9583 - val_loss: 0.2822 - val_accuracy: 1.0000 - lr: 0.0100\n",
      "Epoch 67/100\n",
      "3/3 [==============================] - 0s 26ms/step - loss: 0.3692 - accuracy: 0.9688 - val_loss: 0.2788 - val_accuracy: 1.0000 - lr: 0.0100\n",
      "Epoch 68/100\n",
      "3/3 [==============================] - 0s 18ms/step - loss: 0.3672 - accuracy: 0.9688 - val_loss: 0.2811 - val_accuracy: 1.0000 - lr: 0.0100\n",
      "Epoch 69/100\n",
      "3/3 [==============================] - 0s 26ms/step - loss: 0.3636 - accuracy: 0.9688 - val_loss: 0.2708 - val_accuracy: 1.0000 - lr: 0.0100\n",
      "Epoch 70/100\n",
      "3/3 [==============================] - 0s 18ms/step - loss: 0.3600 - accuracy: 0.9688 - val_loss: 0.2744 - val_accuracy: 1.0000 - lr: 0.0100\n",
      "Epoch 71/100\n",
      "3/3 [==============================] - 0s 18ms/step - loss: 0.3579 - accuracy: 0.9688 - val_loss: 0.2748 - val_accuracy: 1.0000 - lr: 0.0100\n",
      "Epoch 72/100\n",
      "3/3 [==============================] - 0s 18ms/step - loss: 0.3564 - accuracy: 0.9583 - val_loss: 0.2736 - val_accuracy: 1.0000 - lr: 0.0100\n",
      "Epoch 73/100\n",
      "3/3 [==============================] - 0s 26ms/step - loss: 0.3510 - accuracy: 0.9688 - val_loss: 0.2625 - val_accuracy: 1.0000 - lr: 0.0100\n",
      "Epoch 74/100\n",
      "3/3 [==============================] - 0s 18ms/step - loss: 0.3519 - accuracy: 0.9479 - val_loss: 0.2724 - val_accuracy: 1.0000 - lr: 0.0100\n",
      "Epoch 75/100\n",
      "3/3 [==============================] - 0s 20ms/step - loss: 0.3465 - accuracy: 0.9688 - val_loss: 0.2641 - val_accuracy: 1.0000 - lr: 0.0100\n",
      "Epoch 76/100\n",
      "3/3 [==============================] - 0s 27ms/step - loss: 0.3419 - accuracy: 0.9688 - val_loss: 0.2582 - val_accuracy: 1.0000 - lr: 0.0100\n",
      "Epoch 77/100\n",
      "3/3 [==============================] - 0s 37ms/step - loss: 0.3436 - accuracy: 0.9479 - val_loss: 0.2520 - val_accuracy: 1.0000 - lr: 0.0100\n",
      "Epoch 78/100\n",
      "3/3 [==============================] - 0s 27ms/step - loss: 0.3386 - accuracy: 0.9688 - val_loss: 0.2478 - val_accuracy: 1.0000 - lr: 0.0100\n",
      "Epoch 79/100\n",
      "3/3 [==============================] - 0s 18ms/step - loss: 0.3340 - accuracy: 0.9688 - val_loss: 0.2493 - val_accuracy: 1.0000 - lr: 0.0100\n",
      "Epoch 80/100\n",
      "3/3 [==============================] - 0s 17ms/step - loss: 0.3333 - accuracy: 0.9479 - val_loss: 0.2523 - val_accuracy: 1.0000 - lr: 0.0100\n",
      "Epoch 81/100\n",
      "3/3 [==============================] - 0s 26ms/step - loss: 0.3282 - accuracy: 0.9688 - val_loss: 0.2460 - val_accuracy: 1.0000 - lr: 0.0100\n",
      "Epoch 82/100\n",
      "3/3 [==============================] - 0s 29ms/step - loss: 0.3260 - accuracy: 0.9688 - val_loss: 0.2411 - val_accuracy: 1.0000 - lr: 0.0100\n",
      "Epoch 83/100\n",
      "3/3 [==============================] - 0s 19ms/step - loss: 0.3241 - accuracy: 0.9688 - val_loss: 0.2453 - val_accuracy: 1.0000 - lr: 0.0100\n",
      "Epoch 84/100\n",
      "3/3 [==============================] - 0s 31ms/step - loss: 0.3268 - accuracy: 0.9688 - val_loss: 0.2385 - val_accuracy: 1.0000 - lr: 0.0100\n",
      "Epoch 85/100\n",
      "3/3 [==============================] - 0s 27ms/step - loss: 0.3200 - accuracy: 0.9792 - val_loss: 0.2328 - val_accuracy: 1.0000 - lr: 0.0100\n",
      "Epoch 86/100\n",
      "3/3 [==============================] - 0s 26ms/step - loss: 0.3196 - accuracy: 0.9688 - val_loss: 0.2323 - val_accuracy: 1.0000 - lr: 0.0100\n",
      "Epoch 87/100\n",
      "3/3 [==============================] - 0s 18ms/step - loss: 0.3132 - accuracy: 0.9688 - val_loss: 0.2335 - val_accuracy: 1.0000 - lr: 0.0100\n",
      "Epoch 88/100\n",
      "3/3 [==============================] - 0s 18ms/step - loss: 0.3145 - accuracy: 0.9583 - val_loss: 0.2397 - val_accuracy: 1.0000 - lr: 0.0100\n",
      "Epoch 89/100\n",
      "3/3 [==============================] - 0s 27ms/step - loss: 0.3093 - accuracy: 0.9688 - val_loss: 0.2268 - val_accuracy: 1.0000 - lr: 0.0100\n",
      "Epoch 90/100\n",
      "3/3 [==============================] - 0s 27ms/step - loss: 0.3053 - accuracy: 0.9688 - val_loss: 0.2262 - val_accuracy: 1.0000 - lr: 0.0100\n",
      "Epoch 91/100\n",
      "3/3 [==============================] - 0s 18ms/step - loss: 0.3035 - accuracy: 0.9688 - val_loss: 0.2296 - val_accuracy: 1.0000 - lr: 0.0100\n",
      "Epoch 92/100\n",
      "3/3 [==============================] - 0s 27ms/step - loss: 0.3061 - accuracy: 0.9792 - val_loss: 0.2228 - val_accuracy: 1.0000 - lr: 0.0100\n",
      "Epoch 93/100\n",
      "3/3 [==============================] - 0s 44ms/step - loss: 0.2988 - accuracy: 0.9688 - val_loss: 0.2199 - val_accuracy: 1.0000 - lr: 0.0100\n",
      "Epoch 94/100\n",
      "3/3 [==============================] - 0s 26ms/step - loss: 0.2989 - accuracy: 0.9688 - val_loss: 0.2163 - val_accuracy: 1.0000 - lr: 0.0100\n",
      "Epoch 95/100\n",
      "3/3 [==============================] - 0s 18ms/step - loss: 0.2957 - accuracy: 0.9688 - val_loss: 0.2232 - val_accuracy: 1.0000 - lr: 0.0100\n",
      "Epoch 96/100\n",
      "3/3 [==============================] - 0s 17ms/step - loss: 0.2932 - accuracy: 0.9688 - val_loss: 0.2171 - val_accuracy: 1.0000 - lr: 0.0100\n",
      "Epoch 97/100\n",
      "3/3 [==============================] - 0s 26ms/step - loss: 0.2887 - accuracy: 0.9688 - val_loss: 0.2121 - val_accuracy: 1.0000 - lr: 0.0100\n",
      "Epoch 98/100\n",
      "3/3 [==============================] - 0s 17ms/step - loss: 0.2890 - accuracy: 0.9688 - val_loss: 0.2125 - val_accuracy: 1.0000 - lr: 0.0100\n",
      "Epoch 99/100\n",
      "3/3 [==============================] - 0s 27ms/step - loss: 0.2876 - accuracy: 0.9583 - val_loss: 0.2094 - val_accuracy: 1.0000 - lr: 0.0100\n",
      "Epoch 100/100\n",
      "3/3 [==============================] - 0s 37ms/step - loss: 0.2837 - accuracy: 0.9688 - val_loss: 0.2075 - val_accuracy: 1.0000 - lr: 0.0100\n"
     ]
    }
   ],
   "source": [
    "from keras.callbacks import EarlyStopping, ModelCheckpoint, ReduceLROnPlateau, CSVLogger\n",
    "es = EarlyStopping(monitor='val_loss', patience=10)\n",
    "\n",
    "# 학습 과정에서 만들어진 최적의 파라미터 조합으로 모형을 저장\n",
    "mc = ModelCheckpoint(\"iris_best.h5\", save_best_only=True)\n",
    "\n",
    "# 학습이 잘 안될 때 학습률을 동적으로 조절하는 옵션\n",
    "rlr = ReduceLROnPlateau(factor=0.1, patience=5) #기존 학습률*factor (배수)\n",
    "\n",
    "# 학습 과정의 주요 history를 csv로 저장\n",
    "csvlogger = CSVLogger(\"mylog.csv\")  \n",
    "hist = model.fit(x_tr, y_tr, validation_split=0.2, epochs=100, callbacks=[es, mc, rlr, csvlogger])"
   ]
  },
  {
   "cell_type": "code",
   "execution_count": 18,
   "metadata": {},
   "outputs": [
    {
     "data": {
      "text/plain": [
       "[0.2837070822715759, 0.9666666388511658]"
      ]
     },
     "execution_count": 18,
     "metadata": {},
     "output_type": "execute_result"
    }
   ],
   "source": [
    "from keras.models import load_model\n",
    "model = load_model('iris_best.h5')\n",
    "model.evaluate(x_ts, y_ts, verbose=0)\n"
   ]
  },
  {
   "cell_type": "code",
   "execution_count": 19,
   "metadata": {},
   "outputs": [
    {
     "name": "stdout",
     "output_type": "stream",
     "text": [
      "정확도 = 0.97\n"
     ]
    }
   ],
   "source": [
    "# 모델 평가\n",
    "loss, accuracy = model.evaluate(x_ts, y_ts, verbose=0)\n",
    "print('정확도 = {:.2f}'.format(accuracy))"
   ]
  },
  {
   "cell_type": "code",
   "execution_count": 20,
   "metadata": {},
   "outputs": [
    {
     "name": "stdout",
     "output_type": "stream",
     "text": [
      "1/1 [==============================] - 0s 59ms/step\n",
      "[[1.4368169e-02 5.6201082e-01 4.2362109e-01]\n",
      " [9.2931134e-01 6.8723604e-02 1.9650727e-03]\n",
      " [1.2213951e-02 4.7942767e-01 5.0835836e-01]\n",
      " [7.0419097e-03 4.6106890e-01 5.3188920e-01]\n",
      " [7.4640974e-02 7.2729242e-01 1.9806656e-01]\n",
      " [3.0749713e-03 3.2912481e-01 6.6780019e-01]\n",
      " [9.1772091e-01 7.8923866e-02 3.3552335e-03]\n",
      " [1.9139640e-03 2.2426705e-01 7.7381897e-01]\n",
      " [2.0961617e-03 2.5061589e-01 7.4728799e-01]\n",
      " [9.7854978e-01 2.1170374e-02 2.7985548e-04]]\n",
      "[1 0 1 2 1 2 0 2 2 0]\n",
      "[1 0 2 2 1 2 0 2 2 0]\n",
      "[[10  0  0]\n",
      " [ 0  9  1]\n",
      " [ 0  0 10]]\n"
     ]
    }
   ],
   "source": [
    "import numpy as np\n",
    "from sklearn.metrics import confusion_matrix\n",
    "pred = model.predict(x_ts)\n",
    "print(pred[:10])\n",
    "y_ts_class = np.argmax(y_ts, axis=1)\n",
    "pred_class = np.argmax(pred, axis=1)\n",
    "\n",
    "print(y_ts_class[:10])\n",
    "print(pred_class[:10])\n",
    "print(confusion_matrix(y_ts_class, pred_class))"
   ]
  },
  {
   "cell_type": "code",
   "execution_count": 21,
   "metadata": {},
   "outputs": [],
   "source": [
    "model.save('iris.h5')"
   ]
  },
  {
   "cell_type": "code",
   "execution_count": 22,
   "metadata": {},
   "outputs": [
    {
     "name": "stdout",
     "output_type": "stream",
     "text": [
      "INFO:tensorflow:Assets written to: C:\\Users\\tjoeun\\AppData\\Local\\Temp\\tmpod2m6ewl\\assets\n"
     ]
    },
    {
     "name": "stderr",
     "output_type": "stream",
     "text": [
      "INFO:tensorflow:Assets written to: C:\\Users\\tjoeun\\AppData\\Local\\Temp\\tmpod2m6ewl\\assets\n"
     ]
    }
   ],
   "source": [
    "import tensorflow as tf\n",
    "converter = tf.lite.TFLiteConverter.from_keras_model(model)\n",
    "tflite_model = converter.convert()\n",
    "\n",
    "with open('./iris_model.tflite', 'wb') as f:\n",
    "    f.write(tflite_model)"
   ]
  },
  {
   "cell_type": "code",
   "execution_count": null,
   "metadata": {},
   "outputs": [],
   "source": []
  }
 ],
 "metadata": {
  "kernelspec": {
   "display_name": "Python 3",
   "language": "python",
   "name": "python3"
  },
  "language_info": {
   "codemirror_mode": {
    "name": "ipython",
    "version": 3
   },
   "file_extension": ".py",
   "mimetype": "text/x-python",
   "name": "python",
   "nbconvert_exporter": "python",
   "pygments_lexer": "ipython3",
   "version": "3.9.13"
  },
  "orig_nbformat": 4
 },
 "nbformat": 4,
 "nbformat_minor": 2
}
