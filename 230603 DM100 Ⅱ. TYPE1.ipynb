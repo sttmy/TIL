{
 "cells": [
  {
   "cell_type": "markdown",
   "id": "a24b78b7",
   "metadata": {},
   "source": [
    "### 유튜브 인기동영상"
   ]
  },
  {
   "cell_type": "code",
   "execution_count": 2,
   "id": "c5450d44",
   "metadata": {},
   "outputs": [],
   "source": [
    "import pandas as pd\n",
    "import numpy as np\n",
    "import datetime as dt"
   ]
  },
  {
   "cell_type": "code",
   "execution_count": 174,
   "id": "5aaa7d4c",
   "metadata": {},
   "outputs": [],
   "source": [
    "url = 'https://raw.githubusercontent.com/Datamanim/datarepo/main/youtube/youtube.csv'\n",
    "df = pd.read_csv(url)"
   ]
  },
  {
   "cell_type": "code",
   "execution_count": 4,
   "id": "4a5c576d",
   "metadata": {},
   "outputs": [
    {
     "data": {
      "text/html": [
       "<div>\n",
       "<style scoped>\n",
       "    .dataframe tbody tr th:only-of-type {\n",
       "        vertical-align: middle;\n",
       "    }\n",
       "\n",
       "    .dataframe tbody tr th {\n",
       "        vertical-align: top;\n",
       "    }\n",
       "\n",
       "    .dataframe thead th {\n",
       "        text-align: right;\n",
       "    }\n",
       "</style>\n",
       "<table border=\"1\" class=\"dataframe\">\n",
       "  <thead>\n",
       "    <tr style=\"text-align: right;\">\n",
       "      <th></th>\n",
       "      <th>Unnamed: 0</th>\n",
       "      <th>title</th>\n",
       "      <th>channelTitle</th>\n",
       "      <th>categoryId</th>\n",
       "      <th>view_count</th>\n",
       "      <th>likes</th>\n",
       "      <th>dislikes</th>\n",
       "      <th>comment_count</th>\n",
       "      <th>channelId</th>\n",
       "      <th>trending_date2</th>\n",
       "    </tr>\n",
       "  </thead>\n",
       "  <tbody>\n",
       "    <tr>\n",
       "      <th>0</th>\n",
       "      <td>0</td>\n",
       "      <td>[신병] 물자창고</td>\n",
       "      <td>장삐쭈</td>\n",
       "      <td>23</td>\n",
       "      <td>1893473</td>\n",
       "      <td>38249</td>\n",
       "      <td>730</td>\n",
       "      <td>8595</td>\n",
       "      <td>UChbE5OZQ6dRHECsX0tEPEZQ</td>\n",
       "      <td>2021-01-01</td>\n",
       "    </tr>\n",
       "    <tr>\n",
       "      <th>1</th>\n",
       "      <td>1</td>\n",
       "      <td>RAIN(비) - 나로 바꾸자 Switch to me (duet with JYP) MV</td>\n",
       "      <td>RAIN's Official Channel</td>\n",
       "      <td>10</td>\n",
       "      <td>2600864</td>\n",
       "      <td>0</td>\n",
       "      <td>0</td>\n",
       "      <td>20129</td>\n",
       "      <td>UCxXgIeE5hxWxHG6dz9Scg2w</td>\n",
       "      <td>2021-01-01</td>\n",
       "    </tr>\n",
       "    <tr>\n",
       "      <th>2</th>\n",
       "      <td>2</td>\n",
       "      <td>2020년 제야의 종 온라인 타종행사 | 보신각 현장 행사는 진행하지 않습니다.</td>\n",
       "      <td>서울시 · Seoul</td>\n",
       "      <td>29</td>\n",
       "      <td>347049</td>\n",
       "      <td>3564</td>\n",
       "      <td>120</td>\n",
       "      <td>178</td>\n",
       "      <td>UCZUPZW5idAxYp-Asj__lVAA</td>\n",
       "      <td>2021-01-01</td>\n",
       "    </tr>\n",
       "  </tbody>\n",
       "</table>\n",
       "</div>"
      ],
      "text/plain": [
       "   Unnamed: 0                                             title  \\\n",
       "0           0                                         [신병] 물자창고   \n",
       "1           1  RAIN(비) - 나로 바꾸자 Switch to me (duet with JYP) MV   \n",
       "2           2      2020년 제야의 종 온라인 타종행사 | 보신각 현장 행사는 진행하지 않습니다.   \n",
       "\n",
       "              channelTitle  categoryId  view_count  likes  dislikes  \\\n",
       "0                      장삐쭈          23     1893473  38249       730   \n",
       "1  RAIN's Official Channel          10     2600864      0         0   \n",
       "2              서울시 · Seoul          29      347049   3564       120   \n",
       "\n",
       "   comment_count                 channelId trending_date2  \n",
       "0           8595  UChbE5OZQ6dRHECsX0tEPEZQ     2021-01-01  \n",
       "1          20129  UCxXgIeE5hxWxHG6dz9Scg2w     2021-01-01  \n",
       "2            178  UCZUPZW5idAxYp-Asj__lVAA     2021-01-01  "
      ]
     },
     "execution_count": 4,
     "metadata": {},
     "output_type": "execute_result"
    }
   ],
   "source": [
    "df.head(3)"
   ]
  },
  {
   "cell_type": "code",
   "execution_count": 5,
   "id": "3e7ab1ab",
   "metadata": {},
   "outputs": [
    {
     "name": "stdout",
     "output_type": "stream",
     "text": [
      "<class 'pandas.core.frame.DataFrame'>\n",
      "RangeIndex: 60399 entries, 0 to 60398\n",
      "Data columns (total 10 columns):\n",
      " #   Column          Non-Null Count  Dtype \n",
      "---  ------          --------------  ----- \n",
      " 0   Unnamed: 0      60399 non-null  int64 \n",
      " 1   title           60399 non-null  object\n",
      " 2   channelTitle    60399 non-null  object\n",
      " 3   categoryId      60399 non-null  int64 \n",
      " 4   view_count      60399 non-null  int64 \n",
      " 5   likes           60399 non-null  int64 \n",
      " 6   dislikes        60399 non-null  int64 \n",
      " 7   comment_count   60399 non-null  int64 \n",
      " 8   channelId       60399 non-null  object\n",
      " 9   trending_date2  60399 non-null  object\n",
      "dtypes: int64(6), object(4)\n",
      "memory usage: 4.6+ MB\n"
     ]
    }
   ],
   "source": [
    "df.info()"
   ]
  },
  {
   "cell_type": "markdown",
   "id": "0a9c8a20",
   "metadata": {},
   "source": [
    "## Q1. 인기동영상 제작횟수가 많은 채널 상위 10개명을 출력하라 (날짜기준, 중복포함)"
   ]
  },
  {
   "cell_type": "code",
   "execution_count": 18,
   "id": "1c596269",
   "metadata": {},
   "outputs": [
    {
     "data": {
      "text/plain": [
       "Index(['짤툰', '파뿌리', 'SPOTV', '런닝맨 - 스브스 공식 채널', '엠뚜루마뚜루 : MBC 공식 종합 채널', '장삐쭈',\n",
       "       'BANGTANTV', '채널 십오야', '이과장', '총몇명'],\n",
       "      dtype='object', name='channelTitle')"
      ]
     },
     "execution_count": 18,
     "metadata": {},
     "output_type": "execute_result"
    }
   ],
   "source": [
    "df.groupby('channelTitle')['title'].size().sort_values(ascending =False).head(10).index"
   ]
  },
  {
   "cell_type": "code",
   "execution_count": 24,
   "id": "0d36a010",
   "metadata": {},
   "outputs": [
    {
     "data": {
      "text/plain": [
       "Index(['UCszFjh7CEfwDb7UUGb4RzCQ', 'UClzB2iZ5jPoTNz0S-QU6Wiw',\n",
       "       'UCtm_QoN2SIxwCE-59shX7Qg', 'UCaKod3X1Tn4c7Ci0iUKcvzQ',\n",
       "       'UCiwQRG2sCcfjKkgxMEdJGPg', 'UChbE5OZQ6dRHECsX0tEPEZQ',\n",
       "       'UCLkAepWjdylmXSltofFvsYQ', 'UCQ2O-iftmnlfrBuNsUUTofQ',\n",
       "       'UCtfriFvIe5gIe8wRWb8UTMg', 'UCRuSxVu4iqTK5kCh90ntAgA'],\n",
       "      dtype='object')"
      ]
     },
     "execution_count": 24,
     "metadata": {},
     "output_type": "execute_result"
    }
   ],
   "source": [
    "df.channelId.value_counts().head(10).index"
   ]
  },
  {
   "cell_type": "code",
   "execution_count": 30,
   "id": "bf721547",
   "metadata": {},
   "outputs": [
    {
     "data": {
      "text/plain": [
       "['장삐쭈',\n",
       " '총몇명',\n",
       " '파뿌리',\n",
       " '짤툰',\n",
       " '런닝맨 - 스브스 공식 채널',\n",
       " '엠뚜루마뚜루 : MBC 공식 종합 채널',\n",
       " 'SPOTV',\n",
       " '채널 십오야',\n",
       " '이과장',\n",
       " 'BANGTANTV']"
      ]
     },
     "execution_count": 30,
     "metadata": {},
     "output_type": "execute_result"
    }
   ],
   "source": [
    "list(df.loc[df.channelId.isin(df.channelId.value_counts().head(10).index)].channelTitle.unique())"
   ]
  },
  {
   "cell_type": "code",
   "execution_count": 31,
   "id": "ebc94849",
   "metadata": {},
   "outputs": [
    {
     "data": {
      "text/plain": [
       "channelTitle\n",
       "짤툰                       372\n",
       "파뿌리                      318\n",
       "SPOTV                    318\n",
       "런닝맨 - 스브스 공식 채널          313\n",
       "엠뚜루마뚜루 : MBC 공식 종합 채널    293\n",
       "장삐쭈                      283\n",
       "BANGTANTV                275\n",
       "채널 십오야                   274\n",
       "이과장                      258\n",
       "총몇명                      255\n",
       "Name: title, dtype: int64"
      ]
     },
     "execution_count": 31,
     "metadata": {},
     "output_type": "execute_result"
    }
   ],
   "source": [
    "df.groupby('channelTitle')['title'].size().sort_values(ascending =False).head(10)"
   ]
  },
  {
   "cell_type": "code",
   "execution_count": 39,
   "id": "35bbce48",
   "metadata": {},
   "outputs": [
    {
     "data": {
      "text/plain": [
       "channelTitle\n",
       "짤툰                       372\n",
       "SPOTV                    318\n",
       "파뿌리                      318\n",
       "런닝맨 - 스브스 공식 채널          313\n",
       "엠뚜루마뚜루 : MBC 공식 종합 채널    293\n",
       "장삐쭈                      283\n",
       "BANGTANTV                275\n",
       "채널 십오야                   274\n",
       "이과장                      258\n",
       "총몇명                      255\n",
       "dtype: int64"
      ]
     },
     "execution_count": 39,
     "metadata": {},
     "output_type": "execute_result"
    }
   ],
   "source": [
    "df.loc[df.channelId.isin(df.channelId.value_counts().head(10).index)].value_counts('channelTitle')"
   ]
  },
  {
   "cell_type": "markdown",
   "id": "b6f75923",
   "metadata": {},
   "source": [
    "Q2. 논란으로 인기동영상이 된 케이스를 확인하고 싶다. dislikes수가 like 수보다 높은 동영상을 제작한 채널을 모두 출력하라"
   ]
  },
  {
   "cell_type": "code",
   "execution_count": 42,
   "id": "2a500111",
   "metadata": {},
   "outputs": [
    {
     "data": {
      "text/plain": [
       "['핫도그TV',\n",
       " 'ASMR 애정TV',\n",
       " '하얀트리HayanTree',\n",
       " '양팡 YangPang',\n",
       " '철구형 (CHULTUBE)',\n",
       " '왜냐맨하우스',\n",
       " '(MUTUBE)와꾸대장봉준',\n",
       " '오메킴TV',\n",
       " '육지담',\n",
       " 'MapleStory_KR',\n",
       " 'ROAD FIGHTING CHAMPIONSHIP',\n",
       " '사나이 김기훈',\n",
       " '나혼자산다 STUDIO',\n",
       " 'Gen.G esports']"
      ]
     },
     "execution_count": 42,
     "metadata": {},
     "output_type": "execute_result"
    }
   ],
   "source": [
    "list(df[df.dislikes > df.likes].channelTitle.unique())"
   ]
  },
  {
   "cell_type": "markdown",
   "id": "3d479217",
   "metadata": {},
   "source": [
    "## Q3. 채널명을 바꾼 케이스가 있는지 확인하고 싶다. channelId의 경우 고유값이므로 이를 통해 채널명을 한번이라도 바꾼 채널의 갯수를 구하여라"
   ]
  },
  {
   "cell_type": "code",
   "execution_count": 53,
   "id": "b87db968",
   "metadata": {},
   "outputs": [
    {
     "data": {
      "text/plain": [
       "channelId\n",
       "UC-0229MiVYnQoUxdLJnFl_g     17\n",
       "UC-0C8yVGJy-cS4FGlYKelWw    138\n",
       "UC-0tICWyA0_AJAVMBHL8GdQ     12\n",
       "UC-2Y8dQb0S6DtpxNgAKoJKA      7\n",
       "UC-5acDjU6XFWu-__G17V_YQ     20\n",
       "                           ... \n",
       "UCznImSIaxZR7fdLCICLdgaQ     10\n",
       "UCzt24ffdUiJvJAm5HY084aw     22\n",
       "UCzteSXznVjwESizsCcSKSWw      7\n",
       "UCzxXBQnJy9guqVNM6KXi0Ig     10\n",
       "UCzz58-H0wzmGoFi3MO_9ePQ    102\n",
       "Length: 1770, dtype: int64"
      ]
     },
     "execution_count": 53,
     "metadata": {},
     "output_type": "execute_result"
    }
   ],
   "source": [
    "df.groupby('channelId').size()"
   ]
  },
  {
   "cell_type": "code",
   "execution_count": 72,
   "id": "a97b18fe",
   "metadata": {},
   "outputs": [
    {
     "data": {
      "text/plain": [
       "71"
      ]
     },
     "execution_count": 72,
     "metadata": {},
     "output_type": "execute_result"
    }
   ],
   "source": [
    "dd = df.groupby(['channelId','channelTitle']).size().to_frame()\n",
    "len(dd.groupby('channelId').size()[dd.groupby('channelId').size() != 1])"
   ]
  },
  {
   "cell_type": "code",
   "execution_count": 76,
   "id": "8a7d864b",
   "metadata": {},
   "outputs": [
    {
     "data": {
      "text/plain": [
       "71"
      ]
     },
     "execution_count": 76,
     "metadata": {},
     "output_type": "execute_result"
    }
   ],
   "source": [
    "len(df[['channelId','channelTitle']].drop_duplicates().channelId.value_counts()[df[['channelId','channelTitle']].drop_duplicates().channelId.value_counts() > 1])"
   ]
  },
  {
   "cell_type": "markdown",
   "id": "47f6d4e4",
   "metadata": {},
   "source": [
    "Q4. 일요일에 인기있었던 영상들중 가장많은 영상 종류(categoryId)는 무엇인가?"
   ]
  },
  {
   "cell_type": "code",
   "execution_count": 79,
   "id": "9e1cb3a1",
   "metadata": {},
   "outputs": [],
   "source": [
    "df.trending_date2 = df.trending_date2.astype('datetime64[ns]')"
   ]
  },
  {
   "cell_type": "code",
   "execution_count": 89,
   "id": "06673f55",
   "metadata": {},
   "outputs": [
    {
     "data": {
      "text/plain": [
       "24"
      ]
     },
     "execution_count": 89,
     "metadata": {},
     "output_type": "execute_result"
    }
   ],
   "source": [
    "df[df.trending_date2.dt.day_name() == 'Sunday'].groupby('categoryId').size().sort_values(ascending = False).index[0]"
   ]
  },
  {
   "cell_type": "code",
   "execution_count": 94,
   "id": "9f63e7b5",
   "metadata": {},
   "outputs": [
    {
     "data": {
      "text/plain": [
       "24"
      ]
     },
     "execution_count": 94,
     "metadata": {},
     "output_type": "execute_result"
    }
   ],
   "source": [
    "df[df.trending_date2.dt.day_name() == 'Sunday'].value_counts('categoryId').index[0]"
   ]
  },
  {
   "cell_type": "markdown",
   "id": "4333d423",
   "metadata": {},
   "source": [
    "## Q5. 각 요일별 인기 영상들의 categoryId는 각각 몇개 씩인지 하나의 데이터 프레임으로 표현하라"
   ]
  },
  {
   "cell_type": "code",
   "execution_count": 109,
   "id": "39a878e8",
   "metadata": {},
   "outputs": [
    {
     "data": {
      "text/html": [
       "<div>\n",
       "<style scoped>\n",
       "    .dataframe tbody tr th:only-of-type {\n",
       "        vertical-align: middle;\n",
       "    }\n",
       "\n",
       "    .dataframe tbody tr th {\n",
       "        vertical-align: top;\n",
       "    }\n",
       "\n",
       "    .dataframe thead th {\n",
       "        text-align: right;\n",
       "    }\n",
       "</style>\n",
       "<table border=\"1\" class=\"dataframe\">\n",
       "  <thead>\n",
       "    <tr style=\"text-align: right;\">\n",
       "      <th></th>\n",
       "      <th></th>\n",
       "      <th>counts</th>\n",
       "    </tr>\n",
       "    <tr>\n",
       "      <th>trending_date2</th>\n",
       "      <th>categoryId</th>\n",
       "      <th></th>\n",
       "    </tr>\n",
       "  </thead>\n",
       "  <tbody>\n",
       "    <tr>\n",
       "      <th rowspan=\"5\" valign=\"top\">Friday</th>\n",
       "      <th>1</th>\n",
       "      <td>243</td>\n",
       "    </tr>\n",
       "    <tr>\n",
       "      <th>2</th>\n",
       "      <td>120</td>\n",
       "    </tr>\n",
       "    <tr>\n",
       "      <th>10</th>\n",
       "      <td>833</td>\n",
       "    </tr>\n",
       "    <tr>\n",
       "      <th>15</th>\n",
       "      <td>187</td>\n",
       "    </tr>\n",
       "    <tr>\n",
       "      <th>17</th>\n",
       "      <td>633</td>\n",
       "    </tr>\n",
       "    <tr>\n",
       "      <th>...</th>\n",
       "      <th>...</th>\n",
       "      <td>...</td>\n",
       "    </tr>\n",
       "    <tr>\n",
       "      <th rowspan=\"5\" valign=\"top\">Wednesday</th>\n",
       "      <th>25</th>\n",
       "      <td>468</td>\n",
       "    </tr>\n",
       "    <tr>\n",
       "      <th>26</th>\n",
       "      <td>385</td>\n",
       "    </tr>\n",
       "    <tr>\n",
       "      <th>27</th>\n",
       "      <td>212</td>\n",
       "    </tr>\n",
       "    <tr>\n",
       "      <th>28</th>\n",
       "      <td>165</td>\n",
       "    </tr>\n",
       "    <tr>\n",
       "      <th>29</th>\n",
       "      <td>12</td>\n",
       "    </tr>\n",
       "  </tbody>\n",
       "</table>\n",
       "<p>105 rows × 1 columns</p>\n",
       "</div>"
      ],
      "text/plain": [
       "                           counts\n",
       "trending_date2 categoryId        \n",
       "Friday         1              243\n",
       "               2              120\n",
       "               10             833\n",
       "               15             187\n",
       "               17             633\n",
       "...                           ...\n",
       "Wednesday      25             468\n",
       "               26             385\n",
       "               27             212\n",
       "               28             165\n",
       "               29              12\n",
       "\n",
       "[105 rows x 1 columns]"
      ]
     },
     "execution_count": 109,
     "metadata": {},
     "output_type": "execute_result"
    }
   ],
   "source": [
    "df.groupby([df.trending_date2.dt.day_name(), 'categoryId']).size().to_frame('counts')"
   ]
  },
  {
   "cell_type": "code",
   "execution_count": 117,
   "id": "bc86c32a",
   "metadata": {},
   "outputs": [
    {
     "data": {
      "text/html": [
       "<div>\n",
       "<style scoped>\n",
       "    .dataframe tbody tr th:only-of-type {\n",
       "        vertical-align: middle;\n",
       "    }\n",
       "\n",
       "    .dataframe tbody tr th {\n",
       "        vertical-align: top;\n",
       "    }\n",
       "\n",
       "    .dataframe thead th {\n",
       "        text-align: right;\n",
       "    }\n",
       "</style>\n",
       "<table border=\"1\" class=\"dataframe\">\n",
       "  <thead>\n",
       "    <tr style=\"text-align: right;\">\n",
       "      <th></th>\n",
       "      <th>trending_date2</th>\n",
       "      <th>categoryId</th>\n",
       "      <th>size</th>\n",
       "    </tr>\n",
       "  </thead>\n",
       "  <tbody>\n",
       "    <tr>\n",
       "      <th>0</th>\n",
       "      <td>Friday</td>\n",
       "      <td>1</td>\n",
       "      <td>243</td>\n",
       "    </tr>\n",
       "    <tr>\n",
       "      <th>1</th>\n",
       "      <td>Friday</td>\n",
       "      <td>2</td>\n",
       "      <td>120</td>\n",
       "    </tr>\n",
       "    <tr>\n",
       "      <th>2</th>\n",
       "      <td>Friday</td>\n",
       "      <td>10</td>\n",
       "      <td>833</td>\n",
       "    </tr>\n",
       "    <tr>\n",
       "      <th>3</th>\n",
       "      <td>Friday</td>\n",
       "      <td>15</td>\n",
       "      <td>187</td>\n",
       "    </tr>\n",
       "    <tr>\n",
       "      <th>4</th>\n",
       "      <td>Friday</td>\n",
       "      <td>17</td>\n",
       "      <td>633</td>\n",
       "    </tr>\n",
       "    <tr>\n",
       "      <th>...</th>\n",
       "      <td>...</td>\n",
       "      <td>...</td>\n",
       "      <td>...</td>\n",
       "    </tr>\n",
       "    <tr>\n",
       "      <th>100</th>\n",
       "      <td>Wednesday</td>\n",
       "      <td>25</td>\n",
       "      <td>468</td>\n",
       "    </tr>\n",
       "    <tr>\n",
       "      <th>101</th>\n",
       "      <td>Wednesday</td>\n",
       "      <td>26</td>\n",
       "      <td>385</td>\n",
       "    </tr>\n",
       "    <tr>\n",
       "      <th>102</th>\n",
       "      <td>Wednesday</td>\n",
       "      <td>27</td>\n",
       "      <td>212</td>\n",
       "    </tr>\n",
       "    <tr>\n",
       "      <th>103</th>\n",
       "      <td>Wednesday</td>\n",
       "      <td>28</td>\n",
       "      <td>165</td>\n",
       "    </tr>\n",
       "    <tr>\n",
       "      <th>104</th>\n",
       "      <td>Wednesday</td>\n",
       "      <td>29</td>\n",
       "      <td>12</td>\n",
       "    </tr>\n",
       "  </tbody>\n",
       "</table>\n",
       "<p>105 rows × 3 columns</p>\n",
       "</div>"
      ],
      "text/plain": [
       "    trending_date2  categoryId  size\n",
       "0           Friday           1   243\n",
       "1           Friday           2   120\n",
       "2           Friday          10   833\n",
       "3           Friday          15   187\n",
       "4           Friday          17   633\n",
       "..             ...         ...   ...\n",
       "100      Wednesday          25   468\n",
       "101      Wednesday          26   385\n",
       "102      Wednesday          27   212\n",
       "103      Wednesday          28   165\n",
       "104      Wednesday          29    12\n",
       "\n",
       "[105 rows x 3 columns]"
      ]
     },
     "execution_count": 117,
     "metadata": {},
     "output_type": "execute_result"
    }
   ],
   "source": [
    "df.groupby([df.trending_date2.dt.day_name(), 'categoryId'], as_index= False).size()"
   ]
  },
  {
   "cell_type": "code",
   "execution_count": 120,
   "id": "5eee4d1b",
   "metadata": {
    "scrolled": false
   },
   "outputs": [
    {
     "data": {
      "text/html": [
       "<div>\n",
       "<style scoped>\n",
       "    .dataframe tbody tr th:only-of-type {\n",
       "        vertical-align: middle;\n",
       "    }\n",
       "\n",
       "    .dataframe tbody tr th {\n",
       "        vertical-align: top;\n",
       "    }\n",
       "\n",
       "    .dataframe thead th {\n",
       "        text-align: right;\n",
       "    }\n",
       "</style>\n",
       "<table border=\"1\" class=\"dataframe\">\n",
       "  <thead>\n",
       "    <tr style=\"text-align: right;\">\n",
       "      <th>trending_date2</th>\n",
       "      <th>Friday</th>\n",
       "      <th>Monday</th>\n",
       "      <th>Saturday</th>\n",
       "      <th>Sunday</th>\n",
       "      <th>Thursday</th>\n",
       "      <th>Tuesday</th>\n",
       "      <th>Wednesday</th>\n",
       "    </tr>\n",
       "    <tr>\n",
       "      <th>categoryId</th>\n",
       "      <th></th>\n",
       "      <th></th>\n",
       "      <th></th>\n",
       "      <th></th>\n",
       "      <th></th>\n",
       "      <th></th>\n",
       "      <th></th>\n",
       "    </tr>\n",
       "  </thead>\n",
       "  <tbody>\n",
       "    <tr>\n",
       "      <th>1</th>\n",
       "      <td>243</td>\n",
       "      <td>263</td>\n",
       "      <td>255</td>\n",
       "      <td>274</td>\n",
       "      <td>246</td>\n",
       "      <td>257</td>\n",
       "      <td>234</td>\n",
       "    </tr>\n",
       "    <tr>\n",
       "      <th>2</th>\n",
       "      <td>120</td>\n",
       "      <td>105</td>\n",
       "      <td>119</td>\n",
       "      <td>99</td>\n",
       "      <td>128</td>\n",
       "      <td>119</td>\n",
       "      <td>129</td>\n",
       "    </tr>\n",
       "    <tr>\n",
       "      <th>10</th>\n",
       "      <td>833</td>\n",
       "      <td>837</td>\n",
       "      <td>776</td>\n",
       "      <td>830</td>\n",
       "      <td>890</td>\n",
       "      <td>894</td>\n",
       "      <td>917</td>\n",
       "    </tr>\n",
       "    <tr>\n",
       "      <th>15</th>\n",
       "      <td>187</td>\n",
       "      <td>215</td>\n",
       "      <td>198</td>\n",
       "      <td>217</td>\n",
       "      <td>207</td>\n",
       "      <td>208</td>\n",
       "      <td>207</td>\n",
       "    </tr>\n",
       "    <tr>\n",
       "      <th>17</th>\n",
       "      <td>633</td>\n",
       "      <td>668</td>\n",
       "      <td>592</td>\n",
       "      <td>636</td>\n",
       "      <td>682</td>\n",
       "      <td>708</td>\n",
       "      <td>706</td>\n",
       "    </tr>\n",
       "    <tr>\n",
       "      <th>19</th>\n",
       "      <td>90</td>\n",
       "      <td>92</td>\n",
       "      <td>87</td>\n",
       "      <td>91</td>\n",
       "      <td>92</td>\n",
       "      <td>89</td>\n",
       "      <td>85</td>\n",
       "    </tr>\n",
       "    <tr>\n",
       "      <th>20</th>\n",
       "      <td>283</td>\n",
       "      <td>298</td>\n",
       "      <td>296</td>\n",
       "      <td>289</td>\n",
       "      <td>282</td>\n",
       "      <td>285</td>\n",
       "      <td>291</td>\n",
       "    </tr>\n",
       "    <tr>\n",
       "      <th>22</th>\n",
       "      <td>1288</td>\n",
       "      <td>1373</td>\n",
       "      <td>1289</td>\n",
       "      <td>1337</td>\n",
       "      <td>1341</td>\n",
       "      <td>1375</td>\n",
       "      <td>1333</td>\n",
       "    </tr>\n",
       "    <tr>\n",
       "      <th>23</th>\n",
       "      <td>568</td>\n",
       "      <td>594</td>\n",
       "      <td>570</td>\n",
       "      <td>556</td>\n",
       "      <td>560</td>\n",
       "      <td>569</td>\n",
       "      <td>566</td>\n",
       "    </tr>\n",
       "    <tr>\n",
       "      <th>24</th>\n",
       "      <td>2976</td>\n",
       "      <td>3148</td>\n",
       "      <td>3066</td>\n",
       "      <td>3096</td>\n",
       "      <td>2954</td>\n",
       "      <td>3084</td>\n",
       "      <td>3090</td>\n",
       "    </tr>\n",
       "    <tr>\n",
       "      <th>25</th>\n",
       "      <td>444</td>\n",
       "      <td>453</td>\n",
       "      <td>422</td>\n",
       "      <td>437</td>\n",
       "      <td>470</td>\n",
       "      <td>452</td>\n",
       "      <td>468</td>\n",
       "    </tr>\n",
       "    <tr>\n",
       "      <th>26</th>\n",
       "      <td>369</td>\n",
       "      <td>378</td>\n",
       "      <td>364</td>\n",
       "      <td>363</td>\n",
       "      <td>375</td>\n",
       "      <td>394</td>\n",
       "      <td>385</td>\n",
       "    </tr>\n",
       "    <tr>\n",
       "      <th>27</th>\n",
       "      <td>183</td>\n",
       "      <td>205</td>\n",
       "      <td>183</td>\n",
       "      <td>199</td>\n",
       "      <td>194</td>\n",
       "      <td>194</td>\n",
       "      <td>212</td>\n",
       "    </tr>\n",
       "    <tr>\n",
       "      <th>28</th>\n",
       "      <td>171</td>\n",
       "      <td>160</td>\n",
       "      <td>173</td>\n",
       "      <td>167</td>\n",
       "      <td>166</td>\n",
       "      <td>161</td>\n",
       "      <td>165</td>\n",
       "    </tr>\n",
       "    <tr>\n",
       "      <th>29</th>\n",
       "      <td>12</td>\n",
       "      <td>10</td>\n",
       "      <td>10</td>\n",
       "      <td>9</td>\n",
       "      <td>13</td>\n",
       "      <td>11</td>\n",
       "      <td>12</td>\n",
       "    </tr>\n",
       "  </tbody>\n",
       "</table>\n",
       "</div>"
      ],
      "text/plain": [
       "trending_date2  Friday  Monday  Saturday  Sunday  Thursday  Tuesday  Wednesday\n",
       "categoryId                                                                    \n",
       "1                  243     263       255     274       246      257        234\n",
       "2                  120     105       119      99       128      119        129\n",
       "10                 833     837       776     830       890      894        917\n",
       "15                 187     215       198     217       207      208        207\n",
       "17                 633     668       592     636       682      708        706\n",
       "19                  90      92        87      91        92       89         85\n",
       "20                 283     298       296     289       282      285        291\n",
       "22                1288    1373      1289    1337      1341     1375       1333\n",
       "23                 568     594       570     556       560      569        566\n",
       "24                2976    3148      3066    3096      2954     3084       3090\n",
       "25                 444     453       422     437       470      452        468\n",
       "26                 369     378       364     363       375      394        385\n",
       "27                 183     205       183     199       194      194        212\n",
       "28                 171     160       173     167       166      161        165\n",
       "29                  12      10        10       9        13       11         12"
      ]
     },
     "execution_count": 120,
     "metadata": {},
     "output_type": "execute_result"
    }
   ],
   "source": [
    "df.groupby([df.trending_date2.dt.day_name(), 'categoryId'], as_index= False).size().pivot(index = 'categoryId', columns = 'trending_date2', values = 'size')"
   ]
  },
  {
   "cell_type": "markdown",
   "id": "b480ff92",
   "metadata": {},
   "source": [
    "Q6. 댓글의 수로 (comment_count) 영상 반응에 대한 판단을 할 수 있다. viewcount대비 댓글수가 가장 높은 영상을 확인하라 (view_count값이 0인 경우는 제외한다)"
   ]
  },
  {
   "cell_type": "code",
   "execution_count": 137,
   "id": "4af2421a",
   "metadata": {},
   "outputs": [
    {
     "name": "stdout",
     "output_type": "stream",
     "text": [
      "<class 'pandas.core.frame.DataFrame'>\n",
      "RangeIndex: 60399 entries, 0 to 60398\n",
      "Data columns (total 10 columns):\n",
      " #   Column          Non-Null Count  Dtype         \n",
      "---  ------          --------------  -----         \n",
      " 0   Unnamed: 0      60399 non-null  int64         \n",
      " 1   title           60399 non-null  object        \n",
      " 2   channelTitle    60399 non-null  object        \n",
      " 3   categoryId      60399 non-null  int64         \n",
      " 4   view_count      60399 non-null  int64         \n",
      " 5   likes           60399 non-null  int64         \n",
      " 6   dislikes        60399 non-null  int64         \n",
      " 7   comment_count   60399 non-null  int64         \n",
      " 8   channelId       60399 non-null  object        \n",
      " 9   trending_date2  60399 non-null  datetime64[ns]\n",
      "dtypes: datetime64[ns](1), int64(6), object(3)\n",
      "memory usage: 4.6+ MB\n"
     ]
    }
   ],
   "source": [
    "df.info()"
   ]
  },
  {
   "cell_type": "code",
   "execution_count": 146,
   "id": "70652b61",
   "metadata": {},
   "outputs": [
    {
     "data": {
      "text/plain": [
       "'60분 동안 댓글이 달리지 않으면, 영상이 삭제됩니다. (챌린지)'"
      ]
     },
     "execution_count": 146,
     "metadata": {},
     "output_type": "execute_result"
    }
   ],
   "source": [
    "df2 = df[df.view_count != 0]\n",
    "df.iloc[(df2.comment_count / df2.view_count).sort_values(ascending = False).index[0]]['title']"
   ]
  },
  {
   "cell_type": "markdown",
   "id": "f1eb47ed",
   "metadata": {},
   "source": [
    "## Q7. 댓글의 수로 (comment_count) 영상 반응에 대한 판단을 할 수 있다.viewcount대비 댓글수가 가장 낮은 영상을 확인하라 (view_counts, ratio값이 0인경우는 제외한다.)"
   ]
  },
  {
   "cell_type": "code",
   "execution_count": 153,
   "id": "b6f6efff",
   "metadata": {},
   "outputs": [
    {
     "name": "stderr",
     "output_type": "stream",
     "text": [
      "C:\\Users\\User\\AppData\\Local\\Temp\\ipykernel_10788\\1416018370.py:1: SettingWithCopyWarning: \n",
      "A value is trying to be set on a copy of a slice from a DataFrame.\n",
      "Try using .loc[row_indexer,col_indexer] = value instead\n",
      "\n",
      "See the caveats in the documentation: https://pandas.pydata.org/pandas-docs/stable/user_guide/indexing.html#returning-a-view-versus-a-copy\n",
      "  df2['ratio'] = df2.comment_count / df2.view_count\n"
     ]
    },
    {
     "data": {
      "text/plain": [
       "'Join the BTS #PermissiontoDance Challenge only on YouTube #Shorts'"
      ]
     },
     "execution_count": 153,
     "metadata": {},
     "output_type": "execute_result"
    }
   ],
   "source": [
    "df2['ratio'] = df2.comment_count / df2.view_count\n",
    "df3 = df2[df2.ratio !=0]\n",
    "df.iloc[(df3.comment_count / df3.view_count).sort_values().index[0]]['title']"
   ]
  },
  {
   "cell_type": "code",
   "execution_count": 156,
   "id": "02b7cb2d",
   "metadata": {},
   "outputs": [
    {
     "data": {
      "text/plain": [
       "46005"
      ]
     },
     "execution_count": 156,
     "metadata": {},
     "output_type": "execute_result"
    }
   ],
   "source": [
    "ratio = (df.comment_count / df.view_count).dropna().sort_values()\n",
    "ratio[ratio !=0].index[0]"
   ]
  },
  {
   "cell_type": "code",
   "execution_count": 157,
   "id": "28a1ca87",
   "metadata": {},
   "outputs": [
    {
     "data": {
      "text/plain": [
       "'Join the BTS #PermissiontoDance Challenge only on YouTube #Shorts'"
      ]
     },
     "execution_count": 157,
     "metadata": {},
     "output_type": "execute_result"
    }
   ],
   "source": [
    "df.iloc[ratio[ratio !=0].index[0]].title"
   ]
  },
  {
   "cell_type": "markdown",
   "id": "b17343f6",
   "metadata": {},
   "source": [
    "Q8. like 대비 dislike의 수가 가장 적은 영상은 무엇인가? (like, dislike 값이 0인경우는 제외한다)"
   ]
  },
  {
   "cell_type": "code",
   "execution_count": 164,
   "id": "d9297667",
   "metadata": {},
   "outputs": [
    {
     "data": {
      "text/plain": [
       "'[줌터뷰] *최초공개* 사부작즈🐰🐶의 비공식 이름은 아이라인즈? 꿀조합 티키타카 가득한 NCT 127 도영&정우의 줌터뷰'"
      ]
     },
     "execution_count": 164,
     "metadata": {},
     "output_type": "execute_result"
    }
   ],
   "source": [
    "dff = df [( df.likes != 0 ) & ( df.dislikes != 0 ) ]\n",
    "df.iloc[(dff.dislikes / dff.likes).sort_values().index[0]].title"
   ]
  },
  {
   "cell_type": "markdown",
   "id": "26d1b9c7",
   "metadata": {},
   "source": [
    "Q9.가장많은 트렌드 영상을 제작한 채널의 이름은 무엇인가? (날짜기준, 중복포함)"
   ]
  },
  {
   "cell_type": "code",
   "execution_count": 175,
   "id": "57c79a0b",
   "metadata": {},
   "outputs": [
    {
     "data": {
      "text/plain": [
       "'짤툰'"
      ]
     },
     "execution_count": 175,
     "metadata": {},
     "output_type": "execute_result"
    }
   ],
   "source": [
    "df.groupby('channelTitle').size().sort_values(ascending = False).index[0]"
   ]
  },
  {
   "cell_type": "code",
   "execution_count": 184,
   "id": "37aea3d0",
   "metadata": {},
   "outputs": [
    {
     "data": {
      "text/plain": [
       "'짤툰'"
      ]
     },
     "execution_count": 184,
     "metadata": {},
     "output_type": "execute_result"
    }
   ],
   "source": [
    "df.loc[df.channelId == df.channelId.value_counts().index[0]].channelTitle.unique()[0]"
   ]
  },
  {
   "cell_type": "markdown",
   "id": "5e38e634",
   "metadata": {},
   "source": [
    "## Q10. 20회(20일)이상 인기동영상 리스트에 포함된 동영상의 숫자는?"
   ]
  },
  {
   "cell_type": "code",
   "execution_count": 197,
   "id": "f69c3f80",
   "metadata": {},
   "outputs": [
    {
     "data": {
      "text/plain": [
       "41"
      ]
     },
     "execution_count": 197,
     "metadata": {},
     "output_type": "execute_result"
    }
   ],
   "source": [
    "(df.groupby('title')['trending_date2'].size() >= 20).sum()"
   ]
  },
  {
   "cell_type": "code",
   "execution_count": 193,
   "id": "f807814a",
   "metadata": {},
   "outputs": [
    {
     "data": {
      "text/plain": [
       "40"
      ]
     },
     "execution_count": 193,
     "metadata": {},
     "output_type": "execute_result"
    }
   ],
   "source": [
    "(df[['title','channelId']].value_counts() >=20).sum()"
   ]
  },
  {
   "cell_type": "code",
   "execution_count": 210,
   "id": "8b8b168f",
   "metadata": {},
   "outputs": [
    {
     "data": {
      "text/plain": [
       "40"
      ]
     },
     "execution_count": 210,
     "metadata": {},
     "output_type": "execute_result"
    }
   ],
   "source": [
    "(df.groupby(['title','channelId'])['trending_date2'].size() >= 20).sum()"
   ]
  },
  {
   "cell_type": "code",
   "execution_count": 211,
   "id": "2df174f7",
   "metadata": {
    "collapsed": true
   },
   "outputs": [
    {
     "data": {
      "text/plain": [
       "MultiIndex([(                                                            '#1. [슈퍼리그] 챔스 종결? 드디어 창설된 슈퍼리그, 형태와 방식은?', ...),\n",
       "            (                                                                           '#181.왜 나만 갖고 그래?? #shorts', ...),\n",
       "            (                                                                        '#254. 조만간 사고 낼 것 같아요 #shorts', ...),\n",
       "            (                                                                          '#302. 끌바냐? 단속이냐?   #shorts', ...),\n",
       "            (                                              '#MtnDew3PT​ Contest Full Highlights | 2021 #NBAAllStar', ...),\n",
       "            (                                                                                      '#shorts 문월 뱃살ㅋ', ...),\n",
       "            (                                                                                '#shorts ｜김계란님 들고 더블폴', ...),\n",
       "            ('#국민곰돌이🐻 배구 영웅, #김희진 선수! 대국민 입덕 영상 탄생! 이 인터뷰 하나면 김희진 선수의 모든 것을 알 수 있다!? 최초공개 비.하.인.드 인터뷰💜|AllureKorea', ...),\n",
       "            (                                 '#박서진 #정동원 #오유진 '퍼포먼스'하면 우리지😎 무대 사로잡는 화려한 끼❗아낌없이 방출🌋 [대케가수] / KBS 방송', ...),\n",
       "            (                                                     '#브레이브걸스 #롤린 롤린~🎵 드디어 포텐 터진 그녀들❤ [대케가수] / KBS 방송', ...),\n",
       "            ...\n",
       "            (                                                                      '🤟🏻aespa 'Savage' MV Reaction🤟🏻', ...),\n",
       "            (                                             '🤯 LATE COMEBACK DRAMA! | HIGHLIGHTS | Granada 3-5 Barça', ...),\n",
       "            (                                               '🥦팥시루떡[Adzuki Bean Rice Cake]💛밥솥을 이용해 밥하듯 쉽게해요💛칼밥상#183', ...),\n",
       "            (         '🦑《오징어게임》무궁화꽃이 피었습니다~♬ 움직이면 죽는다! 이기면 456억! 지면 죽음? 싱크로율 100% [로블록스 잉여맨 댕댕이] ROBLOX SQUID GAME', ...),\n",
       "            (                                                                          '🦷 기억을 없애주는 치과 🧠｜망각 발치 ASMR', ...),\n",
       "            (                                                '🧳ep.12-1 좋은 거 다 주고 싶었던(?) 배우들의 역대급 몸으로 말해요 | 🧳출장 십오야', ...),\n",
       "            (                                        '🧳스페셜(1) 최다 출연 X 최단 시간, 이렇게 힘든 걸 금가즈가 해냅니다 | 🧳출장십오야 X 빈센조 스페셜', ...),\n",
       "            (                                                       '🧳스페셜(2) 솔찍히 썸네일만 봐도 벌써 재밌다 | 🧳출장십오야 X 빈센조 스페셜', ...),\n",
       "            (                                                '🧳최종화 BH의 안녕과 평화(?)가 걸린, 난이도 극악(!) 고요 속의 외침 | 🧳출장 십오야', ...),\n",
       "            (                                             '🩸괴담회에 어서오세요🩸: 첫 번째 이야기 | WELCOME TO NCT’S HORROR NIGHTS', ...)],\n",
       "           names=['title', 'channelId'], length=7867)"
      ]
     },
     "execution_count": 211,
     "metadata": {},
     "output_type": "execute_result"
    }
   ],
   "source": [
    "(df.groupby(['title','channelId'])['trending_date2'].size() >= 20).index"
   ]
  },
  {
   "cell_type": "code",
   "execution_count": 201,
   "id": "ca53bf7b",
   "metadata": {
    "collapsed": true
   },
   "outputs": [
    {
     "data": {
      "text/plain": [
       "Index(['#1. [슈퍼리그] 챔스 종결? 드디어 창설된 슈퍼리그, 형태와 방식은?', '#181.왜 나만 갖고 그래?? #shorts',\n",
       "       '#254. 조만간 사고 낼 것 같아요 #shorts', '#302. 끌바냐? 단속이냐?   #shorts',\n",
       "       '#MtnDew3PT​ Contest Full Highlights | 2021 #NBAAllStar',\n",
       "       '#shorts 문월 뱃살ㅋ', '#shorts ｜김계란님 들고 더블폴',\n",
       "       '#국민곰돌이🐻 배구 영웅, #김희진 선수! 대국민 입덕 영상 탄생! 이 인터뷰 하나면 김희진 선수의 모든 것을 알 수 있다!? 최초공개 비.하.인.드 인터뷰💜|AllureKorea',\n",
       "       '#박서진 #정동원 #오유진 '퍼포먼스'하면 우리지😎 무대 사로잡는 화려한 끼❗아낌없이 방출🌋 [대케가수] / KBS 방송',\n",
       "       '#브레이브걸스 #롤린 롤린~🎵 드디어 포텐 터진 그녀들❤ [대케가수] / KBS 방송',\n",
       "       ...\n",
       "       '🤟🏻aespa 'Savage' MV Reaction🤟🏻',\n",
       "       '🤯 LATE COMEBACK DRAMA! | HIGHLIGHTS | Granada 3-5 Barça',\n",
       "       '🥦팥시루떡[Adzuki Bean Rice Cake]💛밥솥을 이용해 밥하듯 쉽게해요💛칼밥상#183',\n",
       "       '🦑《오징어게임》무궁화꽃이 피었습니다~♬ 움직이면 죽는다! 이기면 456억! 지면 죽음? 싱크로율 100% [로블록스 잉여맨 댕댕이] ROBLOX SQUID GAME',\n",
       "       '🦷 기억을 없애주는 치과 🧠｜망각 발치 ASMR',\n",
       "       '🧳ep.12-1 좋은 거 다 주고 싶었던(?) 배우들의 역대급 몸으로 말해요 | 🧳출장 십오야',\n",
       "       '🧳스페셜(1) 최다 출연 X 최단 시간, 이렇게 힘든 걸 금가즈가 해냅니다 | 🧳출장십오야 X 빈센조 스페셜',\n",
       "       '🧳스페셜(2) 솔찍히 썸네일만 봐도 벌써 재밌다 | 🧳출장십오야 X 빈센조 스페셜',\n",
       "       '🧳최종화 BH의 안녕과 평화(?)가 걸린, 난이도 극악(!) 고요 속의 외침 | 🧳출장 십오야',\n",
       "       '🩸괴담회에 어서오세요🩸: 첫 번째 이야기 | WELCOME TO NCT’S HORROR NIGHTS'],\n",
       "      dtype='object', name='title', length=7854)"
      ]
     },
     "execution_count": 201,
     "metadata": {},
     "output_type": "execute_result"
    }
   ],
   "source": [
    "(df.groupby('title')['trending_date2'].size() >= 20).index"
   ]
  },
  {
   "cell_type": "code",
   "execution_count": 209,
   "id": "54f95127",
   "metadata": {
    "collapsed": true
   },
   "outputs": [
    {
     "data": {
      "text/plain": [
       "title                                                           channelId               \n",
       "컵라면 먹을 때 절대 일어날리 없는 상황들 ㅋㅋㅋ                                     UCmzMtXrJgfCqA0rfhz8_P4A     True\n",
       "대한민국 VS 투르크메니스탄 : FIFA 카타르 월드컵 2차 예선 하이라이트 - 2021.06.05         UCpjOmwiy88a9EV3Rv8ukJgw     True\n",
       "극과 극을 살고 있는 인도의 갑부와 빈곤층들!                                       UCi9Sl8GnFdYoqEVXnojBPJw     True\n",
       "2주더놀릴예정                                                         UCaKod3X1Tn4c7Ci0iUKcvzQ     True\n",
       "대박... 멧돼지를 아들로 삼은 할아버지｜KBS 주주클럽 050410 방송                       UCAhKKbDO9-ymWZ_7iAFLBQQ     True\n",
       "                                                                                            ...  \n",
       "천재 친구 황봉황 [총몇명 스토리2]                                            UCRuSxVu4iqTK5kCh90ntAgA    False\n",
       "담배충 [병맛더빙/웃긴영상]                                                 UCUK4YjvUvHrFQwTFXwkUIng    False\n",
       "Official Trailer | The Falcon and The Winter Soldier | Disney+  UCvC4D8onUfXzvjTOM-dBfEA    False\n",
       "[월드컵최종예선] 오만 VS 베트남 4차전 H/LㅣAFC 아시아지역 월드컵 최종예선                  UCtybqqaTj6Nx74Azdz1KrsA    False\n",
       "깐부끼리는 니꺼 내꺼가 없는거야                                               UCu9BCtGIEr73LXZsKmoujKw    False\n",
       "Length: 7867, dtype: bool"
      ]
     },
     "execution_count": 209,
     "metadata": {},
     "output_type": "execute_result"
    }
   ],
   "source": [
    "(df[['title','channelId']].value_counts() >=20)"
   ]
  },
  {
   "cell_type": "code",
   "execution_count": null,
   "id": "2799e5c5",
   "metadata": {},
   "outputs": [],
   "source": []
  }
 ],
 "metadata": {
  "kernelspec": {
   "display_name": "Python 3 (ipykernel)",
   "language": "python",
   "name": "python3"
  },
  "language_info": {
   "codemirror_mode": {
    "name": "ipython",
    "version": 3
   },
   "file_extension": ".py",
   "mimetype": "text/x-python",
   "name": "python",
   "nbconvert_exporter": "python",
   "pygments_lexer": "ipython3",
   "version": "3.10.4"
  }
 },
 "nbformat": 4,
 "nbformat_minor": 5
}
