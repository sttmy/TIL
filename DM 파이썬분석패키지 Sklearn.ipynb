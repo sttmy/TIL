{
 "cells": [
  {
   "cell_type": "markdown",
   "id": "fbd1e2af",
   "metadata": {},
   "source": [
    "## 01 데이터 전처리"
   ]
  },
  {
   "cell_type": "markdown",
   "id": "0d0e1dfd",
   "metadata": {},
   "source": [
    "## MinMaxScaler\n",
    "\n",
    "데이터 설명 : 비행탑승 경험 만족도\n",
    "\n",
    "x_train: https://raw.githubusercontent.com/Datamanim/datarepo/main/airline/x_train.csv\n",
    "\n",
    "x_test: https://raw.githubusercontent.com/Datamanim/datarepo/main/airline/x_test.csv\n",
    "출처 (참고, 데이터 수정)"
   ]
  },
  {
   "cell_type": "markdown",
   "id": "0bb9510c",
   "metadata": {},
   "source": [
    "1. train 데이터의 Flight Distance 컬럼을 사이킷런 모듈을 이용하여 최솟값을 0 최댓값을 1값로 하는 데이터로 변환하고 scaling을 이름으로 하는 컬럼으로 데이터프레임에 추가하라"
   ]
  },
  {
   "cell_type": "code",
   "execution_count": null,
   "id": "ab433f9a",
   "metadata": {},
   "outputs": [],
   "source": []
  },
  {
   "cell_type": "markdown",
   "id": "97e72d4f",
   "metadata": {},
   "source": [
    "2.train 데이터의 Flight Distance 컬럼을 pandas의 내장함수만을 이용하여 최솟값을 0 최댓값을 1값로 하는 데이터로 변환하고 scaling을 이름으로 하는 컬럼으로 데이터프레임에 추가하라"
   ]
  },
  {
   "cell_type": "code",
   "execution_count": null,
   "id": "919308d2",
   "metadata": {},
   "outputs": [],
   "source": []
  },
  {
   "cell_type": "markdown",
   "id": "854fc17e",
   "metadata": {},
   "source": [
    "3.train 데이터의 Age컬럼을 MinMax 스케일링 진행 하고 age_scaling컬럼에 추가하고 train셋과 같은 기준으로 test데이터의 Age를 스케일링하여 age_scaling에 추가하라"
   ]
  },
  {
   "cell_type": "code",
   "execution_count": null,
   "id": "77358674",
   "metadata": {},
   "outputs": [],
   "source": []
  },
  {
   "cell_type": "markdown",
   "id": "8bdb3be6",
   "metadata": {},
   "source": [
    "## StandardScaler\n"
   ]
  },
  {
   "cell_type": "markdown",
   "id": "73507913",
   "metadata": {},
   "source": [
    "4. train 데이터의 Age컬럼을 pandas 기본 내장 모듈을 이용하여 정규화 스케일링을 진행 하고 age_scaling컬럼에 추가하라"
   ]
  },
  {
   "cell_type": "code",
   "execution_count": null,
   "id": "79c2c800",
   "metadata": {},
   "outputs": [],
   "source": []
  },
  {
   "cell_type": "markdown",
   "id": "b7e9e92b",
   "metadata": {},
   "source": [
    "5. train 데이터의 Age컬럼을 sklearn 모듈을 이용하여 정규화 스케일링을 진행 하고 age_scaling컬럼에 추가하고 train셋과 같은 기준으로 test데이터의 Age를 스케일링하여 age_scaling에 추가하라"
   ]
  },
  {
   "cell_type": "code",
   "execution_count": null,
   "id": "2f11d94c",
   "metadata": {},
   "outputs": [],
   "source": []
  },
  {
   "cell_type": "code",
   "execution_count": null,
   "id": "2b3070d7",
   "metadata": {},
   "outputs": [],
   "source": []
  },
  {
   "cell_type": "markdown",
   "id": "6a9246d9",
   "metadata": {},
   "source": [
    "## LabelEncoder\n",
    "\n",
    "데이터 설명 : 이직여부 판단 데이터\n",
    "\n",
    "train: https://raw.githubusercontent.com/Datamanim/datarepo/main/HRdata/X_train.csv\n",
    "\n",
    "test : https://raw.githubusercontent.com/Datamanim/datarepo/main/HRdata/y_train.csv\n",
    "출처 (참고, 데이터 수정)"
   ]
  },
  {
   "cell_type": "code",
   "execution_count": null,
   "id": "86a9ba67",
   "metadata": {},
   "outputs": [],
   "source": []
  },
  {
   "cell_type": "code",
   "execution_count": null,
   "id": "c30c1f8c",
   "metadata": {},
   "outputs": [],
   "source": []
  },
  {
   "cell_type": "markdown",
   "id": "87cfa06f",
   "metadata": {},
   "source": [
    "## 02 모델링 전처리"
   ]
  },
  {
   "cell_type": "code",
   "execution_count": null,
   "id": "7043bfd1",
   "metadata": {},
   "outputs": [],
   "source": []
  },
  {
   "cell_type": "markdown",
   "id": "3b8c9cd4",
   "metadata": {},
   "source": [
    "## train-test split\n",
    "\n",
    "데이터 설명 : 투약하는 약을 분류 (종속변수 :Drug) \n",
    "\n",
    "x_train: https://raw.githubusercontent.com/Datamanim/datarepo/main/drug/x_train.csv \n",
    "\n",
    "y_train: https://raw.githubusercontent.com/Datamanim/datarepo/main/drug/y_train.csv 출처"
   ]
  },
  {
   "cell_type": "markdown",
   "id": "322351ce",
   "metadata": {},
   "source": [
    "6.x,y데이터에서 train,test세트를 구분하고 train셋의 y값과 test셋의 y값의 unique한 value 값의 숫자를 출력하라. train:test는 7:3비율 , random_state =42로 고정"
   ]
  },
  {
   "cell_type": "code",
   "execution_count": null,
   "id": "6d83e6a5",
   "metadata": {},
   "outputs": [],
   "source": []
  },
  {
   "cell_type": "markdown",
   "id": "5fe188de",
   "metadata": {},
   "source": [
    "7.x,y데이터에서 train,test세트를 구분하고 train셋의 y값과 test셋의 y값의 unique한 value 값의 비율을 동일하게 추출하라. 7:3비율 , random_state =42로 고정"
   ]
  },
  {
   "cell_type": "code",
   "execution_count": null,
   "id": "1e739e37",
   "metadata": {},
   "outputs": [],
   "source": []
  },
  {
   "cell_type": "markdown",
   "id": "1e5f99c2",
   "metadata": {},
   "source": [
    "## 03 모델링\n",
    "\n",
    "1)model import\n",
    "\n",
    "2)model 선언, 초기 하이퍼 파라미터 지정\n",
    "\n",
    "3)model.fit(x_train,y_train)을 통한 모델 학습\n",
    "\n",
    "4)회귀, 분류 문제 모두 model.predict(x_validation) 을 통한 예측\n",
    "\n",
    "5)auc값을 구해야하는 경우 model.predict_proba(x_validation)을 통한 확률 추출 (svm모델의 경우 학습시 probability=True옵션 추가)\n",
    "\n",
    "6)원하는 metric으로 모델 평가 eg) accuracy_score(y_validation, model.predict(x_validation))\n",
    "\n",
    "** 어떤 모델을 써야할지 잘모르겠다 싶으면 랜덤포레스트쓰면 중간이상은 한다!\n",
    "RandomForestClassifier , RandomForestRegressor\n",
    "\n",
    "**모듈 경로를 못외울때는 아래와 같은 방법접근\n",
    "sklearn 하위 첫번째 모듈까지는 외워야만 한다.\n",
    "\n",
    "import sklearn.ensemble\n",
    "dir(sklearn.ensemble)[:10]\n",
    "\n"
   ]
  },
  {
   "cell_type": "code",
   "execution_count": null,
   "id": "0067369f",
   "metadata": {},
   "outputs": [],
   "source": []
  },
  {
   "cell_type": "markdown",
   "id": "406e3592",
   "metadata": {},
   "source": [
    "분류문제의 경우 -Classifier , 회귀문제의 경우 -Regressor 형식을 가진다.\n",
    "사이킷런 모듈 버전따라 조금씩 다를수 있음\n",
    "\n",
    "#ensemble\n",
    "\n",
    "from sklearn.ensemble import AdaBoostClassifier\n",
    "from sklearn.ensemble import AdaBoostRegressor\n",
    "from sklearn.ensemble import BaggingClassifier\n",
    "from sklearn.ensemble import BaggingRegressor\n",
    "from sklearn.ensemble import ExtraTreesClassifier\n",
    "from sklearn.ensemble import ExtraTreesRegressor\n",
    "from sklearn.ensemble import GradientBoostingClassifier\n",
    "from sklearn.ensemble import GradientBoostingRegressor\n",
    "from sklearn.ensemble import RandomForestClassifier\n",
    "from sklearn.ensemble import RandomForestRegressor\n",
    "\n",
    "\n",
    "\n",
    "#linear_model\n",
    "from sklearn.linear_model import BayesianRidge\n",
    "from sklearn.linear_model import ElasticNet\n",
    "from sklearn.linear_model import GammaRegressor\n",
    "from sklearn.linear_model import HuberRegressor\n",
    "from sklearn.linear_model import Lasso\n",
    "from sklearn.linear_model import LinearRegression\n",
    "from sklearn.linear_model import LogisticRegression    # 분류\n",
    "from sklearn.linear_model import Ridge\n",
    "from sklearn.linear_model import SGDRegressor\n",
    "from sklearn.linear_model import SGDClassifier # 분류\n",
    "\n",
    "\n",
    "#neighbors\n",
    "from sklearn.neighbors import KNeighborsClassifier\n",
    "from sklearn.neighbors import KNeighborsRegressor\n",
    "from sklearn.neighbors import KNeighborsTransformer\n",
    "from sklearn.neighbors import NearestNeighbors\n",
    "\n",
    "\n",
    "#svm\n",
    "from sklearn.svm import LinearSVC\n",
    "from sklearn.svm import LinearSVR\n",
    "from sklearn.svm import OneClassSVM\n",
    "from sklearn.svm import SVR   # regression\n",
    "from sklearn.svm import SVC   # classfier\n",
    "\n",
    "\n",
    "#tree\n",
    "from sklearn.tree import BaseDecisionTree\n",
    "from sklearn.tree import DecisionTreeClassifier\n",
    "from sklearn.tree import DecisionTreeRegressor\n",
    "from sklearn.tree import ExtraTreeClassifier\n",
    "from sklearn.tree import ExtraTreeRegressor"
   ]
  },
  {
   "cell_type": "markdown",
   "id": "fa718be9",
   "metadata": {},
   "source": [
    "## 04 모델 평가\n",
    "\n",
    "import sklearn.metrics\n",
    "dir(sklearn.metrics)"
   ]
  },
  {
   "cell_type": "code",
   "execution_count": null,
   "id": "c10cc40a",
   "metadata": {},
   "outputs": [],
   "source": []
  }
 ],
 "metadata": {
  "kernelspec": {
   "display_name": "Python 3 (ipykernel)",
   "language": "python",
   "name": "python3"
  },
  "language_info": {
   "codemirror_mode": {
    "name": "ipython",
    "version": 3
   },
   "file_extension": ".py",
   "mimetype": "text/x-python",
   "name": "python",
   "nbconvert_exporter": "python",
   "pygments_lexer": "ipython3",
   "version": "3.10.4"
  }
 },
 "nbformat": 4,
 "nbformat_minor": 5
}
