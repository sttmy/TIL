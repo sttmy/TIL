{
 "cells": [
  {
   "cell_type": "markdown",
   "metadata": {},
   "source": [
    "### 정수인코딩: 텍스트를 숫자로 바꾸는 기법"
   ]
  },
  {
   "cell_type": "code",
   "execution_count": 1,
   "metadata": {},
   "outputs": [
    {
     "name": "stdout",
     "output_type": "stream",
     "text": [
      "['모처럼 전국에 비가 내리고 있습니다.', '대부분 밤까지 계속되기 때문에 종일 우산이 필요하겠는데요.', '비의 양도 많고 바람도 강하게 불기 때문에 작은 우산 말고 큰 우산 챙기는 게 더 좋습니다.', '특히 제주와 남해안에서 비바람이 강합니다.']\n"
     ]
    }
   ],
   "source": [
    "text = '''모처럼 전국에 비가 내리고 있습니다.\n",
    "대부분 밤까지 계속되기 때문에 종일 우산이 필요하겠는데요.\n",
    "비의 양도 많고 바람도 강하게 불기 때문에 작은 우산 말고 큰 우산 챙기는 게 더 좋습니다.\n",
    "특히 제주와 남해안에서 비바람이 강합니다.\n",
    "'''\n",
    "\n",
    "from nltk.tokenize import sent_tokenize\n",
    "# 문장 토큰화\n",
    "text = sent_tokenize(text)\n",
    "print(text)"
   ]
  },
  {
   "cell_type": "code",
   "execution_count": 2,
   "metadata": {},
   "outputs": [
    {
     "data": {
      "text/plain": [
       "[['모처럼', '전국', '비'],\n",
       " ['대부분', '밤', '계속', '때문', '종일', '우산'],\n",
       " ['비', '양도', '바람', '불기', '때문', '우산', '우산', '게', '더'],\n",
       " ['제주', '남해안', '비바람']]"
      ]
     },
     "execution_count": 2,
     "metadata": {},
     "output_type": "execute_result"
    }
   ],
   "source": [
    "# 명사추출\n",
    "from konlpy.tag import Okt\n",
    "okt = Okt()\n",
    "text2 = []\n",
    "for txt in text:\n",
    "    t = okt.nouns(txt)\n",
    "    text2.append(t)\n",
    "text2"
   ]
  },
  {
   "cell_type": "code",
   "execution_count": 3,
   "metadata": {},
   "outputs": [
    {
     "data": {
      "text/plain": [
       "[[('모처럼', 'Noun'),\n",
       "  ('전국', 'Noun'),\n",
       "  ('에', 'Josa'),\n",
       "  ('비', 'Noun'),\n",
       "  ('가', 'Josa'),\n",
       "  ('내리고', 'Verb'),\n",
       "  ('있습니다', 'Adjective'),\n",
       "  ('.', 'Punctuation')],\n",
       " [('대부분', 'Noun'),\n",
       "  ('밤', 'Noun'),\n",
       "  ('까지', 'Josa'),\n",
       "  ('계속', 'Noun'),\n",
       "  ('되기', 'Verb'),\n",
       "  ('때문', 'Noun'),\n",
       "  ('에', 'Josa'),\n",
       "  ('종일', 'Noun'),\n",
       "  ('우산', 'Noun'),\n",
       "  ('이', 'Josa'),\n",
       "  ('필요하겠는데요', 'Adjective'),\n",
       "  ('.', 'Punctuation')],\n",
       " [('비', 'Noun'),\n",
       "  ('의', 'Josa'),\n",
       "  ('양도', 'Noun'),\n",
       "  ('많고', 'Adjective'),\n",
       "  ('바람', 'Noun'),\n",
       "  ('도', 'Josa'),\n",
       "  ('강하게', 'Adjective'),\n",
       "  ('불기', 'Noun'),\n",
       "  ('때문', 'Noun'),\n",
       "  ('에', 'Josa'),\n",
       "  ('작은', 'Adjective'),\n",
       "  ('우산', 'Noun'),\n",
       "  ('말고', 'Josa'),\n",
       "  ('큰', 'Verb'),\n",
       "  ('우산', 'Noun'),\n",
       "  ('챙기는', 'Verb'),\n",
       "  ('게', 'Noun'),\n",
       "  ('더', 'Noun'),\n",
       "  ('좋습니다', 'Adjective'),\n",
       "  ('.', 'Punctuation')],\n",
       " [('특히', 'Adverb'),\n",
       "  ('제주', 'Noun'),\n",
       "  ('와', 'Josa'),\n",
       "  ('남해안', 'Noun'),\n",
       "  ('에서', 'Josa'),\n",
       "  ('비바람', 'Noun'),\n",
       "  ('이', 'Josa'),\n",
       "  ('강합니다', 'Adjective'),\n",
       "  ('.', 'Punctuation')]]"
      ]
     },
     "execution_count": 3,
     "metadata": {},
     "output_type": "execute_result"
    }
   ],
   "source": [
    "# 명사와 형용사 추출\n",
    "text3 = []\n",
    "for txt in text:\n",
    "    morph = okt.pos(txt)\n",
    "    text3.append(morph)\n",
    "text3"
   ]
  },
  {
   "cell_type": "code",
   "execution_count": 4,
   "metadata": {},
   "outputs": [
    {
     "data": {
      "text/plain": [
       "[['모처럼', '전국', '비', '있습니다'],\n",
       " ['대부분', '밤', '계속', '때문', '종일', '우산', '필요하겠는데요'],\n",
       " ['비',\n",
       "  '양도',\n",
       "  '많고',\n",
       "  '바람',\n",
       "  '강하게',\n",
       "  '불기',\n",
       "  '때문',\n",
       "  '작은',\n",
       "  '우산',\n",
       "  '우산',\n",
       "  '게',\n",
       "  '더',\n",
       "  '좋습니다'],\n",
       " ['제주', '남해안', '비바람', '강합니다']]"
      ]
     },
     "execution_count": 4,
     "metadata": {},
     "output_type": "execute_result"
    }
   ],
   "source": [
    "text4 = []\n",
    "for text in text3:\n",
    "    line = []\n",
    "    for word, tag in text:\n",
    "        if tag in ['Noun', 'Adjective']:\n",
    "            line.append(word)\n",
    "    text4.append(line)\n",
    "text4"
   ]
  },
  {
   "cell_type": "code",
   "execution_count": 5,
   "metadata": {},
   "outputs": [
    {
     "data": {
      "text/plain": [
       "[['모처럼', '전국', '비', '있습니다'],\n",
       " ['대부분', '밤', '계속', '때문', '종일', '우산', '필요하겠는데요'],\n",
       " ['비', '양도', '많고', '바람', '강하게', '불기', '때문', '작은', '우산', '우산', '좋습니다'],\n",
       " ['제주', '남해안', '비바람', '강합니다']]"
      ]
     },
     "execution_count": 5,
     "metadata": {},
     "output_type": "execute_result"
    }
   ],
   "source": [
    "### 불용어처리\n",
    "\n",
    "vocab = {}\n",
    "sentences = []\n",
    "stop_words = ['더','게']\n",
    "\n",
    "for txt in text4:\n",
    "    result = []\n",
    "    for word in txt:\n",
    "        # 불용어 제거\n",
    "        if word not in stop_words:   # 불용어가 아니면\n",
    "            result.append(word)\n",
    "            if word not in vocab:  # 새로운 단어면    \n",
    "                vocab[word] = 0    # 출현횟수 0으로\n",
    "            vocab[word] += 1       # 출현횟수 1 증가\n",
    "    sentences.append(result)\n",
    "sentences"
   ]
  },
  {
   "cell_type": "code",
   "execution_count": 11,
   "metadata": {},
   "outputs": [
    {
     "data": {
      "text/plain": [
       "{'모처럼': 1,\n",
       " '전국': 1,\n",
       " '비': 2,\n",
       " '있습니다': 1,\n",
       " '대부분': 1,\n",
       " '밤': 1,\n",
       " '계속': 1,\n",
       " '때문': 2,\n",
       " '종일': 1,\n",
       " '우산': 3,\n",
       " '필요하겠는데요': 1,\n",
       " '양도': 1,\n",
       " '많고': 1,\n",
       " '바람': 1,\n",
       " '강하게': 1,\n",
       " '불기': 1,\n",
       " '작은': 1,\n",
       " '좋습니다': 1,\n",
       " '제주': 1,\n",
       " '남해안': 1,\n",
       " '비바람': 1,\n",
       " '강합니다': 1}"
      ]
     },
     "execution_count": 11,
     "metadata": {},
     "output_type": "execute_result"
    }
   ],
   "source": [
    "vocab   # 출현빈도가 높으면 중요한 단어일 가능성이 높음"
   ]
  },
  {
   "cell_type": "code",
   "execution_count": 7,
   "metadata": {},
   "outputs": [
    {
     "data": {
      "text/plain": [
       "3"
      ]
     },
     "execution_count": 7,
     "metadata": {},
     "output_type": "execute_result"
    }
   ],
   "source": [
    "vocab['우산']"
   ]
  },
  {
   "cell_type": "code",
   "execution_count": 8,
   "metadata": {},
   "outputs": [
    {
     "data": {
      "text/plain": [
       "{'비': 1, '때문': 2, '우산': 3}"
      ]
     },
     "execution_count": 8,
     "metadata": {},
     "output_type": "execute_result"
    }
   ],
   "source": [
    "# 단어에 일련번호 부여\n",
    "word_to_index = {}\n",
    "i = 0\n",
    "for word in vocab:\n",
    "    if vocab[word] > 1:   # 빈도수가 1보다 큰 단어들만 추가\n",
    "        i += 1\n",
    "        word_to_index[word] = i    # 단어에 번호를 매김\n",
    "word_to_index\n"
   ]
  },
  {
   "cell_type": "code",
   "execution_count": 9,
   "metadata": {},
   "outputs": [
    {
     "data": {
      "text/plain": [
       "[[4, 4, 1, 4],\n",
       " [4, 4, 4, 2, 4, 3, 4],\n",
       " [1, 4, 4, 4, 4, 4, 2, 4, 3, 3, 4],\n",
       " [4, 4, 4, 4]]"
      ]
     },
     "execution_count": 9,
     "metadata": {},
     "output_type": "execute_result"
    }
   ],
   "source": [
    "# out-of-vocabulary 단어 집합에 없는 단어\n",
    "# 출현빈도수가 낮은 단어들은 word_to_index에 없으므로 word_to_index에 OOV라는 단어를 추가하고 처리\n",
    "word_to_index['OOV'] = len(word_to_index) + 1\n",
    "encoded = []\n",
    "for s in sentences:   # 문장 반복\n",
    "    temp = []\n",
    "    for w in s:       # 문장의 단어들 반복\n",
    "        try:\n",
    "            temp.append(word_to_index[w])   # 단어의 고유번호를 리스트에 추가\n",
    "        except:\n",
    "            temp.append(word_to_index['OOV'])   # 존재하지 않는 단어의 OOV의 인덱스를 추가\n",
    "    encoded.append(temp)\n",
    "encoded   # 출현빈도수가 낮은 단어들은 4번으로 번호를 줌"
   ]
  },
  {
   "cell_type": "code",
   "execution_count": 12,
   "metadata": {},
   "outputs": [
    {
     "name": "stdout",
     "output_type": "stream",
     "text": [
      "['모처럼' '전국' '비' '있습니다' '대부분' '밤' '계속' '때문' '종일' '우산' '필요하겠는데요' '비' '양도'\n",
      " '많고' '바람' '강하게' '불기' '때문' '작은' '우산' '우산' '좋습니다' '제주' '남해안' '비바람' '강합니다']\n"
     ]
    }
   ],
   "source": [
    "import numpy as np\n",
    "\n",
    "# 2차원 데이터를 1차원으로 바꾸고\n",
    "words = np.hstack(sentences)\n",
    "print(words)"
   ]
  },
  {
   "cell_type": "code",
   "execution_count": 13,
   "metadata": {},
   "outputs": [
    {
     "name": "stdout",
     "output_type": "stream",
     "text": [
      "Counter({'우산': 3, '비': 2, '때문': 2, '모처럼': 1, '전국': 1, '있습니다': 1, '대부분': 1, '밤': 1, '계속': 1, '종일': 1, '필요하겠는데요': 1, '양도': 1, '많고': 1, '바람': 1, '강하게': 1, '불기': 1, '작은': 1, '좋습니다': 1, '제주': 1, '남해안': 1, '비바람': 1, '강합니다': 1})\n"
     ]
    }
   ],
   "source": [
    "# 단어의 출현빈도를 쉽게 계산하는 클래스: Counter\n",
    "from collections import Counter\n",
    "vocab = Counter(words) \n",
    "print(vocab)"
   ]
  },
  {
   "cell_type": "code",
   "execution_count": 14,
   "metadata": {},
   "outputs": [
    {
     "name": "stdout",
     "output_type": "stream",
     "text": [
      "3\n"
     ]
    }
   ],
   "source": [
    "print(vocab[\"우산\"]) # 단어의 빈도수"
   ]
  },
  {
   "cell_type": "code",
   "execution_count": 15,
   "metadata": {},
   "outputs": [
    {
     "data": {
      "text/plain": [
       "[('우산', 3), ('비', 2), ('때문', 2), ('모처럼', 1), ('전국', 1)]"
      ]
     },
     "execution_count": 15,
     "metadata": {},
     "output_type": "execute_result"
    }
   ],
   "source": [
    "# 출현빈도가 높은 상위 5개의 단어\n",
    "vocab_size = 5\n",
    "vocab = vocab.most_common(vocab_size)\n",
    "vocab\n"
   ]
  },
  {
   "cell_type": "code",
   "execution_count": 16,
   "metadata": {},
   "outputs": [
    {
     "name": "stdout",
     "output_type": "stream",
     "text": [
      "{'우산': 1, '비': 2, '때문': 3, '모처럼': 4, '전국': 5}\n"
     ]
    }
   ],
   "source": [
    "word_to_index = {}\n",
    "i = 0\n",
    "for (word, frequency) in vocab :\n",
    "    i = i+1\n",
    "    word_to_index[word] = i\n",
    "print(word_to_index)"
   ]
  },
  {
   "cell_type": "markdown",
   "metadata": {},
   "source": [
    "### 단어의 출현빈도\n",
    "\n",
    "tf 한 문서에서 단어의 출현빈도\n",
    "\n",
    "df 여러 문서의 출현빈도가 높은 단어: 모든 문서에 나오는 단어라면 중요하지 않을 가능성이 있음 (ex. 참고문헌, 기자, 날씨 등등)"
   ]
  },
  {
   "cell_type": "markdown",
   "metadata": {},
   "source": [
    "### 정수인코딩의 단점: 단어의 순서가 없음\n",
    "→ 원핫인코딩: 단어의 순서에 맞게 배열"
   ]
  }
 ],
 "metadata": {
  "kernelspec": {
   "display_name": "Python 3",
   "language": "python",
   "name": "python3"
  },
  "language_info": {
   "codemirror_mode": {
    "name": "ipython",
    "version": 3
   },
   "file_extension": ".py",
   "mimetype": "text/x-python",
   "name": "python",
   "nbconvert_exporter": "python",
   "pygments_lexer": "ipython3",
   "version": "3.9.13"
  },
  "orig_nbformat": 4
 },
 "nbformat": 4,
 "nbformat_minor": 2
}
