{
 "cells": [
  {
   "cell_type": "markdown",
   "id": "44b9aa62",
   "metadata": {},
   "source": [
    "### 압축해제"
   ]
  },
  {
   "cell_type": "code",
   "execution_count": 1,
   "id": "67dc10f3",
   "metadata": {},
   "outputs": [],
   "source": [
    "import zipfile\n",
    "import os\n",
    "import glob\n",
    "from PIL import Image\n",
    "import json\n",
    "\n",
    "# zip 파일 압축 해제\n",
    "def unzip_specific_count(zip_files, output_folder, count):\n",
    "    for zip_path in zip_files[:count]:\n",
    "        with zipfile.ZipFile(zip_path, 'r') as zip_ref:\n",
    "            zip_ref.extractall(output_folder)\n",
    "\n",
    "# png to jpg\n",
    "def convert_png_to_jpg(png_path, output_folder):\n",
    "    with Image.open(png_path) as img:\n",
    "        base_name = os.path.basename(png_path).rsplit('.', 1)[0]\n",
    "        output_path = os.path.join(output_folder, f\"{base_name}.jpg\")\n",
    "        img.convert('RGB').save(output_path, 'JPEG')"
   ]
  },
  {
   "cell_type": "code",
   "execution_count": 15,
   "id": "d4331870",
   "metadata": {},
   "outputs": [],
   "source": [
    "##### 이미지파일 \n",
    "\n",
    "# 경로설정\n",
    "img_train_root_dir = \"D:\\\\Ddrive\\\\3rd\\\\data\\\\01.데이터\\\\Training\\\\01.원천데이터\"\n",
    "img_train_output_dir = \"D:\\\\Ddrive\\\\3rd\\\\data_ex\\\\training\\\\images\"\n",
    "\n",
    "# img_val_root_dir = \"D:\\\\Ddrive\\\\3rd\\\\data\\\\01.데이터\\\\Validation\\\\01.원천데이터\"\n",
    "# img_val_output_dir = \"D:\\\\Ddrive\\\\3rd\\\\data_ex\\\\validation\\\\images\"\n",
    "# img_train_root_dir = img_val_root_dir\n",
    "# img_train_output_dir = img_val_output_dir"
   ]
  },
  {
   "cell_type": "code",
   "execution_count": 6,
   "id": "2be8bdcb",
   "metadata": {},
   "outputs": [
    {
     "name": "stderr",
     "output_type": "stream",
     "text": [
      "c:\\Python\\Python39\\lib\\site-packages\\PIL\\Image.py:3157: DecompressionBombWarning: Image size (133505320 pixels) exceeds limit of 89478485 pixels, could be decompression bomb DOS attack.\n",
      "  warnings.warn(\n"
     ]
    }
   ],
   "source": [
    "# 압축 파일 목록 가져오기\n",
    "train_zip_files = sorted(glob.glob(os.path.join(img_train_root_dir, \"*.zip\")))\n",
    "\n",
    "# 100개씩 ZIP 파일 압축 해제\n",
    "chunk_size = 100\n",
    "for idx in range(0, len(train_zip_files), chunk_size):\n",
    "    unzip_specific_count(train_zip_files[idx: idx + chunk_size], img_train_output_dir, chunk_size)\n",
    "\n",
    "    # PNG 파일 목록 가져오기\n",
    "    png_files = glob.glob(os.path.join(img_train_output_dir, '*.png'))\n",
    "\n",
    "    # PNG를 JPG로 변환\n",
    "    for png_path in png_files:\n",
    "        convert_png_to_jpg(png_path, img_train_output_dir)\n",
    "        os.remove(png_path)  # PNG 파일 삭제"
   ]
  },
  {
   "cell_type": "code",
   "execution_count": 17,
   "id": "a36bab4a",
   "metadata": {},
   "outputs": [],
   "source": [
    "##### 라벨링 파일\n",
    "\n",
    "lbl_train_root_dir = \"D:\\\\Ddrive\\\\3rd\\\\data\\\\01.데이터\\\\Training\\\\02.라벨링데이터\"\n",
    "lbl_train_output_dir = \"D:\\\\Ddrive\\\\3rd\\\\data_ex\\\\Training\\\\labels\"\n",
    "\n",
    "# lbl_val_root_dir = \"D:\\\\Ddrive\\\\3rd\\\\data\\\\01.데이터\\\\Validation\\\\02.라벨링데이터\"\n",
    "# lbl_val_output_dir = \"D:\\\\Ddrive\\\\3rd\\\\data_ex\\\\Validation\\\\labels\"\n",
    "\n",
    "# lbl_train_root_dir = lbl_val_root_dir\n",
    "# lbl_train_output_dir = lbl_val_output_dir"
   ]
  },
  {
   "cell_type": "code",
   "execution_count": 5,
   "id": "fd3601bf",
   "metadata": {},
   "outputs": [],
   "source": [
    "# 압축 파일 목록 가져오기\n",
    "train_zip_files = sorted(glob.glob(os.path.join(lbl_train_root_dir, \"*.zip\")))\n",
    "\n",
    "# 100개씩 ZIP 파일 압축 해제\n",
    "chunk_size = 100\n",
    "for idx in range(0, len(train_zip_files), chunk_size):\n",
    "    unzip_specific_count(train_zip_files[idx: idx + chunk_size], img_train_output_dir, chunk_size)\n"
   ]
  },
  {
   "cell_type": "markdown",
   "id": "38b137ae",
   "metadata": {},
   "source": [
    "### 파일 조회"
   ]
  },
  {
   "cell_type": "code",
   "execution_count": 5,
   "id": "8501a4fc",
   "metadata": {},
   "outputs": [],
   "source": [
    "img_train_output_dir = \"D:\\\\Ddrive\\\\3rd\\\\data_ex\\\\training\\\\images\"\n",
    "img_val_output_dir = \"D:\\\\Ddrive\\\\3rd\\\\data_ex\\\\validation\\\\images\"\n",
    "\n",
    "lbl_train_output_dir = \"D:\\\\Ddrive\\\\3rd\\\\data_ex\\\\Training\\\\labels\"\n",
    "lbl_val_output_dir = \"D:\\\\Ddrive\\\\3rd\\\\data_ex\\\\Validation\\\\labels\"\n"
   ]
  },
  {
   "cell_type": "code",
   "execution_count": 9,
   "id": "8bd387a6",
   "metadata": {},
   "outputs": [
    {
     "data": {
      "text/plain": [
       "{'filename': '0001_1992_03_00000006_F',\n",
       " 'id': 1,\n",
       " 'birth': 1992,\n",
       " 'age_now': 31,\n",
       " 'age_past': 3,\n",
       " 'format': 'png',\n",
       " 'imgsize': '6.058MB',\n",
       " 'width': 2268,\n",
       " 'height': 4032,\n",
       " 'device': 'film',\n",
       " 'gender': 'male',\n",
       " 'annotation': [{'box': {'x': 891.2232817154722,\n",
       "    'y': 1053.9795875544532,\n",
       "    'w': 588.0784269947857,\n",
       "    'h': 537.6325742232132},\n",
       "   'landmark': [[1199.6512395709426, 1300.9796508392835],\n",
       "    [1077.2043124256556, 1209.0285228620487],\n",
       "    [1305.2694535496466, 1185.7092774229955],\n",
       "    [1107.4994950800155, 1455.4955492450852],\n",
       "    [1279.2178206070441, 1462.0890281459724]]}]}"
      ]
     },
     "execution_count": 9,
     "metadata": {},
     "output_type": "execute_result"
    }
   ],
   "source": [
    "##### JSON 파일 하나 읽기\n",
    "extracted_label_files = os.listdir(lbl_train_output_dir)\n",
    "filename = extracted_label_files[5]\n",
    "json_file_path = os.path.join(lbl_train_output_dir+'/'+filename)\n",
    "with open(json_file_path, 'r') as json_file:\n",
    "    data = json.load(json_file)\n",
    "data"
   ]
  },
  {
   "cell_type": "code",
   "execution_count": 10,
   "id": "47130f3f",
   "metadata": {},
   "outputs": [],
   "source": [
    "##### 이미지 파일 하나 조회\n",
    "\n",
    "from PIL import Image, ImageDraw, ImageFont\n",
    "\n",
    "# 이미지 파일 경로\n",
    "extracted_label_files = os.listdir(img_train_output_dir)\n",
    "image_file_path = os.path.join(img_train_output_dir+'/'+extracted_label_files[5])\n",
    "\n",
    "# 이미지 열기\n",
    "img = Image.open(image_file_path)\n",
    "\n",
    "# 이미지 위에 박스 좌표 그리기\n",
    "draw = ImageDraw.Draw(img)\n",
    "\n",
    "for annotation in data['annotation']:\n",
    "    box = annotation['box']\n",
    "    x, y, w, h = box['x'], box['y'], box['w'], box['h']\n",
    "    draw.rectangle([x, y, x + w, y + h], outline=\"red\", width=2)\n",
    "\n",
    "    # landmark 그리기\n",
    "    for landmark_point in annotation['landmark']:\n",
    "        lx, ly = landmark_point\n",
    "        draw.ellipse([lx - 2, ly - 2, lx + 2, ly + 2], outline=\"blue\", width=2)\n",
    "\n",
    "    # 박스 좌표 표시\n",
    "    font = ImageFont.truetype(\"arial.ttf\", 12)  # 폰트 및 크기 설정\n",
    "    draw.text((x, y), f\"x: {x}, y: {y}\", fill=\"red\", font=font)\n",
    "    draw.text((x, y + h), f\"w: {w}, h: {h}\", fill=\"red\", font=font)\n",
    "# 이미지 표시\n",
    "img.show()\n"
   ]
  }
 ],
 "metadata": {
  "kernelspec": {
   "display_name": "Python 3 (ipykernel)",
   "language": "python",
   "name": "python3"
  },
  "language_info": {
   "codemirror_mode": {
    "name": "ipython",
    "version": 3
   },
   "file_extension": ".py",
   "mimetype": "text/x-python",
   "name": "python",
   "nbconvert_exporter": "python",
   "pygments_lexer": "ipython3",
   "version": "3.9.13"
  }
 },
 "nbformat": 4,
 "nbformat_minor": 5
}
