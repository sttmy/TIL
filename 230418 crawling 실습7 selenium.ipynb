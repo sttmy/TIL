{
 "cells": [
  {
   "cell_type": "markdown",
   "id": "214db98d",
   "metadata": {},
   "source": [
    "## Selenium\n",
    "\n",
    "BeautifulSoup 라이브러리는 자바스크립트로 동적으로 생성된 정보는 가져올 수 없음\n",
    "\n",
    "url변경이나 새로고침 없이 가져오게 됨\n",
    "\n",
    "Therefore, Selenium 라이브러리 사용\n",
    "\n",
    "1. 자바스크립트가 동적으로 만든 데이터를 크롤링 하기 위해\n",
    "\n",
    "2. 사이트의 다양한 HTML 요소에 클릭, 키보드 입력 등 이벤트를 주기 위해\n",
    "\n",
    "Selenium을 잘 활용하면, 자동화도 가능\n",
    "\n",
    "1. 자동으로 로그인하기\n",
    "\n",
    "2. 메일보내기 자동화\n",
    "\n",
    "3. 블로그 이웃새글 자동좋아요 누르기\n",
    "\n",
    "4. 인스타그램 자동으로 좋아요, 댓글 작성하기\n",
    "\n",
    "\n",
    "\n",
    "webdriver 웹 브라우저 버전에 맞춰 설치 필요\n",
    "\n",
    "Chrome, 설정 : 111~ 이상을 사용하는게 좋음. win32 다운로드 받을 것\n",
    "\n",
    "https://chromedriver.chromium.org/\n",
    "\n",
    "\n",
    "※ 참고. 여러 페이지 excel download 는 코랩에서 가능하지 않음"
   ]
  },
  {
   "cell_type": "code",
   "execution_count": 1,
   "id": "eb94f358",
   "metadata": {
    "collapsed": true
   },
   "outputs": [
    {
     "name": "stdout",
     "output_type": "stream",
     "text": [
      "Requirement already satisfied: selenium in c:\\python38\\lib\\site-packages (4.8.3)\n",
      "Requirement already satisfied: trio~=0.17 in c:\\python38\\lib\\site-packages (from selenium) (0.22.0)\n",
      "Requirement already satisfied: trio-websocket~=0.9 in c:\\python38\\lib\\site-packages (from selenium) (0.10.2)\n",
      "Requirement already satisfied: certifi>=2021.10.8 in c:\\python38\\lib\\site-packages (from selenium) (2022.12.7)\n",
      "Requirement already satisfied: urllib3[socks]~=1.26 in c:\\python38\\lib\\site-packages (from selenium) (1.26.15)\n",
      "Requirement already satisfied: idna in c:\\python38\\lib\\site-packages (from trio~=0.17->selenium) (3.4)\n",
      "Requirement already satisfied: outcome in c:\\python38\\lib\\site-packages (from trio~=0.17->selenium) (1.2.0)\n",
      "Requirement already satisfied: async-generator>=1.9 in c:\\python38\\lib\\site-packages (from trio~=0.17->selenium) (1.10)\n",
      "Requirement already satisfied: attrs>=19.2.0 in c:\\python38\\lib\\site-packages (from trio~=0.17->selenium) (22.2.0)\n",
      "Requirement already satisfied: sortedcontainers in c:\\python38\\lib\\site-packages (from trio~=0.17->selenium) (2.4.0)\n",
      "Requirement already satisfied: sniffio in c:\\python38\\lib\\site-packages (from trio~=0.17->selenium) (1.3.0)\n",
      "Requirement already satisfied: cffi>=1.14 in c:\\python38\\lib\\site-packages (from trio~=0.17->selenium) (1.15.1)\n",
      "Requirement already satisfied: exceptiongroup>=1.0.0rc9 in c:\\python38\\lib\\site-packages (from trio~=0.17->selenium) (1.1.1)\n",
      "Requirement already satisfied: wsproto>=0.14 in c:\\python38\\lib\\site-packages (from trio-websocket~=0.9->selenium) (1.2.0)\n",
      "Requirement already satisfied: PySocks!=1.5.7,<2.0,>=1.5.6 in c:\\python38\\lib\\site-packages (from urllib3[socks]~=1.26->selenium) (1.7.1)\n",
      "Requirement already satisfied: pycparser in c:\\python38\\lib\\site-packages (from cffi>=1.14->trio~=0.17->selenium) (2.21)\n",
      "Requirement already satisfied: h11<1,>=0.9.0 in c:\\python38\\lib\\site-packages (from wsproto>=0.14->trio-websocket~=0.9->selenium) (0.14.0)\n"
     ]
    },
    {
     "name": "stderr",
     "output_type": "stream",
     "text": [
      "\n",
      "[notice] A new release of pip is available: 23.0.1 -> 23.1\n",
      "[notice] To update, run: python.exe -m pip install --upgrade pip\n"
     ]
    }
   ],
   "source": [
    "!pip install selenium"
   ]
  },
  {
   "cell_type": "markdown",
   "id": "e60a4969",
   "metadata": {},
   "source": [
    "## google 크롤링 - 'chromeDriver' 검색하기"
   ]
  },
  {
   "cell_type": "code",
   "execution_count": 2,
   "id": "2a43bcba",
   "metadata": {},
   "outputs": [],
   "source": [
    "# BeautifulSoup\n",
    "import requests\n",
    "from bs4 import BeautifulSoup"
   ]
  },
  {
   "cell_type": "code",
   "execution_count": null,
   "id": "8b581627",
   "metadata": {},
   "outputs": [],
   "source": [
    "url = 'https://www.google.com'\n",
    "req = requests.get(url)\n",
    "soup = BeautifulSoup(req.text, 'html.parser')\n",
    "\n",
    "# q=(검색내용)\n",
    "# https://www.google.com/search?q=chromedriver\n",
    "#    &sxsrf=APwXEddcYcfFauWF_lwoys57tf934e48yA%3A1681787274188&ei=igk-ZNyTC_Wy2roP9bWZaA&ved=0ahUKEwjcgMPoubL-AhV1mVYBHfVaBg0Q4dUDCBA&uact=5&oq=chromedriver&gs_lcp=Cgxnd3Mtd2l6LXNlcnAQAzIGCCMQJxATMggIABCABBCxAzIFCAAQgAQyCggAEIAEEBQQhwIyBQgAEIAEMgUIABCABDIFCAAQgAQyBQgAEIAEMgUIABCABDIFCAAQgAQ6CggAEEcQ1gQQsAM6BwgAEA0QgAQ6CAgAEB4QDRAKOgQIABAeOgYIABAeEA06BggAEAgQHjoKCAAQCBAeEA0QCjoICAAQgAQQywFKBAhBGABQ6wRY8ghgjQtoAnABeACAAWWIAYoDkgEDMi4ymAEAoAEByAEKwAEB&sclient=gws-wiz-serp\n",
    "\n",
    ">>>> 동적인 데이터를 입력하고 결과를 얻기가 힘듦"
   ]
  },
  {
   "cell_type": "markdown",
   "id": "6cafa070",
   "metadata": {},
   "source": [
    "### Selenium 활용"
   ]
  },
  {
   "cell_type": "code",
   "execution_count": 9,
   "id": "9be13271",
   "metadata": {},
   "outputs": [],
   "source": [
    "import time\n",
    "from selenium import webdriver\n",
    "from selenium.webdriver.common.keys import Keys\n",
    "from selenium.webdriver.common.by import By\n",
    "import pandas as pd"
   ]
  },
  {
   "cell_type": "code",
   "execution_count": 5,
   "id": "ecb1553e",
   "metadata": {},
   "outputs": [
    {
     "name": "stderr",
     "output_type": "stream",
     "text": [
      "C:\\Users\\tjoeun\\AppData\\Local\\Temp\\ipykernel_2532\\530843676.py:1: DeprecationWarning: executable_path has been deprecated, please pass in a Service object\n",
      "  driver = webdriver.Chrome('chromedriver.exe')\n"
     ]
    }
   ],
   "source": [
    "driver = webdriver.Chrome('chromedriver.exe')  #실행중에 끄지말것"
   ]
  },
  {
   "cell_type": "code",
   "execution_count": 14,
   "id": "20ebd559",
   "metadata": {},
   "outputs": [],
   "source": [
    "driver = webdriver.Chrome()   #끄지말것\n",
    "url = 'https://www.google.com'\n",
    "driver.get(url)"
   ]
  },
  {
   "cell_type": "code",
   "execution_count": 15,
   "id": "fa1639cb",
   "metadata": {},
   "outputs": [],
   "source": [
    "search_box = driver.find_element(by = By.NAME, value = 'q')  #대문자\n",
    "    # name을 찾아냄. 구글 검색창, value값은 q임\n",
    "search_box.send_keys(\"chromedriver\")\n",
    "search_box.send_keys(Keys.ENTER)\n",
    "time.sleep(2)"
   ]
  },
  {
   "cell_type": "code",
   "execution_count": 17,
   "id": "1a171187",
   "metadata": {},
   "outputs": [
    {
     "data": {
      "text/plain": [
       "9"
      ]
     },
     "execution_count": 17,
     "metadata": {},
     "output_type": "execute_result"
    }
   ],
   "source": [
    "# search 검색결과 가져오기\n",
    "divs = driver.find_elements(by=By.CSS_SELECTOR, value='#search .g')  \n",
    "# g로 시작하는 class를 다 가져옴\n",
    "len(divs)"
   ]
  },
  {
   "cell_type": "code",
   "execution_count": 5,
   "id": "43b26ff7",
   "metadata": {},
   "outputs": [],
   "source": [
    "div = divs[0]"
   ]
  },
  {
   "cell_type": "code",
   "execution_count": 6,
   "id": "99083aa5",
   "metadata": {},
   "outputs": [
    {
     "data": {
      "text/plain": [
       "'WebDriver for Chrome - Downloads'"
      ]
     },
     "execution_count": 6,
     "metadata": {},
     "output_type": "execute_result"
    }
   ],
   "source": [
    "# 검색결과, 제목 가져오기\n",
    "# 테그< h3 class = \"LC20lb MBeuO DKV0Md\" > 복사 후 붙여넣기\n",
    "title = div.find_element(By.CSS_SELECTOR, '.LC20lb.MBeuO.DKV0Md').text\n",
    "title"
   ]
  },
  {
   "cell_type": "code",
   "execution_count": 7,
   "id": "de8af2c9",
   "metadata": {},
   "outputs": [
    {
     "data": {
      "text/plain": [
       "'If you are using Chrome version 111, please download ChromeDriver 111.0.5563.64. For older version of Chrome, please see below for the version of ...'"
      ]
     },
     "execution_count": 7,
     "metadata": {},
     "output_type": "execute_result"
    }
   ],
   "source": [
    "# 제목 아래 검색내용\n",
    "# 테그 복사: class = \"VwiC3b yXK7lf MUxGbd yDYNvb lyLwlc lEBKkf\"\n",
    "content = div.find_element(By.CSS_SELECTOR, '.VwiC3b.yXK7lf.MUxGbd').text\n",
    "content"
   ]
  },
  {
   "cell_type": "code",
   "execution_count": 18,
   "id": "4078fd38",
   "metadata": {},
   "outputs": [
    {
     "data": {
      "text/html": [
       "<div>\n",
       "<style scoped>\n",
       "    .dataframe tbody tr th:only-of-type {\n",
       "        vertical-align: middle;\n",
       "    }\n",
       "\n",
       "    .dataframe tbody tr th {\n",
       "        vertical-align: top;\n",
       "    }\n",
       "\n",
       "    .dataframe thead th {\n",
       "        text-align: right;\n",
       "    }\n",
       "</style>\n",
       "<table border=\"1\" class=\"dataframe\">\n",
       "  <thead>\n",
       "    <tr style=\"text-align: right;\">\n",
       "      <th></th>\n",
       "      <th>제목</th>\n",
       "      <th>내용</th>\n",
       "    </tr>\n",
       "  </thead>\n",
       "  <tbody>\n",
       "    <tr>\n",
       "      <th>0</th>\n",
       "      <td>WebDriver for Chrome - Downloads</td>\n",
       "      <td>If you are using Chrome version 111, please do...</td>\n",
       "    </tr>\n",
       "    <tr>\n",
       "      <th>1</th>\n",
       "      <td>Chromedriver 다운로드 및 설치하는 법 - 코딩으로 자아실현</td>\n",
       "      <td>2021. 9. 25. — 여기서는 Chrome의 Webdriver인 Chromed...</td>\n",
       "    </tr>\n",
       "    <tr>\n",
       "      <th>2</th>\n",
       "      <td>Selenium으로 무적 크롤러 만들기</td>\n",
       "      <td>2017. 2. 27. — zip파일을 받고 풀어주면 chromedriver 라는 ...</td>\n",
       "    </tr>\n",
       "    <tr>\n",
       "      <th>3</th>\n",
       "      <td>selenium) 설치하기! chromedriver 버전 오류 해결하기</td>\n",
       "      <td>2019. 5. 17. — 압축을 푸시면 chromedriver.exe (맥의 경우...</td>\n",
       "    </tr>\n",
       "    <tr>\n",
       "      <th>4</th>\n",
       "      <td>[Python] Selenium 사용법, ChromeDriver 설치 방법 - ia...</td>\n",
       "      <td>2020. 2. 22. — Selenium이란?! · = 즉 자동화를 이용해서 여러...</td>\n",
       "    </tr>\n",
       "    <tr>\n",
       "      <th>5</th>\n",
       "      <td>크롬드라이버(Chrome Driver) 설치, 다운로드 - 시골쥐의 공부생활</td>\n",
       "      <td>2021. 7. 6. — 크롬드라이버 다운로드 사이트 접속 https://chrom...</td>\n",
       "    </tr>\n",
       "    <tr>\n",
       "      <th>6</th>\n",
       "      <td>ChromeDriver</td>\n",
       "      <td>chromedriver false 100.0.4896.20/chromedriver_...</td>\n",
       "    </tr>\n",
       "    <tr>\n",
       "      <th>7</th>\n",
       "      <td>3분 안에 해결하는 크롬 드라이버 버전 오류 - Unlimited</td>\n",
       "      <td>2022. 5. 18. — SessionNotCreatedException: Mes...</td>\n",
       "    </tr>\n",
       "    <tr>\n",
       "      <th>8</th>\n",
       "      <td>파이썬 크롬드라이버 자동설치 (chromedriver_autoinstaller)</td>\n",
       "      <td>2022. 12. 20. — 그리고, 크롬 드라이버 다운로드 웹 사이트는 https...</td>\n",
       "    </tr>\n",
       "  </tbody>\n",
       "</table>\n",
       "</div>"
      ],
      "text/plain": [
       "                                                  제목  \\\n",
       "0                   WebDriver for Chrome - Downloads   \n",
       "1             Chromedriver 다운로드 및 설치하는 법 - 코딩으로 자아실현   \n",
       "2                              Selenium으로 무적 크롤러 만들기   \n",
       "3            selenium) 설치하기! chromedriver 버전 오류 해결하기   \n",
       "4  [Python] Selenium 사용법, ChromeDriver 설치 방법 - ia...   \n",
       "5         크롬드라이버(Chrome Driver) 설치, 다운로드 - 시골쥐의 공부생활   \n",
       "6                                       ChromeDriver   \n",
       "7               3분 안에 해결하는 크롬 드라이버 버전 오류 - Unlimited   \n",
       "8       파이썬 크롬드라이버 자동설치 (chromedriver_autoinstaller)   \n",
       "\n",
       "                                                  내용  \n",
       "0  If you are using Chrome version 111, please do...  \n",
       "1  2021. 9. 25. — 여기서는 Chrome의 Webdriver인 Chromed...  \n",
       "2  2017. 2. 27. — zip파일을 받고 풀어주면 chromedriver 라는 ...  \n",
       "3  2019. 5. 17. — 압축을 푸시면 chromedriver.exe (맥의 경우...  \n",
       "4  2020. 2. 22. — Selenium이란?! · = 즉 자동화를 이용해서 여러...  \n",
       "5  2021. 7. 6. — 크롬드라이버 다운로드 사이트 접속 https://chrom...  \n",
       "6  chromedriver false 100.0.4896.20/chromedriver_...  \n",
       "7  2022. 5. 18. — SessionNotCreatedException: Mes...  \n",
       "8  2022. 12. 20. — 그리고, 크롬 드라이버 다운로드 웹 사이트는 https...  "
      ]
     },
     "execution_count": 18,
     "metadata": {},
     "output_type": "execute_result"
    }
   ],
   "source": [
    "# 한페이지 정보 가져오기\n",
    "lines = []\n",
    "for div in divs:\n",
    "    try:\n",
    "        title = div.find_element(By.CSS_SELECTOR, '.LC20lb.MBeuO.DKV0Md').text\n",
    "        content = div.find_element(By.CSS_SELECTOR, '.VwiC3b.yXK7lf.MUxGbd').text\n",
    "    except:\n",
    "        continue\n",
    "    lines.append([title, content])\n",
    "df = pd.DataFrame(lines, columns=['제목','내용'])\n",
    "df"
   ]
  },
  {
   "cell_type": "code",
   "execution_count": 13,
   "id": "4d764dab",
   "metadata": {},
   "outputs": [],
   "source": [
    "driver.close()   # 꺼짐"
   ]
  },
  {
   "cell_type": "code",
   "execution_count": null,
   "id": "98e7c0a9",
   "metadata": {},
   "outputs": [],
   "source": []
  }
 ],
 "metadata": {
  "kernelspec": {
   "display_name": "Python 3 (ipykernel)",
   "language": "python",
   "name": "python3"
  },
  "language_info": {
   "codemirror_mode": {
    "name": "ipython",
    "version": 3
   },
   "file_extension": ".py",
   "mimetype": "text/x-python",
   "name": "python",
   "nbconvert_exporter": "python",
   "pygments_lexer": "ipython3",
   "version": "3.8.10"
  }
 },
 "nbformat": 4,
 "nbformat_minor": 5
}
