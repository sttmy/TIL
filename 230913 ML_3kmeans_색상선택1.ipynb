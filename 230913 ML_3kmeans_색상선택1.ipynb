{
 "cells": [
  {
   "cell_type": "code",
   "execution_count": 3,
   "metadata": {},
   "outputs": [],
   "source": [
    "import cv2\n",
    "import numpy as np\n",
    "\n",
    "img = cv2.imread('c:/workspace/Data/winter.jpg')\n",
    "img = cv2.resize(img, (320, 240))\n",
    "\n",
    "cv2.imshow('input', img)"
   ]
  },
  {
   "cell_type": "code",
   "execution_count": null,
   "metadata": {},
   "outputs": [],
   "source": [
    "data = img.reshape((-1,3))\n",
    "data = np.float32(data)\n",
    "# TERM_CRITERIA_EPS - 주어진 정확도에 도달하면 중지\n",
    "# TERM_CRITERIA_MAX_ITER - 주어진 횟수만큼 반복\n",
    "criteria = (cv2.TERM_CRITERIA_EPS + cv2.TERM_CRITERIA_MAX_ITER, 10, 1.0)\n",
    "attempts = 10\n",
    "# KMEANS_RANDOM_CENTERS - 중심 좌표를 랜덤으로 설정\n",
    "flags = cv2.KMEANS_RANDOM_CENTERS\n",
    "for i in range(1, 5):\n",
    "    numK = i * 5 #클러스터 수(클수록 다양한 색상 표현)\n",
    "    ret, label, center = cv2.kmeans(data, numK, None, criteria, attempts, flags)\n",
    "    # 결과 영상 출력\n",
    "    center = np.uint8(center)\n",
    "    res = center[label.flatten()]\n",
    "    res = res.reshape((img.shape))\n",
    "    cv2.imshow('k='+str(numK),res)\n",
    "    cv2.waitKey(1)\n",
    "cv2.waitKey(0) # 키입력 무한대기\n",
    "cv2.destroyAllWindows()"
   ]
  },
  {
   "cell_type": "code",
   "execution_count": null,
   "metadata": {},
   "outputs": [],
   "source": []
  },
  {
   "cell_type": "code",
   "execution_count": null,
   "metadata": {},
   "outputs": [],
   "source": []
  },
  {
   "cell_type": "code",
   "execution_count": null,
   "metadata": {},
   "outputs": [],
   "source": []
  }
 ],
 "metadata": {
  "kernelspec": {
   "display_name": "Python 3",
   "language": "python",
   "name": "python3"
  },
  "language_info": {
   "codemirror_mode": {
    "name": "ipython",
    "version": 3
   },
   "file_extension": ".py",
   "mimetype": "text/x-python",
   "name": "python",
   "nbconvert_exporter": "python",
   "pygments_lexer": "ipython3",
   "version": "3.9.13"
  },
  "orig_nbformat": 4
 },
 "nbformat": 4,
 "nbformat_minor": 2
}
