{
 "cells": [
  {
   "cell_type": "code",
   "execution_count": 1,
   "metadata": {},
   "outputs": [],
   "source": [
    "from transformers import M2M100ForConditionalGeneration, M2M100Tokenizer\n",
    "\n",
    "# 모델 및 토크나이저 불러오기\n",
    "\n",
    "model = M2M100ForConditionalGeneration.from_pretrained(\"facebook/m2m100_418M\")\n",
    "\n",
    "tokenizer = M2M100Tokenizer.from_pretrained(\"facebook/m2m100_418M\")"
   ]
  },
  {
   "cell_type": "code",
   "execution_count": 2,
   "metadata": {},
   "outputs": [],
   "source": [
    "chinese_text = \"生活就像一盒巧克力。\"\n",
    "\n",
    "tokenizer.src_lang = \"zh\"\n",
    "\n",
    "encoded_zh = tokenizer(chinese_text, return_tensors=\"pt\")"
   ]
  },
  {
   "cell_type": "code",
   "execution_count": 3,
   "metadata": {},
   "outputs": [],
   "source": [
    "# 중국어=>영어\n",
    "\n",
    "generated_tokens = model.generate(**encoded_zh, forced_bos_token_id=tokenizer.get_lang_id(\"en\"))"
   ]
  },
  {
   "cell_type": "code",
   "execution_count": 4,
   "metadata": {},
   "outputs": [
    {
     "data": {
      "text/plain": [
       "['Life is like a box of chocolate.']"
      ]
     },
     "execution_count": 4,
     "metadata": {},
     "output_type": "execute_result"
    }
   ],
   "source": [
    "tokenizer.batch_decode(generated_tokens, skip_special_tokens=True)"
   ]
  },
  {
   "cell_type": "code",
   "execution_count": 5,
   "metadata": {},
   "outputs": [],
   "source": [
    "tokenizer.src_lang = \"ko\"\n",
    "korean_text = \"인생은 한 상자의 초콜릿과 같다.\"\n",
    "encoded_ko = tokenizer(korean_text, return_tensors=\"pt\")\n",
    "generated_tokens = model.generate(**encoded_ko, forced_bos_token_id=tokenizer.get_lang_id(\"en\"))\n",
    "text = tokenizer.batch_decode(generated_tokens, skip_special_tokens=True)"
   ]
  },
  {
   "cell_type": "code",
   "execution_count": 11,
   "metadata": {},
   "outputs": [
    {
     "ename": "UnicodeDecodeError",
     "evalue": "'utf-8' codec can't decode byte 0xb8 in position 3: invalid start byte",
     "output_type": "error",
     "traceback": [
      "\u001b[1;31m---------------------------------------------------------------------------\u001b[0m",
      "\u001b[1;31mUnicodeDecodeError\u001b[0m                        Traceback (most recent call last)",
      "Cell \u001b[1;32mIn[11], line 6\u001b[0m\n\u001b[0;32m      4\u001b[0m tts \u001b[39m=\u001b[39m gTTS(text\u001b[39m=\u001b[39mtext[\u001b[39m0\u001b[39m], lang\u001b[39m=\u001b[39m\u001b[39m'\u001b[39m\u001b[39mko\u001b[39m\u001b[39m'\u001b[39m)\n\u001b[0;32m      5\u001b[0m tts\u001b[39m.\u001b[39msave(\u001b[39m'\u001b[39m\u001b[39mData/result/output1_ko.mp3\u001b[39m\u001b[39m'\u001b[39m)\n\u001b[1;32m----> 6\u001b[0m playsound(\u001b[39m'\u001b[39;49m\u001b[39mData/result/output1_ko.mp3\u001b[39;49m\u001b[39m'\u001b[39;49m)\n\u001b[0;32m      7\u001b[0m os\u001b[39m.\u001b[39mremove(\u001b[39m'\u001b[39m\u001b[39mData/result/output1_ko.mp3\u001b[39m\u001b[39m'\u001b[39m)\n",
      "File \u001b[1;32mc:\\Python\\Python39\\lib\\site-packages\\playsound.py:35\u001b[0m, in \u001b[0;36m_playsoundWin\u001b[1;34m(sound, block)\u001b[0m\n\u001b[0;32m     32\u001b[0m     \u001b[39mreturn\u001b[39;00m buf\u001b[39m.\u001b[39mvalue\n\u001b[0;32m     34\u001b[0m alias \u001b[39m=\u001b[39m \u001b[39m'\u001b[39m\u001b[39mplaysound_\u001b[39m\u001b[39m'\u001b[39m \u001b[39m+\u001b[39m \u001b[39mstr\u001b[39m(random())\n\u001b[1;32m---> 35\u001b[0m winCommand(\u001b[39m'\u001b[39;49m\u001b[39mopen \u001b[39;49m\u001b[39m\"\u001b[39;49m\u001b[39m'\u001b[39;49m \u001b[39m+\u001b[39;49m sound \u001b[39m+\u001b[39;49m \u001b[39m'\u001b[39;49m\u001b[39m\"\u001b[39;49m\u001b[39m alias\u001b[39;49m\u001b[39m'\u001b[39;49m, alias)\n\u001b[0;32m     36\u001b[0m winCommand(\u001b[39m'\u001b[39m\u001b[39mset\u001b[39m\u001b[39m'\u001b[39m, alias, \u001b[39m'\u001b[39m\u001b[39mtime format milliseconds\u001b[39m\u001b[39m'\u001b[39m)\n\u001b[0;32m     37\u001b[0m durationInMS \u001b[39m=\u001b[39m winCommand(\u001b[39m'\u001b[39m\u001b[39mstatus\u001b[39m\u001b[39m'\u001b[39m, alias, \u001b[39m'\u001b[39m\u001b[39mlength\u001b[39m\u001b[39m'\u001b[39m)\n",
      "File \u001b[1;32mc:\\Python\\Python39\\lib\\site-packages\\playsound.py:30\u001b[0m, in \u001b[0;36m_playsoundWin.<locals>.winCommand\u001b[1;34m(*command)\u001b[0m\n\u001b[0;32m     26\u001b[0m     errorBuffer \u001b[39m=\u001b[39m c_buffer(\u001b[39m255\u001b[39m)\n\u001b[0;32m     27\u001b[0m     windll\u001b[39m.\u001b[39mwinmm\u001b[39m.\u001b[39mmciGetErrorStringA(errorCode, errorBuffer, \u001b[39m254\u001b[39m)\n\u001b[0;32m     28\u001b[0m     exceptionMessage \u001b[39m=\u001b[39m (\u001b[39m'\u001b[39m\u001b[39m\\n\u001b[39;00m\u001b[39m    Error \u001b[39m\u001b[39m'\u001b[39m \u001b[39m+\u001b[39m \u001b[39mstr\u001b[39m(errorCode) \u001b[39m+\u001b[39m \u001b[39m'\u001b[39m\u001b[39m for command:\u001b[39m\u001b[39m'\u001b[39m\n\u001b[0;32m     29\u001b[0m                         \u001b[39m'\u001b[39m\u001b[39m\\n\u001b[39;00m\u001b[39m        \u001b[39m\u001b[39m'\u001b[39m \u001b[39m+\u001b[39m command\u001b[39m.\u001b[39mdecode() \u001b[39m+\u001b[39m\n\u001b[1;32m---> 30\u001b[0m                         \u001b[39m'\u001b[39m\u001b[39m\\n\u001b[39;00m\u001b[39m    \u001b[39m\u001b[39m'\u001b[39m \u001b[39m+\u001b[39m errorBuffer\u001b[39m.\u001b[39;49mvalue\u001b[39m.\u001b[39;49mdecode())\n\u001b[0;32m     31\u001b[0m     \u001b[39mraise\u001b[39;00m PlaysoundException(exceptionMessage)\n\u001b[0;32m     32\u001b[0m \u001b[39mreturn\u001b[39;00m buf\u001b[39m.\u001b[39mvalue\n",
      "\u001b[1;31mUnicodeDecodeError\u001b[0m: 'utf-8' codec can't decode byte 0xb8 in position 3: invalid start byte"
     ]
    }
   ],
   "source": [
    "from gtts import gTTS   # text to speech\n",
    "from playsound import playsound\n",
    "import os\n",
    "tts = gTTS(text=text[0], lang='ko')\n",
    "tts.save('Data/result/output1_ko.mp3')\n",
    "playsound('Data/result/output1_ko.mp3')\n",
    "os.remove('Data/result/output1_ko.mp3')"
   ]
  },
  {
   "cell_type": "code",
   "execution_count": null,
   "metadata": {},
   "outputs": [
    {
     "data": {
      "text/plain": [
       "['나는 이 나라가 이 10년이 끝나기 전에 사람을 달에 착륙시키고 그를 안전하게 지구로 돌려보내는 목표를 달성하기 위해 노력해야 한다고 믿는다.']"
      ]
     },
     "execution_count": 8,
     "metadata": {},
     "output_type": "execute_result"
    }
   ],
   "source": [
    "english_text = \"I believe this nation should commit itself to achieving the goal, before this decade is out, of landing a man on the moon and returning him safely to the Earth.\"\n",
    "tokenizer.src_lang = \"en\"\n",
    "encoded_en = tokenizer(english_text, return_tensors=\"pt\")\n",
    "generated_tokens = model.generate(**encoded_en, forced_bos_token_id=tokenizer.get_lang_id(\"ko\"))\n",
    "tokenizer.batch_decode(generated_tokens, skip_special_tokens=True)"
   ]
  },
  {
   "cell_type": "code",
   "execution_count": null,
   "metadata": {},
   "outputs": [],
   "source": []
  }
 ],
 "metadata": {
  "kernelspec": {
   "display_name": "Python 3",
   "language": "python",
   "name": "python3"
  },
  "language_info": {
   "codemirror_mode": {
    "name": "ipython",
    "version": 3
   },
   "file_extension": ".py",
   "mimetype": "text/x-python",
   "name": "python",
   "nbconvert_exporter": "python",
   "pygments_lexer": "ipython3",
   "version": "3.9.13"
  },
  "orig_nbformat": 4
 },
 "nbformat": 4,
 "nbformat_minor": 2
}
