{
 "cells": [
  {
   "cell_type": "markdown",
   "id": "953b4f3c",
   "metadata": {},
   "source": [
    "### 2.1 변수와 자료형\n",
    "\n",
    "#### 일반적인 변수\n",
    "- 변수는 필요한 자료를 일시적으로 보관하거나 처리 결과를 담을 수 있는 기억장소 역할을 함\n",
    "\n",
    "- 변수는 실제 값을 저장하는 메모리 이름으로 할당됨\n",
    "\n",
    "#### 파이썬 변수\n",
    "- 변수에 저장될 값이 먼저 메모리에 객체 형태로 저장된 후, 객체의 주소가 변수가 저장됨\n",
    "- 실제값이 저장되지 않고, *실제값이 저장된 주소를 기억하는 '참조형변수'가 됨\n",
    "- 방대한 자료, 함수, 차트 등 다양한 유형의 객체를 담을 수 있음\n"
   ]
  },
  {
   "cell_type": "code",
   "execution_count": 1,
   "id": "dbb20aa2",
   "metadata": {},
   "outputs": [
    {
     "name": "stdout",
     "output_type": "stream",
     "text": [
      "hello python\n",
      "1633748553968\n"
     ]
    },
    {
     "data": {
      "text/plain": [
       "(None, None)"
      ]
     },
     "execution_count": 1,
     "metadata": {},
     "output_type": "execute_result"
    }
   ],
   "source": [
    "var1 = 'hello python'\n",
    "print(var1), print(id(var1))"
   ]
  },
  {
   "cell_type": "code",
   "execution_count": 2,
   "id": "bb5b7056",
   "metadata": {},
   "outputs": [
    {
     "name": "stdout",
     "output_type": "stream",
     "text": [
      "100\n",
      "140716976513904\n"
     ]
    },
    {
     "data": {
      "text/plain": [
       "(None, None)"
      ]
     },
     "execution_count": 2,
     "metadata": {},
     "output_type": "execute_result"
    }
   ],
   "source": [
    "var2 = 100\n",
    "print(var2), print(id(var2))"
   ]
  },
  {
   "cell_type": "markdown",
   "id": "aaa8c3b3",
   "metadata": {},
   "source": [
    "#### 예약어 확인"
   ]
  },
  {
   "cell_type": "code",
   "execution_count": 3,
   "id": "5a9f2c8f",
   "metadata": {},
   "outputs": [
    {
     "name": "stdout",
     "output_type": "stream",
     "text": [
      "['False', 'None', 'True', 'and', 'as', 'assert', 'async', 'await', 'break', 'class', 'continue', 'def', 'del', 'elif', 'else', 'except', 'finally', 'for', 'from', 'global', 'if', 'import', 'in', 'is', 'lambda', 'nonlocal', 'not', 'or', 'pass', 'raise', 'return', 'try', 'while', 'with', 'yield']\n"
     ]
    }
   ],
   "source": [
    "import keyword\n",
    "\n",
    "python_kw = keyword.kwlist\n",
    "print(python_kw)"
   ]
  },
  {
   "cell_type": "markdown",
   "id": "e01200ed",
   "metadata": {},
   "source": [
    "#### 모듈: 프로그래밍에서 자주 사용하는 수식이나 기능 등을 파이썬파일(*.py)로 저장해둔 것\n",
    "- 파이썬 설치 시 자동생성(C:\\Python38\\Lib)\n",
    "- import keyword: keyword.py파일의 내용을 현재 작성중인 모듈로 가져온다는 뜻임"
   ]
  },
  {
   "cell_type": "markdown",
   "id": "577cd34d",
   "metadata": {},
   "source": [
    "#### 자료형\n",
    "- 파이썬은 변수 선언 시 별도의 자료형을 선언하지 않음. 객체의 자료형에 의해 변수의 자료형이 결정됨\n",
    "\n",
    "#### 연산자\n",
    "- 대입연산자\n",
    "    <br> packing: 여러 개의 값을 묶어 변수에 할당하는 연산자(*)\n"
   ]
  },
  {
   "cell_type": "code",
   "execution_count": 4,
   "id": "278e9de5",
   "metadata": {},
   "outputs": [
    {
     "data": {
      "text/plain": [
       "(11, 21)"
      ]
     },
     "execution_count": 4,
     "metadata": {},
     "output_type": "execute_result"
    }
   ],
   "source": [
    "i = tot = 10\n",
    "i += 1\n",
    "tot += i\n",
    "i, tot"
   ]
  },
  {
   "cell_type": "code",
   "execution_count": 5,
   "id": "97940b7c",
   "metadata": {},
   "outputs": [],
   "source": [
    "v1, v2 = 100, 200"
   ]
  },
  {
   "cell_type": "code",
   "execution_count": 6,
   "id": "32e39b1d",
   "metadata": {},
   "outputs": [
    {
     "data": {
      "text/plain": [
       "(1, [2, 3, 4, 5])"
      ]
     },
     "execution_count": 6,
     "metadata": {},
     "output_type": "execute_result"
    }
   ],
   "source": [
    "lst =[1,2,3,4,5]\n",
    "v1, *v2 = lst      # 첫번째 원소는 v1, 나머지 원소가 v2에 할당됨\n",
    "v1, v2"
   ]
  },
  {
   "cell_type": "code",
   "execution_count": 7,
   "id": "f88d9d32",
   "metadata": {},
   "outputs": [
    {
     "data": {
      "text/plain": [
       "([1, 2, 3, 4], 5)"
      ]
     },
     "execution_count": 7,
     "metadata": {},
     "output_type": "execute_result"
    }
   ],
   "source": [
    "*v1, v2 = lst\n",
    "v1, v2"
   ]
  },
  {
   "cell_type": "markdown",
   "id": "c5097ccc",
   "metadata": {},
   "source": [
    "### 표준입출력장치\n",
    "\n",
    "#### 표준입력장치\n",
    "- 키보드로 입력받아서 로직 처리 확인: input(prompt)\n",
    "\n",
    "#### 표준출력장치\n",
    "- 콘솔에 출력\n",
    "\n",
    "#### 함수의 용도, 인수의 역할 확인: help() 함수 이용\n",
    "- 예) print(values, sep, end, file, flush)"
   ]
  },
  {
   "cell_type": "code",
   "execution_count": 9,
   "id": "d9d4b49a",
   "metadata": {
    "scrolled": true
   },
   "outputs": [
    {
     "name": "stdout",
     "output_type": "stream",
     "text": [
      "Help on built-in function print in module builtins:\n",
      "\n",
      "print(...)\n",
      "    print(value, ..., sep=' ', end='\\n', file=sys.stdout, flush=False)\n",
      "    \n",
      "    Prints the values to a stream, or to sys.stdout by default.\n",
      "    Optional keyword arguments:\n",
      "    file:  a file-like object (stream); defaults to the current sys.stdout.\n",
      "    sep:   string inserted between values, default a space.\n",
      "    end:   string appended after the last value, default a newline.\n",
      "    flush: whether to forcibly flush the stream.\n",
      "\n"
     ]
    }
   ],
   "source": [
    "help(print)"
   ]
  },
  {
   "cell_type": "markdown",
   "id": "c249067a",
   "metadata": {},
   "source": [
    "built-in function print in module builtins: 기본 모듈에 포함된 내장함수 (자동설치)\n",
    "\n",
    "5개 인수의 역할: value, file, sep, end, flush\n",
    "- value: values 속성은 ,콤마에 의해서 구분됨\n",
    "- sep: 임의의 특수문자로 값을 구분\n",
    "- end: (print함수는 기본적으로 줄바꿈되나) 다음에 출력되는 내용이 현재 출력되는 내용과 구분되어 출력됨"
   ]
  },
  {
   "cell_type": "code",
   "execution_count": 10,
   "id": "28d6b363",
   "metadata": {},
   "outputs": [
    {
     "name": "stdout",
     "output_type": "stream",
     "text": [
      "value =  150\n"
     ]
    }
   ],
   "source": [
    "print('value = ', 10+20+30+40+50)"
   ]
  },
  {
   "cell_type": "code",
   "execution_count": 11,
   "id": "ebdd7e33",
   "metadata": {},
   "outputs": [
    {
     "name": "stdout",
     "output_type": "stream",
     "text": [
      "010-1234-5678\n"
     ]
    }
   ],
   "source": [
    "print('010','1234','5678', sep= '-')"
   ]
  },
  {
   "cell_type": "code",
   "execution_count": 12,
   "id": "2693dc14",
   "metadata": {},
   "outputs": [
    {
     "name": "stdout",
     "output_type": "stream",
     "text": [
      "value =  10, value =  20\n"
     ]
    }
   ],
   "source": [
    "print('value = ', 10, end = ', ')\n",
    "print('value = ', 20)"
   ]
  },
  {
   "cell_type": "markdown",
   "id": "202642a0",
   "metadata": {},
   "source": [
    "#### format과 양식문자\n",
    "- format(value, 'format')\n",
    "- print('%양식문자'%(값)) 형식으로 출력\n",
    "    - %d 10진수 정수\n",
    "    - %f 실수(%전체자릿수.소수점자릿수f)\n",
    "    - %s 문자열"
   ]
  },
  {
   "cell_type": "code",
   "execution_count": 13,
   "id": "7ff1a38d",
   "metadata": {},
   "outputs": [
    {
     "data": {
      "text/plain": [
       "'   3.142'"
      ]
     },
     "execution_count": 13,
     "metadata": {},
     "output_type": "execute_result"
    }
   ],
   "source": [
    "format(3.14159, \"8.3f\")"
   ]
  },
  {
   "cell_type": "code",
   "execution_count": 14,
   "id": "12961b74",
   "metadata": {},
   "outputs": [
    {
     "data": {
      "text/plain": [
       "'     10000'"
      ]
     },
     "execution_count": 14,
     "metadata": {},
     "output_type": "execute_result"
    }
   ],
   "source": [
    "format(10000, '10d')"
   ]
  },
  {
   "cell_type": "code",
   "execution_count": 16,
   "id": "357921d9",
   "metadata": {},
   "outputs": [
    {
     "data": {
      "text/plain": [
       "'125,000'"
      ]
     },
     "execution_count": 16,
     "metadata": {},
     "output_type": "execute_result"
    }
   ],
   "source": [
    "format(125000, '3,d')"
   ]
  },
  {
   "cell_type": "code",
   "execution_count": 17,
   "id": "335880d3",
   "metadata": {},
   "outputs": [
    {
     "name": "stdout",
     "output_type": "stream",
     "text": [
      "이름: 홍길동, 나이: 35, data = 125.46\n"
     ]
    }
   ],
   "source": [
    "name = '홍길동'\n",
    "age = 35\n",
    "price = 125.456\n",
    "print('이름: %s, 나이: %d, data = %.2f' %(name, age, price))"
   ]
  },
  {
   "cell_type": "code",
   "execution_count": 19,
   "id": "f7058695",
   "metadata": {},
   "outputs": [
    {
     "name": "stdout",
     "output_type": "stream",
     "text": [
      "이름: 홍길동, 나이: 35, data= 125.456\n"
     ]
    }
   ],
   "source": [
    "print('이름: {}, 나이: {}, data= {}'.format(name, age, price))"
   ]
  },
  {
   "cell_type": "code",
   "execution_count": 20,
   "id": "17a70462",
   "metadata": {},
   "outputs": [
    {
     "name": "stdout",
     "output_type": "stream",
     "text": [
      "이름: 35, 나이: 홍길동, data= 125.456\n"
     ]
    }
   ],
   "source": [
    "print('이름: {1}, 나이: {0}, data= {2}'.format(name, age, price))"
   ]
  },
  {
   "cell_type": "code",
   "execution_count": 21,
   "id": "9f68e15c",
   "metadata": {},
   "outputs": [
    {
     "name": "stdout",
     "output_type": "stream",
     "text": [
      "id input: 홍길동\n",
      "select * from member where uid = 홍길동\n"
     ]
    }
   ],
   "source": [
    "uid = input('id input: ')\n",
    "query = f'select * from member where uid = {uid}'\n",
    "print(query)"
   ]
  },
  {
   "cell_type": "markdown",
   "id": "29931896",
   "metadata": {},
   "source": [
    "#### 문자형 색인"
   ]
  },
  {
   "cell_type": "code",
   "execution_count": 22,
   "id": "80b82658",
   "metadata": {},
   "outputs": [
    {
     "data": {
      "text/plain": [
       "'P'"
      ]
     },
     "execution_count": 22,
     "metadata": {},
     "output_type": "execute_result"
    }
   ],
   "source": [
    "string = 'PYTHON'\n",
    "string[0]"
   ]
  },
  {
   "cell_type": "code",
   "execution_count": 26,
   "id": "46841db8",
   "metadata": {},
   "outputs": [
    {
     "data": {
      "text/plain": [
       "'H'"
      ]
     },
     "execution_count": 26,
     "metadata": {},
     "output_type": "execute_result"
    }
   ],
   "source": [
    "string[-3]"
   ]
  },
  {
   "cell_type": "code",
   "execution_count": 23,
   "id": "d4cb5df5",
   "metadata": {
    "scrolled": true
   },
   "outputs": [
    {
     "name": "stdout",
     "output_type": "stream",
     "text": [
      "python program\n"
     ]
    }
   ],
   "source": [
    "print('python' + ' program')"
   ]
  },
  {
   "cell_type": "code",
   "execution_count": 24,
   "id": "5576bbf2",
   "metadata": {},
   "outputs": [
    {
     "name": "stdout",
     "output_type": "stream",
     "text": [
      "python-3.7.exe\n"
     ]
    }
   ],
   "source": [
    "print('python-' + str(3.7) + '.exe')"
   ]
  },
  {
   "cell_type": "code",
   "execution_count": 25,
   "id": "14f4cf40",
   "metadata": {},
   "outputs": [
    {
     "name": "stdout",
     "output_type": "stream",
     "text": [
      "------------------------------\n"
     ]
    }
   ],
   "source": [
    "print('-'*30)"
   ]
  },
  {
   "cell_type": "markdown",
   "id": "b9e1cdbc",
   "metadata": {},
   "source": [
    "#### 문자열 처리 함수\n",
    "\n",
    "- s.swapcase() : 대소문자 서로 변경\n",
    "- s.lstrip()   : 문자열 s의 왼쪽공백 지우기\n",
    "- s.rstrip()   : 문자열 s의 오른쪽공백 지우기\n",
    "- s.strip()   : 문자열 s의 양쪽공백 지우기\n",
    "<br>\n",
    "- s.count(x)  : 문자x와 일치하는 문자의 갯수 반환\n",
    "- s.find(x)   : 문자x가 처음 나온 위치를 반환 (없으면 -1 반환)\n",
    "- s.rfind(x)  : 문자x가 처음 나온 위치를 오른쪽 끝에서부터 찾음\n",
    "- s.index(x)   : 문자x가 처음 나온 위치를 반환 (없으면 에러발생)\n",
    "<br>\n",
    "- '구분자'.join(s): 구분자로 결합\n",
    "- s.replace(x,r): 문자x를 문자r로 교체\n",
    "- s.startswith(\"H\"): H라는 문자로 시작되는지 여부 판단\n"
   ]
  },
  {
   "cell_type": "markdown",
   "id": "807fe59f",
   "metadata": {},
   "source": [
    "#### ESCAPE 문자\n",
    "- \\n 줄바꿈\n",
    "- \\t tab\n",
    "- \\r 캐리지 리턴, 다음줄 첫칸으로 이동 \n",
    "- \\f 폼 피드 처리, 한페이지 넘김\n",
    "- \\b 백스페이스 처리\n",
    "- \\\\ '\\\n",
    "- \\' '\n",
    "- \\\" \"\n",
    "- \\000 null 문자처리"
   ]
  },
  {
   "cell_type": "code",
   "execution_count": 28,
   "id": "a7f44e8f",
   "metadata": {},
   "outputs": [
    {
     "name": "stdout",
     "output_type": "stream",
     "text": [
      "\\ 이스케이프 문자\n",
      "\\ 이스케이프 문자\n"
     ]
    }
   ],
   "source": [
    "print('\\\\ 이스케이프 문자')\n",
    "print(r'\\ 이스케이프 문자')   # r: raw"
   ]
  },
  {
   "cell_type": "code",
   "execution_count": 29,
   "id": "45a5b841",
   "metadata": {},
   "outputs": [
    {
     "name": "stdout",
     "output_type": "stream",
     "text": [
      "path = C:\\python\\test\n",
      "path = C:\\python\\test\n"
     ]
    }
   ],
   "source": [
    "print('path =', r'C:\\python\\test')\n",
    "print('path =', 'C:\\\\python\\\\test')"
   ]
  },
  {
   "cell_type": "code",
   "execution_count": null,
   "id": "295d8eec",
   "metadata": {},
   "outputs": [],
   "source": []
  }
 ],
 "metadata": {
  "kernelspec": {
   "display_name": "Python 3 (ipykernel)",
   "language": "python",
   "name": "python3"
  },
  "language_info": {
   "codemirror_mode": {
    "name": "ipython",
    "version": 3
   },
   "file_extension": ".py",
   "mimetype": "text/x-python",
   "name": "python",
   "nbconvert_exporter": "python",
   "pygments_lexer": "ipython3",
   "version": "3.8.10"
  }
 },
 "nbformat": 4,
 "nbformat_minor": 5
}
