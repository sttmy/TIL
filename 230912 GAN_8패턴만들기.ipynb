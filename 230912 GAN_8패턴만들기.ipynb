{
 "cells": [
  {
   "cell_type": "code",
   "execution_count": 11,
   "metadata": {},
   "outputs": [
    {
     "name": "stdout",
     "output_type": "stream",
     "text": [
      "타입 torch.FloatTensor\n",
      "크기 torch.Size([2, 2])\n",
      "값 \n",
      "tensor([[1., 2.],\n",
      "        [3., 4.]])\n"
     ]
    }
   ],
   "source": [
    "import torch\n",
    "def describe(x):\n",
    "    print('타입 {}'.format(x.type()))\n",
    "    print('크기 {}'.format(x.shape))\n",
    "    print('값 \\n{}'.format(x))\n",
    "\n",
    "x = torch.FloatTensor([[1,2],[3,4]])\n",
    "describe(x)\n"
   ]
  },
  {
   "cell_type": "code",
   "execution_count": 17,
   "metadata": {},
   "outputs": [
    {
     "data": {
      "text/plain": [
       "tensor([1.])"
      ]
     },
     "execution_count": 17,
     "metadata": {},
     "output_type": "execute_result"
    }
   ],
   "source": [
    "torch.FloatTensor([1.0])"
   ]
  },
  {
   "cell_type": "code",
   "execution_count": 12,
   "metadata": {},
   "outputs": [
    {
     "data": {
      "text/plain": [
       "0.9556809561788133"
      ]
     },
     "execution_count": 12,
     "metadata": {},
     "output_type": "execute_result"
    }
   ],
   "source": [
    "import random\n",
    "random.uniform(0.8, 1.0)"
   ]
  },
  {
   "cell_type": "code",
   "execution_count": 14,
   "metadata": {},
   "outputs": [
    {
     "data": {
      "text/plain": [
       "tensor([0.9365, 0.0428, 0.9065, 0.1284])"
      ]
     },
     "execution_count": 14,
     "metadata": {},
     "output_type": "execute_result"
    }
   ],
   "source": [
    "generate_real()"
   ]
  },
  {
   "cell_type": "code",
   "execution_count": 19,
   "metadata": {},
   "outputs": [
    {
     "data": {
      "text/plain": [
       "tensor([0.9990, 0.6812, 0.6118, 0.7273])"
      ]
     },
     "execution_count": 19,
     "metadata": {},
     "output_type": "execute_result"
    }
   ],
   "source": [
    "generate_random(4)"
   ]
  },
  {
   "cell_type": "code",
   "execution_count": 1,
   "metadata": {},
   "outputs": [],
   "source": [
    "import torch\n",
    "import random\n",
    "\n",
    "# real 이미지 생성 함수\n",
    "def generate_real():         # 범위 안에 있는 데이터가 생성됨\n",
    "    # random.uniform(a, b)\n",
    "    real_data = torch.FloatTensor(\n",
    "        [random.uniform(0.8, 1.0),\n",
    "         random.uniform(0.0, 0.2),\n",
    "         random.uniform(0.8, 1.0),\n",
    "         random.uniform(0.0, 0.2)]\n",
    "    )\n",
    "    return real_data\n",
    "\n",
    "# random 이미지 생성 함수\n",
    "def generate_random(size):\n",
    "    # 평균 0 표준편차 1인 정규분포 난수 생성\n",
    "    random_data = torch.rand(size)\n",
    "    return random_data\n",
    "\n",
    "\n",
    "# real과 random은 데이터 패턴이 다름"
   ]
  },
  {
   "cell_type": "code",
   "execution_count": 2,
   "metadata": {},
   "outputs": [],
   "source": [
    "import torch.nn as nn\n",
    "import pandas as pd\n",
    "\n",
    "# 판별모형\n",
    "class Discriminator(nn.Module):\n",
    "    def __init__(self):\n",
    "        super().__init__()\n",
    "        self.model = nn.Sequential(\n",
    "            nn.Linear(4,3),    # 4개 숫자 input\n",
    "            nn.Sigmoid(),\n",
    "            nn.Linear(3,1),    # 마지막 1개 (0/1 가짜/진짜)\n",
    "            nn.Sigmoid()\n",
    "        )\n",
    "        self.loss_function = nn.MSELoss()\n",
    "        self.optimizer = torch.optim.SGD(self.parameters(), lr=0.01)\n",
    "        self.counter = 0\n",
    "        self.progress = []\n",
    "\n",
    "    def forward(self, inputs):\n",
    "        return self.model(inputs)    \n",
    "    \n",
    "    def train(self, inputs, targets):\n",
    "        outputs = self.forward(inputs)\n",
    "        loss = self.loss_function(outputs, targets)\n",
    "        self.counter += 1\n",
    "        if self.counter % 10 == 0:\n",
    "            self.progress.append(loss.item())\n",
    "        if self.counter % 10000 == 0:\n",
    "            print('counter=', self.counter)\n",
    "\n",
    "        self.optimizer.zero_grad()\n",
    "        loss.backward()\n",
    "        self.optimizer.step()\n",
    "        "
   ]
  },
  {
   "cell_type": "code",
   "execution_count": 4,
   "metadata": {},
   "outputs": [
    {
     "name": "stdout",
     "output_type": "stream",
     "text": [
      "counter= 10000\n",
      "counter= 20000\n",
      "0.750215470790863\n",
      "0.08804041147232056\n"
     ]
    }
   ],
   "source": [
    "D = Discriminator()\n",
    "\n",
    "for i in range(10000):\n",
    "    # real image\n",
    "    D.train(generate_real(), torch.FloatTensor([1.0]))\n",
    "    # fake image\n",
    "    D.train(generate_random(4), torch.FloatTensor([0.0]))\n",
    "\n",
    "print(D.forward(generate_real()).item())\n",
    "print(D.forward(generate_random(4)).item())"
   ]
  },
  {
   "cell_type": "code",
   "execution_count": 20,
   "metadata": {},
   "outputs": [
    {
     "name": "stdout",
     "output_type": "stream",
     "text": [
      "0.8194554448127747\n",
      "0.024130597710609436\n"
     ]
    }
   ],
   "source": [
    "print(D.forward(generate_real()).item())\n",
    "print(D.forward(generate_random(4)).item())\n",
    "\n",
    "# 0.8194554448127747      진짜데이터가 1일 확률이 81%\n",
    "# 0.024130597710609436    가짜데이터가 1일 확률이 2%"
   ]
  },
  {
   "cell_type": "code",
   "execution_count": 5,
   "metadata": {},
   "outputs": [
    {
     "data": {
      "text/plain": [
       "tensor([0.4718, 0.6862, 0.6513, 0.5550], grad_fn=<SigmoidBackward0>)"
      ]
     },
     "execution_count": 5,
     "metadata": {},
     "output_type": "execute_result"
    }
   ],
   "source": [
    "# 생성모형\n",
    "\n",
    "class Generator(nn.Module):\n",
    "    def __init__(self):\n",
    "        super().__init__()\n",
    "        self.model = nn.Sequential(\n",
    "            nn.Linear(1,3),\n",
    "            nn.Sigmoid(),\n",
    "            nn.Linear(3,4),\n",
    "            nn.Sigmoid()\n",
    "        )\n",
    "        \n",
    "        self.optimizer = torch.optim.SGD(self.parameters(), lr=0.01)\n",
    "        self.counter = 0\n",
    "        self.progress = []\n",
    "\n",
    "    def forward(self, inputs):\n",
    "        return self.model(inputs)    \n",
    "    \n",
    "    def train(self, D, inputs, targets):\n",
    "        g_output = self.forward(inputs)\n",
    "        d_output = D.forward(g_output)\n",
    "        loss = D.loss_function(d_output, targets)\n",
    "        self.counter += 1\n",
    "        if self.counter % 10 == 0:\n",
    "            self.progress.append(loss.item())\n",
    "            self.optimizer.zero_grad()\n",
    "            loss.backward()\n",
    "            self.optimizer.step()\n",
    "\n",
    "G = Generator()\n",
    "G.forward(torch.FloatTensor([0.5]))\n",
    "        "
   ]
  },
  {
   "cell_type": "code",
   "execution_count": 21,
   "metadata": {},
   "outputs": [
    {
     "data": {
      "text/plain": [
       "tensor([0.5000])"
      ]
     },
     "execution_count": 21,
     "metadata": {},
     "output_type": "execute_result"
    }
   ],
   "source": [
    "torch.FloatTensor([0.5])"
   ]
  },
  {
   "cell_type": "code",
   "execution_count": 23,
   "metadata": {},
   "outputs": [
    {
     "data": {
      "text/plain": [
       "tensor([0.6552, 0.1579, 0.7361, 0.2188], grad_fn=<SigmoidBackward0>)"
      ]
     },
     "execution_count": 23,
     "metadata": {},
     "output_type": "execute_result"
    }
   ],
   "source": [
    "G.forward(torch.FloatTensor([0.5]))"
   ]
  },
  {
   "cell_type": "code",
   "execution_count": 22,
   "metadata": {},
   "outputs": [
    {
     "data": {
      "text/plain": [
       "tensor([0.6552, 0.1579, 0.7361, 0.2188])"
      ]
     },
     "execution_count": 22,
     "metadata": {},
     "output_type": "execute_result"
    }
   ],
   "source": [
    "G.forward(torch.FloatTensor([0.5])).detach()"
   ]
  },
  {
   "cell_type": "code",
   "execution_count": 7,
   "metadata": {},
   "outputs": [
    {
     "name": "stdout",
     "output_type": "stream",
     "text": [
      "counter= 10000\n",
      "counter= 20000\n"
     ]
    }
   ],
   "source": [
    "D = Discriminator()\n",
    "G = Generator()\n",
    "image_list = []\n",
    "for i in range(10000):\n",
    "    # 판별모형 학습(true)\n",
    "    D.train(generate_real(), torch.FloatTensor([1.0]))\n",
    "\n",
    "    # 판별모형 학습(false)\n",
    "    D.train(G.forward(torch.FloatTensor([0.5])).detach(), torch.FloatTensor([0.0]))\n",
    "\n",
    "    # 생성모형학습\n",
    "    G.train(D, torch.FloatTensor([0.5]), torch.FloatTensor([1.0]))   # 잘못된 정보를 계속 제공\n",
    "\n",
    "    if i % 1000 == 0:\n",
    "        image_list.append(G.forward(torch.FloatTensor([0.5])).detach().numpy())"
   ]
  },
  {
   "cell_type": "code",
   "execution_count": 8,
   "metadata": {},
   "outputs": [
    {
     "data": {
      "text/plain": [
       "tensor([0.6552, 0.1579, 0.7361, 0.2188], grad_fn=<SigmoidBackward0>)"
      ]
     },
     "execution_count": 8,
     "metadata": {},
     "output_type": "execute_result"
    }
   ],
   "source": [
    "G.forward(torch.FloatTensor([0.5]))    \n",
    "# 훈련이 끝나고 보니, [0.8 0.2 0.8 0.2] (진짜데이터 패턴)에 근접한 결과를 내놓고 있음"
   ]
  },
  {
   "cell_type": "code",
   "execution_count": 9,
   "metadata": {},
   "outputs": [
    {
     "data": {
      "text/plain": [
       "[array([0.3631319 , 0.3314959 , 0.46434212, 0.48480612], dtype=float32),\n",
       " array([0.36359835, 0.3295761 , 0.46727985, 0.48485368], dtype=float32),\n",
       " array([0.36552274, 0.32605368, 0.47276288, 0.48379442], dtype=float32),\n",
       " array([0.37069348, 0.31940493, 0.48290485, 0.47958964], dtype=float32),\n",
       " array([0.38203833, 0.30749774, 0.50050306, 0.46835124], dtype=float32),\n",
       " array([0.40248474, 0.28931326, 0.5270898 , 0.44627577], dtype=float32),\n",
       " array([0.4332192 , 0.2662074 , 0.5614734 , 0.41287047], dtype=float32),\n",
       " array([0.47434387, 0.24027242, 0.60142666, 0.3702602 ], dtype=float32),\n",
       " array([0.5259178 , 0.21295333, 0.6449855 , 0.3213585 ], dtype=float32),\n",
       " array([0.58735234, 0.18513511, 0.6905783 , 0.2694485 ], dtype=float32)]"
      ]
     },
     "execution_count": 9,
     "metadata": {},
     "output_type": "execute_result"
    }
   ],
   "source": [
    "image_list  # 생성된 패턴"
   ]
  },
  {
   "cell_type": "code",
   "execution_count": 10,
   "metadata": {},
   "outputs": [
    {
     "data": {
      "image/png": "[encoded data removed]",
      "text/plain": [
       "<Figure size 1600x800 with 1 Axes>"
      ]
     },
     "metadata": {},
     "output_type": "display_data"
    }
   ],
   "source": [
    "import matplotlib.pyplot as plt\n",
    "\n",
    "import os    \n",
    "os.environ['KMP_DUPLICATE_LIB_OK']='True'\n",
    "\n",
    "import numpy as np\n",
    "plt.figure(figsize = (16,8))\n",
    "plt.imshow(np.array(image_list).T, interpolation='none', cmap='Blues')\n",
    "plt.show()\n",
    "\n"
   ]
  },
  {
   "cell_type": "code",
   "execution_count": null,
   "metadata": {},
   "outputs": [],
   "source": []
  }
 ],
 "metadata": {
  "kernelspec": {
   "display_name": "Python 3",
   "language": "python",
   "name": "python3"
  },
  "language_info": {
   "codemirror_mode": {
    "name": "ipython",
    "version": 3
   },
   "file_extension": ".py",
   "mimetype": "text/x-python",
   "name": "python",
   "nbconvert_exporter": "python",
   "pygments_lexer": "ipython3",
   "version": "3.9.13"
  },
  "orig_nbformat": 4
 },
 "nbformat": 4,
 "nbformat_minor": 2
}
