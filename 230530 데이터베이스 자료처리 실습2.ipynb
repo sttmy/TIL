{
 "cells": [
  {
   "cell_type": "code",
   "execution_count": 1,
   "id": "b058db3e",
   "metadata": {},
   "outputs": [
    {
     "name": "stdout",
     "output_type": "stream",
     "text": [
      "(3, 35, 5)\n"
     ]
    }
   ],
   "source": [
    "import sqlite3\n",
    "print(sqlite3.sqlite_version_info)"
   ]
  },
  {
   "cell_type": "code",
   "execution_count": 11,
   "id": "07c07721",
   "metadata": {},
   "outputs": [
    {
     "name": "stdout",
     "output_type": "stream",
     "text": [
      "[(1, 'Apple', 3, 3000), (2, 'Orange', 2, 5000), (3, 'Strawberry', 0, 0), (4, 'Melon', 0, 20000)]\n"
     ]
    }
   ],
   "source": [
    "try:\n",
    "    conn = sqlite3.connect('Data/sqlite_fruit_db')\n",
    "    cursor = conn.cursor()\n",
    "    \n",
    "    # (1) 테이블 생성\n",
    "    sql = \"\"\"create table if not exists fruits(\n",
    "    code integer primary key,\n",
    "    name text(30) unique not null,\n",
    "    num integer default 0,\n",
    "    price integer default 0\n",
    "    )\"\"\"\n",
    "    cursor.execute(sql)\n",
    "    \n",
    "    # (2) 레코드 추가\n",
    "    cursor.execute(\"insert into fruits values(1, 'Apple', 3, 3000)\")\n",
    "    cursor.execute(\"insert into fruits values(2, 'Orange', 2, 5000)\")\n",
    "    cursor.execute(\"insert into fruits(code, name) values(3, 'Strawberry')\")\n",
    "    cursor.execute(\"insert into fruits(code, name, price) values(4, 'Melon', 20000)\")\n",
    "    conn.commit()\n",
    "    \n",
    "    # (3) 레코드 조회\n",
    "    sql = \"select * from fruits\"\n",
    "    cursor.execute(sql)\n",
    "    rows = cursor.fetchall()\n",
    "    print(rows)\n",
    "    \n",
    "except Exception as e:\n",
    "    print(\"DB연동 ERROR: \", e)\n",
    "    conn.rollback()\n",
    "\n",
    "finally:\n",
    "    cursor.close()   \n",
    "    conn.close()  "
   ]
  },
  {
   "cell_type": "markdown",
   "id": "4e4278bf",
   "metadata": {},
   "source": [
    "### 레코드 조회"
   ]
  },
  {
   "cell_type": "code",
   "execution_count": 18,
   "id": "5961ca01",
   "metadata": {},
   "outputs": [
    {
     "name": "stdout",
     "output_type": "stream",
     "text": [
      "1 Apple 3 3000\n",
      "2 Orange 2 5000\n",
      "3 Strawberry 0 0\n",
      "4 Melon 0 20000\n",
      "6 Banana 5 4000\n",
      "검색된 레코드 수:  5\n",
      "\n",
      "상품명 입력: \n",
      "(1, 'Apple', 3, 3000)\n",
      "(2, 'Orange', 2, 5000)\n",
      "(3, 'Strawberry', 0, 0)\n",
      "(4, 'Melon', 0, 20000)\n",
      "(6, 'Banana', 5, 4000)\n"
     ]
    }
   ],
   "source": [
    "try:\n",
    "    conn = sqlite3.connect('Data/sqlite_fruit_db')\n",
    "    cursor = conn.cursor()\n",
    "    \n",
    "    # (3) 레코드 조회\n",
    "    sql = \"select * from fruits\"\n",
    "    cursor.execute(sql)\n",
    "    rows = cursor.fetchall()\n",
    "    \n",
    "    for row in rows:\n",
    "        print(row[0], row[1], row[2], row[3])\n",
    "    print('검색된 레코드 수: ', len(rows))\n",
    "    \n",
    "    # (4) 상품명 조회\n",
    "    name = input('\\n상품명 입력: ')\n",
    "    sql = f\"select * from fruits where name like '%{name}%'\"\n",
    "    cursor.execute(sql)\n",
    "    rows = cursor.fetchall()\n",
    "    \n",
    "    if rows:\n",
    "        for row in rows:\n",
    "            print(row)\n",
    "    else:\n",
    "        print(\"검색된 레코드 없음\")\n",
    "    \n",
    "except Exception as e:\n",
    "    print(\"DB연동 ERROR: \", e)\n",
    "    conn.rollback()\n",
    "\n",
    "finally:\n",
    "    cursor.close()   \n",
    "    conn.close()  "
   ]
  },
  {
   "cell_type": "markdown",
   "id": "a43dcb60",
   "metadata": {},
   "source": [
    "### 레코드 추가"
   ]
  },
  {
   "cell_type": "code",
   "execution_count": 16,
   "id": "215d0e08",
   "metadata": {},
   "outputs": [
    {
     "name": "stdout",
     "output_type": "stream",
     "text": [
      "code 입력: 6\n",
      "name 입력: Banana\n",
      "갯수 입력: 5\n",
      "가격 입력: 4000\n",
      "1 Apple 3 3000\n",
      "2 Orange 2 5000\n",
      "3 Strawberry 0 0\n",
      "4 Melon 0 20000\n",
      "6 Banana 5 4000\n",
      "검색된 레코드 수:  5\n",
      "\n",
      "상품명 입력: \n",
      "(1, 'Apple', 3, 3000)\n",
      "(2, 'Orange', 2, 5000)\n",
      "(3, 'Strawberry', 0, 0)\n",
      "(4, 'Melon', 0, 20000)\n",
      "(6, 'Banana', 5, 4000)\n"
     ]
    }
   ],
   "source": [
    "try:\n",
    "    conn = sqlite3.connect('Data/sqlite_fruit_db')\n",
    "    cursor = conn.cursor()\n",
    "    \n",
    "    # (5) 레코드 추가\n",
    "    code = int(input('code 입력: '))\n",
    "    name = input('name 입력: ')\n",
    "    num = int(input('갯수 입력: '))\n",
    "    price = int(input('가격 입력: '))\n",
    "    \n",
    "    sql = f\"insert into fruits values({code}, '{name}', {num}, {price})\"\n",
    "    cursor.execute(sql)\n",
    "    conn.commit()\n",
    "    \n",
    "    # (3) 레코드 조회\n",
    "    sql = \"select * from fruits\"\n",
    "    cursor.execute(sql)\n",
    "    rows = cursor.fetchall()\n",
    "    \n",
    "    for row in rows:\n",
    "        print(row[0], row[1], row[2], row[3])\n",
    "    print('검색된 레코드 수: ', len(rows))\n",
    "    \n",
    "    # (4) 상품명 조회\n",
    "    name = input('\\n상품명 입력: ')\n",
    "    sql = f\"select * from fruits where name like '%{name}%'\"\n",
    "    cursor.execute(sql)\n",
    "    rows = cursor.fetchall()\n",
    "    \n",
    "    if rows:\n",
    "        for row in rows:\n",
    "            print(row)\n",
    "    else:\n",
    "        print(\"검색된 레코드 없음\")\n",
    "    \n",
    "except Exception as e:\n",
    "    print(\"DB연동 ERROR: \", e)\n",
    "    conn.rollback()\n",
    "\n",
    "finally:\n",
    "    cursor.close()   \n",
    "    conn.close()  "
   ]
  },
  {
   "cell_type": "markdown",
   "id": "e358f411",
   "metadata": {},
   "source": [
    "### 레코드 수정"
   ]
  },
  {
   "cell_type": "code",
   "execution_count": 20,
   "id": "8fcde157",
   "metadata": {},
   "outputs": [
    {
     "name": "stdout",
     "output_type": "stream",
     "text": [
      "수정하려는 code 입력: 6\n",
      "수정 갯수 입력: 2\n",
      "수정 가격 입력: 1500\n",
      "1 Apple 3 3000\n",
      "2 Orange 2 5000\n",
      "3 Strawberry 0 0\n",
      "4 Melon 0 20000\n",
      "6 Banana 2 1500\n",
      "검색된 레코드 수:  5\n",
      "\n",
      "상품명 입력: False\n",
      "검색된 레코드 없음\n"
     ]
    }
   ],
   "source": [
    "try:\n",
    "    conn = sqlite3.connect('Data/sqlite_fruit_db')\n",
    "    cursor = conn.cursor()\n",
    "    \n",
    "    # (6) 레코드 수정\n",
    "    code = int(input('수정하려는 code 입력: '))\n",
    "    num = int(input('수정 갯수 입력: '))\n",
    "    price = int(input('수정 가격 입력: '))\n",
    "    \n",
    "    sql = f\"update fruits set num = {num}, price = {price} where code = {code}\"\n",
    "    cursor.execute(sql)\n",
    "    conn.commit()\n",
    "    \n",
    "    # (3) 레코드 조회\n",
    "    sql = \"select * from fruits\"\n",
    "    cursor.execute(sql)\n",
    "    rows = cursor.fetchall()\n",
    "    \n",
    "    for row in rows:\n",
    "        print(row[0], row[1], row[2], row[3])\n",
    "    print('검색된 레코드 수: ', len(rows))\n",
    "    \n",
    "    # (4) 상품명 조회\n",
    "    name = input('\\n상품명 입력: ')\n",
    "    sql = f\"select * from fruits where name like '%{name}%'\"\n",
    "    cursor.execute(sql)\n",
    "    rows = cursor.fetchall()\n",
    "    \n",
    "    if rows:\n",
    "        for row in rows:\n",
    "            print(row)\n",
    "    else:\n",
    "        print(\"검색된 레코드 없음\")\n",
    "    \n",
    "except Exception as e:\n",
    "    print(\"DB연동 ERROR: \", e)\n",
    "    conn.rollback()\n",
    "\n",
    "finally:\n",
    "    cursor.close()   \n",
    "    conn.close()  "
   ]
  },
  {
   "cell_type": "markdown",
   "id": "e747e5d6",
   "metadata": {},
   "source": [
    "### 레코드 삭제"
   ]
  },
  {
   "cell_type": "code",
   "execution_count": 21,
   "id": "8121c758",
   "metadata": {},
   "outputs": [
    {
     "name": "stdout",
     "output_type": "stream",
     "text": [
      "삭제하려는 code 입력: 6\n",
      "1 Apple 3 3000\n",
      "2 Orange 2 5000\n",
      "3 Strawberry 0 0\n",
      "4 Melon 0 20000\n",
      "검색된 레코드 수:  4\n"
     ]
    }
   ],
   "source": [
    "try:\n",
    "    conn = sqlite3.connect('Data/sqlite_fruit_db')\n",
    "    cursor = conn.cursor()\n",
    "    \n",
    "    # (6) 레코드 삭제\n",
    "    code = int(input('삭제하려는 code 입력: '))\n",
    "    sql = f\"delete from fruits where code = {code}\"\n",
    "    cursor.execute(sql)\n",
    "    conn.commit()\n",
    "    \n",
    "    # (3) 레코드 조회\n",
    "    sql = \"select * from fruits\"\n",
    "    cursor.execute(sql)\n",
    "    rows = cursor.fetchall()\n",
    "    \n",
    "    for row in rows:\n",
    "        print(row[0], row[1], row[2], row[3])\n",
    "    print('검색된 레코드 수: ', len(rows))\n",
    "    \n",
    "except Exception as e:\n",
    "    print(\"DB연동 ERROR: \", e)\n",
    "    conn.rollback()\n",
    "\n",
    "finally:\n",
    "    cursor.close()   \n",
    "    conn.close()  "
   ]
  },
  {
   "cell_type": "markdown",
   "id": "78dc91de",
   "metadata": {},
   "source": [
    "## Primary key 변경"
   ]
  },
  {
   "cell_type": "code",
   "execution_count": 22,
   "id": "d3d30c12",
   "metadata": {},
   "outputs": [
    {
     "name": "stdout",
     "output_type": "stream",
     "text": [
      "[(1, 'Apple', 3, 3000), (2, 'Orange', 2, 5000), (3, 'Strawberry', 0, 0), (4, 'Melon', 0, 20000)]\n"
     ]
    }
   ],
   "source": [
    "try:\n",
    "    conn = sqlite3.connect('Data/sqlite_fruit2_db')\n",
    "    cursor = conn.cursor()\n",
    "    \n",
    "    # (1) 테이블 생성\n",
    "    sql = \"\"\"create table if not exists fruits(\n",
    "    code integer unique not null,\n",
    "    name text(30) unique not null primary key,\n",
    "    num integer default 0,\n",
    "    price integer default 0\n",
    "    )\"\"\"\n",
    "    cursor.execute(sql)\n",
    "    \n",
    "    # (2) 레코드 추가\n",
    "    cursor.execute(\"insert into fruits values(1, 'Apple', 3, 3000)\")\n",
    "    cursor.execute(\"insert into fruits values(2, 'Orange', 2, 5000)\")\n",
    "    cursor.execute(\"insert into fruits(code, name) values(3, 'Strawberry')\")\n",
    "    cursor.execute(\"insert into fruits(code, name, price) values(4, 'Melon', 20000)\")\n",
    "    conn.commit()\n",
    "    \n",
    "    # (3) 레코드 조회\n",
    "    sql = \"select * from fruits\"\n",
    "    cursor.execute(sql)\n",
    "    rows = cursor.fetchall()\n",
    "    print(rows)\n",
    "    \n",
    "except Exception as e:\n",
    "    print(\"DB연동 ERROR: \", e)\n",
    "    conn.rollback()\n",
    "\n",
    "finally:\n",
    "    cursor.close()   \n",
    "    conn.close()  "
   ]
  },
  {
   "cell_type": "markdown",
   "id": "92cca3c8",
   "metadata": {},
   "source": [
    "### 레코드 수정"
   ]
  },
  {
   "cell_type": "code",
   "execution_count": 28,
   "id": "6960e6fc",
   "metadata": {},
   "outputs": [
    {
     "name": "stdout",
     "output_type": "stream",
     "text": [
      "수정하려는 과일이름 입력: Strawberry\n",
      "수정 갯수 입력: 1\n",
      "수정 가격 입력: 8000\n",
      "1 Apple 3 3000\n",
      "2 Orange 2 5000\n",
      "3 Strawberry 1 8000\n",
      "4 Melon 2 15000\n",
      "검색된 레코드 수:  4\n",
      "\n",
      "상품명 입력: Melon\n",
      "(4, 'Melon', 2, 15000)\n"
     ]
    }
   ],
   "source": [
    "try:\n",
    "    conn = sqlite3.connect('Data/sqlite_fruit_db')\n",
    "    cursor = conn.cursor()\n",
    "    \n",
    "    # (6) 레코드 수정\n",
    "    name = input('수정하려는 과일이름 입력: ')\n",
    "    num = int(input('수정 갯수 입력: '))\n",
    "    price = int(input('수정 가격 입력: '))\n",
    "    \n",
    "    sql = f\"update fruits set num = {num}, price = {price} where name = '{name}'\"\n",
    "    cursor.execute(sql)\n",
    "    conn.commit()\n",
    "    \n",
    "    # (3) 레코드 조회\n",
    "    sql = \"select * from fruits\"\n",
    "    cursor.execute(sql)\n",
    "    rows = cursor.fetchall()\n",
    "    \n",
    "    for row in rows:\n",
    "        print(row[0], row[1], row[2], row[3])\n",
    "    print('검색된 레코드 수: ', len(rows))\n",
    "    \n",
    "    # (4) 상품명 조회\n",
    "    name = input('\\n상품명 입력: ')\n",
    "    sql = f\"select * from fruits where name like '%{name}%'\"\n",
    "    cursor.execute(sql)\n",
    "    rows = cursor.fetchall()\n",
    "    \n",
    "    if rows:\n",
    "        for row in rows:\n",
    "            print(row)\n",
    "    else:\n",
    "        print(\"검색된 레코드 없음\")\n",
    "    \n",
    "except Exception as e:\n",
    "    print(\"DB연동 ERROR: \", e)\n",
    "    conn.rollback()\n",
    "\n",
    "finally:\n",
    "    cursor.close()   \n",
    "    conn.close()  "
   ]
  },
  {
   "cell_type": "markdown",
   "id": "3f051bde",
   "metadata": {},
   "source": [
    "### 상품코드 조회"
   ]
  },
  {
   "cell_type": "code",
   "execution_count": 33,
   "id": "d47966c3",
   "metadata": {},
   "outputs": [
    {
     "name": "stdout",
     "output_type": "stream",
     "text": [
      "\n",
      "상품명 입력: Watermelon\n",
      "검색된 레코드 없음\n"
     ]
    }
   ],
   "source": [
    "try:\n",
    "    conn = sqlite3.connect('Data/sqlite_fruit_db')\n",
    "    cursor = conn.cursor()\n",
    "    \n",
    "    # (4) 상품명 조회\n",
    "    name = input('\\n상품명 입력: ')\n",
    "    sql = f\"select * from fruits where name like '%{name}%'\"\n",
    "    cursor.execute(sql)\n",
    "    rows = cursor.fetchall()\n",
    "    \n",
    "    if rows:\n",
    "        for row in rows:\n",
    "            print(row[1],'의 상품코드는', row[0])\n",
    "    else:\n",
    "        print(\"검색된 레코드 없음\")\n",
    "    \n",
    "except Exception as e:\n",
    "    print(\"DB연동 ERROR: \", e)\n",
    "    conn.rollback()\n",
    "\n",
    "finally:\n",
    "    cursor.close()   \n",
    "    conn.close()  "
   ]
  },
  {
   "cell_type": "code",
   "execution_count": 34,
   "id": "dba25b09",
   "metadata": {},
   "outputs": [
    {
     "name": "stdout",
     "output_type": "stream",
     "text": [
      "\n",
      "상품명 입력: Apple\n",
      "Apple 의 상품코드는 1\n"
     ]
    }
   ],
   "source": [
    "try:\n",
    "    conn = sqlite3.connect('Data/sqlite_fruit_db')\n",
    "    cursor = conn.cursor()\n",
    "    \n",
    "    # (4) 상품명 조회\n",
    "    name = input('\\n상품명 입력: ')\n",
    "    sql = f\"select * from fruits where name like '%{name}%'\"\n",
    "    cursor.execute(sql)\n",
    "    rows = cursor.fetchall()\n",
    "    \n",
    "    if rows:\n",
    "        for row in rows:\n",
    "            print(row[1],'의 상품코드는', row[0])\n",
    "    else:\n",
    "        print(\"검색된 레코드 없음\")\n",
    "    \n",
    "except Exception as e:\n",
    "    print(\"DB연동 ERROR: \", e)\n",
    "    conn.rollback()\n",
    "\n",
    "finally:\n",
    "    cursor.close()   \n",
    "    conn.close()  "
   ]
  },
  {
   "cell_type": "code",
   "execution_count": null,
   "id": "e3db8cd8",
   "metadata": {},
   "outputs": [],
   "source": []
  }
 ],
 "metadata": {
  "kernelspec": {
   "display_name": "Python 3 (ipykernel)",
   "language": "python",
   "name": "python3"
  },
  "language_info": {
   "codemirror_mode": {
    "name": "ipython",
    "version": 3
   },
   "file_extension": ".py",
   "mimetype": "text/x-python",
   "name": "python",
   "nbconvert_exporter": "python",
   "pygments_lexer": "ipython3",
   "version": "3.8.10"
  }
 },
 "nbformat": 4,
 "nbformat_minor": 5
}
