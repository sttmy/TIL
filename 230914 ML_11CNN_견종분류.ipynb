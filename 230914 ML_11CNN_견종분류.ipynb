{
 "cells": [
  {
   "cell_type": "code",
   "execution_count": 1,
   "metadata": {},
   "outputs": [],
   "source": [
    "import cv2 as cv\n",
    "import numpy as np\n",
    "import tensorflow as tf\n",
    "import pickle\n",
    "import sys\n",
    "from PyQt5.QtWidgets import *\n",
    "\n",
    "cnn=tf.keras.models.load_model('Data/dog/cnn_for_stanford_dogs.h5')    \n",
    "dog_species=pickle.load(open('Data/dog/dog_species_names.txt','rb'))    \n",
    "        \n",
    "class DogSpeciesRecognition(QMainWindow):\n",
    "    def __init__(self) :\n",
    "        super().__init__()\n",
    "        self.setGeometry(200,200,700,100)\n",
    "      \n",
    "        fileButton=QPushButton('open image',self)\n",
    "        recognitionButton=QPushButton('classification',self)\n",
    "        quitButton=QPushButton('quit',self)\n",
    "        \n",
    "        fileButton.setGeometry(10,10,100,30)\n",
    "        recognitionButton.setGeometry(110,10,100,30)\n",
    "        quitButton.setGeometry(510,10,100,30)\n",
    "        \n",
    "        fileButton.clicked.connect(self.pictureOpenFunction)\n",
    "        recognitionButton.clicked.connect(self.recognitionFunction)                        \n",
    "        quitButton.clicked.connect(self.quitFunction)\n",
    "        \n",
    "    def pictureOpenFunction(self):\n",
    "        fname=QFileDialog.getOpenFileName(self,'강아지 사진 읽기','./')          \n",
    "        self.img=cv.imread(fname[0])\n",
    "        if self.img is None: sys.exit('파일을 찾을 수 없습니다.')  \n",
    "        \n",
    "        cv.imshow('Dog image',self.img)          \n",
    "        \n",
    "    def recognitionFunction(self):\n",
    "        x=np.reshape(cv.resize(self.img,(224,224)),(1,224,224,3))    \n",
    "        res=cnn.predict(x)[0]    \n",
    "        top5=np.argsort(-res)[:5]\n",
    "        top5_dog_species_names=[dog_species[i] for i in top5]\n",
    "        for i in range(5):\n",
    "            prob='('+str(res[top5[i]])+')'\n",
    "            name=str(top5_dog_species_names[i]).split('-')[1]\n",
    "            print(prob+name)\n",
    "        cv.imshow('Dog image',self.img)  \n",
    "                \n",
    "    def quitFunction(self):\n",
    "        cv.destroyAllWindows()        \n",
    "        self.close()\n",
    "            "
   ]
  },
  {
   "cell_type": "code",
   "execution_count": 2,
   "metadata": {},
   "outputs": [
    {
     "name": "stdout",
     "output_type": "stream",
     "text": [
      "1/1 [==============================] - 4s 4s/step\n",
      "(0.99989307)American_Staffordshire_terrier\n",
      "(9.3517854e-05)Staffordshire_bullterrier\n",
      "(6.531223e-06)Great_Dane\n",
      "(4.8220304e-06)boxer\n",
      "(5.685337e-07)Boston_bull\n",
      "1/1 [==============================] - 0s 35ms/step\n",
      "(0.43101802)English_setter\n",
      "(0.4287178)Great_Dane\n",
      "(0.07676201)African_hunting_dog\n",
      "(0.03810441)whippet\n",
      "(0.005231892)German_short\n",
      "1/1 [==============================] - 0s 35ms/step\n",
      "(0.9860728)Samoyed\n",
      "(0.0072063813)Pomeranian\n",
      "(0.0050725453)Maltese_dog\n",
      "(0.0007636242)Eskimo_dog\n",
      "(0.0004153709)toy_poodle\n",
      "1/1 [==============================] - 0s 35ms/step\n",
      "(0.48816445)Labrador_retriever\n",
      "(0.33853865)kuvasz\n",
      "(0.07435165)Sealyham_terrier\n",
      "(0.0150198685)Bedlington_terrier\n",
      "(0.0068381275)American_Staffordshire_terrier\n"
     ]
    },
    {
     "data": {
      "text/plain": [
       "0"
      ]
     },
     "execution_count": 2,
     "metadata": {},
     "output_type": "execute_result"
    }
   ],
   "source": [
    "app=QApplication(sys.argv)\n",
    "win=DogSpeciesRecognition()\n",
    "win.show()\n",
    "app.exec_()"
   ]
  }
 ],
 "metadata": {
  "kernelspec": {
   "display_name": "Python 3",
   "language": "python",
   "name": "python3"
  },
  "language_info": {
   "codemirror_mode": {
    "name": "ipython",
    "version": 3
   },
   "file_extension": ".py",
   "mimetype": "text/x-python",
   "name": "python",
   "nbconvert_exporter": "python",
   "pygments_lexer": "ipython3",
   "version": "3.9.13"
  },
  "orig_nbformat": 4
 },
 "nbformat": 4,
 "nbformat_minor": 2
}
