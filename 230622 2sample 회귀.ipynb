{
 "cells": [
  {
   "cell_type": "code",
   "execution_count": 38,
   "id": "18e3325e",
   "metadata": {},
   "outputs": [],
   "source": [
    "import seaborn as sns\n",
    "import pandas as pd\n",
    "import numpy as np\n",
    "from sklearn.model_selection import train_test_split\n",
    "\n",
    "df = sns.load_dataset('mpg')\n",
    "x_train, x_test, y_train, y_test = train_test_split(df, df['mpg'], test_size = 0.2, random_state = 42)"
   ]
  },
  {
   "cell_type": "code",
   "execution_count": 39,
   "id": "8d3b4222",
   "metadata": {},
   "outputs": [
    {
     "data": {
      "text/html": [
       "<div>\n",
       "<style scoped>\n",
       "    .dataframe tbody tr th:only-of-type {\n",
       "        vertical-align: middle;\n",
       "    }\n",
       "\n",
       "    .dataframe tbody tr th {\n",
       "        vertical-align: top;\n",
       "    }\n",
       "\n",
       "    .dataframe thead th {\n",
       "        text-align: right;\n",
       "    }\n",
       "</style>\n",
       "<table border=\"1\" class=\"dataframe\">\n",
       "  <thead>\n",
       "    <tr style=\"text-align: right;\">\n",
       "      <th></th>\n",
       "      <th>mpg</th>\n",
       "      <th>cylinders</th>\n",
       "      <th>displacement</th>\n",
       "      <th>horsepower</th>\n",
       "      <th>weight</th>\n",
       "      <th>acceleration</th>\n",
       "      <th>model_year</th>\n",
       "      <th>origin</th>\n",
       "      <th>name</th>\n",
       "    </tr>\n",
       "  </thead>\n",
       "  <tbody>\n",
       "    <tr>\n",
       "      <th>3</th>\n",
       "      <td>16.0</td>\n",
       "      <td>8</td>\n",
       "      <td>304.0</td>\n",
       "      <td>150.0</td>\n",
       "      <td>3433</td>\n",
       "      <td>12.0</td>\n",
       "      <td>70</td>\n",
       "      <td>usa</td>\n",
       "      <td>amc rebel sst</td>\n",
       "    </tr>\n",
       "    <tr>\n",
       "      <th>18</th>\n",
       "      <td>27.0</td>\n",
       "      <td>4</td>\n",
       "      <td>97.0</td>\n",
       "      <td>88.0</td>\n",
       "      <td>2130</td>\n",
       "      <td>14.5</td>\n",
       "      <td>70</td>\n",
       "      <td>japan</td>\n",
       "      <td>datsun pl510</td>\n",
       "    </tr>\n",
       "    <tr>\n",
       "      <th>376</th>\n",
       "      <td>37.0</td>\n",
       "      <td>4</td>\n",
       "      <td>91.0</td>\n",
       "      <td>68.0</td>\n",
       "      <td>2025</td>\n",
       "      <td>18.2</td>\n",
       "      <td>82</td>\n",
       "      <td>japan</td>\n",
       "      <td>mazda glc custom l</td>\n",
       "    </tr>\n",
       "  </tbody>\n",
       "</table>\n",
       "</div>"
      ],
      "text/plain": [
       "      mpg  cylinders  displacement  horsepower  weight  acceleration  \\\n",
       "3    16.0          8         304.0       150.0    3433          12.0   \n",
       "18   27.0          4          97.0        88.0    2130          14.5   \n",
       "376  37.0          4          91.0        68.0    2025          18.2   \n",
       "\n",
       "     model_year origin                name  \n",
       "3            70    usa       amc rebel sst  \n",
       "18           70  japan        datsun pl510  \n",
       "376          82  japan  mazda glc custom l  "
      ]
     },
     "execution_count": 39,
     "metadata": {},
     "output_type": "execute_result"
    }
   ],
   "source": [
    "x_train.head(3)"
   ]
  },
  {
   "cell_type": "code",
   "execution_count": 40,
   "id": "93ff8833",
   "metadata": {},
   "outputs": [
    {
     "data": {
      "text/plain": [
       "mpg             0\n",
       "cylinders       0\n",
       "displacement    0\n",
       "horsepower      5\n",
       "weight          0\n",
       "acceleration    0\n",
       "model_year      0\n",
       "origin          0\n",
       "name            0\n",
       "dtype: int64"
      ]
     },
     "execution_count": 40,
     "metadata": {},
     "output_type": "execute_result"
    }
   ],
   "source": [
    "x_train.isnull().sum()"
   ]
  },
  {
   "cell_type": "code",
   "execution_count": 41,
   "id": "83ab0ccf",
   "metadata": {},
   "outputs": [
    {
     "data": {
      "text/plain": [
       "90.0     17\n",
       "150.0    16\n",
       "100.0    16\n",
       "88.0     15\n",
       "105.0    12\n",
       "         ..\n",
       "122.0     1\n",
       "113.0     1\n",
       "208.0     1\n",
       "79.0      1\n",
       "87.0      1\n",
       "Name: horsepower, Length: 89, dtype: int64"
      ]
     },
     "execution_count": 41,
     "metadata": {},
     "output_type": "execute_result"
    }
   ],
   "source": [
    "x_train.horsepower.value_counts()"
   ]
  },
  {
   "cell_type": "code",
   "execution_count": 42,
   "id": "fc5b6a5c",
   "metadata": {},
   "outputs": [],
   "source": [
    "x_train['horsepower'] = x_train.horsepower.fillna(x_train.horsepower.median())\n",
    "x_test['horsepower'] = x_test.horsepower.fillna(x_test.horsepower.median())"
   ]
  },
  {
   "cell_type": "code",
   "execution_count": 43,
   "id": "895fd4d7",
   "metadata": {},
   "outputs": [
    {
     "data": {
      "text/plain": [
       "mpg             0\n",
       "cylinders       0\n",
       "displacement    0\n",
       "horsepower      0\n",
       "weight          0\n",
       "acceleration    0\n",
       "model_year      0\n",
       "origin          0\n",
       "name            0\n",
       "dtype: int64"
      ]
     },
     "execution_count": 43,
     "metadata": {},
     "output_type": "execute_result"
    }
   ],
   "source": [
    "x_train.isnull().sum()"
   ]
  },
  {
   "cell_type": "code",
   "execution_count": 44,
   "id": "a7e97e83",
   "metadata": {},
   "outputs": [
    {
     "name": "stdout",
     "output_type": "stream",
     "text": [
      "<class 'pandas.core.frame.DataFrame'>\n",
      "Int64Index: 318 entries, 3 to 102\n",
      "Data columns (total 9 columns):\n",
      " #   Column        Non-Null Count  Dtype  \n",
      "---  ------        --------------  -----  \n",
      " 0   mpg           318 non-null    float64\n",
      " 1   cylinders     318 non-null    int64  \n",
      " 2   displacement  318 non-null    float64\n",
      " 3   horsepower    318 non-null    float64\n",
      " 4   weight        318 non-null    int64  \n",
      " 5   acceleration  318 non-null    float64\n",
      " 6   model_year    318 non-null    int64  \n",
      " 7   origin        318 non-null    object \n",
      " 8   name          318 non-null    object \n",
      "dtypes: float64(4), int64(3), object(2)\n",
      "memory usage: 24.8+ KB\n"
     ]
    }
   ],
   "source": [
    "# 라벨인코딩\n",
    "x_train.info()"
   ]
  },
  {
   "cell_type": "code",
   "execution_count": 45,
   "id": "c8bff818",
   "metadata": {},
   "outputs": [
    {
     "data": {
      "text/html": [
       "<div>\n",
       "<style scoped>\n",
       "    .dataframe tbody tr th:only-of-type {\n",
       "        vertical-align: middle;\n",
       "    }\n",
       "\n",
       "    .dataframe tbody tr th {\n",
       "        vertical-align: top;\n",
       "    }\n",
       "\n",
       "    .dataframe thead th {\n",
       "        text-align: right;\n",
       "    }\n",
       "</style>\n",
       "<table border=\"1\" class=\"dataframe\">\n",
       "  <thead>\n",
       "    <tr style=\"text-align: right;\">\n",
       "      <th></th>\n",
       "      <th>mpg</th>\n",
       "      <th>cylinders</th>\n",
       "      <th>displacement</th>\n",
       "      <th>horsepower</th>\n",
       "      <th>weight</th>\n",
       "      <th>acceleration</th>\n",
       "      <th>model_year</th>\n",
       "      <th>origin</th>\n",
       "      <th>name</th>\n",
       "    </tr>\n",
       "  </thead>\n",
       "  <tbody>\n",
       "    <tr>\n",
       "      <th>3</th>\n",
       "      <td>16.0</td>\n",
       "      <td>8</td>\n",
       "      <td>304.0</td>\n",
       "      <td>150.0</td>\n",
       "      <td>3433</td>\n",
       "      <td>12.0</td>\n",
       "      <td>70</td>\n",
       "      <td>usa</td>\n",
       "      <td>amc rebel sst</td>\n",
       "    </tr>\n",
       "    <tr>\n",
       "      <th>18</th>\n",
       "      <td>27.0</td>\n",
       "      <td>4</td>\n",
       "      <td>97.0</td>\n",
       "      <td>88.0</td>\n",
       "      <td>2130</td>\n",
       "      <td>14.5</td>\n",
       "      <td>70</td>\n",
       "      <td>japan</td>\n",
       "      <td>datsun pl510</td>\n",
       "    </tr>\n",
       "    <tr>\n",
       "      <th>376</th>\n",
       "      <td>37.0</td>\n",
       "      <td>4</td>\n",
       "      <td>91.0</td>\n",
       "      <td>68.0</td>\n",
       "      <td>2025</td>\n",
       "      <td>18.2</td>\n",
       "      <td>82</td>\n",
       "      <td>japan</td>\n",
       "      <td>mazda glc custom l</td>\n",
       "    </tr>\n",
       "  </tbody>\n",
       "</table>\n",
       "</div>"
      ],
      "text/plain": [
       "      mpg  cylinders  displacement  horsepower  weight  acceleration  \\\n",
       "3    16.0          8         304.0       150.0    3433          12.0   \n",
       "18   27.0          4          97.0        88.0    2130          14.5   \n",
       "376  37.0          4          91.0        68.0    2025          18.2   \n",
       "\n",
       "     model_year origin                name  \n",
       "3            70    usa       amc rebel sst  \n",
       "18           70  japan        datsun pl510  \n",
       "376          82  japan  mazda glc custom l  "
      ]
     },
     "execution_count": 45,
     "metadata": {},
     "output_type": "execute_result"
    }
   ],
   "source": [
    "x_train.head(3)"
   ]
  },
  {
   "cell_type": "code",
   "execution_count": 46,
   "id": "280fba49",
   "metadata": {},
   "outputs": [],
   "source": [
    "from sklearn.preprocessing import LabelEncoder\n",
    "\n",
    "label = ['origin','name']\n",
    "x_train[label] = x_train[label].apply(LabelEncoder().fit_transform)\n",
    "x_test[label] = x_test[label].apply(LabelEncoder().fit_transform)"
   ]
  },
  {
   "cell_type": "code",
   "execution_count": 47,
   "id": "4a29b660",
   "metadata": {},
   "outputs": [],
   "source": [
    "# 카테고리 변환, 더미처리\n",
    "category = ['origin']\n",
    "for i in category:\n",
    "    x_train[i] = x_train[i].astype('category')\n",
    "    x_test[i] = x_test[i].astype('category')\n",
    "    \n",
    "x_train = pd.get_dummies(x_train)\n",
    "x_test = pd.get_dummies(x_test)"
   ]
  },
  {
   "cell_type": "code",
   "execution_count": 48,
   "id": "762a524a",
   "metadata": {},
   "outputs": [
    {
     "data": {
      "text/html": [
       "<div>\n",
       "<style scoped>\n",
       "    .dataframe tbody tr th:only-of-type {\n",
       "        vertical-align: middle;\n",
       "    }\n",
       "\n",
       "    .dataframe tbody tr th {\n",
       "        vertical-align: top;\n",
       "    }\n",
       "\n",
       "    .dataframe thead th {\n",
       "        text-align: right;\n",
       "    }\n",
       "</style>\n",
       "<table border=\"1\" class=\"dataframe\">\n",
       "  <thead>\n",
       "    <tr style=\"text-align: right;\">\n",
       "      <th></th>\n",
       "      <th>mpg</th>\n",
       "      <th>cylinders</th>\n",
       "      <th>displacement</th>\n",
       "      <th>horsepower</th>\n",
       "      <th>weight</th>\n",
       "      <th>acceleration</th>\n",
       "      <th>model_year</th>\n",
       "      <th>name</th>\n",
       "      <th>origin_0</th>\n",
       "      <th>origin_1</th>\n",
       "      <th>origin_2</th>\n",
       "    </tr>\n",
       "  </thead>\n",
       "  <tbody>\n",
       "    <tr>\n",
       "      <th>3</th>\n",
       "      <td>16.0</td>\n",
       "      <td>8</td>\n",
       "      <td>304.0</td>\n",
       "      <td>150.0</td>\n",
       "      <td>3433</td>\n",
       "      <td>12.0</td>\n",
       "      <td>70</td>\n",
       "      <td>10</td>\n",
       "      <td>0</td>\n",
       "      <td>0</td>\n",
       "      <td>1</td>\n",
       "    </tr>\n",
       "    <tr>\n",
       "      <th>18</th>\n",
       "      <td>27.0</td>\n",
       "      <td>4</td>\n",
       "      <td>97.0</td>\n",
       "      <td>88.0</td>\n",
       "      <td>2130</td>\n",
       "      <td>14.5</td>\n",
       "      <td>70</td>\n",
       "      <td>78</td>\n",
       "      <td>0</td>\n",
       "      <td>1</td>\n",
       "      <td>0</td>\n",
       "    </tr>\n",
       "    <tr>\n",
       "      <th>376</th>\n",
       "      <td>37.0</td>\n",
       "      <td>4</td>\n",
       "      <td>91.0</td>\n",
       "      <td>68.0</td>\n",
       "      <td>2025</td>\n",
       "      <td>18.2</td>\n",
       "      <td>82</td>\n",
       "      <td>149</td>\n",
       "      <td>0</td>\n",
       "      <td>1</td>\n",
       "      <td>0</td>\n",
       "    </tr>\n",
       "  </tbody>\n",
       "</table>\n",
       "</div>"
      ],
      "text/plain": [
       "      mpg  cylinders  displacement  horsepower  weight  acceleration  \\\n",
       "3    16.0          8         304.0       150.0    3433          12.0   \n",
       "18   27.0          4          97.0        88.0    2130          14.5   \n",
       "376  37.0          4          91.0        68.0    2025          18.2   \n",
       "\n",
       "     model_year  name  origin_0  origin_1  origin_2  \n",
       "3            70    10         0         0         1  \n",
       "18           70    78         0         1         0  \n",
       "376          82   149         0         1         0  "
      ]
     },
     "execution_count": 48,
     "metadata": {},
     "output_type": "execute_result"
    }
   ],
   "source": [
    "x_train.head(3)"
   ]
  },
  {
   "cell_type": "code",
   "execution_count": 49,
   "id": "ea5ccdaf",
   "metadata": {},
   "outputs": [
    {
     "data": {
      "text/plain": [
       "count    318.000000\n",
       "mean     103.106918\n",
       "std       37.091938\n",
       "min       46.000000\n",
       "25%       75.250000\n",
       "50%       92.000000\n",
       "75%      120.000000\n",
       "max      225.000000\n",
       "Name: horsepower, dtype: float64"
      ]
     },
     "execution_count": 49,
     "metadata": {},
     "output_type": "execute_result"
    }
   ],
   "source": [
    "x_train.horsepower.describe()"
   ]
  },
  {
   "cell_type": "code",
   "execution_count": 50,
   "id": "cb98bf2c",
   "metadata": {},
   "outputs": [],
   "source": [
    "# 파생변수 만들기\n",
    "x_train['horsepower_qcut'] = pd.qcut(x_train['horsepower'], 5, labels = False)\n",
    "x_test['horsepower_qcut'] = pd.qcut(x_test['horsepower'], 5, labels = False)"
   ]
  },
  {
   "cell_type": "code",
   "execution_count": 51,
   "id": "4345abb8",
   "metadata": {},
   "outputs": [
    {
     "name": "stdout",
     "output_type": "stream",
     "text": [
      "<class 'pandas.core.frame.DataFrame'>\n",
      "Int64Index: 318 entries, 3 to 102\n",
      "Data columns (total 12 columns):\n",
      " #   Column           Non-Null Count  Dtype  \n",
      "---  ------           --------------  -----  \n",
      " 0   mpg              318 non-null    float64\n",
      " 1   cylinders        318 non-null    int64  \n",
      " 2   displacement     318 non-null    float64\n",
      " 3   horsepower       318 non-null    float64\n",
      " 4   weight           318 non-null    int64  \n",
      " 5   acceleration     318 non-null    float64\n",
      " 6   model_year       318 non-null    int64  \n",
      " 7   name             318 non-null    int32  \n",
      " 8   origin_0         318 non-null    uint8  \n",
      " 9   origin_1         318 non-null    uint8  \n",
      " 10  origin_2         318 non-null    uint8  \n",
      " 11  horsepower_qcut  318 non-null    int64  \n",
      "dtypes: float64(4), int32(1), int64(4), uint8(3)\n",
      "memory usage: 24.5 KB\n"
     ]
    }
   ],
   "source": [
    "# 스케일작업\n",
    "x_train.info()"
   ]
  },
  {
   "cell_type": "code",
   "execution_count": 52,
   "id": "f742d02a",
   "metadata": {},
   "outputs": [
    {
     "data": {
      "text/html": [
       "<div>\n",
       "<style scoped>\n",
       "    .dataframe tbody tr th:only-of-type {\n",
       "        vertical-align: middle;\n",
       "    }\n",
       "\n",
       "    .dataframe tbody tr th {\n",
       "        vertical-align: top;\n",
       "    }\n",
       "\n",
       "    .dataframe thead th {\n",
       "        text-align: right;\n",
       "    }\n",
       "</style>\n",
       "<table border=\"1\" class=\"dataframe\">\n",
       "  <thead>\n",
       "    <tr style=\"text-align: right;\">\n",
       "      <th></th>\n",
       "      <th>mpg</th>\n",
       "      <th>cylinders</th>\n",
       "      <th>displacement</th>\n",
       "      <th>horsepower</th>\n",
       "      <th>weight</th>\n",
       "      <th>acceleration</th>\n",
       "      <th>model_year</th>\n",
       "      <th>name</th>\n",
       "      <th>origin_0</th>\n",
       "      <th>origin_1</th>\n",
       "      <th>origin_2</th>\n",
       "      <th>horsepower_qcut</th>\n",
       "    </tr>\n",
       "  </thead>\n",
       "  <tbody>\n",
       "    <tr>\n",
       "      <th>3</th>\n",
       "      <td>16.0</td>\n",
       "      <td>8</td>\n",
       "      <td>304.0</td>\n",
       "      <td>150.0</td>\n",
       "      <td>3433</td>\n",
       "      <td>12.0</td>\n",
       "      <td>70</td>\n",
       "      <td>10</td>\n",
       "      <td>0</td>\n",
       "      <td>0</td>\n",
       "      <td>1</td>\n",
       "      <td>4</td>\n",
       "    </tr>\n",
       "    <tr>\n",
       "      <th>18</th>\n",
       "      <td>27.0</td>\n",
       "      <td>4</td>\n",
       "      <td>97.0</td>\n",
       "      <td>88.0</td>\n",
       "      <td>2130</td>\n",
       "      <td>14.5</td>\n",
       "      <td>70</td>\n",
       "      <td>78</td>\n",
       "      <td>0</td>\n",
       "      <td>1</td>\n",
       "      <td>0</td>\n",
       "      <td>1</td>\n",
       "    </tr>\n",
       "    <tr>\n",
       "      <th>376</th>\n",
       "      <td>37.0</td>\n",
       "      <td>4</td>\n",
       "      <td>91.0</td>\n",
       "      <td>68.0</td>\n",
       "      <td>2025</td>\n",
       "      <td>18.2</td>\n",
       "      <td>82</td>\n",
       "      <td>149</td>\n",
       "      <td>0</td>\n",
       "      <td>1</td>\n",
       "      <td>0</td>\n",
       "      <td>0</td>\n",
       "    </tr>\n",
       "  </tbody>\n",
       "</table>\n",
       "</div>"
      ],
      "text/plain": [
       "      mpg  cylinders  displacement  horsepower  weight  acceleration  \\\n",
       "3    16.0          8         304.0       150.0    3433          12.0   \n",
       "18   27.0          4          97.0        88.0    2130          14.5   \n",
       "376  37.0          4          91.0        68.0    2025          18.2   \n",
       "\n",
       "     model_year  name  origin_0  origin_1  origin_2  horsepower_qcut  \n",
       "3            70    10         0         0         1                4  \n",
       "18           70    78         0         1         0                1  \n",
       "376          82   149         0         1         0                0  "
      ]
     },
     "execution_count": 52,
     "metadata": {},
     "output_type": "execute_result"
    }
   ],
   "source": [
    "x_train.head(3)"
   ]
  },
  {
   "cell_type": "code",
   "execution_count": 53,
   "id": "51415b58",
   "metadata": {},
   "outputs": [],
   "source": [
    "from sklearn.preprocessing import MinMaxScaler\n",
    "scaler = ['displacement', 'horsepower','weight']\n",
    "mm = MinMaxScaler()\n",
    "mm.fit(x_train[scaler])\n",
    "\n",
    "x_train[scaler] = mm.transform(x_train[scaler])\n",
    "x_test[scaler] = mm.transform(x_test[scaler])"
   ]
  },
  {
   "cell_type": "code",
   "execution_count": 54,
   "id": "57e38018",
   "metadata": {},
   "outputs": [],
   "source": [
    "# 6.데이터 분리\n",
    "from sklearn.model_selection import train_test_split\n",
    "x_tr, x_val, y_tr, y_val = train_test_split(x_train, y_train, test_size = 0.2, random_state= 42)"
   ]
  },
  {
   "cell_type": "code",
   "execution_count": 58,
   "id": "2c04bb70",
   "metadata": {},
   "outputs": [],
   "source": [
    "# 7. 모형학습\n",
    "\n",
    "from sklearn.linear_model import LinearRegression\n",
    "from sklearn.ensemble import RandomForestRegressor\n",
    "from sklearn.ensemble import StackingRegressor\n",
    "\n",
    "model1 = LinearRegression()\n",
    "model1.fit(x_tr, y_tr)\n",
    "pred1 = model1.predict(x_val)\n",
    "\n",
    "model2 = RandomForestRegressor()\n",
    "model2.fit(x_tr, y_tr)\n",
    "pred2 = model2.predict(x_val)\n",
    "\n",
    "# 8. 앙상블 (스태킹)\n",
    "estimators = [('linear', model1), ('randomF', model2)]\n",
    "model3 = StackingRegressor(estimators = estimators, final_estimator = RandomForestRegressor())\n",
    "model3.fit(x_tr, y_tr)\n",
    "pred3 = model3.predict(x_val)"
   ]
  },
  {
   "cell_type": "code",
   "execution_count": 59,
   "id": "fbdfbac4",
   "metadata": {},
   "outputs": [
    {
     "name": "stdout",
     "output_type": "stream",
     "text": [
      "선형회귀 RMSE:  4.0896505422873116e-13\n",
      "랜덤포레스트 RMSE:  0.25418945936053416\n",
      "스태킹 MSE:  0.21041517738746895\n"
     ]
    }
   ],
   "source": [
    "# 9. 모형평가 \n",
    "from sklearn.metrics import mean_squared_error\n",
    "print('선형회귀 RMSE: ', np.sqrt(mean_squared_error(y_val, pred1)))\n",
    "print('랜덤포레스트 RMSE: ', np.sqrt(mean_squared_error(y_val, pred2)))\n",
    "print('스태킹 MSE: ', np.sqrt(mean_squared_error(y_val, pred3)))"
   ]
  },
  {
   "cell_type": "code",
   "execution_count": 57,
   "id": "69784e7d",
   "metadata": {},
   "outputs": [
    {
     "name": "stdout",
     "output_type": "stream",
     "text": [
      "최적 파라미터:  {'max_depth': 6, 'n_estimators': 100}\n"
     ]
    }
   ],
   "source": [
    "# 10. 하이퍼파라미터 튜닝\n",
    "from sklearn.model_selection import GridSearchCV\n",
    "parameters = {'n_estimators': [50, 100], 'max_depth': [4,6]}\n",
    "model4 = RandomForestRegressor()\n",
    "gscv = GridSearchCV(estimator = model4, param_grid = parameters, cv = 3)\n",
    "gscv.fit(x_tr, y_tr)\n",
    "print(\"최적 파라미터: \", gscv.best_params_)"
   ]
  },
  {
   "cell_type": "code",
   "execution_count": 62,
   "id": "de91653d",
   "metadata": {},
   "outputs": [
    {
     "data": {
      "text/html": [
       "<div>\n",
       "<style scoped>\n",
       "    .dataframe tbody tr th:only-of-type {\n",
       "        vertical-align: middle;\n",
       "    }\n",
       "\n",
       "    .dataframe tbody tr th {\n",
       "        vertical-align: top;\n",
       "    }\n",
       "\n",
       "    .dataframe thead th {\n",
       "        text-align: right;\n",
       "    }\n",
       "</style>\n",
       "<table border=\"1\" class=\"dataframe\">\n",
       "  <thead>\n",
       "    <tr style=\"text-align: right;\">\n",
       "      <th></th>\n",
       "      <th>id</th>\n",
       "      <th>predict</th>\n",
       "    </tr>\n",
       "  </thead>\n",
       "  <tbody>\n",
       "    <tr>\n",
       "      <th>0</th>\n",
       "      <td>198</td>\n",
       "      <td>33.105</td>\n",
       "    </tr>\n",
       "    <tr>\n",
       "      <th>1</th>\n",
       "      <td>396</td>\n",
       "      <td>28.097</td>\n",
       "    </tr>\n",
       "    <tr>\n",
       "      <th>2</th>\n",
       "      <td>33</td>\n",
       "      <td>19.032</td>\n",
       "    </tr>\n",
       "  </tbody>\n",
       "</table>\n",
       "</div>"
      ],
      "text/plain": [
       "    id  predict\n",
       "0  198   33.105\n",
       "1  396   28.097\n",
       "2   33   19.032"
      ]
     },
     "execution_count": 62,
     "metadata": {},
     "output_type": "execute_result"
    }
   ],
   "source": [
    "# 11. 저장\n",
    "result = pd.DataFrame(model2.predict(x_test))\n",
    "result = result.iloc[:,0]\n",
    "pd.DataFrame({'id': x_test.index, 'predict': result}).to_csv('000.csv',index = False)\n",
    "check = pd.read_csv('000.csv')\n",
    "check.head(3)"
   ]
  },
  {
   "cell_type": "code",
   "execution_count": null,
   "id": "a4ed6e19",
   "metadata": {},
   "outputs": [],
   "source": []
  }
 ],
 "metadata": {
  "kernelspec": {
   "display_name": "Python 3 (ipykernel)",
   "language": "python",
   "name": "python3"
  },
  "language_info": {
   "codemirror_mode": {
    "name": "ipython",
    "version": 3
   },
   "file_extension": ".py",
   "mimetype": "text/x-python",
   "name": "python",
   "nbconvert_exporter": "python",
   "pygments_lexer": "ipython3",
   "version": "3.10.4"
  }
 },
 "nbformat": 4,
 "nbformat_minor": 5
}
