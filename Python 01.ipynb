{
 "cells": [
  {
   "cell_type": "markdown",
   "id": "a49e1e2d",
   "metadata": {},
   "source": [
    "# 베이스"
   ]
  },
  {
   "cell_type": "code",
   "execution_count": 1,
   "id": "126b54b4",
   "metadata": {},
   "outputs": [
    {
     "data": {
      "text/plain": [
       "'c:\\\\workspace'"
      ]
     },
     "execution_count": 1,
     "metadata": {},
     "output_type": "execute_result"
    }
   ],
   "source": [
    "# Print Working Directory\n",
    "%pwd   "
   ]
  },
  {
   "cell_type": "code",
   "execution_count": null,
   "id": "ce15a88c",
   "metadata": {},
   "outputs": [],
   "source": [
    "# 라이브러리 설치\n",
    "!pip install (library)\n",
    "\n",
    "# 설치된 라이브러리 출력\n",
    "!pip list"
   ]
  },
  {
   "cell_type": "code",
   "execution_count": null,
   "id": "a0010b5f",
   "metadata": {},
   "outputs": [],
   "source": [
    "x = np.linspace(-2, 2, 401)"
   ]
  },
  {
   "cell_type": "markdown",
   "id": "a8811049",
   "metadata": {},
   "source": [
    "# Pandas"
   ]
  },
  {
   "cell_type": "code",
   "execution_count": 30,
   "id": "25f61643",
   "metadata": {},
   "outputs": [],
   "source": [
    "import pandas as pd\n",
    "import numpy as np"
   ]
  },
  {
   "cell_type": "markdown",
   "id": "bb106114",
   "metadata": {},
   "source": [
    "## 파일읽기"
   ]
  },
  {
   "cell_type": "code",
   "execution_count": null,
   "id": "91909492",
   "metadata": {},
   "outputs": [],
   "source": [
    "d = pd.read_csv('sample.csv')\n",
    "\n",
    "ex = pd.read_excel('sample.xlsx', engine = 'openpyxl')   # excel open을 위한 모듈\n",
    "\n",
    "js = pd.read_json('sample.json')   # json파일, 딕셔너리 형태\n",
    "\n",
    "hm = pd.read_html('sample.html')   # html파일"
   ]
  },
  {
   "cell_type": "markdown",
   "id": "951dd880",
   "metadata": {},
   "source": [
    "## 파일저장"
   ]
  },
  {
   "cell_type": "code",
   "execution_count": null,
   "id": "cb7ebd46",
   "metadata": {},
   "outputs": [],
   "source": [
    "df.to_csv('df.csv')\n",
    "\n",
    "df.to_json('df.json')\n",
    "\n",
    "df.to_excel('df.xlse')"
   ]
  },
  {
   "cell_type": "code",
   "execution_count": null,
   "id": "bdadada8",
   "metadata": {},
   "outputs": [],
   "source": [
    "# 엑셀 시트에 저장하기 (많이 쓰지는 않음)\n",
    "writer = pd.ExcelWriter('df_excelwriter.xlsx')\n",
    "df1.to_excel(writer, sheet_name = 'sheet1')\n",
    "df2.to_excel(writer, sheet_name = 'sheet2')\n",
    "writer.save()"
   ]
  },
  {
   "cell_type": "markdown",
   "id": "0dc3db28",
   "metadata": {},
   "source": [
    "## Dataframe"
   ]
  },
  {
   "cell_type": "code",
   "execution_count": 2,
   "id": "e91f43c8",
   "metadata": {},
   "outputs": [
    {
     "data": {
      "text/plain": [
       "dict"
      ]
     },
     "execution_count": 2,
     "metadata": {},
     "output_type": "execute_result"
    }
   ],
   "source": [
    "# Dictionary 만들기\n",
    "dict_data = {'c0':[1,2,3], 'c1':[4,5,6], 'c2':[7,8,9],'c3':[10,11,12], 'c4':[13,14,15]}\n",
    "type(dict_data)"
   ]
  },
  {
   "cell_type": "code",
   "execution_count": 32,
   "id": "eb334e6f",
   "metadata": {},
   "outputs": [],
   "source": [
    "# Dataframe 만들기\n",
    "### dictionary를 변환\n",
    "df = pd.DataFrame(dict_data)\n",
    "type(df)\n",
    "\n",
    "### 리스트에 행, 인덱스 열이름 지정\n",
    "df = pd.DataFrame([[15, 'M','Sinchon'],[17, 'F','Yonsei']], \n",
    "                  index = ['James','Mary'],columns = ['age','sex','school'] )\n",
    "\n",
    "### 딕셔너리 만들고 데이터프레임 인덱스 지정\n",
    "data = {'kor':[80,90,70,30],'eng':[90,70,60,40],'math':[90,60,80,70]}\n",
    "data_df = pd.DataFrame(data, index = ['춘향','몽룡','향단','방자'])"
   ]
  },
  {
   "cell_type": "code",
   "execution_count": 7,
   "id": "96b3c9af",
   "metadata": {},
   "outputs": [],
   "source": [
    "# column명 & index명 바꾸기\n",
    "df.columns = ['나이','M/F','소속']   # column명 바꾸기\n",
    "df.index = ['Student1', 'Student2']   #index명 바꾸기\n",
    "df.rename(columns = {'age':'how old','sex':'M/F','school':'L'}, inplace = True )  #rename사용"
   ]
  },
  {
   "cell_type": "markdown",
   "id": "bfb5a612",
   "metadata": {},
   "source": [
    "### 데이터프레임 일부 출력"
   ]
  },
  {
   "cell_type": "code",
   "execution_count": 33,
   "id": "a133a336",
   "metadata": {},
   "outputs": [],
   "source": [
    "dfs = pd.DataFrame(np.random.randint(60,100,16).reshape(4,-1),  # 랜덤으로 16개 수 생성\n",
    "                 index = ['James','Maria','Brian','Alice'], \n",
    "                 columns = ['kor','eng','math','music'])"
   ]
  },
  {
   "cell_type": "code",
   "execution_count": 20,
   "id": "44e8e75d",
   "metadata": {
    "scrolled": false
   },
   "outputs": [
    {
     "data": {
      "text/plain": [
       "Student1    15\n",
       "Student2    17\n",
       "Name: 나이, dtype: int64"
      ]
     },
     "execution_count": 20,
     "metadata": {},
     "output_type": "execute_result"
    }
   ],
   "source": [
    "### loc: LOCation (label이나 boolean array로 인덱싱)   \n",
    "### df.loc[행 인덱싱 값, 열 인덱싱 값]\n",
    "\n",
    "df.loc['Student1',:]   # index이름 Student1만 추출       >>> 시리즈\n",
    "df.loc[:,'나이']       # index이름 0만 추출              >>> 시리즈\n",
    "dfs.loc[['Brian']]     # column이름 'Brian'만 추출, 반드시 리스트형태여야 함\n",
    "\n",
    "### iloc: Integer LOCation \n",
    "df.iloc[0]             # 전체df중에서 0번째 행값만 추출          >>> 시리즈\n",
    "df.iloc[[0]]           # 전체df중에서 0번째 행값만 추출, 리스트  >>> 데이터프레임\n",
    "dfs.iloc[[2,3]]        # 2,3행 출력, 리스트형태          >>> 데이터프레임\n",
    "\n",
    "df.iloc[:,0]           # 전체df중에서 0번째 열값만 추출\n",
    "dfs.iloc[:,[2,3]]      # 전체df중에서 2,3번째 열값만 추출\n",
    "df.iloc[0,:]           # 전체df중에서 0번째 행값만 추출\n",
    "dfs.iloc[2,3]          # 2행 3열 출력\n",
    "\n",
    "dfs.iloc[1,1:3]        # 1행, 1~3열 출력\n",
    "dfs.loc['Maria',['eng','math']]   # Maria 행, eng, math열 출력\n",
    "\n",
    "\n",
    "### 열/행 출력\n",
    "df['나이']                 # '나이' 열 출력\n",
    "df.나이\n",
    "\n",
    "df['나이']['Student1']     # 열, 인덱스 순으로 출력"
   ]
  },
  {
   "cell_type": "code",
   "execution_count": null,
   "id": "42778ab5",
   "metadata": {},
   "outputs": [],
   "source": [
    "# 값 변경\n",
    "dfs.iloc[0,3] = 90\n",
    "dfs.iloc[[1,1],[2,3]] = [50,50]\n",
    "\n",
    "df.loc['Cheol',['music','phy']] = 50"
   ]
  },
  {
   "cell_type": "markdown",
   "id": "6a2ae0b4",
   "metadata": {},
   "source": [
    "## 기본 함수"
   ]
  },
  {
   "cell_type": "markdown",
   "id": "713d9ffd",
   "metadata": {},
   "source": [
    "####  COPY, DROP"
   ]
  },
  {
   "cell_type": "code",
   "execution_count": null,
   "id": "a028b172",
   "metadata": {},
   "outputs": [],
   "source": [
    "# COPY\n",
    "df2 = df.copy()   # 복사\n",
    "df3 = df[:]       # copy 명령 없이 복사\n",
    "\n",
    "\n",
    "# ROW & COLUMN 추가\n",
    "dfs['phy'] = 90\n",
    "dfs.loc['George'] = [90,70,60,75,60]\n",
    "\n",
    "\n",
    "# DROP\n",
    "df2.drop(1, inplace = True)    # 1행 버리기\n",
    "df2.drop(columns = '나이', inplace = True)    # '나이'열 버리기\n",
    "df2.drop('나이', axis = 1, inplace = True)    # '나이'열 버리기\n"
   ]
  },
  {
   "cell_type": "markdown",
   "id": "145ff2fc",
   "metadata": {},
   "source": [
    "#### INSERT / APPEND / EXTEND"
   ]
  },
  {
   "cell_type": "code",
   "execution_count": null,
   "id": "30ffe125",
   "metadata": {},
   "outputs": [],
   "source": [
    "# INSERT\n",
    "df.insert(3, '')\n",
    "concat iloc\n",
    "insert\n",
    "\n",
    "array.append(x)         # array 맨 끝에 객체로 추가\n",
    "array.extend(iterable)  # iterable의 요소를 각 array끝에 요소로 추가\n",
    "array.insert(i, x)      # i번째 위치에 x를 삽입"
   ]
  },
  {
   "cell_type": "markdown",
   "id": "0ef3d3be",
   "metadata": {},
   "source": [
    "#### SET_INDEX / REINDEX / TRANSPOSE"
   ]
  },
  {
   "cell_type": "code",
   "execution_count": null,
   "id": "a3e67a4c",
   "metadata": {},
   "outputs": [],
   "source": [
    "# SET INDEX   index의 이름 설정\n",
    "dfs.set_index('name', inplace = True)\n",
    "\n",
    "# REINDEX     인덱스 새로 정의\n",
    "new_index = ['r0','r1','r2','r3','r4']\n",
    "ndf = df.reindex(new_index)                    # 행에 데이터가 부족하면 NaN으로 채워짐\n",
    "ndf2 = df.reindex(new_index, fill_value = 0)   # reindex하고 남는 행 0으로 채우기\n"
   ]
  },
  {
   "cell_type": "code",
   "execution_count": null,
   "id": "9cc34e00",
   "metadata": {},
   "outputs": [],
   "source": [
    "# TRANSPOSE\n",
    "df.transpose()\n",
    "df.T\n"
   ]
  },
  {
   "cell_type": "markdown",
   "id": "e06e4a94",
   "metadata": {},
   "source": [
    "#### SORT"
   ]
  },
  {
   "cell_type": "code",
   "execution_count": null,
   "id": "4e78ac80",
   "metadata": {},
   "outputs": [],
   "source": [
    "# SORT\n",
    "ndf2 = ndf2.sort_index(ascending = False)             # 행 정렬, 내림차순\n",
    "ndf3 = ndf2.sort_values(by= 'c1', ascending = False)  # 열'c1'기준 정렬, 내림차순\n"
   ]
  },
  {
   "cell_type": "markdown",
   "id": "228df5d3",
   "metadata": {},
   "source": [
    "### SERIES\n",
    "\n",
    "### 시리즈와 리스트의 차이 \n",
    "\n",
    "1) 시리즈는 벡터에 대한 연산을 하지만, 리스트는 하지 않는다 (+의 경우, 옆으로 연속적으로 붙임)\n",
    "\n",
    "2) 시리즈는 문자로 인덱싱 가능, 리스트는 불가능\n",
    "\n",
    "### 시리즈와 numpy ndarray의 차이\n",
    "\n",
    "1) 인덱싱할 때 시리즈는 숫자, 문자 둘다 가능, array는 숫자만 가능\n",
    "\n",
    "2) 시리즈는 null값 표현을 NaN으로, array는 문자를 표기\n",
    "\n",
    "### Array와 List의 차이\n",
    "\n",
    "1) 배열: 고정된 크기를 가짐(데이터 개수가 정해져 있음. 메모리 크기가 낭비될 수 있음).순차리스트\n",
    "\n",
    "삽입과 삭제의 경우 O(N)의 시간 복잡도를 갖는다\n",
    "\n",
    "원소에 접근할 때 O(1)의 시간 복잡도를 갖는다\n",
    "\n",
    "2) 리스트: 빈틈없는 데이터의 적재라는 장점을 취함. 연결리스트\n",
    "\n",
    "삽입과 삭제 시, 원소에 접근할 때 모두 O(1)의 시간 복잡도를 갖는다"
   ]
  },
  {
   "cell_type": "markdown",
   "id": "90d8c09d",
   "metadata": {},
   "source": [
    "### Series의 연산\n",
    "+, -, *, / 모두 가능\n",
    "\n",
    "결측치가 있는 경우, 연산이 안 됨\n",
    "\n",
    "fill_value = 0 으로 처리할 경우, 계산 됨"
   ]
  },
  {
   "cell_type": "code",
   "execution_count": null,
   "id": "83813aac",
   "metadata": {},
   "outputs": [],
   "source": []
  }
 ],
 "metadata": {
  "kernelspec": {
   "display_name": "Python 3 (ipykernel)",
   "language": "python",
   "name": "python3"
  },
  "language_info": {
   "codemirror_mode": {
    "name": "ipython",
    "version": 3
   },
   "file_extension": ".py",
   "mimetype": "text/x-python",
   "name": "python",
   "nbconvert_exporter": "python",
   "pygments_lexer": "ipython3",
   "version": "3.10.4"
  }
 },
 "nbformat": 4,
 "nbformat_minor": 5
}
