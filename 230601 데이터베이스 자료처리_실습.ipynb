{
 "cells": [
  {
   "cell_type": "code",
   "execution_count": 133,
   "id": "adf817a2",
   "metadata": {},
   "outputs": [],
   "source": [
    "import sqlite3"
   ]
  },
  {
   "cell_type": "code",
   "execution_count": 135,
   "id": "b7ede450",
   "metadata": {},
   "outputs": [
    {
     "name": "stdout",
     "output_type": "stream",
     "text": [
      "('홍길동', '010-1111-1111', '서울시')\n",
      "('이순신', '010-2222-2222', '하남시')\n",
      "('강감찬', '010-1111-1111', '평양시')\n",
      "이름 \t전화번호 \t주소\n",
      "홍길동 \t 010-1111-1111 \t 서울시\n",
      "이순신 \t 010-2222-2222 \t 하남시\n",
      "강감찬 \t 010-1111-1111 \t 평양시\n"
     ]
    }
   ],
   "source": [
    "try: ## try문 내의 값을 실행\n",
    "    # (1) DB연동 객체 : 지정 경로에 DB파일 생성, 해당 DB로 연결되는 객체(conn)가 생성됨\n",
    "    conn = sqlite3.connect(\"Data/sqlite_db\")   # DB생성 > 연결 object\n",
    "    \n",
    "    # (2) SQL실행 객체 : DB 내의 객체를 주고받을 때 cursor를 사용\n",
    "    cursor = conn.cursor()\n",
    "    \n",
    "    # (3) table 생성 : test_table을 생성\n",
    "    sql = 'create table if not exists test_table(name text(10), phone text(15), addr text(50))'\n",
    "    cursor.execute(sql)   # cursor객체에서 실행할 수 있는 execute함수로 실행\n",
    "    \n",
    "    # (4) 레코드 추가 : insert문으로 레코드 추가\n",
    "    cursor.execute(\"insert into test_table values('홍길동','010-1111-1111','서울시')\")\n",
    "    cursor.execute(\"insert into test_table values('이순신','010-2222-2222','하남시')\")\n",
    "    cursor.execute(\"insert into test_table values('강감찬','010-1111-1111','평양시')\")\n",
    "    conn.commit()     # DB에 반영\n",
    "    \n",
    "    # (5) 레코드 조회 : select문 형식으로 레코드 조회\n",
    "    cursor.execute(\"select * from test_table\")\n",
    "    rows = cursor.fetchall()    # 조회 레코드 가져오기\n",
    "    ##### fetch: 커서에서 원하는 결과값을 추출\n",
    "    \n",
    "    # (6) 레코드 출력1 : 한 레코드씩 튜플 단위로 반환\n",
    "    for row in rows:\n",
    "        print(row)\n",
    "        \n",
    "    # (7) 레코드 출력2 : 전체 레코드를 컬럼 단위로 출력\n",
    "    print('이름 \\t전화번호 \\t주소')       # Escape Code: \\n: 줄바꿈, \\t: tab, \\0: 공백, \\'\\'\n",
    "    for row in rows:\n",
    "        print(row[0],'\\t',row[1],'\\t',row[2])\n",
    "\n",
    "except Exception as e:  # 정상실행되지 않을 때\n",
    "    print(\"DB연동 실패: \", e)\n",
    "    conn.rollback()    # 실행취소. 실행 중 ERROR가 나면 과거로 돌아감\n",
    "\n",
    "finally:\n",
    "    cursor.close()   # cursor 객체 닫기  try문 내, connect, cursor 와 반대개념\n",
    "    conn.close()     # conn 객체 닫기"
   ]
  },
  {
   "cell_type": "markdown",
   "id": "602358bf",
   "metadata": {},
   "source": [
    "### MySQL의 Workbench 프로그램\n",
    "\n",
    "MySQL의 최적화된 브라우징프로그램: Workbench, DBeaver, ...\n"
   ]
  },
  {
   "cell_type": "markdown",
   "id": "9703865a",
   "metadata": {},
   "source": [
    "## ★DB vs DBMS\n",
    "\n",
    "- DB와 DBMS는 구분이 필요: DB를 다루는 프로그램이 DBMS\n",
    "<br> DB: excel파일 \n",
    "<br> DBMS : excel프로그램, SW\n",
    "<br> ex) SQLite3.exe는 SQLite형식의 DB를 CRUD 기능하는 프로그램\n",
    "\n",
    "\n",
    "### 범용DBMS와 SQLite3와 비교\n",
    "\n",
    "- DBMS: 관리 로직이 있음\n",
    "<br> workbench 프로그램으로 들어가서 로그인 해야만 DB가 보임\n",
    "\n",
    "- SQLite3: 파일만 만들면 존재하는 DB. 공유 안 됨. 관리의 특성도 없음 ≒ 메모장\n",
    "<br> 스마트폰 하나 구동하는 정도로 사용됨. \n",
    "<br> 파일 하나가 DB 하나의 개념임\n"
   ]
  },
  {
   "cell_type": "markdown",
   "id": "49a082e2",
   "metadata": {},
   "source": [
    "### CLI방식으로 실행 \n",
    "★명령 프롬프트: CLI 방식 명령어 사용\n",
    "\n",
    "- 키보드 명령어로 line by line 입력 (vs GUI Graphic User Interface)\n",
    "<br> Command Lind Interface 명령 줄 인터페이스\n",
    "- 명령어\n",
    "<br> cd..     :        # change directory 상위폴더 이동\n",
    "<br> cd (폴더이름):    # 하위폴더 이동\n",
    "<br> dir      :        # 디렉토리 확인\n",
    "<br> sqlite3  :        # sqlite3.exe실행\n",
    "<br> .exit    :      # out"
   ]
  },
  {
   "cell_type": "markdown",
   "id": "967ab843",
   "metadata": {},
   "source": [
    "### 만든 테이블을 CLI방식으로 실행해보기\n",
    "\n",
    "- https://www.sqlite.org/download.html 에서 \n",
    "    \"sqlite-tools-win32-x86-3420000.zip(1.93 MiB)\" 다운로드\n",
    "<br> 압축풀고 sqlite3.exe 를 python38 > Lib 로 복사 \n",
    "<br> 압축풀고 sqlite3.exe 를 workspace > Data 로 복사 (위에서 생성된 sqlite_db파일이 있는 폴더)\n",
    "<br> : DB파일과 DBMS파일이 한 폴더에 있음\n",
    "<br> sqlite_db : DB파일\n",
    "<br> sqlite3.exe : DB파일을 CRUD할 수 있는 DBMS역할을 하는 파일\n",
    "\n",
    "- DB파일과 DBMS파일이 위치한 폴더로 이동\n",
    "<br>.open sqlite_db   # sqlite_db 실행\n",
    "<br>.table   # 테이블명 보기\n",
    "<br>.schema test_table   # 테이블 보기\n",
    "<br>select * from test_table;   # 테이블내용 보기\n",
    "<br>.exit   # 프로그램 종료"
   ]
  },
  {
   "cell_type": "markdown",
   "id": "b4631b53",
   "metadata": {},
   "source": [
    "### GUI방식으로 실행\n",
    "\n",
    "DB Browser for SQLite 다운로드 설치 \n",
    "\n",
    "https://docs.google.com/document/d/10bsXA05MAU7gJFqfo68EPewZtulfolIX/edit"
   ]
  },
  {
   "cell_type": "markdown",
   "id": "d539b128",
   "metadata": {},
   "source": [
    "### ★환경변수\n",
    "\n",
    "OS입장에서 해당 프로세스를 실행시키기 위해 참조하는 변수\n",
    "해당 파일로 접근하기 위해서는 그 파일이 존재하는 디렉토리로 이동해야하는 불편함이 있다. 만약 어느 경로에서나 test.txt를 열 수 있는 방법은 없을까? >> 환경변수\n",
    "\n",
    "운영체제 입장에서 응용프로그램이 어느 폴더에 있는지 알면 빠르게 실행 가능\n",
    "환경변수는, 없다면 순서대로 찾아가라 는 개념임\n",
    "프로그램따라 자동으로 설정되기도, 그렇지 않기도 함\n",
    "\n",
    "파일시스템\n",
    "파일의 속성, OS에서 우선순위, 저장장치에서 어떻게 관리되나\n",
    "\n",
    "SW종류: 시스템SW, 응용SW(=응용프로그램. C언어와 같은 프로그램 소스코드 작성 및 컴파일로 탄생)"
   ]
  },
  {
   "cell_type": "markdown",
   "id": "4dd7c3b1",
   "metadata": {},
   "source": [
    "# 실습 0-5"
   ]
  },
  {
   "cell_type": "code",
   "execution_count": 6,
   "id": "17535afa",
   "metadata": {},
   "outputs": [],
   "source": [
    "import sqlite3"
   ]
  },
  {
   "cell_type": "markdown",
   "id": "daeb9fa8",
   "metadata": {},
   "source": [
    "### 가. 데이터베이스에 테이블 생성"
   ]
  },
  {
   "cell_type": "code",
   "execution_count": 33,
   "id": "d872e03d",
   "metadata": {},
   "outputs": [],
   "source": [
    "try:\n",
    "    conn = sqlite3.connect('Data/sqlite2_db.db')\n",
    "    \n",
    "    cursor = conn.cursor()\n",
    "    \n",
    "    sql = \"create table if not exists item(code integer primary key, name text(30) unique not null, qty integer default 0, unit_price real default 0.0)\"\n",
    "    cursor.execute(sql)\n",
    "    conn.commit()\n",
    "    \n",
    "    cursor.execute(\"select * from item\")\n",
    "    rows = cursor.fetchall()\n",
    "    for row in rows:\n",
    "        print(row[0],'\\t',row[1],'\\t',row[2])\n",
    "\n",
    "except Exception as e:\n",
    "    print(\"DB연동 실패: \", e)\n",
    "    conn.rollback()\n",
    "    \n",
    "finally:\n",
    "    cursor.close()\n",
    "    conn.close()"
   ]
  },
  {
   "cell_type": "markdown",
   "id": "18da85ac",
   "metadata": {},
   "source": [
    "### 나. 5건의 row 추가"
   ]
  },
  {
   "cell_type": "code",
   "execution_count": 34,
   "id": "34d4a2e1",
   "metadata": {},
   "outputs": [
    {
     "name": "stdout",
     "output_type": "stream",
     "text": [
      "1 선풍기 1 150.0\n",
      "2 에어콘 1 200.0\n",
      "3 충전기 1 100.0\n",
      "4 키보드 1 70.0\n",
      "5 마우스 1 60.0\n"
     ]
    }
   ],
   "source": [
    "try:\n",
    "    conn = sqlite3.connect('Data/sqlite2_db.db')\n",
    "    \n",
    "    cursor = conn.cursor()\n",
    "    \n",
    "    cursor.execute(\"insert into item values('1','선풍기','1','150')\")\n",
    "    cursor.execute(\"insert into item values('2','에어콘','1','200')\")\n",
    "    cursor.execute(\"insert into item values('3','충전기','1','100')\")\n",
    "    cursor.execute(\"insert into item values('4','키보드','1','70')\")\n",
    "    cursor.execute(\"insert into item values('5','마우스','1','60')\")\n",
    "    conn.commit()\n",
    "\n",
    "    cursor.execute(\"select * from item\")\n",
    "    rows = cursor.fetchall()\n",
    "    for row in rows:\n",
    "        print(row[0], row[1], row[2], row[3])\n",
    "\n",
    "except Exception as e:\n",
    "    print(\"DB연동 실패: \", e)\n",
    "    conn.rollback()\n",
    "    \n",
    "finally:\n",
    "    cursor.close()\n",
    "    conn.close()"
   ]
  },
  {
   "cell_type": "markdown",
   "id": "e2690db0",
   "metadata": {},
   "source": [
    "### 다. (나)에서 추가한 5건의 row를 모두 조회"
   ]
  },
  {
   "cell_type": "code",
   "execution_count": 35,
   "id": "e871bd74",
   "metadata": {},
   "outputs": [
    {
     "name": "stdout",
     "output_type": "stream",
     "text": [
      "1 선풍기 1 150.0\n",
      "2 에어콘 1 200.0\n",
      "3 충전기 1 100.0\n",
      "4 키보드 1 70.0\n",
      "5 마우스 1 60.0\n"
     ]
    }
   ],
   "source": [
    "try:\n",
    "    conn = sqlite3.connect('Data/sqlite2_db.db')\n",
    "    \n",
    "    cursor = conn.cursor()\n",
    "    \n",
    "    cursor.execute(\"select * from item\")\n",
    "    rows = cursor.fetchall()\n",
    "    for row in rows:\n",
    "        print(row[0],row[1],row[2],row[3])\n",
    "\n",
    "except Exception as e:\n",
    "    print(\"DB연동 실패: \", e)\n",
    "    conn.rollback()\n",
    "    \n",
    "finally:\n",
    "    cursor.close()\n",
    "    conn.close()"
   ]
  },
  {
   "cell_type": "markdown",
   "id": "9da909ae",
   "metadata": {},
   "source": [
    "### 라. (나)에 추가한 5건의 row 중에서 사용자가 input으로 입력한 code값에 해당하는 정보 조회"
   ]
  },
  {
   "cell_type": "code",
   "execution_count": 44,
   "id": "934165bb",
   "metadata": {},
   "outputs": [
    {
     "name": "stdout",
     "output_type": "stream",
     "text": [
      "<code | name | qty | price>\n",
      "(1, '선풍기', 1, 150.0)\n",
      "(2, '에어콘', 1, 200.0)\n",
      "(3, '충전기', 1, 100.0)\n",
      "(4, '키보드', 1, 70.0)\n",
      "(5, '마우스', 1, 60.0)\n",
      "\n",
      "조회할 상품의 코드를 입력하세요: 5\n",
      "조회 결과는 코드: 5, 제품명: 마우스, 수량: 1, 단가: 60입니다.\n"
     ]
    }
   ],
   "source": [
    "try:\n",
    "    conn = sqlite3.connect('Data/sqlite2_db.db')\n",
    "    cursor = conn.cursor()\n",
    "    \n",
    "    sql = \"select * from item\"\n",
    "    cursor.execute(sql)\n",
    "    rows = cursor.fetchall()\n",
    "    \n",
    "    print('<code | name | qty | price>')\n",
    "    for row in rows: \n",
    "        print(row)\n",
    "        \n",
    "    code = int(input('\\n조회할 상품의 코드를 입력하세요: '))\n",
    "    sql = f\"select * from item where code like {code}\"\n",
    "    cursor.execute(sql)\n",
    "    rows = cursor.fetchall()\n",
    "    \n",
    "    if rows:\n",
    "        for row in rows:\n",
    "            print(f\"조회 결과는 코드: {row[0]}, 제품명: {row[1]}, 수량: {row[2]}, 단가: {int(row[3])}입니다.\")\n",
    "    else:\n",
    "        print(\"검색된 레코드 없음\")    \n",
    "    \n",
    "except Exception as e:\n",
    "    print(\"DB연동 실패: \", e)\n",
    "    conn.rollback()\n",
    "    \n",
    "finally:\n",
    "    cursor.close()\n",
    "    conn.close()"
   ]
  },
  {
   "cell_type": "markdown",
   "id": "ef7650b3",
   "metadata": {},
   "source": [
    "### ================================= 해답 =================================="
   ]
  },
  {
   "cell_type": "code",
   "execution_count": 75,
   "id": "fdfa2f1c",
   "metadata": {},
   "outputs": [
    {
     "name": "stdout",
     "output_type": "stream",
     "text": [
      "==\n",
      "기 존재 레코드:  5\n",
      "==\n",
      "(code, name, qty, price)\n",
      "(1, '선풍기', 1, 150.0)\n",
      "(2, '에어콘', 1, 200.0)\n",
      "(3, '충전기', 1, 100.0)\n",
      "(4, '키보드', 1, 70.0)\n",
      "(5, '마우스', 1, 60.0)\n",
      "조회할 상품의 코드를 입력하세요: 4\n",
      "조회 결과는 코드: 4, 제품명: 키보드, 수량: 1, 단가: 70입니다.\n"
     ]
    }
   ],
   "source": [
    "try:\n",
    "    conn = sqlite3.connect('Data/sqlite2_db.db')\n",
    "    \n",
    "    cursor = conn.cursor()\n",
    "    \n",
    "    ##### (가) item 테이블 생성\n",
    "    sql = \"\"\"create table if not exists item(code integer primary key, \n",
    "    name text(30) unique not null, \n",
    "    qty integer default 0, \n",
    "    unit_price real default 0.0)\n",
    "    \"\"\"\n",
    "    cursor.execute(sql)\n",
    "    conn.commit()\n",
    "    \n",
    "    ##### (나) 레코드 삽입\n",
    "    # 테이블에 레코드 존재하는지 먼저 검사 후, 있으면 삭제하고 삽입\n",
    "    sql = \"select * from item\"\n",
    "    cursor.execute(sql)   # 조회\n",
    "    dataset = cursor.fetchall()\n",
    "    \n",
    "    ##### 디버깅용 코드\n",
    "    #print(\"==\")\n",
    "    #print(type(dataset))\n",
    "    #print(len(dataset))\n",
    "    #print(dataset)\n",
    "    #print(dataset[len(dataset)-1])\n",
    "    #print(  type(dataset[len(dataset)-1])  )\n",
    "    #print(\"==\")\n",
    "    \n",
    "    # 레코드 존재하면 삭제\n",
    "    if len(dataset) > 0:  # null이 아닌 경우. 검색결과가 존재하는 경우\n",
    "        cursor.execute('delete from item')   # 레코드 전체 삭제\n",
    "        conn.commit()\n",
    "    else:\n",
    "        pass\n",
    "    \n",
    "    # 레코드 삽입\n",
    "    cursor.execute(\"insert into item values(1,'선풍기',1,150)\")\n",
    "    cursor.execute(\"insert into item values(2,'에어콘',1,200)\")\n",
    "    cursor.execute(\"insert into item values(3,'충전기',1,100)\")\n",
    "    cursor.execute(\"insert into item values(4,'키보드',1,70)\")\n",
    "    cursor.execute(\"insert into item values(5,'마우스',1,60)\")\n",
    "    conn.commit()\n",
    "    \n",
    "    ##### (다) 모든 레코드 조회\n",
    "    cursor.execute(sql)\n",
    "    rows = cursor.fetchall()\n",
    "    print(\"(code, name, qty, price)\")\n",
    "    for row in rows:\n",
    "        print(row)\n",
    "        \n",
    "    ##### (라) 단일 레코드 조회\n",
    "    in_code = int(input(\"조회할 상품의 코드를 입력하세요: \"))\n",
    "    sql = f\"select*from item where code = {in_code}\"\n",
    "    cursor.execute(sql)\n",
    "    rows = cursor.fetchall()\n",
    "    for row in rows:\n",
    "        print(\"조회 결과는 코드: {}, 제품명: {}, 수량: {}, 단가: {}입니다.\"\\\n",
    "              .format(row[0], row[1], row[2], int(row[3])))\n",
    "\n",
    "except Exception as e:\n",
    "    print(\"DB연동 실패: \", e)\n",
    "    conn.rollback()\n",
    "    \n",
    "finally:\n",
    "    cursor.close()\n",
    "    conn.close()"
   ]
  },
  {
   "cell_type": "markdown",
   "id": "ae5aec53",
   "metadata": {},
   "source": [
    "### ================================= 학습 =================================="
   ]
  },
  {
   "cell_type": "code",
   "execution_count": 89,
   "id": "f5faf5ec",
   "metadata": {},
   "outputs": [
    {
     "name": "stdout",
     "output_type": "stream",
     "text": [
      "====================================\n",
      "기 존재 레코드 타입:  <class 'list'>\n",
      "기 존재 레코드 갯수:  5\n",
      "====================================\n",
      "code | name | qty | price\n",
      "(1, 'apple', 3, 1200)\n",
      "(2, 'banana', 5, 8000)\n",
      "(3, 'grape', 2, 6500)\n",
      "(4, 'melon', 1, 4000)\n",
      "(5, 'cherry', 1, 3800)\n",
      "\n",
      "조회하고 싶은 상품코드를 입력하세요: 8\n",
      "해당 코드의 상품이 없습니다\n"
     ]
    }
   ],
   "source": [
    "try:\n",
    "    # connection 연결\n",
    "    conn = sqlite3.connect('Data/sqlite3_db.db')\n",
    "    \n",
    "    # cursor 생성\n",
    "    curs = conn.cursor()\n",
    "    \n",
    "    # table 생성\n",
    "    sql = '''\n",
    "    create table if not exists fruits(\n",
    "    code integer primary key,\n",
    "    name text(30) unique not null,\n",
    "    qty integer default 0,\n",
    "    price integer default 0)\n",
    "    '''\n",
    "    curs.execute(sql)\n",
    "    conn.commit()  # DB반영\n",
    "    \n",
    "    # 검색결과가 존재하는 경우 지우기\n",
    "    sql = 'select * from fruits'\n",
    "    curs.execute(sql)\n",
    "    dataset = curs.fetchall()\n",
    "    \n",
    "    # 존재하는 레코드 갯수 조회\n",
    "    print(\"=\"*36)\n",
    "    print(\"기 존재 레코드 타입: \", type(dataset))\n",
    "    print(\"기 존재 레코드 갯수: \", len(dataset))\n",
    "    print(\"=\"*36)\n",
    "       \n",
    "    if len(dataset)>0:\n",
    "        curs.execute('delete from fruits')\n",
    "        conn.commit()\n",
    "    else:\n",
    "        pass\n",
    "    \n",
    "    # 레코드 삽입\n",
    "    curs.execute('insert into fruits values(1,\"apple\",3,1200)')\n",
    "    curs.execute('insert into fruits values(2,\"banana\",5,8000)')\n",
    "    curs.execute('insert into fruits values(3,\"grape\",2,6500)')\n",
    "    curs.execute('insert into fruits values(4,\"melon\",1,4000)')\n",
    "    curs.execute('insert into fruits values(5,\"cherry\",1,3800)')\n",
    "    conn.commit()\n",
    "    \n",
    "    # 모든 레코드 조회\n",
    "    curs.execute(sql)\n",
    "    rows = curs.fetchall()\n",
    "    print('code | name | qty | price')\n",
    "    for row in rows:\n",
    "        print(row)\n",
    "        \n",
    "    # 단일 레코드 조회\n",
    "    code = int(input('\\n조회하고 싶은 상품코드를 입력하세요: '))\n",
    "    sql = f'select*from fruits where code = {code}'\n",
    "    curs.execute(sql)\n",
    "    row = curs.fetchone()\n",
    "    if row:\n",
    "        print(\"조회 결과>>> 코드: {}, 제품명: {}, 수량: {}, 단가: {}\".format(row[0],row[1],row[2],row[3]))\n",
    "    else:\n",
    "        print(\"해당 코드의 상품이 없습니다\")\n",
    "    \n",
    "except Exception as e:\n",
    "    print(\"Error\", e)\n",
    "    conn.rollback()\n",
    "\n",
    "finally:\n",
    "    curs.close()\n",
    "    conn.close()"
   ]
  },
  {
   "cell_type": "markdown",
   "id": "6af3bb0b",
   "metadata": {},
   "source": [
    "## curs.commit() \n",
    "- C, U, D에는 필요\n",
    "- 조회할 때는 필요 없음\n",
    "\n",
    "## fetch\n",
    "- fetchall()  : 모든 rows\n",
    "- fetchone()  : 하나의 row "
   ]
  },
  {
   "cell_type": "markdown",
   "id": "9f1581d7",
   "metadata": {},
   "source": [
    "# 실습 0-6"
   ]
  },
  {
   "cell_type": "code",
   "execution_count": 90,
   "id": "00c64333",
   "metadata": {},
   "outputs": [],
   "source": [
    "import sqlite3"
   ]
  },
  {
   "cell_type": "code",
   "execution_count": 130,
   "id": "b27314c2",
   "metadata": {
    "scrolled": false
   },
   "outputs": [
    {
     "name": "stdout",
     "output_type": "stream",
     "text": [
      "======= 상품등록 =======\n",
      "\n",
      "등록하려는 상품코드 입력: 1\n",
      "상품이름 입력: 선풍기\n",
      "수량 입력: 1\n",
      "단가 입력: 150\n",
      ">>> 상품등록을 성공했습니다.\n",
      "\n",
      "등록하려는 상품코드 입력: 2\n",
      "상품이름 입력: 에어컨\n",
      "수량 입력: 1\n",
      "단가 입력: 200\n",
      ">>> 상품등록을 성공했습니다.\n",
      "\n",
      "등록하려는 상품코드 입력: 3\n",
      "상품이름 입력: 충전기\n",
      "수량 입력: 1\n",
      "단가 입력: 100\n",
      ">>> 상품등록을 성공했습니다.\n",
      "\n",
      "등록하려는 상품코드 입력: 4\n",
      "상품이름 입력: 키보드\n",
      "수량 입력: 1\n",
      "단가 입력: 70\n",
      ">>> 상품등록을 성공했습니다.\n",
      "\n",
      "등록하려는 상품코드 입력: 5\n",
      "상품이름 입력: 마우스\n",
      "수량 입력: 1\n",
      "단가 입력: 60\n",
      ">>> 상품등록을 성공했습니다.\n",
      "\n",
      "======= 상품조회1 =======\n",
      "(code, name, qty, price)\n",
      "(1, '선풍기', 1, 150.0)\n",
      "(2, '에어컨', 1, 200.0)\n",
      "(3, '충전기', 1, 100.0)\n",
      "(4, '키보드', 1, 70.0)\n",
      "(5, '마우스', 1, 60.0)\n",
      "\n",
      "======= 상품조회2 =======\n",
      "\n",
      "조회할 코드를 입력하세요: 7\n",
      "입력한 코드에 맞는 상품이 없습니다.\n",
      "\n",
      "조회할 코드를 입력하세요: 1\n",
      "조회 결과 상품의 코드: 1, 제품명: 선풍기, 수량: 1, 단가: 150 입니다.\n"
     ]
    }
   ],
   "source": [
    "try:\n",
    "    conn = sqlite3.connect('Data/sqlite2_db.db')\n",
    "    curs = conn.cursor()\n",
    "    \n",
    "    sql = 'delete from item'\n",
    "    curs.execute(sql)\n",
    "    conn.commit()\n",
    "    \n",
    "    ##### 테이블생성\n",
    "    sql = '''\n",
    "    create table if not exists fruits(\n",
    "    code integer primary key,\n",
    "    name text(30) unique not null,\n",
    "    qty integer default 0,\n",
    "    price integer default 0)\n",
    "    '''\n",
    "    curs.execute(sql)\n",
    "    conn.commit()\n",
    "    \n",
    "    ##### 실행결과1: 상품등록\n",
    "    \n",
    "    # 현재상품 확인\n",
    "    sql = 'select * from item'\n",
    "    curs.execute(sql)\n",
    "    dataset = curs.fetchall()\n",
    "    \n",
    "    print(\"======= 상품등록 =======\")\n",
    "    while len(dataset) < 5:\n",
    "        len1 = len(dataset)\n",
    "        code = int(input('\\n등록하려는 상품코드 입력: '))\n",
    "        name = input(\"상품이름 입력: \")\n",
    "        qty = int(input('수량 입력: '))\n",
    "        price = int(input('단가 입력: '))\n",
    "        sql = f'insert into item values({code}, \"{name}\", {qty}, {price})'\n",
    "        curs.execute(sql)\n",
    "        conn.commit()\n",
    "\n",
    "        # 상품 추가여부 확인\n",
    "        sql = 'select * from item'\n",
    "        curs.execute(sql)\n",
    "        dataset = curs.fetchall()\n",
    "        len2 = len(dataset)\n",
    "\n",
    "        if len2 > len1:\n",
    "            print(\">>> 상품등록을 성공했습니다.\")\n",
    "        else:\n",
    "            print(\">>> 상품이 등록되지 않았습니다\")\n",
    "\n",
    "    ##### 실행결과2: 상품조회\n",
    "    sql = 'select * from item'\n",
    "    curs.execute(sql)\n",
    "    rows = curs.fetchall()\n",
    "    print('\\n======= 상품조회1 =======')\n",
    "    print('(code, name, qty, price)')\n",
    "    for row in rows:\n",
    "        print(row)\n",
    "        \n",
    "    ##### 실행결과3,4: 개별 상품조회\n",
    "    print('\\n======= 상품조회2 =======')\n",
    "    row = None\n",
    "    while row == None:\n",
    "        code = int(input('\\n조회할 코드를 입력하세요: '))\n",
    "        sql = f'select * from item where code = {code}'\n",
    "        curs.execute(sql)\n",
    "        row = curs.fetchone()\n",
    "        if row:\n",
    "            print('조회 결과 상품의 코드: {}, 제품명: {}, 수량: {}, 단가: {} 입니다.'.format(row[0],row[1],row[2],int(row[3])))\n",
    "        else:\n",
    "            print(\"입력한 코드에 맞는 상품이 없습니다.\")                  \n",
    "\n",
    "except Exception as e:\n",
    "    print(\"ERROR\", e)\n",
    "    conn.rollback()\n",
    "    \n",
    "finally:\n",
    "    curs.close()\n",
    "    conn.close()"
   ]
  },
  {
   "cell_type": "code",
   "execution_count": null,
   "id": "135d4717",
   "metadata": {},
   "outputs": [],
   "source": []
  }
 ],
 "metadata": {
  "kernelspec": {
   "display_name": "Python 3 (ipykernel)",
   "language": "python",
   "name": "python3"
  },
  "language_info": {
   "codemirror_mode": {
    "name": "ipython",
    "version": 3
   },
   "file_extension": ".py",
   "mimetype": "text/x-python",
   "name": "python",
   "nbconvert_exporter": "python",
   "pygments_lexer": "ipython3",
   "version": "3.8.10"
  }
 },
 "nbformat": 4,
 "nbformat_minor": 5
}
