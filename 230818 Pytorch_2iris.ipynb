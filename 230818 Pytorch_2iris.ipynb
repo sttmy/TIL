{
 "cells": [
  {
   "cell_type": "code",
   "execution_count": 1,
   "metadata": {},
   "outputs": [
    {
     "name": "stdout",
     "output_type": "stream",
     "text": [
      "[[5.1 3.5 1.4 0.2]\n",
      " [4.9 3.  1.4 0.2]\n",
      " [4.7 3.2 1.3 0.2]\n",
      " [4.6 3.1 1.5 0.2]\n",
      " [5.  3.6 1.4 0.2]]\n",
      "[0 0 0 0 0]\n"
     ]
    }
   ],
   "source": [
    "# iris 데이터셋 로딩\n",
    "from sklearn.datasets import load_iris\n",
    "\n",
    "x, y = load_iris(return_X_y=True)\n",
    "print(x[:5])\n",
    "print(y[:5])"
   ]
  },
  {
   "cell_type": "code",
   "execution_count": 2,
   "metadata": {},
   "outputs": [
    {
     "data": {
      "text/plain": [
       "120"
      ]
     },
     "execution_count": 2,
     "metadata": {},
     "output_type": "execute_result"
    }
   ],
   "source": [
    "from sklearn.model_selection import train_test_split\n",
    "x_tr, x_ts, y_tr, y_ts = train_test_split(x, y, random_state = 10, test_size = 0.2, stratify = y, shuffle = True)\n",
    "len(x_tr)"
   ]
  },
  {
   "cell_type": "code",
   "execution_count": 3,
   "metadata": {},
   "outputs": [],
   "source": [
    "from torch import nn\n",
    "import torch.nn.functional as F\n",
    "\n",
    "# 신경망모형\n",
    "class Model(nn.Module):\n",
    "    def __init__(self, input_dim):\n",
    "        super(Model, self).__init__()\n",
    "        # input layer, Linear 1차함수\n",
    "        # input nodes, output nodes 50\n",
    "        self.layer1 = nn.Linear(input_dim, 50)\n",
    "        self.layer2 = nn.Linear(50, 20)\n",
    "        self.layer3 = nn.Linear(20, 3)\n",
    "    \n",
    "    def forward(self, x):\n",
    "        x = F.relu(self.layer1(x))\n",
    "        x = F.relu(self.layer2(x))\n",
    "        x = F.softmax(self.layer3(x), dim=0)\n",
    "        return x"
   ]
  },
  {
   "cell_type": "code",
   "execution_count": 4,
   "metadata": {},
   "outputs": [],
   "source": [
    "import torch\n",
    "model = Model(x_tr.shape[1])  # 초기화함수의 input_dim으로 변수개수 전달\n",
    "optimizer = torch.optim.Adam(model.parameters(), lr=0.01)  # 최적화함수 정의\n",
    "loss_fn = nn.CrossEntropyLoss()   # 손실함수\n",
    "epochs = 100"
   ]
  },
  {
   "cell_type": "code",
   "execution_count": 5,
   "metadata": {},
   "outputs": [
    {
     "name": "stdout",
     "output_type": "stream",
     "text": [
      "Epoch 1\n",
      "loss: 1.0984668731689453\n",
      "Epoch 2\n",
      "loss: 1.0974229574203491\n",
      "Epoch 3\n",
      "loss: 1.0964428186416626\n",
      "Epoch 4\n",
      "loss: 1.095467448234558\n",
      "Epoch 5\n",
      "loss: 1.0942389965057373\n",
      "Epoch 6\n",
      "loss: 1.0930181741714478\n",
      "Epoch 7\n",
      "loss: 1.0919082164764404\n",
      "Epoch 8\n",
      "loss: 1.0908933877944946\n",
      "Epoch 9\n",
      "loss: 1.0899903774261475\n",
      "Epoch 10\n",
      "loss: 1.0892446041107178\n",
      "Epoch 11\n",
      "loss: 1.0887044668197632\n",
      "Epoch 12\n",
      "loss: 1.088281512260437\n",
      "Epoch 13\n",
      "loss: 1.0879327058792114\n",
      "Epoch 14\n",
      "loss: 1.0876280069351196\n",
      "Epoch 15\n",
      "loss: 1.0873583555221558\n",
      "Epoch 16\n",
      "loss: 1.0871249437332153\n",
      "Epoch 17\n",
      "loss: 1.0869371891021729\n",
      "Epoch 18\n",
      "loss: 1.0868198871612549\n",
      "Epoch 19\n",
      "loss: 1.0867855548858643\n",
      "Epoch 20\n",
      "loss: 1.0867151021957397\n",
      "Epoch 21\n",
      "loss: 1.086606502532959\n",
      "Epoch 22\n",
      "loss: 1.086495280265808\n",
      "Epoch 23\n",
      "loss: 1.086396336555481\n",
      "Epoch 24\n",
      "loss: 1.0863277912139893\n",
      "Epoch 25\n",
      "loss: 1.0862568616867065\n",
      "Epoch 26\n",
      "loss: 1.086134672164917\n",
      "Epoch 27\n",
      "loss: 1.0859878063201904\n",
      "Epoch 28\n",
      "loss: 1.0858433246612549\n",
      "Epoch 29\n",
      "loss: 1.0857020616531372\n",
      "Epoch 30\n",
      "loss: 1.0855576992034912\n",
      "Epoch 31\n",
      "loss: 1.08539879322052\n",
      "Epoch 32\n",
      "loss: 1.0852164030075073\n",
      "Epoch 33\n",
      "loss: 1.0850310325622559\n",
      "Epoch 34\n",
      "loss: 1.0848584175109863\n",
      "Epoch 35\n",
      "loss: 1.0846855640411377\n",
      "Epoch 36\n",
      "loss: 1.0845108032226562\n",
      "Epoch 37\n",
      "loss: 1.0843290090560913\n",
      "Epoch 38\n",
      "loss: 1.0841504335403442\n",
      "Epoch 39\n",
      "loss: 1.0839802026748657\n",
      "Epoch 40\n",
      "loss: 1.0838215351104736\n",
      "Epoch 41\n",
      "loss: 1.0836726427078247\n",
      "Epoch 42\n",
      "loss: 1.083527684211731\n",
      "Epoch 43\n",
      "loss: 1.0833909511566162\n",
      "Epoch 44\n",
      "loss: 1.083262324333191\n",
      "Epoch 45\n",
      "loss: 1.0831445455551147\n",
      "Epoch 46\n",
      "loss: 1.0830410718917847\n",
      "Epoch 47\n",
      "loss: 1.0829545259475708\n",
      "Epoch 48\n",
      "loss: 1.0828816890716553\n",
      "Epoch 49\n",
      "loss: 1.082821249961853\n",
      "Epoch 50\n",
      "loss: 1.0827711820602417\n",
      "Epoch 51\n",
      "loss: 1.082729458808899\n",
      "Epoch 52\n",
      "loss: 1.082694411277771\n",
      "Epoch 53\n",
      "loss: 1.0826647281646729\n",
      "Epoch 54\n",
      "loss: 1.0826390981674194\n",
      "Epoch 55\n",
      "loss: 1.0826160907745361\n",
      "Epoch 56\n",
      "loss: 1.0825976133346558\n",
      "Epoch 57\n",
      "loss: 1.0825812816619873\n",
      "Epoch 58\n",
      "loss: 1.0825660228729248\n",
      "Epoch 59\n",
      "loss: 1.0825517177581787\n",
      "Epoch 60\n",
      "loss: 1.0825378894805908\n",
      "Epoch 61\n",
      "loss: 1.0825244188308716\n",
      "Epoch 62\n",
      "loss: 1.0825117826461792\n",
      "Epoch 63\n",
      "loss: 1.082499384880066\n",
      "Epoch 64\n",
      "loss: 1.0824878215789795\n",
      "Epoch 65\n",
      "loss: 1.082477331161499\n",
      "Epoch 66\n",
      "loss: 1.0824655294418335\n",
      "Epoch 67\n",
      "loss: 1.0824545621871948\n",
      "Epoch 68\n",
      "loss: 1.0824440717697144\n",
      "Epoch 69\n",
      "loss: 1.082433819770813\n",
      "Epoch 70\n",
      "loss: 1.0824238061904907\n",
      "Epoch 71\n",
      "loss: 1.082414150238037\n",
      "Epoch 72\n",
      "loss: 1.0824044942855835\n",
      "Epoch 73\n",
      "loss: 1.0823955535888672\n",
      "Epoch 74\n",
      "loss: 1.0823866128921509\n",
      "Epoch 75\n",
      "loss: 1.0823782682418823\n",
      "Epoch 76\n",
      "loss: 1.0823701620101929\n",
      "Epoch 77\n",
      "loss: 1.082362413406372\n",
      "Epoch 78\n",
      "loss: 1.0823546648025513\n",
      "Epoch 79\n",
      "loss: 1.0823473930358887\n",
      "Epoch 80\n",
      "loss: 1.0823400020599365\n",
      "Epoch 81\n",
      "loss: 1.0823330879211426\n",
      "Epoch 82\n",
      "loss: 1.0823262929916382\n",
      "Epoch 83\n",
      "loss: 1.082319974899292\n",
      "Epoch 84\n",
      "loss: 1.082314372062683\n",
      "Epoch 85\n",
      "loss: 1.0823098421096802\n",
      "Epoch 86\n",
      "loss: 1.082305669784546\n",
      "Epoch 87\n",
      "loss: 1.0823017358779907\n",
      "Epoch 88\n",
      "loss: 1.0822980403900146\n",
      "Epoch 89\n",
      "loss: 1.0822947025299072\n",
      "Epoch 90\n",
      "loss: 1.0822910070419312\n",
      "Epoch 91\n",
      "loss: 1.0822874307632446\n",
      "Epoch 92\n",
      "loss: 1.0822840929031372\n",
      "Epoch 93\n",
      "loss: 1.0822806358337402\n",
      "Epoch 94\n",
      "loss: 1.082277774810791\n",
      "Epoch 95\n",
      "loss: 1.0822750329971313\n",
      "Epoch 96\n",
      "loss: 1.0822727680206299\n",
      "Epoch 97\n",
      "loss: 1.0822707414627075\n",
      "Epoch 98\n",
      "loss: 1.0822689533233643\n",
      "Epoch 99\n",
      "loss: 1.0822670459747314\n",
      "Epoch 100\n",
      "loss: 1.0822651386260986\n"
     ]
    }
   ],
   "source": [
    "from torch.autograd import Variable\n",
    "x_train = Variable(torch.from_numpy(x_tr)).float()\n",
    "y_train = Variable(torch.from_numpy(y_tr)).long()\n",
    "\n",
    "for epoch in range(1, epochs+1):\n",
    "    print(\"Epoch\", epoch)\n",
    "    # 예측값\n",
    "    y_pred = model(x_train)\n",
    "\n",
    "    # 손실함수에 예측값과 실제값 입력\n",
    "    loss = loss_fn(y_pred, y_train)\n",
    "    print('loss:', loss.item())\n",
    "\n",
    "    # 경사초기화\n",
    "    optimizer.zero_grad()\n",
    "    loss.backward()  # 역전파\n",
    "    optimizer.step()  # 가중치업데이트"
   ]
  },
  {
   "cell_type": "code",
   "execution_count": 6,
   "metadata": {},
   "outputs": [
    {
     "data": {
      "text/plain": [
       "tensor([[1.7911e-08, 8.5237e-03, 7.6710e-05],\n",
       "        [2.2809e-02, 1.5496e-06, 1.3424e-09],\n",
       "        [8.8213e-09, 1.5601e-03, 1.8399e-04],\n",
       "        [1.9989e-09, 8.5623e-04, 8.2037e-04],\n",
       "        [1.0429e-06, 3.1595e-01, 1.0237e-06]], grad_fn=<SliceBackward0>)"
      ]
     },
     "execution_count": 6,
     "metadata": {},
     "output_type": "execute_result"
    }
   ],
   "source": [
    "# prediction\n",
    "x_test = Variable(torch.from_numpy(x_ts)).float()\n",
    "pred = model(x_test)\n",
    "pred[:5]"
   ]
  },
  {
   "cell_type": "code",
   "execution_count": 7,
   "metadata": {},
   "outputs": [
    {
     "data": {
      "text/plain": [
       "array([1, 0, 1, 1, 1, 2, 0, 2, 2, 0, 0, 1, 2, 2, 1, 0, 0, 1, 2, 0, 2, 2,\n",
       "       2, 0, 0, 1, 1, 0, 1, 1], dtype=int64)"
      ]
     },
     "execution_count": 7,
     "metadata": {},
     "output_type": "execute_result"
    }
   ],
   "source": [
    "import numpy as np\n",
    "np.argmax(pred.data.numpy(), axis = 1)"
   ]
  },
  {
   "cell_type": "code",
   "execution_count": 8,
   "metadata": {},
   "outputs": [
    {
     "data": {
      "text/plain": [
       "0.9666666666666667"
      ]
     },
     "execution_count": 8,
     "metadata": {},
     "output_type": "execute_result"
    }
   ],
   "source": [
    "from sklearn.metrics import accuracy_score\n",
    "accuracy_score(y_ts, np.argmax(pred.data.numpy(), axis=1))"
   ]
  },
  {
   "cell_type": "code",
   "execution_count": 9,
   "metadata": {},
   "outputs": [],
   "source": [
    "torch.save(model, 'Data/iris-torch.h5')"
   ]
  },
  {
   "cell_type": "code",
   "execution_count": 10,
   "metadata": {},
   "outputs": [
    {
     "data": {
      "text/plain": [
       "2"
      ]
     },
     "execution_count": 10,
     "metadata": {},
     "output_type": "execute_result"
    }
   ],
   "source": [
    "model2 = torch.load('Data/iris-torch.h5')\n",
    "# np.argmax(model2(x_test[0]).data.numpy())\n",
    "np.argmax(model2(x_test[0]).detach().numpy())"
   ]
  },
  {
   "cell_type": "code",
   "execution_count": 11,
   "metadata": {},
   "outputs": [
    {
     "data": {
      "text/plain": [
       "=================================================================\n",
       "Layer (type:depth-idx)                   Param #\n",
       "=================================================================\n",
       "Model                                    --\n",
       "├─Linear: 1-1                            250\n",
       "├─Linear: 1-2                            1,020\n",
       "├─Linear: 1-3                            63\n",
       "=================================================================\n",
       "Total params: 1,333\n",
       "Trainable params: 1,333\n",
       "Non-trainable params: 0\n",
       "================================================================="
      ]
     },
     "execution_count": 11,
     "metadata": {},
     "output_type": "execute_result"
    }
   ],
   "source": [
    "from torchinfo import summary\n",
    "summary(model)"
   ]
  },
  {
   "cell_type": "code",
   "execution_count": 12,
   "metadata": {},
   "outputs": [
    {
     "data": {
      "text/plain": [
       "==========================================================================================\n",
       "Layer (type:depth-idx)                   Output Shape              Param #\n",
       "==========================================================================================\n",
       "Model                                    [32, 3]                   --\n",
       "├─Linear: 1-1                            [32, 50]                  250\n",
       "├─Linear: 1-2                            [32, 20]                  1,020\n",
       "├─Linear: 1-3                            [32, 3]                   63\n",
       "==========================================================================================\n",
       "Total params: 1,333\n",
       "Trainable params: 1,333\n",
       "Non-trainable params: 0\n",
       "Total mult-adds (M): 0.04\n",
       "==========================================================================================\n",
       "Input size (MB): 0.00\n",
       "Forward/backward pass size (MB): 0.02\n",
       "Params size (MB): 0.01\n",
       "Estimated Total Size (MB): 0.02\n",
       "=========================================================================================="
      ]
     },
     "execution_count": 12,
     "metadata": {},
     "output_type": "execute_result"
    }
   ],
   "source": [
    "# input_size=(batch size, input nodes)\n",
    "summary(model, input_size=(32, 4))"
   ]
  }
 ],
 "metadata": {
  "kernelspec": {
   "display_name": "Python 3",
   "language": "python",
   "name": "python3"
  },
  "language_info": {
   "codemirror_mode": {
    "name": "ipython",
    "version": 3
   },
   "file_extension": ".py",
   "mimetype": "text/x-python",
   "name": "python",
   "nbconvert_exporter": "python",
   "pygments_lexer": "ipython3",
   "version": "3.9.13"
  },
  "orig_nbformat": 4
 },
 "nbformat": 4,
 "nbformat_minor": 2
}
