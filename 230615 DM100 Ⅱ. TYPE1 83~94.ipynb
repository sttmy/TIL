{
 "cells": [
  {
   "cell_type": "code",
   "execution_count": 1,
   "id": "069680ff",
   "metadata": {},
   "outputs": [],
   "source": [
    "import pandas as pd\n",
    "import datetime as dt"
   ]
  },
  {
   "cell_type": "markdown",
   "id": "f4d7abdf",
   "metadata": {},
   "source": [
    "## 서비스 이탈예측 데이터\n",
    "데이터 출처 : https://www.kaggle.com/shubh0799/churn-modelling 에서 변형\n",
    "\n",
    "데이터 설명 : 고객의 신상정보 데이터를 통한 회사 서비스 이탈 예측 (종속변수 : Exited)"
   ]
  },
  {
   "cell_type": "code",
   "execution_count": 2,
   "id": "9790663c",
   "metadata": {},
   "outputs": [
    {
     "data": {
      "text/html": [
       "<div>\n",
       "<style scoped>\n",
       "    .dataframe tbody tr th:only-of-type {\n",
       "        vertical-align: middle;\n",
       "    }\n",
       "\n",
       "    .dataframe tbody tr th {\n",
       "        vertical-align: top;\n",
       "    }\n",
       "\n",
       "    .dataframe thead th {\n",
       "        text-align: right;\n",
       "    }\n",
       "</style>\n",
       "<table border=\"1\" class=\"dataframe\">\n",
       "  <thead>\n",
       "    <tr style=\"text-align: right;\">\n",
       "      <th></th>\n",
       "      <th>RowNumber</th>\n",
       "      <th>CustomerId</th>\n",
       "      <th>Surname</th>\n",
       "      <th>CreditScore</th>\n",
       "      <th>Geography</th>\n",
       "      <th>Gender</th>\n",
       "      <th>Age</th>\n",
       "      <th>Tenure</th>\n",
       "      <th>Balance</th>\n",
       "      <th>NumOfProducts</th>\n",
       "      <th>HasCrCard</th>\n",
       "      <th>IsActiveMember</th>\n",
       "      <th>EstimatedSalary</th>\n",
       "      <th>Exited</th>\n",
       "    </tr>\n",
       "  </thead>\n",
       "  <tbody>\n",
       "    <tr>\n",
       "      <th>0</th>\n",
       "      <td>6842</td>\n",
       "      <td>15793491</td>\n",
       "      <td>Cherkasova</td>\n",
       "      <td>714</td>\n",
       "      <td>Germany</td>\n",
       "      <td>Male</td>\n",
       "      <td>26</td>\n",
       "      <td>3</td>\n",
       "      <td>119545.48</td>\n",
       "      <td>2</td>\n",
       "      <td>1</td>\n",
       "      <td>0</td>\n",
       "      <td>65482.94</td>\n",
       "      <td>0</td>\n",
       "    </tr>\n",
       "    <tr>\n",
       "      <th>1</th>\n",
       "      <td>8963</td>\n",
       "      <td>15607874</td>\n",
       "      <td>Keane</td>\n",
       "      <td>687</td>\n",
       "      <td>France</td>\n",
       "      <td>Male</td>\n",
       "      <td>38</td>\n",
       "      <td>0</td>\n",
       "      <td>144450.58</td>\n",
       "      <td>1</td>\n",
       "      <td>0</td>\n",
       "      <td>1</td>\n",
       "      <td>137276.83</td>\n",
       "      <td>0</td>\n",
       "    </tr>\n",
       "    <tr>\n",
       "      <th>2</th>\n",
       "      <td>7047</td>\n",
       "      <td>15737627</td>\n",
       "      <td>Rivero</td>\n",
       "      <td>589</td>\n",
       "      <td>Germany</td>\n",
       "      <td>Female</td>\n",
       "      <td>20</td>\n",
       "      <td>2</td>\n",
       "      <td>121093.29</td>\n",
       "      <td>2</td>\n",
       "      <td>1</td>\n",
       "      <td>0</td>\n",
       "      <td>3529.72</td>\n",
       "      <td>0</td>\n",
       "    </tr>\n",
       "    <tr>\n",
       "      <th>3</th>\n",
       "      <td>7503</td>\n",
       "      <td>15697844</td>\n",
       "      <td>Whitehouse</td>\n",
       "      <td>721</td>\n",
       "      <td>Spain</td>\n",
       "      <td>Female</td>\n",
       "      <td>32</td>\n",
       "      <td>10</td>\n",
       "      <td>0.00</td>\n",
       "      <td>1</td>\n",
       "      <td>1</td>\n",
       "      <td>0</td>\n",
       "      <td>136119.96</td>\n",
       "      <td>1</td>\n",
       "    </tr>\n",
       "    <tr>\n",
       "      <th>4</th>\n",
       "      <td>3439</td>\n",
       "      <td>15722404</td>\n",
       "      <td>Carpenter</td>\n",
       "      <td>445</td>\n",
       "      <td>France</td>\n",
       "      <td>Female</td>\n",
       "      <td>30</td>\n",
       "      <td>3</td>\n",
       "      <td>0.00</td>\n",
       "      <td>2</td>\n",
       "      <td>1</td>\n",
       "      <td>1</td>\n",
       "      <td>127939.19</td>\n",
       "      <td>0</td>\n",
       "    </tr>\n",
       "  </tbody>\n",
       "</table>\n",
       "</div>"
      ],
      "text/plain": [
       "   RowNumber  CustomerId     Surname  CreditScore Geography  Gender  Age   \n",
       "0       6842    15793491  Cherkasova          714   Germany    Male   26  \\\n",
       "1       8963    15607874       Keane          687    France    Male   38   \n",
       "2       7047    15737627      Rivero          589   Germany  Female   20   \n",
       "3       7503    15697844  Whitehouse          721     Spain  Female   32   \n",
       "4       3439    15722404   Carpenter          445    France  Female   30   \n",
       "\n",
       "   Tenure    Balance  NumOfProducts  HasCrCard  IsActiveMember   \n",
       "0       3  119545.48              2          1               0  \\\n",
       "1       0  144450.58              1          0               1   \n",
       "2       2  121093.29              2          1               0   \n",
       "3      10       0.00              1          1               0   \n",
       "4       3       0.00              2          1               1   \n",
       "\n",
       "   EstimatedSalary  Exited  \n",
       "0         65482.94       0  \n",
       "1        137276.83       0  \n",
       "2          3529.72       0  \n",
       "3        136119.96       1  \n",
       "4        127939.19       0  "
      ]
     },
     "execution_count": 2,
     "metadata": {},
     "output_type": "execute_result"
    }
   ],
   "source": [
    "df= pd.read_csv(\"https://raw.githubusercontent.com/Datamanim/datarepo/main/churn/train.csv\")\n",
    "df.head()"
   ]
  },
  {
   "cell_type": "code",
   "execution_count": 3,
   "id": "a7db5a5a",
   "metadata": {
    "collapsed": true
   },
   "outputs": [
    {
     "name": "stdout",
     "output_type": "stream",
     "text": [
      "<class 'pandas.core.frame.DataFrame'>\n",
      "RangeIndex: 7999 entries, 0 to 7998\n",
      "Data columns (total 14 columns):\n",
      " #   Column           Non-Null Count  Dtype  \n",
      "---  ------           --------------  -----  \n",
      " 0   RowNumber        7999 non-null   int64  \n",
      " 1   CustomerId       7999 non-null   int64  \n",
      " 2   Surname          7999 non-null   object \n",
      " 3   CreditScore      7999 non-null   int64  \n",
      " 4   Geography        7999 non-null   object \n",
      " 5   Gender           7999 non-null   object \n",
      " 6   Age              7999 non-null   int64  \n",
      " 7   Tenure           7999 non-null   int64  \n",
      " 8   Balance          7999 non-null   float64\n",
      " 9   NumOfProducts    7999 non-null   int64  \n",
      " 10  HasCrCard        7999 non-null   int64  \n",
      " 11  IsActiveMember   7999 non-null   int64  \n",
      " 12  EstimatedSalary  7999 non-null   float64\n",
      " 13  Exited           7999 non-null   int64  \n",
      "dtypes: float64(2), int64(9), object(3)\n",
      "memory usage: 875.0+ KB\n"
     ]
    }
   ],
   "source": [
    "df.info()"
   ]
  },
  {
   "cell_type": "markdown",
   "id": "6e65caf7",
   "metadata": {},
   "source": [
    "Q83.남성 이탈(Exited)이 가장 많은 국가(Geography)는 어디이고 이탈 인원은 몇명인가?"
   ]
  },
  {
   "cell_type": "code",
   "execution_count": 8,
   "id": "1e404068",
   "metadata": {},
   "outputs": [
    {
     "data": {
      "text/plain": [
       "(array(['Male', 'Female'], dtype=object), array([0, 1], dtype=int64))"
      ]
     },
     "execution_count": 8,
     "metadata": {},
     "output_type": "execute_result"
    }
   ],
   "source": [
    "df.Gender.unique(), df.Exited.unique()"
   ]
  },
  {
   "cell_type": "code",
   "execution_count": 15,
   "id": "c93e9393",
   "metadata": {},
   "outputs": [
    {
     "data": {
      "text/plain": [
       "Geography\n",
       "Germany    287\n",
       "Name: count, dtype: int64"
      ]
     },
     "execution_count": 15,
     "metadata": {},
     "output_type": "execute_result"
    }
   ],
   "source": [
    "df [ (df.Gender == \"Male\" ) & (df.Exited == 1) ].Geography.value_counts().head(1)"
   ]
  },
  {
   "cell_type": "code",
   "execution_count": 29,
   "id": "66f02d18",
   "metadata": {},
   "outputs": [
    {
     "data": {
      "text/plain": [
       "Geography\n",
       "Germany    287\n",
       "Name: Exited, dtype: int64"
      ]
     },
     "execution_count": 29,
     "metadata": {},
     "output_type": "execute_result"
    }
   ],
   "source": [
    "df[df.Gender == 'Male'].groupby(['Geography']).sum()['Exited'].sort_values(ascending = False).head(1)"
   ]
  },
  {
   "cell_type": "markdown",
   "id": "1e8bbf09",
   "metadata": {},
   "source": [
    "Q84.카드를 소유(HasCrCard ==1)하고 있으면서 활성멤버(IsActiveMember ==1) 인 고객들의 평균 나이를 소숫점이하 4자리까지 구하여라? "
   ]
  },
  {
   "cell_type": "code",
   "execution_count": 17,
   "id": "ba65a102",
   "metadata": {},
   "outputs": [
    {
     "data": {
      "text/plain": [
       "39.6102"
      ]
     },
     "execution_count": 17,
     "metadata": {},
     "output_type": "execute_result"
    }
   ],
   "source": [
    "round(df[ (df.HasCrCard == 1) & (df.IsActiveMember == 1) ].Age.mean(),4)"
   ]
  },
  {
   "cell_type": "markdown",
   "id": "d1ac0646",
   "metadata": {},
   "source": [
    "Q85.Balance 값이 중간값 이상을 가지는 고객들의 CreditScore의 표준편차를 소숫점이하 3자리까지 구하여라"
   ]
  },
  {
   "cell_type": "code",
   "execution_count": 21,
   "id": "37c2b705",
   "metadata": {},
   "outputs": [
    {
     "data": {
      "text/plain": [
       "97.295"
      ]
     },
     "execution_count": 21,
     "metadata": {},
     "output_type": "execute_result"
    }
   ],
   "source": [
    "round(df[ df.Balance >= df.Balance.median() ].CreditScore.std(),3)"
   ]
  },
  {
   "cell_type": "markdown",
   "id": "f20489b8",
   "metadata": {},
   "source": [
    "## 성인 건강검진데이터\n",
    "데이터 출처 :https://www.data.go.kr/data/15007122/fileData.do (참고, 데이터 수정)\n",
    "\n",
    "데이터 설명 : 2018년도 성인의 건강검 진데이터 (흡연상태 1- 흡연, 0-비흡연 )"
   ]
  },
  {
   "cell_type": "code",
   "execution_count": 22,
   "id": "b5e26835",
   "metadata": {},
   "outputs": [
    {
     "data": {
      "text/html": [
       "<div>\n",
       "<style scoped>\n",
       "    .dataframe tbody tr th:only-of-type {\n",
       "        vertical-align: middle;\n",
       "    }\n",
       "\n",
       "    .dataframe tbody tr th {\n",
       "        vertical-align: top;\n",
       "    }\n",
       "\n",
       "    .dataframe thead th {\n",
       "        text-align: right;\n",
       "    }\n",
       "</style>\n",
       "<table border=\"1\" class=\"dataframe\">\n",
       "  <thead>\n",
       "    <tr style=\"text-align: right;\">\n",
       "      <th></th>\n",
       "      <th>성별코드</th>\n",
       "      <th>연령대코드(5세단위)</th>\n",
       "      <th>신장(5Cm단위)</th>\n",
       "      <th>체중(5Kg단위)</th>\n",
       "      <th>허리둘레</th>\n",
       "      <th>시력(좌)</th>\n",
       "      <th>시력(우)</th>\n",
       "      <th>청력(좌)</th>\n",
       "      <th>청력(우)</th>\n",
       "      <th>수축기혈압</th>\n",
       "      <th>...</th>\n",
       "      <th>혈색소</th>\n",
       "      <th>요단백</th>\n",
       "      <th>혈청크레아티닌</th>\n",
       "      <th>(혈청지오티)AST</th>\n",
       "      <th>(혈청지오티)ALT</th>\n",
       "      <th>감마지티피</th>\n",
       "      <th>흡연상태</th>\n",
       "      <th>구강검진수검여부</th>\n",
       "      <th>치아우식증유무</th>\n",
       "      <th>치석</th>\n",
       "    </tr>\n",
       "  </thead>\n",
       "  <tbody>\n",
       "    <tr>\n",
       "      <th>0</th>\n",
       "      <td>F</td>\n",
       "      <td>55</td>\n",
       "      <td>145</td>\n",
       "      <td>55</td>\n",
       "      <td>73.0</td>\n",
       "      <td>0.7</td>\n",
       "      <td>0.5</td>\n",
       "      <td>1.0</td>\n",
       "      <td>1.0</td>\n",
       "      <td>129.0</td>\n",
       "      <td>...</td>\n",
       "      <td>12.9</td>\n",
       "      <td>1.0</td>\n",
       "      <td>0.9</td>\n",
       "      <td>172.0</td>\n",
       "      <td>209.0</td>\n",
       "      <td>15.0</td>\n",
       "      <td>0</td>\n",
       "      <td>Y</td>\n",
       "      <td>0.0</td>\n",
       "      <td>Y</td>\n",
       "    </tr>\n",
       "    <tr>\n",
       "      <th>1</th>\n",
       "      <td>M</td>\n",
       "      <td>40</td>\n",
       "      <td>180</td>\n",
       "      <td>55</td>\n",
       "      <td>74.0</td>\n",
       "      <td>1.5</td>\n",
       "      <td>1.5</td>\n",
       "      <td>1.0</td>\n",
       "      <td>1.0</td>\n",
       "      <td>102.0</td>\n",
       "      <td>...</td>\n",
       "      <td>15.6</td>\n",
       "      <td>1.0</td>\n",
       "      <td>0.8</td>\n",
       "      <td>30.0</td>\n",
       "      <td>19.0</td>\n",
       "      <td>23.0</td>\n",
       "      <td>1</td>\n",
       "      <td>Y</td>\n",
       "      <td>0.0</td>\n",
       "      <td>Y</td>\n",
       "    </tr>\n",
       "    <tr>\n",
       "      <th>2</th>\n",
       "      <td>F</td>\n",
       "      <td>55</td>\n",
       "      <td>150</td>\n",
       "      <td>50</td>\n",
       "      <td>72.0</td>\n",
       "      <td>1.0</td>\n",
       "      <td>0.2</td>\n",
       "      <td>1.0</td>\n",
       "      <td>1.0</td>\n",
       "      <td>116.0</td>\n",
       "      <td>...</td>\n",
       "      <td>14.1</td>\n",
       "      <td>1.0</td>\n",
       "      <td>1.0</td>\n",
       "      <td>31.0</td>\n",
       "      <td>19.0</td>\n",
       "      <td>10.0</td>\n",
       "      <td>0</td>\n",
       "      <td>Y</td>\n",
       "      <td>0.0</td>\n",
       "      <td>N</td>\n",
       "    </tr>\n",
       "    <tr>\n",
       "      <th>3</th>\n",
       "      <td>M</td>\n",
       "      <td>40</td>\n",
       "      <td>170</td>\n",
       "      <td>85</td>\n",
       "      <td>89.0</td>\n",
       "      <td>1.0</td>\n",
       "      <td>0.8</td>\n",
       "      <td>1.0</td>\n",
       "      <td>1.0</td>\n",
       "      <td>124.0</td>\n",
       "      <td>...</td>\n",
       "      <td>16.7</td>\n",
       "      <td>1.0</td>\n",
       "      <td>1.0</td>\n",
       "      <td>26.0</td>\n",
       "      <td>38.0</td>\n",
       "      <td>108.0</td>\n",
       "      <td>1</td>\n",
       "      <td>Y</td>\n",
       "      <td>1.0</td>\n",
       "      <td>Y</td>\n",
       "    </tr>\n",
       "    <tr>\n",
       "      <th>4</th>\n",
       "      <td>F</td>\n",
       "      <td>40</td>\n",
       "      <td>155</td>\n",
       "      <td>45</td>\n",
       "      <td>62.0</td>\n",
       "      <td>0.5</td>\n",
       "      <td>1.0</td>\n",
       "      <td>1.0</td>\n",
       "      <td>1.0</td>\n",
       "      <td>127.0</td>\n",
       "      <td>...</td>\n",
       "      <td>12.9</td>\n",
       "      <td>1.0</td>\n",
       "      <td>0.7</td>\n",
       "      <td>20.0</td>\n",
       "      <td>11.0</td>\n",
       "      <td>13.0</td>\n",
       "      <td>0</td>\n",
       "      <td>Y</td>\n",
       "      <td>0.0</td>\n",
       "      <td>N</td>\n",
       "    </tr>\n",
       "  </tbody>\n",
       "</table>\n",
       "<p>5 rows × 26 columns</p>\n",
       "</div>"
      ],
      "text/plain": [
       "  성별코드  연령대코드(5세단위)  신장(5Cm단위)  체중(5Kg단위)  허리둘레  시력(좌)  시력(우)  청력(좌)  청력(우)   \n",
       "0    F           55        145         55  73.0    0.7    0.5    1.0    1.0  \\\n",
       "1    M           40        180         55  74.0    1.5    1.5    1.0    1.0   \n",
       "2    F           55        150         50  72.0    1.0    0.2    1.0    1.0   \n",
       "3    M           40        170         85  89.0    1.0    0.8    1.0    1.0   \n",
       "4    F           40        155         45  62.0    0.5    1.0    1.0    1.0   \n",
       "\n",
       "   수축기혈압  ...   혈색소  요단백  혈청크레아티닌  (혈청지오티)AST  (혈청지오티)ALT  감마지티피  흡연상태   \n",
       "0  129.0  ...  12.9  1.0      0.9       172.0       209.0   15.0     0  \\\n",
       "1  102.0  ...  15.6  1.0      0.8        30.0        19.0   23.0     1   \n",
       "2  116.0  ...  14.1  1.0      1.0        31.0        19.0   10.0     0   \n",
       "3  124.0  ...  16.7  1.0      1.0        26.0        38.0  108.0     1   \n",
       "4  127.0  ...  12.9  1.0      0.7        20.0        11.0   13.0     0   \n",
       "\n",
       "   구강검진수검여부  치아우식증유무  치석  \n",
       "0         Y      0.0   Y  \n",
       "1         Y      0.0   Y  \n",
       "2         Y      0.0   N  \n",
       "3         Y      1.0   Y  \n",
       "4         Y      0.0   N  \n",
       "\n",
       "[5 rows x 26 columns]"
      ]
     },
     "execution_count": 22,
     "metadata": {},
     "output_type": "execute_result"
    }
   ],
   "source": [
    "url = 'https://raw.githubusercontent.com/Datamanim/datarepo/main/smoke/train.csv'\n",
    "df = pd.read_csv(url)\n",
    "df.head()"
   ]
  },
  {
   "cell_type": "code",
   "execution_count": 23,
   "id": "d0f2ea94",
   "metadata": {},
   "outputs": [
    {
     "name": "stdout",
     "output_type": "stream",
     "text": [
      "<class 'pandas.core.frame.DataFrame'>\n",
      "RangeIndex: 44553 entries, 0 to 44552\n",
      "Data columns (total 26 columns):\n",
      " #   Column       Non-Null Count  Dtype  \n",
      "---  ------       --------------  -----  \n",
      " 0   성별코드         44553 non-null  object \n",
      " 1   연령대코드(5세단위)  44553 non-null  int64  \n",
      " 2   신장(5Cm단위)    44553 non-null  int64  \n",
      " 3   체중(5Kg단위)    44553 non-null  int64  \n",
      " 4   허리둘레         44553 non-null  float64\n",
      " 5   시력(좌)        44553 non-null  float64\n",
      " 6   시력(우)        44553 non-null  float64\n",
      " 7   청력(좌)        44553 non-null  float64\n",
      " 8   청력(우)        44553 non-null  float64\n",
      " 9   수축기혈압        44553 non-null  float64\n",
      " 10  이완기혈압        44553 non-null  float64\n",
      " 11  식전혈당(공복혈당)   44553 non-null  float64\n",
      " 12  총콜레스테롤       44553 non-null  float64\n",
      " 13  트리글리세라이드     44553 non-null  float64\n",
      " 14  HDL콜레스테롤     44553 non-null  float64\n",
      " 15  LDL콜레스테롤     44553 non-null  float64\n",
      " 16  혈색소          44553 non-null  float64\n",
      " 17  요단백          44553 non-null  float64\n",
      " 18  혈청크레아티닌      44553 non-null  float64\n",
      " 19  (혈청지오티)AST   44553 non-null  float64\n",
      " 20  (혈청지오티)ALT   44553 non-null  float64\n",
      " 21  감마지티피        44553 non-null  float64\n",
      " 22  흡연상태         44553 non-null  int64  \n",
      " 23  구강검진수검여부     44553 non-null  object \n",
      " 24  치아우식증유무      44553 non-null  float64\n",
      " 25  치석           44553 non-null  object \n",
      "dtypes: float64(19), int64(4), object(3)\n",
      "memory usage: 8.8+ MB\n"
     ]
    }
   ],
   "source": [
    "df.info()"
   ]
  },
  {
   "cell_type": "markdown",
   "id": "3858a2d5",
   "metadata": {},
   "source": [
    "86.수축기혈압과 이완기 혈압기 수치의 차이를 새로운 컬럼(‘혈압차’) 으로 생성하고, 연령대 코드별 각 그룹 중 ‘혈압차’ 의 분산이 5번째로 큰 연령대 코드를 구하여라"
   ]
  },
  {
   "cell_type": "code",
   "execution_count": 24,
   "id": "f8738536",
   "metadata": {},
   "outputs": [],
   "source": [
    "df['혈압차'] = df.수축기혈압 - df.이완기혈압"
   ]
  },
  {
   "cell_type": "code",
   "execution_count": 37,
   "id": "1683a553",
   "metadata": {},
   "outputs": [
    {
     "data": {
      "text/plain": [
       "60"
      ]
     },
     "execution_count": 37,
     "metadata": {},
     "output_type": "execute_result"
    }
   ],
   "source": [
    "df.groupby(\"연령대코드(5세단위)\").혈압차.var().sort_values(ascending = False).index[4]"
   ]
  },
  {
   "cell_type": "markdown",
   "id": "ea7af27a",
   "metadata": {},
   "source": [
    "Q87.비만도를 나타내는 지표인 WHtR는 허리둘레 / 키로 표현한다. 일반적으로 0.58이상이면 비만으로 분류한다. 데이터중 WHtR 지표상 비만인 인원의 남/여 비율을 구하여라"
   ]
  },
  {
   "cell_type": "code",
   "execution_count": 47,
   "id": "6f8e68e3",
   "metadata": {},
   "outputs": [
    {
     "data": {
      "text/plain": [
       "성별코드\n",
       "F    1470\n",
       "M    1719\n",
       "dtype: int64"
      ]
     },
     "execution_count": 47,
     "metadata": {},
     "output_type": "execute_result"
    }
   ],
   "source": [
    "df[df.허리둘레/df['신장(5Cm단위)']>= 0.58].groupby(\"성별코드\").size()"
   ]
  },
  {
   "cell_type": "code",
   "execution_count": 49,
   "id": "3247f344",
   "metadata": {},
   "outputs": [
    {
     "data": {
      "text/plain": [
       "1.1693877551020408"
      ]
     },
     "execution_count": 49,
     "metadata": {},
     "output_type": "execute_result"
    }
   ],
   "source": [
    "df[df.허리둘레/df['신장(5Cm단위)']>= 0.58].groupby(\"성별코드\").size()[1] / df[df.허리둘레/df['신장(5Cm단위)']>= 0.58].groupby(\"성별코드\").size()[0]"
   ]
  },
  {
   "cell_type": "markdown",
   "id": "2f906944",
   "metadata": {},
   "source": [
    "## 자동차 보험가입 예측데이터"
   ]
  },
  {
   "cell_type": "code",
   "execution_count": 51,
   "id": "fbc6b8de",
   "metadata": {
    "scrolled": false
   },
   "outputs": [
    {
     "data": {
      "text/html": [
       "<div>\n",
       "<style scoped>\n",
       "    .dataframe tbody tr th:only-of-type {\n",
       "        vertical-align: middle;\n",
       "    }\n",
       "\n",
       "    .dataframe tbody tr th {\n",
       "        vertical-align: top;\n",
       "    }\n",
       "\n",
       "    .dataframe thead th {\n",
       "        text-align: right;\n",
       "    }\n",
       "</style>\n",
       "<table border=\"1\" class=\"dataframe\">\n",
       "  <thead>\n",
       "    <tr style=\"text-align: right;\">\n",
       "      <th></th>\n",
       "      <th>id</th>\n",
       "      <th>Gender</th>\n",
       "      <th>Age</th>\n",
       "      <th>Driving_License</th>\n",
       "      <th>Region_Code</th>\n",
       "      <th>Previously_Insured</th>\n",
       "      <th>Vehicle_Age</th>\n",
       "      <th>Vehicle_Damage</th>\n",
       "      <th>Annual_Premium</th>\n",
       "      <th>Policy_Sales_Channel</th>\n",
       "      <th>Vintage</th>\n",
       "      <th>Response</th>\n",
       "    </tr>\n",
       "  </thead>\n",
       "  <tbody>\n",
       "    <tr>\n",
       "      <th>0</th>\n",
       "      <td>188957</td>\n",
       "      <td>Female</td>\n",
       "      <td>25</td>\n",
       "      <td>1</td>\n",
       "      <td>17.0</td>\n",
       "      <td>1</td>\n",
       "      <td>&lt; 1 Year</td>\n",
       "      <td>No</td>\n",
       "      <td>38785.0</td>\n",
       "      <td>152.0</td>\n",
       "      <td>59</td>\n",
       "      <td>0</td>\n",
       "    </tr>\n",
       "    <tr>\n",
       "      <th>1</th>\n",
       "      <td>275631</td>\n",
       "      <td>Male</td>\n",
       "      <td>20</td>\n",
       "      <td>1</td>\n",
       "      <td>22.0</td>\n",
       "      <td>0</td>\n",
       "      <td>&lt; 1 Year</td>\n",
       "      <td>No</td>\n",
       "      <td>2630.0</td>\n",
       "      <td>160.0</td>\n",
       "      <td>113</td>\n",
       "      <td>0</td>\n",
       "    </tr>\n",
       "    <tr>\n",
       "      <th>2</th>\n",
       "      <td>329036</td>\n",
       "      <td>Female</td>\n",
       "      <td>40</td>\n",
       "      <td>1</td>\n",
       "      <td>41.0</td>\n",
       "      <td>0</td>\n",
       "      <td>1-2 Year</td>\n",
       "      <td>Yes</td>\n",
       "      <td>33165.0</td>\n",
       "      <td>124.0</td>\n",
       "      <td>188</td>\n",
       "      <td>0</td>\n",
       "    </tr>\n",
       "    <tr>\n",
       "      <th>3</th>\n",
       "      <td>227288</td>\n",
       "      <td>Female</td>\n",
       "      <td>28</td>\n",
       "      <td>1</td>\n",
       "      <td>30.0</td>\n",
       "      <td>1</td>\n",
       "      <td>&lt; 1 Year</td>\n",
       "      <td>No</td>\n",
       "      <td>29038.0</td>\n",
       "      <td>152.0</td>\n",
       "      <td>233</td>\n",
       "      <td>0</td>\n",
       "    </tr>\n",
       "    <tr>\n",
       "      <th>4</th>\n",
       "      <td>300441</td>\n",
       "      <td>Female</td>\n",
       "      <td>50</td>\n",
       "      <td>1</td>\n",
       "      <td>28.0</td>\n",
       "      <td>0</td>\n",
       "      <td>1-2 Year</td>\n",
       "      <td>Yes</td>\n",
       "      <td>31325.0</td>\n",
       "      <td>124.0</td>\n",
       "      <td>258</td>\n",
       "      <td>0</td>\n",
       "    </tr>\n",
       "  </tbody>\n",
       "</table>\n",
       "</div>"
      ],
      "text/plain": [
       "       id  Gender  Age  Driving_License  Region_Code  Previously_Insured   \n",
       "0  188957  Female   25                1         17.0                   1  \\\n",
       "1  275631    Male   20                1         22.0                   0   \n",
       "2  329036  Female   40                1         41.0                   0   \n",
       "3  227288  Female   28                1         30.0                   1   \n",
       "4  300441  Female   50                1         28.0                   0   \n",
       "\n",
       "  Vehicle_Age Vehicle_Damage  Annual_Premium  Policy_Sales_Channel  Vintage   \n",
       "0    < 1 Year             No         38785.0                 152.0       59  \\\n",
       "1    < 1 Year             No          2630.0                 160.0      113   \n",
       "2    1-2 Year            Yes         33165.0                 124.0      188   \n",
       "3    < 1 Year             No         29038.0                 152.0      233   \n",
       "4    1-2 Year            Yes         31325.0                 124.0      258   \n",
       "\n",
       "   Response  \n",
       "0         0  \n",
       "1         0  \n",
       "2         0  \n",
       "3         0  \n",
       "4         0  "
      ]
     },
     "execution_count": 51,
     "metadata": {},
     "output_type": "execute_result"
    }
   ],
   "source": [
    "df = pd.read_csv(\"https://raw.githubusercontent.com/Datamanim/datarepo/main/insurance/train.csv\")\n",
    "df.head()"
   ]
  },
  {
   "cell_type": "markdown",
   "id": "9dea4a16",
   "metadata": {},
   "source": [
    "Q88.Vehicle_Age 값이 2년 이상인 사람들만 필터링 하고 그중에서 Annual_Premium 값이 전체 데이터의 중간값 이상인 사람들을 찾고, 그들의 Vintage값의 평균을 구하여라"
   ]
  },
  {
   "cell_type": "code",
   "execution_count": 53,
   "id": "ffefc5fd",
   "metadata": {},
   "outputs": [
    {
     "data": {
      "text/plain": [
       "array(['< 1 Year', '1-2 Year', '> 2 Years'], dtype=object)"
      ]
     },
     "execution_count": 53,
     "metadata": {},
     "output_type": "execute_result"
    }
   ],
   "source": [
    "df.Vehicle_Age.unique()"
   ]
  },
  {
   "cell_type": "code",
   "execution_count": 60,
   "id": "faebe00f",
   "metadata": {},
   "outputs": [
    {
     "data": {
      "text/plain": [
       "154.55906743858552"
      ]
     },
     "execution_count": 60,
     "metadata": {},
     "output_type": "execute_result"
    }
   ],
   "source": [
    "df[df.Vehicle_Age == '> 2 Years'][df[df.Vehicle_Age == '> 2 Years'].Annual_Premium >= df[df.Vehicle_Age == '> 2 Years'].Annual_Premium.median()].Vintage.mean()"
   ]
  },
  {
   "cell_type": "markdown",
   "id": "51ef044d",
   "metadata": {},
   "source": [
    "Q89. vehicle_age에 따른 각 성별(gender)그룹의 Annual_Premium값의 평균을 구하여 아래 테이블과 동일하게 구현하라"
   ]
  },
  {
   "cell_type": "code",
   "execution_count": 70,
   "id": "eb36331e",
   "metadata": {},
   "outputs": [
    {
     "data": {
      "text/html": [
       "<div>\n",
       "<style scoped>\n",
       "    .dataframe tbody tr th:only-of-type {\n",
       "        vertical-align: middle;\n",
       "    }\n",
       "\n",
       "    .dataframe tbody tr th {\n",
       "        vertical-align: top;\n",
       "    }\n",
       "\n",
       "    .dataframe thead th {\n",
       "        text-align: right;\n",
       "    }\n",
       "</style>\n",
       "<table border=\"1\" class=\"dataframe\">\n",
       "  <thead>\n",
       "    <tr style=\"text-align: right;\">\n",
       "      <th>Gender</th>\n",
       "      <th>Female</th>\n",
       "      <th>Male</th>\n",
       "    </tr>\n",
       "    <tr>\n",
       "      <th>Vehicle_Age</th>\n",
       "      <th></th>\n",
       "      <th></th>\n",
       "    </tr>\n",
       "  </thead>\n",
       "  <tbody>\n",
       "    <tr>\n",
       "      <th>1-2 Year</th>\n",
       "      <td>30762.245001</td>\n",
       "      <td>30413.088469</td>\n",
       "    </tr>\n",
       "    <tr>\n",
       "      <th>&lt; 1 Year</th>\n",
       "      <td>29972.286702</td>\n",
       "      <td>30310.982212</td>\n",
       "    </tr>\n",
       "    <tr>\n",
       "      <th>&gt; 2 Years</th>\n",
       "      <td>36108.366374</td>\n",
       "      <td>35303.870627</td>\n",
       "    </tr>\n",
       "  </tbody>\n",
       "</table>\n",
       "</div>"
      ],
      "text/plain": [
       "Gender             Female          Male\n",
       "Vehicle_Age                            \n",
       "1-2 Year     30762.245001  30413.088469\n",
       "< 1 Year     29972.286702  30310.982212\n",
       "> 2 Years    36108.366374  35303.870627"
      ]
     },
     "execution_count": 70,
     "metadata": {},
     "output_type": "execute_result"
    }
   ],
   "source": [
    "df.groupby(['Vehicle_Age','Gender'])['Annual_Premium'].mean().unstack()"
   ]
  },
  {
   "cell_type": "markdown",
   "id": "27e44616",
   "metadata": {},
   "source": [
    "## 핸드폰 가격 예측데이터\n"
   ]
  },
  {
   "cell_type": "code",
   "execution_count": 71,
   "id": "c2ff2967",
   "metadata": {
    "scrolled": true
   },
   "outputs": [
    {
     "data": {
      "text/html": [
       "<div>\n",
       "<style scoped>\n",
       "    .dataframe tbody tr th:only-of-type {\n",
       "        vertical-align: middle;\n",
       "    }\n",
       "\n",
       "    .dataframe tbody tr th {\n",
       "        vertical-align: top;\n",
       "    }\n",
       "\n",
       "    .dataframe thead th {\n",
       "        text-align: right;\n",
       "    }\n",
       "</style>\n",
       "<table border=\"1\" class=\"dataframe\">\n",
       "  <thead>\n",
       "    <tr style=\"text-align: right;\">\n",
       "      <th></th>\n",
       "      <th>battery_power</th>\n",
       "      <th>blue</th>\n",
       "      <th>clock_speed</th>\n",
       "      <th>dual_sim</th>\n",
       "      <th>fc</th>\n",
       "      <th>four_g</th>\n",
       "      <th>int_memory</th>\n",
       "      <th>m_dep</th>\n",
       "      <th>mobile_wt</th>\n",
       "      <th>n_cores</th>\n",
       "      <th>...</th>\n",
       "      <th>px_height</th>\n",
       "      <th>px_width</th>\n",
       "      <th>ram</th>\n",
       "      <th>sc_h</th>\n",
       "      <th>sc_w</th>\n",
       "      <th>talk_time</th>\n",
       "      <th>three_g</th>\n",
       "      <th>touch_screen</th>\n",
       "      <th>wifi</th>\n",
       "      <th>price_range</th>\n",
       "    </tr>\n",
       "  </thead>\n",
       "  <tbody>\n",
       "    <tr>\n",
       "      <th>0</th>\n",
       "      <td>842</td>\n",
       "      <td>0</td>\n",
       "      <td>2.2</td>\n",
       "      <td>0</td>\n",
       "      <td>1</td>\n",
       "      <td>0</td>\n",
       "      <td>7</td>\n",
       "      <td>0.6</td>\n",
       "      <td>188</td>\n",
       "      <td>2</td>\n",
       "      <td>...</td>\n",
       "      <td>20</td>\n",
       "      <td>756</td>\n",
       "      <td>2549</td>\n",
       "      <td>9</td>\n",
       "      <td>7</td>\n",
       "      <td>19</td>\n",
       "      <td>0</td>\n",
       "      <td>0</td>\n",
       "      <td>1</td>\n",
       "      <td>1</td>\n",
       "    </tr>\n",
       "    <tr>\n",
       "      <th>1</th>\n",
       "      <td>1021</td>\n",
       "      <td>1</td>\n",
       "      <td>0.5</td>\n",
       "      <td>1</td>\n",
       "      <td>0</td>\n",
       "      <td>1</td>\n",
       "      <td>53</td>\n",
       "      <td>0.7</td>\n",
       "      <td>136</td>\n",
       "      <td>3</td>\n",
       "      <td>...</td>\n",
       "      <td>905</td>\n",
       "      <td>1988</td>\n",
       "      <td>2631</td>\n",
       "      <td>17</td>\n",
       "      <td>3</td>\n",
       "      <td>7</td>\n",
       "      <td>1</td>\n",
       "      <td>1</td>\n",
       "      <td>0</td>\n",
       "      <td>2</td>\n",
       "    </tr>\n",
       "    <tr>\n",
       "      <th>2</th>\n",
       "      <td>563</td>\n",
       "      <td>1</td>\n",
       "      <td>0.5</td>\n",
       "      <td>1</td>\n",
       "      <td>2</td>\n",
       "      <td>1</td>\n",
       "      <td>41</td>\n",
       "      <td>0.9</td>\n",
       "      <td>145</td>\n",
       "      <td>5</td>\n",
       "      <td>...</td>\n",
       "      <td>1263</td>\n",
       "      <td>1716</td>\n",
       "      <td>2603</td>\n",
       "      <td>11</td>\n",
       "      <td>2</td>\n",
       "      <td>9</td>\n",
       "      <td>1</td>\n",
       "      <td>1</td>\n",
       "      <td>0</td>\n",
       "      <td>2</td>\n",
       "    </tr>\n",
       "    <tr>\n",
       "      <th>3</th>\n",
       "      <td>615</td>\n",
       "      <td>1</td>\n",
       "      <td>2.5</td>\n",
       "      <td>0</td>\n",
       "      <td>0</td>\n",
       "      <td>0</td>\n",
       "      <td>10</td>\n",
       "      <td>0.8</td>\n",
       "      <td>131</td>\n",
       "      <td>6</td>\n",
       "      <td>...</td>\n",
       "      <td>1216</td>\n",
       "      <td>1786</td>\n",
       "      <td>2769</td>\n",
       "      <td>16</td>\n",
       "      <td>8</td>\n",
       "      <td>11</td>\n",
       "      <td>1</td>\n",
       "      <td>0</td>\n",
       "      <td>0</td>\n",
       "      <td>2</td>\n",
       "    </tr>\n",
       "    <tr>\n",
       "      <th>4</th>\n",
       "      <td>1821</td>\n",
       "      <td>1</td>\n",
       "      <td>1.2</td>\n",
       "      <td>0</td>\n",
       "      <td>13</td>\n",
       "      <td>1</td>\n",
       "      <td>44</td>\n",
       "      <td>0.6</td>\n",
       "      <td>141</td>\n",
       "      <td>2</td>\n",
       "      <td>...</td>\n",
       "      <td>1208</td>\n",
       "      <td>1212</td>\n",
       "      <td>1411</td>\n",
       "      <td>8</td>\n",
       "      <td>2</td>\n",
       "      <td>15</td>\n",
       "      <td>1</td>\n",
       "      <td>1</td>\n",
       "      <td>0</td>\n",
       "      <td>1</td>\n",
       "    </tr>\n",
       "  </tbody>\n",
       "</table>\n",
       "<p>5 rows × 21 columns</p>\n",
       "</div>"
      ],
      "text/plain": [
       "   battery_power  blue  clock_speed  dual_sim  fc  four_g  int_memory  m_dep   \n",
       "0            842     0          2.2         0   1       0           7    0.6  \\\n",
       "1           1021     1          0.5         1   0       1          53    0.7   \n",
       "2            563     1          0.5         1   2       1          41    0.9   \n",
       "3            615     1          2.5         0   0       0          10    0.8   \n",
       "4           1821     1          1.2         0  13       1          44    0.6   \n",
       "\n",
       "   mobile_wt  n_cores  ...  px_height  px_width   ram  sc_h  sc_w  talk_time   \n",
       "0        188        2  ...         20       756  2549     9     7         19  \\\n",
       "1        136        3  ...        905      1988  2631    17     3          7   \n",
       "2        145        5  ...       1263      1716  2603    11     2          9   \n",
       "3        131        6  ...       1216      1786  2769    16     8         11   \n",
       "4        141        2  ...       1208      1212  1411     8     2         15   \n",
       "\n",
       "   three_g  touch_screen  wifi  price_range  \n",
       "0        0             0     1            1  \n",
       "1        1             1     0            2  \n",
       "2        1             1     0            2  \n",
       "3        1             0     0            2  \n",
       "4        1             1     0            1  \n",
       "\n",
       "[5 rows x 21 columns]"
      ]
     },
     "execution_count": 71,
     "metadata": {},
     "output_type": "execute_result"
    }
   ],
   "source": [
    "df = pd.read_csv(\"https://raw.githubusercontent.com/Datamanim/datarepo/main/mobile/train.csv\")\n",
    "df.head()"
   ]
  },
  {
   "cell_type": "markdown",
   "id": "74e2fbb6",
   "metadata": {},
   "source": [
    "## Q90.price_range 의 각 value를 그룹핑하여 각 그룹의 n_cores 의 빈도가 가장높은 value와 그 빈도수를 구하여라"
   ]
  },
  {
   "cell_type": "code",
   "execution_count": 87,
   "id": "31f9998b",
   "metadata": {},
   "outputs": [
    {
     "data": {
      "text/plain": [
       "price_range  n_cores\n",
       "0            2          69\n",
       "             4          67\n",
       "             8          67\n",
       "             7          66\n",
       "             3          62\n",
       "             6          61\n",
       "             5          59\n",
       "             1          49\n",
       "1            4          76\n",
       "             1          76\n",
       "             3          69\n",
       "             8          60\n",
       "             2          59\n",
       "             7          55\n",
       "             6          54\n",
       "             5          51\n",
       "2            4          73\n",
       "             8          70\n",
       "             7          69\n",
       "             5          66\n",
       "             6          57\n",
       "             2          57\n",
       "             3          56\n",
       "             1          52\n",
       "3            5          70\n",
       "             7          69\n",
       "             1          65\n",
       "             2          62\n",
       "             3          59\n",
       "             8          59\n",
       "             6          58\n",
       "             4          58\n",
       "Name: count, dtype: int64"
      ]
     },
     "execution_count": 87,
     "metadata": {},
     "output_type": "execute_result"
    }
   ],
   "source": [
    "df.groupby('price_range')['n_cores'].value_counts()"
   ]
  },
  {
   "cell_type": "code",
   "execution_count": 90,
   "id": "085dcaef",
   "metadata": {
    "scrolled": true
   },
   "outputs": [
    {
     "data": {
      "text/plain": [
       "price_range  n_cores\n",
       "0            2          69\n",
       "3            5          70\n",
       "2            4          73\n",
       "1            1          76\n",
       "dtype: int64"
      ]
     },
     "execution_count": 90,
     "metadata": {},
     "output_type": "execute_result"
    }
   ],
   "source": [
    "df.groupby(['price_range','n_cores']).size().sort_values().groupby(level=0).tail(1)"
   ]
  },
  {
   "cell_type": "code",
   "execution_count": 105,
   "id": "917d5944",
   "metadata": {},
   "outputs": [
    {
     "data": {
      "text/plain": [
       "price_range  n_cores\n",
       "0            1          49\n",
       "1            5          51\n",
       "2            1          52\n",
       "3            6          58\n",
       "dtype: int64"
      ]
     },
     "execution_count": 105,
     "metadata": {},
     "output_type": "execute_result"
    }
   ],
   "source": [
    "df.groupby(['price_range','n_cores']).size().sort_values().groupby(level=0).head(1)"
   ]
  },
  {
   "cell_type": "markdown",
   "id": "8cc929db",
   "metadata": {},
   "source": [
    "Q91.price_range 값이 3인 그룹에서 상관관계가 2번째로 높은 두 컬럼과 그 상관계수를 구하여라"
   ]
  },
  {
   "cell_type": "code",
   "execution_count": 102,
   "id": "2b8061ef",
   "metadata": {},
   "outputs": [
    {
     "data": {
      "text/plain": [
       "level_0          pc\n",
       "level_1          fc\n",
       "0          0.635166\n",
       "Name: 1, dtype: object"
      ]
     },
     "execution_count": 102,
     "metadata": {},
     "output_type": "execute_result"
    }
   ],
   "source": [
    "df[df.price_range == 3].corr().unstack()[df[df.price_range == 3].corr().unstack() != 1].abs().sort_values(ascending = False).reset_index().iloc[1]"
   ]
  },
  {
   "cell_type": "markdown",
   "id": "6193a71c",
   "metadata": {},
   "source": [
    "## 비행탑승 경험 만족도 데이터"
   ]
  },
  {
   "cell_type": "code",
   "execution_count": 106,
   "id": "b56ff27f",
   "metadata": {},
   "outputs": [
    {
     "data": {
      "text/html": [
       "<div>\n",
       "<style scoped>\n",
       "    .dataframe tbody tr th:only-of-type {\n",
       "        vertical-align: middle;\n",
       "    }\n",
       "\n",
       "    .dataframe tbody tr th {\n",
       "        vertical-align: top;\n",
       "    }\n",
       "\n",
       "    .dataframe thead th {\n",
       "        text-align: right;\n",
       "    }\n",
       "</style>\n",
       "<table border=\"1\" class=\"dataframe\">\n",
       "  <thead>\n",
       "    <tr style=\"text-align: right;\">\n",
       "      <th></th>\n",
       "      <th>id</th>\n",
       "      <th>Gender</th>\n",
       "      <th>Customer Type</th>\n",
       "      <th>Age</th>\n",
       "      <th>Type of Travel</th>\n",
       "      <th>Class</th>\n",
       "      <th>Flight Distance</th>\n",
       "      <th>Inflight wifi service</th>\n",
       "      <th>Departure/Arrival time convenient</th>\n",
       "      <th>Ease of Online booking</th>\n",
       "      <th>...</th>\n",
       "      <th>Inflight entertainment</th>\n",
       "      <th>On-board service</th>\n",
       "      <th>Leg room service</th>\n",
       "      <th>Baggage handling</th>\n",
       "      <th>Checkin service</th>\n",
       "      <th>Inflight service</th>\n",
       "      <th>Cleanliness</th>\n",
       "      <th>Departure Delay in Minutes</th>\n",
       "      <th>Arrival Delay in Minutes</th>\n",
       "      <th>satisfaction</th>\n",
       "    </tr>\n",
       "  </thead>\n",
       "  <tbody>\n",
       "    <tr>\n",
       "      <th>0</th>\n",
       "      <td>55882</td>\n",
       "      <td>Male</td>\n",
       "      <td>Loyal Customer</td>\n",
       "      <td>42</td>\n",
       "      <td>Business travel</td>\n",
       "      <td>Business</td>\n",
       "      <td>473</td>\n",
       "      <td>1</td>\n",
       "      <td>1</td>\n",
       "      <td>3</td>\n",
       "      <td>...</td>\n",
       "      <td>5</td>\n",
       "      <td>5</td>\n",
       "      <td>5</td>\n",
       "      <td>5</td>\n",
       "      <td>3</td>\n",
       "      <td>5</td>\n",
       "      <td>3</td>\n",
       "      <td>3</td>\n",
       "      <td>0.0</td>\n",
       "      <td>satisfied</td>\n",
       "    </tr>\n",
       "    <tr>\n",
       "      <th>1</th>\n",
       "      <td>31906</td>\n",
       "      <td>Female</td>\n",
       "      <td>Loyal Customer</td>\n",
       "      <td>31</td>\n",
       "      <td>Business travel</td>\n",
       "      <td>Business</td>\n",
       "      <td>3271</td>\n",
       "      <td>4</td>\n",
       "      <td>4</td>\n",
       "      <td>4</td>\n",
       "      <td>...</td>\n",
       "      <td>3</td>\n",
       "      <td>3</td>\n",
       "      <td>5</td>\n",
       "      <td>5</td>\n",
       "      <td>3</td>\n",
       "      <td>4</td>\n",
       "      <td>3</td>\n",
       "      <td>1</td>\n",
       "      <td>5.0</td>\n",
       "      <td>satisfied</td>\n",
       "    </tr>\n",
       "    <tr>\n",
       "      <th>2</th>\n",
       "      <td>85481</td>\n",
       "      <td>Male</td>\n",
       "      <td>Loyal Customer</td>\n",
       "      <td>51</td>\n",
       "      <td>Personal Travel</td>\n",
       "      <td>Eco</td>\n",
       "      <td>214</td>\n",
       "      <td>5</td>\n",
       "      <td>0</td>\n",
       "      <td>5</td>\n",
       "      <td>...</td>\n",
       "      <td>3</td>\n",
       "      <td>4</td>\n",
       "      <td>4</td>\n",
       "      <td>4</td>\n",
       "      <td>4</td>\n",
       "      <td>4</td>\n",
       "      <td>3</td>\n",
       "      <td>2</td>\n",
       "      <td>0.0</td>\n",
       "      <td>satisfied</td>\n",
       "    </tr>\n",
       "    <tr>\n",
       "      <th>3</th>\n",
       "      <td>102134</td>\n",
       "      <td>Male</td>\n",
       "      <td>Loyal Customer</td>\n",
       "      <td>44</td>\n",
       "      <td>Business travel</td>\n",
       "      <td>Business</td>\n",
       "      <td>3097</td>\n",
       "      <td>1</td>\n",
       "      <td>1</td>\n",
       "      <td>3</td>\n",
       "      <td>...</td>\n",
       "      <td>4</td>\n",
       "      <td>4</td>\n",
       "      <td>4</td>\n",
       "      <td>4</td>\n",
       "      <td>3</td>\n",
       "      <td>4</td>\n",
       "      <td>5</td>\n",
       "      <td>0</td>\n",
       "      <td>0.0</td>\n",
       "      <td>satisfied</td>\n",
       "    </tr>\n",
       "    <tr>\n",
       "      <th>4</th>\n",
       "      <td>31580</td>\n",
       "      <td>Male</td>\n",
       "      <td>Loyal Customer</td>\n",
       "      <td>33</td>\n",
       "      <td>Business travel</td>\n",
       "      <td>Business</td>\n",
       "      <td>3286</td>\n",
       "      <td>1</td>\n",
       "      <td>1</td>\n",
       "      <td>1</td>\n",
       "      <td>...</td>\n",
       "      <td>4</td>\n",
       "      <td>2</td>\n",
       "      <td>5</td>\n",
       "      <td>2</td>\n",
       "      <td>5</td>\n",
       "      <td>1</td>\n",
       "      <td>4</td>\n",
       "      <td>0</td>\n",
       "      <td>0.0</td>\n",
       "      <td>satisfied</td>\n",
       "    </tr>\n",
       "  </tbody>\n",
       "</table>\n",
       "<p>5 rows × 24 columns</p>\n",
       "</div>"
      ],
      "text/plain": [
       "       id  Gender   Customer Type  Age   Type of Travel     Class   \n",
       "0   55882    Male  Loyal Customer   42  Business travel  Business  \\\n",
       "1   31906  Female  Loyal Customer   31  Business travel  Business   \n",
       "2   85481    Male  Loyal Customer   51  Personal Travel       Eco   \n",
       "3  102134    Male  Loyal Customer   44  Business travel  Business   \n",
       "4   31580    Male  Loyal Customer   33  Business travel  Business   \n",
       "\n",
       "   Flight Distance  Inflight wifi service  Departure/Arrival time convenient   \n",
       "0              473                      1                                  1  \\\n",
       "1             3271                      4                                  4   \n",
       "2              214                      5                                  0   \n",
       "3             3097                      1                                  1   \n",
       "4             3286                      1                                  1   \n",
       "\n",
       "   Ease of Online booking  ...  Inflight entertainment  On-board service   \n",
       "0                       3  ...                       5                 5  \\\n",
       "1                       4  ...                       3                 3   \n",
       "2                       5  ...                       3                 4   \n",
       "3                       3  ...                       4                 4   \n",
       "4                       1  ...                       4                 2   \n",
       "\n",
       "   Leg room service  Baggage handling  Checkin service  Inflight service   \n",
       "0                 5                 5                3                 5  \\\n",
       "1                 5                 5                3                 4   \n",
       "2                 4                 4                4                 4   \n",
       "3                 4                 4                3                 4   \n",
       "4                 5                 2                5                 1   \n",
       "\n",
       "   Cleanliness  Departure Delay in Minutes  Arrival Delay in Minutes   \n",
       "0            3                           3                       0.0  \\\n",
       "1            3                           1                       5.0   \n",
       "2            3                           2                       0.0   \n",
       "3            5                           0                       0.0   \n",
       "4            4                           0                       0.0   \n",
       "\n",
       "   satisfaction  \n",
       "0     satisfied  \n",
       "1     satisfied  \n",
       "2     satisfied  \n",
       "3     satisfied  \n",
       "4     satisfied  \n",
       "\n",
       "[5 rows x 24 columns]"
      ]
     },
     "execution_count": 106,
     "metadata": {},
     "output_type": "execute_result"
    }
   ],
   "source": [
    "df = pd.read_csv(\"https://raw.githubusercontent.com/Datamanim/datarepo/main/airline/train.csv\")\n",
    "df.head()"
   ]
  },
  {
   "cell_type": "markdown",
   "id": "a0cc71b0",
   "metadata": {},
   "source": [
    "## Q92. Arrival Delay in Minutes 컬럼이 결측치인 데이터들 중 ‘neutral or dissatisfied’ 보다 ‘satisfied’의 수가 더 높은 Class는 어디 인가?"
   ]
  },
  {
   "cell_type": "code",
   "execution_count": 107,
   "id": "4947a66f",
   "metadata": {},
   "outputs": [
    {
     "name": "stdout",
     "output_type": "stream",
     "text": [
      "<class 'pandas.core.frame.DataFrame'>\n",
      "RangeIndex: 83123 entries, 0 to 83122\n",
      "Data columns (total 24 columns):\n",
      " #   Column                             Non-Null Count  Dtype  \n",
      "---  ------                             --------------  -----  \n",
      " 0   id                                 83123 non-null  int64  \n",
      " 1   Gender                             83123 non-null  object \n",
      " 2   Customer Type                      83123 non-null  object \n",
      " 3   Age                                83123 non-null  int64  \n",
      " 4   Type of Travel                     83123 non-null  object \n",
      " 5   Class                              83123 non-null  object \n",
      " 6   Flight Distance                    83123 non-null  int64  \n",
      " 7   Inflight wifi service              83123 non-null  int64  \n",
      " 8   Departure/Arrival time convenient  83123 non-null  int64  \n",
      " 9   Ease of Online booking             83123 non-null  int64  \n",
      " 10  Gate location                      83123 non-null  int64  \n",
      " 11  Food and drink                     83123 non-null  int64  \n",
      " 12  Online boarding                    83123 non-null  int64  \n",
      " 13  Seat comfort                       83123 non-null  int64  \n",
      " 14  Inflight entertainment             83123 non-null  int64  \n",
      " 15  On-board service                   83123 non-null  int64  \n",
      " 16  Leg room service                   83123 non-null  int64  \n",
      " 17  Baggage handling                   83123 non-null  int64  \n",
      " 18  Checkin service                    83123 non-null  int64  \n",
      " 19  Inflight service                   83123 non-null  int64  \n",
      " 20  Cleanliness                        83123 non-null  int64  \n",
      " 21  Departure Delay in Minutes         83123 non-null  int64  \n",
      " 22  Arrival Delay in Minutes           82867 non-null  float64\n",
      " 23  satisfaction                       83123 non-null  object \n",
      "dtypes: float64(1), int64(18), object(5)\n",
      "memory usage: 15.2+ MB\n"
     ]
    }
   ],
   "source": [
    "df.info()"
   ]
  },
  {
   "cell_type": "code",
   "execution_count": 114,
   "id": "06130480",
   "metadata": {},
   "outputs": [
    {
     "data": {
      "text/html": [
       "<div>\n",
       "<style scoped>\n",
       "    .dataframe tbody tr th:only-of-type {\n",
       "        vertical-align: middle;\n",
       "    }\n",
       "\n",
       "    .dataframe tbody tr th {\n",
       "        vertical-align: top;\n",
       "    }\n",
       "\n",
       "    .dataframe thead th {\n",
       "        text-align: right;\n",
       "    }\n",
       "</style>\n",
       "<table border=\"1\" class=\"dataframe\">\n",
       "  <thead>\n",
       "    <tr style=\"text-align: right;\">\n",
       "      <th>satisfaction</th>\n",
       "      <th>neutral or dissatisfied</th>\n",
       "      <th>satisfied</th>\n",
       "    </tr>\n",
       "    <tr>\n",
       "      <th>Class</th>\n",
       "      <th></th>\n",
       "      <th></th>\n",
       "    </tr>\n",
       "  </thead>\n",
       "  <tbody>\n",
       "    <tr>\n",
       "      <th>Business</th>\n",
       "      <td>36</td>\n",
       "      <td>76</td>\n",
       "    </tr>\n",
       "  </tbody>\n",
       "</table>\n",
       "</div>"
      ],
      "text/plain": [
       "satisfaction  neutral or dissatisfied  satisfied\n",
       "Class                                           \n",
       "Business                           36         76"
      ]
     },
     "execution_count": 114,
     "metadata": {},
     "output_type": "execute_result"
    }
   ],
   "source": [
    "df[df['Arrival Delay in Minutes'].isna()].groupby(['Class','satisfaction']).size().unstack()[df[df['Arrival Delay in Minutes'].isna()].groupby(['Class','satisfaction']).size().unstack()['neutral or dissatisfied'] < df[df['Arrival Delay in Minutes'].isna()].groupby(['Class','satisfaction']).size().unstack()['satisfied']]"
   ]
  },
  {
   "cell_type": "code",
   "execution_count": 116,
   "id": "5b3177ed",
   "metadata": {
    "scrolled": true
   },
   "outputs": [
    {
     "data": {
      "text/html": [
       "<div>\n",
       "<style scoped>\n",
       "    .dataframe tbody tr th:only-of-type {\n",
       "        vertical-align: middle;\n",
       "    }\n",
       "\n",
       "    .dataframe tbody tr th {\n",
       "        vertical-align: top;\n",
       "    }\n",
       "\n",
       "    .dataframe thead th {\n",
       "        text-align: right;\n",
       "    }\n",
       "</style>\n",
       "<table border=\"1\" class=\"dataframe\">\n",
       "  <thead>\n",
       "    <tr style=\"text-align: right;\">\n",
       "      <th></th>\n",
       "      <th>Class</th>\n",
       "      <th>satisfaction</th>\n",
       "      <th>size</th>\n",
       "    </tr>\n",
       "  </thead>\n",
       "  <tbody>\n",
       "    <tr>\n",
       "      <th>0</th>\n",
       "      <td>Business</td>\n",
       "      <td>neutral or dissatisfied</td>\n",
       "      <td>36</td>\n",
       "    </tr>\n",
       "    <tr>\n",
       "      <th>1</th>\n",
       "      <td>Business</td>\n",
       "      <td>satisfied</td>\n",
       "      <td>76</td>\n",
       "    </tr>\n",
       "    <tr>\n",
       "      <th>2</th>\n",
       "      <td>Eco</td>\n",
       "      <td>neutral or dissatisfied</td>\n",
       "      <td>100</td>\n",
       "    </tr>\n",
       "    <tr>\n",
       "      <th>3</th>\n",
       "      <td>Eco</td>\n",
       "      <td>satisfied</td>\n",
       "      <td>25</td>\n",
       "    </tr>\n",
       "    <tr>\n",
       "      <th>4</th>\n",
       "      <td>Eco Plus</td>\n",
       "      <td>neutral or dissatisfied</td>\n",
       "      <td>15</td>\n",
       "    </tr>\n",
       "    <tr>\n",
       "      <th>5</th>\n",
       "      <td>Eco Plus</td>\n",
       "      <td>satisfied</td>\n",
       "      <td>4</td>\n",
       "    </tr>\n",
       "  </tbody>\n",
       "</table>\n",
       "</div>"
      ],
      "text/plain": [
       "      Class             satisfaction  size\n",
       "0  Business  neutral or dissatisfied    36\n",
       "1  Business                satisfied    76\n",
       "2       Eco  neutral or dissatisfied   100\n",
       "3       Eco                satisfied    25\n",
       "4  Eco Plus  neutral or dissatisfied    15\n",
       "5  Eco Plus                satisfied     4"
      ]
     },
     "execution_count": 116,
     "metadata": {},
     "output_type": "execute_result"
    }
   ],
   "source": [
    "df.loc[df['Arrival Delay in Minutes'].isnull()].groupby(['Class','satisfaction'],as_index=False).size()"
   ]
  },
  {
   "cell_type": "code",
   "execution_count": 120,
   "id": "2a0f33c1",
   "metadata": {},
   "outputs": [
    {
     "data": {
      "text/html": [
       "<div>\n",
       "<style scoped>\n",
       "    .dataframe tbody tr th:only-of-type {\n",
       "        vertical-align: middle;\n",
       "    }\n",
       "\n",
       "    .dataframe tbody tr th {\n",
       "        vertical-align: top;\n",
       "    }\n",
       "\n",
       "    .dataframe thead tr th {\n",
       "        text-align: left;\n",
       "    }\n",
       "\n",
       "    .dataframe thead tr:last-of-type th {\n",
       "        text-align: right;\n",
       "    }\n",
       "</style>\n",
       "<table border=\"1\" class=\"dataframe\">\n",
       "  <thead>\n",
       "    <tr>\n",
       "      <th></th>\n",
       "      <th colspan=\"2\" halign=\"left\">size</th>\n",
       "    </tr>\n",
       "    <tr>\n",
       "      <th>satisfaction</th>\n",
       "      <th>neutral or dissatisfied</th>\n",
       "      <th>satisfied</th>\n",
       "    </tr>\n",
       "    <tr>\n",
       "      <th>Class</th>\n",
       "      <th></th>\n",
       "      <th></th>\n",
       "    </tr>\n",
       "  </thead>\n",
       "  <tbody>\n",
       "    <tr>\n",
       "      <th>Business</th>\n",
       "      <td>36</td>\n",
       "      <td>76</td>\n",
       "    </tr>\n",
       "    <tr>\n",
       "      <th>Eco</th>\n",
       "      <td>100</td>\n",
       "      <td>25</td>\n",
       "    </tr>\n",
       "    <tr>\n",
       "      <th>Eco Plus</th>\n",
       "      <td>15</td>\n",
       "      <td>4</td>\n",
       "    </tr>\n",
       "  </tbody>\n",
       "</table>\n",
       "</div>"
      ],
      "text/plain": [
       "                                size          \n",
       "satisfaction neutral or dissatisfied satisfied\n",
       "Class                                         \n",
       "Business                          36        76\n",
       "Eco                              100        25\n",
       "Eco Plus                          15         4"
      ]
     },
     "execution_count": 120,
     "metadata": {},
     "output_type": "execute_result"
    }
   ],
   "source": [
    "pv = df.loc[df['Arrival Delay in Minutes'].isnull()].groupby(['Class','satisfaction'],as_index=False).size().pivot(index='Class',columns='satisfaction')\n",
    "pv"
   ]
  },
  {
   "cell_type": "code",
   "execution_count": 123,
   "id": "5cec6ed2",
   "metadata": {},
   "outputs": [
    {
     "data": {
      "text/html": [
       "<div>\n",
       "<style scoped>\n",
       "    .dataframe tbody tr th:only-of-type {\n",
       "        vertical-align: middle;\n",
       "    }\n",
       "\n",
       "    .dataframe tbody tr th {\n",
       "        vertical-align: top;\n",
       "    }\n",
       "\n",
       "    .dataframe thead tr th {\n",
       "        text-align: left;\n",
       "    }\n",
       "\n",
       "    .dataframe thead tr:last-of-type th {\n",
       "        text-align: right;\n",
       "    }\n",
       "</style>\n",
       "<table border=\"1\" class=\"dataframe\">\n",
       "  <thead>\n",
       "    <tr>\n",
       "      <th></th>\n",
       "      <th colspan=\"2\" halign=\"left\">size</th>\n",
       "    </tr>\n",
       "    <tr>\n",
       "      <th>satisfaction</th>\n",
       "      <th>neutral or dissatisfied</th>\n",
       "      <th>satisfied</th>\n",
       "    </tr>\n",
       "    <tr>\n",
       "      <th>Class</th>\n",
       "      <th></th>\n",
       "      <th></th>\n",
       "    </tr>\n",
       "  </thead>\n",
       "  <tbody>\n",
       "    <tr>\n",
       "      <th>Business</th>\n",
       "      <td>36</td>\n",
       "      <td>76</td>\n",
       "    </tr>\n",
       "  </tbody>\n",
       "</table>\n",
       "</div>"
      ],
      "text/plain": [
       "                                size          \n",
       "satisfaction neutral or dissatisfied satisfied\n",
       "Class                                         \n",
       "Business                          36        76"
      ]
     },
     "execution_count": 123,
     "metadata": {},
     "output_type": "execute_result"
    }
   ],
   "source": [
    "pv[pv['size']['neutral or dissatisfied'] < pv['size']['satisfied']]"
   ]
  },
  {
   "cell_type": "markdown",
   "id": "eb096e19",
   "metadata": {},
   "source": [
    "## 수질 음용성 여부 데이터"
   ]
  },
  {
   "cell_type": "code",
   "execution_count": 140,
   "id": "aeb225fd",
   "metadata": {},
   "outputs": [
    {
     "data": {
      "text/html": [
       "<div>\n",
       "<style scoped>\n",
       "    .dataframe tbody tr th:only-of-type {\n",
       "        vertical-align: middle;\n",
       "    }\n",
       "\n",
       "    .dataframe tbody tr th {\n",
       "        vertical-align: top;\n",
       "    }\n",
       "\n",
       "    .dataframe thead th {\n",
       "        text-align: right;\n",
       "    }\n",
       "</style>\n",
       "<table border=\"1\" class=\"dataframe\">\n",
       "  <thead>\n",
       "    <tr style=\"text-align: right;\">\n",
       "      <th></th>\n",
       "      <th>ph</th>\n",
       "      <th>Hardness</th>\n",
       "      <th>Solids</th>\n",
       "      <th>Chloramines</th>\n",
       "      <th>Sulfate</th>\n",
       "      <th>Conductivity</th>\n",
       "      <th>Organic_carbon</th>\n",
       "      <th>Trihalomethanes</th>\n",
       "      <th>Turbidity</th>\n",
       "      <th>Potability</th>\n",
       "    </tr>\n",
       "  </thead>\n",
       "  <tbody>\n",
       "    <tr>\n",
       "      <th>0</th>\n",
       "      <td>7.918150</td>\n",
       "      <td>214.186611</td>\n",
       "      <td>23823.492888</td>\n",
       "      <td>7.290878</td>\n",
       "      <td>341.173322</td>\n",
       "      <td>411.424483</td>\n",
       "      <td>19.585002</td>\n",
       "      <td>25.057375</td>\n",
       "      <td>4.028958</td>\n",
       "      <td>0</td>\n",
       "    </tr>\n",
       "    <tr>\n",
       "      <th>1</th>\n",
       "      <td>5.422446</td>\n",
       "      <td>205.266080</td>\n",
       "      <td>18542.957451</td>\n",
       "      <td>5.491963</td>\n",
       "      <td>306.702227</td>\n",
       "      <td>382.080129</td>\n",
       "      <td>10.504023</td>\n",
       "      <td>67.493450</td>\n",
       "      <td>2.911751</td>\n",
       "      <td>1</td>\n",
       "    </tr>\n",
       "    <tr>\n",
       "      <th>2</th>\n",
       "      <td>7.341547</td>\n",
       "      <td>187.672402</td>\n",
       "      <td>21273.457066</td>\n",
       "      <td>7.784003</td>\n",
       "      <td>NaN</td>\n",
       "      <td>332.084293</td>\n",
       "      <td>16.842334</td>\n",
       "      <td>55.019151</td>\n",
       "      <td>4.025644</td>\n",
       "      <td>0</td>\n",
       "    </tr>\n",
       "    <tr>\n",
       "      <th>3</th>\n",
       "      <td>9.056245</td>\n",
       "      <td>197.666301</td>\n",
       "      <td>17403.532167</td>\n",
       "      <td>7.688917</td>\n",
       "      <td>337.460176</td>\n",
       "      <td>414.766631</td>\n",
       "      <td>15.349869</td>\n",
       "      <td>63.696746</td>\n",
       "      <td>3.319354</td>\n",
       "      <td>0</td>\n",
       "    </tr>\n",
       "    <tr>\n",
       "      <th>4</th>\n",
       "      <td>5.039374</td>\n",
       "      <td>142.860598</td>\n",
       "      <td>40829.353167</td>\n",
       "      <td>7.271543</td>\n",
       "      <td>NaN</td>\n",
       "      <td>386.803057</td>\n",
       "      <td>16.823773</td>\n",
       "      <td>52.297113</td>\n",
       "      <td>4.957420</td>\n",
       "      <td>0</td>\n",
       "    </tr>\n",
       "  </tbody>\n",
       "</table>\n",
       "</div>"
      ],
      "text/plain": [
       "         ph    Hardness        Solids  Chloramines     Sulfate  Conductivity   \n",
       "0  7.918150  214.186611  23823.492888     7.290878  341.173322    411.424483  \\\n",
       "1  5.422446  205.266080  18542.957451     5.491963  306.702227    382.080129   \n",
       "2  7.341547  187.672402  21273.457066     7.784003         NaN    332.084293   \n",
       "3  9.056245  197.666301  17403.532167     7.688917  337.460176    414.766631   \n",
       "4  5.039374  142.860598  40829.353167     7.271543         NaN    386.803057   \n",
       "\n",
       "   Organic_carbon  Trihalomethanes  Turbidity  Potability  \n",
       "0       19.585002        25.057375   4.028958           0  \n",
       "1       10.504023        67.493450   2.911751           1  \n",
       "2       16.842334        55.019151   4.025644           0  \n",
       "3       15.349869        63.696746   3.319354           0  \n",
       "4       16.823773        52.297113   4.957420           0  "
      ]
     },
     "execution_count": 140,
     "metadata": {},
     "output_type": "execute_result"
    }
   ],
   "source": [
    "df = pd.read_csv(\"https://raw.githubusercontent.com/Datamanim/datarepo/main/waters/train.csv\")\n",
    "df.head()"
   ]
  },
  {
   "cell_type": "code",
   "execution_count": 141,
   "id": "e628bbcc",
   "metadata": {},
   "outputs": [
    {
     "name": "stdout",
     "output_type": "stream",
     "text": [
      "<class 'pandas.core.frame.DataFrame'>\n",
      "RangeIndex: 2620 entries, 0 to 2619\n",
      "Data columns (total 10 columns):\n",
      " #   Column           Non-Null Count  Dtype  \n",
      "---  ------           --------------  -----  \n",
      " 0   ph               2225 non-null   float64\n",
      " 1   Hardness         2620 non-null   float64\n",
      " 2   Solids           2620 non-null   float64\n",
      " 3   Chloramines      2620 non-null   float64\n",
      " 4   Sulfate          2003 non-null   float64\n",
      " 5   Conductivity     2620 non-null   float64\n",
      " 6   Organic_carbon   2620 non-null   float64\n",
      " 7   Trihalomethanes  2488 non-null   float64\n",
      " 8   Turbidity        2620 non-null   float64\n",
      " 9   Potability       2620 non-null   int64  \n",
      "dtypes: float64(9), int64(1)\n",
      "memory usage: 204.8 KB\n"
     ]
    }
   ],
   "source": [
    "df.info()"
   ]
  },
  {
   "cell_type": "markdown",
   "id": "4b9eaf44",
   "metadata": {},
   "source": [
    "Q93.ph값은 상당히 많은 결측치를 포함한다. 결측치를 제외한 나머지 데이터들 중 사분위값 기준 하위 25%의 값들의 평균값은?"
   ]
  },
  {
   "cell_type": "code",
   "execution_count": 126,
   "id": "66e3f669",
   "metadata": {},
   "outputs": [
    {
     "data": {
      "text/plain": [
       "ph                 395\n",
       "Hardness             0\n",
       "Solids               0\n",
       "Chloramines          0\n",
       "Sulfate            617\n",
       "Conductivity         0\n",
       "Organic_carbon       0\n",
       "Trihalomethanes    132\n",
       "Turbidity            0\n",
       "Potability           0\n",
       "dtype: int64"
      ]
     },
     "execution_count": 126,
     "metadata": {},
     "output_type": "execute_result"
    }
   ],
   "source": [
    "df.isna().sum()"
   ]
  },
  {
   "cell_type": "code",
   "execution_count": 142,
   "id": "3175ba7a",
   "metadata": {},
   "outputs": [],
   "source": [
    "df_new = df.iloc[df.ph.dropna().index,:]"
   ]
  },
  {
   "cell_type": "code",
   "execution_count": 143,
   "id": "c28fd467",
   "metadata": {},
   "outputs": [
    {
     "data": {
      "text/plain": [
       "ph                   0\n",
       "Hardness             0\n",
       "Solids               0\n",
       "Chloramines          0\n",
       "Sulfate            526\n",
       "Conductivity         0\n",
       "Organic_carbon       0\n",
       "Trihalomethanes    110\n",
       "Turbidity            0\n",
       "Potability           0\n",
       "dtype: int64"
      ]
     },
     "execution_count": 143,
     "metadata": {},
     "output_type": "execute_result"
    }
   ],
   "source": [
    "df_new.isna().sum()"
   ]
  },
  {
   "cell_type": "code",
   "execution_count": 150,
   "id": "2a0e7422",
   "metadata": {},
   "outputs": [
    {
     "data": {
      "text/plain": [
       "5.057093462441732"
      ]
     },
     "execution_count": 150,
     "metadata": {},
     "output_type": "execute_result"
    }
   ],
   "source": [
    "df_new[df_new <= df_new.ph.quantile(0.25)].ph.mean()"
   ]
  },
  {
   "cell_type": "markdown",
   "id": "db688a25",
   "metadata": {},
   "source": [
    "## 의료 비용 예측 데이터"
   ]
  },
  {
   "cell_type": "code",
   "execution_count": 151,
   "id": "b546b3f0",
   "metadata": {},
   "outputs": [
    {
     "data": {
      "text/html": [
       "<div>\n",
       "<style scoped>\n",
       "    .dataframe tbody tr th:only-of-type {\n",
       "        vertical-align: middle;\n",
       "    }\n",
       "\n",
       "    .dataframe tbody tr th {\n",
       "        vertical-align: top;\n",
       "    }\n",
       "\n",
       "    .dataframe thead th {\n",
       "        text-align: right;\n",
       "    }\n",
       "</style>\n",
       "<table border=\"1\" class=\"dataframe\">\n",
       "  <thead>\n",
       "    <tr style=\"text-align: right;\">\n",
       "      <th></th>\n",
       "      <th>age</th>\n",
       "      <th>sex</th>\n",
       "      <th>bmi</th>\n",
       "      <th>children</th>\n",
       "      <th>smoker</th>\n",
       "      <th>region</th>\n",
       "      <th>charges</th>\n",
       "    </tr>\n",
       "  </thead>\n",
       "  <tbody>\n",
       "    <tr>\n",
       "      <th>0</th>\n",
       "      <td>64</td>\n",
       "      <td>female</td>\n",
       "      <td>39.330</td>\n",
       "      <td>0</td>\n",
       "      <td>no</td>\n",
       "      <td>northeast</td>\n",
       "      <td>14901.51670</td>\n",
       "    </tr>\n",
       "    <tr>\n",
       "      <th>1</th>\n",
       "      <td>47</td>\n",
       "      <td>female</td>\n",
       "      <td>27.830</td>\n",
       "      <td>0</td>\n",
       "      <td>yes</td>\n",
       "      <td>southeast</td>\n",
       "      <td>23065.42070</td>\n",
       "    </tr>\n",
       "    <tr>\n",
       "      <th>2</th>\n",
       "      <td>52</td>\n",
       "      <td>female</td>\n",
       "      <td>33.300</td>\n",
       "      <td>2</td>\n",
       "      <td>no</td>\n",
       "      <td>southwest</td>\n",
       "      <td>10806.83900</td>\n",
       "    </tr>\n",
       "    <tr>\n",
       "      <th>3</th>\n",
       "      <td>33</td>\n",
       "      <td>female</td>\n",
       "      <td>22.135</td>\n",
       "      <td>1</td>\n",
       "      <td>no</td>\n",
       "      <td>northeast</td>\n",
       "      <td>5354.07465</td>\n",
       "    </tr>\n",
       "    <tr>\n",
       "      <th>4</th>\n",
       "      <td>30</td>\n",
       "      <td>male</td>\n",
       "      <td>31.400</td>\n",
       "      <td>1</td>\n",
       "      <td>no</td>\n",
       "      <td>southwest</td>\n",
       "      <td>3659.34600</td>\n",
       "    </tr>\n",
       "  </tbody>\n",
       "</table>\n",
       "</div>"
      ],
      "text/plain": [
       "   age     sex     bmi  children smoker     region      charges\n",
       "0   64  female  39.330         0     no  northeast  14901.51670\n",
       "1   47  female  27.830         0    yes  southeast  23065.42070\n",
       "2   52  female  33.300         2     no  southwest  10806.83900\n",
       "3   33  female  22.135         1     no  northeast   5354.07465\n",
       "4   30    male  31.400         1     no  southwest   3659.34600"
      ]
     },
     "execution_count": 151,
     "metadata": {},
     "output_type": "execute_result"
    }
   ],
   "source": [
    "df = pd.read_csv(\"https://raw.githubusercontent.com/Datamanim/datarepo/main/MedicalCost/train.csv\")\n",
    "df.head()"
   ]
  },
  {
   "cell_type": "markdown",
   "id": "ff207a77",
   "metadata": {},
   "source": [
    "## Q94.흡연자와 비흡연자 각각 charges의 상위 10% 그룹의 평균의 차이는?"
   ]
  },
  {
   "cell_type": "code",
   "execution_count": 167,
   "id": "315d9ca2",
   "metadata": {},
   "outputs": [
    {
     "data": {
      "text/plain": [
       "(1070, 7)"
      ]
     },
     "execution_count": 167,
     "metadata": {},
     "output_type": "execute_result"
    }
   ],
   "source": [
    "df.shape"
   ]
  },
  {
   "cell_type": "code",
   "execution_count": 184,
   "id": "d5cd1a9e",
   "metadata": {
    "collapsed": true
   },
   "outputs": [
    {
     "data": {
      "text/html": [
       "<div>\n",
       "<style scoped>\n",
       "    .dataframe tbody tr th:only-of-type {\n",
       "        vertical-align: middle;\n",
       "    }\n",
       "\n",
       "    .dataframe tbody tr th {\n",
       "        vertical-align: top;\n",
       "    }\n",
       "\n",
       "    .dataframe thead th {\n",
       "        text-align: right;\n",
       "    }\n",
       "</style>\n",
       "<table border=\"1\" class=\"dataframe\">\n",
       "  <thead>\n",
       "    <tr style=\"text-align: right;\">\n",
       "      <th></th>\n",
       "      <th>smoker</th>\n",
       "      <th>charges</th>\n",
       "    </tr>\n",
       "  </thead>\n",
       "  <tbody>\n",
       "    <tr>\n",
       "      <th>126</th>\n",
       "      <td>no</td>\n",
       "      <td>1121.87390</td>\n",
       "    </tr>\n",
       "    <tr>\n",
       "      <th>134</th>\n",
       "      <td>no</td>\n",
       "      <td>1131.50660</td>\n",
       "    </tr>\n",
       "    <tr>\n",
       "      <th>516</th>\n",
       "      <td>no</td>\n",
       "      <td>1135.94070</td>\n",
       "    </tr>\n",
       "    <tr>\n",
       "      <th>340</th>\n",
       "      <td>no</td>\n",
       "      <td>1136.39940</td>\n",
       "    </tr>\n",
       "    <tr>\n",
       "      <th>256</th>\n",
       "      <td>no</td>\n",
       "      <td>1137.01100</td>\n",
       "    </tr>\n",
       "    <tr>\n",
       "      <th>...</th>\n",
       "      <td>...</td>\n",
       "      <td>...</td>\n",
       "    </tr>\n",
       "    <tr>\n",
       "      <th>142</th>\n",
       "      <td>yes</td>\n",
       "      <td>27533.91290</td>\n",
       "    </tr>\n",
       "    <tr>\n",
       "      <th>610</th>\n",
       "      <td>yes</td>\n",
       "      <td>28101.33305</td>\n",
       "    </tr>\n",
       "    <tr>\n",
       "      <th>206</th>\n",
       "      <td>yes</td>\n",
       "      <td>28868.66390</td>\n",
       "    </tr>\n",
       "    <tr>\n",
       "      <th>56</th>\n",
       "      <td>yes</td>\n",
       "      <td>28950.46920</td>\n",
       "    </tr>\n",
       "    <tr>\n",
       "      <th>456</th>\n",
       "      <td>yes</td>\n",
       "      <td>29141.36030</td>\n",
       "    </tr>\n",
       "  </tbody>\n",
       "</table>\n",
       "<p>172 rows × 2 columns</p>\n",
       "</div>"
      ],
      "text/plain": [
       "    smoker      charges\n",
       "126     no   1121.87390\n",
       "134     no   1131.50660\n",
       "516     no   1135.94070\n",
       "340     no   1136.39940\n",
       "256     no   1137.01100\n",
       "..     ...          ...\n",
       "142    yes  27533.91290\n",
       "610    yes  28101.33305\n",
       "206    yes  28868.66390\n",
       "56     yes  28950.46920\n",
       "456    yes  29141.36030\n",
       "\n",
       "[172 rows x 2 columns]"
      ]
     },
     "execution_count": 184,
     "metadata": {},
     "output_type": "execute_result"
    }
   ],
   "source": [
    "df[['smoker','charges']].sort_values(['smoker','charges']).groupby('smoker').head(int((df.smoker == 'no').sum()*0.1))"
   ]
  },
  {
   "cell_type": "code",
   "execution_count": 188,
   "id": "0e48dfcd",
   "metadata": {},
   "outputs": [
    {
     "data": {
      "text/plain": [
       "29297.954548156144"
      ]
     },
     "execution_count": 188,
     "metadata": {},
     "output_type": "execute_result"
    }
   ],
   "source": [
    "yes_thrs = df[df.smoker == 'yes'].charges.quantile(0.9)\n",
    "no_thrs = df[df.smoker == 'no'].charges.quantile(0.9)\n",
    "\n",
    "df[(df.smoker == 'yes') & (df.charges >= yes_thrs)].charges.mean() - df[(df.smoker == 'no') & (df.charges >= no_thrs)].charges.mean()"
   ]
  },
  {
   "cell_type": "code",
   "execution_count": 178,
   "id": "9401dfb3",
   "metadata": {},
   "outputs": [
    {
     "data": {
      "text/plain": [
       "a\n",
       "A       [1, 2]\n",
       "B    [5, 5, 4]\n",
       "C          [6]\n",
       "Name: b, dtype: object"
      ]
     },
     "execution_count": 178,
     "metadata": {},
     "output_type": "execute_result"
    }
   ],
   "source": [
    "d = pd.DataFrame( {'a':['A','A','B','B','B','C'], 'b':[1,2,5,5,4,6]})\n",
    "d.groupby('a')['b'].apply(list)"
   ]
  },
  {
   "cell_type": "markdown",
   "id": "9df3ab80",
   "metadata": {},
   "source": [
    "### Groupby()\n",
    "\n",
    "https://teddylee777.github.io/pandas/pandas-groupby/"
   ]
  },
  {
   "cell_type": "code",
   "execution_count": 194,
   "id": "f1f13d27",
   "metadata": {},
   "outputs": [
    {
     "data": {
      "image/png": "[encoded data removed]",
      "text/plain": [
       "<IPython.core.display.Image object>"
      ]
     },
     "execution_count": 194,
     "metadata": {},
     "output_type": "execute_result"
    }
   ],
   "source": [
    "from IPython.display import Image\n",
    "Image(\"groupby.PNG\")"
   ]
  },
  {
   "cell_type": "markdown",
   "id": "dbcca9b5",
   "metadata": {},
   "source": [
    "groupby().agg()\n",
    "- count\n",
    "- sum\n",
    "- mean, median\n",
    "- var, std\n",
    "- min, max\n",
    "- unique, nunique\n",
    "- prod (곱)\n",
    "- first, last"
   ]
  },
  {
   "cell_type": "code",
   "execution_count": null,
   "id": "3934b8b9",
   "metadata": {},
   "outputs": [],
   "source": [
    "# 다중 통계 적용\n",
    "df.groupby('sex').agg(['mean', 'var'])\n",
    "\n",
    "# 컬럼별 다른 통계량 산출\n",
    "df.groupby('sex').agg({'total_bill': 'mean', \n",
    "                       'tip': ['sum', 'var'],\n",
    "                       'size': 'median'\n",
    "                      })\n",
    "\n",
    "# 사용자정의 함수\n",
    "df.groupby('sex')[['total_bill', 'tip']].agg(lambda x: x.mean() / x.std())\n",
    "\n",
    "# as_index=False로 하여 기존 인덱스의 유지\n",
    "df.groupby(['index'],as_index=False).sum()"
   ]
  }
 ],
 "metadata": {
  "kernelspec": {
   "display_name": "Python 3 (ipykernel)",
   "language": "python",
   "name": "python3"
  },
  "language_info": {
   "codemirror_mode": {
    "name": "ipython",
    "version": 3
   },
   "file_extension": ".py",
   "mimetype": "text/x-python",
   "name": "python",
   "nbconvert_exporter": "python",
   "pygments_lexer": "ipython3",
   "version": "3.8.10"
  }
 },
 "nbformat": 4,
 "nbformat_minor": 5
}
