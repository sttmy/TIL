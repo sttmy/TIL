{
 "cells": [
  {
   "cell_type": "markdown",
   "metadata": {},
   "source": [
    "Android Studio 설치\n",
    "https://developer.android.com/studio \n",
    "\n",
    "python이 아님.. java / Kotlin 사용\n",
    "\n",
    "\n",
    "#### New project\n",
    "\n",
    "No activity\n",
    "\n",
    "Name: 프로젝트 이름\n",
    "\n",
    "Language: Java\n",
    "\n",
    "Minimum SDK 지원되는 최소 버전 Android 7.0\n",
    "\n"
   ]
  },
  {
   "cell_type": "code",
   "execution_count": 2,
   "metadata": {},
   "outputs": [],
   "source": [
    "import tensorflow as tf\n",
    "import pathlib\n",
    "import numpy as np\n",
    "import matplotlib.pyplot as plt\n",
    "\n",
    "# 전기생산금액\n",
    "x = np.array([3.52,2.58,3.31,4.07,4.62,3.98,4.29, 4.83, 3.71, 4.61, 3.90,3.20])\n",
    "\n",
    "# 전기소비량\n",
    "y = np.array([2.48,2.27,2.47,2.77,2.98,3.05,3.18, 3.46, 3.03, 3.25, 2.67,2.53] )"
   ]
  },
  {
   "cell_type": "code",
   "execution_count": 3,
   "metadata": {},
   "outputs": [
    {
     "name": "stdout",
     "output_type": "stream",
     "text": [
      "Model: \"sequential\"\n",
      "_________________________________________________________________\n",
      " Layer (type)                Output Shape              Param #   \n",
      "=================================================================\n",
      " dense (Dense)               (None, 1)                 2         \n",
      "                                                                 \n",
      "=================================================================\n",
      "Total params: 2\n",
      "Trainable params: 2\n",
      "Non-trainable params: 0\n",
      "_________________________________________________________________\n"
     ]
    }
   ],
   "source": [
    "model = tf.keras.models.Sequential([\n",
    "    tf.keras.layers.Dense(units=1, input_shape=[1])\n",
    "])\n",
    "\n",
    "model.compile(optimizer='sgd', loss = 'mean_squared_error')\n",
    "model.summary()"
   ]
  },
  {
   "cell_type": "code",
   "execution_count": 4,
   "metadata": {},
   "outputs": [
    {
     "name": "stdout",
     "output_type": "stream",
     "text": [
      "Epoch 1/200\n",
      "1/1 [==============================] - 3s 3s/step - loss: 28.7483\n",
      "Epoch 2/200\n",
      "1/1 [==============================] - 0s 5ms/step - loss: 12.9460\n",
      "Epoch 3/200\n",
      "1/1 [==============================] - 0s 6ms/step - loss: 5.8403\n",
      "Epoch 4/200\n",
      "1/1 [==============================] - 0s 6ms/step - loss: 2.6451\n",
      "Epoch 5/200\n",
      "1/1 [==============================] - 0s 4ms/step - loss: 1.2083\n",
      "Epoch 6/200\n",
      "1/1 [==============================] - 0s 7ms/step - loss: 0.5623\n",
      "Epoch 7/200\n",
      "1/1 [==============================] - 0s 10ms/step - loss: 0.2718\n",
      "Epoch 8/200\n",
      "1/1 [==============================] - 0s 5ms/step - loss: 0.1411\n",
      "Epoch 9/200\n",
      "1/1 [==============================] - 0s 6ms/step - loss: 0.0824\n",
      "Epoch 10/200\n",
      "1/1 [==============================] - 0s 4ms/step - loss: 0.0559\n",
      "Epoch 11/200\n",
      "1/1 [==============================] - 0s 6ms/step - loss: 0.0441\n",
      "Epoch 12/200\n",
      "1/1 [==============================] - 0s 11ms/step - loss: 0.0387\n",
      "Epoch 13/200\n",
      "1/1 [==============================] - 0s 5ms/step - loss: 0.0363\n",
      "Epoch 14/200\n",
      "1/1 [==============================] - 0s 6ms/step - loss: 0.0352\n",
      "Epoch 15/200\n",
      "1/1 [==============================] - 0s 5ms/step - loss: 0.0347\n",
      "Epoch 16/200\n",
      "1/1 [==============================] - 0s 5ms/step - loss: 0.0345\n",
      "Epoch 17/200\n",
      "1/1 [==============================] - 0s 5ms/step - loss: 0.0344\n",
      "Epoch 18/200\n",
      "1/1 [==============================] - 0s 7ms/step - loss: 0.0343\n",
      "Epoch 19/200\n",
      "1/1 [==============================] - 0s 5ms/step - loss: 0.0343\n",
      "Epoch 20/200\n",
      "1/1 [==============================] - 0s 6ms/step - loss: 0.0343\n",
      "Epoch 21/200\n",
      "1/1 [==============================] - 0s 5ms/step - loss: 0.0343\n",
      "Epoch 22/200\n",
      "1/1 [==============================] - 0s 5ms/step - loss: 0.0343\n",
      "Epoch 23/200\n",
      "1/1 [==============================] - 0s 8ms/step - loss: 0.0342\n",
      "Epoch 24/200\n",
      "1/1 [==============================] - 0s 4ms/step - loss: 0.0342\n",
      "Epoch 25/200\n",
      "1/1 [==============================] - 0s 36ms/step - loss: 0.0342\n",
      "Epoch 26/200\n",
      "1/1 [==============================] - 0s 10ms/step - loss: 0.0342\n",
      "Epoch 27/200\n",
      "1/1 [==============================] - 0s 5ms/step - loss: 0.0342\n",
      "Epoch 28/200\n",
      "1/1 [==============================] - 0s 7ms/step - loss: 0.0342\n",
      "Epoch 29/200\n",
      "1/1 [==============================] - 0s 7ms/step - loss: 0.0342\n",
      "Epoch 30/200\n",
      "1/1 [==============================] - 0s 8ms/step - loss: 0.0342\n",
      "Epoch 31/200\n",
      "1/1 [==============================] - 0s 6ms/step - loss: 0.0342\n",
      "Epoch 32/200\n",
      "1/1 [==============================] - 0s 6ms/step - loss: 0.0342\n",
      "Epoch 33/200\n",
      "1/1 [==============================] - 0s 6ms/step - loss: 0.0342\n",
      "Epoch 34/200\n",
      "1/1 [==============================] - 0s 5ms/step - loss: 0.0341\n",
      "Epoch 35/200\n",
      "1/1 [==============================] - 0s 8ms/step - loss: 0.0341\n",
      "Epoch 36/200\n",
      "1/1 [==============================] - 0s 6ms/step - loss: 0.0341\n",
      "Epoch 37/200\n",
      "1/1 [==============================] - 0s 8ms/step - loss: 0.0341\n",
      "Epoch 38/200\n",
      "1/1 [==============================] - 0s 5ms/step - loss: 0.0341\n",
      "Epoch 39/200\n",
      "1/1 [==============================] - 0s 6ms/step - loss: 0.0341\n",
      "Epoch 40/200\n",
      "1/1 [==============================] - 0s 4ms/step - loss: 0.0341\n",
      "Epoch 41/200\n",
      "1/1 [==============================] - 0s 8ms/step - loss: 0.0341\n",
      "Epoch 42/200\n",
      "1/1 [==============================] - 0s 17ms/step - loss: 0.0341\n",
      "Epoch 43/200\n",
      "1/1 [==============================] - 0s 4ms/step - loss: 0.0341\n",
      "Epoch 44/200\n",
      "1/1 [==============================] - 0s 5ms/step - loss: 0.0341\n",
      "Epoch 45/200\n",
      "1/1 [==============================] - 0s 4ms/step - loss: 0.0341\n",
      "Epoch 46/200\n",
      "1/1 [==============================] - 0s 5ms/step - loss: 0.0340\n",
      "Epoch 47/200\n",
      "1/1 [==============================] - 0s 4ms/step - loss: 0.0340\n",
      "Epoch 48/200\n",
      "1/1 [==============================] - 0s 7ms/step - loss: 0.0340\n",
      "Epoch 49/200\n",
      "1/1 [==============================] - 0s 5ms/step - loss: 0.0340\n",
      "Epoch 50/200\n",
      "1/1 [==============================] - 0s 9ms/step - loss: 0.0340\n",
      "Epoch 51/200\n",
      "1/1 [==============================] - 0s 4ms/step - loss: 0.0340\n",
      "Epoch 52/200\n",
      "1/1 [==============================] - 0s 8ms/step - loss: 0.0340\n",
      "Epoch 53/200\n",
      "1/1 [==============================] - 0s 5ms/step - loss: 0.0340\n",
      "Epoch 54/200\n",
      "1/1 [==============================] - 0s 38ms/step - loss: 0.0340\n",
      "Epoch 55/200\n",
      "1/1 [==============================] - 0s 5ms/step - loss: 0.0340\n",
      "Epoch 56/200\n",
      "1/1 [==============================] - 0s 16ms/step - loss: 0.0340\n",
      "Epoch 57/200\n",
      "1/1 [==============================] - 0s 6ms/step - loss: 0.0339\n",
      "Epoch 58/200\n",
      "1/1 [==============================] - 0s 5ms/step - loss: 0.0339\n",
      "Epoch 59/200\n",
      "1/1 [==============================] - 0s 8ms/step - loss: 0.0339\n",
      "Epoch 60/200\n",
      "1/1 [==============================] - 0s 5ms/step - loss: 0.0339\n",
      "Epoch 61/200\n",
      "1/1 [==============================] - 0s 7ms/step - loss: 0.0339\n",
      "Epoch 62/200\n",
      "1/1 [==============================] - 0s 4ms/step - loss: 0.0339\n",
      "Epoch 63/200\n",
      "1/1 [==============================] - 0s 7ms/step - loss: 0.0339\n",
      "Epoch 64/200\n",
      "1/1 [==============================] - 0s 5ms/step - loss: 0.0339\n",
      "Epoch 65/200\n",
      "1/1 [==============================] - 0s 5ms/step - loss: 0.0339\n",
      "Epoch 66/200\n",
      "1/1 [==============================] - 0s 5ms/step - loss: 0.0339\n",
      "Epoch 67/200\n",
      "1/1 [==============================] - 0s 4ms/step - loss: 0.0339\n",
      "Epoch 68/200\n",
      "1/1 [==============================] - 0s 4ms/step - loss: 0.0339\n",
      "Epoch 69/200\n",
      "1/1 [==============================] - 0s 5ms/step - loss: 0.0338\n",
      "Epoch 70/200\n",
      "1/1 [==============================] - 0s 6ms/step - loss: 0.0338\n",
      "Epoch 71/200\n",
      "1/1 [==============================] - 0s 4ms/step - loss: 0.0338\n",
      "Epoch 72/200\n",
      "1/1 [==============================] - 0s 8ms/step - loss: 0.0338\n",
      "Epoch 73/200\n",
      "1/1 [==============================] - 0s 5ms/step - loss: 0.0338\n",
      "Epoch 74/200\n",
      "1/1 [==============================] - 0s 7ms/step - loss: 0.0338\n",
      "Epoch 75/200\n",
      "1/1 [==============================] - 0s 5ms/step - loss: 0.0338\n",
      "Epoch 76/200\n",
      "1/1 [==============================] - 0s 7ms/step - loss: 0.0338\n",
      "Epoch 77/200\n",
      "1/1 [==============================] - 0s 4ms/step - loss: 0.0338\n",
      "Epoch 78/200\n",
      "1/1 [==============================] - 0s 8ms/step - loss: 0.0338\n",
      "Epoch 79/200\n",
      "1/1 [==============================] - 0s 4ms/step - loss: 0.0338\n",
      "Epoch 80/200\n",
      "1/1 [==============================] - 0s 4ms/step - loss: 0.0338\n",
      "Epoch 81/200\n",
      "1/1 [==============================] - 0s 6ms/step - loss: 0.0337\n",
      "Epoch 82/200\n",
      "1/1 [==============================] - 0s 9ms/step - loss: 0.0337\n",
      "Epoch 83/200\n",
      "1/1 [==============================] - 0s 8ms/step - loss: 0.0337\n",
      "Epoch 84/200\n",
      "1/1 [==============================] - 0s 12ms/step - loss: 0.0337\n",
      "Epoch 85/200\n",
      "1/1 [==============================] - 0s 6ms/step - loss: 0.0337\n",
      "Epoch 86/200\n",
      "1/1 [==============================] - 0s 8ms/step - loss: 0.0337\n",
      "Epoch 87/200\n",
      "1/1 [==============================] - 0s 4ms/step - loss: 0.0337\n",
      "Epoch 88/200\n",
      "1/1 [==============================] - 0s 8ms/step - loss: 0.0337\n",
      "Epoch 89/200\n",
      "1/1 [==============================] - 0s 5ms/step - loss: 0.0337\n",
      "Epoch 90/200\n",
      "1/1 [==============================] - 0s 9ms/step - loss: 0.0337\n",
      "Epoch 91/200\n",
      "1/1 [==============================] - 0s 12ms/step - loss: 0.0337\n",
      "Epoch 92/200\n",
      "1/1 [==============================] - 0s 6ms/step - loss: 0.0337\n",
      "Epoch 93/200\n",
      "1/1 [==============================] - 0s 5ms/step - loss: 0.0336\n",
      "Epoch 94/200\n",
      "1/1 [==============================] - 0s 6ms/step - loss: 0.0336\n",
      "Epoch 95/200\n",
      "1/1 [==============================] - 0s 4ms/step - loss: 0.0336\n",
      "Epoch 96/200\n",
      "1/1 [==============================] - 0s 6ms/step - loss: 0.0336\n",
      "Epoch 97/200\n",
      "1/1 [==============================] - 0s 5ms/step - loss: 0.0336\n",
      "Epoch 98/200\n",
      "1/1 [==============================] - 0s 4ms/step - loss: 0.0336\n",
      "Epoch 99/200\n",
      "1/1 [==============================] - 0s 4ms/step - loss: 0.0336\n",
      "Epoch 100/200\n",
      "1/1 [==============================] - 0s 5ms/step - loss: 0.0336\n",
      "Epoch 101/200\n",
      "1/1 [==============================] - 0s 5ms/step - loss: 0.0336\n",
      "Epoch 102/200\n",
      "1/1 [==============================] - 0s 4ms/step - loss: 0.0336\n",
      "Epoch 103/200\n",
      "1/1 [==============================] - 0s 7ms/step - loss: 0.0336\n",
      "Epoch 104/200\n",
      "1/1 [==============================] - 0s 5ms/step - loss: 0.0336\n",
      "Epoch 105/200\n",
      "1/1 [==============================] - 0s 7ms/step - loss: 0.0335\n",
      "Epoch 106/200\n",
      "1/1 [==============================] - 0s 5ms/step - loss: 0.0335\n",
      "Epoch 107/200\n",
      "1/1 [==============================] - 0s 7ms/step - loss: 0.0335\n",
      "Epoch 108/200\n",
      "1/1 [==============================] - 0s 5ms/step - loss: 0.0335\n",
      "Epoch 109/200\n",
      "1/1 [==============================] - 0s 41ms/step - loss: 0.0335\n",
      "Epoch 110/200\n",
      "1/1 [==============================] - 0s 12ms/step - loss: 0.0335\n",
      "Epoch 111/200\n",
      "1/1 [==============================] - 0s 15ms/step - loss: 0.0335\n",
      "Epoch 112/200\n",
      "1/1 [==============================] - 0s 6ms/step - loss: 0.0335\n",
      "Epoch 113/200\n",
      "1/1 [==============================] - 0s 5ms/step - loss: 0.0335\n",
      "Epoch 114/200\n",
      "1/1 [==============================] - 0s 5ms/step - loss: 0.0335\n",
      "Epoch 115/200\n",
      "1/1 [==============================] - 0s 5ms/step - loss: 0.0335\n",
      "Epoch 116/200\n",
      "1/1 [==============================] - 0s 5ms/step - loss: 0.0335\n",
      "Epoch 117/200\n",
      "1/1 [==============================] - 0s 5ms/step - loss: 0.0334\n",
      "Epoch 118/200\n",
      "1/1 [==============================] - 0s 4ms/step - loss: 0.0334\n",
      "Epoch 119/200\n",
      "1/1 [==============================] - 0s 7ms/step - loss: 0.0334\n",
      "Epoch 120/200\n",
      "1/1 [==============================] - 0s 5ms/step - loss: 0.0334\n",
      "Epoch 121/200\n",
      "1/1 [==============================] - 0s 9ms/step - loss: 0.0334\n",
      "Epoch 122/200\n",
      "1/1 [==============================] - 0s 4ms/step - loss: 0.0334\n",
      "Epoch 123/200\n",
      "1/1 [==============================] - 0s 6ms/step - loss: 0.0334\n",
      "Epoch 124/200\n",
      "1/1 [==============================] - 0s 4ms/step - loss: 0.0334\n",
      "Epoch 125/200\n",
      "1/1 [==============================] - 0s 6ms/step - loss: 0.0334\n",
      "Epoch 126/200\n",
      "1/1 [==============================] - 0s 6ms/step - loss: 0.0334\n",
      "Epoch 127/200\n",
      "1/1 [==============================] - 0s 6ms/step - loss: 0.0334\n",
      "Epoch 128/200\n",
      "1/1 [==============================] - 0s 5ms/step - loss: 0.0334\n",
      "Epoch 129/200\n",
      "1/1 [==============================] - 0s 5ms/step - loss: 0.0334\n",
      "Epoch 130/200\n",
      "1/1 [==============================] - 0s 5ms/step - loss: 0.0333\n",
      "Epoch 131/200\n",
      "1/1 [==============================] - 0s 4ms/step - loss: 0.0333\n",
      "Epoch 132/200\n",
      "1/1 [==============================] - 0s 4ms/step - loss: 0.0333\n",
      "Epoch 133/200\n",
      "1/1 [==============================] - 0s 6ms/step - loss: 0.0333\n",
      "Epoch 134/200\n",
      "1/1 [==============================] - 0s 4ms/step - loss: 0.0333\n",
      "Epoch 135/200\n",
      "1/1 [==============================] - 0s 5ms/step - loss: 0.0333\n",
      "Epoch 136/200\n",
      "1/1 [==============================] - 0s 4ms/step - loss: 0.0333\n",
      "Epoch 137/200\n",
      "1/1 [==============================] - 0s 8ms/step - loss: 0.0333\n",
      "Epoch 138/200\n",
      "1/1 [==============================] - 0s 4ms/step - loss: 0.0333\n",
      "Epoch 139/200\n",
      "1/1 [==============================] - 0s 8ms/step - loss: 0.0333\n",
      "Epoch 140/200\n",
      "1/1 [==============================] - 0s 33ms/step - loss: 0.0333\n",
      "Epoch 141/200\n",
      "1/1 [==============================] - 0s 13ms/step - loss: 0.0333\n",
      "Epoch 142/200\n",
      "1/1 [==============================] - 0s 5ms/step - loss: 0.0332\n",
      "Epoch 143/200\n",
      "1/1 [==============================] - 0s 5ms/step - loss: 0.0332\n",
      "Epoch 144/200\n",
      "1/1 [==============================] - 0s 4ms/step - loss: 0.0332\n",
      "Epoch 145/200\n",
      "1/1 [==============================] - 0s 5ms/step - loss: 0.0332\n",
      "Epoch 146/200\n",
      "1/1 [==============================] - 0s 4ms/step - loss: 0.0332\n",
      "Epoch 147/200\n",
      "1/1 [==============================] - 0s 6ms/step - loss: 0.0332\n",
      "Epoch 148/200\n",
      "1/1 [==============================] - 0s 5ms/step - loss: 0.0332\n",
      "Epoch 149/200\n",
      "1/1 [==============================] - 0s 4ms/step - loss: 0.0332\n",
      "Epoch 150/200\n",
      "1/1 [==============================] - 0s 4ms/step - loss: 0.0332\n",
      "Epoch 151/200\n",
      "1/1 [==============================] - 0s 5ms/step - loss: 0.0332\n",
      "Epoch 152/200\n",
      "1/1 [==============================] - 0s 6ms/step - loss: 0.0332\n",
      "Epoch 153/200\n",
      "1/1 [==============================] - 0s 5ms/step - loss: 0.0332\n",
      "Epoch 154/200\n",
      "1/1 [==============================] - 0s 4ms/step - loss: 0.0332\n",
      "Epoch 155/200\n",
      "1/1 [==============================] - 0s 4ms/step - loss: 0.0331\n",
      "Epoch 156/200\n",
      "1/1 [==============================] - 0s 6ms/step - loss: 0.0331\n",
      "Epoch 157/200\n",
      "1/1 [==============================] - 0s 5ms/step - loss: 0.0331\n",
      "Epoch 158/200\n",
      "1/1 [==============================] - 0s 8ms/step - loss: 0.0331\n",
      "Epoch 159/200\n",
      "1/1 [==============================] - 0s 5ms/step - loss: 0.0331\n",
      "Epoch 160/200\n",
      "1/1 [==============================] - 0s 8ms/step - loss: 0.0331\n",
      "Epoch 161/200\n",
      "1/1 [==============================] - 0s 4ms/step - loss: 0.0331\n",
      "Epoch 162/200\n",
      "1/1 [==============================] - 0s 8ms/step - loss: 0.0331\n",
      "Epoch 163/200\n",
      "1/1 [==============================] - 0s 5ms/step - loss: 0.0331\n",
      "Epoch 164/200\n",
      "1/1 [==============================] - 0s 7ms/step - loss: 0.0331\n",
      "Epoch 165/200\n",
      "1/1 [==============================] - 0s 4ms/step - loss: 0.0331\n",
      "Epoch 166/200\n",
      "1/1 [==============================] - 0s 8ms/step - loss: 0.0331\n",
      "Epoch 167/200\n",
      "1/1 [==============================] - 0s 5ms/step - loss: 0.0331\n",
      "Epoch 168/200\n",
      "1/1 [==============================] - 0s 54ms/step - loss: 0.0330\n",
      "Epoch 169/200\n",
      "1/1 [==============================] - 0s 6ms/step - loss: 0.0330\n",
      "Epoch 170/200\n",
      "1/1 [==============================] - 0s 17ms/step - loss: 0.0330\n",
      "Epoch 171/200\n",
      "1/1 [==============================] - 0s 6ms/step - loss: 0.0330\n",
      "Epoch 172/200\n",
      "1/1 [==============================] - 0s 7ms/step - loss: 0.0330\n",
      "Epoch 173/200\n",
      "1/1 [==============================] - 0s 5ms/step - loss: 0.0330\n",
      "Epoch 174/200\n",
      "1/1 [==============================] - 0s 5ms/step - loss: 0.0330\n",
      "Epoch 175/200\n",
      "1/1 [==============================] - 0s 4ms/step - loss: 0.0330\n",
      "Epoch 176/200\n",
      "1/1 [==============================] - 0s 5ms/step - loss: 0.0330\n",
      "Epoch 177/200\n",
      "1/1 [==============================] - 0s 5ms/step - loss: 0.0330\n",
      "Epoch 178/200\n",
      "1/1 [==============================] - 0s 7ms/step - loss: 0.0330\n",
      "Epoch 179/200\n",
      "1/1 [==============================] - 0s 5ms/step - loss: 0.0330\n",
      "Epoch 180/200\n",
      "1/1 [==============================] - 0s 7ms/step - loss: 0.0330\n",
      "Epoch 181/200\n",
      "1/1 [==============================] - 0s 5ms/step - loss: 0.0329\n",
      "Epoch 182/200\n",
      "1/1 [==============================] - 0s 7ms/step - loss: 0.0329\n",
      "Epoch 183/200\n",
      "1/1 [==============================] - 0s 5ms/step - loss: 0.0329\n",
      "Epoch 184/200\n",
      "1/1 [==============================] - 0s 9ms/step - loss: 0.0329\n",
      "Epoch 185/200\n",
      "1/1 [==============================] - 0s 4ms/step - loss: 0.0329\n",
      "Epoch 186/200\n",
      "1/1 [==============================] - 0s 7ms/step - loss: 0.0329\n",
      "Epoch 187/200\n",
      "1/1 [==============================] - 0s 4ms/step - loss: 0.0329\n",
      "Epoch 188/200\n",
      "1/1 [==============================] - 0s 8ms/step - loss: 0.0329\n",
      "Epoch 189/200\n",
      "1/1 [==============================] - 0s 4ms/step - loss: 0.0329\n",
      "Epoch 190/200\n",
      "1/1 [==============================] - 0s 9ms/step - loss: 0.0329\n",
      "Epoch 191/200\n",
      "1/1 [==============================] - 0s 4ms/step - loss: 0.0329\n",
      "Epoch 192/200\n",
      "1/1 [==============================] - 0s 35ms/step - loss: 0.0329\n",
      "Epoch 193/200\n",
      "1/1 [==============================] - 0s 14ms/step - loss: 0.0329\n",
      "Epoch 194/200\n",
      "1/1 [==============================] - 0s 4ms/step - loss: 0.0328\n",
      "Epoch 195/200\n",
      "1/1 [==============================] - 0s 8ms/step - loss: 0.0328\n",
      "Epoch 196/200\n",
      "1/1 [==============================] - 0s 6ms/step - loss: 0.0328\n",
      "Epoch 197/200\n",
      "1/1 [==============================] - 0s 5ms/step - loss: 0.0328\n",
      "Epoch 198/200\n",
      "1/1 [==============================] - 0s 5ms/step - loss: 0.0328\n",
      "Epoch 199/200\n",
      "1/1 [==============================] - 0s 8ms/step - loss: 0.0328\n",
      "Epoch 200/200\n",
      "1/1 [==============================] - 0s 5ms/step - loss: 0.0328\n"
     ]
    },
    {
     "data": {
      "text/plain": [
       "<keras.callbacks.History at 0x1e73f023970>"
      ]
     },
     "execution_count": 4,
     "metadata": {},
     "output_type": "execute_result"
    }
   ],
   "source": [
    "model.fit(x, y, epochs=200, verbose=1)"
   ]
  },
  {
   "cell_type": "code",
   "execution_count": 5,
   "metadata": {},
   "outputs": [
    {
     "name": "stdout",
     "output_type": "stream",
     "text": [
      "1/1 [==============================] - 1s 614ms/step - loss: 0.0328\n"
     ]
    },
    {
     "data": {
      "text/plain": [
       "0.0327925905585289"
      ]
     },
     "execution_count": 5,
     "metadata": {},
     "output_type": "execute_result"
    }
   ],
   "source": [
    "model.evaluate(x,y)"
   ]
  },
  {
   "cell_type": "code",
   "execution_count": 6,
   "metadata": {},
   "outputs": [
    {
     "name": "stdout",
     "output_type": "stream",
     "text": [
      "1/1 [==============================] - 0s 454ms/step\n"
     ]
    },
    {
     "data": {
      "text/plain": [
       "array([[2.9043941]], dtype=float32)"
      ]
     },
     "execution_count": 6,
     "metadata": {},
     "output_type": "execute_result"
    }
   ],
   "source": [
    "model.predict([4])"
   ]
  },
  {
   "cell_type": "code",
   "execution_count": 9,
   "metadata": {},
   "outputs": [
    {
     "data": {
      "text/plain": [
       "[<tf.Variable 'dense/kernel:0' shape=(1, 1) dtype=float32, numpy=array([[0.6317755]], dtype=float32)>,\n",
       " <tf.Variable 'dense/bias:0' shape=(1,) dtype=float32, numpy=array([0.37729222], dtype=float32)>]"
      ]
     },
     "execution_count": 9,
     "metadata": {},
     "output_type": "execute_result"
    }
   ],
   "source": [
    "model.weights"
   ]
  },
  {
   "cell_type": "code",
   "execution_count": 7,
   "metadata": {},
   "outputs": [
    {
     "data": {
      "text/plain": [
       "0.6317755"
      ]
     },
     "execution_count": 7,
     "metadata": {},
     "output_type": "execute_result"
    }
   ],
   "source": [
    "slope = model.weights[0][0][0].numpy()\n",
    "slope"
   ]
  },
  {
   "cell_type": "code",
   "execution_count": 11,
   "metadata": {},
   "outputs": [
    {
     "data": {
      "text/plain": [
       "0.37729222"
      ]
     },
     "execution_count": 11,
     "metadata": {},
     "output_type": "execute_result"
    }
   ],
   "source": [
    "intercept = model.weights[1][0].numpy()\n",
    "intercept"
   ]
  },
  {
   "cell_type": "code",
   "execution_count": 12,
   "metadata": {},
   "outputs": [
    {
     "data": {
      "text/plain": [
       "2.904394209384918"
      ]
     },
     "execution_count": 12,
     "metadata": {},
     "output_type": "execute_result"
    }
   ],
   "source": [
    "# x=4인 경우\n",
    "4*slope + intercept"
   ]
  },
  {
   "cell_type": "code",
   "execution_count": 13,
   "metadata": {},
   "outputs": [],
   "source": [
    "y2 = slope * x + intercept"
   ]
  },
  {
   "cell_type": "code",
   "execution_count": 14,
   "metadata": {},
   "outputs": [
    {
     "data": {
      "image/png": "[encoded data removed]",
      "text/plain": [
       "<Figure size 640x480 with 1 Axes>"
      ]
     },
     "metadata": {},
     "output_type": "display_data"
    }
   ],
   "source": [
    "plt.scatter(x,y)\n",
    "plt.plot(x, y2, c='red')\n",
    "plt.show()"
   ]
  },
  {
   "cell_type": "code",
   "execution_count": 15,
   "metadata": {},
   "outputs": [
    {
     "name": "stdout",
     "output_type": "stream",
     "text": [
      "INFO:tensorflow:Assets written to: C:\\Users\\tjoeun\\AppData\\Local\\Temp\\tmph41mafh0\\assets\n"
     ]
    }
   ],
   "source": [
    "### 모델을 경량화\n",
    "\n",
    "# 변환기\n",
    "converter = tf.lite.TFLiteConverter.from_keras_model(model)  \n",
    "\n",
    "# 변환 keras => lite모델로 작게 만듦\n",
    "tflite_model = converter.convert()\n",
    "\n",
    "with open('./reg_model.tflite', 'wb') as f:\n",
    "    f.write(tflite_model)"
   ]
  },
  {
   "cell_type": "code",
   "execution_count": null,
   "metadata": {},
   "outputs": [],
   "source": []
  }
 ],
 "metadata": {
  "kernelspec": {
   "display_name": "Python 3",
   "language": "python",
   "name": "python3"
  },
  "language_info": {
   "codemirror_mode": {
    "name": "ipython",
    "version": 3
   },
   "file_extension": ".py",
   "mimetype": "text/x-python",
   "name": "python",
   "nbconvert_exporter": "python",
   "pygments_lexer": "ipython3",
   "version": "3.9.13"
  },
  "orig_nbformat": 4
 },
 "nbformat": 4,
 "nbformat_minor": 2
}
