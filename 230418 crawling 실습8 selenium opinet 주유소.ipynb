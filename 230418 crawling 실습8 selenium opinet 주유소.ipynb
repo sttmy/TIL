{
 "cells": [
  {
   "cell_type": "markdown",
   "id": "d04ea631",
   "metadata": {},
   "source": [
    "## 오피넷, 주유소정보\n",
    "\n",
    "https://www.opinet.co.kr/searRgSelect.do\n",
    "\n",
    "싼 주유소찾기 > 지역별 \n",
    "\n",
    "엑셀 저장\n",
    "\n",
    "### 어느 주유소가 싼지 "
   ]
  },
  {
   "cell_type": "code",
   "execution_count": 41,
   "id": "668904ef",
   "metadata": {},
   "outputs": [],
   "source": [
    "import requests\n",
    "from bs4 import BeautifulSoup\n",
    "import time\n",
    "import pandas as pd\n",
    "from selenium import webdriver\n",
    "from selenium.webdriver.common.keys import Keys\n",
    "from selenium.webdriver.common.by import By\n",
    "from tqdm.notebook import tqdm"
   ]
  },
  {
   "cell_type": "code",
   "execution_count": 9,
   "id": "ff20f173",
   "metadata": {},
   "outputs": [],
   "source": [
    "url = 'https://www.opinet.co.kr/user/main/mainView.do'\n",
    "driver = webdriver.Chrome()\n",
    "driver.get(url)\n",
    "time.sleep(2)"
   ]
  },
  {
   "cell_type": "code",
   "execution_count": 15,
   "id": "f8a293a8",
   "metadata": {},
   "outputs": [],
   "source": [
    "# 팝업창, 싼주유소찾기 클릭\n",
    "driver.find_element(By.CSS_SELECTOR, '.ic_m1').click()"
   ]
  },
  {
   "cell_type": "code",
   "execution_count": 14,
   "id": "81508c63",
   "metadata": {},
   "outputs": [
    {
     "data": {
      "text/plain": [
       "<selenium.webdriver.remote.webelement.WebElement (session=\"646f5a15d8bfa976398a7b1d72c95d48\", element=\"d69e525a-a4b4-47e1-bce8-ced5d8098740\")>"
      ]
     },
     "execution_count": 14,
     "metadata": {},
     "output_type": "execute_result"
    }
   ],
   "source": [
    "driver.find_element(By.CSS_SELECTOR, 'ul.gnb > li > a')"
   ]
  },
  {
   "cell_type": "code",
   "execution_count": 26,
   "id": "df598c0e",
   "metadata": {},
   "outputs": [],
   "source": [
    "# '서울' 박스 클릭하고 html 태그 찾아서 우클릭 > copy > copy Xpath \n",
    "metro = driver.find_element(By.XPATH, '//*[@id=\"SIDO_NM0\"]')\n",
    "metro.send_keys('서울')\n",
    "time.sleep(1)   # 메뉴가 뜨도록 잠깐 쉼\n"
   ]
  },
  {
   "cell_type": "code",
   "execution_count": 30,
   "id": "13bfecf5",
   "metadata": {},
   "outputs": [],
   "source": [
    "sigungu = driver.find_element(By.XPATH, '//*[@id=\"SIGUNGU_NM0\"]')\n",
    "gu_list = sigungu.find_elements(By.CSS_SELECTOR, 'option')"
   ]
  },
  {
   "cell_type": "code",
   "execution_count": 33,
   "id": "e604870c",
   "metadata": {
    "collapsed": true
   },
   "outputs": [
    {
     "data": {
      "text/plain": [
       "['강남구',\n",
       " '강동구',\n",
       " '강북구',\n",
       " '강서구',\n",
       " '관악구',\n",
       " '광진구',\n",
       " '구로구',\n",
       " '금천구',\n",
       " '노원구',\n",
       " '도봉구',\n",
       " '동대문구',\n",
       " '동작구',\n",
       " '마포구',\n",
       " '서대문구',\n",
       " '서초구',\n",
       " '성동구',\n",
       " '성북구',\n",
       " '송파구',\n",
       " '양천구',\n",
       " '영등포구',\n",
       " '용산구',\n",
       " '은평구',\n",
       " '종로구',\n",
       " '중구',\n",
       " '중랑구']"
      ]
     },
     "execution_count": 33,
     "metadata": {},
     "output_type": "execute_result"
    }
   ],
   "source": [
    "gu_name = []\n",
    "for gu in gu_list:\n",
    "    gu_name.append(gu.text)\n",
    "del gu_name[0]\n",
    "gu_name"
   ]
  },
  {
   "cell_type": "code",
   "execution_count": 28,
   "id": "946d0f8d",
   "metadata": {
    "collapsed": true
   },
   "outputs": [
    {
     "data": {
      "text/plain": [
       "['강남구',\n",
       " '강동구',\n",
       " '강북구',\n",
       " '강서구',\n",
       " '관악구',\n",
       " '광진구',\n",
       " '구로구',\n",
       " '금천구',\n",
       " '노원구',\n",
       " '도봉구',\n",
       " '동대문구',\n",
       " '동작구',\n",
       " '마포구',\n",
       " '서대문구',\n",
       " '서초구',\n",
       " '성동구',\n",
       " '성북구',\n",
       " '송파구',\n",
       " '양천구',\n",
       " '영등포구',\n",
       " '용산구',\n",
       " '은평구',\n",
       " '종로구',\n",
       " '중구',\n",
       " '중랑구']"
      ]
     },
     "execution_count": 28,
     "metadata": {},
     "output_type": "execute_result"
    }
   ],
   "source": [
    "gu = [gu.text for gu in gu_list][1:]\n",
    "gu"
   ]
  },
  {
   "cell_type": "code",
   "execution_count": null,
   "id": "15bbf1ce",
   "metadata": {},
   "outputs": [],
   "source": [
    "# 엑셀저장버튼\n",
    "driver.find_element(By.XPATH, '//*[@id=\"glopopd_excel\"]/span').click()"
   ]
  },
  {
   "cell_type": "markdown",
   "id": "90c2b4c6",
   "metadata": {},
   "source": [
    "## 데이터 크롤링"
   ]
  },
  {
   "cell_type": "code",
   "execution_count": 46,
   "id": "c71cabdd",
   "metadata": {},
   "outputs": [],
   "source": [
    "url = 'https://www.opinet.co.kr/user/main/mainView.do'\n",
    "\n",
    "driver = webdriver.Chrome()\n",
    "driver.get(url)\n",
    "time.sleep(2)\n",
    "driver.find_element(By.CSS_SELECTOR, '.ic_m1').click()"
   ]
  },
  {
   "cell_type": "code",
   "execution_count": 47,
   "id": "6a955b79",
   "metadata": {},
   "outputs": [],
   "source": [
    "metro = driver.find_element(By.XPATH, '//*[@id=\"SIDO_NM0\"]')\n",
    "metro.send_keys('서울')\n",
    "time.sleep(2)   "
   ]
  },
  {
   "cell_type": "code",
   "execution_count": 57,
   "id": "d2042c37",
   "metadata": {},
   "outputs": [],
   "source": [
    "sigungu = driver.find_element(By.XPATH, '//*[@id=\"SIGUNGU_NM0\"]')\n",
    "gu_list = sigungu.find_elements(By.CSS_SELECTOR, 'option')\n",
    "\n",
    "gu_name = []\n",
    "for gu in gu_list:\n",
    "    gu_name.append(gu.text)\n",
    "del gu_name[0]"
   ]
  },
  {
   "cell_type": "code",
   "execution_count": 58,
   "id": "9ca43a63",
   "metadata": {},
   "outputs": [],
   "source": [
    "# 구별 엑셀정보 다운로드\n",
    "for gu in gu_name:\n",
    "    sigungu = driver.find_element(By.XPATH, '//*[@id=\"SIGUNGU_NM0\"]')\n",
    "    time.sleep(2)\n",
    "    sigungu.send_keys(gu)\n",
    "    time.sleep(2)\n",
    "    driver.find_element(By.XPATH, '//*[@id=\"glopopd_excel\"]/span').click()"
   ]
  },
  {
   "cell_type": "markdown",
   "id": "17e940da",
   "metadata": {},
   "source": [
    "## 구별 휘발유 가격에 대한 데이터 전처리"
   ]
  },
  {
   "cell_type": "code",
   "execution_count": 40,
   "id": "e945ccd5",
   "metadata": {},
   "outputs": [],
   "source": [
    "import pandas as pd\n",
    "from glob import glob\n",
    "import warnings\n",
    "warnings.filterwarnings('ignore')"
   ]
  },
  {
   "cell_type": "code",
   "execution_count": 51,
   "id": "1db46264",
   "metadata": {},
   "outputs": [
    {
     "name": "stdout",
     "output_type": "stream",
     "text": [
      "c:\\python\\test\\naver\n",
      "c:\\python\\test\\naver\n"
     ]
    }
   ],
   "source": [
    "# r = raw 이스케이프 문자\n",
    "\n",
    "print('c:\\python\\\\test\\\\naver')\n",
    "print(r'c:\\python\\test\\naver')\n",
    "* * \n",
    "*.py\n",
    "p* *"
   ]
  },
  {
   "cell_type": "code",
   "execution_count": 60,
   "id": "cb3ec6de",
   "metadata": {},
   "outputs": [
    {
     "name": "stdout",
     "output_type": "stream",
     "text": [
      "Collecting xlrd"
     ]
    },
    {
     "name": "stderr",
     "output_type": "stream",
     "text": [
      "\n",
      "[notice] A new release of pip is available: 23.0.1 -> 23.1\n",
      "[notice] To update, run: python.exe -m pip install --upgrade pip\n"
     ]
    },
    {
     "name": "stdout",
     "output_type": "stream",
     "text": [
      "\n",
      "  Downloading xlrd-2.0.1-py2.py3-none-any.whl (96 kB)\n",
      "     ---------------------------------------- 0.0/96.5 kB ? eta -:--:--\n",
      "     ---------------------------------------- 96.5/96.5 kB 5.4 MB/s eta 0:00:00\n",
      "Installing collected packages: xlrd\n",
      "Successfully installed xlrd-2.0.1\n"
     ]
    }
   ],
   "source": [
    "!pip install xlrd  \n",
    "# excel파일 다루는 패키지"
   ]
  },
  {
   "cell_type": "code",
   "execution_count": 61,
   "id": "058ad177",
   "metadata": {},
   "outputs": [
    {
     "data": {
      "text/html": [
       "<div>\n",
       "<style scoped>\n",
       "    .dataframe tbody tr th:only-of-type {\n",
       "        vertical-align: middle;\n",
       "    }\n",
       "\n",
       "    .dataframe tbody tr th {\n",
       "        vertical-align: top;\n",
       "    }\n",
       "\n",
       "    .dataframe thead th {\n",
       "        text-align: right;\n",
       "    }\n",
       "</style>\n",
       "<table border=\"1\" class=\"dataframe\">\n",
       "  <thead>\n",
       "    <tr style=\"text-align: right;\">\n",
       "      <th></th>\n",
       "      <th>지역</th>\n",
       "      <th>상호</th>\n",
       "      <th>주소</th>\n",
       "      <th>상표</th>\n",
       "      <th>전화번호</th>\n",
       "      <th>셀프여부</th>\n",
       "      <th>고급휘발유</th>\n",
       "      <th>휘발유</th>\n",
       "      <th>경유</th>\n",
       "      <th>실내등유</th>\n",
       "    </tr>\n",
       "  </thead>\n",
       "  <tbody>\n",
       "    <tr>\n",
       "      <th>0</th>\n",
       "      <td>서울특별시</td>\n",
       "      <td>재건에너지 재정제2주유소 고속셀프지점</td>\n",
       "      <td>서울특별시 강동구  천호대로 1246 (둔촌제2동)</td>\n",
       "      <td>현대오일뱅크</td>\n",
       "      <td>02-487-2030</td>\n",
       "      <td>Y</td>\n",
       "      <td>-</td>\n",
       "      <td>1669</td>\n",
       "      <td>1542</td>\n",
       "      <td>-</td>\n",
       "    </tr>\n",
       "    <tr>\n",
       "      <th>1</th>\n",
       "      <td>서울특별시</td>\n",
       "      <td>구천면주유소</td>\n",
       "      <td>서울 강동구 구천면로 357 (암사동)</td>\n",
       "      <td>현대오일뱅크</td>\n",
       "      <td>02-441-0536</td>\n",
       "      <td>N</td>\n",
       "      <td>-</td>\n",
       "      <td>1684</td>\n",
       "      <td>1595</td>\n",
       "      <td>-</td>\n",
       "    </tr>\n",
       "    <tr>\n",
       "      <th>2</th>\n",
       "      <td>서울특별시</td>\n",
       "      <td>대성석유(주)길동주유소</td>\n",
       "      <td>서울 강동구 천호대로 1168</td>\n",
       "      <td>GS칼텍스</td>\n",
       "      <td>02-474-7222</td>\n",
       "      <td>N</td>\n",
       "      <td>1875</td>\n",
       "      <td>1686</td>\n",
       "      <td>1638</td>\n",
       "      <td>1600</td>\n",
       "    </tr>\n",
       "    <tr>\n",
       "      <th>3</th>\n",
       "      <td>서울특별시</td>\n",
       "      <td>지에스칼텍스㈜ 동서울주유소</td>\n",
       "      <td>서울 강동구 천호대로 1456 (상일동)</td>\n",
       "      <td>GS칼텍스</td>\n",
       "      <td>02-426-5372</td>\n",
       "      <td>Y</td>\n",
       "      <td>1869</td>\n",
       "      <td>1689</td>\n",
       "      <td>1650</td>\n",
       "      <td>-</td>\n",
       "    </tr>\n",
       "    <tr>\n",
       "      <th>4</th>\n",
       "      <td>서울특별시</td>\n",
       "      <td>(주)삼표에너지 고덕주유소</td>\n",
       "      <td>서울 강동구 고덕로 39 (암사동)</td>\n",
       "      <td>GS칼텍스</td>\n",
       "      <td>02-441-3327</td>\n",
       "      <td>Y</td>\n",
       "      <td>1895</td>\n",
       "      <td>1689</td>\n",
       "      <td>1635</td>\n",
       "      <td>1585</td>\n",
       "    </tr>\n",
       "  </tbody>\n",
       "</table>\n",
       "</div>"
      ],
      "text/plain": [
       "      지역                    상호                            주소      상표  \\\n",
       "0  서울특별시  재건에너지 재정제2주유소 고속셀프지점  서울특별시 강동구  천호대로 1246 (둔촌제2동)  현대오일뱅크   \n",
       "1  서울특별시                구천면주유소         서울 강동구 구천면로 357 (암사동)  현대오일뱅크   \n",
       "2  서울특별시          대성석유(주)길동주유소              서울 강동구 천호대로 1168   GS칼텍스   \n",
       "3  서울특별시        지에스칼텍스㈜ 동서울주유소        서울 강동구 천호대로 1456 (상일동)   GS칼텍스   \n",
       "4  서울특별시        (주)삼표에너지 고덕주유소           서울 강동구 고덕로 39 (암사동)   GS칼텍스   \n",
       "\n",
       "          전화번호 셀프여부 고급휘발유   휘발유    경유  실내등유  \n",
       "0  02-487-2030    Y     -  1669  1542     -  \n",
       "1  02-441-0536    N     -  1684  1595     -  \n",
       "2  02-474-7222    N  1875  1686  1638  1600  \n",
       "3  02-426-5372    Y  1869  1689  1650     -  \n",
       "4  02-441-3327    Y  1895  1689  1635  1585  "
      ]
     },
     "execution_count": 61,
     "metadata": {},
     "output_type": "execute_result"
    }
   ],
   "source": [
    "# 폴더에서 지역*xls 로 찾아볼 것\n",
    "# glob으로 찾아서 가져옴\n",
    "file = glob(r'C:\\workspace\\gasData\\지역*.xls')[0]    # 첫번째 파일만 열어봄\n",
    "df = pd.read_excel(file, header=2)\n",
    "df.head()"
   ]
  },
  {
   "cell_type": "code",
   "execution_count": 62,
   "id": "e6fa430e",
   "metadata": {},
   "outputs": [
    {
     "name": "stdout",
     "output_type": "stream",
     "text": [
      "['C:\\\\workspace\\\\gasData\\\\지역_위치별(주유소) (1).xls', 'C:\\\\workspace\\\\gasData\\\\지역_위치별(주유소) (10).xls', 'C:\\\\workspace\\\\gasData\\\\지역_위치별(주유소) (11).xls', 'C:\\\\workspace\\\\gasData\\\\지역_위치별(주유소) (12).xls', 'C:\\\\workspace\\\\gasData\\\\지역_위치별(주유소) (13).xls', 'C:\\\\workspace\\\\gasData\\\\지역_위치별(주유소) (14).xls', 'C:\\\\workspace\\\\gasData\\\\지역_위치별(주유소) (15).xls', 'C:\\\\workspace\\\\gasData\\\\지역_위치별(주유소) (16).xls', 'C:\\\\workspace\\\\gasData\\\\지역_위치별(주유소) (17).xls', 'C:\\\\workspace\\\\gasData\\\\지역_위치별(주유소) (18).xls', 'C:\\\\workspace\\\\gasData\\\\지역_위치별(주유소) (19).xls', 'C:\\\\workspace\\\\gasData\\\\지역_위치별(주유소) (2).xls', 'C:\\\\workspace\\\\gasData\\\\지역_위치별(주유소) (20).xls', 'C:\\\\workspace\\\\gasData\\\\지역_위치별(주유소) (21).xls', 'C:\\\\workspace\\\\gasData\\\\지역_위치별(주유소) (22).xls', 'C:\\\\workspace\\\\gasData\\\\지역_위치별(주유소) (23).xls', 'C:\\\\workspace\\\\gasData\\\\지역_위치별(주유소) (24).xls', 'C:\\\\workspace\\\\gasData\\\\지역_위치별(주유소) (3).xls', 'C:\\\\workspace\\\\gasData\\\\지역_위치별(주유소) (4).xls', 'C:\\\\workspace\\\\gasData\\\\지역_위치별(주유소) (5).xls', 'C:\\\\workspace\\\\gasData\\\\지역_위치별(주유소) (6).xls', 'C:\\\\workspace\\\\gasData\\\\지역_위치별(주유소) (7).xls', 'C:\\\\workspace\\\\gasData\\\\지역_위치별(주유소) (8).xls', 'C:\\\\workspace\\\\gasData\\\\지역_위치별(주유소) (9).xls', 'C:\\\\workspace\\\\gasData\\\\지역_위치별(주유소).xls']\n"
     ]
    }
   ],
   "source": [
    "print(glob(r'C:\\workspace\\gasData\\지역*.xls'))"
   ]
  },
  {
   "cell_type": "code",
   "execution_count": 64,
   "id": "ef9acfe3",
   "metadata": {},
   "outputs": [
    {
     "data": {
      "text/plain": [
       "(441, 10)"
      ]
     },
     "execution_count": 64,
     "metadata": {},
     "output_type": "execute_result"
    }
   ],
   "source": [
    "df_list = []\n",
    "for file in glob(r'C:\\workspace\\gasData\\지역*.xls'):\n",
    "    gs = pd.read_excel(file, header = 2)\n",
    "    df_list.append(gs)\n",
    "df = pd.concat(df_list)\n",
    "df.shape"
   ]
  },
  {
   "cell_type": "code",
   "execution_count": 65,
   "id": "77942c02",
   "metadata": {},
   "outputs": [
    {
     "data": {
      "text/html": [
       "<div>\n",
       "<style scoped>\n",
       "    .dataframe tbody tr th:only-of-type {\n",
       "        vertical-align: middle;\n",
       "    }\n",
       "\n",
       "    .dataframe tbody tr th {\n",
       "        vertical-align: top;\n",
       "    }\n",
       "\n",
       "    .dataframe thead th {\n",
       "        text-align: right;\n",
       "    }\n",
       "</style>\n",
       "<table border=\"1\" class=\"dataframe\">\n",
       "  <thead>\n",
       "    <tr style=\"text-align: right;\">\n",
       "      <th></th>\n",
       "      <th>지역</th>\n",
       "      <th>상호</th>\n",
       "      <th>주소</th>\n",
       "      <th>상표</th>\n",
       "      <th>전화번호</th>\n",
       "      <th>셀프여부</th>\n",
       "      <th>고급휘발유</th>\n",
       "      <th>휘발유</th>\n",
       "      <th>경유</th>\n",
       "      <th>실내등유</th>\n",
       "    </tr>\n",
       "  </thead>\n",
       "  <tbody>\n",
       "    <tr>\n",
       "      <th>0</th>\n",
       "      <td>서울특별시</td>\n",
       "      <td>(주)보성 세곡주유소</td>\n",
       "      <td>서울 강남구  헌릉로 731 (세곡동)</td>\n",
       "      <td>SK에너지</td>\n",
       "      <td>02-445-6870</td>\n",
       "      <td>Y</td>\n",
       "      <td>-</td>\n",
       "      <td>1623</td>\n",
       "      <td>1565</td>\n",
       "      <td>-</td>\n",
       "    </tr>\n",
       "    <tr>\n",
       "      <th>1</th>\n",
       "      <td>서울특별시</td>\n",
       "      <td>자곡셀프주유소</td>\n",
       "      <td>서울 강남구 밤고개로 120 (자곡동)</td>\n",
       "      <td>SK에너지</td>\n",
       "      <td>02-445-5841</td>\n",
       "      <td>Y</td>\n",
       "      <td>-</td>\n",
       "      <td>1669</td>\n",
       "      <td>1575</td>\n",
       "      <td>-</td>\n",
       "    </tr>\n",
       "    <tr>\n",
       "      <th>2</th>\n",
       "      <td>서울특별시</td>\n",
       "      <td>삼성동주유소</td>\n",
       "      <td>서울 강남구 테헤란로 619 (삼성동)</td>\n",
       "      <td>현대오일뱅크</td>\n",
       "      <td>02-508-6572</td>\n",
       "      <td>Y</td>\n",
       "      <td>1929</td>\n",
       "      <td>1684</td>\n",
       "      <td>1609</td>\n",
       "      <td>-</td>\n",
       "    </tr>\n",
       "    <tr>\n",
       "      <th>3</th>\n",
       "      <td>서울특별시</td>\n",
       "      <td>방죽주유소</td>\n",
       "      <td>서울 강남구 밤고개로 215 (율현동)</td>\n",
       "      <td>GS칼텍스</td>\n",
       "      <td>02-459-3434</td>\n",
       "      <td>Y</td>\n",
       "      <td>-</td>\n",
       "      <td>1687</td>\n",
       "      <td>1639</td>\n",
       "      <td>-</td>\n",
       "    </tr>\n",
       "    <tr>\n",
       "      <th>4</th>\n",
       "      <td>서울특별시</td>\n",
       "      <td>오일프러스 셀프</td>\n",
       "      <td>서울 강남구 남부순환로 2651 (도곡동)</td>\n",
       "      <td>SK에너지</td>\n",
       "      <td>02-3462-5100</td>\n",
       "      <td>Y</td>\n",
       "      <td>1886</td>\n",
       "      <td>1704</td>\n",
       "      <td>1669</td>\n",
       "      <td>-</td>\n",
       "    </tr>\n",
       "  </tbody>\n",
       "</table>\n",
       "</div>"
      ],
      "text/plain": [
       "      지역           상호                       주소      상표          전화번호 셀프여부  \\\n",
       "0  서울특별시  (주)보성 세곡주유소    서울 강남구  헌릉로 731 (세곡동)   SK에너지   02-445-6870    Y   \n",
       "1  서울특별시      자곡셀프주유소    서울 강남구 밤고개로 120 (자곡동)   SK에너지   02-445-5841    Y   \n",
       "2  서울특별시       삼성동주유소    서울 강남구 테헤란로 619 (삼성동)  현대오일뱅크   02-508-6572    Y   \n",
       "3  서울특별시        방죽주유소    서울 강남구 밤고개로 215 (율현동)   GS칼텍스   02-459-3434    Y   \n",
       "4  서울특별시     오일프러스 셀프  서울 강남구 남부순환로 2651 (도곡동)   SK에너지  02-3462-5100    Y   \n",
       "\n",
       "  고급휘발유   휘발유    경유 실내등유  \n",
       "0     -  1623  1565    -  \n",
       "1     -  1669  1575    -  \n",
       "2  1929  1684  1609    -  \n",
       "3     -  1687  1639    -  \n",
       "4  1886  1704  1669    -  "
      ]
     },
     "execution_count": 65,
     "metadata": {},
     "output_type": "execute_result"
    }
   ],
   "source": [
    "df.head()"
   ]
  },
  {
   "cell_type": "code",
   "execution_count": 66,
   "id": "76208ed0",
   "metadata": {},
   "outputs": [
    {
     "data": {
      "text/html": [
       "<div>\n",
       "<style scoped>\n",
       "    .dataframe tbody tr th:only-of-type {\n",
       "        vertical-align: middle;\n",
       "    }\n",
       "\n",
       "    .dataframe tbody tr th {\n",
       "        vertical-align: top;\n",
       "    }\n",
       "\n",
       "    .dataframe thead th {\n",
       "        text-align: right;\n",
       "    }\n",
       "</style>\n",
       "<table border=\"1\" class=\"dataframe\">\n",
       "  <thead>\n",
       "    <tr style=\"text-align: right;\">\n",
       "      <th></th>\n",
       "      <th>상호</th>\n",
       "      <th>주소</th>\n",
       "      <th>상표</th>\n",
       "      <th>휘발유</th>\n",
       "      <th>경유</th>\n",
       "      <th>셀프여부</th>\n",
       "    </tr>\n",
       "  </thead>\n",
       "  <tbody>\n",
       "    <tr>\n",
       "      <th>11</th>\n",
       "      <td>현대오일뱅크㈜직영 도봉현대셀프주유소</td>\n",
       "      <td>서울 도봉구 도봉로 941 (도봉동)</td>\n",
       "      <td>현대오일뱅크</td>\n",
       "      <td>1699</td>\n",
       "      <td>1549</td>\n",
       "      <td>Y</td>\n",
       "    </tr>\n",
       "    <tr>\n",
       "      <th>12</th>\n",
       "      <td>오복주유소</td>\n",
       "      <td>서울 도봉구 방학로 43</td>\n",
       "      <td>S-OIL</td>\n",
       "      <td>1715</td>\n",
       "      <td>1627</td>\n",
       "      <td>Y</td>\n",
       "    </tr>\n",
       "    <tr>\n",
       "      <th>13</th>\n",
       "      <td>대성산업(주)신창주유소</td>\n",
       "      <td>서울 도봉구 덕릉로 267 (창동)</td>\n",
       "      <td>GS칼텍스</td>\n",
       "      <td>1725</td>\n",
       "      <td>1586</td>\n",
       "      <td>Y</td>\n",
       "    </tr>\n",
       "    <tr>\n",
       "      <th>14</th>\n",
       "      <td>(주)쌍문셀프주유소</td>\n",
       "      <td>서울 도봉구 노해로 161 (쌍문동)</td>\n",
       "      <td>현대오일뱅크</td>\n",
       "      <td>1728</td>\n",
       "      <td>1598</td>\n",
       "      <td>Y</td>\n",
       "    </tr>\n",
       "    <tr>\n",
       "      <th>15</th>\n",
       "      <td>현대오일뱅크㈜직영 영신주유소</td>\n",
       "      <td>서울 도봉구 방학로 151</td>\n",
       "      <td>현대오일뱅크</td>\n",
       "      <td>1767</td>\n",
       "      <td>1597</td>\n",
       "      <td>N</td>\n",
       "    </tr>\n",
       "  </tbody>\n",
       "</table>\n",
       "</div>"
      ],
      "text/plain": [
       "                     상호                    주소      상표   휘발유    경유 셀프여부\n",
       "11  현대오일뱅크㈜직영 도봉현대셀프주유소  서울 도봉구 도봉로 941 (도봉동)  현대오일뱅크  1699  1549    Y\n",
       "12                오복주유소         서울 도봉구 방학로 43   S-OIL  1715  1627    Y\n",
       "13         대성산업(주)신창주유소   서울 도봉구 덕릉로 267 (창동)   GS칼텍스  1725  1586    Y\n",
       "14           (주)쌍문셀프주유소  서울 도봉구 노해로 161 (쌍문동)  현대오일뱅크  1728  1598    Y\n",
       "15      현대오일뱅크㈜직영 영신주유소        서울 도봉구 방학로 151  현대오일뱅크  1767  1597    N"
      ]
     },
     "execution_count": 66,
     "metadata": {},
     "output_type": "execute_result"
    }
   ],
   "source": [
    "df = df[['상호','주소','상표','휘발유','경유','셀프여부']]\n",
    "df.tail()"
   ]
  },
  {
   "cell_type": "code",
   "execution_count": 69,
   "id": "0c53f67c",
   "metadata": {},
   "outputs": [
    {
     "data": {
      "text/html": [
       "<div>\n",
       "<style scoped>\n",
       "    .dataframe tbody tr th:only-of-type {\n",
       "        vertical-align: middle;\n",
       "    }\n",
       "\n",
       "    .dataframe tbody tr th {\n",
       "        vertical-align: top;\n",
       "    }\n",
       "\n",
       "    .dataframe thead th {\n",
       "        text-align: right;\n",
       "    }\n",
       "</style>\n",
       "<table border=\"1\" class=\"dataframe\">\n",
       "  <thead>\n",
       "    <tr style=\"text-align: right;\">\n",
       "      <th></th>\n",
       "      <th>휘발유</th>\n",
       "      <th>경유</th>\n",
       "    </tr>\n",
       "  </thead>\n",
       "  <tbody>\n",
       "    <tr>\n",
       "      <th>count</th>\n",
       "      <td>441.000000</td>\n",
       "      <td>441.000000</td>\n",
       "    </tr>\n",
       "    <tr>\n",
       "      <th>mean</th>\n",
       "      <td>1746.979592</td>\n",
       "      <td>1645.018141</td>\n",
       "    </tr>\n",
       "    <tr>\n",
       "      <th>std</th>\n",
       "      <td>169.443345</td>\n",
       "      <td>178.182770</td>\n",
       "    </tr>\n",
       "    <tr>\n",
       "      <th>min</th>\n",
       "      <td>1594.000000</td>\n",
       "      <td>1474.000000</td>\n",
       "    </tr>\n",
       "    <tr>\n",
       "      <th>25%</th>\n",
       "      <td>1655.000000</td>\n",
       "      <td>1544.000000</td>\n",
       "    </tr>\n",
       "    <tr>\n",
       "      <th>50%</th>\n",
       "      <td>1695.000000</td>\n",
       "      <td>1589.000000</td>\n",
       "    </tr>\n",
       "    <tr>\n",
       "      <th>75%</th>\n",
       "      <td>1749.000000</td>\n",
       "      <td>1669.000000</td>\n",
       "    </tr>\n",
       "    <tr>\n",
       "      <th>max</th>\n",
       "      <td>2753.000000</td>\n",
       "      <td>2679.000000</td>\n",
       "    </tr>\n",
       "  </tbody>\n",
       "</table>\n",
       "</div>"
      ],
      "text/plain": [
       "               휘발유           경유\n",
       "count   441.000000   441.000000\n",
       "mean   1746.979592  1645.018141\n",
       "std     169.443345   178.182770\n",
       "min    1594.000000  1474.000000\n",
       "25%    1655.000000  1544.000000\n",
       "50%    1695.000000  1589.000000\n",
       "75%    1749.000000  1669.000000\n",
       "max    2753.000000  2679.000000"
      ]
     },
     "execution_count": 69,
     "metadata": {},
     "output_type": "execute_result"
    }
   ],
   "source": [
    "df.describe()"
   ]
  },
  {
   "cell_type": "code",
   "execution_count": 72,
   "id": "400972e5",
   "metadata": {},
   "outputs": [
    {
     "data": {
      "text/html": [
       "<div>\n",
       "<style scoped>\n",
       "    .dataframe tbody tr th:only-of-type {\n",
       "        vertical-align: middle;\n",
       "    }\n",
       "\n",
       "    .dataframe tbody tr th {\n",
       "        vertical-align: top;\n",
       "    }\n",
       "\n",
       "    .dataframe thead th {\n",
       "        text-align: right;\n",
       "    }\n",
       "</style>\n",
       "<table border=\"1\" class=\"dataframe\">\n",
       "  <thead>\n",
       "    <tr style=\"text-align: right;\">\n",
       "      <th></th>\n",
       "      <th>상호</th>\n",
       "      <th>주소</th>\n",
       "      <th>상표</th>\n",
       "      <th>가격</th>\n",
       "      <th>경유</th>\n",
       "      <th>셀프</th>\n",
       "    </tr>\n",
       "  </thead>\n",
       "  <tbody>\n",
       "    <tr>\n",
       "      <th>0</th>\n",
       "      <td>(주)보성 세곡주유소</td>\n",
       "      <td>서울 강남구  헌릉로 731 (세곡동)</td>\n",
       "      <td>SK에너지</td>\n",
       "      <td>1623</td>\n",
       "      <td>1565</td>\n",
       "      <td>Y</td>\n",
       "    </tr>\n",
       "    <tr>\n",
       "      <th>1</th>\n",
       "      <td>자곡셀프주유소</td>\n",
       "      <td>서울 강남구 밤고개로 120 (자곡동)</td>\n",
       "      <td>SK에너지</td>\n",
       "      <td>1669</td>\n",
       "      <td>1575</td>\n",
       "      <td>Y</td>\n",
       "    </tr>\n",
       "    <tr>\n",
       "      <th>2</th>\n",
       "      <td>삼성동주유소</td>\n",
       "      <td>서울 강남구 테헤란로 619 (삼성동)</td>\n",
       "      <td>현대오일뱅크</td>\n",
       "      <td>1684</td>\n",
       "      <td>1609</td>\n",
       "      <td>Y</td>\n",
       "    </tr>\n",
       "    <tr>\n",
       "      <th>3</th>\n",
       "      <td>방죽주유소</td>\n",
       "      <td>서울 강남구 밤고개로 215 (율현동)</td>\n",
       "      <td>GS칼텍스</td>\n",
       "      <td>1687</td>\n",
       "      <td>1639</td>\n",
       "      <td>Y</td>\n",
       "    </tr>\n",
       "    <tr>\n",
       "      <th>4</th>\n",
       "      <td>오일프러스 셀프</td>\n",
       "      <td>서울 강남구 남부순환로 2651 (도곡동)</td>\n",
       "      <td>SK에너지</td>\n",
       "      <td>1704</td>\n",
       "      <td>1669</td>\n",
       "      <td>Y</td>\n",
       "    </tr>\n",
       "  </tbody>\n",
       "</table>\n",
       "</div>"
      ],
      "text/plain": [
       "            상호                       주소      상표    가격    경유 셀프\n",
       "0  (주)보성 세곡주유소    서울 강남구  헌릉로 731 (세곡동)   SK에너지  1623  1565  Y\n",
       "1      자곡셀프주유소    서울 강남구 밤고개로 120 (자곡동)   SK에너지  1669  1575  Y\n",
       "2       삼성동주유소    서울 강남구 테헤란로 619 (삼성동)  현대오일뱅크  1684  1609  Y\n",
       "3        방죽주유소    서울 강남구 밤고개로 215 (율현동)   GS칼텍스  1687  1639  Y\n",
       "4     오일프러스 셀프  서울 강남구 남부순환로 2651 (도곡동)   SK에너지  1704  1669  Y"
      ]
     },
     "execution_count": 72,
     "metadata": {},
     "output_type": "execute_result"
    }
   ],
   "source": [
    "# 이름 바꿔보기\n",
    "df.rename(columns = {'휘발유': '가격', '셀프여부':'셀프'}, inplace = True)\n",
    "df.head()"
   ]
  },
  {
   "cell_type": "code",
   "execution_count": 74,
   "id": "5a40f296",
   "metadata": {},
   "outputs": [],
   "source": [
    "df['구'] = df.주소.str.split(' ').str[1]"
   ]
  },
  {
   "cell_type": "code",
   "execution_count": 75,
   "id": "ad7ae6b2",
   "metadata": {},
   "outputs": [
    {
     "data": {
      "text/html": [
       "<div>\n",
       "<style scoped>\n",
       "    .dataframe tbody tr th:only-of-type {\n",
       "        vertical-align: middle;\n",
       "    }\n",
       "\n",
       "    .dataframe tbody tr th {\n",
       "        vertical-align: top;\n",
       "    }\n",
       "\n",
       "    .dataframe thead th {\n",
       "        text-align: right;\n",
       "    }\n",
       "</style>\n",
       "<table border=\"1\" class=\"dataframe\">\n",
       "  <thead>\n",
       "    <tr style=\"text-align: right;\">\n",
       "      <th></th>\n",
       "      <th>상호</th>\n",
       "      <th>주소</th>\n",
       "      <th>상표</th>\n",
       "      <th>가격</th>\n",
       "      <th>경유</th>\n",
       "      <th>셀프</th>\n",
       "      <th>구</th>\n",
       "    </tr>\n",
       "  </thead>\n",
       "  <tbody>\n",
       "    <tr>\n",
       "      <th>0</th>\n",
       "      <td>(주)보성 세곡주유소</td>\n",
       "      <td>서울 강남구  헌릉로 731 (세곡동)</td>\n",
       "      <td>SK에너지</td>\n",
       "      <td>1623</td>\n",
       "      <td>1565</td>\n",
       "      <td>Y</td>\n",
       "      <td>강남구</td>\n",
       "    </tr>\n",
       "    <tr>\n",
       "      <th>1</th>\n",
       "      <td>자곡셀프주유소</td>\n",
       "      <td>서울 강남구 밤고개로 120 (자곡동)</td>\n",
       "      <td>SK에너지</td>\n",
       "      <td>1669</td>\n",
       "      <td>1575</td>\n",
       "      <td>Y</td>\n",
       "      <td>강남구</td>\n",
       "    </tr>\n",
       "    <tr>\n",
       "      <th>2</th>\n",
       "      <td>삼성동주유소</td>\n",
       "      <td>서울 강남구 테헤란로 619 (삼성동)</td>\n",
       "      <td>현대오일뱅크</td>\n",
       "      <td>1684</td>\n",
       "      <td>1609</td>\n",
       "      <td>Y</td>\n",
       "      <td>강남구</td>\n",
       "    </tr>\n",
       "    <tr>\n",
       "      <th>3</th>\n",
       "      <td>방죽주유소</td>\n",
       "      <td>서울 강남구 밤고개로 215 (율현동)</td>\n",
       "      <td>GS칼텍스</td>\n",
       "      <td>1687</td>\n",
       "      <td>1639</td>\n",
       "      <td>Y</td>\n",
       "      <td>강남구</td>\n",
       "    </tr>\n",
       "    <tr>\n",
       "      <th>4</th>\n",
       "      <td>오일프러스 셀프</td>\n",
       "      <td>서울 강남구 남부순환로 2651 (도곡동)</td>\n",
       "      <td>SK에너지</td>\n",
       "      <td>1704</td>\n",
       "      <td>1669</td>\n",
       "      <td>Y</td>\n",
       "      <td>강남구</td>\n",
       "    </tr>\n",
       "  </tbody>\n",
       "</table>\n",
       "</div>"
      ],
      "text/plain": [
       "            상호                       주소      상표    가격    경유 셀프    구\n",
       "0  (주)보성 세곡주유소    서울 강남구  헌릉로 731 (세곡동)   SK에너지  1623  1565  Y  강남구\n",
       "1      자곡셀프주유소    서울 강남구 밤고개로 120 (자곡동)   SK에너지  1669  1575  Y  강남구\n",
       "2       삼성동주유소    서울 강남구 테헤란로 619 (삼성동)  현대오일뱅크  1684  1609  Y  강남구\n",
       "3        방죽주유소    서울 강남구 밤고개로 215 (율현동)   GS칼텍스  1687  1639  Y  강남구\n",
       "4     오일프러스 셀프  서울 강남구 남부순환로 2651 (도곡동)   SK에너지  1704  1669  Y  강남구"
      ]
     },
     "execution_count": 75,
     "metadata": {},
     "output_type": "execute_result"
    }
   ],
   "source": [
    "df.head()"
   ]
  },
  {
   "cell_type": "code",
   "execution_count": 76,
   "id": "b57952e9",
   "metadata": {},
   "outputs": [
    {
     "data": {
      "text/plain": [
       "(25,\n",
       " array(['강남구', '강동구', '동대문구', '동작구', '마포구', '서대문구', '서초구', '성동구', '성북구',\n",
       "        '송파구', '양천구', '영등포구', '강북구', '용산구', '은평구', '종로구', '중구', '중랑구',\n",
       "        '강서구', '관악구', '광진구', '구로구', '금천구', '노원구', '도봉구'], dtype=object))"
      ]
     },
     "execution_count": 76,
     "metadata": {},
     "output_type": "execute_result"
    }
   ],
   "source": [
    "df['구'].nunique(), df['구'].unique()"
   ]
  },
  {
   "cell_type": "code",
   "execution_count": 77,
   "id": "93128ea1",
   "metadata": {},
   "outputs": [
    {
     "name": "stdout",
     "output_type": "stream",
     "text": [
      "<class 'pandas.core.frame.DataFrame'>\n",
      "Int64Index: 441 entries, 0 to 15\n",
      "Data columns (total 7 columns):\n",
      " #   Column  Non-Null Count  Dtype \n",
      "---  ------  --------------  ----- \n",
      " 0   상호      441 non-null    object\n",
      " 1   주소      441 non-null    object\n",
      " 2   상표      441 non-null    object\n",
      " 3   가격      441 non-null    int64 \n",
      " 4   경유      441 non-null    int64 \n",
      " 5   셀프      441 non-null    object\n",
      " 6   구       441 non-null    object\n",
      "dtypes: int64(2), object(5)\n",
      "memory usage: 43.7+ KB\n"
     ]
    }
   ],
   "source": [
    "df.info()"
   ]
  },
  {
   "cell_type": "code",
   "execution_count": 78,
   "id": "dd18a701",
   "metadata": {},
   "outputs": [
    {
     "data": {
      "text/plain": [
       "array([1623, 1669, 1684, 1687, 1704, 1725, 1729, 1739, 1745, 1749, 1754,\n",
       "       1759, 1769, 1780, 1797, 1898, 1979, 1998, 2018, 2048, 2081, 2180,\n",
       "       2207, 2228, 2246, 2258, 2270, 2275, 2348, 2578, 1686, 1689, 1696,\n",
       "       1720, 1738, 1831, 1978, 1615, 1620, 1635, 1645, 1653, 1665, 1679,\n",
       "       1685, 1698, 1715, 1718, 1735, 1748, 1790, 1639, 1719, 1747, 1789,\n",
       "       1799, 1835, 1637, 1667, 1699, 1708, 1764, 1619, 1624, 1628, 1629,\n",
       "       1633, 1638, 1659, 1675, 1695, 1709, 1728, 1594, 1678, 1681, 1697,\n",
       "       1701, 1705, 1706, 1714, 1752, 1768, 1775, 1784, 1785, 1793, 1948,\n",
       "       1989, 1625, 1654, 1694, 1746, 1788, 1792, 1962, 1965, 2135, 2148,\n",
       "       1664, 1707, 1734, 1767, 1795, 1884, 1892, 1657, 1663, 1670, 1673,\n",
       "       1677, 1682, 1688, 1713, 1848, 1595, 1605, 1649, 1658, 1778, 1779,\n",
       "       1647, 1655, 1674, 1909, 2075, 2150, 2199, 1668, 1999, 2019, 2030,\n",
       "       2039, 2173, 2175, 2237, 2398, 2749, 1604, 1607, 1609, 1614, 1617,\n",
       "       1627, 2045, 2230, 2240, 1765, 1828, 1879, 2287, 2509, 2753, 1643,\n",
       "       1644, 1656, 1676, 1680, 1690, 1693, 1737, 1758, 1895, 1995, 1756,\n",
       "       1798, 1852, 1727, 1757, 2198, 1740], dtype=int64)"
      ]
     },
     "execution_count": 78,
     "metadata": {},
     "output_type": "execute_result"
    }
   ],
   "source": [
    "df['가격'].unique()"
   ]
  },
  {
   "cell_type": "code",
   "execution_count": 79,
   "id": "18410bc6",
   "metadata": {},
   "outputs": [],
   "source": [
    "# 가격 정보가 없을 경우 제외 처리\n",
    "df = df[df.가격 !='-']\n",
    "df.가격 = df.가격.astype(int)"
   ]
  },
  {
   "cell_type": "code",
   "execution_count": 80,
   "id": "86035dda",
   "metadata": {},
   "outputs": [
    {
     "name": "stdout",
     "output_type": "stream",
     "text": [
      "<class 'pandas.core.frame.DataFrame'>\n",
      "Int64Index: 441 entries, 0 to 15\n",
      "Data columns (total 7 columns):\n",
      " #   Column  Non-Null Count  Dtype \n",
      "---  ------  --------------  ----- \n",
      " 0   상호      441 non-null    object\n",
      " 1   주소      441 non-null    object\n",
      " 2   상표      441 non-null    object\n",
      " 3   가격      441 non-null    int32 \n",
      " 4   경유      441 non-null    int64 \n",
      " 5   셀프      441 non-null    object\n",
      " 6   구       441 non-null    object\n",
      "dtypes: int32(1), int64(1), object(5)\n",
      "memory usage: 25.8+ KB\n"
     ]
    }
   ],
   "source": [
    "df.info()"
   ]
  },
  {
   "cell_type": "code",
   "execution_count": 81,
   "id": "aa19afa8",
   "metadata": {},
   "outputs": [],
   "source": [
    "# 저장하기\n",
    "df.to_csv('data1/서울_주유소_230418.csv', index = False)"
   ]
  },
  {
   "cell_type": "markdown",
   "id": "882768ed",
   "metadata": {},
   "source": [
    "## 데이터 분석 및 시각화"
   ]
  },
  {
   "cell_type": "code",
   "execution_count": null,
   "id": "7948efde",
   "metadata": {},
   "outputs": [],
   "source": []
  }
 ],
 "metadata": {
  "kernelspec": {
   "display_name": "Python 3 (ipykernel)",
   "language": "python",
   "name": "python3"
  },
  "language_info": {
   "codemirror_mode": {
    "name": "ipython",
    "version": 3
   },
   "file_extension": ".py",
   "mimetype": "text/x-python",
   "name": "python",
   "nbconvert_exporter": "python",
   "pygments_lexer": "ipython3",
   "version": "3.8.10"
  }
 },
 "nbformat": 4,
 "nbformat_minor": 5
}
