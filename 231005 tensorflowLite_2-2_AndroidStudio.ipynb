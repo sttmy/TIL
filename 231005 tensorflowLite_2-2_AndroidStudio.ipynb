{
 "cells": [
  {
   "cell_type": "markdown",
   "metadata": {},
   "source": [
    "### New project\n",
    "\n",
    "build configuration language : Groovy DSL 로 변경"
   ]
  },
  {
   "cell_type": "markdown",
   "metadata": {},
   "source": [
    "### build.gradle\n",
    "\n",
    "```\n",
    "dependencies {\n",
    "    ...\n",
    "\n",
    "    implementation 'org.tensorflow:tensorflow-lite:2.7.0'\n",
    "    implementation 'org.tensorflow:tensorflow-lite-support:0.3.0'\n",
    "}\n",
    "```\n",
    "\n",
    "### Sync Now"
   ]
  },
  {
   "cell_type": "markdown",
   "metadata": {},
   "source": [
    "### app > java > com.example.iris > Classifier\n",
    "\n",
    "```Classifier\n",
    "\n",
    "package com.example.iris;\n",
    "\n",
    "import android.content.Context;\n",
    "import android.content.res.AssetFileDescriptor;\n",
    "import android.content.res.AssetManager;\n",
    "import android.graphics.Bitmap;\n",
    "import android.util.Log;\n",
    "import android.util.Pair;\n",
    "import org.tensorflow.lite.DataType;\n",
    "import org.tensorflow.lite.Interpreter;\n",
    "import org.tensorflow.lite.Tensor;\n",
    "import org.tensorflow.lite.support.tensorbuffer.TensorBuffer;\n",
    "import java.io.FileInputStream;\n",
    "import java.io.IOException;\n",
    "import java.nio.ByteBuffer;\n",
    "import java.nio.ByteOrder;\n",
    "import java.nio.channels.FileChannel;\n",
    "import java.util.ArrayList;\n",
    "import java.util.List;\n",
    "\n",
    "public class Classifier {\n",
    "    private static final String MODEL_NAME = \"iris_model.tflite\";\n",
    "    Context context;\n",
    "    Interpreter interpreter = null;\n",
    "    int modelOutputClasses;\n",
    "    public Classifier(Context context) {\n",
    "        this.context = context;\n",
    "    }\n",
    "    public void init() throws IOException {\n",
    "        ByteBuffer model = null;\n",
    "        model = loadModelFile(MODEL_NAME);\n",
    "        model.order(ByteOrder.nativeOrder());\n",
    "        interpreter = new Interpreter(model);\n",
    "        initModelShape();\n",
    "    }\n",
    "    private ByteBuffer loadModelFile(String modelName) throws IOException {\n",
    "        AssetManager am = context.getAssets();\n",
    "        AssetFileDescriptor afd = am.openFd(modelName);\n",
    "        FileInputStream fis = new FileInputStream(afd.getFileDescriptor());\n",
    "        FileChannel fc = fis.getChannel();\n",
    "        long startOffset = afd.getStartOffset();\n",
    "        long declaredLength = afd.getDeclaredLength();\n",
    "        return fc.map(FileChannel.MapMode.READ_ONLY, startOffset, declaredLength);\n",
    "    }\n",
    "    private void initModelShape() {\n",
    "        Tensor inputTensor = interpreter.getInputTensor(0);\n",
    "        Tensor outputTensor = interpreter.getOutputTensor(0);\n",
    "        int[] outputShape = outputTensor.shape();\n",
    "        modelOutputClasses = outputShape[1];\n",
    "    }\n",
    "    public List<Object> classify(float input1, float input2, float input3, float input4) {\n",
    "        float[] inputData = {input1, input2, input3, input4};\n",
    "        float[][] outputData = new float[1][3];\n",
    "        interpreter.run(inputData, outputData);\n",
    "        int argmax = 0;\n",
    "        float max = outputData[0][0];\n",
    "        for (int i = 1; i < outputData.length; i++) {\n",
    "            float f = outputData[0][i];\n",
    "            if (f > max) {\n",
    "                argmax = i;\n",
    "                max = f;\n",
    "            }\n",
    "        }\n",
    "        List<Object> items = new ArrayList<>();\n",
    "        items.add(argmax);\n",
    "        items.add(max);\n",
    "        return items;\n",
    "    }\n",
    "    public void finish() {\n",
    "        if (interpreter != null)\n",
    "            interpreter.close();\n",
    "    }\n",
    "}\n",
    "\n",
    "```"
   ]
  },
  {
   "cell_type": "markdown",
   "metadata": {},
   "source": [
    "com.example.iris 우클릭 new > activity> empty > launcher activity 선택\n"
   ]
  }
 ],
 "metadata": {
  "kernelspec": {
   "display_name": "Python 3",
   "language": "python",
   "name": "python3"
  },
  "language_info": {
   "codemirror_mode": {
    "name": "ipython",
    "version": 3
   },
   "file_extension": ".py",
   "mimetype": "text/x-python",
   "name": "python",
   "nbconvert_exporter": "python",
   "pygments_lexer": "ipython3",
   "version": "3.9.13"
  },
  "orig_nbformat": 4
 },
 "nbformat": 4,
 "nbformat_minor": 2
}
