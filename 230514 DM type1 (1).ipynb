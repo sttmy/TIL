{
 "cells": [
  {
   "cell_type": "markdown",
   "id": "aadb4575",
   "metadata": {},
   "source": [
    "유튜브 인기동영상 데이터: https://www.kaggle.com/rsrishav/youtube-trending-video-dataset?select=KR_youtube_trending_data.csv"
   ]
  },
  {
   "cell_type": "code",
   "execution_count": 1,
   "id": "fed314de",
   "metadata": {},
   "outputs": [],
   "source": [
    "dataurl='https://raw.githubusercontent.com/Datamanim/datarepo/main/youtube/youtube.csv'"
   ]
  },
  {
   "cell_type": "code",
   "execution_count": 2,
   "id": "3dd4f84a",
   "metadata": {},
   "outputs": [
    {
     "data": {
      "text/html": [
       "<div>\n",
       "<style scoped>\n",
       "    .dataframe tbody tr th:only-of-type {\n",
       "        vertical-align: middle;\n",
       "    }\n",
       "\n",
       "    .dataframe tbody tr th {\n",
       "        vertical-align: top;\n",
       "    }\n",
       "\n",
       "    .dataframe thead th {\n",
       "        text-align: right;\n",
       "    }\n",
       "</style>\n",
       "<table border=\"1\" class=\"dataframe\">\n",
       "  <thead>\n",
       "    <tr style=\"text-align: right;\">\n",
       "      <th></th>\n",
       "      <th>Unnamed: 0</th>\n",
       "      <th>title</th>\n",
       "      <th>channelTitle</th>\n",
       "      <th>categoryId</th>\n",
       "      <th>view_count</th>\n",
       "      <th>likes</th>\n",
       "      <th>dislikes</th>\n",
       "      <th>comment_count</th>\n",
       "      <th>channelId</th>\n",
       "      <th>trending_date2</th>\n",
       "    </tr>\n",
       "  </thead>\n",
       "  <tbody>\n",
       "    <tr>\n",
       "      <th>0</th>\n",
       "      <td>0</td>\n",
       "      <td>[신병] 물자창고</td>\n",
       "      <td>장삐쭈</td>\n",
       "      <td>23</td>\n",
       "      <td>1893473</td>\n",
       "      <td>38249</td>\n",
       "      <td>730</td>\n",
       "      <td>8595</td>\n",
       "      <td>UChbE5OZQ6dRHECsX0tEPEZQ</td>\n",
       "      <td>2021-01-01</td>\n",
       "    </tr>\n",
       "    <tr>\n",
       "      <th>1</th>\n",
       "      <td>1</td>\n",
       "      <td>RAIN(비) - 나로 바꾸자 Switch to me (duet with JYP) MV</td>\n",
       "      <td>RAIN's Official Channel</td>\n",
       "      <td>10</td>\n",
       "      <td>2600864</td>\n",
       "      <td>0</td>\n",
       "      <td>0</td>\n",
       "      <td>20129</td>\n",
       "      <td>UCxXgIeE5hxWxHG6dz9Scg2w</td>\n",
       "      <td>2021-01-01</td>\n",
       "    </tr>\n",
       "    <tr>\n",
       "      <th>2</th>\n",
       "      <td>2</td>\n",
       "      <td>2020년 제야의 종 온라인 타종행사 | 보신각 현장 행사는 진행하지 않습니다.</td>\n",
       "      <td>서울시 · Seoul</td>\n",
       "      <td>29</td>\n",
       "      <td>347049</td>\n",
       "      <td>3564</td>\n",
       "      <td>120</td>\n",
       "      <td>178</td>\n",
       "      <td>UCZUPZW5idAxYp-Asj__lVAA</td>\n",
       "      <td>2021-01-01</td>\n",
       "    </tr>\n",
       "    <tr>\n",
       "      <th>3</th>\n",
       "      <td>3</td>\n",
       "      <td>고기남자의 칠면조 파티</td>\n",
       "      <td>고기남자 MeatMan</td>\n",
       "      <td>26</td>\n",
       "      <td>528458</td>\n",
       "      <td>15372</td>\n",
       "      <td>280</td>\n",
       "      <td>3470</td>\n",
       "      <td>UCT3CumbFIJiW33uq0UI3zlg</td>\n",
       "      <td>2021-01-01</td>\n",
       "    </tr>\n",
       "    <tr>\n",
       "      <th>4</th>\n",
       "      <td>4</td>\n",
       "      <td>골목 3mc를 분노하게 만든 마음고생이 심했을 공릉 백반집 사장님의 푸념?! [예능...</td>\n",
       "      <td>스브스밥집</td>\n",
       "      <td>24</td>\n",
       "      <td>494904</td>\n",
       "      <td>3918</td>\n",
       "      <td>111</td>\n",
       "      <td>3142</td>\n",
       "      <td>UCdWgRSfttvDucq4ApcCg5Mw</td>\n",
       "      <td>2021-01-01</td>\n",
       "    </tr>\n",
       "  </tbody>\n",
       "</table>\n",
       "</div>"
      ],
      "text/plain": [
       "   Unnamed: 0                                              title  \\\n",
       "0           0                                          [신병] 물자창고   \n",
       "1           1   RAIN(비) - 나로 바꾸자 Switch to me (duet with JYP) MV   \n",
       "2           2       2020년 제야의 종 온라인 타종행사 | 보신각 현장 행사는 진행하지 않습니다.   \n",
       "3           3                                       고기남자의 칠면조 파티   \n",
       "4           4  골목 3mc를 분노하게 만든 마음고생이 심했을 공릉 백반집 사장님의 푸념?! [예능...   \n",
       "\n",
       "              channelTitle  categoryId  view_count  likes  dislikes  \\\n",
       "0                      장삐쭈          23     1893473  38249       730   \n",
       "1  RAIN's Official Channel          10     2600864      0         0   \n",
       "2              서울시 · Seoul          29      347049   3564       120   \n",
       "3             고기남자 MeatMan          26      528458  15372       280   \n",
       "4                    스브스밥집          24      494904   3918       111   \n",
       "\n",
       "   comment_count                 channelId trending_date2  \n",
       "0           8595  UChbE5OZQ6dRHECsX0tEPEZQ     2021-01-01  \n",
       "1          20129  UCxXgIeE5hxWxHG6dz9Scg2w     2021-01-01  \n",
       "2            178  UCZUPZW5idAxYp-Asj__lVAA     2021-01-01  \n",
       "3           3470  UCT3CumbFIJiW33uq0UI3zlg     2021-01-01  \n",
       "4           3142  UCdWgRSfttvDucq4ApcCg5Mw     2021-01-01  "
      ]
     },
     "execution_count": 2,
     "metadata": {},
     "output_type": "execute_result"
    }
   ],
   "source": [
    "import pandas as pd\n",
    "df = pd.read_csv(dataurl)\n",
    "df.head()"
   ]
  },
  {
   "cell_type": "markdown",
   "id": "9fc410f3",
   "metadata": {},
   "source": [
    "1.인기동영상 제작횟수가 많은 채널 상위 10개명을 출력하라 (날짜기준, 중복포함)"
   ]
  },
  {
   "cell_type": "code",
   "execution_count": 3,
   "id": "10a58c34",
   "metadata": {},
   "outputs": [
    {
     "data": {
      "text/plain": [
       "channelTitle\n",
       "짤툰                       372\n",
       "파뿌리                      318\n",
       "SPOTV                    318\n",
       "런닝맨 - 스브스 공식 채널          313\n",
       "엠뚜루마뚜루 : MBC 공식 종합 채널    293\n",
       "장삐쭈                      283\n",
       "BANGTANTV                275\n",
       "채널 십오야                   274\n",
       "이과장                      258\n",
       "총몇명                      255\n",
       "dtype: int64"
      ]
     },
     "execution_count": 3,
     "metadata": {},
     "output_type": "execute_result"
    }
   ],
   "source": [
    "df.groupby('channelTitle').size().sort_values(ascending=False)[0:10]"
   ]
  },
  {
   "cell_type": "code",
   "execution_count": 4,
   "id": "e1a22a70",
   "metadata": {},
   "outputs": [
    {
     "data": {
      "text/plain": [
       "['장삐쭈',\n",
       " '총몇명',\n",
       " '파뿌리',\n",
       " '짤툰',\n",
       " '런닝맨 - 스브스 공식 채널',\n",
       " '엠뚜루마뚜루 : MBC 공식 종합 채널',\n",
       " 'SPOTV',\n",
       " '채널 십오야',\n",
       " '이과장',\n",
       " 'BANGTANTV']"
      ]
     },
     "execution_count": 4,
     "metadata": {},
     "output_type": "execute_result"
    }
   ],
   "source": [
    "list(df.loc[df.channelId.isin(df.channelId.value_counts().head(10).index)].channelTitle.unique())"
   ]
  },
  {
   "cell_type": "code",
   "execution_count": 5,
   "id": "3fd9e356",
   "metadata": {},
   "outputs": [
    {
     "data": {
      "text/plain": [
       "0                          장삐쭈\n",
       "27                         총몇명\n",
       "32                         파뿌리\n",
       "76                          짤툰\n",
       "79                         총몇명\n",
       "                 ...          \n",
       "60241                       짤툰\n",
       "60242                      파뿌리\n",
       "60271    엠뚜루마뚜루 : MBC 공식 종합 채널\n",
       "60305          런닝맨 - 스브스 공식 채널\n",
       "60327                      파뿌리\n",
       "Name: channelTitle, Length: 2959, dtype: object"
      ]
     },
     "execution_count": 5,
     "metadata": {},
     "output_type": "execute_result"
    }
   ],
   "source": [
    "df.loc[df.channelId.isin(df.channelId.value_counts().head(10).index)].channelTitle"
   ]
  },
  {
   "cell_type": "code",
   "execution_count": 6,
   "id": "ea629b68",
   "metadata": {},
   "outputs": [
    {
     "data": {
      "text/plain": [
       "UCszFjh7CEfwDb7UUGb4RzCQ    372\n",
       "UClzB2iZ5jPoTNz0S-QU6Wiw    318\n",
       "UCtm_QoN2SIxwCE-59shX7Qg    318\n",
       "UCaKod3X1Tn4c7Ci0iUKcvzQ    313\n",
       "UCiwQRG2sCcfjKkgxMEdJGPg    293\n",
       "UChbE5OZQ6dRHECsX0tEPEZQ    283\n",
       "UCLkAepWjdylmXSltofFvsYQ    275\n",
       "UCQ2O-iftmnlfrBuNsUUTofQ    274\n",
       "UCtfriFvIe5gIe8wRWb8UTMg    258\n",
       "UCRuSxVu4iqTK5kCh90ntAgA    255\n",
       "Name: channelId, dtype: int64"
      ]
     },
     "execution_count": 6,
     "metadata": {},
     "output_type": "execute_result"
    }
   ],
   "source": [
    "df.channelId.value_counts().head(10)"
   ]
  },
  {
   "cell_type": "code",
   "execution_count": 7,
   "id": "8708605b",
   "metadata": {},
   "outputs": [
    {
     "data": {
      "text/plain": [
       "Index(['짤툰', '파뿌리', 'SPOTV', '런닝맨 - 스브스 공식 채널', '엠뚜루마뚜루 : MBC 공식 종합 채널', '장삐쭈',\n",
       "       'BANGTANTV', '채널 십오야', '이과장', '총몇명'],\n",
       "      dtype='object')"
      ]
     },
     "execution_count": 7,
     "metadata": {},
     "output_type": "execute_result"
    }
   ],
   "source": [
    "df.channelTitle.value_counts().head(10).index"
   ]
  },
  {
   "cell_type": "markdown",
   "id": "b3dd9201",
   "metadata": {},
   "source": [
    "2.논란으로 인기동영상이 된 케이스를 확인하고 싶다. dislikes수가 like 수보다 높은 동영상을 제작한 채널을 모두 출력하라"
   ]
  },
  {
   "cell_type": "code",
   "execution_count": 17,
   "id": "87a0b5df",
   "metadata": {},
   "outputs": [
    {
     "data": {
      "text/plain": [
       "array(['핫도그TV', 'ASMR 애정TV', '하얀트리HayanTree', '양팡 YangPang',\n",
       "       '철구형 (CHULTUBE)', '왜냐맨하우스', '(MUTUBE)와꾸대장봉준', '오메킴TV', '육지담',\n",
       "       'MapleStory_KR', 'ROAD FIGHTING CHAMPIONSHIP', '사나이 김기훈',\n",
       "       '나혼자산다 STUDIO', 'Gen.G esports'], dtype=object)"
      ]
     },
     "execution_count": 17,
     "metadata": {},
     "output_type": "execute_result"
    }
   ],
   "source": [
    "df[df['dislikes'] > df['likes']].channelTitle.unique()"
   ]
  },
  {
   "cell_type": "code",
   "execution_count": 21,
   "id": "c47ba590",
   "metadata": {},
   "outputs": [
    {
     "data": {
      "text/plain": [
       "['핫도그TV',\n",
       " 'ASMR 애정TV',\n",
       " '하얀트리HayanTree',\n",
       " '양팡 YangPang',\n",
       " '철구형 (CHULTUBE)',\n",
       " '왜냐맨하우스',\n",
       " '(MUTUBE)와꾸대장봉준',\n",
       " '오메킴TV',\n",
       " '육지담',\n",
       " 'MapleStory_KR',\n",
       " 'ROAD FIGHTING CHAMPIONSHIP',\n",
       " '사나이 김기훈',\n",
       " '나혼자산다 STUDIO',\n",
       " 'Gen.G esports']"
      ]
     },
     "execution_count": 21,
     "metadata": {},
     "output_type": "execute_result"
    }
   ],
   "source": [
    "list(df.loc[df.dislikes > df.likes].channelTitle.unique())"
   ]
  },
  {
   "cell_type": "markdown",
   "id": "24866bd8",
   "metadata": {},
   "source": [
    "3. 채널명을 바꾼 케이스가 있는지 확인하고 싶다. channelId의 경우 고유값이므로 이를 통해 채널명을 한번이라도 바꾼 채널의 갯수를 구하여라"
   ]
  },
  {
   "cell_type": "code",
   "execution_count": 22,
   "id": "1322ff0f",
   "metadata": {},
   "outputs": [
    {
     "data": {
      "text/plain": [
       "1770"
      ]
     },
     "execution_count": 22,
     "metadata": {},
     "output_type": "execute_result"
    }
   ],
   "source": [
    "df.channelId.nunique()"
   ]
  },
  {
   "cell_type": "code",
   "execution_count": 23,
   "id": "cea6909d",
   "metadata": {},
   "outputs": [
    {
     "data": {
      "text/plain": [
       "1832"
      ]
     },
     "execution_count": 23,
     "metadata": {},
     "output_type": "execute_result"
    }
   ],
   "source": [
    "df.channelTitle.nunique()"
   ]
  },
  {
   "cell_type": "code",
   "execution_count": 30,
   "id": "612c5e23",
   "metadata": {},
   "outputs": [
    {
     "data": {
      "text/plain": [
       "71"
      ]
     },
     "execution_count": 30,
     "metadata": {},
     "output_type": "execute_result"
    }
   ],
   "source": [
    "( df[['channelTitle','channelId']].drop_duplicates().channelId.value_counts() > 1 ).sum()"
   ]
  },
  {
   "cell_type": "markdown",
   "id": "b5414a21",
   "metadata": {},
   "source": [
    "4. 일요일에 인기있었던 영상들중 가장많은 영상 종류(categoryId)는 무엇인가?"
   ]
  },
  {
   "cell_type": "code",
   "execution_count": 32,
   "id": "27cd84bb",
   "metadata": {},
   "outputs": [
    {
     "name": "stdout",
     "output_type": "stream",
     "text": [
      "<class 'pandas.core.frame.DataFrame'>\n",
      "RangeIndex: 60399 entries, 0 to 60398\n",
      "Data columns (total 10 columns):\n",
      " #   Column          Non-Null Count  Dtype \n",
      "---  ------          --------------  ----- \n",
      " 0   Unnamed: 0      60399 non-null  int64 \n",
      " 1   title           60399 non-null  object\n",
      " 2   channelTitle    60399 non-null  object\n",
      " 3   categoryId      60399 non-null  int64 \n",
      " 4   view_count      60399 non-null  int64 \n",
      " 5   likes           60399 non-null  int64 \n",
      " 6   dislikes        60399 non-null  int64 \n",
      " 7   comment_count   60399 non-null  int64 \n",
      " 8   channelId       60399 non-null  object\n",
      " 9   trending_date2  60399 non-null  object\n",
      "dtypes: int64(6), object(4)\n",
      "memory usage: 4.6+ MB\n"
     ]
    }
   ],
   "source": [
    "df.info()"
   ]
  },
  {
   "cell_type": "code",
   "execution_count": 46,
   "id": "c86f59d0",
   "metadata": {},
   "outputs": [],
   "source": [
    "import datetime as dt"
   ]
  },
  {
   "cell_type": "code",
   "execution_count": 52,
   "id": "8fa5ebfc",
   "metadata": {},
   "outputs": [],
   "source": [
    "df.trending_date2 = df.trending_date2.astype('datetime64')"
   ]
  },
  {
   "cell_type": "code",
   "execution_count": 60,
   "id": "29725efa",
   "metadata": {},
   "outputs": [
    {
     "data": {
      "text/plain": [
       "24"
      ]
     },
     "execution_count": 60,
     "metadata": {},
     "output_type": "execute_result"
    }
   ],
   "source": [
    "df[df.trending_date2.dt.day_name() == 'Sunday'].groupby('categoryId').size().sort_values(ascending = False).index[0]"
   ]
  },
  {
   "cell_type": "code",
   "execution_count": 63,
   "id": "c7e8c7b0",
   "metadata": {},
   "outputs": [
    {
     "data": {
      "text/plain": [
       "24"
      ]
     },
     "execution_count": 63,
     "metadata": {},
     "output_type": "execute_result"
    }
   ],
   "source": [
    "df.loc[df.trending_date2.dt.day_name() == 'Sunday'].categoryId.value_counts().index[0]"
   ]
  },
  {
   "cell_type": "markdown",
   "id": "b9884dd2",
   "metadata": {},
   "source": [
    "5. 각 요일별 인기 영상들의 categoryId는 각각 몇개 씩인지 하나의 데이터 프레임으로 표현하라"
   ]
  },
  {
   "cell_type": "code",
   "execution_count": 70,
   "id": "5517c29a",
   "metadata": {},
   "outputs": [
    {
     "data": {
      "text/plain": [
       "array(['Friday', 'Saturday', 'Sunday', 'Monday', 'Tuesday', 'Wednesday',\n",
       "       'Thursday'], dtype=object)"
      ]
     },
     "execution_count": 70,
     "metadata": {},
     "output_type": "execute_result"
    }
   ],
   "source": [
    "df.trending_date2.dt.day_name().unique()"
   ]
  },
  {
   "cell_type": "code",
   "execution_count": 79,
   "id": "c57dbf81",
   "metadata": {},
   "outputs": [
    {
     "data": {
      "text/html": [
       "<div>\n",
       "<style scoped>\n",
       "    .dataframe tbody tr th:only-of-type {\n",
       "        vertical-align: middle;\n",
       "    }\n",
       "\n",
       "    .dataframe tbody tr th {\n",
       "        vertical-align: top;\n",
       "    }\n",
       "\n",
       "    .dataframe thead tr th {\n",
       "        text-align: left;\n",
       "    }\n",
       "\n",
       "    .dataframe thead tr:last-of-type th {\n",
       "        text-align: right;\n",
       "    }\n",
       "</style>\n",
       "<table border=\"1\" class=\"dataframe\">\n",
       "  <thead>\n",
       "    <tr>\n",
       "      <th></th>\n",
       "      <th colspan=\"7\" halign=\"left\">size</th>\n",
       "    </tr>\n",
       "    <tr>\n",
       "      <th>trending_date2</th>\n",
       "      <th>Friday</th>\n",
       "      <th>Monday</th>\n",
       "      <th>Saturday</th>\n",
       "      <th>Sunday</th>\n",
       "      <th>Thursday</th>\n",
       "      <th>Tuesday</th>\n",
       "      <th>Wednesday</th>\n",
       "    </tr>\n",
       "    <tr>\n",
       "      <th>categoryId</th>\n",
       "      <th></th>\n",
       "      <th></th>\n",
       "      <th></th>\n",
       "      <th></th>\n",
       "      <th></th>\n",
       "      <th></th>\n",
       "      <th></th>\n",
       "    </tr>\n",
       "  </thead>\n",
       "  <tbody>\n",
       "    <tr>\n",
       "      <th>1</th>\n",
       "      <td>243</td>\n",
       "      <td>263</td>\n",
       "      <td>255</td>\n",
       "      <td>274</td>\n",
       "      <td>246</td>\n",
       "      <td>257</td>\n",
       "      <td>234</td>\n",
       "    </tr>\n",
       "    <tr>\n",
       "      <th>2</th>\n",
       "      <td>120</td>\n",
       "      <td>105</td>\n",
       "      <td>119</td>\n",
       "      <td>99</td>\n",
       "      <td>128</td>\n",
       "      <td>119</td>\n",
       "      <td>129</td>\n",
       "    </tr>\n",
       "    <tr>\n",
       "      <th>10</th>\n",
       "      <td>833</td>\n",
       "      <td>837</td>\n",
       "      <td>776</td>\n",
       "      <td>830</td>\n",
       "      <td>890</td>\n",
       "      <td>894</td>\n",
       "      <td>917</td>\n",
       "    </tr>\n",
       "    <tr>\n",
       "      <th>15</th>\n",
       "      <td>187</td>\n",
       "      <td>215</td>\n",
       "      <td>198</td>\n",
       "      <td>217</td>\n",
       "      <td>207</td>\n",
       "      <td>208</td>\n",
       "      <td>207</td>\n",
       "    </tr>\n",
       "    <tr>\n",
       "      <th>17</th>\n",
       "      <td>633</td>\n",
       "      <td>668</td>\n",
       "      <td>592</td>\n",
       "      <td>636</td>\n",
       "      <td>682</td>\n",
       "      <td>708</td>\n",
       "      <td>706</td>\n",
       "    </tr>\n",
       "    <tr>\n",
       "      <th>19</th>\n",
       "      <td>90</td>\n",
       "      <td>92</td>\n",
       "      <td>87</td>\n",
       "      <td>91</td>\n",
       "      <td>92</td>\n",
       "      <td>89</td>\n",
       "      <td>85</td>\n",
       "    </tr>\n",
       "    <tr>\n",
       "      <th>20</th>\n",
       "      <td>283</td>\n",
       "      <td>298</td>\n",
       "      <td>296</td>\n",
       "      <td>289</td>\n",
       "      <td>282</td>\n",
       "      <td>285</td>\n",
       "      <td>291</td>\n",
       "    </tr>\n",
       "    <tr>\n",
       "      <th>22</th>\n",
       "      <td>1288</td>\n",
       "      <td>1373</td>\n",
       "      <td>1289</td>\n",
       "      <td>1337</td>\n",
       "      <td>1341</td>\n",
       "      <td>1375</td>\n",
       "      <td>1333</td>\n",
       "    </tr>\n",
       "    <tr>\n",
       "      <th>23</th>\n",
       "      <td>568</td>\n",
       "      <td>594</td>\n",
       "      <td>570</td>\n",
       "      <td>556</td>\n",
       "      <td>560</td>\n",
       "      <td>569</td>\n",
       "      <td>566</td>\n",
       "    </tr>\n",
       "    <tr>\n",
       "      <th>24</th>\n",
       "      <td>2976</td>\n",
       "      <td>3148</td>\n",
       "      <td>3066</td>\n",
       "      <td>3096</td>\n",
       "      <td>2954</td>\n",
       "      <td>3084</td>\n",
       "      <td>3090</td>\n",
       "    </tr>\n",
       "    <tr>\n",
       "      <th>25</th>\n",
       "      <td>444</td>\n",
       "      <td>453</td>\n",
       "      <td>422</td>\n",
       "      <td>437</td>\n",
       "      <td>470</td>\n",
       "      <td>452</td>\n",
       "      <td>468</td>\n",
       "    </tr>\n",
       "    <tr>\n",
       "      <th>26</th>\n",
       "      <td>369</td>\n",
       "      <td>378</td>\n",
       "      <td>364</td>\n",
       "      <td>363</td>\n",
       "      <td>375</td>\n",
       "      <td>394</td>\n",
       "      <td>385</td>\n",
       "    </tr>\n",
       "    <tr>\n",
       "      <th>27</th>\n",
       "      <td>183</td>\n",
       "      <td>205</td>\n",
       "      <td>183</td>\n",
       "      <td>199</td>\n",
       "      <td>194</td>\n",
       "      <td>194</td>\n",
       "      <td>212</td>\n",
       "    </tr>\n",
       "    <tr>\n",
       "      <th>28</th>\n",
       "      <td>171</td>\n",
       "      <td>160</td>\n",
       "      <td>173</td>\n",
       "      <td>167</td>\n",
       "      <td>166</td>\n",
       "      <td>161</td>\n",
       "      <td>165</td>\n",
       "    </tr>\n",
       "    <tr>\n",
       "      <th>29</th>\n",
       "      <td>12</td>\n",
       "      <td>10</td>\n",
       "      <td>10</td>\n",
       "      <td>9</td>\n",
       "      <td>13</td>\n",
       "      <td>11</td>\n",
       "      <td>12</td>\n",
       "    </tr>\n",
       "  </tbody>\n",
       "</table>\n",
       "</div>"
      ],
      "text/plain": [
       "                 size                                                  \n",
       "trending_date2 Friday Monday Saturday Sunday Thursday Tuesday Wednesday\n",
       "categoryId                                                             \n",
       "1                 243    263      255    274      246     257       234\n",
       "2                 120    105      119     99      128     119       129\n",
       "10                833    837      776    830      890     894       917\n",
       "15                187    215      198    217      207     208       207\n",
       "17                633    668      592    636      682     708       706\n",
       "19                 90     92       87     91       92      89        85\n",
       "20                283    298      296    289      282     285       291\n",
       "22               1288   1373     1289   1337     1341    1375      1333\n",
       "23                568    594      570    556      560     569       566\n",
       "24               2976   3148     3066   3096     2954    3084      3090\n",
       "25                444    453      422    437      470     452       468\n",
       "26                369    378      364    363      375     394       385\n",
       "27                183    205      183    199      194     194       212\n",
       "28                171    160      173    167      166     161       165\n",
       "29                 12     10       10      9       13      11        12"
      ]
     },
     "execution_count": 79,
     "metadata": {},
     "output_type": "execute_result"
    }
   ],
   "source": [
    "df.groupby([df.trending_date2.dt.day_name(), 'categoryId'], as_index = False).size().pivot('categoryId','trending_date2')"
   ]
  },
  {
   "cell_type": "markdown",
   "id": "d67e4274",
   "metadata": {},
   "source": [
    "6.댓글의 수로 (comment_count) 영상 반응에 대한 판단을 할 수 있다. viewcount대비 댓글수가 가장 높은 영상을 확인하라 (view_count값이 0인 경우는 제외한다)"
   ]
  },
  {
   "cell_type": "code",
   "execution_count": 90,
   "id": "8a41dc15",
   "metadata": {},
   "outputs": [
    {
     "data": {
      "text/html": [
       "<div>\n",
       "<style scoped>\n",
       "    .dataframe tbody tr th:only-of-type {\n",
       "        vertical-align: middle;\n",
       "    }\n",
       "\n",
       "    .dataframe tbody tr th {\n",
       "        vertical-align: top;\n",
       "    }\n",
       "\n",
       "    .dataframe thead th {\n",
       "        text-align: right;\n",
       "    }\n",
       "</style>\n",
       "<table border=\"1\" class=\"dataframe\">\n",
       "  <thead>\n",
       "    <tr style=\"text-align: right;\">\n",
       "      <th></th>\n",
       "      <th>Unnamed: 0</th>\n",
       "      <th>title</th>\n",
       "      <th>channelTitle</th>\n",
       "      <th>categoryId</th>\n",
       "      <th>view_count</th>\n",
       "      <th>likes</th>\n",
       "      <th>dislikes</th>\n",
       "      <th>comment_count</th>\n",
       "      <th>channelId</th>\n",
       "      <th>trending_date2</th>\n",
       "    </tr>\n",
       "  </thead>\n",
       "  <tbody>\n",
       "    <tr>\n",
       "      <th>0</th>\n",
       "      <td>0</td>\n",
       "      <td>[신병] 물자창고</td>\n",
       "      <td>장삐쭈</td>\n",
       "      <td>23</td>\n",
       "      <td>1893473</td>\n",
       "      <td>38249</td>\n",
       "      <td>730</td>\n",
       "      <td>8595</td>\n",
       "      <td>UChbE5OZQ6dRHECsX0tEPEZQ</td>\n",
       "      <td>2021-01-01</td>\n",
       "    </tr>\n",
       "    <tr>\n",
       "      <th>1</th>\n",
       "      <td>1</td>\n",
       "      <td>RAIN(비) - 나로 바꾸자 Switch to me (duet with JYP) MV</td>\n",
       "      <td>RAIN's Official Channel</td>\n",
       "      <td>10</td>\n",
       "      <td>2600864</td>\n",
       "      <td>0</td>\n",
       "      <td>0</td>\n",
       "      <td>20129</td>\n",
       "      <td>UCxXgIeE5hxWxHG6dz9Scg2w</td>\n",
       "      <td>2021-01-01</td>\n",
       "    </tr>\n",
       "  </tbody>\n",
       "</table>\n",
       "</div>"
      ],
      "text/plain": [
       "   Unnamed: 0                                             title  \\\n",
       "0           0                                         [신병] 물자창고   \n",
       "1           1  RAIN(비) - 나로 바꾸자 Switch to me (duet with JYP) MV   \n",
       "\n",
       "              channelTitle  categoryId  view_count  likes  dislikes  \\\n",
       "0                      장삐쭈          23     1893473  38249       730   \n",
       "1  RAIN's Official Channel          10     2600864      0         0   \n",
       "\n",
       "   comment_count                 channelId trending_date2  \n",
       "0           8595  UChbE5OZQ6dRHECsX0tEPEZQ     2021-01-01  \n",
       "1          20129  UCxXgIeE5hxWxHG6dz9Scg2w     2021-01-01  "
      ]
     },
     "execution_count": 90,
     "metadata": {},
     "output_type": "execute_result"
    }
   ],
   "source": [
    "df.head(2)"
   ]
  },
  {
   "cell_type": "code",
   "execution_count": 94,
   "id": "d8eea60e",
   "metadata": {},
   "outputs": [
    {
     "data": {
      "text/plain": [
       "30583"
      ]
     },
     "execution_count": 94,
     "metadata": {},
     "output_type": "execute_result"
    }
   ],
   "source": [
    "(df.view_count - df.comment_count).sort_values(ascending = False).index[0]"
   ]
  },
  {
   "cell_type": "code",
   "execution_count": 107,
   "id": "7f68edd3",
   "metadata": {
    "collapsed": true
   },
   "outputs": [
    {
     "data": {
      "text/html": [
       "<div>\n",
       "<style scoped>\n",
       "    .dataframe tbody tr th:only-of-type {\n",
       "        vertical-align: middle;\n",
       "    }\n",
       "\n",
       "    .dataframe tbody tr th {\n",
       "        vertical-align: top;\n",
       "    }\n",
       "\n",
       "    .dataframe thead th {\n",
       "        text-align: right;\n",
       "    }\n",
       "</style>\n",
       "<table border=\"1\" class=\"dataframe\">\n",
       "  <thead>\n",
       "    <tr style=\"text-align: right;\">\n",
       "      <th></th>\n",
       "      <th>Unnamed: 0</th>\n",
       "      <th>title</th>\n",
       "      <th>channelTitle</th>\n",
       "      <th>categoryId</th>\n",
       "      <th>view_count</th>\n",
       "      <th>likes</th>\n",
       "      <th>dislikes</th>\n",
       "      <th>comment_count</th>\n",
       "      <th>channelId</th>\n",
       "      <th>trending_date2</th>\n",
       "      <th>ratio</th>\n",
       "    </tr>\n",
       "  </thead>\n",
       "  <tbody>\n",
       "    <tr>\n",
       "      <th>50830</th>\n",
       "      <td>50830</td>\n",
       "      <td>60분 동안 댓글이 달리지 않으면, 영상이 삭제됩니다. (챌린지)</td>\n",
       "      <td>팩토리</td>\n",
       "      <td>24</td>\n",
       "      <td>1214527</td>\n",
       "      <td>38246</td>\n",
       "      <td>528</td>\n",
       "      <td>196166</td>\n",
       "      <td>UCs8R3nVeg0E100H6C8qozgw</td>\n",
       "      <td>2021-09-02</td>\n",
       "      <td>0.161516</td>\n",
       "    </tr>\n",
       "    <tr>\n",
       "      <th>51047</th>\n",
       "      <td>51047</td>\n",
       "      <td>60분 동안 댓글이 달리지 않으면, 영상이 삭제됩니다. (챌린지)</td>\n",
       "      <td>팩토리</td>\n",
       "      <td>24</td>\n",
       "      <td>1321503</td>\n",
       "      <td>39742</td>\n",
       "      <td>623</td>\n",
       "      <td>210985</td>\n",
       "      <td>UCs8R3nVeg0E100H6C8qozgw</td>\n",
       "      <td>2021-09-03</td>\n",
       "      <td>0.159655</td>\n",
       "    </tr>\n",
       "    <tr>\n",
       "      <th>51264</th>\n",
       "      <td>51264</td>\n",
       "      <td>60분 동안 댓글이 달리지 않으면, 영상이 삭제됩니다. (챌린지)</td>\n",
       "      <td>팩토리</td>\n",
       "      <td>24</td>\n",
       "      <td>1534640</td>\n",
       "      <td>43368</td>\n",
       "      <td>802</td>\n",
       "      <td>236332</td>\n",
       "      <td>UCs8R3nVeg0E100H6C8qozgw</td>\n",
       "      <td>2021-09-04</td>\n",
       "      <td>0.153998</td>\n",
       "    </tr>\n",
       "    <tr>\n",
       "      <th>52786</th>\n",
       "      <td>52786</td>\n",
       "      <td>60분 동안 댓글이 달리지 않으면, 영상이 삭제됩니다. (챌린지)</td>\n",
       "      <td>팩토리</td>\n",
       "      <td>24</td>\n",
       "      <td>2124187</td>\n",
       "      <td>52445</td>\n",
       "      <td>1052</td>\n",
       "      <td>320101</td>\n",
       "      <td>UCs8R3nVeg0E100H6C8qozgw</td>\n",
       "      <td>2021-09-11</td>\n",
       "      <td>0.150693</td>\n",
       "    </tr>\n",
       "    <tr>\n",
       "      <th>51494</th>\n",
       "      <td>51494</td>\n",
       "      <td>60분 동안 댓글이 달리지 않으면, 영상이 삭제됩니다. (챌린지)</td>\n",
       "      <td>팩토리</td>\n",
       "      <td>24</td>\n",
       "      <td>1758801</td>\n",
       "      <td>47011</td>\n",
       "      <td>899</td>\n",
       "      <td>264912</td>\n",
       "      <td>UCs8R3nVeg0E100H6C8qozgw</td>\n",
       "      <td>2021-09-05</td>\n",
       "      <td>0.150621</td>\n",
       "    </tr>\n",
       "    <tr>\n",
       "      <th>...</th>\n",
       "      <td>...</td>\n",
       "      <td>...</td>\n",
       "      <td>...</td>\n",
       "      <td>...</td>\n",
       "      <td>...</td>\n",
       "      <td>...</td>\n",
       "      <td>...</td>\n",
       "      <td>...</td>\n",
       "      <td>...</td>\n",
       "      <td>...</td>\n",
       "      <td>...</td>\n",
       "    </tr>\n",
       "    <tr>\n",
       "      <th>58650</th>\n",
       "      <td>58650</td>\n",
       "      <td>메밀꽃 필무렵</td>\n",
       "      <td>Lee Chanwon - Topic</td>\n",
       "      <td>10</td>\n",
       "      <td>456528</td>\n",
       "      <td>17827</td>\n",
       "      <td>204</td>\n",
       "      <td>0</td>\n",
       "      <td>UClch5s6f5W3YPW3CK7BDDTg</td>\n",
       "      <td>2021-10-11</td>\n",
       "      <td>0.000000</td>\n",
       "    </tr>\n",
       "    <tr>\n",
       "      <th>39235</th>\n",
       "      <td>39235</td>\n",
       "      <td>Love (Prod.Rocoberry) (러브(Prod.로코베리))</td>\n",
       "      <td>Loco - Topic</td>\n",
       "      <td>10</td>\n",
       "      <td>135031</td>\n",
       "      <td>5810</td>\n",
       "      <td>55</td>\n",
       "      <td>0</td>\n",
       "      <td>UCJVA-stKCH0IS_C1qIOUjTA</td>\n",
       "      <td>2021-07-06</td>\n",
       "      <td>0.000000</td>\n",
       "    </tr>\n",
       "    <tr>\n",
       "      <th>46801</th>\n",
       "      <td>46801</td>\n",
       "      <td>Join the BTS #PermissiontoDance Challenge only...</td>\n",
       "      <td>YouTube</td>\n",
       "      <td>27</td>\n",
       "      <td>38565552</td>\n",
       "      <td>0</td>\n",
       "      <td>0</td>\n",
       "      <td>0</td>\n",
       "      <td>UCBR8-60-B28hp2BmDPdntcQ</td>\n",
       "      <td>2021-08-13</td>\n",
       "      <td>0.000000</td>\n",
       "    </tr>\n",
       "    <tr>\n",
       "      <th>7265</th>\n",
       "      <td>7265</td>\n",
       "      <td>뱀이 한겨울에 이러고 왔습니다.</td>\n",
       "      <td>다흑님</td>\n",
       "      <td>15</td>\n",
       "      <td>671714</td>\n",
       "      <td>9533</td>\n",
       "      <td>345</td>\n",
       "      <td>0</td>\n",
       "      <td>UCwl9OALh8IMwSv_kFdHlMDA</td>\n",
       "      <td>2021-02-06</td>\n",
       "      <td>0.000000</td>\n",
       "    </tr>\n",
       "    <tr>\n",
       "      <th>55383</th>\n",
       "      <td>55383</td>\n",
       "      <td>Apple Event — September 14</td>\n",
       "      <td>Apple</td>\n",
       "      <td>28</td>\n",
       "      <td>18280588</td>\n",
       "      <td>672190</td>\n",
       "      <td>18183</td>\n",
       "      <td>0</td>\n",
       "      <td>UCE_M8A5yxnLfW0KghEeajjw</td>\n",
       "      <td>2021-09-24</td>\n",
       "      <td>0.000000</td>\n",
       "    </tr>\n",
       "  </tbody>\n",
       "</table>\n",
       "<p>60386 rows × 11 columns</p>\n",
       "</div>"
      ],
      "text/plain": [
       "       Unnamed: 0                                              title  \\\n",
       "50830       50830               60분 동안 댓글이 달리지 않으면, 영상이 삭제됩니다. (챌린지)   \n",
       "51047       51047               60분 동안 댓글이 달리지 않으면, 영상이 삭제됩니다. (챌린지)   \n",
       "51264       51264               60분 동안 댓글이 달리지 않으면, 영상이 삭제됩니다. (챌린지)   \n",
       "52786       52786               60분 동안 댓글이 달리지 않으면, 영상이 삭제됩니다. (챌린지)   \n",
       "51494       51494               60분 동안 댓글이 달리지 않으면, 영상이 삭제됩니다. (챌린지)   \n",
       "...           ...                                                ...   \n",
       "58650       58650                                            메밀꽃 필무렵   \n",
       "39235       39235              Love (Prod.Rocoberry) (러브(Prod.로코베리))   \n",
       "46801       46801  Join the BTS #PermissiontoDance Challenge only...   \n",
       "7265         7265                                  뱀이 한겨울에 이러고 왔습니다.   \n",
       "55383       55383                         Apple Event — September 14   \n",
       "\n",
       "              channelTitle  categoryId  view_count   likes  dislikes  \\\n",
       "50830                  팩토리          24     1214527   38246       528   \n",
       "51047                  팩토리          24     1321503   39742       623   \n",
       "51264                  팩토리          24     1534640   43368       802   \n",
       "52786                  팩토리          24     2124187   52445      1052   \n",
       "51494                  팩토리          24     1758801   47011       899   \n",
       "...                    ...         ...         ...     ...       ...   \n",
       "58650  Lee Chanwon - Topic          10      456528   17827       204   \n",
       "39235         Loco - Topic          10      135031    5810        55   \n",
       "46801              YouTube          27    38565552       0         0   \n",
       "7265                   다흑님          15      671714    9533       345   \n",
       "55383                Apple          28    18280588  672190     18183   \n",
       "\n",
       "       comment_count                 channelId trending_date2     ratio  \n",
       "50830         196166  UCs8R3nVeg0E100H6C8qozgw     2021-09-02  0.161516  \n",
       "51047         210985  UCs8R3nVeg0E100H6C8qozgw     2021-09-03  0.159655  \n",
       "51264         236332  UCs8R3nVeg0E100H6C8qozgw     2021-09-04  0.153998  \n",
       "52786         320101  UCs8R3nVeg0E100H6C8qozgw     2021-09-11  0.150693  \n",
       "51494         264912  UCs8R3nVeg0E100H6C8qozgw     2021-09-05  0.150621  \n",
       "...              ...                       ...            ...       ...  \n",
       "58650              0  UClch5s6f5W3YPW3CK7BDDTg     2021-10-11  0.000000  \n",
       "39235              0  UCJVA-stKCH0IS_C1qIOUjTA     2021-07-06  0.000000  \n",
       "46801              0  UCBR8-60-B28hp2BmDPdntcQ     2021-08-13  0.000000  \n",
       "7265               0  UCwl9OALh8IMwSv_kFdHlMDA     2021-02-06  0.000000  \n",
       "55383              0  UCE_M8A5yxnLfW0KghEeajjw     2021-09-24  0.000000  \n",
       "\n",
       "[60386 rows x 11 columns]"
      ]
     },
     "execution_count": 107,
     "metadata": {},
     "output_type": "execute_result"
    }
   ],
   "source": [
    "t = df.loc[df.view_count != 0]\n",
    "t2 = t.copy()\n",
    "t2['ratio'] = ( t['comment_count'] / t['view_count'] ).dropna()\n",
    "t2.sort_values(by = 'ratio', ascending = False)"
   ]
  },
  {
   "cell_type": "code",
   "execution_count": 109,
   "id": "fde8976a",
   "metadata": {},
   "outputs": [
    {
     "data": {
      "text/plain": [
       "'60분 동안 댓글이 달리지 않으면, 영상이 삭제됩니다. (챌린지)'"
      ]
     },
     "execution_count": 109,
     "metadata": {},
     "output_type": "execute_result"
    }
   ],
   "source": [
    "t2.sort_values(by = 'ratio', ascending = False).iloc[0].title"
   ]
  },
  {
   "cell_type": "code",
   "execution_count": 111,
   "id": "b0d9140f",
   "metadata": {
    "collapsed": true
   },
   "outputs": [
    {
     "data": {
      "text/html": [
       "<div>\n",
       "<style scoped>\n",
       "    .dataframe tbody tr th:only-of-type {\n",
       "        vertical-align: middle;\n",
       "    }\n",
       "\n",
       "    .dataframe tbody tr th {\n",
       "        vertical-align: top;\n",
       "    }\n",
       "\n",
       "    .dataframe thead th {\n",
       "        text-align: right;\n",
       "    }\n",
       "</style>\n",
       "<table border=\"1\" class=\"dataframe\">\n",
       "  <thead>\n",
       "    <tr style=\"text-align: right;\">\n",
       "      <th></th>\n",
       "      <th>Unnamed: 0</th>\n",
       "      <th>title</th>\n",
       "      <th>channelTitle</th>\n",
       "      <th>categoryId</th>\n",
       "      <th>view_count</th>\n",
       "      <th>likes</th>\n",
       "      <th>dislikes</th>\n",
       "      <th>comment_count</th>\n",
       "      <th>channelId</th>\n",
       "      <th>trending_date2</th>\n",
       "    </tr>\n",
       "  </thead>\n",
       "  <tbody>\n",
       "    <tr>\n",
       "      <th>0</th>\n",
       "      <td>0</td>\n",
       "      <td>[신병] 물자창고</td>\n",
       "      <td>장삐쭈</td>\n",
       "      <td>23</td>\n",
       "      <td>1893473</td>\n",
       "      <td>38249</td>\n",
       "      <td>730</td>\n",
       "      <td>8595</td>\n",
       "      <td>UChbE5OZQ6dRHECsX0tEPEZQ</td>\n",
       "      <td>2021-01-01</td>\n",
       "    </tr>\n",
       "    <tr>\n",
       "      <th>1</th>\n",
       "      <td>1</td>\n",
       "      <td>RAIN(비) - 나로 바꾸자 Switch to me (duet with JYP) MV</td>\n",
       "      <td>RAIN's Official Channel</td>\n",
       "      <td>10</td>\n",
       "      <td>2600864</td>\n",
       "      <td>0</td>\n",
       "      <td>0</td>\n",
       "      <td>20129</td>\n",
       "      <td>UCxXgIeE5hxWxHG6dz9Scg2w</td>\n",
       "      <td>2021-01-01</td>\n",
       "    </tr>\n",
       "    <tr>\n",
       "      <th>2</th>\n",
       "      <td>2</td>\n",
       "      <td>2020년 제야의 종 온라인 타종행사 | 보신각 현장 행사는 진행하지 않습니다.</td>\n",
       "      <td>서울시 · Seoul</td>\n",
       "      <td>29</td>\n",
       "      <td>347049</td>\n",
       "      <td>3564</td>\n",
       "      <td>120</td>\n",
       "      <td>178</td>\n",
       "      <td>UCZUPZW5idAxYp-Asj__lVAA</td>\n",
       "      <td>2021-01-01</td>\n",
       "    </tr>\n",
       "    <tr>\n",
       "      <th>3</th>\n",
       "      <td>3</td>\n",
       "      <td>고기남자의 칠면조 파티</td>\n",
       "      <td>고기남자 MeatMan</td>\n",
       "      <td>26</td>\n",
       "      <td>528458</td>\n",
       "      <td>15372</td>\n",
       "      <td>280</td>\n",
       "      <td>3470</td>\n",
       "      <td>UCT3CumbFIJiW33uq0UI3zlg</td>\n",
       "      <td>2021-01-01</td>\n",
       "    </tr>\n",
       "    <tr>\n",
       "      <th>4</th>\n",
       "      <td>4</td>\n",
       "      <td>골목 3mc를 분노하게 만든 마음고생이 심했을 공릉 백반집 사장님의 푸념?! [예능...</td>\n",
       "      <td>스브스밥집</td>\n",
       "      <td>24</td>\n",
       "      <td>494904</td>\n",
       "      <td>3918</td>\n",
       "      <td>111</td>\n",
       "      <td>3142</td>\n",
       "      <td>UCdWgRSfttvDucq4ApcCg5Mw</td>\n",
       "      <td>2021-01-01</td>\n",
       "    </tr>\n",
       "    <tr>\n",
       "      <th>...</th>\n",
       "      <td>...</td>\n",
       "      <td>...</td>\n",
       "      <td>...</td>\n",
       "      <td>...</td>\n",
       "      <td>...</td>\n",
       "      <td>...</td>\n",
       "      <td>...</td>\n",
       "      <td>...</td>\n",
       "      <td>...</td>\n",
       "      <td>...</td>\n",
       "    </tr>\n",
       "    <tr>\n",
       "      <th>60394</th>\n",
       "      <td>60394</td>\n",
       "      <td>*풀코스로 먹습니다* 🍗치킨 + 🍕피자 + 🥧디저트</td>\n",
       "      <td>공룡</td>\n",
       "      <td>22</td>\n",
       "      <td>538190</td>\n",
       "      <td>16671</td>\n",
       "      <td>209</td>\n",
       "      <td>3117</td>\n",
       "      <td>UCWf4QKgnTyvmehcRqw-JldQ</td>\n",
       "      <td>2021-10-19</td>\n",
       "    </tr>\n",
       "    <tr>\n",
       "      <th>60395</th>\n",
       "      <td>60395</td>\n",
       "      <td>[놀면 뭐하니? 예고] 우린 깐부잖아🦑 놀뭐에 등장한 월드클래스 초대손님!! MBC...</td>\n",
       "      <td>놀면 뭐하니?</td>\n",
       "      <td>24</td>\n",
       "      <td>1607562</td>\n",
       "      <td>14615</td>\n",
       "      <td>258</td>\n",
       "      <td>1141</td>\n",
       "      <td>UCx6jsZ02B4K3SECUrkgPyzg</td>\n",
       "      <td>2021-10-19</td>\n",
       "    </tr>\n",
       "    <tr>\n",
       "      <th>60396</th>\n",
       "      <td>60396</td>\n",
       "      <td>먹방 전쟁 : 사랑스러War (feat. 401 정육식당)</td>\n",
       "      <td>김종국 GYM JONG KOOK</td>\n",
       "      <td>17</td>\n",
       "      <td>1125911</td>\n",
       "      <td>26490</td>\n",
       "      <td>263</td>\n",
       "      <td>1915</td>\n",
       "      <td>UCoe-0EVDJnjlSoPK8ygcGwQ</td>\n",
       "      <td>2021-10-19</td>\n",
       "    </tr>\n",
       "    <tr>\n",
       "      <th>60397</th>\n",
       "      <td>60397</td>\n",
       "      <td>＂너.. 광수지?＂ 협상에 거짓말부터 던지는 광수 닮은꼴 김연경 선수 [런닝맨|21...</td>\n",
       "      <td>스브스 예능맛집</td>\n",
       "      <td>24</td>\n",
       "      <td>1741773</td>\n",
       "      <td>14994</td>\n",
       "      <td>304</td>\n",
       "      <td>802</td>\n",
       "      <td>UCnx4Fi4cmkLGDiFfZ311wWw</td>\n",
       "      <td>2021-10-19</td>\n",
       "    </tr>\n",
       "    <tr>\n",
       "      <th>60398</th>\n",
       "      <td>60398</td>\n",
       "      <td>ENHYPEN (엔하이픈) 'Tamed-Dashed' Official MV</td>\n",
       "      <td>HYBE LABELS</td>\n",
       "      <td>10</td>\n",
       "      <td>13753485</td>\n",
       "      <td>1784532</td>\n",
       "      <td>9737</td>\n",
       "      <td>195461</td>\n",
       "      <td>UC3IZKseVpdzPSBaWxBxundA</td>\n",
       "      <td>2021-10-19</td>\n",
       "    </tr>\n",
       "  </tbody>\n",
       "</table>\n",
       "<p>60386 rows × 10 columns</p>\n",
       "</div>"
      ],
      "text/plain": [
       "       Unnamed: 0                                              title  \\\n",
       "0               0                                          [신병] 물자창고   \n",
       "1               1   RAIN(비) - 나로 바꾸자 Switch to me (duet with JYP) MV   \n",
       "2               2       2020년 제야의 종 온라인 타종행사 | 보신각 현장 행사는 진행하지 않습니다.   \n",
       "3               3                                       고기남자의 칠면조 파티   \n",
       "4               4  골목 3mc를 분노하게 만든 마음고생이 심했을 공릉 백반집 사장님의 푸념?! [예능...   \n",
       "...           ...                                                ...   \n",
       "60394       60394                       *풀코스로 먹습니다* 🍗치킨 + 🍕피자 + 🥧디저트   \n",
       "60395       60395  [놀면 뭐하니? 예고] 우린 깐부잖아🦑 놀뭐에 등장한 월드클래스 초대손님!! MBC...   \n",
       "60396       60396                   먹방 전쟁 : 사랑스러War (feat. 401 정육식당)   \n",
       "60397       60397  ＂너.. 광수지?＂ 협상에 거짓말부터 던지는 광수 닮은꼴 김연경 선수 [런닝맨|21...   \n",
       "60398       60398          ENHYPEN (엔하이픈) 'Tamed-Dashed' Official MV   \n",
       "\n",
       "                  channelTitle  categoryId  view_count    likes  dislikes  \\\n",
       "0                          장삐쭈          23     1893473    38249       730   \n",
       "1      RAIN's Official Channel          10     2600864        0         0   \n",
       "2                  서울시 · Seoul          29      347049     3564       120   \n",
       "3                 고기남자 MeatMan          26      528458    15372       280   \n",
       "4                        스브스밥집          24      494904     3918       111   \n",
       "...                        ...         ...         ...      ...       ...   \n",
       "60394                       공룡          22      538190    16671       209   \n",
       "60395                  놀면 뭐하니?          24     1607562    14615       258   \n",
       "60396        김종국 GYM JONG KOOK          17     1125911    26490       263   \n",
       "60397                 스브스 예능맛집          24     1741773    14994       304   \n",
       "60398              HYBE LABELS          10    13753485  1784532      9737   \n",
       "\n",
       "       comment_count                 channelId trending_date2  \n",
       "0               8595  UChbE5OZQ6dRHECsX0tEPEZQ     2021-01-01  \n",
       "1              20129  UCxXgIeE5hxWxHG6dz9Scg2w     2021-01-01  \n",
       "2                178  UCZUPZW5idAxYp-Asj__lVAA     2021-01-01  \n",
       "3               3470  UCT3CumbFIJiW33uq0UI3zlg     2021-01-01  \n",
       "4               3142  UCdWgRSfttvDucq4ApcCg5Mw     2021-01-01  \n",
       "...              ...                       ...            ...  \n",
       "60394           3117  UCWf4QKgnTyvmehcRqw-JldQ     2021-10-19  \n",
       "60395           1141  UCx6jsZ02B4K3SECUrkgPyzg     2021-10-19  \n",
       "60396           1915  UCoe-0EVDJnjlSoPK8ygcGwQ     2021-10-19  \n",
       "60397            802  UCnx4Fi4cmkLGDiFfZ311wWw     2021-10-19  \n",
       "60398         195461  UC3IZKseVpdzPSBaWxBxundA     2021-10-19  \n",
       "\n",
       "[60386 rows x 10 columns]"
      ]
     },
     "execution_count": 111,
     "metadata": {},
     "output_type": "execute_result"
    }
   ],
   "source": [
    "df.loc[df.view_count !=0]"
   ]
  },
  {
   "cell_type": "code",
   "execution_count": 114,
   "id": "63696eb7",
   "metadata": {},
   "outputs": [
    {
     "data": {
      "text/plain": [
       "0"
      ]
     },
     "execution_count": 114,
     "metadata": {},
     "output_type": "execute_result"
    }
   ],
   "source": [
    "( t['comment_count'] / t['view_count'] ).isna().sum()"
   ]
  },
  {
   "cell_type": "markdown",
   "id": "5d6bc6b6",
   "metadata": {},
   "source": [
    "7.댓글의 수로 (comment_count) 영상 반응에 대한 판단을 할 수 있다.viewcount대비 댓글수가 가장 낮은 영상을 확인하라 (view_counts, ratio값이 0인경우는 제외한다.)"
   ]
  },
  {
   "cell_type": "code",
   "execution_count": 115,
   "id": "cf477ee8",
   "metadata": {},
   "outputs": [
    {
     "data": {
      "text/html": [
       "<div>\n",
       "<style scoped>\n",
       "    .dataframe tbody tr th:only-of-type {\n",
       "        vertical-align: middle;\n",
       "    }\n",
       "\n",
       "    .dataframe tbody tr th {\n",
       "        vertical-align: top;\n",
       "    }\n",
       "\n",
       "    .dataframe thead th {\n",
       "        text-align: right;\n",
       "    }\n",
       "</style>\n",
       "<table border=\"1\" class=\"dataframe\">\n",
       "  <thead>\n",
       "    <tr style=\"text-align: right;\">\n",
       "      <th></th>\n",
       "      <th>Unnamed: 0</th>\n",
       "      <th>title</th>\n",
       "      <th>channelTitle</th>\n",
       "      <th>categoryId</th>\n",
       "      <th>view_count</th>\n",
       "      <th>likes</th>\n",
       "      <th>dislikes</th>\n",
       "      <th>comment_count</th>\n",
       "      <th>channelId</th>\n",
       "      <th>trending_date2</th>\n",
       "    </tr>\n",
       "  </thead>\n",
       "  <tbody>\n",
       "    <tr>\n",
       "      <th>0</th>\n",
       "      <td>0</td>\n",
       "      <td>[신병] 물자창고</td>\n",
       "      <td>장삐쭈</td>\n",
       "      <td>23</td>\n",
       "      <td>1893473</td>\n",
       "      <td>38249</td>\n",
       "      <td>730</td>\n",
       "      <td>8595</td>\n",
       "      <td>UChbE5OZQ6dRHECsX0tEPEZQ</td>\n",
       "      <td>2021-01-01</td>\n",
       "    </tr>\n",
       "    <tr>\n",
       "      <th>1</th>\n",
       "      <td>1</td>\n",
       "      <td>RAIN(비) - 나로 바꾸자 Switch to me (duet with JYP) MV</td>\n",
       "      <td>RAIN's Official Channel</td>\n",
       "      <td>10</td>\n",
       "      <td>2600864</td>\n",
       "      <td>0</td>\n",
       "      <td>0</td>\n",
       "      <td>20129</td>\n",
       "      <td>UCxXgIeE5hxWxHG6dz9Scg2w</td>\n",
       "      <td>2021-01-01</td>\n",
       "    </tr>\n",
       "  </tbody>\n",
       "</table>\n",
       "</div>"
      ],
      "text/plain": [
       "   Unnamed: 0                                             title  \\\n",
       "0           0                                         [신병] 물자창고   \n",
       "1           1  RAIN(비) - 나로 바꾸자 Switch to me (duet with JYP) MV   \n",
       "\n",
       "              channelTitle  categoryId  view_count  likes  dislikes  \\\n",
       "0                      장삐쭈          23     1893473  38249       730   \n",
       "1  RAIN's Official Channel          10     2600864      0         0   \n",
       "\n",
       "   comment_count                 channelId trending_date2  \n",
       "0           8595  UChbE5OZQ6dRHECsX0tEPEZQ     2021-01-01  \n",
       "1          20129  UCxXgIeE5hxWxHG6dz9Scg2w     2021-01-01  "
      ]
     },
     "execution_count": 115,
     "metadata": {},
     "output_type": "execute_result"
    }
   ],
   "source": [
    "df.head(2)"
   ]
  },
  {
   "cell_type": "code",
   "execution_count": 140,
   "id": "6806b010",
   "metadata": {
    "collapsed": true
   },
   "outputs": [
    {
     "data": {
      "text/html": [
       "<div>\n",
       "<style scoped>\n",
       "    .dataframe tbody tr th:only-of-type {\n",
       "        vertical-align: middle;\n",
       "    }\n",
       "\n",
       "    .dataframe tbody tr th {\n",
       "        vertical-align: top;\n",
       "    }\n",
       "\n",
       "    .dataframe thead th {\n",
       "        text-align: right;\n",
       "    }\n",
       "</style>\n",
       "<table border=\"1\" class=\"dataframe\">\n",
       "  <thead>\n",
       "    <tr style=\"text-align: right;\">\n",
       "      <th></th>\n",
       "      <th>Unnamed: 0</th>\n",
       "      <th>title</th>\n",
       "      <th>channelTitle</th>\n",
       "      <th>categoryId</th>\n",
       "      <th>view_count</th>\n",
       "      <th>likes</th>\n",
       "      <th>dislikes</th>\n",
       "      <th>comment_count</th>\n",
       "      <th>channelId</th>\n",
       "      <th>trending_date2</th>\n",
       "      <th>ratio</th>\n",
       "    </tr>\n",
       "  </thead>\n",
       "  <tbody>\n",
       "    <tr>\n",
       "      <th>50830</th>\n",
       "      <td>50830</td>\n",
       "      <td>60분 동안 댓글이 달리지 않으면, 영상이 삭제됩니다. (챌린지)</td>\n",
       "      <td>팩토리</td>\n",
       "      <td>24</td>\n",
       "      <td>1214527</td>\n",
       "      <td>38246</td>\n",
       "      <td>528</td>\n",
       "      <td>196166</td>\n",
       "      <td>UCs8R3nVeg0E100H6C8qozgw</td>\n",
       "      <td>2021-09-02</td>\n",
       "      <td>1.615164e-01</td>\n",
       "    </tr>\n",
       "    <tr>\n",
       "      <th>51047</th>\n",
       "      <td>51047</td>\n",
       "      <td>60분 동안 댓글이 달리지 않으면, 영상이 삭제됩니다. (챌린지)</td>\n",
       "      <td>팩토리</td>\n",
       "      <td>24</td>\n",
       "      <td>1321503</td>\n",
       "      <td>39742</td>\n",
       "      <td>623</td>\n",
       "      <td>210985</td>\n",
       "      <td>UCs8R3nVeg0E100H6C8qozgw</td>\n",
       "      <td>2021-09-03</td>\n",
       "      <td>1.596553e-01</td>\n",
       "    </tr>\n",
       "    <tr>\n",
       "      <th>51264</th>\n",
       "      <td>51264</td>\n",
       "      <td>60분 동안 댓글이 달리지 않으면, 영상이 삭제됩니다. (챌린지)</td>\n",
       "      <td>팩토리</td>\n",
       "      <td>24</td>\n",
       "      <td>1534640</td>\n",
       "      <td>43368</td>\n",
       "      <td>802</td>\n",
       "      <td>236332</td>\n",
       "      <td>UCs8R3nVeg0E100H6C8qozgw</td>\n",
       "      <td>2021-09-04</td>\n",
       "      <td>1.539983e-01</td>\n",
       "    </tr>\n",
       "    <tr>\n",
       "      <th>52786</th>\n",
       "      <td>52786</td>\n",
       "      <td>60분 동안 댓글이 달리지 않으면, 영상이 삭제됩니다. (챌린지)</td>\n",
       "      <td>팩토리</td>\n",
       "      <td>24</td>\n",
       "      <td>2124187</td>\n",
       "      <td>52445</td>\n",
       "      <td>1052</td>\n",
       "      <td>320101</td>\n",
       "      <td>UCs8R3nVeg0E100H6C8qozgw</td>\n",
       "      <td>2021-09-11</td>\n",
       "      <td>1.506934e-01</td>\n",
       "    </tr>\n",
       "    <tr>\n",
       "      <th>51494</th>\n",
       "      <td>51494</td>\n",
       "      <td>60분 동안 댓글이 달리지 않으면, 영상이 삭제됩니다. (챌린지)</td>\n",
       "      <td>팩토리</td>\n",
       "      <td>24</td>\n",
       "      <td>1758801</td>\n",
       "      <td>47011</td>\n",
       "      <td>899</td>\n",
       "      <td>264912</td>\n",
       "      <td>UCs8R3nVeg0E100H6C8qozgw</td>\n",
       "      <td>2021-09-05</td>\n",
       "      <td>1.506208e-01</td>\n",
       "    </tr>\n",
       "    <tr>\n",
       "      <th>...</th>\n",
       "      <td>...</td>\n",
       "      <td>...</td>\n",
       "      <td>...</td>\n",
       "      <td>...</td>\n",
       "      <td>...</td>\n",
       "      <td>...</td>\n",
       "      <td>...</td>\n",
       "      <td>...</td>\n",
       "      <td>...</td>\n",
       "      <td>...</td>\n",
       "      <td>...</td>\n",
       "    </tr>\n",
       "    <tr>\n",
       "      <th>51353</th>\n",
       "      <td>51353</td>\n",
       "      <td>Butter (feat. Megan Thee Stallion)</td>\n",
       "      <td>BTS - Topic</td>\n",
       "      <td>10</td>\n",
       "      <td>4923363</td>\n",
       "      <td>569943</td>\n",
       "      <td>6637</td>\n",
       "      <td>1</td>\n",
       "      <td>UC9vrvNSL3xcWGSkV86REBSg</td>\n",
       "      <td>2021-09-04</td>\n",
       "      <td>2.031132e-07</td>\n",
       "    </tr>\n",
       "    <tr>\n",
       "      <th>51579</th>\n",
       "      <td>51579</td>\n",
       "      <td>Butter (feat. Megan Thee Stallion)</td>\n",
       "      <td>BTS - Topic</td>\n",
       "      <td>10</td>\n",
       "      <td>5059479</td>\n",
       "      <td>573419</td>\n",
       "      <td>6860</td>\n",
       "      <td>1</td>\n",
       "      <td>UC9vrvNSL3xcWGSkV86REBSg</td>\n",
       "      <td>2021-09-05</td>\n",
       "      <td>1.976488e-07</td>\n",
       "    </tr>\n",
       "    <tr>\n",
       "      <th>51798</th>\n",
       "      <td>51798</td>\n",
       "      <td>Butter (feat. Megan Thee Stallion)</td>\n",
       "      <td>BTS - Topic</td>\n",
       "      <td>10</td>\n",
       "      <td>5176179</td>\n",
       "      <td>575871</td>\n",
       "      <td>7044</td>\n",
       "      <td>1</td>\n",
       "      <td>UC9vrvNSL3xcWGSkV86REBSg</td>\n",
       "      <td>2021-09-06</td>\n",
       "      <td>1.931927e-07</td>\n",
       "    </tr>\n",
       "    <tr>\n",
       "      <th>46210</th>\n",
       "      <td>46210</td>\n",
       "      <td>Join the BTS #PermissiontoDance Challenge only...</td>\n",
       "      <td>YouTube</td>\n",
       "      <td>27</td>\n",
       "      <td>51624621</td>\n",
       "      <td>0</td>\n",
       "      <td>0</td>\n",
       "      <td>2</td>\n",
       "      <td>UCBR8-60-B28hp2BmDPdntcQ</td>\n",
       "      <td>2021-08-10</td>\n",
       "      <td>3.874120e-08</td>\n",
       "    </tr>\n",
       "    <tr>\n",
       "      <th>46005</th>\n",
       "      <td>46005</td>\n",
       "      <td>Join the BTS #PermissiontoDance Challenge only...</td>\n",
       "      <td>YouTube</td>\n",
       "      <td>27</td>\n",
       "      <td>46458563</td>\n",
       "      <td>0</td>\n",
       "      <td>0</td>\n",
       "      <td>1</td>\n",
       "      <td>UCBR8-60-B28hp2BmDPdntcQ</td>\n",
       "      <td>2021-08-09</td>\n",
       "      <td>2.152456e-08</td>\n",
       "    </tr>\n",
       "  </tbody>\n",
       "</table>\n",
       "<p>59609 rows × 11 columns</p>\n",
       "</div>"
      ],
      "text/plain": [
       "       Unnamed: 0                                              title  \\\n",
       "50830       50830               60분 동안 댓글이 달리지 않으면, 영상이 삭제됩니다. (챌린지)   \n",
       "51047       51047               60분 동안 댓글이 달리지 않으면, 영상이 삭제됩니다. (챌린지)   \n",
       "51264       51264               60분 동안 댓글이 달리지 않으면, 영상이 삭제됩니다. (챌린지)   \n",
       "52786       52786               60분 동안 댓글이 달리지 않으면, 영상이 삭제됩니다. (챌린지)   \n",
       "51494       51494               60분 동안 댓글이 달리지 않으면, 영상이 삭제됩니다. (챌린지)   \n",
       "...           ...                                                ...   \n",
       "51353       51353                 Butter (feat. Megan Thee Stallion)   \n",
       "51579       51579                 Butter (feat. Megan Thee Stallion)   \n",
       "51798       51798                 Butter (feat. Megan Thee Stallion)   \n",
       "46210       46210  Join the BTS #PermissiontoDance Challenge only...   \n",
       "46005       46005  Join the BTS #PermissiontoDance Challenge only...   \n",
       "\n",
       "      channelTitle  categoryId  view_count   likes  dislikes  comment_count  \\\n",
       "50830          팩토리          24     1214527   38246       528         196166   \n",
       "51047          팩토리          24     1321503   39742       623         210985   \n",
       "51264          팩토리          24     1534640   43368       802         236332   \n",
       "52786          팩토리          24     2124187   52445      1052         320101   \n",
       "51494          팩토리          24     1758801   47011       899         264912   \n",
       "...            ...         ...         ...     ...       ...            ...   \n",
       "51353  BTS - Topic          10     4923363  569943      6637              1   \n",
       "51579  BTS - Topic          10     5059479  573419      6860              1   \n",
       "51798  BTS - Topic          10     5176179  575871      7044              1   \n",
       "46210      YouTube          27    51624621       0         0              2   \n",
       "46005      YouTube          27    46458563       0         0              1   \n",
       "\n",
       "                      channelId trending_date2         ratio  \n",
       "50830  UCs8R3nVeg0E100H6C8qozgw     2021-09-02  1.615164e-01  \n",
       "51047  UCs8R3nVeg0E100H6C8qozgw     2021-09-03  1.596553e-01  \n",
       "51264  UCs8R3nVeg0E100H6C8qozgw     2021-09-04  1.539983e-01  \n",
       "52786  UCs8R3nVeg0E100H6C8qozgw     2021-09-11  1.506934e-01  \n",
       "51494  UCs8R3nVeg0E100H6C8qozgw     2021-09-05  1.506208e-01  \n",
       "...                         ...            ...           ...  \n",
       "51353  UC9vrvNSL3xcWGSkV86REBSg     2021-09-04  2.031132e-07  \n",
       "51579  UC9vrvNSL3xcWGSkV86REBSg     2021-09-05  1.976488e-07  \n",
       "51798  UC9vrvNSL3xcWGSkV86REBSg     2021-09-06  1.931927e-07  \n",
       "46210  UCBR8-60-B28hp2BmDPdntcQ     2021-08-10  3.874120e-08  \n",
       "46005  UCBR8-60-B28hp2BmDPdntcQ     2021-08-09  2.152456e-08  \n",
       "\n",
       "[59609 rows x 11 columns]"
      ]
     },
     "execution_count": 140,
     "metadata": {},
     "output_type": "execute_result"
    }
   ],
   "source": [
    "t = df.copy()\n",
    "\n",
    "t['ratio'] = t['comment_count'] / t['view_count']\n",
    "t.loc[(t.view_count != 0) & (t.ratio !=0)].sort_values(by='ratio',ascending=False)"
   ]
  },
  {
   "cell_type": "code",
   "execution_count": 144,
   "id": "ee6f7de0",
   "metadata": {},
   "outputs": [
    {
     "data": {
      "text/plain": [
       "46005"
      ]
     },
     "execution_count": 144,
     "metadata": {},
     "output_type": "execute_result"
    }
   ],
   "source": [
    "ratio = ( t['comment_count'] / t['view_count'] ).dropna().sort_values()\n",
    "ratio[ratio != 0].index[0]"
   ]
  },
  {
   "cell_type": "code",
   "execution_count": 146,
   "id": "8e4e8c8f",
   "metadata": {},
   "outputs": [
    {
     "data": {
      "text/plain": [
       "'Join the BTS #PermissiontoDance Challenge only on YouTube #Shorts'"
      ]
     },
     "execution_count": 146,
     "metadata": {},
     "output_type": "execute_result"
    }
   ],
   "source": [
    "df.iloc[ratio[ratio != 0].index[0]].title"
   ]
  },
  {
   "cell_type": "markdown",
   "id": "2adafc05",
   "metadata": {},
   "source": [
    "8.like 대비 dislike의 수가 가장 적은 영상은 무엇인가? (like, dislike 값이 0인경우는 제외한다)"
   ]
  },
  {
   "cell_type": "code",
   "execution_count": 154,
   "id": "3b9688c8",
   "metadata": {},
   "outputs": [
    {
     "data": {
      "text/plain": [
       "11477"
      ]
     },
     "execution_count": 154,
     "metadata": {},
     "output_type": "execute_result"
    }
   ],
   "source": [
    "r = (df['dislikes'] / df['likes']).dropna().sort_values()\n",
    "r[r!=0].index[0]"
   ]
  },
  {
   "cell_type": "code",
   "execution_count": 155,
   "id": "2c26a78a",
   "metadata": {},
   "outputs": [
    {
     "data": {
      "text/plain": [
       "'[줌터뷰] *최초공개* 사부작즈🐰🐶의 비공식 이름은 아이라인즈? 꿀조합 티키타카 가득한 NCT 127 도영&정우의 줌터뷰'"
      ]
     },
     "execution_count": 155,
     "metadata": {},
     "output_type": "execute_result"
    }
   ],
   "source": [
    "df.iloc[r[r!=0].index[0]].title"
   ]
  },
  {
   "cell_type": "markdown",
   "id": "b9f41f11",
   "metadata": {},
   "source": [
    "9. 가장많은 트렌드 영상을 제작한 채널의 이름은 무엇인가? (날짜기준, 중복포함)"
   ]
  },
  {
   "cell_type": "code",
   "execution_count": 158,
   "id": "e91fd65b",
   "metadata": {},
   "outputs": [
    {
     "data": {
      "text/html": [
       "<div>\n",
       "<style scoped>\n",
       "    .dataframe tbody tr th:only-of-type {\n",
       "        vertical-align: middle;\n",
       "    }\n",
       "\n",
       "    .dataframe tbody tr th {\n",
       "        vertical-align: top;\n",
       "    }\n",
       "\n",
       "    .dataframe thead th {\n",
       "        text-align: right;\n",
       "    }\n",
       "</style>\n",
       "<table border=\"1\" class=\"dataframe\">\n",
       "  <thead>\n",
       "    <tr style=\"text-align: right;\">\n",
       "      <th></th>\n",
       "      <th>Unnamed: 0</th>\n",
       "      <th>title</th>\n",
       "      <th>channelTitle</th>\n",
       "      <th>categoryId</th>\n",
       "      <th>view_count</th>\n",
       "      <th>likes</th>\n",
       "      <th>dislikes</th>\n",
       "      <th>comment_count</th>\n",
       "      <th>channelId</th>\n",
       "      <th>trending_date2</th>\n",
       "    </tr>\n",
       "  </thead>\n",
       "  <tbody>\n",
       "    <tr>\n",
       "      <th>76</th>\n",
       "      <td>76</td>\n",
       "      <td>[병영일기] 부식</td>\n",
       "      <td>짤툰</td>\n",
       "      <td>1</td>\n",
       "      <td>1496529</td>\n",
       "      <td>26284</td>\n",
       "      <td>1422</td>\n",
       "      <td>5710</td>\n",
       "      <td>UCszFjh7CEfwDb7UUGb4RzCQ</td>\n",
       "      <td>2021-01-01</td>\n",
       "    </tr>\n",
       "    <tr>\n",
       "      <th>325</th>\n",
       "      <td>325</td>\n",
       "      <td>[병영일기] 부식</td>\n",
       "      <td>짤툰</td>\n",
       "      <td>1</td>\n",
       "      <td>1518445</td>\n",
       "      <td>26402</td>\n",
       "      <td>1442</td>\n",
       "      <td>5730</td>\n",
       "      <td>UCszFjh7CEfwDb7UUGb4RzCQ</td>\n",
       "      <td>2021-01-02</td>\n",
       "    </tr>\n",
       "    <tr>\n",
       "      <th>558</th>\n",
       "      <td>558</td>\n",
       "      <td>[병영일기] 부식</td>\n",
       "      <td>짤툰</td>\n",
       "      <td>1</td>\n",
       "      <td>1537676</td>\n",
       "      <td>26511</td>\n",
       "      <td>1453</td>\n",
       "      <td>5752</td>\n",
       "      <td>UCszFjh7CEfwDb7UUGb4RzCQ</td>\n",
       "      <td>2021-01-03</td>\n",
       "    </tr>\n",
       "    <tr>\n",
       "      <th>778</th>\n",
       "      <td>778</td>\n",
       "      <td>[병영일기] 부식</td>\n",
       "      <td>짤툰</td>\n",
       "      <td>1</td>\n",
       "      <td>1553145</td>\n",
       "      <td>26603</td>\n",
       "      <td>1455</td>\n",
       "      <td>5760</td>\n",
       "      <td>UCszFjh7CEfwDb7UUGb4RzCQ</td>\n",
       "      <td>2021-01-04</td>\n",
       "    </tr>\n",
       "    <tr>\n",
       "      <th>999</th>\n",
       "      <td>999</td>\n",
       "      <td>[병영일기] 부식</td>\n",
       "      <td>짤툰</td>\n",
       "      <td>1</td>\n",
       "      <td>1565338</td>\n",
       "      <td>26659</td>\n",
       "      <td>1456</td>\n",
       "      <td>5768</td>\n",
       "      <td>UCszFjh7CEfwDb7UUGb4RzCQ</td>\n",
       "      <td>2021-01-05</td>\n",
       "    </tr>\n",
       "    <tr>\n",
       "      <th>...</th>\n",
       "      <td>...</td>\n",
       "      <td>...</td>\n",
       "      <td>...</td>\n",
       "      <td>...</td>\n",
       "      <td>...</td>\n",
       "      <td>...</td>\n",
       "      <td>...</td>\n",
       "      <td>...</td>\n",
       "      <td>...</td>\n",
       "      <td>...</td>\n",
       "    </tr>\n",
       "    <tr>\n",
       "      <th>55966</th>\n",
       "      <td>55966</td>\n",
       "      <td>[짐승친구들] 추석 특집! 욕쟁이 앵무새 VS 짐승친구들</td>\n",
       "      <td>짤툰</td>\n",
       "      <td>1</td>\n",
       "      <td>1419688</td>\n",
       "      <td>27888</td>\n",
       "      <td>517</td>\n",
       "      <td>3411</td>\n",
       "      <td>UCszFjh7CEfwDb7UUGb4RzCQ</td>\n",
       "      <td>2021-09-27</td>\n",
       "    </tr>\n",
       "    <tr>\n",
       "      <th>56195</th>\n",
       "      <td>56195</td>\n",
       "      <td>[짐승친구들] 추석 특집! 욕쟁이 앵무새 VS 짐승친구들</td>\n",
       "      <td>짤툰</td>\n",
       "      <td>1</td>\n",
       "      <td>1450622</td>\n",
       "      <td>28089</td>\n",
       "      <td>521</td>\n",
       "      <td>3418</td>\n",
       "      <td>UCszFjh7CEfwDb7UUGb4RzCQ</td>\n",
       "      <td>2021-09-28</td>\n",
       "    </tr>\n",
       "    <tr>\n",
       "      <th>59814</th>\n",
       "      <td>59814</td>\n",
       "      <td>[짐승친구들] 느그 이름은</td>\n",
       "      <td>짤툰</td>\n",
       "      <td>1</td>\n",
       "      <td>1014334</td>\n",
       "      <td>24234</td>\n",
       "      <td>399</td>\n",
       "      <td>2495</td>\n",
       "      <td>UCszFjh7CEfwDb7UUGb4RzCQ</td>\n",
       "      <td>2021-10-17</td>\n",
       "    </tr>\n",
       "    <tr>\n",
       "      <th>60033</th>\n",
       "      <td>60033</td>\n",
       "      <td>[짐승친구들] 느그 이름은</td>\n",
       "      <td>짤툰</td>\n",
       "      <td>1</td>\n",
       "      <td>1237262</td>\n",
       "      <td>27081</td>\n",
       "      <td>461</td>\n",
       "      <td>2705</td>\n",
       "      <td>UCszFjh7CEfwDb7UUGb4RzCQ</td>\n",
       "      <td>2021-10-18</td>\n",
       "    </tr>\n",
       "    <tr>\n",
       "      <th>60241</th>\n",
       "      <td>60241</td>\n",
       "      <td>[짐승친구들] 느그 이름은</td>\n",
       "      <td>짤툰</td>\n",
       "      <td>1</td>\n",
       "      <td>1374286</td>\n",
       "      <td>28365</td>\n",
       "      <td>510</td>\n",
       "      <td>2807</td>\n",
       "      <td>UCszFjh7CEfwDb7UUGb4RzCQ</td>\n",
       "      <td>2021-10-19</td>\n",
       "    </tr>\n",
       "  </tbody>\n",
       "</table>\n",
       "<p>372 rows × 10 columns</p>\n",
       "</div>"
      ],
      "text/plain": [
       "       Unnamed: 0                            title channelTitle  categoryId  \\\n",
       "76             76                        [병영일기] 부식           짤툰           1   \n",
       "325           325                        [병영일기] 부식           짤툰           1   \n",
       "558           558                        [병영일기] 부식           짤툰           1   \n",
       "778           778                        [병영일기] 부식           짤툰           1   \n",
       "999           999                        [병영일기] 부식           짤툰           1   \n",
       "...           ...                              ...          ...         ...   \n",
       "55966       55966  [짐승친구들] 추석 특집! 욕쟁이 앵무새 VS 짐승친구들           짤툰           1   \n",
       "56195       56195  [짐승친구들] 추석 특집! 욕쟁이 앵무새 VS 짐승친구들           짤툰           1   \n",
       "59814       59814                   [짐승친구들] 느그 이름은           짤툰           1   \n",
       "60033       60033                   [짐승친구들] 느그 이름은           짤툰           1   \n",
       "60241       60241                   [짐승친구들] 느그 이름은           짤툰           1   \n",
       "\n",
       "       view_count  likes  dislikes  comment_count                 channelId  \\\n",
       "76        1496529  26284      1422           5710  UCszFjh7CEfwDb7UUGb4RzCQ   \n",
       "325       1518445  26402      1442           5730  UCszFjh7CEfwDb7UUGb4RzCQ   \n",
       "558       1537676  26511      1453           5752  UCszFjh7CEfwDb7UUGb4RzCQ   \n",
       "778       1553145  26603      1455           5760  UCszFjh7CEfwDb7UUGb4RzCQ   \n",
       "999       1565338  26659      1456           5768  UCszFjh7CEfwDb7UUGb4RzCQ   \n",
       "...           ...    ...       ...            ...                       ...   \n",
       "55966     1419688  27888       517           3411  UCszFjh7CEfwDb7UUGb4RzCQ   \n",
       "56195     1450622  28089       521           3418  UCszFjh7CEfwDb7UUGb4RzCQ   \n",
       "59814     1014334  24234       399           2495  UCszFjh7CEfwDb7UUGb4RzCQ   \n",
       "60033     1237262  27081       461           2705  UCszFjh7CEfwDb7UUGb4RzCQ   \n",
       "60241     1374286  28365       510           2807  UCszFjh7CEfwDb7UUGb4RzCQ   \n",
       "\n",
       "      trending_date2  \n",
       "76        2021-01-01  \n",
       "325       2021-01-02  \n",
       "558       2021-01-03  \n",
       "778       2021-01-04  \n",
       "999       2021-01-05  \n",
       "...              ...  \n",
       "55966     2021-09-27  \n",
       "56195     2021-09-28  \n",
       "59814     2021-10-17  \n",
       "60033     2021-10-18  \n",
       "60241     2021-10-19  \n",
       "\n",
       "[372 rows x 10 columns]"
      ]
     },
     "execution_count": 158,
     "metadata": {},
     "output_type": "execute_result"
    }
   ],
   "source": [
    "df.loc[df.channelId == df.channelId.value_counts().index[0]]"
   ]
  },
  {
   "cell_type": "code",
   "execution_count": 163,
   "id": "f67844a6",
   "metadata": {},
   "outputs": [
    {
     "data": {
      "text/plain": [
       "'짤툰'"
      ]
     },
     "execution_count": 163,
     "metadata": {},
     "output_type": "execute_result"
    }
   ],
   "source": [
    "df.loc[df.channelId == df.channelId.value_counts().index[0]].channelTitle.unique()[0]"
   ]
  },
  {
   "cell_type": "markdown",
   "id": "db957a21",
   "metadata": {},
   "source": [
    "10.20회(20일)이상 인기동영상 리스트에 포함된 동영상의 숫자는?"
   ]
  },
  {
   "cell_type": "code",
   "execution_count": 175,
   "id": "636560f8",
   "metadata": {},
   "outputs": [
    {
     "data": {
      "text/plain": [
       "41"
      ]
     },
     "execution_count": 175,
     "metadata": {},
     "output_type": "execute_result"
    }
   ],
   "source": [
    "(df.groupby(['title']).size() >= 20).sum()"
   ]
  },
  {
   "cell_type": "code",
   "execution_count": 174,
   "id": "27e2c636",
   "metadata": {},
   "outputs": [
    {
     "data": {
      "text/plain": [
       "40"
      ]
     },
     "execution_count": 174,
     "metadata": {},
     "output_type": "execute_result"
    }
   ],
   "source": [
    "(df[['title','channelId']].value_counts()>=20).sum()"
   ]
  },
  {
   "cell_type": "code",
   "execution_count": 178,
   "id": "63261946",
   "metadata": {},
   "outputs": [
    {
     "data": {
      "text/plain": [
       "title\n",
       "#1. [슈퍼리그] 챔스 종결? 드디어 창설된 슈퍼리그, 형태와 방식은?                        False\n",
       "#181.왜 나만 갖고 그래?? #shorts                                       False\n",
       "#254. 조만간 사고 낼 것 같아요 #shorts                                    False\n",
       "#302. 끌바냐? 단속이냐?   #shorts                                      False\n",
       "#MtnDew3PT​ Contest Full Highlights | 2021 #NBAAllStar          False\n",
       "                                                                ...  \n",
       "🧳ep.12-1 좋은 거 다 주고 싶었던(?) 배우들의 역대급 몸으로 말해요 | 🧳출장 십오야            False\n",
       "🧳스페셜(1) 최다 출연 X 최단 시간, 이렇게 힘든 걸 금가즈가 해냅니다 | 🧳출장십오야 X 빈센조 스페셜    False\n",
       "🧳스페셜(2) 솔찍히 썸네일만 봐도 벌써 재밌다 | 🧳출장십오야 X 빈센조 스페셜                   False\n",
       "🧳최종화 BH의 안녕과 평화(?)가 걸린, 난이도 극악(!) 고요 속의 외침 | 🧳출장 십오야            False\n",
       "🩸괴담회에 어서오세요🩸: 첫 번째 이야기 | WELCOME TO NCT’S HORROR NIGHTS         False\n",
       "Length: 7854, dtype: bool"
      ]
     },
     "execution_count": 178,
     "metadata": {},
     "output_type": "execute_result"
    }
   ],
   "source": [
    "(df.groupby(['title']).size() >= 20)"
   ]
  },
  {
   "cell_type": "code",
   "execution_count": 179,
   "id": "bff38077",
   "metadata": {},
   "outputs": [
    {
     "data": {
      "text/plain": [
       "title                                                           channelId               \n",
       "컵라면 먹을 때 절대 일어날리 없는 상황들 ㅋㅋㅋ                                     UCmzMtXrJgfCqA0rfhz8_P4A     True\n",
       "대한민국 VS 투르크메니스탄 : FIFA 카타르 월드컵 2차 예선 하이라이트 - 2021.06.05         UCpjOmwiy88a9EV3Rv8ukJgw     True\n",
       "극과 극을 살고 있는 인도의 갑부와 빈곤층들!                                       UCi9Sl8GnFdYoqEVXnojBPJw     True\n",
       "2주더놀릴예정                                                         UCaKod3X1Tn4c7Ci0iUKcvzQ     True\n",
       "대박... 멧돼지를 아들로 삼은 할아버지｜KBS 주주클럽 050410 방송                       UCAhKKbDO9-ymWZ_7iAFLBQQ     True\n",
       "                                                                                            ...  \n",
       "천재 친구 황봉황 [총몇명 스토리2]                                            UCRuSxVu4iqTK5kCh90ntAgA    False\n",
       "담배충 [병맛더빙/웃긴영상]                                                 UCUK4YjvUvHrFQwTFXwkUIng    False\n",
       "Official Trailer | The Falcon and The Winter Soldier | Disney+  UCvC4D8onUfXzvjTOM-dBfEA    False\n",
       "[월드컵최종예선] 오만 VS 베트남 4차전 H/LㅣAFC 아시아지역 월드컵 최종예선                  UCtybqqaTj6Nx74Azdz1KrsA    False\n",
       "깐부끼리는 니꺼 내꺼가 없는거야                                               UCu9BCtGIEr73LXZsKmoujKw    False\n",
       "Length: 7867, dtype: bool"
      ]
     },
     "execution_count": 179,
     "metadata": {},
     "output_type": "execute_result"
    }
   ],
   "source": [
    "df[['title','channelId']].value_counts()>=20"
   ]
  },
  {
   "cell_type": "code",
   "execution_count": null,
   "id": "3e8936ca",
   "metadata": {},
   "outputs": [],
   "source": []
  }
 ],
 "metadata": {
  "kernelspec": {
   "display_name": "Python 3 (ipykernel)",
   "language": "python",
   "name": "python3"
  },
  "language_info": {
   "codemirror_mode": {
    "name": "ipython",
    "version": 3
   },
   "file_extension": ".py",
   "mimetype": "text/x-python",
   "name": "python",
   "nbconvert_exporter": "python",
   "pygments_lexer": "ipython3",
   "version": "3.10.4"
  }
 },
 "nbformat": 4,
 "nbformat_minor": 5
}
