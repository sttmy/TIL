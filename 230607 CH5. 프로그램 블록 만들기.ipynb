{
 "cells": [
  {
   "cell_type": "markdown",
   "id": "65292610",
   "metadata": {},
   "source": [
    "### 5.1 모듈과 패키지\n",
    "\n",
    "- 파이썬은 모듈과 패키지 형태로 라이브러리 제공\n",
    "    - 모듈은 함수나 클래스를 파일 형식으로 제공 *.py\n",
    "    - 패키지는 모듈을 폴더 형식으로 묶어서 제공 (비슷한 유형의 모듈이 많은 경우)\n",
    "    \n",
    "### 5.2 함수의 유형\n",
    "- 내장함수\n",
    "    - import방식: 모든 구성요소 포함. 구성요소가 많은 경우 처리속도 느려지고 메모리 소모 큼\n",
    "    - from방식: 해당 패키지나 모듈이 포함하고 있는 구성요소 중 특정 요소만 포함. 속도가 빠르고 메모리 효율성 높음"
   ]
  },
  {
   "cell_type": "code",
   "execution_count": 2,
   "id": "4912c968",
   "metadata": {},
   "outputs": [],
   "source": [
    "dataset = list(range(1,6))\n",
    "import statistics\n",
    "from statistics import variance, stdev"
   ]
  },
  {
   "cell_type": "code",
   "execution_count": 3,
   "id": "59300707",
   "metadata": {},
   "outputs": [
    {
     "data": {
      "text/plain": [
       "(3, 3, 2.5, 1.5811388300841898)"
      ]
     },
     "execution_count": 3,
     "metadata": {},
     "output_type": "execute_result"
    }
   ],
   "source": [
    "statistics.mean(dataset), statistics.median(dataset), variance(dataset), stdev(dataset)"
   ]
  },
  {
   "cell_type": "markdown",
   "id": "621f2f26",
   "metadata": {},
   "source": [
    "### 5.3 내장함수"
   ]
  },
  {
   "cell_type": "code",
   "execution_count": 5,
   "id": "85a23893",
   "metadata": {
    "scrolled": true
   },
   "outputs": [
    {
     "data": {
      "text/plain": [
       "['ArithmeticError',\n",
       " 'AssertionError',\n",
       " 'AttributeError',\n",
       " 'BaseException',\n",
       " 'BlockingIOError',\n",
       " 'BrokenPipeError',\n",
       " 'BufferError',\n",
       " 'BytesWarning',\n",
       " 'ChildProcessError',\n",
       " 'ConnectionAbortedError',\n",
       " 'ConnectionError',\n",
       " 'ConnectionRefusedError',\n",
       " 'ConnectionResetError',\n",
       " 'DeprecationWarning',\n",
       " 'EOFError',\n",
       " 'Ellipsis',\n",
       " 'EnvironmentError',\n",
       " 'Exception',\n",
       " 'False',\n",
       " 'FileExistsError',\n",
       " 'FileNotFoundError',\n",
       " 'FloatingPointError',\n",
       " 'FutureWarning',\n",
       " 'GeneratorExit',\n",
       " 'IOError',\n",
       " 'ImportError',\n",
       " 'ImportWarning',\n",
       " 'IndentationError',\n",
       " 'IndexError',\n",
       " 'InterruptedError',\n",
       " 'IsADirectoryError',\n",
       " 'KeyError',\n",
       " 'KeyboardInterrupt',\n",
       " 'LookupError',\n",
       " 'MemoryError',\n",
       " 'ModuleNotFoundError',\n",
       " 'NameError',\n",
       " 'None',\n",
       " 'NotADirectoryError',\n",
       " 'NotImplemented',\n",
       " 'NotImplementedError',\n",
       " 'OSError',\n",
       " 'OverflowError',\n",
       " 'PendingDeprecationWarning',\n",
       " 'PermissionError',\n",
       " 'ProcessLookupError',\n",
       " 'RecursionError',\n",
       " 'ReferenceError',\n",
       " 'ResourceWarning',\n",
       " 'RuntimeError',\n",
       " 'RuntimeWarning',\n",
       " 'StopAsyncIteration',\n",
       " 'StopIteration',\n",
       " 'SyntaxError',\n",
       " 'SyntaxWarning',\n",
       " 'SystemError',\n",
       " 'SystemExit',\n",
       " 'TabError',\n",
       " 'TimeoutError',\n",
       " 'True',\n",
       " 'TypeError',\n",
       " 'UnboundLocalError',\n",
       " 'UnicodeDecodeError',\n",
       " 'UnicodeEncodeError',\n",
       " 'UnicodeError',\n",
       " 'UnicodeTranslateError',\n",
       " 'UnicodeWarning',\n",
       " 'UserWarning',\n",
       " 'ValueError',\n",
       " 'Warning',\n",
       " 'WindowsError',\n",
       " 'ZeroDivisionError',\n",
       " '__IPYTHON__',\n",
       " '__build_class__',\n",
       " '__debug__',\n",
       " '__doc__',\n",
       " '__import__',\n",
       " '__loader__',\n",
       " '__name__',\n",
       " '__package__',\n",
       " '__spec__',\n",
       " 'abs',\n",
       " 'all',\n",
       " 'any',\n",
       " 'ascii',\n",
       " 'bin',\n",
       " 'bool',\n",
       " 'breakpoint',\n",
       " 'bytearray',\n",
       " 'bytes',\n",
       " 'callable',\n",
       " 'chr',\n",
       " 'classmethod',\n",
       " 'compile',\n",
       " 'complex',\n",
       " 'copyright',\n",
       " 'credits',\n",
       " 'delattr',\n",
       " 'dict',\n",
       " 'dir',\n",
       " 'display',\n",
       " 'divmod',\n",
       " 'enumerate',\n",
       " 'eval',\n",
       " 'exec',\n",
       " 'execfile',\n",
       " 'filter',\n",
       " 'float',\n",
       " 'format',\n",
       " 'frozenset',\n",
       " 'get_ipython',\n",
       " 'getattr',\n",
       " 'globals',\n",
       " 'hasattr',\n",
       " 'hash',\n",
       " 'help',\n",
       " 'hex',\n",
       " 'id',\n",
       " 'input',\n",
       " 'int',\n",
       " 'isinstance',\n",
       " 'issubclass',\n",
       " 'iter',\n",
       " 'len',\n",
       " 'license',\n",
       " 'list',\n",
       " 'locals',\n",
       " 'map',\n",
       " 'max',\n",
       " 'memoryview',\n",
       " 'min',\n",
       " 'next',\n",
       " 'object',\n",
       " 'oct',\n",
       " 'open',\n",
       " 'ord',\n",
       " 'pow',\n",
       " 'print',\n",
       " 'property',\n",
       " 'range',\n",
       " 'repr',\n",
       " 'reversed',\n",
       " 'round',\n",
       " 'runfile',\n",
       " 'set',\n",
       " 'setattr',\n",
       " 'slice',\n",
       " 'sorted',\n",
       " 'staticmethod',\n",
       " 'str',\n",
       " 'sum',\n",
       " 'super',\n",
       " 'tuple',\n",
       " 'type',\n",
       " 'vars',\n",
       " 'zip']"
      ]
     },
     "execution_count": 5,
     "metadata": {},
     "output_type": "execute_result"
    }
   ],
   "source": [
    "import builtins\n",
    "dir(builtins)"
   ]
  },
  {
   "cell_type": "markdown",
   "id": "36a2a93c",
   "metadata": {},
   "source": [
    "- abs(x) 절대값 반환\n",
    "- pow(x,y) x에 대한 y제곱 계산하여 반환\n",
    "- range(n) 0~(n-1) 사이 정수 반환\n",
    "<br>\n",
    "\n",
    "- all(iterable) 모든 요소가 true일 때 true를 반환 / 0이 아닌 숫자는 True\n",
    "- any(iterable) 하나 이상의 요소가 true일 때 true를 반환\n",
    "<br>\n",
    "\n",
    "- dir(x) 변수, 내장함수, 내장클래스 목록 반환\n",
    "- help(x) 도움말\n",
    "- id(obj) 객체 주소 반환\n",
    "<br>\n",
    "\n",
    "- bin(number) 10진수 정수를 2진수로 반환\n",
    "- hex(number) 10진수 정수를 16진수로 반환\n",
    "- oct(number) 10진수 정수를 8진수로 반환\n",
    "\n",
    "- bool(x) x를 논리형으로 반환\n",
    "- complex(x) x를 복소수형으로 반환\n",
    "- float(x) x를 실수형으로 반환\n",
    "- ord(character) character를 아스키값으로 반환\n",
    "<br>\n",
    "\n",
    "- list(iterable) list 자료구조형으로 반환\n",
    "- dict(iterable) 사전형 자료구조형으로 반환\n",
    "<br>\n",
    "\n",
    "- format(value) value에 양식 적용\n",
    "- zip(iterable*) iterable의 원소를 묶어서 반환\n",
    "<br>\n",
    "\n",
    "- sorted(iterable) 반복 가능한 원소들 대상으로 정렬\n",
    "- enumerate(iterable) 열거형 자료를 순회하여 색인과 값을 반환\n",
    "- eval(expr) 문자열 수식을 계산 가능한 수식으로 반환\n"
   ]
  },
  {
   "cell_type": "code",
   "execution_count": 6,
   "id": "df45bd92",
   "metadata": {},
   "outputs": [
    {
     "data": {
      "text/plain": [
       "30"
      ]
     },
     "execution_count": 6,
     "metadata": {},
     "output_type": "execute_result"
    }
   ],
   "source": [
    "eval('10 + 20')   #evaluate"
   ]
  },
  {
   "cell_type": "code",
   "execution_count": 7,
   "id": "b325ea11",
   "metadata": {
    "scrolled": true
   },
   "outputs": [
    {
     "name": "stdout",
     "output_type": "stream",
     "text": [
      "Help on built-in function eval in module builtins:\n",
      "\n",
      "eval(source, globals=None, locals=None, /)\n",
      "    Evaluate the given source in the context of globals and locals.\n",
      "    \n",
      "    The source may be a string representing a Python expression\n",
      "    or a code object as returned by compile().\n",
      "    The globals must be a dictionary and locals can be any mapping,\n",
      "    defaulting to the current globals and locals.\n",
      "    If only globals is given, locals defaults to it.\n",
      "\n"
     ]
    }
   ],
   "source": [
    "help(eval)"
   ]
  },
  {
   "cell_type": "code",
   "execution_count": 9,
   "id": "b6808934",
   "metadata": {},
   "outputs": [
    {
     "data": {
      "text/plain": [
       "48"
      ]
     },
     "execution_count": 9,
     "metadata": {},
     "output_type": "execute_result"
    }
   ],
   "source": [
    "ord('0')"
   ]
  },
  {
   "cell_type": "code",
   "execution_count": 10,
   "id": "5c42df29",
   "metadata": {},
   "outputs": [
    {
     "data": {
      "text/plain": [
       "[1, 2, 3, 5]"
      ]
     },
     "execution_count": 10,
     "metadata": {},
     "output_type": "execute_result"
    }
   ],
   "source": [
    "sorted([3,2,1,5])"
   ]
  },
  {
   "cell_type": "code",
   "execution_count": 11,
   "id": "f64d7a28",
   "metadata": {},
   "outputs": [
    {
     "data": {
      "text/plain": [
       "[5, 3, 2, 1]"
      ]
     },
     "execution_count": 11,
     "metadata": {},
     "output_type": "execute_result"
    }
   ],
   "source": [
    "sorted([3,2,1,5],reverse = True)"
   ]
  },
  {
   "cell_type": "code",
   "execution_count": 12,
   "id": "6f0a5545",
   "metadata": {},
   "outputs": [
    {
     "data": {
      "text/plain": [
       "<zip at 0x2e92223d340>"
      ]
     },
     "execution_count": 12,
     "metadata": {},
     "output_type": "execute_result"
    }
   ],
   "source": [
    "zip([1,3,5],[2,4,6])"
   ]
  },
  {
   "cell_type": "code",
   "execution_count": 13,
   "id": "50fad097",
   "metadata": {},
   "outputs": [
    {
     "data": {
      "text/plain": [
       "[(1, 2), (3, 4), (5, 6)]"
      ]
     },
     "execution_count": 13,
     "metadata": {},
     "output_type": "execute_result"
    }
   ],
   "source": [
    "list(zip([1,3,5],[2,4,6]))"
   ]
  },
  {
   "cell_type": "markdown",
   "id": "2a2b38e0",
   "metadata": {},
   "source": [
    "### 5.4 사용자정의함수"
   ]
  },
  {
   "cell_type": "code",
   "execution_count": 14,
   "id": "120bcf26",
   "metadata": {},
   "outputs": [
    {
     "name": "stdout",
     "output_type": "stream",
     "text": [
      "userfunc1\n"
     ]
    }
   ],
   "source": [
    "# 인수가 없는 함수\n",
    "def userf1():\n",
    "    print('userfunc1')\n",
    "userf1()"
   ]
  },
  {
   "cell_type": "code",
   "execution_count": 16,
   "id": "3732a78a",
   "metadata": {},
   "outputs": [
    {
     "name": "stdout",
     "output_type": "stream",
     "text": [
      "30\n"
     ]
    }
   ],
   "source": [
    "# 인수가 있는 함수\n",
    "def user2(x,y):\n",
    "    z = x+y\n",
    "    print(z)\n",
    "user2(10,20)"
   ]
  },
  {
   "cell_type": "code",
   "execution_count": 19,
   "id": "6b6e68d0",
   "metadata": {},
   "outputs": [
    {
     "name": "stdout",
     "output_type": "stream",
     "text": [
      "x 입력: 1\n",
      "y 입력: 3\n"
     ]
    },
    {
     "data": {
      "text/plain": [
       "(4, -2, 3, 0.3333333333333333)"
      ]
     },
     "execution_count": 19,
     "metadata": {},
     "output_type": "execute_result"
    }
   ],
   "source": [
    "# return이 있는 함수\n",
    "def userf3(x,y):\n",
    "    tot = x+y\n",
    "    sub = x-y\n",
    "    mul = x*y\n",
    "    div = x/y\n",
    "    return tot, sub, mul, div\n",
    "x = int(input('x 입력: '))\n",
    "y = int(input('y 입력: '))\n",
    "\n",
    "t,s,m,d = userf3(x,y)\n",
    "t,s,m,d"
   ]
  },
  {
   "cell_type": "markdown",
   "id": "b07d2167",
   "metadata": {},
   "source": [
    "#### 산포도"
   ]
  },
  {
   "cell_type": "code",
   "execution_count": 20,
   "id": "266b5e0f",
   "metadata": {},
   "outputs": [
    {
     "data": {
      "text/plain": [
       "3"
      ]
     },
     "execution_count": 20,
     "metadata": {},
     "output_type": "execute_result"
    }
   ],
   "source": [
    "from statistics import mean, variance\n",
    "from math import sqrt\n",
    "ds = [2,4,5,6,1,8]\n",
    "\n",
    "def avrg(data):\n",
    "    avg = mean(data)\n",
    "    return avg\n",
    "avrg(dataset)"
   ]
  },
  {
   "cell_type": "code",
   "execution_count": 21,
   "id": "a28f5332",
   "metadata": {},
   "outputs": [
    {
     "data": {
      "text/plain": [
       "(2.5, 1.5811388300841898)"
      ]
     },
     "execution_count": 21,
     "metadata": {},
     "output_type": "execute_result"
    }
   ],
   "source": [
    "# 분산 표준편차\n",
    "def varsd(data):\n",
    "    avg = avrg(data)\n",
    "    # list내포\n",
    "    diff = [ (d - avg)**2 for d in data]\n",
    "    var = sum(diff) / (len(data) - 1)\n",
    "    sd = sqrt(var)\n",
    "    \n",
    "    return var, sd\n",
    "v, s = varsd(dataset)\n",
    "v, s"
   ]
  },
  {
   "cell_type": "markdown",
   "id": "aa33d33b",
   "metadata": {},
   "source": [
    "#### 몬테카를로 시뮬레이션\n",
    "- 난수의 확률분포를 이용하여 모의실험으로 근사적 해를 구하는 기법\n",
    "- 가상 모의실험\n",
    "- 예) 동전 1000번을 던져서 앞면이 나올 확률을 구하기"
   ]
  },
  {
   "cell_type": "code",
   "execution_count": 25,
   "id": "1b6fb0ad",
   "metadata": {},
   "outputs": [],
   "source": [
    "import random\n",
    "def coin(n):\n",
    "    result = []\n",
    "    for i in range(n):\n",
    "        r = random.randint(0,1)\n",
    "        if (r == 1):\n",
    "            result.append(1)\n",
    "        else:\n",
    "            result.append(0)\n",
    "    return result"
   ]
  },
  {
   "cell_type": "code",
   "execution_count": 32,
   "id": "801e65e9",
   "metadata": {
    "scrolled": true
   },
   "outputs": [
    {
     "data": {
      "text/plain": [
       "([1, 0, 0, 1, 0, 0, 0, 1, 0, 1], [1])"
      ]
     },
     "execution_count": 32,
     "metadata": {},
     "output_type": "execute_result"
    }
   ],
   "source": [
    "coin(10), coin(1)"
   ]
  },
  {
   "cell_type": "code",
   "execution_count": 27,
   "id": "805bb391",
   "metadata": {},
   "outputs": [],
   "source": [
    "def montecoin(n):\n",
    "    cnt = 0\n",
    "    for i in range(n):\n",
    "        cnt += coin(1)[0]\n",
    "    result = cnt / n\n",
    "    return result\n"
   ]
  },
  {
   "cell_type": "code",
   "execution_count": 28,
   "id": "8af21bc0",
   "metadata": {},
   "outputs": [
    {
     "data": {
      "text/plain": [
       "(0.5, 0.36666666666666664)"
      ]
     },
     "execution_count": 28,
     "metadata": {},
     "output_type": "execute_result"
    }
   ],
   "source": [
    "montecoin(10), montecoin(30)"
   ]
  },
  {
   "cell_type": "code",
   "execution_count": 31,
   "id": "9b8a1081",
   "metadata": {},
   "outputs": [
    {
     "data": {
      "text/plain": [
       "(0.49, 0.499, 0.4982, 0.49897)"
      ]
     },
     "execution_count": 31,
     "metadata": {},
     "output_type": "execute_result"
    }
   ],
   "source": [
    "montecoin(100), montecoin(1000), montecoin(10000), montecoin(100000)"
   ]
  },
  {
   "cell_type": "markdown",
   "id": "ba83bd40",
   "metadata": {},
   "source": [
    "### 5.5 특수함수"
   ]
  },
  {
   "cell_type": "markdown",
   "id": "85907149",
   "metadata": {},
   "source": [
    "#### 가변인수 함수\n",
    "\n",
    "def 함수명(매개변수, *매개변수, **매개변수):\n",
    "<br>\n",
    "   - *매개변수: 튜플\n",
    "   - **매개변수: dict"
   ]
  },
  {
   "cell_type": "code",
   "execution_count": 33,
   "id": "df99e4da",
   "metadata": {},
   "outputs": [
    {
     "name": "stdout",
     "output_type": "stream",
     "text": [
      "홍길동\n",
      "('이순신', '유관순')\n"
     ]
    }
   ],
   "source": [
    "def func1(name, *names):\n",
    "    print(name)\n",
    "    print(names)\n",
    "\n",
    "func1('홍길동','이순신','유관순')"
   ]
  },
  {
   "cell_type": "code",
   "execution_count": 35,
   "id": "006feb67",
   "metadata": {},
   "outputs": [],
   "source": [
    "def empf(name, age, **other):\n",
    "    print(name)\n",
    "    print(age)\n",
    "    print(other)"
   ]
  },
  {
   "cell_type": "code",
   "execution_count": 36,
   "id": "70ba684a",
   "metadata": {},
   "outputs": [
    {
     "name": "stdout",
     "output_type": "stream",
     "text": [
      "홍길동\n",
      "35\n",
      "{'addr': '서울시', 'height': 175, 'weight': 65}\n"
     ]
    }
   ],
   "source": [
    "empf('홍길동', 35, addr = '서울시', height=175, weight=65)"
   ]
  },
  {
   "cell_type": "markdown",
   "id": "cc516ff9",
   "metadata": {},
   "source": [
    "#### LAMBDA 람다 함수\n",
    "- 정의와 호출을 한 번에 하는 익명함수\n",
    "- 복잡한 함수 호출 과정 생략, 처리시간 단축, 코드 가독성 향상\n",
    "- lambda 매개변수 : 실행문(반환값)"
   ]
  },
  {
   "cell_type": "code",
   "execution_count": 37,
   "id": "01cd9f20",
   "metadata": {},
   "outputs": [
    {
     "data": {
      "text/plain": [
       "30"
      ]
     },
     "execution_count": 37,
     "metadata": {},
     "output_type": "execute_result"
    }
   ],
   "source": [
    "def adder(x,y):\n",
    "    add = x+y\n",
    "    return add\n",
    "adder(10,20)"
   ]
  },
  {
   "cell_type": "code",
   "execution_count": 38,
   "id": "4eda2f5f",
   "metadata": {},
   "outputs": [
    {
     "data": {
      "text/plain": [
       "30"
      ]
     },
     "execution_count": 38,
     "metadata": {},
     "output_type": "execute_result"
    }
   ],
   "source": [
    "(lambda x, y : x+y)(10,20)"
   ]
  },
  {
   "cell_type": "markdown",
   "id": "98a8f2d3",
   "metadata": {},
   "source": [
    "#### SCOPE 스코프: 변수가 사용되는 범위 \n",
    "- 전역변수 \n",
    "\n",
    "        def 함수명(인수):\n",
    "            global 전역변수\n",
    "            \n",
    "- 지역변수: 특정함수 또는 블록(if, for, while) 내에서 사용\n"
   ]
  },
  {
   "cell_type": "code",
   "execution_count": 53,
   "id": "1c3ae775",
   "metadata": {},
   "outputs": [
    {
     "data": {
      "text/plain": [
       "(50, 100)"
      ]
     },
     "execution_count": 53,
     "metadata": {},
     "output_type": "execute_result"
    }
   ],
   "source": [
    "x = 50\n",
    "def localf(x):\n",
    "    x += 50   # 지역변수: 종료 시점 소멸\n",
    "    return x\n",
    "x, localf(x)"
   ]
  },
  {
   "cell_type": "code",
   "execution_count": 55,
   "id": "2a9072a9",
   "metadata": {},
   "outputs": [
    {
     "data": {
      "text/plain": [
       "(50, 100)"
      ]
     },
     "execution_count": 55,
     "metadata": {},
     "output_type": "execute_result"
    }
   ],
   "source": [
    "def globalf():\n",
    "    global x\n",
    "    x += 50\n",
    "    return x\n",
    "x, globalf()"
   ]
  },
  {
   "cell_type": "code",
   "execution_count": 56,
   "id": "40011985",
   "metadata": {},
   "outputs": [
    {
     "data": {
      "text/plain": [
       "100"
      ]
     },
     "execution_count": 56,
     "metadata": {},
     "output_type": "execute_result"
    }
   ],
   "source": [
    "x"
   ]
  },
  {
   "cell_type": "markdown",
   "id": "b8b2b9ad",
   "metadata": {},
   "source": [
    "### 5.6 중첩함수\n",
    "\n",
    "#### 일급함수\n",
    "- 중첩함수, 외부함수나 내부함수를 변수에 저장할 수 있음\n",
    "- 외부함수: 함수를 사용할 자료를 만듦. 내부함수를 포함\n",
    "- 내부함수: 외부함수에서 만든 자료를 연산하고 조작\n",
    "<br>\n",
    "\n",
    "- 내부함수를 외부함수의 return명령문을 이용해 반환하는 형태를 함수 클로저라고 함\n",
    "- 함수 클로저는 외부함수가 종료되어도 내부함수에서 선언된 변수가 메모리에서 소멸되지 않은 상태로 내부함수 활용이 가능\n"
   ]
  },
  {
   "cell_type": "code",
   "execution_count": 57,
   "id": "566e8f60",
   "metadata": {},
   "outputs": [],
   "source": [
    "# 일급함수\n",
    "def a():\n",
    "    print('a함수')\n",
    "    def b():\n",
    "        print('b함수')\n",
    "    return b"
   ]
  },
  {
   "cell_type": "code",
   "execution_count": 58,
   "id": "062158dd",
   "metadata": {},
   "outputs": [
    {
     "name": "stdout",
     "output_type": "stream",
     "text": [
      "a함수\n"
     ]
    }
   ],
   "source": [
    "b = a()   # 함수를 객체로 만들어서 사용하는 것: 일급함수"
   ]
  },
  {
   "cell_type": "code",
   "execution_count": 59,
   "id": "4a67d118",
   "metadata": {},
   "outputs": [
    {
     "name": "stdout",
     "output_type": "stream",
     "text": [
      "b함수\n"
     ]
    }
   ],
   "source": [
    "b()"
   ]
  },
  {
   "cell_type": "code",
   "execution_count": 66,
   "id": "aa7e3430",
   "metadata": {},
   "outputs": [
    {
     "data": {
      "text/plain": [
       "(<function __main__.outerf.<locals>.tot()>,\n",
       " <function __main__.outerf.<locals>.avg(tot_val)>)"
      ]
     },
     "execution_count": 66,
     "metadata": {},
     "output_type": "execute_result"
    }
   ],
   "source": [
    "# 함수 클로저\n",
    "data = list(range(1,101))\n",
    "def outerf(data):\n",
    "    dataset = data\n",
    "    # inner\n",
    "    def tot():\n",
    "        tot_val = sum(dataset)\n",
    "        return tot_val\n",
    "    def avg(tot_val):\n",
    "        avg_val = tot_val / len(dataset)\n",
    "        return avg_val\n",
    "    return tot, avg  # inner 반환\n",
    "\n",
    "# 외부함수 호출\n",
    "tot, avg = outerf(data)\n",
    "tot, avg"
   ]
  },
  {
   "cell_type": "code",
   "execution_count": 67,
   "id": "9efd7527",
   "metadata": {},
   "outputs": [
    {
     "data": {
      "text/plain": [
       "(5050, 50.5)"
      ]
     },
     "execution_count": 67,
     "metadata": {},
     "output_type": "execute_result"
    }
   ],
   "source": [
    "# 내부함수 호출\n",
    "totval = tot()\n",
    "totval, avg(totval)"
   ]
  },
  {
   "cell_type": "markdown",
   "id": "610229d8",
   "metadata": {},
   "source": [
    "#### 클로저와 데코레이터\n",
    "\n",
    "https://wikidocs.net/134789\n",
    "\n",
    "#### 클로저: 함수 안의 내부함수를 반환"
   ]
  },
  {
   "cell_type": "code",
   "execution_count": 68,
   "id": "50e11849",
   "metadata": {},
   "outputs": [],
   "source": [
    "def mul3(n):\n",
    "    return n*3\n",
    "\n",
    "def mul5(n):\n",
    "    return n*5"
   ]
  },
  {
   "cell_type": "code",
   "execution_count": 70,
   "id": "5e8329ed",
   "metadata": {},
   "outputs": [
    {
     "name": "stdout",
     "output_type": "stream",
     "text": [
      "30\n",
      "50\n"
     ]
    }
   ],
   "source": [
    "class Mul:\n",
    "    def __init__(self, m):\n",
    "        self.m = m\n",
    "        \n",
    "    def mul(self, n):\n",
    "        return self.m*n\n",
    "    \n",
    "if __name__ == '__main__':\n",
    "    mul3 = Mul(3)\n",
    "    mul5 = Mul(5)\n",
    "    \n",
    "    print(mul3.mul(10))\n",
    "    print(mul5.mul(10))"
   ]
  },
  {
   "cell_type": "code",
   "execution_count": 71,
   "id": "475d2e29",
   "metadata": {},
   "outputs": [
    {
     "name": "stdout",
     "output_type": "stream",
     "text": [
      "30\n",
      "50\n"
     ]
    }
   ],
   "source": [
    "class Mul:\n",
    "    def __init__(self, m):\n",
    "        self.m = m\n",
    "        \n",
    "    def __call__(self, n):   # 클래스로 만든 객체에 인수 바로 전달 바로 호출\n",
    "        return self.m*n\n",
    "    \n",
    "if __name__ == '__main__':\n",
    "    mul3 = Mul(3)\n",
    "    mul5 = Mul(5)\n",
    "    \n",
    "    print(mul3(10))\n",
    "    print(mul5(10))"
   ]
  },
  {
   "cell_type": "code",
   "execution_count": 72,
   "id": "9a2700b3",
   "metadata": {},
   "outputs": [
    {
     "name": "stdout",
     "output_type": "stream",
     "text": [
      "30\n",
      "50\n"
     ]
    }
   ],
   "source": [
    "# 외부함수 안에 내부함수 구현 : 클로저\n",
    "def mul(m):\n",
    "    def wrapper(n):\n",
    "        return m * n\n",
    "    return wrapper\n",
    "\n",
    "if __name__ == '__main__':\n",
    "    mul3 = mul(3)\n",
    "    mul5 = mul(5)\n",
    "    \n",
    "    print(mul3(10))\n",
    "    print(mul5(10))"
   ]
  },
  {
   "cell_type": "markdown",
   "id": "2709ed02",
   "metadata": {},
   "source": [
    "#### 데코레이터"
   ]
  },
  {
   "cell_type": "code",
   "execution_count": 73,
   "id": "0e217c0e",
   "metadata": {},
   "outputs": [
    {
     "name": "stdout",
     "output_type": "stream",
     "text": [
      "함수 실행\n",
      "함수 실행시간: 0.000000초\n"
     ]
    }
   ],
   "source": [
    "import time\n",
    "def myfunc():\n",
    "    start = time.time()\n",
    "    print('함수 실행')\n",
    "    end = time.time()\n",
    "    print('함수 실행시간: %f초' %(end-start))\n",
    "myfunc()"
   ]
  },
  {
   "cell_type": "code",
   "execution_count": 74,
   "id": "318923c1",
   "metadata": {},
   "outputs": [],
   "source": [
    "def elapsed(original_func):   # 기존함수를 인수로 받음\n",
    "    def wrapper():\n",
    "        start = time.time()\n",
    "        result = original_func()  # 기존함수 수행\n",
    "        end = time.time()\n",
    "        print('함수 실행시간: %f초' %(end-start))\n",
    "        return result  # 기준함수 수행결과 리턴\n",
    "    return wrapper\n",
    "\n",
    "def myfunc():\n",
    "    print(\"함수가 실행됩니다\")"
   ]
  },
  {
   "cell_type": "code",
   "execution_count": 77,
   "id": "51d97f10",
   "metadata": {},
   "outputs": [
    {
     "data": {
      "text/plain": [
       "<function __main__.elapsed.<locals>.wrapper()>"
      ]
     },
     "execution_count": 77,
     "metadata": {},
     "output_type": "execute_result"
    }
   ],
   "source": [
    "decorated_myfunc = elapsed(myfunc)\n",
    "decorated_myfunc"
   ]
  },
  {
   "cell_type": "code",
   "execution_count": 78,
   "id": "575f87b7",
   "metadata": {},
   "outputs": [
    {
     "name": "stdout",
     "output_type": "stream",
     "text": [
      "함수가 실행됩니다\n",
      "함수 실행시간: 0.000000초\n"
     ]
    }
   ],
   "source": [
    "decorated_myfunc()"
   ]
  },
  {
   "cell_type": "code",
   "execution_count": 79,
   "id": "6b33c91c",
   "metadata": {},
   "outputs": [
    {
     "name": "stdout",
     "output_type": "stream",
     "text": [
      "함수가 실행됩니다\n"
     ]
    }
   ],
   "source": [
    "myfunc()"
   ]
  },
  {
   "cell_type": "code",
   "execution_count": 81,
   "id": "474248d0",
   "metadata": {},
   "outputs": [],
   "source": [
    "@elapsed   # 함수 위에 어노테이션이 있으면 데코레이터 함수로 인식함\n",
    "def myfunc():\n",
    "    print(\"함수가 실행됩니다\")"
   ]
  },
  {
   "cell_type": "code",
   "execution_count": 82,
   "id": "632734f9",
   "metadata": {},
   "outputs": [
    {
     "name": "stdout",
     "output_type": "stream",
     "text": [
      "함수가 실행됩니다\n",
      "함수 실행시간: 0.000000초\n"
     ]
    }
   ],
   "source": [
    "myfunc()"
   ]
  },
  {
   "cell_type": "markdown",
   "id": "91712be9",
   "metadata": {},
   "source": [
    "데코레이터 함수는 기존 함수의 입력 인수에 상관없이 동작하도록 해야 한다. 왜냐하면 데코레이터는 기존 함수가 어떤 입력 인수를 취할지 알 수 없기 때문이다. 따라서 이렇게 전달받아야 하는 기존 함수의 입력 인수를 알 수 없는 경우에는 *args **kwargs 기법을 이용하여 해결해야 한다."
   ]
  },
  {
   "cell_type": "code",
   "execution_count": 83,
   "id": "9c3f459c",
   "metadata": {},
   "outputs": [],
   "source": [
    "def elapsed(original_func):   # 기존 합수를 인수로 받는다.\n",
    "    def wrapper(*args, **kwargs):   # *args, **kwargs 매개변수 추가\n",
    "        start = time.time()\n",
    "        result = original_func(*args, **kwargs)  # 전달받은 *args, **kwargs를 입력파라미터로 기존함수 수행\n",
    "        end = time.time()\n",
    "        print(\"함수 수행시간: %f 초\" % (end - start))  # 수행시간을 출력한다.\n",
    "        return result  # 함수의 결과를 리턴한다.\n",
    "    return wrapper\n",
    "\n",
    "@elapsed\n",
    "def myfunc(msg):\n",
    "    \"\"\" 데코레이터 확인 함수 \"\"\"\n",
    "    print(\"'%s'을 출력합니다.\" % msg)"
   ]
  },
  {
   "cell_type": "code",
   "execution_count": 84,
   "id": "997c8705",
   "metadata": {},
   "outputs": [
    {
     "name": "stdout",
     "output_type": "stream",
     "text": [
      "'you need python'을 출력합니다.\n",
      "함수 수행시간: 0.000000 초\n"
     ]
    }
   ],
   "source": [
    "myfunc('you need python')"
   ]
  },
  {
   "cell_type": "markdown",
   "id": "4c88955c",
   "metadata": {},
   "source": [
    "#### 획득자, 지정자, nonlocal\n",
    "\n",
    "- 획득자함수 getter: 함수 내부 생성 자료를 외부로 반환하는 함수, return명령문\n",
    "- 지정자함수 setter: 함수 내부 생성 자료를 외부에서 수정하는 함수, 매개변수가 있음\n",
    "\n",
    "        def 외부함수():\n",
    "            변수명 = 값\n",
    "            def 내부함수():\n",
    "                nonlocal 변수명    #내부함수에서 외부함수 변수 사용할 경우"
   ]
  },
  {
   "cell_type": "code",
   "execution_count": 99,
   "id": "3ef9b6f0",
   "metadata": {},
   "outputs": [],
   "source": [
    "def mainf(num):\n",
    "    num_val = num\n",
    "    def getter():   # 획득자함수, return있음\n",
    "        return num_val\n",
    "    def setter(value):   # 지정자함수, 인수있음\n",
    "        nonlocal num_val   # 생략시, setter(200) 작동하지 않음\n",
    "        num_val = value\n",
    "    return getter, setter  # 클로저 반환"
   ]
  },
  {
   "cell_type": "code",
   "execution_count": 100,
   "id": "52b9d848",
   "metadata": {},
   "outputs": [],
   "source": [
    "# 외부함수 호출\n",
    "getter, setter = mainf(100)    # num 생성"
   ]
  },
  {
   "cell_type": "code",
   "execution_count": 101,
   "id": "355f9cd8",
   "metadata": {},
   "outputs": [
    {
     "data": {
      "text/plain": [
       "100"
      ]
     },
     "execution_count": 101,
     "metadata": {},
     "output_type": "execute_result"
    }
   ],
   "source": [
    "getter()    # 획득한 num값 확인"
   ]
  },
  {
   "cell_type": "code",
   "execution_count": 102,
   "id": "edbaf90e",
   "metadata": {},
   "outputs": [],
   "source": [
    "setter(200)    # num값 수정"
   ]
  },
  {
   "cell_type": "code",
   "execution_count": 103,
   "id": "247112d8",
   "metadata": {},
   "outputs": [
    {
     "data": {
      "text/plain": [
       "200"
      ]
     },
     "execution_count": 103,
     "metadata": {},
     "output_type": "execute_result"
    }
   ],
   "source": [
    "getter()       # num값 수정 확인"
   ]
  },
  {
   "cell_type": "markdown",
   "id": "13b3edb0",
   "metadata": {},
   "source": [
    "#### 데코레이터"
   ]
  },
  {
   "cell_type": "code",
   "execution_count": 104,
   "id": "14288b6e",
   "metadata": {},
   "outputs": [],
   "source": [
    "def wrap(func):\n",
    "    def decorated():\n",
    "        print('반가워요')\n",
    "        func()  # 인수로 넘어온 함수\n",
    "        print('잘가요')\n",
    "    return decorated   # 클로저 함수 반환"
   ]
  },
  {
   "cell_type": "code",
   "execution_count": 106,
   "id": "697c2fa8",
   "metadata": {},
   "outputs": [
    {
     "name": "stdout",
     "output_type": "stream",
     "text": [
      "반가워요\n",
      "hi 홍길동\n",
      "잘가요\n"
     ]
    }
   ],
   "source": [
    "# 함수장식자 적용\n",
    "\n",
    "@wrap\n",
    "def hello():\n",
    "    print('hi', '홍길동')\n",
    "\n",
    "hello()"
   ]
  },
  {
   "cell_type": "markdown",
   "id": "eab555fa",
   "metadata": {},
   "source": [
    "### 5.7 재귀함수 Recursive Function\n",
    "\n",
    "- 반복적으로 호출\n",
    "- 반복을 탈출하는 조건이 필수\n",
    "- 예) Factorial 계산\n",
    "- 재귀호출 자료는 Stack 메모리 영역에 저장됨. Push 입력, Pop 출력됨"
   ]
  },
  {
   "cell_type": "code",
   "execution_count": 116,
   "id": "5ac49555",
   "metadata": {},
   "outputs": [
    {
     "data": {
      "text/plain": [
       "0"
      ]
     },
     "execution_count": 116,
     "metadata": {},
     "output_type": "execute_result"
    }
   ],
   "source": [
    "# 카운트\n",
    "def Counter(n):\n",
    "    if n == 0:\n",
    "        return 0\n",
    "    else:\n",
    "        print(n)\n",
    "        Counter(n-1)\n",
    "\n",
    "Counter(0)"
   ]
  },
  {
   "cell_type": "code",
   "execution_count": 117,
   "id": "4fb3e026",
   "metadata": {},
   "outputs": [
    {
     "name": "stdout",
     "output_type": "stream",
     "text": [
      "5\n",
      "4\n",
      "3\n",
      "2\n",
      "1\n",
      "None\n"
     ]
    }
   ],
   "source": [
    "print(Counter(5))"
   ]
  },
  {
   "cell_type": "code",
   "execution_count": 120,
   "id": "1c4ab3ea",
   "metadata": {},
   "outputs": [
    {
     "data": {
      "text/plain": [
       "1"
      ]
     },
     "execution_count": 120,
     "metadata": {},
     "output_type": "execute_result"
    }
   ],
   "source": [
    "# 누적합\n",
    "def adder(n):\n",
    "    if n== 1:\n",
    "        return 1\n",
    "    else:\n",
    "        result = n + adder(n-1)\n",
    "        return result\n",
    "adder(1)"
   ]
  },
  {
   "cell_type": "code",
   "execution_count": 121,
   "id": "1c889a5f",
   "metadata": {},
   "outputs": [
    {
     "data": {
      "text/plain": [
       "15"
      ]
     },
     "execution_count": 121,
     "metadata": {},
     "output_type": "execute_result"
    }
   ],
   "source": [
    "adder(5)"
   ]
  }
 ],
 "metadata": {
  "kernelspec": {
   "display_name": "Python 3 (ipykernel)",
   "language": "python",
   "name": "python3"
  },
  "language_info": {
   "codemirror_mode": {
    "name": "ipython",
    "version": 3
   },
   "file_extension": ".py",
   "mimetype": "text/x-python",
   "name": "python",
   "nbconvert_exporter": "python",
   "pygments_lexer": "ipython3",
   "version": "3.8.10"
  }
 },
 "nbformat": 4,
 "nbformat_minor": 5
}
