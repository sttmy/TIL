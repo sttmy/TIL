{
 "cells": [
  {
   "cell_type": "markdown",
   "id": "8ca49fcc",
   "metadata": {},
   "source": [
    "# 퇴근후딴짓 작업형1유형"
   ]
  },
  {
   "cell_type": "markdown",
   "id": "09d0e1c9",
   "metadata": {},
   "source": [
    "## (sample) 작업형 1유형\n",
    "mtcars 데이터셋(data/mtcars.csv)의 qsec컬럼을 최소최대척도로 변환한 후 0.5보다 큰 값을 가지는 레코드수를 구하시오"
   ]
  },
  {
   "cell_type": "code",
   "execution_count": 3,
   "id": "8433fad9",
   "metadata": {},
   "outputs": [],
   "source": [
    "# 라이브러리\n",
    "import pandas as pd\n",
    "from sklearn.preprocessing import minmax_scale\n",
    "\n",
    "# data 불러오기\n",
    "data = pd.read_csv('data/mtcars.csv')\n",
    "# print(data['qsec'].head(3))\n"
   ]
  },
  {
   "cell_type": "markdown",
   "id": "ef8a493b",
   "metadata": {},
   "source": [
    "### 풀이 ①"
   ]
  },
  {
   "cell_type": "code",
   "execution_count": null,
   "id": "7afd019b",
   "metadata": {},
   "outputs": [],
   "source": [
    "\n",
    "# 스케일링\n",
    "data['qsec'] = minmax_scale(data['qsec'])\n",
    "# print(data['qsec'].head(3))\n",
    "\n",
    "# 0.5보다 큰 값 가지는 레코드 수\n",
    "ans = data['qsec']>0.5\n",
    "print(sum(ans))"
   ]
  },
  {
   "cell_type": "code",
   "execution_count": null,
   "id": "2d9e21a9",
   "metadata": {},
   "outputs": [],
   "source": [
    "scaler = MinMaxScaler(feature_range=(0,3)) ## 각 칼럼 데이터 값을 0~3 범위로 변환\n",
    "scaler.fit(X) ## 각 칼럼 데이터마다 변환할 함수 생성\n",
    "transformed_X = scaler.transform(X) ## fit에서 만들어진 함수를 실제로 데이터에 적용\n",
    "print(transformed_X)"
   ]
  },
  {
   "cell_type": "markdown",
   "id": "254ee33d",
   "metadata": {},
   "source": [
    "### 풀이 ②"
   ]
  },
  {
   "cell_type": "code",
   "execution_count": null,
   "id": "4a2f4ca0",
   "metadata": {},
   "outputs": [],
   "source": [
    "def minmax(data):\n",
    "    data = (data-min(data)) / (max(data) - min(data))\n",
    "    return data\n",
    "\n",
    "data['qsec'] = minmax(data['qsec'])\n",
    "print(data['qsec'].head(3))\n",
    "\n",
    "print(len(data[data['qsec']>0.5]))"
   ]
  },
  {
   "cell_type": "markdown",
   "id": "d5e53042",
   "metadata": {},
   "source": [
    "https://www.kaggle.com/code/stotmyst/tutorial-t1-2-python/edit\n",
    "\n",
    "## 문제1 \n",
    "데이터셋(basic1.csv)의 'f5' 컬럼을 기준으로 상위 10개의 데이터를 구하고,\n",
    "\n",
    "'f5'컬럼 10개 중 최소값으로 데이터를 대체한 후,\n",
    "\n",
    "'age'컬럼에서 80 이상인 데이터의'f5 컬럼 평균값 구하기"
   ]
  },
  {
   "cell_type": "markdown",
   "id": "eabec6d0",
   "metadata": {},
   "source": [
    "## 문제2\n",
    "데이터셋(basic1.csv)의 앞에서 순서대로 70% 데이터만 활용해서,\n",
    "\n",
    "'f1'컬럼 결측치를 중앙값으로 채우기 전후의 표준편차를 구하고\n",
    "\n",
    "두 표준편차 차이 계산하기"
   ]
  },
  {
   "cell_type": "code",
   "execution_count": null,
   "id": "30c489cc",
   "metadata": {},
   "outputs": [],
   "source": [
    "# 70% 데이터만 사용하기\n",
    "\n",
    "# 1) iloc\n",
    "df.shape\n",
    "df70 = df.iloc[:70]\n",
    "\n",
    "# 2) np.split\n",
    "import numpy as np\n",
    "df70 = np.split(df, [int(.7*len(df))])\n",
    "\n",
    "# 3) sample\n",
    "df70 = df.sample(frac = 0.7)\n",
    "df70 = df.drop(df70.index)\n",
    "df70"
   ]
  },
  {
   "cell_type": "markdown",
   "id": "626408f5",
   "metadata": {},
   "source": [
    "## 문제3\n",
    "\n",
    "데이터셋(basic1.csv)의 'age'컬럼의 이상치를 더하시오!\n",
    "\n",
    "단, 평균으로부터 '표준편차*1.5'를 벗어나는 영역을 이상치라고 판단함"
   ]
  },
  {
   "cell_type": "code",
   "execution_count": null,
   "id": "edf8ea4c",
   "metadata": {},
   "outputs": [],
   "source": [
    "# 이상치 age합\n",
    "df[(df['age']>max_out)|(df['age']<min_out)]['age'].sum()\n",
    "\n",
    "# 다르게 작성방법\n",
    "df.loc[(df['age'] > max)]['age'].sum() + df.loc[(df['age']< min)]['age'].sum()"
   ]
  },
  {
   "cell_type": "markdown",
   "id": "35646b90",
   "metadata": {},
   "source": [
    "## T1-1. 이상치를 찾아라\n",
    "\n",
    "https://www.kaggle.com/code/stotmyst/py-t1-1-iqr-expected-questions/edit\n",
    "\n",
    "데이터에서 IQR을 활용해 Fare컬럼의 이상치를 찾고, 이상치 데이터의 여성 수를 구하시오"
   ]
  },
  {
   "cell_type": "code",
   "execution_count": null,
   "id": "eb7ff09c",
   "metadata": {},
   "outputs": [],
   "source": [
    "# IQR 구하기\n",
    "\n",
    "# 1) describe\n",
    "q3 = df.Fare.describe()['75%']\n",
    "q1 = df.Fare.describe()['25%']\n",
    "\n",
    "# 2) quantile\n",
    "Q1 = df['Fare'].quantile(.25)\n",
    "Q3 = df['Fare'].quantile(.75)\n",
    "\n",
    "# 3) numpy 활용시\n",
    "Q1 = np.percentile(df['Fare'], 25)\n",
    "Q3 = np.percentile(df['Fare'], 75)\n"
   ]
  },
  {
   "cell_type": "code",
   "execution_count": null,
   "id": "2d2f530b",
   "metadata": {},
   "outputs": [],
   "source": [
    "# 이상치 데이터 구하기\n",
    "outlier = iqr*1.5\n",
    "df_outlier = df[(df.Fare < (q1 - outlier)) | (df.Fare > (q3 + outlier))]\n",
    "\n",
    "# 이상치 데이터에서 여성 수 구하기, 출력하기 print()\n",
    "df_outlier.Sex.unique()\n",
    "df_outlier[df_outlier.Sex == 'female'].shape[0]"
   ]
  },
  {
   "cell_type": "markdown",
   "id": "946c3404",
   "metadata": {},
   "source": [
    "## T1-2. 이상치찾기( 소수점 올림, 내림, 버림)\n",
    "https://www.kaggle.com/code/stotmyst/py-t1-2-expected-questions/edit\n",
    "\n",
    "주어진 데이터에서 이상치(소수점 나이)를 찾고 \n",
    "\n",
    "올림, 내림, 버림(절사)했을때 3가지 모두 이상치 'age' 평균을 구한 다음 모두 더하여 출력하시오"
   ]
  },
  {
   "cell_type": "code",
   "execution_count": null,
   "id": "92e4558d",
   "metadata": {},
   "outputs": [],
   "source": [
    "# 소수점 데이터 찾기\n",
    "import numpy as np\n",
    "\n",
    "df [ df.age - np.floor(df.age) != 0 ]"
   ]
  },
  {
   "cell_type": "code",
   "execution_count": null,
   "id": "3c9df9f4",
   "metadata": {},
   "outputs": [],
   "source": [
    "# 소수점 첫째자리에서 반올림\n",
    "np.round(df.age)  \n",
    "np.round(df.age, 0)\n",
    "\n",
    "# 반올림 후 십의자리까지만 표시\n",
    "np.round(df.age, -1) \n",
    "\n",
    "# df.age보다 크거나 같으면서 가장 작은 정수\n",
    "np.ceil(df.age)   \n",
    "\n",
    "# df.age보다 작거나 같으면서 가장 큰 정수\n",
    "np.floor(df.age)\n",
    "\n",
    "# 소수점 이하 버림\n",
    "np.trunc(df.agey)"
   ]
  },
  {
   "cell_type": "markdown",
   "id": "e11c7e51",
   "metadata": {},
   "source": [
    "## T1-3. 결측치처리(map) \n",
    "\n",
    "https://www.kaggle.com/code/agileteam/py-t1-3-map-expected-questions/notebook\n",
    "\n",
    "주어진 데이터에서 결측치가 80%이상 되는 컬럼은(변수는) 삭제하고, 80% 미만인 결측치가 있는 컬럼은 'city'별 중앙값으로 값을 대체하고 'f1'컬럼의 평균값을 출력하세요!"
   ]
  },
  {
   "cell_type": "code",
   "execution_count": null,
   "id": "2f332bfe",
   "metadata": {},
   "outputs": [],
   "source": [
    "# 80%이상 결측치 컬럼, 삭제\n",
    "df.drop(df.columns[(df.isnull().sum() / df.shape[0] >= 0.8)][0], axis = 1, inplace = True)\n",
    "\n",
    "# 결측치가 있는 컬럼을 제거하는 2가지 방법\n",
    "df.drop(['B', 'C'], axis=1, inplace = True)\n",
    "df.drop(columns=['B', 'C'], inplace = True)"
   ]
  },
  {
   "cell_type": "code",
   "execution_count": null,
   "id": "edf1584f",
   "metadata": {},
   "outputs": [],
   "source": [
    "# 1) map함수 사용방법1\n",
    "# city별 중앙값\n",
    "f1_med = df.groupby(['city']).median()[df.columns[(df.isnull().sum() / df.shape[0] != 0 )][0]]\n",
    "\n",
    "# dictionary 형태로 바꿔줌(map 함수 사용 위해)\n",
    "f1_med_dict = f1_med.to_dict()\n",
    "\n",
    "# f1 결측치를 city별 중앙값으로 대체\n",
    "df.f1 = df.f1.fillna(df.city.map(f1_med_dict))\n"
   ]
  },
  {
   "cell_type": "code",
   "execution_count": null,
   "id": "c7ec1a30",
   "metadata": {},
   "outputs": [],
   "source": [
    "# 2) map함수 사용방법2\n",
    "\n",
    "k, d, b, s = df.groupby('city')['f1'].median()\n",
    "df.f1.fillna(df['city'].map({'서울':s,'경기':k,'부산':b,'대구':d}))\n"
   ]
  },
  {
   "cell_type": "code",
   "execution_count": null,
   "id": "415c0f7e",
   "metadata": {},
   "outputs": [],
   "source": [
    "# 결측치 처리여부 확인\n",
    "df.f1.isnull().sum()"
   ]
  },
  {
   "cell_type": "markdown",
   "id": "59a8e977",
   "metadata": {},
   "source": [
    "## T1-4. 왜도와 첨도 구하기(로그스케일)\n",
    "\n",
    "https://www.kaggle.com/code/agileteam/py-t1-4-expected-questions/notebook\n",
    "\n",
    "주어진 데이터 중 train.csv에서 'SalePrice'컬럼의 왜도와 첨도를 구한 값과, 'SalePrice'컬럼을 스케일링(log1p)로 변환한 이후 왜도와 첨도를 구해 모두 더한 다음 소수점 2째자리까지 출력하시오\n",
    "\n",
    "#### 왜도\n",
    "- 음수: 확률밀도함수가 왼쪽으로 긴 꼬리, 오른쪽으로 많이 분포\n",
    "- 양수: 확률밀도함수가 오른쪽으로 긴 꼬리, 왼쪽으로 많이 분포\n",
    "- 평균값과 중앙값이 같으면 왜도=0\n",
    "\n",
    "#### 첨도\n",
    "- 꼬리가 두꺼운 정도\n",
    "- 극단적인 편차, 이상치가 많을수록 큰값\n",
    "- k ~ 3에 가까우면 산포보다 정규분포에 가까움\n",
    "- k < 3: 정규분포보다 꼬리가 얇은 분포\n",
    "- k > 3: 정규분포보다 꼬리가 두꺼운 분포"
   ]
  },
  {
   "cell_type": "code",
   "execution_count": null,
   "id": "0ca8136d",
   "metadata": {},
   "outputs": [],
   "source": [
    "# 'SalePrice'컬럼 왜도와 첨도계산 \n",
    "df.SalePrice.skew(), df.SalePrice.kurt()"
   ]
  },
  {
   "cell_type": "code",
   "execution_count": null,
   "id": "826582ba",
   "metadata": {},
   "outputs": [],
   "source": [
    "# 'SalePrice'컬럼 로그변환\n",
    "np.log(df.SalePrice)\n",
    "np.log1p(df.SalePrice)"
   ]
  },
  {
   "cell_type": "markdown",
   "id": "5b8aa9f0",
   "metadata": {},
   "source": [
    "### 로그변환의 이유\n",
    "- 로그함수\n",
    "<br> 0 < x < 1 범위 기울기 가파름. y는 (-무한대,0)  \n",
    "  x > 1 범위 기울기 작아짐. 넓은 범위의 x를 적은 y의 구간으로 모이게 함\n",
    "- 데이터를 모았을 때, 밀집되어 있는 부분은 퍼지게, 퍼진 부분은 모아지게 만들 수 있음\n",
    "<br> ① 클 수를 작게 만들 경우 (제곱단위 차이는 정수, 동일제곱수내 차이는 소숫점자리로 나타남)\n",
    "<br> ② 복잡한 계산을 간편하게 하려할 경우 (곱셈은 덧셈으로, 나누기는 뺄셈으로바뀜)\n",
    "<br> ③ 왜도, 첨도를 줄여 정규성을 높이기 위해\n",
    "<br>\n",
    "\n",
    "- 단위 SCALE의 문제: 측정 단위가 너무 크거나 작을 때, 상승률로 결과를 논할 때 해석에서 설득력을 가질 수 있음\n",
    "- 모델 MODEL의 문제: 선형식으로 추정하기 위해 (ex 중력모형, 콥더글라스함수)\n",
    "- 데이터생성과정 DGP(Data Generating Process): 어떤 변수들이 양싀 실수 내에서만 정의될 경우, 설명변수로 통제할 경우 원칙적으로 바로 OLS 추정을 하면 안 됨. 로그변환을 하면 정의역이 양수, 공역이 모든 실수이기 때문에, 제약식 없이 추정 가능\n",
    "<br>\n",
    "참고: https://challenge.tistory.com/46\n",
    "\n",
    "### np.log() 가 아닌 np.log1p()인 이유\n",
    "- x가 0의 값을 가지면, 로그변환시 무한대가 됨\n",
    "- x+1를 해줘서 무한대값이 출력되지 않도록 함: nplog1p()\n",
    "- 변환 전의 값이 너무 작으면 오류가 생길 수 있으므로, 직접 +1해주기보다 함수사용"
   ]
  },
  {
   "cell_type": "markdown",
   "id": "6e8363b0",
   "metadata": {},
   "source": [
    "## T1-5. 조건에 맞는 데이터 표준편차 구하기\n",
    "\n",
    "https://www.kaggle.com/code/agileteam/py-t1-5-expected-questions/notebook\n",
    "\n",
    "주어진 데이터 중 basic1.csv에서 'f4'컬럼 값이 'ENFJ'와 'INFP'인 'f1'의 표준편차 차이를 절대값으로 구하시오"
   ]
  },
  {
   "cell_type": "code",
   "execution_count": null,
   "id": "e8b1b935",
   "metadata": {},
   "outputs": [],
   "source": [
    "# 조건에 맞는 데이터 (ENFJ, INFP)\n",
    "enfj_std = df.loc[df.f4 == 'ENFJ', 'f1'].std()\n",
    "infp_std = df.loc[df.f4 == 'INFP', 'f1'].std()\n",
    "\n",
    "# 두 표준편차 차이 절대값 출력\n",
    "abs(enfj_std - infp_std)\n",
    "np.abs(enfj_std - infp_std)"
   ]
  },
  {
   "cell_type": "markdown",
   "id": "8ff9481c",
   "metadata": {},
   "source": [
    "## T1-6. 결측치 제거 및 그룹 합계\n",
    "\n",
    "https://www.kaggle.com/code/agileteam/py-t1-6-expected-questions/notebook\n",
    "\n",
    "주어진 데이터 중 basic1.csv에서 'f1'컬럼 결측 데이터를 제거하고, 'city'와 'f2'을 기준으로 묶어 합계를 구하고, 'city가 경기이면서 f2가 0'인 조건에 만족하는 f1 값을 구하시오"
   ]
  },
  {
   "cell_type": "code",
   "execution_count": null,
   "id": "5cc40d69",
   "metadata": {},
   "outputs": [],
   "source": [
    "# f1컬럼 결측치 제거\n",
    "df = df[~df.f1.isnull()]"
   ]
  },
  {
   "cell_type": "code",
   "execution_count": null,
   "id": "38632acf",
   "metadata": {},
   "outputs": [],
   "source": [
    "# 'city'와 'f2'을 기준으로 묶어 합계를 구하고, \n",
    "df_sum = df.groupby(['city','f2']).sum()\n",
    "\n",
    "# 'city가 경기이면서 f2가 0'인 조건에 만족하는 f1 값을 구하시오\n",
    "df_sum.iloc[0].f1 \n",
    "df[(df.city == '경기') & (df.f2 == 0)].f1\n",
    "\n",
    "# 슬라이싱 할 때: 튜플 형태로 할 것\n",
    "df_sum.loc[('경기',0)].f1"
   ]
  },
  {
   "cell_type": "markdown",
   "id": "1e769de2",
   "metadata": {},
   "source": [
    "## T1-7. 값 변경 및 2개이상 조건\n",
    "https://www.kaggle.com/code/agileteam/py-t1-7-2-expected-questions/notebook\n",
    "\n",
    "'f4'컬럼의 값이 'ESFJ'인 데이터를 'ISFJ'로 대체하고, 'city'가 '경기'이면서 'f4'가 'ISFJ'인 데이터 중 'age'컬럼의 최대값을 출력하시오\n"
   ]
  },
  {
   "cell_type": "code",
   "execution_count": null,
   "id": "43578a62",
   "metadata": {},
   "outputs": [],
   "source": [
    "# 값 변경하기\n",
    "df['f4'] = df['f4'].replace('ESFJ', 'ISFJ')\n",
    "df.f4.replace('ESFJ','ISFJ', inplace = True)"
   ]
  },
  {
   "cell_type": "markdown",
   "id": "ee562d6d",
   "metadata": {},
   "source": [
    "## T1-8. 누적합, 보간(결측치처리)\n",
    "\n",
    "https://www.kaggle.com/code/agileteam/py-t1-8-expected-questions/notebook\n",
    "\n",
    "주어진 데이터 셋에서 'f2' 컬럼이 1인 조건에 해당하는 데이터의 'f1'컬럼 누적합을 계산한다. 이때 발생하는 누적합 결측치는 바로 뒤의 값을 채우고, 누적합의 평균값을 출력한다. (단, 결측치 바로 뒤의 값이 없으면 다음에 나오는 값을 채워넣는다)\n"
   ]
  },
  {
   "cell_type": "code",
   "execution_count": null,
   "id": "d4c56e6d",
   "metadata": {},
   "outputs": [],
   "source": [
    "# 조건에 따른 누적합\n",
    "s = df[df['f2']==1]['f1'].cumsum()\n",
    "s"
   ]
  },
  {
   "cell_type": "code",
   "execution_count": null,
   "id": "7e7e0c18",
   "metadata": {},
   "outputs": [],
   "source": [
    "# 바로 뒤값으로 채워넣는 방법\n",
    "s.fillna(method = 'bfill') \n",
    "s.fillna(method = 'backfill')\n",
    "\n",
    "# 이전값으로 채워넣는 방법\n",
    "s.fillna(method = 'ffill')\n",
    "s.fillna(method = 'pad') "
   ]
  },
  {
   "cell_type": "markdown",
   "id": "fbce5eea",
   "metadata": {},
   "source": [
    "## T1-9. 수치형변수 표준화\n",
    "https://www.kaggle.com/code/agileteam/py-t1-9-expected-questions/notebook\n",
    "\n",
    "주어진 데이터에서 'f5'컬럼을 표준화(Standardization (Z-score Normalization))하고 그 중앙값을 구하시오"
   ]
  },
  {
   "cell_type": "markdown",
   "id": "fca6da6d",
   "metadata": {},
   "source": [
    "### Scaling\n",
    "\n",
    "#### 1. StandardScaler\n",
    "- 평균=0, 표준편차=1로 조정해서 모든 특성이 같은 크기를 갖게 한다.\n",
    "\n",
    "#### 2. MinMaxScaler\n",
    "- 최대값=1, 최소값=0으로 조정, 아웃라이어에 취약\n",
    "\n",
    "#### 3. RobustScaler\n",
    "- 중앙값=0, IQR(1분위~3분위값)=1로 조정, 아웃라이어 영향을 최소화하며 정규분포보다 더 넓게 분포\n",
    "\n",
    "#### 4. MaxAbsScaler\n",
    "- 0을 기준으로 절대값이 가장 큰 수가 1 또는 -1이 되도록 조정, 양수 데이터로만 구성된 데이터셋에서는 아웃라이어에 민감\n",
    "\n",
    "#### 아웃라이어 영향 최소화하기 위해서는 1,4 사용\n",
    "- sklearn에서 제공\n",
    "\n",
    "### fit_transform() 과 fit(), transform() 차이\n",
    "- fit()  데이터 학습\n",
    "- transform() 실제로 학습시킨 것을 적용\n",
    "<br>\n",
    "\n",
    "- fit_transform()  한번에 처리. 테스트데이터에서는 쓰면 안 됨\n",
    "    - ()안에는 dataframe만 들어가야 함\n",
    "<br>\n",
    "\n",
    "- test 데이터셋에서는: ss.transform(x_test)\n"
   ]
  },
  {
   "cell_type": "markdown",
   "id": "2e9309a4",
   "metadata": {},
   "source": [
    "## StandardScaler"
   ]
  },
  {
   "cell_type": "code",
   "execution_count": null,
   "id": "4617a5cc",
   "metadata": {},
   "outputs": [],
   "source": [
    "from sklearn.preprocessing import StandardScaler\n",
    "scaler = StandardScaler()\n",
    "\n",
    "# 1) fit 후 transform\n",
    "scaler.fit(data)\n",
    "scaler.transform(data)\n",
    "\n",
    "# 2) fit과 transform 한꺼번에 진행\n",
    "scaler.fit_transform(data)"
   ]
  },
  {
   "cell_type": "markdown",
   "id": "fa01f630",
   "metadata": {},
   "source": [
    "## T-10. 수치형변수 변환, 박스-칼스변환 (출제빈도 낮음)\n",
    "https://www.kaggle.com/code/agileteam/py-t1-10-expected-questions/notebook\n",
    "\n",
    "주어진 데이터에서 20세 이상인 데이터를 추출하고 'f1'컬럼을 결측치를 최빈값으로 채운 후, f1 컬럼의 여-존슨과 박스콕스 변환 값을 구하고, 두 값의 차이를 절대값으로 구한다음 모두 더해 소수점 둘째 자리까지 출력(반올림)하시오"
   ]
  },
  {
   "cell_type": "code",
   "execution_count": null,
   "id": "77a1b536",
   "metadata": {},
   "outputs": [],
   "source": [
    "# 조건에 맞는 데이터\n",
    "df_new = df[df.age>=20]\n",
    "df_new.f1.mode().values[0]\n",
    "\n",
    "# 최빈값으로 'f1' 컬럼 결측치 대체\n",
    "df.f1.fillna(df_new.f1.mode().values[0], inplace = True)\n",
    "\n",
    "# 'f1'데이터 여-존슨 yeo-johnson 값 구하기 2)\n",
    "df['f1_yeo2'] = power_transform(df[['f1']],standardize=False) # method 디폴트 값은 여-존슨’yeo-johnson’\n",
    "df['f1_yeo2'].head()\n",
    "\n",
    "# 'f1'데이터 박스-콕스 box-cox 값 구하기 2) \n",
    "df['f1_box2'] = power_transform(df[['f1']], method='box-cox',standardize=False)\n",
    "df['f1_box2'].head()\n",
    "\n",
    "# 두 값의 차이를 절대값으로 구한다음 모두 더해 소수점 둘째 자리까지 출력(반올림)\n",
    "abs (df.f1_yeo2 - df.f1_box2 ).sum().round(2)"
   ]
  },
  {
   "cell_type": "markdown",
   "id": "eb85781a",
   "metadata": {},
   "source": [
    "### abs vs np.abs\n",
    "- np.abs도 내장 함수와 같은 원리로 정수, 실수 및 복소수에 대한 절댓값 연산이 진행되지만, 리스트 혹은 배열 등의 자료에서 내부의 각 원소들에 대하여 통째로 절대값을 취한 결과를 반환받는 것이 가능\n"
   ]
  },
  {
   "cell_type": "code",
   "execution_count": 7,
   "id": "6146888e",
   "metadata": {},
   "outputs": [
    {
     "data": {
      "text/plain": [
       "array([1, 2, 3, 4, 5])"
      ]
     },
     "execution_count": 7,
     "metadata": {},
     "output_type": "execute_result"
    }
   ],
   "source": [
    "import numpy as np\n",
    "arr = np.array([-1, 2, -3, 4, -5])\n",
    "np.abs(arr)"
   ]
  },
  {
   "cell_type": "code",
   "execution_count": 8,
   "id": "a6138851",
   "metadata": {},
   "outputs": [
    {
     "data": {
      "text/plain": [
       "array([1, 2, 3, 4, 5])"
      ]
     },
     "execution_count": 8,
     "metadata": {},
     "output_type": "execute_result"
    }
   ],
   "source": [
    "abs(arr)"
   ]
  },
  {
   "cell_type": "code",
   "execution_count": 9,
   "id": "88714f16",
   "metadata": {},
   "outputs": [
    {
     "data": {
      "text/plain": [
       "array([[1, 2, 3, 4],\n",
       "       [5, 6, 7, 8]])"
      ]
     },
     "execution_count": 9,
     "metadata": {},
     "output_type": "execute_result"
    }
   ],
   "source": [
    "data2 = [[1, 2, 3, 4], [5, 6, 7, 8]]\n",
    "np.abs(data2)"
   ]
  },
  {
   "cell_type": "code",
   "execution_count": 10,
   "id": "ed8c145e",
   "metadata": {},
   "outputs": [
    {
     "ename": "TypeError",
     "evalue": "bad operand type for abs(): 'list'",
     "output_type": "error",
     "traceback": [
      "\u001b[1;31m---------------------------------------------------------------------------\u001b[0m",
      "\u001b[1;31mTypeError\u001b[0m                                 Traceback (most recent call last)",
      "Input \u001b[1;32mIn [10]\u001b[0m, in \u001b[0;36m<cell line: 1>\u001b[1;34m()\u001b[0m\n\u001b[1;32m----> 1\u001b[0m \u001b[38;5;28;43mabs\u001b[39;49m\u001b[43m(\u001b[49m\u001b[43mdata2\u001b[49m\u001b[43m)\u001b[49m\n",
      "\u001b[1;31mTypeError\u001b[0m: bad operand type for abs(): 'list'"
     ]
    }
   ],
   "source": [
    "abs(data2)"
   ]
  },
  {
   "cell_type": "markdown",
   "id": "799a6be5",
   "metadata": {},
   "source": [
    "## T1-11. min-max 기준 상하위 5%값 Expected Questions"
   ]
  },
  {
   "cell_type": "markdown",
   "id": "aea6afdf",
   "metadata": {},
   "source": [
    "## MinMaxScaler"
   ]
  },
  {
   "cell_type": "code",
   "execution_count": null,
   "id": "57a6045d",
   "metadata": {},
   "outputs": [],
   "source": [
    "# 방법1)\n",
    "from sklearn.preprocessing import MinMaxScaler\n",
    "scaler = MinMaxScaler()\n",
    "df['f5_1'] = scaler.fit_transform(df[['f5']])\n",
    "\n",
    "# 방법2)\n",
    "df['f5_2'] = df['f5'].transform(lambda x: ((x - x.min()) / (x.max() - x.min())))\n"
   ]
  },
  {
   "cell_type": "code",
   "execution_count": null,
   "id": "cc1944a2",
   "metadata": {},
   "outputs": [],
   "source": [
    "# 하위 5%, 상위 5% 값 구하기\n",
    "df['f5_1'].quantile(0.05)\n",
    "df['f5_1'].quantile(0.95)\n"
   ]
  },
  {
   "cell_type": "markdown",
   "id": "da46f9e4",
   "metadata": {},
   "source": [
    "## T1-12. 상위 10개, 하위 10개 차이 Expected Questions\n",
    "\n",
    "주어진 데이터에서 상위 10개 국가의 접종률 평균과 하위 10개 국가의 접종률 평균을 구하고, 그 차이를 구해보세요 \n",
    "(단, 100%가 넘는 접종률 제거, 소수 첫째자리까지 출력)\n"
   ]
  },
  {
   "cell_type": "code",
   "execution_count": null,
   "id": "61f2e8ae",
   "metadata": {},
   "outputs": [],
   "source": [
    "df_srt = df.groupby('country').max().ratio\n",
    "df_srt = df_srt[df_srt < 100].sort_values()\n",
    "bot = df_srt.head(10).mean()\n",
    "top = df_srt.tail(10).mean()\n",
    "round(top - bot , 1)"
   ]
  },
  {
   "cell_type": "code",
   "execution_count": null,
   "id": "d8f468ae",
   "metadata": {},
   "outputs": [],
   "source": []
  }
 ],
 "metadata": {
  "kernelspec": {
   "display_name": "Python 3 (ipykernel)",
   "language": "python",
   "name": "python3"
  },
  "language_info": {
   "codemirror_mode": {
    "name": "ipython",
    "version": 3
   },
   "file_extension": ".py",
   "mimetype": "text/x-python",
   "name": "python",
   "nbconvert_exporter": "python",
   "pygments_lexer": "ipython3",
   "version": "3.10.4"
  }
 },
 "nbformat": 4,
 "nbformat_minor": 5
}
