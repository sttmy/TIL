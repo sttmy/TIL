{
 "cells": [
  {
   "cell_type": "markdown",
   "metadata": {},
   "source": [
    "caffemodel 다운로드 \n",
    "\n",
    "URL : https://github.com/habom2310/People-tracking-with-Age-and-Gender-detection"
   ]
  },
  {
   "cell_type": "code",
   "execution_count": 1,
   "metadata": {},
   "outputs": [
    {
     "ename": "ModuleNotFoundError",
     "evalue": "No module named 'dlib'",
     "output_type": "error",
     "traceback": [
      "\u001b[1;31m---------------------------------------------------------------------------\u001b[0m",
      "\u001b[1;31mModuleNotFoundError\u001b[0m                       Traceback (most recent call last)",
      "\u001b[1;32mc:\\workspace\\230914 ML_12CNN_Caffe모델.ipynb Cell 2\u001b[0m line \u001b[0;36m2\n\u001b[0;32m      <a href='vscode-notebook-cell:/c%3A/workspace/230914%20ML_12CNN_Caffe%EB%AA%A8%EB%8D%B8.ipynb#W1sZmlsZQ%3D%3D?line=0'>1</a>\u001b[0m \u001b[39mimport\u001b[39;00m \u001b[39mglob\u001b[39;00m\n\u001b[1;32m----> <a href='vscode-notebook-cell:/c%3A/workspace/230914%20ML_12CNN_Caffe%EB%AA%A8%EB%8D%B8.ipynb#W1sZmlsZQ%3D%3D?line=1'>2</a>\u001b[0m \u001b[39mimport\u001b[39;00m \u001b[39mdlib\u001b[39;00m\n\u001b[0;32m      <a href='vscode-notebook-cell:/c%3A/workspace/230914%20ML_12CNN_Caffe%EB%AA%A8%EB%8D%B8.ipynb#W1sZmlsZQ%3D%3D?line=2'>3</a>\u001b[0m \u001b[39mimport\u001b[39;00m \u001b[39mcv2\u001b[39;00m\n\u001b[0;32m      <a href='vscode-notebook-cell:/c%3A/workspace/230914%20ML_12CNN_Caffe%EB%AA%A8%EB%8D%B8.ipynb#W1sZmlsZQ%3D%3D?line=4'>5</a>\u001b[0m age_list \u001b[39m=\u001b[39m [\u001b[39m'\u001b[39m\u001b[39m(0-2)\u001b[39m\u001b[39m'\u001b[39m, \u001b[39m'\u001b[39m\u001b[39m(4-6)\u001b[39m\u001b[39m'\u001b[39m, \u001b[39m'\u001b[39m\u001b[39m(8-12)\u001b[39m\u001b[39m'\u001b[39m, \u001b[39m'\u001b[39m\u001b[39m(15-20)\u001b[39m\u001b[39m'\u001b[39m, \u001b[39m'\u001b[39m\u001b[39m(25-32)\u001b[39m\u001b[39m'\u001b[39m, \u001b[39m'\u001b[39m\u001b[39m(38-43)\u001b[39m\u001b[39m'\u001b[39m, \u001b[39m'\u001b[39m\u001b[39m(48-53)\u001b[39m\u001b[39m'\u001b[39m, \u001b[39m'\u001b[39m\u001b[39m(60-100)\u001b[39m\u001b[39m'\u001b[39m]  \u001b[39m# 나이 분류 구간 정의\u001b[39;00m\n",
      "\u001b[1;31mModuleNotFoundError\u001b[0m: No module named 'dlib'"
     ]
    }
   ],
   "source": [
    "import glob\n",
    "import dlib\n",
    "import cv2\n",
    "\n",
    "age_list = ['(0-2)', '(4-6)', '(8-12)', '(15-20)', '(25-32)', '(38-43)', '(48-53)', '(60-100)']  # 나이 분류 구간 정의\n",
    "gender_list = ['Male','Female']  # 성별 구분 정의\n",
    "\n",
    "# 얼굴을 감지하는 detector\n",
    "detector = dlib.get_frontal_face_detector()      \n",
    "\n",
    "# 나이를 감지하는 detector\n",
    "age_detector = cv2.dnn.readNetFromCaffe(          \n",
    "               'Data/caffe/deploy_age.prototxt',\n",
    "               'Data/caffe/age_net.caffemodel')\n",
    "\n",
    "# 성별을 감지하는 detector        \n",
    "gender_detector = cv2.dnn.readNetFromCaffe(      \n",
    "               'Data/caffe/deploy_gender.prototxt',\n",
    "               'Data/caffe/gender_net.caffemodel')\n",
    "\n",
    "img_list = glob.glob('Data/caffe/age_gender/*.jpg')  \n",
    "len(img_list)\n",
    "\n"
   ]
  },
  {
   "cell_type": "code",
   "execution_count": null,
   "metadata": {},
   "outputs": [],
   "source": [
    "import matplotlib.pyplot as plt\n",
    "import numpy as np\n",
    "for img_path in img_list:\n",
    "  image = cv2.imread(img_path)  \n",
    "  gray = cv2.cvtColor(image, cv2.COLOR_BGR2GRAY)\n",
    "  faces = detector(gray, 1)  # detector 에 의해 얼굴 감지\n",
    "  print(\"Number of faces detected: {}\".format(len(faces)))\n",
    "  for face in faces:\n",
    "    # boxing 좌표\n",
    "    x1, y1, x2, y2 = face.left(), face.top(), face.right(), face.bottom()  \n",
    "    # 이미지에서 얼굴 영역만 copy\n",
    "    face_img = image[y1:y2, x1:x2].copy()  \n",
    "    blob = cv2.dnn.blobFromImage(face_img, scalefactor=1, size=(227, 227),\n",
    "           mean=(78.4263377603, 87.7689143744, 114.895847746), swapRB=False, crop=False)\n",
    "    # predict age\n",
    "    age_detector.setInput(blob)\n",
    "    age_preds = age_detector.forward()\n",
    "    age = age_list[age_preds[0].argmax()]\n",
    "    # predict gender\n",
    "    gender_detector.setInput(blob)\n",
    "    gender_preds = gender_detector.forward()\n",
    "    gender = gender_list[gender_preds[0].argmax()]\n",
    "    cv2.rectangle(image, (x1, y1), (x2, y2), (255,255,255), 2)\n",
    "    overlay_text = '%s %s' % (gender, age)\n",
    "    cv2.putText(image, overlay_text, org=(x1, y1), fontFace=cv2.FONT_HERSHEY_SIMPLEX,\n",
    "                fontScale=1, color=(0,0,0), thickness=10)\n",
    "    cv2.putText(image, overlay_text, org=(x1, y1),\n",
    "                fontFace=cv2.FONT_HERSHEY_SIMPLEX, fontScale=1, color=(255,255,255), thickness=2)\n",
    "  image=cv2.cvtColor(np.array(image), cv2.COLOR_BGR2RGB)\n",
    "  plt.figure()\n",
    "  plt.imshow(image)\n",
    "  plt.show()  \n",
    "\n"
   ]
  }
 ],
 "metadata": {
  "kernelspec": {
   "display_name": "Python 3",
   "language": "python",
   "name": "python3"
  },
  "language_info": {
   "codemirror_mode": {
    "name": "ipython",
    "version": 3
   },
   "file_extension": ".py",
   "mimetype": "text/x-python",
   "name": "python",
   "nbconvert_exporter": "python",
   "pygments_lexer": "ipython3",
   "version": "3.9.13"
  },
  "orig_nbformat": 4
 },
 "nbformat": 4,
 "nbformat_minor": 2
}
