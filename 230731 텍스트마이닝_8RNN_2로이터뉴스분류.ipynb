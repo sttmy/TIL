{
 "cells": [
  {
   "cell_type": "markdown",
   "metadata": {},
   "source": [
    "### 로이터 뉴스 분류\n",
    "- 뉴스 기사 분류: 다중 분류 문제\n",
    "- 로이터 뉴스를 46개의 토픽으로 분류하는 신경망(다중분류)\n",
    "- 1986년에 로이터에서 공개한 짧은 뉴스 기사와 토픽의 집합인 데이터셋(케라스 내장 데이터셋)\n",
    "- 텍스트 분류를 위해 널리 사용되는 간단한 데이터셋\n",
    "- 46개의 토픽, 각 토픽은 최소 10개의 샘플이 있음"
   ]
  },
  {
   "cell_type": "code",
   "execution_count": 1,
   "metadata": {},
   "outputs": [],
   "source": [
    "import numpy as np\n",
    "from keras.datasets import imdb\n",
    "from tensorflow.keras.preprocessing import sequence\n",
    "from keras.datasets import reuters\n",
    "\n",
    "# 로이터 뉴스 데이터 로딩\n",
    "# num_words 사용할 상위 단어수, maxlen  상위 1000개 단어\n",
    "\n",
    "(x_train, y_train), (x_test, y_test) = reuters.load_data(num_words=1000, test_split=0.2)"
   ]
  },
  {
   "cell_type": "code",
   "execution_count": 2,
   "metadata": {},
   "outputs": [
    {
     "data": {
      "text/plain": [
       "array([list([1, 2, 2, 8, 43, 10, 447, 5, 25, 207, 270, 5, 2, 111, 16, 369, 186, 90, 67, 7, 89, 5, 19, 102, 6, 19, 124, 15, 90, 67, 84, 22, 482, 26, 7, 48, 4, 49, 8, 864, 39, 209, 154, 6, 151, 6, 83, 11, 15, 22, 155, 11, 15, 7, 48, 9, 2, 2, 504, 6, 258, 6, 272, 11, 15, 22, 134, 44, 11, 15, 16, 8, 197, 2, 90, 67, 52, 29, 209, 30, 32, 132, 6, 109, 15, 17, 12]),\n",
       "       list([1, 2, 699, 2, 2, 56, 2, 2, 9, 56, 2, 2, 81, 5, 2, 57, 366, 737, 132, 20, 2, 7, 2, 49, 2, 2, 2, 2, 699, 2, 8, 7, 10, 241, 16, 855, 129, 231, 783, 5, 4, 587, 2, 2, 2, 775, 7, 48, 34, 191, 44, 35, 2, 505, 17, 12]),\n",
       "       list([1, 53, 12, 284, 15, 14, 272, 26, 53, 959, 32, 818, 15, 14, 272, 26, 39, 684, 70, 11, 14, 12, 2, 18, 180, 183, 187, 70, 11, 14, 102, 32, 11, 29, 53, 44, 704, 15, 14, 19, 758, 15, 53, 959, 47, 2, 15, 14, 19, 132, 15, 39, 965, 32, 11, 14, 147, 72, 11, 180, 183, 187, 44, 11, 14, 102, 19, 11, 123, 186, 90, 67, 960, 4, 78, 13, 68, 467, 511, 110, 59, 89, 90, 67, 2, 55, 2, 92, 617, 80, 2, 46, 905, 220, 13, 4, 346, 48, 235, 629, 5, 211, 5, 2, 7, 2, 81, 5, 187, 11, 15, 9, 2, 201, 5, 47, 2, 18, 478, 2, 5, 2, 7, 232, 2, 71, 5, 160, 63, 11, 9, 2, 81, 5, 102, 59, 11, 17, 12]),\n",
       "       ...,\n",
       "       list([1, 141, 2, 387, 81, 8, 16, 2, 10, 340, 2, 850, 31, 56, 2, 691, 9, 2, 71, 9, 2, 2, 2, 699, 2, 2, 2, 699, 244, 2, 4, 49, 8, 4, 656, 850, 33, 2, 9, 2, 340, 2, 2, 9, 2, 22, 2, 2, 687, 83, 35, 15, 257, 6, 57, 2, 7, 4, 2, 654, 5, 2, 2, 2, 4, 49, 8, 16, 369, 646, 6, 2, 7, 124, 407, 17, 12]),\n",
       "       list([1, 53, 46, 957, 26, 14, 74, 132, 26, 39, 46, 258, 2, 18, 14, 74, 134, 2, 18, 88, 2, 72, 11, 14, 2, 32, 11, 123, 383, 89, 39, 46, 235, 10, 864, 728, 5, 258, 44, 11, 15, 22, 753, 9, 42, 92, 131, 728, 5, 69, 312, 11, 15, 22, 222, 2, 2, 383, 48, 39, 74, 235, 10, 864, 276, 5, 61, 32, 11, 15, 21, 4, 211, 5, 126, 2, 42, 92, 131, 46, 19, 352, 11, 15, 22, 710, 220, 9, 42, 92, 131, 276, 5, 59, 61, 11, 15, 22, 10, 455, 7, 2, 137, 336, 2, 6, 2, 142, 971, 2, 43, 359, 5, 4, 326, 753, 364, 17, 12]),\n",
       "       list([1, 227, 2, 91, 2, 125, 2, 21, 4, 2, 76, 7, 4, 757, 481, 2, 790, 2, 2, 9, 111, 149, 8, 7, 10, 76, 223, 51, 4, 417, 8, 2, 91, 2, 2, 340, 7, 194, 2, 6, 2, 21, 127, 2, 2, 2, 6, 2, 4, 329, 433, 7, 65, 87, 2, 10, 2, 2, 290, 9, 21, 567, 16, 2, 24, 4, 76, 209, 30, 2, 2, 2, 8, 4, 60, 8, 4, 966, 308, 40, 2, 129, 2, 295, 277, 2, 9, 24, 286, 2, 234, 222, 9, 4, 906, 2, 2, 114, 2, 2, 7, 4, 113, 17, 12])],\n",
       "      dtype=object)"
      ]
     },
     "execution_count": 2,
     "metadata": {},
     "output_type": "execute_result"
    }
   ],
   "source": [
    "x_train"
   ]
  },
  {
   "cell_type": "code",
   "execution_count": 3,
   "metadata": {},
   "outputs": [
    {
     "data": {
      "text/plain": [
       "array([ 3,  4,  3, ..., 25,  3, 25], dtype=int64)"
      ]
     },
     "execution_count": 3,
     "metadata": {},
     "output_type": "execute_result"
    }
   ],
   "source": [
    "y_train"
   ]
  },
  {
   "cell_type": "code",
   "execution_count": 4,
   "metadata": {},
   "outputs": [
    {
     "data": {
      "text/plain": [
       "46"
      ]
     },
     "execution_count": 4,
     "metadata": {},
     "output_type": "execute_result"
    }
   ],
   "source": [
    "len(set(y_train))"
   ]
  },
  {
   "cell_type": "code",
   "execution_count": 5,
   "metadata": {},
   "outputs": [],
   "source": [
    "from tensorflow.keras.preprocessing import sequence\n",
    "x_train = sequence.pad_sequences(x_train, maxlen=50)\n",
    "x_test = sequence.pad_sequences(x_test, maxlen=50)"
   ]
  },
  {
   "cell_type": "code",
   "execution_count": 13,
   "metadata": {},
   "outputs": [
    {
     "data": {
      "text/plain": [
       "array([[ 49,   8, 864,  39, 209, 154,   6, 151,   6,  83,  11,  15,  22,\n",
       "        155,  11,  15,   7,  48,   9,   2,   2, 504,   6, 258,   6, 272,\n",
       "         11,  15,  22, 134,  44,  11,  15,  16,   8, 197,   2,  90,  67,\n",
       "         52,  29, 209,  30,  32, 132,   6, 109,  15,  17,  12],\n",
       "       [  2,   2,   9,  56,   2,   2,  81,   5,   2,  57, 366, 737, 132,\n",
       "         20,   2,   7,   2,  49,   2,   2,   2,   2, 699,   2,   8,   7,\n",
       "         10, 241,  16, 855, 129, 231, 783,   5,   4, 587,   2,   2,   2,\n",
       "        775,   7,  48,  34, 191,  44,  35,   2, 505,  17,  12],\n",
       "       [ 80,   2,  46, 905, 220,  13,   4, 346,  48, 235, 629,   5, 211,\n",
       "          5,   2,   7,   2,  81,   5, 187,  11,  15,   9,   2, 201,   5,\n",
       "         47,   2,  18, 478,   2,   5,   2,   7, 232,   2,  71,   5, 160,\n",
       "         63,  11,   9,   2,  81,   5, 102,  59,  11,  17,  12],\n",
       "       [ 10,   2,   6,   2,  25, 482,  35, 150, 377,   2,   7,  10,   2,\n",
       "        836,   2,   2,   2,   5,   2,   2,   2,   2,   8,   4, 344, 291,\n",
       "          2, 298,   2,   6,   2,  24,   2,  41, 343, 430, 210,   6,   2,\n",
       "        297,  64,  10,   2, 455,   5,   2, 125, 222,  17,  12],\n",
       "       [  5, 645, 362,   6,   2,   4,  49,   8,   2, 976, 124,  20,   5,\n",
       "          2,  80,   9, 100, 362, 543, 395,  61,  44,  20,   2,   8,  16,\n",
       "         40,   2,  42,   2, 166, 415,   6, 888,   4, 116,   9,  40,   2,\n",
       "          4, 303, 163,  16,  64, 772,  13,  94, 156,  17,  12]])"
      ]
     },
     "execution_count": 13,
     "metadata": {},
     "output_type": "execute_result"
    }
   ],
   "source": [
    "x_train[:5]"
   ]
  },
  {
   "cell_type": "code",
   "execution_count": 6,
   "metadata": {},
   "outputs": [],
   "source": [
    "from tensorflow.python.keras.utils import np_utils\n",
    "\n",
    "# 원핫인코딩\n",
    "y_train = np_utils.to_categorical(y_train)\n",
    "y_test = np_utils.to_categorical(y_test)"
   ]
  },
  {
   "cell_type": "code",
   "execution_count": 7,
   "metadata": {},
   "outputs": [
    {
     "data": {
      "text/plain": [
       "array([[0., 0., 0., ..., 0., 0., 0.],\n",
       "       [0., 0., 0., ..., 0., 0., 0.],\n",
       "       [0., 0., 0., ..., 0., 0., 0.],\n",
       "       ...,\n",
       "       [0., 0., 0., ..., 0., 0., 0.],\n",
       "       [0., 0., 0., ..., 0., 0., 0.],\n",
       "       [0., 0., 0., ..., 0., 0., 0.]], dtype=float32)"
      ]
     },
     "execution_count": 7,
     "metadata": {},
     "output_type": "execute_result"
    }
   ],
   "source": [
    "y_train"
   ]
  },
  {
   "cell_type": "code",
   "execution_count": 10,
   "metadata": {},
   "outputs": [
    {
     "name": "stdout",
     "output_type": "stream",
     "text": [
      "Model: \"sequential_1\"\n",
      "_________________________________________________________________\n",
      " Layer (type)                Output Shape              Param #   \n",
      "=================================================================\n",
      " embedding_1 (Embedding)     (None, None, 100)         100000    \n",
      "                                                                 \n",
      " lstm_1 (LSTM)               (None, 100)               80400     \n",
      "                                                                 \n",
      " dense_1 (Dense)             (None, 46)                4646      \n",
      "                                                                 \n",
      "=================================================================\n",
      "Total params: 185046 (722.84 KB)\n",
      "Trainable params: 185046 (722.84 KB)\n",
      "Non-trainable params: 0 (0.00 Byte)\n",
      "_________________________________________________________________\n"
     ]
    }
   ],
   "source": [
    "from keras.models import Sequential\n",
    "from keras.layers import Dense, LSTM, Embedding\n",
    "\n",
    "# create the model\n",
    "model = Sequential()\n",
    "model.add(Embedding(1000, 100))  \n",
    "    # 불러온 1000개의 단어가 입력되어 100차원(100개의 숫자)으로 출력\n",
    "    # input_length=maxlen (50)으로 자동으로 잡힘\n",
    "    # 임베딩 레이어 Embedding(단어의개수, 벡터크기, 입력사이즈(최대단어개수))\n",
    "model.add(LSTM(100))  # long short_Term memory  문장을 단어들의 시퀀스로 간주하고 순환레이어의 입력으로 사용\n",
    "model.add(Dense(46, activation='softmax'))\n",
    "model.compile(loss='categorical_crossentropy', optimizer='adam', metrics =['accuracy'])\n",
    "model.summary()"
   ]
  },
  {
   "cell_type": "code",
   "execution_count": 11,
   "metadata": {},
   "outputs": [
    {
     "name": "stdout",
     "output_type": "stream",
     "text": [
      "Epoch 1/100\n",
      "57/57 [==============================] - 5s 58ms/step - loss: 2.7162 - accuracy: 0.3452 - val_loss: 2.4093 - val_accuracy: 0.3450\n",
      "Epoch 2/100\n",
      "57/57 [==============================] - 3s 50ms/step - loss: 2.3570 - accuracy: 0.3702 - val_loss: 2.2517 - val_accuracy: 0.3962\n",
      "Epoch 3/100\n",
      "57/57 [==============================] - 3s 52ms/step - loss: 2.0685 - accuracy: 0.4781 - val_loss: 1.9982 - val_accuracy: 0.4964\n",
      "Epoch 4/100\n",
      "57/57 [==============================] - 3s 51ms/step - loss: 1.9061 - accuracy: 0.5201 - val_loss: 1.8037 - val_accuracy: 0.5320\n",
      "Epoch 5/100\n",
      "57/57 [==============================] - 3s 48ms/step - loss: 1.7306 - accuracy: 0.5489 - val_loss: 1.7079 - val_accuracy: 0.5526\n",
      "Epoch 6/100\n",
      "57/57 [==============================] - 3s 48ms/step - loss: 1.6807 - accuracy: 0.5670 - val_loss: 1.6915 - val_accuracy: 0.5632\n",
      "Epoch 7/100\n",
      "57/57 [==============================] - 3s 50ms/step - loss: 1.6030 - accuracy: 0.5915 - val_loss: 1.6273 - val_accuracy: 0.5888\n",
      "Epoch 8/100\n",
      "57/57 [==============================] - 3s 49ms/step - loss: 1.4892 - accuracy: 0.6173 - val_loss: 1.5412 - val_accuracy: 0.6160\n",
      "Epoch 9/100\n",
      "57/57 [==============================] - 3s 50ms/step - loss: 1.3978 - accuracy: 0.6452 - val_loss: 1.5430 - val_accuracy: 0.6233\n",
      "Epoch 10/100\n",
      "57/57 [==============================] - 3s 47ms/step - loss: 1.3295 - accuracy: 0.6608 - val_loss: 1.5065 - val_accuracy: 0.6255\n",
      "Epoch 11/100\n",
      "57/57 [==============================] - 3s 49ms/step - loss: 1.2713 - accuracy: 0.6747 - val_loss: 1.4572 - val_accuracy: 0.6322\n",
      "Epoch 12/100\n",
      "57/57 [==============================] - 3s 50ms/step - loss: 1.2148 - accuracy: 0.6881 - val_loss: 1.4809 - val_accuracy: 0.6422\n",
      "Epoch 13/100\n",
      "57/57 [==============================] - 3s 48ms/step - loss: 1.1679 - accuracy: 0.7009 - val_loss: 1.4469 - val_accuracy: 0.6416\n",
      "Epoch 14/100\n",
      "57/57 [==============================] - 3s 47ms/step - loss: 1.1040 - accuracy: 0.7193 - val_loss: 1.4222 - val_accuracy: 0.6489\n",
      "Epoch 15/100\n",
      "57/57 [==============================] - 3s 48ms/step - loss: 1.0605 - accuracy: 0.7272 - val_loss: 1.4551 - val_accuracy: 0.6466\n",
      "Epoch 16/100\n",
      "57/57 [==============================] - 3s 50ms/step - loss: 1.0125 - accuracy: 0.7434 - val_loss: 1.4513 - val_accuracy: 0.6416\n",
      "Epoch 17/100\n",
      "57/57 [==============================] - 3s 49ms/step - loss: 0.9853 - accuracy: 0.7489 - val_loss: 1.4786 - val_accuracy: 0.6411\n",
      "281/281 [==============================] - 2s 7ms/step - loss: 1.0488 - accuracy: 0.7371\n",
      "Train Set Accuracy: 73.7141\n",
      "71/71 [==============================] - 0s 7ms/step - loss: 1.4781 - accuracy: 0.6345\n",
      "Test Set Accuracy: 63.4461\n"
     ]
    }
   ],
   "source": [
    "from keras.callbacks import EarlyStopping\n",
    "early_stopping = EarlyStopping(patience=3)\n",
    "\n",
    "hist = model.fit(x_train, y_train, epochs=100, batch_size=128, validation_split=0.2, callbacks=[early_stopping])\n",
    "\n",
    "# final evaluation of the model\n",
    "scores_tr = model.evaluate(x_train, y_train, verbose=1)\n",
    "print('Train Set Accuracy: %.4f'% (scores_tr[1]*100))\n",
    "\n",
    "scores_ts = model.evaluate(x_test, y_test, verbose=1)\n",
    "print('Test Set Accuracy: %.4f'% (scores_ts[1]*100))"
   ]
  },
  {
   "cell_type": "code",
   "execution_count": 12,
   "metadata": {},
   "outputs": [
    {
     "data": {
      "image/png": "[encoded data removed]",
      "text/plain": [
       "<Figure size 800x500 with 1 Axes>"
      ]
     },
     "metadata": {},
     "output_type": "display_data"
    }
   ],
   "source": [
    "# 모델 학습 과정 표시\n",
    "\n",
    "import matplotlib.pyplot as plt\n",
    "plt.figure(figsize=(8,5))\n",
    "plt.plot(hist.history['loss']) #손실\n",
    "plt.plot(hist.history['val_loss'])\n",
    "plt.plot(hist.history['accuracy'])\n",
    "plt.plot(hist.history['val_accuracy'])\n",
    "plt.legend(['loss','val_loss','accuracy','val_accuracy'])\n",
    "plt.grid()\n",
    "plt.show()"
   ]
  },
  {
   "cell_type": "code",
   "execution_count": 14,
   "metadata": {},
   "outputs": [
    {
     "name": "stdout",
     "output_type": "stream",
     "text": [
      "71/71 [==============================] - 1s 7ms/step\n"
     ]
    },
    {
     "data": {
      "text/plain": [
       "1"
      ]
     },
     "execution_count": 14,
     "metadata": {},
     "output_type": "execute_result"
    }
   ],
   "source": [
    "import numpy as np\n",
    "pred=model.predict(x_test)\n",
    "np.argmax(pred[12])"
   ]
  },
  {
   "cell_type": "code",
   "execution_count": 16,
   "metadata": {},
   "outputs": [
    {
     "data": {
      "text/plain": [
       "array([[7.4141845e-04, 1.8923668e-02, 5.3279113e-04, ..., 1.0623600e-04,\n",
       "        5.6317764e-05, 3.5863701e-04],\n",
       "       [1.0488603e-02, 4.8614347e-01, 2.3202453e-02, ..., 1.3778405e-03,\n",
       "        3.0275469e-04, 4.0473376e-04],\n",
       "       [1.5353782e-02, 1.0961427e-01, 5.0770879e-02, ..., 5.8905743e-03,\n",
       "        1.2360089e-03, 1.5058999e-03],\n",
       "       ...,\n",
       "       [5.9963455e-05, 2.5083316e-03, 5.1882369e-05, ..., 2.6176926e-06,\n",
       "        2.1222834e-06, 1.3327976e-05],\n",
       "       [2.2345834e-04, 2.7393093e-03, 8.9836220e-05, ..., 4.1576068e-06,\n",
       "        6.9940402e-06, 3.5896654e-05],\n",
       "       [1.5469846e-02, 7.3831552e-01, 3.8878478e-02, ..., 3.8001689e-04,\n",
       "        1.0784399e-04, 4.9004267e-04]], dtype=float32)"
      ]
     },
     "execution_count": 16,
     "metadata": {},
     "output_type": "execute_result"
    }
   ],
   "source": [
    "pred"
   ]
  },
  {
   "cell_type": "code",
   "execution_count": 15,
   "metadata": {},
   "outputs": [
    {
     "data": {
      "text/plain": [
       "1"
      ]
     },
     "execution_count": 15,
     "metadata": {},
     "output_type": "execute_result"
    }
   ],
   "source": [
    "np.argmax(y_test[12])\n",
    "\n",
    "# 텍스트 클래스 분류할 때에는, 다중분류가 잘 나오기가 어려움 > 이진분류로 해볼 것"
   ]
  }
 ],
 "metadata": {
  "kernelspec": {
   "display_name": "Python 3",
   "language": "python",
   "name": "python3"
  },
  "language_info": {
   "codemirror_mode": {
    "name": "ipython",
    "version": 3
   },
   "file_extension": ".py",
   "mimetype": "text/x-python",
   "name": "python",
   "nbconvert_exporter": "python",
   "pygments_lexer": "ipython3",
   "version": "3.9.13"
  },
  "orig_nbformat": 4
 },
 "nbformat": 4,
 "nbformat_minor": 2
}
