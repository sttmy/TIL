{
 "cells": [
  {
   "cell_type": "code",
   "execution_count": 1,
   "metadata": {},
   "outputs": [],
   "source": [
    "# ViT : Vision Transformer\n",
    "#   트랜스포머 모델을 이미지 분석에 적용한 모델\n",
    "#   Conv layer 대신 이미지를 패치 단위로 나누어 입력"
   ]
  },
  {
   "cell_type": "code",
   "execution_count": 2,
   "metadata": {},
   "outputs": [
    {
     "name": "stderr",
     "output_type": "stream",
     "text": [
      "c:\\Python\\Python39\\lib\\site-packages\\tensorflow_addons\\utils\\tfa_eol_msg.py:23: UserWarning: \n",
      "\n",
      "TensorFlow Addons (TFA) has ended development and introduction of new features.\n",
      "TFA has entered a minimal maintenance and release mode until a planned end of life in May 2024.\n",
      "Please modify downstream libraries to take dependencies from other repositories in our TensorFlow community (e.g. Keras, Keras-CV, and Keras-NLP). \n",
      "\n",
      "For more information see: https://github.com/tensorflow/addons/issues/2807 \n",
      "\n",
      "  warnings.warn(\n",
      "c:\\Python\\Python39\\lib\\site-packages\\tensorflow_addons\\utils\\ensure_tf_install.py:53: UserWarning: Tensorflow Addons supports using Python ops for all Tensorflow versions above or equal to 2.11.0 and strictly below 2.14.0 (nightly versions are not supported). \n",
      " The versions of TensorFlow you are currently using is 2.10.0 and is not supported. \n",
      "Some things might work, some things might not.\n",
      "If you were to encounter a bug, do not file an issue.\n",
      "If you want to make sure you're using a tested and supported configuration, either change the TensorFlow version or the TensorFlow Addons's version. \n",
      "You can find the compatibility matrix in TensorFlow Addon's readme:\n",
      "https://github.com/tensorflow/addons\n",
      "  warnings.warn(\n"
     ]
    }
   ],
   "source": [
    "import matplotlib.pylab as plt\n",
    "import numpy as np\n",
    "import pandas as pd\n",
    "import os\n",
    "\n",
    "import tensorflow as tf\n",
    "from tensorflow.keras.models import Sequential, Model\n",
    "from tensorflow.keras.layers import Dense, GlobalAveragePooling2D, BatchNormalization, Flatten, Dropout, Activation, Input\n",
    "from tensorflow.keras.utils import to_categorical\n",
    "from tensorflow.keras.preprocessing.image import ImageDataGenerator\n",
    "from tensorflow.keras import optimizers\n",
    "from tensorflow.keras.callbacks import ReduceLROnPlateau, EarlyStopping\n",
    "\n",
    "from tensorflow.keras.datasets import cifar10\n",
    "\n",
    "from vit_keras import vit, utils\n",
    "import tensorflow_addons as tfa\n",
    "\n",
    "from sklearn.model_selection import train_test_split\n",
    "from sklearn.metrics import accuracy_score\n",
    "import gc"
   ]
  },
  {
   "cell_type": "code",
   "execution_count": 3,
   "metadata": {},
   "outputs": [],
   "source": [
    "seed = 10\n",
    "np.random.seed(seed)\n",
    "tf.random.set_seed(seed)"
   ]
  },
  {
   "cell_type": "code",
   "execution_count": 4,
   "metadata": {},
   "outputs": [],
   "source": [
    "(tr_data, tr_label), (ts_data, ts_label) = cifar10.load_data()\n",
    "\n",
    "tr_label = to_categorical(tr_label)\n",
    "ts_label = to_categorical(ts_label)\n",
    "tr_data = (tr_data/255.).astype('float32')\n",
    "ts_data = (ts_data/255.).astype('float32')\n",
    "\n",
    "x_tr, x_val, y_tr, y_val = train_test_split(tr_data, tr_label, random_state=seed, shuffle=True)"
   ]
  },
  {
   "cell_type": "code",
   "execution_count": 5,
   "metadata": {},
   "outputs": [],
   "source": [
    "x_tr = x_tr[::200]\n",
    "x_val = x_val[::200]\n",
    "y_tr = y_tr[::200]\n",
    "y_val = y_val[::200]"
   ]
  },
  {
   "cell_type": "code",
   "execution_count": 6,
   "metadata": {},
   "outputs": [
    {
     "data": {
      "text/plain": [
       "((188, 32, 32, 3), (188, 10), (63, 32, 32, 3), (63, 10))"
      ]
     },
     "execution_count": 6,
     "metadata": {},
     "output_type": "execute_result"
    }
   ],
   "source": [
    "x_tr.shape, y_tr.shape, x_val.shape, y_val.shape"
   ]
  },
  {
   "cell_type": "code",
   "execution_count": 7,
   "metadata": {},
   "outputs": [],
   "source": [
    "batch_size = 1\n",
    "datagen = ImageDataGenerator(rotation_range=15, width_shift_range=0.2, zoom_range=0.2, horizontal_flip=True)\n",
    "train_generator = datagen.flow(x_tr, y_tr, batch_size=batch_size)\n"
   ]
  },
  {
   "cell_type": "code",
   "execution_count": 10,
   "metadata": {},
   "outputs": [
    {
     "name": "stdout",
     "output_type": "stream",
     "text": [
      "Model: \"model_1\"\n",
      "_________________________________________________________________\n",
      " Layer (type)                Output Shape              Param #   \n",
      "=================================================================\n",
      " input_5 (InputLayer)        [(None, 32, 32, 3)]       0         \n",
      "                                                                 \n",
      " lambda_2 (Lambda)           (None, 256, 256, 3)       0         \n",
      "                                                                 \n",
      " vit-b16 (Functional)        (None, 768)               85844736  \n",
      "                                                                 \n",
      " flatten_2 (Flatten)         (None, 768)               0         \n",
      "                                                                 \n",
      " batch_normalization_4 (Batc  (None, 768)              3072      \n",
      " hNormalization)                                                 \n",
      "                                                                 \n",
      " dense_4 (Dense)             (None, 32)                24608     \n",
      "                                                                 \n",
      " batch_normalization_5 (Batc  (None, 32)               128       \n",
      " hNormalization)                                                 \n",
      "                                                                 \n",
      " dense_5 (Dense)             (None, 10)                330       \n",
      "                                                                 \n",
      "=================================================================\n",
      "Total params: 85,872,874\n",
      "Trainable params: 26,538\n",
      "Non-trainable params: 85,846,336\n",
      "_________________________________________________________________\n"
     ]
    }
   ],
   "source": [
    "# ViT 모델\n",
    "\n",
    "# 1.전이학습\n",
    "input_shape = (32, 32, 3)   # cifar10 이미지사이즈\n",
    "image_size = 256   # resize\n",
    "num_classes = 10\n",
    "\n",
    "def build_model():\n",
    "    inputs = Input(shape=input_shape)\n",
    "    # resize image\n",
    "    x = tf.keras.layers.Lambda(lambda image: tf.image.resize(image, (image_size, image_size)))(inputs)\n",
    "    # vit 모델\n",
    "    base_model = vit.vit_b16(image_size=image_size, activation=\"sigmoid\", pretrained=True, include_top=False, pretrained_top=False)    \n",
    "    # 추론모드로 설정(전이학습)\n",
    "    base_model.trainable = False\n",
    "    x = base_model(x)\n",
    "    x = Flatten()(x)\n",
    "    x = BatchNormalization()(x)\n",
    "    x = Dense(32, activation=tfa.activations.gelu)(x)\n",
    "    x = BatchNormalization()(x)\n",
    "    outputs = Dense(num_classes, activation=\"softmax\")(x)\n",
    "    model_final = Model(inputs=inputs, outputs=outputs)\n",
    "    return model_final\n",
    "\n",
    "model = build_model()\n",
    "model.compile(optimizer=optimizers.SGD(learning_rate=0.01), loss=\"categorical_crossentropy\", metrics=[\"accuracy\"])\n",
    "model.summary()"
   ]
  },
  {
   "cell_type": "code",
   "execution_count": 12,
   "metadata": {},
   "outputs": [
    {
     "name": "stdout",
     "output_type": "stream",
     "text": [
      "Epoch 1/2\n",
      "188/188 [==============================] - 40s 140ms/step - loss: 2.3122 - accuracy: 0.0479 - val_loss: 9.7819 - val_accuracy: 0.0952\n",
      "Epoch 2/2\n",
      "188/188 [==============================] - 24s 127ms/step - loss: 2.3109 - accuracy: 0.0798 - val_loss: 59.6174 - val_accuracy: 0.1111\n"
     ]
    },
    {
     "data": {
      "text/plain": [
       "724"
      ]
     },
     "execution_count": 12,
     "metadata": {},
     "output_type": "execute_result"
    }
   ],
   "source": [
    "model.fit(train_generator, epochs=2, validation_data=(x_val, y_val),)\n",
    "gc.collect()"
   ]
  },
  {
   "cell_type": "code",
   "execution_count": null,
   "metadata": {},
   "outputs": [],
   "source": [
    "# epochs 과 데이터 늘려서 더 해봐야 함\n"
   ]
  },
  {
   "cell_type": "code",
   "execution_count": 13,
   "metadata": {},
   "outputs": [
    {
     "name": "stdout",
     "output_type": "stream",
     "text": [
      "Model: \"model_1\"\n",
      "_________________________________________________________________\n",
      " Layer (type)                Output Shape              Param #   \n",
      "=================================================================\n",
      " input_5 (InputLayer)        [(None, 32, 32, 3)]       0         \n",
      "                                                                 \n",
      " lambda_2 (Lambda)           (None, 256, 256, 3)       0         \n",
      "                                                                 \n",
      " vit-b16 (Functional)        (None, 768)               85844736  \n",
      "                                                                 \n",
      " flatten_2 (Flatten)         (None, 768)               0         \n",
      "                                                                 \n",
      " batch_normalization_4 (Batc  (None, 768)              3072      \n",
      " hNormalization)                                                 \n",
      "                                                                 \n",
      " dense_4 (Dense)             (None, 32)                24608     \n",
      "                                                                 \n",
      " batch_normalization_5 (Batc  (None, 32)               128       \n",
      " hNormalization)                                                 \n",
      "                                                                 \n",
      " dense_5 (Dense)             (None, 10)                330       \n",
      "                                                                 \n",
      "=================================================================\n",
      "Total params: 85,872,874\n",
      "Trainable params: 85,871,274\n",
      "Non-trainable params: 1,600\n",
      "_________________________________________________________________\n"
     ]
    }
   ],
   "source": [
    "#2. fine tuning\n",
    "plateau = ReduceLROnPlateau(monitor=\"val_loss\", factor=0.7, patience=1, verbose=1)\n",
    "                            # patience: 횟수, loss줄어들지 않으면 끝내라\n",
    "earlystopping = EarlyStopping(monitor=\"val_loss\", patience=3, verbose=1)\n",
    "#훈련모드로 변경\n",
    "for layer in model.layers:\n",
    "    layer.trainable = True\n",
    "    \n",
    "model.compile(optimizer=optimizers.SGD(learning_rate=0.001), loss=\"categorical_crossentropy\", metrics=[\"accuracy\"])\n",
    "model.summary()"
   ]
  },
  {
   "cell_type": "code",
   "execution_count": 14,
   "metadata": {},
   "outputs": [
    {
     "data": {
      "text/plain": [
       "171"
      ]
     },
     "execution_count": 14,
     "metadata": {},
     "output_type": "execute_result"
    }
   ],
   "source": [
    "tf.keras.backend.clear_session()\n",
    "\n",
    "gc.collect()"
   ]
  },
  {
   "cell_type": "code",
   "execution_count": 15,
   "metadata": {},
   "outputs": [
    {
     "name": "stdout",
     "output_type": "stream",
     "text": [
      "Epoch 1/2\n",
      "188/188 [==============================] - 66s 274ms/step - loss: 2.3007 - accuracy: 0.0957 - val_loss: 321.7559 - val_accuracy: 0.1111 - lr: 0.0010\n",
      "Epoch 2/2\n",
      "188/188 [==============================] - ETA: 0s - loss: 2.3006 - accuracy: 0.1117\n",
      "Epoch 2: ReduceLROnPlateau reducing learning rate to 0.0007000000332482159.\n",
      "188/188 [==============================] - 49s 260ms/step - loss: 2.3006 - accuracy: 0.1117 - val_loss: 937.8362 - val_accuracy: 0.1111 - lr: 0.0010\n"
     ]
    }
   ],
   "source": [
    "history = model.fit(train_generator,\n",
    "                    epochs=2,\n",
    "                    validation_data=(x_val, y_val),\n",
    "                    callbacks=[plateau, earlystopping])"
   ]
  },
  {
   "cell_type": "code",
   "execution_count": 17,
   "metadata": {},
   "outputs": [
    {
     "name": "stdout",
     "output_type": "stream",
     "text": [
      "3/3 [==============================] - 6s 951ms/step\n"
     ]
    },
    {
     "data": {
      "text/plain": [
       "0.1044776119402985"
      ]
     },
     "execution_count": 17,
     "metadata": {},
     "output_type": "execute_result"
    }
   ],
   "source": [
    "accuracy_score(np.argmax(ts_label[::150], axis=1), np.argmax(model.predict(ts_data[::150]), axis=1))"
   ]
  },
  {
   "cell_type": "code",
   "execution_count": 18,
   "metadata": {},
   "outputs": [
    {
     "data": {
      "text/plain": [
       "<matplotlib.legend.Legend at 0x2a6e7bea7c0>"
      ]
     },
     "execution_count": 18,
     "metadata": {},
     "output_type": "execute_result"
    },
    {
     "data": {
      "image/png": "[encoded data removed]",
      "text/plain": [
       "<Figure size 1200x400 with 2 Axes>"
      ]
     },
     "metadata": {},
     "output_type": "display_data"
    }
   ],
   "source": [
    "fig, ax = plt.subplots(figsize=(12, 4), nrows=1, ncols=2)\n",
    "ax[0].plot(history.history[\"loss\"], c=\"r\", label=\"train loss\")\n",
    "ax[0].plot(history.history[\"val_loss\"], c=\"b\", label=\"val loss\")\n",
    "ax[0].set_xlabel(\"Epoch\")\n",
    "ax[0].set_ylabel(\"Loss\")\n",
    "ax[0].legend()\n",
    "ax[1].plot(history.history[\"accuracy\"], c=\"r\", label=\"train accuracy\")\n",
    "ax[1].plot(history.history[\"val_accuracy\"], c=\"b\", label=\"val accuracy\")\n",
    "ax[1].set_xlabel(\"Epoch\")\n",
    "ax[1].set_ylabel(\"Accuracy\")\n",
    "ax[1].legend()\n",
    "\n"
   ]
  },
  {
   "cell_type": "code",
   "execution_count": null,
   "metadata": {},
   "outputs": [],
   "source": []
  }
 ],
 "metadata": {
  "kernelspec": {
   "display_name": "Python 3",
   "language": "python",
   "name": "python3"
  },
  "language_info": {
   "codemirror_mode": {
    "name": "ipython",
    "version": 3
   },
   "file_extension": ".py",
   "mimetype": "text/x-python",
   "name": "python",
   "nbconvert_exporter": "python",
   "pygments_lexer": "ipython3",
   "version": "3.9.13"
  },
  "orig_nbformat": 4
 },
 "nbformat": 4,
 "nbformat_minor": 2
}
