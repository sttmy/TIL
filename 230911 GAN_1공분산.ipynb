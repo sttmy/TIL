{
 "cells": [
  {
   "cell_type": "markdown",
   "metadata": {},
   "source": [
    "적대적 생성 모델 GAN(Generative Adversarial Network)\n",
    "- 생성 모델 : 데이터의 형태를 만들어 내는 모델, 어떤 분포 혹은 분산 자체를 만들어내는 모델\n",
    "- 적대적 : 지폐위조범(Generator)과 경찰(Discriminator)\n",
    "- Generator: 새로운 데이터의 형태를 만들어 내는 모델, 판독 모델을 틀리도록 하는 역할(적대적 모델), 진짜 같은 가짜를 생성해내는 모델\n",
    "- Discriminator: 데이터 판독 모델(Real, Fake 판독)\n"
   ]
  },
  {
   "cell_type": "code",
   "execution_count": 1,
   "metadata": {},
   "outputs": [
    {
     "data": {
      "text/html": [
       "<div>\n",
       "<style scoped>\n",
       "    .dataframe tbody tr th:only-of-type {\n",
       "        vertical-align: middle;\n",
       "    }\n",
       "\n",
       "    .dataframe tbody tr th {\n",
       "        vertical-align: top;\n",
       "    }\n",
       "\n",
       "    .dataframe thead th {\n",
       "        text-align: right;\n",
       "    }\n",
       "</style>\n",
       "<table border=\"1\" class=\"dataframe\">\n",
       "  <thead>\n",
       "    <tr style=\"text-align: right;\">\n",
       "      <th></th>\n",
       "      <th>weekend</th>\n",
       "      <th>num.child</th>\n",
       "      <th>distance</th>\n",
       "      <th>rides</th>\n",
       "      <th>games</th>\n",
       "      <th>wait</th>\n",
       "      <th>clean</th>\n",
       "      <th>overall</th>\n",
       "    </tr>\n",
       "  </thead>\n",
       "  <tbody>\n",
       "    <tr>\n",
       "      <th>0</th>\n",
       "      <td>yes</td>\n",
       "      <td>0</td>\n",
       "      <td>114.648259</td>\n",
       "      <td>87</td>\n",
       "      <td>73</td>\n",
       "      <td>60</td>\n",
       "      <td>89</td>\n",
       "      <td>47</td>\n",
       "    </tr>\n",
       "    <tr>\n",
       "      <th>1</th>\n",
       "      <td>yes</td>\n",
       "      <td>2</td>\n",
       "      <td>27.014097</td>\n",
       "      <td>87</td>\n",
       "      <td>78</td>\n",
       "      <td>76</td>\n",
       "      <td>87</td>\n",
       "      <td>65</td>\n",
       "    </tr>\n",
       "    <tr>\n",
       "      <th>2</th>\n",
       "      <td>no</td>\n",
       "      <td>1</td>\n",
       "      <td>63.300975</td>\n",
       "      <td>85</td>\n",
       "      <td>80</td>\n",
       "      <td>70</td>\n",
       "      <td>88</td>\n",
       "      <td>61</td>\n",
       "    </tr>\n",
       "    <tr>\n",
       "      <th>3</th>\n",
       "      <td>yes</td>\n",
       "      <td>0</td>\n",
       "      <td>25.909931</td>\n",
       "      <td>88</td>\n",
       "      <td>72</td>\n",
       "      <td>66</td>\n",
       "      <td>89</td>\n",
       "      <td>37</td>\n",
       "    </tr>\n",
       "    <tr>\n",
       "      <th>4</th>\n",
       "      <td>no</td>\n",
       "      <td>4</td>\n",
       "      <td>54.718307</td>\n",
       "      <td>84</td>\n",
       "      <td>87</td>\n",
       "      <td>74</td>\n",
       "      <td>87</td>\n",
       "      <td>68</td>\n",
       "    </tr>\n",
       "  </tbody>\n",
       "</table>\n",
       "</div>"
      ],
      "text/plain": [
       "  weekend  num.child    distance  rides  games  wait  clean  overall\n",
       "0     yes          0  114.648259     87     73    60     89       47\n",
       "1     yes          2   27.014097     87     78    76     87       65\n",
       "2      no          1   63.300975     85     80    70     88       61\n",
       "3     yes          0   25.909931     88     72    66     89       37\n",
       "4      no          4   54.718307     84     87    74     87       68"
      ]
     },
     "execution_count": 1,
     "metadata": {},
     "output_type": "execute_result"
    }
   ],
   "source": [
    "import pandas as pd\n",
    "df = pd.read_csv('Data/rides/rides.csv')\n",
    "df.head()"
   ]
  },
  {
   "cell_type": "code",
   "execution_count": 2,
   "metadata": {},
   "outputs": [
    {
     "data": {
      "image/png": "[encoded data removed]",
      "text/plain": [
       "<Figure size 640x480 with 1 Axes>"
      ]
     },
     "metadata": {},
     "output_type": "display_data"
    }
   ],
   "source": [
    "import matplotlib.pyplot as plt\n",
    "plt.scatter(df.rides, df.overall)\n",
    "plt.show()"
   ]
  },
  {
   "cell_type": "markdown",
   "metadata": {},
   "source": [
    "공분산(Covariance): 두 변수의 상관정도를 나타내는 값, 두 변수가 같은 방향으로 움직이는 정도\n",
    "- x의 편차와 y의 편차를 곱한 값의 평균값\n",
    "- X 증가 => y 증가 => 양수\n",
    "- X 증가 => y 감소 => 음수\n",
    "- 공분산이 0이면 두 변수는 선형관계가 없음"
   ]
  },
  {
   "cell_type": "code",
   "execution_count": 3,
   "metadata": {},
   "outputs": [
    {
     "data": {
      "text/plain": [
       "50.82939078156313"
      ]
     },
     "execution_count": 3,
     "metadata": {},
     "output_type": "execute_result"
    }
   ],
   "source": [
    "import numpy as np\n",
    "np.cov(df.overall, df.rides)[0,1]\n",
    "\n",
    "# 양수이므로 양의 상관관계임\n",
    "# 공분산은 증가, 감소 방향을 이해할 수는 있으나 어느 정도의 상관관계인지 파악하기는 어려움\n"
   ]
  },
  {
   "cell_type": "code",
   "execution_count": 4,
   "metadata": {},
   "outputs": [
    {
     "name": "stdout",
     "output_type": "stream",
     "text": [
      "2.5\n",
      "0.0\n"
     ]
    }
   ],
   "source": [
    "print(np.cov([1,2,3,4,5], [2,3,4,5,6])[0,1])  # x,y가 같은 방향으로 증가하므로 양수\n",
    "\n",
    "print(np.cov([1,2,3,4,5], [3,3,3,3,3])[0,1])  # x의 변화에 y가 영향을 받지 않으므로 0"
   ]
  },
  {
   "cell_type": "code",
   "execution_count": 5,
   "metadata": {},
   "outputs": [
    {
     "name": "stdout",
     "output_type": "stream",
     "text": [
      "-2.5\n",
      "-25.0\n"
     ]
    }
   ],
   "source": [
    "print(np.cov([1,2,3,4,5], [5,4,3,2,1])[0,1])  # x,y의 증가 방향이 다르므로 음수\n",
    "\n",
    "print(np.cov([10,20,30,40,50], [5,4,3,2,1])[0,1])\n",
    "\n",
    "# 공분산은 변수의 단위에 크게 영향을 받는 단점이 있음.\n",
    "# 이것을 보완하기 위해 공분산을 표준화시킨 상관계수를 사용함"
   ]
  },
  {
   "cell_type": "markdown",
   "metadata": {},
   "source": [
    "상관계수 :  X와 Y가 함께 변하는 정도 / X와 Y가 각각 변하는 정도\n",
    "- 공분산을 표준편차의 곱으로 나눈 값(-1 ~ 1)\n",
    "- +1 : 완벽한 양의 상관관계, -1 : 완벽한 음의 상관관계\n",
    "- 0 : 선형관계가 없음\n",
    "\n",
    "- 피어슨 상관계수: 일반적으로 사용되는 방법, 숫자형-숫자형 변수, 정규분포인 경우 정확한 결과를 얻을 수 있음, 이상치에 민감함\n",
    "- 스피어만 상관계수: 서열척도의 경우 사용\n",
    "\n",
    "- 직선관계가 아니어도 상관관계가 있으면 1에 가까운 값을 갖게 됨\n",
    "\n",
    "- 상관분석은 선형관계를 설명할 수는 있으나 인과관계(원인과 결과)를 설명하기는 어려움\n",
    "- 원인과 결과를 설명하려면 회귀분석을 사용해야 함"
   ]
  },
  {
   "cell_type": "code",
   "execution_count": 6,
   "metadata": {},
   "outputs": [
    {
     "name": "stdout",
     "output_type": "stream",
     "text": [
      "-0.9999999999999999\n",
      "-1.0\n"
     ]
    }
   ],
   "source": [
    "print(np.corrcoef([1,2,3,4,5], [5,4,3,2,1])[0,1])  \n",
    "print(np.corrcoef([10,20,30,40,50], [5,4,3,2,1])[0,1])"
   ]
  },
  {
   "cell_type": "code",
   "execution_count": 7,
   "metadata": {},
   "outputs": [],
   "source": [
    "x = np.array([[169,70],[172,68],[175,78],[163,58],[180,80],[159,76],[158,52],[173,69],[180,75],[155,50],[187,90],[170,66]])\n",
    "m = np.mean(x, axis=0)"
   ]
  },
  {
   "cell_type": "code",
   "execution_count": 8,
   "metadata": {},
   "outputs": [
    {
     "name": "stdout",
     "output_type": "stream",
     "text": [
      "[[169  70]\n",
      " [172  68]\n",
      " [175  78]\n",
      " [163  58]\n",
      " [180  80]\n",
      " [159  76]\n",
      " [158  52]\n",
      " [173  69]\n",
      " [180  75]\n",
      " [155  50]\n",
      " [187  90]\n",
      " [170  66]]\n",
      "[170.08333333  69.33333333]\n",
      "[[ 96.99242424  96.15151515]\n",
      " [ 96.15151515 137.15151515]]\n"
     ]
    }
   ],
   "source": [
    "print(x)\n",
    "print(m)\n",
    "cv = np.cov(x, rowvar=False) #공분산, # rowvar row가 variable이 아님, column variable\n",
    "print(cv)"
   ]
  },
  {
   "cell_type": "code",
   "execution_count": 9,
   "metadata": {},
   "outputs": [
    {
     "name": "stdout",
     "output_type": "stream",
     "text": [
      "[[189.62881478  91.96101839]\n",
      " [175.97710827  66.0962963 ]\n",
      " [169.32081147  67.08585709]\n",
      " [169.79334276  60.48920958]\n",
      " [181.91825723  89.40200712]]\n"
     ]
    }
   ],
   "source": [
    "# 다변수 정규분포 랜덤 샘플\n",
    "\n",
    "gan = np.random.multivariate_normal(m, cv, 5)\n",
    "print(gan)"
   ]
  },
  {
   "cell_type": "code",
   "execution_count": 10,
   "metadata": {},
   "outputs": [
    {
     "name": "stdout",
     "output_type": "stream",
     "text": [
      "(6265, 28, 28)\n",
      "[[[0 0 0 ... 0 0 0]\n",
      "  [0 0 0 ... 0 0 0]\n",
      "  [0 0 0 ... 0 0 0]\n",
      "  ...\n",
      "  [0 0 0 ... 0 0 0]\n",
      "  [0 0 0 ... 0 0 0]\n",
      "  [0 0 0 ... 0 0 0]]\n",
      "\n",
      " [[0 0 0 ... 0 0 0]\n",
      "  [0 0 0 ... 0 0 0]\n",
      "  [0 0 0 ... 0 0 0]\n",
      "  ...\n",
      "  [0 0 0 ... 0 0 0]\n",
      "  [0 0 0 ... 0 0 0]\n",
      "  [0 0 0 ... 0 0 0]]\n",
      "\n",
      " [[0 0 0 ... 0 0 0]\n",
      "  [0 0 0 ... 0 0 0]\n",
      "  [0 0 0 ... 0 0 0]\n",
      "  ...\n",
      "  [0 0 0 ... 0 0 0]\n",
      "  [0 0 0 ... 0 0 0]\n",
      "  [0 0 0 ... 0 0 0]]\n",
      "\n",
      " ...\n",
      "\n",
      " [[0 0 0 ... 0 0 0]\n",
      "  [0 0 0 ... 0 0 0]\n",
      "  [0 0 0 ... 0 0 0]\n",
      "  ...\n",
      "  [0 0 0 ... 0 0 0]\n",
      "  [0 0 0 ... 0 0 0]\n",
      "  [0 0 0 ... 0 0 0]]\n",
      "\n",
      " [[0 0 0 ... 0 0 0]\n",
      "  [0 0 0 ... 0 0 0]\n",
      "  [0 0 0 ... 0 0 0]\n",
      "  ...\n",
      "  [0 0 0 ... 0 0 0]\n",
      "  [0 0 0 ... 0 0 0]\n",
      "  [0 0 0 ... 0 0 0]]\n",
      "\n",
      " [[0 0 0 ... 0 0 0]\n",
      "  [0 0 0 ... 0 0 0]\n",
      "  [0 0 0 ... 0 0 0]\n",
      "  ...\n",
      "  [0 0 0 ... 0 0 0]\n",
      "  [0 0 0 ... 0 0 0]\n",
      "  [0 0 0 ... 0 0 0]]]\n"
     ]
    }
   ],
   "source": [
    "from tensorflow.keras.datasets import mnist\n",
    "\n",
    "(x_tr, y_tr),(x_ts, y_ts) = mnist.load_data()    # 데이터셋 구성\n",
    "\n",
    "x = x_tr[np.isin(y_tr, [7])]                # class 7 선택\n",
    "print(x.shape)\n",
    "print(x)"
   ]
  },
  {
   "cell_type": "code",
   "execution_count": 11,
   "metadata": {},
   "outputs": [
    {
     "name": "stdout",
     "output_type": "stream",
     "text": [
      "(6265, 784)\n",
      "[[0 0 0 ... 0 0 0]\n",
      " [0 0 0 ... 0 0 0]\n",
      " [0 0 0 ... 0 0 0]\n",
      " ...\n",
      " [0 0 0 ... 0 0 0]\n",
      " [0 0 0 ... 0 0 0]\n",
      " [0 0 0 ... 0 0 0]]\n"
     ]
    }
   ],
   "source": [
    "x = x.reshape((x.shape[0],28*28))\n",
    "print(x.shape)\n",
    "print(x)"
   ]
  },
  {
   "cell_type": "code",
   "execution_count": 12,
   "metadata": {},
   "outputs": [
    {
     "name": "stdout",
     "output_type": "stream",
     "text": [
      "(784,)\n",
      "[0.00000000e+00 0.00000000e+00 0.00000000e+00 0.00000000e+00\n",
      " 0.00000000e+00 0.00000000e+00 0.00000000e+00 0.00000000e+00\n",
      " 0.00000000e+00 0.00000000e+00 0.00000000e+00 0.00000000e+00\n",
      " 0.00000000e+00 0.00000000e+00 0.00000000e+00 0.00000000e+00\n",
      " 0.00000000e+00 0.00000000e+00 0.00000000e+00 0.00000000e+00\n",
      " 0.00000000e+00 0.00000000e+00 0.00000000e+00 0.00000000e+00\n",
      " 0.00000000e+00 0.00000000e+00 0.00000000e+00 0.00000000e+00\n",
      " 0.00000000e+00 0.00000000e+00 0.00000000e+00 0.00000000e+00\n",
      " 0.00000000e+00 0.00000000e+00 0.00000000e+00 0.00000000e+00\n",
      " 0.00000000e+00 0.00000000e+00 0.00000000e+00 0.00000000e+00\n",
      " 0.00000000e+00 0.00000000e+00 0.00000000e+00 0.00000000e+00\n",
      " 0.00000000e+00 0.00000000e+00 0.00000000e+00 0.00000000e+00\n",
      " 0.00000000e+00 0.00000000e+00 0.00000000e+00 0.00000000e+00\n",
      " 0.00000000e+00 0.00000000e+00 0.00000000e+00 0.00000000e+00\n",
      " 0.00000000e+00 0.00000000e+00 0.00000000e+00 0.00000000e+00\n",
      " 0.00000000e+00 0.00000000e+00 0.00000000e+00 0.00000000e+00\n",
      " 0.00000000e+00 0.00000000e+00 0.00000000e+00 0.00000000e+00\n",
      " 0.00000000e+00 0.00000000e+00 0.00000000e+00 0.00000000e+00\n",
      " 0.00000000e+00 0.00000000e+00 0.00000000e+00 0.00000000e+00\n",
      " 0.00000000e+00 0.00000000e+00 0.00000000e+00 0.00000000e+00\n",
      " 0.00000000e+00 0.00000000e+00 0.00000000e+00 0.00000000e+00\n",
      " 0.00000000e+00 0.00000000e+00 0.00000000e+00 0.00000000e+00\n",
      " 0.00000000e+00 0.00000000e+00 0.00000000e+00 0.00000000e+00\n",
      " 0.00000000e+00 0.00000000e+00 0.00000000e+00 0.00000000e+00\n",
      " 0.00000000e+00 0.00000000e+00 0.00000000e+00 0.00000000e+00\n",
      " 0.00000000e+00 0.00000000e+00 0.00000000e+00 0.00000000e+00\n",
      " 0.00000000e+00 0.00000000e+00 0.00000000e+00 0.00000000e+00\n",
      " 0.00000000e+00 0.00000000e+00 0.00000000e+00 0.00000000e+00\n",
      " 0.00000000e+00 0.00000000e+00 0.00000000e+00 1.61213089e-02\n",
      " 3.06464485e-02 2.13886672e-02 4.15003990e-03 8.14046289e-03\n",
      " 1.02154828e-02 6.06544294e-03 0.00000000e+00 5.85794094e-02\n",
      " 9.25778132e-02 9.75259377e-02 8.60335196e-02 5.57063049e-02\n",
      " 3.08060654e-02 3.19233839e-04 0.00000000e+00 0.00000000e+00\n",
      " 0.00000000e+00 4.05426975e-02 7.98084597e-03 0.00000000e+00\n",
      " 0.00000000e+00 0.00000000e+00 0.00000000e+00 0.00000000e+00\n",
      " 0.00000000e+00 0.00000000e+00 0.00000000e+00 2.36233041e-02\n",
      " 8.71508380e-02 3.02154828e-01 6.20430966e-01 1.03272147e+00\n",
      " 1.59106145e+00 2.12130886e+00 2.25123703e+00 2.42777334e+00\n",
      " 2.61500399e+00 2.44261772e+00 2.24229848e+00 2.08172386e+00\n",
      " 1.76983240e+00 1.25889864e+00 8.92737430e-01 3.87230646e-01\n",
      " 1.75897845e-01 1.36791700e-01 7.53391860e-02 3.19233839e-04\n",
      " 0.00000000e+00 0.00000000e+00 0.00000000e+00 0.00000000e+00\n",
      " 0.00000000e+00 0.00000000e+00 1.30726257e-01 2.91620112e-01\n",
      " 1.15051875e+00 3.17573823e+00 6.04006385e+00 9.44054270e+00\n",
      " 1.38569832e+01 1.82043097e+01 2.26588986e+01 2.53203512e+01\n",
      " 2.73391860e+01 2.79104549e+01 2.81193935e+01 2.77366321e+01\n",
      " 2.69222666e+01 2.45254589e+01 2.01650439e+01 1.48295291e+01\n",
      " 9.48747007e+00 5.83032721e+00 2.81899441e+00 8.51875499e-01\n",
      " 1.16201117e-01 2.71348763e-03 0.00000000e+00 0.00000000e+00\n",
      " 7.50199521e-03 1.08060654e-01 8.32083001e-01 2.65251397e+00\n",
      " 7.23192338e+00 1.52469274e+01 2.67085395e+01 4.00379888e+01\n",
      " 5.47977654e+01 6.95904230e+01 8.26145251e+01 9.28355946e+01\n",
      " 1.00112849e+02 1.05362809e+02 1.08270551e+02 1.10594413e+02\n",
      " 1.11578292e+02 1.07683001e+02 9.56303272e+01 7.73631285e+01\n",
      " 5.36300080e+01 3.09596169e+01 1.48311253e+01 5.93407821e+00\n",
      " 1.21260974e+00 1.86113328e-01 0.00000000e+00 0.00000000e+00\n",
      " 3.04868316e-02 4.44373504e-01 2.91061453e+00 8.54253791e+00\n",
      " 1.80164405e+01 3.38202713e+01 5.40242618e+01 7.93265762e+01\n",
      " 1.04902793e+02 1.29784358e+02 1.50710136e+02 1.65690662e+02\n",
      " 1.75223623e+02 1.79630168e+02 1.82744134e+02 1.85024421e+02\n",
      " 1.86321628e+02 1.82184677e+02 1.65617398e+02 1.34566321e+02\n",
      " 9.34932163e+01 5.53816441e+01 2.69217877e+01 1.02949721e+01\n",
      " 2.35833998e+00 2.90183559e-01 0.00000000e+00 0.00000000e+00\n",
      " 4.66081405e-02 7.14445331e-01 4.64197925e+00 1.28533121e+01\n",
      " 2.59369513e+01 4.58316042e+01 7.09115722e+01 1.00911891e+02\n",
      " 1.30297686e+02 1.56150040e+02 1.73858101e+02 1.83141580e+02\n",
      " 1.83680287e+02 1.79697207e+02 1.77808460e+02 1.80363767e+02\n",
      " 1.88720192e+02 1.95888907e+02 1.88788986e+02 1.59090343e+02\n",
      " 1.11371109e+02 6.55599362e+01 3.12359138e+01 1.08812450e+01\n",
      " 2.18132482e+00 3.25458899e-01 2.49002394e-02 3.25618516e-02\n",
      " 6.38467678e-02 9.05985634e-01 4.79840383e+00 1.28062251e+01\n",
      " 2.58814046e+01 4.41104549e+01 6.75118915e+01 9.37538707e+01\n",
      " 1.18506784e+02 1.36637031e+02 1.44464326e+02 1.39848045e+02\n",
      " 1.27968396e+02 1.17484437e+02 1.12092099e+02 1.19482682e+02\n",
      " 1.43433360e+02 1.73104070e+02 1.83961852e+02 1.60246289e+02\n",
      " 1.10512051e+02 6.22648045e+01 2.76857143e+01 8.28252195e+00\n",
      " 1.43958500e+00 2.46767757e-01 2.20271349e-02 8.77893057e-03\n",
      " 5.68236233e-02 7.02154828e-01 3.80399042e+00 9.48906624e+00\n",
      " 1.96006385e+01 3.31399840e+01 5.16285714e+01 7.24004789e+01\n",
      " 9.13640862e+01 1.01145730e+02 9.68665603e+01 8.15569034e+01\n",
      " 6.40292099e+01 5.31358340e+01 5.10015962e+01 6.61146049e+01\n",
      " 1.07375738e+02 1.57066241e+02 1.78402713e+02 1.50910615e+02\n",
      " 9.89695132e+01 5.01589785e+01 2.01331205e+01 5.08459697e+00\n",
      " 6.47086991e-01 5.61851556e-02 1.43655227e-03 2.87310455e-03\n",
      " 3.63926576e-02 3.93296089e-01 2.12960894e+00 5.63112530e+00\n",
      " 1.24545890e+01 2.25533919e+01 3.59163607e+01 5.32317638e+01\n",
      " 6.69063049e+01 6.87063049e+01 5.75426975e+01 3.96142059e+01\n",
      " 2.42820431e+01 1.80999202e+01 2.30786911e+01 4.97406225e+01\n",
      " 1.07416281e+02 1.63924022e+02 1.74912051e+02 1.36486193e+02\n",
      " 7.95221069e+01 3.51275339e+01 1.24001596e+01 2.98643256e+00\n",
      " 3.75418994e-01 9.28970471e-02 2.53790902e-02 1.06943336e-02\n",
      " 0.00000000e+00 1.24341580e-01 1.04118117e+00 3.18100559e+00\n",
      " 8.14269753e+00 1.55173184e+01 2.55106145e+01 3.79059856e+01\n",
      " 4.63280128e+01 4.40866720e+01 3.21540303e+01 1.73897845e+01\n",
      " 9.13679170e+00 8.30391061e+00 2.05289705e+01 6.21418994e+01\n",
      " 1.30966480e+02 1.77775579e+02 1.67341261e+02 1.16114924e+02\n",
      " 5.94459697e+01 2.35426975e+01 7.88539505e+00 2.39888268e+00\n",
      " 7.30885874e-01 1.55945730e-01 1.46847566e-02 0.00000000e+00\n",
      " 0.00000000e+00 3.41580208e-02 4.25698324e-01 1.71667997e+00\n",
      " 5.20079808e+00 1.09634477e+01 1.82416600e+01 2.63058260e+01\n",
      " 3.04012769e+01 2.64039904e+01 1.81201915e+01 1.10513966e+01\n",
      " 8.43160415e+00 1.20435754e+01 3.42295291e+01 9.35621708e+01\n",
      " 1.61751636e+02 1.86272466e+02 1.53804789e+02 9.41632881e+01\n",
      " 4.40740623e+01 1.78598563e+01 7.46528332e+00 3.13328013e+00\n",
      " 1.04437350e+00 2.76775738e-01 0.00000000e+00 0.00000000e+00\n",
      " 1.11731844e-03 0.00000000e+00 1.44932163e-01 9.51157223e-01\n",
      " 3.12881085e+00 7.45139665e+00 1.30646449e+01 1.76146848e+01\n",
      " 1.92181963e+01 1.81152434e+01 1.53778132e+01 1.42726257e+01\n",
      " 1.57918595e+01 2.59743017e+01 6.35517957e+01 1.32615004e+02\n",
      " 1.83465922e+02 1.81792498e+02 1.31578611e+02 7.34534717e+01\n",
      " 3.41730247e+01 1.56111732e+01 7.52817239e+00 3.36919393e+00\n",
      " 1.24150040e+00 2.44373504e-01 0.00000000e+00 0.00000000e+00\n",
      " 6.38467678e-03 0.00000000e+00 3.36791700e-02 5.57541899e-01\n",
      " 1.99648843e+00 4.80271349e+00 8.46225060e+00 1.14217079e+01\n",
      " 1.33412610e+01 1.51984038e+01 1.66584198e+01 1.90646449e+01\n",
      " 2.60892259e+01 4.74729449e+01 1.01166161e+02 1.64053152e+02\n",
      " 1.88617239e+02 1.60026816e+02 1.02454110e+02 5.35918595e+01\n",
      " 2.45305666e+01 1.23829210e+01 6.46017558e+00 2.98675180e+00\n",
      " 9.71428571e-01 9.40143655e-02 0.00000000e+00 0.00000000e+00\n",
      " 0.00000000e+00 1.02154828e-02 1.35674381e-02 2.91300878e-01\n",
      " 1.20015962e+00 2.79600958e+00 4.50055866e+00 6.65379090e+00\n",
      " 9.31667997e+00 1.21707901e+01 1.50557063e+01 2.09347167e+01\n",
      " 3.52274541e+01 7.33243416e+01 1.34197765e+02 1.78210215e+02\n",
      " 1.74664804e+02 1.27858739e+02 7.38086193e+01 3.53998404e+01\n",
      " 1.60667199e+01 7.98515563e+00 4.04596967e+00 1.82122905e+00\n",
      " 7.83878691e-01 1.42378292e-01 2.53790902e-02 0.00000000e+00\n",
      " 9.57701516e-03 6.70391061e-03 4.56504389e-02 1.75738228e-01\n",
      " 6.76935355e-01 1.28332003e+00 2.02138867e+00 3.36185156e+00\n",
      " 5.35418994e+00 7.97749401e+00 1.23102953e+01 2.31693536e+01\n",
      " 4.98098962e+01 1.00675339e+02 1.53271987e+02 1.74042777e+02\n",
      " 1.46645810e+02 9.59315243e+01 5.06529928e+01 2.24129290e+01\n",
      " 9.86336792e+00 4.47661612e+00 2.08715084e+00 8.16759777e-01\n",
      " 3.69034318e-01 5.20351157e-02 2.02713488e-02 0.00000000e+00\n",
      " 0.00000000e+00 3.16041500e-02 4.93216281e-02 8.76296887e-02\n",
      " 3.71428571e-01 5.58978452e-01 8.93695132e-01 1.63304070e+00\n",
      " 3.07581804e+00 6.07741421e+00 1.39160415e+01 3.31728651e+01\n",
      " 7.22812450e+01 1.22243256e+02 1.58862889e+02 1.55126895e+02\n",
      " 1.15455547e+02 6.93849960e+01 3.43826018e+01 1.47003990e+01\n",
      " 5.97877095e+00 2.22889066e+00 8.96568236e-01 2.67517957e-01\n",
      " 1.92019154e-01 4.26177175e-02 0.00000000e+00 0.00000000e+00\n",
      " 0.00000000e+00 7.02314445e-03 1.27693536e-03 1.80367119e-02\n",
      " 9.08220271e-02 2.72944932e-01 4.87789306e-01 1.28826816e+00\n",
      " 3.52992817e+00 9.33455706e+00 2.39549880e+01 5.25284916e+01\n",
      " 9.50711891e+01 1.35460974e+02 1.50601596e+02 1.30117159e+02\n",
      " 9.01688747e+01 5.20759777e+01 2.49963288e+01 1.02009577e+01\n",
      " 3.83910615e+00 1.32801277e+00 5.22426177e-01 1.41899441e-01\n",
      " 1.36632083e-01 6.01755786e-02 0.00000000e+00 0.00000000e+00\n",
      " 0.00000000e+00 0.00000000e+00 0.00000000e+00 0.00000000e+00\n",
      " 1.15562650e-01 4.36073424e-01 1.08300080e+00 2.72274541e+00\n",
      " 7.39824421e+00 1.90130886e+01 4.04194733e+01 7.46534717e+01\n",
      " 1.11631125e+02 1.35042937e+02 1.33401915e+02 1.07198563e+02\n",
      " 7.25351955e+01 4.13924980e+01 1.97141261e+01 8.06592179e+00\n",
      " 3.14349561e+00 1.15578611e+00 4.30167598e-01 7.96488428e-02\n",
      " 9.16201117e-02 6.08140463e-02 0.00000000e+00 0.00000000e+00\n",
      " 0.00000000e+00 0.00000000e+00 0.00000000e+00 1.64405427e-02\n",
      " 2.79010375e-01 1.07326417e+00 2.45490822e+00 6.22154828e+00\n",
      " 1.55527534e+01 3.27779729e+01 5.92794892e+01 9.10691141e+01\n",
      " 1.17087789e+02 1.26005906e+02 1.15760734e+02 8.99704709e+01\n",
      " 6.03706305e+01 3.46893855e+01 1.66988029e+01 7.14477255e+00\n",
      " 2.89545092e+00 1.07374302e+00 3.73503591e-01 4.56504389e-02\n",
      " 6.27294493e-02 3.86272945e-02 0.00000000e+00 0.00000000e+00\n",
      " 0.00000000e+00 0.00000000e+00 0.00000000e+00 2.36233041e-02\n",
      " 6.96089385e-01 2.04724661e+00 5.02745411e+00 1.22012769e+01\n",
      " 2.53543496e+01 4.61195531e+01 7.29867518e+01 9.87158819e+01\n",
      " 1.13702314e+02 1.13740782e+02 9.96542698e+01 7.65190742e+01\n",
      " 5.14505986e+01 3.06786911e+01 1.50509178e+01 6.62090982e+00\n",
      " 2.74269753e+00 9.49880287e-01 3.69992019e-01 7.72545890e-02\n",
      " 7.13487630e-02 2.31444533e-02 0.00000000e+00 0.00000000e+00\n",
      " 0.00000000e+00 0.00000000e+00 1.67597765e-02 1.14604948e-01\n",
      " 9.75578611e-01 2.90742219e+00 7.63671189e+00 1.76718276e+01\n",
      " 3.33355148e+01 5.44418196e+01 7.84754988e+01 9.60228252e+01\n",
      " 1.03345571e+02 9.89548284e+01 8.45173184e+01 6.53288109e+01\n",
      " 4.46831604e+01 2.70325619e+01 1.35304070e+01 6.41660016e+00\n",
      " 2.64453312e+00 1.02106943e+00 2.98004789e-01 1.88347965e-02\n",
      " 4.16600160e-02 7.02314445e-03 0.00000000e+00 0.00000000e+00\n",
      " 0.00000000e+00 0.00000000e+00 0.00000000e+00 9.86432562e-02\n",
      " 6.66560255e-01 2.64022346e+00 7.94908220e+00 1.81146049e+01\n",
      " 3.35224262e+01 5.09851556e+01 6.84135674e+01 8.00791700e+01\n",
      " 8.32743815e+01 7.82748603e+01 6.65910615e+01 5.17158819e+01\n",
      " 3.56110136e+01 2.20236233e+01 1.18031923e+01 5.83415802e+00\n",
      " 2.39457302e+00 1.04916201e+00 4.03990423e-01 3.04868316e-02\n",
      " 4.02234637e-02 0.00000000e+00 0.00000000e+00 0.00000000e+00\n",
      " 0.00000000e+00 0.00000000e+00 0.00000000e+00 0.00000000e+00\n",
      " 1.74142059e-01 1.14269753e+00 4.24309657e+00 9.95530726e+00\n",
      " 1.86408619e+01 2.71174781e+01 3.63203512e+01 4.32033520e+01\n",
      " 4.50004789e+01 4.31007183e+01 3.75980846e+01 2.91677574e+01\n",
      " 2.08330407e+01 1.34857143e+01 7.65347167e+00 3.69289705e+00\n",
      " 1.28778931e+00 6.61133280e-01 2.89066241e-01 4.85235435e-02\n",
      " 0.00000000e+00 9.41739824e-03 0.00000000e+00 0.00000000e+00\n",
      " 0.00000000e+00 0.00000000e+00 0.00000000e+00 0.00000000e+00\n",
      " 2.42617717e-02 1.49241820e-01 3.92178771e-01 8.17079010e-01\n",
      " 1.19090184e+00 1.82266560e+00 3.05826018e+00 3.92545890e+00\n",
      " 4.77509976e+00 5.48683160e+00 6.21739824e+00 5.46927374e+00\n",
      " 4.43048683e+00 3.15291301e+00 1.76568236e+00 6.72785315e-01\n",
      " 2.58100559e-01 1.05187550e-01 1.12210694e-01 1.91540303e-02\n",
      " 0.00000000e+00 0.00000000e+00 0.00000000e+00 0.00000000e+00]\n"
     ]
    }
   ],
   "source": [
    "m = np.mean(x, axis=0)                    \n",
    "print(m.shape)\n",
    "print(m)"
   ]
  },
  {
   "cell_type": "code",
   "execution_count": 13,
   "metadata": {},
   "outputs": [
    {
     "name": "stdout",
     "output_type": "stream",
     "text": [
      "(784, 784)\n",
      "[[0. 0. 0. ... 0. 0. 0.]\n",
      " [0. 0. 0. ... 0. 0. 0.]\n",
      " [0. 0. 0. ... 0. 0. 0.]\n",
      " ...\n",
      " [0. 0. 0. ... 0. 0. 0.]\n",
      " [0. 0. 0. ... 0. 0. 0.]\n",
      " [0. 0. 0. ... 0. 0. 0.]]\n"
     ]
    }
   ],
   "source": [
    "cv=np.cov(x, rowvar=False)\n",
    "print(cv.shape)\n",
    "print(cv)\n"
   ]
  },
  {
   "cell_type": "code",
   "execution_count": 14,
   "metadata": {},
   "outputs": [
    {
     "name": "stdout",
     "output_type": "stream",
     "text": [
      "(5, 784)\n",
      "[[-3.18529694e-06 -1.28364439e-06 -5.35755216e-06 ...  4.06771661e-06\n",
      "  -1.22642956e-06 -2.60286518e-07]\n",
      " [-6.09152040e-06  9.28656213e-07  5.17461606e-06 ... -8.52305116e-06\n",
      "  -3.52037756e-07 -1.20886323e-06]\n",
      " [ 1.16420489e-06  3.65500549e-06  1.92458199e-06 ...  2.01301581e-07\n",
      "  -6.74856876e-06 -9.76604103e-07]\n",
      " [-3.82825385e-07  2.45080396e-06 -4.71134355e-06 ...  4.31889449e-07\n",
      "   7.56073379e-07 -1.36683379e-06]\n",
      " [-8.90771812e-06  2.11575727e-06 -1.04170288e-05 ...  1.79083772e-06\n",
      "  -6.35153447e-06  2.28817741e-06]]\n"
     ]
    }
   ],
   "source": [
    "gan=np.random.multivariate_normal(m,cv,5)    \n",
    "print(gan.shape)\n",
    "print(gan)"
   ]
  },
  {
   "cell_type": "code",
   "execution_count": 15,
   "metadata": {},
   "outputs": [
    {
     "data": {
      "image/png": "[encoded data removed]",
      "text/plain": [
       "<Figure size 1000x400 with 5 Axes>"
      ]
     },
     "metadata": {},
     "output_type": "display_data"
    }
   ],
   "source": [
    "import matplotlib.pyplot as plt\n",
    "\n",
    "plt.figure(figsize=(10,4))                \n",
    "for i in range(5):\n",
    "    plt.subplot(1,5,i+1)\n",
    "    plt.imshow(gan[i].reshape((28,28)),cmap='gray')\n",
    "    plt.xticks([])\n",
    "    plt.yticks([])\n",
    "plt.show()    "
   ]
  }
 ],
 "metadata": {
  "kernelspec": {
   "display_name": "Python 3",
   "language": "python",
   "name": "python3"
  },
  "language_info": {
   "codemirror_mode": {
    "name": "ipython",
    "version": 3
   },
   "file_extension": ".py",
   "mimetype": "text/x-python",
   "name": "python",
   "nbconvert_exporter": "python",
   "pygments_lexer": "ipython3",
   "version": "3.9.13"
  },
  "orig_nbformat": 4
 },
 "nbformat": 4,
 "nbformat_minor": 2
}
