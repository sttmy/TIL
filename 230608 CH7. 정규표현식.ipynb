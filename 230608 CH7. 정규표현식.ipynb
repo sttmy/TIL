{
 "cells": [
  {
   "cell_type": "markdown",
   "id": "76b69a26",
   "metadata": {},
   "source": [
    "### 7.1 정규표현식 Regular Expression\n",
    "- 특정 규칙을 가진 문자열의 집합\n",
    "\n",
    "#### 메타문자\n",
    "- .x x.  임의의 문자가 x앞이나 뒤에 오는 패턴 지정\n",
    "- ^x     x로 시작하는 문자열 (접두어 패턴 지정)\n",
    "- x$     x로 끝나는 문자열 (접미어 패턴 지정)\n",
    "- x*     x가 0번이상 반복\n",
    "- x+     x가 1번이상 반복\n",
    "- x?     x가 0 또는 1개 존재\n",
    "- abc | ABC   abc 또는 ABC 두개 중 하나 선택\n",
    "- [x]    x문자 한 개 일치\n",
    "- [^x]    x문자 제외(부정)\n",
    "- x{n}    x가 n번 연속\n",
    "- x{n,}    x가 n번이상 연속\n",
    "- x{m,n}    x가 m~n 사이 연속\n",
    "\n",
    "#### 메타문자로 사용되는 이스케이프 문자\n",
    "- \\s  공백\n",
    "- \\b  문자와 공백 사이\n",
    "- \\d  숫자 [0-9]\n",
    "- \\w  단어 [0-9a-zA-Z_]  영문자+숫자+_(밑줄)\n",
    "- \\n  줄바꿈\n",
    "- \\t  tab\n",
    "- 이스케이프 문자를 대문자로 적으면 반대의미. ~아닌경우로 해석"
   ]
  },
  {
   "cell_type": "markdown",
   "id": "82f4e092",
   "metadata": {},
   "source": [
    "#### 정규표현식 모듈\n",
    "\n",
    "RE 의 내장함수\n",
    "- compile(pattern, flags = 0)    패턴을 컴파일항 pattern 객체 반환\n",
    "- escape(pattern)    문자열에서 특수문자를 이스케이프 처리\n",
    "- findall(pattern, string, flags = 0)  string에서 패턴과 일치하는 모든 문자열을 리스트로 반환\n",
    "- finditer(pattern, string, flags = 0)   string에서 패턴과 일치하는 모든 문자열을 반복자로 반환\n",
    "- fullmatch(pattern,string, flags= 0 )   패턴을 모든 string에 적용하여 match 개체를 반환, 일치하는 항목이 없으면 None 반환\n",
    "- match(pattern, string, flags=0)  \n",
    "- search(pattern, string, flags=0)  \n",
    "- split(pattern, string, maxssplit = 0, flags =0)\n",
    "- sub(pattern, repl, string, count =0, flags=0)  \n",
    "- subn(pattern, repl,string, count =0, flags=0)  \n",
    "- template(pattern,  flags=0)  "
   ]
  },
  {
   "cell_type": "markdown",
   "id": "5f9b23cc",
   "metadata": {},
   "source": [
    "### 7.2 문자열처리"
   ]
  },
  {
   "cell_type": "code",
   "execution_count": 1,
   "id": "644261e7",
   "metadata": {},
   "outputs": [
    {
     "data": {
      "text/plain": [
       "['1234']"
      ]
     },
     "execution_count": 1,
     "metadata": {},
     "output_type": "execute_result"
    }
   ],
   "source": [
    "import re\n",
    "from re import findall\n",
    "\n",
    "st1 = '1234 abc홍길동 ABC_555_6 이사도시'\n",
    "\n",
    "findall('1234', st1)"
   ]
  },
  {
   "cell_type": "code",
   "execution_count": 3,
   "id": "ef574381",
   "metadata": {},
   "outputs": [
    {
     "data": {
      "text/plain": [
       "['1', '2', '3', '4', '5', '5', '5', '6']"
      ]
     },
     "execution_count": 3,
     "metadata": {},
     "output_type": "execute_result"
    }
   ],
   "source": [
    "findall('[0-9]', st1)"
   ]
  },
  {
   "cell_type": "code",
   "execution_count": 4,
   "id": "e45b9da3",
   "metadata": {},
   "outputs": [
    {
     "data": {
      "text/plain": [
       "['123', '555']"
      ]
     },
     "execution_count": 4,
     "metadata": {},
     "output_type": "execute_result"
    }
   ],
   "source": [
    "findall('[0-9]{3}', st1)"
   ]
  },
  {
   "cell_type": "code",
   "execution_count": 5,
   "id": "8ee78e94",
   "metadata": {},
   "outputs": [
    {
     "data": {
      "text/plain": [
       "['1234', '555']"
      ]
     },
     "execution_count": 5,
     "metadata": {},
     "output_type": "execute_result"
    }
   ],
   "source": [
    "findall('[0-9]{3,}', st1)"
   ]
  },
  {
   "cell_type": "code",
   "execution_count": 6,
   "id": "9fbad461",
   "metadata": {},
   "outputs": [
    {
     "data": {
      "text/plain": [
       "['1234', '555']"
      ]
     },
     "execution_count": 6,
     "metadata": {},
     "output_type": "execute_result"
    }
   ],
   "source": [
    "findall('\\\\d{3,}', st1)"
   ]
  },
  {
   "cell_type": "code",
   "execution_count": 7,
   "id": "253e0dcc",
   "metadata": {},
   "outputs": [
    {
     "data": {
      "text/plain": [
       "['홍길동', '이사도시']"
      ]
     },
     "execution_count": 7,
     "metadata": {},
     "output_type": "execute_result"
    }
   ],
   "source": [
    "findall('[가-힣]{3,}', st1)"
   ]
  },
  {
   "cell_type": "code",
   "execution_count": 8,
   "id": "9f127be5",
   "metadata": {},
   "outputs": [
    {
     "data": {
      "text/plain": [
       "['abc']"
      ]
     },
     "execution_count": 8,
     "metadata": {},
     "output_type": "execute_result"
    }
   ],
   "source": [
    "findall('[a-z]{3}', st1)"
   ]
  },
  {
   "cell_type": "code",
   "execution_count": 10,
   "id": "936adbc3",
   "metadata": {},
   "outputs": [
    {
     "data": {
      "text/plain": [
       "['abc', 'ABC']"
      ]
     },
     "execution_count": 10,
     "metadata": {},
     "output_type": "execute_result"
    }
   ],
   "source": [
    "findall('[a-z|A-Z]{3}', st1)"
   ]
  },
  {
   "cell_type": "code",
   "execution_count": 14,
   "id": "f9392a68",
   "metadata": {},
   "outputs": [
    {
     "data": {
      "text/plain": [
       "['test']"
      ]
     },
     "execution_count": 14,
     "metadata": {},
     "output_type": "execute_result"
    }
   ],
   "source": [
    "str2 = 'test1abcABC 123mbc 45test'\n",
    "findall('^test', str2)   "
   ]
  },
  {
   "cell_type": "code",
   "execution_count": 15,
   "id": "ccfedc97",
   "metadata": {},
   "outputs": [
    {
     "data": {
      "text/plain": [
       "['abc', 'mbc']"
      ]
     },
     "execution_count": 15,
     "metadata": {},
     "output_type": "execute_result"
    }
   ],
   "source": [
    "findall('.bc', str2)"
   ]
  },
  {
   "cell_type": "code",
   "execution_count": 16,
   "id": "bbc2ef9b",
   "metadata": {},
   "outputs": [
    {
     "data": {
      "text/plain": [
       "['te', 't1', 'te']"
      ]
     },
     "execution_count": 16,
     "metadata": {},
     "output_type": "execute_result"
    }
   ],
   "source": [
    "findall('t.', str2)"
   ]
  },
  {
   "cell_type": "code",
   "execution_count": 17,
   "id": "bf551fba",
   "metadata": {},
   "outputs": [
    {
     "data": {
      "text/plain": [
       "['test', '홍길동', 'abc', '123', 'tbc']"
      ]
     },
     "execution_count": 17,
     "metadata": {},
     "output_type": "execute_result"
    }
   ],
   "source": [
    "str3 = 'test^홍길동 abc 대한*민국 123$tbc'\n",
    "findall('\\\\w{3,}', str3)   #단어 찾기 한글+영문+숫자 중 하나가 3개 이상 연속된 것을 단어로 찾음"
   ]
  },
  {
   "cell_type": "code",
   "execution_count": 18,
   "id": "1fcd33c4",
   "metadata": {},
   "outputs": [
    {
     "data": {
      "text/plain": [
       "['test', '홍길동 abc 대한', '민국 123', 'tbc']"
      ]
     },
     "execution_count": 18,
     "metadata": {},
     "output_type": "execute_result"
    }
   ],
   "source": [
    "findall('[^^*$]+',str3)       # x+ x가 1개 이상 반복 \n",
    "# ^, *, $ 를 문자열에서 제거\n",
    "# ^ 다음에 오는 문자를 제외\n",
    "# + 기호앞에 오는 문자가 1개 이상 연속"
   ]
  },
  {
   "cell_type": "code",
   "execution_count": 1,
   "id": "fa37f7fd",
   "metadata": {},
   "outputs": [
    {
     "data": {
      "text/plain": [
       "<re.Match object; span=(0, 14), match='123456-3234567'>"
      ]
     },
     "execution_count": 1,
     "metadata": {},
     "output_type": "execute_result"
    }
   ],
   "source": [
    "from re import match\n",
    "\n",
    "jumin = '123456-3234567'\n",
    "result = match('[0-9]{6}-[1-4][0-9]{6}',jumin) \n",
    "result\n",
    "\n",
    "## '-' 기준으로 앞부분 6자리 숫자, 다음에 오는 성별 1자리숫자, 나머지 6자리 숫자"
   ]
  },
  {
   "cell_type": "code",
   "execution_count": 9,
   "id": "56bbd377",
   "metadata": {},
   "outputs": [
    {
     "data": {
      "text/plain": [
       "'test홍길동 abc 대한민국 123abc'"
      ]
     },
     "execution_count": 9,
     "metadata": {},
     "output_type": "execute_result"
    }
   ],
   "source": [
    "from re import sub\n",
    "st4 = 'test*홍길동 abc 대한**민국 123$$abc'\n",
    "\n",
    "# 특수문자 제거\n",
    "sub('[\\^*$]', '', st4)"
   ]
  },
  {
   "cell_type": "code",
   "execution_count": 5,
   "id": "b8519940",
   "metadata": {},
   "outputs": [
    {
     "data": {
      "text/plain": [
       "'test*홍길동 abc 대한*민국 $abc'"
      ]
     },
     "execution_count": 5,
     "metadata": {},
     "output_type": "execute_result"
    }
   ],
   "source": [
    "# 숫자 제거\n",
    "sub('[0-9]', '', st4)"
   ]
  },
  {
   "cell_type": "markdown",
   "id": "3cd4efa2",
   "metadata": {},
   "source": [
    "### 7.3 텍스트처리"
   ]
  },
  {
   "cell_type": "code",
   "execution_count": 13,
   "id": "479252ba",
   "metadata": {},
   "outputs": [
    {
     "data": {
      "text/plain": [
       "['http://www.naver.com', 'http://www.daum.net', 'www.hongkildong.com']"
      ]
     },
     "execution_count": 13,
     "metadata": {},
     "output_type": "execute_result"
    }
   ],
   "source": [
    "from re import split, match, compile\n",
    "\n",
    "multiline = '''http://www.naver.com\n",
    "http://www.daum.net\n",
    "www.hongkildong.com'''\n",
    "\n",
    "website = split('\\n', multiline)\n",
    "website"
   ]
  },
  {
   "cell_type": "code",
   "execution_count": 12,
   "id": "4e8fd3d4",
   "metadata": {},
   "outputs": [
    {
     "data": {
      "text/plain": [
       "re.compile(r'http://', re.UNICODE)"
      ]
     },
     "execution_count": 12,
     "metadata": {},
     "output_type": "execute_result"
    }
   ],
   "source": [
    "pat = compile('http://')\n",
    "pat"
   ]
  },
  {
   "cell_type": "code",
   "execution_count": 14,
   "id": "6352a2f0",
   "metadata": {},
   "outputs": [
    {
     "data": {
      "text/plain": [
       "['http://www.naver.com', 'http://www.daum.net']"
      ]
     },
     "execution_count": 14,
     "metadata": {},
     "output_type": "execute_result"
    }
   ],
   "source": [
    "[site for site in website if match(pat, site)]"
   ]
  },
  {
   "cell_type": "code",
   "execution_count": 15,
   "id": "6225dbd4",
   "metadata": {},
   "outputs": [],
   "source": [
    "from re import findall, sub\n",
    "texts = [' 우리나라   대한민국, 우리나라%$ a만세', '비아그&라 500GRAM 정렬 최고!','나는 대한민국 사람','보험료 15000원에 평생 보장 마감 임박','나는 홍길동']"
   ]
  },
  {
   "cell_type": "code",
   "execution_count": 21,
   "id": "a24d20f1",
   "metadata": {},
   "outputs": [
    {
     "data": {
      "text/plain": [
       "[' 우리나라   대한민국, 우리나라%$ a만세',\n",
       " '비아그&라 500gram 정렬 최고!',\n",
       " '나는 대한민국 사람',\n",
       " '보험료 15000원에 평생 보장 마감 임박',\n",
       " '나는 홍길동']"
      ]
     },
     "execution_count": 21,
     "metadata": {},
     "output_type": "execute_result"
    }
   ],
   "source": [
    "# 소문자변경\n",
    "texts_re1 = [t.lower() for t in texts]\n",
    "texts_re1"
   ]
  },
  {
   "cell_type": "code",
   "execution_count": 22,
   "id": "d4981f67",
   "metadata": {},
   "outputs": [
    {
     "data": {
      "text/plain": [
       "[' 우리나라   대한민국, 우리나라%$ a만세',\n",
       " '비아그&라 gram 정렬 최고!',\n",
       " '나는 대한민국 사람',\n",
       " '보험료 원에 평생 보장 마감 임박',\n",
       " '나는 홍길동']"
      ]
     },
     "execution_count": 22,
     "metadata": {},
     "output_type": "execute_result"
    }
   ],
   "source": [
    "# 숫자 제거\n",
    "texts_re2 = [sub('[0-9]','', text) for text in texts_re1]\n",
    "texts_re2"
   ]
  },
  {
   "cell_type": "code",
   "execution_count": 23,
   "id": "0956ea90",
   "metadata": {},
   "outputs": [
    {
     "data": {
      "text/plain": [
       "[' 우리나라   대한민국 우리나라%$ a만세',\n",
       " '비아그&라 gram 정렬 최고',\n",
       " '나는 대한민국 사람',\n",
       " '보험료 원에 평생 보장 마감 임박',\n",
       " '나는 홍길동']"
      ]
     },
     "execution_count": 23,
     "metadata": {},
     "output_type": "execute_result"
    }
   ],
   "source": [
    "# 문장부호 제거\n",
    "texts_re3 = [sub('[,.?!;:]','', text) for text in texts_re2]\n",
    "texts_re3"
   ]
  },
  {
   "cell_type": "code",
   "execution_count": 24,
   "id": "4413ef9c",
   "metadata": {},
   "outputs": [
    {
     "data": {
      "text/plain": [
       "[' 우리나라   대한민국 우리나라 a만세',\n",
       " '비아그라 gram 정렬 최고',\n",
       " '나는 대한민국 사람',\n",
       " '보험료 원에 평생 보장 마감 임박',\n",
       " '나는 홍길동']"
      ]
     },
     "execution_count": 24,
     "metadata": {},
     "output_type": "execute_result"
    }
   ],
   "source": [
    "# 특수문자 제거\n",
    "texts_re4 = [sub('[@#$%^&*()]','', text) for text in texts_re3]\n",
    "texts_re4"
   ]
  },
  {
   "cell_type": "code",
   "execution_count": 25,
   "id": "435cfc7d",
   "metadata": {},
   "outputs": [
    {
     "data": {
      "text/plain": [
       "[' 우리나라   대한민국 우리나라 만세',\n",
       " '비아그라  정렬 최고',\n",
       " '나는 대한민국 사람',\n",
       " '보험료 원에 평생 보장 마감 임박',\n",
       " '나는 홍길동']"
      ]
     },
     "execution_count": 25,
     "metadata": {},
     "output_type": "execute_result"
    }
   ],
   "source": [
    "# 영문자 제거\n",
    "texts_re5 = [''.join(findall(\"[^a-z]\", text)) for text in texts_re4]\n",
    "texts_re5"
   ]
  },
  {
   "cell_type": "code",
   "execution_count": 32,
   "id": "e5d448b3",
   "metadata": {
    "scrolled": true
   },
   "outputs": [
    {
     "data": {
      "text/plain": [
       "'우리나라 대한민국 우리나라 만세'"
      ]
     },
     "execution_count": 32,
     "metadata": {},
     "output_type": "execute_result"
    }
   ],
   "source": [
    "' '.join(texts_re5[0].split())"
   ]
  },
  {
   "cell_type": "code",
   "execution_count": null,
   "id": "d7c82890",
   "metadata": {},
   "outputs": [],
   "source": [
    "# 공백제거\n",
    "texts_re6 = [' '.join(text.split() for text in texts_re5]\n",
    "texts_re6"
   ]
  },
  {
   "cell_type": "markdown",
   "id": "636f7d12",
   "metadata": {},
   "source": [
    "### 7.3.3 전처리함수"
   ]
  },
  {
   "cell_type": "code",
   "execution_count": 35,
   "id": "d9e1c0b3",
   "metadata": {},
   "outputs": [],
   "source": [
    "from re import findall, sub\n",
    "texts = [' 우리나라   대한민국, 우리나라%$ a만세', '비아그&라 500GRAM 정렬 최고!','나는 대한민국 사람','보험료 15000원에 평생 보장 마감 임박','나는 홍길동']\n",
    "\n",
    "def clean_text(text):\n",
    "    texts_re1 = text.lower()  # 소문자변경\n",
    "    texts_re2 = sub('[0-9]','', texts_re1)   # 숫자제거  \n",
    "    texts_re3 = sub('[,.?!;:]','', texts_re2)   # 문장부호 제거\n",
    "    texts_re4 = sub('[@#$%^&*()]','', texts_re3)  # 특수문자 제거\n",
    "    texts_re5 = sub(\"[a-z]\",'', texts_re4)  # 영문자제거\n",
    "    texts_re6 = ' '.join(texts_re5.split())\n",
    "    return texts_re6"
   ]
  },
  {
   "cell_type": "code",
   "execution_count": 36,
   "id": "cfecb718",
   "metadata": {},
   "outputs": [
    {
     "data": {
      "text/plain": [
       "['우리나라 대한민국 우리나라 만세',\n",
       " '비아그라 정렬 최고',\n",
       " '나는 대한민국 사람',\n",
       " '보험료 원에 평생 보장 마감 임박',\n",
       " '나는 홍길동']"
      ]
     },
     "execution_count": 36,
     "metadata": {},
     "output_type": "execute_result"
    }
   ],
   "source": [
    "[clean_text(text) for text in texts]"
   ]
  },
  {
   "cell_type": "code",
   "execution_count": null,
   "id": "56d63818",
   "metadata": {},
   "outputs": [],
   "source": []
  }
 ],
 "metadata": {
  "kernelspec": {
   "display_name": "Python 3 (ipykernel)",
   "language": "python",
   "name": "python3"
  },
  "language_info": {
   "codemirror_mode": {
    "name": "ipython",
    "version": 3
   },
   "file_extension": ".py",
   "mimetype": "text/x-python",
   "name": "python",
   "nbconvert_exporter": "python",
   "pygments_lexer": "ipython3",
   "version": "3.8.10"
  }
 },
 "nbformat": 4,
 "nbformat_minor": 5
}
