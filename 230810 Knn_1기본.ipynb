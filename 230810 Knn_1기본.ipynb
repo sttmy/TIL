{
 "cells": [
  {
   "cell_type": "markdown",
   "id": "f0f3f745",
   "metadata": {},
   "source": [
    "### 사례기반추론: k-최근접 이웃 알고리즘(k-NN, k-Nearest Neighbor)\n",
    "- 최근접 이웃과의 거리가 가까운 (유사도가 높은) 개체를 기준으로 분류하는 알고리즘\n",
    "\n",
    "- 1) 거리(유사도)의 계산방법\n",
    "    - 유클리드 거리(Euclidean distance)가 주로 사용됨\n",
    "    - 맨해튼 거리(Manhattan distance)\n",
    "\n",
    "- 2) 분류 방법\n",
    "    - 같은 값이라도 k(최근접 이웃)의 개수에 따라 분류 결과가 달라진다.\n",
    "    - ① k=1인 경우: 가장 가까운 클래스로 분류됨\n",
    "    - ② k=3인 경우: Black과는 1개가 가깝고 White와는 2개가 가까운 경우, 다수결의 원칙에 따라 White로 분류됨\n",
    "    - k=짝수는 잘 안쓰는 편임.\n",
    "\n",
    "classifier를 제일 많이 씀\n",
    "\n",
    "비슷한 사례가 없으면 거의 못 맞춤\n"
   ]
  },
  {
   "cell_type": "code",
   "execution_count": 1,
   "id": "29d82916",
   "metadata": {},
   "outputs": [
    {
     "name": "stdout",
     "output_type": "stream",
     "text": [
      "[0]\n",
      "[[0.66666667 0.33333333]]\n",
      "[0]\n"
     ]
    }
   ],
   "source": [
    "# 지도학습\n",
    "from sklearn.neighbors import KNeighborsClassifier\n",
    "\n",
    "X = [[0], [1], [2], [3]]  \n",
    "y = [0, 0, 1, 1]\n",
    "knn = KNeighborsClassifier(n_neighbors=3)\n",
    "knn.fit(X, y)\n",
    "\n",
    "#1.1의 분류는?\n",
    "print(knn.predict([[1.1]])) # 0으로 분류됨\n",
    "\n",
    "#0.9는 0일 확률 66%, 1일 확률 33% => 0으로 분류됨\n",
    "print(knn.predict_proba([[0.9]]))\n",
    "print(knn.predict([[0.9]]))"
   ]
  },
  {
   "cell_type": "code",
   "execution_count": 2,
   "id": "39415882",
   "metadata": {},
   "outputs": [
    {
     "name": "stdout",
     "output_type": "stream",
     "text": [
      "(array([[0.8]]), array([[2]], dtype=int64))\n"
     ]
    }
   ],
   "source": [
    "# 비지도학습\n",
    "from sklearn.neighbors import NearestNeighbors    \n",
    "samples = [[0, 0, 0], [0, 0.5, 0], [1, 1, 0.2]]\n",
    "nn = NearestNeighbors(n_neighbors=1)\n",
    "nn.fit(samples)\n",
    "\n",
    "#새로운 데이터 1,1,1에 가장 가까운 데이터는?\n",
    "print(nn.kneighbors([[1., 1., 1.]]))  # 세번째([[2]])가 가장 가깝고 거리는 0.8"
   ]
  },
  {
   "cell_type": "code",
   "execution_count": 3,
   "id": "f0125189",
   "metadata": {},
   "outputs": [
    {
     "name": "stdout",
     "output_type": "stream",
     "text": [
      "[32.5]\n",
      "[21.  21.  32.5 32.5]\n"
     ]
    }
   ],
   "source": [
    "# 최근접 이웃 회귀모형\n",
    "from sklearn.neighbors import KNeighborsRegressor\n",
    "X = [[40], [45], [60], [70]] #평방미터\n",
    "y = [20, 22, 30, 35] #월세\n",
    "neigh = KNeighborsRegressor(n_neighbors=2)\n",
    "neigh.fit(X, y)\n",
    "\n",
    "# 65평방미터일 때의 월세는?\n",
    "print(neigh.predict([[65]]))\n",
    "print(neigh.predict(X))"
   ]
  },
  {
   "cell_type": "code",
   "execution_count": null,
   "id": "1607e95c",
   "metadata": {},
   "outputs": [],
   "source": []
  },
  {
   "cell_type": "code",
   "execution_count": null,
   "id": "4efb7b17",
   "metadata": {},
   "outputs": [],
   "source": []
  },
  {
   "cell_type": "code",
   "execution_count": null,
   "id": "833e5c90",
   "metadata": {},
   "outputs": [],
   "source": []
  }
 ],
 "metadata": {
  "kernelspec": {
   "display_name": "Python 3 (ipykernel)",
   "language": "python",
   "name": "python3"
  },
  "language_info": {
   "codemirror_mode": {
    "name": "ipython",
    "version": 3
   },
   "file_extension": ".py",
   "mimetype": "text/x-python",
   "name": "python",
   "nbconvert_exporter": "python",
   "pygments_lexer": "ipython3",
   "version": "3.9.13"
  }
 },
 "nbformat": 4,
 "nbformat_minor": 5
}
