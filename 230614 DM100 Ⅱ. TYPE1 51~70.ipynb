{
 "cells": [
  {
   "cell_type": "code",
   "execution_count": 1,
   "id": "80a3bf62",
   "metadata": {},
   "outputs": [],
   "source": [
    "import pandas as pd\n",
    "import numpy as np\n",
    "import datetime as dt"
   ]
  },
  {
   "cell_type": "markdown",
   "id": "2df7ca2e",
   "metadata": {},
   "source": [
    "## 지역구 에너지 소비량 데이터"
   ]
  },
  {
   "cell_type": "code",
   "execution_count": 2,
   "id": "bd28ca05",
   "metadata": {},
   "outputs": [
    {
     "data": {
      "text/html": [
       "<div>\n",
       "<style scoped>\n",
       "    .dataframe tbody tr th:only-of-type {\n",
       "        vertical-align: middle;\n",
       "    }\n",
       "\n",
       "    .dataframe tbody tr th {\n",
       "        vertical-align: top;\n",
       "    }\n",
       "\n",
       "    .dataframe thead th {\n",
       "        text-align: right;\n",
       "    }\n",
       "</style>\n",
       "<table border=\"1\" class=\"dataframe\">\n",
       "  <thead>\n",
       "    <tr style=\"text-align: right;\">\n",
       "      <th></th>\n",
       "      <th>DateTime</th>\n",
       "      <th>Temperature</th>\n",
       "      <th>Humidity</th>\n",
       "      <th>Wind Speed</th>\n",
       "      <th>general diffuse flows</th>\n",
       "      <th>diffuse flows</th>\n",
       "      <th>Zone 1 Power Consumption</th>\n",
       "      <th>Zone 2  Power Consumption</th>\n",
       "      <th>Zone 3  Power Consumption</th>\n",
       "    </tr>\n",
       "  </thead>\n",
       "  <tbody>\n",
       "    <tr>\n",
       "      <th>0</th>\n",
       "      <td>1/1/2017 0:00</td>\n",
       "      <td>6.559</td>\n",
       "      <td>73.8</td>\n",
       "      <td>0.083</td>\n",
       "      <td>0.051</td>\n",
       "      <td>0.119</td>\n",
       "      <td>34055.69620</td>\n",
       "      <td>16128.87538</td>\n",
       "      <td>20240.96386</td>\n",
       "    </tr>\n",
       "    <tr>\n",
       "      <th>1</th>\n",
       "      <td>1/1/2017 0:10</td>\n",
       "      <td>6.414</td>\n",
       "      <td>74.5</td>\n",
       "      <td>0.083</td>\n",
       "      <td>0.070</td>\n",
       "      <td>0.085</td>\n",
       "      <td>29814.68354</td>\n",
       "      <td>19375.07599</td>\n",
       "      <td>20131.08434</td>\n",
       "    </tr>\n",
       "    <tr>\n",
       "      <th>2</th>\n",
       "      <td>1/1/2017 0:20</td>\n",
       "      <td>6.313</td>\n",
       "      <td>74.5</td>\n",
       "      <td>0.080</td>\n",
       "      <td>0.062</td>\n",
       "      <td>0.100</td>\n",
       "      <td>29128.10127</td>\n",
       "      <td>19006.68693</td>\n",
       "      <td>19668.43373</td>\n",
       "    </tr>\n",
       "    <tr>\n",
       "      <th>3</th>\n",
       "      <td>1/1/2017 0:30</td>\n",
       "      <td>6.121</td>\n",
       "      <td>75.0</td>\n",
       "      <td>0.083</td>\n",
       "      <td>0.091</td>\n",
       "      <td>0.096</td>\n",
       "      <td>28228.86076</td>\n",
       "      <td>18361.09422</td>\n",
       "      <td>18899.27711</td>\n",
       "    </tr>\n",
       "    <tr>\n",
       "      <th>4</th>\n",
       "      <td>1/1/2017 0:40</td>\n",
       "      <td>5.921</td>\n",
       "      <td>75.7</td>\n",
       "      <td>0.081</td>\n",
       "      <td>0.048</td>\n",
       "      <td>0.085</td>\n",
       "      <td>27335.69620</td>\n",
       "      <td>17872.34043</td>\n",
       "      <td>18442.40964</td>\n",
       "    </tr>\n",
       "  </tbody>\n",
       "</table>\n",
       "</div>"
      ],
      "text/plain": [
       "        DateTime  Temperature  Humidity  Wind Speed  general diffuse flows   \n",
       "0  1/1/2017 0:00        6.559      73.8       0.083                  0.051  \\\n",
       "1  1/1/2017 0:10        6.414      74.5       0.083                  0.070   \n",
       "2  1/1/2017 0:20        6.313      74.5       0.080                  0.062   \n",
       "3  1/1/2017 0:30        6.121      75.0       0.083                  0.091   \n",
       "4  1/1/2017 0:40        5.921      75.7       0.081                  0.048   \n",
       "\n",
       "   diffuse flows  Zone 1 Power Consumption  Zone 2  Power Consumption   \n",
       "0          0.119               34055.69620                16128.87538  \\\n",
       "1          0.085               29814.68354                19375.07599   \n",
       "2          0.100               29128.10127                19006.68693   \n",
       "3          0.096               28228.86076                18361.09422   \n",
       "4          0.085               27335.69620                17872.34043   \n",
       "\n",
       "   Zone 3  Power Consumption  \n",
       "0                20240.96386  \n",
       "1                20131.08434  \n",
       "2                19668.43373  \n",
       "3                18899.27711  \n",
       "4                18442.40964  "
      ]
     },
     "execution_count": 2,
     "metadata": {},
     "output_type": "execute_result"
    }
   ],
   "source": [
    "url = 'https://raw.githubusercontent.com/Datamanim/datarepo/main/consum/Tetuan%20City%20power%20consumption.csv'\n",
    "df= pd.read_csv(url)\n",
    "df.head()"
   ]
  },
  {
   "cell_type": "markdown",
   "id": "724d9749",
   "metadata": {},
   "source": [
    "Q51. DateTime컬럼을 통해 각 월별로 몇개의 데이터가 있는지 데이터 프레임으로 구하여라"
   ]
  },
  {
   "cell_type": "code",
   "execution_count": 3,
   "id": "14066315",
   "metadata": {},
   "outputs": [],
   "source": [
    "df.DateTime = pd.to_datetime(df.DateTime)"
   ]
  },
  {
   "cell_type": "code",
   "execution_count": 4,
   "id": "58c20f4a",
   "metadata": {},
   "outputs": [
    {
     "data": {
      "text/plain": [
       "(Timestamp('2017-01-01 00:00:00'), Timestamp('2017-12-30 23:50:00'))"
      ]
     },
     "execution_count": 4,
     "metadata": {},
     "output_type": "execute_result"
    }
   ],
   "source": [
    "df.DateTime.min(), df.DateTime.max()"
   ]
  },
  {
   "cell_type": "code",
   "execution_count": 5,
   "id": "e79373c2",
   "metadata": {},
   "outputs": [
    {
     "data": {
      "text/html": [
       "<div>\n",
       "<style scoped>\n",
       "    .dataframe tbody tr th:only-of-type {\n",
       "        vertical-align: middle;\n",
       "    }\n",
       "\n",
       "    .dataframe tbody tr th {\n",
       "        vertical-align: top;\n",
       "    }\n",
       "\n",
       "    .dataframe thead th {\n",
       "        text-align: right;\n",
       "    }\n",
       "</style>\n",
       "<table border=\"1\" class=\"dataframe\">\n",
       "  <thead>\n",
       "    <tr style=\"text-align: right;\">\n",
       "      <th></th>\n",
       "      <th>데이터개수</th>\n",
       "    </tr>\n",
       "    <tr>\n",
       "      <th>DateTime</th>\n",
       "      <th></th>\n",
       "    </tr>\n",
       "  </thead>\n",
       "  <tbody>\n",
       "    <tr>\n",
       "      <th>1</th>\n",
       "      <td>4464</td>\n",
       "    </tr>\n",
       "    <tr>\n",
       "      <th>2</th>\n",
       "      <td>4032</td>\n",
       "    </tr>\n",
       "    <tr>\n",
       "      <th>3</th>\n",
       "      <td>4464</td>\n",
       "    </tr>\n",
       "    <tr>\n",
       "      <th>4</th>\n",
       "      <td>4320</td>\n",
       "    </tr>\n",
       "    <tr>\n",
       "      <th>5</th>\n",
       "      <td>4464</td>\n",
       "    </tr>\n",
       "    <tr>\n",
       "      <th>6</th>\n",
       "      <td>4320</td>\n",
       "    </tr>\n",
       "    <tr>\n",
       "      <th>7</th>\n",
       "      <td>4464</td>\n",
       "    </tr>\n",
       "    <tr>\n",
       "      <th>8</th>\n",
       "      <td>4464</td>\n",
       "    </tr>\n",
       "    <tr>\n",
       "      <th>9</th>\n",
       "      <td>4320</td>\n",
       "    </tr>\n",
       "    <tr>\n",
       "      <th>10</th>\n",
       "      <td>4464</td>\n",
       "    </tr>\n",
       "    <tr>\n",
       "      <th>11</th>\n",
       "      <td>4320</td>\n",
       "    </tr>\n",
       "    <tr>\n",
       "      <th>12</th>\n",
       "      <td>4320</td>\n",
       "    </tr>\n",
       "  </tbody>\n",
       "</table>\n",
       "</div>"
      ],
      "text/plain": [
       "          데이터개수\n",
       "DateTime       \n",
       "1          4464\n",
       "2          4032\n",
       "3          4464\n",
       "4          4320\n",
       "5          4464\n",
       "6          4320\n",
       "7          4464\n",
       "8          4464\n",
       "9          4320\n",
       "10         4464\n",
       "11         4320\n",
       "12         4320"
      ]
     },
     "execution_count": 5,
     "metadata": {},
     "output_type": "execute_result"
    }
   ],
   "source": [
    "df.groupby(df.DateTime.dt.month).size().to_frame('데이터개수')"
   ]
  },
  {
   "cell_type": "markdown",
   "id": "8df6e284",
   "metadata": {},
   "source": [
    "Q52.3월달의 각 시간대별 온도의 평균들 중 가장 낮은 시간대의 온도를 출력하라"
   ]
  },
  {
   "cell_type": "code",
   "execution_count": 6,
   "id": "82f09fa9",
   "metadata": {},
   "outputs": [
    {
     "data": {
      "text/html": [
       "<div>\n",
       "<style scoped>\n",
       "    .dataframe tbody tr th:only-of-type {\n",
       "        vertical-align: middle;\n",
       "    }\n",
       "\n",
       "    .dataframe tbody tr th {\n",
       "        vertical-align: top;\n",
       "    }\n",
       "\n",
       "    .dataframe thead th {\n",
       "        text-align: right;\n",
       "    }\n",
       "</style>\n",
       "<table border=\"1\" class=\"dataframe\">\n",
       "  <thead>\n",
       "    <tr style=\"text-align: right;\">\n",
       "      <th></th>\n",
       "      <th>DateTime</th>\n",
       "      <th>Temperature</th>\n",
       "      <th>Humidity</th>\n",
       "      <th>Wind Speed</th>\n",
       "      <th>general diffuse flows</th>\n",
       "      <th>diffuse flows</th>\n",
       "      <th>Zone 1 Power Consumption</th>\n",
       "      <th>Zone 2  Power Consumption</th>\n",
       "      <th>Zone 3  Power Consumption</th>\n",
       "    </tr>\n",
       "  </thead>\n",
       "  <tbody>\n",
       "    <tr>\n",
       "      <th>0</th>\n",
       "      <td>2017-01-01 00:00:00</td>\n",
       "      <td>6.559</td>\n",
       "      <td>73.8</td>\n",
       "      <td>0.083</td>\n",
       "      <td>0.051</td>\n",
       "      <td>0.119</td>\n",
       "      <td>34055.69620</td>\n",
       "      <td>16128.87538</td>\n",
       "      <td>20240.96386</td>\n",
       "    </tr>\n",
       "    <tr>\n",
       "      <th>1</th>\n",
       "      <td>2017-01-01 00:10:00</td>\n",
       "      <td>6.414</td>\n",
       "      <td>74.5</td>\n",
       "      <td>0.083</td>\n",
       "      <td>0.070</td>\n",
       "      <td>0.085</td>\n",
       "      <td>29814.68354</td>\n",
       "      <td>19375.07599</td>\n",
       "      <td>20131.08434</td>\n",
       "    </tr>\n",
       "    <tr>\n",
       "      <th>2</th>\n",
       "      <td>2017-01-01 00:20:00</td>\n",
       "      <td>6.313</td>\n",
       "      <td>74.5</td>\n",
       "      <td>0.080</td>\n",
       "      <td>0.062</td>\n",
       "      <td>0.100</td>\n",
       "      <td>29128.10127</td>\n",
       "      <td>19006.68693</td>\n",
       "      <td>19668.43373</td>\n",
       "    </tr>\n",
       "  </tbody>\n",
       "</table>\n",
       "</div>"
      ],
      "text/plain": [
       "             DateTime  Temperature  Humidity  Wind Speed   \n",
       "0 2017-01-01 00:00:00        6.559      73.8       0.083  \\\n",
       "1 2017-01-01 00:10:00        6.414      74.5       0.083   \n",
       "2 2017-01-01 00:20:00        6.313      74.5       0.080   \n",
       "\n",
       "   general diffuse flows  diffuse flows  Zone 1 Power Consumption   \n",
       "0                  0.051          0.119               34055.69620  \\\n",
       "1                  0.070          0.085               29814.68354   \n",
       "2                  0.062          0.100               29128.10127   \n",
       "\n",
       "   Zone 2  Power Consumption  Zone 3  Power Consumption  \n",
       "0                16128.87538                20240.96386  \n",
       "1                19375.07599                20131.08434  \n",
       "2                19006.68693                19668.43373  "
      ]
     },
     "execution_count": 6,
     "metadata": {},
     "output_type": "execute_result"
    }
   ],
   "source": [
    "df.head(3)"
   ]
  },
  {
   "cell_type": "code",
   "execution_count": 29,
   "id": "e3546f9b",
   "metadata": {},
   "outputs": [
    {
     "data": {
      "text/plain": [
       "11.506612903225806"
      ]
     },
     "execution_count": 29,
     "metadata": {},
     "output_type": "execute_result"
    }
   ],
   "source": [
    "df[df.DateTime.dt.month == 3].groupby(df.DateTime.dt.hour).mean().Temperature.sort_values().iloc[0]"
   ]
  },
  {
   "cell_type": "code",
   "execution_count": 30,
   "id": "923e2bee",
   "metadata": {},
   "outputs": [
    {
     "data": {
      "text/plain": [
       "11.506612903225806"
      ]
     },
     "execution_count": 30,
     "metadata": {},
     "output_type": "execute_result"
    }
   ],
   "source": [
    "df[df.DateTime.dt.month == 3].groupby(df.DateTime.dt.hour)['Temperature'].mean().sort_values().values[0]"
   ]
  },
  {
   "cell_type": "markdown",
   "id": "3e3ebdb6",
   "metadata": {},
   "source": [
    "Q53. 3월달의 각 시간대별 온도의 평균들 중 가장 높은 시간대의 온도를 출력하라"
   ]
  },
  {
   "cell_type": "code",
   "execution_count": 7,
   "id": "92e53ca6",
   "metadata": {},
   "outputs": [
    {
     "data": {
      "text/plain": [
       "18.393602150537635"
      ]
     },
     "execution_count": 7,
     "metadata": {},
     "output_type": "execute_result"
    }
   ],
   "source": [
    "df[df.DateTime.dt.month == 3].groupby(df.DateTime.dt.hour)['Temperature'].mean().sort_values().values[-1]"
   ]
  },
  {
   "cell_type": "markdown",
   "id": "6d9d7d64",
   "metadata": {},
   "source": [
    "Q54.Zone 1 Power Consumption 컬럼의 value값의 크기가 Zone 2 Power Consumption 컬럼의 value값의 크기보다 큰 데이터들의 Humidity의 평균을 구하여라"
   ]
  },
  {
   "cell_type": "code",
   "execution_count": 9,
   "id": "8f2e7abd",
   "metadata": {},
   "outputs": [
    {
     "name": "stdout",
     "output_type": "stream",
     "text": [
      "<class 'pandas.core.frame.DataFrame'>\n",
      "RangeIndex: 52416 entries, 0 to 52415\n",
      "Data columns (total 9 columns):\n",
      " #   Column                     Non-Null Count  Dtype         \n",
      "---  ------                     --------------  -----         \n",
      " 0   DateTime                   52416 non-null  datetime64[ns]\n",
      " 1   Temperature                52416 non-null  float64       \n",
      " 2   Humidity                   52416 non-null  float64       \n",
      " 3   Wind Speed                 52416 non-null  float64       \n",
      " 4   general diffuse flows      52416 non-null  float64       \n",
      " 5   diffuse flows              52416 non-null  float64       \n",
      " 6   Zone 1 Power Consumption   52416 non-null  float64       \n",
      " 7   Zone 2  Power Consumption  52416 non-null  float64       \n",
      " 8   Zone 3  Power Consumption  52416 non-null  float64       \n",
      "dtypes: datetime64[ns](1), float64(8)\n",
      "memory usage: 3.6 MB\n"
     ]
    }
   ],
   "source": [
    "df.info()"
   ]
  },
  {
   "cell_type": "code",
   "execution_count": 10,
   "id": "4735de07",
   "metadata": {},
   "outputs": [
    {
     "data": {
      "text/plain": [
       "68.23624448055052"
      ]
     },
     "execution_count": 10,
     "metadata": {},
     "output_type": "execute_result"
    }
   ],
   "source": [
    "df[df['Zone 1 Power Consumption'] >  df['Zone 2  Power Consumption']].Humidity.mean()"
   ]
  },
  {
   "cell_type": "markdown",
   "id": "b0d4e186",
   "metadata": {},
   "source": [
    "Q55.각 zone의 에너지 소비량의 상관관계를 구해서 데이터 프레임으로 표기하라"
   ]
  },
  {
   "cell_type": "code",
   "execution_count": 14,
   "id": "2f27b122",
   "metadata": {},
   "outputs": [
    {
     "data": {
      "text/html": [
       "<div>\n",
       "<style scoped>\n",
       "    .dataframe tbody tr th:only-of-type {\n",
       "        vertical-align: middle;\n",
       "    }\n",
       "\n",
       "    .dataframe tbody tr th {\n",
       "        vertical-align: top;\n",
       "    }\n",
       "\n",
       "    .dataframe thead th {\n",
       "        text-align: right;\n",
       "    }\n",
       "</style>\n",
       "<table border=\"1\" class=\"dataframe\">\n",
       "  <thead>\n",
       "    <tr style=\"text-align: right;\">\n",
       "      <th></th>\n",
       "      <th>Zone 1 Power Consumption</th>\n",
       "      <th>Zone 2  Power Consumption</th>\n",
       "      <th>Zone 3  Power Consumption</th>\n",
       "    </tr>\n",
       "  </thead>\n",
       "  <tbody>\n",
       "    <tr>\n",
       "      <th>Zone 1 Power Consumption</th>\n",
       "      <td>1.000000</td>\n",
       "      <td>0.834519</td>\n",
       "      <td>0.750733</td>\n",
       "    </tr>\n",
       "    <tr>\n",
       "      <th>Zone 2  Power Consumption</th>\n",
       "      <td>0.834519</td>\n",
       "      <td>1.000000</td>\n",
       "      <td>0.570932</td>\n",
       "    </tr>\n",
       "    <tr>\n",
       "      <th>Zone 3  Power Consumption</th>\n",
       "      <td>0.750733</td>\n",
       "      <td>0.570932</td>\n",
       "      <td>1.000000</td>\n",
       "    </tr>\n",
       "  </tbody>\n",
       "</table>\n",
       "</div>"
      ],
      "text/plain": [
       "                           Zone 1 Power Consumption   \n",
       "Zone 1 Power Consumption                   1.000000  \\\n",
       "Zone 2  Power Consumption                  0.834519   \n",
       "Zone 3  Power Consumption                  0.750733   \n",
       "\n",
       "                           Zone 2  Power Consumption   \n",
       "Zone 1 Power Consumption                    0.834519  \\\n",
       "Zone 2  Power Consumption                   1.000000   \n",
       "Zone 3  Power Consumption                   0.570932   \n",
       "\n",
       "                           Zone 3  Power Consumption  \n",
       "Zone 1 Power Consumption                    0.750733  \n",
       "Zone 2  Power Consumption                   0.570932  \n",
       "Zone 3  Power Consumption                   1.000000  "
      ]
     },
     "execution_count": 14,
     "metadata": {},
     "output_type": "execute_result"
    }
   ],
   "source": [
    "df.iloc[:,-3:].corr()"
   ]
  },
  {
   "cell_type": "markdown",
   "id": "92f416d3",
   "metadata": {},
   "source": [
    "Q56.Temperature의 값이 10미만의 경우 A, 10이상 20미만의 경우 B,20이상 30미만의 경우 C, 그 외의 경우 D라고 할때 각 단계의 데이터 숫자를 구하여라"
   ]
  },
  {
   "cell_type": "code",
   "execution_count": 17,
   "id": "311240ee",
   "metadata": {},
   "outputs": [
    {
     "data": {
      "text/plain": [
       "Temperature\n",
       "B    26993\n",
       "C    21105\n",
       "A     2874\n",
       "D     1444\n",
       "Name: count, dtype: int64"
      ]
     },
     "execution_count": 17,
     "metadata": {},
     "output_type": "execute_result"
    }
   ],
   "source": [
    "df.Temperature.apply(lambda x: 'A' if x<10 else 'B' if x<20 else 'C' if x<30 else 'D').value_counts()"
   ]
  },
  {
   "cell_type": "markdown",
   "id": "698f6784",
   "metadata": {},
   "source": [
    "Q57.6월 데이터중 12시의 Temperature의 표준편차를 구하여라"
   ]
  },
  {
   "cell_type": "code",
   "execution_count": 20,
   "id": "be2eac7b",
   "metadata": {},
   "outputs": [
    {
     "data": {
      "text/plain": [
       "2.0499417827951025"
      ]
     },
     "execution_count": 20,
     "metadata": {},
     "output_type": "execute_result"
    }
   ],
   "source": [
    "df[df.DateTime.dt.month == 6][df[df.DateTime.dt.month == 6].DateTime.dt.hour == 12].Temperature.std()"
   ]
  },
  {
   "cell_type": "code",
   "execution_count": 21,
   "id": "60cd9581",
   "metadata": {},
   "outputs": [
    {
     "data": {
      "text/plain": [
       "2.0499417827951025"
      ]
     },
     "execution_count": 21,
     "metadata": {},
     "output_type": "execute_result"
    }
   ],
   "source": [
    "df[(df.DateTime.dt.month == 6) * (df.DateTime.dt.hour == 12)].Temperature.std()"
   ]
  },
  {
   "cell_type": "markdown",
   "id": "119529ec",
   "metadata": {},
   "source": [
    "Q58.6월 데이터중 12시의 Temperature의 분산을 구하여라"
   ]
  },
  {
   "cell_type": "code",
   "execution_count": 22,
   "id": "7dc95935",
   "metadata": {},
   "outputs": [
    {
     "data": {
      "text/plain": [
       "4.202261312849163"
      ]
     },
     "execution_count": 22,
     "metadata": {},
     "output_type": "execute_result"
    }
   ],
   "source": [
    "df[(df.DateTime.dt.month == 6) * (df.DateTime.dt.hour == 12)].Temperature.var()"
   ]
  },
  {
   "cell_type": "markdown",
   "id": "e59e14b8",
   "metadata": {},
   "source": [
    "Q59.Temperature의 평균이상의 Temperature의 값을 가지는 데이터를 Temperature를 기준으로 정렬 했을때 4번째 행의 Humidity 값은?"
   ]
  },
  {
   "cell_type": "code",
   "execution_count": 26,
   "id": "043721c5",
   "metadata": {},
   "outputs": [
    {
     "data": {
      "text/plain": [
       "87.9"
      ]
     },
     "execution_count": 26,
     "metadata": {},
     "output_type": "execute_result"
    }
   ],
   "source": [
    "df[ df.Temperature >= df.Temperature.mean() ].sort_values(\"Temperature\").iloc[3].Humidity"
   ]
  },
  {
   "cell_type": "code",
   "execution_count": 28,
   "id": "f05c5311",
   "metadata": {},
   "outputs": [
    {
     "data": {
      "text/plain": [
       "87.9"
      ]
     },
     "execution_count": 28,
     "metadata": {},
     "output_type": "execute_result"
    }
   ],
   "source": [
    "df[df.Temperature >= df.Temperature.mean()].sort_values('Temperature').Humidity.values[3]"
   ]
  },
  {
   "cell_type": "markdown",
   "id": "621e7440",
   "metadata": {},
   "source": [
    "Q60.Temperature의 중간값 이상의 Temperature의 값을 가지는 데이터를Temperature를 기준으로 정렬 했을때 4번째 행의 Humidity 값은"
   ]
  },
  {
   "cell_type": "code",
   "execution_count": 29,
   "id": "c87a9f81",
   "metadata": {},
   "outputs": [
    {
     "data": {
      "text/plain": [
       "80.3"
      ]
     },
     "execution_count": 29,
     "metadata": {},
     "output_type": "execute_result"
    }
   ],
   "source": [
    "df[ df.Temperature >= df.Temperature.median() ].sort_values(\"Temperature\").iloc[3].Humidity"
   ]
  },
  {
   "cell_type": "markdown",
   "id": "2deb35ba",
   "metadata": {},
   "source": [
    "## 포켓몬 정보 데이터"
   ]
  },
  {
   "cell_type": "code",
   "execution_count": 30,
   "id": "ac045124",
   "metadata": {},
   "outputs": [
    {
     "data": {
      "text/html": [
       "<div>\n",
       "<style scoped>\n",
       "    .dataframe tbody tr th:only-of-type {\n",
       "        vertical-align: middle;\n",
       "    }\n",
       "\n",
       "    .dataframe tbody tr th {\n",
       "        vertical-align: top;\n",
       "    }\n",
       "\n",
       "    .dataframe thead th {\n",
       "        text-align: right;\n",
       "    }\n",
       "</style>\n",
       "<table border=\"1\" class=\"dataframe\">\n",
       "  <thead>\n",
       "    <tr style=\"text-align: right;\">\n",
       "      <th></th>\n",
       "      <th>#</th>\n",
       "      <th>Name</th>\n",
       "      <th>Type 1</th>\n",
       "      <th>Type 2</th>\n",
       "      <th>Total</th>\n",
       "      <th>HP</th>\n",
       "      <th>Attack</th>\n",
       "      <th>Defense</th>\n",
       "      <th>Sp. Atk</th>\n",
       "      <th>Sp. Def</th>\n",
       "      <th>Speed</th>\n",
       "      <th>Generation</th>\n",
       "      <th>Legendary</th>\n",
       "    </tr>\n",
       "  </thead>\n",
       "  <tbody>\n",
       "    <tr>\n",
       "      <th>0</th>\n",
       "      <td>1</td>\n",
       "      <td>Bulbasaur</td>\n",
       "      <td>Grass</td>\n",
       "      <td>Poison</td>\n",
       "      <td>318</td>\n",
       "      <td>45</td>\n",
       "      <td>49</td>\n",
       "      <td>49</td>\n",
       "      <td>65</td>\n",
       "      <td>65</td>\n",
       "      <td>45</td>\n",
       "      <td>1</td>\n",
       "      <td>False</td>\n",
       "    </tr>\n",
       "    <tr>\n",
       "      <th>1</th>\n",
       "      <td>2</td>\n",
       "      <td>Ivysaur</td>\n",
       "      <td>Grass</td>\n",
       "      <td>Poison</td>\n",
       "      <td>405</td>\n",
       "      <td>60</td>\n",
       "      <td>62</td>\n",
       "      <td>63</td>\n",
       "      <td>80</td>\n",
       "      <td>80</td>\n",
       "      <td>60</td>\n",
       "      <td>1</td>\n",
       "      <td>False</td>\n",
       "    </tr>\n",
       "    <tr>\n",
       "      <th>2</th>\n",
       "      <td>3</td>\n",
       "      <td>Venusaur</td>\n",
       "      <td>Grass</td>\n",
       "      <td>Poison</td>\n",
       "      <td>525</td>\n",
       "      <td>80</td>\n",
       "      <td>82</td>\n",
       "      <td>83</td>\n",
       "      <td>100</td>\n",
       "      <td>100</td>\n",
       "      <td>80</td>\n",
       "      <td>1</td>\n",
       "      <td>False</td>\n",
       "    </tr>\n",
       "    <tr>\n",
       "      <th>3</th>\n",
       "      <td>3</td>\n",
       "      <td>VenusaurMega Venusaur</td>\n",
       "      <td>Grass</td>\n",
       "      <td>Poison</td>\n",
       "      <td>625</td>\n",
       "      <td>80</td>\n",
       "      <td>100</td>\n",
       "      <td>123</td>\n",
       "      <td>122</td>\n",
       "      <td>120</td>\n",
       "      <td>80</td>\n",
       "      <td>1</td>\n",
       "      <td>False</td>\n",
       "    </tr>\n",
       "    <tr>\n",
       "      <th>4</th>\n",
       "      <td>4</td>\n",
       "      <td>Charmander</td>\n",
       "      <td>Fire</td>\n",
       "      <td>NaN</td>\n",
       "      <td>309</td>\n",
       "      <td>39</td>\n",
       "      <td>52</td>\n",
       "      <td>43</td>\n",
       "      <td>60</td>\n",
       "      <td>50</td>\n",
       "      <td>65</td>\n",
       "      <td>1</td>\n",
       "      <td>False</td>\n",
       "    </tr>\n",
       "  </tbody>\n",
       "</table>\n",
       "</div>"
      ],
      "text/plain": [
       "   #                   Name Type 1  Type 2  Total  HP  Attack  Defense   \n",
       "0  1              Bulbasaur  Grass  Poison    318  45      49       49  \\\n",
       "1  2                Ivysaur  Grass  Poison    405  60      62       63   \n",
       "2  3               Venusaur  Grass  Poison    525  80      82       83   \n",
       "3  3  VenusaurMega Venusaur  Grass  Poison    625  80     100      123   \n",
       "4  4             Charmander   Fire     NaN    309  39      52       43   \n",
       "\n",
       "   Sp. Atk  Sp. Def  Speed  Generation  Legendary  \n",
       "0       65       65     45           1      False  \n",
       "1       80       80     60           1      False  \n",
       "2      100      100     80           1      False  \n",
       "3      122      120     80           1      False  \n",
       "4       60       50     65           1      False  "
      ]
     },
     "execution_count": 30,
     "metadata": {},
     "output_type": "execute_result"
    }
   ],
   "source": [
    "url = 'https://raw.githubusercontent.com/Datamanim/datarepo/main/pok/Pokemon.csv'\n",
    "df = pd.read_csv(url)\n",
    "df.head()"
   ]
  },
  {
   "cell_type": "markdown",
   "id": "201a6f71",
   "metadata": {},
   "source": [
    "Q61.Legendary 컬럼은 전설포켓몬 유무를 나타낸다.전설포켓몬과 그렇지 않은 포켓몬들의 HP평균의 차이를 구하여라"
   ]
  },
  {
   "cell_type": "code",
   "execution_count": 31,
   "id": "3a461eb7",
   "metadata": {},
   "outputs": [
    {
     "name": "stdout",
     "output_type": "stream",
     "text": [
      "<class 'pandas.core.frame.DataFrame'>\n",
      "RangeIndex: 800 entries, 0 to 799\n",
      "Data columns (total 13 columns):\n",
      " #   Column      Non-Null Count  Dtype \n",
      "---  ------      --------------  ----- \n",
      " 0   #           800 non-null    int64 \n",
      " 1   Name        800 non-null    object\n",
      " 2   Type 1      800 non-null    object\n",
      " 3   Type 2      414 non-null    object\n",
      " 4   Total       800 non-null    int64 \n",
      " 5   HP          800 non-null    int64 \n",
      " 6   Attack      800 non-null    int64 \n",
      " 7   Defense     800 non-null    int64 \n",
      " 8   Sp. Atk     800 non-null    int64 \n",
      " 9   Sp. Def     800 non-null    int64 \n",
      " 10  Speed       800 non-null    int64 \n",
      " 11  Generation  800 non-null    int64 \n",
      " 12  Legendary   800 non-null    bool  \n",
      "dtypes: bool(1), int64(9), object(3)\n",
      "memory usage: 75.9+ KB\n"
     ]
    }
   ],
   "source": [
    "df.info()"
   ]
  },
  {
   "cell_type": "code",
   "execution_count": 39,
   "id": "619322ca",
   "metadata": {},
   "outputs": [
    {
     "data": {
      "text/plain": [
       "25.55614861329147"
      ]
     },
     "execution_count": 39,
     "metadata": {},
     "output_type": "execute_result"
    }
   ],
   "source": [
    "df.groupby('Legendary')['HP'].mean().diff().iloc[1]"
   ]
  },
  {
   "cell_type": "code",
   "execution_count": 43,
   "id": "9e8b62a4",
   "metadata": {},
   "outputs": [
    {
     "data": {
      "text/plain": [
       "25.55614861329147"
      ]
     },
     "execution_count": 43,
     "metadata": {},
     "output_type": "execute_result"
    }
   ],
   "source": [
    "df.groupby('Legendary')['HP'].mean().values[1] - df.groupby('Legendary')['HP'].mean().values[0] "
   ]
  },
  {
   "cell_type": "markdown",
   "id": "eaed4693",
   "metadata": {},
   "source": [
    "Q62.Type 1은 주속성 Type 2 는 부속성을 나타낸다. 가장 많은 부속성 종류는 무엇인가?"
   ]
  },
  {
   "cell_type": "code",
   "execution_count": 46,
   "id": "8031efd9",
   "metadata": {},
   "outputs": [
    {
     "data": {
      "text/plain": [
       "'Flying'"
      ]
     },
     "execution_count": 46,
     "metadata": {},
     "output_type": "execute_result"
    }
   ],
   "source": [
    "df['Type 2'].value_counts().index[0]"
   ]
  },
  {
   "cell_type": "markdown",
   "id": "54d92ff7",
   "metadata": {},
   "source": [
    "Q63.가장 많은 Type 1 의 종의 평균 Attack 을 평균 Defense로 나눈값은?"
   ]
  },
  {
   "cell_type": "code",
   "execution_count": 50,
   "id": "6422e5d3",
   "metadata": {},
   "outputs": [
    {
     "data": {
      "text/plain": [
       "74.15178571428571"
      ]
     },
     "execution_count": 50,
     "metadata": {},
     "output_type": "execute_result"
    }
   ],
   "source": [
    "df[ df['Type 1'] == df['Type 1'].value_counts().index[0] ].Attack.mean()"
   ]
  },
  {
   "cell_type": "code",
   "execution_count": 51,
   "id": "14b554e7",
   "metadata": {},
   "outputs": [
    {
     "data": {
      "text/plain": [
       "72.94642857142857"
      ]
     },
     "execution_count": 51,
     "metadata": {},
     "output_type": "execute_result"
    }
   ],
   "source": [
    "df[ df['Type 1'] == df['Type 1'].value_counts().index[0] ].Defense.mean()"
   ]
  },
  {
   "cell_type": "code",
   "execution_count": 52,
   "id": "9f041ddc",
   "metadata": {},
   "outputs": [
    {
     "data": {
      "text/plain": [
       "1.0165238678090576"
      ]
     },
     "execution_count": 52,
     "metadata": {},
     "output_type": "execute_result"
    }
   ],
   "source": [
    "df[ df['Type 1'] == df['Type 1'].value_counts().index[0] ].Attack.mean() / df[ df['Type 1'] == df['Type 1'].value_counts().index[0] ].Defense.mean()"
   ]
  },
  {
   "cell_type": "markdown",
   "id": "06db1b83",
   "metadata": {},
   "source": [
    "## Q64.포켓몬 세대(Generation) 중 가장많은 Legendary를 보유한 세대는 몇세대인가?"
   ]
  },
  {
   "cell_type": "code",
   "execution_count": 73,
   "id": "0bd76683",
   "metadata": {},
   "outputs": [
    {
     "data": {
      "text/plain": [
       "'Generation'"
      ]
     },
     "execution_count": 73,
     "metadata": {},
     "output_type": "execute_result"
    }
   ],
   "source": [
    "df[['Generation','Legendary']].groupby('Generation').sum().sort_values('Legendary').reset_index().iloc[-1].index[0]"
   ]
  },
  {
   "cell_type": "code",
   "execution_count": 70,
   "id": "03c3885a",
   "metadata": {},
   "outputs": [
    {
     "data": {
      "text/plain": [
       "Legendary\n",
       "False    735\n",
       "True      65\n",
       "Name: count, dtype: int64"
      ]
     },
     "execution_count": 70,
     "metadata": {},
     "output_type": "execute_result"
    }
   ],
   "source": [
    "df.Legendary.value_counts()"
   ]
  },
  {
   "cell_type": "code",
   "execution_count": 72,
   "id": "12fea3ec",
   "metadata": {},
   "outputs": [
    {
     "data": {
      "text/plain": [
       "3"
      ]
     },
     "execution_count": 72,
     "metadata": {},
     "output_type": "execute_result"
    }
   ],
   "source": [
    "df [ df.Legendary == True ].Generation.value_counts().index[0]"
   ]
  },
  {
   "cell_type": "markdown",
   "id": "66ce14bb",
   "metadata": {},
   "source": [
    "Q65.‘HP’, ‘Attack’, ‘Defense’, ‘Sp. Atk’, ‘Sp. Def’, ‘Speed’ 간의 상관 계수중 가장 절댓값이 큰 두 변수와 그 값을 구하여라"
   ]
  },
  {
   "cell_type": "code",
   "execution_count": 74,
   "id": "0f5043da",
   "metadata": {},
   "outputs": [
    {
     "data": {
      "text/plain": [
       "Index(['#', 'Name', 'Type 1', 'Type 2', 'Total', 'HP', 'Attack', 'Defense',\n",
       "       'Sp. Atk', 'Sp. Def', 'Speed', 'Generation', 'Legendary'],\n",
       "      dtype='object')"
      ]
     },
     "execution_count": 74,
     "metadata": {},
     "output_type": "execute_result"
    }
   ],
   "source": [
    "df.columns"
   ]
  },
  {
   "cell_type": "code",
   "execution_count": 81,
   "id": "b2a3675e",
   "metadata": {},
   "outputs": [
    {
     "data": {
      "text/html": [
       "<div>\n",
       "<style scoped>\n",
       "    .dataframe tbody tr th:only-of-type {\n",
       "        vertical-align: middle;\n",
       "    }\n",
       "\n",
       "    .dataframe tbody tr th {\n",
       "        vertical-align: top;\n",
       "    }\n",
       "\n",
       "    .dataframe thead th {\n",
       "        text-align: right;\n",
       "    }\n",
       "</style>\n",
       "<table border=\"1\" class=\"dataframe\">\n",
       "  <thead>\n",
       "    <tr style=\"text-align: right;\">\n",
       "      <th></th>\n",
       "      <th>HP</th>\n",
       "      <th>Attack</th>\n",
       "      <th>Defense</th>\n",
       "      <th>Sp. Atk</th>\n",
       "      <th>Sp. Def</th>\n",
       "      <th>Speed</th>\n",
       "    </tr>\n",
       "  </thead>\n",
       "  <tbody>\n",
       "    <tr>\n",
       "      <th>HP</th>\n",
       "      <td>1.000000</td>\n",
       "      <td>0.422386</td>\n",
       "      <td>0.239622</td>\n",
       "      <td>0.362380</td>\n",
       "      <td>0.378718</td>\n",
       "      <td>0.175952</td>\n",
       "    </tr>\n",
       "    <tr>\n",
       "      <th>Attack</th>\n",
       "      <td>0.422386</td>\n",
       "      <td>1.000000</td>\n",
       "      <td>0.438687</td>\n",
       "      <td>0.396362</td>\n",
       "      <td>0.263990</td>\n",
       "      <td>0.381240</td>\n",
       "    </tr>\n",
       "    <tr>\n",
       "      <th>Defense</th>\n",
       "      <td>0.239622</td>\n",
       "      <td>0.438687</td>\n",
       "      <td>1.000000</td>\n",
       "      <td>0.223549</td>\n",
       "      <td>0.510747</td>\n",
       "      <td>0.015227</td>\n",
       "    </tr>\n",
       "    <tr>\n",
       "      <th>Sp. Atk</th>\n",
       "      <td>0.362380</td>\n",
       "      <td>0.396362</td>\n",
       "      <td>0.223549</td>\n",
       "      <td>1.000000</td>\n",
       "      <td>0.506121</td>\n",
       "      <td>0.473018</td>\n",
       "    </tr>\n",
       "    <tr>\n",
       "      <th>Sp. Def</th>\n",
       "      <td>0.378718</td>\n",
       "      <td>0.263990</td>\n",
       "      <td>0.510747</td>\n",
       "      <td>0.506121</td>\n",
       "      <td>1.000000</td>\n",
       "      <td>0.259133</td>\n",
       "    </tr>\n",
       "    <tr>\n",
       "      <th>Speed</th>\n",
       "      <td>0.175952</td>\n",
       "      <td>0.381240</td>\n",
       "      <td>0.015227</td>\n",
       "      <td>0.473018</td>\n",
       "      <td>0.259133</td>\n",
       "      <td>1.000000</td>\n",
       "    </tr>\n",
       "  </tbody>\n",
       "</table>\n",
       "</div>"
      ],
      "text/plain": [
       "               HP    Attack   Defense   Sp. Atk   Sp. Def     Speed\n",
       "HP       1.000000  0.422386  0.239622  0.362380  0.378718  0.175952\n",
       "Attack   0.422386  1.000000  0.438687  0.396362  0.263990  0.381240\n",
       "Defense  0.239622  0.438687  1.000000  0.223549  0.510747  0.015227\n",
       "Sp. Atk  0.362380  0.396362  0.223549  1.000000  0.506121  0.473018\n",
       "Sp. Def  0.378718  0.263990  0.510747  0.506121  1.000000  0.259133\n",
       "Speed    0.175952  0.381240  0.015227  0.473018  0.259133  1.000000"
      ]
     },
     "execution_count": 81,
     "metadata": {},
     "output_type": "execute_result"
    }
   ],
   "source": [
    " df[['HP', 'Attack', 'Defense','Sp. Atk', 'Sp. Def', 'Speed']].corr()"
   ]
  },
  {
   "cell_type": "code",
   "execution_count": 89,
   "id": "272d155b",
   "metadata": {
    "collapsed": true
   },
   "outputs": [
    {
     "data": {
      "text/html": [
       "<div>\n",
       "<style scoped>\n",
       "    .dataframe tbody tr th:only-of-type {\n",
       "        vertical-align: middle;\n",
       "    }\n",
       "\n",
       "    .dataframe tbody tr th {\n",
       "        vertical-align: top;\n",
       "    }\n",
       "\n",
       "    .dataframe thead th {\n",
       "        text-align: right;\n",
       "    }\n",
       "</style>\n",
       "<table border=\"1\" class=\"dataframe\">\n",
       "  <thead>\n",
       "    <tr style=\"text-align: right;\">\n",
       "      <th></th>\n",
       "      <th>level_0</th>\n",
       "      <th>level_1</th>\n",
       "      <th>0</th>\n",
       "    </tr>\n",
       "  </thead>\n",
       "  <tbody>\n",
       "    <tr>\n",
       "      <th>0</th>\n",
       "      <td>HP</td>\n",
       "      <td>Attack</td>\n",
       "      <td>0.422386</td>\n",
       "    </tr>\n",
       "    <tr>\n",
       "      <th>1</th>\n",
       "      <td>HP</td>\n",
       "      <td>Defense</td>\n",
       "      <td>0.239622</td>\n",
       "    </tr>\n",
       "    <tr>\n",
       "      <th>2</th>\n",
       "      <td>HP</td>\n",
       "      <td>Sp. Atk</td>\n",
       "      <td>0.362380</td>\n",
       "    </tr>\n",
       "    <tr>\n",
       "      <th>3</th>\n",
       "      <td>HP</td>\n",
       "      <td>Sp. Def</td>\n",
       "      <td>0.378718</td>\n",
       "    </tr>\n",
       "    <tr>\n",
       "      <th>4</th>\n",
       "      <td>HP</td>\n",
       "      <td>Speed</td>\n",
       "      <td>0.175952</td>\n",
       "    </tr>\n",
       "    <tr>\n",
       "      <th>5</th>\n",
       "      <td>Attack</td>\n",
       "      <td>HP</td>\n",
       "      <td>0.422386</td>\n",
       "    </tr>\n",
       "    <tr>\n",
       "      <th>6</th>\n",
       "      <td>Attack</td>\n",
       "      <td>Defense</td>\n",
       "      <td>0.438687</td>\n",
       "    </tr>\n",
       "    <tr>\n",
       "      <th>7</th>\n",
       "      <td>Attack</td>\n",
       "      <td>Sp. Atk</td>\n",
       "      <td>0.396362</td>\n",
       "    </tr>\n",
       "    <tr>\n",
       "      <th>8</th>\n",
       "      <td>Attack</td>\n",
       "      <td>Sp. Def</td>\n",
       "      <td>0.263990</td>\n",
       "    </tr>\n",
       "    <tr>\n",
       "      <th>9</th>\n",
       "      <td>Attack</td>\n",
       "      <td>Speed</td>\n",
       "      <td>0.381240</td>\n",
       "    </tr>\n",
       "    <tr>\n",
       "      <th>10</th>\n",
       "      <td>Defense</td>\n",
       "      <td>HP</td>\n",
       "      <td>0.239622</td>\n",
       "    </tr>\n",
       "    <tr>\n",
       "      <th>11</th>\n",
       "      <td>Defense</td>\n",
       "      <td>Attack</td>\n",
       "      <td>0.438687</td>\n",
       "    </tr>\n",
       "    <tr>\n",
       "      <th>12</th>\n",
       "      <td>Defense</td>\n",
       "      <td>Sp. Atk</td>\n",
       "      <td>0.223549</td>\n",
       "    </tr>\n",
       "    <tr>\n",
       "      <th>13</th>\n",
       "      <td>Defense</td>\n",
       "      <td>Sp. Def</td>\n",
       "      <td>0.510747</td>\n",
       "    </tr>\n",
       "    <tr>\n",
       "      <th>14</th>\n",
       "      <td>Defense</td>\n",
       "      <td>Speed</td>\n",
       "      <td>0.015227</td>\n",
       "    </tr>\n",
       "    <tr>\n",
       "      <th>15</th>\n",
       "      <td>Sp. Atk</td>\n",
       "      <td>HP</td>\n",
       "      <td>0.362380</td>\n",
       "    </tr>\n",
       "    <tr>\n",
       "      <th>16</th>\n",
       "      <td>Sp. Atk</td>\n",
       "      <td>Attack</td>\n",
       "      <td>0.396362</td>\n",
       "    </tr>\n",
       "    <tr>\n",
       "      <th>17</th>\n",
       "      <td>Sp. Atk</td>\n",
       "      <td>Defense</td>\n",
       "      <td>0.223549</td>\n",
       "    </tr>\n",
       "    <tr>\n",
       "      <th>18</th>\n",
       "      <td>Sp. Atk</td>\n",
       "      <td>Sp. Def</td>\n",
       "      <td>0.506121</td>\n",
       "    </tr>\n",
       "    <tr>\n",
       "      <th>19</th>\n",
       "      <td>Sp. Atk</td>\n",
       "      <td>Speed</td>\n",
       "      <td>0.473018</td>\n",
       "    </tr>\n",
       "    <tr>\n",
       "      <th>20</th>\n",
       "      <td>Sp. Def</td>\n",
       "      <td>HP</td>\n",
       "      <td>0.378718</td>\n",
       "    </tr>\n",
       "    <tr>\n",
       "      <th>21</th>\n",
       "      <td>Sp. Def</td>\n",
       "      <td>Attack</td>\n",
       "      <td>0.263990</td>\n",
       "    </tr>\n",
       "    <tr>\n",
       "      <th>22</th>\n",
       "      <td>Sp. Def</td>\n",
       "      <td>Defense</td>\n",
       "      <td>0.510747</td>\n",
       "    </tr>\n",
       "    <tr>\n",
       "      <th>23</th>\n",
       "      <td>Sp. Def</td>\n",
       "      <td>Sp. Atk</td>\n",
       "      <td>0.506121</td>\n",
       "    </tr>\n",
       "    <tr>\n",
       "      <th>24</th>\n",
       "      <td>Sp. Def</td>\n",
       "      <td>Speed</td>\n",
       "      <td>0.259133</td>\n",
       "    </tr>\n",
       "    <tr>\n",
       "      <th>25</th>\n",
       "      <td>Speed</td>\n",
       "      <td>HP</td>\n",
       "      <td>0.175952</td>\n",
       "    </tr>\n",
       "    <tr>\n",
       "      <th>26</th>\n",
       "      <td>Speed</td>\n",
       "      <td>Attack</td>\n",
       "      <td>0.381240</td>\n",
       "    </tr>\n",
       "    <tr>\n",
       "      <th>27</th>\n",
       "      <td>Speed</td>\n",
       "      <td>Defense</td>\n",
       "      <td>0.015227</td>\n",
       "    </tr>\n",
       "    <tr>\n",
       "      <th>28</th>\n",
       "      <td>Speed</td>\n",
       "      <td>Sp. Atk</td>\n",
       "      <td>0.473018</td>\n",
       "    </tr>\n",
       "    <tr>\n",
       "      <th>29</th>\n",
       "      <td>Speed</td>\n",
       "      <td>Sp. Def</td>\n",
       "      <td>0.259133</td>\n",
       "    </tr>\n",
       "  </tbody>\n",
       "</table>\n",
       "</div>"
      ],
      "text/plain": [
       "    level_0  level_1         0\n",
       "0        HP   Attack  0.422386\n",
       "1        HP  Defense  0.239622\n",
       "2        HP  Sp. Atk  0.362380\n",
       "3        HP  Sp. Def  0.378718\n",
       "4        HP    Speed  0.175952\n",
       "5    Attack       HP  0.422386\n",
       "6    Attack  Defense  0.438687\n",
       "7    Attack  Sp. Atk  0.396362\n",
       "8    Attack  Sp. Def  0.263990\n",
       "9    Attack    Speed  0.381240\n",
       "10  Defense       HP  0.239622\n",
       "11  Defense   Attack  0.438687\n",
       "12  Defense  Sp. Atk  0.223549\n",
       "13  Defense  Sp. Def  0.510747\n",
       "14  Defense    Speed  0.015227\n",
       "15  Sp. Atk       HP  0.362380\n",
       "16  Sp. Atk   Attack  0.396362\n",
       "17  Sp. Atk  Defense  0.223549\n",
       "18  Sp. Atk  Sp. Def  0.506121\n",
       "19  Sp. Atk    Speed  0.473018\n",
       "20  Sp. Def       HP  0.378718\n",
       "21  Sp. Def   Attack  0.263990\n",
       "22  Sp. Def  Defense  0.510747\n",
       "23  Sp. Def  Sp. Atk  0.506121\n",
       "24  Sp. Def    Speed  0.259133\n",
       "25    Speed       HP  0.175952\n",
       "26    Speed   Attack  0.381240\n",
       "27    Speed  Defense  0.015227\n",
       "28    Speed  Sp. Atk  0.473018\n",
       "29    Speed  Sp. Def  0.259133"
      ]
     },
     "execution_count": 89,
     "metadata": {},
     "output_type": "execute_result"
    }
   ],
   "source": [
    "cr = df[['HP', 'Attack', 'Defense','Sp. Atk', 'Sp. Def', 'Speed']].corr().unstack() [df[['HP', 'Attack', 'Defense','Sp. Atk', 'Sp. Def', 'Speed']].corr().unstack() != 1].reset_index()\n",
    "cr"
   ]
  },
  {
   "cell_type": "code",
   "execution_count": 97,
   "id": "e5aabfdb",
   "metadata": {},
   "outputs": [
    {
     "data": {
      "text/plain": [
       "('Defense', 'Sp. Def', 0.5107465890885571)"
      ]
     },
     "execution_count": 97,
     "metadata": {},
     "output_type": "execute_result"
    }
   ],
   "source": [
    "cr.sort_values(0).iloc[-1].values[0], cr.sort_values(0).iloc[-1].values[1], cr.sort_values(0).iloc[-1].values[2]"
   ]
  },
  {
   "cell_type": "markdown",
   "id": "e3cdb405",
   "metadata": {},
   "source": [
    "## Q66.각 Generation의 Attack으로 오름차순 정렬시 상위 3개 데이터들(18개)의 Attack의 전체 평균을 구하여라"
   ]
  },
  {
   "cell_type": "code",
   "execution_count": 101,
   "id": "576fe5e6",
   "metadata": {},
   "outputs": [
    {
     "data": {
      "text/html": [
       "<div>\n",
       "<style scoped>\n",
       "    .dataframe tbody tr th:only-of-type {\n",
       "        vertical-align: middle;\n",
       "    }\n",
       "\n",
       "    .dataframe tbody tr th {\n",
       "        vertical-align: top;\n",
       "    }\n",
       "\n",
       "    .dataframe thead th {\n",
       "        text-align: right;\n",
       "    }\n",
       "</style>\n",
       "<table border=\"1\" class=\"dataframe\">\n",
       "  <thead>\n",
       "    <tr style=\"text-align: right;\">\n",
       "      <th></th>\n",
       "      <th>Generation</th>\n",
       "      <th>Attack</th>\n",
       "    </tr>\n",
       "  </thead>\n",
       "  <tbody>\n",
       "    <tr>\n",
       "      <th>0</th>\n",
       "      <td>1</td>\n",
       "      <td>49</td>\n",
       "    </tr>\n",
       "    <tr>\n",
       "      <th>1</th>\n",
       "      <td>1</td>\n",
       "      <td>62</td>\n",
       "    </tr>\n",
       "    <tr>\n",
       "      <th>2</th>\n",
       "      <td>1</td>\n",
       "      <td>82</td>\n",
       "    </tr>\n",
       "    <tr>\n",
       "      <th>3</th>\n",
       "      <td>1</td>\n",
       "      <td>100</td>\n",
       "    </tr>\n",
       "    <tr>\n",
       "      <th>4</th>\n",
       "      <td>1</td>\n",
       "      <td>52</td>\n",
       "    </tr>\n",
       "    <tr>\n",
       "      <th>...</th>\n",
       "      <td>...</td>\n",
       "      <td>...</td>\n",
       "    </tr>\n",
       "    <tr>\n",
       "      <th>795</th>\n",
       "      <td>6</td>\n",
       "      <td>100</td>\n",
       "    </tr>\n",
       "    <tr>\n",
       "      <th>796</th>\n",
       "      <td>6</td>\n",
       "      <td>160</td>\n",
       "    </tr>\n",
       "    <tr>\n",
       "      <th>797</th>\n",
       "      <td>6</td>\n",
       "      <td>110</td>\n",
       "    </tr>\n",
       "    <tr>\n",
       "      <th>798</th>\n",
       "      <td>6</td>\n",
       "      <td>160</td>\n",
       "    </tr>\n",
       "    <tr>\n",
       "      <th>799</th>\n",
       "      <td>6</td>\n",
       "      <td>110</td>\n",
       "    </tr>\n",
       "  </tbody>\n",
       "</table>\n",
       "<p>800 rows × 2 columns</p>\n",
       "</div>"
      ],
      "text/plain": [
       "     Generation  Attack\n",
       "0             1      49\n",
       "1             1      62\n",
       "2             1      82\n",
       "3             1     100\n",
       "4             1      52\n",
       "..          ...     ...\n",
       "795           6     100\n",
       "796           6     160\n",
       "797           6     110\n",
       "798           6     160\n",
       "799           6     110\n",
       "\n",
       "[800 rows x 2 columns]"
      ]
     },
     "execution_count": 101,
     "metadata": {},
     "output_type": "execute_result"
    }
   ],
   "source": [
    "df[['Generation','Attack']]"
   ]
  },
  {
   "cell_type": "code",
   "execution_count": 109,
   "id": "44fd6721",
   "metadata": {
    "scrolled": true
   },
   "outputs": [
    {
     "data": {
      "text/plain": [
       "19.5"
      ]
     },
     "execution_count": 109,
     "metadata": {},
     "output_type": "execute_result"
    }
   ],
   "source": [
    "df[['Generation','Attack']].sort_values(['Generation','Attack']).groupby('Generation').head(3).Attack.mean()"
   ]
  },
  {
   "cell_type": "code",
   "execution_count": null,
   "id": "9b038778",
   "metadata": {},
   "outputs": [],
   "source": [
    "df.sort_values(['Generation','Attack']).groupby('Generation').head(3).Attack.mean()"
   ]
  },
  {
   "cell_type": "markdown",
   "id": "23480f63",
   "metadata": {},
   "source": [
    "Q67.각 Generation의 Attack으로 내림차순 정렬시 상위 5개 데이터들(30개)의 Attack의 전체 평균을 구하여라"
   ]
  },
  {
   "cell_type": "code",
   "execution_count": 110,
   "id": "508fbe3b",
   "metadata": {},
   "outputs": [
    {
     "data": {
      "text/plain": [
       "157.23333333333332"
      ]
     },
     "execution_count": 110,
     "metadata": {},
     "output_type": "execute_result"
    }
   ],
   "source": [
    "df.sort_values(['Generation','Attack']).groupby('Generation').tail(5).Attack.mean()"
   ]
  },
  {
   "cell_type": "markdown",
   "id": "badef867",
   "metadata": {},
   "source": [
    "Q68.가장 흔하게 발견되는 (Type1 , Type2) 의 쌍은 무엇인가?"
   ]
  },
  {
   "cell_type": "code",
   "execution_count": 114,
   "id": "93bf27aa",
   "metadata": {},
   "outputs": [
    {
     "name": "stdout",
     "output_type": "stream",
     "text": [
      "<class 'pandas.core.frame.DataFrame'>\n",
      "RangeIndex: 800 entries, 0 to 799\n",
      "Data columns (total 13 columns):\n",
      " #   Column      Non-Null Count  Dtype \n",
      "---  ------      --------------  ----- \n",
      " 0   #           800 non-null    int64 \n",
      " 1   Name        800 non-null    object\n",
      " 2   Type 1      800 non-null    object\n",
      " 3   Type 2      414 non-null    object\n",
      " 4   Total       800 non-null    int64 \n",
      " 5   HP          800 non-null    int64 \n",
      " 6   Attack      800 non-null    int64 \n",
      " 7   Defense     800 non-null    int64 \n",
      " 8   Sp. Atk     800 non-null    int64 \n",
      " 9   Sp. Def     800 non-null    int64 \n",
      " 10  Speed       800 non-null    int64 \n",
      " 11  Generation  800 non-null    int64 \n",
      " 12  Legendary   800 non-null    bool  \n",
      "dtypes: bool(1), int64(9), object(3)\n",
      "memory usage: 75.9+ KB\n"
     ]
    }
   ],
   "source": [
    "df.info()"
   ]
  },
  {
   "cell_type": "code",
   "execution_count": 129,
   "id": "db38b194",
   "metadata": {},
   "outputs": [
    {
     "data": {
      "text/plain": [
       "array(['Normal', 'Flying'], dtype=object)"
      ]
     },
     "execution_count": 129,
     "metadata": {},
     "output_type": "execute_result"
    }
   ],
   "source": [
    "df[['Type 1','Type 2']].value_counts().reset_index().iloc[0].values[:2]"
   ]
  },
  {
   "cell_type": "code",
   "execution_count": 130,
   "id": "a876e758",
   "metadata": {},
   "outputs": [
    {
     "data": {
      "text/plain": [
       "Type 1  Type 2\n",
       "Normal  Flying    24\n",
       "Name: count, dtype: int64"
      ]
     },
     "execution_count": 130,
     "metadata": {},
     "output_type": "execute_result"
    }
   ],
   "source": [
    "df[['Type 1','Type 2']].value_counts().head(1)"
   ]
  },
  {
   "cell_type": "markdown",
   "id": "a8a357cf",
   "metadata": {},
   "source": [
    "Q69.한번씩만 존재하는 (Type1 , Type2)의 쌍의 갯수는 몇개인가?"
   ]
  },
  {
   "cell_type": "code",
   "execution_count": 132,
   "id": "0d5e6174",
   "metadata": {},
   "outputs": [
    {
     "data": {
      "text/plain": [
       "39"
      ]
     },
     "execution_count": 132,
     "metadata": {},
     "output_type": "execute_result"
    }
   ],
   "source": [
    "(df[['Type 1','Type 2']].value_counts() == 1).sum()"
   ]
  },
  {
   "cell_type": "markdown",
   "id": "197ac88d",
   "metadata": {},
   "source": [
    "## Q70.한번씩만 존재하는 (Type1 , Type2)의 쌍을 각 세대(Generation)은 각각 몇개씩 가지고 있는가?"
   ]
  },
  {
   "cell_type": "code",
   "execution_count": 142,
   "id": "2d432a9a",
   "metadata": {},
   "outputs": [
    {
     "data": {
      "text/html": [
       "<div>\n",
       "<style scoped>\n",
       "    .dataframe tbody tr th:only-of-type {\n",
       "        vertical-align: middle;\n",
       "    }\n",
       "\n",
       "    .dataframe tbody tr th {\n",
       "        vertical-align: top;\n",
       "    }\n",
       "\n",
       "    .dataframe thead th {\n",
       "        text-align: right;\n",
       "    }\n",
       "</style>\n",
       "<table border=\"1\" class=\"dataframe\">\n",
       "  <thead>\n",
       "    <tr style=\"text-align: right;\">\n",
       "      <th></th>\n",
       "      <th>Type 1</th>\n",
       "      <th>Type 2</th>\n",
       "      <th>count</th>\n",
       "    </tr>\n",
       "  </thead>\n",
       "  <tbody>\n",
       "    <tr>\n",
       "      <th>0</th>\n",
       "      <td>Electric</td>\n",
       "      <td>Grass</td>\n",
       "      <td>1</td>\n",
       "    </tr>\n",
       "    <tr>\n",
       "      <th>1</th>\n",
       "      <td>Steel</td>\n",
       "      <td>Dragon</td>\n",
       "      <td>1</td>\n",
       "    </tr>\n",
       "    <tr>\n",
       "      <th>2</th>\n",
       "      <td>Electric</td>\n",
       "      <td>Ice</td>\n",
       "      <td>1</td>\n",
       "    </tr>\n",
       "  </tbody>\n",
       "</table>\n",
       "</div>"
      ],
      "text/plain": [
       "     Type 1  Type 2  count\n",
       "0  Electric   Grass      1\n",
       "1     Steel  Dragon      1\n",
       "2  Electric     Ice      1"
      ]
     },
     "execution_count": 142,
     "metadata": {},
     "output_type": "execute_result"
    }
   ],
   "source": [
    "t = df[['Type 1','Type 2']].value_counts()[df[['Type 1','Type 2']].value_counts() == 1].reset_index()\n",
    "t.head(3)"
   ]
  },
  {
   "cell_type": "code",
   "execution_count": 144,
   "id": "3dd89a00",
   "metadata": {},
   "outputs": [
    {
     "data": {
      "text/plain": [
       "array(['Electric', 'Grass', 1], dtype=object)"
      ]
     },
     "execution_count": 144,
     "metadata": {},
     "output_type": "execute_result"
    }
   ],
   "source": [
    "t.values[0]"
   ]
  },
  {
   "cell_type": "code",
   "execution_count": 147,
   "id": "e1dba4c9",
   "metadata": {},
   "outputs": [],
   "source": [
    "lst = []\n",
    "for value in t.values:\n",
    "    t1 = value[0]\n",
    "    t2 = value[1]\n",
    "    \n",
    "    d = df[(df['Type 1'] == t1)&(df['Type 2'] == t2)]\n",
    "    lst.append(d)"
   ]
  },
  {
   "cell_type": "code",
   "execution_count": 148,
   "id": "5ded696b",
   "metadata": {},
   "outputs": [
    {
     "data": {
      "text/plain": [
       "Generation\n",
       "4    13\n",
       "6     9\n",
       "5     7\n",
       "3     5\n",
       "2     4\n",
       "1     1\n",
       "Name: count, dtype: int64"
      ]
     },
     "execution_count": 148,
     "metadata": {},
     "output_type": "execute_result"
    }
   ],
   "source": [
    "pd.concat(lst).Generation.value_counts()"
   ]
  },
  {
   "cell_type": "code",
   "execution_count": null,
   "id": "1899afa0",
   "metadata": {},
   "outputs": [],
   "source": [
    "lst = []\n",
    "for value in target2.reset_index().values:\n",
    "    t1 = value[0]\n",
    "    t2 = value[1]\n",
    "    \n",
    "    sp = df[(df['Type 1']==t1) & (df['Type 2']==t2)]\n",
    "    lst.append(sp)\n",
    "\n",
    "result = pd.concat(lst).reset_index(drop=True).Generation.value_counts().sort_index()\n",
    "print(result)"
   ]
  }
 ],
 "metadata": {
  "kernelspec": {
   "display_name": "Python 3 (ipykernel)",
   "language": "python",
   "name": "python3"
  },
  "language_info": {
   "codemirror_mode": {
    "name": "ipython",
    "version": 3
   },
   "file_extension": ".py",
   "mimetype": "text/x-python",
   "name": "python",
   "nbconvert_exporter": "python",
   "pygments_lexer": "ipython3",
   "version": "3.8.10"
  }
 },
 "nbformat": 4,
 "nbformat_minor": 5
}
