{
 "cells": [
  {
   "cell_type": "code",
   "execution_count": 2,
   "id": "6b7d8226",
   "metadata": {},
   "outputs": [
    {
     "data": {
      "text/html": [
       "<div>\n",
       "<style scoped>\n",
       "    .dataframe tbody tr th:only-of-type {\n",
       "        vertical-align: middle;\n",
       "    }\n",
       "\n",
       "    .dataframe tbody tr th {\n",
       "        vertical-align: top;\n",
       "    }\n",
       "\n",
       "    .dataframe thead th {\n",
       "        text-align: right;\n",
       "    }\n",
       "</style>\n",
       "<table border=\"1\" class=\"dataframe\">\n",
       "  <thead>\n",
       "    <tr style=\"text-align: right;\">\n",
       "      <th></th>\n",
       "      <th>SepalLength</th>\n",
       "      <th>SepalWidth</th>\n",
       "      <th>PetalLength</th>\n",
       "      <th>PetalWidth</th>\n",
       "      <th>Name</th>\n",
       "      <th>Species</th>\n",
       "    </tr>\n",
       "  </thead>\n",
       "  <tbody>\n",
       "    <tr>\n",
       "      <th>0</th>\n",
       "      <td>5.1</td>\n",
       "      <td>3.5</td>\n",
       "      <td>1.4</td>\n",
       "      <td>0.2</td>\n",
       "      <td>setosa</td>\n",
       "      <td>0</td>\n",
       "    </tr>\n",
       "    <tr>\n",
       "      <th>1</th>\n",
       "      <td>4.9</td>\n",
       "      <td>3.0</td>\n",
       "      <td>1.4</td>\n",
       "      <td>0.2</td>\n",
       "      <td>setosa</td>\n",
       "      <td>0</td>\n",
       "    </tr>\n",
       "    <tr>\n",
       "      <th>2</th>\n",
       "      <td>4.7</td>\n",
       "      <td>3.2</td>\n",
       "      <td>1.3</td>\n",
       "      <td>0.2</td>\n",
       "      <td>setosa</td>\n",
       "      <td>0</td>\n",
       "    </tr>\n",
       "    <tr>\n",
       "      <th>3</th>\n",
       "      <td>4.6</td>\n",
       "      <td>3.1</td>\n",
       "      <td>1.5</td>\n",
       "      <td>0.2</td>\n",
       "      <td>setosa</td>\n",
       "      <td>0</td>\n",
       "    </tr>\n",
       "    <tr>\n",
       "      <th>4</th>\n",
       "      <td>5.0</td>\n",
       "      <td>3.6</td>\n",
       "      <td>1.4</td>\n",
       "      <td>0.2</td>\n",
       "      <td>setosa</td>\n",
       "      <td>0</td>\n",
       "    </tr>\n",
       "  </tbody>\n",
       "</table>\n",
       "</div>"
      ],
      "text/plain": [
       "   SepalLength  SepalWidth  PetalLength  PetalWidth    Name  Species\n",
       "0          5.1         3.5          1.4         0.2  setosa        0\n",
       "1          4.9         3.0          1.4         0.2  setosa        0\n",
       "2          4.7         3.2          1.3         0.2  setosa        0\n",
       "3          4.6         3.1          1.5         0.2  setosa        0\n",
       "4          5.0         3.6          1.4         0.2  setosa        0"
      ]
     },
     "execution_count": 2,
     "metadata": {},
     "output_type": "execute_result"
    }
   ],
   "source": [
    "import pandas as pd\n",
    "# csv 파일을 로딩\n",
    "df = pd.read_csv(\"Data/iris.csv\")\n",
    "df.head()"
   ]
  },
  {
   "cell_type": "code",
   "execution_count": 3,
   "id": "add0f442",
   "metadata": {},
   "outputs": [
    {
     "data": {
      "text/plain": [
       "Index(['SepalLength', 'SepalWidth', 'PetalLength', 'PetalWidth', 'Name',\n",
       "       'Species'],\n",
       "      dtype='object')"
      ]
     },
     "execution_count": 3,
     "metadata": {},
     "output_type": "execute_result"
    }
   ],
   "source": [
    "df.columns"
   ]
  },
  {
   "cell_type": "code",
   "execution_count": 5,
   "id": "1dd6fed9",
   "metadata": {},
   "outputs": [],
   "source": [
    "cols = df.columns[:3]\n",
    "x = df[cols]\n",
    "y = df['Species']"
   ]
  },
  {
   "cell_type": "code",
   "execution_count": 6,
   "id": "fec5bfb5",
   "metadata": {},
   "outputs": [],
   "source": [
    "# import warnings\n",
    "# warnings.filterwarnings('ignore')\n",
    "\n",
    "# FutureWarning 제거\n",
    "import warnings\n",
    "warnings.simplefilter(action='ignore', category=FutureWarning) "
   ]
  },
  {
   "cell_type": "code",
   "execution_count": 7,
   "id": "939efb03",
   "metadata": {},
   "outputs": [
    {
     "name": "stdout",
     "output_type": "stream",
     "text": [
      "1 fold\n",
      "0.9583333333333334\n",
      "0.9666666666666667\n",
      "2 fold\n",
      "0.9416666666666667\n",
      "0.9666666666666667\n",
      "3 fold\n",
      "0.9666666666666667\n",
      "0.8666666666666667\n",
      "4 fold\n",
      "0.975\n",
      "0.9\n",
      "5 fold\n",
      "0.9583333333333334\n",
      "1.0\n",
      "\n",
      "average\n",
      "0.96\n",
      "0.9399999999999998\n",
      "\n",
      "max\n",
      "1.0\n"
     ]
    }
   ],
   "source": [
    "import numpy as np\n",
    "from sklearn.svm import SVC\n",
    "from sklearn.model_selection import StratifiedKFold\n",
    "\n",
    "# 같은 비율로 샘플링하는 KFold 모형\n",
    "# 회귀분석 : KFold, 분류: StratifiedKFold\n",
    "\n",
    "skf = StratifiedKFold(n_splits = 5, random_state = 10, shuffle = True)   \n",
    "i = 1\n",
    "tr_scores, ts_scores = [], []\n",
    "\n",
    "for tr_index, ts_index in skf.split(x,y):   # skf.split: generator \n",
    "    print(i, 'fold')\n",
    "    x_tr, x_ts = x.iloc[tr_index,], x.iloc[ts_index,]\n",
    "    y_tr, y_ts = y[tr_index], y[ts_index]\n",
    "    model = SVC(random_state = 10)\n",
    "    model.fit(x_tr, y_tr)\n",
    "    score = model.score(x_tr, y_tr)\n",
    "    print(score)\n",
    "    tr_scores.append(score)\n",
    "    score = model.score(x_ts, y_ts)\n",
    "    print(score)\n",
    "    ts_scores.append(score)\n",
    "    i += 1\n",
    "\n",
    "print('\\naverage')    \n",
    "print(np.mean(tr_scores))\n",
    "print(np.mean(ts_scores))\n",
    "print('\\nmax')\n",
    "print(np.max(ts_scores))"
   ]
  },
  {
   "cell_type": "code",
   "execution_count": 10,
   "id": "771f20a6",
   "metadata": {},
   "outputs": [
    {
     "name": "stdout",
     "output_type": "stream",
     "text": [
      "k: 1, test score: 0.933333\n",
      "k: 1, test score: 0.933333\n",
      "k: 1, test score: 0.933333\n",
      "k: 1, test score: 0.966667\n",
      "k: 1, test score: 0.966667\n",
      "K : 1, train score's mean 1.000000\n",
      "K : 1, test score's mean 0.946667\n",
      "k: 2, test score: 0.933333\n",
      "k: 2, test score: 0.900000\n",
      "k: 2, test score: 0.866667\n",
      "k: 2, test score: 0.900000\n",
      "k: 2, test score: 0.933333\n",
      "K : 2, train score's mean 0.961667\n",
      "K : 2, test score's mean 0.906667\n",
      "k: 3, test score: 0.966667\n",
      "k: 3, test score: 1.000000\n",
      "k: 3, test score: 0.933333\n",
      "k: 3, test score: 0.933333\n",
      "k: 3, test score: 0.966667\n",
      "K : 3, train score's mean 0.966667\n",
      "K : 3, test score's mean 0.960000\n",
      "k: 4, test score: 0.966667\n",
      "k: 4, test score: 0.966667\n",
      "k: 4, test score: 0.900000\n",
      "k: 4, test score: 0.866667\n",
      "k: 4, test score: 0.966667\n",
      "K : 4, train score's mean 0.960000\n",
      "K : 4, test score's mean 0.933333\n",
      "k: 5, test score: 0.966667\n",
      "k: 5, test score: 1.000000\n",
      "k: 5, test score: 0.900000\n",
      "k: 5, test score: 0.900000\n",
      "k: 5, test score: 0.966667\n",
      "K : 5, train score's mean 0.958333\n",
      "K : 5, test score's mean 0.946667\n",
      "k: 6, test score: 0.966667\n",
      "k: 6, test score: 0.966667\n",
      "k: 6, test score: 0.866667\n",
      "k: 6, test score: 0.900000\n",
      "k: 6, test score: 0.966667\n",
      "K : 6, train score's mean 0.961667\n",
      "K : 6, test score's mean 0.933333\n",
      "k: 7, test score: 0.933333\n",
      "k: 7, test score: 1.000000\n",
      "k: 7, test score: 0.866667\n",
      "k: 7, test score: 0.900000\n",
      "k: 7, test score: 0.933333\n",
      "K : 7, train score's mean 0.958333\n",
      "K : 7, test score's mean 0.926667\n",
      "k: 8, test score: 0.966667\n",
      "k: 8, test score: 0.966667\n",
      "k: 8, test score: 0.866667\n",
      "k: 8, test score: 0.933333\n",
      "k: 8, test score: 0.933333\n",
      "K : 8, train score's mean 0.958333\n",
      "K : 8, test score's mean 0.933333\n",
      "k: 9, test score: 0.966667\n",
      "k: 9, test score: 0.966667\n",
      "k: 9, test score: 0.900000\n",
      "k: 9, test score: 0.933333\n",
      "k: 9, test score: 0.966667\n",
      "K : 9, train score's mean 0.971667\n",
      "K : 9, test score's mean 0.946667\n",
      "k: 10, test score: 1.000000\n",
      "k: 10, test score: 0.966667\n",
      "k: 10, test score: 0.900000\n",
      "k: 10, test score: 0.933333\n",
      "k: 10, test score: 0.966667\n",
      "K : 10, train score's mean 0.963333\n",
      "K : 10, test score's mean 0.953333\n",
      "최고 정확도: 0.9600000000000002\n",
      "최적의 k: 3\n"
     ]
    }
   ],
   "source": [
    "from sklearn.neighbors import KNeighborsClassifier\n",
    "\n",
    "kf = StratifiedKFold(n_splits = 5, random_state = 10, shuffle = True)\n",
    "k_range = list(range(1,11))\n",
    "means_tr, means_ts = [], []\n",
    "for k in k_range:\n",
    "    tr_scores, ts_scores = [], []\n",
    "    knn = KNeighborsClassifier(n_neighbors = k)\n",
    "    for tr, ts in kf.split(x, y):\n",
    "        x_tr, x_ts, y_tr, y_ts = x.iloc[tr,], x.iloc[ts,], y[tr], y[ts]\n",
    "        knn.fit(x_tr, y_tr)\n",
    "        score = knn.score(x_tr, y_tr)\n",
    "        tr_scores.append(score)\n",
    "        score = knn.score(x_ts, y_ts)   \n",
    "        ts_scores.append(score)\n",
    "        print('k: %d, test score: %f' % (k, score))\n",
    "    mean_tr = np.mean(tr_scores)\n",
    "    mean_ts = np.mean(ts_scores)\n",
    "    print(\"K : %d, train score's mean %f\" % (k, mean_tr))\n",
    "    print(\"K : %d, test score's mean %f\" % (k, mean_ts))\n",
    "    means_tr.append(mean_tr)\n",
    "    means_ts.append(mean_ts)\n",
    "\n",
    "max_score = max(means_ts)\n",
    "print('최고 정확도:',max_score)    \n",
    "idx=np.where(means_ts==max_score)[0][0]\n",
    "print('최적의 k:',k_range[idx])"
   ]
  },
  {
   "cell_type": "code",
   "execution_count": 11,
   "id": "1e962459",
   "metadata": {},
   "outputs": [
    {
     "data": {
      "text/plain": [
       "<matplotlib.legend.Legend at 0x259dd2a8dc0>"
      ]
     },
     "execution_count": 11,
     "metadata": {},
     "output_type": "execute_result"
    },
    {
     "data": {
      "image/png": "[encoded data removed]",
      "text/plain": [
       "<Figure size 640x480 with 1 Axes>"
      ]
     },
     "metadata": {},
     "output_type": "display_data"
    }
   ],
   "source": [
    "import matplotlib.pyplot as plt\n",
    "plt.rcParams[\"font.size\"]=15\n",
    "plt.plot(k_range, means_tr, label=\"Train\")\n",
    "plt.plot(k_range, means_ts, label=\"Test\")\n",
    "plt.ylabel(\"Accuracy\")\n",
    "plt.xlabel(\"k\")\n",
    "plt.legend()"
   ]
  },
  {
   "cell_type": "code",
   "execution_count": 12,
   "id": "cd4493a5",
   "metadata": {},
   "outputs": [
    {
     "name": "stdout",
     "output_type": "stream",
     "text": [
      "[0.96666667 0.96666667 0.86666667 0.9        1.        ]\n",
      "93.99999999999999\n",
      "100.0\n"
     ]
    }
   ],
   "source": [
    "from sklearn.model_selection import cross_val_score\n",
    "svm = SVC(random_state=0)\n",
    "skf = StratifiedKFold(n_splits=5,shuffle=True,random_state=10)\n",
    "\n",
    "#교차검증을 자동으로 수행하는 함수\n",
    "result=cross_val_score(svm, x, y, cv=skf)\n",
    "print(result)\n",
    "print(np.mean(result)*100)\n",
    "print(np.max(result)*100)"
   ]
  }
 ],
 "metadata": {
  "kernelspec": {
   "display_name": "Python 3 (ipykernel)",
   "language": "python",
   "name": "python3"
  },
  "language_info": {
   "codemirror_mode": {
    "name": "ipython",
    "version": 3
   },
   "file_extension": ".py",
   "mimetype": "text/x-python",
   "name": "python",
   "nbconvert_exporter": "python",
   "pygments_lexer": "ipython3",
   "version": "3.9.13"
  }
 },
 "nbformat": 4,
 "nbformat_minor": 5
}
