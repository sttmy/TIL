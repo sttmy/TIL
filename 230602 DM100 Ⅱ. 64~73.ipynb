{
 "cells": [
  {
   "cell_type": "code",
   "execution_count": 35,
   "id": "c07b75cd",
   "metadata": {},
   "outputs": [],
   "source": [
    "import pandas as pd\n",
    "import numpy as np\n",
    "import datetime as dt"
   ]
  },
  {
   "cell_type": "markdown",
   "id": "bb3d300e",
   "metadata": {},
   "source": [
    "Q64. 데이터를 로드하고 각 열의 데이터 타입을 파악하라"
   ]
  },
  {
   "cell_type": "code",
   "execution_count": 3,
   "id": "19f02f85",
   "metadata": {},
   "outputs": [
    {
     "name": "stdout",
     "output_type": "stream",
     "text": [
      "<class 'pandas.core.frame.DataFrame'>\n",
      "RangeIndex: 6574 entries, 0 to 6573\n",
      "Data columns (total 13 columns):\n",
      " #   Column    Non-Null Count  Dtype  \n",
      "---  ------    --------------  -----  \n",
      " 0   Yr_Mo_Dy  6574 non-null   object \n",
      " 1   RPT       6568 non-null   float64\n",
      " 2   VAL       6571 non-null   float64\n",
      " 3   ROS       6572 non-null   float64\n",
      " 4   KIL       6569 non-null   float64\n",
      " 5   SHA       6572 non-null   float64\n",
      " 6   BIR       6574 non-null   float64\n",
      " 7   DUB       6571 non-null   float64\n",
      " 8   CLA       6572 non-null   float64\n",
      " 9   MUL       6571 non-null   float64\n",
      " 10  CLO       6573 non-null   float64\n",
      " 11  BEL       6574 non-null   float64\n",
      " 12  MAL       6570 non-null   float64\n",
      "dtypes: float64(12), object(1)\n",
      "memory usage: 667.8+ KB\n"
     ]
    }
   ],
   "source": [
    "Url = 'https://raw.githubusercontent.com/Datamanim/pandas/main/timeTest.csv'\n",
    "df = pd.read_csv(Url)\n",
    "df.info()"
   ]
  },
  {
   "cell_type": "markdown",
   "id": "6d9d8bc5",
   "metadata": {},
   "source": [
    "Q65. Yr_Mo_Dy을 판다스에서 인식할 수 있는 datetime64타입으로 변경하라"
   ]
  },
  {
   "cell_type": "code",
   "execution_count": 4,
   "id": "5b7cab4b",
   "metadata": {},
   "outputs": [],
   "source": [
    "df.Yr_Mo_Dy = df.Yr_Mo_Dy.astype('datetime64[ns]')"
   ]
  },
  {
   "cell_type": "code",
   "execution_count": 5,
   "id": "b0419914",
   "metadata": {
    "scrolled": true
   },
   "outputs": [],
   "source": [
    "df.Yr_Mo_Dy = pd.to_datetime(df.Yr_Mo_Dy)"
   ]
  },
  {
   "cell_type": "code",
   "execution_count": 6,
   "id": "fea9ad5e",
   "metadata": {},
   "outputs": [
    {
     "data": {
      "text/plain": [
       "('<M8[ns]', numpy.datetime64)"
      ]
     },
     "execution_count": 6,
     "metadata": {},
     "output_type": "execute_result"
    }
   ],
   "source": [
    "df.Yr_Mo_Dy.dtype.str, df.Yr_Mo_Dy.dtype.type"
   ]
  },
  {
   "cell_type": "markdown",
   "id": "45c0e2ab",
   "metadata": {},
   "source": [
    "### Datetime타입으로 변환\n",
    "① pd.to_datetime()  \n",
    "\n",
    "② df['date'] = df['date'].astype('str')\n",
    "<br> df['date'].apply(lambda _ : datetime.strptime(_,'%Y-%m-%d'))\n",
    "\n",
    "    ### strftime : 시간을 문자열로\n",
    "\n",
    "    ### strptime : 날짜,시간형식의 문자열을 datetime으로"
   ]
  },
  {
   "cell_type": "code",
   "execution_count": 36,
   "id": "6444b201",
   "metadata": {},
   "outputs": [
    {
     "name": "stdout",
     "output_type": "stream",
     "text": [
      "24032021\n",
      "2021-03-24 11:58:50\n",
      "21-03-24 11:58:50\n",
      "3\n",
      "12\n"
     ]
    }
   ],
   "source": [
    "# datetime64에서 string으로 바꾸기\n",
    "\n",
    "t = dt.datetime(2021, 3, 24, 11, 58, 50)\n",
    "print(t.strftime('%d%m%Y'))\n",
    "print(t.strftime('%Y-%m-%d %H:%M:%S'))\n",
    "print(t.strftime('%y-%m-%d %H:%M:%S'))\n",
    "print(t.strftime('%w'))\n",
    "print(t.strftime('%U'))"
   ]
  },
  {
   "cell_type": "markdown",
   "id": "78e133d7",
   "metadata": {},
   "source": [
    "66.Yr_Mo_Dy에 존재하는 년도의 유일값을 모두 출력하라"
   ]
  },
  {
   "cell_type": "code",
   "execution_count": null,
   "id": "11e6aed2",
   "metadata": {},
   "outputs": [],
   "source": [
    "df.Yr_Mo_Dy.dt.year.unique()"
   ]
  },
  {
   "cell_type": "markdown",
   "id": "48b7afc8",
   "metadata": {},
   "source": [
    "## Q67. Yr_Mo_Dy에 년도가 2061년 이상의 경우에는 모두 잘못된 데이터이다. 해당경우의 값은 100을 빼서 새롭게 날짜를 Yr_Mo_Dy 컬럼에 정의하라"
   ]
  },
  {
   "cell_type": "code",
   "execution_count": null,
   "id": "ab69da0b",
   "metadata": {},
   "outputs": [],
   "source": [
    "import datetime as dt"
   ]
  },
  {
   "cell_type": "code",
   "execution_count": null,
   "id": "d04029f6",
   "metadata": {
    "scrolled": false
   },
   "outputs": [],
   "source": [
    "date_fix = df.loc[df.Yr_Mo_Dy.dt.year>=2061, 'Yr_Mo_Dy']\n",
    "date_fix.head(3)"
   ]
  },
  {
   "cell_type": "code",
   "execution_count": null,
   "id": "ee89cb81",
   "metadata": {
    "scrolled": false
   },
   "outputs": [],
   "source": [
    "pd.concat([date_fix.dt.year-100, date_fix.dt.month, date_fix.dt.day], axis = 1).head(3)"
   ]
  },
  {
   "cell_type": "code",
   "execution_count": null,
   "id": "4f49397e",
   "metadata": {},
   "outputs": [],
   "source": [
    "def fix(x):\n",
    "    year = x.year - 100 if x.year >= 2061 else x.year\n",
    "    return pd.to_datetime(dt.date(year, x.month, x.day))\n",
    "\n",
    "df['Yr_Mo_Dy'] = df['Yr_Mo_Dy'].apply(fix)\n",
    "df.head(3)"
   ]
  },
  {
   "cell_type": "code",
   "execution_count": null,
   "id": "ebc4e6c2",
   "metadata": {},
   "outputs": [],
   "source": [
    "def fix_year(x):\n",
    "    year = x.year - 100 if x.year>=2061 else x.year\n",
    "    return pd.to_datetime(dt.date(year, x.month, x.day))\n",
    "df.Yr_Mo_Dy.apply(fix_year)"
   ]
  },
  {
   "cell_type": "code",
   "execution_count": null,
   "id": "0572398d",
   "metadata": {
    "scrolled": true
   },
   "outputs": [],
   "source": [
    "dt.date(2022, 3, 23), dt.time(9, 18, 33)"
   ]
  },
  {
   "cell_type": "code",
   "execution_count": null,
   "id": "d8448c64",
   "metadata": {},
   "outputs": [],
   "source": [
    "dt.date(2022, 3, 23).strftime('%Y-%m-%d')"
   ]
  },
  {
   "cell_type": "markdown",
   "id": "1577bdaf",
   "metadata": {},
   "source": [
    "Q68. 년도별 각컬럼의 평균값을 구하여라"
   ]
  },
  {
   "cell_type": "code",
   "execution_count": 8,
   "id": "1fd69ef9",
   "metadata": {},
   "outputs": [
    {
     "data": {
      "text/html": [
       "<div>\n",
       "<style scoped>\n",
       "    .dataframe tbody tr th:only-of-type {\n",
       "        vertical-align: middle;\n",
       "    }\n",
       "\n",
       "    .dataframe tbody tr th {\n",
       "        vertical-align: top;\n",
       "    }\n",
       "\n",
       "    .dataframe thead th {\n",
       "        text-align: right;\n",
       "    }\n",
       "</style>\n",
       "<table border=\"1\" class=\"dataframe\">\n",
       "  <thead>\n",
       "    <tr style=\"text-align: right;\">\n",
       "      <th></th>\n",
       "      <th>Yr_Mo_Dy</th>\n",
       "      <th>RPT</th>\n",
       "      <th>VAL</th>\n",
       "      <th>ROS</th>\n",
       "      <th>KIL</th>\n",
       "      <th>SHA</th>\n",
       "      <th>BIR</th>\n",
       "      <th>DUB</th>\n",
       "      <th>CLA</th>\n",
       "      <th>MUL</th>\n",
       "      <th>CLO</th>\n",
       "      <th>BEL</th>\n",
       "      <th>MAL</th>\n",
       "    </tr>\n",
       "  </thead>\n",
       "  <tbody>\n",
       "    <tr>\n",
       "      <th>0</th>\n",
       "      <td>2061-01-01</td>\n",
       "      <td>15.04</td>\n",
       "      <td>14.96</td>\n",
       "      <td>13.17</td>\n",
       "      <td>9.29</td>\n",
       "      <td>NaN</td>\n",
       "      <td>9.87</td>\n",
       "      <td>13.67</td>\n",
       "      <td>10.25</td>\n",
       "      <td>10.83</td>\n",
       "      <td>12.58</td>\n",
       "      <td>18.50</td>\n",
       "      <td>15.04</td>\n",
       "    </tr>\n",
       "    <tr>\n",
       "      <th>1</th>\n",
       "      <td>2061-01-02</td>\n",
       "      <td>14.71</td>\n",
       "      <td>NaN</td>\n",
       "      <td>10.83</td>\n",
       "      <td>6.50</td>\n",
       "      <td>12.62</td>\n",
       "      <td>7.67</td>\n",
       "      <td>11.50</td>\n",
       "      <td>10.04</td>\n",
       "      <td>9.79</td>\n",
       "      <td>9.67</td>\n",
       "      <td>17.54</td>\n",
       "      <td>13.83</td>\n",
       "    </tr>\n",
       "    <tr>\n",
       "      <th>2</th>\n",
       "      <td>2061-01-03</td>\n",
       "      <td>18.50</td>\n",
       "      <td>16.88</td>\n",
       "      <td>12.33</td>\n",
       "      <td>10.13</td>\n",
       "      <td>11.17</td>\n",
       "      <td>6.17</td>\n",
       "      <td>11.25</td>\n",
       "      <td>NaN</td>\n",
       "      <td>8.50</td>\n",
       "      <td>7.67</td>\n",
       "      <td>12.75</td>\n",
       "      <td>12.71</td>\n",
       "    </tr>\n",
       "  </tbody>\n",
       "</table>\n",
       "</div>"
      ],
      "text/plain": [
       "    Yr_Mo_Dy    RPT    VAL    ROS    KIL    SHA   BIR    DUB    CLA    MUL   \n",
       "0 2061-01-01  15.04  14.96  13.17   9.29    NaN  9.87  13.67  10.25  10.83  \\\n",
       "1 2061-01-02  14.71    NaN  10.83   6.50  12.62  7.67  11.50  10.04   9.79   \n",
       "2 2061-01-03  18.50  16.88  12.33  10.13  11.17  6.17  11.25    NaN   8.50   \n",
       "\n",
       "     CLO    BEL    MAL  \n",
       "0  12.58  18.50  15.04  \n",
       "1   9.67  17.54  13.83  \n",
       "2   7.67  12.75  12.71  "
      ]
     },
     "execution_count": 8,
     "metadata": {},
     "output_type": "execute_result"
    }
   ],
   "source": [
    "df.head(3)"
   ]
  },
  {
   "cell_type": "code",
   "execution_count": 9,
   "id": "3fc3a944",
   "metadata": {},
   "outputs": [
    {
     "data": {
      "text/html": [
       "<div>\n",
       "<style scoped>\n",
       "    .dataframe tbody tr th:only-of-type {\n",
       "        vertical-align: middle;\n",
       "    }\n",
       "\n",
       "    .dataframe tbody tr th {\n",
       "        vertical-align: top;\n",
       "    }\n",
       "\n",
       "    .dataframe thead th {\n",
       "        text-align: right;\n",
       "    }\n",
       "</style>\n",
       "<table border=\"1\" class=\"dataframe\">\n",
       "  <thead>\n",
       "    <tr style=\"text-align: right;\">\n",
       "      <th></th>\n",
       "      <th>Yr_Mo_Dy</th>\n",
       "      <th>RPT</th>\n",
       "      <th>VAL</th>\n",
       "      <th>ROS</th>\n",
       "      <th>KIL</th>\n",
       "      <th>SHA</th>\n",
       "      <th>BIR</th>\n",
       "      <th>DUB</th>\n",
       "      <th>CLA</th>\n",
       "      <th>MUL</th>\n",
       "      <th>CLO</th>\n",
       "      <th>BEL</th>\n",
       "      <th>MAL</th>\n",
       "    </tr>\n",
       "    <tr>\n",
       "      <th>Yr_Mo_Dy</th>\n",
       "      <th></th>\n",
       "      <th></th>\n",
       "      <th></th>\n",
       "      <th></th>\n",
       "      <th></th>\n",
       "      <th></th>\n",
       "      <th></th>\n",
       "      <th></th>\n",
       "      <th></th>\n",
       "      <th></th>\n",
       "      <th></th>\n",
       "      <th></th>\n",
       "      <th></th>\n",
       "    </tr>\n",
       "  </thead>\n",
       "  <tbody>\n",
       "    <tr>\n",
       "      <th>1971</th>\n",
       "      <td>1971-07-02 00:00:00</td>\n",
       "      <td>11.273123</td>\n",
       "      <td>9.095178</td>\n",
       "      <td>11.088329</td>\n",
       "      <td>5.241507</td>\n",
       "      <td>9.440329</td>\n",
       "      <td>6.097151</td>\n",
       "      <td>8.385890</td>\n",
       "      <td>6.757315</td>\n",
       "      <td>7.915370</td>\n",
       "      <td>7.229753</td>\n",
       "      <td>12.208932</td>\n",
       "      <td>15.025233</td>\n",
       "    </tr>\n",
       "    <tr>\n",
       "      <th>1972</th>\n",
       "      <td>1972-07-01 12:00:00</td>\n",
       "      <td>12.463962</td>\n",
       "      <td>10.561311</td>\n",
       "      <td>12.058333</td>\n",
       "      <td>5.929699</td>\n",
       "      <td>9.430410</td>\n",
       "      <td>6.358825</td>\n",
       "      <td>9.704508</td>\n",
       "      <td>7.680792</td>\n",
       "      <td>8.357295</td>\n",
       "      <td>7.515273</td>\n",
       "      <td>12.727377</td>\n",
       "      <td>15.028716</td>\n",
       "    </tr>\n",
       "    <tr>\n",
       "      <th>1973</th>\n",
       "      <td>1973-07-02 00:00:00</td>\n",
       "      <td>11.828466</td>\n",
       "      <td>10.680493</td>\n",
       "      <td>10.680493</td>\n",
       "      <td>5.547863</td>\n",
       "      <td>9.640877</td>\n",
       "      <td>6.548740</td>\n",
       "      <td>8.482110</td>\n",
       "      <td>7.614274</td>\n",
       "      <td>8.245534</td>\n",
       "      <td>7.812411</td>\n",
       "      <td>12.169699</td>\n",
       "      <td>15.441096</td>\n",
       "    </tr>\n",
       "  </tbody>\n",
       "</table>\n",
       "</div>"
      ],
      "text/plain": [
       "                    Yr_Mo_Dy        RPT        VAL        ROS       KIL   \n",
       "Yr_Mo_Dy                                                                  \n",
       "1971     1971-07-02 00:00:00  11.273123   9.095178  11.088329  5.241507  \\\n",
       "1972     1972-07-01 12:00:00  12.463962  10.561311  12.058333  5.929699   \n",
       "1973     1973-07-02 00:00:00  11.828466  10.680493  10.680493  5.547863   \n",
       "\n",
       "               SHA       BIR       DUB       CLA       MUL       CLO   \n",
       "Yr_Mo_Dy                                                               \n",
       "1971      9.440329  6.097151  8.385890  6.757315  7.915370  7.229753  \\\n",
       "1972      9.430410  6.358825  9.704508  7.680792  8.357295  7.515273   \n",
       "1973      9.640877  6.548740  8.482110  7.614274  8.245534  7.812411   \n",
       "\n",
       "                BEL        MAL  \n",
       "Yr_Mo_Dy                        \n",
       "1971      12.208932  15.025233  \n",
       "1972      12.727377  15.028716  \n",
       "1973      12.169699  15.441096  "
      ]
     },
     "execution_count": 9,
     "metadata": {},
     "output_type": "execute_result"
    }
   ],
   "source": [
    "df.groupby(df['Yr_Mo_Dy'].dt.year).mean().head(3)"
   ]
  },
  {
   "cell_type": "code",
   "execution_count": 10,
   "id": "04cc6344",
   "metadata": {},
   "outputs": [
    {
     "data": {
      "text/html": [
       "<div>\n",
       "<style scoped>\n",
       "    .dataframe tbody tr th:only-of-type {\n",
       "        vertical-align: middle;\n",
       "    }\n",
       "\n",
       "    .dataframe tbody tr th {\n",
       "        vertical-align: top;\n",
       "    }\n",
       "\n",
       "    .dataframe thead th {\n",
       "        text-align: right;\n",
       "    }\n",
       "</style>\n",
       "<table border=\"1\" class=\"dataframe\">\n",
       "  <thead>\n",
       "    <tr style=\"text-align: right;\">\n",
       "      <th></th>\n",
       "      <th>Yr_Mo_Dy</th>\n",
       "      <th>RPT</th>\n",
       "      <th>VAL</th>\n",
       "      <th>ROS</th>\n",
       "      <th>KIL</th>\n",
       "      <th>SHA</th>\n",
       "      <th>BIR</th>\n",
       "      <th>DUB</th>\n",
       "      <th>CLA</th>\n",
       "      <th>MUL</th>\n",
       "      <th>CLO</th>\n",
       "      <th>BEL</th>\n",
       "      <th>MAL</th>\n",
       "    </tr>\n",
       "    <tr>\n",
       "      <th>Yr_Mo_Dy</th>\n",
       "      <th></th>\n",
       "      <th></th>\n",
       "      <th></th>\n",
       "      <th></th>\n",
       "      <th></th>\n",
       "      <th></th>\n",
       "      <th></th>\n",
       "      <th></th>\n",
       "      <th></th>\n",
       "      <th></th>\n",
       "      <th></th>\n",
       "      <th></th>\n",
       "      <th></th>\n",
       "    </tr>\n",
       "  </thead>\n",
       "  <tbody>\n",
       "    <tr>\n",
       "      <th>1971</th>\n",
       "      <td>1971-07-02 00:00:00</td>\n",
       "      <td>11.273123</td>\n",
       "      <td>9.095178</td>\n",
       "      <td>11.088329</td>\n",
       "      <td>5.241507</td>\n",
       "      <td>9.440329</td>\n",
       "      <td>6.097151</td>\n",
       "      <td>8.385890</td>\n",
       "      <td>6.757315</td>\n",
       "      <td>7.915370</td>\n",
       "      <td>7.229753</td>\n",
       "      <td>12.208932</td>\n",
       "      <td>15.025233</td>\n",
       "    </tr>\n",
       "    <tr>\n",
       "      <th>1972</th>\n",
       "      <td>1972-07-01 12:00:00</td>\n",
       "      <td>12.463962</td>\n",
       "      <td>10.561311</td>\n",
       "      <td>12.058333</td>\n",
       "      <td>5.929699</td>\n",
       "      <td>9.430410</td>\n",
       "      <td>6.358825</td>\n",
       "      <td>9.704508</td>\n",
       "      <td>7.680792</td>\n",
       "      <td>8.357295</td>\n",
       "      <td>7.515273</td>\n",
       "      <td>12.727377</td>\n",
       "      <td>15.028716</td>\n",
       "    </tr>\n",
       "    <tr>\n",
       "      <th>1973</th>\n",
       "      <td>1973-07-02 00:00:00</td>\n",
       "      <td>11.828466</td>\n",
       "      <td>10.680493</td>\n",
       "      <td>10.680493</td>\n",
       "      <td>5.547863</td>\n",
       "      <td>9.640877</td>\n",
       "      <td>6.548740</td>\n",
       "      <td>8.482110</td>\n",
       "      <td>7.614274</td>\n",
       "      <td>8.245534</td>\n",
       "      <td>7.812411</td>\n",
       "      <td>12.169699</td>\n",
       "      <td>15.441096</td>\n",
       "    </tr>\n",
       "  </tbody>\n",
       "</table>\n",
       "</div>"
      ],
      "text/plain": [
       "                    Yr_Mo_Dy        RPT        VAL        ROS       KIL   \n",
       "Yr_Mo_Dy                                                                  \n",
       "1971     1971-07-02 00:00:00  11.273123   9.095178  11.088329  5.241507  \\\n",
       "1972     1972-07-01 12:00:00  12.463962  10.561311  12.058333  5.929699   \n",
       "1973     1973-07-02 00:00:00  11.828466  10.680493  10.680493  5.547863   \n",
       "\n",
       "               SHA       BIR       DUB       CLA       MUL       CLO   \n",
       "Yr_Mo_Dy                                                               \n",
       "1971      9.440329  6.097151  8.385890  6.757315  7.915370  7.229753  \\\n",
       "1972      9.430410  6.358825  9.704508  7.680792  8.357295  7.515273   \n",
       "1973      9.640877  6.548740  8.482110  7.614274  8.245534  7.812411   \n",
       "\n",
       "                BEL        MAL  \n",
       "Yr_Mo_Dy                        \n",
       "1971      12.208932  15.025233  \n",
       "1972      12.727377  15.028716  \n",
       "1973      12.169699  15.441096  "
      ]
     },
     "execution_count": 10,
     "metadata": {},
     "output_type": "execute_result"
    }
   ],
   "source": [
    "df.groupby(df.Yr_Mo_Dy.dt.year).mean().head(3)"
   ]
  },
  {
   "cell_type": "markdown",
   "id": "bfc02474",
   "metadata": {},
   "source": [
    "Q69. weekday컬럼을 만들고 요일별로 매핑하라 ( 월요일: 0 ~ 일요일 :6)"
   ]
  },
  {
   "cell_type": "code",
   "execution_count": 11,
   "id": "2ae9cb42",
   "metadata": {},
   "outputs": [
    {
     "data": {
      "text/plain": [
       "0    Saturday\n",
       "1      Sunday\n",
       "2      Monday\n",
       "Name: Yr_Mo_Dy, dtype: object"
      ]
     },
     "execution_count": 11,
     "metadata": {},
     "output_type": "execute_result"
    }
   ],
   "source": [
    "df.Yr_Mo_Dy.dt.day_name().head(3)"
   ]
  },
  {
   "cell_type": "code",
   "execution_count": 12,
   "id": "dae6e2cc",
   "metadata": {},
   "outputs": [
    {
     "data": {
      "text/html": [
       "<div>\n",
       "<style scoped>\n",
       "    .dataframe tbody tr th:only-of-type {\n",
       "        vertical-align: middle;\n",
       "    }\n",
       "\n",
       "    .dataframe tbody tr th {\n",
       "        vertical-align: top;\n",
       "    }\n",
       "\n",
       "    .dataframe thead th {\n",
       "        text-align: right;\n",
       "    }\n",
       "</style>\n",
       "<table border=\"1\" class=\"dataframe\">\n",
       "  <thead>\n",
       "    <tr style=\"text-align: right;\">\n",
       "      <th></th>\n",
       "      <th>Yr_Mo_Dy</th>\n",
       "      <th>RPT</th>\n",
       "      <th>VAL</th>\n",
       "      <th>ROS</th>\n",
       "      <th>KIL</th>\n",
       "      <th>SHA</th>\n",
       "      <th>BIR</th>\n",
       "      <th>DUB</th>\n",
       "      <th>CLA</th>\n",
       "      <th>MUL</th>\n",
       "      <th>CLO</th>\n",
       "      <th>BEL</th>\n",
       "      <th>MAL</th>\n",
       "      <th>weekday</th>\n",
       "    </tr>\n",
       "  </thead>\n",
       "  <tbody>\n",
       "    <tr>\n",
       "      <th>0</th>\n",
       "      <td>2061-01-01</td>\n",
       "      <td>15.04</td>\n",
       "      <td>14.96</td>\n",
       "      <td>13.17</td>\n",
       "      <td>9.29</td>\n",
       "      <td>NaN</td>\n",
       "      <td>9.87</td>\n",
       "      <td>13.67</td>\n",
       "      <td>10.25</td>\n",
       "      <td>10.83</td>\n",
       "      <td>12.58</td>\n",
       "      <td>18.50</td>\n",
       "      <td>15.04</td>\n",
       "      <td>5</td>\n",
       "    </tr>\n",
       "    <tr>\n",
       "      <th>1</th>\n",
       "      <td>2061-01-02</td>\n",
       "      <td>14.71</td>\n",
       "      <td>NaN</td>\n",
       "      <td>10.83</td>\n",
       "      <td>6.50</td>\n",
       "      <td>12.62</td>\n",
       "      <td>7.67</td>\n",
       "      <td>11.50</td>\n",
       "      <td>10.04</td>\n",
       "      <td>9.79</td>\n",
       "      <td>9.67</td>\n",
       "      <td>17.54</td>\n",
       "      <td>13.83</td>\n",
       "      <td>6</td>\n",
       "    </tr>\n",
       "    <tr>\n",
       "      <th>2</th>\n",
       "      <td>2061-01-03</td>\n",
       "      <td>18.50</td>\n",
       "      <td>16.88</td>\n",
       "      <td>12.33</td>\n",
       "      <td>10.13</td>\n",
       "      <td>11.17</td>\n",
       "      <td>6.17</td>\n",
       "      <td>11.25</td>\n",
       "      <td>NaN</td>\n",
       "      <td>8.50</td>\n",
       "      <td>7.67</td>\n",
       "      <td>12.75</td>\n",
       "      <td>12.71</td>\n",
       "      <td>0</td>\n",
       "    </tr>\n",
       "  </tbody>\n",
       "</table>\n",
       "</div>"
      ],
      "text/plain": [
       "    Yr_Mo_Dy    RPT    VAL    ROS    KIL    SHA   BIR    DUB    CLA    MUL   \n",
       "0 2061-01-01  15.04  14.96  13.17   9.29    NaN  9.87  13.67  10.25  10.83  \\\n",
       "1 2061-01-02  14.71    NaN  10.83   6.50  12.62  7.67  11.50  10.04   9.79   \n",
       "2 2061-01-03  18.50  16.88  12.33  10.13  11.17  6.17  11.25    NaN   8.50   \n",
       "\n",
       "     CLO    BEL    MAL  weekday  \n",
       "0  12.58  18.50  15.04        5  \n",
       "1   9.67  17.54  13.83        6  \n",
       "2   7.67  12.75  12.71        0  "
      ]
     },
     "execution_count": 12,
     "metadata": {},
     "output_type": "execute_result"
    }
   ],
   "source": [
    "df['weekday'] = df.Yr_Mo_Dy.dt.weekday\n",
    "df.head(3)"
   ]
  },
  {
   "cell_type": "markdown",
   "id": "4d6158d8",
   "metadata": {},
   "source": [
    "## dt.day_name() : 요일이름\n",
    "## dt.weekday : 요일 number"
   ]
  },
  {
   "cell_type": "markdown",
   "id": "bcbdbbcf",
   "metadata": {},
   "source": [
    "Q70. weekday컬럼을 기준으로 주말이면 1 평일이면 0의 값을 가지는 WeekCheck 컬럼을 만들어라"
   ]
  },
  {
   "cell_type": "code",
   "execution_count": 13,
   "id": "c4fbacee",
   "metadata": {},
   "outputs": [],
   "source": [
    "df['WeekCheck'] = df.weekday.apply(lambda x: 1 if x in (6,7) else 0)"
   ]
  },
  {
   "cell_type": "code",
   "execution_count": 14,
   "id": "96bb2c07",
   "metadata": {},
   "outputs": [
    {
     "data": {
      "text/plain": [
       "0    0\n",
       "1    1\n",
       "2    0\n",
       "Name: WeekCheck, dtype: int64"
      ]
     },
     "execution_count": 14,
     "metadata": {},
     "output_type": "execute_result"
    }
   ],
   "source": [
    "df.WeekCheck.head(3)"
   ]
  },
  {
   "cell_type": "markdown",
   "id": "8f5762e6",
   "metadata": {},
   "source": [
    "Q71. 년도, 일자 상관없이 모든 컬럼의 각 달의 평균을 구하여라"
   ]
  },
  {
   "cell_type": "code",
   "execution_count": 15,
   "id": "bcd32fa1",
   "metadata": {},
   "outputs": [
    {
     "data": {
      "text/html": [
       "<div>\n",
       "<style scoped>\n",
       "    .dataframe tbody tr th:only-of-type {\n",
       "        vertical-align: middle;\n",
       "    }\n",
       "\n",
       "    .dataframe tbody tr th {\n",
       "        vertical-align: top;\n",
       "    }\n",
       "\n",
       "    .dataframe thead th {\n",
       "        text-align: right;\n",
       "    }\n",
       "</style>\n",
       "<table border=\"1\" class=\"dataframe\">\n",
       "  <thead>\n",
       "    <tr style=\"text-align: right;\">\n",
       "      <th></th>\n",
       "      <th>Yr_Mo_Dy</th>\n",
       "      <th>RPT</th>\n",
       "      <th>VAL</th>\n",
       "      <th>ROS</th>\n",
       "      <th>KIL</th>\n",
       "      <th>SHA</th>\n",
       "      <th>BIR</th>\n",
       "      <th>DUB</th>\n",
       "      <th>CLA</th>\n",
       "      <th>MUL</th>\n",
       "      <th>CLO</th>\n",
       "      <th>BEL</th>\n",
       "      <th>MAL</th>\n",
       "      <th>weekday</th>\n",
       "      <th>WeekCheck</th>\n",
       "    </tr>\n",
       "    <tr>\n",
       "      <th>Yr_Mo_Dy</th>\n",
       "      <th></th>\n",
       "      <th></th>\n",
       "      <th></th>\n",
       "      <th></th>\n",
       "      <th></th>\n",
       "      <th></th>\n",
       "      <th></th>\n",
       "      <th></th>\n",
       "      <th></th>\n",
       "      <th></th>\n",
       "      <th></th>\n",
       "      <th></th>\n",
       "      <th></th>\n",
       "      <th></th>\n",
       "      <th></th>\n",
       "    </tr>\n",
       "  </thead>\n",
       "  <tbody>\n",
       "    <tr>\n",
       "      <th>1</th>\n",
       "      <td>2025-02-04 22:40:00.000000000</td>\n",
       "      <td>14.847325</td>\n",
       "      <td>12.914560</td>\n",
       "      <td>13.299624</td>\n",
       "      <td>7.199498</td>\n",
       "      <td>11.667734</td>\n",
       "      <td>8.054839</td>\n",
       "      <td>11.819355</td>\n",
       "      <td>9.512047</td>\n",
       "      <td>9.543208</td>\n",
       "      <td>10.053566</td>\n",
       "      <td>14.550520</td>\n",
       "      <td>18.028763</td>\n",
       "      <td>2.998208</td>\n",
       "      <td>0.145161</td>\n",
       "    </tr>\n",
       "    <tr>\n",
       "      <th>2</th>\n",
       "      <td>2025-02-20 00:22:40.629921280</td>\n",
       "      <td>13.710906</td>\n",
       "      <td>12.111122</td>\n",
       "      <td>12.879132</td>\n",
       "      <td>6.942411</td>\n",
       "      <td>11.551772</td>\n",
       "      <td>7.633858</td>\n",
       "      <td>11.206024</td>\n",
       "      <td>9.341437</td>\n",
       "      <td>9.313169</td>\n",
       "      <td>9.518051</td>\n",
       "      <td>13.728898</td>\n",
       "      <td>17.156142</td>\n",
       "      <td>3.001969</td>\n",
       "      <td>0.143701</td>\n",
       "    </tr>\n",
       "    <tr>\n",
       "      <th>3</th>\n",
       "      <td>2025-04-05 04:00:00.000000000</td>\n",
       "      <td>13.158687</td>\n",
       "      <td>11.505842</td>\n",
       "      <td>12.648118</td>\n",
       "      <td>7.265907</td>\n",
       "      <td>11.554516</td>\n",
       "      <td>7.959409</td>\n",
       "      <td>11.310179</td>\n",
       "      <td>9.635896</td>\n",
       "      <td>9.700324</td>\n",
       "      <td>10.096953</td>\n",
       "      <td>13.810609</td>\n",
       "      <td>16.909317</td>\n",
       "      <td>2.996416</td>\n",
       "      <td>0.139785</td>\n",
       "    </tr>\n",
       "  </tbody>\n",
       "</table>\n",
       "</div>"
      ],
      "text/plain": [
       "                              Yr_Mo_Dy        RPT        VAL        ROS   \n",
       "Yr_Mo_Dy                                                                  \n",
       "1        2025-02-04 22:40:00.000000000  14.847325  12.914560  13.299624  \\\n",
       "2        2025-02-20 00:22:40.629921280  13.710906  12.111122  12.879132   \n",
       "3        2025-04-05 04:00:00.000000000  13.158687  11.505842  12.648118   \n",
       "\n",
       "               KIL        SHA       BIR        DUB       CLA       MUL   \n",
       "Yr_Mo_Dy                                                                 \n",
       "1         7.199498  11.667734  8.054839  11.819355  9.512047  9.543208  \\\n",
       "2         6.942411  11.551772  7.633858  11.206024  9.341437  9.313169   \n",
       "3         7.265907  11.554516  7.959409  11.310179  9.635896  9.700324   \n",
       "\n",
       "                CLO        BEL        MAL   weekday  WeekCheck  \n",
       "Yr_Mo_Dy                                                        \n",
       "1         10.053566  14.550520  18.028763  2.998208   0.145161  \n",
       "2          9.518051  13.728898  17.156142  3.001969   0.143701  \n",
       "3         10.096953  13.810609  16.909317  2.996416   0.139785  "
      ]
     },
     "execution_count": 15,
     "metadata": {},
     "output_type": "execute_result"
    }
   ],
   "source": [
    "a = df.groupby(df.Yr_Mo_Dy.dt.month).mean()\n",
    "a.head(3)"
   ]
  },
  {
   "cell_type": "markdown",
   "id": "0027eba7",
   "metadata": {},
   "source": [
    "## Q72. 모든 결측치는 컬럼기준 직전의 값으로 대체하고 첫번째 행에 결측치가 있을경우 뒤에있는 값으로 대체하라"
   ]
  },
  {
   "cell_type": "code",
   "execution_count": 16,
   "id": "f7468ec9",
   "metadata": {},
   "outputs": [],
   "source": [
    "df = df.fillna(method ='ffill').fillna(method = 'bfill')"
   ]
  },
  {
   "cell_type": "code",
   "execution_count": 17,
   "id": "658856c7",
   "metadata": {
    "scrolled": true
   },
   "outputs": [
    {
     "data": {
      "text/plain": [
       "Yr_Mo_Dy     0\n",
       "RPT          0\n",
       "VAL          0\n",
       "ROS          0\n",
       "KIL          0\n",
       "SHA          0\n",
       "BIR          0\n",
       "DUB          0\n",
       "CLA          0\n",
       "MUL          0\n",
       "CLO          0\n",
       "BEL          0\n",
       "MAL          0\n",
       "weekday      0\n",
       "WeekCheck    0\n",
       "dtype: int64"
      ]
     },
     "execution_count": 17,
     "metadata": {},
     "output_type": "execute_result"
    }
   ],
   "source": [
    "df.isnull().sum()"
   ]
  },
  {
   "cell_type": "markdown",
   "id": "ec361116",
   "metadata": {},
   "source": [
    "## Q73. 년도 - 월을 기준으로 모든 컬럼의 평균값을 구하여라"
   ]
  },
  {
   "cell_type": "code",
   "execution_count": 18,
   "id": "ac5342b2",
   "metadata": {},
   "outputs": [
    {
     "data": {
      "text/html": [
       "<div>\n",
       "<style scoped>\n",
       "    .dataframe tbody tr th:only-of-type {\n",
       "        vertical-align: middle;\n",
       "    }\n",
       "\n",
       "    .dataframe tbody tr th {\n",
       "        vertical-align: top;\n",
       "    }\n",
       "\n",
       "    .dataframe thead th {\n",
       "        text-align: right;\n",
       "    }\n",
       "</style>\n",
       "<table border=\"1\" class=\"dataframe\">\n",
       "  <thead>\n",
       "    <tr style=\"text-align: right;\">\n",
       "      <th></th>\n",
       "      <th></th>\n",
       "      <th>Yr_Mo_Dy</th>\n",
       "      <th>RPT</th>\n",
       "      <th>VAL</th>\n",
       "      <th>ROS</th>\n",
       "      <th>KIL</th>\n",
       "      <th>SHA</th>\n",
       "      <th>BIR</th>\n",
       "      <th>DUB</th>\n",
       "      <th>CLA</th>\n",
       "      <th>MUL</th>\n",
       "      <th>CLO</th>\n",
       "      <th>BEL</th>\n",
       "      <th>MAL</th>\n",
       "      <th>weekday</th>\n",
       "      <th>WeekCheck</th>\n",
       "    </tr>\n",
       "    <tr>\n",
       "      <th>Yr_Mo_Dy</th>\n",
       "      <th>Yr_Mo_Dy</th>\n",
       "      <th></th>\n",
       "      <th></th>\n",
       "      <th></th>\n",
       "      <th></th>\n",
       "      <th></th>\n",
       "      <th></th>\n",
       "      <th></th>\n",
       "      <th></th>\n",
       "      <th></th>\n",
       "      <th></th>\n",
       "      <th></th>\n",
       "      <th></th>\n",
       "      <th></th>\n",
       "      <th></th>\n",
       "      <th></th>\n",
       "    </tr>\n",
       "  </thead>\n",
       "  <tbody>\n",
       "    <tr>\n",
       "      <th rowspan=\"3\" valign=\"top\">1971</th>\n",
       "      <th>1</th>\n",
       "      <td>1971-01-16 00:00:00</td>\n",
       "      <td>15.098065</td>\n",
       "      <td>13.398387</td>\n",
       "      <td>13.080000</td>\n",
       "      <td>6.364194</td>\n",
       "      <td>11.342258</td>\n",
       "      <td>7.759677</td>\n",
       "      <td>10.297419</td>\n",
       "      <td>8.350</td>\n",
       "      <td>8.979355</td>\n",
       "      <td>8.666774</td>\n",
       "      <td>14.392581</td>\n",
       "      <td>16.360000</td>\n",
       "      <td>3.193548</td>\n",
       "      <td>0.161290</td>\n",
       "    </tr>\n",
       "    <tr>\n",
       "      <th>2</th>\n",
       "      <td>1971-02-14 12:00:00</td>\n",
       "      <td>11.724643</td>\n",
       "      <td>9.757143</td>\n",
       "      <td>10.311786</td>\n",
       "      <td>5.242143</td>\n",
       "      <td>9.676786</td>\n",
       "      <td>5.492143</td>\n",
       "      <td>8.683929</td>\n",
       "      <td>7.075</td>\n",
       "      <td>8.272857</td>\n",
       "      <td>7.833571</td>\n",
       "      <td>12.883929</td>\n",
       "      <td>15.863214</td>\n",
       "      <td>3.000000</td>\n",
       "      <td>0.142857</td>\n",
       "    </tr>\n",
       "    <tr>\n",
       "      <th>3</th>\n",
       "      <td>1971-03-16 00:00:00</td>\n",
       "      <td>10.844839</td>\n",
       "      <td>8.243226</td>\n",
       "      <td>11.228387</td>\n",
       "      <td>5.629032</td>\n",
       "      <td>8.960000</td>\n",
       "      <td>5.486774</td>\n",
       "      <td>9.061935</td>\n",
       "      <td>6.700</td>\n",
       "      <td>8.494516</td>\n",
       "      <td>7.758387</td>\n",
       "      <td>11.510000</td>\n",
       "      <td>15.678387</td>\n",
       "      <td>2.806452</td>\n",
       "      <td>0.129032</td>\n",
       "    </tr>\n",
       "  </tbody>\n",
       "</table>\n",
       "</div>"
      ],
      "text/plain": [
       "                             Yr_Mo_Dy        RPT        VAL        ROS   \n",
       "Yr_Mo_Dy Yr_Mo_Dy                                                        \n",
       "1971     1        1971-01-16 00:00:00  15.098065  13.398387  13.080000  \\\n",
       "         2        1971-02-14 12:00:00  11.724643   9.757143  10.311786   \n",
       "         3        1971-03-16 00:00:00  10.844839   8.243226  11.228387   \n",
       "\n",
       "                        KIL        SHA       BIR        DUB    CLA       MUL   \n",
       "Yr_Mo_Dy Yr_Mo_Dy                                                              \n",
       "1971     1         6.364194  11.342258  7.759677  10.297419  8.350  8.979355  \\\n",
       "         2         5.242143   9.676786  5.492143   8.683929  7.075  8.272857   \n",
       "         3         5.629032   8.960000  5.486774   9.061935  6.700  8.494516   \n",
       "\n",
       "                        CLO        BEL        MAL   weekday  WeekCheck  \n",
       "Yr_Mo_Dy Yr_Mo_Dy                                                       \n",
       "1971     1         8.666774  14.392581  16.360000  3.193548   0.161290  \n",
       "         2         7.833571  12.883929  15.863214  3.000000   0.142857  \n",
       "         3         7.758387  11.510000  15.678387  2.806452   0.129032  "
      ]
     },
     "execution_count": 18,
     "metadata": {},
     "output_type": "execute_result"
    }
   ],
   "source": [
    "df.groupby([df.Yr_Mo_Dy.dt.year, df.Yr_Mo_Dy.dt.month]).mean().head(3)"
   ]
  },
  {
   "cell_type": "code",
   "execution_count": 19,
   "id": "988ce4b8",
   "metadata": {},
   "outputs": [
    {
     "data": {
      "text/html": [
       "<div>\n",
       "<style scoped>\n",
       "    .dataframe tbody tr th:only-of-type {\n",
       "        vertical-align: middle;\n",
       "    }\n",
       "\n",
       "    .dataframe tbody tr th {\n",
       "        vertical-align: top;\n",
       "    }\n",
       "\n",
       "    .dataframe thead th {\n",
       "        text-align: right;\n",
       "    }\n",
       "</style>\n",
       "<table border=\"1\" class=\"dataframe\">\n",
       "  <thead>\n",
       "    <tr style=\"text-align: right;\">\n",
       "      <th></th>\n",
       "      <th>Yr_Mo_Dy</th>\n",
       "      <th>RPT</th>\n",
       "      <th>VAL</th>\n",
       "      <th>ROS</th>\n",
       "      <th>KIL</th>\n",
       "      <th>SHA</th>\n",
       "      <th>BIR</th>\n",
       "      <th>DUB</th>\n",
       "      <th>CLA</th>\n",
       "      <th>MUL</th>\n",
       "      <th>CLO</th>\n",
       "      <th>BEL</th>\n",
       "      <th>MAL</th>\n",
       "      <th>weekday</th>\n",
       "      <th>WeekCheck</th>\n",
       "    </tr>\n",
       "    <tr>\n",
       "      <th>Yr_Mo_Dy</th>\n",
       "      <th></th>\n",
       "      <th></th>\n",
       "      <th></th>\n",
       "      <th></th>\n",
       "      <th></th>\n",
       "      <th></th>\n",
       "      <th></th>\n",
       "      <th></th>\n",
       "      <th></th>\n",
       "      <th></th>\n",
       "      <th></th>\n",
       "      <th></th>\n",
       "      <th></th>\n",
       "      <th></th>\n",
       "      <th></th>\n",
       "    </tr>\n",
       "  </thead>\n",
       "  <tbody>\n",
       "    <tr>\n",
       "      <th>1971-01</th>\n",
       "      <td>1971-01-16 00:00:00</td>\n",
       "      <td>15.098065</td>\n",
       "      <td>13.398387</td>\n",
       "      <td>13.080000</td>\n",
       "      <td>6.364194</td>\n",
       "      <td>11.342258</td>\n",
       "      <td>7.759677</td>\n",
       "      <td>10.297419</td>\n",
       "      <td>8.350</td>\n",
       "      <td>8.979355</td>\n",
       "      <td>8.666774</td>\n",
       "      <td>14.392581</td>\n",
       "      <td>16.360000</td>\n",
       "      <td>3.193548</td>\n",
       "      <td>0.161290</td>\n",
       "    </tr>\n",
       "    <tr>\n",
       "      <th>1971-02</th>\n",
       "      <td>1971-02-14 12:00:00</td>\n",
       "      <td>11.724643</td>\n",
       "      <td>9.757143</td>\n",
       "      <td>10.311786</td>\n",
       "      <td>5.242143</td>\n",
       "      <td>9.676786</td>\n",
       "      <td>5.492143</td>\n",
       "      <td>8.683929</td>\n",
       "      <td>7.075</td>\n",
       "      <td>8.272857</td>\n",
       "      <td>7.833571</td>\n",
       "      <td>12.883929</td>\n",
       "      <td>15.863214</td>\n",
       "      <td>3.000000</td>\n",
       "      <td>0.142857</td>\n",
       "    </tr>\n",
       "    <tr>\n",
       "      <th>1971-03</th>\n",
       "      <td>1971-03-16 00:00:00</td>\n",
       "      <td>10.844839</td>\n",
       "      <td>8.243226</td>\n",
       "      <td>11.228387</td>\n",
       "      <td>5.629032</td>\n",
       "      <td>8.960000</td>\n",
       "      <td>5.486774</td>\n",
       "      <td>9.061935</td>\n",
       "      <td>6.700</td>\n",
       "      <td>8.494516</td>\n",
       "      <td>7.758387</td>\n",
       "      <td>11.510000</td>\n",
       "      <td>15.678387</td>\n",
       "      <td>2.806452</td>\n",
       "      <td>0.129032</td>\n",
       "    </tr>\n",
       "  </tbody>\n",
       "</table>\n",
       "</div>"
      ],
      "text/plain": [
       "                    Yr_Mo_Dy        RPT        VAL        ROS       KIL   \n",
       "Yr_Mo_Dy                                                                  \n",
       "1971-01  1971-01-16 00:00:00  15.098065  13.398387  13.080000  6.364194  \\\n",
       "1971-02  1971-02-14 12:00:00  11.724643   9.757143  10.311786  5.242143   \n",
       "1971-03  1971-03-16 00:00:00  10.844839   8.243226  11.228387  5.629032   \n",
       "\n",
       "                SHA       BIR        DUB    CLA       MUL       CLO   \n",
       "Yr_Mo_Dy                                                              \n",
       "1971-01   11.342258  7.759677  10.297419  8.350  8.979355  8.666774  \\\n",
       "1971-02    9.676786  5.492143   8.683929  7.075  8.272857  7.833571   \n",
       "1971-03    8.960000  5.486774   9.061935  6.700  8.494516  7.758387   \n",
       "\n",
       "                BEL        MAL   weekday  WeekCheck  \n",
       "Yr_Mo_Dy                                             \n",
       "1971-01   14.392581  16.360000  3.193548   0.161290  \n",
       "1971-02   12.883929  15.863214  3.000000   0.142857  \n",
       "1971-03   11.510000  15.678387  2.806452   0.129032  "
      ]
     },
     "execution_count": 19,
     "metadata": {},
     "output_type": "execute_result"
    }
   ],
   "source": [
    "df.groupby(df.Yr_Mo_Dy.dt.to_period('M')).mean().head(3)"
   ]
  },
  {
   "cell_type": "code",
   "execution_count": 20,
   "id": "35af2f48",
   "metadata": {},
   "outputs": [
    {
     "data": {
      "text/html": [
       "<div>\n",
       "<style scoped>\n",
       "    .dataframe tbody tr th:only-of-type {\n",
       "        vertical-align: middle;\n",
       "    }\n",
       "\n",
       "    .dataframe tbody tr th {\n",
       "        vertical-align: top;\n",
       "    }\n",
       "\n",
       "    .dataframe thead th {\n",
       "        text-align: right;\n",
       "    }\n",
       "</style>\n",
       "<table border=\"1\" class=\"dataframe\">\n",
       "  <thead>\n",
       "    <tr style=\"text-align: right;\">\n",
       "      <th></th>\n",
       "      <th>Yr_Mo_Dy</th>\n",
       "      <th>RPT</th>\n",
       "      <th>VAL</th>\n",
       "      <th>ROS</th>\n",
       "      <th>KIL</th>\n",
       "      <th>SHA</th>\n",
       "      <th>BIR</th>\n",
       "      <th>DUB</th>\n",
       "      <th>CLA</th>\n",
       "      <th>MUL</th>\n",
       "      <th>CLO</th>\n",
       "      <th>BEL</th>\n",
       "      <th>MAL</th>\n",
       "      <th>weekday</th>\n",
       "      <th>WeekCheck</th>\n",
       "    </tr>\n",
       "    <tr>\n",
       "      <th>Yr_Mo_Dy</th>\n",
       "      <th></th>\n",
       "      <th></th>\n",
       "      <th></th>\n",
       "      <th></th>\n",
       "      <th></th>\n",
       "      <th></th>\n",
       "      <th></th>\n",
       "      <th></th>\n",
       "      <th></th>\n",
       "      <th></th>\n",
       "      <th></th>\n",
       "      <th></th>\n",
       "      <th></th>\n",
       "      <th></th>\n",
       "      <th></th>\n",
       "    </tr>\n",
       "  </thead>\n",
       "  <tbody>\n",
       "    <tr>\n",
       "      <th>1971</th>\n",
       "      <td>1971-07-02 00:00:00</td>\n",
       "      <td>11.273123</td>\n",
       "      <td>9.095178</td>\n",
       "      <td>11.088329</td>\n",
       "      <td>5.241507</td>\n",
       "      <td>9.440329</td>\n",
       "      <td>6.097151</td>\n",
       "      <td>8.385890</td>\n",
       "      <td>6.757315</td>\n",
       "      <td>7.915370</td>\n",
       "      <td>7.229753</td>\n",
       "      <td>12.208932</td>\n",
       "      <td>15.025233</td>\n",
       "      <td>3.002740</td>\n",
       "      <td>0.142466</td>\n",
       "    </tr>\n",
       "    <tr>\n",
       "      <th>1972</th>\n",
       "      <td>1972-07-01 12:00:00</td>\n",
       "      <td>12.463962</td>\n",
       "      <td>10.561311</td>\n",
       "      <td>12.058333</td>\n",
       "      <td>5.929699</td>\n",
       "      <td>9.430410</td>\n",
       "      <td>6.358825</td>\n",
       "      <td>9.704508</td>\n",
       "      <td>7.680792</td>\n",
       "      <td>8.357295</td>\n",
       "      <td>7.515273</td>\n",
       "      <td>12.727377</td>\n",
       "      <td>15.028716</td>\n",
       "      <td>3.013661</td>\n",
       "      <td>0.144809</td>\n",
       "    </tr>\n",
       "    <tr>\n",
       "      <th>1973</th>\n",
       "      <td>1973-07-02 00:00:00</td>\n",
       "      <td>11.828466</td>\n",
       "      <td>10.680493</td>\n",
       "      <td>10.680493</td>\n",
       "      <td>5.547863</td>\n",
       "      <td>9.640877</td>\n",
       "      <td>6.548740</td>\n",
       "      <td>8.482110</td>\n",
       "      <td>7.614274</td>\n",
       "      <td>8.245534</td>\n",
       "      <td>7.812411</td>\n",
       "      <td>12.169699</td>\n",
       "      <td>15.441096</td>\n",
       "      <td>2.991781</td>\n",
       "      <td>0.142466</td>\n",
       "    </tr>\n",
       "  </tbody>\n",
       "</table>\n",
       "</div>"
      ],
      "text/plain": [
       "                    Yr_Mo_Dy        RPT        VAL        ROS       KIL   \n",
       "Yr_Mo_Dy                                                                  \n",
       "1971     1971-07-02 00:00:00  11.273123   9.095178  11.088329  5.241507  \\\n",
       "1972     1972-07-01 12:00:00  12.463962  10.561311  12.058333  5.929699   \n",
       "1973     1973-07-02 00:00:00  11.828466  10.680493  10.680493  5.547863   \n",
       "\n",
       "               SHA       BIR       DUB       CLA       MUL       CLO   \n",
       "Yr_Mo_Dy                                                               \n",
       "1971      9.440329  6.097151  8.385890  6.757315  7.915370  7.229753  \\\n",
       "1972      9.430410  6.358825  9.704508  7.680792  8.357295  7.515273   \n",
       "1973      9.640877  6.548740  8.482110  7.614274  8.245534  7.812411   \n",
       "\n",
       "                BEL        MAL   weekday  WeekCheck  \n",
       "Yr_Mo_Dy                                             \n",
       "1971      12.208932  15.025233  3.002740   0.142466  \n",
       "1972      12.727377  15.028716  3.013661   0.144809  \n",
       "1973      12.169699  15.441096  2.991781   0.142466  "
      ]
     },
     "execution_count": 20,
     "metadata": {},
     "output_type": "execute_result"
    }
   ],
   "source": [
    "df.groupby(df.Yr_Mo_Dy.dt.to_period('Y')).mean().head(3)"
   ]
  },
  {
   "cell_type": "markdown",
   "id": "9b3d814b",
   "metadata": {},
   "source": [
    "Q74. RPT 컬럼의 값을 일자별 기준으로 1차차분하라"
   ]
  },
  {
   "cell_type": "code",
   "execution_count": 21,
   "id": "f89f695f",
   "metadata": {},
   "outputs": [
    {
     "data": {
      "text/plain": [
       "0     NaN\n",
       "1   -0.33\n",
       "2    3.79\n",
       "Name: RPT, dtype: float64"
      ]
     },
     "execution_count": 21,
     "metadata": {},
     "output_type": "execute_result"
    }
   ],
   "source": [
    "df.RPT.diff().head(3)"
   ]
  },
  {
   "cell_type": "markdown",
   "id": "62157da2",
   "metadata": {},
   "source": [
    "### 1차 차분 : diff()\n",
    "- 차분: non-stationary 한 데이터를 stationary하게 만들어줌\n",
    "\n",
    "### 이동평균: rolling()\n",
    "- Window 창이 이동하듯이 X축의 창을 이동하면서 Y값의 평균 최소 최대값을 구함"
   ]
  },
  {
   "cell_type": "markdown",
   "id": "eb3e1843",
   "metadata": {},
   "source": [
    "## Q75. RPT와 VAL의 컬럼을 일주일 간격으로 각각 이동평균한값을 구하여라"
   ]
  },
  {
   "cell_type": "code",
   "execution_count": 22,
   "id": "39520318",
   "metadata": {},
   "outputs": [
    {
     "data": {
      "text/html": [
       "<div>\n",
       "<style scoped>\n",
       "    .dataframe tbody tr th:only-of-type {\n",
       "        vertical-align: middle;\n",
       "    }\n",
       "\n",
       "    .dataframe tbody tr th {\n",
       "        vertical-align: top;\n",
       "    }\n",
       "\n",
       "    .dataframe thead th {\n",
       "        text-align: right;\n",
       "    }\n",
       "</style>\n",
       "<table border=\"1\" class=\"dataframe\">\n",
       "  <thead>\n",
       "    <tr style=\"text-align: right;\">\n",
       "      <th></th>\n",
       "      <th>RPT</th>\n",
       "      <th>VAL</th>\n",
       "    </tr>\n",
       "  </thead>\n",
       "  <tbody>\n",
       "    <tr>\n",
       "      <th>0</th>\n",
       "      <td>NaN</td>\n",
       "      <td>NaN</td>\n",
       "    </tr>\n",
       "    <tr>\n",
       "      <th>1</th>\n",
       "      <td>NaN</td>\n",
       "      <td>NaN</td>\n",
       "    </tr>\n",
       "    <tr>\n",
       "      <th>2</th>\n",
       "      <td>NaN</td>\n",
       "      <td>NaN</td>\n",
       "    </tr>\n",
       "    <tr>\n",
       "      <th>3</th>\n",
       "      <td>NaN</td>\n",
       "      <td>NaN</td>\n",
       "    </tr>\n",
       "    <tr>\n",
       "      <th>4</th>\n",
       "      <td>NaN</td>\n",
       "      <td>NaN</td>\n",
       "    </tr>\n",
       "    <tr>\n",
       "      <th>5</th>\n",
       "      <td>NaN</td>\n",
       "      <td>NaN</td>\n",
       "    </tr>\n",
       "    <tr>\n",
       "      <th>6</th>\n",
       "      <td>14.124286</td>\n",
       "      <td>12.727143</td>\n",
       "    </tr>\n",
       "    <tr>\n",
       "      <th>7</th>\n",
       "      <td>13.541429</td>\n",
       "      <td>11.982857</td>\n",
       "    </tr>\n",
       "    <tr>\n",
       "      <th>8</th>\n",
       "      <td>13.237143</td>\n",
       "      <td>11.392857</td>\n",
       "    </tr>\n",
       "    <tr>\n",
       "      <th>9</th>\n",
       "      <td>12.504286</td>\n",
       "      <td>10.570000</td>\n",
       "    </tr>\n",
       "  </tbody>\n",
       "</table>\n",
       "</div>"
      ],
      "text/plain": [
       "         RPT        VAL\n",
       "0        NaN        NaN\n",
       "1        NaN        NaN\n",
       "2        NaN        NaN\n",
       "3        NaN        NaN\n",
       "4        NaN        NaN\n",
       "5        NaN        NaN\n",
       "6  14.124286  12.727143\n",
       "7  13.541429  11.982857\n",
       "8  13.237143  11.392857\n",
       "9  12.504286  10.570000"
      ]
     },
     "execution_count": 22,
     "metadata": {},
     "output_type": "execute_result"
    }
   ],
   "source": [
    "df[['RPT','VAL']].rolling(7).mean().head(10)"
   ]
  },
  {
   "cell_type": "markdown",
   "id": "c90dda7a",
   "metadata": {},
   "source": [
    "Q76. 년-월-일:시 컬럼을 pandas에서 인식할 수 있는 datetime 형태로 변경하라. 서울시의 제공데이터의 경우 0시가 24시로 표현된다"
   ]
  },
  {
   "cell_type": "code",
   "execution_count": 23,
   "id": "1dcc45c6",
   "metadata": {},
   "outputs": [],
   "source": [
    "url = 'https://raw.githubusercontent.com/Datamanim/pandas/main/seoul_pm.csv'\n",
    "df = pd.read_csv(url)"
   ]
  },
  {
   "cell_type": "code",
   "execution_count": 25,
   "id": "3a9a5635",
   "metadata": {},
   "outputs": [
    {
     "data": {
      "text/html": [
       "<div>\n",
       "<style scoped>\n",
       "    .dataframe tbody tr th:only-of-type {\n",
       "        vertical-align: middle;\n",
       "    }\n",
       "\n",
       "    .dataframe tbody tr th {\n",
       "        vertical-align: top;\n",
       "    }\n",
       "\n",
       "    .dataframe thead th {\n",
       "        text-align: right;\n",
       "    }\n",
       "</style>\n",
       "<table border=\"1\" class=\"dataframe\">\n",
       "  <thead>\n",
       "    <tr style=\"text-align: right;\">\n",
       "      <th></th>\n",
       "      <th>(년-월-일:시)</th>\n",
       "      <th>PM10등급</th>\n",
       "      <th>PM10</th>\n",
       "      <th>PM2.5등급</th>\n",
       "      <th>PM2.5</th>\n",
       "      <th>오존등급</th>\n",
       "      <th>오존</th>\n",
       "      <th>이산화질소등급</th>\n",
       "      <th>이산화질소</th>\n",
       "      <th>일산화탄소등급</th>\n",
       "      <th>일산화탄소</th>\n",
       "      <th>아황산가스등급</th>\n",
       "      <th>아황산가스</th>\n",
       "    </tr>\n",
       "  </thead>\n",
       "  <tbody>\n",
       "    <tr>\n",
       "      <th>0</th>\n",
       "      <td>2021-05-15:15</td>\n",
       "      <td>보통</td>\n",
       "      <td>47.0</td>\n",
       "      <td>보통</td>\n",
       "      <td>19.0</td>\n",
       "      <td>좋음</td>\n",
       "      <td>0.017</td>\n",
       "      <td>좋음</td>\n",
       "      <td>0.023</td>\n",
       "      <td>좋음</td>\n",
       "      <td>0.4</td>\n",
       "      <td>좋음</td>\n",
       "      <td>0.003</td>\n",
       "    </tr>\n",
       "    <tr>\n",
       "      <th>1</th>\n",
       "      <td>2021-05-15:14</td>\n",
       "      <td>보통</td>\n",
       "      <td>43.0</td>\n",
       "      <td>보통</td>\n",
       "      <td>20.0</td>\n",
       "      <td>좋음</td>\n",
       "      <td>0.024</td>\n",
       "      <td>좋음</td>\n",
       "      <td>0.019</td>\n",
       "      <td>좋음</td>\n",
       "      <td>0.3</td>\n",
       "      <td>좋음</td>\n",
       "      <td>0.003</td>\n",
       "    </tr>\n",
       "    <tr>\n",
       "      <th>2</th>\n",
       "      <td>2021-05-15:13</td>\n",
       "      <td>보통</td>\n",
       "      <td>34.0</td>\n",
       "      <td>보통</td>\n",
       "      <td>24.0</td>\n",
       "      <td>보통</td>\n",
       "      <td>0.035</td>\n",
       "      <td>좋음</td>\n",
       "      <td>0.017</td>\n",
       "      <td>좋음</td>\n",
       "      <td>0.4</td>\n",
       "      <td>좋음</td>\n",
       "      <td>0.004</td>\n",
       "    </tr>\n",
       "  </tbody>\n",
       "</table>\n",
       "</div>"
      ],
      "text/plain": [
       "       (년-월-일:시) PM10등급  PM10 PM2.5등급  PM2.5 오존등급     오존 이산화질소등급  이산화질소   \n",
       "0  2021-05-15:15     보통  47.0      보통   19.0   좋음  0.017      좋음  0.023  \\\n",
       "1  2021-05-15:14     보통  43.0      보통   20.0   좋음  0.024      좋음  0.019   \n",
       "2  2021-05-15:13     보통  34.0      보통   24.0   보통  0.035      좋음  0.017   \n",
       "\n",
       "  일산화탄소등급  일산화탄소 아황산가스등급  아황산가스  \n",
       "0      좋음    0.4      좋음  0.003  \n",
       "1      좋음    0.3      좋음  0.003  \n",
       "2      좋음    0.4      좋음  0.004  "
      ]
     },
     "execution_count": 25,
     "metadata": {},
     "output_type": "execute_result"
    }
   ],
   "source": [
    "df.head(3)"
   ]
  },
  {
   "cell_type": "code",
   "execution_count": 60,
   "id": "4f80bed6",
   "metadata": {},
   "outputs": [
    {
     "data": {
      "text/plain": [
       "0       [2021-05-15, 15]\n",
       "1       [2021-05-15, 14]\n",
       "2       [2021-05-15, 13]\n",
       "3       [2021-05-15, 12]\n",
       "4       [2021-05-15, 11]\n",
       "              ...       \n",
       "1234    [2021-03-25, 05]\n",
       "1235    [2021-03-25, 04]\n",
       "1236    [2021-03-25, 03]\n",
       "1237    [2021-03-25, 02]\n",
       "1238    [2021-03-25, 01]\n",
       "Name: (년-월-일:시), Length: 1239, dtype: object"
      ]
     },
     "execution_count": 60,
     "metadata": {},
     "output_type": "execute_result"
    }
   ],
   "source": [
    "df['(년-월-일:시)'].str.split(':')"
   ]
  },
  {
   "cell_type": "code",
   "execution_count": 40,
   "id": "98d5df99",
   "metadata": {
    "collapsed": true
   },
   "outputs": [
    {
     "ename": "TypeError",
     "evalue": "Argument 'fmt' has incorrect type (expected str, got int)",
     "output_type": "error",
     "traceback": [
      "\u001b[1;31m---------------------------------------------------------------------------\u001b[0m",
      "\u001b[1;31mTypeError\u001b[0m                                 Traceback (most recent call last)",
      "Cell \u001b[1;32mIn[40], line 1\u001b[0m\n\u001b[1;32m----> 1\u001b[0m \u001b[43mpd\u001b[49m\u001b[38;5;241;43m.\u001b[39;49m\u001b[43mto_datetime\u001b[49m\u001b[43m(\u001b[49m\u001b[43mdf\u001b[49m\u001b[43m[\u001b[49m\u001b[38;5;124;43m'\u001b[39;49m\u001b[38;5;124;43m(년-월-일:시)\u001b[39;49m\u001b[38;5;124;43m'\u001b[39;49m\u001b[43m]\u001b[49m\u001b[38;5;241;43m.\u001b[39;49m\u001b[43mstr\u001b[49m\u001b[38;5;241;43m.\u001b[39;49m\u001b[43msplit\u001b[49m\u001b[43m(\u001b[49m\u001b[38;5;124;43m'\u001b[39;49m\u001b[38;5;124;43m:\u001b[39;49m\u001b[38;5;124;43m'\u001b[39;49m\u001b[43m)\u001b[49m\u001b[43m[\u001b[49m\u001b[38;5;241;43m0\u001b[39;49m\u001b[43m]\u001b[49m\u001b[43m[\u001b[49m\u001b[38;5;241;43m0\u001b[39;49m\u001b[43m]\u001b[49m\u001b[38;5;241;43m.\u001b[39;49m\u001b[43msplit\u001b[49m\u001b[43m(\u001b[49m\u001b[38;5;124;43m'\u001b[39;49m\u001b[38;5;124;43m-\u001b[39;49m\u001b[38;5;124;43m'\u001b[39;49m\u001b[43m)\u001b[49m\u001b[43m[\u001b[49m\u001b[38;5;241;43m0\u001b[39;49m\u001b[43m]\u001b[49m\u001b[43m,\u001b[49m\u001b[43m \u001b[49m\u001b[43mdf\u001b[49m\u001b[43m[\u001b[49m\u001b[38;5;124;43m'\u001b[39;49m\u001b[38;5;124;43m(년-월-일:시)\u001b[39;49m\u001b[38;5;124;43m'\u001b[39;49m\u001b[43m]\u001b[49m\u001b[38;5;241;43m.\u001b[39;49m\u001b[43mstr\u001b[49m\u001b[38;5;241;43m.\u001b[39;49m\u001b[43msplit\u001b[49m\u001b[43m(\u001b[49m\u001b[38;5;124;43m'\u001b[39;49m\u001b[38;5;124;43m:\u001b[39;49m\u001b[38;5;124;43m'\u001b[39;49m\u001b[43m)\u001b[49m\u001b[43m[\u001b[49m\u001b[38;5;241;43m0\u001b[39;49m\u001b[43m]\u001b[49m\u001b[43m[\u001b[49m\u001b[38;5;241;43m0\u001b[39;49m\u001b[43m]\u001b[49m\u001b[38;5;241;43m.\u001b[39;49m\u001b[43msplit\u001b[49m\u001b[43m(\u001b[49m\u001b[38;5;124;43m'\u001b[39;49m\u001b[38;5;124;43m-\u001b[39;49m\u001b[38;5;124;43m'\u001b[39;49m\u001b[43m)\u001b[49m\u001b[43m[\u001b[49m\u001b[38;5;241;43m1\u001b[39;49m\u001b[43m]\u001b[49m\u001b[43m,\u001b[49m\u001b[43m \u001b[49m\u001b[43mdf\u001b[49m\u001b[43m[\u001b[49m\u001b[38;5;124;43m'\u001b[39;49m\u001b[38;5;124;43m(년-월-일:시)\u001b[39;49m\u001b[38;5;124;43m'\u001b[39;49m\u001b[43m]\u001b[49m\u001b[38;5;241;43m.\u001b[39;49m\u001b[43mstr\u001b[49m\u001b[38;5;241;43m.\u001b[39;49m\u001b[43msplit\u001b[49m\u001b[43m(\u001b[49m\u001b[38;5;124;43m'\u001b[39;49m\u001b[38;5;124;43m:\u001b[39;49m\u001b[38;5;124;43m'\u001b[39;49m\u001b[43m)\u001b[49m\u001b[43m[\u001b[49m\u001b[38;5;241;43m0\u001b[39;49m\u001b[43m]\u001b[49m\u001b[43m[\u001b[49m\u001b[38;5;241;43m0\u001b[39;49m\u001b[43m]\u001b[49m\u001b[38;5;241;43m.\u001b[39;49m\u001b[43msplit\u001b[49m\u001b[43m(\u001b[49m\u001b[38;5;124;43m'\u001b[39;49m\u001b[38;5;124;43m-\u001b[39;49m\u001b[38;5;124;43m'\u001b[39;49m\u001b[43m)\u001b[49m\u001b[43m[\u001b[49m\u001b[38;5;241;43m2\u001b[39;49m\u001b[43m]\u001b[49m\u001b[43m,\u001b[49m\u001b[43m \u001b[49m\u001b[43mdf\u001b[49m\u001b[43m[\u001b[49m\u001b[38;5;124;43m'\u001b[39;49m\u001b[38;5;124;43m(년-월-일:시)\u001b[39;49m\u001b[38;5;124;43m'\u001b[39;49m\u001b[43m]\u001b[49m\u001b[38;5;241;43m.\u001b[39;49m\u001b[43mstr\u001b[49m\u001b[38;5;241;43m.\u001b[39;49m\u001b[43msplit\u001b[49m\u001b[43m(\u001b[49m\u001b[38;5;124;43m'\u001b[39;49m\u001b[38;5;124;43m:\u001b[39;49m\u001b[38;5;124;43m'\u001b[39;49m\u001b[43m)\u001b[49m\u001b[43m[\u001b[49m\u001b[38;5;241;43m0\u001b[39;49m\u001b[43m]\u001b[49m\u001b[43m[\u001b[49m\u001b[38;5;241;43m1\u001b[39;49m\u001b[43m]\u001b[49m\u001b[43m,\u001b[49m\u001b[43m \u001b[49m\u001b[38;5;241;43m0\u001b[39;49m\u001b[43m,\u001b[49m\u001b[43m \u001b[49m\u001b[38;5;241;43m0\u001b[39;49m\u001b[43m)\u001b[49m\n",
      "File \u001b[1;32mc:\\python38\\lib\\site-packages\\pandas\\core\\tools\\datetimes.py:1084\u001b[0m, in \u001b[0;36mto_datetime\u001b[1;34m(arg, errors, dayfirst, yearfirst, utc, format, exact, unit, infer_datetime_format, origin, cache)\u001b[0m\n\u001b[0;32m   1082\u001b[0m         result \u001b[38;5;241m=\u001b[39m convert_listlike(argc, \u001b[38;5;28mformat\u001b[39m)\n\u001b[0;32m   1083\u001b[0m \u001b[38;5;28;01melse\u001b[39;00m:\n\u001b[1;32m-> 1084\u001b[0m     result \u001b[38;5;241m=\u001b[39m \u001b[43mconvert_listlike\u001b[49m\u001b[43m(\u001b[49m\u001b[43mnp\u001b[49m\u001b[38;5;241;43m.\u001b[39;49m\u001b[43marray\u001b[49m\u001b[43m(\u001b[49m\u001b[43m[\u001b[49m\u001b[43marg\u001b[49m\u001b[43m]\u001b[49m\u001b[43m)\u001b[49m\u001b[43m,\u001b[49m\u001b[43m \u001b[49m\u001b[38;5;28;43mformat\u001b[39;49m\u001b[43m)\u001b[49m[\u001b[38;5;241m0\u001b[39m]\n\u001b[0;32m   1085\u001b[0m     \u001b[38;5;28;01mif\u001b[39;00m \u001b[38;5;28misinstance\u001b[39m(arg, \u001b[38;5;28mbool\u001b[39m) \u001b[38;5;129;01mand\u001b[39;00m \u001b[38;5;28misinstance\u001b[39m(result, np\u001b[38;5;241m.\u001b[39mbool_):\n\u001b[0;32m   1086\u001b[0m         result \u001b[38;5;241m=\u001b[39m \u001b[38;5;28mbool\u001b[39m(result)  \u001b[38;5;66;03m# TODO: avoid this kludge.\u001b[39;00m\n",
      "File \u001b[1;32mc:\\python38\\lib\\site-packages\\pandas\\core\\tools\\datetimes.py:453\u001b[0m, in \u001b[0;36m_convert_listlike_datetimes\u001b[1;34m(arg, format, name, utc, unit, errors, dayfirst, yearfirst, exact)\u001b[0m\n\u001b[0;32m    451\u001b[0m \u001b[38;5;66;03m# `format` could be inferred, or user didn't ask for mixed-format parsing.\u001b[39;00m\n\u001b[0;32m    452\u001b[0m \u001b[38;5;28;01mif\u001b[39;00m \u001b[38;5;28mformat\u001b[39m \u001b[38;5;129;01mis\u001b[39;00m \u001b[38;5;129;01mnot\u001b[39;00m \u001b[38;5;28;01mNone\u001b[39;00m \u001b[38;5;129;01mand\u001b[39;00m \u001b[38;5;28mformat\u001b[39m \u001b[38;5;241m!=\u001b[39m \u001b[38;5;124m\"\u001b[39m\u001b[38;5;124mmixed\u001b[39m\u001b[38;5;124m\"\u001b[39m:\n\u001b[1;32m--> 453\u001b[0m     \u001b[38;5;28;01mreturn\u001b[39;00m \u001b[43m_array_strptime_with_fallback\u001b[49m\u001b[43m(\u001b[49m\u001b[43marg\u001b[49m\u001b[43m,\u001b[49m\u001b[43m \u001b[49m\u001b[43mname\u001b[49m\u001b[43m,\u001b[49m\u001b[43m \u001b[49m\u001b[43mutc\u001b[49m\u001b[43m,\u001b[49m\u001b[43m \u001b[49m\u001b[38;5;28;43mformat\u001b[39;49m\u001b[43m,\u001b[49m\u001b[43m \u001b[49m\u001b[43mexact\u001b[49m\u001b[43m,\u001b[49m\u001b[43m \u001b[49m\u001b[43merrors\u001b[49m\u001b[43m)\u001b[49m\n\u001b[0;32m    455\u001b[0m result, tz_parsed \u001b[38;5;241m=\u001b[39m objects_to_datetime64ns(\n\u001b[0;32m    456\u001b[0m     arg,\n\u001b[0;32m    457\u001b[0m     dayfirst\u001b[38;5;241m=\u001b[39mdayfirst,\n\u001b[1;32m   (...)\u001b[0m\n\u001b[0;32m    461\u001b[0m     allow_object\u001b[38;5;241m=\u001b[39m\u001b[38;5;28;01mTrue\u001b[39;00m,\n\u001b[0;32m    462\u001b[0m )\n\u001b[0;32m    464\u001b[0m \u001b[38;5;28;01mif\u001b[39;00m tz_parsed \u001b[38;5;129;01mis\u001b[39;00m \u001b[38;5;129;01mnot\u001b[39;00m \u001b[38;5;28;01mNone\u001b[39;00m:\n\u001b[0;32m    465\u001b[0m     \u001b[38;5;66;03m# We can take a shortcut since the datetime64 numpy array\u001b[39;00m\n\u001b[0;32m    466\u001b[0m     \u001b[38;5;66;03m# is in UTC\u001b[39;00m\n",
      "File \u001b[1;32mc:\\python38\\lib\\site-packages\\pandas\\core\\tools\\datetimes.py:484\u001b[0m, in \u001b[0;36m_array_strptime_with_fallback\u001b[1;34m(arg, name, utc, fmt, exact, errors)\u001b[0m\n\u001b[0;32m    473\u001b[0m \u001b[38;5;28;01mdef\u001b[39;00m \u001b[38;5;21m_array_strptime_with_fallback\u001b[39m(\n\u001b[0;32m    474\u001b[0m     arg,\n\u001b[0;32m    475\u001b[0m     name,\n\u001b[1;32m   (...)\u001b[0m\n\u001b[0;32m    479\u001b[0m     errors: \u001b[38;5;28mstr\u001b[39m,\n\u001b[0;32m    480\u001b[0m ) \u001b[38;5;241m-\u001b[39m\u001b[38;5;241m>\u001b[39m Index:\n\u001b[0;32m    481\u001b[0m \u001b[38;5;250m    \u001b[39m\u001b[38;5;124;03m\"\"\"\u001b[39;00m\n\u001b[0;32m    482\u001b[0m \u001b[38;5;124;03m    Call array_strptime, with fallback behavior depending on 'errors'.\u001b[39;00m\n\u001b[0;32m    483\u001b[0m \u001b[38;5;124;03m    \"\"\"\u001b[39;00m\n\u001b[1;32m--> 484\u001b[0m     result, timezones \u001b[38;5;241m=\u001b[39m \u001b[43marray_strptime\u001b[49m\u001b[43m(\u001b[49m\u001b[43marg\u001b[49m\u001b[43m,\u001b[49m\u001b[43m \u001b[49m\u001b[43mfmt\u001b[49m\u001b[43m,\u001b[49m\u001b[43m \u001b[49m\u001b[43mexact\u001b[49m\u001b[38;5;241;43m=\u001b[39;49m\u001b[43mexact\u001b[49m\u001b[43m,\u001b[49m\u001b[43m \u001b[49m\u001b[43merrors\u001b[49m\u001b[38;5;241;43m=\u001b[39;49m\u001b[43merrors\u001b[49m\u001b[43m,\u001b[49m\u001b[43m \u001b[49m\u001b[43mutc\u001b[49m\u001b[38;5;241;43m=\u001b[39;49m\u001b[43mutc\u001b[49m\u001b[43m)\u001b[49m\n\u001b[0;32m    485\u001b[0m     \u001b[38;5;28;01mif\u001b[39;00m \u001b[38;5;28many\u001b[39m(tz \u001b[38;5;129;01mis\u001b[39;00m \u001b[38;5;129;01mnot\u001b[39;00m \u001b[38;5;28;01mNone\u001b[39;00m \u001b[38;5;28;01mfor\u001b[39;00m tz \u001b[38;5;129;01min\u001b[39;00m timezones):\n\u001b[0;32m    486\u001b[0m         \u001b[38;5;28;01mreturn\u001b[39;00m _return_parsed_timezone_results(result, timezones, utc, name)\n",
      "\u001b[1;31mTypeError\u001b[0m: Argument 'fmt' has incorrect type (expected str, got int)"
     ]
    }
   ],
   "source": [
    "pd.to_datetime(df['(년-월-일:시)'].str.split(':')[0][0].split('-')[0], df['(년-월-일:시)'].str.split(':')[0][0].split('-')[1], df['(년-월-일:시)'].str.split(':')[0][0].split('-')[2], df['(년-월-일:시)'].str.split(':')[0][1], 0, 0)"
   ]
  },
  {
   "cell_type": "code",
   "execution_count": 52,
   "id": "62bbbfc0",
   "metadata": {},
   "outputs": [
    {
     "ename": "AttributeError",
     "evalue": "'str' object has no attribute 'dt'",
     "output_type": "error",
     "traceback": [
      "\u001b[1;31m---------------------------------------------------------------------------\u001b[0m",
      "\u001b[1;31mAttributeError\u001b[0m                            Traceback (most recent call last)",
      "Cell \u001b[1;32mIn[52], line 1\u001b[0m\n\u001b[1;32m----> 1\u001b[0m \u001b[43mdf\u001b[49m\u001b[43m[\u001b[49m\u001b[38;5;124;43m'\u001b[39;49m\u001b[38;5;124;43m(년-월-일:시)\u001b[39;49m\u001b[38;5;124;43m'\u001b[39;49m\u001b[43m]\u001b[49m\u001b[43m[\u001b[49m\u001b[38;5;241;43m0\u001b[39;49m\u001b[43m]\u001b[49m\u001b[38;5;241;43m.\u001b[39;49m\u001b[43mdt\u001b[49m\u001b[38;5;241m.\u001b[39mdate\n",
      "\u001b[1;31mAttributeError\u001b[0m: 'str' object has no attribute 'dt'"
     ]
    }
   ],
   "source": [
    "df['(년-월-일:시)'][0].dt.date"
   ]
  },
  {
   "cell_type": "code",
   "execution_count": 49,
   "id": "6e9129ac",
   "metadata": {},
   "outputs": [
    {
     "ename": "SyntaxError",
     "evalue": "unexpected EOF while parsing (3395530856.py, line 1)",
     "output_type": "error",
     "traceback": [
      "\u001b[1;36m  Cell \u001b[1;32mIn[49], line 1\u001b[1;36m\u001b[0m\n\u001b[1;33m    print(df['(년-월-일:시)'].str.split(':')[0].strftime('%H:%m:%s')\u001b[0m\n\u001b[1;37m                                                                ^\u001b[0m\n\u001b[1;31mSyntaxError\u001b[0m\u001b[1;31m:\u001b[0m unexpected EOF while parsing\n"
     ]
    }
   ],
   "source": [
    "print(df['(년-월-일:시)'].str.split(':')[0].strftime('%H:%m:%s')"
   ]
  },
  {
   "cell_type": "markdown",
   "id": "be2b074a",
   "metadata": {},
   "source": [
    "## datetime\n",
    "\n",
    "- year: 연도\n",
    "- month: 월\n",
    "- day: 일\n",
    "- hour: 시\n",
    "- minute: 분\n",
    "- second: 초\n",
    "- weekday: 요일 (0:월 ~ 6:일)\n",
    "- strftime: 문자열\n",
    "- date: 날짜 정보\n",
    "- time: 시간 정보\n",
    "\n",
    "### strftime 문자열로 변환\n",
    "- %Y: 4자리 연도\n",
    "- %m: 2자리 월\n",
    "- %d: 2자리 일\n",
    "- %H: 24시간 \n",
    "- %M: 2자리 분\n",
    "- %S: 2자리 초\n",
    "- %A: 영어로 된 요일\n",
    "- %B: 영어로 된 월"
   ]
  },
  {
   "cell_type": "code",
   "execution_count": 53,
   "id": "19305fcc",
   "metadata": {},
   "outputs": [
    {
     "data": {
      "text/plain": [
       "'Friday 02. June 2023'"
      ]
     },
     "execution_count": 53,
     "metadata": {},
     "output_type": "execute_result"
    }
   ],
   "source": [
    "x = dt.datetime.now()\n",
    "x.strftime(\"%A %d. %B %Y\")"
   ]
  },
  {
   "cell_type": "code",
   "execution_count": 55,
   "id": "250f5793",
   "metadata": {},
   "outputs": [
    {
     "data": {
      "text/plain": [
       "datetime.datetime(2017, 1, 2, 14, 44)"
      ]
     },
     "execution_count": 55,
     "metadata": {},
     "output_type": "execute_result"
    }
   ],
   "source": [
    "# 문자열을 datetime으로\n",
    "\n",
    "y = dt.datetime.strptime(\"2017-01-02 14:44\", \"%Y-%m-%d %H:%M\")\n",
    "y"
   ]
  },
  {
   "cell_type": "code",
   "execution_count": 56,
   "id": "3b502f80",
   "metadata": {},
   "outputs": [
    {
     "data": {
      "text/plain": [
       "'2017-01-02 14:44'"
      ]
     },
     "execution_count": 56,
     "metadata": {},
     "output_type": "execute_result"
    }
   ],
   "source": [
    "y.strftime(\"%Y-%m-%d %H:%M\")"
   ]
  },
  {
   "cell_type": "code",
   "execution_count": 57,
   "id": "ab4f0c25",
   "metadata": {},
   "outputs": [
    {
     "data": {
      "text/plain": [
       "'2017-01-02 14'"
      ]
     },
     "execution_count": 57,
     "metadata": {},
     "output_type": "execute_result"
    }
   ],
   "source": [
    "y.strftime(\"%Y-%m-%d %H\")"
   ]
  },
  {
   "cell_type": "code",
   "execution_count": 62,
   "id": "cc226ccf",
   "metadata": {},
   "outputs": [
    {
     "data": {
      "text/plain": [
       "['2021-05-15', '15']"
      ]
     },
     "execution_count": 62,
     "metadata": {},
     "output_type": "execute_result"
    }
   ],
   "source": [
    "df['(년-월-일:시)'].str.split(':')[0][0]"
   ]
  },
  {
   "cell_type": "code",
   "execution_count": 64,
   "id": "4cea8bdf",
   "metadata": {},
   "outputs": [
    {
     "ename": "SyntaxError",
     "evalue": "invalid syntax (1954558118.py, line 1)",
     "output_type": "error",
     "traceback": [
      "\u001b[1;36m  Cell \u001b[1;32mIn[64], line 1\u001b[1;36m\u001b[0m\n\u001b[1;33m    z = 'df['(년-월-일:시)'].str.split(':')[0][0]'&' '&'df['(년-월-일:시)'].str.split(':')[0][1]'\u001b[0m\n\u001b[1;37m                   ^\u001b[0m\n\u001b[1;31mSyntaxError\u001b[0m\u001b[1;31m:\u001b[0m invalid syntax\n"
     ]
    }
   ],
   "source": [
    "z = 'df['(년-월-일:시)'].str.split(':')[0][0]'&' '&'df['(년-월-일:시)'].str.split(':')[0][1]'\n",
    "dt.datetime.strptime(z, \"%Y-%m-%d %H\")"
   ]
  },
  {
   "cell_type": "code",
   "execution_count": null,
   "id": "66856a3a",
   "metadata": {},
   "outputs": [],
   "source": []
  }
 ],
 "metadata": {
  "kernelspec": {
   "display_name": "Python 3 (ipykernel)",
   "language": "python",
   "name": "python3"
  },
  "language_info": {
   "codemirror_mode": {
    "name": "ipython",
    "version": 3
   },
   "file_extension": ".py",
   "mimetype": "text/x-python",
   "name": "python",
   "nbconvert_exporter": "python",
   "pygments_lexer": "ipython3",
   "version": "3.8.10"
  }
 },
 "nbformat": 4,
 "nbformat_minor": 5
}
