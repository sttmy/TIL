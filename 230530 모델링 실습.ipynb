{
 "cells": [
  {
   "cell_type": "markdown",
   "id": "619654cb",
   "metadata": {},
   "source": [
    "데이터 전처리\n",
    "\n",
    "데이터 수집 20% + 데이터 전처리 60% 시간 사용 (백조 발 구르기)\n",
    "특성 생성 (데이터 프레임)\n",
    "특성 삭제 (데이터 프레임)\n",
    "변수 나누기 (독립 변수와 종속 변수 나누기)\n",
    "수(치)가 아닌 데이터를 수(치)로 변환\n",
    "결측값 처리\n",
    "정규 분포로 변환\n",
    "이상값 처리\n",
    "원핫 인코딩\n",
    "구간화\n",
    "라벨 인코딩\n",
    "특성 스케일링\n",
    "차원 축소\n",
    "커스텀 데이터 변환\n",
    "군집화\n",
    "\n",
    "\n",
    "모델 생성\n",
    "\n",
    "\n",
    "모델 학습\n",
    "\n",
    "회귀 \n",
    "분류\n",
    "\n",
    "\n",
    "모델 검증"
   ]
  },
  {
   "cell_type": "markdown",
   "id": "0b38f0e7",
   "metadata": {},
   "source": [
    "선형 회귀 모델 (선형: 수식이 직선)   \n",
    "    선형 회귀 (LinearRegression) 모델\n",
    "    라쏘 (Lasso) 모델\n",
    "    릿지 (Ridge) 모델\n",
    "비선형 회귀 모델 (비선형: 수식이 곡선)\n",
    "    k-최근접 이웃 (KNeighborsRegressor) 모델\n",
    "    의사 결정 나무 (DecisionTreeRegressor) 모델\n",
    "    서포트 벡터 머신 (SVR) 모델"
   ]
  },
  {
   "cell_type": "markdown",
   "id": "30ed2072",
   "metadata": {},
   "source": [
    "실제 모델 구축에 들어가기 전에 아래와 같은 사항에 대해 확인하고 진행하는 것을 권장한다.\n",
    "\n",
    "범주형, 연속형 데이터 형식의 적절성\n",
    "이상치 및 결측치 처리 여부\n",
    "스케일링 및 분포 변환\n",
    "다중공선성 문제\n",
    "예측변수(y)의 분포 imbalance 문제\n",
    "변수 축소 및 파생 변수 생성"
   ]
  },
  {
   "cell_type": "markdown",
   "id": "f8916fd6",
   "metadata": {},
   "source": [
    "데이터가 학습 데이터와 테스트 데이터로 나누어 진 경우는 반드시 fit() 함수와 transform() 함수를 따로 사용\n",
    "\n",
    "transformer = SimpleImputer()\n",
    "transformer.fit(x_data)\n",
    "x_data = transformer.transform(x_data)\n",
    "print(x_data)\n",
    "\n",
    "transformer.fit(x_train) #SimpleImputer 모델에 x_train 데이터 적용 (평균값 계산)\n",
    "x_train = transformer.transform(x_train) \n",
    "x_test = transformer.transform(x_test)"
   ]
  },
  {
   "cell_type": "markdown",
   "id": "0deaaec4",
   "metadata": {},
   "source": [
    "## 정시 배송 여부 판단 (2회기출)\n",
    "\n",
    "데이터 설명 : e-commerce 배송의 정시 도착여부 (1: 정시배송 0 : 정시미배송)\n",
    "\n",
    "데이터 출처 :https://www.kaggle.com/datasets/prachi13/customer-analytics (참고, 데이터 수정)"
   ]
  },
  {
   "cell_type": "code",
   "execution_count": 25,
   "id": "35eaa16f",
   "metadata": {},
   "outputs": [],
   "source": [
    "import pandas as pd\n",
    "import numpy as np\n",
    "from sklearn.model_selection import train_test_split"
   ]
  },
  {
   "cell_type": "code",
   "execution_count": 30,
   "id": "cd54e4cb",
   "metadata": {},
   "outputs": [],
   "source": [
    "x_train = pd.read_csv('https://raw.githubusercontent.com/Datamanim/datarepo/main/shipping/X_train.csv')\n",
    "y_train = pd.read_csv('https://raw.githubusercontent.com/Datamanim/datarepo/main/shipping/y_train.csv')\n",
    "x_test = pd.read_csv('https://raw.githubusercontent.com/Datamanim/datarepo/main/shipping/X_test.csv')\n",
    "y_test = pd.read_csv('https://raw.githubusercontent.com/Datamanim/datarepo/main/shipping/y_test.csv')"
   ]
  },
  {
   "cell_type": "code",
   "execution_count": 4,
   "id": "ee156cb3",
   "metadata": {},
   "outputs": [
    {
     "data": {
      "text/html": [
       "<div>\n",
       "<style scoped>\n",
       "    .dataframe tbody tr th:only-of-type {\n",
       "        vertical-align: middle;\n",
       "    }\n",
       "\n",
       "    .dataframe tbody tr th {\n",
       "        vertical-align: top;\n",
       "    }\n",
       "\n",
       "    .dataframe thead th {\n",
       "        text-align: right;\n",
       "    }\n",
       "</style>\n",
       "<table border=\"1\" class=\"dataframe\">\n",
       "  <thead>\n",
       "    <tr style=\"text-align: right;\">\n",
       "      <th></th>\n",
       "      <th>ID</th>\n",
       "      <th>Warehouse_block</th>\n",
       "      <th>Mode_of_Shipment</th>\n",
       "      <th>Customer_care_calls</th>\n",
       "      <th>Customer_rating</th>\n",
       "      <th>Cost_of_the_Product</th>\n",
       "      <th>Prior_purchases</th>\n",
       "      <th>Product_importance</th>\n",
       "      <th>Gender</th>\n",
       "      <th>Discount_offered</th>\n",
       "      <th>Weight_in_gms</th>\n",
       "    </tr>\n",
       "  </thead>\n",
       "  <tbody>\n",
       "    <tr>\n",
       "      <th>0</th>\n",
       "      <td>6045</td>\n",
       "      <td>A</td>\n",
       "      <td>Flight</td>\n",
       "      <td>4</td>\n",
       "      <td>3</td>\n",
       "      <td>266</td>\n",
       "      <td>5</td>\n",
       "      <td>high</td>\n",
       "      <td>F</td>\n",
       "      <td>5</td>\n",
       "      <td>1590</td>\n",
       "    </tr>\n",
       "    <tr>\n",
       "      <th>1</th>\n",
       "      <td>44</td>\n",
       "      <td>F</td>\n",
       "      <td>Ship</td>\n",
       "      <td>3</td>\n",
       "      <td>1</td>\n",
       "      <td>174</td>\n",
       "      <td>2</td>\n",
       "      <td>low</td>\n",
       "      <td>M</td>\n",
       "      <td>44</td>\n",
       "      <td>1556</td>\n",
       "    </tr>\n",
       "  </tbody>\n",
       "</table>\n",
       "</div>"
      ],
      "text/plain": [
       "     ID Warehouse_block Mode_of_Shipment Customer_care_calls  Customer_rating   \n",
       "0  6045               A           Flight                   4                3  \\\n",
       "1    44               F             Ship                   3                1   \n",
       "\n",
       "   Cost_of_the_Product  Prior_purchases Product_importance Gender   \n",
       "0                  266                5               high      F  \\\n",
       "1                  174                2                low      M   \n",
       "\n",
       "   Discount_offered  Weight_in_gms  \n",
       "0                 5           1590  \n",
       "1                44           1556  "
      ]
     },
     "execution_count": 4,
     "metadata": {},
     "output_type": "execute_result"
    }
   ],
   "source": [
    "x_train.head(2)"
   ]
  },
  {
   "cell_type": "code",
   "execution_count": 5,
   "id": "e2115b86",
   "metadata": {},
   "outputs": [
    {
     "name": "stdout",
     "output_type": "stream",
     "text": [
      "<class 'pandas.core.frame.DataFrame'>\n",
      "RangeIndex: 6598 entries, 0 to 6597\n",
      "Data columns (total 11 columns):\n",
      " #   Column               Non-Null Count  Dtype \n",
      "---  ------               --------------  ----- \n",
      " 0   ID                   6598 non-null   int64 \n",
      " 1   Warehouse_block      6598 non-null   object\n",
      " 2   Mode_of_Shipment     6598 non-null   object\n",
      " 3   Customer_care_calls  6598 non-null   object\n",
      " 4   Customer_rating      6598 non-null   int64 \n",
      " 5   Cost_of_the_Product  6598 non-null   int64 \n",
      " 6   Prior_purchases      6598 non-null   int64 \n",
      " 7   Product_importance   6598 non-null   object\n",
      " 8   Gender               6598 non-null   object\n",
      " 9   Discount_offered     6598 non-null   int64 \n",
      " 10  Weight_in_gms        6598 non-null   int64 \n",
      "dtypes: int64(6), object(5)\n",
      "memory usage: 567.1+ KB\n"
     ]
    }
   ],
   "source": [
    "x_train.info()"
   ]
  },
  {
   "cell_type": "code",
   "execution_count": 6,
   "id": "d2724f83",
   "metadata": {
    "scrolled": true
   },
   "outputs": [
    {
     "data": {
      "text/html": [
       "<div>\n",
       "<style scoped>\n",
       "    .dataframe tbody tr th:only-of-type {\n",
       "        vertical-align: middle;\n",
       "    }\n",
       "\n",
       "    .dataframe tbody tr th {\n",
       "        vertical-align: top;\n",
       "    }\n",
       "\n",
       "    .dataframe thead th {\n",
       "        text-align: right;\n",
       "    }\n",
       "</style>\n",
       "<table border=\"1\" class=\"dataframe\">\n",
       "  <thead>\n",
       "    <tr style=\"text-align: right;\">\n",
       "      <th></th>\n",
       "      <th>ID</th>\n",
       "      <th>Customer_rating</th>\n",
       "      <th>Cost_of_the_Product</th>\n",
       "      <th>Prior_purchases</th>\n",
       "      <th>Discount_offered</th>\n",
       "      <th>Weight_in_gms</th>\n",
       "    </tr>\n",
       "  </thead>\n",
       "  <tbody>\n",
       "    <tr>\n",
       "      <th>count</th>\n",
       "      <td>6598.000000</td>\n",
       "      <td>6598.000000</td>\n",
       "      <td>6598.000000</td>\n",
       "      <td>6598.000000</td>\n",
       "      <td>6598.000000</td>\n",
       "      <td>6598.000000</td>\n",
       "    </tr>\n",
       "    <tr>\n",
       "      <th>mean</th>\n",
       "      <td>5476.977266</td>\n",
       "      <td>2.991361</td>\n",
       "      <td>210.393149</td>\n",
       "      <td>3.577751</td>\n",
       "      <td>13.353592</td>\n",
       "      <td>3604.191119</td>\n",
       "    </tr>\n",
       "    <tr>\n",
       "      <th>std</th>\n",
       "      <td>3172.946154</td>\n",
       "      <td>1.409624</td>\n",
       "      <td>48.258089</td>\n",
       "      <td>1.511394</td>\n",
       "      <td>16.187267</td>\n",
       "      <td>1635.697627</td>\n",
       "    </tr>\n",
       "    <tr>\n",
       "      <th>min</th>\n",
       "      <td>1.000000</td>\n",
       "      <td>1.000000</td>\n",
       "      <td>96.000000</td>\n",
       "      <td>2.000000</td>\n",
       "      <td>1.000000</td>\n",
       "      <td>1001.000000</td>\n",
       "    </tr>\n",
       "    <tr>\n",
       "      <th>25%</th>\n",
       "      <td>2731.250000</td>\n",
       "      <td>2.000000</td>\n",
       "      <td>170.000000</td>\n",
       "      <td>3.000000</td>\n",
       "      <td>4.000000</td>\n",
       "      <td>1834.250000</td>\n",
       "    </tr>\n",
       "    <tr>\n",
       "      <th>50%</th>\n",
       "      <td>5476.000000</td>\n",
       "      <td>3.000000</td>\n",
       "      <td>214.000000</td>\n",
       "      <td>3.000000</td>\n",
       "      <td>7.000000</td>\n",
       "      <td>4119.500000</td>\n",
       "    </tr>\n",
       "    <tr>\n",
       "      <th>75%</th>\n",
       "      <td>8187.750000</td>\n",
       "      <td>4.000000</td>\n",
       "      <td>251.000000</td>\n",
       "      <td>4.000000</td>\n",
       "      <td>10.000000</td>\n",
       "      <td>5027.500000</td>\n",
       "    </tr>\n",
       "    <tr>\n",
       "      <th>max</th>\n",
       "      <td>10998.000000</td>\n",
       "      <td>5.000000</td>\n",
       "      <td>310.000000</td>\n",
       "      <td>10.000000</td>\n",
       "      <td>65.000000</td>\n",
       "      <td>7684.000000</td>\n",
       "    </tr>\n",
       "  </tbody>\n",
       "</table>\n",
       "</div>"
      ],
      "text/plain": [
       "                 ID  Customer_rating  Cost_of_the_Product  Prior_purchases   \n",
       "count   6598.000000      6598.000000          6598.000000      6598.000000  \\\n",
       "mean    5476.977266         2.991361           210.393149         3.577751   \n",
       "std     3172.946154         1.409624            48.258089         1.511394   \n",
       "min        1.000000         1.000000            96.000000         2.000000   \n",
       "25%     2731.250000         2.000000           170.000000         3.000000   \n",
       "50%     5476.000000         3.000000           214.000000         3.000000   \n",
       "75%     8187.750000         4.000000           251.000000         4.000000   \n",
       "max    10998.000000         5.000000           310.000000        10.000000   \n",
       "\n",
       "       Discount_offered  Weight_in_gms  \n",
       "count       6598.000000    6598.000000  \n",
       "mean          13.353592    3604.191119  \n",
       "std           16.187267    1635.697627  \n",
       "min            1.000000    1001.000000  \n",
       "25%            4.000000    1834.250000  \n",
       "50%            7.000000    4119.500000  \n",
       "75%           10.000000    5027.500000  \n",
       "max           65.000000    7684.000000  "
      ]
     },
     "execution_count": 6,
     "metadata": {},
     "output_type": "execute_result"
    }
   ],
   "source": [
    "x_train.describe()"
   ]
  },
  {
   "cell_type": "code",
   "execution_count": 16,
   "id": "383da397",
   "metadata": {},
   "outputs": [
    {
     "data": {
      "text/plain": [
       "ID                      int64\n",
       "Warehouse_block        object\n",
       "Mode_of_Shipment       object\n",
       "Customer_care_calls    object\n",
       "Customer_rating         int64\n",
       "Cost_of_the_Product     int64\n",
       "Prior_purchases         int64\n",
       "Product_importance     object\n",
       "Gender                 object\n",
       "Discount_offered        int64\n",
       "Weight_in_gms           int64\n",
       "dtype: object"
      ]
     },
     "execution_count": 16,
     "metadata": {},
     "output_type": "execute_result"
    }
   ],
   "source": [
    "x_train.dtypes"
   ]
  },
  {
   "cell_type": "code",
   "execution_count": 8,
   "id": "a579824c",
   "metadata": {},
   "outputs": [
    {
     "data": {
      "text/plain": [
       "ID                     6598\n",
       "Warehouse_block           5\n",
       "Mode_of_Shipment          3\n",
       "Customer_care_calls       6\n",
       "Customer_rating           5\n",
       "Cost_of_the_Product     215\n",
       "Prior_purchases           8\n",
       "Product_importance        3\n",
       "Gender                    2\n",
       "Discount_offered         65\n",
       "Weight_in_gms          3365\n",
       "dtype: int64"
      ]
     },
     "execution_count": 8,
     "metadata": {},
     "output_type": "execute_result"
    }
   ],
   "source": [
    "x_train.nunique()"
   ]
  },
  {
   "cell_type": "code",
   "execution_count": 22,
   "id": "43ce5b9d",
   "metadata": {
    "scrolled": true
   },
   "outputs": [
    {
     "data": {
      "text/html": [
       "<div>\n",
       "<style scoped>\n",
       "    .dataframe tbody tr th:only-of-type {\n",
       "        vertical-align: middle;\n",
       "    }\n",
       "\n",
       "    .dataframe tbody tr th {\n",
       "        vertical-align: top;\n",
       "    }\n",
       "\n",
       "    .dataframe thead th {\n",
       "        text-align: right;\n",
       "    }\n",
       "</style>\n",
       "<table border=\"1\" class=\"dataframe\">\n",
       "  <thead>\n",
       "    <tr style=\"text-align: right;\">\n",
       "      <th></th>\n",
       "      <th>Warehouse_block</th>\n",
       "      <th>Mode_of_Shipment</th>\n",
       "      <th>Customer_care_calls</th>\n",
       "      <th>Product_importance</th>\n",
       "      <th>Gender</th>\n",
       "    </tr>\n",
       "  </thead>\n",
       "  <tbody>\n",
       "    <tr>\n",
       "      <th>0</th>\n",
       "      <td>A</td>\n",
       "      <td>Flight</td>\n",
       "      <td>4</td>\n",
       "      <td>high</td>\n",
       "      <td>F</td>\n",
       "    </tr>\n",
       "    <tr>\n",
       "      <th>1</th>\n",
       "      <td>F</td>\n",
       "      <td>Ship</td>\n",
       "      <td>3</td>\n",
       "      <td>low</td>\n",
       "      <td>M</td>\n",
       "    </tr>\n",
       "    <tr>\n",
       "      <th>2</th>\n",
       "      <td>F</td>\n",
       "      <td>Road</td>\n",
       "      <td>4</td>\n",
       "      <td>high</td>\n",
       "      <td>M</td>\n",
       "    </tr>\n",
       "    <tr>\n",
       "      <th>3</th>\n",
       "      <td>F</td>\n",
       "      <td>Ship</td>\n",
       "      <td>4</td>\n",
       "      <td>medium</td>\n",
       "      <td>F</td>\n",
       "    </tr>\n",
       "    <tr>\n",
       "      <th>4</th>\n",
       "      <td>A</td>\n",
       "      <td>Flight</td>\n",
       "      <td>5</td>\n",
       "      <td>low</td>\n",
       "      <td>M</td>\n",
       "    </tr>\n",
       "    <tr>\n",
       "      <th>5</th>\n",
       "      <td>C</td>\n",
       "      <td>Ship</td>\n",
       "      <td>3</td>\n",
       "      <td>high</td>\n",
       "      <td>M</td>\n",
       "    </tr>\n",
       "    <tr>\n",
       "      <th>6</th>\n",
       "      <td>F</td>\n",
       "      <td>Ship</td>\n",
       "      <td>3</td>\n",
       "      <td>low</td>\n",
       "      <td>F</td>\n",
       "    </tr>\n",
       "    <tr>\n",
       "      <th>7</th>\n",
       "      <td>F</td>\n",
       "      <td>Ship</td>\n",
       "      <td>3</td>\n",
       "      <td>low</td>\n",
       "      <td>F</td>\n",
       "    </tr>\n",
       "    <tr>\n",
       "      <th>8</th>\n",
       "      <td>C</td>\n",
       "      <td>Ship</td>\n",
       "      <td>5</td>\n",
       "      <td>medium</td>\n",
       "      <td>F</td>\n",
       "    </tr>\n",
       "    <tr>\n",
       "      <th>9</th>\n",
       "      <td>A</td>\n",
       "      <td>Road</td>\n",
       "      <td>5</td>\n",
       "      <td>low</td>\n",
       "      <td>F</td>\n",
       "    </tr>\n",
       "  </tbody>\n",
       "</table>\n",
       "</div>"
      ],
      "text/plain": [
       "  Warehouse_block Mode_of_Shipment Customer_care_calls Product_importance   \n",
       "0               A           Flight                   4               high  \\\n",
       "1               F             Ship                   3                low   \n",
       "2               F             Road                   4               high   \n",
       "3               F             Ship                   4             medium   \n",
       "4               A           Flight                   5                low   \n",
       "5               C             Ship                   3               high   \n",
       "6               F             Ship                   3                low   \n",
       "7               F             Ship                   3                low   \n",
       "8               C             Ship                   5             medium   \n",
       "9               A             Road                   5                low   \n",
       "\n",
       "  Gender  \n",
       "0      F  \n",
       "1      M  \n",
       "2      M  \n",
       "3      F  \n",
       "4      M  \n",
       "5      M  \n",
       "6      F  \n",
       "7      F  \n",
       "8      F  \n",
       "9      F  "
      ]
     },
     "execution_count": 22,
     "metadata": {},
     "output_type": "execute_result"
    }
   ],
   "source": [
    "x_train.select_dtypes('object').head(10)"
   ]
  },
  {
   "cell_type": "code",
   "execution_count": 27,
   "id": "61e62607",
   "metadata": {},
   "outputs": [
    {
     "data": {
      "text/plain": [
       "Warehouse_block        5\n",
       "Mode_of_Shipment       3\n",
       "Customer_care_calls    6\n",
       "Product_importance     3\n",
       "Gender                 2\n",
       "dtype: int64"
      ]
     },
     "execution_count": 27,
     "metadata": {},
     "output_type": "execute_result"
    }
   ],
   "source": [
    "x_train.select_dtypes('object').nunique()"
   ]
  },
  {
   "cell_type": "code",
   "execution_count": 23,
   "id": "bfd5d092",
   "metadata": {
    "scrolled": true
   },
   "outputs": [
    {
     "data": {
      "text/html": [
       "<div>\n",
       "<style scoped>\n",
       "    .dataframe tbody tr th:only-of-type {\n",
       "        vertical-align: middle;\n",
       "    }\n",
       "\n",
       "    .dataframe tbody tr th {\n",
       "        vertical-align: top;\n",
       "    }\n",
       "\n",
       "    .dataframe thead th {\n",
       "        text-align: right;\n",
       "    }\n",
       "</style>\n",
       "<table border=\"1\" class=\"dataframe\">\n",
       "  <thead>\n",
       "    <tr style=\"text-align: right;\">\n",
       "      <th></th>\n",
       "      <th>ID</th>\n",
       "      <th>Customer_rating</th>\n",
       "      <th>Cost_of_the_Product</th>\n",
       "      <th>Prior_purchases</th>\n",
       "      <th>Discount_offered</th>\n",
       "      <th>Weight_in_gms</th>\n",
       "    </tr>\n",
       "  </thead>\n",
       "  <tbody>\n",
       "    <tr>\n",
       "      <th>0</th>\n",
       "      <td>6045</td>\n",
       "      <td>3</td>\n",
       "      <td>266</td>\n",
       "      <td>5</td>\n",
       "      <td>5</td>\n",
       "      <td>1590</td>\n",
       "    </tr>\n",
       "    <tr>\n",
       "      <th>1</th>\n",
       "      <td>44</td>\n",
       "      <td>1</td>\n",
       "      <td>174</td>\n",
       "      <td>2</td>\n",
       "      <td>44</td>\n",
       "      <td>1556</td>\n",
       "    </tr>\n",
       "    <tr>\n",
       "      <th>2</th>\n",
       "      <td>7940</td>\n",
       "      <td>1</td>\n",
       "      <td>154</td>\n",
       "      <td>10</td>\n",
       "      <td>10</td>\n",
       "      <td>5674</td>\n",
       "    </tr>\n",
       "    <tr>\n",
       "      <th>3</th>\n",
       "      <td>1596</td>\n",
       "      <td>3</td>\n",
       "      <td>158</td>\n",
       "      <td>3</td>\n",
       "      <td>27</td>\n",
       "      <td>1207</td>\n",
       "    </tr>\n",
       "    <tr>\n",
       "      <th>4</th>\n",
       "      <td>4395</td>\n",
       "      <td>3</td>\n",
       "      <td>175</td>\n",
       "      <td>3</td>\n",
       "      <td>7</td>\n",
       "      <td>4833</td>\n",
       "    </tr>\n",
       "    <tr>\n",
       "      <th>5</th>\n",
       "      <td>1991</td>\n",
       "      <td>3</td>\n",
       "      <td>139</td>\n",
       "      <td>4</td>\n",
       "      <td>17</td>\n",
       "      <td>1137</td>\n",
       "    </tr>\n",
       "    <tr>\n",
       "      <th>6</th>\n",
       "      <td>7896</td>\n",
       "      <td>1</td>\n",
       "      <td>220</td>\n",
       "      <td>2</td>\n",
       "      <td>7</td>\n",
       "      <td>5653</td>\n",
       "    </tr>\n",
       "    <tr>\n",
       "      <th>7</th>\n",
       "      <td>4338</td>\n",
       "      <td>2</td>\n",
       "      <td>160</td>\n",
       "      <td>3</td>\n",
       "      <td>4</td>\n",
       "      <td>4683</td>\n",
       "    </tr>\n",
       "    <tr>\n",
       "      <th>8</th>\n",
       "      <td>3215</td>\n",
       "      <td>2</td>\n",
       "      <td>145</td>\n",
       "      <td>4</td>\n",
       "      <td>9</td>\n",
       "      <td>4028</td>\n",
       "    </tr>\n",
       "    <tr>\n",
       "      <th>9</th>\n",
       "      <td>10251</td>\n",
       "      <td>2</td>\n",
       "      <td>155</td>\n",
       "      <td>3</td>\n",
       "      <td>10</td>\n",
       "      <td>4485</td>\n",
       "    </tr>\n",
       "  </tbody>\n",
       "</table>\n",
       "</div>"
      ],
      "text/plain": [
       "      ID  Customer_rating  Cost_of_the_Product  Prior_purchases   \n",
       "0   6045                3                  266                5  \\\n",
       "1     44                1                  174                2   \n",
       "2   7940                1                  154               10   \n",
       "3   1596                3                  158                3   \n",
       "4   4395                3                  175                3   \n",
       "5   1991                3                  139                4   \n",
       "6   7896                1                  220                2   \n",
       "7   4338                2                  160                3   \n",
       "8   3215                2                  145                4   \n",
       "9  10251                2                  155                3   \n",
       "\n",
       "   Discount_offered  Weight_in_gms  \n",
       "0                 5           1590  \n",
       "1                44           1556  \n",
       "2                10           5674  \n",
       "3                27           1207  \n",
       "4                 7           4833  \n",
       "5                17           1137  \n",
       "6                 7           5653  \n",
       "7                 4           4683  \n",
       "8                 9           4028  \n",
       "9                10           4485  "
      ]
     },
     "execution_count": 23,
     "metadata": {},
     "output_type": "execute_result"
    }
   ],
   "source": [
    "x_train.select_dtypes(exclude = 'object').head(10)"
   ]
  },
  {
   "cell_type": "code",
   "execution_count": 26,
   "id": "478b55b3",
   "metadata": {},
   "outputs": [
    {
     "data": {
      "text/html": [
       "<div>\n",
       "<style scoped>\n",
       "    .dataframe tbody tr th:only-of-type {\n",
       "        vertical-align: middle;\n",
       "    }\n",
       "\n",
       "    .dataframe tbody tr th {\n",
       "        vertical-align: top;\n",
       "    }\n",
       "\n",
       "    .dataframe thead th {\n",
       "        text-align: right;\n",
       "    }\n",
       "</style>\n",
       "<table border=\"1\" class=\"dataframe\">\n",
       "  <thead>\n",
       "    <tr style=\"text-align: right;\">\n",
       "      <th></th>\n",
       "      <th>ID</th>\n",
       "      <th>Customer_rating</th>\n",
       "      <th>Cost_of_the_Product</th>\n",
       "      <th>Prior_purchases</th>\n",
       "      <th>Discount_offered</th>\n",
       "      <th>Weight_in_gms</th>\n",
       "    </tr>\n",
       "  </thead>\n",
       "  <tbody>\n",
       "    <tr>\n",
       "      <th>0</th>\n",
       "      <td>6045</td>\n",
       "      <td>3</td>\n",
       "      <td>266</td>\n",
       "      <td>5</td>\n",
       "      <td>5</td>\n",
       "      <td>1590</td>\n",
       "    </tr>\n",
       "    <tr>\n",
       "      <th>1</th>\n",
       "      <td>44</td>\n",
       "      <td>1</td>\n",
       "      <td>174</td>\n",
       "      <td>2</td>\n",
       "      <td>44</td>\n",
       "      <td>1556</td>\n",
       "    </tr>\n",
       "    <tr>\n",
       "      <th>2</th>\n",
       "      <td>7940</td>\n",
       "      <td>1</td>\n",
       "      <td>154</td>\n",
       "      <td>10</td>\n",
       "      <td>10</td>\n",
       "      <td>5674</td>\n",
       "    </tr>\n",
       "    <tr>\n",
       "      <th>3</th>\n",
       "      <td>1596</td>\n",
       "      <td>3</td>\n",
       "      <td>158</td>\n",
       "      <td>3</td>\n",
       "      <td>27</td>\n",
       "      <td>1207</td>\n",
       "    </tr>\n",
       "    <tr>\n",
       "      <th>4</th>\n",
       "      <td>4395</td>\n",
       "      <td>3</td>\n",
       "      <td>175</td>\n",
       "      <td>3</td>\n",
       "      <td>7</td>\n",
       "      <td>4833</td>\n",
       "    </tr>\n",
       "    <tr>\n",
       "      <th>5</th>\n",
       "      <td>1991</td>\n",
       "      <td>3</td>\n",
       "      <td>139</td>\n",
       "      <td>4</td>\n",
       "      <td>17</td>\n",
       "      <td>1137</td>\n",
       "    </tr>\n",
       "    <tr>\n",
       "      <th>6</th>\n",
       "      <td>7896</td>\n",
       "      <td>1</td>\n",
       "      <td>220</td>\n",
       "      <td>2</td>\n",
       "      <td>7</td>\n",
       "      <td>5653</td>\n",
       "    </tr>\n",
       "    <tr>\n",
       "      <th>7</th>\n",
       "      <td>4338</td>\n",
       "      <td>2</td>\n",
       "      <td>160</td>\n",
       "      <td>3</td>\n",
       "      <td>4</td>\n",
       "      <td>4683</td>\n",
       "    </tr>\n",
       "    <tr>\n",
       "      <th>8</th>\n",
       "      <td>3215</td>\n",
       "      <td>2</td>\n",
       "      <td>145</td>\n",
       "      <td>4</td>\n",
       "      <td>9</td>\n",
       "      <td>4028</td>\n",
       "    </tr>\n",
       "    <tr>\n",
       "      <th>9</th>\n",
       "      <td>10251</td>\n",
       "      <td>2</td>\n",
       "      <td>155</td>\n",
       "      <td>3</td>\n",
       "      <td>10</td>\n",
       "      <td>4485</td>\n",
       "    </tr>\n",
       "  </tbody>\n",
       "</table>\n",
       "</div>"
      ],
      "text/plain": [
       "      ID  Customer_rating  Cost_of_the_Product  Prior_purchases   \n",
       "0   6045                3                  266                5  \\\n",
       "1     44                1                  174                2   \n",
       "2   7940                1                  154               10   \n",
       "3   1596                3                  158                3   \n",
       "4   4395                3                  175                3   \n",
       "5   1991                3                  139                4   \n",
       "6   7896                1                  220                2   \n",
       "7   4338                2                  160                3   \n",
       "8   3215                2                  145                4   \n",
       "9  10251                2                  155                3   \n",
       "\n",
       "   Discount_offered  Weight_in_gms  \n",
       "0                 5           1590  \n",
       "1                44           1556  \n",
       "2                10           5674  \n",
       "3                27           1207  \n",
       "4                 7           4833  \n",
       "5                17           1137  \n",
       "6                 7           5653  \n",
       "7                 4           4683  \n",
       "8                 9           4028  \n",
       "9                10           4485  "
      ]
     },
     "execution_count": 26,
     "metadata": {},
     "output_type": "execute_result"
    }
   ],
   "source": [
    "x_train.select_dtypes(np.number).head(10)"
   ]
  },
  {
   "cell_type": "code",
   "execution_count": 24,
   "id": "e4467a70",
   "metadata": {},
   "outputs": [
    {
     "data": {
      "text/plain": [
       "ID                     0\n",
       "Warehouse_block        0\n",
       "Mode_of_Shipment       0\n",
       "Customer_care_calls    0\n",
       "Customer_rating        0\n",
       "Cost_of_the_Product    0\n",
       "Prior_purchases        0\n",
       "Product_importance     0\n",
       "Gender                 0\n",
       "Discount_offered       0\n",
       "Weight_in_gms          0\n",
       "dtype: int64"
      ]
     },
     "execution_count": 24,
     "metadata": {},
     "output_type": "execute_result"
    }
   ],
   "source": [
    "x_train.isnull().sum()"
   ]
  },
  {
   "cell_type": "code",
   "execution_count": 29,
   "id": "3f0dda25",
   "metadata": {
    "scrolled": true
   },
   "outputs": [
    {
     "data": {
      "text/plain": [
       "0    6045\n",
       "1      44\n",
       "2    7940\n",
       "Name: ID, dtype: int64"
      ]
     },
     "execution_count": 29,
     "metadata": {},
     "output_type": "execute_result"
    }
   ],
   "source": [
    "x_train_id = x_train.pop('ID')\n",
    "x_train_id.head(3)"
   ]
  },
  {
   "cell_type": "code",
   "execution_count": 39,
   "id": "1633e97b",
   "metadata": {
    "scrolled": true
   },
   "outputs": [
    {
     "name": "stdout",
     "output_type": "stream",
     "text": [
      "['calibration', 'cluster', 'covariance', 'cross_decomposition', 'datasets', 'decomposition', 'dummy', 'ensemble', 'exceptions', 'experimental', 'externals', 'feature_extraction', 'feature_selection', 'gaussian_process', 'inspection', 'isotonic', 'kernel_approximation', 'kernel_ridge', 'linear_model', 'manifold', 'metrics', 'mixture', 'model_selection', 'multiclass', 'multioutput', 'naive_bayes', 'neighbors', 'neural_network', 'pipeline', 'preprocessing', 'random_projection', 'semi_supervised', 'svm', 'tree', 'discriminant_analysis', 'impute', 'compose', 'clone', 'get_config', 'set_config', 'config_context', 'show_versions']\n"
     ]
    }
   ],
   "source": [
    "import sklearn\n",
    "print(sklearn.__all__)"
   ]
  },
  {
   "cell_type": "code",
   "execution_count": 38,
   "id": "5026cf0c",
   "metadata": {},
   "outputs": [
    {
     "name": "stdout",
     "output_type": "stream",
     "text": [
      "['BaseCrossValidator', 'BaseShuffleSplit', 'GridSearchCV', 'GroupKFold', 'GroupShuffleSplit', 'KFold', 'LearningCurveDisplay', 'LeaveOneGroupOut', 'LeaveOneOut', 'LeavePGroupsOut', 'LeavePOut', 'ParameterGrid', 'ParameterSampler', 'PredefinedSplit', 'RandomizedSearchCV', 'RepeatedKFold', 'RepeatedStratifiedKFold', 'ShuffleSplit', 'StratifiedGroupKFold', 'StratifiedKFold', 'StratifiedShuffleSplit', 'TimeSeriesSplit', '__all__', '__builtins__', '__cached__', '__doc__', '__file__', '__getattr__', '__loader__', '__name__', '__package__', '__path__', '__spec__', '_plot', '_search', '_split', '_validation', 'check_cv', 'cross_val_predict', 'cross_val_score', 'cross_validate', 'learning_curve', 'permutation_test_score', 'train_test_split', 'typing', 'validation_curve']\n"
     ]
    }
   ],
   "source": [
    "import sklearn.model_selection\n",
    "print(dir(sklearn.model_selection))"
   ]
  },
  {
   "cell_type": "code",
   "execution_count": 37,
   "id": "0ca6281e",
   "metadata": {
    "scrolled": true
   },
   "outputs": [
    {
     "name": "stdout",
     "output_type": "stream",
     "text": [
      "['ConfusionMatrixDisplay', 'DetCurveDisplay', 'DistanceMetric', 'PrecisionRecallDisplay', 'PredictionErrorDisplay', 'RocCurveDisplay', 'SCORERS', '__all__', '__builtins__', '__cached__', '__doc__', '__file__', '__loader__', '__name__', '__package__', '__path__', '__spec__', '_base', '_classification', '_dist_metrics', '_pairwise_distances_reduction', '_pairwise_fast', '_plot', '_ranking', '_regression', '_scorer', 'accuracy_score', 'adjusted_mutual_info_score', 'adjusted_rand_score', 'auc', 'average_precision_score', 'balanced_accuracy_score', 'brier_score_loss', 'calinski_harabasz_score', 'check_scoring', 'class_likelihood_ratios', 'classification_report', 'cluster', 'cohen_kappa_score', 'completeness_score', 'confusion_matrix', 'consensus_score', 'coverage_error', 'd2_absolute_error_score', 'd2_pinball_score', 'd2_tweedie_score', 'davies_bouldin_score', 'dcg_score', 'det_curve', 'euclidean_distances', 'explained_variance_score', 'f1_score', 'fbeta_score', 'fowlkes_mallows_score', 'get_scorer', 'get_scorer_names', 'hamming_loss', 'hinge_loss', 'homogeneity_completeness_v_measure', 'homogeneity_score', 'jaccard_score', 'label_ranking_average_precision_score', 'label_ranking_loss', 'log_loss', 'make_scorer', 'matthews_corrcoef', 'max_error', 'mean_absolute_error', 'mean_absolute_percentage_error', 'mean_gamma_deviance', 'mean_pinball_loss', 'mean_poisson_deviance', 'mean_squared_error', 'mean_squared_log_error', 'mean_tweedie_deviance', 'median_absolute_error', 'multilabel_confusion_matrix', 'mutual_info_score', 'nan_euclidean_distances', 'ndcg_score', 'normalized_mutual_info_score', 'pair_confusion_matrix', 'pairwise', 'pairwise_distances', 'pairwise_distances_argmin', 'pairwise_distances_argmin_min', 'pairwise_distances_chunked', 'pairwise_kernels', 'precision_recall_curve', 'precision_recall_fscore_support', 'precision_score', 'r2_score', 'rand_score', 'recall_score', 'roc_auc_score', 'roc_curve', 'silhouette_samples', 'silhouette_score', 'top_k_accuracy_score', 'v_measure_score', 'zero_one_loss']\n"
     ]
    }
   ],
   "source": [
    "import sklearn.metrics\n",
    "print(dir(sklearn.metrics))"
   ]
  },
  {
   "cell_type": "code",
   "execution_count": 41,
   "id": "4d8f7be0",
   "metadata": {
    "collapsed": true
   },
   "outputs": [
    {
     "name": "stdout",
     "output_type": "stream",
     "text": [
      "Help on function train_test_split in module sklearn.model_selection._split:\n",
      "\n",
      "train_test_split(*arrays, test_size=None, train_size=None, random_state=None, shuffle=True, stratify=None)\n",
      "    Split arrays or matrices into random train and test subsets.\n",
      "    \n",
      "    Quick utility that wraps input validation,\n",
      "    ``next(ShuffleSplit().split(X, y))``, and application to input data\n",
      "    into a single call for splitting (and optionally subsampling) data into a\n",
      "    one-liner.\n",
      "    \n",
      "    Read more in the :ref:`User Guide <cross_validation>`.\n",
      "    \n",
      "    Parameters\n",
      "    ----------\n",
      "    *arrays : sequence of indexables with same length / shape[0]\n",
      "        Allowed inputs are lists, numpy arrays, scipy-sparse\n",
      "        matrices or pandas dataframes.\n",
      "    \n",
      "    test_size : float or int, default=None\n",
      "        If float, should be between 0.0 and 1.0 and represent the proportion\n",
      "        of the dataset to include in the test split. If int, represents the\n",
      "        absolute number of test samples. If None, the value is set to the\n",
      "        complement of the train size. If ``train_size`` is also None, it will\n",
      "        be set to 0.25.\n",
      "    \n",
      "    train_size : float or int, default=None\n",
      "        If float, should be between 0.0 and 1.0 and represent the\n",
      "        proportion of the dataset to include in the train split. If\n",
      "        int, represents the absolute number of train samples. If None,\n",
      "        the value is automatically set to the complement of the test size.\n",
      "    \n",
      "    random_state : int, RandomState instance or None, default=None\n",
      "        Controls the shuffling applied to the data before applying the split.\n",
      "        Pass an int for reproducible output across multiple function calls.\n",
      "        See :term:`Glossary <random_state>`.\n",
      "    \n",
      "    shuffle : bool, default=True\n",
      "        Whether or not to shuffle the data before splitting. If shuffle=False\n",
      "        then stratify must be None.\n",
      "    \n",
      "    stratify : array-like, default=None\n",
      "        If not None, data is split in a stratified fashion, using this as\n",
      "        the class labels.\n",
      "        Read more in the :ref:`User Guide <stratification>`.\n",
      "    \n",
      "    Returns\n",
      "    -------\n",
      "    splitting : list, length=2 * len(arrays)\n",
      "        List containing train-test split of inputs.\n",
      "    \n",
      "        .. versionadded:: 0.16\n",
      "            If the input is sparse, the output will be a\n",
      "            ``scipy.sparse.csr_matrix``. Else, output type is the same as the\n",
      "            input type.\n",
      "    \n",
      "    Examples\n",
      "    --------\n",
      "    >>> import numpy as np\n",
      "    >>> from sklearn.model_selection import train_test_split\n",
      "    >>> X, y = np.arange(10).reshape((5, 2)), range(5)\n",
      "    >>> X\n",
      "    array([[0, 1],\n",
      "           [2, 3],\n",
      "           [4, 5],\n",
      "           [6, 7],\n",
      "           [8, 9]])\n",
      "    >>> list(y)\n",
      "    [0, 1, 2, 3, 4]\n",
      "    \n",
      "    >>> X_train, X_test, y_train, y_test = train_test_split(\n",
      "    ...     X, y, test_size=0.33, random_state=42)\n",
      "    ...\n",
      "    >>> X_train\n",
      "    array([[4, 5],\n",
      "           [0, 1],\n",
      "           [6, 7]])\n",
      "    >>> y_train\n",
      "    [2, 0, 3]\n",
      "    >>> X_test\n",
      "    array([[2, 3],\n",
      "           [8, 9]])\n",
      "    >>> y_test\n",
      "    [1, 4]\n",
      "    \n",
      "    >>> train_test_split(y, shuffle=False)\n",
      "    [[0, 1, 2], [3, 4]]\n",
      "\n",
      "None\n"
     ]
    }
   ],
   "source": [
    "help(train_test_split)"
   ]
  },
  {
   "cell_type": "code",
   "execution_count": 44,
   "id": "75655258",
   "metadata": {},
   "outputs": [],
   "source": [
    "x_train_dummies = pd.get_dummies(x_train)\n",
    "x_test_dummies = pd.get_dummies(x_test)\n",
    "x_test_dummies = x_test_dummies[x_train_dummies.columns]\n",
    "y_train = y_train['Reached.on.Time_Y.N']"
   ]
  },
  {
   "cell_type": "code",
   "execution_count": 48,
   "id": "f9ee0396",
   "metadata": {},
   "outputs": [],
   "source": [
    "x_tr, x_val, y_tr, y_val = train_test_split(x_train_dummies, y_train, test_size = 0.3, random_state = 42)"
   ]
  },
  {
   "cell_type": "code",
   "execution_count": 49,
   "id": "9a749450",
   "metadata": {},
   "outputs": [
    {
     "data": {
      "text/html": [
       "<style>#sk-container-id-1 {color: black;background-color: white;}#sk-container-id-1 pre{padding: 0;}#sk-container-id-1 div.sk-toggleable {background-color: white;}#sk-container-id-1 label.sk-toggleable__label {cursor: pointer;display: block;width: 100%;margin-bottom: 0;padding: 0.3em;box-sizing: border-box;text-align: center;}#sk-container-id-1 label.sk-toggleable__label-arrow:before {content: \"▸\";float: left;margin-right: 0.25em;color: #696969;}#sk-container-id-1 label.sk-toggleable__label-arrow:hover:before {color: black;}#sk-container-id-1 div.sk-estimator:hover label.sk-toggleable__label-arrow:before {color: black;}#sk-container-id-1 div.sk-toggleable__content {max-height: 0;max-width: 0;overflow: hidden;text-align: left;background-color: #f0f8ff;}#sk-container-id-1 div.sk-toggleable__content pre {margin: 0.2em;color: black;border-radius: 0.25em;background-color: #f0f8ff;}#sk-container-id-1 input.sk-toggleable__control:checked~div.sk-toggleable__content {max-height: 200px;max-width: 100%;overflow: auto;}#sk-container-id-1 input.sk-toggleable__control:checked~label.sk-toggleable__label-arrow:before {content: \"▾\";}#sk-container-id-1 div.sk-estimator input.sk-toggleable__control:checked~label.sk-toggleable__label {background-color: #d4ebff;}#sk-container-id-1 div.sk-label input.sk-toggleable__control:checked~label.sk-toggleable__label {background-color: #d4ebff;}#sk-container-id-1 input.sk-hidden--visually {border: 0;clip: rect(1px 1px 1px 1px);clip: rect(1px, 1px, 1px, 1px);height: 1px;margin: -1px;overflow: hidden;padding: 0;position: absolute;width: 1px;}#sk-container-id-1 div.sk-estimator {font-family: monospace;background-color: #f0f8ff;border: 1px dotted black;border-radius: 0.25em;box-sizing: border-box;margin-bottom: 0.5em;}#sk-container-id-1 div.sk-estimator:hover {background-color: #d4ebff;}#sk-container-id-1 div.sk-parallel-item::after {content: \"\";width: 100%;border-bottom: 1px solid gray;flex-grow: 1;}#sk-container-id-1 div.sk-label:hover label.sk-toggleable__label {background-color: #d4ebff;}#sk-container-id-1 div.sk-serial::before {content: \"\";position: absolute;border-left: 1px solid gray;box-sizing: border-box;top: 0;bottom: 0;left: 50%;z-index: 0;}#sk-container-id-1 div.sk-serial {display: flex;flex-direction: column;align-items: center;background-color: white;padding-right: 0.2em;padding-left: 0.2em;position: relative;}#sk-container-id-1 div.sk-item {position: relative;z-index: 1;}#sk-container-id-1 div.sk-parallel {display: flex;align-items: stretch;justify-content: center;background-color: white;position: relative;}#sk-container-id-1 div.sk-item::before, #sk-container-id-1 div.sk-parallel-item::before {content: \"\";position: absolute;border-left: 1px solid gray;box-sizing: border-box;top: 0;bottom: 0;left: 50%;z-index: -1;}#sk-container-id-1 div.sk-parallel-item {display: flex;flex-direction: column;z-index: 1;position: relative;background-color: white;}#sk-container-id-1 div.sk-parallel-item:first-child::after {align-self: flex-end;width: 50%;}#sk-container-id-1 div.sk-parallel-item:last-child::after {align-self: flex-start;width: 50%;}#sk-container-id-1 div.sk-parallel-item:only-child::after {width: 0;}#sk-container-id-1 div.sk-dashed-wrapped {border: 1px dashed gray;margin: 0 0.4em 0.5em 0.4em;box-sizing: border-box;padding-bottom: 0.4em;background-color: white;}#sk-container-id-1 div.sk-label label {font-family: monospace;font-weight: bold;display: inline-block;line-height: 1.2em;}#sk-container-id-1 div.sk-label-container {text-align: center;}#sk-container-id-1 div.sk-container {/* jupyter's `normalize.less` sets `[hidden] { display: none; }` but bootstrap.min.css set `[hidden] { display: none !important; }` so we also need the `!important` here to be able to override the default hidden behavior on the sphinx rendered scikit-learn.org. See: https://github.com/scikit-learn/scikit-learn/issues/21755 */display: inline-block !important;position: relative;}#sk-container-id-1 div.sk-text-repr-fallback {display: none;}</style><div id=\"sk-container-id-1\" class=\"sk-top-container\"><div class=\"sk-text-repr-fallback\"><pre>RandomForestClassifier(random_state=42)</pre><b>In a Jupyter environment, please rerun this cell to show the HTML representation or trust the notebook. <br />On GitHub, the HTML representation is unable to render, please try loading this page with nbviewer.org.</b></div><div class=\"sk-container\" hidden><div class=\"sk-item\"><div class=\"sk-estimator sk-toggleable\"><input class=\"sk-toggleable__control sk-hidden--visually\" id=\"sk-estimator-id-1\" type=\"checkbox\" checked><label for=\"sk-estimator-id-1\" class=\"sk-toggleable__label sk-toggleable__label-arrow\">RandomForestClassifier</label><div class=\"sk-toggleable__content\"><pre>RandomForestClassifier(random_state=42)</pre></div></div></div></div></div>"
      ],
      "text/plain": [
       "RandomForestClassifier(random_state=42)"
      ]
     },
     "execution_count": 49,
     "metadata": {},
     "output_type": "execute_result"
    }
   ],
   "source": [
    "from sklearn.ensemble import RandomForestClassifier\n",
    "rf = RandomForestClassifier(random_state = 42)\n",
    "rf.fit(x_tr, y_tr)"
   ]
  },
  {
   "cell_type": "markdown",
   "id": "4c4496a5",
   "metadata": {},
   "source": [
    "## 모델 예측값 출력: predict\n",
    "\n",
    "(회귀) 구체적인 특정값 출력 (0.98733,...)\n",
    "\n",
    "(분류) 가장 확률이 높은 클래스를 출력 (0,1,2,...)\n",
    "\n",
    "분류 모델이 각 클래스에 대한 확률을 출력하는 것이 predict_proba   # predict probability 각 클래스의 확률을 예측하라 >> 회귀에서는 필요 없음\n",
    "\n",
    "\n",
    "prdict_proba[:,1]은 이진분류 문제일 때, 회귀문제를 분류모델을 통해 푸는 방식임\n",
    "\n",
    "다중분류 문제: 0,1,2 중 하나를 출력, predict_proba로 출력한 이후 일정값 이하를 필터링, np.argmax를 통해 각 row별 최대값의 index를 구한 후 해당값이 기준값 이상인지 확인"
   ]
  },
  {
   "cell_type": "markdown",
   "id": "0fa312b1",
   "metadata": {},
   "source": [
    "scikit-learn 분류기에서 불확실성을 추정할 수 있는 함수: decision_funcion, predict_proba\n",
    "\n",
    "이진분류:\n",
    "\n",
    "    predict_proba(n_samples, 2)\n",
    "    - 두 클래스의 확률합은 1. 둘 중 하나는 50% 이상의 확신을 가짐\n",
    "    - 첫번째 열은 0이 될 확률, 두번째 열은 1이될 확률\n",
    "\n",
    "\n",
    "다중분류:\n",
    "\n",
    "    - predict_proba와 decision_function의 결괏값 크기는 항상 (n_samples, n_classes)"
   ]
  },
  {
   "cell_type": "code",
   "execution_count": 61,
   "id": "033029c3",
   "metadata": {},
   "outputs": [],
   "source": [
    "from sklearn.metrics import accuracy_score , f1_score, recall_score, roc_auc_score, precision_score\n",
    "\n",
    "#model_score\n",
    "pred_train_label = rf.predict(x_tr)\n",
    "pred_train_proba = rf.predict_proba(x_tr)[:,1]\n",
    "\n",
    "pred_val_label = rf.predict(x_val)\n",
    "pred_val_proba = rf.predict_proba(x_val)[:,1]"
   ]
  },
  {
   "cell_type": "code",
   "execution_count": 50,
   "id": "f15936d5",
   "metadata": {
    "collapsed": true
   },
   "outputs": [
    {
     "data": {
      "text/plain": [
       "array([0, 1, 1, ..., 1, 0, 0], dtype=int64)"
      ]
     },
     "execution_count": 50,
     "metadata": {},
     "output_type": "execute_result"
    }
   ],
   "source": [
    "rf.predict(x_tr)"
   ]
  },
  {
   "cell_type": "code",
   "execution_count": 51,
   "id": "8ca560d1",
   "metadata": {
    "collapsed": true
   },
   "outputs": [
    {
     "data": {
      "text/plain": [
       "array([[0.88, 0.12],\n",
       "       [0.16, 0.84],\n",
       "       [0.23, 0.77],\n",
       "       ...,\n",
       "       [0.  , 1.  ],\n",
       "       [0.84, 0.16],\n",
       "       [0.78, 0.22]])"
      ]
     },
     "execution_count": 51,
     "metadata": {},
     "output_type": "execute_result"
    }
   ],
   "source": [
    "rf.predict_proba(x_tr)"
   ]
  },
  {
   "cell_type": "code",
   "execution_count": 53,
   "id": "6567ac5f",
   "metadata": {},
   "outputs": [
    {
     "data": {
      "text/plain": [
       "array([0.12, 0.84, 0.77, ..., 1.  , 0.16, 0.22])"
      ]
     },
     "execution_count": 53,
     "metadata": {},
     "output_type": "execute_result"
    }
   ],
   "source": [
    "rf.predict_proba(x_tr)[:,1]"
   ]
  },
  {
   "cell_type": "markdown",
   "id": "9e98ddcc",
   "metadata": {},
   "source": [
    "## 모델성능 평가\n",
    "\n",
    "모델 평가 목적: 최적모델 찾기\n",
    "\n",
    "training과 validation값이 거의 일치해야 좋은 모델임\n",
    "\n",
    "    모델링 목적   목표변수 유형  관련모델                         평가방법\n",
    "    예측/회귀     연속형         선형회귀                         MSE, RMSE, MAE, MAPE  (오차, 작을수록 좋음)\n",
    "    분류          범주형         로지스틱회귀, SVM, 의사결정나무  정확도, 정밀도, 재현율, F1-score \n",
    "    \n",
    "    Confusion matrix            예측값 \n",
    "                                 Predicted Positive   Predicted Negative\n",
    "        실제값 Actual Positive   TP                   FN\n",
    "               Actual Negative   FP                   TN\n",
    "              \n",
    "- 정확도 Accuracy : 전체 데이터 중 정확히 예측한 데이터의 수\n",
    "\n",
    "- 정밀도 Precision : TP / (TP + FP)   양성판단된 것 중, 진짜 양성 비율   /   실제 negative데이터를 positive로 잘못 판단했을 때 더 문제가 되는 경우 중요\n",
    "\n",
    "- 재현율 Recall = 민감도 Sensitivity : TP / (TP + FN)    진짜 양성 중, 양성판단된 비율   /   실제 positive데이터를 negative로 잘못 판단했을 때 더 문제가 되는 경우 중요\n",
    "\n",
    "- F1 Score : 2 * Precision * Recall / (Precision + Recall) 재현율과 정밀도의 조화평균   /    정밀도와 재현율이 어느 한쪽으로 치우치지 않는 수치를 가질 때 F1 Score는 높은 값, 1에 가까울 수록 좋음\n",
    "\n",
    "- AUC Area Under the Curve\n",
    "\n",
    "- ROC Receiver Operating Characteristic : \n",
    " -- TPR(참양성률, 민감도)가 y축  TP / (TP + FN)\n",
    " -- FPR(거짓양성률, 1-특이도)가 x축   FP / (FP + TN)"
   ]
  },
  {
   "cell_type": "code",
   "execution_count": 55,
   "id": "4d05b064",
   "metadata": {},
   "outputs": [
    {
     "data": {
      "text/plain": [
       "(1.0, 0.6606060606060606)"
      ]
     },
     "execution_count": 55,
     "metadata": {},
     "output_type": "execute_result"
    }
   ],
   "source": [
    "# 정확도: 전체 데이터 중 정확히 예측한 데이터의 수\n",
    "accuracy_score(y_tr, pred_train_label), accuracy_score(y_val, pred_val_label)\n"
   ]
  },
  {
   "cell_type": "code",
   "execution_count": 56,
   "id": "4549651f",
   "metadata": {},
   "outputs": [
    {
     "data": {
      "text/plain": [
       "(1.0, 0.5996592844974447)"
      ]
     },
     "execution_count": 56,
     "metadata": {},
     "output_type": "execute_result"
    }
   ],
   "source": [
    "# 재현율: 참 중 양성판단 비율\n",
    "recall_score(y_tr, pred_train_label), recall_score(y_val, pred_val_label)"
   ]
  },
  {
   "cell_type": "code",
   "execution_count": 57,
   "id": "00310c41",
   "metadata": {},
   "outputs": [
    {
     "data": {
      "text/plain": [
       "(1.0, 0.7770419426048565)"
      ]
     },
     "execution_count": 57,
     "metadata": {},
     "output_type": "execute_result"
    }
   ],
   "source": [
    "# 정밀도: 양성판단 중 참 비율\n",
    "precision_score(y_tr, pred_train_label), precision_score(y_val, pred_val_label)"
   ]
  },
  {
   "cell_type": "code",
   "execution_count": 58,
   "id": "d083b05d",
   "metadata": {},
   "outputs": [
    {
     "data": {
      "text/plain": [
       "(1.0, 0.676923076923077)"
      ]
     },
     "execution_count": 58,
     "metadata": {},
     "output_type": "execute_result"
    }
   ],
   "source": [
    "# f1_score: 높을수록\n",
    "f1_score(y_tr, pred_train_label), f1_score(y_val, pred_val_label)\n"
   ]
  },
  {
   "cell_type": "code",
   "execution_count": 62,
   "id": "bc629c48",
   "metadata": {},
   "outputs": [
    {
     "data": {
      "text/plain": [
       "(1.0, 0.7315935424689615)"
      ]
     },
     "execution_count": 62,
     "metadata": {},
     "output_type": "execute_result"
    }
   ],
   "source": [
    "# ROC AUC score\n",
    "roc_auc_score(y_tr, pred_train_proba), roc_auc_score(y_val, pred_val_proba)"
   ]
  },
  {
   "cell_type": "code",
   "execution_count": 63,
   "id": "22a5a2b8",
   "metadata": {},
   "outputs": [],
   "source": [
    "# test데이터 마찬가지 위와 같은 방식\n",
    "pred_test_label = rf.predict(x_test_dummies)\n",
    "pred_test_proba = rf.predict_proba(x_test_dummies)[:,1]\n"
   ]
  },
  {
   "cell_type": "code",
   "execution_count": 65,
   "id": "d71f5572",
   "metadata": {},
   "outputs": [
    {
     "data": {
      "text/plain": [
       "(array([1, 0, 0, ..., 1, 0, 1], dtype=int64),\n",
       " array([0.54, 0.4 , 0.35, ..., 0.51, 0.38, 0.99]))"
      ]
     },
     "execution_count": 65,
     "metadata": {},
     "output_type": "execute_result"
    }
   ],
   "source": [
    "pred_test_label, pred_test_proba"
   ]
  },
  {
   "cell_type": "code",
   "execution_count": null,
   "id": "1d6497c1",
   "metadata": {},
   "outputs": [],
   "source": [
    "# accuracy, f1_score, recall, precision \n",
    "#pd.DataFrame({'ID': x_test.ID, 'Reached.on.Time_Y.N': predict_test_label}).to_csv('003000000.csv', index=False)\n",
    "\n",
    "# auc, 확률\n",
    "#pd.DataFrame({'ID': x_test.ID, 'Reached.on.Time_Y.N': predict_test_proba}).to_csv('003000000.csv', index=False)"
   ]
  },
  {
   "cell_type": "code",
   "execution_count": null,
   "id": "79deb491",
   "metadata": {},
   "outputs": [],
   "source": []
  },
  {
   "cell_type": "markdown",
   "id": "d6fbeb50",
   "metadata": {},
   "source": [
    "## Used Car Price dataset 중고차 가격 예측(회귀)"
   ]
  },
  {
   "cell_type": "code",
   "execution_count": 78,
   "id": "6ada8e43",
   "metadata": {},
   "outputs": [],
   "source": [
    "x_train = pd.read_csv('data_csv/X_train.csv')\n",
    "x_test = pd.read_csv('data_csv/X_test.csv')\n",
    "y_train = pd.read_csv('data_csv/y_train.csv')\n",
    "y_test = pd.read_csv('data_csv/y_test.csv')"
   ]
  },
  {
   "cell_type": "code",
   "execution_count": 79,
   "id": "58c4542d",
   "metadata": {},
   "outputs": [
    {
     "data": {
      "text/html": [
       "<div>\n",
       "<style scoped>\n",
       "    .dataframe tbody tr th:only-of-type {\n",
       "        vertical-align: middle;\n",
       "    }\n",
       "\n",
       "    .dataframe tbody tr th {\n",
       "        vertical-align: top;\n",
       "    }\n",
       "\n",
       "    .dataframe thead th {\n",
       "        text-align: right;\n",
       "    }\n",
       "</style>\n",
       "<table border=\"1\" class=\"dataframe\">\n",
       "  <thead>\n",
       "    <tr style=\"text-align: right;\">\n",
       "      <th></th>\n",
       "      <th>carID</th>\n",
       "      <th>brand</th>\n",
       "      <th>model</th>\n",
       "      <th>year</th>\n",
       "      <th>transmission</th>\n",
       "      <th>mileage</th>\n",
       "      <th>fuelType</th>\n",
       "      <th>tax</th>\n",
       "      <th>mpg</th>\n",
       "      <th>engineSize</th>\n",
       "    </tr>\n",
       "  </thead>\n",
       "  <tbody>\n",
       "    <tr>\n",
       "      <th>0</th>\n",
       "      <td>13207</td>\n",
       "      <td>hyundi</td>\n",
       "      <td>Santa Fe</td>\n",
       "      <td>2019</td>\n",
       "      <td>Semi-Auto</td>\n",
       "      <td>4223</td>\n",
       "      <td>Diesel</td>\n",
       "      <td>145.0</td>\n",
       "      <td>39.8</td>\n",
       "      <td>2.2</td>\n",
       "    </tr>\n",
       "    <tr>\n",
       "      <th>1</th>\n",
       "      <td>17314</td>\n",
       "      <td>vauxhall</td>\n",
       "      <td>GTC</td>\n",
       "      <td>2015</td>\n",
       "      <td>Manual</td>\n",
       "      <td>47870</td>\n",
       "      <td>Diesel</td>\n",
       "      <td>125.0</td>\n",
       "      <td>60.1</td>\n",
       "      <td>2.0</td>\n",
       "    </tr>\n",
       "    <tr>\n",
       "      <th>2</th>\n",
       "      <td>12342</td>\n",
       "      <td>audi</td>\n",
       "      <td>RS4</td>\n",
       "      <td>2019</td>\n",
       "      <td>Automatic</td>\n",
       "      <td>5151</td>\n",
       "      <td>Petrol</td>\n",
       "      <td>145.0</td>\n",
       "      <td>29.1</td>\n",
       "      <td>2.9</td>\n",
       "    </tr>\n",
       "  </tbody>\n",
       "</table>\n",
       "</div>"
      ],
      "text/plain": [
       "   carID     brand      model  year transmission  mileage fuelType    tax   \n",
       "0  13207    hyundi   Santa Fe  2019    Semi-Auto     4223   Diesel  145.0  \\\n",
       "1  17314  vauxhall        GTC  2015       Manual    47870   Diesel  125.0   \n",
       "2  12342      audi        RS4  2019    Automatic     5151   Petrol  145.0   \n",
       "\n",
       "    mpg  engineSize  \n",
       "0  39.8         2.2  \n",
       "1  60.1         2.0  \n",
       "2  29.1         2.9  "
      ]
     },
     "execution_count": 79,
     "metadata": {},
     "output_type": "execute_result"
    }
   ],
   "source": [
    "x_train.head(3)"
   ]
  },
  {
   "cell_type": "code",
   "execution_count": 81,
   "id": "d6ff0ebc",
   "metadata": {
    "scrolled": true
   },
   "outputs": [
    {
     "name": "stdout",
     "output_type": "stream",
     "text": [
      "<class 'pandas.core.frame.DataFrame'>\n",
      "RangeIndex: 4960 entries, 0 to 4959\n",
      "Data columns (total 10 columns):\n",
      " #   Column        Non-Null Count  Dtype  \n",
      "---  ------        --------------  -----  \n",
      " 0   carID         4960 non-null   int64  \n",
      " 1   brand         4960 non-null   object \n",
      " 2   model         4960 non-null   object \n",
      " 3   year          4960 non-null   int64  \n",
      " 4   transmission  4960 non-null   object \n",
      " 5   mileage       4960 non-null   int64  \n",
      " 6   fuelType      4960 non-null   object \n",
      " 7   tax           4960 non-null   float64\n",
      " 8   mpg           4960 non-null   float64\n",
      " 9   engineSize    4960 non-null   float64\n",
      "dtypes: float64(3), int64(3), object(4)\n",
      "memory usage: 387.6+ KB\n"
     ]
    }
   ],
   "source": [
    "x_train.info()"
   ]
  },
  {
   "cell_type": "code",
   "execution_count": 80,
   "id": "e1fd261e",
   "metadata": {},
   "outputs": [
    {
     "data": {
      "text/plain": [
       "carID             int64\n",
       "brand            object\n",
       "model            object\n",
       "year              int64\n",
       "transmission     object\n",
       "mileage           int64\n",
       "fuelType         object\n",
       "tax             float64\n",
       "mpg             float64\n",
       "engineSize      float64\n",
       "dtype: object"
      ]
     },
     "execution_count": 80,
     "metadata": {},
     "output_type": "execute_result"
    }
   ],
   "source": [
    "x_train.dtypes"
   ]
  },
  {
   "cell_type": "code",
   "execution_count": 82,
   "id": "7ef66c62",
   "metadata": {},
   "outputs": [
    {
     "data": {
      "text/plain": [
       "carID           0\n",
       "brand           0\n",
       "model           0\n",
       "year            0\n",
       "transmission    0\n",
       "mileage         0\n",
       "fuelType        0\n",
       "tax             0\n",
       "mpg             0\n",
       "engineSize      0\n",
       "dtype: int64"
      ]
     },
     "execution_count": 82,
     "metadata": {},
     "output_type": "execute_result"
    }
   ],
   "source": [
    "x_train.isnull().sum()"
   ]
  },
  {
   "cell_type": "code",
   "execution_count": 83,
   "id": "6e8b1dc8",
   "metadata": {},
   "outputs": [],
   "source": [
    "x_train_id = x_train.pop('carID')\n",
    "x_test_id = x_test.pop('carID')"
   ]
  },
  {
   "cell_type": "code",
   "execution_count": 84,
   "id": "4f938435",
   "metadata": {},
   "outputs": [
    {
     "data": {
      "text/plain": [
       "Index(['year', 'mileage', 'tax', 'mpg', 'engineSize'], dtype='object')"
      ]
     },
     "execution_count": 84,
     "metadata": {},
     "output_type": "execute_result"
    }
   ],
   "source": [
    "# 수치형 컬럼 표준화\n",
    "\n",
    "x_train.select_dtypes(exclude = 'object').columns"
   ]
  },
  {
   "cell_type": "code",
   "execution_count": 85,
   "id": "e3952203",
   "metadata": {},
   "outputs": [],
   "source": [
    "cols = ['year', 'mileage', 'tax', 'mpg', 'engineSize']\n",
    "\n",
    "from sklearn.preprocessing import StandardScaler\n",
    "ss = StandardScaler()\n",
    "x_train[cols] = ss.fit_transform(x_train[cols])\n",
    "x_test[cols] = ss.fit_transform(x_test[cols])\n"
   ]
  },
  {
   "cell_type": "code",
   "execution_count": 86,
   "id": "f482b853",
   "metadata": {},
   "outputs": [
    {
     "data": {
      "text/html": [
       "<div>\n",
       "<style scoped>\n",
       "    .dataframe tbody tr th:only-of-type {\n",
       "        vertical-align: middle;\n",
       "    }\n",
       "\n",
       "    .dataframe tbody tr th {\n",
       "        vertical-align: top;\n",
       "    }\n",
       "\n",
       "    .dataframe thead th {\n",
       "        text-align: right;\n",
       "    }\n",
       "</style>\n",
       "<table border=\"1\" class=\"dataframe\">\n",
       "  <thead>\n",
       "    <tr style=\"text-align: right;\">\n",
       "      <th></th>\n",
       "      <th>brand</th>\n",
       "      <th>model</th>\n",
       "      <th>year</th>\n",
       "      <th>transmission</th>\n",
       "      <th>mileage</th>\n",
       "      <th>fuelType</th>\n",
       "      <th>tax</th>\n",
       "      <th>mpg</th>\n",
       "      <th>engineSize</th>\n",
       "    </tr>\n",
       "  </thead>\n",
       "  <tbody>\n",
       "    <tr>\n",
       "      <th>0</th>\n",
       "      <td>hyundi</td>\n",
       "      <td>Santa Fe</td>\n",
       "      <td>0.784430</td>\n",
       "      <td>Semi-Auto</td>\n",
       "      <td>-0.848304</td>\n",
       "      <td>Diesel</td>\n",
       "      <td>-0.088993</td>\n",
       "      <td>-0.295744</td>\n",
       "      <td>0.095814</td>\n",
       "    </tr>\n",
       "    <tr>\n",
       "      <th>1</th>\n",
       "      <td>vauxhall</td>\n",
       "      <td>GTC</td>\n",
       "      <td>-0.602655</td>\n",
       "      <td>Manual</td>\n",
       "      <td>0.937516</td>\n",
       "      <td>Diesel</td>\n",
       "      <td>-0.331725</td>\n",
       "      <td>0.272200</td>\n",
       "      <td>-0.157579</td>\n",
       "    </tr>\n",
       "    <tr>\n",
       "      <th>2</th>\n",
       "      <td>audi</td>\n",
       "      <td>RS4</td>\n",
       "      <td>0.784430</td>\n",
       "      <td>Automatic</td>\n",
       "      <td>-0.810335</td>\n",
       "      <td>Petrol</td>\n",
       "      <td>-0.088993</td>\n",
       "      <td>-0.595105</td>\n",
       "      <td>0.982689</td>\n",
       "    </tr>\n",
       "  </tbody>\n",
       "</table>\n",
       "</div>"
      ],
      "text/plain": [
       "      brand      model      year transmission   mileage fuelType       tax   \n",
       "0    hyundi   Santa Fe  0.784430    Semi-Auto -0.848304   Diesel -0.088993  \\\n",
       "1  vauxhall        GTC -0.602655       Manual  0.937516   Diesel -0.331725   \n",
       "2      audi        RS4  0.784430    Automatic -0.810335   Petrol -0.088993   \n",
       "\n",
       "        mpg  engineSize  \n",
       "0 -0.295744    0.095814  \n",
       "1  0.272200   -0.157579  \n",
       "2 -0.595105    0.982689  "
      ]
     },
     "execution_count": 86,
     "metadata": {},
     "output_type": "execute_result"
    }
   ],
   "source": [
    "x_train.head(3)"
   ]
  },
  {
   "cell_type": "code",
   "execution_count": 87,
   "id": "d7f8f423",
   "metadata": {},
   "outputs": [
    {
     "data": {
      "text/plain": [
       "Index(['brand', 'model', 'transmission', 'fuelType'], dtype='object')"
      ]
     },
     "execution_count": 87,
     "metadata": {},
     "output_type": "execute_result"
    }
   ],
   "source": [
    "# 범주형 컬럼 라벨인코딩\n",
    "\n",
    "x_train.select_dtypes(include = 'object').columns"
   ]
  },
  {
   "cell_type": "code",
   "execution_count": 88,
   "id": "e3d9414b",
   "metadata": {},
   "outputs": [],
   "source": [
    "colnames = ['brand', 'model', 'transmission', 'fuelType']\n",
    "\n",
    "from sklearn.preprocessing import LabelEncoder\n",
    "le = LabelEncoder()\n",
    "for col in colnames:\n",
    "    x_train[col] = le.fit_transform(x_train[col])\n",
    "    x_test[col] = le.fit_transform(x_test[col])\n"
   ]
  },
  {
   "cell_type": "code",
   "execution_count": 89,
   "id": "e38a298c",
   "metadata": {},
   "outputs": [
    {
     "data": {
      "text/html": [
       "<div>\n",
       "<style scoped>\n",
       "    .dataframe tbody tr th:only-of-type {\n",
       "        vertical-align: middle;\n",
       "    }\n",
       "\n",
       "    .dataframe tbody tr th {\n",
       "        vertical-align: top;\n",
       "    }\n",
       "\n",
       "    .dataframe thead th {\n",
       "        text-align: right;\n",
       "    }\n",
       "</style>\n",
       "<table border=\"1\" class=\"dataframe\">\n",
       "  <thead>\n",
       "    <tr style=\"text-align: right;\">\n",
       "      <th></th>\n",
       "      <th>brand</th>\n",
       "      <th>model</th>\n",
       "      <th>year</th>\n",
       "      <th>transmission</th>\n",
       "      <th>mileage</th>\n",
       "      <th>fuelType</th>\n",
       "      <th>tax</th>\n",
       "      <th>mpg</th>\n",
       "      <th>engineSize</th>\n",
       "    </tr>\n",
       "  </thead>\n",
       "  <tbody>\n",
       "    <tr>\n",
       "      <th>0</th>\n",
       "      <td>3</td>\n",
       "      <td>69</td>\n",
       "      <td>0.784430</td>\n",
       "      <td>3</td>\n",
       "      <td>-0.848304</td>\n",
       "      <td>0</td>\n",
       "      <td>-0.088993</td>\n",
       "      <td>-0.295744</td>\n",
       "      <td>0.095814</td>\n",
       "    </tr>\n",
       "    <tr>\n",
       "      <th>1</th>\n",
       "      <td>7</td>\n",
       "      <td>30</td>\n",
       "      <td>-0.602655</td>\n",
       "      <td>1</td>\n",
       "      <td>0.937516</td>\n",
       "      <td>0</td>\n",
       "      <td>-0.331725</td>\n",
       "      <td>0.272200</td>\n",
       "      <td>-0.157579</td>\n",
       "    </tr>\n",
       "    <tr>\n",
       "      <th>2</th>\n",
       "      <td>0</td>\n",
       "      <td>58</td>\n",
       "      <td>0.784430</td>\n",
       "      <td>0</td>\n",
       "      <td>-0.810335</td>\n",
       "      <td>4</td>\n",
       "      <td>-0.088993</td>\n",
       "      <td>-0.595105</td>\n",
       "      <td>0.982689</td>\n",
       "    </tr>\n",
       "  </tbody>\n",
       "</table>\n",
       "</div>"
      ],
      "text/plain": [
       "   brand  model      year  transmission   mileage  fuelType       tax   \n",
       "0      3     69  0.784430             3 -0.848304         0 -0.088993  \\\n",
       "1      7     30 -0.602655             1  0.937516         0 -0.331725   \n",
       "2      0     58  0.784430             0 -0.810335         4 -0.088993   \n",
       "\n",
       "        mpg  engineSize  \n",
       "0 -0.295744    0.095814  \n",
       "1  0.272200   -0.157579  \n",
       "2 -0.595105    0.982689  "
      ]
     },
     "execution_count": 89,
     "metadata": {},
     "output_type": "execute_result"
    }
   ],
   "source": [
    "x_train.head(3)"
   ]
  },
  {
   "cell_type": "code",
   "execution_count": 98,
   "id": "c6866b1d",
   "metadata": {},
   "outputs": [
    {
     "data": {
      "text/plain": [
       "array([[<Axes: title={'center': 'price'}>]], dtype=object)"
      ]
     },
     "execution_count": 98,
     "metadata": {},
     "output_type": "execute_result"
    },
    {
     "data": {
      "image/png": "[encoded data removed]",
      "text/plain": [
       "<Figure size 640x480 with 1 Axes>"
      ]
     },
     "metadata": {},
     "output_type": "display_data"
    }
   ],
   "source": [
    "# y_train 확인\n",
    "y_train = y_train.drop('carID', axis = 1)\n",
    "y_train.hist()"
   ]
  },
  {
   "cell_type": "code",
   "execution_count": 106,
   "id": "ea4d75c5",
   "metadata": {},
   "outputs": [
    {
     "data": {
      "text/plain": [
       "array([[<Axes: title={'center': 'price'}>]], dtype=object)"
      ]
     },
     "execution_count": 106,
     "metadata": {},
     "output_type": "execute_result"
    },
    {
     "data": {
      "image/png": "[encoded data removed]",
      "text/plain": [
       "<Figure size 640x480 with 1 Axes>"
      ]
     },
     "metadata": {},
     "output_type": "display_data"
    }
   ],
   "source": [
    "# y_train 로그씌우기: 정규분포에 가깝게 만들기 위해\n",
    "y_train = np.log1p(y_train)\n",
    "y_train.hist()"
   ]
  },
  {
   "cell_type": "code",
   "execution_count": 107,
   "id": "4642ebab",
   "metadata": {},
   "outputs": [],
   "source": [
    "# train / test set 구분\n",
    "\n",
    "from sklearn.model_selection import train_test_split\n",
    "\n",
    "x_tr, x_val, y_tr, y_val = train_test_split(x_train, y_train, test_size = 0.2, random_state = 52)"
   ]
  },
  {
   "cell_type": "code",
   "execution_count": 109,
   "id": "795b40c2",
   "metadata": {},
   "outputs": [
    {
     "name": "stdout",
     "output_type": "stream",
     "text": [
      "XGB 결정계수: 0.9616768630413666\n",
      "XGB RMSE: 0.135\n"
     ]
    }
   ],
   "source": [
    "# 회귀모델 만들기\n",
    "\n",
    "from sklearn.metrics import mean_squared_error, r2_score\n",
    "\n",
    "# 1) XGBoost\n",
    "from xgboost import XGBRegressor\n",
    "xgb = XGBRegressor()\n",
    "xgb.fit(x_tr, y_tr)\n",
    "pred_xgb = xgb.predict(x_val)\n",
    "print('XGB 결정계수:', r2_score(pred_xgb, y_val))\n",
    "print('XGB RMSE:', round(np.sqrt(mean_squared_error(pred_xgb, y_val)),3))"
   ]
  },
  {
   "cell_type": "code",
   "execution_count": 110,
   "id": "33ccb3d3",
   "metadata": {},
   "outputs": [
    {
     "name": "stderr",
     "output_type": "stream",
     "text": [
      "C:\\Users\\tjoeun\\AppData\\Local\\Temp\\ipykernel_15024\\1427516105.py:4: DataConversionWarning: A column-vector y was passed when a 1d array was expected. Please change the shape of y to (n_samples,), for example using ravel().\n",
      "  rf.fit(x_tr, y_tr)\n"
     ]
    },
    {
     "name": "stdout",
     "output_type": "stream",
     "text": [
      "RF 결정계수: 0.9490338901651496\n",
      "RF RMSE: 0.152\n"
     ]
    }
   ],
   "source": [
    "# 2) Random Forest\n",
    "from sklearn.ensemble import RandomForestRegressor\n",
    "rf = RandomForestRegressor()\n",
    "rf.fit(x_tr, y_tr)\n",
    "pred_rf = rf.predict(x_val)\n",
    "print('RF 결정계수:', r2_score(pred_rf, y_val))\n",
    "print('RF RMSE:', round(np.sqrt(mean_squared_error(pred_rf, y_val)),3))"
   ]
  },
  {
   "cell_type": "code",
   "execution_count": 113,
   "id": "96d32246",
   "metadata": {},
   "outputs": [
    {
     "data": {
      "text/html": [
       "<div>\n",
       "<style scoped>\n",
       "    .dataframe tbody tr th:only-of-type {\n",
       "        vertical-align: middle;\n",
       "    }\n",
       "\n",
       "    .dataframe tbody tr th {\n",
       "        vertical-align: top;\n",
       "    }\n",
       "\n",
       "    .dataframe thead th {\n",
       "        text-align: right;\n",
       "    }\n",
       "</style>\n",
       "<table border=\"1\" class=\"dataframe\">\n",
       "  <thead>\n",
       "    <tr style=\"text-align: right;\">\n",
       "      <th></th>\n",
       "      <th>id</th>\n",
       "      <th>price</th>\n",
       "    </tr>\n",
       "  </thead>\n",
       "  <tbody>\n",
       "    <tr>\n",
       "      <th>0</th>\n",
       "      <td>12000</td>\n",
       "      <td>10.502266</td>\n",
       "    </tr>\n",
       "    <tr>\n",
       "      <th>1</th>\n",
       "      <td>12001</td>\n",
       "      <td>10.024216</td>\n",
       "    </tr>\n",
       "    <tr>\n",
       "      <th>2</th>\n",
       "      <td>12004</td>\n",
       "      <td>10.990602</td>\n",
       "    </tr>\n",
       "  </tbody>\n",
       "</table>\n",
       "</div>"
      ],
      "text/plain": [
       "      id      price\n",
       "0  12000  10.502266\n",
       "1  12001  10.024216\n",
       "2  12004  10.990602"
      ]
     },
     "execution_count": 113,
     "metadata": {},
     "output_type": "execute_result"
    }
   ],
   "source": [
    "# 최종모델: XGBOOST 채택\n",
    "pred_final = xgb.predict(x_test)\n",
    "\n",
    "y_test['price'] = np.log1p(y_test['price'])\n",
    "\n",
    "df = pd.DataFrame({'id': x_test_id, 'price': pred_final})\n",
    "df.head(3)"
   ]
  },
  {
   "cell_type": "code",
   "execution_count": 115,
   "id": "c2c234c5",
   "metadata": {},
   "outputs": [
    {
     "name": "stdout",
     "output_type": "stream",
     "text": [
      "최종모델 결정계수: 0.948\n",
      "최종모델 RMSE: 0.158\n"
     ]
    }
   ],
   "source": [
    "print('최종모델 결정계수:', round(r2_score(y_test['price'], df['price']), 3))\n",
    "print('최종모델 RMSE:', round(np.sqrt(mean_squared_error(y_test['price'], df['price'])),3))"
   ]
  },
  {
   "cell_type": "code",
   "execution_count": null,
   "id": "383b66c6",
   "metadata": {},
   "outputs": [],
   "source": [
    "# 저장\n",
    "df.to_csv('1234.csv', index = False)"
   ]
  },
  {
   "cell_type": "markdown",
   "id": "2435f84c",
   "metadata": {},
   "source": []
  }
 ],
 "metadata": {
  "kernelspec": {
   "display_name": "Python 3 (ipykernel)",
   "language": "python",
   "name": "python3"
  },
  "language_info": {
   "codemirror_mode": {
    "name": "ipython",
    "version": 3
   },
   "file_extension": ".py",
   "mimetype": "text/x-python",
   "name": "python",
   "nbconvert_exporter": "python",
   "pygments_lexer": "ipython3",
   "version": "3.8.10"
  }
 },
 "nbformat": 4,
 "nbformat_minor": 5
}
