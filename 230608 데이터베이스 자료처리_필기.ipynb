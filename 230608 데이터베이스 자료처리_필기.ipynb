{
 "cells": [
  {
   "cell_type": "markdown",
   "id": "be74021f",
   "metadata": {},
   "source": [
    "### 6.2.3 생성자\n",
    "- 객체 생성 시 자동 실행, 멤버변수 값 초기화하는 역할\n",
    "- 초기화작업이 필요 없을 때는 생성자 생략 가능: 생략하면 파이썬이 기본생성자를 자동생성함\n",
    "\n",
    "- 매개변수는 객체가 생성되는 시점에서 외부의 인수를 받아 멤버변수 값 초기화\n",
    "\n",
    "    - 1)생성자 이용 멤버변수 초기화\n",
    "    - 2)메서드 이용 멤버변수 초기화"
   ]
  },
  {
   "cell_type": "markdown",
   "id": "1e4534f3",
   "metadata": {},
   "source": [
    "#### 객체 생성\n",
    "- 참조변수 = Car(실인수)  실인수: 생성자의 매개변수에 전달할 실제값\n",
    "\n",
    "#### 멤버 호출\n",
    "- 참조변수.멤버(멤버변수 or 메서드)"
   ]
  },
  {
   "cell_type": "code",
   "execution_count": 1,
   "id": "603e5437",
   "metadata": {},
   "outputs": [
    {
     "name": "stdout",
     "output_type": "stream",
     "text": [
      "30\n"
     ]
    }
   ],
   "source": [
    "# 생성자 이용 멤버변수 초기화\n",
    "class Multiply:\n",
    "    # 멤버변수\n",
    "    x = y = 0\n",
    "    \n",
    "    # 생성자: 초기화\n",
    "    def __init__(self, x, y):  # 객체만 생성\n",
    "        self.x = x\n",
    "        self.y = y\n",
    "        \n",
    "    # 메서드\n",
    "    def mul(self):\n",
    "        return self.x + self.y\n",
    "    \n",
    "    # 소멸자: 메모리를 아끼기 위해서. 보통은 자동으로 되기 때문에 사용안함\n",
    "    def __del__(self): \n",
    "        del self.x\n",
    "        del self.y\n",
    "\n",
    "obj = Multiply(10,20)\n",
    "print(obj.mul())"
   ]
  },
  {
   "cell_type": "code",
   "execution_count": 18,
   "id": "f1049abf",
   "metadata": {},
   "outputs": [
    {
     "data": {
      "text/plain": [
       "200"
      ]
     },
     "execution_count": 18,
     "metadata": {},
     "output_type": "execute_result"
    }
   ],
   "source": [
    "# 메서드 이용 멤버변수 초기화\n",
    "class Multiply2:\n",
    "    # 멤버변수\n",
    "    x = y = 0\n",
    "    \n",
    "    # 생성자 없음 >> 기본생성자 제공\n",
    "    def __init__(self):\n",
    "        pass\n",
    "    \n",
    "    # 메서드: 멤버변수 초기화\n",
    "    def data(self, x, y):\n",
    "        self.x = x\n",
    "        self.y = y\n",
    "    \n",
    "    # 메서드: 곱셈\n",
    "    def mul(self):\n",
    "        return self.x * self.y\n",
    "\n",
    "obj2 = Multiply2() # 기본 생성자. 인수가 없음\n",
    "obj2.data(10, 20)  # 동적 멤버변수 생성. 생성자가 해야될 일을 이렇게 대신 함\n",
    "obj2.mul()         # 인수 들어가고 실행됨. 동적 멤버변수 생성 없이 실행하면 0값 "
   ]
  },
  {
   "cell_type": "code",
   "execution_count": 17,
   "id": "d584f79e",
   "metadata": {},
   "outputs": [
    {
     "data": {
      "text/plain": [
       "0"
      ]
     },
     "execution_count": 17,
     "metadata": {},
     "output_type": "execute_result"
    }
   ],
   "source": [
    "# 메서드 이용 멤버변수 초기화\n",
    "class Multiply2:\n",
    "    # 멤버변수\n",
    "    x = y = 0\n",
    "    \n",
    "    # 생성자 없음 >> 기본생성자 제공\n",
    "    def __init__(self):\n",
    "        pass\n",
    "    \n",
    "    # 메서드: 멤버변수 초기화\n",
    "    def data(self, x, y):\n",
    "        self.x = x\n",
    "        self.y = y\n",
    "    \n",
    "    # 메서드: 곱셈\n",
    "    def mul(self):\n",
    "        return self.x * self.y\n",
    "\n",
    "obj2 = Multiply2() # 기본 생성자. 인수가 없음\n",
    "obj2.mul()"
   ]
  },
  {
   "cell_type": "markdown",
   "id": "96e1fd32",
   "metadata": {},
   "source": [
    "### 6.2.4 SELF\n",
    "- (나 또는 나의 상위에서 정의됨)\n",
    "- 클래스의 생성자와 메서드는 기본적으로 self라는 매개변수를 가짐\n",
    "- 클래스 구성하는 멤버변수와 메서드를 호출하는 역할\n",
    "- self라는 매개변수를 생략하면 오류가 발생\n",
    "<br>\n",
    "\n",
    "- 생성자 안에서 멤버변수 값 초기화 or 메서드 안에서 멤버변수 참조 or 메서드 호출할 경우 이용\n",
    "- 형식: self.멤버변수, self.메서드()\n",
    "\n",
    "- self멤버변수 = 매개변수\n",
    "<br>\n",
    "\n",
    "- 멤버변수: 클래스 안에 선언된 변수들을 가리켜 멤버변수라고 함\n",
    "    - __init__ 위에 선언시, 클래스변수라고 부름\n",
    "    - __init__ 아래에 선언되는 (self.num1 = x / self.num2 = y) 변수들"
   ]
  },
  {
   "cell_type": "markdown",
   "id": "831c1acf",
   "metadata": {},
   "source": [
    "#### 멤버변수, 생성자 모두를 정의하지 않은 클래스의 예)\n",
    "- 생성자는 기본으로 자동으로 만들어짐\n",
    "- 동적 멤버변수: 필요한 경우 특정 메서드에서 생성하는 멤버변수\n",
    "    형식: self.멤버변수 = 초기값"
   ]
  },
  {
   "cell_type": "code",
   "execution_count": 16,
   "id": "1e307b65",
   "metadata": {},
   "outputs": [
    {
     "name": "stdout",
     "output_type": "stream",
     "text": [
      "곱셈 = 200\n"
     ]
    }
   ],
   "source": [
    "class Multiply3:    \n",
    "    # 멤버변수 없음\n",
    "    # 생성자 없음: 기본생성자(생략되어도 있는 것임)\n",
    "    \n",
    "    # 동적 멤버변수 생성/ 초기화\n",
    "    def data(self, x, y):       # 멤버변수 생성 역할 대신함\n",
    "        self.x = x              # self.멤버변수 = 매개변수\n",
    "        self.y = y              # 동적으로 멤버변수 생성 후 초기화됨\n",
    "    \n",
    "    # 메서드: 곱셈\n",
    "    def mul(self):\n",
    "        result = self.x * self.y   # self.매개변수 형태로 참조\n",
    "        self.display(result)       # display 메서드를 호출\n",
    "    \n",
    "    # 결과출력\n",
    "    def display(self, result):\n",
    "        print(\"곱셈 = %d\" %(result))\n",
    "\n",
    "obj3 = Multiply3()   # 기본생성자\n",
    "obj3.data(10, 20)  # 동적 멤버변수 생성\n",
    "obj3.mul()"
   ]
  },
  {
   "cell_type": "markdown",
   "id": "4d46a9c1",
   "metadata": {},
   "source": [
    "### [실습0-1] \n",
    "인수를 input으로 받는 방법 확인\n",
    "\n",
    "### [실습0-2]\n",
    "생성자의 역할이 왜 필요한지 확인"
   ]
  },
  {
   "cell_type": "markdown",
   "id": "3df7ef34",
   "metadata": {},
   "source": [
    "### [실습0-3]\n",
    "나눗셈연산이 불가능하다는 점을 해당 메서드가 실행되는 시점에 print되도록 해야 함"
   ]
  },
  {
   "cell_type": "code",
   "execution_count": null,
   "id": "6645ff85",
   "metadata": {},
   "outputs": [],
   "source": []
  },
  {
   "cell_type": "markdown",
   "id": "be92a2b8",
   "metadata": {},
   "source": [
    "### ----------------------------- Class self 이해하기 ------------------------------"
   ]
  },
  {
   "cell_type": "markdown",
   "id": "0d3287a2",
   "metadata": {},
   "source": [
    "### Introduction to Programming Using Python \n",
    "또 다른 예)\n",
    "https://andamiro25.tistory.com/38\n",
    "\n",
    "https://accord.edu.so/course/material/introduction-to-programing-in-python-85/pdf_content"
   ]
  },
  {
   "cell_type": "markdown",
   "id": "4bdd33dc",
   "metadata": {},
   "source": [
    "#### 클래스 정의하기\n",
    "- __init__ 라는 특별한 함수를 제공(initializer 생성자). 객체의 상태를 초기화하는 메서드\n",
    "- 데이터필드는 initializer안에 만들어져 있음"
   ]
  },
  {
   "cell_type": "markdown",
   "id": "5b029157",
   "metadata": {},
   "source": [
    "#### 객체 생성하기\n",
    "- initializer(__init__): __init__ 메서드를 사용해 생성자를 만든 경우\n",
    "- constructor: initializer(__init__) 메서드를 이용해, 정의한 생성자를 사용하는 경우\n",
    "\n",
    "#### 생성자 constructor가 하는일\n",
    "- 사용할 클래스의 메모리에 객체를 생성\n",
    "- 클래스의 __init__ 메서드를 호출하여 객체를 초기화\n",
    "- 사용형식: ClassName(arguments)"
   ]
  },
  {
   "cell_type": "code",
   "execution_count": 29,
   "id": "df2b6b8b",
   "metadata": {},
   "outputs": [],
   "source": [
    "import math\n",
    "class Circle:  \n",
    "    def __init__(self, radius = 1):\n",
    "        self.radius = radius\n",
    "    def getPerimeter(self):\n",
    "        return 2*self.radius * math.pi\n",
    "    def getArea(self):\n",
    "        return self.radius**2 * math.pi\n",
    "    def setRadius(self, radius):\n",
    "        self.radius = radius"
   ]
  },
  {
   "cell_type": "code",
   "execution_count": 25,
   "id": "6aee7f4f",
   "metadata": {},
   "outputs": [
    {
     "data": {
      "text/plain": [
       "<__main__.Circle at 0x233e71930d0>"
      ]
     },
     "execution_count": 25,
     "metadata": {},
     "output_type": "execute_result"
    }
   ],
   "source": [
    "Circle(5)    # 먼저 circle 객체가 메모리에 생성되고, 생성자가 radius를 5로 설정함"
   ]
  },
  {
   "cell_type": "code",
   "execution_count": 26,
   "id": "8ca34779",
   "metadata": {},
   "outputs": [
    {
     "data": {
      "text/plain": [
       "<__main__.Circle at 0x233e6d91220>"
      ]
     },
     "execution_count": 26,
     "metadata": {},
     "output_type": "execute_result"
    }
   ],
   "source": [
    "Circle()     # radius 는 1로 초기값이 설정됨"
   ]
  },
  {
   "cell_type": "markdown",
   "id": "8ae94d56",
   "metadata": {},
   "source": [
    "#### 객체의 멤버, 메서드에 접근하기\n",
    "- 객체의 멤버: 데이터필드(=인스턴스변수), 메서드(=인스턴스메서드)\n",
    "- 객체의 데이터필드와 메서드에 접근하기 위해, 변수에 객체를 할당해야 함\n",
    "- 할당형식: objectRefVar = ClassName(arguments)"
   ]
  },
  {
   "cell_type": "code",
   "execution_count": 30,
   "id": "331619a1",
   "metadata": {},
   "outputs": [],
   "source": [
    "c1 = Circle(5)\n",
    "c2 = Circle()"
   ]
  },
  {
   "cell_type": "markdown",
   "id": "c3be6ad6",
   "metadata": {},
   "source": [
    "- 객체의 멤버와 메서드에 접근하기 위해, 점 연산자를 사용\n",
    "    - 점연산자 사용형식: objectRefVar.datafield 또는 objectRefVar.method(args)"
   ]
  },
  {
   "cell_type": "code",
   "execution_count": 31,
   "id": "9b008d3c",
   "metadata": {},
   "outputs": [
    {
     "data": {
      "text/plain": [
       "5"
      ]
     },
     "execution_count": 31,
     "metadata": {},
     "output_type": "execute_result"
    }
   ],
   "source": [
    "c1.radius         # circle객체의 데이터필드에 접근 "
   ]
  },
  {
   "cell_type": "code",
   "execution_count": 32,
   "id": "b07b2866",
   "metadata": {},
   "outputs": [
    {
     "data": {
      "text/plain": [
       "31.41592653589793"
      ]
     },
     "execution_count": 32,
     "metadata": {},
     "output_type": "execute_result"
    }
   ],
   "source": [
    "c1.getPerimeter() # circle객체의 메서드에 접근 "
   ]
  },
  {
   "cell_type": "code",
   "execution_count": 33,
   "id": "7013a154",
   "metadata": {},
   "outputs": [
    {
     "data": {
      "text/plain": [
       "78.53981633974483"
      ]
     },
     "execution_count": 33,
     "metadata": {},
     "output_type": "execute_result"
    }
   ],
   "source": [
    "Circle(5).getArea()"
   ]
  },
  {
   "cell_type": "markdown",
   "id": "50e9a377",
   "metadata": {},
   "source": [
    "#### self 매개변수\n",
    "\n",
    "- 각 메서드의 첫 번째 매개변수로 self가 정의되어 있음\n",
    "- self는 메서드를 구현할 때는 사용하지만, 메서드를 호출할 때는 사용하지 않음\n",
    "- self는 객체 자기 자신을 참조하는 매개변수\n",
    "- self를 사용함으로써, 클래스 내에 정의한 멤버에 접근할 수 있음\n",
    "- 예) self.x: 인스턴스 변수인 x에 접근\n",
    "    <br> self.m1(): 인스턴스 메서드인 m1()을 호출"
   ]
  },
  {
   "cell_type": "markdown",
   "id": "7401d7ee",
   "metadata": {},
   "source": [
    "#### 클래스 다이어그램: 클래스를 표현하기 위한 표기법\n",
    "- 데이터필드이름 dataFieldName: 데이터필드 타입\n",
    "- 클래스이름(매개변수 이름: 매개변수 타입)\n",
    "- 메서드이름(매개변수 이름: 매개변수 타입): 반환 타입"
   ]
  },
  {
   "cell_type": "code",
   "execution_count": 34,
   "id": "487f0c45",
   "metadata": {
    "scrolled": false
   },
   "outputs": [
    {
     "data": {
      "image/png": "[encoded data removed]",
      "text/plain": [
       "<IPython.core.display.Image object>"
      ]
     },
     "execution_count": 34,
     "metadata": {},
     "output_type": "execute_result"
    }
   ],
   "source": [
    "from IPython.display import Image\n",
    "\n",
    "Image(\"Data/230608/diagram.png\")"
   ]
  },
  {
   "cell_type": "markdown",
   "id": "fbb07ca3",
   "metadata": {},
   "source": [
    "### 파이썬으로 배우는 알고리즘 트레이딩(개정판)\n",
    "\n",
    "https://velog.io/@magnoliarfsit/RePython-1.-self-%EC%9D%B4%ED%95%B4%ED%95%98%EA%B8%B0"
   ]
  },
  {
   "cell_type": "markdown",
   "id": "fdad6da9",
   "metadata": {},
   "source": [
    "### SELF"
   ]
  },
  {
   "cell_type": "code",
   "execution_count": 1,
   "id": "07fee2b3",
   "metadata": {},
   "outputs": [],
   "source": [
    "class Foo:\n",
    "    def func1():\n",
    "        print('Function 1')\n",
    "    def func2(self):\n",
    "        print('Function 2')                  "
   ]
  },
  {
   "cell_type": "code",
   "execution_count": 3,
   "id": "6b99373e",
   "metadata": {},
   "outputs": [
    {
     "name": "stdout",
     "output_type": "stream",
     "text": [
      "Function 2\n"
     ]
    }
   ],
   "source": [
    "f= Foo()\n",
    "f.func2()"
   ]
  },
  {
   "cell_type": "code",
   "execution_count": 4,
   "id": "87b44d5d",
   "metadata": {},
   "outputs": [
    {
     "ename": "TypeError",
     "evalue": "func1() takes 0 positional arguments but 1 was given",
     "output_type": "error",
     "traceback": [
      "\u001b[1;31m---------------------------------------------------------------------------\u001b[0m",
      "\u001b[1;31mTypeError\u001b[0m                                 Traceback (most recent call last)",
      "Cell \u001b[1;32mIn[4], line 1\u001b[0m\n\u001b[1;32m----> 1\u001b[0m \u001b[43mf\u001b[49m\u001b[38;5;241;43m.\u001b[39;49m\u001b[43mfunc1\u001b[49m\u001b[43m(\u001b[49m\u001b[43m)\u001b[49m\n",
      "\u001b[1;31mTypeError\u001b[0m: func1() takes 0 positional arguments but 1 was given"
     ]
    }
   ],
   "source": [
    "f.func1()   # 인자가 없지만, 하나를 받았다. 파이썬 메서드의 첫 번째 인자로 항상 인스턴스가 전달됨\n",
    "# 인스턴스.메서드() 형태로 호출해서 에러 발생"
   ]
  },
  {
   "cell_type": "code",
   "execution_count": 5,
   "id": "3df024f5",
   "metadata": {},
   "outputs": [],
   "source": [
    "# 클래스 재정의\n",
    "class Foo:\n",
    "    def func1():\n",
    "        print('Function 1')\n",
    "    def func2(self):\n",
    "        print(id(self))\n",
    "        print('Function 2')                  "
   ]
  },
  {
   "cell_type": "code",
   "execution_count": 6,
   "id": "e9cbb9fa",
   "metadata": {},
   "outputs": [
    {
     "data": {
      "text/plain": [
       "2421942863184"
      ]
     },
     "execution_count": 6,
     "metadata": {},
     "output_type": "execute_result"
    }
   ],
   "source": [
    "f = Foo()\n",
    "id(f)"
   ]
  },
  {
   "cell_type": "code",
   "execution_count": 7,
   "id": "a2c0d331",
   "metadata": {},
   "outputs": [
    {
     "name": "stdout",
     "output_type": "stream",
     "text": [
      "2421942863184\n",
      "Function 2\n"
     ]
    }
   ],
   "source": [
    "f.func2()    # 클래스 내에 정의된 self는 클래스의 인스턴스"
   ]
  },
  {
   "cell_type": "code",
   "execution_count": 9,
   "id": "647df313",
   "metadata": {},
   "outputs": [
    {
     "name": "stdout",
     "output_type": "stream",
     "text": [
      "2421942728832\n",
      "Function 2\n"
     ]
    },
    {
     "data": {
      "text/plain": [
       "(2421942728832, None)"
      ]
     },
     "execution_count": 9,
     "metadata": {},
     "output_type": "execute_result"
    }
   ],
   "source": [
    "f2 = Foo()\n",
    "id(f2), f2.func2()     # f2가 가리키고 있는 객체."
   ]
  },
  {
   "cell_type": "code",
   "execution_count": 10,
   "id": "7c9a2b47",
   "metadata": {},
   "outputs": [
    {
     "name": "stdout",
     "output_type": "stream",
     "text": [
      "Function 1\n"
     ]
    }
   ],
   "source": [
    "Foo.func1()      # 클래스명.메서드() 형태로 호출했기 때문에 에러 발생하지 않음"
   ]
  },
  {
   "cell_type": "code",
   "execution_count": 11,
   "id": "6cc0cfe7",
   "metadata": {},
   "outputs": [
    {
     "ename": "TypeError",
     "evalue": "func2() missing 1 required positional argument: 'self'",
     "output_type": "error",
     "traceback": [
      "\u001b[1;31m---------------------------------------------------------------------------\u001b[0m",
      "\u001b[1;31mTypeError\u001b[0m                                 Traceback (most recent call last)",
      "Cell \u001b[1;32mIn[11], line 1\u001b[0m\n\u001b[1;32m----> 1\u001b[0m \u001b[43mFoo\u001b[49m\u001b[38;5;241;43m.\u001b[39;49m\u001b[43mfunc2\u001b[49m\u001b[43m(\u001b[49m\u001b[43m)\u001b[49m\n",
      "\u001b[1;31mTypeError\u001b[0m: func2() missing 1 required positional argument: 'self'"
     ]
    }
   ],
   "source": [
    "Foo.func2()      # 인자 없이 메서드 호출 시 에러 발생. 인자를 빠뜨린 셈"
   ]
  },
  {
   "cell_type": "code",
   "execution_count": 13,
   "id": "d2b86eef",
   "metadata": {},
   "outputs": [
    {
     "name": "stdout",
     "output_type": "stream",
     "text": [
      "2421941200592\n",
      "Function 2\n"
     ]
    }
   ],
   "source": [
    "# 메서드의 self로 전달되는 것은 인스턴스 자체임.\n",
    "# 클래스에 대한 인스턴스를 생성한 후, 해당 인스턴스를 전달하면 됨\n",
    "f3 = Foo()\n",
    "Foo.func2(f3)"
   ]
  },
  {
   "cell_type": "markdown",
   "id": "fbbf4124",
   "metadata": {},
   "source": [
    "#### 인스턴스를 통해 func2를 호출하는 것과 클래스이름을 통해 func2를 호출하는 것의 차이?\n",
    "\n",
    "- 차이가 없음\n",
    "- 인스턴스.메서드() vs 클래스.메서드(인스턴스) 가 차이일 뿐\n",
    "- 보통은 인스턴스.메서드() 를 사용함\n",
    "\n",
    "#### self는 객체의 인스턴스 그 자체. 객체 자기 자신을 참조하는 매개변수\n",
    "- 객체지향 언어는 모두 메서드에 안보이게 전달하지만, 파이썬은 클래스의 메서드를 정의할 때 self를 명시함\n",
    "- self를 사용함으로써 클래스 내에 정의한 멤버에 접근할 수 있게 됨"
   ]
  },
  {
   "cell_type": "markdown",
   "id": "95f82067",
   "metadata": {},
   "source": [
    "### 클래스 네임스페이스\n",
    "\n",
    "- 변수가 객체를 바인딩할 때 둘 사이의 관계를 저장하고 있는 공간\n",
    "- 파이썬에서는 클래스가 정의되면, 하나의 독립적인 네임스페이스가 생성됨.\n",
    "<br> 클래스 내에 정의된 변수, 메서드는 해당 네임스페이스 안에서 딕셔너리타입으로 저장됨"
   ]
  },
  {
   "cell_type": "code",
   "execution_count": 36,
   "id": "e504affa",
   "metadata": {},
   "outputs": [
    {
     "data": {
      "text/plain": [
       "True"
      ]
     },
     "execution_count": 36,
     "metadata": {},
     "output_type": "execute_result"
    }
   ],
   "source": [
    "class Stock:\n",
    "    market = 'kospi'\n",
    "'Stock'in dir()"
   ]
  },
  {
   "cell_type": "code",
   "execution_count": 37,
   "id": "d6a0f318",
   "metadata": {
    "scrolled": true
   },
   "outputs": [
    {
     "data": {
      "text/plain": [
       "mappingproxy({'__module__': '__main__',\n",
       "              'market': 'kospi',\n",
       "              '__dict__': <attribute '__dict__' of 'Stock' objects>,\n",
       "              '__weakref__': <attribute '__weakref__' of 'Stock' objects>,\n",
       "              '__doc__': None})"
      ]
     },
     "execution_count": 37,
     "metadata": {},
     "output_type": "execute_result"
    }
   ],
   "source": [
    "Stock.__dict__"
   ]
  },
  {
   "cell_type": "code",
   "execution_count": 38,
   "id": "465bc23c",
   "metadata": {
    "scrolled": true
   },
   "outputs": [
    {
     "data": {
      "text/plain": [
       "'kospi'"
      ]
     },
     "execution_count": 38,
     "metadata": {},
     "output_type": "execute_result"
    }
   ],
   "source": [
    "Stock.market"
   ]
  },
  {
   "cell_type": "markdown",
   "id": "624f9668",
   "metadata": {},
   "source": [
    "- 인스턴스를 생성하면, 인스턴스별로 별도의 네임스페이스를 유지함"
   ]
  },
  {
   "cell_type": "code",
   "execution_count": 43,
   "id": "29629a9c",
   "metadata": {},
   "outputs": [
    {
     "data": {
      "text/plain": [
       "(2421941686480, 2421941687200)"
      ]
     },
     "execution_count": 43,
     "metadata": {},
     "output_type": "execute_result"
    }
   ],
   "source": [
    "s1 = Stock()\n",
    "s2 = Stock()\n",
    "id(s1), id(s2)"
   ]
  },
  {
   "cell_type": "code",
   "execution_count": 46,
   "id": "d1841380",
   "metadata": {},
   "outputs": [
    {
     "data": {
      "text/plain": [
       "(True, True)"
      ]
     },
     "execution_count": 46,
     "metadata": {},
     "output_type": "execute_result"
    }
   ],
   "source": [
    "'s1'in dir(), 's2'in dir()"
   ]
  },
  {
   "cell_type": "code",
   "execution_count": 47,
   "id": "e68d263a",
   "metadata": {},
   "outputs": [
    {
     "data": {
      "text/plain": [
       "({}, {})"
      ]
     },
     "execution_count": 47,
     "metadata": {},
     "output_type": "execute_result"
    }
   ],
   "source": [
    "s1.__dict__, s2.__dict__"
   ]
  },
  {
   "cell_type": "code",
   "execution_count": 49,
   "id": "0aff4a57",
   "metadata": {},
   "outputs": [
    {
     "data": {
      "text/plain": [
       "{'market': 'kosdaq'}"
      ]
     },
     "execution_count": 49,
     "metadata": {},
     "output_type": "execute_result"
    }
   ],
   "source": [
    "s1.market = 'kosdaq'\n",
    "s1.__dict__"
   ]
  },
  {
   "cell_type": "code",
   "execution_count": 50,
   "id": "bf102723",
   "metadata": {},
   "outputs": [
    {
     "data": {
      "text/plain": [
       "{}"
      ]
     },
     "execution_count": 50,
     "metadata": {},
     "output_type": "execute_result"
    }
   ],
   "source": [
    "s2.__dict__"
   ]
  },
  {
   "cell_type": "code",
   "execution_count": 52,
   "id": "8a6a77a8",
   "metadata": {},
   "outputs": [
    {
     "data": {
      "text/plain": [
       "('kosdaq', 'kospi')"
      ]
     },
     "execution_count": 52,
     "metadata": {},
     "output_type": "execute_result"
    }
   ],
   "source": [
    "s1.market, s2.market"
   ]
  },
  {
   "cell_type": "markdown",
   "id": "707b1721",
   "metadata": {},
   "source": [
    "- s2 인스턴스를 통해 변수에 접근하면 파이썬은 s2 인스턴스의 네임스페이스에 해당 변수가 존재하는지 찾음. 해당 변수가 존재하지 않으면, 인스턴스의 클래스의 네임스페이스로 가서 다시 변수를 찾게 됨."
   ]
  },
  {
   "cell_type": "markdown",
   "id": "8960deed",
   "metadata": {},
   "source": [
    "### 클래스변수와 인스턴스 변수\n"
   ]
  },
  {
   "cell_type": "code",
   "execution_count": 53,
   "id": "f7f7ac78",
   "metadata": {},
   "outputs": [],
   "source": [
    "class Account:\n",
    "    num_accounts = 0\n",
    "    def __init__(self, name):\n",
    "        self.name = name\n",
    "        Account.num_accounts += 1\n",
    "    def __del__(self):\n",
    "        Account.num_accounts -= 1\n",
    "\n",
    "kim = Account('Kim')\n",
    "lee = Account(\"Lee\")"
   ]
  },
  {
   "cell_type": "code",
   "execution_count": 55,
   "id": "267902eb",
   "metadata": {},
   "outputs": [
    {
     "data": {
      "text/plain": [
       "('Kim', 'Lee')"
      ]
     },
     "execution_count": 55,
     "metadata": {},
     "output_type": "execute_result"
    }
   ],
   "source": [
    "kim.name, lee.name"
   ]
  },
  {
   "cell_type": "code",
   "execution_count": 56,
   "id": "26a5fd01",
   "metadata": {},
   "outputs": [
    {
     "data": {
      "text/plain": [
       "(2, 2)"
      ]
     },
     "execution_count": 56,
     "metadata": {},
     "output_type": "execute_result"
    }
   ],
   "source": [
    "kim.num_accounts, lee.num_accounts"
   ]
  },
  {
   "cell_type": "code",
   "execution_count": 57,
   "id": "4ef88084",
   "metadata": {},
   "outputs": [
    {
     "data": {
      "text/plain": [
       "2"
      ]
     },
     "execution_count": 57,
     "metadata": {},
     "output_type": "execute_result"
    }
   ],
   "source": [
    "Account.num_accounts"
   ]
  },
  {
   "cell_type": "markdown",
   "id": "a7a077cb",
   "metadata": {},
   "source": [
    "### 6.2.5 클래스 멤버\n",
    "\n",
    "- 객체는 클래스의 생성자를 이용해 만들어짐\n",
    "- 객체멤버는 객체 변수(= 멤버변수, 인스턴스변수), 객체 메서드(= 멤버메서드, 인스턴스메서드)가 됨\n",
    "- 객체멤버는 모두 객체(참조변수, 인스턴스변수)를 통해 호출이 가능함\n",
    "- 객체: obj.\n",
    "<br>\n",
    "\n",
    "- 클래스 멤버는 클래스 이름으로 호출할 수 있는 클래스 변수와 클래스 메서드임\n",
    "- 클레스멤버는 객체 생성 없이 호출해 사용할 수 있음\n",
    "- 클래스 메서드는 cls 라는 매개변수를 사용, @classmethod라는 함수 장식자를 이용해 선언함\n",
    "\n",
    "                          객체멤버                클래스멤버\n",
    "        구성요소)    객체변수, 객체메서드    클래스변수, 클래스 메서드\n",
    "        객체생성)    객체생성 필요           객체생성 필요 없음\n",
    "        멤버참조)    객체 참조변수 이용      클래스이름 이용\n",
    "        기본인수)    객체 메서드(self)       클래스 메서드(cls)\n",
    "        함수장식자)  필요없음                @classmethod 필요\n",
    "<br>\n",
    "\n",
    "- 클래스 멤버 예)"
   ]
  },
  {
   "cell_type": "code",
   "execution_count": 15,
   "id": "7e0271c6",
   "metadata": {},
   "outputs": [],
   "source": [
    "class Datepro:\n",
    "    # 멤버변수       # 객체, 클래스 멤버변수 둘 다 가능\n",
    "    content = '날짜 처리 클래스'      # 클래스 멤버변수     \n",
    "    \n",
    "    # 생성자\n",
    "    def __init__(self, year, month, day):   # 객체 멤버변수만 가능. 클래스 멤버변수는 안 됨\n",
    "        self.year = year              # 인스턴스 멤버변수\n",
    "        self.month = month\n",
    "        self.day = day\n",
    "    \n",
    "    # 객체 메서드\n",
    "    def display(self):\n",
    "        print('%d-%d-%d'%(self.year, self.month, self.day))\n",
    "        \n",
    "    # 클래스메서드\n",
    "    @classmethod   # 함수장식자\n",
    "    def date_string(cls, datestr):  #'19951025'\n",
    "        year = datestr[:4]\n",
    "        month = datestr[4:6]\n",
    "        day = datestr[6:]\n",
    "        \n",
    "        print(f'{year}년 {month}월 {day}일')\n"
   ]
  },
  {
   "cell_type": "code",
   "execution_count": 16,
   "id": "c783ca4e",
   "metadata": {},
   "outputs": [
    {
     "data": {
      "text/plain": [
       "<__main__.Datepro at 0x233e6ffa400>"
      ]
     },
     "execution_count": 16,
     "metadata": {},
     "output_type": "execute_result"
    }
   ],
   "source": [
    "# 객체멤버\n",
    "date = Datepro(1995, 10, 25)\n",
    "date   # 참조변수"
   ]
  },
  {
   "cell_type": "code",
   "execution_count": 17,
   "id": "9e7c18dd",
   "metadata": {},
   "outputs": [
    {
     "data": {
      "text/plain": [
       "'날짜 처리 클래스'"
      ]
     },
     "execution_count": 17,
     "metadata": {},
     "output_type": "execute_result"
    }
   ],
   "source": [
    "date.content            # 참조변수명.클래스멤버변수"
   ]
  },
  {
   "cell_type": "code",
   "execution_count": 18,
   "id": "09d88e4b",
   "metadata": {},
   "outputs": [
    {
     "data": {
      "text/plain": [
       "1995"
      ]
     },
     "execution_count": 18,
     "metadata": {},
     "output_type": "execute_result"
    }
   ],
   "source": [
    "date.year               # 참조변수명.클래스메서드 변수"
   ]
  },
  {
   "cell_type": "code",
   "execution_count": 19,
   "id": "662de552",
   "metadata": {},
   "outputs": [
    {
     "name": "stdout",
     "output_type": "stream",
     "text": [
      "1995-10-25\n"
     ]
    }
   ],
   "source": [
    "date.display()"
   ]
  },
  {
   "cell_type": "code",
   "execution_count": 20,
   "id": "9d0983e3",
   "metadata": {},
   "outputs": [
    {
     "data": {
      "text/plain": [
       "'날짜 처리 클래스'"
      ]
     },
     "execution_count": 20,
     "metadata": {},
     "output_type": "execute_result"
    }
   ],
   "source": [
    "# 클래스멤버\n",
    "Datepro.content         # 클래스명.클래스멤버변수"
   ]
  },
  {
   "cell_type": "code",
   "execution_count": 21,
   "id": "8ac49a4e",
   "metadata": {},
   "outputs": [
    {
     "ename": "AttributeError",
     "evalue": "type object 'Datepro' has no attribute 'year'",
     "output_type": "error",
     "traceback": [
      "\u001b[1;31m---------------------------------------------------------------------------\u001b[0m",
      "\u001b[1;31mAttributeError\u001b[0m                            Traceback (most recent call last)",
      "Cell \u001b[1;32mIn[21], line 1\u001b[0m\n\u001b[1;32m----> 1\u001b[0m \u001b[43mDatepro\u001b[49m\u001b[38;5;241;43m.\u001b[39;49m\u001b[43myear\u001b[49m    \u001b[38;5;66;03m# attribute error\u001b[39;00m\n",
      "\u001b[1;31mAttributeError\u001b[0m: type object 'Datepro' has no attribute 'year'"
     ]
    }
   ],
   "source": [
    "Datepro.year    # Attribute error. year는 인스턴스멤버변수임   \n",
    "# 클래스명.클래스메서드 변수?"
   ]
  },
  {
   "cell_type": "code",
   "execution_count": 22,
   "id": "5ea11de0",
   "metadata": {
    "scrolled": false
   },
   "outputs": [
    {
     "name": "stdout",
     "output_type": "stream",
     "text": [
      "1995년 10월 25일\n"
     ]
    }
   ],
   "source": [
    "Datepro.date_string('19951025')     #클래스메서드: 객체를 만들지 않고도 사용 가능. \n",
    "# 클래스명.클래스메서드명 호출가능."
   ]
  },
  {
   "cell_type": "code",
   "execution_count": 23,
   "id": "3772beb3",
   "metadata": {
    "scrolled": true
   },
   "outputs": [
    {
     "name": "stdout",
     "output_type": "stream",
     "text": [
      "1995년 10월 25일\n"
     ]
    }
   ],
   "source": [
    "# 참조변수.클래스메서드명 호출가능.\n",
    "date.date_string('19951025')"
   ]
  },
  {
   "cell_type": "markdown",
   "id": "05345ab4",
   "metadata": {},
   "source": [
    "### [실습0-5]\n",
    "\n",
    "- 클래스메서드는, 객체가 만들어지지 않더라도 쓸 수 있는 메서드\n",
    "- 객체 없이, 함수처럼 불러와서 쓸 수 있음 \n",
    "- 여러 사람이 나눠쓰는 데 이점이 있음\n",
    "<br> 예) 쇼핑몰 회원가입 시, 휴대폰번호로 회원 여부 조회\n",
    "- 형식: 클래스명.메서드명(인수)"
   ]
  },
  {
   "cell_type": "markdown",
   "id": "24a25f3b",
   "metadata": {},
   "source": [
    "### 6.3. 객체지향 기법\n",
    "\n",
    "### 6.3.1 캡슐화 encapsulation\n",
    "- 접근을 제한하여 객체의 세부 내용을 외부로부터 감추는 기법\n",
    "- 은닉변수: 변수 앞에 '__' 기호를 넣고, 외부에서 접근 불가하도록 함\n",
    "- 외부에서 사용할 수 있는 공용인터페이스에서 은닉변수는 획득자(getter, 은닉값을 꺼내옴) / 지정자(setter, 외부값을 수정)로 분류됨\n",
    "<br>\n",
    "\n",
    "- 객체를 생성하고 변수명을 알 경우, 외부에서 해당 변수값을 쉽게 변경할 수 있음. 그러므로 변수나 메서드를 알지 못하도록 할 필요가 있을 때, 은닉변수 사용\n",
    "- 필터링 기법 활용 >> setter, getter method 쓴다고 생각할 것\n",
    "<br>\n",
    "\n",
    "- 은닉을 사용하기 위해 getter메서드, setter메서드가 활용됨\n",
    "- 은닉변수를 쓸 때는, 그 내용을 추측하지 못하도록 설정해야 함"
   ]
  },
  {
   "cell_type": "code",
   "execution_count": 94,
   "id": "12457503",
   "metadata": {},
   "outputs": [
    {
     "name": "stdout",
     "output_type": "stream",
     "text": [
      "100\n"
     ]
    }
   ],
   "source": [
    "def main_func(num):\n",
    "    num_val = num\n",
    "    def getter():  # 획득자함수, return 있음\n",
    "        return num_val\n",
    "    def setter(value):    # 지정자함수, 매개변수를 가짐\n",
    "        nonlocal num_val   # 외부함수에서 생성된 자료를 수정할 경우, nonlocal사용\n",
    "        num_val = value\n",
    "    return getter, setter   # 함수 클로저 반환\n",
    "getter, setter = main_func(100)\n",
    "print(getter())"
   ]
  },
  {
   "cell_type": "code",
   "execution_count": 95,
   "id": "c779294b",
   "metadata": {},
   "outputs": [],
   "source": [
    "setter(200)"
   ]
  },
  {
   "cell_type": "code",
   "execution_count": 96,
   "id": "6e9d705a",
   "metadata": {},
   "outputs": [
    {
     "data": {
      "text/plain": [
       "200"
      ]
     },
     "execution_count": 96,
     "metadata": {},
     "output_type": "execute_result"
    }
   ],
   "source": [
    "getter()"
   ]
  },
  {
   "cell_type": "code",
   "execution_count": 110,
   "id": "ea28b191",
   "metadata": {},
   "outputs": [],
   "source": [
    "class Account:\n",
    "    # 은닉 멤버변수\n",
    "    __balance = 0  # 잔액\n",
    "    __accName = None  # 예금주\n",
    "    __accNo = None  # 계좌번호\n",
    "    \n",
    "    # 생성자: 멤버변수 초기화\n",
    "    def __init__(self, bal, name, no):\n",
    "        self.__balance = bal\n",
    "        self.__accName = name\n",
    "        self.__accNo = no\n",
    "    \n",
    "    # 계좌정보 확인: getter메서드\n",
    "    def getBalance(self):\n",
    "        return self.__balance, self.__accName, self.__accNo\n",
    "    \n",
    "    ##### 입금/출금 정의에는 필터링 기능을 구현해야 함. 1원 <= 입금액 <= 5억\n",
    "    # 입금하기: setter메서드\n",
    "    def setDeposit(self, money):    # 지정자메서드\n",
    "        if money < 0:\n",
    "            print('입금금액 확인')\n",
    "            return #  종료\n",
    "        self.__balance += money\n",
    "    \n",
    "    # 출금하기: setter            # 지정자메서드\n",
    "    def setWithdraw(self, money):\n",
    "        if self.__balance < money:\n",
    "            print(\"잔액 부족\")\n",
    "            return\n",
    "        self.__balance -= money"
   ]
  },
  {
   "cell_type": "code",
   "execution_count": 111,
   "id": "5c165d6e",
   "metadata": {},
   "outputs": [
    {
     "data": {
      "text/plain": [
       "<__main__.Account at 0x233e712b040>"
      ]
     },
     "execution_count": 111,
     "metadata": {},
     "output_type": "execute_result"
    }
   ],
   "source": [
    "# object 생성\n",
    "acc = Account(1000, '홍길동', '125-152-4125-41')\n",
    "acc"
   ]
  },
  {
   "cell_type": "code",
   "execution_count": 112,
   "id": "4c3df10e",
   "metadata": {
    "scrolled": true
   },
   "outputs": [
    {
     "ename": "AttributeError",
     "evalue": "'Account' object has no attribute '__balance'",
     "output_type": "error",
     "traceback": [
      "\u001b[1;31m---------------------------------------------------------------------------\u001b[0m",
      "\u001b[1;31mAttributeError\u001b[0m                            Traceback (most recent call last)",
      "Cell \u001b[1;32mIn[112], line 2\u001b[0m\n\u001b[0;32m      1\u001b[0m \u001b[38;5;66;03m# getter 호출\u001b[39;00m\n\u001b[1;32m----> 2\u001b[0m \u001b[43macc\u001b[49m\u001b[38;5;241;43m.\u001b[39;49m\u001b[43m__balance\u001b[49m \u001b[38;5;66;03m# error: 참조할 수 없음. 은닉변수는 직접access 할 수 없음.\u001b[39;00m\n",
      "\u001b[1;31mAttributeError\u001b[0m: 'Account' object has no attribute '__balance'"
     ]
    }
   ],
   "source": [
    "# getter 호출\n",
    "acc.__balance # error: 참조할 수 없음. 은닉변수는 직접access 할 수 없음."
   ]
  },
  {
   "cell_type": "code",
   "execution_count": 113,
   "id": "8c54e952",
   "metadata": {},
   "outputs": [
    {
     "data": {
      "text/plain": [
       "(1000, '홍길동', '125-152-4125-41')"
      ]
     },
     "execution_count": 113,
     "metadata": {},
     "output_type": "execute_result"
    }
   ],
   "source": [
    "# setter 호출\n",
    "bal = acc.getBalance()\n",
    "bal   # 튜플 형식으로 반환됨"
   ]
  },
  {
   "cell_type": "code",
   "execution_count": 114,
   "id": "9c5cc89d",
   "metadata": {},
   "outputs": [
    {
     "data": {
      "text/plain": [
       "<__main__.Account at 0x233e712b040>"
      ]
     },
     "execution_count": 114,
     "metadata": {},
     "output_type": "execute_result"
    }
   ],
   "source": [
    "acc.setDeposit(10000)   # 10,000원 입금\n",
    "acc"
   ]
  },
  {
   "cell_type": "code",
   "execution_count": 115,
   "id": "5d25b660",
   "metadata": {},
   "outputs": [
    {
     "name": "stdout",
     "output_type": "stream",
     "text": [
      "입금금액 확인\n"
     ]
    }
   ],
   "source": [
    "acc.setDeposit(-10000)  # 마이너스 금액으로 입금하려고 한 경우\n",
    "### filter 방법 사용"
   ]
  },
  {
   "cell_type": "code",
   "execution_count": 36,
   "id": "ac25931b",
   "metadata": {},
   "outputs": [
    {
     "data": {
      "text/plain": [
       "(11000, '홍길동', '125-152-4125-41')"
      ]
     },
     "execution_count": 36,
     "metadata": {},
     "output_type": "execute_result"
    }
   ],
   "source": [
    "acc.getBalance()"
   ]
  },
  {
   "cell_type": "markdown",
   "id": "027e8082",
   "metadata": {},
   "source": [
    "### 예제\n",
    "https://whyjoosokkagi.tistory.com/55"
   ]
  },
  {
   "cell_type": "code",
   "execution_count": 100,
   "id": "ee6a0f0b",
   "metadata": {},
   "outputs": [
    {
     "name": "stdout",
     "output_type": "stream",
     "text": [
      "a:  10\n",
      "b:  20\n",
      "a:  3\n",
      "b:  4\n"
     ]
    },
    {
     "ename": "AttributeError",
     "evalue": "'Test' object has no attribute '__a'",
     "output_type": "error",
     "traceback": [
      "\u001b[1;31m---------------------------------------------------------------------------\u001b[0m",
      "\u001b[1;31mAttributeError\u001b[0m                            Traceback (most recent call last)",
      "Cell \u001b[1;32mIn[100], line 20\u001b[0m\n\u001b[0;32m     18\u001b[0m     \u001b[38;5;28mprint\u001b[39m(\u001b[38;5;124m'\u001b[39m\u001b[38;5;124mt1.a: \u001b[39m\u001b[38;5;124m'\u001b[39m, t1\u001b[38;5;241m.\u001b[39m__a)\n\u001b[0;32m     19\u001b[0m     \u001b[38;5;28mprint\u001b[39m(\u001b[38;5;124m'\u001b[39m\u001b[38;5;124mt1.b: \u001b[39m\u001b[38;5;124m'\u001b[39m, t1\u001b[38;5;241m.\u001b[39mb)\n\u001b[1;32m---> 20\u001b[0m \u001b[43mmain\u001b[49m\u001b[43m(\u001b[49m\u001b[43m)\u001b[49m\n",
      "Cell \u001b[1;32mIn[100], line 18\u001b[0m, in \u001b[0;36mmain\u001b[1;34m()\u001b[0m\n\u001b[0;32m     15\u001b[0m t1\u001b[38;5;241m.\u001b[39mprintData()\n\u001b[0;32m     17\u001b[0m t1\u001b[38;5;241m.\u001b[39mb \u001b[38;5;241m=\u001b[39m \u001b[38;5;241m200\u001b[39m\n\u001b[1;32m---> 18\u001b[0m \u001b[38;5;28mprint\u001b[39m(\u001b[38;5;124m'\u001b[39m\u001b[38;5;124mt1.a: \u001b[39m\u001b[38;5;124m'\u001b[39m, \u001b[43mt1\u001b[49m\u001b[38;5;241;43m.\u001b[39;49m\u001b[43m__a\u001b[49m)\n\u001b[0;32m     19\u001b[0m \u001b[38;5;28mprint\u001b[39m(\u001b[38;5;124m'\u001b[39m\u001b[38;5;124mt1.b: \u001b[39m\u001b[38;5;124m'\u001b[39m, t1\u001b[38;5;241m.\u001b[39mb)\n",
      "\u001b[1;31mAttributeError\u001b[0m: 'Test' object has no attribute '__a'"
     ]
    }
   ],
   "source": [
    "class Test:\n",
    "    def __init__(self):\n",
    "        self.__a = 10\n",
    "        self.b = 20\n",
    "    def setData(self, a, b):\n",
    "        self.__a = a\n",
    "        self.b = b\n",
    "    def printData(self):\n",
    "        print('a: ', self.__a)\n",
    "        print('b: ', self.b)\n",
    "def main():\n",
    "    t1 = Test()\n",
    "    t1.printData()\n",
    "    t1.setData(3,4)\n",
    "    t1.printData()\n",
    "    \n",
    "    t1.b = 200\n",
    "    print('t1.a: ', t1.__a)   #private 멤버 대문에 에러가 생김\n",
    "    print('t1.b: ', t1.b)\n",
    "main()"
   ]
  },
  {
   "cell_type": "code",
   "execution_count": 102,
   "id": "89d9d46a",
   "metadata": {},
   "outputs": [
    {
     "name": "stdout",
     "output_type": "stream",
     "text": [
      "a:  10\n",
      "b:  20\n",
      "a:  3\n",
      "b:  4\n",
      "t1.a:  100\n",
      "t1.b:  200\n"
     ]
    }
   ],
   "source": [
    "class Test:\n",
    "    def __init__(self):\n",
    "        self.__a = 10\n",
    "        self.b = 20\n",
    "    def setData(self, a, b):\n",
    "        self.__a = a\n",
    "        self.b = b\n",
    "    def printData(self):\n",
    "        print('a: ', self.__a)\n",
    "        print('b: ', self.b)\n",
    "    def setA(self, a):   # setter메서드: 외부에서 은닉변수값을 설정할 수 있도록 함\n",
    "        self.__a = a\n",
    "    def getA(self):      # getter메서드: 외부에서 읽을 수 있도록 return값이 필요\n",
    "        return self.__a\n",
    "def main():\n",
    "    t1 = Test()\n",
    "    t1.printData()\n",
    "    t1.setData(3,4)\n",
    "    t1.printData()\n",
    "    \n",
    "    t1.setA(100)\n",
    "    t1.b = 200\n",
    "    print('t1.a: ', t1.getA())\n",
    "    print('t1.b: ', t1.b)\n",
    "main()"
   ]
  },
  {
   "cell_type": "code",
   "execution_count": null,
   "id": "5a91b547",
   "metadata": {},
   "outputs": [],
   "source": []
  }
 ],
 "metadata": {
  "kernelspec": {
   "display_name": "Python 3 (ipykernel)",
   "language": "python",
   "name": "python3"
  },
  "language_info": {
   "codemirror_mode": {
    "name": "ipython",
    "version": 3
   },
   "file_extension": ".py",
   "mimetype": "text/x-python",
   "name": "python",
   "nbconvert_exporter": "python",
   "pygments_lexer": "ipython3",
   "version": "3.8.10"
  }
 },
 "nbformat": 4,
 "nbformat_minor": 5
}
