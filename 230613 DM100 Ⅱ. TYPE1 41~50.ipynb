{
 "cells": [
  {
   "cell_type": "code",
   "execution_count": 1,
   "id": "3e0fec29",
   "metadata": {},
   "outputs": [],
   "source": [
    "import pandas as pd\n",
    "import numpy as np\n",
    "import datetime as dt"
   ]
  },
  {
   "cell_type": "markdown",
   "id": "8f5baf02",
   "metadata": {},
   "source": [
    "## 전세계 행복도 지표 데이터"
   ]
  },
  {
   "cell_type": "code",
   "execution_count": 2,
   "id": "cb506b98",
   "metadata": {},
   "outputs": [
    {
     "data": {
      "text/html": [
       "<div>\n",
       "<style scoped>\n",
       "    .dataframe tbody tr th:only-of-type {\n",
       "        vertical-align: middle;\n",
       "    }\n",
       "\n",
       "    .dataframe tbody tr th {\n",
       "        vertical-align: top;\n",
       "    }\n",
       "\n",
       "    .dataframe thead th {\n",
       "        text-align: right;\n",
       "    }\n",
       "</style>\n",
       "<table border=\"1\" class=\"dataframe\">\n",
       "  <thead>\n",
       "    <tr style=\"text-align: right;\">\n",
       "      <th></th>\n",
       "      <th>행복랭킹</th>\n",
       "      <th>나라명</th>\n",
       "      <th>점수</th>\n",
       "      <th>상대GDP</th>\n",
       "      <th>사회적지원</th>\n",
       "      <th>행복기대치</th>\n",
       "      <th>선택의 자유도</th>\n",
       "      <th>관대함</th>\n",
       "      <th>부패에 대한인식</th>\n",
       "      <th>년도</th>\n",
       "    </tr>\n",
       "  </thead>\n",
       "  <tbody>\n",
       "    <tr>\n",
       "      <th>0</th>\n",
       "      <td>1</td>\n",
       "      <td>Finland</td>\n",
       "      <td>7.769</td>\n",
       "      <td>1.340</td>\n",
       "      <td>1.587</td>\n",
       "      <td>0.986</td>\n",
       "      <td>0.596</td>\n",
       "      <td>0.153</td>\n",
       "      <td>0.393</td>\n",
       "      <td>2019</td>\n",
       "    </tr>\n",
       "    <tr>\n",
       "      <th>1</th>\n",
       "      <td>2</td>\n",
       "      <td>Denmark</td>\n",
       "      <td>7.600</td>\n",
       "      <td>1.383</td>\n",
       "      <td>1.573</td>\n",
       "      <td>0.996</td>\n",
       "      <td>0.592</td>\n",
       "      <td>0.252</td>\n",
       "      <td>0.410</td>\n",
       "      <td>2019</td>\n",
       "    </tr>\n",
       "    <tr>\n",
       "      <th>2</th>\n",
       "      <td>3</td>\n",
       "      <td>Norway</td>\n",
       "      <td>7.554</td>\n",
       "      <td>1.488</td>\n",
       "      <td>1.582</td>\n",
       "      <td>1.028</td>\n",
       "      <td>0.603</td>\n",
       "      <td>0.271</td>\n",
       "      <td>0.341</td>\n",
       "      <td>2019</td>\n",
       "    </tr>\n",
       "    <tr>\n",
       "      <th>3</th>\n",
       "      <td>4</td>\n",
       "      <td>Iceland</td>\n",
       "      <td>7.494</td>\n",
       "      <td>1.380</td>\n",
       "      <td>1.624</td>\n",
       "      <td>1.026</td>\n",
       "      <td>0.591</td>\n",
       "      <td>0.354</td>\n",
       "      <td>0.118</td>\n",
       "      <td>2019</td>\n",
       "    </tr>\n",
       "    <tr>\n",
       "      <th>4</th>\n",
       "      <td>5</td>\n",
       "      <td>Netherlands</td>\n",
       "      <td>7.488</td>\n",
       "      <td>1.396</td>\n",
       "      <td>1.522</td>\n",
       "      <td>0.999</td>\n",
       "      <td>0.557</td>\n",
       "      <td>0.322</td>\n",
       "      <td>0.298</td>\n",
       "      <td>2019</td>\n",
       "    </tr>\n",
       "  </tbody>\n",
       "</table>\n",
       "</div>"
      ],
      "text/plain": [
       "   행복랭킹          나라명     점수  상대GDP  사회적지원  행복기대치  선택의 자유도    관대함  부패에 대한인식   \n",
       "0     1      Finland  7.769  1.340  1.587  0.986    0.596  0.153     0.393  \\\n",
       "1     2      Denmark  7.600  1.383  1.573  0.996    0.592  0.252     0.410   \n",
       "2     3       Norway  7.554  1.488  1.582  1.028    0.603  0.271     0.341   \n",
       "3     4      Iceland  7.494  1.380  1.624  1.026    0.591  0.354     0.118   \n",
       "4     5  Netherlands  7.488  1.396  1.522  0.999    0.557  0.322     0.298   \n",
       "\n",
       "     년도  \n",
       "0  2019  \n",
       "1  2019  \n",
       "2  2019  \n",
       "3  2019  \n",
       "4  2019  "
      ]
     },
     "execution_count": 2,
     "metadata": {},
     "output_type": "execute_result"
    }
   ],
   "source": [
    "df =pd.read_csv('https://raw.githubusercontent.com/Datamanim/datarepo/main/happy2/happiness.csv',encoding='utf-8')\n",
    "df.head()"
   ]
  },
  {
   "cell_type": "markdown",
   "id": "0fe8a0f9",
   "metadata": {},
   "source": [
    "Q41. 데이터는 2018년도와 2019년도의 전세계 행복 지수를 표현한다. 각년도의 행복랭킹 10위를 차지한 나라의 행복점수의 평균을 구하여라"
   ]
  },
  {
   "cell_type": "code",
   "execution_count": 3,
   "id": "72f33602",
   "metadata": {},
   "outputs": [
    {
     "name": "stdout",
     "output_type": "stream",
     "text": [
      "<class 'pandas.core.frame.DataFrame'>\n",
      "RangeIndex: 312 entries, 0 to 311\n",
      "Data columns (total 10 columns):\n",
      " #   Column    Non-Null Count  Dtype  \n",
      "---  ------    --------------  -----  \n",
      " 0   행복랭킹      312 non-null    int64  \n",
      " 1   나라명       312 non-null    object \n",
      " 2   점수        312 non-null    float64\n",
      " 3   상대GDP     312 non-null    float64\n",
      " 4   사회적지원     312 non-null    float64\n",
      " 5   행복기대치     312 non-null    float64\n",
      " 6   선택의 자유도   312 non-null    float64\n",
      " 7   관대함       312 non-null    float64\n",
      " 8   부패에 대한인식  311 non-null    float64\n",
      " 9   년도        312 non-null    int64  \n",
      "dtypes: float64(7), int64(2), object(1)\n",
      "memory usage: 24.5+ KB\n"
     ]
    }
   ],
   "source": [
    "df.info()"
   ]
  },
  {
   "cell_type": "code",
   "execution_count": 8,
   "id": "e894365e",
   "metadata": {
    "scrolled": true
   },
   "outputs": [
    {
     "data": {
      "text/plain": [
       "7.259"
      ]
     },
     "execution_count": 8,
     "metadata": {},
     "output_type": "execute_result"
    }
   ],
   "source": [
    "df[df.행복랭킹 == 10].점수.mean()"
   ]
  },
  {
   "cell_type": "markdown",
   "id": "f07f23d2",
   "metadata": {},
   "source": [
    "Q42. 데이터는 2018년도와 2019년도의 전세계 행복 지수를 표현한다. 각년도의 행복랭킹 50위이내의 나라들의 각각의 행복점수 평균을 데이터프레임으로 표시하라"
   ]
  },
  {
   "cell_type": "code",
   "execution_count": 26,
   "id": "b609e0f4",
   "metadata": {
    "scrolled": true
   },
   "outputs": [
    {
     "data": {
      "text/plain": [
       "년도\n",
       "2018    6.64678\n",
       "2019    6.67002\n",
       "Name: 점수, dtype: float64"
      ]
     },
     "execution_count": 26,
     "metadata": {},
     "output_type": "execute_result"
    }
   ],
   "source": [
    "df[df.행복랭킹 <=50].groupby('년도')['점수'].mean()"
   ]
  },
  {
   "cell_type": "code",
   "execution_count": 27,
   "id": "e9db2422",
   "metadata": {},
   "outputs": [
    {
     "data": {
      "text/html": [
       "<div>\n",
       "<style scoped>\n",
       "    .dataframe tbody tr th:only-of-type {\n",
       "        vertical-align: middle;\n",
       "    }\n",
       "\n",
       "    .dataframe tbody tr th {\n",
       "        vertical-align: top;\n",
       "    }\n",
       "\n",
       "    .dataframe thead th {\n",
       "        text-align: right;\n",
       "    }\n",
       "</style>\n",
       "<table border=\"1\" class=\"dataframe\">\n",
       "  <thead>\n",
       "    <tr style=\"text-align: right;\">\n",
       "      <th></th>\n",
       "      <th>점수</th>\n",
       "    </tr>\n",
       "    <tr>\n",
       "      <th>년도</th>\n",
       "      <th></th>\n",
       "    </tr>\n",
       "  </thead>\n",
       "  <tbody>\n",
       "    <tr>\n",
       "      <th>2018</th>\n",
       "      <td>6.64678</td>\n",
       "    </tr>\n",
       "    <tr>\n",
       "      <th>2019</th>\n",
       "      <td>6.67002</td>\n",
       "    </tr>\n",
       "  </tbody>\n",
       "</table>\n",
       "</div>"
      ],
      "text/plain": [
       "           점수\n",
       "년도           \n",
       "2018  6.64678\n",
       "2019  6.67002"
      ]
     },
     "execution_count": 27,
     "metadata": {},
     "output_type": "execute_result"
    }
   ],
   "source": [
    "df[df.행복랭킹 <=50][['년도','점수']].groupby('년도').mean()"
   ]
  },
  {
   "cell_type": "markdown",
   "id": "02a94811",
   "metadata": {},
   "source": [
    "Q43. 2018년도 데이터들만 추출하여 행복점수와 부패에 대한 인식에 대한 상관계수를 구하여라"
   ]
  },
  {
   "cell_type": "code",
   "execution_count": 6,
   "id": "9be1c62a",
   "metadata": {},
   "outputs": [
    {
     "data": {
      "text/html": [
       "<div>\n",
       "<style scoped>\n",
       "    .dataframe tbody tr th:only-of-type {\n",
       "        vertical-align: middle;\n",
       "    }\n",
       "\n",
       "    .dataframe tbody tr th {\n",
       "        vertical-align: top;\n",
       "    }\n",
       "\n",
       "    .dataframe thead th {\n",
       "        text-align: right;\n",
       "    }\n",
       "</style>\n",
       "<table border=\"1\" class=\"dataframe\">\n",
       "  <thead>\n",
       "    <tr style=\"text-align: right;\">\n",
       "      <th></th>\n",
       "      <th>점수</th>\n",
       "      <th>부패에 대한인식</th>\n",
       "    </tr>\n",
       "  </thead>\n",
       "  <tbody>\n",
       "    <tr>\n",
       "      <th>점수</th>\n",
       "      <td>1.000000</td>\n",
       "      <td>0.405292</td>\n",
       "    </tr>\n",
       "    <tr>\n",
       "      <th>부패에 대한인식</th>\n",
       "      <td>0.405292</td>\n",
       "      <td>1.000000</td>\n",
       "    </tr>\n",
       "  </tbody>\n",
       "</table>\n",
       "</div>"
      ],
      "text/plain": [
       "                점수  부패에 대한인식\n",
       "점수        1.000000  0.405292\n",
       "부패에 대한인식  0.405292  1.000000"
      ]
     },
     "execution_count": 6,
     "metadata": {},
     "output_type": "execute_result"
    }
   ],
   "source": [
    "df[ df.년도 == 2018 ][['점수','부패에 대한인식']].corr()"
   ]
  },
  {
   "cell_type": "code",
   "execution_count": 5,
   "id": "824ae9a0",
   "metadata": {
    "scrolled": true
   },
   "outputs": [
    {
     "data": {
      "text/plain": [
       "0.40529152271510027"
      ]
     },
     "execution_count": 5,
     "metadata": {},
     "output_type": "execute_result"
    }
   ],
   "source": [
    "df[ df.년도 == 2018 ][['점수','부패에 대한인식']].corr().iloc[1,0]"
   ]
  },
  {
   "cell_type": "markdown",
   "id": "b951bdda",
   "metadata": {},
   "source": [
    "## Q44. 2018년도와 2019년도의 행복랭킹이 변화하지 않은 나라명의 수를 구하여라"
   ]
  },
  {
   "cell_type": "code",
   "execution_count": 62,
   "id": "1ca466fc",
   "metadata": {},
   "outputs": [
    {
     "data": {
      "text/plain": [
       "15"
      ]
     },
     "execution_count": 62,
     "metadata": {},
     "output_type": "execute_result"
    }
   ],
   "source": [
    "df[df.년도 == 2019][['나라명','행복랭킹']][df[df.년도 == 2019][['나라명','행복랭킹']].나라명 == df[df.년도 == 2018][['나라명','행복랭킹']].reset_index().나라명].나라명.nunique()"
   ]
  },
  {
   "cell_type": "code",
   "execution_count": 65,
   "id": "d3bdf122",
   "metadata": {
    "scrolled": true
   },
   "outputs": [
    {
     "data": {
      "text/plain": [
       "297"
      ]
     },
     "execution_count": 65,
     "metadata": {},
     "output_type": "execute_result"
    }
   ],
   "source": [
    "len(df[['행복랭킹','나라명']].drop_duplicates())"
   ]
  },
  {
   "cell_type": "code",
   "execution_count": 114,
   "id": "3540122c",
   "metadata": {},
   "outputs": [
    {
     "data": {
      "text/plain": [
       "15"
      ]
     },
     "execution_count": 114,
     "metadata": {},
     "output_type": "execute_result"
    }
   ],
   "source": [
    "len(df[['행복랭킹','나라명']]) - len(df[['행복랭킹','나라명']].drop_duplicates())"
   ]
  },
  {
   "cell_type": "code",
   "execution_count": 112,
   "id": "383999c0",
   "metadata": {},
   "outputs": [
    {
     "data": {
      "text/plain": [
       "15"
      ]
     },
     "execution_count": 112,
     "metadata": {},
     "output_type": "execute_result"
    }
   ],
   "source": [
    "( df.groupby(['행복랭킹','나라명']).size() == 2 ).sum()"
   ]
  },
  {
   "cell_type": "markdown",
   "id": "7865adca",
   "metadata": {},
   "source": [
    "### drop_duplicates\n",
    "- 년도 상관없이, 랭킹과 나라명이 동일한 데이터를 제거하고 전체 unique에서 빼줌"
   ]
  },
  {
   "cell_type": "markdown",
   "id": "0cfcae5e",
   "metadata": {},
   "source": [
    "## Q45. 2019년도 데이터들만 추출하여 각변수간 상관계수를 구하고 내림차순으로 정렬한 후 상위 5개를 데이터 프레임으로 출력하라. 컬럼명은 v1,v2,corr으로 표시하라"
   ]
  },
  {
   "cell_type": "code",
   "execution_count": 3,
   "id": "9602d39c",
   "metadata": {
    "scrolled": false
   },
   "outputs": [
    {
     "data": {
      "text/plain": [
       "Index(['행복랭킹', '나라명', '점수', '상대GDP', '사회적지원', '행복기대치', '선택의 자유도', '관대함',\n",
       "       '부패에 대한인식', '년도'],\n",
       "      dtype='object')"
      ]
     },
     "execution_count": 3,
     "metadata": {},
     "output_type": "execute_result"
    }
   ],
   "source": [
    "df.columns"
   ]
  },
  {
   "cell_type": "code",
   "execution_count": 10,
   "id": "983fa7a3",
   "metadata": {},
   "outputs": [
    {
     "data": {
      "text/html": [
       "<div>\n",
       "<style scoped>\n",
       "    .dataframe tbody tr th:only-of-type {\n",
       "        vertical-align: middle;\n",
       "    }\n",
       "\n",
       "    .dataframe tbody tr th {\n",
       "        vertical-align: top;\n",
       "    }\n",
       "\n",
       "    .dataframe thead th {\n",
       "        text-align: right;\n",
       "    }\n",
       "</style>\n",
       "<table border=\"1\" class=\"dataframe\">\n",
       "  <thead>\n",
       "    <tr style=\"text-align: right;\">\n",
       "      <th></th>\n",
       "      <th>행복랭킹</th>\n",
       "      <th>점수</th>\n",
       "      <th>상대GDP</th>\n",
       "      <th>사회적지원</th>\n",
       "      <th>행복기대치</th>\n",
       "      <th>선택의 자유도</th>\n",
       "      <th>관대함</th>\n",
       "      <th>부패에 대한인식</th>\n",
       "    </tr>\n",
       "  </thead>\n",
       "  <tbody>\n",
       "    <tr>\n",
       "      <th>0</th>\n",
       "      <td>1</td>\n",
       "      <td>7.769</td>\n",
       "      <td>1.340</td>\n",
       "      <td>1.587</td>\n",
       "      <td>0.986</td>\n",
       "      <td>0.596</td>\n",
       "      <td>0.153</td>\n",
       "      <td>0.393</td>\n",
       "    </tr>\n",
       "    <tr>\n",
       "      <th>1</th>\n",
       "      <td>2</td>\n",
       "      <td>7.600</td>\n",
       "      <td>1.383</td>\n",
       "      <td>1.573</td>\n",
       "      <td>0.996</td>\n",
       "      <td>0.592</td>\n",
       "      <td>0.252</td>\n",
       "      <td>0.410</td>\n",
       "    </tr>\n",
       "    <tr>\n",
       "      <th>2</th>\n",
       "      <td>3</td>\n",
       "      <td>7.554</td>\n",
       "      <td>1.488</td>\n",
       "      <td>1.582</td>\n",
       "      <td>1.028</td>\n",
       "      <td>0.603</td>\n",
       "      <td>0.271</td>\n",
       "      <td>0.341</td>\n",
       "    </tr>\n",
       "    <tr>\n",
       "      <th>3</th>\n",
       "      <td>4</td>\n",
       "      <td>7.494</td>\n",
       "      <td>1.380</td>\n",
       "      <td>1.624</td>\n",
       "      <td>1.026</td>\n",
       "      <td>0.591</td>\n",
       "      <td>0.354</td>\n",
       "      <td>0.118</td>\n",
       "    </tr>\n",
       "    <tr>\n",
       "      <th>4</th>\n",
       "      <td>5</td>\n",
       "      <td>7.488</td>\n",
       "      <td>1.396</td>\n",
       "      <td>1.522</td>\n",
       "      <td>0.999</td>\n",
       "      <td>0.557</td>\n",
       "      <td>0.322</td>\n",
       "      <td>0.298</td>\n",
       "    </tr>\n",
       "  </tbody>\n",
       "</table>\n",
       "</div>"
      ],
      "text/plain": [
       "   행복랭킹     점수  상대GDP  사회적지원  행복기대치  선택의 자유도    관대함  부패에 대한인식\n",
       "0     1  7.769  1.340  1.587  0.986    0.596  0.153     0.393\n",
       "1     2  7.600  1.383  1.573  0.996    0.592  0.252     0.410\n",
       "2     3  7.554  1.488  1.582  1.028    0.603  0.271     0.341\n",
       "3     4  7.494  1.380  1.624  1.026    0.591  0.354     0.118\n",
       "4     5  7.488  1.396  1.522  0.999    0.557  0.322     0.298"
      ]
     },
     "execution_count": 10,
     "metadata": {},
     "output_type": "execute_result"
    }
   ],
   "source": [
    "dataf = df.loc[ df.년도 == 2019, ['행복랭킹', '점수', '상대GDP', '사회적지원', '행복기대치', '선택의 자유도', '관대함',\n",
    "       '부패에 대한인식'] ]\n",
    "dataf.head()"
   ]
  },
  {
   "cell_type": "code",
   "execution_count": 29,
   "id": "56f00de8",
   "metadata": {
    "scrolled": true
   },
   "outputs": [
    {
     "data": {
      "text/html": [
       "<div>\n",
       "<style scoped>\n",
       "    .dataframe tbody tr th:only-of-type {\n",
       "        vertical-align: middle;\n",
       "    }\n",
       "\n",
       "    .dataframe tbody tr th {\n",
       "        vertical-align: top;\n",
       "    }\n",
       "\n",
       "    .dataframe thead th {\n",
       "        text-align: right;\n",
       "    }\n",
       "</style>\n",
       "<table border=\"1\" class=\"dataframe\">\n",
       "  <thead>\n",
       "    <tr style=\"text-align: right;\">\n",
       "      <th></th>\n",
       "      <th>행복랭킹</th>\n",
       "      <th>점수</th>\n",
       "      <th>상대GDP</th>\n",
       "      <th>사회적지원</th>\n",
       "      <th>행복기대치</th>\n",
       "      <th>선택의 자유도</th>\n",
       "      <th>관대함</th>\n",
       "      <th>부패에 대한인식</th>\n",
       "    </tr>\n",
       "  </thead>\n",
       "  <tbody>\n",
       "    <tr>\n",
       "      <th>행복랭킹</th>\n",
       "      <td>1.000000</td>\n",
       "      <td>-0.989096</td>\n",
       "      <td>-0.801947</td>\n",
       "      <td>-0.767465</td>\n",
       "      <td>-0.787411</td>\n",
       "      <td>-0.546606</td>\n",
       "      <td>-0.047993</td>\n",
       "      <td>-0.351959</td>\n",
       "    </tr>\n",
       "    <tr>\n",
       "      <th>점수</th>\n",
       "      <td>-0.989096</td>\n",
       "      <td>1.000000</td>\n",
       "      <td>0.793883</td>\n",
       "      <td>0.777058</td>\n",
       "      <td>0.779883</td>\n",
       "      <td>0.566742</td>\n",
       "      <td>0.075824</td>\n",
       "      <td>0.385613</td>\n",
       "    </tr>\n",
       "    <tr>\n",
       "      <th>상대GDP</th>\n",
       "      <td>-0.801947</td>\n",
       "      <td>0.793883</td>\n",
       "      <td>1.000000</td>\n",
       "      <td>0.754906</td>\n",
       "      <td>0.835462</td>\n",
       "      <td>0.379079</td>\n",
       "      <td>-0.079662</td>\n",
       "      <td>0.298920</td>\n",
       "    </tr>\n",
       "    <tr>\n",
       "      <th>사회적지원</th>\n",
       "      <td>-0.767465</td>\n",
       "      <td>0.777058</td>\n",
       "      <td>0.754906</td>\n",
       "      <td>1.000000</td>\n",
       "      <td>0.719009</td>\n",
       "      <td>0.447333</td>\n",
       "      <td>-0.048126</td>\n",
       "      <td>0.181899</td>\n",
       "    </tr>\n",
       "    <tr>\n",
       "      <th>행복기대치</th>\n",
       "      <td>-0.787411</td>\n",
       "      <td>0.779883</td>\n",
       "      <td>0.835462</td>\n",
       "      <td>0.719009</td>\n",
       "      <td>1.000000</td>\n",
       "      <td>0.390395</td>\n",
       "      <td>-0.029511</td>\n",
       "      <td>0.295283</td>\n",
       "    </tr>\n",
       "    <tr>\n",
       "      <th>선택의 자유도</th>\n",
       "      <td>-0.546606</td>\n",
       "      <td>0.566742</td>\n",
       "      <td>0.379079</td>\n",
       "      <td>0.447333</td>\n",
       "      <td>0.390395</td>\n",
       "      <td>1.000000</td>\n",
       "      <td>0.269742</td>\n",
       "      <td>0.438843</td>\n",
       "    </tr>\n",
       "    <tr>\n",
       "      <th>관대함</th>\n",
       "      <td>-0.047993</td>\n",
       "      <td>0.075824</td>\n",
       "      <td>-0.079662</td>\n",
       "      <td>-0.048126</td>\n",
       "      <td>-0.029511</td>\n",
       "      <td>0.269742</td>\n",
       "      <td>1.000000</td>\n",
       "      <td>0.326538</td>\n",
       "    </tr>\n",
       "    <tr>\n",
       "      <th>부패에 대한인식</th>\n",
       "      <td>-0.351959</td>\n",
       "      <td>0.385613</td>\n",
       "      <td>0.298920</td>\n",
       "      <td>0.181899</td>\n",
       "      <td>0.295283</td>\n",
       "      <td>0.438843</td>\n",
       "      <td>0.326538</td>\n",
       "      <td>1.000000</td>\n",
       "    </tr>\n",
       "  </tbody>\n",
       "</table>\n",
       "</div>"
      ],
      "text/plain": [
       "              행복랭킹        점수     상대GDP     사회적지원     행복기대치   선택의 자유도   \n",
       "행복랭킹      1.000000 -0.989096 -0.801947 -0.767465 -0.787411 -0.546606  \\\n",
       "점수       -0.989096  1.000000  0.793883  0.777058  0.779883  0.566742   \n",
       "상대GDP    -0.801947  0.793883  1.000000  0.754906  0.835462  0.379079   \n",
       "사회적지원    -0.767465  0.777058  0.754906  1.000000  0.719009  0.447333   \n",
       "행복기대치    -0.787411  0.779883  0.835462  0.719009  1.000000  0.390395   \n",
       "선택의 자유도  -0.546606  0.566742  0.379079  0.447333  0.390395  1.000000   \n",
       "관대함      -0.047993  0.075824 -0.079662 -0.048126 -0.029511  0.269742   \n",
       "부패에 대한인식 -0.351959  0.385613  0.298920  0.181899  0.295283  0.438843   \n",
       "\n",
       "               관대함  부패에 대한인식  \n",
       "행복랭킹     -0.047993 -0.351959  \n",
       "점수        0.075824  0.385613  \n",
       "상대GDP    -0.079662  0.298920  \n",
       "사회적지원    -0.048126  0.181899  \n",
       "행복기대치    -0.029511  0.295283  \n",
       "선택의 자유도   0.269742  0.438843  \n",
       "관대함       1.000000  0.326538  \n",
       "부패에 대한인식  0.326538  1.000000  "
      ]
     },
     "execution_count": 29,
     "metadata": {},
     "output_type": "execute_result"
    }
   ],
   "source": [
    "cor = dataf.corr()\n",
    "cor"
   ]
  },
  {
   "cell_type": "code",
   "execution_count": 19,
   "id": "ab999217",
   "metadata": {},
   "outputs": [
    {
     "data": {
      "text/html": [
       "<div>\n",
       "<style scoped>\n",
       "    .dataframe tbody tr th:only-of-type {\n",
       "        vertical-align: middle;\n",
       "    }\n",
       "\n",
       "    .dataframe tbody tr th {\n",
       "        vertical-align: top;\n",
       "    }\n",
       "\n",
       "    .dataframe thead th {\n",
       "        text-align: right;\n",
       "    }\n",
       "</style>\n",
       "<table border=\"1\" class=\"dataframe\">\n",
       "  <thead>\n",
       "    <tr style=\"text-align: right;\">\n",
       "      <th></th>\n",
       "      <th>level_0</th>\n",
       "      <th>level_1</th>\n",
       "      <th>corr</th>\n",
       "    </tr>\n",
       "  </thead>\n",
       "  <tbody>\n",
       "    <tr>\n",
       "      <th>0</th>\n",
       "      <td>행복랭킹</td>\n",
       "      <td>행복랭킹</td>\n",
       "      <td>1.000000</td>\n",
       "    </tr>\n",
       "    <tr>\n",
       "      <th>1</th>\n",
       "      <td>행복랭킹</td>\n",
       "      <td>점수</td>\n",
       "      <td>-0.989096</td>\n",
       "    </tr>\n",
       "    <tr>\n",
       "      <th>2</th>\n",
       "      <td>행복랭킹</td>\n",
       "      <td>상대GDP</td>\n",
       "      <td>-0.801947</td>\n",
       "    </tr>\n",
       "    <tr>\n",
       "      <th>3</th>\n",
       "      <td>행복랭킹</td>\n",
       "      <td>사회적지원</td>\n",
       "      <td>-0.767465</td>\n",
       "    </tr>\n",
       "    <tr>\n",
       "      <th>4</th>\n",
       "      <td>행복랭킹</td>\n",
       "      <td>행복기대치</td>\n",
       "      <td>-0.787411</td>\n",
       "    </tr>\n",
       "  </tbody>\n",
       "</table>\n",
       "</div>"
      ],
      "text/plain": [
       "  level_0 level_1      corr\n",
       "0    행복랭킹    행복랭킹  1.000000\n",
       "1    행복랭킹      점수 -0.989096\n",
       "2    행복랭킹   상대GDP -0.801947\n",
       "3    행복랭킹   사회적지원 -0.767465\n",
       "4    행복랭킹   행복기대치 -0.787411"
      ]
     },
     "execution_count": 19,
     "metadata": {},
     "output_type": "execute_result"
    }
   ],
   "source": [
    "datas = dataf.corr().unstack().to_frame('corr').reset_index()\n",
    "datas.head()"
   ]
  },
  {
   "cell_type": "code",
   "execution_count": 28,
   "id": "9e5a76c2",
   "metadata": {
    "scrolled": true
   },
   "outputs": [
    {
     "data": {
      "text/html": [
       "<div>\n",
       "<style scoped>\n",
       "    .dataframe tbody tr th:only-of-type {\n",
       "        vertical-align: middle;\n",
       "    }\n",
       "\n",
       "    .dataframe tbody tr th {\n",
       "        vertical-align: top;\n",
       "    }\n",
       "\n",
       "    .dataframe thead th {\n",
       "        text-align: right;\n",
       "    }\n",
       "</style>\n",
       "<table border=\"1\" class=\"dataframe\">\n",
       "  <thead>\n",
       "    <tr style=\"text-align: right;\">\n",
       "      <th></th>\n",
       "      <th>v1</th>\n",
       "      <th>v2</th>\n",
       "      <th>corr</th>\n",
       "    </tr>\n",
       "  </thead>\n",
       "  <tbody>\n",
       "    <tr>\n",
       "      <th>0</th>\n",
       "      <td>행복기대치</td>\n",
       "      <td>상대GDP</td>\n",
       "      <td>0.835462</td>\n",
       "    </tr>\n",
       "    <tr>\n",
       "      <th>1</th>\n",
       "      <td>상대GDP</td>\n",
       "      <td>점수</td>\n",
       "      <td>0.793883</td>\n",
       "    </tr>\n",
       "    <tr>\n",
       "      <th>2</th>\n",
       "      <td>행복기대치</td>\n",
       "      <td>점수</td>\n",
       "      <td>0.779883</td>\n",
       "    </tr>\n",
       "    <tr>\n",
       "      <th>3</th>\n",
       "      <td>사회적지원</td>\n",
       "      <td>점수</td>\n",
       "      <td>0.777058</td>\n",
       "    </tr>\n",
       "    <tr>\n",
       "      <th>4</th>\n",
       "      <td>사회적지원</td>\n",
       "      <td>상대GDP</td>\n",
       "      <td>0.754906</td>\n",
       "    </tr>\n",
       "  </tbody>\n",
       "</table>\n",
       "</div>"
      ],
      "text/plain": [
       "      v1     v2      corr\n",
       "0  행복기대치  상대GDP  0.835462\n",
       "1  상대GDP     점수  0.793883\n",
       "2  행복기대치     점수  0.779883\n",
       "3  사회적지원     점수  0.777058\n",
       "4  사회적지원  상대GDP  0.754906"
      ]
     },
     "execution_count": 28,
     "metadata": {},
     "output_type": "execute_result"
    }
   ],
   "source": [
    "ans = datas [datas['corr'] != 1].sort_values('corr',ascending = False).drop_duplicates('corr').head().reset_index(drop=True)\n",
    "ans.columns = ['v1','v2','corr']\n",
    "ans"
   ]
  },
  {
   "cell_type": "markdown",
   "id": "63c33c79",
   "metadata": {},
   "source": [
    "## SET"
   ]
  },
  {
   "cell_type": "code",
   "execution_count": 35,
   "id": "c5f795f5",
   "metadata": {
    "scrolled": true
   },
   "outputs": [
    {
     "data": {
      "text/html": [
       "<div>\n",
       "<style scoped>\n",
       "    .dataframe tbody tr th:only-of-type {\n",
       "        vertical-align: middle;\n",
       "    }\n",
       "\n",
       "    .dataframe tbody tr th {\n",
       "        vertical-align: top;\n",
       "    }\n",
       "\n",
       "    .dataframe thead th {\n",
       "        text-align: right;\n",
       "    }\n",
       "</style>\n",
       "<table border=\"1\" class=\"dataframe\">\n",
       "  <thead>\n",
       "    <tr style=\"text-align: right;\">\n",
       "      <th></th>\n",
       "      <th>level_0</th>\n",
       "      <th>level_1</th>\n",
       "    </tr>\n",
       "  </thead>\n",
       "  <tbody>\n",
       "    <tr>\n",
       "      <th>1</th>\n",
       "      <td>행복랭킹</td>\n",
       "      <td>점수</td>\n",
       "    </tr>\n",
       "    <tr>\n",
       "      <th>2</th>\n",
       "      <td>행복랭킹</td>\n",
       "      <td>상대GDP</td>\n",
       "    </tr>\n",
       "    <tr>\n",
       "      <th>3</th>\n",
       "      <td>행복랭킹</td>\n",
       "      <td>사회적지원</td>\n",
       "    </tr>\n",
       "    <tr>\n",
       "      <th>4</th>\n",
       "      <td>행복랭킹</td>\n",
       "      <td>행복기대치</td>\n",
       "    </tr>\n",
       "    <tr>\n",
       "      <th>5</th>\n",
       "      <td>행복랭킹</td>\n",
       "      <td>선택의 자유도</td>\n",
       "    </tr>\n",
       "    <tr>\n",
       "      <th>6</th>\n",
       "      <td>행복랭킹</td>\n",
       "      <td>관대함</td>\n",
       "    </tr>\n",
       "    <tr>\n",
       "      <th>7</th>\n",
       "      <td>행복랭킹</td>\n",
       "      <td>부패에 대한인식</td>\n",
       "    </tr>\n",
       "    <tr>\n",
       "      <th>8</th>\n",
       "      <td>점수</td>\n",
       "      <td>행복랭킹</td>\n",
       "    </tr>\n",
       "    <tr>\n",
       "      <th>10</th>\n",
       "      <td>점수</td>\n",
       "      <td>상대GDP</td>\n",
       "    </tr>\n",
       "    <tr>\n",
       "      <th>11</th>\n",
       "      <td>점수</td>\n",
       "      <td>사회적지원</td>\n",
       "    </tr>\n",
       "    <tr>\n",
       "      <th>12</th>\n",
       "      <td>점수</td>\n",
       "      <td>행복기대치</td>\n",
       "    </tr>\n",
       "    <tr>\n",
       "      <th>13</th>\n",
       "      <td>점수</td>\n",
       "      <td>선택의 자유도</td>\n",
       "    </tr>\n",
       "    <tr>\n",
       "      <th>14</th>\n",
       "      <td>점수</td>\n",
       "      <td>관대함</td>\n",
       "    </tr>\n",
       "    <tr>\n",
       "      <th>15</th>\n",
       "      <td>점수</td>\n",
       "      <td>부패에 대한인식</td>\n",
       "    </tr>\n",
       "    <tr>\n",
       "      <th>16</th>\n",
       "      <td>상대GDP</td>\n",
       "      <td>행복랭킹</td>\n",
       "    </tr>\n",
       "    <tr>\n",
       "      <th>17</th>\n",
       "      <td>상대GDP</td>\n",
       "      <td>점수</td>\n",
       "    </tr>\n",
       "    <tr>\n",
       "      <th>19</th>\n",
       "      <td>상대GDP</td>\n",
       "      <td>사회적지원</td>\n",
       "    </tr>\n",
       "    <tr>\n",
       "      <th>20</th>\n",
       "      <td>상대GDP</td>\n",
       "      <td>행복기대치</td>\n",
       "    </tr>\n",
       "    <tr>\n",
       "      <th>21</th>\n",
       "      <td>상대GDP</td>\n",
       "      <td>선택의 자유도</td>\n",
       "    </tr>\n",
       "    <tr>\n",
       "      <th>22</th>\n",
       "      <td>상대GDP</td>\n",
       "      <td>관대함</td>\n",
       "    </tr>\n",
       "    <tr>\n",
       "      <th>23</th>\n",
       "      <td>상대GDP</td>\n",
       "      <td>부패에 대한인식</td>\n",
       "    </tr>\n",
       "    <tr>\n",
       "      <th>24</th>\n",
       "      <td>사회적지원</td>\n",
       "      <td>행복랭킹</td>\n",
       "    </tr>\n",
       "    <tr>\n",
       "      <th>25</th>\n",
       "      <td>사회적지원</td>\n",
       "      <td>점수</td>\n",
       "    </tr>\n",
       "    <tr>\n",
       "      <th>26</th>\n",
       "      <td>사회적지원</td>\n",
       "      <td>상대GDP</td>\n",
       "    </tr>\n",
       "    <tr>\n",
       "      <th>28</th>\n",
       "      <td>사회적지원</td>\n",
       "      <td>행복기대치</td>\n",
       "    </tr>\n",
       "    <tr>\n",
       "      <th>29</th>\n",
       "      <td>사회적지원</td>\n",
       "      <td>선택의 자유도</td>\n",
       "    </tr>\n",
       "    <tr>\n",
       "      <th>30</th>\n",
       "      <td>사회적지원</td>\n",
       "      <td>관대함</td>\n",
       "    </tr>\n",
       "    <tr>\n",
       "      <th>31</th>\n",
       "      <td>사회적지원</td>\n",
       "      <td>부패에 대한인식</td>\n",
       "    </tr>\n",
       "    <tr>\n",
       "      <th>32</th>\n",
       "      <td>행복기대치</td>\n",
       "      <td>행복랭킹</td>\n",
       "    </tr>\n",
       "    <tr>\n",
       "      <th>33</th>\n",
       "      <td>행복기대치</td>\n",
       "      <td>점수</td>\n",
       "    </tr>\n",
       "    <tr>\n",
       "      <th>34</th>\n",
       "      <td>행복기대치</td>\n",
       "      <td>상대GDP</td>\n",
       "    </tr>\n",
       "    <tr>\n",
       "      <th>35</th>\n",
       "      <td>행복기대치</td>\n",
       "      <td>사회적지원</td>\n",
       "    </tr>\n",
       "    <tr>\n",
       "      <th>37</th>\n",
       "      <td>행복기대치</td>\n",
       "      <td>선택의 자유도</td>\n",
       "    </tr>\n",
       "    <tr>\n",
       "      <th>38</th>\n",
       "      <td>행복기대치</td>\n",
       "      <td>관대함</td>\n",
       "    </tr>\n",
       "    <tr>\n",
       "      <th>39</th>\n",
       "      <td>행복기대치</td>\n",
       "      <td>부패에 대한인식</td>\n",
       "    </tr>\n",
       "    <tr>\n",
       "      <th>40</th>\n",
       "      <td>선택의 자유도</td>\n",
       "      <td>행복랭킹</td>\n",
       "    </tr>\n",
       "    <tr>\n",
       "      <th>41</th>\n",
       "      <td>선택의 자유도</td>\n",
       "      <td>점수</td>\n",
       "    </tr>\n",
       "    <tr>\n",
       "      <th>42</th>\n",
       "      <td>선택의 자유도</td>\n",
       "      <td>상대GDP</td>\n",
       "    </tr>\n",
       "    <tr>\n",
       "      <th>43</th>\n",
       "      <td>선택의 자유도</td>\n",
       "      <td>사회적지원</td>\n",
       "    </tr>\n",
       "    <tr>\n",
       "      <th>44</th>\n",
       "      <td>선택의 자유도</td>\n",
       "      <td>행복기대치</td>\n",
       "    </tr>\n",
       "    <tr>\n",
       "      <th>46</th>\n",
       "      <td>선택의 자유도</td>\n",
       "      <td>관대함</td>\n",
       "    </tr>\n",
       "    <tr>\n",
       "      <th>47</th>\n",
       "      <td>선택의 자유도</td>\n",
       "      <td>부패에 대한인식</td>\n",
       "    </tr>\n",
       "    <tr>\n",
       "      <th>48</th>\n",
       "      <td>관대함</td>\n",
       "      <td>행복랭킹</td>\n",
       "    </tr>\n",
       "    <tr>\n",
       "      <th>49</th>\n",
       "      <td>관대함</td>\n",
       "      <td>점수</td>\n",
       "    </tr>\n",
       "    <tr>\n",
       "      <th>50</th>\n",
       "      <td>관대함</td>\n",
       "      <td>상대GDP</td>\n",
       "    </tr>\n",
       "    <tr>\n",
       "      <th>51</th>\n",
       "      <td>관대함</td>\n",
       "      <td>사회적지원</td>\n",
       "    </tr>\n",
       "    <tr>\n",
       "      <th>52</th>\n",
       "      <td>관대함</td>\n",
       "      <td>행복기대치</td>\n",
       "    </tr>\n",
       "    <tr>\n",
       "      <th>53</th>\n",
       "      <td>관대함</td>\n",
       "      <td>선택의 자유도</td>\n",
       "    </tr>\n",
       "    <tr>\n",
       "      <th>55</th>\n",
       "      <td>관대함</td>\n",
       "      <td>부패에 대한인식</td>\n",
       "    </tr>\n",
       "    <tr>\n",
       "      <th>56</th>\n",
       "      <td>부패에 대한인식</td>\n",
       "      <td>행복랭킹</td>\n",
       "    </tr>\n",
       "    <tr>\n",
       "      <th>57</th>\n",
       "      <td>부패에 대한인식</td>\n",
       "      <td>점수</td>\n",
       "    </tr>\n",
       "    <tr>\n",
       "      <th>58</th>\n",
       "      <td>부패에 대한인식</td>\n",
       "      <td>상대GDP</td>\n",
       "    </tr>\n",
       "    <tr>\n",
       "      <th>59</th>\n",
       "      <td>부패에 대한인식</td>\n",
       "      <td>사회적지원</td>\n",
       "    </tr>\n",
       "    <tr>\n",
       "      <th>60</th>\n",
       "      <td>부패에 대한인식</td>\n",
       "      <td>행복기대치</td>\n",
       "    </tr>\n",
       "    <tr>\n",
       "      <th>61</th>\n",
       "      <td>부패에 대한인식</td>\n",
       "      <td>선택의 자유도</td>\n",
       "    </tr>\n",
       "    <tr>\n",
       "      <th>62</th>\n",
       "      <td>부패에 대한인식</td>\n",
       "      <td>관대함</td>\n",
       "    </tr>\n",
       "  </tbody>\n",
       "</table>\n",
       "</div>"
      ],
      "text/plain": [
       "     level_0   level_1\n",
       "1       행복랭킹        점수\n",
       "2       행복랭킹     상대GDP\n",
       "3       행복랭킹     사회적지원\n",
       "4       행복랭킹     행복기대치\n",
       "5       행복랭킹   선택의 자유도\n",
       "6       행복랭킹       관대함\n",
       "7       행복랭킹  부패에 대한인식\n",
       "8         점수      행복랭킹\n",
       "10        점수     상대GDP\n",
       "11        점수     사회적지원\n",
       "12        점수     행복기대치\n",
       "13        점수   선택의 자유도\n",
       "14        점수       관대함\n",
       "15        점수  부패에 대한인식\n",
       "16     상대GDP      행복랭킹\n",
       "17     상대GDP        점수\n",
       "19     상대GDP     사회적지원\n",
       "20     상대GDP     행복기대치\n",
       "21     상대GDP   선택의 자유도\n",
       "22     상대GDP       관대함\n",
       "23     상대GDP  부패에 대한인식\n",
       "24     사회적지원      행복랭킹\n",
       "25     사회적지원        점수\n",
       "26     사회적지원     상대GDP\n",
       "28     사회적지원     행복기대치\n",
       "29     사회적지원   선택의 자유도\n",
       "30     사회적지원       관대함\n",
       "31     사회적지원  부패에 대한인식\n",
       "32     행복기대치      행복랭킹\n",
       "33     행복기대치        점수\n",
       "34     행복기대치     상대GDP\n",
       "35     행복기대치     사회적지원\n",
       "37     행복기대치   선택의 자유도\n",
       "38     행복기대치       관대함\n",
       "39     행복기대치  부패에 대한인식\n",
       "40   선택의 자유도      행복랭킹\n",
       "41   선택의 자유도        점수\n",
       "42   선택의 자유도     상대GDP\n",
       "43   선택의 자유도     사회적지원\n",
       "44   선택의 자유도     행복기대치\n",
       "46   선택의 자유도       관대함\n",
       "47   선택의 자유도  부패에 대한인식\n",
       "48       관대함      행복랭킹\n",
       "49       관대함        점수\n",
       "50       관대함     상대GDP\n",
       "51       관대함     사회적지원\n",
       "52       관대함     행복기대치\n",
       "53       관대함   선택의 자유도\n",
       "55       관대함  부패에 대한인식\n",
       "56  부패에 대한인식      행복랭킹\n",
       "57  부패에 대한인식        점수\n",
       "58  부패에 대한인식     상대GDP\n",
       "59  부패에 대한인식     사회적지원\n",
       "60  부패에 대한인식     행복기대치\n",
       "61  부패에 대한인식   선택의 자유도\n",
       "62  부패에 대한인식       관대함"
      ]
     },
     "execution_count": 35,
     "metadata": {},
     "output_type": "execute_result"
    }
   ],
   "source": [
    "datas [datas['corr'] != 1][['level_0','level_1']]"
   ]
  },
  {
   "cell_type": "markdown",
   "id": "7d7a4ee5",
   "metadata": {},
   "source": [
    "Q46. 각 년도별 하위 행복점수의 하위 5개 국가의 평균 행복점수를 구하여라"
   ]
  },
  {
   "cell_type": "code",
   "execution_count": 36,
   "id": "730ca8cf",
   "metadata": {},
   "outputs": [
    {
     "data": {
      "text/html": [
       "<div>\n",
       "<style scoped>\n",
       "    .dataframe tbody tr th:only-of-type {\n",
       "        vertical-align: middle;\n",
       "    }\n",
       "\n",
       "    .dataframe tbody tr th {\n",
       "        vertical-align: top;\n",
       "    }\n",
       "\n",
       "    .dataframe thead th {\n",
       "        text-align: right;\n",
       "    }\n",
       "</style>\n",
       "<table border=\"1\" class=\"dataframe\">\n",
       "  <thead>\n",
       "    <tr style=\"text-align: right;\">\n",
       "      <th></th>\n",
       "      <th>행복랭킹</th>\n",
       "      <th>나라명</th>\n",
       "      <th>점수</th>\n",
       "      <th>상대GDP</th>\n",
       "      <th>사회적지원</th>\n",
       "      <th>행복기대치</th>\n",
       "      <th>선택의 자유도</th>\n",
       "      <th>관대함</th>\n",
       "      <th>부패에 대한인식</th>\n",
       "      <th>년도</th>\n",
       "    </tr>\n",
       "  </thead>\n",
       "  <tbody>\n",
       "    <tr>\n",
       "      <th>0</th>\n",
       "      <td>1</td>\n",
       "      <td>Finland</td>\n",
       "      <td>7.769</td>\n",
       "      <td>1.340</td>\n",
       "      <td>1.587</td>\n",
       "      <td>0.986</td>\n",
       "      <td>0.596</td>\n",
       "      <td>0.153</td>\n",
       "      <td>0.393</td>\n",
       "      <td>2019</td>\n",
       "    </tr>\n",
       "    <tr>\n",
       "      <th>1</th>\n",
       "      <td>2</td>\n",
       "      <td>Denmark</td>\n",
       "      <td>7.600</td>\n",
       "      <td>1.383</td>\n",
       "      <td>1.573</td>\n",
       "      <td>0.996</td>\n",
       "      <td>0.592</td>\n",
       "      <td>0.252</td>\n",
       "      <td>0.410</td>\n",
       "      <td>2019</td>\n",
       "    </tr>\n",
       "    <tr>\n",
       "      <th>2</th>\n",
       "      <td>3</td>\n",
       "      <td>Norway</td>\n",
       "      <td>7.554</td>\n",
       "      <td>1.488</td>\n",
       "      <td>1.582</td>\n",
       "      <td>1.028</td>\n",
       "      <td>0.603</td>\n",
       "      <td>0.271</td>\n",
       "      <td>0.341</td>\n",
       "      <td>2019</td>\n",
       "    </tr>\n",
       "  </tbody>\n",
       "</table>\n",
       "</div>"
      ],
      "text/plain": [
       "   행복랭킹      나라명     점수  상대GDP  사회적지원  행복기대치  선택의 자유도    관대함  부패에 대한인식    년도\n",
       "0     1  Finland  7.769  1.340  1.587  0.986    0.596  0.153     0.393  2019\n",
       "1     2  Denmark  7.600  1.383  1.573  0.996    0.592  0.252     0.410  2019\n",
       "2     3   Norway  7.554  1.488  1.582  1.028    0.603  0.271     0.341  2019"
      ]
     },
     "execution_count": 36,
     "metadata": {},
     "output_type": "execute_result"
    }
   ],
   "source": [
    "df.head(3)"
   ]
  },
  {
   "cell_type": "code",
   "execution_count": 60,
   "id": "9a97e1ab",
   "metadata": {
    "scrolled": true
   },
   "outputs": [
    {
     "data": {
      "text/html": [
       "<div>\n",
       "<style scoped>\n",
       "    .dataframe tbody tr th:only-of-type {\n",
       "        vertical-align: middle;\n",
       "    }\n",
       "\n",
       "    .dataframe tbody tr th {\n",
       "        vertical-align: top;\n",
       "    }\n",
       "\n",
       "    .dataframe thead th {\n",
       "        text-align: right;\n",
       "    }\n",
       "</style>\n",
       "<table border=\"1\" class=\"dataframe\">\n",
       "  <thead>\n",
       "    <tr style=\"text-align: right;\">\n",
       "      <th></th>\n",
       "      <th>점수</th>\n",
       "    </tr>\n",
       "    <tr>\n",
       "      <th>년도</th>\n",
       "      <th></th>\n",
       "    </tr>\n",
       "  </thead>\n",
       "  <tbody>\n",
       "    <tr>\n",
       "      <th>2018</th>\n",
       "      <td>3.1800</td>\n",
       "    </tr>\n",
       "    <tr>\n",
       "      <th>2019</th>\n",
       "      <td>3.1408</td>\n",
       "    </tr>\n",
       "  </tbody>\n",
       "</table>\n",
       "</div>"
      ],
      "text/plain": [
       "          점수\n",
       "년도          \n",
       "2018  3.1800\n",
       "2019  3.1408"
      ]
     },
     "execution_count": 60,
     "metadata": {},
     "output_type": "execute_result"
    }
   ],
   "source": [
    "df.sort_values(['년도','점수']).groupby('년도').head()[['년도','점수']].groupby('년도').mean()"
   ]
  },
  {
   "cell_type": "markdown",
   "id": "875bf5bd",
   "metadata": {},
   "source": [
    "Q47. 2019년 데이터를 추출하고 해당데이터의 상대 GDP 평균 이상의 나라들과 평균 이하의 나라들의 행복점수 평균을 각각 구하고 그 차이값을 출력하라"
   ]
  },
  {
   "cell_type": "code",
   "execution_count": 69,
   "id": "b2308b49",
   "metadata": {},
   "outputs": [
    {
     "data": {
      "text/plain": [
       "6.0132045454545455"
      ]
     },
     "execution_count": 69,
     "metadata": {},
     "output_type": "execute_result"
    }
   ],
   "source": [
    "df[df.년도 == 2019][df[df.년도 == 2019].상대GDP>=df[df.년도 == 2019].상대GDP.mean()].점수.mean()"
   ]
  },
  {
   "cell_type": "code",
   "execution_count": 70,
   "id": "7bc0f936",
   "metadata": {},
   "outputs": [
    {
     "data": {
      "text/plain": [
       "4.622720588235294"
      ]
     },
     "execution_count": 70,
     "metadata": {},
     "output_type": "execute_result"
    }
   ],
   "source": [
    "df[df.년도 == 2019][df[df.년도 == 2019].상대GDP<=df[df.년도 == 2019].상대GDP.mean()].점수.mean()"
   ]
  },
  {
   "cell_type": "code",
   "execution_count": 71,
   "id": "704ef63f",
   "metadata": {},
   "outputs": [
    {
     "data": {
      "text/plain": [
       "1.390483957219251"
      ]
     },
     "execution_count": 71,
     "metadata": {},
     "output_type": "execute_result"
    }
   ],
   "source": [
    "df[df.년도 == 2019][df[df.년도 == 2019].상대GDP>=df[df.년도 == 2019].상대GDP.mean()].점수.mean() - df[df.년도 == 2019][df[df.년도 == 2019].상대GDP<=df[df.년도 == 2019].상대GDP.mean()].점수.mean()"
   ]
  },
  {
   "cell_type": "markdown",
   "id": "4221a574",
   "metadata": {},
   "source": [
    "Q48. 각년도의 부패에 대한인식을 내림차순 정렬했을때 상위 20개 국가의 부패에 대한인식의 평균을 구하여라"
   ]
  },
  {
   "cell_type": "code",
   "execution_count": 82,
   "id": "237654f8",
   "metadata": {},
   "outputs": [
    {
     "data": {
      "text/html": [
       "<div>\n",
       "<style scoped>\n",
       "    .dataframe tbody tr th:only-of-type {\n",
       "        vertical-align: middle;\n",
       "    }\n",
       "\n",
       "    .dataframe tbody tr th {\n",
       "        vertical-align: top;\n",
       "    }\n",
       "\n",
       "    .dataframe thead th {\n",
       "        text-align: right;\n",
       "    }\n",
       "</style>\n",
       "<table border=\"1\" class=\"dataframe\">\n",
       "  <thead>\n",
       "    <tr style=\"text-align: right;\">\n",
       "      <th></th>\n",
       "      <th>부패에 대한인식</th>\n",
       "    </tr>\n",
       "    <tr>\n",
       "      <th>년도</th>\n",
       "      <th></th>\n",
       "    </tr>\n",
       "  </thead>\n",
       "  <tbody>\n",
       "    <tr>\n",
       "      <th>2018</th>\n",
       "      <td>0.3267</td>\n",
       "    </tr>\n",
       "    <tr>\n",
       "      <th>2019</th>\n",
       "      <td>0.3201</td>\n",
       "    </tr>\n",
       "  </tbody>\n",
       "</table>\n",
       "</div>"
      ],
      "text/plain": [
       "      부패에 대한인식\n",
       "년도            \n",
       "2018    0.3267\n",
       "2019    0.3201"
      ]
     },
     "execution_count": 82,
     "metadata": {},
     "output_type": "execute_result"
    }
   ],
   "source": [
    "df.sort_values(['년도','부패에 대한인식'], ascending = False).groupby('년도').head(20)[['년도','부패에 대한인식']].groupby('년도').mean()"
   ]
  },
  {
   "cell_type": "markdown",
   "id": "be09a3d1",
   "metadata": {},
   "source": [
    "## Q49. 2018년도 행복랭킹 50위 이내에 포함됐다가 2019년 50위 밖으로 밀려난 국가의 숫자를 구하여라"
   ]
  },
  {
   "cell_type": "code",
   "execution_count": 87,
   "id": "cef5a6df",
   "metadata": {},
   "outputs": [
    {
     "data": {
      "text/plain": [
       "{'Belize', 'Kuwait', 'Malaysia', 'Thailand'}"
      ]
     },
     "execution_count": 87,
     "metadata": {},
     "output_type": "execute_result"
    }
   ],
   "source": [
    "set(df[df.년도 == 2018][df[df.년도 == 2018].행복랭킹 <= 50].나라명) - set(df[df.년도 == 2019][df[df.년도 == 2019].행복랭킹 <= 50].나라명)"
   ]
  },
  {
   "cell_type": "code",
   "execution_count": 88,
   "id": "820d4cb3",
   "metadata": {},
   "outputs": [
    {
     "data": {
      "text/plain": [
       "4"
      ]
     },
     "execution_count": 88,
     "metadata": {},
     "output_type": "execute_result"
    }
   ],
   "source": [
    "len(set(df[df.년도 == 2018][df[df.년도 == 2018].행복랭킹 <= 50].나라명) - set(df[df.년도 == 2019][df[df.년도 == 2019].행복랭킹 <= 50].나라명))"
   ]
  },
  {
   "cell_type": "code",
   "execution_count": null,
   "id": "8465326a",
   "metadata": {},
   "outputs": [],
   "source": [
    "50-df[ df['행복랭킹'] <=50 ]['나라명'].duplicated().sum()"
   ]
  },
  {
   "cell_type": "markdown",
   "id": "f9efd761",
   "metadata": {},
   "source": [
    "## Q50. 2018년,2019년 모두 기록이 있는 나라들 중 년도별 행복점수가 가장 증가한 나라와 그 증가 수치는?"
   ]
  },
  {
   "cell_type": "code",
   "execution_count": 95,
   "id": "82dbdc6a",
   "metadata": {
    "scrolled": true
   },
   "outputs": [
    {
     "data": {
      "text/plain": [
       "Index(['Afghanistan', 'Albania', 'Algeria', 'Argentina', 'Armenia',\n",
       "       'Australia', 'Austria', 'Azerbaijan', 'Bahrain', 'Bangladesh',\n",
       "       ...\n",
       "       'United Arab Emirates', 'United Kingdom', 'United States', 'Uruguay',\n",
       "       'Uzbekistan', 'Venezuela', 'Vietnam', 'Yemen', 'Zambia', 'Zimbabwe'],\n",
       "      dtype='object', name='나라명', length=152)"
      ]
     },
     "execution_count": 95,
     "metadata": {},
     "output_type": "execute_result"
    }
   ],
   "source": [
    "ctry = df[['나라명','년도']].groupby('나라명').size()[df[['나라명','년도']].groupby('나라명').size() == 2].index\n",
    "ctry"
   ]
  },
  {
   "cell_type": "code",
   "execution_count": null,
   "id": "4c49d76c",
   "metadata": {},
   "outputs": [],
   "source": [
    "ctry = df.나라명.value_counts() [df.나라명.value_counts() >= 2 ].index\n",
    "ctry"
   ]
  },
  {
   "cell_type": "code",
   "execution_count": 117,
   "id": "30acb7bc",
   "metadata": {},
   "outputs": [],
   "source": [
    "ctrs = df[df.나라명.isin(ctry)]\n",
    "ctrs.loc[ctrs.년도==2018,'점수'] = ctrs[ctrs.년도 == 2018]['점수'].values * (-1)"
   ]
  },
  {
   "cell_type": "code",
   "execution_count": 119,
   "id": "af1daf3a",
   "metadata": {},
   "outputs": [
    {
     "data": {
      "text/plain": [
       "점수    0.87\n",
       "Name: Burundi, dtype: float64"
      ]
     },
     "execution_count": 119,
     "metadata": {},
     "output_type": "execute_result"
    }
   ],
   "source": [
    "ctrs.groupby('나라명').sum().sort_values('점수',ascending = False)['점수'].to_frame().iloc[0]"
   ]
  },
  {
   "cell_type": "code",
   "execution_count": null,
   "id": "f6fb9937",
   "metadata": {},
   "outputs": [],
   "source": []
  }
 ],
 "metadata": {
  "kernelspec": {
   "display_name": "Python 3 (ipykernel)",
   "language": "python",
   "name": "python3"
  },
  "language_info": {
   "codemirror_mode": {
    "name": "ipython",
    "version": 3
   },
   "file_extension": ".py",
   "mimetype": "text/x-python",
   "name": "python",
   "nbconvert_exporter": "python",
   "pygments_lexer": "ipython3",
   "version": "3.8.10"
  }
 },
 "nbformat": 4,
 "nbformat_minor": 5
}
