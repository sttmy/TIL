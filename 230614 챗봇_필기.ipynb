{
 "cells": [
  {
   "cell_type": "markdown",
   "id": "5ce6dd9c",
   "metadata": {},
   "source": [
    "### < 프로젝트 >\n",
    "- 데이터분석 및 웹 프로그래밍\n",
    "- 자연어처리 - 챗봇\n",
    "- 그래픽 버전인식 - 의료영상처리\n",
    "<br>\n",
    "\n",
    "- FullStack 개발자 / 데이터분석가 / AI전문가\n",
    "- ex) AI RPA 웹"
   ]
  },
  {
   "cell_type": "markdown",
   "id": "df928755",
   "metadata": {},
   "source": [
    "### 1.프로젝트와 포트폴리오\n",
    "- 프로젝트\n",
    "    - 학습자가 만든 시스템이나 서비스의 구체적인 실행물\n",
    "    - 예) 챗봇시스템일 경우 특정한 업무에 참여하는 구성원 간의 의사소통을 채팅이라는 플랫폼을 통해 구현할 수 있는 실행 가능한 시스템이어야 함\n",
    "        - 예) '화장품쇼핑몰 사용자를 위한 챗봇시스템', '연구실 구성원을 위한 챗봇시스템', '컴퓨터용품 AS센터 챗봇시스템' 등\n",
    "    \n",
    "  \n",
    "- 포트폴리오\n",
    "    - 프로그램언어, 데이터베이스, IDE, 라이브러리, 프레임워크 등의 구체적인 활용법과 산출물 등을 글, 그림, 동영상 등으로 표현한 모든 것\n",
    "    - 예) 의상디자이너: 디자인 스케치 시안이나 자신의 디자신으로 만들어낸 시제품\n",
    "    - 예) '화장품쇼핑몰 사용자를 위한 챗봇시스템':\n",
    "        - 데이터베이스의 명세, 데이터베이스 메니지먼트 시스템을 이용하여 만든 데이터베이스 객체, 테이블 객체, 트리거 객체, 함수 객체를 서술하고 이의 사용법을 기술한 문서(파워포인트, Docx, hwp등)\n",
    "        - 시스템 설계서, 화면설계서, 클래스 다이어그램(시스템을 구성하는 여러 개의 기능을 가진 소스코드를 설계한 클래스 설계도) 등이 기술된 문서(파워포인트, Docx, hwp등)"
   ]
  },
  {
   "cell_type": "markdown",
   "id": "9d09113e",
   "metadata": {},
   "source": [
    "#### EX) 포트폴리오 예시: 식단 판매관리 서비스\n",
    "\n",
    "- 서비스 개요 : 영양사/ 개발자/ 일반인\n",
    "    - 메뉴: 로그인/ 식단 등록/ 식단 수정/ 식단 조회/ 식단 삭제\n",
    "    - 장점: ①정보시각화(식단이미지제공)/ ②정보선택성(필요한정보만)/ ②이슈해결(영양팀: 단종식단조회, 재무팀: 세무조사판매조회)\n",
    "- 선정 배경 및 동기 \n",
    "    - 건강관리 중요성 증가\n",
    "    - 개인 맞춤 서비스 제공 필요\n",
    "- 벤치마킹: fatsecret\n",
    "- 개발환경\n",
    "    - 운영체제: 윈도우11\n",
    "    - 서버: 우분투20.04\n",
    "    - DB: MySQL\n",
    "    - 언어: Python, HTML&CSS, JavaScript\n",
    "    - 오픈소스: Bootstrap, Jquery\n",
    "    - 형상관리: github\n",
    "- 데이터베이스 구조\n",
    "    - 테이블\n",
    "    - 데이터 다이어그램?  (구조)\n",
    "- 클래스 다이어그램\n",
    "    - Django 내장클래스\n",
    "    - 사용자정의 클래스\n",
    "- 수행결과물\n",
    "    - 로그인 페이지\n",
    "    - 식단전체조회\n",
    "    - 식단상세조회: 이미지, 메뉴, 작성자, 작성일지 / 수정,삭제가능\n",
    "    - 식단 특성별 조회: 최신순, 분류순, 단가순\n",
    "    - 식단등록: 식단코드, 식단명, 분류, 메인, 반찬, 단가, 사진 등\n",
    "    - 식단수정: 식단명,국,반찬 등 수정\n",
    "    - 식단삭제: 삭제여부확인\n",
    "    - 식단판매조회: 판매된 식단명, 판매일자, 수량, 금액합계 \n",
    "    - 단종된 식단 조회: 삭제된 '가성비한정식' 조회, 단종 원인과 선호도 분석 자료로 활용\n",
    "    - 판매조회 특별조회: 정보변경식단 중 최저/최고 단가 기준 계산, 월 분기별 매출액 조절해 현업이슈 해결\n",
    "    - 질문게시판\n",
    "- 동영상 시연\n"
   ]
  },
  {
   "cell_type": "markdown",
   "id": "743daaf2",
   "metadata": {},
   "source": [
    "### 2. 챗봇의 이해\n",
    "- 챗봇chatbot은 채터 chatter와 로봇robot의 합성어로，대화히는 로봇이라고 정의 \n",
    "<br> 사람과 텍스트나 음성으로 대화를 나눌 수 있는 프로그램을 말함\n",
    "- 챗봇은 2024년에는 94억 달러 규모로 시징에 형성될 것으로 예상됨\n",
    "<br> 정보기술연구기관인 가트너 : 2020년까지 모든 고객 서비스 의사소통의 80%를 챗봇이 수행할것으로 전망\n",
    "<br>\n",
    "\n",
    "- 챗봇 활용사례: 의료， 상담， 금융， 쇼핑， 마케팅  분야에서 활용됨 \n",
    "    - 고객센터챗봇 : 인공지능 서비스와 대화형 소통을 기반으로 정확도 높은 답변을 찾이주는 역할을 함\n",
    "    - 뉴스봇 : 채팅하듯이 뉴스를 받아볼 수 있음. 분야별 뉴스와 사람들이 많이 본 기사를 큐레이션함\n",
    "    - 판매회사챗봇  : 제품 정보， 상품 사용상 가장 빈번한 질문과 답변으로 챗봇이 구성\n",
    "    - 의료상담챗봇  : 병원 내 민원 처리와 예약 변경 및 취소에 활용 \n",
    "    - 개인화된 컨텐츠 서비스 봇 : 구독 경제 모델로 챗봇을 활용함 "
   ]
  },
  {
   "cell_type": "markdown",
   "id": "dbfae6e1",
   "metadata": {},
   "source": [
    "#### EX) 카페 메뉴관리 웹시스템\n",
    "- 개요\n",
    "    - 배경\n",
    "    - 서비스개요\n",
    "    - 요구사항정의: 메뉴정보조회/ 로그인/ 메뉴등록/ 수정/ 삭제\n",
    "- \n",
    "    - 개발환경\n",
    "    - 시스템구조: 메인/ 등록/ 조회 화면\n",
    "    - 데이터베이스 구성: 테이블명/ 테이블구성\n",
    "    - ERD\n",
    "    - 테이블명세서: 필드명, 속성명, 데이터타입, ..\n",
    "    - 클래스 다이어그램\n",
    "- 기술상세\n",
    "    - 로그인 전후 메뉴등록/수정/삭제 메뉴 유무\n",
    "    - 메뉴 등록 전후 DB/ site내 차이\n",
    "    - 메뉴목록 조회화면\n",
    "    - 메뉴수정\n",
    "    - 메뉴삭제\n"
   ]
  },
  {
   "attachments": {},
   "cell_type": "markdown",
   "id": "39035fe5",
   "metadata": {},
   "source": [
    "### 3. 챗봇시스템의 구현에 필요한 기술\n",
    "\n",
    "- 파이썬 프로그래밍의 객체지향 개념 —> 라이브러리, 프레임워크의 활용에 대한 이론적 근거  \n",
    "- 다양한 AI 관련 기술\n",
    "    - 피클, 넘파이, 오픈파이엑셀, 판다스 등의 모듈사용기술\n",
    "    - 데이터랭글링(필터링) 등의 전처리 기술 \n",
    "    - 선형대수(행렬, 선형변환) 프로그래밍 구현 기술(지식아님) \n",
    "    - 회귀, 군집, 분류 등의 머신러닝 알고리즘 구현기술\n",
    "    - CNN, RNN, 케라스 등의 딥러닝 프레임워크 구현기술\n",
    "    - 자연어처리의 강화학습 구현기술 "
   ]
  },
  {
   "attachments": {},
   "cell_type": "markdown",
   "id": "5b470c29",
   "metadata": {},
   "source": [
    "### ★FastAPI\n",
    "- 파이썬 3.6부터 제공되는 트랜디하고 높은 성능을 가진 파이썬 프레임워크\n",
    "- 기존에 가장 대중적으로 사용되고 있던 파이썬 프레임워크는 Django, Flask\n",
    "    - 비교적 가벼운 웹개발이라면 Flask를, 볼륨있는 프로젝트라면 Django를 사용했음\n",
    "    - fastAPI는 조작법은 단순하면서도 성능적으로는 우세함을 보장\n",
    "- 특징\n",
    "    - API 문서 자동 생성 (Swagger와 ReDoc 스타일 동일)\n",
    "    - 의존성 주입 위주의 설계를 통한 DB 등에 대한 관리 편리\n",
    "    - 비동기 동작으로 빠른 성능 보장\n",
    "    - Pydantic을 사용한 Validation 체크\n",
    "    - 뛰어난 공식문서 가이드\n",
    "    \n",
    "    - 빠름: (Starlette과 Pydantic 덕분에) NodeJS 및 Go와 대등할 정도로 매우 높은 성능. 사용 가능한 가장 빠른 파이썬 프레임워크 중 하나.\n",
    "    - 빠른 코드 작성: 약 200%에서 300%까지 기능 개발 속도 증가. *\n",
    "    - 적은 버그: 사람(개발자)에 의한 에러 약 40% 감소. *\n",
    "    - 직관적: 훌륭한 편집기 지원. 모든 곳에서 자동완성. 적은 디버깅 시간.\n",
    "    - 쉬움: 쉽게 사용하고 배우도록 설계. 적은 문서 읽기 시간.\n",
    "    - 짧음: 코드 중복 최소화. 각 매개변수 선언의 여러 기능. 적은 버그.\n",
    "    - 견고함: 준비된 프로덕션 용 코드를 얻으십시오. 자동 대화형 문서와 함께.\n",
    "    - 표준 기반: API에 대한 (완전히 호환되는) 개방형 표준 기반: OpenAPI (이전에 Swagger로 알려졌던) 및 JSON 스키마.\n",
    "    \n",
    "- API문서를 자동으로 만들어줌\n",
    "    - 1. Swagger UI: 서버를 실행하고 (local host) http://127.0.0.1:8000/docs \n",
    "    - 2. ReDoc: http://127.0.0.1:8000/redoc \n",
    "    \n",
    "https://eunjin3786.tistory.com/539"
   ]
  },
  {
   "cell_type": "markdown",
   "id": "51da828c",
   "metadata": {},
   "source": [
    "### VS code 세팅\n",
    "- 확장모듈 설치: C/C++ Themes, CMake Tools, Code Runner, Excel Viewer, isort, Jupyter Cell Tags, Jupyter Keymap, Jupyter Notebook Renderers, Jupyter Slide Show, open in browser, Pylance, R, SQLTools, vscode-database\n"
   ]
  },
  {
   "attachments": {},
   "cell_type": "markdown",
   "id": "189682a1",
   "metadata": {},
   "source": [
    "### 4. (처음 배우는 딥러닝 챗봇)"
   ]
  },
  {
   "cell_type": "markdown",
   "id": "c2660e48",
   "metadata": {},
   "source": [
    "#### p66 생성자 및 소멸자"
   ]
  },
  {
   "cell_type": "code",
   "execution_count": 8,
   "id": "9b5e7c87",
   "metadata": {},
   "outputs": [
    {
     "name": "stdout",
     "output_type": "stream",
     "text": [
      "call __init__()\n",
      "obj instance is alive...\n"
     ]
    }
   ],
   "source": [
    "class SimpleObj:\n",
    "    def __init__(self):\n",
    "        print('call __init__()')\n",
    "    def __del__(self):\n",
    "        print('call __del__()')\n",
    "obj = SimpleObj()\n",
    "print('obj instance is alive...')"
   ]
  },
  {
   "cell_type": "code",
   "execution_count": 9,
   "id": "710f08d3",
   "metadata": {},
   "outputs": [
    {
     "data": {
      "text/plain": [
       "<__main__.SimpleObj at 0x276472c48e0>"
      ]
     },
     "execution_count": 9,
     "metadata": {},
     "output_type": "execute_result"
    }
   ],
   "source": [
    "obj"
   ]
  },
  {
   "cell_type": "code",
   "execution_count": 10,
   "id": "b5b8a89d",
   "metadata": {},
   "outputs": [],
   "source": [
    "del obj"
   ]
  },
  {
   "cell_type": "code",
   "execution_count": 11,
   "id": "7f2837e9",
   "metadata": {},
   "outputs": [
    {
     "ename": "NameError",
     "evalue": "name 'obj' is not defined",
     "output_type": "error",
     "traceback": [
      "\u001b[1;31m---------------------------------------------------------------------------\u001b[0m",
      "\u001b[1;31mNameError\u001b[0m                                 Traceback (most recent call last)",
      "Cell \u001b[1;32mIn[11], line 1\u001b[0m\n\u001b[1;32m----> 1\u001b[0m \u001b[43mobj\u001b[49m\n",
      "\u001b[1;31mNameError\u001b[0m: name 'obj' is not defined"
     ]
    }
   ],
   "source": [
    "obj"
   ]
  },
  {
   "cell_type": "code",
   "execution_count": 12,
   "id": "45d954a8",
   "metadata": {},
   "outputs": [
    {
     "name": "stdout",
     "output_type": "stream",
     "text": [
      "call __init__()\n",
      "obj instance is alive...\n"
     ]
    }
   ],
   "source": [
    "class SimpleObj2:\n",
    "    def __init__(self):\n",
    "        print('call __init__()')\n",
    "#     def __del__(self):\n",
    "#         print('call __del__()')\n",
    "obj2 = SimpleObj2()\n",
    "print('obj instance is alive...')"
   ]
  },
  {
   "cell_type": "code",
   "execution_count": 13,
   "id": "1729cd3c",
   "metadata": {},
   "outputs": [
    {
     "data": {
      "text/plain": [
       "<__main__.SimpleObj2 at 0x27647256a00>"
      ]
     },
     "execution_count": 13,
     "metadata": {},
     "output_type": "execute_result"
    }
   ],
   "source": [
    "obj2"
   ]
  },
  {
   "cell_type": "code",
   "execution_count": 15,
   "id": "e82cb664",
   "metadata": {},
   "outputs": [],
   "source": [
    "del obj2"
   ]
  },
  {
   "cell_type": "code",
   "execution_count": 16,
   "id": "1ddd5d0e",
   "metadata": {},
   "outputs": [
    {
     "ename": "NameError",
     "evalue": "name 'obj2' is not defined",
     "output_type": "error",
     "traceback": [
      "\u001b[1;31m---------------------------------------------------------------------------\u001b[0m",
      "\u001b[1;31mNameError\u001b[0m                                 Traceback (most recent call last)",
      "Cell \u001b[1;32mIn[16], line 1\u001b[0m\n\u001b[1;32m----> 1\u001b[0m \u001b[43mobj2\u001b[49m\n",
      "\u001b[1;31mNameError\u001b[0m: name 'obj2' is not defined"
     ]
    }
   ],
   "source": [
    "obj2"
   ]
  },
  {
   "attachments": {},
   "cell_type": "markdown",
   "id": "fb2c9b8e",
   "metadata": {},
   "source": [
    "#### p75 엑셀파일 읽기"
   ]
  },
  {
   "cell_type": "code",
   "execution_count": 1,
   "id": "c43d2004",
   "metadata": {},
   "outputs": [
    {
     "name": "stdout",
     "output_type": "stream",
     "text": [
      "3 6\n",
      "이름\n",
      "Kei\n"
     ]
    }
   ],
   "source": [
    "import openpyxl\n",
    "wb = openpyxl.load_workbook('Data/sample.xlsx')\n",
    "sheet = wb['Sheet1']    # sheet도 객체. 참조변수\n",
    "\n",
    "print(sheet.max_column, sheet.max_row)\n",
    "print(sheet.cell(row=1, column=1).value)\n",
    "print(sheet.cell(row=2, column=1).value)\n",
    "wb.close()\n",
    "\n"
   ]
  },
  {
   "cell_type": "code",
   "execution_count": 4,
   "id": "296453c5",
   "metadata": {},
   "outputs": [
    {
     "data": {
      "text/plain": [
       "(openpyxl.workbook.workbook.Workbook, openpyxl.worksheet.worksheet.Worksheet)"
      ]
     },
     "execution_count": 4,
     "metadata": {},
     "output_type": "execute_result"
    }
   ],
   "source": [
    "type(wb), type(sheet)    # wb는 객체임. 참조변수. \n",
    "\n",
    "# 파이썬은 동적으로 변수가 할당됨. 할당되는 자료의 형태에 따라 변수의 자료형이 변경됨\n",
    "# 파이썬에서는 변수를 참조변수를 이용한 간접주소 방식으로 처리함\n"
   ]
  },
  {
   "attachments": {},
   "cell_type": "markdown",
   "id": "015e0406",
   "metadata": {},
   "source": [
    "#### p78 "
   ]
  },
  {
   "cell_type": "code",
   "execution_count": 2,
   "id": "ac904762",
   "metadata": {},
   "outputs": [
    {
     "name": "stdout",
     "output_type": "stream",
     "text": [
      "Kei\n",
      "35\n",
      "1234-1234\n",
      "----------\n",
      "Hong\n",
      "26\n",
      "4320-1420\n",
      "----------\n",
      "Kim\n",
      "41\n",
      "1234-5678\n",
      "----------\n",
      "Choi\n",
      "38\n",
      "4023-3411\n",
      "----------\n",
      "Go\n",
      "27\n",
      "1469-4023\n",
      "----------\n"
     ]
    }
   ],
   "source": [
    "import openpyxl\n",
    "wb = openpyxl.load_workbook('Data/sample.xlsx')\n",
    "sheet = wb['Sheet1']\n",
    "\n",
    "for row in sheet.iter_rows(min_row = 2):    # 일반적으로 안쪽 for문이 열, 바깥쪽 for문이 행 으로 처리됨\n",
    "    for cell in row:\n",
    "        print(cell.value)\n",
    "    print('-'*10)\n",
    "wb.close()"
   ]
  },
  {
   "attachments": {},
   "cell_type": "markdown",
   "id": "c11429f1",
   "metadata": {},
   "source": [
    "#### p79"
   ]
  },
  {
   "cell_type": "code",
   "execution_count": 5,
   "id": "f8235eb9",
   "metadata": {},
   "outputs": [
    {
     "name": "stdout",
     "output_type": "stream",
     "text": [
      "Kei\n",
      "35\n",
      "1234-1234\n",
      "----------\n",
      "Hong\n",
      "26\n",
      "4320-1420\n",
      "----------\n"
     ]
    }
   ],
   "source": [
    "wb = openpyxl.load_workbook('Data/sample.xlsx')\n",
    "sheet = wb['Sheet1']\n",
    "\n",
    "cells = sheet['A2':'C3']\n",
    "for row in cells:\n",
    "    for cell in row:\n",
    "        print(cell.value)\n",
    "    print('-'*10)\n",
    "wb.close()    "
   ]
  },
  {
   "attachments": {},
   "cell_type": "markdown",
   "id": "9bccca0b",
   "metadata": {},
   "source": [
    "#### p80 OpenPyXL 엑셀파일 쓰기"
   ]
  },
  {
   "cell_type": "code",
   "execution_count": 8,
   "id": "0be981be",
   "metadata": {},
   "outputs": [],
   "source": [
    "wb = openpyxl.Workbook()\n",
    "sheet = wb.active\n",
    "sheet.title = '회원정보'\n",
    "\n",
    "# 표 헤더 컬럼 저장 \n",
    "header_titles = ['이름', '전화번호']\n",
    "for idx, title in enumerate(header_titles):\n",
    "    sheet.cell(row=1, column=idx+1, value = title)\n",
    "\n",
    "# 표 내용 저장\n",
    "members = [('kei', '010-1234-1234'), ('hong','010-4321-1234')]\n",
    "row_num = 2\n",
    "for r, member in enumerate(members):\n",
    "    for c, v in enumerate(member):\n",
    "        sheet.cell(row = row_num + r, column = c+1, value = v)\n",
    "\n",
    "wb.save('Data/members.xlsx')\n",
    "wb.close()"
   ]
  },
  {
   "attachments": {},
   "cell_type": "markdown",
   "id": "b6cf28fd",
   "metadata": {},
   "source": [
    "### p315 10.5.2 json to table"
   ]
  },
  {
   "attachments": {},
   "cell_type": "markdown",
   "id": "873a3b43",
   "metadata": {},
   "source": [
    "시스템구축 = 서비스구축"
   ]
  }
 ],
 "metadata": {
  "kernelspec": {
   "display_name": "Python 3 (ipykernel)",
   "language": "python",
   "name": "python3"
  },
  "language_info": {
   "codemirror_mode": {
    "name": "ipython",
    "version": 3
   },
   "file_extension": ".py",
   "mimetype": "text/x-python",
   "name": "python",
   "nbconvert_exporter": "python",
   "pygments_lexer": "ipython3",
   "version": "3.8.10"
  }
 },
 "nbformat": 4,
 "nbformat_minor": 5
}
