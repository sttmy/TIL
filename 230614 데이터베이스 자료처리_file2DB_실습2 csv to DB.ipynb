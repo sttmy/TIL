{
 "cells": [
  {
   "attachments": {},
   "cell_type": "markdown",
   "metadata": {},
   "source": [
    "## [실습2]\n",
    "\n",
    "- 데이터베이스 시스템: 운영체제와 동급의 개념\n",
    "    - 데이터베이스의 테이블은 윈도우가 다루는 파일(탐색기로 관리하는)의 개념과 동급임\n",
    "    - 그래서 데이터베이스 테이블을 외부 파일로 내보낸다는 설명이 일반적임\n",
    "\n",
    "    - DB를 만들고 테이블을 만들고 테이블의 정보를 crud 작업하는 것이, 운영체제 측면에서 디스크를 파티션 나누고, 폴더를 만들고 그 안에 파일을 대상으로 crud하는 것과 비슷한 흐름임\n",
    "\n",
    "    - 트리거, 뷰"
   ]
  },
  {
   "attachments": {},
   "cell_type": "markdown",
   "metadata": {},
   "source": [
    "## 10.5 File to DB\n",
    "\n",
    "### 10.5.1 csv to table\n",
    "- csv파일: 텍스트파일인 셈"
   ]
  },
  {
   "cell_type": "code",
   "execution_count": 2,
   "metadata": {},
   "outputs": [
    {
     "name": "stdout",
     "output_type": "stream",
     "text": [
      "<class 'pandas.core.frame.DataFrame'>\n",
      "RangeIndex: 20000 entries, 0 to 19999\n",
      "Data columns (total 3 columns):\n",
      " #   Column  Non-Null Count  Dtype \n",
      "---  ------  --------------  ----- \n",
      " 0   height  20000 non-null  int64 \n",
      " 1   weight  20000 non-null  int64 \n",
      " 2   label   20000 non-null  object\n",
      "dtypes: int64(2), object(1)\n",
      "memory usage: 468.9+ KB\n",
      "None\n"
     ]
    }
   ],
   "source": [
    "'''\n",
    "csv >> db table\n",
    "    1차실행: table생성 > 레코드 추가\n",
    "    2차 실행: 레코드 검색\n",
    "'''\n",
    "\n",
    "# (1) csv파일 로드\n",
    "\n",
    "import pandas as pd\n",
    "import pymysql\n",
    "\n",
    "bmi = pd.read_csv('Data/230614/bmi.csv')\n",
    "\n",
    "# (2) 각 칼럼 추출\n",
    "height = bmi['height']\n",
    "weight = bmi['weight']\n",
    "label = bmi['label']\n",
    "\n",
    "print(bmi.info())"
   ]
  },
  {
   "cell_type": "code",
   "execution_count": 3,
   "metadata": {},
   "outputs": [
    {
     "data": {
      "text/html": [
       "<div>\n",
       "<style scoped>\n",
       "    .dataframe tbody tr th:only-of-type {\n",
       "        vertical-align: middle;\n",
       "    }\n",
       "\n",
       "    .dataframe tbody tr th {\n",
       "        vertical-align: top;\n",
       "    }\n",
       "\n",
       "    .dataframe thead th {\n",
       "        text-align: right;\n",
       "    }\n",
       "</style>\n",
       "<table border=\"1\" class=\"dataframe\">\n",
       "  <thead>\n",
       "    <tr style=\"text-align: right;\">\n",
       "      <th></th>\n",
       "      <th>height</th>\n",
       "      <th>weight</th>\n",
       "      <th>label</th>\n",
       "    </tr>\n",
       "  </thead>\n",
       "  <tbody>\n",
       "    <tr>\n",
       "      <th>0</th>\n",
       "      <td>184</td>\n",
       "      <td>61</td>\n",
       "      <td>thin</td>\n",
       "    </tr>\n",
       "    <tr>\n",
       "      <th>1</th>\n",
       "      <td>189</td>\n",
       "      <td>56</td>\n",
       "      <td>thin</td>\n",
       "    </tr>\n",
       "    <tr>\n",
       "      <th>2</th>\n",
       "      <td>183</td>\n",
       "      <td>79</td>\n",
       "      <td>normal</td>\n",
       "    </tr>\n",
       "  </tbody>\n",
       "</table>\n",
       "</div>"
      ],
      "text/plain": [
       "   height  weight   label\n",
       "0     184      61    thin\n",
       "1     189      56    thin\n",
       "2     183      79  normal"
      ]
     },
     "execution_count": 3,
     "metadata": {},
     "output_type": "execute_result"
    }
   ],
   "source": [
    "bmi.head(3)"
   ]
  },
  {
   "attachments": {},
   "cell_type": "markdown",
   "metadata": {},
   "source": [
    "아래내용\n",
    "- 1차 실행 시 테이블을 만들고 csv파일 자료에서 100개의 행을 테이블 레코드에 저장\n",
    "- 2차 실행 시 저장된 레코드 100개가 검색됨"
   ]
  },
  {
   "cell_type": "code",
   "execution_count": 3,
   "metadata": {},
   "outputs": [
    {
     "name": "stdout",
     "output_type": "stream",
     "text": [
      "<class 'tuple'>\n",
      "184    61    thin\n",
      "189    56    thin\n",
      "183    79    normal\n",
      "143    40    normal\n",
      "187    66    normal\n",
      "161    52    normal\n",
      "186    54    thin\n",
      "144    57    fat\n",
      "184    55    thin\n",
      "165    76    fat\n",
      "143    45    normal\n",
      "154    61    fat\n",
      "159    57    normal\n",
      "177    45    thin\n",
      "174    78    fat\n",
      "140    80    fat\n",
      "150    75    fat\n",
      "141    47    normal\n",
      "186    57    thin\n",
      "154    83    fat\n",
      "141    65    fat\n",
      "178    74    normal\n",
      "157    84    fat\n",
      "175    56    thin\n",
      "172    40    thin\n",
      "170    69    normal\n",
      "143    64    fat\n",
      "148    68    fat\n",
      "161    56    normal\n",
      "176    77    normal\n",
      "142    60    fat\n",
      "145    41    normal\n",
      "179    84    fat\n",
      "164    80    fat\n",
      "153    53    normal\n",
      "182    45    thin\n",
      "167    49    thin\n",
      "168    51    thin\n",
      "155    40    thin\n",
      "188    51    thin\n",
      "159    44    thin\n",
      "173    76    fat\n",
      "168    64    normal\n",
      "142    51    fat\n",
      "179    68    normal\n",
      "145    44    normal\n",
      "140    69    fat\n",
      "162    77    fat\n",
      "185    59    thin\n",
      "174    50    thin\n",
      "147    69    fat\n",
      "145    41    normal\n",
      "149    68    fat\n",
      "157    46    normal\n",
      "149    68    fat\n",
      "178    55    thin\n",
      "188    45    thin\n",
      "151    55    normal\n",
      "141    47    normal\n",
      "174    60    normal\n",
      "189    69    normal\n",
      "140    61    fat\n",
      "145    61    fat\n",
      "141    66    fat\n",
      "180    45    thin\n",
      "180    62    normal\n",
      "161    53    normal\n",
      "149    41    thin\n",
      "154    70    fat\n",
      "166    66    normal\n",
      "144    65    fat\n",
      "145    47    normal\n",
      "164    85    fat\n",
      "159    73    fat\n",
      "167    41    thin\n",
      "171    47    thin\n",
      "167    40    thin\n",
      "185    50    thin\n",
      "165    81    fat\n",
      "167    62    normal\n",
      "171    41    thin\n",
      "157    64    fat\n",
      "145    63    fat\n",
      "183    48    thin\n",
      "142    54    fat\n",
      "149    44    normal\n",
      "148    61    fat\n",
      "159    63    normal\n",
      "190    76    normal\n",
      "184    49    thin\n",
      "170    46    thin\n",
      "153    69    fat\n",
      "160    78    fat\n",
      "166    40    thin\n",
      "170    45    thin\n",
      "157    50    normal\n",
      "143    82    fat\n",
      "171    66    normal\n",
      "184    50    thin\n",
      "161    67    fat\n",
      "전체 레코드 수:  100\n"
     ]
    }
   ],
   "source": [
    "# (3) DB테이블로 만들기\n",
    "\n",
    "config = {\n",
    "    'host': '127.0.0.1',\n",
    "    'user': 'root',\n",
    "    'passwd': '0000',\n",
    "    'database': 'test_db',\n",
    "    'port': 3306,\n",
    "    'charset': 'utf8',\n",
    "    'use_unicode': True\n",
    "}\n",
    "\n",
    "try:\n",
    "    conn = pymysql.connect(**config)\n",
    "    cursor = conn.cursor()\n",
    "\n",
    "    # (3-1) table 조회\n",
    "    cursor.execute('show tables')\n",
    "    tables = cursor.fetchall()\n",
    "    print(type(tables))\n",
    "\n",
    "    # (3-2) 스위칭기법: 반복문 수행 과정에서 특정한 상태로 바뀔 때, 상태가 변경되었음을 외부에 알리는 기법\n",
    "    sw = False\n",
    "    for table in tables:\n",
    "        if table[0] == 'bmi_tab':    ## 이중 tuple구문. table[0]이 bmi_tab인 경우,\n",
    "            sw = True    # table이 있는 경우 swapping\n",
    "\n",
    "    # (3-3) 테이블 없으면, 생성\n",
    "    if not sw:\n",
    "        print('테이블 없음')\n",
    "        sql = '''\n",
    "        create table bmi_tab(\n",
    "        height int not null,\n",
    "        weight int not null,\n",
    "        label varchar(15) not null\n",
    "        )\n",
    "        '''\n",
    "        cursor.execute(sql)\n",
    "    \n",
    "    # (3-4) 레코드 조회\n",
    "    cursor.execute('select * from bmi_tab')\n",
    "    rows = cursor.fetchall()\n",
    "\n",
    "    if rows:\n",
    "        for row in rows:\n",
    "            print(f'{row[0]}    {row[1]}    {row[2]}')\n",
    "        print('전체 레코드 수: ', len(rows))\n",
    "    else:\n",
    "        print('100 레코드 추가')\n",
    "        for i in range(100):\n",
    "            h = height[i]\n",
    "            w = weight[i]\n",
    "            lab = label[i]\n",
    "            cursor.execute(f'insert into bmi_tab values({h}, {w}, \"{lab}\")')\n",
    "            conn.commit()\n",
    "except Exception as e:\n",
    "    print(\"DB Error: \", e)\n",
    "finally:\n",
    "    cursor.close()\n",
    "    conn.close()"
   ]
  },
  {
   "cell_type": "code",
   "execution_count": 4,
   "metadata": {},
   "outputs": [
    {
     "name": "stdout",
     "output_type": "stream",
     "text": [
      "(('bmi_tab',), ('goods',), ('labels',), ('tb1',))\n"
     ]
    }
   ],
   "source": [
    "print(tables)"
   ]
  },
  {
   "cell_type": "code",
   "execution_count": 5,
   "metadata": {},
   "outputs": [
    {
     "data": {
      "text/plain": [
       "tuple"
      ]
     },
     "execution_count": 5,
     "metadata": {},
     "output_type": "execute_result"
    }
   ],
   "source": [
    "type(tables)"
   ]
  },
  {
   "cell_type": "code",
   "execution_count": null,
   "metadata": {},
   "outputs": [],
   "source": []
  }
 ],
 "metadata": {
  "kernelspec": {
   "display_name": "Python 3",
   "language": "python",
   "name": "python3"
  },
  "language_info": {
   "codemirror_mode": {
    "name": "ipython",
    "version": 3
   },
   "file_extension": ".py",
   "mimetype": "text/x-python",
   "name": "python",
   "nbconvert_exporter": "python",
   "pygments_lexer": "ipython3",
   "version": "3.8.10"
  },
  "orig_nbformat": 4
 },
 "nbformat": 4,
 "nbformat_minor": 2
}
