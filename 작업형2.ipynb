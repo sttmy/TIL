{
 "cells": [
  {
   "cell_type": "markdown",
   "id": "62b888da",
   "metadata": {},
   "source": [
    "# 퇴근후딴짓 작업형2유형"
   ]
  },
  {
   "cell_type": "markdown",
   "id": "15bb9f2f",
   "metadata": {},
   "source": [
    "## (sample) 작업형 2유형\n",
    "\n",
    "백화점 고객 1년간 구매데이터\n",
    "\n",
    "성별 예측값(남자일 확률)을 csv파일로 생성\n",
    "roc-auc평가지표에 따라 채점"
   ]
  },
  {
   "cell_type": "code",
   "execution_count": null,
   "id": "14665e27",
   "metadata": {},
   "outputs": [],
   "source": [
    "# 라이브러리\n",
    "import pandas as pd\n",
    "\n",
    "x_test = pd.read_csv(\"data/X_test.csv\")\n",
    "x_train = pd.read_csv(\"data/X_train.csv\")\n",
    "y_train = pd.read_csv(\"data/y_train.csv\")\n",
    "\n",
    "# EDA 데이터전처리, 피처링\n",
    "print(x_train.isnull().sum())\n",
    "x_train = x_train.fillna(0)\n",
    "x_test = x_test.fillna(0)\n",
    "\n",
    "x_train = x_train.drop(['cust_id'], axis =1)\n",
    "cust_id = x_test.pop('cust_id')\n",
    "\n",
    "# 범주형변수 피처 레이블인코딩\n",
    "from sklearn.preprocessing import LabelEncoder\n",
    "le = LabelEncoder()\n",
    "cols = x_train.select_dtypes('object').columns\n",
    "for col in cols:\n",
    "\tx_train[col] = le.fit_transform(x_train[col])\n",
    "\tx_test[col] = le.fit_transform(x_test[col])\n",
    "\n",
    "# 모델링 & 하이퍼파라미터 튜닝\n",
    "from sklearn.ensemble import RandomForestClassifier\n",
    "rf = RandomForestClassifier(n_estimators = 100, max_depth = 5, random_state = 2022)\n",
    "rf.fit(x_train, y_train['gender'])\n",
    "\n",
    "pred = rf.predict_proba(x_test)\n",
    "\n",
    "# 결과물 저장\n",
    "output = pd.DataFrame({'cust_id': cust_id, 'gender': pred[:,1]})\n",
    "output.to_csv('0000.csv', index = False)"
   ]
  },
  {
   "cell_type": "markdown",
   "id": "52215a8f",
   "metadata": {},
   "source": [
    "## T2-1. 타이타닉 simple baseline 생존여부 예측모델 만들기\n",
    "https://www.kaggle.com/code/agileteam/t2-1-titanic-simple-baseline/notebook\n",
    "\n",
    "\n",
    "학습용 데이터 (X_train, y_train)을 이용하여 생존 예측 모형을 만든 후, 이를 평가용 데이터(X_test)에 적용하여 얻은 예측값을 다음과 같은 형식의 CSV파일로 생성하시오(제출한 모델의 성능은 accuracy 평가지표에 따라 채점)"
   ]
  },
  {
   "cell_type": "code",
   "execution_count": null,
   "id": "0951129d",
   "metadata": {},
   "outputs": [],
   "source": [
    "# 시험환경 세팅 (코드 변경 X)\n",
    "import pandas as pd\n",
    "import numpy as np\n",
    "from sklearn.model_selection import train_test_split\n",
    "\n",
    "def exam_data_load(df, target, id_name=\"\", null_name=\"\"):\n",
    "    if id_name == \"\":\n",
    "        df = df.reset_index().rename(columns={\"index\": \"id\"})\n",
    "        id_name = 'id'\n",
    "    else:\n",
    "        id_name = id_name\n",
    "    \n",
    "    if null_name != \"\":\n",
    "        df[df == null_name] = np.nan\n",
    "    \n",
    "    X_train, X_test = train_test_split(df, test_size=0.2, random_state=2021)\n",
    "    \n",
    "    y_train = X_train[[id_name, target]]\n",
    "    X_train = X_train.drop(columns=[target])\n",
    "\n",
    "    \n",
    "    y_test = X_test[[id_name, target]]\n",
    "    X_test = X_test.drop(columns=[target])\n",
    "    return X_train, X_test, y_train, y_test \n"
   ]
  },
  {
   "cell_type": "code",
   "execution_count": null,
   "id": "8eebe0d0",
   "metadata": {},
   "outputs": [],
   "source": [
    "# 데이터 불러오기 \n",
    "df = pd.read_csv(\"../input/titanic/train.csv\")\n",
    "X_train, X_test, y_train, y_test = exam_data_load(df, target='Survived', id_name='PassengerId')"
   ]
  },
  {
   "cell_type": "code",
   "execution_count": null,
   "id": "237ed098",
   "metadata": {},
   "outputs": [],
   "source": [
    "# EDA\n",
    "\n",
    "X_train.shape, X_test.shape, y_train.shape, y_test.shape\n",
    "X_train.head()\n",
    "X_test.head()\n",
    "y_train.head()\n",
    "X_train.isnull().sum()\n",
    "X_train.info()\n",
    "# 생존비율\n",
    "y_train.Survived.sum() / y_train.shape[0]"
   ]
  },
  {
   "cell_type": "code",
   "execution_count": null,
   "id": "1f0de8ee",
   "metadata": {},
   "outputs": [],
   "source": [
    "# 전처리\n",
    "\n",
    "# 불필요한 컬럼 제거\n",
    "dropcols = ['PassengerId','Name','Ticket','Cabin']   \n",
    "x_train = X_train.drop(columns = dropcols)\n",
    "x_test = X_test.drop(columns = dropcols)\n",
    "y = y_train[\"Survived\"]\n",
    "\n",
    "# 데이터타입 변경\n",
    "x_train.Pclass = x_train.Pclass.astype(\"object\")\n",
    "x_test.Pclass = x_test.Pclass.astype(\"object\")\n",
    "\n",
    "# 더미변수화 (원핫인코딩)\n",
    "x_tr_dum = pd.get_dummies(x_train, drop_first= True)\n",
    "x_ts_dum = pd.get_dummies(x_test, drop_first = True)\n",
    "\n",
    "# age변수 결측데이터 제거\n",
    "x_tr_dum.dropna(axis = 0, inplace= True)\n",
    "y = y[-x_tr_dum.Age.isnull()]\n",
    "x_ts_dum.dropna(axis = 0, inplace= True)\n",
    "x_ts_dum.Age = x_ts_dum.Age.astype(\"int64\")"
   ]
  },
  {
   "cell_type": "code",
   "execution_count": null,
   "id": "2a0d877f",
   "metadata": {},
   "outputs": [],
   "source": [
    "# 모델링 및 평가\n",
    "from sklearn.ensemble import RandomForestClassifier\n",
    "rf = RandomForestClassifier(n_estimators = 200, max_depth = 7, random_state = 2021)\n",
    "rf.fit(x_tr_dum, y)\n",
    "\n",
    "pred = rf.predict(x_ts_dum)\n",
    "rf.score(x_tr_dum, y)\n",
    "\n",
    "# 결과 \n",
    "output = pd.DataFrame({'PassengerId': X_test.PassengerId, 'Survived': predictions})\n",
    "output.head()"
   ]
  }
 ],
 "metadata": {
  "kernelspec": {
   "display_name": "Python 3 (ipykernel)",
   "language": "python",
   "name": "python3"
  },
  "language_info": {
   "codemirror_mode": {
    "name": "ipython",
    "version": 3
   },
   "file_extension": ".py",
   "mimetype": "text/x-python",
   "name": "python",
   "nbconvert_exporter": "python",
   "pygments_lexer": "ipython3",
   "version": "3.10.4"
  }
 },
 "nbformat": 4,
 "nbformat_minor": 5
}
