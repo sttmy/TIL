{
 "cells": [
  {
   "cell_type": "markdown",
   "id": "4a95c8c5",
   "metadata": {},
   "source": [
    "### 6.1 클래스와 객체"
   ]
  },
  {
   "cell_type": "markdown",
   "id": "1ba41644",
   "metadata": {},
   "source": [
    "#### 클래스: 프로그램을 이용해 객체를 만들어줌. 설계도.\n",
    "- 속성 attribute: 자료를 나타냄. 명사형태로 기술(-:은닉화, +:공용화)\n",
    "- 행위 action: 자료 연산, 조작, 동사형태로 기술, 함수로 표현\n",
    "\n",
    "#### 객체: 클래스에 의해 만들어지는 결과물. 건물\n",
    "- 클래스 속성에 실제 자료가 들어가고, 실제자료를 동작시키는 함수가 하나로묶여진 단위\n",
    "- 자료와 메서드가 하나로 묶여져서 만들어지 결과물\n",
    "\n",
    "#### 클래스와 객체\n",
    "- 1개의 클래스로 N개의 객체 생성 가능. \n",
    "- 1개의 객체는 i개의 속성으로 만들어진 data와 j개의 행위로 만들어진 method 를 하나의 묶음으로 갖고 있음\n",
    "- 각 객체는 method를 이용해 자체 data를 조작하며 실행됨\n",
    "- 예) 자동차클래스 vs 자동차1(데이터: 2000cc, 금속, 4개, 4개 / 메서드: 시동켜기, 직진, 회전)\n",
    "- 객체들은 서로 독립된 메모리주소를 갖고 있음. 메시지를 이용해 상호작용도 가능"
   ]
  },
  {
   "cell_type": "markdown",
   "id": "90b782d0",
   "metadata": {},
   "source": [
    "### 6.2 클래스 구성"
   ]
  },
  {
   "cell_type": "markdown",
   "id": "2a701701",
   "metadata": {},
   "source": [
    "#### 함수 vs 메서드\n",
    "- 함수: 독립된 기능을 수행하는 코드(명령문)의 집합\n",
    "- 메서드: 클래스에 포함되어 있는 함수\n",
    "\n",
    "#### 함수와 클래스\n",
    "- 함수: 외부로부터의 인수와 return문이 있음\n",
    "        def 외부함수(인수): \n",
    "            변수선언\n",
    "            def 내부함수(인수):\n",
    "                명령문\n",
    "                return 값\n",
    "        return 값\n",
    "    \n",
    "- 클래스: 외부로부터의 인수와 return문 없고, 생성자라는 특수함수를 포함\n",
    "        class 클래스명:\n",
    "            변수선언\n",
    "            def 생성자(인수):\n",
    "                명령문\n",
    "            def 함수명(인수):\n",
    "                명령문"
   ]
  },
  {
   "cell_type": "code",
   "execution_count": 7,
   "id": "cb16c468",
   "metadata": {},
   "outputs": [],
   "source": [
    "# 함수\n",
    "def calc(a,b):\n",
    "    x = a\n",
    "    y = b\n",
    "    \n",
    "    def plus():\n",
    "        p = x+y\n",
    "        return p\n",
    "    def minus():\n",
    "        m = x-y\n",
    "        return m\n",
    "    return plus, minus\n"
   ]
  },
  {
   "cell_type": "code",
   "execution_count": 8,
   "id": "5eb72817",
   "metadata": {},
   "outputs": [
    {
     "name": "stdout",
     "output_type": "stream",
     "text": [
      "30\n",
      "-10\n"
     ]
    }
   ],
   "source": [
    "# 함수호출\n",
    "p, m = calc(10,20)\n",
    "print(p())\n",
    "print(m())"
   ]
  },
  {
   "cell_type": "code",
   "execution_count": 9,
   "id": "ab9db8ae",
   "metadata": {},
   "outputs": [],
   "source": [
    "# 클래스\n",
    "class Calc:\n",
    "    # 자료저장의 멤버변수 설정\n",
    "    x = y = 0 \n",
    "    \n",
    "    # 생성자\n",
    "    def __init__(self, a, b):\n",
    "        self.x = a\n",
    "        self.y = b\n",
    "    # 클래스함수\n",
    "    def plus(self):\n",
    "        p = self.x + self.y\n",
    "        return p\n",
    "    def minus(self):\n",
    "        m = self.x - self.y\n",
    "        return m\n"
   ]
  },
  {
   "cell_type": "code",
   "execution_count": 10,
   "id": "49e232b6",
   "metadata": {},
   "outputs": [
    {
     "data": {
      "text/plain": [
       "<__main__.Calc at 0x1df3fa8dcc0>"
      ]
     },
     "execution_count": 10,
     "metadata": {},
     "output_type": "execute_result"
    }
   ],
   "source": [
    "# 객체생성\n",
    "obj = Calc(10,20)\n",
    "obj"
   ]
  },
  {
   "cell_type": "code",
   "execution_count": 11,
   "id": "14204b69",
   "metadata": {},
   "outputs": [
    {
     "name": "stdout",
     "output_type": "stream",
     "text": [
      "30\n",
      "-10\n"
     ]
    },
    {
     "data": {
      "text/plain": [
       "(None, None)"
      ]
     },
     "execution_count": 11,
     "metadata": {},
     "output_type": "execute_result"
    }
   ],
   "source": [
    "# 호출\n",
    "print(obj.plus()), print(obj.minus())"
   ]
  },
  {
   "cell_type": "markdown",
   "id": "9995ac78",
   "metadata": {},
   "source": [
    "#### 클래스구성요소\n",
    "- 멤버 + 생성자   \n",
    "    * 멤버: 멤버변수(자료)+메서드(기능)\n",
    "- 클래스는 객체를 생성하는 역할이기 때문에 객체 내에서 공유할 수 있는 자료와 그 자료를 처리하는 함수를 묶어 객체가 만들어지도록 정의해둔 것을 말함"
   ]
  },
  {
   "cell_type": "code",
   "execution_count": 12,
   "id": "7b09584d",
   "metadata": {},
   "outputs": [],
   "source": [
    "class Car:\n",
    "    # 멤버변수: 초기값은 0과 null임\n",
    "    cc = 0\n",
    "    door = 0 \n",
    "    cartype = None\n",
    "    \n",
    "    # 생성자: 객체 생성시, 멤버변수를 초기화하는 역할. 필요없을 경우 생략 가능하긴 함\n",
    "    def __init__(self, cc, door, cartype):\n",
    "        # 멤버변수 초기화\n",
    "        self.cc = cc\n",
    "        self.door = door\n",
    "        self.cartype = cartype\n",
    "    \n",
    "    # 메서드\n",
    "    def display(self):\n",
    "        print('자동차는 %d cc이고, 문짝은 %d개, 타입은 %s' %(self.cc, self.door, self.cartype))"
   ]
  },
  {
   "cell_type": "code",
   "execution_count": 13,
   "id": "ceffdf64",
   "metadata": {},
   "outputs": [
    {
     "name": "stdout",
     "output_type": "stream",
     "text": [
      "자동차는 2000 cc이고, 문짝은 4개, 타입은 승용차\n",
      "자동차는 3000 cc이고, 문짝은 5개, 타입은 SUV\n"
     ]
    },
    {
     "data": {
      "text/plain": [
       "(None, None)"
      ]
     },
     "execution_count": 13,
     "metadata": {},
     "output_type": "execute_result"
    }
   ],
   "source": [
    "# 객체생성. 한 개의 클래스에서 다수의 객체를 생성할 수 있음. \n",
    "car1 = Car(2000, 4, '승용차')\n",
    "car2 = Car(3000, 5, 'SUV')\n",
    "\n",
    "# 멤버호출 (메서드 호출)\n",
    "car1.display(), car2.display()"
   ]
  },
  {
   "cell_type": "markdown",
   "id": "be74021f",
   "metadata": {},
   "source": [
    "#### 생성자\n",
    "- 객체 생성 시 자동 실행, 멤버변수 값 초기화하는 역할\n",
    "\n",
    "- 1)생성자 이용 멤버변수 초기화\n",
    "- 2)메서드 이용 멤버변수 초기화"
   ]
  },
  {
   "cell_type": "code",
   "execution_count": 14,
   "id": "603e5437",
   "metadata": {},
   "outputs": [
    {
     "name": "stdout",
     "output_type": "stream",
     "text": [
      "30\n"
     ]
    }
   ],
   "source": [
    "# 생성자 이용 멤버변수 초기화\n",
    "class Multiply:\n",
    "    # 멤버변수\n",
    "    x = y = 0\n",
    "    \n",
    "    # 생성자: 초기화\n",
    "    def __init__(self, x, y):  # 객체만 생성\n",
    "        self.x = x\n",
    "        self.y = y\n",
    "        \n",
    "    # 메서드\n",
    "    def mul(self):\n",
    "        return self.x + self.y\n",
    "\n",
    "obj = Multiply(10,20)\n",
    "print(obj.mul())"
   ]
  },
  {
   "cell_type": "code",
   "execution_count": 15,
   "id": "f1049abf",
   "metadata": {},
   "outputs": [
    {
     "data": {
      "text/plain": [
       "30"
      ]
     },
     "execution_count": 15,
     "metadata": {},
     "output_type": "execute_result"
    }
   ],
   "source": [
    "# 메서드 이용 멤버변수 초기화\n",
    "class Multiply2:\n",
    "    # 멤버변수\n",
    "    x = y = 0\n",
    "    \n",
    "    # 생성자 없음\n",
    "    def __init__(self):\n",
    "        pass\n",
    "    \n",
    "    # 메서드: 멤버변수 초기화\n",
    "    def data(self, x, y):\n",
    "        self.x = x\n",
    "        self.y = y\n",
    "    \n",
    "    # 메서드: 곱셈\n",
    "    def mul(self):\n",
    "        return self.x + self.y\n",
    "\n",
    "obj2 = Multiply2()\n",
    "obj2.data(10, 20)  # 동적 멤버변수 생성\n",
    "obj2.mul()"
   ]
  },
  {
   "cell_type": "markdown",
   "id": "96e1fd32",
   "metadata": {},
   "source": [
    "#### SELF\n",
    "- 클래스 구성하는 멤버변수와 메서드를 호출하는 역할을 함\n",
    "- 생성자 안에서 멤버변수 값 초기화 or 메서드 안에서 멤버변수 참조 or 메서드 호출할 경우 이용\n",
    "- 형식: self.멤버변수, self.메서드()\n",
    "\n",
    "- self멤버변수 = 매개변수"
   ]
  },
  {
   "cell_type": "code",
   "execution_count": 17,
   "id": "1e307b65",
   "metadata": {},
   "outputs": [
    {
     "name": "stdout",
     "output_type": "stream",
     "text": [
      "곱셈 = 30\n"
     ]
    }
   ],
   "source": [
    "class Multiply3:\n",
    "    # 멤버변수 없음\n",
    "    # 생성자 없음\n",
    "    \n",
    "    # 동적 멤버변수 생성/ 초기화\n",
    "    def data(self, x, y):\n",
    "        self.x = x              # self.멤버변수 = 매개변수\n",
    "        self.y = y\n",
    "    \n",
    "    # 메서드: 곱셈\n",
    "    def mul(self):\n",
    "        result = self.x + self.y   # self.매개변수 형태로 참조\n",
    "        self.display(result)\n",
    "    \n",
    "    # 결과출력\n",
    "    def display(self, result):\n",
    "        print(\"곱셈 = %d\" %(result))\n",
    "\n",
    "obj3 = Multiply3()   # 기본생성자\n",
    "obj3.data(10, 20)  # 동적 멤버변수 생성\n",
    "obj3.mul()"
   ]
  },
  {
   "cell_type": "markdown",
   "id": "a7a077cb",
   "metadata": {},
   "source": [
    "#### 클래스 멤버\n",
    "- 객체는 클래스의 생성자를 이용해 만들어짐\n",
    "- 객체멤버는 객체 변수, 객체 메서드가 되고, 이들은 모두 객체(참조변수)를 통해 호출이 가능함\n",
    "- 클래스 멤버는 클래스 이름으로 호출할 수 있는 클래스 변수와 클래스 메서드임\n",
    "- 클래스 멤버를 호출하기 위해 객체를 생성할 필요는 없음\n",
    "- 클래스 메서드는 cls 라는 기본인수를 사용, @classmethod라는 함수 장식자를 이용해 선언함\n",
    "\n",
    "                         객체멤버      클래스멤버\n",
    "        구성요소)  객체변수, 객체메서드    클래스변수, 클래스 메서드\n",
    "        객체생성)  객체생성 필요           객체생성 필요 없음\n",
    "        멤버참조)  객체 참조변수 이용      클래스이름 이용\n",
    "        기본인수)  객체 메서드(self)       클래스 메서드(cls)\n",
    "        장식자)    필요없음                @classmethod 필요"
   ]
  },
  {
   "cell_type": "code",
   "execution_count": 20,
   "id": "7e0271c6",
   "metadata": {},
   "outputs": [],
   "source": [
    "class Datepro:\n",
    "    # 멤버변수\n",
    "    content = '날짜 처리 클래스'      # 객체, 클래스 멤버변수 둘 다 가능.\n",
    "    \n",
    "    # 생성자\n",
    "    def __init__(self, year, month, day):\n",
    "        self.year = year              # 객체 멤버변수만 가능. 클래스 멤버변수는 안 됨\n",
    "        self.month = month\n",
    "        self.day = day\n",
    "    \n",
    "    # 객체 메서드\n",
    "    def display(self):\n",
    "        print('%d-%d-%d'%(self.year, self.month, self.day))\n",
    "        \n",
    "    # 클래스메서드\n",
    "    @classmethod\n",
    "    def date_string(cls, datestr):  #'19951025'\n",
    "        year = datestr[:4]\n",
    "        month = datestr[4:6]\n",
    "        day = datestr[6:]\n",
    "        \n",
    "        print(f'{year}년 {month}월 {day}일')\n"
   ]
  },
  {
   "cell_type": "code",
   "execution_count": 22,
   "id": "c783ca4e",
   "metadata": {},
   "outputs": [
    {
     "data": {
      "text/plain": [
       "<__main__.Datepro at 0x1df3fc046d0>"
      ]
     },
     "execution_count": 22,
     "metadata": {},
     "output_type": "execute_result"
    }
   ],
   "source": [
    "# 객체멤버\n",
    "date = Datepro(1995, 10, 25)\n",
    "date"
   ]
  },
  {
   "cell_type": "code",
   "execution_count": 23,
   "id": "9e7c18dd",
   "metadata": {},
   "outputs": [
    {
     "data": {
      "text/plain": [
       "'날짜 처리 클래스'"
      ]
     },
     "execution_count": 23,
     "metadata": {},
     "output_type": "execute_result"
    }
   ],
   "source": [
    "date.content"
   ]
  },
  {
   "cell_type": "code",
   "execution_count": 24,
   "id": "09d88e4b",
   "metadata": {},
   "outputs": [
    {
     "data": {
      "text/plain": [
       "1995"
      ]
     },
     "execution_count": 24,
     "metadata": {},
     "output_type": "execute_result"
    }
   ],
   "source": [
    "date.year"
   ]
  },
  {
   "cell_type": "code",
   "execution_count": 25,
   "id": "662de552",
   "metadata": {},
   "outputs": [
    {
     "name": "stdout",
     "output_type": "stream",
     "text": [
      "1995-10-25\n"
     ]
    }
   ],
   "source": [
    "date.display()"
   ]
  },
  {
   "cell_type": "code",
   "execution_count": 26,
   "id": "9d0983e3",
   "metadata": {},
   "outputs": [
    {
     "data": {
      "text/plain": [
       "'날짜 처리 클래스'"
      ]
     },
     "execution_count": 26,
     "metadata": {},
     "output_type": "execute_result"
    }
   ],
   "source": [
    "# 클래스멤버\n",
    "Datepro.content"
   ]
  },
  {
   "cell_type": "code",
   "execution_count": 27,
   "id": "8ac49a4e",
   "metadata": {},
   "outputs": [
    {
     "ename": "AttributeError",
     "evalue": "type object 'Datepro' has no attribute 'year'",
     "output_type": "error",
     "traceback": [
      "\u001b[1;31m---------------------------------------------------------------------------\u001b[0m",
      "\u001b[1;31mAttributeError\u001b[0m                            Traceback (most recent call last)",
      "Input \u001b[1;32mIn [27]\u001b[0m, in \u001b[0;36m<cell line: 1>\u001b[1;34m()\u001b[0m\n\u001b[1;32m----> 1\u001b[0m \u001b[43mDatepro\u001b[49m\u001b[38;5;241;43m.\u001b[39;49m\u001b[43myear\u001b[49m\n",
      "\u001b[1;31mAttributeError\u001b[0m: type object 'Datepro' has no attribute 'year'"
     ]
    }
   ],
   "source": [
    "Datepro.year    # attribute error"
   ]
  },
  {
   "cell_type": "code",
   "execution_count": 28,
   "id": "5ea11de0",
   "metadata": {},
   "outputs": [
    {
     "name": "stdout",
     "output_type": "stream",
     "text": [
      "1995년 10월 25일\n"
     ]
    }
   ],
   "source": [
    "Datepro.date_string('19951025')"
   ]
  },
  {
   "cell_type": "markdown",
   "id": "24a25f3b",
   "metadata": {},
   "source": [
    "### 6-3. 객체지향 기법\n",
    "\n",
    "#### 캡슐화\n",
    "- 객체의 세부 내용을 외부로부터 감추는 기법\n",
    "- 은닉변수, 획득자(은닉값을 꺼내옴) / 지정자(외부값을 수정)"
   ]
  },
  {
   "cell_type": "code",
   "execution_count": 30,
   "id": "ea28b191",
   "metadata": {},
   "outputs": [],
   "source": [
    "class Account:\n",
    "    # 은닉 멤버변수\n",
    "    __balance = 0  # 잔액\n",
    "    __accName = None  # 예금주\n",
    "    __accNo = None  # 계좌번호\n",
    "    \n",
    "    # 생성자: 멤버변수 초기화\n",
    "    def __init__(self, bal, name, no):\n",
    "        self.__balance = bal\n",
    "        self.__accName = name\n",
    "        self.__accNo = no\n",
    "    \n",
    "    # 계좌정보 확인: getter\n",
    "    def getBalance(self):\n",
    "        return self.__balance, self.__accName, self.__accNo\n",
    "    \n",
    "    # 입금하기: setter\n",
    "    def deposit(self, money):    # 지정자메서드\n",
    "        if money < 0:\n",
    "            print('금액 확인')\n",
    "            return #  종료\n",
    "        self.__balance += money\n",
    "    \n",
    "    # 출금하기: setter            # 지정자메서드\n",
    "    def withdraw(self, money):\n",
    "        if self.balance < money:\n",
    "            print(\"잔액 부족\")\n",
    "            return\n",
    "        self.__balance -= money"
   ]
  },
  {
   "cell_type": "code",
   "execution_count": 32,
   "id": "5c165d6e",
   "metadata": {},
   "outputs": [
    {
     "data": {
      "text/plain": [
       "<__main__.Account at 0x1df3fc05cf0>"
      ]
     },
     "execution_count": 32,
     "metadata": {},
     "output_type": "execute_result"
    }
   ],
   "source": [
    "# object 생성\n",
    "acc = Account(1000, '홍길동', '125-152-4125-41')\n",
    "acc"
   ]
  },
  {
   "cell_type": "code",
   "execution_count": 33,
   "id": "4c3df10e",
   "metadata": {},
   "outputs": [
    {
     "ename": "AttributeError",
     "evalue": "'Account' object has no attribute '__balance'",
     "output_type": "error",
     "traceback": [
      "\u001b[1;31m---------------------------------------------------------------------------\u001b[0m",
      "\u001b[1;31mAttributeError\u001b[0m                            Traceback (most recent call last)",
      "Input \u001b[1;32mIn [33]\u001b[0m, in \u001b[0;36m<cell line: 2>\u001b[1;34m()\u001b[0m\n\u001b[0;32m      1\u001b[0m \u001b[38;5;66;03m# getter 호출\u001b[39;00m\n\u001b[1;32m----> 2\u001b[0m \u001b[43macc\u001b[49m\u001b[38;5;241;43m.\u001b[39;49m\u001b[43m__balance\u001b[49m\n",
      "\u001b[1;31mAttributeError\u001b[0m: 'Account' object has no attribute '__balance'"
     ]
    }
   ],
   "source": [
    "# getter 호출\n",
    "acc.__balance # error"
   ]
  },
  {
   "cell_type": "code",
   "execution_count": 34,
   "id": "8c54e952",
   "metadata": {},
   "outputs": [
    {
     "data": {
      "text/plain": [
       "(1000, '홍길동', '125-152-4125-41')"
      ]
     },
     "execution_count": 34,
     "metadata": {},
     "output_type": "execute_result"
    }
   ],
   "source": [
    "bal = acc.getBalance()\n",
    "bal"
   ]
  },
  {
   "cell_type": "code",
   "execution_count": 35,
   "id": "9c5cc89d",
   "metadata": {},
   "outputs": [
    {
     "data": {
      "text/plain": [
       "<__main__.Account at 0x1df3fc05cf0>"
      ]
     },
     "execution_count": 35,
     "metadata": {},
     "output_type": "execute_result"
    }
   ],
   "source": [
    "acc.deposit(10000)\n",
    "acc"
   ]
  },
  {
   "cell_type": "code",
   "execution_count": 36,
   "id": "ac25931b",
   "metadata": {},
   "outputs": [
    {
     "data": {
      "text/plain": [
       "(11000, '홍길동', '125-152-4125-41')"
      ]
     },
     "execution_count": 36,
     "metadata": {},
     "output_type": "execute_result"
    }
   ],
   "source": [
    "acc.getBalance()"
   ]
  },
  {
   "cell_type": "markdown",
   "id": "5ffface8",
   "metadata": {},
   "source": [
    "#### 상속 INHERITANCE\n",
    "\n",
    "- 클래스 간 계층적 관계 구성하여, 코드 재사용성과 다형성의 문법적 토대 마련\n",
    "- 부모클래스는 자식클래스에서 공통으로 사용할 수 있는 멤버를 선언하여 클래스를 정의함\n",
    "- 예) 부모클래스: 사원( 사원명, 부서명, 급여 있음 ) / 자식클래스: 정규직 / 임시직\n",
    "\n",
    "#### 클래스의 상속\n",
    "- 자식클래스는 부모의 멤버(멤버변수, 메서드)를 상속받음\n",
    "- 생성자는 상속 대상이 아님"
   ]
  },
  {
   "cell_type": "code",
   "execution_count": 37,
   "id": "fbe5a321",
   "metadata": {},
   "outputs": [],
   "source": [
    "# 부모클래스\n",
    "class Super:\n",
    "    # 생성자: 동적 멤버 생성\n",
    "    def __init__(self, name, age):\n",
    "        self.name = name\n",
    "        self.age = age\n",
    "        \n",
    "    # 메서드\n",
    "    def display(self):\n",
    "        print('name: %s, age: %d'%(self.name, self.age))"
   ]
  },
  {
   "cell_type": "code",
   "execution_count": 39,
   "id": "26863ddf",
   "metadata": {},
   "outputs": [
    {
     "name": "stdout",
     "output_type": "stream",
     "text": [
      "name: 부모, age: 55\n"
     ]
    }
   ],
   "source": [
    "sup = Super('부모',55)\n",
    "sup.display()"
   ]
  },
  {
   "cell_type": "code",
   "execution_count": 40,
   "id": "af37a6d4",
   "metadata": {},
   "outputs": [],
   "source": [
    "# 자식클래스\n",
    "class Sub(Super):   # 클래스 상속\n",
    "    gender = None    # 자식 멤버\n",
    "    \n",
    "    # 생성자\n",
    "    def __init__(self, name, age, gender):\n",
    "        self.name = name\n",
    "        self.age = age\n",
    "        self.gender = gender\n",
    "        \n",
    "    # 메서드 확장\n",
    "    def display(self):\n",
    "        print('name: %s, age: %d, gender: %s'%(self.name, self.age, self.gender))"
   ]
  },
  {
   "cell_type": "code",
   "execution_count": 41,
   "id": "4a784da0",
   "metadata": {},
   "outputs": [
    {
     "data": {
      "text/plain": [
       "<__main__.Sub at 0x1df3fa8ed70>"
      ]
     },
     "execution_count": 41,
     "metadata": {},
     "output_type": "execute_result"
    }
   ],
   "source": [
    "sub = Sub('자식', 25, '여자')\n",
    "sub"
   ]
  },
  {
   "cell_type": "code",
   "execution_count": 42,
   "id": "1efb7586",
   "metadata": {},
   "outputs": [
    {
     "name": "stdout",
     "output_type": "stream",
     "text": [
      "name: 자식, age: 25, gender: 여자\n"
     ]
    }
   ],
   "source": [
    "sub.display()"
   ]
  },
  {
   "cell_type": "markdown",
   "id": "12365c62",
   "metadata": {},
   "source": [
    "#### SUPER 클래스\n",
    "- super().__init()   # 부모클래스 생성자 호출"
   ]
  },
  {
   "cell_type": "code",
   "execution_count": 43,
   "id": "eb98c94a",
   "metadata": {},
   "outputs": [],
   "source": [
    "# 부모클래스 \n",
    "class Parent: \n",
    "    # 생성자: 객체+ 초기화\n",
    "    def __init__(self, name, job):\n",
    "        self.name = name\n",
    "        self.job = job\n",
    "    # 멤버함수\n",
    "    def display(self):\n",
    "        print('name: {}, job: {}'.format(self.name, self.job))"
   ]
  },
  {
   "cell_type": "code",
   "execution_count": 44,
   "id": "5af3318d",
   "metadata": {},
   "outputs": [
    {
     "name": "stdout",
     "output_type": "stream",
     "text": [
      "name: 홍길동, job: 회사원\n"
     ]
    }
   ],
   "source": [
    "# 부모클래스 객체 생성\n",
    "p = Parent('홍길동','회사원')\n",
    "p.display()"
   ]
  },
  {
   "cell_type": "code",
   "execution_count": 45,
   "id": "59b1ee55",
   "metadata": {},
   "outputs": [],
   "source": [
    "# 자식클래스\n",
    "class Childeren(Parent):\n",
    "    gender = None   # 자식클래스 멤버변수 추가\n",
    "    \n",
    "    # 생성자\n",
    "    def __init__(self, name, job, gender):\n",
    "        # 부모클래스 생성자호출\n",
    "        super().__init__(name, job)   # name, job 초기화\n",
    "        self.gender = gender          # 자식클래스 멤버변수 gender 초기화\n",
    "    \n",
    "    # 멤버함수\n",
    "    def display(self):   # 함수 재정의\n",
    "        print('name: {}, job: {}, gender: {}'.format(self.name, self.job, self.gender))"
   ]
  },
  {
   "cell_type": "code",
   "execution_count": 46,
   "id": "a987d179",
   "metadata": {},
   "outputs": [
    {
     "data": {
      "text/plain": [
       "<__main__.Childeren at 0x1df3fbbce80>"
      ]
     },
     "execution_count": 46,
     "metadata": {},
     "output_type": "execute_result"
    }
   ],
   "source": [
    "chil = Childeren('홍홍동','장군','남자')\n",
    "chil"
   ]
  },
  {
   "cell_type": "code",
   "execution_count": 47,
   "id": "f3036f6e",
   "metadata": {},
   "outputs": [
    {
     "name": "stdout",
     "output_type": "stream",
     "text": [
      "name: 홍홍동, job: 장군, gender: 남자\n"
     ]
    }
   ],
   "source": [
    "chil.display()"
   ]
  },
  {
   "cell_type": "markdown",
   "id": "decca5f7",
   "metadata": {},
   "source": [
    "#### 메서드 재정의\n",
    "- 예) 부모클래스: 사원(급여계산), 자식클래스: 정규직(급여=기본급+상여금), 임시직(급여=시급*근무시간)"
   ]
  },
  {
   "cell_type": "code",
   "execution_count": 70,
   "id": "bb17b6bb",
   "metadata": {},
   "outputs": [],
   "source": [
    "# 부모클래스\n",
    "class Employee:\n",
    "    name = None\n",
    "    pay = 0\n",
    "    \n",
    "    def __init__(self, name):\n",
    "        self.name = name\n",
    "    def pay(self):\n",
    "        pass\n",
    "\n",
    "# 자식클래스: 정규직\n",
    "class Permanent(Employee):\n",
    "    def __init__(self, name):\n",
    "        super().__init__(name)\n",
    "    def pay(self, base, bonus):\n",
    "        self.pay = base + bonus\n",
    "        print(\"총 수령액: \", format(self.pay, ',d'),'원')\n",
    "\n",
    "# 자식클래스: 임시직\n",
    "class Temporary(Employee):\n",
    "    def __init__(self, name):\n",
    "        super().__init__(name)\n",
    "    def pay(self, tpay, time):\n",
    "        self.pay = tpay * time\n",
    "        print(\"총 수령액: \", format(self.pay, ',d'),'원')\n"
   ]
  },
  {
   "cell_type": "code",
   "execution_count": 71,
   "id": "500b5845",
   "metadata": {},
   "outputs": [
    {
     "data": {
      "text/plain": [
       "<__main__.Permanent at 0x1df3fbda8c0>"
      ]
     },
     "execution_count": 71,
     "metadata": {},
     "output_type": "execute_result"
    }
   ],
   "source": [
    "# 객체 생성\n",
    "p = Permanent('이순신')\n",
    "p"
   ]
  },
  {
   "cell_type": "code",
   "execution_count": 72,
   "id": "19d9a598",
   "metadata": {},
   "outputs": [
    {
     "name": "stdout",
     "output_type": "stream",
     "text": [
      "총 수령액:  3,200,000 원\n"
     ]
    }
   ],
   "source": [
    "p.pay(3000000, 200000)"
   ]
  },
  {
   "cell_type": "code",
   "execution_count": 73,
   "id": "fa38cf52",
   "metadata": {},
   "outputs": [
    {
     "data": {
      "text/plain": [
       "<__main__.Temporary at 0x1df3fbd86a0>"
      ]
     },
     "execution_count": 73,
     "metadata": {},
     "output_type": "execute_result"
    }
   ],
   "source": [
    "t = Temporary('홍길동')\n",
    "t"
   ]
  },
  {
   "cell_type": "code",
   "execution_count": 74,
   "id": "b0d78cce",
   "metadata": {},
   "outputs": [
    {
     "name": "stdout",
     "output_type": "stream",
     "text": [
      "총 수령액:  1,200,000 원\n"
     ]
    }
   ],
   "source": [
    "t.pay(15000, 80)"
   ]
  },
  {
   "cell_type": "markdown",
   "id": "86a598c1",
   "metadata": {},
   "source": [
    "#### 다형성: 여러가지 형태를 가질 수 있는 능력\n",
    "\n",
    "- 예) 파이썬에서 + 기호: 산술연산 덧셈, 문자열연산 결합기능 2가지 다 갖고 있음\n",
    "- 하나의 참조변수로 여러 타입의 객체를 참조할 수 있는 것\n",
    "- 클래스 예) 부모클래스: 비행(날다) >> 자식클래스: 비행기(날다), 새(날다), 종이비행기(날다) 로 재정의"
   ]
  },
  {
   "cell_type": "code",
   "execution_count": 76,
   "id": "fd4b29ef",
   "metadata": {},
   "outputs": [],
   "source": [
    "# 부모클래스\n",
    "class Flight:\n",
    "    # 부모 원형함수\n",
    "    def fly(self):\n",
    "        print(\"날다, fly 원형 메서드\")\n",
    "        \n",
    "# 자식클래스(비행기)\n",
    "class Airplane(Flight):\n",
    "    \n",
    "    # 함수재정의\n",
    "    def fly(self):\n",
    "        print(\"비행기가 날다\")\n",
    "\n",
    "# 자식클래스(새)\n",
    "class Bird(Flight):\n",
    "    \n",
    "    # 함수재정의\n",
    "    def fly(self):\n",
    "        print(\"새가 날다\")\n",
    "\n",
    "# 자식클래스(종이비행기)\n",
    "class PaperAirplane(Flight):\n",
    "    \n",
    "    # 함수재정의\n",
    "    def fly(self):\n",
    "        print(\"종이비행기가 날다\")\n"
   ]
  },
  {
   "cell_type": "code",
   "execution_count": 77,
   "id": "cd232e2e",
   "metadata": {},
   "outputs": [
    {
     "data": {
      "text/plain": [
       "<__main__.Flight at 0x1df3fbca0b0>"
      ]
     },
     "execution_count": 77,
     "metadata": {},
     "output_type": "execute_result"
    }
   ],
   "source": [
    "# 객체 생성\n",
    "# 부모객체 = 자식객체(자식1, 자식2)\n",
    "\n",
    "flight = Flight()\n",
    "flight"
   ]
  },
  {
   "cell_type": "code",
   "execution_count": 78,
   "id": "2cf72cf6",
   "metadata": {},
   "outputs": [
    {
     "data": {
      "text/plain": [
       "<__main__.Bird at 0x1df3fbcb6a0>"
      ]
     },
     "execution_count": 78,
     "metadata": {},
     "output_type": "execute_result"
    }
   ],
   "source": [
    "air = Airplane()\n",
    "bird = Bird()\n",
    "paper = PaperAirplane()\n",
    "bird"
   ]
  },
  {
   "cell_type": "code",
   "execution_count": 79,
   "id": "a3c4a47d",
   "metadata": {},
   "outputs": [
    {
     "name": "stdout",
     "output_type": "stream",
     "text": [
      "날다, fly 원형 메서드\n"
     ]
    }
   ],
   "source": [
    "# 다형성\n",
    "flight.fly()"
   ]
  },
  {
   "cell_type": "code",
   "execution_count": 80,
   "id": "d4eddb9d",
   "metadata": {},
   "outputs": [
    {
     "name": "stdout",
     "output_type": "stream",
     "text": [
      "비행기가 날다\n"
     ]
    }
   ],
   "source": [
    "flight = air\n",
    "flight.fly()"
   ]
  },
  {
   "cell_type": "code",
   "execution_count": 81,
   "id": "a704b712",
   "metadata": {},
   "outputs": [
    {
     "name": "stdout",
     "output_type": "stream",
     "text": [
      "새가 날다\n"
     ]
    }
   ],
   "source": [
    "flight = bird\n",
    "flight.fly()"
   ]
  },
  {
   "cell_type": "code",
   "execution_count": 82,
   "id": "0b2b0ef8",
   "metadata": {},
   "outputs": [
    {
     "name": "stdout",
     "output_type": "stream",
     "text": [
      "종이비행기가 날다\n"
     ]
    }
   ],
   "source": [
    "flight = paper\n",
    "flight.fly()"
   ]
  },
  {
   "cell_type": "markdown",
   "id": "da1c9d39",
   "metadata": {},
   "source": [
    "### 6.4 내장클래스\n",
    "\n",
    "- import 모듈명\n",
    "- from 모듈명 import 클래스명1, 클래스명2, ...\n",
    "\n",
    "#### builtins 모듈 내장클래스\n",
    "- import가 필요없는 builtins 모듈의 enumerate 내장클래스\n"
   ]
  },
  {
   "cell_type": "code",
   "execution_count": 83,
   "id": "f34bc642",
   "metadata": {},
   "outputs": [
    {
     "name": "stdout",
     "output_type": "stream",
     "text": [
      "색인:  0, 내용:  1\n",
      "색인:  1, 내용:  3\n",
      "색인:  2, 내용:  5\n"
     ]
    }
   ],
   "source": [
    "lst = [1,3,5]\n",
    "for i, c in enumerate(lst):    # 원소의 위치, 원소의 내용(원소) 반환\n",
    "    print(\"색인: \", i, end = \", \")\n",
    "    print(\"내용: \", c)"
   ]
  },
  {
   "cell_type": "code",
   "execution_count": 84,
   "id": "29e61c7c",
   "metadata": {},
   "outputs": [
    {
     "name": "stdout",
     "output_type": "stream",
     "text": [
      "순서:  0, 키:  name, 값:  홍길동\n",
      "순서:  1, 키:  job, 값:  회사원\n",
      "순서:  2, 키:  addr, 값:  서울시\n"
     ]
    }
   ],
   "source": [
    "dic = {'name': '홍길동','job': '회사원','addr': '서울시'}\n",
    "for i, k in enumerate(dic):     # 원소 꺼내온 순서, 키 값 반환\n",
    "    print('순서: ', i, end = ', ')\n",
    "    print('키: ', k, end = ', ')\n",
    "    print('값: ', dic[k])"
   ]
  },
  {
   "cell_type": "markdown",
   "id": "66079510",
   "metadata": {},
   "source": [
    "#### import 모듈 내장클래스\n",
    "- import가 필요한 datetime 모듈의 date, time의 내장클래스 생성자를 이용해 객체 생성 "
   ]
  },
  {
   "cell_type": "code",
   "execution_count": 85,
   "id": "df419dec",
   "metadata": {
    "scrolled": false
   },
   "outputs": [
    {
     "name": "stdout",
     "output_type": "stream",
     "text": [
      "Help on class date in module datetime:\n",
      "\n",
      "class date(builtins.object)\n",
      " |  date(year, month, day) --> date object\n",
      " |  \n",
      " |  Methods defined here:\n",
      " |  \n",
      " |  __add__(self, value, /)\n",
      " |      Return self+value.\n",
      " |  \n",
      " |  __eq__(self, value, /)\n",
      " |      Return self==value.\n",
      " |  \n",
      " |  __format__(...)\n",
      " |      Formats self with strftime.\n",
      " |  \n",
      " |  __ge__(self, value, /)\n",
      " |      Return self>=value.\n",
      " |  \n",
      " |  __getattribute__(self, name, /)\n",
      " |      Return getattr(self, name).\n",
      " |  \n",
      " |  __gt__(self, value, /)\n",
      " |      Return self>value.\n",
      " |  \n",
      " |  __hash__(self, /)\n",
      " |      Return hash(self).\n",
      " |  \n",
      " |  __le__(self, value, /)\n",
      " |      Return self<=value.\n",
      " |  \n",
      " |  __lt__(self, value, /)\n",
      " |      Return self<value.\n",
      " |  \n",
      " |  __ne__(self, value, /)\n",
      " |      Return self!=value.\n",
      " |  \n",
      " |  __radd__(self, value, /)\n",
      " |      Return value+self.\n",
      " |  \n",
      " |  __reduce__(...)\n",
      " |      __reduce__() -> (cls, state)\n",
      " |  \n",
      " |  __repr__(self, /)\n",
      " |      Return repr(self).\n",
      " |  \n",
      " |  __rsub__(self, value, /)\n",
      " |      Return value-self.\n",
      " |  \n",
      " |  __str__(self, /)\n",
      " |      Return str(self).\n",
      " |  \n",
      " |  __sub__(self, value, /)\n",
      " |      Return self-value.\n",
      " |  \n",
      " |  ctime(...)\n",
      " |      Return ctime() style string.\n",
      " |  \n",
      " |  isocalendar(...)\n",
      " |      Return a named tuple containing ISO year, week number, and weekday.\n",
      " |  \n",
      " |  isoformat(...)\n",
      " |      Return string in ISO 8601 format, YYYY-MM-DD.\n",
      " |  \n",
      " |  isoweekday(...)\n",
      " |      Return the day of the week represented by the date.\n",
      " |      Monday == 1 ... Sunday == 7\n",
      " |  \n",
      " |  replace(...)\n",
      " |      Return date with new specified fields.\n",
      " |  \n",
      " |  strftime(...)\n",
      " |      format -> strftime() style string.\n",
      " |  \n",
      " |  timetuple(...)\n",
      " |      Return time tuple, compatible with time.localtime().\n",
      " |  \n",
      " |  toordinal(...)\n",
      " |      Return proleptic Gregorian ordinal.  January 1 of year 1 is day 1.\n",
      " |  \n",
      " |  weekday(...)\n",
      " |      Return the day of the week represented by the date.\n",
      " |      Monday == 0 ... Sunday == 6\n",
      " |  \n",
      " |  ----------------------------------------------------------------------\n",
      " |  Class methods defined here:\n",
      " |  \n",
      " |  fromisocalendar(...) from builtins.type\n",
      " |      int, int, int -> Construct a date from the ISO year, week number and weekday.\n",
      " |      \n",
      " |      This is the inverse of the date.isocalendar() function\n",
      " |  \n",
      " |  fromisoformat(...) from builtins.type\n",
      " |      str -> Construct a date from the output of date.isoformat()\n",
      " |  \n",
      " |  fromordinal(...) from builtins.type\n",
      " |      int -> date corresponding to a proleptic Gregorian ordinal.\n",
      " |  \n",
      " |  fromtimestamp(timestamp, /) from builtins.type\n",
      " |      Create a date from a POSIX timestamp.\n",
      " |      \n",
      " |      The timestamp is a number, e.g. created via time.time(), that is interpreted\n",
      " |      as local time.\n",
      " |  \n",
      " |  today(...) from builtins.type\n",
      " |      Current date or datetime:  same as self.__class__.fromtimestamp(time.time()).\n",
      " |  \n",
      " |  ----------------------------------------------------------------------\n",
      " |  Static methods defined here:\n",
      " |  \n",
      " |  __new__(*args, **kwargs) from builtins.type\n",
      " |      Create and return a new object.  See help(type) for accurate signature.\n",
      " |  \n",
      " |  ----------------------------------------------------------------------\n",
      " |  Data descriptors defined here:\n",
      " |  \n",
      " |  day\n",
      " |  \n",
      " |  month\n",
      " |  \n",
      " |  year\n",
      " |  \n",
      " |  ----------------------------------------------------------------------\n",
      " |  Data and other attributes defined here:\n",
      " |  \n",
      " |  max = datetime.date(9999, 12, 31)\n",
      " |  \n",
      " |  min = datetime.date(1, 1, 1)\n",
      " |  \n",
      " |  resolution = datetime.timedelta(days=1)\n",
      "\n"
     ]
    }
   ],
   "source": [
    "# 모듈 내장클래스 import\n",
    "\n",
    "import datetime\n",
    "from datetime import date, time\n",
    "\n",
    "# date클래스\n",
    "help(date)"
   ]
  },
  {
   "cell_type": "code",
   "execution_count": 87,
   "id": "4115af55",
   "metadata": {},
   "outputs": [
    {
     "data": {
      "text/plain": [
       "datetime.date(2019, 10, 23)"
      ]
     },
     "execution_count": 87,
     "metadata": {},
     "output_type": "execute_result"
    }
   ],
   "source": [
    "today = date(2019, 10, 23)\n",
    "today"
   ]
  },
  {
   "cell_type": "code",
   "execution_count": 88,
   "id": "9391f10c",
   "metadata": {},
   "outputs": [
    {
     "name": "stdout",
     "output_type": "stream",
     "text": [
      "2019-10-23\n"
     ]
    }
   ],
   "source": [
    "print(today)"
   ]
  },
  {
   "cell_type": "code",
   "execution_count": 89,
   "id": "99254e70",
   "metadata": {},
   "outputs": [
    {
     "name": "stdout",
     "output_type": "stream",
     "text": [
      "2019\n"
     ]
    }
   ],
   "source": [
    "# date 객체 멤버변수 호출\n",
    "print(today.year)"
   ]
  },
  {
   "cell_type": "code",
   "execution_count": 90,
   "id": "080dbf77",
   "metadata": {},
   "outputs": [
    {
     "data": {
      "text/plain": [
       "2019"
      ]
     },
     "execution_count": 90,
     "metadata": {},
     "output_type": "execute_result"
    }
   ],
   "source": [
    "today.year"
   ]
  },
  {
   "cell_type": "code",
   "execution_count": 91,
   "id": "a4a05d45",
   "metadata": {},
   "outputs": [
    {
     "data": {
      "text/plain": [
       "(10, 23)"
      ]
     },
     "execution_count": 91,
     "metadata": {},
     "output_type": "execute_result"
    }
   ],
   "source": [
    "today.month, today.day"
   ]
  },
  {
   "cell_type": "code",
   "execution_count": 92,
   "id": "06c60126",
   "metadata": {},
   "outputs": [
    {
     "data": {
      "text/plain": [
       "2"
      ]
     },
     "execution_count": 92,
     "metadata": {},
     "output_type": "execute_result"
    }
   ],
   "source": [
    "# date 객체 메서드 호출\n",
    "w = today.weekday()\n",
    "w"
   ]
  },
  {
   "cell_type": "code",
   "execution_count": 93,
   "id": "fc6954bb",
   "metadata": {
    "scrolled": false
   },
   "outputs": [
    {
     "name": "stdout",
     "output_type": "stream",
     "text": [
      "Help on class time in module datetime:\n",
      "\n",
      "class time(builtins.object)\n",
      " |  time([hour[, minute[, second[, microsecond[, tzinfo]]]]]) --> a time object\n",
      " |  \n",
      " |  All arguments are optional. tzinfo may be None, or an instance of\n",
      " |  a tzinfo subclass. The remaining arguments may be ints.\n",
      " |  \n",
      " |  Methods defined here:\n",
      " |  \n",
      " |  __eq__(self, value, /)\n",
      " |      Return self==value.\n",
      " |  \n",
      " |  __format__(...)\n",
      " |      Formats self with strftime.\n",
      " |  \n",
      " |  __ge__(self, value, /)\n",
      " |      Return self>=value.\n",
      " |  \n",
      " |  __getattribute__(self, name, /)\n",
      " |      Return getattr(self, name).\n",
      " |  \n",
      " |  __gt__(self, value, /)\n",
      " |      Return self>value.\n",
      " |  \n",
      " |  __hash__(self, /)\n",
      " |      Return hash(self).\n",
      " |  \n",
      " |  __le__(self, value, /)\n",
      " |      Return self<=value.\n",
      " |  \n",
      " |  __lt__(self, value, /)\n",
      " |      Return self<value.\n",
      " |  \n",
      " |  __ne__(self, value, /)\n",
      " |      Return self!=value.\n",
      " |  \n",
      " |  __reduce__(...)\n",
      " |      __reduce__() -> (cls, state)\n",
      " |  \n",
      " |  __reduce_ex__(...)\n",
      " |      __reduce_ex__(proto) -> (cls, state)\n",
      " |  \n",
      " |  __repr__(self, /)\n",
      " |      Return repr(self).\n",
      " |  \n",
      " |  __str__(self, /)\n",
      " |      Return str(self).\n",
      " |  \n",
      " |  dst(...)\n",
      " |      Return self.tzinfo.dst(self).\n",
      " |  \n",
      " |  isoformat(...)\n",
      " |      Return string in ISO 8601 format, [HH[:MM[:SS[.mmm[uuu]]]]][+HH:MM].\n",
      " |      \n",
      " |      The optional argument timespec specifies the number of additional terms\n",
      " |      of the time to include. Valid options are 'auto', 'hours', 'minutes',\n",
      " |      'seconds', 'milliseconds' and 'microseconds'.\n",
      " |  \n",
      " |  replace(...)\n",
      " |      Return time with new specified fields.\n",
      " |  \n",
      " |  strftime(...)\n",
      " |      format -> strftime() style string.\n",
      " |  \n",
      " |  tzname(...)\n",
      " |      Return self.tzinfo.tzname(self).\n",
      " |  \n",
      " |  utcoffset(...)\n",
      " |      Return self.tzinfo.utcoffset(self).\n",
      " |  \n",
      " |  ----------------------------------------------------------------------\n",
      " |  Class methods defined here:\n",
      " |  \n",
      " |  fromisoformat(...) from builtins.type\n",
      " |      string -> time from time.isoformat() output\n",
      " |  \n",
      " |  ----------------------------------------------------------------------\n",
      " |  Static methods defined here:\n",
      " |  \n",
      " |  __new__(*args, **kwargs) from builtins.type\n",
      " |      Create and return a new object.  See help(type) for accurate signature.\n",
      " |  \n",
      " |  ----------------------------------------------------------------------\n",
      " |  Data descriptors defined here:\n",
      " |  \n",
      " |  fold\n",
      " |  \n",
      " |  hour\n",
      " |  \n",
      " |  microsecond\n",
      " |  \n",
      " |  minute\n",
      " |  \n",
      " |  second\n",
      " |  \n",
      " |  tzinfo\n",
      " |  \n",
      " |  ----------------------------------------------------------------------\n",
      " |  Data and other attributes defined here:\n",
      " |  \n",
      " |  max = datetime.time(23, 59, 59, 999999)\n",
      " |  \n",
      " |  min = datetime.time(0, 0)\n",
      " |  \n",
      " |  resolution = datetime.timedelta(microseconds=1)\n",
      "\n"
     ]
    }
   ],
   "source": [
    "# time클래스\n",
    "help(time)"
   ]
  },
  {
   "cell_type": "code",
   "execution_count": 94,
   "id": "f602bef0",
   "metadata": {},
   "outputs": [
    {
     "data": {
      "text/plain": [
       "datetime.time(21, 4, 30)"
      ]
     },
     "execution_count": 94,
     "metadata": {},
     "output_type": "execute_result"
    }
   ],
   "source": [
    "time(21,4,30)"
   ]
  },
  {
   "cell_type": "code",
   "execution_count": 97,
   "id": "4863f957",
   "metadata": {},
   "outputs": [
    {
     "data": {
      "text/plain": [
       "datetime.time(21, 4, 30)"
      ]
     },
     "execution_count": 97,
     "metadata": {},
     "output_type": "execute_result"
    }
   ],
   "source": [
    "# time 객체 생성\n",
    "currTime = time(21,4,30)\n",
    "currTime"
   ]
  },
  {
   "cell_type": "code",
   "execution_count": 99,
   "id": "2612783d",
   "metadata": {},
   "outputs": [
    {
     "data": {
      "text/plain": [
       "(21, 4, 30)"
      ]
     },
     "execution_count": 99,
     "metadata": {},
     "output_type": "execute_result"
    }
   ],
   "source": [
    "currTime.hour, currTime.minute, currTime.second"
   ]
  },
  {
   "cell_type": "code",
   "execution_count": 100,
   "id": "994c80c9",
   "metadata": {},
   "outputs": [
    {
     "data": {
      "text/plain": [
       "0"
      ]
     },
     "execution_count": 100,
     "metadata": {},
     "output_type": "execute_result"
    }
   ],
   "source": [
    "currTime.microsecond"
   ]
  },
  {
   "cell_type": "code",
   "execution_count": 101,
   "id": "18899eaf",
   "metadata": {},
   "outputs": [
    {
     "data": {
      "text/plain": [
       "'21:04:30'"
      ]
     },
     "execution_count": 101,
     "metadata": {},
     "output_type": "execute_result"
    }
   ],
   "source": [
    "currTime.isoformat()"
   ]
  },
  {
   "cell_type": "markdown",
   "id": "923689c4",
   "metadata": {},
   "source": [
    "### 6.5 패키지와 모듈\n",
    "\n",
    "####  Lib 라이브러리 \n",
    "- 폴더의 모양을 띈 패키지\n",
    "    - 관련있는 모듈을 하나의 꾸러미 형태로 묶어줌\n",
    "- 파일(*.py)의 형식을 띈 모듈\n",
    "    - 함수나 클래스를 파일로 작성해 제공\n",
    "    \n",
    "#### 라이브러리 import\n",
    "- import 모듈\n",
    "- import 패키지.모듈\n",
    "- from 패키지.모듈 import 함수, 클래스, ..."
   ]
  },
  {
   "cell_type": "code",
   "execution_count": null,
   "id": "b98c9fb2",
   "metadata": {},
   "outputs": [],
   "source": []
  }
 ],
 "metadata": {
  "kernelspec": {
   "display_name": "Python 3 (ipykernel)",
   "language": "python",
   "name": "python3"
  },
  "language_info": {
   "codemirror_mode": {
    "name": "ipython",
    "version": 3
   },
   "file_extension": ".py",
   "mimetype": "text/x-python",
   "name": "python",
   "nbconvert_exporter": "python",
   "pygments_lexer": "ipython3",
   "version": "3.10.4"
  }
 },
 "nbformat": 4,
 "nbformat_minor": 5
}
