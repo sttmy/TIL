{
 "cells": [
  {
   "cell_type": "markdown",
   "id": "f5657078",
   "metadata": {},
   "source": [
    "## EDA"
   ]
  },
  {
   "cell_type": "code",
   "execution_count": 13,
   "id": "018c9114",
   "metadata": {},
   "outputs": [],
   "source": [
    "import pandas as pd\n",
    "import numpy as np\n",
    "import matplotlib as mpl\n",
    "import matplotlib.pyplot as plt"
   ]
  },
  {
   "cell_type": "code",
   "execution_count": 62,
   "id": "ee05945e",
   "metadata": {
    "collapsed": true
   },
   "outputs": [
    {
     "name": "stdout",
     "output_type": "stream",
     "text": [
      "<class 'pandas.core.frame.DataFrame'>\n",
      "RangeIndex: 398 entries, 0 to 397\n",
      "Data columns (total 9 columns):\n",
      " #   Column  Non-Null Count  Dtype  \n",
      "---  ------  --------------  -----  \n",
      " 0   0       398 non-null    float64\n",
      " 1   1       398 non-null    int64  \n",
      " 2   2       398 non-null    float64\n",
      " 3   3       398 non-null    object \n",
      " 4   4       398 non-null    float64\n",
      " 5   5       398 non-null    float64\n",
      " 6   6       398 non-null    int64  \n",
      " 7   7       398 non-null    int64  \n",
      " 8   8       398 non-null    object \n",
      "dtypes: float64(4), int64(3), object(2)\n",
      "memory usage: 28.1+ KB\n"
     ]
    },
    {
     "data": {
      "text/plain": [
       "0    129\n",
       "1      5\n",
       "2     82\n",
       "3     94\n",
       "4    351\n",
       "5     95\n",
       "6     13\n",
       "7      3\n",
       "8    305\n",
       "dtype: int64"
      ]
     },
     "execution_count": 62,
     "metadata": {},
     "output_type": "execute_result"
    }
   ],
   "source": [
    "auto = pd.read_csv('auto-mpg.csv', header = None)\n",
    "auto.head()\n",
    "auto.tail()\n",
    "\n",
    "len(auto)\n",
    "auto.count()      # 각 열 갯수 확인\n",
    "auto.shape\n",
    "\n",
    "auto.info()\n",
    "auto.nunique()    # 각 컬럼의 unique values 확인\n",
    "\n",
    "# 각 열의 자료형 확인\n",
    "auto.dtypes"
   ]
  },
  {
   "cell_type": "code",
   "execution_count": 65,
   "id": "031b23e2",
   "metadata": {},
   "outputs": [],
   "source": [
    "auto.columns = ['mpg','cylinders','displacement','horsepower','weight','acceleration','model year','origin','name']"
   ]
  },
  {
   "cell_type": "markdown",
   "id": "5a413a0c",
   "metadata": {},
   "source": [
    "### 기술통계정보 확인"
   ]
  },
  {
   "cell_type": "code",
   "execution_count": 66,
   "id": "9a248aa8",
   "metadata": {},
   "outputs": [
    {
     "name": "stderr",
     "output_type": "stream",
     "text": [
      "C:\\Users\\User\\AppData\\Local\\Temp\\ipykernel_17252\\690355031.py:7: FutureWarning: Dropping of nuisance columns in DataFrame reductions (with 'numeric_only=None') is deprecated; in a future version this will raise TypeError.  Select only valid columns before calling the reduction.\n",
      "  auto.mean()\n"
     ]
    },
    {
     "data": {
      "text/plain": [
       "(23.514572864321607, 23.0, 7.815984312565782, 9.0)"
      ]
     },
     "execution_count": 66,
     "metadata": {},
     "output_type": "execute_result"
    }
   ],
   "source": [
    "auto.describe()   # 숫자형 데이터만 출력\n",
    "\n",
    "type(auto.count())\n",
    "auto['origin'].unique()    \n",
    "auto['origin'].value_counts()\n",
    "\n",
    "auto.mean()\n",
    "auto.mpg.mean(), auto.mpg.median(), auto.mpg.std(), auto.mpg.min()"
   ]
  },
  {
   "cell_type": "markdown",
   "id": "70d749c6",
   "metadata": {},
   "source": [
    "### 변수 관계 탐색 "
   ]
  },
  {
   "cell_type": "code",
   "execution_count": 67,
   "id": "441121d3",
   "metadata": {},
   "outputs": [
    {
     "data": {
      "text/html": [
       "<div>\n",
       "<style scoped>\n",
       "    .dataframe tbody tr th:only-of-type {\n",
       "        vertical-align: middle;\n",
       "    }\n",
       "\n",
       "    .dataframe tbody tr th {\n",
       "        vertical-align: top;\n",
       "    }\n",
       "\n",
       "    .dataframe thead th {\n",
       "        text-align: right;\n",
       "    }\n",
       "</style>\n",
       "<table border=\"1\" class=\"dataframe\">\n",
       "  <thead>\n",
       "    <tr style=\"text-align: right;\">\n",
       "      <th></th>\n",
       "      <th>mpg</th>\n",
       "      <th>cylinders</th>\n",
       "      <th>displacement</th>\n",
       "      <th>weight</th>\n",
       "      <th>acceleration</th>\n",
       "      <th>model year</th>\n",
       "      <th>origin</th>\n",
       "    </tr>\n",
       "  </thead>\n",
       "  <tbody>\n",
       "    <tr>\n",
       "      <th>mpg</th>\n",
       "      <td>1.000000</td>\n",
       "      <td>-0.775396</td>\n",
       "      <td>-0.804203</td>\n",
       "      <td>-0.831741</td>\n",
       "      <td>0.420289</td>\n",
       "      <td>0.579267</td>\n",
       "      <td>0.563450</td>\n",
       "    </tr>\n",
       "    <tr>\n",
       "      <th>cylinders</th>\n",
       "      <td>-0.775396</td>\n",
       "      <td>1.000000</td>\n",
       "      <td>0.950721</td>\n",
       "      <td>0.896017</td>\n",
       "      <td>-0.505419</td>\n",
       "      <td>-0.348746</td>\n",
       "      <td>-0.562543</td>\n",
       "    </tr>\n",
       "    <tr>\n",
       "      <th>displacement</th>\n",
       "      <td>-0.804203</td>\n",
       "      <td>0.950721</td>\n",
       "      <td>1.000000</td>\n",
       "      <td>0.932824</td>\n",
       "      <td>-0.543684</td>\n",
       "      <td>-0.370164</td>\n",
       "      <td>-0.609409</td>\n",
       "    </tr>\n",
       "    <tr>\n",
       "      <th>weight</th>\n",
       "      <td>-0.831741</td>\n",
       "      <td>0.896017</td>\n",
       "      <td>0.932824</td>\n",
       "      <td>1.000000</td>\n",
       "      <td>-0.417457</td>\n",
       "      <td>-0.306564</td>\n",
       "      <td>-0.581024</td>\n",
       "    </tr>\n",
       "    <tr>\n",
       "      <th>acceleration</th>\n",
       "      <td>0.420289</td>\n",
       "      <td>-0.505419</td>\n",
       "      <td>-0.543684</td>\n",
       "      <td>-0.417457</td>\n",
       "      <td>1.000000</td>\n",
       "      <td>0.288137</td>\n",
       "      <td>0.205873</td>\n",
       "    </tr>\n",
       "    <tr>\n",
       "      <th>model year</th>\n",
       "      <td>0.579267</td>\n",
       "      <td>-0.348746</td>\n",
       "      <td>-0.370164</td>\n",
       "      <td>-0.306564</td>\n",
       "      <td>0.288137</td>\n",
       "      <td>1.000000</td>\n",
       "      <td>0.180662</td>\n",
       "    </tr>\n",
       "    <tr>\n",
       "      <th>origin</th>\n",
       "      <td>0.563450</td>\n",
       "      <td>-0.562543</td>\n",
       "      <td>-0.609409</td>\n",
       "      <td>-0.581024</td>\n",
       "      <td>0.205873</td>\n",
       "      <td>0.180662</td>\n",
       "      <td>1.000000</td>\n",
       "    </tr>\n",
       "  </tbody>\n",
       "</table>\n",
       "</div>"
      ],
      "text/plain": [
       "                   mpg  cylinders  displacement    weight  acceleration  \\\n",
       "mpg           1.000000  -0.775396     -0.804203 -0.831741      0.420289   \n",
       "cylinders    -0.775396   1.000000      0.950721  0.896017     -0.505419   \n",
       "displacement -0.804203   0.950721      1.000000  0.932824     -0.543684   \n",
       "weight       -0.831741   0.896017      0.932824  1.000000     -0.417457   \n",
       "acceleration  0.420289  -0.505419     -0.543684 -0.417457      1.000000   \n",
       "model year    0.579267  -0.348746     -0.370164 -0.306564      0.288137   \n",
       "origin        0.563450  -0.562543     -0.609409 -0.581024      0.205873   \n",
       "\n",
       "              model year    origin  \n",
       "mpg             0.579267  0.563450  \n",
       "cylinders      -0.348746 -0.562543  \n",
       "displacement   -0.370164 -0.609409  \n",
       "weight         -0.306564 -0.581024  \n",
       "acceleration    0.288137  0.205873  \n",
       "model year      1.000000  0.180662  \n",
       "origin          0.180662  1.000000  "
      ]
     },
     "execution_count": 67,
     "metadata": {},
     "output_type": "execute_result"
    }
   ],
   "source": [
    "auto.corr()"
   ]
  },
  {
   "cell_type": "markdown",
   "id": "74b146fd",
   "metadata": {},
   "source": [
    "### 그래프 그리기"
   ]
  },
  {
   "cell_type": "code",
   "execution_count": 68,
   "id": "5131be63",
   "metadata": {},
   "outputs": [
    {
     "data": {
      "text/plain": [
       "<AxesSubplot:>"
      ]
     },
     "execution_count": 68,
     "metadata": {},
     "output_type": "execute_result"
    },
    {
     "data": {
      "image/png": "[encoded data removed]",
      "text/plain": [
       "<Figure size 432x288 with 1 Axes>"
      ]
     },
     "metadata": {},
     "output_type": "display_data"
    },
    {
     "data": {
      "image/png": "[encoded data removed]",
      "text/plain": [
       "<Figure size 432x288 with 1 Axes>"
      ]
     },
     "metadata": {},
     "output_type": "display_data"
    }
   ],
   "source": [
    "### scatter plot\n",
    "\n",
    "auto.plot(x = 'weight', y = 'mpg', kind = 'scatter')\n",
    "\n",
    "### Box plot\n",
    "auto[['mpg', 'cylinders']].plot(kind = 'box')"
   ]
  },
  {
   "cell_type": "code",
   "execution_count": null,
   "id": "1707eb77",
   "metadata": {},
   "outputs": [],
   "source": [
    "### 선 그래프\n",
    "dfhnw.plot()\n",
    "\n",
    "### 바 그래프\n",
    "df.astype(float)\n",
    "df.plot(kind = 'bar')"
   ]
  },
  {
   "cell_type": "markdown",
   "id": "f8173b4f",
   "metadata": {},
   "source": [
    "### 한글폰트설치"
   ]
  },
  {
   "cell_type": "markdown",
   "id": "ad195cf2",
   "metadata": {},
   "source": [
    "# 데이터 전처리"
   ]
  },
  {
   "cell_type": "markdown",
   "id": "c53ba8eb",
   "metadata": {},
   "source": [
    "### 결측값 채우기"
   ]
  },
  {
   "cell_type": "code",
   "execution_count": 16,
   "id": "57263bc2",
   "metadata": {
    "collapsed": true
   },
   "outputs": [
    {
     "data": {
      "text/html": [
       "<div>\n",
       "<style scoped>\n",
       "    .dataframe tbody tr th:only-of-type {\n",
       "        vertical-align: middle;\n",
       "    }\n",
       "\n",
       "    .dataframe tbody tr th {\n",
       "        vertical-align: top;\n",
       "    }\n",
       "\n",
       "    .dataframe thead th {\n",
       "        text-align: right;\n",
       "    }\n",
       "</style>\n",
       "<table border=\"1\" class=\"dataframe\">\n",
       "  <thead>\n",
       "    <tr style=\"text-align: right;\">\n",
       "      <th></th>\n",
       "      <th>전출지별</th>\n",
       "      <th>전입지별</th>\n",
       "      <th>1970</th>\n",
       "      <th>1971</th>\n",
       "      <th>1972</th>\n",
       "      <th>1973</th>\n",
       "      <th>1974</th>\n",
       "      <th>1975</th>\n",
       "      <th>1976</th>\n",
       "      <th>1977</th>\n",
       "      <th>...</th>\n",
       "      <th>2008</th>\n",
       "      <th>2009</th>\n",
       "      <th>2010</th>\n",
       "      <th>2011</th>\n",
       "      <th>2012</th>\n",
       "      <th>2013</th>\n",
       "      <th>2014</th>\n",
       "      <th>2015</th>\n",
       "      <th>2016</th>\n",
       "      <th>2017</th>\n",
       "    </tr>\n",
       "  </thead>\n",
       "  <tbody>\n",
       "    <tr>\n",
       "      <th>0</th>\n",
       "      <td>전출지별</td>\n",
       "      <td>전입지별</td>\n",
       "      <td>이동자수 (명)</td>\n",
       "      <td>이동자수 (명)</td>\n",
       "      <td>이동자수 (명)</td>\n",
       "      <td>이동자수 (명)</td>\n",
       "      <td>이동자수 (명)</td>\n",
       "      <td>이동자수 (명)</td>\n",
       "      <td>이동자수 (명)</td>\n",
       "      <td>이동자수 (명)</td>\n",
       "      <td>...</td>\n",
       "      <td>이동자수 (명)</td>\n",
       "      <td>이동자수 (명)</td>\n",
       "      <td>이동자수 (명)</td>\n",
       "      <td>이동자수 (명)</td>\n",
       "      <td>이동자수 (명)</td>\n",
       "      <td>이동자수 (명)</td>\n",
       "      <td>이동자수 (명)</td>\n",
       "      <td>이동자수 (명)</td>\n",
       "      <td>이동자수 (명)</td>\n",
       "      <td>이동자수 (명)</td>\n",
       "    </tr>\n",
       "    <tr>\n",
       "      <th>1</th>\n",
       "      <td>전국</td>\n",
       "      <td>전국</td>\n",
       "      <td>4046536</td>\n",
       "      <td>4210164</td>\n",
       "      <td>3687938</td>\n",
       "      <td>4860418</td>\n",
       "      <td>5297969</td>\n",
       "      <td>9011440</td>\n",
       "      <td>6773250</td>\n",
       "      <td>7397623</td>\n",
       "      <td>...</td>\n",
       "      <td>8808256</td>\n",
       "      <td>8487275</td>\n",
       "      <td>8226594</td>\n",
       "      <td>8127195</td>\n",
       "      <td>7506691</td>\n",
       "      <td>7411784</td>\n",
       "      <td>7629098</td>\n",
       "      <td>7755286</td>\n",
       "      <td>7378430</td>\n",
       "      <td>7154226</td>\n",
       "    </tr>\n",
       "    <tr>\n",
       "      <th>2</th>\n",
       "      <td>전국</td>\n",
       "      <td>서울특별시</td>\n",
       "      <td>1742813</td>\n",
       "      <td>1671705</td>\n",
       "      <td>1349333</td>\n",
       "      <td>1831858</td>\n",
       "      <td>2050392</td>\n",
       "      <td>3396662</td>\n",
       "      <td>2756510</td>\n",
       "      <td>2893403</td>\n",
       "      <td>...</td>\n",
       "      <td>2025358</td>\n",
       "      <td>1873188</td>\n",
       "      <td>1733015</td>\n",
       "      <td>1721748</td>\n",
       "      <td>1555281</td>\n",
       "      <td>1520090</td>\n",
       "      <td>1573594</td>\n",
       "      <td>1589431</td>\n",
       "      <td>1515602</td>\n",
       "      <td>1472937</td>\n",
       "    </tr>\n",
       "    <tr>\n",
       "      <th>3</th>\n",
       "      <td>전국</td>\n",
       "      <td>부산광역시</td>\n",
       "      <td>448577</td>\n",
       "      <td>389797</td>\n",
       "      <td>362202</td>\n",
       "      <td>482061</td>\n",
       "      <td>680984</td>\n",
       "      <td>805979</td>\n",
       "      <td>724664</td>\n",
       "      <td>785117</td>\n",
       "      <td>...</td>\n",
       "      <td>514502</td>\n",
       "      <td>519310</td>\n",
       "      <td>519334</td>\n",
       "      <td>508043</td>\n",
       "      <td>461042</td>\n",
       "      <td>478451</td>\n",
       "      <td>485710</td>\n",
       "      <td>507031</td>\n",
       "      <td>459015</td>\n",
       "      <td>439073</td>\n",
       "    </tr>\n",
       "    <tr>\n",
       "      <th>4</th>\n",
       "      <td>전국</td>\n",
       "      <td>대구광역시</td>\n",
       "      <td>-</td>\n",
       "      <td>-</td>\n",
       "      <td>-</td>\n",
       "      <td>-</td>\n",
       "      <td>-</td>\n",
       "      <td>-</td>\n",
       "      <td>-</td>\n",
       "      <td>-</td>\n",
       "      <td>...</td>\n",
       "      <td>409938</td>\n",
       "      <td>398626</td>\n",
       "      <td>370817</td>\n",
       "      <td>370563</td>\n",
       "      <td>348642</td>\n",
       "      <td>351873</td>\n",
       "      <td>350213</td>\n",
       "      <td>351424</td>\n",
       "      <td>328228</td>\n",
       "      <td>321182</td>\n",
       "    </tr>\n",
       "    <tr>\n",
       "      <th>...</th>\n",
       "      <td>...</td>\n",
       "      <td>...</td>\n",
       "      <td>...</td>\n",
       "      <td>...</td>\n",
       "      <td>...</td>\n",
       "      <td>...</td>\n",
       "      <td>...</td>\n",
       "      <td>...</td>\n",
       "      <td>...</td>\n",
       "      <td>...</td>\n",
       "      <td>...</td>\n",
       "      <td>...</td>\n",
       "      <td>...</td>\n",
       "      <td>...</td>\n",
       "      <td>...</td>\n",
       "      <td>...</td>\n",
       "      <td>...</td>\n",
       "      <td>...</td>\n",
       "      <td>...</td>\n",
       "      <td>...</td>\n",
       "      <td>...</td>\n",
       "    </tr>\n",
       "    <tr>\n",
       "      <th>320</th>\n",
       "      <td>제주특별자치도</td>\n",
       "      <td>전라북도</td>\n",
       "      <td>139</td>\n",
       "      <td>202</td>\n",
       "      <td>141</td>\n",
       "      <td>210</td>\n",
       "      <td>219</td>\n",
       "      <td>415</td>\n",
       "      <td>392</td>\n",
       "      <td>408</td>\n",
       "      <td>...</td>\n",
       "      <td>668</td>\n",
       "      <td>579</td>\n",
       "      <td>672</td>\n",
       "      <td>561</td>\n",
       "      <td>551</td>\n",
       "      <td>516</td>\n",
       "      <td>609</td>\n",
       "      <td>683</td>\n",
       "      <td>733</td>\n",
       "      <td>768</td>\n",
       "    </tr>\n",
       "    <tr>\n",
       "      <th>321</th>\n",
       "      <td>제주특별자치도</td>\n",
       "      <td>전라남도</td>\n",
       "      <td>631</td>\n",
       "      <td>965</td>\n",
       "      <td>857</td>\n",
       "      <td>952</td>\n",
       "      <td>1133</td>\n",
       "      <td>2808</td>\n",
       "      <td>2608</td>\n",
       "      <td>2652</td>\n",
       "      <td>...</td>\n",
       "      <td>1143</td>\n",
       "      <td>1123</td>\n",
       "      <td>1002</td>\n",
       "      <td>1026</td>\n",
       "      <td>966</td>\n",
       "      <td>1001</td>\n",
       "      <td>928</td>\n",
       "      <td>1062</td>\n",
       "      <td>1127</td>\n",
       "      <td>1102</td>\n",
       "    </tr>\n",
       "    <tr>\n",
       "      <th>322</th>\n",
       "      <td>제주특별자치도</td>\n",
       "      <td>경상북도</td>\n",
       "      <td>374</td>\n",
       "      <td>619</td>\n",
       "      <td>468</td>\n",
       "      <td>576</td>\n",
       "      <td>625</td>\n",
       "      <td>1123</td>\n",
       "      <td>1141</td>\n",
       "      <td>1004</td>\n",
       "      <td>...</td>\n",
       "      <td>761</td>\n",
       "      <td>704</td>\n",
       "      <td>738</td>\n",
       "      <td>756</td>\n",
       "      <td>699</td>\n",
       "      <td>781</td>\n",
       "      <td>728</td>\n",
       "      <td>903</td>\n",
       "      <td>931</td>\n",
       "      <td>994</td>\n",
       "    </tr>\n",
       "    <tr>\n",
       "      <th>323</th>\n",
       "      <td>제주특별자치도</td>\n",
       "      <td>경상남도</td>\n",
       "      <td>474</td>\n",
       "      <td>479</td>\n",
       "      <td>440</td>\n",
       "      <td>571</td>\n",
       "      <td>1208</td>\n",
       "      <td>1517</td>\n",
       "      <td>863</td>\n",
       "      <td>1122</td>\n",
       "      <td>...</td>\n",
       "      <td>1517</td>\n",
       "      <td>1474</td>\n",
       "      <td>1324</td>\n",
       "      <td>1367</td>\n",
       "      <td>1227</td>\n",
       "      <td>1278</td>\n",
       "      <td>1223</td>\n",
       "      <td>1500</td>\n",
       "      <td>1448</td>\n",
       "      <td>1501</td>\n",
       "    </tr>\n",
       "    <tr>\n",
       "      <th>324</th>\n",
       "      <td>제주특별자치도</td>\n",
       "      <td>제주특별자치도</td>\n",
       "      <td>9290</td>\n",
       "      <td>12427</td>\n",
       "      <td>12210</td>\n",
       "      <td>16158</td>\n",
       "      <td>19580</td>\n",
       "      <td>34221</td>\n",
       "      <td>23291</td>\n",
       "      <td>31028</td>\n",
       "      <td>...</td>\n",
       "      <td>59564</td>\n",
       "      <td>55673</td>\n",
       "      <td>55507</td>\n",
       "      <td>59846</td>\n",
       "      <td>54280</td>\n",
       "      <td>60607</td>\n",
       "      <td>59673</td>\n",
       "      <td>59036</td>\n",
       "      <td>66444</td>\n",
       "      <td>63275</td>\n",
       "    </tr>\n",
       "  </tbody>\n",
       "</table>\n",
       "<p>325 rows × 50 columns</p>\n",
       "</div>"
      ],
      "text/plain": [
       "        전출지별     전입지별      1970      1971      1972      1973      1974  \\\n",
       "0       전출지별     전입지별  이동자수 (명)  이동자수 (명)  이동자수 (명)  이동자수 (명)  이동자수 (명)   \n",
       "1         전국       전국   4046536   4210164   3687938   4860418   5297969   \n",
       "2         전국    서울특별시   1742813   1671705   1349333   1831858   2050392   \n",
       "3         전국    부산광역시    448577    389797    362202    482061    680984   \n",
       "4         전국    대구광역시         -         -         -         -         -   \n",
       "..       ...      ...       ...       ...       ...       ...       ...   \n",
       "320  제주특별자치도     전라북도       139       202       141       210       219   \n",
       "321  제주특별자치도     전라남도       631       965       857       952      1133   \n",
       "322  제주특별자치도     경상북도       374       619       468       576       625   \n",
       "323  제주특별자치도     경상남도       474       479       440       571      1208   \n",
       "324  제주특별자치도  제주특별자치도      9290     12427     12210     16158     19580   \n",
       "\n",
       "         1975      1976      1977  ...      2008      2009      2010  \\\n",
       "0    이동자수 (명)  이동자수 (명)  이동자수 (명)  ...  이동자수 (명)  이동자수 (명)  이동자수 (명)   \n",
       "1     9011440   6773250   7397623  ...   8808256   8487275   8226594   \n",
       "2     3396662   2756510   2893403  ...   2025358   1873188   1733015   \n",
       "3      805979    724664    785117  ...    514502    519310    519334   \n",
       "4           -         -         -  ...    409938    398626    370817   \n",
       "..        ...       ...       ...  ...       ...       ...       ...   \n",
       "320       415       392       408  ...       668       579       672   \n",
       "321      2808      2608      2652  ...      1143      1123      1002   \n",
       "322      1123      1141      1004  ...       761       704       738   \n",
       "323      1517       863      1122  ...      1517      1474      1324   \n",
       "324     34221     23291     31028  ...     59564     55673     55507   \n",
       "\n",
       "         2011      2012      2013      2014      2015      2016      2017  \n",
       "0    이동자수 (명)  이동자수 (명)  이동자수 (명)  이동자수 (명)  이동자수 (명)  이동자수 (명)  이동자수 (명)  \n",
       "1     8127195   7506691   7411784   7629098   7755286   7378430   7154226  \n",
       "2     1721748   1555281   1520090   1573594   1589431   1515602   1472937  \n",
       "3      508043    461042    478451    485710    507031    459015    439073  \n",
       "4      370563    348642    351873    350213    351424    328228    321182  \n",
       "..        ...       ...       ...       ...       ...       ...       ...  \n",
       "320       561       551       516       609       683       733       768  \n",
       "321      1026       966      1001       928      1062      1127      1102  \n",
       "322       756       699       781       728       903       931       994  \n",
       "323      1367      1227      1278      1223      1500      1448      1501  \n",
       "324     59846     54280     60607     59673     59036     66444     63275  \n",
       "\n",
       "[325 rows x 50 columns]"
      ]
     },
     "execution_count": 16,
     "metadata": {},
     "output_type": "execute_result"
    }
   ],
   "source": [
    "df.fillna(method = 'ffill')   # forward 값으로 채우기   'bfill'은 backward로 채우기. row기준"
   ]
  },
  {
   "cell_type": "markdown",
   "id": "951d9637",
   "metadata": {},
   "source": [
    "### 필요조건 필터"
   ]
  },
  {
   "cell_type": "code",
   "execution_count": null,
   "id": "69f0c948",
   "metadata": {},
   "outputs": [],
   "source": [
    "df[(df['전출지'] == '서울시') & (df['전입지'] != '서울시')]"
   ]
  },
  {
   "cell_type": "markdown",
   "id": "6a0801fc",
   "metadata": {},
   "source": [
    "### 데이터버리기"
   ]
  },
  {
   "cell_type": "code",
   "execution_count": null,
   "id": "0b312c90",
   "metadata": {},
   "outputs": [],
   "source": [
    "df.drop(['전출지'], axis = 1)    # '전출지' 컬럼 제외"
   ]
  },
  {
   "cell_type": "markdown",
   "id": "5b44018a",
   "metadata": {},
   "source": [
    "### 이름 변경"
   ]
  },
  {
   "cell_type": "code",
   "execution_count": 2,
   "id": "df63b2c7",
   "metadata": {
    "collapsed": true
   },
   "outputs": [
    {
     "ename": "NameError",
     "evalue": "name 'df' is not defined",
     "output_type": "error",
     "traceback": [
      "\u001b[1;31m---------------------------------------------------------------------------\u001b[0m",
      "\u001b[1;31mNameError\u001b[0m                                 Traceback (most recent call last)",
      "Input \u001b[1;32mIn [2]\u001b[0m, in \u001b[0;36m<cell line: 1>\u001b[1;34m()\u001b[0m\n\u001b[1;32m----> 1\u001b[0m \u001b[43mdf\u001b[49m\u001b[38;5;241m.\u001b[39mrename({\u001b[38;5;124m'\u001b[39m\u001b[38;5;124m전입지\u001b[39m\u001b[38;5;124m'\u001b[39m:\u001b[38;5;124m'\u001b[39m\u001b[38;5;124m전입\u001b[39m\u001b[38;5;124m'\u001b[39m}, axis \u001b[38;5;241m=\u001b[39m \u001b[38;5;241m1\u001b[39m, inplace \u001b[38;5;241m=\u001b[39m \u001b[38;5;28;01mTrue\u001b[39;00m)\n",
      "\u001b[1;31mNameError\u001b[0m: name 'df' is not defined"
     ]
    }
   ],
   "source": [
    "df.rename({'전입지':'전입'}, axis = 1, inplace = True)   # '전입지'이름 변경"
   ]
  },
  {
   "cell_type": "code",
   "execution_count": null,
   "id": "fcf07108",
   "metadata": {},
   "outputs": [],
   "source": [
    "df.set_index('전입지',inplace= True) "
   ]
  },
  {
   "cell_type": "markdown",
   "id": "077d1107",
   "metadata": {},
   "source": [
    "### 컬럼 타입 변경"
   ]
  },
  {
   "cell_type": "code",
   "execution_count": null,
   "id": "909e2a93",
   "metadata": {},
   "outputs": [],
   "source": [
    "df.columns = df.columns.map(int)   # colname을 정수형으로 변경"
   ]
  }
 ],
 "metadata": {
  "kernelspec": {
   "display_name": "Python 3 (ipykernel)",
   "language": "python",
   "name": "python3"
  },
  "language_info": {
   "codemirror_mode": {
    "name": "ipython",
    "version": 3
   },
   "file_extension": ".py",
   "mimetype": "text/x-python",
   "name": "python",
   "nbconvert_exporter": "python",
   "pygments_lexer": "ipython3",
   "version": "3.10.4"
  }
 },
 "nbformat": 4,
 "nbformat_minor": 5
}
