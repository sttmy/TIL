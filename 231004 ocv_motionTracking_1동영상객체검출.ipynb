{
 "cells": [
  {
   "cell_type": "code",
   "execution_count": 2,
   "metadata": {},
   "outputs": [],
   "source": [
    "import cv2\n",
    "import numpy as np\n",
    "import tensorflow as tf\n",
    "model = tf.saved_model.load(\"Data/ssd_mobilenet_v2_320x320_coco17_tpu-8/saved_model\")\n",
    "capture = cv2.VideoCapture(\"Data/bird.mp4\")\n",
    "while True:\n",
    "    ret, frame = capture.read()\n",
    "    frame=cv2.resize(frame, (640, 480))\n",
    "    if capture.get(cv2.CAP_PROP_POS_FRAMES) == capture.get(cv2.CAP_PROP_FRAME_COUNT):\n",
    "        break\n",
    "    input_img = cv2.cvtColor(frame, cv2.COLOR_BGR2RGB)\n",
    "    input_tensor = tf.convert_to_tensor(input_img)\n",
    "    input_tensor = input_tensor[tf.newaxis, ...]\n",
    "    output_dict = model.signatures[\"serving_default\"](input_tensor)\n",
    "    classes = output_dict[\"detection_classes\"][0]\n",
    "    scores = output_dict[\"detection_scores\"][0]\n",
    "    boxes = output_dict[\"detection_boxes\"][0]\n",
    "    height, width, _ = frame.shape\n",
    "    for idx, score in enumerate(scores):\n",
    "        if score > 0.7:\n",
    "            class_id = int(classes[idx])\n",
    "            box = boxes[idx]\n",
    "            x1 = int(box[1] * width)\n",
    "            y1 = int(box[0] * height)\n",
    "            x2 = int(box[3] * width)\n",
    "            y2 = int(box[2] * height)\n",
    "            cv2.rectangle(frame, (x1, y1), (x2, y2), 255, 1)\n",
    "            cv2.putText(frame, str(class_id) + \":\" + str(float(score)), (x1, y1 - 5), cv2.FONT_HERSHEY_COMPLEX, 1.5, (0, 255, 255), 1)\n",
    "    cv2.imshow(\"Object Detection\", frame)\n",
    "    if cv2.waitKey(33) == ord(\"q\"):\n",
    "        break\n",
    "cv2.destroyAllWindows()    \n",
    "\n"
   ]
  },
  {
   "cell_type": "code",
   "execution_count": null,
   "metadata": {},
   "outputs": [],
   "source": []
  }
 ],
 "metadata": {
  "kernelspec": {
   "display_name": "Python 3",
   "language": "python",
   "name": "python3"
  },
  "language_info": {
   "codemirror_mode": {
    "name": "ipython",
    "version": 3
   },
   "file_extension": ".py",
   "mimetype": "text/x-python",
   "name": "python",
   "nbconvert_exporter": "python",
   "pygments_lexer": "ipython3",
   "version": "3.9.13"
  },
  "orig_nbformat": 4
 },
 "nbformat": 4,
 "nbformat_minor": 2
}
