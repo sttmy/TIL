{
 "cells": [
  {
   "cell_type": "code",
   "execution_count": 2,
   "id": "e8a40290",
   "metadata": {},
   "outputs": [],
   "source": [
    "# 라이브러리\n",
    "import pandas as pd\n",
    "import numpy as np\n",
    "from sklearn.preprocessing import minmax_scale\n"
   ]
  },
  {
   "cell_type": "markdown",
   "id": "09d0e1c9",
   "metadata": {},
   "source": [
    "## (sample) \n",
    "mtcars 데이터셋(data/mtcars.csv)의 qsec컬럼을 최소최대척도로 변환한 후 0.5보다 큰 값을 가지는 레코드수를 구하시오"
   ]
  },
  {
   "cell_type": "code",
   "execution_count": 3,
   "id": "8433fad9",
   "metadata": {},
   "outputs": [],
   "source": [
    "# data 불러오기\n",
    "data = pd.read_csv('data/mtcars.csv')\n",
    "# print(data['qsec'].head(3))\n"
   ]
  },
  {
   "cell_type": "markdown",
   "id": "ef8a493b",
   "metadata": {},
   "source": [
    "### 풀이 ①"
   ]
  },
  {
   "cell_type": "code",
   "execution_count": null,
   "id": "7afd019b",
   "metadata": {},
   "outputs": [],
   "source": [
    "\n",
    "# 스케일링\n",
    "data['qsec'] = minmax_scale(data['qsec'])\n",
    "# print(data['qsec'].head(3))\n",
    "\n",
    "# 0.5보다 큰 값 가지는 레코드 수\n",
    "ans = data['qsec']>0.5\n",
    "print(sum(ans))"
   ]
  },
  {
   "cell_type": "code",
   "execution_count": null,
   "id": "2d9e21a9",
   "metadata": {},
   "outputs": [],
   "source": [
    "scaler = MinMaxScaler(feature_range=(0,3)) ## 각 칼럼 데이터 값을 0~3 범위로 변환\n",
    "scaler.fit(X) ## 각 칼럼 데이터마다 변환할 함수 생성\n",
    "transformed_X = scaler.transform(X) ## fit에서 만들어진 함수를 실제로 데이터에 적용\n",
    "print(transformed_X)"
   ]
  },
  {
   "cell_type": "markdown",
   "id": "254ee33d",
   "metadata": {},
   "source": [
    "### 풀이 ②"
   ]
  },
  {
   "cell_type": "code",
   "execution_count": null,
   "id": "4a2f4ca0",
   "metadata": {},
   "outputs": [],
   "source": [
    "def minmax(data):\n",
    "    data = (data-min(data)) / (max(data) - min(data))\n",
    "    return data\n",
    "\n",
    "data['qsec'] = minmax(data['qsec'])\n",
    "print(data['qsec'].head(3))\n",
    "\n",
    "print(len(data[data['qsec']>0.5]))"
   ]
  },
  {
   "cell_type": "markdown",
   "id": "d5e53042",
   "metadata": {},
   "source": [
    "https://www.kaggle.com/code/stotmyst/tutorial-t1-2-python/edit\n",
    "\n",
    "## 문제1 \n",
    "데이터셋(basic1.csv)의 'f5' 컬럼을 기준으로 상위 10개의 데이터를 구하고,\n",
    "\n",
    "'f5'컬럼 10개 중 최소값으로 데이터를 대체한 후,\n",
    "\n",
    "'age'컬럼에서 80 이상인 데이터의'f5 컬럼 평균값 구하기"
   ]
  },
  {
   "cell_type": "markdown",
   "id": "eabec6d0",
   "metadata": {},
   "source": [
    "## 문제2\n",
    "데이터셋(basic1.csv)의 앞에서 순서대로 70% 데이터만 활용해서,\n",
    "\n",
    "'f1'컬럼 결측치를 중앙값으로 채우기 전후의 표준편차를 구하고\n",
    "\n",
    "두 표준편차 차이 계산하기"
   ]
  },
  {
   "cell_type": "code",
   "execution_count": null,
   "id": "30c489cc",
   "metadata": {},
   "outputs": [],
   "source": [
    "# 70% 데이터만 사용하기\n",
    "\n",
    "# 1) iloc\n",
    "df.shape\n",
    "df70 = df.iloc[:70]\n",
    "\n",
    "# 2) np.split\n",
    "import numpy as np\n",
    "df70 = np.split(df, [int(.7*len(df))])\n",
    "\n",
    "# 3) sample\n",
    "df70 = df.sample(frac = 0.7)\n",
    "df70 = df.drop(df70.index)\n",
    "df70"
   ]
  },
  {
   "cell_type": "markdown",
   "id": "626408f5",
   "metadata": {},
   "source": [
    "## 문제3\n",
    "\n",
    "데이터셋(basic1.csv)의 'age'컬럼의 이상치를 더하시오!\n",
    "\n",
    "단, 평균으로부터 '표준편차*1.5'를 벗어나는 영역을 이상치라고 판단함"
   ]
  },
  {
   "cell_type": "code",
   "execution_count": null,
   "id": "edf8ea4c",
   "metadata": {},
   "outputs": [],
   "source": [
    "# 이상치 age합\n",
    "df[(df['age']>max_out)|(df['age']<min_out)]['age'].sum()\n",
    "\n",
    "# 다르게 작성방법\n",
    "df.loc[(df['age'] > max)]['age'].sum() + df.loc[(df['age']< min)]['age'].sum()"
   ]
  },
  {
   "cell_type": "markdown",
   "id": "35646b90",
   "metadata": {},
   "source": [
    "## T1-1. 이상치를 찾아라\n",
    "\n",
    "https://www.kaggle.com/code/stotmyst/py-t1-1-iqr-expected-questions/edit\n",
    "\n",
    "데이터에서 IQR을 활용해 Fare컬럼의 이상치를 찾고, 이상치 데이터의 여성 수를 구하시오"
   ]
  },
  {
   "cell_type": "code",
   "execution_count": null,
   "id": "eb7ff09c",
   "metadata": {},
   "outputs": [],
   "source": [
    "# IQR 구하기\n",
    "\n",
    "# 1) describe\n",
    "q3 = df.Fare.describe()['75%']\n",
    "q1 = df.Fare.describe()['25%']\n",
    "\n",
    "# 2) quantile\n",
    "Q1 = df['Fare'].quantile(.25)\n",
    "Q3 = df['Fare'].quantile(.75)\n",
    "\n",
    "# 3) numpy 활용시\n",
    "Q1 = np.percentile(df['Fare'], 25)\n",
    "Q3 = np.percentile(df['Fare'], 75)\n"
   ]
  },
  {
   "cell_type": "code",
   "execution_count": null,
   "id": "2d2f530b",
   "metadata": {},
   "outputs": [],
   "source": [
    "# 이상치 데이터 구하기\n",
    "outlier = iqr*1.5\n",
    "df_outlier = df[(df.Fare < (q1 - outlier)) | (df.Fare > (q3 + outlier))]\n",
    "\n",
    "# 이상치 데이터에서 여성 수 구하기, 출력하기 print()\n",
    "df_outlier.Sex.unique()\n",
    "df_outlier[df_outlier.Sex == 'female'].shape[0]"
   ]
  },
  {
   "cell_type": "markdown",
   "id": "946c3404",
   "metadata": {},
   "source": [
    "## T1-2. 이상치찾기( 소수점 올림, 내림, 버림)\n",
    "https://www.kaggle.com/code/stotmyst/py-t1-2-expected-questions/edit\n",
    "\n",
    "주어진 데이터에서 이상치(소수점 나이)를 찾고 \n",
    "\n",
    "올림, 내림, 버림(절사)했을때 3가지 모두 이상치 'age' 평균을 구한 다음 모두 더하여 출력하시오"
   ]
  },
  {
   "cell_type": "code",
   "execution_count": null,
   "id": "92e4558d",
   "metadata": {},
   "outputs": [],
   "source": [
    "# 소수점 데이터 찾기\n",
    "import numpy as np\n",
    "\n",
    "df [ df.age - np.floor(df.age) != 0 ]"
   ]
  },
  {
   "cell_type": "code",
   "execution_count": null,
   "id": "3c9df9f4",
   "metadata": {},
   "outputs": [],
   "source": [
    "# 소수점 첫째자리에서 반올림\n",
    "np.round(df.age)  \n",
    "np.round(df.age, 0)\n",
    "\n",
    "# 반올림 후 십의자리까지만 표시\n",
    "np.round(df.age, -1) \n",
    "\n",
    "# df.age보다 크거나 같으면서 가장 작은 정수\n",
    "np.ceil(df.age)   \n",
    "\n",
    "# df.age보다 작거나 같으면서 가장 큰 정수\n",
    "np.floor(df.age)\n",
    "\n",
    "# 소수점 이하 버림\n",
    "np.trunc(df.agey)"
   ]
  },
  {
   "cell_type": "markdown",
   "id": "e11c7e51",
   "metadata": {},
   "source": [
    "## T1-3. 결측치처리(map) \n",
    "\n",
    "https://www.kaggle.com/code/agileteam/py-t1-3-map-expected-questions/notebook\n",
    "\n",
    "주어진 데이터에서 결측치가 80%이상 되는 컬럼은(변수는) 삭제하고, 80% 미만인 결측치가 있는 컬럼은 'city'별 중앙값으로 값을 대체하고 'f1'컬럼의 평균값을 출력하세요!"
   ]
  },
  {
   "cell_type": "code",
   "execution_count": null,
   "id": "2f332bfe",
   "metadata": {},
   "outputs": [],
   "source": [
    "# 80%이상 결측치 컬럼, 삭제\n",
    "df.drop(df.columns[(df.isnull().sum() / df.shape[0] >= 0.8)][0], axis = 1, inplace = True)\n",
    "\n",
    "# 결측치가 있는 컬럼을 제거하는 2가지 방법\n",
    "df.drop(['B', 'C'], axis=1, inplace = True)\n",
    "df.drop(columns=['B', 'C'], inplace = True)"
   ]
  },
  {
   "cell_type": "code",
   "execution_count": null,
   "id": "edf1584f",
   "metadata": {},
   "outputs": [],
   "source": [
    "# 1) map함수 사용방법1\n",
    "# city별 중앙값\n",
    "f1_med = df.groupby(['city']).median()[df.columns[(df.isnull().sum() / df.shape[0] != 0 )][0]]\n",
    "\n",
    "# dictionary 형태로 바꿔줌(map 함수 사용 위해)\n",
    "f1_med_dict = f1_med.to_dict()\n",
    "\n",
    "# f1 결측치를 city별 중앙값으로 대체\n",
    "df.f1 = df.f1.fillna(df.city.map(f1_med_dict))\n"
   ]
  },
  {
   "cell_type": "code",
   "execution_count": null,
   "id": "c7ec1a30",
   "metadata": {},
   "outputs": [],
   "source": [
    "# 2) map함수 사용방법2\n",
    "\n",
    "k, d, b, s = df.groupby('city')['f1'].median()\n",
    "df.f1.fillna(df['city'].map({'서울':s,'경기':k,'부산':b,'대구':d}))\n"
   ]
  },
  {
   "cell_type": "code",
   "execution_count": null,
   "id": "415c0f7e",
   "metadata": {},
   "outputs": [],
   "source": [
    "# 결측치 처리여부 확인\n",
    "df.f1.isnull().sum()"
   ]
  },
  {
   "cell_type": "markdown",
   "id": "59a8e977",
   "metadata": {},
   "source": [
    "## T1-4. 왜도와 첨도 구하기(로그스케일)\n",
    "\n",
    "https://www.kaggle.com/code/agileteam/py-t1-4-expected-questions/notebook\n",
    "\n",
    "주어진 데이터 중 train.csv에서 'SalePrice'컬럼의 왜도와 첨도를 구한 값과, 'SalePrice'컬럼을 스케일링(log1p)로 변환한 이후 왜도와 첨도를 구해 모두 더한 다음 소수점 2째자리까지 출력하시오\n",
    "\n",
    "#### 왜도\n",
    "- 음수: 확률밀도함수가 왼쪽으로 긴 꼬리, 오른쪽으로 많이 분포\n",
    "- 양수: 확률밀도함수가 오른쪽으로 긴 꼬리, 왼쪽으로 많이 분포\n",
    "- 평균값과 중앙값이 같으면 왜도=0\n",
    "\n",
    "#### 첨도\n",
    "- 꼬리가 두꺼운 정도\n",
    "- 극단적인 편차, 이상치가 많을수록 큰값\n",
    "- k ~ 3에 가까우면 산포보다 정규분포에 가까움\n",
    "- k < 3: 정규분포보다 꼬리가 얇은 분포\n",
    "- k > 3: 정규분포보다 꼬리가 두꺼운 분포"
   ]
  },
  {
   "cell_type": "code",
   "execution_count": null,
   "id": "0ca8136d",
   "metadata": {},
   "outputs": [],
   "source": [
    "# 'SalePrice'컬럼 왜도와 첨도계산 \n",
    "df.SalePrice.skew(), df.SalePrice.kurt()"
   ]
  },
  {
   "cell_type": "code",
   "execution_count": null,
   "id": "826582ba",
   "metadata": {},
   "outputs": [],
   "source": [
    "# 'SalePrice'컬럼 로그변환\n",
    "np.log(df.SalePrice)\n",
    "np.log1p(df.SalePrice)"
   ]
  },
  {
   "cell_type": "markdown",
   "id": "5b8aa9f0",
   "metadata": {},
   "source": [
    "### 로그변환의 이유\n",
    "- 로그함수\n",
    "<br> 0 < x < 1 범위 기울기 가파름. y는 (-무한대,0)  \n",
    "  x > 1 범위 기울기 작아짐. 넓은 범위의 x를 적은 y의 구간으로 모이게 함\n",
    "- 데이터를 모았을 때, 밀집되어 있는 부분은 퍼지게, 퍼진 부분은 모아지게 만들 수 있음\n",
    "<br> ① 클 수를 작게 만들 경우 (제곱단위 차이는 정수, 동일제곱수내 차이는 소숫점자리로 나타남)\n",
    "<br> ② 복잡한 계산을 간편하게 하려할 경우 (곱셈은 덧셈으로, 나누기는 뺄셈으로바뀜)\n",
    "<br> ③ 왜도, 첨도를 줄여 정규성을 높이기 위해\n",
    "<br>\n",
    "\n",
    "- 단위 SCALE의 문제: 측정 단위가 너무 크거나 작을 때, 상승률로 결과를 논할 때 해석에서 설득력을 가질 수 있음\n",
    "- 모델 MODEL의 문제: 선형식으로 추정하기 위해 (ex 중력모형, 콥더글라스함수)\n",
    "- 데이터생성과정 DGP(Data Generating Process): 어떤 변수들이 양싀 실수 내에서만 정의될 경우, 설명변수로 통제할 경우 원칙적으로 바로 OLS 추정을 하면 안 됨. 로그변환을 하면 정의역이 양수, 공역이 모든 실수이기 때문에, 제약식 없이 추정 가능\n",
    "<br>\n",
    "참고: https://challenge.tistory.com/46\n",
    "\n",
    "### np.log() 가 아닌 np.log1p()인 이유\n",
    "- x가 0의 값을 가지면, 로그변환시 무한대가 됨\n",
    "- x+1를 해줘서 무한대값이 출력되지 않도록 함: nplog1p()\n",
    "- 변환 전의 값이 너무 작으면 오류가 생길 수 있으므로, 직접 +1해주기보다 함수사용"
   ]
  },
  {
   "cell_type": "markdown",
   "id": "6e8363b0",
   "metadata": {},
   "source": [
    "## T1-5. 조건에 맞는 데이터 표준편차 구하기\n",
    "\n",
    "https://www.kaggle.com/code/agileteam/py-t1-5-expected-questions/notebook\n",
    "\n",
    "주어진 데이터 중 basic1.csv에서 'f4'컬럼 값이 'ENFJ'와 'INFP'인 'f1'의 표준편차 차이를 절대값으로 구하시오"
   ]
  },
  {
   "cell_type": "code",
   "execution_count": null,
   "id": "e8b1b935",
   "metadata": {},
   "outputs": [],
   "source": [
    "# 조건에 맞는 데이터 (ENFJ, INFP)\n",
    "enfj_std = df.loc[df.f4 == 'ENFJ', 'f1'].std()\n",
    "infp_std = df.loc[df.f4 == 'INFP', 'f1'].std()\n",
    "\n",
    "# 두 표준편차 차이 절대값 출력\n",
    "abs(enfj_std - infp_std)\n",
    "np.abs(enfj_std - infp_std)"
   ]
  },
  {
   "cell_type": "markdown",
   "id": "8ff9481c",
   "metadata": {},
   "source": [
    "## T1-6. 결측치 제거 및 그룹 합계\n",
    "\n",
    "https://www.kaggle.com/code/agileteam/py-t1-6-expected-questions/notebook\n",
    "\n",
    "주어진 데이터 중 basic1.csv에서 'f1'컬럼 결측 데이터를 제거하고, 'city'와 'f2'을 기준으로 묶어 합계를 구하고, 'city가 경기이면서 f2가 0'인 조건에 만족하는 f1 값을 구하시오"
   ]
  },
  {
   "cell_type": "code",
   "execution_count": null,
   "id": "5cc40d69",
   "metadata": {},
   "outputs": [],
   "source": [
    "# f1컬럼 결측치 제거\n",
    "df = df[~df.f1.isnull()]"
   ]
  },
  {
   "cell_type": "code",
   "execution_count": null,
   "id": "38632acf",
   "metadata": {},
   "outputs": [],
   "source": [
    "# 'city'와 'f2'을 기준으로 묶어 합계를 구하고, \n",
    "df_sum = df.groupby(['city','f2']).sum()\n",
    "\n",
    "# 'city가 경기이면서 f2가 0'인 조건에 만족하는 f1 값을 구하시오\n",
    "df_sum.iloc[0].f1 \n",
    "df[(df.city == '경기') & (df.f2 == 0)].f1\n",
    "\n",
    "# 슬라이싱 할 때: 튜플 형태로 할 것\n",
    "df_sum.loc[('경기',0)].f1"
   ]
  },
  {
   "cell_type": "markdown",
   "id": "1e769de2",
   "metadata": {},
   "source": [
    "## T1-7. 값 변경 및 2개이상 조건\n",
    "https://www.kaggle.com/code/agileteam/py-t1-7-2-expected-questions/notebook\n",
    "\n",
    "'f4'컬럼의 값이 'ESFJ'인 데이터를 'ISFJ'로 대체하고, 'city'가 '경기'이면서 'f4'가 'ISFJ'인 데이터 중 'age'컬럼의 최대값을 출력하시오\n"
   ]
  },
  {
   "cell_type": "code",
   "execution_count": null,
   "id": "43578a62",
   "metadata": {},
   "outputs": [],
   "source": [
    "# 값 변경하기\n",
    "df['f4'] = df['f4'].replace('ESFJ', 'ISFJ')\n",
    "df.f4.replace('ESFJ','ISFJ', inplace = True)"
   ]
  },
  {
   "cell_type": "markdown",
   "id": "ee562d6d",
   "metadata": {},
   "source": [
    "## T1-8. 누적합, 보간(결측치처리)\n",
    "\n",
    "https://www.kaggle.com/code/agileteam/py-t1-8-expected-questions/notebook\n",
    "\n",
    "주어진 데이터 셋에서 'f2' 컬럼이 1인 조건에 해당하는 데이터의 'f1'컬럼 누적합을 계산한다. 이때 발생하는 누적합 결측치는 바로 뒤의 값을 채우고, 누적합의 평균값을 출력한다. (단, 결측치 바로 뒤의 값이 없으면 다음에 나오는 값을 채워넣는다)\n"
   ]
  },
  {
   "cell_type": "code",
   "execution_count": null,
   "id": "d4c56e6d",
   "metadata": {},
   "outputs": [],
   "source": [
    "# 조건에 따른 누적합\n",
    "s = df[df['f2']==1]['f1'].cumsum()\n",
    "s"
   ]
  },
  {
   "cell_type": "code",
   "execution_count": null,
   "id": "7e7e0c18",
   "metadata": {},
   "outputs": [],
   "source": [
    "# 바로 뒤값으로 채워넣는 방법\n",
    "s.fillna(method = 'bfill') \n",
    "s.fillna(method = 'backfill')\n",
    "\n",
    "# 이전값으로 채워넣는 방법\n",
    "s.fillna(method = 'ffill')\n",
    "s.fillna(method = 'pad') "
   ]
  },
  {
   "cell_type": "markdown",
   "id": "fbce5eea",
   "metadata": {},
   "source": [
    "## T1-9. 수치형변수 표준화\n",
    "https://www.kaggle.com/code/agileteam/py-t1-9-expected-questions/notebook\n",
    "\n",
    "주어진 데이터에서 'f5'컬럼을 표준화(Standardization (Z-score Normalization))하고 그 중앙값을 구하시오"
   ]
  },
  {
   "cell_type": "markdown",
   "id": "fca6da6d",
   "metadata": {},
   "source": [
    "### Scaling\n",
    "\n",
    "#### 1. StandardScaler\n",
    "- 평균=0, 표준편차=1로 조정해서 모든 특성이 같은 크기를 갖게 한다.\n",
    "\n",
    "#### 2. MinMaxScaler\n",
    "- 최대값=1, 최소값=0으로 조정, 아웃라이어에 취약\n",
    "\n",
    "#### 3. RobustScaler\n",
    "- 중앙값=0, IQR(1분위~3분위값)=1로 조정, 아웃라이어 영향을 최소화하며 정규분포보다 더 넓게 분포\n",
    "\n",
    "#### 4. MaxAbsScaler\n",
    "- 0을 기준으로 절대값이 가장 큰 수가 1 또는 -1이 되도록 조정, 양수 데이터로만 구성된 데이터셋에서는 아웃라이어에 민감\n",
    "\n",
    "#### 아웃라이어 영향 최소화하기 위해서는 1,4 사용\n",
    "- sklearn에서 제공\n",
    "\n",
    "### fit_transform() 과 fit(), transform() 차이\n",
    "- fit()  데이터 학습\n",
    "- transform() 실제로 학습시킨 것을 적용\n",
    "<br>\n",
    "\n",
    "- fit_transform()  한번에 처리. 테스트데이터에서는 쓰면 안 됨\n",
    "    - ()안에는 dataframe만 들어가야 함\n",
    "<br>\n",
    "\n",
    "- test 데이터셋에서는: ss.transform(x_test)\n"
   ]
  },
  {
   "cell_type": "markdown",
   "id": "2e9309a4",
   "metadata": {},
   "source": [
    "## StandardScaler"
   ]
  },
  {
   "cell_type": "code",
   "execution_count": null,
   "id": "4617a5cc",
   "metadata": {},
   "outputs": [],
   "source": [
    "from sklearn.preprocessing import StandardScaler\n",
    "scaler = StandardScaler()\n",
    "\n",
    "# 1) fit 후 transform\n",
    "scaler.fit(data)\n",
    "scaler.transform(data)\n",
    "\n",
    "# 2) fit과 transform 한꺼번에 진행\n",
    "scaler.fit_transform(data)"
   ]
  },
  {
   "cell_type": "markdown",
   "id": "fa01f630",
   "metadata": {},
   "source": [
    "## T-10. 수치형변수 변환, 박스-칼스변환 (출제빈도 낮음)\n",
    "https://www.kaggle.com/code/agileteam/py-t1-10-expected-questions/notebook\n",
    "\n",
    "주어진 데이터에서 20세 이상인 데이터를 추출하고 'f1'컬럼을 결측치를 최빈값으로 채운 후, f1 컬럼의 여-존슨과 박스콕스 변환 값을 구하고, 두 값의 차이를 절대값으로 구한다음 모두 더해 소수점 둘째 자리까지 출력(반올림)하시오"
   ]
  },
  {
   "cell_type": "code",
   "execution_count": null,
   "id": "77a1b536",
   "metadata": {},
   "outputs": [],
   "source": [
    "# 조건에 맞는 데이터\n",
    "df_new = df[df.age>=20]\n",
    "df_new.f1.mode().values[0]\n",
    "\n",
    "# 최빈값으로 'f1' 컬럼 결측치 대체\n",
    "df.f1.fillna(df_new.f1.mode().values[0], inplace = True)\n",
    "\n",
    "# 'f1'데이터 여-존슨 yeo-johnson 값 구하기 2)\n",
    "df['f1_yeo2'] = power_transform(df[['f1']],standardize=False) # method 디폴트 값은 여-존슨’yeo-johnson’\n",
    "df['f1_yeo2'].head()\n",
    "\n",
    "# 'f1'데이터 박스-콕스 box-cox 값 구하기 2) \n",
    "df['f1_box2'] = power_transform(df[['f1']], method='box-cox',standardize=False)\n",
    "df['f1_box2'].head()\n",
    "\n",
    "# 두 값의 차이를 절대값으로 구한다음 모두 더해 소수점 둘째 자리까지 출력(반올림)\n",
    "abs (df.f1_yeo2 - df.f1_box2 ).sum().round(2)"
   ]
  },
  {
   "cell_type": "markdown",
   "id": "eb85781a",
   "metadata": {},
   "source": [
    "### abs vs np.abs\n",
    "- np.abs도 내장 함수와 같은 원리로 정수, 실수 및 복소수에 대한 절댓값 연산이 진행되지만, 리스트 혹은 배열 등의 자료에서 내부의 각 원소들에 대하여 통째로 절대값을 취한 결과를 반환받는 것이 가능\n"
   ]
  },
  {
   "cell_type": "code",
   "execution_count": 7,
   "id": "6146888e",
   "metadata": {},
   "outputs": [
    {
     "data": {
      "text/plain": [
       "array([1, 2, 3, 4, 5])"
      ]
     },
     "execution_count": 7,
     "metadata": {},
     "output_type": "execute_result"
    }
   ],
   "source": [
    "import numpy as np\n",
    "arr = np.array([-1, 2, -3, 4, -5])\n",
    "np.abs(arr)"
   ]
  },
  {
   "cell_type": "code",
   "execution_count": 8,
   "id": "a6138851",
   "metadata": {},
   "outputs": [
    {
     "data": {
      "text/plain": [
       "array([1, 2, 3, 4, 5])"
      ]
     },
     "execution_count": 8,
     "metadata": {},
     "output_type": "execute_result"
    }
   ],
   "source": [
    "abs(arr)"
   ]
  },
  {
   "cell_type": "code",
   "execution_count": 9,
   "id": "88714f16",
   "metadata": {},
   "outputs": [
    {
     "data": {
      "text/plain": [
       "array([[1, 2, 3, 4],\n",
       "       [5, 6, 7, 8]])"
      ]
     },
     "execution_count": 9,
     "metadata": {},
     "output_type": "execute_result"
    }
   ],
   "source": [
    "data2 = [[1, 2, 3, 4], [5, 6, 7, 8]]\n",
    "np.abs(data2)"
   ]
  },
  {
   "cell_type": "code",
   "execution_count": 10,
   "id": "ed8c145e",
   "metadata": {},
   "outputs": [
    {
     "ename": "TypeError",
     "evalue": "bad operand type for abs(): 'list'",
     "output_type": "error",
     "traceback": [
      "\u001b[1;31m---------------------------------------------------------------------------\u001b[0m",
      "\u001b[1;31mTypeError\u001b[0m                                 Traceback (most recent call last)",
      "Input \u001b[1;32mIn [10]\u001b[0m, in \u001b[0;36m<cell line: 1>\u001b[1;34m()\u001b[0m\n\u001b[1;32m----> 1\u001b[0m \u001b[38;5;28;43mabs\u001b[39;49m\u001b[43m(\u001b[49m\u001b[43mdata2\u001b[49m\u001b[43m)\u001b[49m\n",
      "\u001b[1;31mTypeError\u001b[0m: bad operand type for abs(): 'list'"
     ]
    }
   ],
   "source": [
    "abs(data2)"
   ]
  },
  {
   "cell_type": "markdown",
   "id": "799a6be5",
   "metadata": {},
   "source": [
    "## T1-11. min-max 기준 상하위 5%값 "
   ]
  },
  {
   "cell_type": "markdown",
   "id": "aea6afdf",
   "metadata": {},
   "source": [
    "## MinMaxScaler"
   ]
  },
  {
   "cell_type": "code",
   "execution_count": null,
   "id": "57a6045d",
   "metadata": {},
   "outputs": [],
   "source": [
    "# 방법1)\n",
    "from sklearn.preprocessing import MinMaxScaler\n",
    "scaler = MinMaxScaler()\n",
    "df['f5_1'] = scaler.fit_transform(df[['f5']])\n",
    "\n",
    "# 방법2)\n",
    "df['f5_2'] = df['f5'].transform(lambda x: ((x - x.min()) / (x.max() - x.min())))\n"
   ]
  },
  {
   "cell_type": "code",
   "execution_count": null,
   "id": "cc1944a2",
   "metadata": {},
   "outputs": [],
   "source": [
    "# 하위 5%, 상위 5% 값 구하기\n",
    "df['f5_1'].quantile(0.05)\n",
    "df['f5_1'].quantile(0.95)\n"
   ]
  },
  {
   "cell_type": "markdown",
   "id": "da46f9e4",
   "metadata": {},
   "source": [
    "## T1-12. 상위 10개, 하위 10개 차이 \n",
    "\n",
    "주어진 데이터에서 상위 10개 국가의 접종률 평균과 하위 10개 국가의 접종률 평균을 구하고, 그 차이를 구해보세요 \n",
    "(단, 100%가 넘는 접종률 제거, 소수 첫째자리까지 출력)\n"
   ]
  },
  {
   "cell_type": "code",
   "execution_count": null,
   "id": "61f2e8ae",
   "metadata": {},
   "outputs": [],
   "source": [
    "df_srt = df.groupby('country').max().ratio\n",
    "df_srt = df_srt[df_srt < 100].sort_values()\n",
    "bot = df_srt.head(10).mean()\n",
    "top = df_srt.tail(10).mean()\n",
    "round(top - bot , 1)"
   ]
  },
  {
   "cell_type": "markdown",
   "id": "66d7c6c4",
   "metadata": {},
   "source": [
    "## T1-13. 상관관계 구하기\n",
    "\n",
    "주어진 데이터에서 상관관계를 구하고, quality와의 상관관계가 가장 큰 값과, 가장 작은 값을 구한 다음 더하시오!\n",
    "단, quality와 quality 상관관계 제외, 소수점 둘째 자리까지 출력"
   ]
  },
  {
   "cell_type": "code",
   "execution_count": null,
   "id": "07d925f1",
   "metadata": {},
   "outputs": [],
   "source": [
    "df.corr()\n",
    "df.corr()[:-1]\n",
    "abs(df.corr()['quality'][:-1]).max()\n",
    "\n",
    "df.corr()['quality'][:-1][df.corr()['quality'][:-1] == abs(df.corr()['quality'][:-1]).max()].index"
   ]
  },
  {
   "cell_type": "markdown",
   "id": "63024130",
   "metadata": {},
   "source": [
    "## T1-14. 2개 조건에 따른 상위 값\n",
    "\n",
    "city와 f4를 기준으로 f5의 평균값을 구한 다음, f5를 기준으로 상위 7개 값을 모두 더해 출력하시오 (소수점 둘째자리까지 출력)\n"
   ]
  },
  {
   "cell_type": "code",
   "execution_count": null,
   "id": "7e423664",
   "metadata": {},
   "outputs": [],
   "source": [
    "##### OK\n",
    "df.groupby(['city','f4']).mean().sort_values('f5', ascending = False).head(7).f5.sum().round(2)"
   ]
  },
  {
   "cell_type": "markdown",
   "id": "cad1ff04",
   "metadata": {},
   "source": [
    "## T1-15. 슬라이싱, 조건식\n",
    " 주어진 데이터 셋에서 age컬럼 상위 20개의 데이터를 구한 다음 \n",
    " f1의 결측치를 중앙값으로 채운다.\n",
    " 그리고 f4가 ISFJ와 f5가 20 이상인 \n",
    " f1의 평균값을 출력하시오!\n"
   ]
  },
  {
   "cell_type": "code",
   "execution_count": null,
   "id": "8d947f29",
   "metadata": {},
   "outputs": [],
   "source": [
    "##### OK\n",
    "df2 = df.sort_values('age',ascending = False).head(20)\n",
    "df2.f1.fillna(df2.f1.median(), inplace = True)\n",
    "df2[(df2.f4 == 'ISFJ') & (df2.f5 >= 20)].f1.mean()"
   ]
  },
  {
   "cell_type": "markdown",
   "id": "5b503ea6",
   "metadata": {},
   "source": [
    "## T1-16. 분산\n",
    " 주어진 데이터 셋에서 f2가 0값인 데이터를 age를 기준으로 오름차순 정렬하고\n",
    " 앞에서 부터 20개의 데이터를 추출한 후 \n",
    " f1 결측치(최소값)를 채우기 전과 후의 분산 차이를 계산하시오 (소수점 둘째 자리까지)\n"
   ]
  },
  {
   "cell_type": "code",
   "execution_count": null,
   "id": "41655fba",
   "metadata": {},
   "outputs": [],
   "source": [
    "##### OK\n",
    "df1 = df[df.f2 == 0].sort_values('age').head(20)\n",
    "var1 = df1.f1.var()\n",
    "df2 = df1\n",
    "df2.f1.fillna(df2.f1.min(), inplace = True)\n",
    "var2 = df2.f1.var()\n",
    "round(var1 - var2, 2)"
   ]
  },
  {
   "cell_type": "markdown",
   "id": "976996e5",
   "metadata": {},
   "source": [
    "### 분산, 표준편차\n",
    "#### ddof : Delta Degrees of Freedom 감소된 자유도\n",
    "- numpy as np\n",
    "    - 모표준편차 ddof=0 가 디폴트\n",
    "    - df.f1.values.var()\n",
    "    - df.f1.var(ddof = 0)\n",
    "    - np.var(df.f1)\n",
    "- pandas as pd\n",
    "    - 표본표준편차 ddof=1 가 디폴트  (n-1)로 나눔\n",
    "    - df.f1.var()\n",
    "    - df.f1.var(ddof = 1)\n",
    "    - np.var(df.f1, ddof = 1)"
   ]
  },
  {
   "cell_type": "markdown",
   "id": "e6d46ae7",
   "metadata": {},
   "source": [
    "## T1-17. 시계열1 \n",
    "\n",
    "2022년 5월 sales의 중앙값\n"
   ]
  },
  {
   "cell_type": "code",
   "execution_count": null,
   "id": "0e5892e2",
   "metadata": {},
   "outputs": [],
   "source": [
    "##### OK\n",
    "import datetime as dt\n",
    "df.Date = pd.to_datetime(df.Date)\n",
    "df.Date.unique()\n",
    "df[(df.Date.dt.year == 2022) & (df.Date.dt.month == 5)].Sales.median()"
   ]
  },
  {
   "cell_type": "markdown",
   "id": "a6537c14",
   "metadata": {},
   "source": [
    "## T1-18. 시계열2\n",
    "\n",
    "주어진 데이터에서 2022년 5월 주말과 평일의 sales컬럼 평균값 차이를 구하라\n",
    "소수점 둘째자리까지 출력, 반올림"
   ]
  },
  {
   "cell_type": "code",
   "execution_count": null,
   "id": "cd1d943c",
   "metadata": {},
   "outputs": [],
   "source": [
    "new = df[(df.Date.dt.year == 2022) & (df.Date.dt.month == 5)]\n",
    "new['Day'] = new.Date.dt.weekday.isin([5,6])\n",
    "round(abs(new[new.Day == True].Sales.mean() - new[new.Day == False].Sales.mean()),2)"
   ]
  },
  {
   "cell_type": "markdown",
   "id": "c5ef2de1",
   "metadata": {},
   "source": [
    "### 요일\n",
    "- df.dt.dayofweek\n",
    "- df.dt.weekday"
   ]
  },
  {
   "cell_type": "markdown",
   "id": "f3721b4e",
   "metadata": {},
   "source": [
    "## T1-19. 시계열3\n",
    "\n",
    "주어진 데이터에서 2022년 월별 Sales 합계 중 가장 큰 금액과\n",
    "2023년 월별 Sales 합계 중 가장 큰 금액의 차이를 절대값으로 구하시오.\n",
    "단 Events컬럼이 '1'인경우 80%의 Salse값만 반영함\n",
    "(최종값은 소수점 반올림 후 정수 출력)"
   ]
  },
  {
   "cell_type": "code",
   "execution_count": null,
   "id": "920b7766",
   "metadata": {},
   "outputs": [],
   "source": [
    "# 조건에 맞는 컬럼 만들기\n",
    "\n",
    "# 방법1)\n",
    "def eve(x):\n",
    "    if x.Events == 1:\n",
    "        x['new_sales'] = x.Sales * 0.8\n",
    "    else:\n",
    "        x['new_sales'] = x.Sales\n",
    "    return x\n",
    "\n",
    "df = df.apply(lambda x: eve(x), axis = 1)\n",
    "\n",
    "# 방법2)\n",
    "df['newSales'] = df.Sales.apply(lambda x: x*0.8 if (df[df.Sales == x].Events.values) == 1 else x)\n",
    "\n",
    "# 차이, 절대값 소수점 반올림 후 정수출력\n",
    "int(round(abs(a - b),0))"
   ]
  },
  {
   "cell_type": "markdown",
   "id": "7e37df76",
   "metadata": {},
   "source": [
    "### apply(lambda) 함수\n",
    "- 한 개의 레코드(로우)별로 체크해서 변환하겠다는 의미임\n",
    "<br>\n",
    "- pandas DataFrame은 기본적으로 레코드 단위가 아닌, 컬럼 단위로 일괄 변환을 선호함\n",
    "- 레코드 단위 변환이 필요할 경우에, apply(lambda)를 사용\n",
    "    - df.Sales.apply(lambda x: get_category(x)): 1건의 Sales값이 get_category(x)의 x로 입력됨\n",
    "    - df.Sales.apply(lambda x: df.Sales : 오류가 나는 건 당연함"
   ]
  },
  {
   "cell_type": "markdown",
   "id": "5cc7dd22",
   "metadata": {},
   "source": [
    "## T1-20. 데이터 병합\n",
    "\n",
    "basic1 데이터와 basic3 데이터를 'f4'값을 기준으로 병합하고,\n",
    "병합한 데이터에서 r2결측치를 제거한다음, 앞에서 부터 20개 데이터를 선택하고 'f2'컬럼 합을 구하시오"
   ]
  },
  {
   "cell_type": "code",
   "execution_count": null,
   "id": "d6ae30e6",
   "metadata": {},
   "outputs": [],
   "source": [
    "# merge\n",
    "b2 = b1.merge(b3, on='f4')\n",
    "df = pd.merge(left = b1 , right = b3, how = \"left\", on = \"f4\")\n",
    "\n",
    "# 결측치 제거\n",
    "b2.dropna(subset=['r2'])"
   ]
  },
  {
   "cell_type": "markdown",
   "id": "574683ae",
   "metadata": {},
   "source": [
    "## T1-21. 구간분할\n",
    "\n",
    "basic1 데이터 중 'age'컬럼 이상치를 제거하고, 동일한 개수로 나이 순으로 3그룹으로 나눈 뒤 각 그룹의 중앙값을 더하시오"
   ]
  },
  {
   "cell_type": "code",
   "execution_count": null,
   "id": "51d9c48a",
   "metadata": {},
   "outputs": [],
   "source": [
    "# 구간 분할\n",
    "df['range'] = pd.qcut(df['age'], q=3, labels=['group1','group2','group3'])"
   ]
  },
  {
   "cell_type": "markdown",
   "id": "090b08df",
   "metadata": {},
   "source": [
    "### 구간나누기\n",
    "- 같은 길이로 구간 나누기: pd.cut \n",
    "- 같은 갯수로 구간 나누기: pd.qcut"
   ]
  },
  {
   "cell_type": "markdown",
   "id": "a1ef38df",
   "metadata": {},
   "source": [
    "#### 값이 float일 때"
   ]
  },
  {
   "cell_type": "code",
   "execution_count": 3,
   "id": "83244011",
   "metadata": {},
   "outputs": [],
   "source": [
    "np.random.seed(122)"
   ]
  },
  {
   "cell_type": "code",
   "execution_count": 7,
   "id": "ee1e3ace",
   "metadata": {},
   "outputs": [
    {
     "data": {
      "text/plain": [
       "array([ 0.48468014, -0.82216117, -0.33674179, ..., -0.11182173,\n",
       "       -0.53074846, -0.41525932])"
      ]
     },
     "execution_count": 7,
     "metadata": {},
     "output_type": "execute_result"
    }
   ],
   "source": [
    "normal = np.random.normal(size = 10000)\n",
    "normal"
   ]
  },
  {
   "cell_type": "code",
   "execution_count": 6,
   "id": "4311fcb4",
   "metadata": {},
   "outputs": [
    {
     "data": {
      "text/plain": [
       "[(-0.701, 0.779], (-2.18, -0.701], (-0.701, 0.779], (-2.18, -0.701], (0.779, 2.258], ..., (-2.18, -0.701], (-0.701, 0.779], (-0.701, 0.779], (-0.701, 0.779], (-0.701, 0.779]]\n",
       "Length: 10000\n",
       "Categories (5, interval[float64, right]): [(-3.667, -2.18] < (-2.18, -0.701] < (-0.701, 0.779] < (0.779, 2.258] < (2.258, 3.738]]"
      ]
     },
     "execution_count": 6,
     "metadata": {},
     "output_type": "execute_result"
    }
   ],
   "source": [
    "bins = pd.cut(normal, 5)\n",
    "bins"
   ]
  },
  {
   "cell_type": "code",
   "execution_count": 8,
   "id": "9ec6975c",
   "metadata": {},
   "outputs": [
    {
     "data": {
      "text/plain": [
       "IntervalIndex([(-3.667, -2.18], (-2.18, -0.701], (-0.701, 0.779], (0.779, 2.258], (2.258, 3.738]], dtype='interval[float64, right]')"
      ]
     },
     "execution_count": 8,
     "metadata": {},
     "output_type": "execute_result"
    }
   ],
   "source": [
    "bins.categories"
   ]
  },
  {
   "cell_type": "code",
   "execution_count": 9,
   "id": "21be9a70",
   "metadata": {},
   "outputs": [
    {
     "data": {
      "text/html": [
       "<div>\n",
       "<style scoped>\n",
       "    .dataframe tbody tr th:only-of-type {\n",
       "        vertical-align: middle;\n",
       "    }\n",
       "\n",
       "    .dataframe tbody tr th {\n",
       "        vertical-align: top;\n",
       "    }\n",
       "\n",
       "    .dataframe thead th {\n",
       "        text-align: right;\n",
       "    }\n",
       "</style>\n",
       "<table border=\"1\" class=\"dataframe\">\n",
       "  <thead>\n",
       "    <tr style=\"text-align: right;\">\n",
       "      <th></th>\n",
       "      <th>counts</th>\n",
       "      <th>freqs</th>\n",
       "    </tr>\n",
       "    <tr>\n",
       "      <th>categories</th>\n",
       "      <th></th>\n",
       "      <th></th>\n",
       "    </tr>\n",
       "  </thead>\n",
       "  <tbody>\n",
       "    <tr>\n",
       "      <th>(-3.667, -2.18]</th>\n",
       "      <td>161</td>\n",
       "      <td>0.0161</td>\n",
       "    </tr>\n",
       "    <tr>\n",
       "      <th>(-2.18, -0.701]</th>\n",
       "      <td>2214</td>\n",
       "      <td>0.2214</td>\n",
       "    </tr>\n",
       "    <tr>\n",
       "      <th>(-0.701, 0.779]</th>\n",
       "      <td>5464</td>\n",
       "      <td>0.5464</td>\n",
       "    </tr>\n",
       "    <tr>\n",
       "      <th>(0.779, 2.258]</th>\n",
       "      <td>2054</td>\n",
       "      <td>0.2054</td>\n",
       "    </tr>\n",
       "    <tr>\n",
       "      <th>(2.258, 3.738]</th>\n",
       "      <td>107</td>\n",
       "      <td>0.0107</td>\n",
       "    </tr>\n",
       "  </tbody>\n",
       "</table>\n",
       "</div>"
      ],
      "text/plain": [
       "                 counts   freqs\n",
       "categories                     \n",
       "(-3.667, -2.18]     161  0.0161\n",
       "(-2.18, -0.701]    2214  0.2214\n",
       "(-0.701, 0.779]    5464  0.5464\n",
       "(0.779, 2.258]     2054  0.2054\n",
       "(2.258, 3.738]      107  0.0107"
      ]
     },
     "execution_count": 9,
     "metadata": {},
     "output_type": "execute_result"
    }
   ],
   "source": [
    "bins.describe()"
   ]
  },
  {
   "cell_type": "code",
   "execution_count": 10,
   "id": "1ef5794d",
   "metadata": {},
   "outputs": [
    {
     "data": {
      "text/plain": [
       "array([-3.65918563, -2.17984729, -0.70050894,  0.7788294 ,  2.25816774,\n",
       "        3.73750609])"
      ]
     },
     "execution_count": 10,
     "metadata": {},
     "output_type": "execute_result"
    }
   ],
   "source": [
    "## 직접 나눠보기\n",
    "mn = normal.min()\n",
    "mx = normal.max()\n",
    "delta = mx - mn\n",
    "size = delta / 5\n",
    "etr = delta * 0.001\n",
    "intval = np.arange(mn, mx+etr, size)\n",
    "intval"
   ]
  },
  {
   "cell_type": "code",
   "execution_count": 11,
   "id": "340210a7",
   "metadata": {},
   "outputs": [
    {
     "data": {
      "text/plain": [
       "array([-3.66658232, -2.17984729, -0.70050894,  0.7788294 ,  2.25816774,\n",
       "        3.73750609])"
      ]
     },
     "execution_count": 11,
     "metadata": {},
     "output_type": "execute_result"
    }
   ],
   "source": [
    "intval[0] -= delta*0.001\n",
    "intval"
   ]
  },
  {
   "cell_type": "markdown",
   "id": "c1150146",
   "metadata": {},
   "source": [
    "#### 값이 int일 때"
   ]
  },
  {
   "cell_type": "code",
   "execution_count": 12,
   "id": "6cb5a448",
   "metadata": {},
   "outputs": [
    {
     "data": {
      "text/plain": [
       "array([27, 32, 42, 33, 37,  8, 34, 36, 42, 41, 14, 23, 12, 19, 26, 36, 19,\n",
       "       35,  6, 33, 38, 15, 20, 10, 28, 31, 20, 22, 26, 12, 36, 34, 17, 37,\n",
       "       21, 27,  7, 22, 35, 21, 15, 10, 36, 32, 20,  7,  9, 21, 36, 22])"
      ]
     },
     "execution_count": 12,
     "metadata": {},
     "output_type": "execute_result"
    }
   ],
   "source": [
    "ages = np.random.randint(6,45,50)\n",
    "ages"
   ]
  },
  {
   "cell_type": "code",
   "execution_count": 13,
   "id": "af8478ce",
   "metadata": {},
   "outputs": [
    {
     "data": {
      "text/html": [
       "<div>\n",
       "<style scoped>\n",
       "    .dataframe tbody tr th:only-of-type {\n",
       "        vertical-align: middle;\n",
       "    }\n",
       "\n",
       "    .dataframe tbody tr th {\n",
       "        vertical-align: top;\n",
       "    }\n",
       "\n",
       "    .dataframe thead th {\n",
       "        text-align: right;\n",
       "    }\n",
       "</style>\n",
       "<table border=\"1\" class=\"dataframe\">\n",
       "  <thead>\n",
       "    <tr style=\"text-align: right;\">\n",
       "      <th></th>\n",
       "      <th>counts</th>\n",
       "      <th>freqs</th>\n",
       "    </tr>\n",
       "    <tr>\n",
       "      <th>categories</th>\n",
       "      <th></th>\n",
       "      <th></th>\n",
       "    </tr>\n",
       "  </thead>\n",
       "  <tbody>\n",
       "    <tr>\n",
       "      <th>(5, 12]</th>\n",
       "      <td>9</td>\n",
       "      <td>0.18</td>\n",
       "    </tr>\n",
       "    <tr>\n",
       "      <th>(12, 18]</th>\n",
       "      <td>4</td>\n",
       "      <td>0.08</td>\n",
       "    </tr>\n",
       "    <tr>\n",
       "      <th>(18, 35]</th>\n",
       "      <td>26</td>\n",
       "      <td>0.52</td>\n",
       "    </tr>\n",
       "    <tr>\n",
       "      <th>(35, 50]</th>\n",
       "      <td>11</td>\n",
       "      <td>0.22</td>\n",
       "    </tr>\n",
       "  </tbody>\n",
       "</table>\n",
       "</div>"
      ],
      "text/plain": [
       "            counts  freqs\n",
       "categories               \n",
       "(5, 12]          9   0.18\n",
       "(12, 18]         4   0.08\n",
       "(18, 35]        26   0.52\n",
       "(35, 50]        11   0.22"
      ]
     },
     "execution_count": 13,
     "metadata": {},
     "output_type": "execute_result"
    }
   ],
   "source": [
    "ranges = [5,12,18,35,50]\n",
    "age_bins = pd.cut(ages, ranges)\n",
    "age_bins.describe()"
   ]
  },
  {
   "cell_type": "markdown",
   "id": "fa0408a2",
   "metadata": {},
   "source": [
    "#### pd.qcut 같은 갯수로 구간 나누기"
   ]
  },
  {
   "cell_type": "code",
   "execution_count": 14,
   "id": "183f9fcd",
   "metadata": {},
   "outputs": [
    {
     "data": {
      "text/html": [
       "<div>\n",
       "<style scoped>\n",
       "    .dataframe tbody tr th:only-of-type {\n",
       "        vertical-align: middle;\n",
       "    }\n",
       "\n",
       "    .dataframe tbody tr th {\n",
       "        vertical-align: top;\n",
       "    }\n",
       "\n",
       "    .dataframe thead th {\n",
       "        text-align: right;\n",
       "    }\n",
       "</style>\n",
       "<table border=\"1\" class=\"dataframe\">\n",
       "  <thead>\n",
       "    <tr style=\"text-align: right;\">\n",
       "      <th></th>\n",
       "      <th>counts</th>\n",
       "      <th>freqs</th>\n",
       "    </tr>\n",
       "    <tr>\n",
       "      <th>categories</th>\n",
       "      <th></th>\n",
       "      <th></th>\n",
       "    </tr>\n",
       "  </thead>\n",
       "  <tbody>\n",
       "    <tr>\n",
       "      <th>(-3.6599999999999997, -0.833]</th>\n",
       "      <td>2000</td>\n",
       "      <td>0.2</td>\n",
       "    </tr>\n",
       "    <tr>\n",
       "      <th>(-0.833, -0.253]</th>\n",
       "      <td>2000</td>\n",
       "      <td>0.2</td>\n",
       "    </tr>\n",
       "    <tr>\n",
       "      <th>(-0.253, 0.254]</th>\n",
       "      <td>2000</td>\n",
       "      <td>0.2</td>\n",
       "    </tr>\n",
       "    <tr>\n",
       "      <th>(0.254, 0.832]</th>\n",
       "      <td>2000</td>\n",
       "      <td>0.2</td>\n",
       "    </tr>\n",
       "    <tr>\n",
       "      <th>(0.832, 3.738]</th>\n",
       "      <td>2000</td>\n",
       "      <td>0.2</td>\n",
       "    </tr>\n",
       "  </tbody>\n",
       "</table>\n",
       "</div>"
      ],
      "text/plain": [
       "                               counts  freqs\n",
       "categories                                  \n",
       "(-3.6599999999999997, -0.833]    2000    0.2\n",
       "(-0.833, -0.253]                 2000    0.2\n",
       "(-0.253, 0.254]                  2000    0.2\n",
       "(0.254, 0.832]                   2000    0.2\n",
       "(0.832, 3.738]                   2000    0.2"
      ]
     },
     "execution_count": 14,
     "metadata": {},
     "output_type": "execute_result"
    }
   ],
   "source": [
    "same_cnt_bin = pd.qcut(normal,5)\n",
    "same_cnt_bin.describe()"
   ]
  },
  {
   "cell_type": "code",
   "execution_count": null,
   "id": "aec022f8",
   "metadata": {},
   "outputs": [],
   "source": [
    "df_a['cat'] = pd.qcut(df_a.age, q = 3, labels = ['g1','g2','g3'])\n",
    "df_a.groupby('cat').median().age"
   ]
  },
  {
   "cell_type": "markdown",
   "id": "17025088",
   "metadata": {},
   "source": [
    "## T1-22. Time-Series\n",
    "주어진 데이터(basic2.csv)에서 주 단위 Sales의 합계를 구하고, 가장 큰 값을 가진 주와 작은 값을 가진 주의 차이를 구하시오(절대값)"
   ]
  },
  {
   "cell_type": "markdown",
   "id": "f1856f65",
   "metadata": {},
   "source": [
    "#### 단위\n",
    "- 주 단위: W\n",
    "- 2주 단위: 2W\n",
    "- 월 단위: M\n"
   ]
  },
  {
   "cell_type": "code",
   "execution_count": null,
   "id": "b8e8b5e5",
   "metadata": {},
   "outputs": [],
   "source": [
    "df['Date'] = pd.to_datetime(df['Date'])\n",
    "df = df.set_index('Date')\n",
    "\n",
    "df.resample('W').sum()\n",
    "df.resample('M').sum()"
   ]
  },
  {
   "cell_type": "markdown",
   "id": "8a7a8989",
   "metadata": {},
   "source": [
    "## T1-23. 중복 데이터 제거\n",
    "\n",
    "f1의 결측치를 채운 후 age 컬럼의 중복 제거 전과 후의 'f1' 중앙값 차이를 구하시오\n",
    "- 결측치는 f1의 데이터 중 내림차순 정렬 후 10번째 값으로 채움\n",
    "- 중복 데이터 발생시 뒤에 나오는 데이터를 삭제함\n",
    "- 최종 결과값은 절대값으로 출력"
   ]
  },
  {
   "cell_type": "code",
   "execution_count": null,
   "id": "fc0ee7f6",
   "metadata": {},
   "outputs": [],
   "source": [
    "df.f1.sort_values(ascending = False).iloc[9]\n",
    "\n",
    "# 중복\n",
    "df.age.duplicated().sum()\n",
    "df.drop_duplicates('age').f1.median()"
   ]
  },
  {
   "cell_type": "markdown",
   "id": "98ff2607",
   "metadata": {},
   "source": [
    "## T1-24. Time-Series(Lagged Feature)\n",
    "\n",
    "주어진 데이터(basic2.csv)에서 \"pv\"컬럼으로 1일 시차(lag)가 있는 새로운 컬럼을 만들고(예: 1월 2일에는 1월 1일 pv데이터를 넣고, 1월 3일에는 1월 2일 pv데이터를 넣음),\n",
    "\n",
    "새로운 컬럼의 1월 1일은 다음날(1월 2일)데이터로 결측치를 채운 다음, \n",
    "\n",
    "Events가 1이면서 Sales가 1000000이하인 조건에 맞는 새로운 컬럼 합을 구하시오"
   ]
  },
  {
   "cell_type": "code",
   "execution_count": null,
   "id": "366e44c1",
   "metadata": {},
   "outputs": [],
   "source": [
    "#1일 차이가 나는 시차 특성 만들기\n",
    "df['previous_PV'] = df['PV'].shift(1)\n",
    "\n",
    "# 바로 뒤의 값으로 채움\n",
    "df.previous_PV.fillna(method = 'bfill')"
   ]
  },
  {
   "cell_type": "markdown",
   "id": "e47dbc3f",
   "metadata": {},
   "source": [
    "## T1-25. str-slicing\n",
    "basic1 데이터에서 f4가 E로 시작하면서 부산에 살고 20대인 사람은 몇 명일까"
   ]
  },
  {
   "cell_type": "code",
   "execution_count": null,
   "id": "88151745",
   "metadata": {},
   "outputs": [],
   "source": [
    "### OK\n",
    "df.f4.str.startswith('E')"
   ]
  },
  {
   "cell_type": "markdown",
   "id": "8eff2ee2",
   "metadata": {},
   "source": [
    "## T1-26. str-contains\n",
    "menu컬럼에 \"라떼\" 키워드가 있는 데이터의 수는?"
   ]
  },
  {
   "cell_type": "code",
   "execution_count": null,
   "id": "eadbf5ff",
   "metadata": {},
   "outputs": [],
   "source": [
    "### OK\n",
    "df.menu.str.contains('라떼').sum()"
   ]
  },
  {
   "cell_type": "markdown",
   "id": "20849265",
   "metadata": {},
   "source": [
    "## T1-27. str-contains-replace\n",
    "바닐라라떼 5점, 카페라떼 3점, 아메리카노 2점, 나머지 0점이다 총 메뉴의 점수를 더한 값은?"
   ]
  },
  {
   "cell_type": "code",
   "execution_count": null,
   "id": "69cc4f5d",
   "metadata": {},
   "outputs": [],
   "source": [
    "df.menu = df.menu.str.replace(' ','')\n",
    "m = {'바닐라라떼': 5, '카페라떼': 3, '아메리카노': 2}\n",
    "df.menu.map(m).fillna(0).sum()"
   ]
  },
  {
   "cell_type": "markdown",
   "id": "00592d00",
   "metadata": {},
   "source": [
    "## T1-28. value-counts-index\n",
    "시간(hour)이 13시 이전(13시 포함하지 않음) 데이터 중 가장 많은 결제가 이루어진 날짜(date)는? (date 컬럼과 동일한 양식으로 출력)"
   ]
  },
  {
   "cell_type": "code",
   "execution_count": null,
   "id": "c9b683c8",
   "metadata": {},
   "outputs": [],
   "source": []
  },
  {
   "cell_type": "markdown",
   "id": "9c32fa2c",
   "metadata": {},
   "source": [
    "## T1-29. datetime-format"
   ]
  },
  {
   "cell_type": "code",
   "execution_count": null,
   "id": "275bf589",
   "metadata": {},
   "outputs": [],
   "source": [
    "pd.to_datetime(df.date, format = '%Y%m%d')"
   ]
  },
  {
   "cell_type": "markdown",
   "id": "8f7e9920",
   "metadata": {},
   "source": [
    "## T1-30. datetime-percent\n",
    "12월 25일 결제 금액(price)은 12월 총 결제금액의 몇 %인가? (정수로 출력)"
   ]
  },
  {
   "cell_type": "code",
   "execution_count": null,
   "id": "8e1ee44b",
   "metadata": {},
   "outputs": [],
   "source": [
    "int(df[df.date == '2022-12-25'].price.sum() / df[ df.date.dt.month == 12 ].price.sum() * 100)"
   ]
  },
  {
   "cell_type": "markdown",
   "id": "bc1a2253",
   "metadata": {},
   "source": [
    "## T1-31 melt\n",
    "수학, 영어, 국어 점수 중 사람과 과목에 상관없이 가장 상위 점수 5개를 모두 더하고 출력하"
   ]
  },
  {
   "cell_type": "code",
   "execution_count": null,
   "id": "a26501bb",
   "metadata": {},
   "outputs": [],
   "source": [
    "df.drop('Name', axis = 1).unstack().sort_values(ascending = False)[:5].sum()"
   ]
  },
  {
   "cell_type": "markdown",
   "id": "eb0d0177",
   "metadata": {},
   "source": [
    "#### 데이터 재구조화(reshape)\n",
    "\n",
    "#### 1) pivot(), pd.pivot_table()\n",
    "- data.pivot(index, columns, values)\n",
    "- pd.pivot_table(data, index, columns, values, aggfunc, margins)\n",
    "<br>\n",
    "\n",
    "- .pivot()은 종종 에러가 남. 중복값이 있을 경우 valueError\n",
    "    - index가 2개 이상인 경우\n",
    "    - columns이 2개 이상인 경우\n",
    "<br>\n",
    "- pd.pivot_table() 잘 숙지\n",
    "    - aggfunc을 사용할 수 있으므로 index 중복값이 있어도 괜찮음\n",
    "    - margins = True 옵션 설정 시, 행과 열 기준으로 합계를 제시해줌"
   ]
  },
  {
   "cell_type": "code",
   "execution_count": 18,
   "id": "dc93b17e",
   "metadata": {},
   "outputs": [
    {
     "data": {
      "text/html": [
       "<div>\n",
       "<style scoped>\n",
       "    .dataframe tbody tr th:only-of-type {\n",
       "        vertical-align: middle;\n",
       "    }\n",
       "\n",
       "    .dataframe tbody tr th {\n",
       "        vertical-align: top;\n",
       "    }\n",
       "\n",
       "    .dataframe thead th {\n",
       "        text-align: right;\n",
       "    }\n",
       "</style>\n",
       "<table border=\"1\" class=\"dataframe\">\n",
       "  <thead>\n",
       "    <tr style=\"text-align: right;\">\n",
       "      <th></th>\n",
       "      <th>cust_id</th>\n",
       "      <th>prod_cd</th>\n",
       "      <th>grade</th>\n",
       "      <th>pch_amt</th>\n",
       "    </tr>\n",
       "  </thead>\n",
       "  <tbody>\n",
       "    <tr>\n",
       "      <th>0</th>\n",
       "      <td>c1</td>\n",
       "      <td>p1</td>\n",
       "      <td>A</td>\n",
       "      <td>30</td>\n",
       "    </tr>\n",
       "    <tr>\n",
       "      <th>1</th>\n",
       "      <td>c1</td>\n",
       "      <td>p2</td>\n",
       "      <td>A</td>\n",
       "      <td>10</td>\n",
       "    </tr>\n",
       "    <tr>\n",
       "      <th>2</th>\n",
       "      <td>c1</td>\n",
       "      <td>p3</td>\n",
       "      <td>A</td>\n",
       "      <td>0</td>\n",
       "    </tr>\n",
       "  </tbody>\n",
       "</table>\n",
       "</div>"
      ],
      "text/plain": [
       "  cust_id prod_cd grade  pch_amt\n",
       "0      c1      p1     A       30\n",
       "1      c1      p2     A       10\n",
       "2      c1      p3     A        0"
      ]
     },
     "execution_count": 18,
     "metadata": {},
     "output_type": "execute_result"
    }
   ],
   "source": [
    "data = pd.DataFrame({'cust_id': ['c1', 'c1', 'c1', 'c2', 'c2', 'c2', 'c3', 'c3', 'c3'],\n",
    "                  'prod_cd': ['p1', 'p2', 'p3', 'p1', 'p2', 'p3', 'p1', 'p2', 'p3'],\n",
    "                  'grade' : ['A', 'A', 'A', 'A', 'A', 'A', 'B', 'B', 'B'],\n",
    "                  'pch_amt': [30, 10, 0, 40, 15, 30, 0, 0, 10]})\n",
    "data.head(3)"
   ]
  },
  {
   "cell_type": "code",
   "execution_count": 19,
   "id": "79cc5e41",
   "metadata": {
    "scrolled": true
   },
   "outputs": [
    {
     "data": {
      "text/html": [
       "<div>\n",
       "<style scoped>\n",
       "    .dataframe tbody tr th:only-of-type {\n",
       "        vertical-align: middle;\n",
       "    }\n",
       "\n",
       "    .dataframe tbody tr th {\n",
       "        vertical-align: top;\n",
       "    }\n",
       "\n",
       "    .dataframe thead th {\n",
       "        text-align: right;\n",
       "    }\n",
       "</style>\n",
       "<table border=\"1\" class=\"dataframe\">\n",
       "  <thead>\n",
       "    <tr style=\"text-align: right;\">\n",
       "      <th>prod_cd</th>\n",
       "      <th>p1</th>\n",
       "      <th>p2</th>\n",
       "      <th>p3</th>\n",
       "    </tr>\n",
       "    <tr>\n",
       "      <th>cust_id</th>\n",
       "      <th></th>\n",
       "      <th></th>\n",
       "      <th></th>\n",
       "    </tr>\n",
       "  </thead>\n",
       "  <tbody>\n",
       "    <tr>\n",
       "      <th>c1</th>\n",
       "      <td>30</td>\n",
       "      <td>10</td>\n",
       "      <td>0</td>\n",
       "    </tr>\n",
       "    <tr>\n",
       "      <th>c2</th>\n",
       "      <td>40</td>\n",
       "      <td>15</td>\n",
       "      <td>30</td>\n",
       "    </tr>\n",
       "    <tr>\n",
       "      <th>c3</th>\n",
       "      <td>0</td>\n",
       "      <td>0</td>\n",
       "      <td>10</td>\n",
       "    </tr>\n",
       "  </tbody>\n",
       "</table>\n",
       "</div>"
      ],
      "text/plain": [
       "prod_cd  p1  p2  p3\n",
       "cust_id            \n",
       "c1       30  10   0\n",
       "c2       40  15  30\n",
       "c3        0   0  10"
      ]
     },
     "execution_count": 19,
     "metadata": {},
     "output_type": "execute_result"
    }
   ],
   "source": [
    "data_pv = data.pivot(index = 'cust_id', columns = 'prod_cd', values = 'pch_amt')\n",
    "data_pv.head(3)"
   ]
  },
  {
   "cell_type": "code",
   "execution_count": 20,
   "id": "14705dae",
   "metadata": {
    "scrolled": true
   },
   "outputs": [
    {
     "data": {
      "text/html": [
       "<div>\n",
       "<style scoped>\n",
       "    .dataframe tbody tr th:only-of-type {\n",
       "        vertical-align: middle;\n",
       "    }\n",
       "\n",
       "    .dataframe tbody tr th {\n",
       "        vertical-align: top;\n",
       "    }\n",
       "\n",
       "    .dataframe thead th {\n",
       "        text-align: right;\n",
       "    }\n",
       "</style>\n",
       "<table border=\"1\" class=\"dataframe\">\n",
       "  <thead>\n",
       "    <tr style=\"text-align: right;\">\n",
       "      <th>prod_cd</th>\n",
       "      <th>p1</th>\n",
       "      <th>p2</th>\n",
       "      <th>p3</th>\n",
       "    </tr>\n",
       "    <tr>\n",
       "      <th>cust_id</th>\n",
       "      <th></th>\n",
       "      <th></th>\n",
       "      <th></th>\n",
       "    </tr>\n",
       "  </thead>\n",
       "  <tbody>\n",
       "    <tr>\n",
       "      <th>c1</th>\n",
       "      <td>30</td>\n",
       "      <td>10</td>\n",
       "      <td>0</td>\n",
       "    </tr>\n",
       "    <tr>\n",
       "      <th>c2</th>\n",
       "      <td>40</td>\n",
       "      <td>15</td>\n",
       "      <td>30</td>\n",
       "    </tr>\n",
       "    <tr>\n",
       "      <th>c3</th>\n",
       "      <td>0</td>\n",
       "      <td>0</td>\n",
       "      <td>10</td>\n",
       "    </tr>\n",
       "  </tbody>\n",
       "</table>\n",
       "</div>"
      ],
      "text/plain": [
       "prod_cd  p1  p2  p3\n",
       "cust_id            \n",
       "c1       30  10   0\n",
       "c2       40  15  30\n",
       "c3        0   0  10"
      ]
     },
     "execution_count": 20,
     "metadata": {},
     "output_type": "execute_result"
    }
   ],
   "source": [
    "pd.pivot_table(data, index = 'cust_id', columns = 'prod_cd', values = 'pch_amt')"
   ]
  },
  {
   "cell_type": "code",
   "execution_count": 31,
   "id": "71f4ff9f",
   "metadata": {
    "collapsed": true
   },
   "outputs": [
    {
     "ename": "ValueError",
     "evalue": "Index contains duplicate entries, cannot reshape",
     "output_type": "error",
     "traceback": [
      "\u001b[1;31m---------------------------------------------------------------------------\u001b[0m",
      "\u001b[1;31mValueError\u001b[0m                                Traceback (most recent call last)",
      "Cell \u001b[1;32mIn[31], line 2\u001b[0m\n\u001b[0;32m      1\u001b[0m \u001b[38;5;66;03m### pivot() with index which contains duplicate entries: ValueError\u001b[39;00m\n\u001b[1;32m----> 2\u001b[0m \u001b[43mdata\u001b[49m\u001b[38;5;241;43m.\u001b[39;49m\u001b[43mpivot\u001b[49m\u001b[43m(\u001b[49m\u001b[43mindex\u001b[49m\u001b[43m \u001b[49m\u001b[38;5;241;43m=\u001b[39;49m\u001b[43m \u001b[49m\u001b[38;5;124;43m'\u001b[39;49m\u001b[38;5;124;43mgrade\u001b[39;49m\u001b[38;5;124;43m'\u001b[39;49m\u001b[43m,\u001b[49m\u001b[43m \u001b[49m\u001b[43mcolumns\u001b[49m\u001b[43m \u001b[49m\u001b[38;5;241;43m=\u001b[39;49m\u001b[43m \u001b[49m\u001b[38;5;124;43m'\u001b[39;49m\u001b[38;5;124;43mprod_cd\u001b[39;49m\u001b[38;5;124;43m'\u001b[39;49m\u001b[43m,\u001b[49m\u001b[43m \u001b[49m\u001b[43mvalues\u001b[49m\u001b[43m \u001b[49m\u001b[38;5;241;43m=\u001b[39;49m\u001b[43m \u001b[49m\u001b[38;5;124;43m'\u001b[39;49m\u001b[38;5;124;43mpch_amt\u001b[39;49m\u001b[38;5;124;43m'\u001b[39;49m\u001b[43m)\u001b[49m\n",
      "File \u001b[1;32mc:\\python38\\lib\\site-packages\\pandas\\core\\frame.py:8419\u001b[0m, in \u001b[0;36mDataFrame.pivot\u001b[1;34m(self, columns, index, values)\u001b[0m\n\u001b[0;32m   8414\u001b[0m \u001b[38;5;129m@Substitution\u001b[39m(\u001b[38;5;124m\"\u001b[39m\u001b[38;5;124m\"\u001b[39m)\n\u001b[0;32m   8415\u001b[0m \u001b[38;5;129m@Appender\u001b[39m(_shared_docs[\u001b[38;5;124m\"\u001b[39m\u001b[38;5;124mpivot\u001b[39m\u001b[38;5;124m\"\u001b[39m])\n\u001b[0;32m   8416\u001b[0m \u001b[38;5;28;01mdef\u001b[39;00m \u001b[38;5;21mpivot\u001b[39m(\u001b[38;5;28mself\u001b[39m, \u001b[38;5;241m*\u001b[39m, columns, index\u001b[38;5;241m=\u001b[39mlib\u001b[38;5;241m.\u001b[39mNoDefault, values\u001b[38;5;241m=\u001b[39mlib\u001b[38;5;241m.\u001b[39mNoDefault) \u001b[38;5;241m-\u001b[39m\u001b[38;5;241m>\u001b[39m DataFrame:\n\u001b[0;32m   8417\u001b[0m     \u001b[38;5;28;01mfrom\u001b[39;00m \u001b[38;5;21;01mpandas\u001b[39;00m\u001b[38;5;21;01m.\u001b[39;00m\u001b[38;5;21;01mcore\u001b[39;00m\u001b[38;5;21;01m.\u001b[39;00m\u001b[38;5;21;01mreshape\u001b[39;00m\u001b[38;5;21;01m.\u001b[39;00m\u001b[38;5;21;01mpivot\u001b[39;00m \u001b[38;5;28;01mimport\u001b[39;00m pivot\n\u001b[1;32m-> 8419\u001b[0m     \u001b[38;5;28;01mreturn\u001b[39;00m \u001b[43mpivot\u001b[49m\u001b[43m(\u001b[49m\u001b[38;5;28;43mself\u001b[39;49m\u001b[43m,\u001b[49m\u001b[43m \u001b[49m\u001b[43mindex\u001b[49m\u001b[38;5;241;43m=\u001b[39;49m\u001b[43mindex\u001b[49m\u001b[43m,\u001b[49m\u001b[43m \u001b[49m\u001b[43mcolumns\u001b[49m\u001b[38;5;241;43m=\u001b[39;49m\u001b[43mcolumns\u001b[49m\u001b[43m,\u001b[49m\u001b[43m \u001b[49m\u001b[43mvalues\u001b[49m\u001b[38;5;241;43m=\u001b[39;49m\u001b[43mvalues\u001b[49m\u001b[43m)\u001b[49m\n",
      "File \u001b[1;32mc:\\python38\\lib\\site-packages\\pandas\\core\\reshape\\pivot.py:555\u001b[0m, in \u001b[0;36mpivot\u001b[1;34m(data, columns, index, values)\u001b[0m\n\u001b[0;32m    551\u001b[0m         indexed \u001b[38;5;241m=\u001b[39m data\u001b[38;5;241m.\u001b[39m_constructor_sliced(data[values]\u001b[38;5;241m.\u001b[39m_values, index\u001b[38;5;241m=\u001b[39mmultiindex)\n\u001b[0;32m    552\u001b[0m \u001b[38;5;66;03m# error: Argument 1 to \"unstack\" of \"DataFrame\" has incompatible type \"Union\u001b[39;00m\n\u001b[0;32m    553\u001b[0m \u001b[38;5;66;03m# [List[Any], ExtensionArray, ndarray[Any, Any], Index, Series]\"; expected\u001b[39;00m\n\u001b[0;32m    554\u001b[0m \u001b[38;5;66;03m# \"Hashable\"\u001b[39;00m\n\u001b[1;32m--> 555\u001b[0m result \u001b[38;5;241m=\u001b[39m \u001b[43mindexed\u001b[49m\u001b[38;5;241;43m.\u001b[39;49m\u001b[43munstack\u001b[49m\u001b[43m(\u001b[49m\u001b[43mcolumns_listlike\u001b[49m\u001b[43m)\u001b[49m  \u001b[38;5;66;03m# type: ignore[arg-type]\u001b[39;00m\n\u001b[0;32m    556\u001b[0m result\u001b[38;5;241m.\u001b[39mindex\u001b[38;5;241m.\u001b[39mnames \u001b[38;5;241m=\u001b[39m [\n\u001b[0;32m    557\u001b[0m     name \u001b[38;5;28;01mif\u001b[39;00m name \u001b[38;5;129;01mis\u001b[39;00m \u001b[38;5;129;01mnot\u001b[39;00m lib\u001b[38;5;241m.\u001b[39mNoDefault \u001b[38;5;28;01melse\u001b[39;00m \u001b[38;5;28;01mNone\u001b[39;00m \u001b[38;5;28;01mfor\u001b[39;00m name \u001b[38;5;129;01min\u001b[39;00m result\u001b[38;5;241m.\u001b[39mindex\u001b[38;5;241m.\u001b[39mnames\n\u001b[0;32m    558\u001b[0m ]\n\u001b[0;32m    560\u001b[0m \u001b[38;5;28;01mreturn\u001b[39;00m result\n",
      "File \u001b[1;32mc:\\python38\\lib\\site-packages\\pandas\\core\\series.py:4314\u001b[0m, in \u001b[0;36mSeries.unstack\u001b[1;34m(self, level, fill_value)\u001b[0m\n\u001b[0;32m   4271\u001b[0m \u001b[38;5;250m\u001b[39m\u001b[38;5;124;03m\"\"\"\u001b[39;00m\n\u001b[0;32m   4272\u001b[0m \u001b[38;5;124;03mUnstack, also known as pivot, Series with MultiIndex to produce DataFrame.\u001b[39;00m\n\u001b[0;32m   4273\u001b[0m \n\u001b[1;32m   (...)\u001b[0m\n\u001b[0;32m   4310\u001b[0m \u001b[38;5;124;03mb    2    4\u001b[39;00m\n\u001b[0;32m   4311\u001b[0m \u001b[38;5;124;03m\"\"\"\u001b[39;00m\n\u001b[0;32m   4312\u001b[0m \u001b[38;5;28;01mfrom\u001b[39;00m \u001b[38;5;21;01mpandas\u001b[39;00m\u001b[38;5;21;01m.\u001b[39;00m\u001b[38;5;21;01mcore\u001b[39;00m\u001b[38;5;21;01m.\u001b[39;00m\u001b[38;5;21;01mreshape\u001b[39;00m\u001b[38;5;21;01m.\u001b[39;00m\u001b[38;5;21;01mreshape\u001b[39;00m \u001b[38;5;28;01mimport\u001b[39;00m unstack\n\u001b[1;32m-> 4314\u001b[0m \u001b[38;5;28;01mreturn\u001b[39;00m \u001b[43munstack\u001b[49m\u001b[43m(\u001b[49m\u001b[38;5;28;43mself\u001b[39;49m\u001b[43m,\u001b[49m\u001b[43m \u001b[49m\u001b[43mlevel\u001b[49m\u001b[43m,\u001b[49m\u001b[43m \u001b[49m\u001b[43mfill_value\u001b[49m\u001b[43m)\u001b[49m\n",
      "File \u001b[1;32mc:\\python38\\lib\\site-packages\\pandas\\core\\reshape\\reshape.py:488\u001b[0m, in \u001b[0;36munstack\u001b[1;34m(obj, level, fill_value)\u001b[0m\n\u001b[0;32m    486\u001b[0m \u001b[38;5;28;01mif\u001b[39;00m is_1d_only_ea_dtype(obj\u001b[38;5;241m.\u001b[39mdtype):\n\u001b[0;32m    487\u001b[0m     \u001b[38;5;28;01mreturn\u001b[39;00m _unstack_extension_series(obj, level, fill_value)\n\u001b[1;32m--> 488\u001b[0m unstacker \u001b[38;5;241m=\u001b[39m \u001b[43m_Unstacker\u001b[49m\u001b[43m(\u001b[49m\n\u001b[0;32m    489\u001b[0m \u001b[43m    \u001b[49m\u001b[43mobj\u001b[49m\u001b[38;5;241;43m.\u001b[39;49m\u001b[43mindex\u001b[49m\u001b[43m,\u001b[49m\u001b[43m \u001b[49m\u001b[43mlevel\u001b[49m\u001b[38;5;241;43m=\u001b[39;49m\u001b[43mlevel\u001b[49m\u001b[43m,\u001b[49m\u001b[43m \u001b[49m\u001b[43mconstructor\u001b[49m\u001b[38;5;241;43m=\u001b[39;49m\u001b[43mobj\u001b[49m\u001b[38;5;241;43m.\u001b[39;49m\u001b[43m_constructor_expanddim\u001b[49m\n\u001b[0;32m    490\u001b[0m \u001b[43m\u001b[49m\u001b[43m)\u001b[49m\n\u001b[0;32m    491\u001b[0m \u001b[38;5;28;01mreturn\u001b[39;00m unstacker\u001b[38;5;241m.\u001b[39mget_result(\n\u001b[0;32m    492\u001b[0m     obj\u001b[38;5;241m.\u001b[39m_values, value_columns\u001b[38;5;241m=\u001b[39m\u001b[38;5;28;01mNone\u001b[39;00m, fill_value\u001b[38;5;241m=\u001b[39mfill_value\n\u001b[0;32m    493\u001b[0m )\n",
      "File \u001b[1;32mc:\\python38\\lib\\site-packages\\pandas\\core\\reshape\\reshape.py:136\u001b[0m, in \u001b[0;36m_Unstacker.__init__\u001b[1;34m(self, index, level, constructor)\u001b[0m\n\u001b[0;32m    128\u001b[0m \u001b[38;5;28;01mif\u001b[39;00m num_cells \u001b[38;5;241m>\u001b[39m np\u001b[38;5;241m.\u001b[39miinfo(np\u001b[38;5;241m.\u001b[39mint32)\u001b[38;5;241m.\u001b[39mmax:\n\u001b[0;32m    129\u001b[0m     warnings\u001b[38;5;241m.\u001b[39mwarn(\n\u001b[0;32m    130\u001b[0m         \u001b[38;5;124mf\u001b[39m\u001b[38;5;124m\"\u001b[39m\u001b[38;5;124mThe following operation may generate \u001b[39m\u001b[38;5;132;01m{\u001b[39;00mnum_cells\u001b[38;5;132;01m}\u001b[39;00m\u001b[38;5;124m cells \u001b[39m\u001b[38;5;124m\"\u001b[39m\n\u001b[0;32m    131\u001b[0m         \u001b[38;5;124mf\u001b[39m\u001b[38;5;124m\"\u001b[39m\u001b[38;5;124min the resulting pandas object.\u001b[39m\u001b[38;5;124m\"\u001b[39m,\n\u001b[0;32m    132\u001b[0m         PerformanceWarning,\n\u001b[0;32m    133\u001b[0m         stacklevel\u001b[38;5;241m=\u001b[39mfind_stack_level(),\n\u001b[0;32m    134\u001b[0m     )\n\u001b[1;32m--> 136\u001b[0m \u001b[38;5;28;43mself\u001b[39;49m\u001b[38;5;241;43m.\u001b[39;49m\u001b[43m_make_selectors\u001b[49m\u001b[43m(\u001b[49m\u001b[43m)\u001b[49m\n",
      "File \u001b[1;32mc:\\python38\\lib\\site-packages\\pandas\\core\\reshape\\reshape.py:188\u001b[0m, in \u001b[0;36m_Unstacker._make_selectors\u001b[1;34m(self)\u001b[0m\n\u001b[0;32m    185\u001b[0m mask\u001b[38;5;241m.\u001b[39mput(selector, \u001b[38;5;28;01mTrue\u001b[39;00m)\n\u001b[0;32m    187\u001b[0m \u001b[38;5;28;01mif\u001b[39;00m mask\u001b[38;5;241m.\u001b[39msum() \u001b[38;5;241m<\u001b[39m \u001b[38;5;28mlen\u001b[39m(\u001b[38;5;28mself\u001b[39m\u001b[38;5;241m.\u001b[39mindex):\n\u001b[1;32m--> 188\u001b[0m     \u001b[38;5;28;01mraise\u001b[39;00m \u001b[38;5;167;01mValueError\u001b[39;00m(\u001b[38;5;124m\"\u001b[39m\u001b[38;5;124mIndex contains duplicate entries, cannot reshape\u001b[39m\u001b[38;5;124m\"\u001b[39m)\n\u001b[0;32m    190\u001b[0m \u001b[38;5;28mself\u001b[39m\u001b[38;5;241m.\u001b[39mgroup_index \u001b[38;5;241m=\u001b[39m comp_index\n\u001b[0;32m    191\u001b[0m \u001b[38;5;28mself\u001b[39m\u001b[38;5;241m.\u001b[39mmask \u001b[38;5;241m=\u001b[39m mask\n",
      "\u001b[1;31mValueError\u001b[0m: Index contains duplicate entries, cannot reshape"
     ]
    }
   ],
   "source": [
    "### pivot() with index which contains duplicate entries: ValueError\n",
    "data.pivot(index = 'grade', columns = 'prod_cd', values = 'pch_amt')"
   ]
  },
  {
   "cell_type": "code",
   "execution_count": 30,
   "id": "c877bd69",
   "metadata": {
    "scrolled": true
   },
   "outputs": [
    {
     "data": {
      "text/html": [
       "<div>\n",
       "<style scoped>\n",
       "    .dataframe tbody tr th:only-of-type {\n",
       "        vertical-align: middle;\n",
       "    }\n",
       "\n",
       "    .dataframe tbody tr th {\n",
       "        vertical-align: top;\n",
       "    }\n",
       "\n",
       "    .dataframe thead th {\n",
       "        text-align: right;\n",
       "    }\n",
       "</style>\n",
       "<table border=\"1\" class=\"dataframe\">\n",
       "  <thead>\n",
       "    <tr style=\"text-align: right;\">\n",
       "      <th>prod_cd</th>\n",
       "      <th>p1</th>\n",
       "      <th>p2</th>\n",
       "      <th>p3</th>\n",
       "    </tr>\n",
       "    <tr>\n",
       "      <th>grade</th>\n",
       "      <th></th>\n",
       "      <th></th>\n",
       "      <th></th>\n",
       "    </tr>\n",
       "  </thead>\n",
       "  <tbody>\n",
       "    <tr>\n",
       "      <th>A</th>\n",
       "      <td>70</td>\n",
       "      <td>25</td>\n",
       "      <td>30</td>\n",
       "    </tr>\n",
       "    <tr>\n",
       "      <th>B</th>\n",
       "      <td>0</td>\n",
       "      <td>0</td>\n",
       "      <td>10</td>\n",
       "    </tr>\n",
       "  </tbody>\n",
       "</table>\n",
       "</div>"
      ],
      "text/plain": [
       "prod_cd  p1  p2  p3\n",
       "grade              \n",
       "A        70  25  30\n",
       "B         0   0  10"
      ]
     },
     "execution_count": 30,
     "metadata": {},
     "output_type": "execute_result"
    }
   ],
   "source": [
    "pd.pivot_table(data, index = 'grade', columns = 'prod_cd', values = 'pch_amt', aggfunc = np.sum) \n",
    "# default는 mean"
   ]
  },
  {
   "cell_type": "code",
   "execution_count": 32,
   "id": "b1418aef",
   "metadata": {},
   "outputs": [
    {
     "data": {
      "text/html": [
       "<div>\n",
       "<style scoped>\n",
       "    .dataframe tbody tr th:only-of-type {\n",
       "        vertical-align: middle;\n",
       "    }\n",
       "\n",
       "    .dataframe tbody tr th {\n",
       "        vertical-align: top;\n",
       "    }\n",
       "\n",
       "    .dataframe thead th {\n",
       "        text-align: right;\n",
       "    }\n",
       "</style>\n",
       "<table border=\"1\" class=\"dataframe\">\n",
       "  <thead>\n",
       "    <tr style=\"text-align: right;\">\n",
       "      <th>prod_cd</th>\n",
       "      <th>p1</th>\n",
       "      <th>p2</th>\n",
       "      <th>p3</th>\n",
       "      <th>All</th>\n",
       "    </tr>\n",
       "    <tr>\n",
       "      <th>grade</th>\n",
       "      <th></th>\n",
       "      <th></th>\n",
       "      <th></th>\n",
       "      <th></th>\n",
       "    </tr>\n",
       "  </thead>\n",
       "  <tbody>\n",
       "    <tr>\n",
       "      <th>A</th>\n",
       "      <td>70</td>\n",
       "      <td>25</td>\n",
       "      <td>30</td>\n",
       "      <td>125</td>\n",
       "    </tr>\n",
       "    <tr>\n",
       "      <th>B</th>\n",
       "      <td>0</td>\n",
       "      <td>0</td>\n",
       "      <td>10</td>\n",
       "      <td>10</td>\n",
       "    </tr>\n",
       "    <tr>\n",
       "      <th>All</th>\n",
       "      <td>70</td>\n",
       "      <td>25</td>\n",
       "      <td>40</td>\n",
       "      <td>135</td>\n",
       "    </tr>\n",
       "  </tbody>\n",
       "</table>\n",
       "</div>"
      ],
      "text/plain": [
       "prod_cd  p1  p2  p3  All\n",
       "grade                   \n",
       "A        70  25  30  125\n",
       "B         0   0  10   10\n",
       "All      70  25  40  135"
      ]
     },
     "execution_count": 32,
     "metadata": {},
     "output_type": "execute_result"
    }
   ],
   "source": [
    "pd.pivot_table(data, index = 'grade', columns = 'prod_cd', values = 'pch_amt', aggfunc = np.sum, margins = True) "
   ]
  },
  {
   "cell_type": "markdown",
   "id": "a5e7e910",
   "metadata": {},
   "source": [
    "#### 2) stack(), unstack()\n",
    "- stack(long) 쌓다, 위에서 아래로 길개 쌓기\n",
    "- unstack(wide) 쌓은 것을 옆으로 늘어놓기 "
   ]
  },
  {
   "cell_type": "code",
   "execution_count": 35,
   "id": "daf39c37",
   "metadata": {
    "scrolled": true
   },
   "outputs": [
    {
     "data": {
      "text/html": [
       "<div>\n",
       "<style scoped>\n",
       "    .dataframe tbody tr th:only-of-type {\n",
       "        vertical-align: middle;\n",
       "    }\n",
       "\n",
       "    .dataframe tbody tr th {\n",
       "        vertical-align: top;\n",
       "    }\n",
       "\n",
       "    .dataframe thead th {\n",
       "        text-align: right;\n",
       "    }\n",
       "</style>\n",
       "<table border=\"1\" class=\"dataframe\">\n",
       "  <thead>\n",
       "    <tr style=\"text-align: right;\">\n",
       "      <th></th>\n",
       "      <th></th>\n",
       "      <th>prd_1</th>\n",
       "      <th>prd_2</th>\n",
       "      <th>prd_3</th>\n",
       "      <th>prd_4</th>\n",
       "    </tr>\n",
       "  </thead>\n",
       "  <tbody>\n",
       "    <tr>\n",
       "      <th rowspan=\"2\" valign=\"top\">cust_1</th>\n",
       "      <th>2015</th>\n",
       "      <td>0</td>\n",
       "      <td>1</td>\n",
       "      <td>2</td>\n",
       "      <td>3</td>\n",
       "    </tr>\n",
       "    <tr>\n",
       "      <th>2016</th>\n",
       "      <td>4</td>\n",
       "      <td>5</td>\n",
       "      <td>6</td>\n",
       "      <td>7</td>\n",
       "    </tr>\n",
       "    <tr>\n",
       "      <th rowspan=\"2\" valign=\"top\">cust_2</th>\n",
       "      <th>2015</th>\n",
       "      <td>8</td>\n",
       "      <td>9</td>\n",
       "      <td>10</td>\n",
       "      <td>11</td>\n",
       "    </tr>\n",
       "    <tr>\n",
       "      <th>2016</th>\n",
       "      <td>12</td>\n",
       "      <td>13</td>\n",
       "      <td>14</td>\n",
       "      <td>15</td>\n",
       "    </tr>\n",
       "  </tbody>\n",
       "</table>\n",
       "</div>"
      ],
      "text/plain": [
       "             prd_1  prd_2  prd_3  prd_4\n",
       "cust_1 2015      0      1      2      3\n",
       "       2016      4      5      6      7\n",
       "cust_2 2015      8      9     10     11\n",
       "       2016     12     13     14     15"
      ]
     },
     "execution_count": 35,
     "metadata": {},
     "output_type": "execute_result"
    }
   ],
   "source": [
    "data = pd.DataFrame(data=np.arange(16).reshape(4, 4),\n",
    "                 index=pd.MultiIndex.from_tuples([('cust_1', '2015'), ('cust_1', '2016'),('cust_2', '2015'), ('cust_2', '2016')]),\n",
    "                 columns=['prd_1', 'prd_2', 'prd_3', 'prd_4'],\n",
    "                 dtype='int')\n",
    "data"
   ]
  },
  {
   "cell_type": "code",
   "execution_count": 36,
   "id": "d1fd4ca7",
   "metadata": {
    "scrolled": true
   },
   "outputs": [
    {
     "data": {
      "text/plain": [
       "cust_1  2015  prd_1     0\n",
       "              prd_2     1\n",
       "              prd_3     2\n",
       "              prd_4     3\n",
       "        2016  prd_1     4\n",
       "              prd_2     5\n",
       "              prd_3     6\n",
       "              prd_4     7\n",
       "cust_2  2015  prd_1     8\n",
       "              prd_2     9\n",
       "              prd_3    10\n",
       "              prd_4    11\n",
       "        2016  prd_1    12\n",
       "              prd_2    13\n",
       "              prd_3    14\n",
       "              prd_4    15\n",
       "dtype: int32"
      ]
     },
     "execution_count": 36,
     "metadata": {},
     "output_type": "execute_result"
    }
   ],
   "source": [
    "data.stack()    # returns series"
   ]
  },
  {
   "cell_type": "code",
   "execution_count": 37,
   "id": "05b7be08",
   "metadata": {
    "scrolled": true
   },
   "outputs": [
    {
     "data": {
      "text/plain": [
       "MultiIndex([('cust_1', '2015', 'prd_1'),\n",
       "            ('cust_1', '2015', 'prd_2'),\n",
       "            ('cust_1', '2015', 'prd_3'),\n",
       "            ('cust_1', '2015', 'prd_4'),\n",
       "            ('cust_1', '2016', 'prd_1'),\n",
       "            ('cust_1', '2016', 'prd_2'),\n",
       "            ('cust_1', '2016', 'prd_3'),\n",
       "            ('cust_1', '2016', 'prd_4'),\n",
       "            ('cust_2', '2015', 'prd_1'),\n",
       "            ('cust_2', '2015', 'prd_2'),\n",
       "            ('cust_2', '2015', 'prd_3'),\n",
       "            ('cust_2', '2015', 'prd_4'),\n",
       "            ('cust_2', '2016', 'prd_1'),\n",
       "            ('cust_2', '2016', 'prd_2'),\n",
       "            ('cust_2', '2016', 'prd_3'),\n",
       "            ('cust_2', '2016', 'prd_4')],\n",
       "           )"
      ]
     },
     "execution_count": 37,
     "metadata": {},
     "output_type": "execute_result"
    }
   ],
   "source": [
    "data.stack().index"
   ]
  },
  {
   "cell_type": "code",
   "execution_count": 39,
   "id": "5f550b36",
   "metadata": {
    "scrolled": true
   },
   "outputs": [
    {
     "data": {
      "text/html": [
       "<div>\n",
       "<style scoped>\n",
       "    .dataframe tbody tr th:only-of-type {\n",
       "        vertical-align: middle;\n",
       "    }\n",
       "\n",
       "    .dataframe tbody tr th {\n",
       "        vertical-align: top;\n",
       "    }\n",
       "\n",
       "    .dataframe thead tr th {\n",
       "        text-align: left;\n",
       "    }\n",
       "</style>\n",
       "<table border=\"1\" class=\"dataframe\">\n",
       "  <thead>\n",
       "    <tr>\n",
       "      <th></th>\n",
       "      <th colspan=\"2\" halign=\"left\">prd_1</th>\n",
       "      <th colspan=\"2\" halign=\"left\">prd_2</th>\n",
       "      <th colspan=\"2\" halign=\"left\">prd_3</th>\n",
       "      <th colspan=\"2\" halign=\"left\">prd_4</th>\n",
       "    </tr>\n",
       "    <tr>\n",
       "      <th></th>\n",
       "      <th>2015</th>\n",
       "      <th>2016</th>\n",
       "      <th>2015</th>\n",
       "      <th>2016</th>\n",
       "      <th>2015</th>\n",
       "      <th>2016</th>\n",
       "      <th>2015</th>\n",
       "      <th>2016</th>\n",
       "    </tr>\n",
       "  </thead>\n",
       "  <tbody>\n",
       "    <tr>\n",
       "      <th>cust_1</th>\n",
       "      <td>0</td>\n",
       "      <td>4</td>\n",
       "      <td>1</td>\n",
       "      <td>5</td>\n",
       "      <td>2</td>\n",
       "      <td>6</td>\n",
       "      <td>3</td>\n",
       "      <td>7</td>\n",
       "    </tr>\n",
       "    <tr>\n",
       "      <th>cust_2</th>\n",
       "      <td>8</td>\n",
       "      <td>12</td>\n",
       "      <td>9</td>\n",
       "      <td>13</td>\n",
       "      <td>10</td>\n",
       "      <td>14</td>\n",
       "      <td>11</td>\n",
       "      <td>15</td>\n",
       "    </tr>\n",
       "  </tbody>\n",
       "</table>\n",
       "</div>"
      ],
      "text/plain": [
       "       prd_1      prd_2      prd_3      prd_4     \n",
       "        2015 2016  2015 2016  2015 2016  2015 2016\n",
       "cust_1     0    4     1    5     2    6     3    7\n",
       "cust_2     8   12     9   13    10   14    11   15"
      ]
     },
     "execution_count": 39,
     "metadata": {},
     "output_type": "execute_result"
    }
   ],
   "source": [
    "data.unstack(level = 1)  # default"
   ]
  },
  {
   "cell_type": "code",
   "execution_count": 40,
   "id": "a8df1e2a",
   "metadata": {},
   "outputs": [
    {
     "data": {
      "text/html": [
       "<div>\n",
       "<style scoped>\n",
       "    .dataframe tbody tr th:only-of-type {\n",
       "        vertical-align: middle;\n",
       "    }\n",
       "\n",
       "    .dataframe tbody tr th {\n",
       "        vertical-align: top;\n",
       "    }\n",
       "\n",
       "    .dataframe thead tr th {\n",
       "        text-align: left;\n",
       "    }\n",
       "</style>\n",
       "<table border=\"1\" class=\"dataframe\">\n",
       "  <thead>\n",
       "    <tr>\n",
       "      <th></th>\n",
       "      <th colspan=\"2\" halign=\"left\">prd_1</th>\n",
       "      <th colspan=\"2\" halign=\"left\">prd_2</th>\n",
       "      <th colspan=\"2\" halign=\"left\">prd_3</th>\n",
       "      <th colspan=\"2\" halign=\"left\">prd_4</th>\n",
       "    </tr>\n",
       "    <tr>\n",
       "      <th></th>\n",
       "      <th>cust_1</th>\n",
       "      <th>cust_2</th>\n",
       "      <th>cust_1</th>\n",
       "      <th>cust_2</th>\n",
       "      <th>cust_1</th>\n",
       "      <th>cust_2</th>\n",
       "      <th>cust_1</th>\n",
       "      <th>cust_2</th>\n",
       "    </tr>\n",
       "  </thead>\n",
       "  <tbody>\n",
       "    <tr>\n",
       "      <th>2015</th>\n",
       "      <td>0</td>\n",
       "      <td>8</td>\n",
       "      <td>1</td>\n",
       "      <td>9</td>\n",
       "      <td>2</td>\n",
       "      <td>10</td>\n",
       "      <td>3</td>\n",
       "      <td>11</td>\n",
       "    </tr>\n",
       "    <tr>\n",
       "      <th>2016</th>\n",
       "      <td>4</td>\n",
       "      <td>12</td>\n",
       "      <td>5</td>\n",
       "      <td>13</td>\n",
       "      <td>6</td>\n",
       "      <td>14</td>\n",
       "      <td>7</td>\n",
       "      <td>15</td>\n",
       "    </tr>\n",
       "  </tbody>\n",
       "</table>\n",
       "</div>"
      ],
      "text/plain": [
       "      prd_1         prd_2         prd_3         prd_4       \n",
       "     cust_1 cust_2 cust_1 cust_2 cust_1 cust_2 cust_1 cust_2\n",
       "2015      0      8      1      9      2     10      3     11\n",
       "2016      4     12      5     13      6     14      7     15"
      ]
     },
     "execution_count": 40,
     "metadata": {},
     "output_type": "execute_result"
    }
   ],
   "source": [
    "data.unstack(level = 0)"
   ]
  },
  {
   "cell_type": "markdown",
   "id": "38951e97",
   "metadata": {},
   "source": [
    "#### 3) melt()\n",
    "- ID변수를 기준으로, 원래 데이터셋에 있던 여러개의 컬럼을 'variable' 컬럼 위에 아래로 길게 쌓아놓고, 'value' 컬럼에 ID와 variable에 해당하는 값을 넣어줌\n"
   ]
  },
  {
   "cell_type": "code",
   "execution_count": 4,
   "id": "e63cb0b4",
   "metadata": {
    "scrolled": false
   },
   "outputs": [
    {
     "data": {
      "text/html": [
       "<div>\n",
       "<style scoped>\n",
       "    .dataframe tbody tr th:only-of-type {\n",
       "        vertical-align: middle;\n",
       "    }\n",
       "\n",
       "    .dataframe tbody tr th {\n",
       "        vertical-align: top;\n",
       "    }\n",
       "\n",
       "    .dataframe thead th {\n",
       "        text-align: right;\n",
       "    }\n",
       "</style>\n",
       "<table border=\"1\" class=\"dataframe\">\n",
       "  <thead>\n",
       "    <tr style=\"text-align: right;\">\n",
       "      <th></th>\n",
       "      <th>cust_ID</th>\n",
       "      <th>prd_CD</th>\n",
       "      <th>pch_cnt</th>\n",
       "      <th>pch_amt</th>\n",
       "    </tr>\n",
       "  </thead>\n",
       "  <tbody>\n",
       "    <tr>\n",
       "      <th>0</th>\n",
       "      <td>C_001</td>\n",
       "      <td>P_001</td>\n",
       "      <td>1</td>\n",
       "      <td>100</td>\n",
       "    </tr>\n",
       "    <tr>\n",
       "      <th>1</th>\n",
       "      <td>C_001</td>\n",
       "      <td>P_002</td>\n",
       "      <td>2</td>\n",
       "      <td>200</td>\n",
       "    </tr>\n",
       "    <tr>\n",
       "      <th>2</th>\n",
       "      <td>C_002</td>\n",
       "      <td>P_001</td>\n",
       "      <td>3</td>\n",
       "      <td>300</td>\n",
       "    </tr>\n",
       "    <tr>\n",
       "      <th>3</th>\n",
       "      <td>C_002</td>\n",
       "      <td>P_002</td>\n",
       "      <td>4</td>\n",
       "      <td>400</td>\n",
       "    </tr>\n",
       "  </tbody>\n",
       "</table>\n",
       "</div>"
      ],
      "text/plain": [
       "  cust_ID prd_CD  pch_cnt  pch_amt\n",
       "0   C_001  P_001        1      100\n",
       "1   C_001  P_002        2      200\n",
       "2   C_002  P_001        3      300\n",
       "3   C_002  P_002        4      400"
      ]
     },
     "execution_count": 4,
     "metadata": {},
     "output_type": "execute_result"
    }
   ],
   "source": [
    "data = pd.DataFrame({'cust_ID' : ['C_001', 'C_001', 'C_002', 'C_002'],\n",
    "'prd_CD' : ['P_001', 'P_002', 'P_001', 'P_002'],\n",
    "'pch_cnt' : [1, 2, 3, 4],\n",
    "'pch_amt' : [100, 200, 300, 400]})\n",
    "data"
   ]
  },
  {
   "cell_type": "code",
   "execution_count": 5,
   "id": "0354fa6a",
   "metadata": {
    "scrolled": true
   },
   "outputs": [
    {
     "data": {
      "text/html": [
       "<div>\n",
       "<style scoped>\n",
       "    .dataframe tbody tr th:only-of-type {\n",
       "        vertical-align: middle;\n",
       "    }\n",
       "\n",
       "    .dataframe tbody tr th {\n",
       "        vertical-align: top;\n",
       "    }\n",
       "\n",
       "    .dataframe thead th {\n",
       "        text-align: right;\n",
       "    }\n",
       "</style>\n",
       "<table border=\"1\" class=\"dataframe\">\n",
       "  <thead>\n",
       "    <tr style=\"text-align: right;\">\n",
       "      <th></th>\n",
       "      <th>variable</th>\n",
       "      <th>value</th>\n",
       "    </tr>\n",
       "  </thead>\n",
       "  <tbody>\n",
       "    <tr>\n",
       "      <th>0</th>\n",
       "      <td>cust_ID</td>\n",
       "      <td>C_001</td>\n",
       "    </tr>\n",
       "    <tr>\n",
       "      <th>1</th>\n",
       "      <td>cust_ID</td>\n",
       "      <td>C_001</td>\n",
       "    </tr>\n",
       "    <tr>\n",
       "      <th>2</th>\n",
       "      <td>cust_ID</td>\n",
       "      <td>C_002</td>\n",
       "    </tr>\n",
       "    <tr>\n",
       "      <th>3</th>\n",
       "      <td>cust_ID</td>\n",
       "      <td>C_002</td>\n",
       "    </tr>\n",
       "    <tr>\n",
       "      <th>4</th>\n",
       "      <td>prd_CD</td>\n",
       "      <td>P_001</td>\n",
       "    </tr>\n",
       "    <tr>\n",
       "      <th>5</th>\n",
       "      <td>prd_CD</td>\n",
       "      <td>P_002</td>\n",
       "    </tr>\n",
       "    <tr>\n",
       "      <th>6</th>\n",
       "      <td>prd_CD</td>\n",
       "      <td>P_001</td>\n",
       "    </tr>\n",
       "    <tr>\n",
       "      <th>7</th>\n",
       "      <td>prd_CD</td>\n",
       "      <td>P_002</td>\n",
       "    </tr>\n",
       "    <tr>\n",
       "      <th>8</th>\n",
       "      <td>pch_cnt</td>\n",
       "      <td>1</td>\n",
       "    </tr>\n",
       "    <tr>\n",
       "      <th>9</th>\n",
       "      <td>pch_cnt</td>\n",
       "      <td>2</td>\n",
       "    </tr>\n",
       "    <tr>\n",
       "      <th>10</th>\n",
       "      <td>pch_cnt</td>\n",
       "      <td>3</td>\n",
       "    </tr>\n",
       "    <tr>\n",
       "      <th>11</th>\n",
       "      <td>pch_cnt</td>\n",
       "      <td>4</td>\n",
       "    </tr>\n",
       "    <tr>\n",
       "      <th>12</th>\n",
       "      <td>pch_amt</td>\n",
       "      <td>100</td>\n",
       "    </tr>\n",
       "    <tr>\n",
       "      <th>13</th>\n",
       "      <td>pch_amt</td>\n",
       "      <td>200</td>\n",
       "    </tr>\n",
       "    <tr>\n",
       "      <th>14</th>\n",
       "      <td>pch_amt</td>\n",
       "      <td>300</td>\n",
       "    </tr>\n",
       "    <tr>\n",
       "      <th>15</th>\n",
       "      <td>pch_amt</td>\n",
       "      <td>400</td>\n",
       "    </tr>\n",
       "  </tbody>\n",
       "</table>\n",
       "</div>"
      ],
      "text/plain": [
       "   variable  value\n",
       "0   cust_ID  C_001\n",
       "1   cust_ID  C_001\n",
       "2   cust_ID  C_002\n",
       "3   cust_ID  C_002\n",
       "4    prd_CD  P_001\n",
       "5    prd_CD  P_002\n",
       "6    prd_CD  P_001\n",
       "7    prd_CD  P_002\n",
       "8   pch_cnt      1\n",
       "9   pch_cnt      2\n",
       "10  pch_cnt      3\n",
       "11  pch_cnt      4\n",
       "12  pch_amt    100\n",
       "13  pch_amt    200\n",
       "14  pch_amt    300\n",
       "15  pch_amt    400"
      ]
     },
     "execution_count": 5,
     "metadata": {},
     "output_type": "execute_result"
    }
   ],
   "source": [
    "pd.melt(data)"
   ]
  },
  {
   "cell_type": "code",
   "execution_count": 6,
   "id": "a8110ec9",
   "metadata": {
    "scrolled": true
   },
   "outputs": [
    {
     "data": {
      "text/html": [
       "<div>\n",
       "<style scoped>\n",
       "    .dataframe tbody tr th:only-of-type {\n",
       "        vertical-align: middle;\n",
       "    }\n",
       "\n",
       "    .dataframe tbody tr th {\n",
       "        vertical-align: top;\n",
       "    }\n",
       "\n",
       "    .dataframe thead th {\n",
       "        text-align: right;\n",
       "    }\n",
       "</style>\n",
       "<table border=\"1\" class=\"dataframe\">\n",
       "  <thead>\n",
       "    <tr style=\"text-align: right;\">\n",
       "      <th></th>\n",
       "      <th>cust_ID</th>\n",
       "      <th>prd_CD</th>\n",
       "      <th>variable</th>\n",
       "      <th>value</th>\n",
       "    </tr>\n",
       "  </thead>\n",
       "  <tbody>\n",
       "    <tr>\n",
       "      <th>0</th>\n",
       "      <td>C_001</td>\n",
       "      <td>P_001</td>\n",
       "      <td>pch_cnt</td>\n",
       "      <td>1</td>\n",
       "    </tr>\n",
       "    <tr>\n",
       "      <th>1</th>\n",
       "      <td>C_001</td>\n",
       "      <td>P_002</td>\n",
       "      <td>pch_cnt</td>\n",
       "      <td>2</td>\n",
       "    </tr>\n",
       "    <tr>\n",
       "      <th>2</th>\n",
       "      <td>C_002</td>\n",
       "      <td>P_001</td>\n",
       "      <td>pch_cnt</td>\n",
       "      <td>3</td>\n",
       "    </tr>\n",
       "    <tr>\n",
       "      <th>3</th>\n",
       "      <td>C_002</td>\n",
       "      <td>P_002</td>\n",
       "      <td>pch_cnt</td>\n",
       "      <td>4</td>\n",
       "    </tr>\n",
       "    <tr>\n",
       "      <th>4</th>\n",
       "      <td>C_001</td>\n",
       "      <td>P_001</td>\n",
       "      <td>pch_amt</td>\n",
       "      <td>100</td>\n",
       "    </tr>\n",
       "    <tr>\n",
       "      <th>5</th>\n",
       "      <td>C_001</td>\n",
       "      <td>P_002</td>\n",
       "      <td>pch_amt</td>\n",
       "      <td>200</td>\n",
       "    </tr>\n",
       "    <tr>\n",
       "      <th>6</th>\n",
       "      <td>C_002</td>\n",
       "      <td>P_001</td>\n",
       "      <td>pch_amt</td>\n",
       "      <td>300</td>\n",
       "    </tr>\n",
       "    <tr>\n",
       "      <th>7</th>\n",
       "      <td>C_002</td>\n",
       "      <td>P_002</td>\n",
       "      <td>pch_amt</td>\n",
       "      <td>400</td>\n",
       "    </tr>\n",
       "  </tbody>\n",
       "</table>\n",
       "</div>"
      ],
      "text/plain": [
       "  cust_ID prd_CD variable  value\n",
       "0   C_001  P_001  pch_cnt      1\n",
       "1   C_001  P_002  pch_cnt      2\n",
       "2   C_002  P_001  pch_cnt      3\n",
       "3   C_002  P_002  pch_cnt      4\n",
       "4   C_001  P_001  pch_amt    100\n",
       "5   C_001  P_002  pch_amt    200\n",
       "6   C_002  P_001  pch_amt    300\n",
       "7   C_002  P_002  pch_amt    400"
      ]
     },
     "execution_count": 6,
     "metadata": {},
     "output_type": "execute_result"
    }
   ],
   "source": [
    "# id_variable\n",
    "pd.melt(data, id_vars = ['cust_ID','prd_CD'])"
   ]
  },
  {
   "cell_type": "code",
   "execution_count": 12,
   "id": "053e26e9",
   "metadata": {
    "scrolled": true
   },
   "outputs": [
    {
     "data": {
      "text/html": [
       "<div>\n",
       "<style scoped>\n",
       "    .dataframe tbody tr th:only-of-type {\n",
       "        vertical-align: middle;\n",
       "    }\n",
       "\n",
       "    .dataframe tbody tr th {\n",
       "        vertical-align: top;\n",
       "    }\n",
       "\n",
       "    .dataframe thead th {\n",
       "        text-align: right;\n",
       "    }\n",
       "</style>\n",
       "<table border=\"1\" class=\"dataframe\">\n",
       "  <thead>\n",
       "    <tr style=\"text-align: right;\">\n",
       "      <th></th>\n",
       "      <th>cust_ID</th>\n",
       "      <th>prd_CD</th>\n",
       "      <th>pch_CD</th>\n",
       "      <th>pch_value</th>\n",
       "    </tr>\n",
       "  </thead>\n",
       "  <tbody>\n",
       "    <tr>\n",
       "      <th>0</th>\n",
       "      <td>C_001</td>\n",
       "      <td>P_001</td>\n",
       "      <td>pch_cnt</td>\n",
       "      <td>1</td>\n",
       "    </tr>\n",
       "    <tr>\n",
       "      <th>1</th>\n",
       "      <td>C_001</td>\n",
       "      <td>P_002</td>\n",
       "      <td>pch_cnt</td>\n",
       "      <td>2</td>\n",
       "    </tr>\n",
       "    <tr>\n",
       "      <th>2</th>\n",
       "      <td>C_002</td>\n",
       "      <td>P_001</td>\n",
       "      <td>pch_cnt</td>\n",
       "      <td>3</td>\n",
       "    </tr>\n",
       "    <tr>\n",
       "      <th>3</th>\n",
       "      <td>C_002</td>\n",
       "      <td>P_002</td>\n",
       "      <td>pch_cnt</td>\n",
       "      <td>4</td>\n",
       "    </tr>\n",
       "    <tr>\n",
       "      <th>4</th>\n",
       "      <td>C_001</td>\n",
       "      <td>P_001</td>\n",
       "      <td>pch_amt</td>\n",
       "      <td>100</td>\n",
       "    </tr>\n",
       "    <tr>\n",
       "      <th>5</th>\n",
       "      <td>C_001</td>\n",
       "      <td>P_002</td>\n",
       "      <td>pch_amt</td>\n",
       "      <td>200</td>\n",
       "    </tr>\n",
       "    <tr>\n",
       "      <th>6</th>\n",
       "      <td>C_002</td>\n",
       "      <td>P_001</td>\n",
       "      <td>pch_amt</td>\n",
       "      <td>300</td>\n",
       "    </tr>\n",
       "    <tr>\n",
       "      <th>7</th>\n",
       "      <td>C_002</td>\n",
       "      <td>P_002</td>\n",
       "      <td>pch_amt</td>\n",
       "      <td>400</td>\n",
       "    </tr>\n",
       "  </tbody>\n",
       "</table>\n",
       "</div>"
      ],
      "text/plain": [
       "  cust_ID prd_CD   pch_CD  pch_value\n",
       "0   C_001  P_001  pch_cnt          1\n",
       "1   C_001  P_002  pch_cnt          2\n",
       "2   C_002  P_001  pch_cnt          3\n",
       "3   C_002  P_002  pch_cnt          4\n",
       "4   C_001  P_001  pch_amt        100\n",
       "5   C_001  P_002  pch_amt        200\n",
       "6   C_002  P_001  pch_amt        300\n",
       "7   C_002  P_002  pch_amt        400"
      ]
     },
     "execution_count": 12,
     "metadata": {},
     "output_type": "execute_result"
    }
   ],
   "source": [
    "# variable, value 이름 부여\n",
    "data_melt = pd.melt(data, id_vars = ['cust_ID','prd_CD'], var_name = 'pch_CD', value_name = 'pch_value')\n",
    "data_melt"
   ]
  },
  {
   "cell_type": "code",
   "execution_count": 13,
   "id": "66e41539",
   "metadata": {
    "scrolled": true
   },
   "outputs": [
    {
     "data": {
      "text/html": [
       "<div>\n",
       "<style scoped>\n",
       "    .dataframe tbody tr th:only-of-type {\n",
       "        vertical-align: middle;\n",
       "    }\n",
       "\n",
       "    .dataframe tbody tr th {\n",
       "        vertical-align: top;\n",
       "    }\n",
       "\n",
       "    .dataframe thead th {\n",
       "        text-align: right;\n",
       "    }\n",
       "</style>\n",
       "<table border=\"1\" class=\"dataframe\">\n",
       "  <thead>\n",
       "    <tr style=\"text-align: right;\">\n",
       "      <th></th>\n",
       "      <th>pch_CD</th>\n",
       "      <th>pch_amt</th>\n",
       "      <th>pch_cnt</th>\n",
       "    </tr>\n",
       "    <tr>\n",
       "      <th>cust_ID</th>\n",
       "      <th>prd_CD</th>\n",
       "      <th></th>\n",
       "      <th></th>\n",
       "    </tr>\n",
       "  </thead>\n",
       "  <tbody>\n",
       "    <tr>\n",
       "      <th rowspan=\"2\" valign=\"top\">C_001</th>\n",
       "      <th>P_001</th>\n",
       "      <td>100</td>\n",
       "      <td>1</td>\n",
       "    </tr>\n",
       "    <tr>\n",
       "      <th>P_002</th>\n",
       "      <td>200</td>\n",
       "      <td>2</td>\n",
       "    </tr>\n",
       "    <tr>\n",
       "      <th rowspan=\"2\" valign=\"top\">C_002</th>\n",
       "      <th>P_001</th>\n",
       "      <td>300</td>\n",
       "      <td>3</td>\n",
       "    </tr>\n",
       "    <tr>\n",
       "      <th>P_002</th>\n",
       "      <td>400</td>\n",
       "      <td>4</td>\n",
       "    </tr>\n",
       "  </tbody>\n",
       "</table>\n",
       "</div>"
      ],
      "text/plain": [
       "pch_CD          pch_amt  pch_cnt\n",
       "cust_ID prd_CD                  \n",
       "C_001   P_001       100        1\n",
       "        P_002       200        2\n",
       "C_002   P_001       300        3\n",
       "        P_002       400        4"
      ]
     },
     "execution_count": 13,
     "metadata": {},
     "output_type": "execute_result"
    }
   ],
   "source": [
    "# pd.melt() vs pd.pivot_table()\n",
    "data_pivot = pd.pivot_table(data_melt, index = ['cust_ID','prd_CD'], columns = 'pch_CD', values = 'pch_value', aggfunc = np.mean)\n",
    "data_pivot"
   ]
  },
  {
   "cell_type": "code",
   "execution_count": 15,
   "id": "a3513007",
   "metadata": {},
   "outputs": [
    {
     "data": {
      "text/plain": [
       "(RangeIndex(start=0, stop=8, step=1),\n",
       " MultiIndex([('C_001', 'P_001'),\n",
       "             ('C_001', 'P_002'),\n",
       "             ('C_002', 'P_001'),\n",
       "             ('C_002', 'P_002')],\n",
       "            names=['cust_ID', 'prd_CD']))"
      ]
     },
     "execution_count": 15,
     "metadata": {},
     "output_type": "execute_result"
    }
   ],
   "source": [
    "data_melt.index, data_pivot.index"
   ]
  },
  {
   "cell_type": "markdown",
   "id": "12045a08",
   "metadata": {},
   "source": [
    "#### 4) wide_to_long()\n",
    "\n",
    "#### 5) pd.crosstab() "
   ]
  },
  {
   "cell_type": "markdown",
   "id": "f74e0cd8",
   "metadata": {},
   "source": [
    "## T1-31 melt\n",
    "수학, 영어 점수 중 사람과 과목에 상관없이 90점 이상인 점수의 평균을 정수로 구하시오 (소수점 버림)"
   ]
  },
  {
   "cell_type": "code",
   "execution_count": null,
   "id": "8005dcac",
   "metadata": {},
   "outputs": [],
   "source": [
    "int(df.drop(['Name','국어'], axis = 1).unstack()[df.drop('Name', axis = 1).unstack() >= 90].mean())"
   ]
  },
  {
   "cell_type": "code",
   "execution_count": null,
   "id": "d4252e94",
   "metadata": {},
   "outputs": [],
   "source": [
    "pd.melt(df, id_vars = ['Name'], value_vars = ['수학','영어'], var_name = '과목',value_name = '점수')"
   ]
  },
  {
   "cell_type": "code",
   "execution_count": null,
   "id": "974a33ec",
   "metadata": {},
   "outputs": [],
   "source": []
  },
  {
   "cell_type": "markdown",
   "id": "1ef031da",
   "metadata": {},
   "source": [
    "## T1-92 sigmoid\n",
    "basic1 데이터에서 f2 값에 시그모이드 함수(그림 내 수식)를 적용하고, f4가 ISFJ인 (변경된)f2의 합을 구하시오! (소수점 둘째자리까지 출력, 반올림)"
   ]
  },
  {
   "cell_type": "code",
   "execution_count": null,
   "id": "95697674",
   "metadata": {},
   "outputs": [],
   "source": [
    "def sig(x):\n",
    "    return 1 / (1 + np.exp(-x))\n",
    "df.f2 = df.f2.apply(sig)"
   ]
  },
  {
   "cell_type": "markdown",
   "id": "ddedc9ea",
   "metadata": {},
   "source": [
    "## T2-relu\n",
    "basic1 데이터에서 age 값에 ReLU 함수를 적용하고, city가 부산인 (변경된)age의 평균을 구하시오! (소수점 둘째자리까지 출력, 절사)"
   ]
  },
  {
   "cell_type": "code",
   "execution_count": null,
   "id": "0bdfaaf2",
   "metadata": {},
   "outputs": [],
   "source": [
    "def relu(x):\n",
    "    if x>0:\n",
    "        return x\n",
    "    else:\n",
    "        return 0\n",
    "\n",
    "def relu(x):\n",
    "    return np.maximum(0, x)"
   ]
  }
 ],
 "metadata": {
  "kernelspec": {
   "display_name": "Python 3 (ipykernel)",
   "language": "python",
   "name": "python3"
  },
  "language_info": {
   "codemirror_mode": {
    "name": "ipython",
    "version": 3
   },
   "file_extension": ".py",
   "mimetype": "text/x-python",
   "name": "python",
   "nbconvert_exporter": "python",
   "pygments_lexer": "ipython3",
   "version": "3.8.10"
  }
 },
 "nbformat": 4,
 "nbformat_minor": 5
}
