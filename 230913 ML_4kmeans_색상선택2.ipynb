{
 "cells": [
  {
   "cell_type": "code",
   "execution_count": 1,
   "metadata": {},
   "outputs": [],
   "source": [
    "import cv2\n",
    "import numpy as np\n",
    "\n",
    "img = cv2.imread('c:/workspace/Data/winter.jpg')\n"
   ]
  },
  {
   "cell_type": "code",
   "execution_count": 2,
   "metadata": {},
   "outputs": [
    {
     "name": "stdout",
     "output_type": "stream",
     "text": [
      "중심좌표: [[239 236 230]\n",
      " [208 226 244]\n",
      " [123 122 124]\n",
      " [175 172 170]\n",
      " [151 149 150]\n",
      " [152 152 207]\n",
      " [ 92  91  94]\n",
      " [ 59  58  59]\n",
      " [197 192 186]\n",
      " [228 241 252]\n",
      " [190 205 226]\n",
      " [ 32  28  88]\n",
      " [ 18  16  21]\n",
      " [251 250 247]\n",
      " [215 210 203]\n",
      " [231 226 217]]\n"
     ]
    }
   ],
   "source": [
    "K = 16 # cluster 개수(16컬러)\n",
    "\n",
    "data = img.reshape((-1,3)).astype(np.float32)\n",
    "# 최대 10회 반복, 1픽셀 이하이면 종료\n",
    "criteria = (cv2.TERM_CRITERIA_EPS + cv2.TERM_CRITERIA_MAX_ITER, 10, 1.0)\n",
    "# 클러스터링(K 클러스터 개수, criteria 종료 기준)\n",
    "ret,label,center=cv2.kmeans(data,K,None,criteria,10,cv2.KMEANS_RANDOM_CENTERS)\n",
    "center = np.uint8(center)\n",
    "print('중심좌표:',center)\n",
    "res = center[label.flatten()]\n",
    "res = res.reshape((img.shape))\n",
    "merged = np.hstack((img, res))\n",
    "cv2.imshow('KMeans Color',merged)\n",
    "cv2.waitKey(0)\n",
    "cv2.destroyAllWindows()\n",
    "\n"
   ]
  },
  {
   "cell_type": "code",
   "execution_count": null,
   "metadata": {},
   "outputs": [],
   "source": []
  }
 ],
 "metadata": {
  "kernelspec": {
   "display_name": "Python 3",
   "language": "python",
   "name": "python3"
  },
  "language_info": {
   "codemirror_mode": {
    "name": "ipython",
    "version": 3
   },
   "file_extension": ".py",
   "mimetype": "text/x-python",
   "name": "python",
   "nbconvert_exporter": "python",
   "pygments_lexer": "ipython3",
   "version": "3.9.13"
  },
  "orig_nbformat": 4
 },
 "nbformat": 4,
 "nbformat_minor": 2
}
