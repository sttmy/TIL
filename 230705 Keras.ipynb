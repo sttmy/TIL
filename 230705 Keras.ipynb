{
 "cells": [
  {
   "cell_type": "markdown",
   "id": "a2deb24a",
   "metadata": {},
   "source": [
    "## Keras\n",
    "\n",
    "- 파이썬으로 작성된 고수준 신경망 API\n",
    "- Tensorflow, CNTK, Theano와 함께 사용 가능\n",
    "- 빠르고 간편하게 프로토파이핑할 수 있으며 컨볼루션에서 순환신경망까지 다양한 기능 및 이들의 조합을 모두 지원, 연구 초기에 사용하기 적합\n",
    "\n",
    "### 모델 생성 관련 API\n",
    "- 케라스 모델 생성방법: sequential모델, functional API, model subclassing 방식\n",
    "    - Sequential모델: 단순 레이어 나열, 단일입력 및 단일출력 레이어 스택\n",
    "    - Funtional API모델: 임의 모델 구조를 지원할 수 있는 API를 이용해 모델 구현, 사용하기 간단함\n",
    "    - Model subclassing: 모델 모든 부분을 직접구현. 모델이 복잡하거나 최신 연구 수행 시 권장\n",
    "    \n",
    "- 신경망 모델은 Model() 클래스를 이용하여 정의\n",
    "    - 입력, 출력, 모델명 "
   ]
  },
  {
   "cell_type": "markdown",
   "id": "dfe7ce0e",
   "metadata": {},
   "source": [
    "### API (Application Programming Interface)\n",
    "\n",
    "https://namu.wiki/w/API\n",
    "\n",
    "- 응용 프로그램 프로그래밍 인터페이스. 애플리케이션 SW를 구축하고 통합하기 위한 정의 및 프로토콜 세트\n",
    "\n",
    "- 프로그래밍에서, 프로그램을 작성하기 위한 일련의 부(Sub) 프로그램, 프로토콜 등을 정의하여 상호 작용을 하기 위한 인터페이스 사양을 말함\n",
    "\n",
    "- function, method 또는 operation 등으로 다양하게 불리는 '소프트웨어 컴포넌트'의 기능, 입력, 출력, 그리고 이에 사용되는 자료형으로 표현됨. API 자체는 어디까지나 사양(specification)만을 정의하기 때문에 구현(Implementation)과는 독립적임.  이를 실제로 구현한 것은 '라이브러리(library)'라고 부름\n",
    "\n",
    "-  잘 설계된 API는 프로그램 개발을 보다 쉽게 해줌. 예를 들어 그래픽 카드나 디스크 드라이브 등의 하드웨어 또는 데이터베이스를 저레벨에서 직접 조작할 때, API는 작업을 편리하게 해줌. 컴퓨터 운영체제에서 일련의 과정들은 밑바닥에서부터 매우 저수준으로 작업이 수행되는데, API는 이러한 작업들에 대한 기능을 대상이 되는 언어에 맞게 추상화하고 프로그래머가 사용하기 편리하게 해줌. 따라서 프로그래머는 C언어나 어셈블리어 같이 저단계 프로그래밍 언어에서나 할법한 메모리 조작이나 하드웨어 조작 등을 직접할 필요 없이, API만을 가지고도 손쉽게 이를 고레벨 프로그래밍 언어에서도 제어할 수 있게 됨\n",
    "\n",
    "- vs 라이브러리\n",
    "    - API는 소프트웨어 개발에서 호환성을 위해 지켜야 하는 추상적인 원칙\n",
    "    - 라이브러리는 이러한 API들을 기반으로 개발자에게 기능을 제공할 수 있도록 실제 구현된 구현체\n",
    "    <br> 독립된 응용 프로그램(Application) 간의 상호작용은 '이미 구현된 코드'의 재사용이기 때문에 라이브러리는 다시 쓰기 위해 미리 짜놓은 코드 뭉치들을 의미하는 것이고, API를 기반으로 구현되었다고 볼 수 있음\n",
    "    \n",
    "- vs 프레임워크\n",
    "    - 명확하게 정의된 대량의 라이브러리가 있다는 점에서 API와 비슷\n",
    "    - 하지만 일반적인 API는 전체 제어 구조를 호출하는 쪽에서 원하는대로 진행할 수 있지만, 프레임워크는 특정 목적을 벗어나면 기능하지 않음\n",
    "    - 프로그램에 플러그인 형태로 설계된 API가 적용되면, 이미 작성되어 컴파일되고 완성된 프로그램의 수정없이 프로그램의 기능을 추가하는 것이 가능. ex) Internet Explorer, 파이어폭스, 크롬과 같은 웹 브라우저 프로그램의 플러그인, 애드온과 같은 것이 바로 이러한 형식의 플러그인 API를 사용해 구현된 것임\n",
    "\n",
    "- SDK(Software Development Kit): API가 실제 기능 구현체인 라이브러리와 함께 제공되는 경우. SDK는 일반적으로 API, 라이브러리와 함께 프로그램을 개발하는데 필요한 여러 보조 프로그램을 포함함\n",
    "\n",
    "- 기계어 이진 바이너리 수준에서 정의되는 이러한 인터페이스는 ABI(Application Binary Interface)\n",
    "    - API는 소스 코드 수준에서 정의되는 인터페이스\n",
    "    \n",
    "- 잘 설계된 '프로그래밍 인터페이스'를 사용하면 환경(플랫폼)이 달라져도 동일한 코드가 동일한 결과를 수행하며, 보다 편리하게 프로그래밍을 할 수 있다. 이것이 바로 API의 존재 목적임\n",
    "\n",
    "- 프로그래밍 언어 혹은 운영체제마다 기본으로 제공되는 API 말고도 기업들이 운영중인 여러 API들이 많음. 이는 웹에서 데이터를 전송하기 위한 목적으로 사용되는 'REST API'와는 다름\n",
    "    - 기업들은 개발자들의 무차별적인 접근을 막고 '적절한 상호 작용'을 위해 자체 개발 API를 배포\n",
    "    - 배포된 API를 받고 이를 자신의 코드에 추가함으로써 원하는 기능을 구현 가능\n",
    "    - 운용중인 애플리케이션에 적법한 절차를 걸쳐 허락을 맡고 구현물을 받아오거나 새로운 요소를 삽입, 수정할 수 있음 \n",
    "    - 구글, 네이버, 카카오 등 많은 IT 회사들이 사내 제품군들의 API를 제공하여 개발 편의를 돕고 자사 제품을 쓰도록 유도함. 예를 들어 구글 유튜브 Data API를 보면 각 프로그래밍 언어 별로 친절하게 동영상 업로드나 업데이터, 키워드별 검색, 재생목록 만들기 등의 기능을 제공하고, 카카오 지도 API를 보면 API를 통해 개발자는 카카오가 제공하는 함수를 써서 특정 경로를 찍거나, 해당 위치 주변의 지도를 개발물에 띄울 수 있고 이를 개발에 활용할 수 있음"
   ]
  },
  {
   "cell_type": "markdown",
   "id": "c3e1314a",
   "metadata": {},
   "source": [
    "### REST API (Representational State Transfer-ful API)\n",
    "\n",
    "API는 기본적으로 '프로그래밍 인터페이스'인 만큼, API를 사용하는 것은 주로 프로그램 내부 단에서 이루어짐. 하지만 보다 다양한 분야에 쓰일 수 있도록 '네트워크'와 '웹'에 맞춰진 API 통신 아키텍처가 등장했는데, 그것이 바로 REST임. REST 개념은 2000년에 로이 필딩(Roy Fielding)이 최초로 소개했는데, HTTP의 주요 저자로서 웹의 활용성을 보다 늘리기 위해 고안됨\n",
    "\n",
    "- REST란 그저 정의된 '아키텍처 스타일'\n",
    "    - API를 활용함에 있어서 그 API가 가져야할 디자인 철학, 혹은 미덕을 의미하며, 보다 비전공적으로 설명하자면 '필수요소' 정도로 볼 수 있음\n",
    "    - 엄밀히 따지면 REST는 모든 '네트워크'를 위한 것이므로 네트워크가 구성된 곳이라면 어느 곳이든 사용이 가능하지만 현실적으로 99.99%의 네트워크는 우리가 소위 '인터넷'이라고 부르는 HTTP 기반 네트워크이므로 REST API라고 하면 HTTP에 쓰이는걸 의미하는 경우가 많음. 심지어 그냥 'API'라고 부르면 이 REST API를 의미하는 경우도 많아짐\n",
    "    - REST 구조는 자체 표현 구조를 지녀야 하며, 이는 달리 말하면 '텍스트'만 오가야함. 이미지나 동영상을 주고받고 싶다면 그 데이터 파일 자체를 보내는 것이 아니라 이미지 또는 동영상이 보관되어 있는 주소가 오는 것임\n",
    "\n",
    "- REST를 잘 준수하는 API는 따로 'RESTful API'라고 부름\n",
    "    - 하지만 워낙 개념이 혼용되다보니 일부 혹은 전체 요소가 전혀 'REST'하지 않아도 'RESTful API'라고 부르는 경우가 종종 있음. 엄밀히 따지면 REST 요소를 지키지 않은 HTTP API는 그냥 '웹 API'나 'HTTP API'로 불러야 함\n",
    "    \n",
    "- 프로그래밍에서 말하는 그냥 API와 REST API는 둘다 상호 작용을 위한 인터페이스라는 점에서는 동일함\n",
    "    - 운영체제 혹은 다른 애플리케이션과 상호 작용하기 위해 정의된 약속을 쓰는 것\n",
    "    - 예를 들어, 'printf'라는 함수를 호출해서 정해진 문자열을 출력하고, 'videos.insert'라는 메소드를 호출해서 유튜브에 영상을 추가하며, 'https://openapi.naver.com/v1/nid/me'라는 HTTP 주소를 호출해서 데이터를 전송받는 것\n",
    "    \n",
    "- 차이점이라면 REST API는 네트워크에서 '데이터'를 받아오기 위한 것이고 프로그램에서의 API는 '코드', 나아가 코드뭉치인 라이브러리를 받아오기 위해 쓰는 것\n",
    "    - HTTPRequest를 보내서 JSON 또는 XML 형식으로 데이터 묶음이 온다면 보통 'REST API',\n",
    "    <br> 기업에서 설명하는 방식대로 자신의 코드에 import하여 특정 함수나 메소드를 쓸 수 있다면 코드에 빨간줄이 그이지 않는다면 일반적인 의미의 API임\n",
    "    \n",
    "    - 사실상 개발자가 아니면 사용할 일이 없는 일반적인 의미의 API와는 달리 REST API는 웹이라는 비교적 친숙한 도구를 매개체로 이용하며 결과물도 단순 텍스트다보니 좀 더 광범위하게 사용되는 편임. IT회사들도 단순 데이터 열람을 위해 REST API를 제공하는 경우가 많으며, 여러 데이터 열람을 위한 공공 OpenAPI나 게임회사에서 제공하는 유저 전적, 승률, 게임 내 각종 기록들도 다 REST API로 오가게 됨\n",
    "    - 소스코드 단계에서 상호 작용하는 일반 API와 달리 RESTful API는 웹을 이용하므로 거의 대부분 웹 프로토콜을 통해 주고 받음. GET/POST 등의 형태로 필요한 인수를 전달받으면 거기에 맞는 결과값을 JSON이나 XML 형태로 전송해줌. 이를 그대로 봐도 되긴 하지만 비전문가가 보면 알 수 없는 텍스트들의 나열로 보이기 때문에 보기 이쁜 형태로 데이터를 적당히 편집하여 보기 좋은 형태로 만드는 것이 개발자의 역할임\n"
   ]
  },
  {
   "cell_type": "markdown",
   "id": "c98035b0",
   "metadata": {},
   "source": [
    "#### ① Sequential 모델"
   ]
  },
  {
   "cell_type": "code",
   "execution_count": null,
   "id": "b300e611",
   "metadata": {},
   "outputs": [],
   "source": [
    "model = tf.keras.Sequential()\n",
    "model.add(tf.keras.Input(shape = (16,)))\n",
    "model.add(tf.keras.layers.Dense(8))"
   ]
  },
  {
   "cell_type": "markdown",
   "id": "6b387a0b",
   "metadata": {},
   "source": [
    "#### ② Funtional API 이용"
   ]
  },
  {
   "cell_type": "code",
   "execution_count": null,
   "id": "20e6056f",
   "metadata": {},
   "outputs": [],
   "source": [
    "import tensorflow as tf\n",
    "inputs = tf.keras.Input(shape = (3,))\n",
    "layer1 = tf.keras.layers.Dense(4, activation = tf.nn.relu)(inputs)\n",
    "outputs = tf.keras.layers.Dense(5, activation = tf.nn.softmax)(layer1)\n",
    "FuncAPIModel = tf.keras.Model(inputs = inputs, outputs = outputs)"
   ]
  },
  {
   "cell_type": "markdown",
   "id": "de9d594d",
   "metadata": {},
   "source": [
    "#### ③ Model subclassing 모델"
   ]
  },
  {
   "cell_type": "code",
   "execution_count": null,
   "id": "7866799c",
   "metadata": {},
   "outputs": [],
   "source": [
    "import tensorflow as tf\n",
    "class SubcModel(tf.keras.Model):\n",
    "    def __init__(self):\n",
    "        super(SubcModel, self).__init__()\n",
    "        self.dense1 = tf.keras.layers.Dense(4, activation = tf.nn.relu)\n",
    "        self.dense2 = tf.keras.layers.Dense(5, activation = tf.nn.softmax)\n",
    "        \n",
    "    def call(self, inputs, training = False):\n",
    "        x = self.dense1(inputs)\n",
    "        if training:\n",
    "                x = self.dropout(x, training = training)\n",
    "        return self.dense2(x)\n",
    "    \n",
    "model = SubcModel()"
   ]
  },
  {
   "cell_type": "markdown",
   "id": "30b235e0",
   "metadata": {},
   "source": [
    "build() 입력 크기에 따른 가중치 개수\n",
    "\n",
    "model.compile()   손실함수, 측정항목 등의 학습 설정\n",
    "\n",
    "model.fit()       모델 학습\n",
    "\n",
    "model.evaluate()  모델 평가\n",
    "\n",
    "model.predict()   예측\n",
    "\n",
    "pop()   모델 마지막 레이어 제거\n",
    "\n",
    "\n",
    "model.summary()   생성된 모델 전체 구조\n",
    "\n",
    "model.get_layer() 레이어 이름 또는 인덱스기반 검색 가능\n",
    "\n",
    "model.save()      모델 저장\n",
    "\n",
    "tf.keras.models.load_model()   모델 불러오기\n",
    "\n",
    "model.get_weights()     모델 가중치 불러오기\n"
   ]
  },
  {
   "cell_type": "markdown",
   "id": "4b98b254",
   "metadata": {},
   "source": []
  }
 ],
 "metadata": {
  "kernelspec": {
   "display_name": "Python 3 (ipykernel)",
   "language": "python",
   "name": "python3"
  },
  "language_info": {
   "codemirror_mode": {
    "name": "ipython",
    "version": 3
   },
   "file_extension": ".py",
   "mimetype": "text/x-python",
   "name": "python",
   "nbconvert_exporter": "python",
   "pygments_lexer": "ipython3",
   "version": "3.8.10"
  }
 },
 "nbformat": 4,
 "nbformat_minor": 5
}
