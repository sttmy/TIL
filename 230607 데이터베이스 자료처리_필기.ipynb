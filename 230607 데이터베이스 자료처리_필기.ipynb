{
 "cells": [
  {
   "cell_type": "markdown",
   "id": "d2e45f4a",
   "metadata": {},
   "source": [
    "### 2.1 변수와 자료형\n",
    "\n",
    "#### 일반적인 변수\n",
    "- 변수는 필요한 자료를 일시적으로 보관하거나 처리 결과를 담을 수 있는 기억장소 역할을 함\n",
    "\n",
    "- 변수는 실제 값을 저장하는 메모리 이름으로 할당됨\n",
    "\n",
    "#### 파이썬 변수\n",
    "- 변수에 저장될 값이 먼저 메모리에 객체 형태로 저장된 후, 객체의 주소가 변수가 저장됨\n",
    "- 실제값이 저장되지 않고, *실제값이 저장된 주소를 기억하는 '참조형변수'가 됨\n",
    "- 방대한 자료, 함수, 차트 등 다양한 유형의 객체를 담을 수 있음\n"
   ]
  },
  {
   "cell_type": "code",
   "execution_count": 3,
   "id": "e77e2fed",
   "metadata": {},
   "outputs": [
    {
     "name": "stdout",
     "output_type": "stream",
     "text": [
      "hello python\n",
      "2824692645232\n"
     ]
    },
    {
     "data": {
      "text/plain": [
       "(None, None)"
      ]
     },
     "execution_count": 3,
     "metadata": {},
     "output_type": "execute_result"
    }
   ],
   "source": [
    "var1 = 'hello python'\n",
    "print(var1), print(id(var1))"
   ]
  },
  {
   "cell_type": "code",
   "execution_count": 4,
   "id": "912ed37c",
   "metadata": {},
   "outputs": [
    {
     "name": "stdout",
     "output_type": "stream",
     "text": [
      "100\n",
      "140716976513904\n"
     ]
    },
    {
     "data": {
      "text/plain": [
       "(None, None)"
      ]
     },
     "execution_count": 4,
     "metadata": {},
     "output_type": "execute_result"
    }
   ],
   "source": [
    "var2 = 100\n",
    "print(var2), print(id(var2))"
   ]
  },
  {
   "cell_type": "markdown",
   "id": "4a95c8c5",
   "metadata": {},
   "source": [
    "### 6.1 클래스와 객체"
   ]
  },
  {
   "cell_type": "markdown",
   "id": "1ba41644",
   "metadata": {},
   "source": [
    "#### 1) 클래스: 프로그램을 이용해 객체를 만들어줌. 설계도.\n",
    "- 속성 attribute: 자료를 나타냄. 명사형태로 기술(-:은닉화, +:공용화)\n",
    "- 행위 action: 자료 연산, 조작, 동사형태로 기술, 함수로 표현\n",
    "\n",
    "#### 2) 객체: 클래스에 의해 만들어지는 결과물. 건물 '꽃'\n",
    "- 클래스 속성에 실제 자료가 들어가고, 실제자료를 동작시키는 함수가 하나로묶여진 단위\n",
    "- 자료와 메서드가 하나로 묶여져서 만들어지 결과물\n",
    "\n",
    "#### 3) 인스턴스: '꽃' + 현재"
   ]
  },
  {
   "cell_type": "markdown",
   "id": "06df3437",
   "metadata": {},
   "source": [
    "#### 클래스와 객체\n",
    "\n",
    "- 클래스를 선언(정의)해야, 객체를 생성할 수 있음\n",
    "- 클래스를 만들었으나, 객체를 생성하지 않으면 클래스의 멤버(변수, 메소드)를 쓸 수 없음★\n",
    "- 1개의 클래스로 N개의 객체 생성 가능. \n",
    "<br>\n",
    "- 1개의 객체는 i개의 속성으로 만들어진 ①data와\n",
    "<br> j개의 행위로 만들어진 ②method 를 하나의 묶음으로 갖고 있음\n",
    "<br>\n",
    "\n",
    "- 각 객체는 method를 이용해 자체 data를 조작하며 실행됨\n",
    "- 예) 자동차클래스 vs 자동차1(데이터: 2000cc, 금속, 4개, 4개 / 메서드: 시동켜기, 직진, 회전)\n",
    "- 객체들은 서로 독립된 메모리주소를 갖고 있음. 메시지를 이용해 상호작용도 가능"
   ]
  },
  {
   "cell_type": "code",
   "execution_count": 5,
   "id": "82953da9",
   "metadata": {},
   "outputs": [
    {
     "data": {
      "image/png": "[encoded data removed]",
      "text/plain": [
       "<IPython.core.display.Image object>"
      ]
     },
     "execution_count": 5,
     "metadata": {},
     "output_type": "execute_result"
    }
   ],
   "source": [
    "from IPython.display import Image\n",
    "\n",
    "Image(\"Data/230607/img.png\")"
   ]
  },
  {
   "cell_type": "markdown",
   "id": "90b782d0",
   "metadata": {},
   "source": [
    "### 6.2 클래스 구성"
   ]
  },
  {
   "cell_type": "markdown",
   "id": "2a701701",
   "metadata": {},
   "source": [
    "#### 함수 vs 메서드\n",
    "- 함수: 독립된 기능을 수행하는 코드(명령문)의 집합\n",
    "- 메서드: 클래스에 포함되어 있는 함수\n",
    "\n",
    "### 6.2.1 함수와 클래스\n",
    "    - 함수: 매개변수 정의, return문 있음 / 객체생성 필요 없음\n",
    "            def 외부함수(매개변수): \n",
    "                변수선언\n",
    "                def 내부함수(매개변수):\n",
    "                    명령문\n",
    "                    return 값\n",
    "            return 값\n",
    "\n",
    "    - 클래스: return문 없음. 생성자라는 매서드를 포함 / 객체생성 후 사용가능\n",
    "            class 클래스명:\n",
    "                변수선언\n",
    "                def __init__ (생성자):\n",
    "                    명령문\n",
    "                def 메서드명:\n",
    "                    명령문"
   ]
  },
  {
   "cell_type": "markdown",
   "id": "fd130100",
   "metadata": {},
   "source": [
    "#### ① 함수"
   ]
  },
  {
   "cell_type": "code",
   "execution_count": null,
   "id": "4bc3dab1",
   "metadata": {},
   "outputs": [],
   "source": [
    "# 함수정의\n",
    "def calc(a,b):\n",
    "    x = a\n",
    "    y = b\n",
    "    \n",
    "    def plus():\n",
    "        p = x+y\n",
    "        return p\n",
    "    def minus():\n",
    "        m = x-y\n",
    "        return m\n",
    "    return plus, minus"
   ]
  },
  {
   "cell_type": "code",
   "execution_count": 8,
   "id": "5eb72817",
   "metadata": {},
   "outputs": [
    {
     "name": "stdout",
     "output_type": "stream",
     "text": [
      "30\n",
      "-10\n"
     ]
    }
   ],
   "source": [
    "# 함수호출\n",
    "p, m = calc(10,20)\n",
    "print(p())\n",
    "print(m())"
   ]
  },
  {
   "cell_type": "markdown",
   "id": "0a8d56bf",
   "metadata": {},
   "source": [
    "#### ② 클래스"
   ]
  },
  {
   "cell_type": "code",
   "execution_count": 29,
   "id": "ab9db8ae",
   "metadata": {},
   "outputs": [],
   "source": [
    "# 클래스 정의\n",
    "class Calc:\n",
    "    # 자료저장의 멤버변수 설정\n",
    "    x = y = 0    ##### 클래스변수이면서 멤버변수 역할. 클래스변수는 객체생성하지 않고도 사용가능. 메모리를 많이 사용\n",
    "    \n",
    "    # 생성자: 특유한 메서드, 객체생성 + 멤버변수 초기화\n",
    "    def __init__(self, a, b):   ##### __init__: 객체생성시 자동실행\n",
    "        self.x = a              # self.x: 클래스 Calc의 x / a: 매개변수\n",
    "        self.y = b              ##### 멤버변수를 동적 할당한 사례임\n",
    "    # 메서드 정의\n",
    "    def plus(self):\n",
    "        p = self.x + self.y     # p: 로컬변수\n",
    "        return p\n",
    "    def minus(self):\n",
    "        m = self.x - self.y\n",
    "        return m\n"
   ]
  },
  {
   "cell_type": "markdown",
   "id": "b2cc732b",
   "metadata": {},
   "source": [
    "#### 객체생성★\n",
    "- 객체를 만들어야 클래스 내 메소드를 사용할 수 있음\n",
    "- class(1) → object(n) 생성\n",
    "- 객체가 만들어져야 참조할 수 있음. 설계도인 클래스 상태에서, 실체인 만질 수 있는 🌹꽃이 만들어짐"
   ]
  },
  {
   "cell_type": "code",
   "execution_count": 24,
   "id": "49e232b6",
   "metadata": {},
   "outputs": [
    {
     "data": {
      "text/plain": [
       "<__main__.Calc at 0x291acf53ca0>"
      ]
     },
     "execution_count": 24,
     "metadata": {},
     "output_type": "execute_result"
    }
   ],
   "source": [
    "# 객체생성\n",
    "obj = Calc(10,20)   # 객체하나 생성, 생성자메서드 실행, 객체 주소할당\n",
    "obj"
   ]
  },
  {
   "cell_type": "markdown",
   "id": "34214ef0",
   "metadata": {},
   "source": [
    "#### 객체obj: 참조형변수\n",
    "- 꽃이 만들어져야 꽃술과 꽃잎, 변수와 메서드를 사용할 수 있음\n",
    "- obj변수는, 주소에 할당되어 있음. 출력해보면 메인메모리에 어디에 할당되어있는지 알려줌"
   ]
  },
  {
   "cell_type": "code",
   "execution_count": 27,
   "id": "b7def7b0",
   "metadata": {},
   "outputs": [
    {
     "data": {
      "text/plain": [
       "__main__.Calc"
      ]
     },
     "execution_count": 27,
     "metadata": {},
     "output_type": "execute_result"
    }
   ],
   "source": [
    "type(obj)"
   ]
  },
  {
   "cell_type": "code",
   "execution_count": 16,
   "id": "14204b69",
   "metadata": {},
   "outputs": [
    {
     "name": "stdout",
     "output_type": "stream",
     "text": [
      "30, -10\n"
     ]
    },
    {
     "data": {
      "text/plain": [
       "(None, None)"
      ]
     },
     "execution_count": 16,
     "metadata": {},
     "output_type": "execute_result"
    }
   ],
   "source": [
    "# 객체의 사용멤버 호출\n",
    "print(obj.plus(), end=', '), print(obj.minus())"
   ]
  },
  {
   "cell_type": "code",
   "execution_count": 26,
   "id": "93b4bb11",
   "metadata": {},
   "outputs": [
    {
     "ename": "AttributeError",
     "evalue": "type object 'Calc' has no attribute 'x'",
     "output_type": "error",
     "traceback": [
      "\u001b[1;31m---------------------------------------------------------------------------\u001b[0m",
      "\u001b[1;31mAttributeError\u001b[0m                            Traceback (most recent call last)",
      "Cell \u001b[1;32mIn[26], line 1\u001b[0m\n\u001b[1;32m----> 1\u001b[0m \u001b[43mCalc\u001b[49m\u001b[38;5;241;43m.\u001b[39;49m\u001b[43mx\u001b[49m, Calc\u001b[38;5;241m.\u001b[39my\n",
      "\u001b[1;31mAttributeError\u001b[0m: type object 'Calc' has no attribute 'x'"
     ]
    }
   ],
   "source": [
    "Calc.x, Calc.y"
   ]
  },
  {
   "cell_type": "code",
   "execution_count": 25,
   "id": "7cabb5a2",
   "metadata": {
    "scrolled": true
   },
   "outputs": [
    {
     "data": {
      "text/plain": [
       "(10, 20)"
      ]
     },
     "execution_count": 25,
     "metadata": {},
     "output_type": "execute_result"
    }
   ],
   "source": [
    "obj.x, obj.y"
   ]
  },
  {
   "cell_type": "code",
   "execution_count": 30,
   "id": "5daa9cb0",
   "metadata": {},
   "outputs": [
    {
     "data": {
      "text/plain": [
       "(150, 50)"
      ]
     },
     "execution_count": 30,
     "metadata": {},
     "output_type": "execute_result"
    }
   ],
   "source": [
    "obj2 = Calc(100,50)\n",
    "obj2.plus(), obj2.minus()"
   ]
  },
  {
   "cell_type": "code",
   "execution_count": 31,
   "id": "4c082ec7",
   "metadata": {},
   "outputs": [
    {
     "data": {
      "text/plain": [
       "(2824695266464, 2824699740416)"
      ]
     },
     "execution_count": 31,
     "metadata": {},
     "output_type": "execute_result"
    }
   ],
   "source": [
    "id(obj), id(obj2)"
   ]
  },
  {
   "cell_type": "markdown",
   "id": "be1935d2",
   "metadata": {},
   "source": [
    "### [실습0-2] [실습0-3]"
   ]
  },
  {
   "cell_type": "code",
   "execution_count": 32,
   "id": "c0ba4a01",
   "metadata": {},
   "outputs": [
    {
     "data": {
      "text/plain": [
       "2824698514592"
      ]
     },
     "execution_count": 32,
     "metadata": {},
     "output_type": "execute_result"
    }
   ],
   "source": [
    "obj3 = Calc(70,90)\n",
    "id(obj3)"
   ]
  },
  {
   "cell_type": "code",
   "execution_count": 33,
   "id": "d3a94813",
   "metadata": {
    "scrolled": true
   },
   "outputs": [
    {
     "data": {
      "text/plain": [
       "(160, -20)"
      ]
     },
     "execution_count": 33,
     "metadata": {},
     "output_type": "execute_result"
    }
   ],
   "source": [
    "obj3.plus(), obj3.minus()"
   ]
  },
  {
   "cell_type": "code",
   "execution_count": 43,
   "id": "aa5a3c1b",
   "metadata": {},
   "outputs": [
    {
     "data": {
      "text/plain": [
       "2824694981824"
      ]
     },
     "execution_count": 43,
     "metadata": {},
     "output_type": "execute_result"
    }
   ],
   "source": [
    "obj2 = Calc(0,0)\n",
    "id(obj2)"
   ]
  },
  {
   "cell_type": "code",
   "execution_count": 44,
   "id": "26c5348b",
   "metadata": {
    "scrolled": false
   },
   "outputs": [
    {
     "data": {
      "text/plain": [
       "(0, 0)"
      ]
     },
     "execution_count": 44,
     "metadata": {},
     "output_type": "execute_result"
    }
   ],
   "source": [
    "obj2.x, obj2.y"
   ]
  },
  {
   "cell_type": "code",
   "execution_count": 45,
   "id": "40107948",
   "metadata": {},
   "outputs": [
    {
     "data": {
      "text/plain": [
       "(0, 0)"
      ]
     },
     "execution_count": 45,
     "metadata": {},
     "output_type": "execute_result"
    }
   ],
   "source": [
    "obj2.plus(), obj2.minus()"
   ]
  },
  {
   "cell_type": "code",
   "execution_count": 42,
   "id": "9a42502b",
   "metadata": {
    "scrolled": true
   },
   "outputs": [
    {
     "data": {
      "text/plain": [
       "(200, 50)"
      ]
     },
     "execution_count": 42,
     "metadata": {},
     "output_type": "execute_result"
    }
   ],
   "source": [
    "obj2.x = 200\n",
    "obj2.y = 50\n",
    "obj2.x, obj2.y"
   ]
  },
  {
   "cell_type": "code",
   "execution_count": 39,
   "id": "0644ab00",
   "metadata": {},
   "outputs": [
    {
     "data": {
      "text/plain": [
       "(250, 150)"
      ]
     },
     "execution_count": 39,
     "metadata": {},
     "output_type": "execute_result"
    }
   ],
   "source": [
    "obj2.plus(), obj2.minus()"
   ]
  },
  {
   "cell_type": "markdown",
   "id": "45fdb916",
   "metadata": {},
   "source": [
    "### 클래스변수 vs 멤버변수 vs 인스턴스변수\n",
    "\n",
    "#### 클래스변수\n",
    "- 클래스 내에서 static을 붙여서 선언하는 변수\n",
    "- 한 번 선언되면 해당 클래스의 모든 인스턴스가 같은 저장공간을 사용함\n",
    "- 전역변수임 ?\n",
    "- 인스턴스 없이 함수 내 호출이 가능함. 객체생성 없이 사용할 수 있음\n",
    "- 시스템의 완성도를 높이려면 안쓰는 게 좋음. 광역변수의 특성을 갖고 있음. 공용변수는 가급적 쓰지 않는 것이 좋음\n",
    "- 쓰는 이유? 인스턴스에 따라 변하지 않는 값이 필요한 경우, 변경사항을 모든 인스턴스가 공유해야하는 경우, 인스턴스를 생성할 필요가 없는 값을 원하는 경우\n",
    "\n",
    "#### 인스턴스변수\n",
    "- 인스턴스에 종속되어, 인스턴스 생성시마다 새로운 저장공간을 할당함\n",
    "- 인스턴스 객체에서 호출해주어야 함"
   ]
  },
  {
   "cell_type": "markdown",
   "id": "6d7b1895",
   "metadata": {},
   "source": [
    "### ※ 객체지향 프로그래밍\n",
    "- 클라이언트의 자원을 일부 사용\n",
    "- 클래스의 소스코드 위치(서버)와 인스턴스의 위치가 달라도 사용 가능"
   ]
  },
  {
   "cell_type": "markdown",
   "id": "9995ac78",
   "metadata": {},
   "source": [
    "### 6.2.2 클래스구성요소\n",
    "\n",
    "- 멤버 + 생성자   \n",
    "    * 멤버: 멤버변수(자료)+메서드(기능)\n",
    "- 클래스는 객체를 생성하는 역할이기 때문에 객체 내에서 공유할 수 있는 자료와 그 자료를 처리하는 함수를 묶어 객체가 만들어지도록 정의해둔 것을 말함\n",
    "- 클래스는 메모리에 저장되어 있음. 사용하려면 객체를 생성후 사용"
   ]
  },
  {
   "cell_type": "code",
   "execution_count": 12,
   "id": "7b09584d",
   "metadata": {},
   "outputs": [],
   "source": [
    "class Car:\n",
    "    # 멤버변수: 초기값은 0과 null임\n",
    "    cc = 0\n",
    "    door = 0 \n",
    "    cartype = None\n",
    "    \n",
    "    # 생성자: 객체 생성시, 멤버변수를 초기화하는 역할. 필요없을 경우 생략 가능하긴 함\n",
    "    def __init__(self, cc, door, cartype):\n",
    "        # 멤버변수 초기화\n",
    "        self.cc = cc\n",
    "        self.door = door\n",
    "        self.cartype = cartype\n",
    "    \n",
    "    # 메서드\n",
    "    def display(self):\n",
    "        print('자동차는 %d cc이고, 문짝은 %d개, 타입은 %s' %(self.cc, self.door, self.cartype))"
   ]
  },
  {
   "cell_type": "code",
   "execution_count": 13,
   "id": "ceffdf64",
   "metadata": {},
   "outputs": [
    {
     "name": "stdout",
     "output_type": "stream",
     "text": [
      "자동차는 2000 cc이고, 문짝은 4개, 타입은 승용차\n",
      "자동차는 3000 cc이고, 문짝은 5개, 타입은 SUV\n"
     ]
    },
    {
     "data": {
      "text/plain": [
       "(None, None)"
      ]
     },
     "execution_count": 13,
     "metadata": {},
     "output_type": "execute_result"
    }
   ],
   "source": [
    "# 객체생성. 한 개의 클래스에서 다수의 객체를 생성할 수 있음. \n",
    "car1 = Car(2000, 4, '승용차')\n",
    "car2 = Car(3000, 5, 'SUV')\n",
    "\n",
    "# 멤버호출 (메서드 호출)\n",
    "car1.display(), car2.display()"
   ]
  },
  {
   "cell_type": "markdown",
   "id": "79bc80c3",
   "metadata": {},
   "source": [
    "car1 = Car(2000, 4, '승용차')\n",
    "\n",
    "    클래스 변수        인수\n",
    "        cc             2000\n",
    "       door             4\n",
    "       type          '승용차'"
   ]
  },
  {
   "cell_type": "code",
   "execution_count": null,
   "id": "8ae6a8c0",
   "metadata": {},
   "outputs": [],
   "source": [
    "실인수 actual parameters(arguments)\n",
    "가인수 formal parameters(arguments)"
   ]
  },
  {
   "cell_type": "markdown",
   "id": "be74021f",
   "metadata": {},
   "source": [
    "### 6.2.3 생성자\n",
    "- 객체 생성 시 자동 실행, 멤버변수 값 초기화하는 역할\n",
    "- 초기화작업이 필요 없을 때는 생성자 생략 가능: 생략하면 파이썬이 기본생성자를 자동생성함\n",
    "\n",
    "- 매개변수는 객체가 생성되는 시점에서 외부의 인수를 받아 멤버변수 값 초기화\n",
    "\n",
    "    - 1)생성자 이용 멤버변수 초기화\n",
    "    - 2)메서드 이용 멤버변수 초기화"
   ]
  },
  {
   "cell_type": "markdown",
   "id": "1e4534f3",
   "metadata": {},
   "source": [
    "#### 객체 생성\n",
    "- 참조변수 = Car(실인수)  실인수: 생성자의 매개변수에 전달할 실제값\n",
    "\n",
    "#### 멤버 호출\n",
    "- 참조변수.멤버(멤버변수 or 메서드)"
   ]
  },
  {
   "cell_type": "code",
   "execution_count": 1,
   "id": "603e5437",
   "metadata": {},
   "outputs": [
    {
     "name": "stdout",
     "output_type": "stream",
     "text": [
      "30\n"
     ]
    }
   ],
   "source": [
    "# 생성자 이용 멤버변수 초기화\n",
    "class Multiply:\n",
    "    # 멤버변수\n",
    "    x = y = 0\n",
    "    \n",
    "    # 생성자: 초기화\n",
    "    def __init__(self, x, y):  # 객체만 생성\n",
    "        self.x = x\n",
    "        self.y = y\n",
    "        \n",
    "    # 메서드\n",
    "    def mul(self):\n",
    "        return self.x + self.y\n",
    "    \n",
    "    # 소멸자: 메모리를 아끼기 위해서. 보통은 자동으로 되기 때문에 사용안함\n",
    "    def __del__(self): \n",
    "        del self.x\n",
    "        del self.y\n",
    "\n",
    "obj = Multiply(10,20)\n",
    "print(obj.mul())"
   ]
  },
  {
   "cell_type": "code",
   "execution_count": 18,
   "id": "f1049abf",
   "metadata": {},
   "outputs": [
    {
     "data": {
      "text/plain": [
       "200"
      ]
     },
     "execution_count": 18,
     "metadata": {},
     "output_type": "execute_result"
    }
   ],
   "source": [
    "# 메서드 이용 멤버변수 초기화\n",
    "class Multiply2:\n",
    "    # 멤버변수\n",
    "    x = y = 0\n",
    "    \n",
    "    # 생성자 없음 >> 기본생성자 제공\n",
    "    def __init__(self):\n",
    "        pass\n",
    "    \n",
    "    # 메서드: 멤버변수 초기화\n",
    "    def data(self, x, y):\n",
    "        self.x = x\n",
    "        self.y = y\n",
    "    \n",
    "    # 메서드: 곱셈\n",
    "    def mul(self):\n",
    "        return self.x * self.y\n",
    "\n",
    "obj2 = Multiply2() # 기본 생성자. 인수가 없음\n",
    "obj2.data(10, 20)  # 동적 멤버변수 생성. 생성자가 해야될 일을 이렇게 대신 함\n",
    "obj2.mul()         # 인수 들어가고 실행됨. 동적 멤버변수 생성 없이 실행하면 0값 "
   ]
  },
  {
   "cell_type": "code",
   "execution_count": 17,
   "id": "c6b57dd6",
   "metadata": {},
   "outputs": [
    {
     "data": {
      "text/plain": [
       "0"
      ]
     },
     "execution_count": 17,
     "metadata": {},
     "output_type": "execute_result"
    }
   ],
   "source": [
    "# 메서드 이용 멤버변수 초기화\n",
    "class Multiply2:\n",
    "    # 멤버변수\n",
    "    x = y = 0\n",
    "    \n",
    "    # 생성자 없음 >> 기본생성자 제공\n",
    "    def __init__(self):\n",
    "        pass\n",
    "    \n",
    "    # 메서드: 멤버변수 초기화\n",
    "    def data(self, x, y):\n",
    "        self.x = x\n",
    "        self.y = y\n",
    "    \n",
    "    # 메서드: 곱셈\n",
    "    def mul(self):\n",
    "        return self.x * self.y\n",
    "\n",
    "obj2 = Multiply2() # 기본 생성자. 인수가 없음\n",
    "obj2.mul()"
   ]
  },
  {
   "cell_type": "markdown",
   "id": "96e1fd32",
   "metadata": {},
   "source": [
    "### 6.2.4 SELF\n",
    "- (나 또는 나의 상위에서 정의됨)\n",
    "- 클래스의 생성자와 메서드는 기본적으로 self라는 매개변수를 가짐\n",
    "- 클래스 구성하는 멤버변수와 메서드를 호출하는 역할\n",
    "- self라는 매개변수를 생략하면 오류가 발생\n",
    "<br>\n",
    "\n",
    "- 생성자 안에서 멤버변수 값 초기화 or 메서드 안에서 멤버변수 참조 or 메서드 호출할 경우 이용\n",
    "- 형식: self.멤버변수, self.메서드()\n",
    "\n",
    "- self멤버변수 = 매개변수"
   ]
  },
  {
   "cell_type": "markdown",
   "id": "831c1acf",
   "metadata": {},
   "source": [
    "#### 멤버변수, 생성자 모두를 정의하지 않은 클래스의 예)\n",
    "- 생성자는 기본으로 자동으로 만들어짐\n",
    "- 동적 멤버변수: 필요한 경우 특정 메서드에서 생성하는 멤버변수\n",
    "    형식: self.멤버변수 = 초기값"
   ]
  },
  {
   "cell_type": "code",
   "execution_count": 16,
   "id": "1e307b65",
   "metadata": {},
   "outputs": [
    {
     "name": "stdout",
     "output_type": "stream",
     "text": [
      "곱셈 = 200\n"
     ]
    }
   ],
   "source": [
    "class Multiply3:    \n",
    "    # 멤버변수 없음\n",
    "    # 생성자 없음: 기본생성자(생략되어도 있는 것임)\n",
    "    \n",
    "    # 동적 멤버변수 생성/ 초기화\n",
    "    def data(self, x, y):       # 멤버변수 생성 역할 대신함\n",
    "        self.x = x              # self.멤버변수 = 매개변수\n",
    "        self.y = y              # 동적으로 멤버변수 생성 후 초기화됨\n",
    "    \n",
    "    # 메서드: 곱셈\n",
    "    def mul(self):\n",
    "        result = self.x * self.y   # self.매개변수 형태로 참조\n",
    "        self.display(result)       # display 메서드를 호출\n",
    "    \n",
    "    # 결과출력\n",
    "    def display(self, result):\n",
    "        print(\"곱셈 = %d\" %(result))\n",
    "\n",
    "obj3 = Multiply3()   # 기본생성자\n",
    "obj3.data(10, 20)  # 동적 멤버변수 생성\n",
    "obj3.mul()"
   ]
  }
 ],
 "metadata": {
  "kernelspec": {
   "display_name": "Python 3 (ipykernel)",
   "language": "python",
   "name": "python3"
  },
  "language_info": {
   "codemirror_mode": {
    "name": "ipython",
    "version": 3
   },
   "file_extension": ".py",
   "mimetype": "text/x-python",
   "name": "python",
   "nbconvert_exporter": "python",
   "pygments_lexer": "ipython3",
   "version": "3.8.10"
  }
 },
 "nbformat": 4,
 "nbformat_minor": 5
}
