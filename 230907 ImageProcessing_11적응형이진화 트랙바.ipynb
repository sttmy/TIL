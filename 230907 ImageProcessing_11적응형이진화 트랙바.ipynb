{
 "cells": [
  {
   "cell_type": "markdown",
   "metadata": {},
   "source": [
    "적응형 이진화 / 트랙바"
   ]
  },
  {
   "cell_type": "code",
   "execution_count": 4,
   "metadata": {},
   "outputs": [
    {
     "ename": "AttributeError",
     "evalue": "module 'cv2' has no attribute 'adapticeThreshold'",
     "output_type": "error",
     "traceback": [
      "\u001b[1;31m---------------------------------------------------------------------------\u001b[0m",
      "\u001b[1;31mAttributeError\u001b[0m                            Traceback (most recent call last)",
      "Cell \u001b[1;32mIn[4], line 10\u001b[0m, in \u001b[0;36mon_trackbar\u001b[1;34m(pos)\u001b[0m\n\u001b[0;32m      7\u001b[0m \u001b[39mif\u001b[39;00m bsize \u001b[39m<\u001b[39m\u001b[39m3\u001b[39m : bsize\u001b[39m=\u001b[39m \u001b[39m3\u001b[39m\n\u001b[0;32m      9\u001b[0m \u001b[39m# 적응형이진화 : 가우시안 블러를 적용하여 노이즈를 제거한 후 이진화 처리\u001b[39;00m\n\u001b[1;32m---> 10\u001b[0m dst \u001b[39m=\u001b[39m cv2\u001b[39m.\u001b[39;49madapticeThreshold(src, \u001b[39m255\u001b[39m, cv2\u001b[39m.\u001b[39mADAPTIVE_THRESH_GAUSSIAN_C, cv2\u001b[39m.\u001b[39mTHRESH_BINARY, bsize, \u001b[39m5\u001b[39m)\n\u001b[0;32m     11\u001b[0m cv2\u001b[39m.\u001b[39mimshow(\u001b[39m'\u001b[39m\u001b[39mdst\u001b[39m\u001b[39m'\u001b[39m, dst)\n",
      "\u001b[1;31mAttributeError\u001b[0m: module 'cv2' has no attribute 'adapticeThreshold'"
     ]
    }
   ],
   "source": [
    "import cv2\n",
    "import numpy as np\n",
    "\n",
    "def on_trackbar(pos):\n",
    "    bsize = pos\n",
    "    if bsize % 2 == 0 : bsize = bsize-1\n",
    "    if bsize <3 : bsize= 3\n",
    "\n",
    "    # 적응형이진화 : 가우시안 블러를 적용하여 노이즈를 제거한 후 이진화 처리\n",
    "    dst = cv2.adapticeThreshold(src, 255, cv2.ADAPTIVE_THRESH_GAUSSIAN_C, cv2.THRESH_BINARY, bsize, 5)\n",
    "    cv2.imshow('dst', dst)\n",
    "\n",
    "src = cv2.imread('c:/workspace/Data/sudoku.jpg', cv2.IMREAD_GRAYSCALE)\n",
    "cv2.imshow('src', src)\n",
    "\n",
    "cv2.namedWindow(\"dst\")\n",
    "cv2.createTrackbar(\"Block Size\", 'dst', 0, 200, on_trackbar)\n",
    "cv2.setTrackbarPos('Block Size', 'dst', 11)\n",
    "\n",
    "cv2.waitKey()\n",
    "cv2.destroyAllWindows()\n",
    "\n"
   ]
  },
  {
   "cell_type": "code",
   "execution_count": 6,
   "metadata": {},
   "outputs": [],
   "source": [
    "def on_trackbar(pos):\n",
    "\n",
    "    bsize = pos\n",
    "\n",
    "    if bsize % 2 == 0: bsize = bsize - 1\n",
    "\n",
    "    if bsize < 3: bsize = 3\n",
    "\n",
    "    #적응형 이진화(가우시안 블러를 적용하여 노이즈를 제거한 후 이진화 처리)\n",
    "\n",
    "    dst = cv2.adaptiveThreshold(src, 255, cv2.ADAPTIVE_THRESH_GAUSSIAN_C,\n",
    "\n",
    "                               cv2.THRESH_BINARY, bsize, 5)\n",
    "\n",
    "    cv2.imshow('dst', dst)\n",
    "\n",
    "src = cv2.imread('c:/workspace/Data/sudoku.jpg', cv2.IMREAD_GRAYSCALE)\n",
    "\n",
    "cv2.imshow('src', src)\n",
    "\n",
    "cv2.namedWindow('dst')\n",
    "\n",
    "cv2.createTrackbar('Block Size', 'dst', 0, 200, on_trackbar)\n",
    "\n",
    "cv2.setTrackbarPos('Block Size', 'dst', 11)\n",
    "\n",
    "cv2.waitKey()\n",
    "\n",
    "cv2.destroyAllWindows()"
   ]
  },
  {
   "cell_type": "code",
   "execution_count": null,
   "metadata": {},
   "outputs": [],
   "source": []
  }
 ],
 "metadata": {
  "kernelspec": {
   "display_name": "Python 3",
   "language": "python",
   "name": "python3"
  },
  "language_info": {
   "codemirror_mode": {
    "name": "ipython",
    "version": 3
   },
   "file_extension": ".py",
   "mimetype": "text/x-python",
   "name": "python",
   "nbconvert_exporter": "python",
   "pygments_lexer": "ipython3",
   "version": "3.9.13"
  },
  "orig_nbformat": 4
 },
 "nbformat": 4,
 "nbformat_minor": 2
}
