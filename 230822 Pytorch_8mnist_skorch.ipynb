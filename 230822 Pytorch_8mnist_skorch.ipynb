{
 "cells": [
  {
   "cell_type": "code",
   "execution_count": 1,
   "metadata": {},
   "outputs": [],
   "source": [
    "# skorch : pytorch를 쉽게 구현할 수 있는 라이브러리\n",
    "\n",
    "from keras.datasets import mnist\n",
    "(X_train, y_train), (X_test, y_test) = mnist.load_data()\n",
    "\n",
    "X_train= X_train.reshape(-1,784)\n",
    "X_test= X_test.reshape(-1,784)\n",
    "X_train=X_train/255.\n",
    "X_test=X_test/255."
   ]
  },
  {
   "cell_type": "code",
   "execution_count": 2,
   "metadata": {},
   "outputs": [
    {
     "name": "stdout",
     "output_type": "stream",
     "text": [
      "torch.Size([60000, 784])\n",
      "torch.Size([10000, 784])\n"
     ]
    }
   ],
   "source": [
    "import torch\n",
    "X_train=torch.from_numpy(X_train).float()\n",
    "y_train=torch.from_numpy(y_train.astype('int32')).long()\n",
    "X_test=torch.from_numpy(X_test).float()\n",
    "y_test=torch.from_numpy(y_test.astype('int32')).long()\n",
    "print(X_train.shape)\n",
    "print(X_test.shape)\n",
    "X_train=X_train.cuda()\n",
    "y_train=y_train.cuda()\n",
    "X_test=X_test.cuda()\n",
    "y_test=y_test.cuda()"
   ]
  },
  {
   "cell_type": "code",
   "execution_count": 3,
   "metadata": {},
   "outputs": [],
   "source": [
    "import torch.nn as nn\n",
    "import torch.nn.functional as F\n",
    "# 신경망 구성\n",
    "class Net(nn.Module):\n",
    "    def __init__(self):\n",
    "        super(Net, self).__init__()\n",
    "        self.fc1 = nn.Linear(784, 128)\n",
    "        self.fc2 = nn.Linear(128, 10)\n",
    "    def forward(self, x):\n",
    "        x = F.relu(self.fc1(x))\n",
    "        x = self.fc2(x)\n",
    "        return F.softmax(x, dim=-1)\n",
    "model=Net().cuda()"
   ]
  },
  {
   "cell_type": "code",
   "execution_count": 4,
   "metadata": {},
   "outputs": [
    {
     "name": "stdout",
     "output_type": "stream",
     "text": [
      "  epoch    train_loss    valid_acc    valid_loss     dur\n",
      "-------  ------------  -----------  ------------  ------\n",
      "      1        \u001b[36m0.6352\u001b[0m       \u001b[32m0.9007\u001b[0m        \u001b[35m0.3482\u001b[0m  2.5205\n",
      "      2        \u001b[36m0.3135\u001b[0m       \u001b[32m0.9197\u001b[0m        \u001b[35m0.2852\u001b[0m  1.7794\n",
      "      3        \u001b[36m0.2629\u001b[0m       \u001b[32m0.9299\u001b[0m        \u001b[35m0.2462\u001b[0m  1.7181\n",
      "      4        \u001b[36m0.2273\u001b[0m       \u001b[32m0.9386\u001b[0m        \u001b[35m0.2175\u001b[0m  1.8557\n",
      "      5        \u001b[36m0.1997\u001b[0m       \u001b[32m0.9437\u001b[0m        \u001b[35m0.1952\u001b[0m  1.6770\n",
      "      6        \u001b[36m0.1776\u001b[0m       \u001b[32m0.9487\u001b[0m        \u001b[35m0.1771\u001b[0m  1.6776\n",
      "      7        \u001b[36m0.1596\u001b[0m       \u001b[32m0.9527\u001b[0m        \u001b[35m0.1627\u001b[0m  1.9128\n",
      "      8        \u001b[36m0.1449\u001b[0m       \u001b[32m0.9571\u001b[0m        \u001b[35m0.1515\u001b[0m  1.7754\n",
      "      9        \u001b[36m0.1326\u001b[0m       \u001b[32m0.9599\u001b[0m        \u001b[35m0.1423\u001b[0m  1.6364\n",
      "     10        \u001b[36m0.1222\u001b[0m       \u001b[32m0.9618\u001b[0m        \u001b[35m0.1349\u001b[0m  1.7440\n",
      "     11        \u001b[36m0.1133\u001b[0m       \u001b[32m0.9642\u001b[0m        \u001b[35m0.1286\u001b[0m  1.7436\n",
      "     12        \u001b[36m0.1055\u001b[0m       \u001b[32m0.9653\u001b[0m        \u001b[35m0.1235\u001b[0m  1.6532\n",
      "     13        \u001b[36m0.0986\u001b[0m       \u001b[32m0.9662\u001b[0m        \u001b[35m0.1189\u001b[0m  1.6407\n",
      "     14        \u001b[36m0.0926\u001b[0m       \u001b[32m0.9672\u001b[0m        \u001b[35m0.1151\u001b[0m  1.6461\n",
      "     15        \u001b[36m0.0871\u001b[0m       \u001b[32m0.9677\u001b[0m        \u001b[35m0.1115\u001b[0m  1.6419\n",
      "     16        \u001b[36m0.0821\u001b[0m       \u001b[32m0.9678\u001b[0m        \u001b[35m0.1084\u001b[0m  1.6672\n",
      "     17        \u001b[36m0.0776\u001b[0m       \u001b[32m0.9683\u001b[0m        \u001b[35m0.1056\u001b[0m  1.6604\n",
      "     18        \u001b[36m0.0734\u001b[0m       \u001b[32m0.9693\u001b[0m        \u001b[35m0.1032\u001b[0m  1.6793\n",
      "     19        \u001b[36m0.0696\u001b[0m       \u001b[32m0.9698\u001b[0m        \u001b[35m0.1011\u001b[0m  1.7477\n",
      "     20        \u001b[36m0.0661\u001b[0m       \u001b[32m0.9702\u001b[0m        \u001b[35m0.0992\u001b[0m  1.6919\n"
     ]
    },
    {
     "data": {
      "text/plain": [
       "0.9731"
      ]
     },
     "execution_count": 4,
     "metadata": {},
     "output_type": "execute_result"
    }
   ],
   "source": [
    "from skorch import NeuralNetClassifier\n",
    "net = NeuralNetClassifier(Net,max_epochs=20,lr=0.1)\n",
    "net.fit(X_train, y_train)\n",
    "\n",
    "import numpy as np\n",
    "# 모형의 정확도 계산\n",
    "pred = net.predict(X_test)\n",
    "y_test = y_test.cpu().numpy()\n",
    "accuracy = np.mean(pred == y_test)\n",
    "accuracy\n"
   ]
  },
  {
   "cell_type": "code",
   "execution_count": 5,
   "metadata": {},
   "outputs": [
    {
     "data": {
      "text/plain": [
       "==========================================================================================\n",
       "Layer (type:depth-idx)                   Output Shape              Param #\n",
       "==========================================================================================\n",
       "Net                                      [100, 10]                 --\n",
       "├─Linear: 1-1                            [100, 128]                100,480\n",
       "├─Linear: 1-2                            [100, 10]                 1,290\n",
       "==========================================================================================\n",
       "Total params: 101,770\n",
       "Trainable params: 101,770\n",
       "Non-trainable params: 0\n",
       "Total mult-adds (M): 10.18\n",
       "==========================================================================================\n",
       "Input size (MB): 0.31\n",
       "Forward/backward pass size (MB): 0.11\n",
       "Params size (MB): 0.41\n",
       "Estimated Total Size (MB): 0.83\n",
       "=========================================================================================="
      ]
     },
     "execution_count": 5,
     "metadata": {},
     "output_type": "execute_result"
    }
   ],
   "source": [
    "from torchinfo import summary\n",
    "summary(model, input_size=(100,784))\n"
   ]
  }
 ],
 "metadata": {
  "kernelspec": {
   "display_name": "Python 3",
   "language": "python",
   "name": "python3"
  },
  "language_info": {
   "codemirror_mode": {
    "name": "ipython",
    "version": 3
   },
   "file_extension": ".py",
   "mimetype": "text/x-python",
   "name": "python",
   "nbconvert_exporter": "python",
   "pygments_lexer": "ipython3",
   "version": "3.9.13"
  },
  "orig_nbformat": 4
 },
 "nbformat": 4,
 "nbformat_minor": 2
}
