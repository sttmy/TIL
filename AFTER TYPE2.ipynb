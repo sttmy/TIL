{
 "cells": [
  {
   "cell_type": "markdown",
   "id": "15bb9f2f",
   "metadata": {},
   "source": [
    "## (sample) \n",
    "\n",
    "백화점 고객 1년간 구매데이터\n",
    "\n",
    "성별 예측값(남자일 확률)을 csv파일로 생성\n",
    "roc-auc평가지표에 따라 채점"
   ]
  },
  {
   "cell_type": "code",
   "execution_count": null,
   "id": "14665e27",
   "metadata": {},
   "outputs": [],
   "source": [
    "# 라이브러리\n",
    "import pandas as pd\n",
    "\n",
    "x_test = pd.read_csv(\"data/X_test.csv\")\n",
    "x_train = pd.read_csv(\"data/X_train.csv\")\n",
    "y_train = pd.read_csv(\"data/y_train.csv\")\n",
    "\n",
    "# EDA 데이터전처리, 피처링\n",
    "print(x_train.isnull().sum())\n",
    "x_train = x_train.fillna(0)\n",
    "x_test = x_test.fillna(0)\n",
    "\n",
    "x_train = x_train.drop(['cust_id'], axis =1)\n",
    "cust_id = x_test.pop('cust_id')\n",
    "\n",
    "# 범주형변수 피처 레이블인코딩\n",
    "from sklearn.preprocessing import LabelEncoder\n",
    "le = LabelEncoder()\n",
    "cols = x_train.select_dtypes('object').columns\n",
    "for col in cols:\n",
    "\tx_train[col] = le.fit_transform(x_train[col])\n",
    "\tx_test[col] = le.fit_transform(x_test[col])\n",
    "\n",
    "# 모델링 & 하이퍼파라미터 튜닝\n",
    "from sklearn.ensemble import RandomForestClassifier\n",
    "rf = RandomForestClassifier(n_estimators = 100, max_depth = 5, random_state = 2022)\n",
    "rf.fit(x_train, y_train['gender'])\n",
    "\n",
    "pred = rf.predict_proba(x_test)\n",
    "\n",
    "# 결과물 저장\n",
    "output = pd.DataFrame({'cust_id': cust_id, 'gender': pred[:,1]})\n",
    "output.to_csv('0000.csv', index = False)"
   ]
  },
  {
   "cell_type": "markdown",
   "id": "52215a8f",
   "metadata": {},
   "source": [
    "## T2-1. 타이타닉 simple baseline 생존여부 예측모델 만들기\n",
    "https://www.kaggle.com/code/agileteam/t2-1-titanic-simple-baseline/notebook\n",
    "\n",
    "\n",
    "학습용 데이터 (X_train, y_train)을 이용하여 생존 예측 모형을 만든 후, 이를 평가용 데이터(X_test)에 적용하여 얻은 예측값을 다음과 같은 형식의 CSV파일로 생성하시오(제출한 모델의 성능은 accuracy 평가지표에 따라 채점)"
   ]
  },
  {
   "cell_type": "code",
   "execution_count": null,
   "id": "0951129d",
   "metadata": {},
   "outputs": [],
   "source": [
    "# 시험환경 세팅 (코드 변경 X)\n",
    "import pandas as pd\n",
    "import numpy as np\n",
    "from sklearn.model_selection import train_test_split\n",
    "\n",
    "def exam_data_load(df, target, id_name=\"\", null_name=\"\"):\n",
    "    if id_name == \"\":\n",
    "        df = df.reset_index().rename(columns={\"index\": \"id\"})\n",
    "        id_name = 'id'\n",
    "    else:\n",
    "        id_name = id_name\n",
    "    \n",
    "    if null_name != \"\":\n",
    "        df[df == null_name] = np.nan\n",
    "    \n",
    "    X_train, X_test = train_test_split(df, test_size=0.2, random_state=2021)\n",
    "    \n",
    "    y_train = X_train[[id_name, target]]\n",
    "    X_train = X_train.drop(columns=[target])\n",
    "\n",
    "    \n",
    "    y_test = X_test[[id_name, target]]\n",
    "    X_test = X_test.drop(columns=[target])\n",
    "    return X_train, X_test, y_train, y_test \n"
   ]
  },
  {
   "cell_type": "code",
   "execution_count": null,
   "id": "8eebe0d0",
   "metadata": {},
   "outputs": [],
   "source": [
    "# 데이터 불러오기 \n",
    "df = pd.read_csv(\"../input/titanic/train.csv\")\n",
    "X_train, X_test, y_train, y_test = exam_data_load(df, target='Survived', id_name='PassengerId')"
   ]
  },
  {
   "cell_type": "code",
   "execution_count": null,
   "id": "237ed098",
   "metadata": {},
   "outputs": [],
   "source": [
    "# EDA\n",
    "\n",
    "X_train.shape, X_test.shape, y_train.shape, y_test.shape\n",
    "X_train.head()\n",
    "X_test.head()\n",
    "y_train.head()\n",
    "X_train.isnull().sum()\n",
    "X_train.info()\n",
    "\n",
    "# 생존비율\n",
    "y_train.Survived.sum() / y_train.shape[0]"
   ]
  },
  {
   "cell_type": "code",
   "execution_count": null,
   "id": "1f0de8ee",
   "metadata": {},
   "outputs": [],
   "source": [
    "# 전처리\n",
    "\n",
    "# 불필요한 컬럼 제거\n",
    "dropcols = ['PassengerId','Name','Ticket','Cabin']   \n",
    "x_train = X_train.drop(columns = dropcols)\n",
    "x_test = X_test.drop(columns = dropcols)\n",
    "y = y_train[\"Survived\"]\n",
    "\n",
    "# 데이터타입 변경\n",
    "x_train.Pclass = x_train.Pclass.astype(\"object\")\n",
    "x_test.Pclass = x_test.Pclass.astype(\"object\")\n",
    "\n",
    "# 더미변수화 (원핫인코딩)\n",
    "x_tr_dum = pd.get_dummies(x_train, drop_first= True)\n",
    "x_ts_dum = pd.get_dummies(x_test, drop_first = True)\n",
    "\n",
    "# age변수 결측데이터 제거\n",
    "x_tr_dum.dropna(axis = 0, inplace= True)\n",
    "y = y[-x_tr_dum.Age.isnull()]\n",
    "x_ts_dum.dropna(axis = 0, inplace= True)\n",
    "x_ts_dum.Age = x_ts_dum.Age.astype(\"int64\")"
   ]
  },
  {
   "cell_type": "code",
   "execution_count": null,
   "id": "2a0d877f",
   "metadata": {},
   "outputs": [],
   "source": [
    "# 모델링 및 평가\n",
    "from sklearn.ensemble import RandomForestClassifier\n",
    "rf = RandomForestClassifier(n_estimators = 200, max_depth = 7, random_state = 2021)\n",
    "rf.fit(x_tr_dum, y)\n",
    "\n",
    "pred = rf.predict(x_ts_dum)\n",
    "rf.score(x_tr_dum, y)\n",
    "\n",
    "# 결과 \n",
    "output = pd.DataFrame({'PassengerId': X_test.PassengerId, 'Survived': predictions})\n",
    "output.head()"
   ]
  },
  {
   "cell_type": "markdown",
   "id": "e75171b7",
   "metadata": {},
   "source": [
    "## T2-2. Pima Indians Diabetes(피마 인디언 당뇨병)\n",
    "\n",
    "https://www.kaggle.com/code/agileteam/t2-2-pima-indians-diabetes/notebook\n",
    "\n",
    "당뇨병 여부 판단\n",
    "이상치 처리 (Glucose, BloodPressure, SkinThickness, Insulin, BMI가 0인 값)"
   ]
  },
  {
   "cell_type": "code",
   "execution_count": null,
   "id": "db79f27b",
   "metadata": {},
   "outputs": [],
   "source": [
    "# 시험환경 세팅 (코드 변경 X)\n",
    "import pandas as pd\n",
    "import numpy as np\n",
    "from sklearn.model_selection import train_test_split\n",
    "\n",
    "def exam_data_load(df, target, id_name=\"\", null_name=\"\"):\n",
    "    if id_name == \"\":\n",
    "        df = df.reset_index().rename(columns={\"index\": \"id\"})\n",
    "        id_name = 'id'\n",
    "    else:\n",
    "        id_name = id_name\n",
    "    \n",
    "    if null_name != \"\":\n",
    "        df[df == null_name] = np.nan\n",
    "    \n",
    "    X_train, X_test = train_test_split(df, test_size=0.2, random_state=2021)\n",
    "    \n",
    "    y_train = X_train[[id_name, target]]\n",
    "    X_train = X_train.drop(columns=[target])\n",
    "\n",
    "    \n",
    "    y_test = X_test[[id_name, target]]\n",
    "    X_test = X_test.drop(columns=[target])\n",
    "    return X_train, X_test, y_train, y_test \n"
   ]
  },
  {
   "cell_type": "code",
   "execution_count": null,
   "id": "c29ba82c",
   "metadata": {},
   "outputs": [],
   "source": [
    "# 데이터 불러오기    \n",
    "df = pd.read_csv(\"../input/pima-indians-diabetes-database/diabetes.csv\")\n",
    "X_train, X_test, y_train, y_test = exam_data_load(df, target='Outcome')\n"
   ]
  },
  {
   "cell_type": "code",
   "execution_count": null,
   "id": "4fdba63a",
   "metadata": {},
   "outputs": [],
   "source": [
    "# EDA\n",
    "\n",
    "X_train.shape, X_test.shape, y_train.shape, y_test.shape\n",
    "X_train.head()\n",
    "X_test.head()\n",
    "y_train.head()\n",
    "X_train.isnull().sum()\n",
    "X_test.isna().sum()\n",
    "X_train.info()\n",
    "X_train.describe()\n"
   ]
  },
  {
   "cell_type": "code",
   "execution_count": null,
   "id": "a405682e",
   "metadata": {},
   "outputs": [],
   "source": [
    "# 데이터 전처리\n",
    "\n",
    "# 결측값: (Glucose, BloodPressure, SkinThickness, Insulin, BMI가 0인 값)\n",
    "\n",
    "print('--------- train data ----------')\n",
    "print('BloodPressure: ', (X_train.BloodPressure == 0).sum())\n",
    "print('Glucose: ', (X_train.Glucose == 0).sum())\n",
    "print('SkinThickness: ', (X_train.SkinThickness == 0).sum())\n",
    "print('Insulin: ', (X_train.Insulin == 0).sum())\n",
    "print('BMI: ', (X_train.BMI == 0).sum())\n",
    "\n",
    "print('--------- test data ----------')\n",
    "print('BloodPressure: ', (X_test.BloodPressure == 0).sum())\n",
    "print('Glucose: ', (X_test.Glucose == 0).sum())\n",
    "print('SkinThickness: ', (X_test.SkinThickness == 0).sum())\n",
    "print('Insulin: ', (X_test.Insulin == 0).sum())\n",
    "print('BMI: ', (X_test.BMI == 0).sum())\n",
    "\n",
    "# train데이터에만 0이 있는 변수의 결측값 삭제, 나머지는 평균으로 대체\n",
    "# Glucose == 0 삭제\n",
    "X_train.drop(X_train[X_train.Glucose == 0].index, axis = 0, inplace = True)\n",
    "y_train.drop(X_train[X_train.Glucose == 0].index, axis = 0, inplace = True)\n",
    "\n",
    "# 나머지 평균대체-방법1)\n",
    "X_train.loc[:,cols].replace(0,X_train[cols].mean(), inplace = True)\n",
    "\n",
    "# 나머지 평균대체-방법2)\n",
    "X_train[cols] = X_train[cols].replace(0, X_train[cols].mean())"
   ]
  },
  {
   "cell_type": "code",
   "execution_count": null,
   "id": "9902d72b",
   "metadata": {},
   "outputs": [],
   "source": [
    "# id 제외\n",
    "X_train_id = X_train.pop('id')\n",
    "X_test_id = X_test.pop('id')\n"
   ]
  },
  {
   "cell_type": "code",
   "execution_count": null,
   "id": "33c33b8b",
   "metadata": {},
   "outputs": [],
   "source": [
    "# Glucose == 0 삭제\n",
    "\n",
    "idx = X_train[X_train.Glucose == 0].index\n",
    "X_train.drop(idx, axis = 0, inplace = True)\n",
    "y_train.drop(idx, axis = 0, inplace = True)"
   ]
  },
  {
   "cell_type": "code",
   "execution_count": null,
   "id": "89575614",
   "metadata": {},
   "outputs": [],
   "source": [
    "# 스케일링\n",
    "\n",
    "from sklearn.preprocessing import StandardScaler\n",
    "ss = StandardScaler()\n",
    "X_train = ss.fit_transform(X_train)\n",
    "X_test = ss.fit_transform(X_test)"
   ]
  },
  {
   "cell_type": "code",
   "execution_count": null,
   "id": "851c8a9e",
   "metadata": {},
   "outputs": [],
   "source": [
    "# 모델링\n",
    "\n",
    "from sklearn.svm import SVC\n",
    "svc = SVC(random_state=2022)\n",
    "svc.fit(X_train, y_train.Outcome)\n",
    "pred = svc.predict(X_test)"
   ]
  },
  {
   "cell_type": "code",
   "execution_count": null,
   "id": "3d61bcc6",
   "metadata": {},
   "outputs": [],
   "source": [
    "# 오버피팅 되었을 경우에 점수가 잘나올 수 있음 (객관적인 평가 아님, 밸리데이션 데이터로 평가 필요함)\n",
    "round(svc.score(X_train, y_train['Outcome']) * 100, 2) "
   ]
  },
  {
   "cell_type": "markdown",
   "id": "f09fccb1",
   "metadata": {},
   "source": [
    "## T2-3. Adult Census Income Tutorial\n",
    "\n",
    "income: 수익(예측해야하는 값)"
   ]
  },
  {
   "cell_type": "code",
   "execution_count": null,
   "id": "9fd6b091",
   "metadata": {},
   "outputs": [],
   "source": [
    "# 타겟 수 확인\n",
    "y_train['income'].value_counts()\n",
    "\n",
    "# id 구분\n",
    "X_train_id = X_train.pop('id')\n",
    "X_test_id = X_test.pop('id')\n",
    "\n",
    "# 피처 구분\n",
    "obj_col = X_train.select_dtypes('object').columns\n",
    "int_col = X_train.select_dtypes(exclude = 'object').columns\n",
    "\n",
    "X_train.describe()\n",
    "X_train[obj_col].describe()   "
   ]
  },
  {
   "cell_type": "code",
   "execution_count": null,
   "id": "b55fdc7e",
   "metadata": {},
   "outputs": [],
   "source": [
    "# 결측치 처리: 최빈값이 비율이 높으면 최빈값으로, 그렇지 않으면 null값으로 대체\n",
    "\n",
    "X_train.isnull().sum()\n",
    "X_test.isnull().sum()\n",
    "X_train['native.country'].value_counts()\n",
    "\n",
    "def df_fn(df):\n",
    "    df.workclass.fillna(df.workclass.mode()[0], inplace = True)\n",
    "    df['native.country'].fillna(df['native.country'].mode()[0], inplace = True)\n",
    "    df.occupation.fillna('null', inplace = True)\n",
    "    return df\n",
    "\n",
    "X_train = df_fn(X_train)\n",
    "X_test = df_fn(X_test)"
   ]
  },
  {
   "cell_type": "code",
   "execution_count": null,
   "id": "af7b9f75",
   "metadata": {},
   "outputs": [],
   "source": [
    "# 라벨인코딩\n",
    "from sklearn.preprocessing import LabelEncoder\n",
    "le = LabelEncoder()\n",
    "X_train[obj_col] = X_train[obj_col].apply(le.fit_transform)\n",
    "X_test[obj_col] = X_test[obj_col].apply(le.fit_transform)\n",
    "\n",
    "# 스케일링\n",
    "from sklearn.preprocessing import MinMaxScaler\n",
    "mm = MinMaxScaler()\n",
    "X_train[int_col] = mm.fit_transform(X_train[int_col])\n",
    "X_test[int_col] = mm.transform(X_test[int_col])"
   ]
  },
  {
   "cell_type": "code",
   "execution_count": null,
   "id": "ec3cb1cf",
   "metadata": {},
   "outputs": [],
   "source": [
    "# 데이터 분리\n",
    "\n",
    "# target값 변경\n",
    "y = (y_train['income'] != '<=50K').astype(int)\n",
    "y[:5]\n",
    "\n",
    "from sklearn.model_selection import train_test_split\n",
    "X_tr, X_val, y_tr, y_val = train_test_split(X_train, y, test_size=0.15, random_state=2021)\n",
    "X_tr.shape, X_val.shape, y_tr.shape, y_val.shape"
   ]
  },
  {
   "cell_type": "code",
   "execution_count": null,
   "id": "1196b646",
   "metadata": {},
   "outputs": [],
   "source": [
    "# 모델 및 평가\n",
    "\n",
    "from sklearn.metrics import accuracy_score\n",
    "from sklearn.tree import DecisionTreeClassifier\n",
    "model_tree = DecisionTreeClassifier(random_state = 2022)\n",
    "model_tree.fit(X_tr, y_tr)\n",
    "pred = model_tree.predict(X_val)\n",
    "print('accuracy score:', (accuracy_score(y_val, pred)))\n",
    "\n",
    "from sklearn.ensemble import RandomForestClassifier\n",
    "model_rf = RandomForestClassifier(random_state = 2022)\n",
    "model_rf.fit(X_tr, y_tr)\n",
    "pred = model_rf.predict(X_val)\n",
    "print('accuracy score:', (accuracy_score(y_val, pred)))"
   ]
  },
  {
   "cell_type": "code",
   "execution_count": null,
   "id": "2b7a4d47",
   "metadata": {},
   "outputs": [],
   "source": [
    "# 예측\n",
    "\n",
    "pred = model_rf.predict(X_test)\n",
    "\n",
    "# csv생성\n",
    "output = pd.DataFrame({'id': X_test_id, 'income':pred})\n",
    "output.to_csv(\"000000.csv\", index=False)\n",
    "output.head()"
   ]
  },
  {
   "cell_type": "code",
   "execution_count": null,
   "id": "02092b28",
   "metadata": {},
   "outputs": [],
   "source": [
    "# 채점\n",
    "\n",
    "y_test = (y_test['income'] != '<=50K').astype(int)\n",
    "from sklearn.metrics import accuracy_score\n",
    "print('accuracy score:', (accuracy_score(y_test, pred)))"
   ]
  },
  {
   "cell_type": "markdown",
   "id": "4523856c",
   "metadata": {},
   "source": [
    "## T2-4. House Prices Regression\n",
    "\n",
    "예측할 변수 ['SalePrice']\n",
    "\n",
    "평가: rmse, r2\n",
    "- rmse는 낮을 수록 좋은 성능\n",
    "- r2는 높을 수록 좋은 성능"
   ]
  },
  {
   "cell_type": "code",
   "execution_count": null,
   "id": "414da61c",
   "metadata": {},
   "outputs": [],
   "source": [
    "pd.set_option(\"display.max_columns\", 100)\n",
    "display(X_train.head())\n",
    "display(X_test.head())"
   ]
  },
  {
   "cell_type": "code",
   "execution_count": null,
   "id": "65072853",
   "metadata": {},
   "outputs": [],
   "source": [
    "# y_train 분포 확인\n",
    "y_train['SalePrice'].hist()\n",
    "\n",
    "# 결측치 확인\n",
    "X_train.isnull().sum().sort_values(ascending=False)[:20]"
   ]
  },
  {
   "cell_type": "markdown",
   "id": "e5b2bf1c",
   "metadata": {},
   "source": [
    "### 결측치 처리방법\n",
    "#### 1) 해당 row 제외\n",
    "    - dropna(subset = ['featureX'])\n",
    "#### 2) 해당 feature 삭제\n",
    "    - drop('featureX', axis = 1)\n",
    "#### 3) 대표값으로 채움\n",
    "    - df.featureX.fillna(theValue, inplace = True)\n",
    "        - 평균값, 중앙값 등\n",
    "    - 결측값을 갖는 특성이 데이터셋에 많을 때: SimpleImputer\n",
    "        - SimpleImputer 클래스 객체 생성 \n",
    "            - missing_values: (디폴트: np.nan)\n",
    "            - strategy: mean, median, most_frequent (디폴트: 평균)\n",
    "                - 값의 분포가 대칭적이면 평균\n",
    "                - 값의 분포가 비대칭적이면 중앙값\n",
    "                - 데이터 범주형이나 정수이면 최빈값\n",
    "            - fit_value: strategy가 constant면 대체할 상수값 (디폴트: 0)\n",
    "        - fit_transform"
   ]
  },
  {
   "cell_type": "code",
   "execution_count": 4,
   "id": "64910840",
   "metadata": {},
   "outputs": [
    {
     "data": {
      "text/html": [
       "<style>#sk-container-id-1 {color: black;background-color: white;}#sk-container-id-1 pre{padding: 0;}#sk-container-id-1 div.sk-toggleable {background-color: white;}#sk-container-id-1 label.sk-toggleable__label {cursor: pointer;display: block;width: 100%;margin-bottom: 0;padding: 0.3em;box-sizing: border-box;text-align: center;}#sk-container-id-1 label.sk-toggleable__label-arrow:before {content: \"▸\";float: left;margin-right: 0.25em;color: #696969;}#sk-container-id-1 label.sk-toggleable__label-arrow:hover:before {color: black;}#sk-container-id-1 div.sk-estimator:hover label.sk-toggleable__label-arrow:before {color: black;}#sk-container-id-1 div.sk-toggleable__content {max-height: 0;max-width: 0;overflow: hidden;text-align: left;background-color: #f0f8ff;}#sk-container-id-1 div.sk-toggleable__content pre {margin: 0.2em;color: black;border-radius: 0.25em;background-color: #f0f8ff;}#sk-container-id-1 input.sk-toggleable__control:checked~div.sk-toggleable__content {max-height: 200px;max-width: 100%;overflow: auto;}#sk-container-id-1 input.sk-toggleable__control:checked~label.sk-toggleable__label-arrow:before {content: \"▾\";}#sk-container-id-1 div.sk-estimator input.sk-toggleable__control:checked~label.sk-toggleable__label {background-color: #d4ebff;}#sk-container-id-1 div.sk-label input.sk-toggleable__control:checked~label.sk-toggleable__label {background-color: #d4ebff;}#sk-container-id-1 input.sk-hidden--visually {border: 0;clip: rect(1px 1px 1px 1px);clip: rect(1px, 1px, 1px, 1px);height: 1px;margin: -1px;overflow: hidden;padding: 0;position: absolute;width: 1px;}#sk-container-id-1 div.sk-estimator {font-family: monospace;background-color: #f0f8ff;border: 1px dotted black;border-radius: 0.25em;box-sizing: border-box;margin-bottom: 0.5em;}#sk-container-id-1 div.sk-estimator:hover {background-color: #d4ebff;}#sk-container-id-1 div.sk-parallel-item::after {content: \"\";width: 100%;border-bottom: 1px solid gray;flex-grow: 1;}#sk-container-id-1 div.sk-label:hover label.sk-toggleable__label {background-color: #d4ebff;}#sk-container-id-1 div.sk-serial::before {content: \"\";position: absolute;border-left: 1px solid gray;box-sizing: border-box;top: 0;bottom: 0;left: 50%;z-index: 0;}#sk-container-id-1 div.sk-serial {display: flex;flex-direction: column;align-items: center;background-color: white;padding-right: 0.2em;padding-left: 0.2em;position: relative;}#sk-container-id-1 div.sk-item {position: relative;z-index: 1;}#sk-container-id-1 div.sk-parallel {display: flex;align-items: stretch;justify-content: center;background-color: white;position: relative;}#sk-container-id-1 div.sk-item::before, #sk-container-id-1 div.sk-parallel-item::before {content: \"\";position: absolute;border-left: 1px solid gray;box-sizing: border-box;top: 0;bottom: 0;left: 50%;z-index: -1;}#sk-container-id-1 div.sk-parallel-item {display: flex;flex-direction: column;z-index: 1;position: relative;background-color: white;}#sk-container-id-1 div.sk-parallel-item:first-child::after {align-self: flex-end;width: 50%;}#sk-container-id-1 div.sk-parallel-item:last-child::after {align-self: flex-start;width: 50%;}#sk-container-id-1 div.sk-parallel-item:only-child::after {width: 0;}#sk-container-id-1 div.sk-dashed-wrapped {border: 1px dashed gray;margin: 0 0.4em 0.5em 0.4em;box-sizing: border-box;padding-bottom: 0.4em;background-color: white;}#sk-container-id-1 div.sk-label label {font-family: monospace;font-weight: bold;display: inline-block;line-height: 1.2em;}#sk-container-id-1 div.sk-label-container {text-align: center;}#sk-container-id-1 div.sk-container {/* jupyter's `normalize.less` sets `[hidden] { display: none; }` but bootstrap.min.css set `[hidden] { display: none !important; }` so we also need the `!important` here to be able to override the default hidden behavior on the sphinx rendered scikit-learn.org. See: https://github.com/scikit-learn/scikit-learn/issues/21755 */display: inline-block !important;position: relative;}#sk-container-id-1 div.sk-text-repr-fallback {display: none;}</style><div id=\"sk-container-id-1\" class=\"sk-top-container\"><div class=\"sk-text-repr-fallback\"><pre>SimpleImputer()</pre><b>In a Jupyter environment, please rerun this cell to show the HTML representation or trust the notebook. <br />On GitHub, the HTML representation is unable to render, please try loading this page with nbviewer.org.</b></div><div class=\"sk-container\" hidden><div class=\"sk-item\"><div class=\"sk-estimator sk-toggleable\"><input class=\"sk-toggleable__control sk-hidden--visually\" id=\"sk-estimator-id-1\" type=\"checkbox\" checked><label for=\"sk-estimator-id-1\" class=\"sk-toggleable__label sk-toggleable__label-arrow\">SimpleImputer</label><div class=\"sk-toggleable__content\"><pre>SimpleImputer()</pre></div></div></div></div></div>"
      ],
      "text/plain": [
       "SimpleImputer()"
      ]
     },
     "execution_count": 4,
     "metadata": {},
     "output_type": "execute_result"
    }
   ],
   "source": [
    "from sklearn.impute import SimpleImputer\n",
    "import numpy as np\n",
    "imputer = SimpleImputer(missing_values=np.nan, strategy='mean')\n",
    "imputer.fit([[7, 2, 3], [4, np.nan, 6], [10, 5, 9]])"
   ]
  },
  {
   "cell_type": "code",
   "execution_count": 5,
   "id": "83858c6e",
   "metadata": {},
   "outputs": [
    {
     "data": {
      "text/plain": [
       "array([[ 7. ,  2. ,  3. ],\n",
       "       [ 4. ,  3.5,  6. ],\n",
       "       [10. ,  3.5,  9. ]])"
      ]
     },
     "execution_count": 5,
     "metadata": {},
     "output_type": "execute_result"
    }
   ],
   "source": [
    "X = [[np.nan, 2, 3], [4, np.nan, 6], [10, np.nan, 9]]\n",
    "imputer.transform(X)"
   ]
  },
  {
   "cell_type": "code",
   "execution_count": null,
   "id": "d8a51257",
   "metadata": {},
   "outputs": [],
   "source": [
    "# 결측치 확인\n",
    "import missingno as msno\n",
    "\n",
    "msno.matrix(df)\n",
    "plt.show()\n",
    "\n",
    "masno.bar(df)\n",
    "plt.show()"
   ]
  },
  {
   "cell_type": "code",
   "execution_count": null,
   "id": "14eb9659",
   "metadata": {},
   "outputs": [],
   "source": [
    "# 결측치 분포 확인\n",
    "sns.kdeplot(df.featureX)\n",
    "plt.show()"
   ]
  },
  {
   "cell_type": "code",
   "execution_count": null,
   "id": "f2641316",
   "metadata": {},
   "outputs": [],
   "source": [
    "# 특정 갯수 이상의 비결측 데이터가 있는 행 또는 열만 남긴다\n",
    "df.dropna(thresh=7, axis=1)"
   ]
  },
  {
   "cell_type": "code",
   "execution_count": null,
   "id": "2dec1017",
   "metadata": {},
   "outputs": [],
   "source": [
    "# 결측치 채우기\n",
    "from sklearn.impute import SimpleImputer\n",
    "\n",
    "imp = SimpleImputer()\n",
    "X_train = imp.fit_transform(X_train)\n",
    "X_test = imp.fit_transform(X_test)"
   ]
  },
  {
   "cell_type": "code",
   "execution_count": null,
   "id": "be9234fe",
   "metadata": {},
   "outputs": [],
   "source": [
    "# train-test split\n",
    "from sklearn.model_selection import train_test_split\n",
    "X_tr, X_val, y_tr, y_val = train_test_split(X_train, target, test_size=0.15, random_state=2022)\n",
    "X_tr.shape, X_val.shape, y_tr.shape, y_val.shape\n",
    "\n",
    "# 모델\n",
    "from sklearn.ensemble import RandomForestRegressor\n",
    "from xgboost import XGBRegressor\n",
    "\n",
    "xgb = XGBRegressor()\n",
    "xgb.fit(X_tr, y_tr)\n",
    "pred_xgb = xgb.predict(X_val)\n",
    "\n",
    "rf = RandomForestRegressor()\n",
    "rf.fit(X_tr, y_tr)\n",
    "pred_rf = rf.predict(X_val)\n",
    "\n",
    "# 평가\n",
    "from sklearn.metrics import mean_squared_error, r2_score\n",
    "def rmse(y, y_pred):\n",
    "    return np.sqrt(mean_squared_error(y, y_pred))\n",
    "\n",
    "print(\"R2(XGB): \" + str(r2_score(y_val, pred_xgb)))\n",
    "print(\"RMSE(XGB): \" + str(rmse(y_val, pred_xgb)))\n",
    "print(\"R2(RF): \" + str(r2_score(y_val, pred_rf)))\n",
    "print(\"RMSE(RF): \" + str(rmse(y_val, pred_rf)))\n"
   ]
  },
  {
   "cell_type": "code",
   "execution_count": null,
   "id": "dec54272",
   "metadata": {},
   "outputs": [],
   "source": [
    "# 파이널 모델\n",
    "final_model = rf\n",
    "final_model.fit(X_train, target)\n",
    "\n",
    "prediction = final_model.predict(X_test)\n",
    "\n",
    "# 제출파일\n",
    "submission = pd.DataFrame(data={\n",
    "    'Id': y_test.Id,\n",
    "    'income' : prediction\n",
    "})\n",
    "\n",
    "# 마지막 확인\n",
    "submission.head()\n",
    "\n",
    "# 저장\n",
    "submission.to_csv(\"12345.csv\", index=False)"
   ]
  },
  {
   "cell_type": "markdown",
   "id": "cdc9116a",
   "metadata": {},
   "source": [
    "## T2-5. Insurance Forcast Regression"
   ]
  },
  {
   "cell_type": "code",
   "execution_count": null,
   "id": "9983d80a",
   "metadata": {},
   "outputs": [],
   "source": [
    "# 전처리\n",
    "\n",
    "## 범주형변수 변환\n",
    "X_train = pd.get_dummies(X_train, columns = cols)\n",
    "X_test = pd.get_dummies(X_test, columns = cols)\n",
    "\n",
    "# 종속변수 로그변환\n",
    "y_train['charges'].hist()\n",
    "y_train['charges'] = np.log1p(y_train['charges'])\n",
    "y_train['charges'].hist()\n",
    "\n",
    "# 정규화\n",
    "from sklearn.preprocessing import StandardScaler\n",
    "scaler = StandardScaler()\n",
    "X_train['bmi'] = scaler.fit_transform(X_train[['bmi']])\n",
    "X_test['bmi'] = scaler.transform(X_test[['bmi']])\n",
    "\n",
    "# 라벨인코딩(나이를 10대, 20대, 30대로 구분하기 위해 10을 나눈 몫 값만 구함)\n",
    "X_train['age'] = X_train['age'].apply(lambda x: x//10)\n",
    "X_test['age'] = X_test['age'].apply(lambda x: x//10)"
   ]
  },
  {
   "cell_type": "code",
   "execution_count": null,
   "id": "e7e085f6",
   "metadata": {},
   "outputs": [],
   "source": [
    "# 모델링 1) 랜덤포레스트\n",
    "from sklearn.ensemble import RandomForestRegressor\n",
    "\n",
    "rf = RandomForestRegressor()\n",
    "rf.fit(X_tr, y_tr)\n",
    "pred_rf = rf.predict(X_val)\n",
    "\n",
    "# 모델링 2) XGBoost\n",
    "from xgboost import XGBRegressor\n",
    "\n",
    "xgb = XGBRegressor()\n",
    "xgb.fit(X_tr, y_tr)\n",
    "pred_xgb = xgb.predict(X_val)\n",
    "\n",
    "\n",
    "# 평가\n",
    "from sklearn.metrics import mean_squared_error\n",
    "def rmse(y_true, y_pred):\n",
    "    return np.sqrt(np.mean((y_true-y_pred)**2))\n",
    "def rmse2(y_true, y_pred):\n",
    "    return np.sqrt(mean_squared_error(y_true, y_pred))\n",
    "\n",
    "rmse(y_val, pred_rf), rmse2(y_val, pred_rf), rmse2(y_val, pred_xgb)"
   ]
  },
  {
   "cell_type": "code",
   "execution_count": null,
   "id": "90ca88c8",
   "metadata": {},
   "outputs": [],
   "source": [
    "# 결과\n",
    "rf.fit(X_train, y_train['charges'])\n",
    "pred_rf = rf.predict(X_test.drop('id',1))\n",
    "pred = np.exp(pred_rf)\n",
    "output = pd.DataFrame({'id': y_test['id'], 'charges':pred})\n",
    "output.head()\n",
    "\n",
    "# 저장\n",
    "output.to_csv(\"000000.csv\", index=False)\n",
    "\n",
    "# 채점\n",
    "rmse(y_test['charges'], pred)"
   ]
  },
  {
   "cell_type": "markdown",
   "id": "610f8e00",
   "metadata": {},
   "source": [
    "## T2-6. Bike 수요 예측Regression"
   ]
  },
  {
   "cell_type": "code",
   "execution_count": null,
   "id": "ae412929",
   "metadata": {},
   "outputs": [],
   "source": []
  },
  {
   "cell_type": "markdown",
   "id": "62326b8e",
   "metadata": {},
   "source": [
    "## T2 Tutorial\n",
    "\n",
    "https://www.kaggle.com/code/agileteam/mock-exam-t2-starter-tutorial/notebook"
   ]
  },
  {
   "cell_type": "code",
   "execution_count": null,
   "id": "50c00acf",
   "metadata": {},
   "outputs": [],
   "source": []
  }
 ],
 "metadata": {
  "kernelspec": {
   "display_name": "Python 3 (ipykernel)",
   "language": "python",
   "name": "python3"
  },
  "language_info": {
   "codemirror_mode": {
    "name": "ipython",
    "version": 3
   },
   "file_extension": ".py",
   "mimetype": "text/x-python",
   "name": "python",
   "nbconvert_exporter": "python",
   "pygments_lexer": "ipython3",
   "version": "3.10.4"
  }
 },
 "nbformat": 4,
 "nbformat_minor": 5
}
