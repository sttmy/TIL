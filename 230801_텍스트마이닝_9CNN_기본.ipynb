{
  "nbformat": 4,
  "nbformat_minor": 0,
  "metadata": {
    "colab": {
      "provenance": []
    },
    "kernelspec": {
      "name": "python3",
      "display_name": "Python 3"
    },
    "language_info": {
      "name": "python"
    }
  },
  "cells": [
    {
      "cell_type": "code",
      "execution_count": null,
      "metadata": {
        "id": "9tmdrWSZ8k7k"
      },
      "outputs": [],
      "source": [
        "A. CNN(Convolutional Neural Network)\n",
        "\n",
        "1) 이미지를 작은 구역으로 나누어 부분적인 특징을 인식하고 이것을 결합하여 전체를 인식하는 알고리즘\n",
        "2) 이미지 인식에 성능이 뛰어나며 최근 텍스트 분류에도 많이 사용되고 있음\n",
        "\n",
        "3) 텍스트 데이터를 word2vec을 적용하여 벡터로 변환한 후 CNN에 입력하여 분석하는 모델\n",
        "\n",
        "\n",
        "B. 합성곱 신경망(CNN)\n",
        "\n",
        "1) CNN(Convolutional Neural Network)\n",
        "\n",
        "사람의 시각 구조를 모델링한 기계학습 방법\n",
        "이미지 인식 분야에서 많이 사용됨\n",
        "500만개의 시세포에서 150만개의 추체로 정보가 전달됨(망막에서 정보가 압축되어 전달됨)\n",
        "\n",
        "단순형 세포 : 합성곱계층의 노드에 해당\n",
        "복잡형 세포 : 맥스풀링층의 노드에 해당\n",
        "\n",
        "2) 합성곱 계층\n",
        "2x2 필터 1개,             4x4 이미지                  결과물은 3x3\n",
        "\n",
        "필터와 이미지의 해당되는 부분에 곱한 값들을 합친 값\n",
        "\n",
        "1x2 + 0x2 + 0x1 + 1x1 = 3\n",
        "\n",
        "1x2 + 0x1 + 0x1 + 1x2 = 4\n",
        "\n",
        "합성곱을 적용하면 원래 이미지보다 크기가 줄어들게 됨\n",
        "\n",
        "필터의 값에 따라 합성곱의 결과가 달라질 수 있음\n",
        "\n",
        "컬러 이미지의 경우 채널수가 3, 4개의 필터\n",
        "\n",
        "3) 맥스풀링 계층\n",
        "이미지를 여러 영역으로 나누고 각 영역을 대표하는 최대값을 추출해서 새로운 이미지를 만드는 계층\n",
        "\n",
        "8x8 이미지에 대해 2x2 맥스풀링을 하면 이미지 크기가 4x4가 됨\n",
        "\n",
        "맥스풀링 처리를 하면 이미지가 축소되고 흐릿하게 처리됨(이미지의 크기가 축소되고 계산량이 감소하는 효과)\n",
        "\n",
        "4) 완전연결계층\n",
        "\n",
        "이미지를 벡터로 변환하는 계층\n",
        "\n",
        "이미지의 높이 H, 너비 W, 채널수 F라면 완전연결계층에는 HxWxF 벡터로 입력됨\n",
        "\n",
        "5) 패딩\n",
        "\n",
        "합성곱 계층을 통과하면 사이즈가 줄어들게 되는데 이것을 방지하기 위한 기법(합성곱 계층을 여러번 통과하면 마지막에는 이미지 크기가 1x1로 줄어들 수도 있음)\n",
        "\n",
        "6) 스트라이드(stride)\n",
        "\n",
        "필터가 이동하는 간격\n",
        "\n",
        "기본값은 1이며 스트라이드가 2 이상이 되면 이미지의 특징을 포착하기 어려울 수 있음\n",
        "\n",
        "\n",
        "\n",
        "C. 합성곱 신경망(CNN)\n",
        "\n",
        "* 합성곱 연산 : 필터를 뒤집고 각 자리마다 곱한 값을 합산하는 연산\n",
        "\n",
        "\n",
        "\n",
        "\n",
        "\n",
        "* 교차상관 : 필터를 뒤집지 않고 곱하는 방식\n",
        "\n",
        "CNN에서는 합성곱을 사용하지 않고 교차상관을 사용함\n",
        "\n",
        "필터에는 무작위로 초기화된 값을 사용하므로 뒤집거나 뒤집지 않거나 큰 관계가 없음\n",
        "\n",
        "* 합성곱 연산 mode\n",
        "\n",
        "mode='valid' 에서는 양끝 값의 연산 참여도가 낮음\n",
        "\n",
        "mode='full' : 모든 값의 연산 참여도가 같음\n",
        "\n",
        "mode='same' : 원본과 같은 사이즈가 되도록 하는 방식"
      ]
    },
    {
      "cell_type": "code",
      "source": [
        "import numpy as np\n",
        "w = np.array([2,1,5,3])    # 필터(커널)\n",
        "x = np.array([2,8,3,7,1,2,0,4,5])\n",
        "\n",
        "# w 배열을 뒤집어서 출력\n",
        "w_r = np.flip(w)\n",
        "print(w_r)"
      ],
      "metadata": {
        "colab": {
          "base_uri": "https://localhost:8080/"
        },
        "id": "RVBSXd7r-v_K",
        "outputId": "4c78db51-a68f-4506-d245-b905d22f7fed"
      },
      "execution_count": 1,
      "outputs": [
        {
          "output_type": "stream",
          "name": "stdout",
          "text": [
            "[3 5 1 2]\n"
          ]
        }
      ]
    },
    {
      "cell_type": "code",
      "source": [
        "# 합성곱 계산\n",
        "# w_r을 x의 왼쪽 자리에 맞추고 각 인덱스마다 곱한 후 더함\n",
        "# 2x3 + 8x5 + 3x1 + 7x2 = 63\n",
        "# w_r을 오른쪽으로 한자리 shift하여 곱셈\n",
        "for i in range(6):\n",
        "  print(np.dot(x[i:i+4], w_r))\n",
        "\n",
        "  # 원본 : 2, 8, 3, 7, 1, 2, 0, 4, 5   len:9\n",
        "  # 합성곱: 63 48 49 28 21 20         len:6  사이즈가 줄어듦"
      ],
      "metadata": {
        "colab": {
          "base_uri": "https://localhost:8080/"
        },
        "id": "2Jur_DZ3-4nT",
        "outputId": "22823efc-74b1-4e01-a19e-dab94f7cb59d"
      },
      "execution_count": 2,
      "outputs": [
        {
          "output_type": "stream",
          "name": "stdout",
          "text": [
            "63\n",
            "48\n",
            "49\n",
            "28\n",
            "21\n",
            "20\n"
          ]
        }
      ]
    },
    {
      "cell_type": "code",
      "source": [
        "# 사이파이에서 제공하는 합성곱 함수\n",
        "# w를 뒤집어서 곱하는 방식\n",
        "\n",
        "from scipy.signal import convolve\n",
        "\n",
        "# valid - 원본 배열에 패딩을 추가하지 않는 방식\n",
        "# 원본 이미지가 4x4인 경우 결과물이 3x3으로 줄어드는 방식\n",
        "\n",
        "convolve(x, w, mode='valid')   # 기본방식"
      ],
      "metadata": {
        "colab": {
          "base_uri": "https://localhost:8080/"
        },
        "id": "z-rMZp60_L0y",
        "outputId": "d163fddb-253d-4ea2-def7-80469bab7206"
      },
      "execution_count": 3,
      "outputs": [
        {
          "output_type": "execute_result",
          "data": {
            "text/plain": [
              "array([63, 48, 49, 28, 21, 20])"
            ]
          },
          "metadata": {},
          "execution_count": 3
        }
      ]
    },
    {
      "cell_type": "code",
      "source": [
        "# 합성곱 신경망에서는 w를 뒤집지 않고 그대로 곱하는 교차상관 방식을 사용함\n",
        "# 초기 가중치값은 랜덤으로 만들어지므로 뒤집어서 곱하는 것과 뒤집지 않고 곱하는 것이 큰 의미가 없음\n",
        "# 정확히 표현하면 교차상관이지만 합성곱 신경망이라는 이름을 관례적으로 사용하고 있음\n",
        "# 교차상관 - w를 뒤집지 않고 곱하는 방식\n",
        "\n",
        "from scipy.signal import correlate\n",
        "correlate(x, w, mode='valid')  # 교차상관"
      ],
      "metadata": {
        "colab": {
          "base_uri": "https://localhost:8080/"
        },
        "id": "8kdVfmLE_P8h",
        "outputId": "0bf4cdfe-c191-4bd1-8e1f-28c474d1043a"
      },
      "execution_count": 4,
      "outputs": [
        {
          "output_type": "execute_result",
          "data": {
            "text/plain": [
              "array([48, 57, 24, 25, 16, 39])"
            ]
          },
          "metadata": {},
          "execution_count": 4
        }
      ]
    },
    {
      "cell_type": "code",
      "source": [
        "# full 패딩 - 제로패딩을 한 후 연산을 하게 되면 원본 배열의 모든 원소가 연산에 동일하게 참여하게 됨\n",
        "\n",
        "correlate(x, w, mode='full')   # 모든 값"
      ],
      "metadata": {
        "colab": {
          "base_uri": "https://localhost:8080/"
        },
        "id": "A5e-E6c__bz2",
        "outputId": "0475355e-f0cc-4fbc-987d-a5d66552c4cf"
      },
      "execution_count": 5,
      "outputs": [
        {
          "output_type": "execute_result",
          "data": {
            "text/plain": [
              "array([ 6, 34, 51, 48, 57, 24, 25, 16, 39, 29, 13, 10])"
            ]
          },
          "metadata": {},
          "execution_count": 5
        }
      ]
    },
    {
      "cell_type": "code",
      "source": [
        "# 출력 배열의 길이가 원본 배열의 길이와 같아지도록 제로 패딩을 추가하는 방식\n",
        "# 합성곱 신경망에서 많이 사용하는 방식\n",
        "\n",
        "correlate(x, w, mode='same')   # input-output사이즈 동일"
      ],
      "metadata": {
        "colab": {
          "base_uri": "https://localhost:8080/"
        },
        "id": "bbiSEP4r_ml-",
        "outputId": "f68dc206-2693-4c2e-fd89-2ebb6ba10e32"
      },
      "execution_count": 6,
      "outputs": [
        {
          "output_type": "execute_result",
          "data": {
            "text/plain": [
              "array([34, 51, 48, 57, 24, 25, 16, 39, 29])"
            ]
          },
          "metadata": {},
          "execution_count": 6
        }
      ]
    },
    {
      "cell_type": "code",
      "source": [
        "# 2차원 배열에 대한 합성곱 계산\n",
        "\n",
        "from scipy.signal import correlate2d\n",
        "x = np.array([[1, 2, 3],\n",
        "              [4, 5, 6],\n",
        "              [7, 8, 9]])\n",
        "\n",
        "w = np.array([[2, 0],\n",
        "              [0, 0]])\n",
        "\n",
        "correlate2d(x, w, mode='valid')"
      ],
      "metadata": {
        "colab": {
          "base_uri": "https://localhost:8080/"
        },
        "id": "iABMHmEP_qB2",
        "outputId": "4f01dcb9-cce2-47ce-b6cb-677039cf01ca"
      },
      "execution_count": 7,
      "outputs": [
        {
          "output_type": "execute_result",
          "data": {
            "text/plain": [
              "array([[ 2,  4],\n",
              "       [ 8, 10]])"
            ]
          },
          "metadata": {},
          "execution_count": 7
        }
      ]
    },
    {
      "cell_type": "code",
      "source": [
        "# 제로패딩을 하여 원본과 같은 사이즈로 출력되도록 함\n",
        "\n",
        "x = np.array([[1, 2, 3],\n",
        "              [4, 5, 6],\n",
        "              [7, 8, 9]])\n",
        "\n",
        "w = np.array([[2, 0],\n",
        "              [0, 0]])\n",
        "\n",
        "correlate2d(x, w, mode='same')"
      ],
      "metadata": {
        "colab": {
          "base_uri": "https://localhost:8080/"
        },
        "id": "r13OVm9b_uaC",
        "outputId": "8c245a8a-c05a-4f3b-b14d-d1494ab073ff"
      },
      "execution_count": 8,
      "outputs": [
        {
          "output_type": "execute_result",
          "data": {
            "text/plain": [
              "array([[ 2,  4,  6],\n",
              "       [ 8, 10, 12],\n",
              "       [14, 16, 18]])"
            ]
          },
          "metadata": {},
          "execution_count": 8
        }
      ]
    },
    {
      "cell_type": "code",
      "source": [
        "### 텐서플로에서 지원하는 합성곱 함수\n",
        "\n",
        "import tensorflow as tf\n",
        "\n",
        "# 4차원 배열을 사용해야 함\n",
        "x = np.array([[1, 2, 3],\n",
        "              [4, 5, 6],\n",
        "              [7, 8, 9]])\n",
        "\n",
        "with tf.device('/CPU:0'):\n",
        "    x_4d = x.astype(np.float64).reshape(1, 3, 3, 1)\n",
        "          # 실수형으로 입력해야 함\n",
        "          # 입력값: reshape(batch, height, width, channel)        # channel 흑백일때 1, 컬러일때 3   / 가중치는 필터의 갯수\n",
        "    w_4d = w.reshape(2, 2, 1, 1)  # 필터(가중치) reshape(height,width,channel,가중치의개수)\n",
        "    c_out = tf.nn.conv2d(x_4d, w_4d, strides=1, padding='SAME')  # SAME 대문자로 작성해야 함\n",
        "    print(c_out.numpy().reshape(3, 3))       # 텐서를 넘파이 배열로 변환"
      ],
      "metadata": {
        "colab": {
          "base_uri": "https://localhost:8080/"
        },
        "id": "zSAr1iTy_0Oo",
        "outputId": "4569c14a-d577-47d1-d33d-092c34e672cf"
      },
      "execution_count": 9,
      "outputs": [
        {
          "output_type": "stream",
          "name": "stdout",
          "text": [
            "[[ 2.  4.  6.]\n",
            " [ 8. 10. 12.]\n",
            " [14. 16. 18.]]\n"
          ]
        }
      ]
    },
    {
      "cell_type": "code",
      "source": [
        "# 맥스풀링\n",
        "x = np.array([[1, 2, 3, 4],\n",
        "              [5, 6, 7, 8],\n",
        "              [9, 10, 11, 12],\n",
        "              [13, 14, 15, 16]])\n",
        "x = x.reshape(1, 4, 4, 1)\n",
        "# reshape(샘플수, height, width, channel)\n",
        "\n",
        "# ksize 커널사이즈 2x2, strides 이동간격\n",
        "with tf.device('/CPU:0'):\n",
        "    p_out=tf.nn.max_pool2d(x,ksize=2,strides=2,padding='SAME')\n",
        "    print(p_out.numpy().reshape(2,2))"
      ],
      "metadata": {
        "colab": {
          "base_uri": "https://localhost:8080/"
        },
        "id": "EwPC0G9aAHfc",
        "outputId": "a60cd84a-c1ac-40c9-95b0-8df8210acc82"
      },
      "execution_count": 10,
      "outputs": [
        {
          "output_type": "stream",
          "name": "stdout",
          "text": [
            "[[ 6.  8.]\n",
            " [14. 16.]]\n"
          ]
        }
      ]
    },
    {
      "cell_type": "code",
      "source": [
        "# 장점: 계산량이 줄어드는 효과 / 윤곽을 뽑아내게 됨\n",
        "# 이미지분석에 많이 사용"
      ],
      "metadata": {
        "id": "J6JyG8NoARjV"
      },
      "execution_count": 10,
      "outputs": []
    }
  ]
}