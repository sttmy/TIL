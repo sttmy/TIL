{
 "cells": [
  {
   "cell_type": "markdown",
   "metadata": {},
   "source": [
    "#### Bag of Words(BoW) \n",
    "- 단어의 등장 순서를 고려하지 않는 빈도수 기반의 텍스트 데이터의 수치화 방법\n",
    "- 가방에 단어들을 넣으면 순서가 중요하지 않음\n",
    "- 각 단어에 고유한 인덱스를 부여하고 각 인덱스의 위치에 단어의 출현 횟수를 저장"
   ]
  },
  {
   "cell_type": "code",
   "execution_count": 2,
   "metadata": {},
   "outputs": [
    {
     "name": "stdout",
     "output_type": "stream",
     "text": [
      "['비', '가', '오니', '마음', '이', '차분해지네요', '요즘', '너무', '더웠어요', '비', '가', '오니', '마음', '이', '기쁘네요']\n"
     ]
    }
   ],
   "source": [
    "# 토큰화(형태소 분석)\n",
    "\n",
    "from konlpy.tag import Okt  \n",
    "import re \n",
    "okt=Okt() \n",
    "token=re.sub(\"[.!#~]\",\"\",\n",
    "             '비가 오니 마음이 차분해지네요. 요즘 너무 더웠어요. 비가 오니 마음이 기쁘네요.')\n",
    "token=okt.morphs(token)\n",
    "print(token)"
   ]
  },
  {
   "cell_type": "code",
   "execution_count": 3,
   "metadata": {},
   "outputs": [
    {
     "name": "stdout",
     "output_type": "stream",
     "text": [
      "{'비': 0, '가': 1, '오니': 2, '마음': 3, '이': 4, '차분해지네요': 5, '요즘': 6, '너무': 7, '더웠어요': 8, '기쁘네요': 9}\n"
     ]
    }
   ],
   "source": [
    "word2index={}  #단어 사전(단어와 숫자 인덱스)\n",
    "bow=[]  #단어 가방(단어와 출현 횟수)\n",
    "for voca in token:  \n",
    "    #사전에 없는 단어 추가\n",
    "    if voca not in word2index.keys():  \n",
    "        word2index[voca]=len(word2index)  \n",
    "        #단어의 인덱스와 출현횟수(기본값:1)\n",
    "        bow.insert(len(word2index)-1,1)\n",
    "    else:\n",
    "        #재등장하는 단어의 인덱스\n",
    "        index=word2index.get(voca)\n",
    "        #단어 카운트 증가\n",
    "        bow[index]=bow[index]+1\n",
    "print(word2index)  "
   ]
  },
  {
   "cell_type": "code",
   "execution_count": 4,
   "metadata": {},
   "outputs": [
    {
     "name": "stdout",
     "output_type": "stream",
     "text": [
      "[2, 2, 2, 2, 2, 1, 1, 1, 1, 1]\n"
     ]
    }
   ],
   "source": [
    "#단어의 출현 횟수\n",
    "print(bow)"
   ]
  },
  {
   "cell_type": "code",
   "execution_count": 11,
   "metadata": {},
   "outputs": [
    {
     "name": "stdout",
     "output_type": "stream",
     "text": [
      "{'모처럼': 1, '전국에': 4, '비가': 2, '내리고': 0, '있습니다': 3}\n",
      "[[0 0 1 0 1]]\n",
      "[[0 1 0 1 0]]\n"
     ]
    }
   ],
   "source": [
    "# CountVectorizer: 문서 집합에서 단어 토큰을 생성하고 각 단어의 수를 세어 BOW 인코딩한 벡터를 만드는 클래스\n",
    "# 단어를 세서 벡터화(vectorize)함. 문서에서 어떤 단어가 몇 번 등장했는지 추출(extraction)\n",
    "# 토크나이징+벡터화 동시에 처리\n",
    "# 희소행렬 사용 (메모리 부족 문제 방지)\n",
    "\n",
    "from sklearn.feature_extraction.text import CountVectorizer\n",
    "\n",
    "corpus=['모처럼 전국에 비가 내리고 있습니다.']\n",
    "line=['전국에 비가']\n",
    "lines = ['모처럼 있습니다']\n",
    "vector = CountVectorizer()\n",
    "vector.fit(corpus)\n",
    "print(vector.vocabulary_)   # 각 열이 의미하는 바\n",
    "print(vector.transform(line).toarray()) #단어가 출현한 위치에 1 표시\n",
    "print(vector.transform(lines).toarray()) #단어가 출현한 위치에 1 표시"
   ]
  },
  {
   "cell_type": "code",
   "execution_count": 13,
   "metadata": {},
   "outputs": [
    {
     "data": {
      "text/plain": [
       "array([[1, 1, 1, 1, 1]], dtype=int64)"
      ]
     },
     "execution_count": 13,
     "metadata": {},
     "output_type": "execute_result"
    }
   ],
   "source": [
    "vector.transform(corpus).toarray()"
   ]
  },
  {
   "cell_type": "code",
   "execution_count": 6,
   "metadata": {},
   "outputs": [
    {
     "name": "stdout",
     "output_type": "stream",
     "text": [
      "[[1 1 1 1 2 1 1 1 1 1 1 1 1 1 2 1 1 1 1 1 1 1 1]]\n",
      "{'모처럼': 7, '전국에': 18, '비가': 11, '내리고': 2, '있습니다': 16, '대부분': 3, '밤까지': 9, '계속되기': 1, '때문에': 4, '종일': 19, '우산이': 15, '필요하겠는데요': 22, '비의': 12, '양도': 13, '많고': 5, '바람도': 8, '강하게': 0, '불기': 10, '작은': 17, '우산': 14, '말고': 6, '챙기는': 21, '좋습니다': 20}\n"
     ]
    }
   ],
   "source": [
    "from sklearn.feature_extraction.text import CountVectorizer\n",
    "\n",
    "corpus = ['''모처럼 전국에 비가 내리고 있습니다.\n",
    "          대부분 밤까지 계속되기 때문에 종일 우산이 필요하겠는데요\n",
    "          비의 양도 많고 바람도 강하게 불기 때문에 작은 우산 말고 큰 우산 챙기는 게 더 좋습니다. ''']\n",
    "\n",
    "# 문서 집합에서 단어 토큰을 생성하고 각 단어의 수를 세어 BOW 인코딩한 벡터를 만드는 클래스\n",
    "vector = CountVectorizer()\n",
    "\n",
    "# 코퍼스로부터 각 단어의 빈도수 계산\n",
    "# 단어들의 출현 횟수\n",
    "print(vector.fit_transform(corpus).toarray())  \n",
    "\n",
    "# 만들어진 단어와 인덱스\n",
    "print(vector.vocabulary_)"
   ]
  },
  {
   "cell_type": "code",
   "execution_count": 8,
   "metadata": {},
   "outputs": [
    {
     "data": {
      "text/plain": [
       "['이미지 음악 저작권 문제 해결 기업 수익 연결 이소연 기자 입력 타임 톡 음성 듣기 번역 설정 글씨 크기 조절 인쇄 지니 뮤직 저작권 문제 협회 해결 상태 서비스 공개 업계 저작권 문제 향후 수익 돌 저작권 문제 데이터 확보 기업 필수 지니 뮤직 음원 편곡 서비스 지니 뮤직 웹사이트 캡쳐 지니 뮤직 음원 편곡 서비스 지니 뮤직 웹사이트 캡쳐 기업 원 창작 허락 훈련 데이터 기반 인공 지능 서비스 창작물 관련 분쟁 서비스 안정 수익 창 위해 선 저작권 문제 해결 데이터 확보 것 지니 뮤직 저작권 문제 해결 상태 서비스 업계 지니 뮤직 지난달 공개 음악 편곡 서비스 창 작자 저작권 관련 논의 마무리 못 상태 베타서비스 시작 업계 창작 저작권 대한 협의 상태 서비스 대표 사례 라며 향후 사업 확대 창작 분쟁 발생 수 지적 파일 업로드 즉석 디지털 악보 이용자 편곡 서비스 회사 서비스 우선 무료 공개 향후 다운로드 비용 로 편곡 곡 정식 발매 및 음원 유통 수익 등 통해 사업 계획 박현진 지니 뮤직 대표 앞서 기자간담회 지니 리라 기술 측면 저작권 이슈 더 고민 라며 음원 유통 협회 등 협의 원 저작자 음원 악보 생 것 허락 음원 서비스 악보 생 수 편곡 곡 실제 유통 수수료 곡 배 분할 정 곡 저작권 수익 보호 방침 지니 뮤직 저작권 보호 강조 것 달리 음악 저작권 협회 음저협 를 활용 편곡 서비스 지금 전혀 서비스 이기 때문 협회 통해 저작권 관련 각종 절차 협의 논의 완료 상태 음저협 음원 플랫폼 음악 통해 매출 중 일부 저작권 작사 작곡가 배분 신탁 단체 역할 음저협 관계자 지니 뮤직 측은 관련 악보 서비스 내용 전달 실제 공개 서비스 앞서 회사 협회 것 더 기능 이 대해 박현진 지니 뮤직 대표 무료 베타서비스 중이 수익 발생 상황 임 강조 베타서비스 중 협회 권리 자 소통 합의 진행 이미지 생 스 테이블 디 퓨전 생 그림 스 테이블 디 퓨전 웹사이트 캡쳐 이미지 생 스 테이블 디 퓨전 생 그림 스 테이블 디 퓨전 웹사이트 캡쳐 계속 저작권 분쟁 이슈 데이터 확보 기업 중요 서비스 저작권 문제 계속 업계 이 대비 서비스 초기 저작권 문제 해결 위 기업 시도 이스트소프트 이미지 제공 업체 정식 이미지 제공 서비스 시작 이스트소프트 지난달 기술 제작 휴먼 이미지 게티 이미지 통해 판매 회사 지난해 게티 이미지 이미지 생 및 판매 신규 사업 추진 등 위 업무 협약 체결 바 이스트소프트 관계자 미드 니나 스 테이블 디 퓨전 등 생 성형 것 사실 원작 자의 창작물 베 형태 상업 활용 라며 게티 이미지 제공 스톡 이미지 를 훈련 향후 저작권 문제 수 상업 용 이미지 판매 유통업 게티 어도비 지난달 기업 용 솔루션 어도비 파이어플라이 하반기 출시 회사 파이어플라이 생 이미지 어도비 스톡 이미지 개방 라이선스 콘텐츠 및 저작권 만료 기타 퍼블릭 도메인 콘텐츠 앞서 어도비 초 자사 제품 사용자 그래픽 를 훈련 논란 서비스 약관 제품 서비스 개발 향상 위해 머신 러닝 등 기술 사용자 콘텐츠 분석 수 내용 때문 회사 논란 의식 저작권 문제 로부터 솔루션 출시 것 앞 기업 행보 것 관련 규제 전 세계 를 활용 각종 서비스 진행 위해 사용 작품 출처 것 때문 유럽의회 달 규제 법안 채택 새 법안 포함 투명 요건 생 콘텐츠 경우 그 사실 공개 학습 사용 저작권 데이터 요약 게시']"
      ]
     },
     "execution_count": 8,
     "metadata": {},
     "output_type": "execute_result"
    }
   ],
   "source": [
    "f=open('Data/news1.txt', encoding='utf-8')\n",
    "corpus=f.read()\n",
    "txt=okt.nouns(corpus)\n",
    "txt2=[' '.join(txt)]\n",
    "txt2"
   ]
  },
  {
   "cell_type": "code",
   "execution_count": 9,
   "metadata": {},
   "outputs": [
    {
     "data": {
      "image/png": "[encoded data removed]",
      "text/plain": [
       "<Figure size 640x480 with 1 Axes>"
      ]
     },
     "metadata": {},
     "output_type": "display_data"
    },
    {
     "name": "stdout",
     "output_type": "stream",
     "text": [
      "[('저작권', 21), ('서비스', 21), ('이미지', 14), ('지니', 12), ('뮤직', 11), ('문제', 10), ('편곡', 7), ('음원', 7), ('기업', 7), ('협회', 6), ('수익', 6), ('상태', 5), ('관련', 5), ('회사', 5), ('퓨전', 5), ('데이터', 5), ('해결', 5), ('테이블', 5), ('공개', 5), ('어도비', 4), ('통해', 4), ('업계', 4), ('악보', 4), ('향후', 4), ('캡쳐', 4), ('음악', 4), ('게티', 4), ('웹사이트', 4), ('콘텐츠', 4), ('라며', 3), ('창작', 3), ('때문', 3), ('판매', 3), ('지난달', 3), ('사업', 3), ('베타서비스', 3), ('대표', 3), ('이스트소프트', 3), ('활용', 3), ('확보', 3), ('음저협', 3), ('협의', 3), ('유통', 3), ('기술', 3), ('위해', 3), ('분쟁', 3), ('훈련', 3), ('앞서', 3), ('제공', 3), ('사실', 2), ('실제', 2), ('사용', 2), ('사용자', 2), ('상업', 2), ('정식', 2), ('이슈', 2), ('제품', 2), ('시작', 2), ('진행', 2), ('솔루션', 2), ('창작물', 2), ('스톡', 2), ('각종', 2), ('논란', 2), ('관계자', 2), ('무료', 2), ('허락', 2), ('박현진', 2), ('파이어플라이', 2), ('규제', 2), ('발생', 2), ('출시', 2), ('보호', 2), ('법안', 2), ('그림', 2), ('강조', 2), ('논의', 2), ('계속', 2), ('내용', 2), ('전달', 1), ('행보', 1), ('절차', 1), ('합의', 1), ('제작', 1), ('전혀', 1), ('저작자', 1), ('초기', 1), ('협약', 1), ('작품', 1), ('형태', 1), ('작사', 1), ('작곡가', 1), ('자의', 1), ('확대', 1), ('자사', 1), ('향상', 1), ('작자', 1), ('중요', 1), ('학습', 1), ('입력', 1), ('체결', 1), ('채택', 1), ('추진', 1), ('출처', 1), ('측면', 1), ('측은', 1), ('크기', 1), ('지적', 1), ('타임', 1), ('조절', 1), ('지능', 1), ('지난해', 1), ('파일', 1), ('퍼블릭', 1), ('포함', 1), ('지금', 1), ('즉석', 1), ('플랫폼', 1), ('필수', 1), ('중이', 1), ('하반기', 1), ('투명', 1), ('일부', 1), ('업체', 1), ('인공', 1), ('대비', 1), ('대한', 1), ('대해', 1), ('도메인', 1), ('듣기', 1), ('디지털', 1), ('달리', 1), ('라이선스', 1), ('로부터', 1), ('리라', 1), ('마무리', 1), ('만료', 1), ('매출', 1), ('머신', 1), ('러닝', 1), ('미드', 1), ('단체', 1), ('니나', 1), ('개발', 1), ('개방', 1), ('게시', 1), ('경우', 1), ('계획', 1), ('고민', 1), ('다운로드', 1), ('권리', 1), ('글씨', 1), ('기능', 1), ('기반', 1), ('기자', 1), ('기자간담회', 1), ('기타', 1), ('그래픽', 1), ('인쇄', 1), ('발매', 1), ('배분', 1), ('역할', 1), ('연결', 1), ('완료', 1), ('요건', 1), ('요약', 1), ('우선', 1), ('업무', 1), ('원작', 1), ('유통업', 1), ('음성', 1), ('의식', 1), ('이기', 1), ('이소연', 1), ('이용자', 1), ('유럽의회', 1), ('방침', 1), ('업로드', 1), ('안정', 1), ('번역', 1), ('분석', 1), ('분할', 1), ('비용', 1), ('사례', 1), ('상황', 1), ('약관', 1), ('설정', 1), ('세계', 1), ('소통', 1), ('수수료', 1), ('시도', 1), ('신규', 1), ('신탁', 1), ('성형', 1), ('휴먼', 1)]\n"
     ]
    }
   ],
   "source": [
    "import numpy as np\n",
    "import matplotlib.pyplot as plt\n",
    "vect = CountVectorizer().fit(txt2)\n",
    "\n",
    "#bow의 출현횟수 합계\n",
    "cnt = vect.transform(txt2).toarray().sum(axis=0)\n",
    "idx = np.argsort(-cnt) #카운트 내림차순 정렬\n",
    "cnt = cnt[idx]\n",
    "\n",
    "# x축의 단어이름\n",
    "feature_name = np.array(vect.get_feature_names_out())[idx]\n",
    "\n",
    "plt.bar(range(len(cnt)), cnt)\n",
    "plt.show()\n",
    "print(list(zip(feature_name,cnt)))"
   ]
  },
  {
   "cell_type": "code",
   "execution_count": 10,
   "metadata": {},
   "outputs": [
    {
     "name": "stdout",
     "output_type": "stream",
     "text": [
      "[[ 2  2  1  1  1  4  1  2  1  1  5  2  5  1  2  1  2  1  1  1  3  7  1  1\n",
      "   1  2  2  2  1  1  1  1  1  3  1  1  5  1  1  1  3  3  1  1  1  1  1  1\n",
      "   1  1  2 10 11  1  2  1  2  1  1  1  2  3  2  1  3  1  1  1  2  3  2  2\n",
      "   2  5  1 21  1  1  1  1  2  1  6  2  1  2  1  1  2  4  1  3  1  4  4  1\n",
      "   1  1  1  1  1  1  1  1  1  4  3  1  3  1  1  4  7  3  1  1 14  1  2  3\n",
      "   1  1  1  1  1  1  1  1  1  1  1 21  1  1  1  1  2  3  1  2  1  1  1  1\n",
      "   1  3  1  1 12  1  2  3  2  1  1  1  1  2  1  1  1  4  4  1  1  5  4  1\n",
      "   2  1  3  1  7  1  5  1  1  1  1  1  5  1  1  4  2  1  3  6  1  1  3  3\n",
      "   5  3  1]]\n",
      "{'이미지': 116, '음악': 111, '저작권': 131, '문제': 51, '해결': 180, '기업': 21, '수익': 82, '연결': 99, '이소연': 117, '기자': 22, '입력': 124, '타임': 164, '음성': 110, '듣기': 38, '번역': 59, '설정': 76, '글씨': 17, '크기': 163, '조절': 140, '인쇄': 122, '지니': 148, '뮤직': 52, '협회': 187, '상태': 73, '서비스': 75, '공개': 10, '업계': 94, '향후': 183, '데이터': 36, '확보': 190, '필수': 176, '음원': 112, '편곡': 172, '웹사이트': 105, '캡쳐': 161, '창작': 151, '허락': 184, '훈련': 193, '기반': 19, '인공': 121, '지능': 147, '창작물': 152, '관련': 12, '분쟁': 64, '안정': 90, '위해': 106, '지난달': 145, '작자': 129, '논의': 27, '마무리': 46, '베타서비스': 61, '시작': 85, '대한': 34, '협의': 186, '대표': 33, '사례': 67, '라며': 41, '사업': 69, '확대': 189, '발생': 56, '지적': 149, '파일': 169, '업로드': 95, '즉석': 143, '디지털': 39, '악보': 89, '이용자': 120, '회사': 192, '우선': 103, '무료': 50, '다운로드': 29, '비용': 66, '정식': 136, '발매': 55, '유통': 108, '통해': 166, '계획': 8, '박현진': 54, '앞서': 91, '기자간담회': 23, '리라': 45, '기술': 20, '측면': 159, '이슈': 118, '고민': 9, '저작자': 132, '실제': 88, '수수료': 81, '분할': 65, '보호': 62, '방침': 57, '강조': 1, '달리': 31, '음저협': 113, '활용': 191, '지금': 144, '전혀': 134, '이기': 115, '때문': 40, '각종': 0, '절차': 135, '완료': 100, '플랫폼': 175, '매출': 48, '일부': 123, '작사': 128, '작곡가': 127, '배분': 58, '신탁': 87, '단체': 30, '역할': 98, '관계자': 11, '측은': 160, '내용': 25, '전달': 133, '기능': 18, '대해': 35, '중이': 142, '상황': 74, '권리': 13, '소통': 79, '합의': 179, '진행': 150, '테이블': 165, '퓨전': 174, '그림': 16, '계속': 7, '중요': 141, '대비': 32, '초기': 155, '시도': 84, '이스트소프트': 119, '제공': 137, '업체': 97, '제작': 138, '휴먼': 194, '게티': 5, '판매': 170, '지난해': 146, '신규': 86, '추진': 156, '업무': 96, '협약': 185, '체결': 154, '미드': 53, '니나': 28, '성형': 77, '사실': 68, '원작': 104, '자의': 126, '형태': 188, '상업': 72, '스톡': 83, '유통업': 109, '어도비': 93, '솔루션': 80, '파이어플라이': 168, '하반기': 177, '출시': 157, '개방': 3, '라이선스': 42, '콘텐츠': 162, '만료': 47, '기타': 24, '퍼블릭': 171, '도메인': 37, '자사': 125, '제품': 139, '사용자': 71, '그래픽': 15, '논란': 26, '약관': 92, '개발': 2, '향상': 182, '머신': 49, '러닝': 43, '분석': 63, '의식': 114, '로부터': 44, '행보': 181, '규제': 14, '세계': 78, '사용': 70, '작품': 130, '출처': 158, '유럽의회': 107, '법안': 60, '채택': 153, '포함': 173, '투명': 167, '요건': 101, '경우': 6, '학습': 178, '요약': 102, '게시': 4}\n"
     ]
    }
   ],
   "source": [
    "#불용어 추가\n",
    "vector = CountVectorizer(stop_words=['더'])\n",
    "print(vector.fit_transform(txt2).toarray())\n",
    "print(vector.vocabulary_)"
   ]
  },
  {
   "cell_type": "code",
   "execution_count": null,
   "metadata": {},
   "outputs": [],
   "source": []
  }
 ],
 "metadata": {
  "kernelspec": {
   "display_name": "Python 3",
   "language": "python",
   "name": "python3"
  },
  "language_info": {
   "codemirror_mode": {
    "name": "ipython",
    "version": 3
   },
   "file_extension": ".py",
   "mimetype": "text/x-python",
   "name": "python",
   "nbconvert_exporter": "python",
   "pygments_lexer": "ipython3",
   "version": "3.9.13"
  },
  "orig_nbformat": 4
 },
 "nbformat": 4,
 "nbformat_minor": 2
}
