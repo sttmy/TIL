{
 "cells": [
  {
   "cell_type": "markdown",
   "id": "24395069",
   "metadata": {},
   "source": [
    "## 임베딩 Embedding (자연어처리)\n",
    "\n",
    "- 임베딩: 자연어를 숫자나 벡터 형태로 변환하는 과정\n",
    "- 말뭉치의 의미에 따라 벡터화하기 때문에 문법적인 정보가 포함되어 있음\n",
    "- 임베딩의 품질이 좋으면 단순한 모델로도 홀륭한 결과를 얻을 가능성이 높음\n",
    "- 딥러닝 모델의 입력값으로 많이 사용됨\n",
    " \n",
    "\n",
    "#### 분류\n",
    "- 문장 임베딩 : 문장 전체를 벡터로 표현하는 방법\n",
    "    - 장점: 문맥적 의미를 지님, 단어 임베딩에 비해 품질이 좋으며, 상용시스템에 많이 사용됨\n",
    "    - 단점: 많은 문장 데이터가 필요, 학습에 비용이 과다소요\n",
    "<br>\n",
    "\n",
    "- 단어 임베딩 : 개별 단어를 벡터로 표현하는 방법\n",
    "    - 장점: 학습방법이 간단해 실무에서 많이 사용\n",
    "    - 단점: 동음이의어에 대한 구분을 하지 않기 때문에 의미가 다르더라도 단어의 형태가 같다면 동일한 벡터값으로 표현됨\n",
    "\n",
    "\n",
    "### 4.2 단어임베딩\n",
    "- 말뭉치에서 각각의 단어를 벡터로 변환하는 기법\n",
    "- 의미와 문법적 정보를지니고 있음\n",
    "- 단어를 표현하는 방법에 따라 다양한 모델이 존재\n",
    "- vs 토큰: 형태소 기반\n",
    "\n",
    "#### 4.2.1 원-핫 인코딩 One-hot Encoding\n",
    "- 요소들 중 단 하나의 값만 1이고 나머지 요솟값은 0인 인코딩을 의미\n",
    "- 원-핫 인코딩으로 나온 결과를 원-핫 벡터라 함\n",
    "- 전체 요소 중 단 하나의 값만 1이기 때문에 희소벡터 라고 함"
   ]
  },
  {
   "cell_type": "code",
   "execution_count": 1,
   "id": "5c0bf258",
   "metadata": {},
   "outputs": [
    {
     "name": "stdout",
     "output_type": "stream",
     "text": [
      "['오늘', '날씨', '구름', '우주인']\n",
      "\n",
      "{'오늘': 0, '날씨': 1, '구름': 2, '우주인': 3}\n",
      "\n",
      "[[1. 0. 0. 0.]\n",
      " [0. 1. 0. 0.]\n",
      " [0. 0. 1. 0.]\n",
      " [0. 0. 0. 1.]]\n"
     ]
    }
   ],
   "source": [
    "from konlpy.tag import Komoran\n",
    "import numpy as np\n",
    "\n",
    "komoran = Komoran()\n",
    "# text = '오늘 날씨는 구름이 많아요.'\n",
    "text = '오늘 날씨는 구름과 우주인이 많아요.'\n",
    "\n",
    "# 명사만 추출\n",
    "nouns = komoran.nouns(text)\n",
    "\n",
    "# 단어사전 구축 및 단어별 인덱스 부여\n",
    "dics = {}\n",
    "for word in nouns:\n",
    "    if word not in dics.keys():   # key: value로 저장되므로 중복 없음\n",
    "        dics[word] = len(dics)\n",
    "\n",
    "# 원핫 인코딩\n",
    "nb_classes = len(dics)\n",
    "targets = list(dics.values())\n",
    "one_hot_targets = np.eye(nb_classes)[targets]\n",
    "\n",
    "print(nouns)\n",
    "print()\n",
    "print(dics)\n",
    "print()\n",
    "print(one_hot_targets)"
   ]
  },
  {
   "cell_type": "code",
   "execution_count": 2,
   "id": "c752fd0d",
   "metadata": {},
   "outputs": [
    {
     "data": {
      "text/plain": [
       "4"
      ]
     },
     "execution_count": 2,
     "metadata": {},
     "output_type": "execute_result"
    }
   ],
   "source": [
    "nb_classes"
   ]
  },
  {
   "cell_type": "code",
   "execution_count": 3,
   "id": "dba9c8f9",
   "metadata": {},
   "outputs": [
    {
     "data": {
      "text/plain": [
       "array([[1., 0., 0., 0.],\n",
       "       [0., 1., 0., 0.],\n",
       "       [0., 0., 1., 0.],\n",
       "       [0., 0., 0., 1.]])"
      ]
     },
     "execution_count": 3,
     "metadata": {},
     "output_type": "execute_result"
    }
   ],
   "source": [
    "np.eye(nb_classes)"
   ]
  },
  {
   "cell_type": "code",
   "execution_count": 4,
   "id": "3b4ccbc7",
   "metadata": {},
   "outputs": [
    {
     "data": {
      "text/plain": [
       "[0, 1, 2, 3]"
      ]
     },
     "execution_count": 4,
     "metadata": {},
     "output_type": "execute_result"
    }
   ],
   "source": [
    "targets"
   ]
  },
  {
   "cell_type": "code",
   "execution_count": 5,
   "id": "30ef333b",
   "metadata": {},
   "outputs": [
    {
     "data": {
      "text/plain": [
       "array([[1., 0., 0., 0.],\n",
       "       [0., 1., 0., 0.],\n",
       "       [0., 0., 1., 0.],\n",
       "       [0., 0., 0., 1.]])"
      ]
     },
     "execution_count": 5,
     "metadata": {},
     "output_type": "execute_result"
    }
   ],
   "source": [
    "np.eye(nb_classes)[targets]"
   ]
  },
  {
   "cell_type": "markdown",
   "id": "f15f091f",
   "metadata": {},
   "source": [
    "np.identity(n)\n",
    "\n",
    "    - n: n X n 정방단위행렬\n",
    "    - 대각원소가 1이고 나머지 모두 0\n",
    "\n",
    "np.eye(n, k=m, dtype = int)\n",
    "\n",
    "    - n: n X n 행렬을 나타냄\n",
    "    - k: 정방단위행렬 기준, 어느 부분에 대각행렬을 나타낼지\n",
    "        - k = 1: 대각원소 사선 윗방향으로 표시\n",
    "        - k = -1: 대각원소 사선 아랫방향으로 표시\n"
   ]
  },
  {
   "cell_type": "markdown",
   "id": "10665822",
   "metadata": {},
   "source": [
    "#### 4.2.2 희소행렬과 분산 표현(밀집 표현)\n",
    "\n",
    "- 희소표현: 단어가 희소 벡터로 표현되는 방식\n",
    "    - 장점: 각각의 차원이 독립적인 정보를 지니고 있어 사람이 이해하기에 직관적\n",
    "    - 단점: 단어 사전의 크기가 커질수록 메모리 낭비와 계산 복잡도가 커짐(입력 데이터의 차원이 너무 높아지면 학습이 어려워지는 차원의 저주 문제가 발생), 단어 간의 연관성이 전혀 없어 의미를 담을 수 없음\n",
    "\n",
    "<br>\n",
    "\n",
    "- 분산표현: 한 단어의 정보가 특정 차원에 표현되지 않고 여러 차원에 분산되어 표현됨. 하나의 차원에 다양한 정보를 갖고 있음\n",
    "    - 장점: 각 단어 간의 유사성을 잘 표현하면서도 벡터 공간을 절약할 수 있음. (데이터 손실 최소화하면서 압축)\n",
    "    - 단점: 직관적이지 않음(신경망 모델에서의 분산 표현은 사람이 직관적으로 알 수 없는 형태의 수치로 표현됨)\n",
    "    - 이해하기 위한 예시) 색상 RGB 모델, 3차원 벡터로 표현 \n",
    "        - 연두색 RGB를 (204,255,204) 형태로 분산 표현"
   ]
  },
  {
   "cell_type": "markdown",
   "id": "aaf451e6",
   "metadata": {},
   "source": [
    "#### 4.2.3 Word2Vec\n",
    "\n",
    "- Word to Vector. 단어를 벡터값으로 변환\n",
    "\n",
    "- CBOW 모델: 주변 단어들로부터 중간 단어를 예측\n",
    "    - 맥락이라 표현되는 주변 단어를 이용해 타깃 단어를 예측하는 신경망 모델\n",
    "    - 학습 속도가 빠름\n",
    "    - window: 앞뒤 확인하는 단어의 범위 >>> 이 범위에 따라서 결과도 달라짐\n",
    "    <br>\n",
    "    \n",
    "- skip-gram모델: 중간 단어들로부터 주변 단어를 예측\n",
    "    - 하나의 타깃 단어를 이용해 주변 단어들을 예측하는 신경망 모델\n",
    "    - 예측해야 하는 맥락이 많아짐\n",
    "    - 분산 표현력이 우수, CBOW에 비해 임베딩 품질이 우수\n",
    "    \n",
    "- 의미상 비슷한 단어를 비슷한 벡터 공간에 위치시킴. 의미에 따라 방향성도 가짐\n",
    "    - ex) 왕/여왕의 방향차이만큼, 남자/여자의 방향차이가 생김\n",
    "- Gensim 패키지 사용: 토픽모델링, 자연어처리 위한 라이브러리\n"
   ]
  },
  {
   "cell_type": "code",
   "execution_count": null,
   "id": "f4617987",
   "metadata": {},
   "outputs": [],
   "source": [
    "from gensim.models import Word2Vec\n",
    "from konlpy.tag import Komoran\n",
    "import time\n",
    "\n",
    "# naver movie review data\n",
    "def read_rv_data(filename):\n",
    "    with open(filename, 'r', encoding = 'utf-8') as f:        # 인코딩값 확인\n",
    "        data = [line.split('\\t') for line in f.read().splitlines()]\n",
    "        data = data[1:]  # 헤더 제거\n",
    "    return data\n",
    "\n",
    "# 학습시간 측정 시작\n",
    "start = time.time()\n",
    "\n",
    "# file reading\n",
    "print('1. 말뭉치 데이터 읽기 시작')\n",
    "rv_data = read_rv_data('Data/230620/ratings.txt')\n",
    "print(len(rv_data))\n",
    "print('1. 말뭉치 데이터 읽기 완료: ', time.time() - start)\n",
    "\n",
    "# 문장단위 명사 추출 \n",
    "print('2. 형태소에서 명사만 추출 시작')\n",
    "komoran = Komoran()\n",
    "docs = [komoran.nouns(sentence[1]) for sentence in rv_data]    # sentence[1] : document 컬럼 데이터\n",
    "print('2. 형태소에서 명사 추출 완료: ', time.time() - start)\n",
    "\n",
    "# Word2Vec 모델 학습\n",
    "print('3. Word2Vec 모델 학습 시작')\n",
    "model = Word2Vec(sentences = docs, vector_size= 200, window = 4, hs = 1, min_count = 2, sg = 1)\n",
    "# vector_size: 단어 임베딩 벡터 차원(크기)\n",
    "# hs: 1 (softmax 사용), 0 (negative sampling 사용)\n",
    "# min_count: 단어 최소 빈도수 제한 (min_count 이하 단어들은 학습하지 않음)\n",
    "# sg: 0 (CBOW 모델), 1 (skip-gram 모델)\n",
    "print('3. Word2Vec 모델 학습 완료: ', time.time() - start)\n",
    "\n",
    "# 모델 저장\n",
    "print('4. 학습된 모델 저장 시작')\n",
    "model.save('nvmc.model')\n",
    "print('4. 학습된 모델 저장 완료: ', time.time() - start)\n",
    "\n",
    "# 학습된 말뭉치 수, 코퍼스 내 전체 단어 수\n",
    "print('corpus_count: ', model.corpus_count)\n",
    "print('corpus_total_words: ', model.corpus_total_words)\n"
   ]
  },
  {
   "cell_type": "markdown",
   "id": "02a03f71",
   "metadata": {},
   "source": [
    "#### 예제4-2"
   ]
  },
  {
   "cell_type": "code",
   "execution_count": 11,
   "id": "03b9d2d7",
   "metadata": {},
   "outputs": [
    {
     "name": "stdout",
     "output_type": "stream",
     "text": [
      "corpus_total_words:  1076896\n",
      "사랑:  [ 1.37054607e-01 -4.70625371e-01  2.70329982e-01  2.29139656e-01\n",
      "  6.51064096e-04 -3.41579348e-01 -5.14895143e-03  1.55841440e-01\n",
      "  3.98388773e-01  2.40801219e-02 -6.16622483e-03 -1.50228158e-01\n",
      "  1.84940279e-01  9.45076719e-02 -1.74884379e-01  2.22967699e-01\n",
      " -1.33638665e-01 -1.21970370e-01 -1.28276482e-01 -2.35012338e-01\n",
      " -1.14881434e-01  8.19132403e-02 -3.07359755e-01 -4.88866083e-02\n",
      " -1.74749538e-01  2.70181540e-02  5.96590992e-03 -3.17530274e-01\n",
      " -1.40420869e-02 -3.65516990e-01  1.39276966e-01  2.55429503e-02\n",
      " -1.82696600e-02  4.11703102e-02  1.02565534e-01  2.39239544e-01\n",
      "  1.33578420e-01 -2.12786466e-01 -1.80205107e-02 -1.64547548e-01\n",
      " -1.54921338e-01 -1.45771727e-02 -1.77153379e-01 -4.75571528e-02\n",
      "  1.97120234e-01  1.66118190e-01 -3.29414904e-01 -1.27827406e-01\n",
      "  2.50631273e-01  2.43996263e-01  8.54840726e-02 -8.57592300e-02\n",
      " -3.14066976e-01 -4.82293256e-02  3.56313474e-02  1.38197914e-01\n",
      "  3.60876709e-01 -2.20218748e-01  5.64148724e-02 -5.17624207e-02\n",
      "  1.22872077e-01 -1.28586993e-01 -6.47557229e-02  1.30953774e-01\n",
      "  7.08043799e-02  7.61588588e-02 -5.43754876e-01  3.24022979e-03\n",
      "  3.23335044e-02  5.37938654e-01  1.22360125e-01 -1.68619901e-01\n",
      "  9.21770483e-02 -2.87850369e-02 -4.08213539e-03  1.32144660e-01\n",
      "  4.69493985e-01 -2.93182284e-01 -2.36670613e-01 -7.87334517e-02\n",
      " -1.21907473e-01 -8.31564218e-02  6.61776066e-02  3.90185028e-01\n",
      " -2.82039315e-01 -1.88506633e-01  1.16105400e-01  1.78550810e-01\n",
      " -1.72939762e-01  1.43844500e-01  3.05755615e-01  3.28049660e-01\n",
      " -1.39713779e-01 -6.52245656e-02  4.10460889e-01 -6.36486486e-02\n",
      "  1.45426616e-01 -1.30050272e-01  1.98541179e-01 -3.57590429e-02\n",
      " -2.21326262e-01  5.72068632e-01  3.95468414e-01  9.83255431e-02\n",
      "  1.72311753e-01 -1.65585637e-01 -3.31927121e-01  2.48409241e-01\n",
      "  1.37392044e-01 -5.49173534e-01  2.15973705e-01 -3.10347110e-01\n",
      " -9.15788487e-02 -5.17802313e-02  3.54539305e-01 -9.52525735e-02\n",
      "  2.50907559e-02  1.97621677e-02  5.10577951e-03  1.03055656e-01\n",
      "  2.85813026e-02  7.59182423e-02 -2.53570434e-02 -2.24087648e-02\n",
      " -2.24572998e-02  1.64822862e-01 -3.17557931e-01  5.52309304e-02\n",
      " -4.68375422e-02  5.34596446e-04 -2.20252499e-01  2.59613246e-01\n",
      " -6.18928170e-04  1.33888081e-01  1.11109868e-01  5.63607253e-02\n",
      "  3.12167257e-01 -3.15950692e-01 -1.18616760e-01 -1.33206900e-02\n",
      "  1.07994810e-01 -2.97694296e-01 -1.40107777e-02 -1.27327546e-01\n",
      " -1.16744854e-01  1.31605506e-01 -3.56115133e-01 -1.83858633e-01\n",
      " -3.07350624e-02  1.40840724e-01  3.75496857e-02 -2.60971040e-01\n",
      "  1.60493523e-01 -1.39085680e-01 -2.38423347e-02 -5.21085672e-02\n",
      "  3.30743998e-01  1.80901438e-01  1.22496493e-01 -3.22588265e-01\n",
      "  1.18899822e-01 -2.81557411e-01 -1.91044267e-02 -3.68192419e-02\n",
      " -2.50171453e-01  1.87517643e-01 -2.03144550e-02 -8.81989002e-02\n",
      " -4.93710637e-02 -6.10169582e-02 -6.02718294e-01  1.37584776e-01\n",
      "  2.33925596e-01 -3.09412926e-01  2.22488083e-02  2.65386812e-02\n",
      "  2.12452263e-01 -3.72665286e-01 -8.11419487e-02 -1.69977859e-01\n",
      "  3.72027270e-02 -8.92032906e-02  9.08978842e-03  4.49398831e-02\n",
      " -8.40215981e-02 -1.00285299e-01  1.16741009e-01 -4.87377457e-02\n",
      "  1.52207643e-01  4.59977519e-03  1.87780470e-01  1.73845924e-02\n",
      " -7.62835960e-04 -1.22275084e-01  3.23040783e-01 -2.93118030e-01\n",
      " -6.21987619e-02 -6.70050532e-02 -3.37805271e-01  2.78918277e-02]\n",
      "일요일 = 월요일\t 0.6640703\n",
      "안성기 = 배우\t 0.56239986\n",
      "대기업 = 삼성\t 0.5156117\n",
      "일요일 != 삼성\t 0.23564222\n",
      "히어로 != 삼성\t 0.11427517\n",
      "[('문소리', 0.727311372756958), ('장미희', 0.7232065200805664), ('이은우', 0.7055231928825378), ('씨야', 0.7048478126525879), ('정려원', 0.7047041654586792)]\n",
      "[('캐리비안의 해적', 0.6603201627731323), ('나니아 연대기', 0.6508716344833374), ('엑스맨', 0.6463842988014221), ('더 울버린', 0.6415604948997498), ('나이트메어', 0.6362996697425842)]\n"
     ]
    }
   ],
   "source": [
    "from gensim.models import Word2Vec\n",
    "\n",
    "# Model loading\n",
    "model = Word2Vec.load('Data/230620/nvmc.model')\n",
    "print('corpus_total_words: ', model.corpus_total_words)\n",
    "\n",
    "# 단어 '사랑'의 임베딩 벡터\n",
    "print('사랑: ', model.wv['사랑'])\n",
    "\n",
    "# 단어 유사도\n",
    "print('일요일 = 월요일\\t', model.wv.similarity(w1 = '일요일', w2 = '월요일'))\n",
    "print('안성기 = 배우\\t', model.wv.similarity(w1 = '안성기', w2 = '배우'))\n",
    "print('대기업 = 삼성\\t', model.wv.similarity(w1 = '대기업', w2 = '삼성'))\n",
    "print('일요일 != 삼성\\t', model.wv.similarity(w1 = '일요일', w2 = '삼성'))\n",
    "print('히어로 != 삼성\\t', model.wv.similarity(w1 = '히어로', w2 = '삼성'))\n",
    "\n",
    "# 가장 유사한 단어 추출\n",
    "print(model.wv.most_similar('안성기', topn = 5))   # topn : 반환되는 유사한 단어 수, 5개까지 반환\n",
    "print(model.wv.most_similar('시리즈', topn = 5))\n"
   ]
  },
  {
   "cell_type": "code",
   "execution_count": 14,
   "id": "c2888e9e",
   "metadata": {},
   "outputs": [
    {
     "name": "stdout",
     "output_type": "stream",
     "text": [
      "사랑:  [('사랑하니까', 0.6781434416770935), ('아가페', 0.6568448543548584), ('사랑은', 0.6368050575256348), ('아쿠아', 0.6331505179405212), ('사람과', 0.6315078735351562), ('기적처럼', 0.6315063238143921), ('부부간', 0.6249662637710571), ('부녀', 0.6246234178543091), ('연애의 목적', 0.6242974996566772), ('사랑이란', 0.6235015988349915)]\n",
      "일요일 = 월요일\t 0.6640703\n",
      "안성기 = 배우\t 0.56239986\n",
      "대기업 = 삼성\t 0.5156117\n",
      "일요일 != 삼성\t 0.23564222\n",
      "히어로 != 삼성\t 0.11427517\n",
      "[('문소리', 0.727311372756958), ('장미희', 0.7232065200805664), ('이은우', 0.7055231928825378), ('씨야', 0.7048478126525879), ('정려원', 0.7047041654586792)]\n",
      "[('캐리비안의 해적', 0.6603201627731323), ('나니아 연대기', 0.6508716344833374), ('엑스맨', 0.6463842988014221), ('더 울버린', 0.6415604948997498), ('나이트메어', 0.6362996697425842)]\n"
     ]
    }
   ],
   "source": [
    "# 단어 '사랑'의 임베딩 벡터\n",
    "print('사랑: ', model.wv.most_similar(positive= ['사랑']))\n",
    "\n",
    "# 단어 유사도\n",
    "print('일요일 = 월요일\\t', model.wv.similarity(w1 = '일요일', w2 = '월요일'))\n",
    "print('안성기 = 배우\\t', model.wv.similarity(w1 = '안성기', w2 = '배우'))\n",
    "print('대기업 = 삼성\\t', model.wv.similarity(w1 = '대기업', w2 = '삼성'))\n",
    "print('일요일 != 삼성\\t', model.wv.similarity(w1 = '일요일', w2 = '삼성'))\n",
    "print('히어로 != 삼성\\t', model.wv.similarity(w1 = '히어로', w2 = '삼성'))\n",
    "\n",
    "# 가장 유사한 단어 추출\n",
    "print(model.wv.most_similar('안성기', topn = 5))   # topn : 반환되는 유사한 단어 수, 5개까지 반환\n",
    "print(model.wv.most_similar('시리즈', topn = 5))\n"
   ]
  },
  {
   "cell_type": "markdown",
   "id": "bc22465f",
   "metadata": {},
   "source": [
    "### 자체실습 https://wikidocs.net/50739 "
   ]
  },
  {
   "cell_type": "code",
   "execution_count": 15,
   "id": "779c69f5",
   "metadata": {},
   "outputs": [],
   "source": [
    "import pandas as pd\n",
    "from konlpy.tag import Okt\n",
    "from tqdm import tqdm\n",
    "import matplotlib.pyplot as plt\n",
    "\n",
    "data = pd.read_table('Data/230620/ratings.txt')\n",
    "\n",
    "data = data.dropna(how = 'any')\n",
    "# print(data.isnull().values.any(), len(data))\n",
    "\n",
    "# print(data.head(3))\n",
    "data['document'] = data['document'].str.replace(\"[^ㄱ-ㅎㅏ-ㅣ가-힣]\", '')\n",
    "# print(data.head(3))"
   ]
  },
  {
   "cell_type": "code",
   "execution_count": 16,
   "id": "c0e07096",
   "metadata": {},
   "outputs": [
    {
     "name": "stderr",
     "output_type": "stream",
     "text": [
      "100%|█████████████████████████████████████████████████████████████████████████| 199992/199992 [04:58<00:00, 669.53it/s]\n"
     ]
    },
    {
     "name": "stdout",
     "output_type": "stream",
     "text": [
      "리뷰 최대 길이:  95\n",
      "리뷰 평균 길이:  12.183792351694068\n"
     ]
    },
    {
     "data": {
      "image/png": "[encoded data removed]",
      "text/plain": [
       "<Figure size 640x480 with 1 Axes>"
      ]
     },
     "metadata": {},
     "output_type": "display_data"
    }
   ],
   "source": [
    "# 불용어\n",
    "stopwords = ['의','가','이','은','들','는','좀','잘','걍','과','도','를','을','으로','자','에','와','한','하다']\n",
    "\n",
    "# 형태소 분석기 OKT 사용하는 토큰화 작업\n",
    "okt = Okt()\n",
    "\n",
    "tokenized_data = []\n",
    "for sentence in tqdm(data['document']):\n",
    "    tokenized_sentence = okt.morphs(sentence, stem = True)\n",
    "    stopwords_removed_sentence = [word for word in tokenized_sentence if not word in stopwords]  # 불용어 제거\n",
    "    tokenized_data.append(stopwords_removed_sentence)\n",
    "\n",
    "# 리뷰 길이 분포\n",
    "print('리뷰 최대 길이: ', max(len(review) for review in tokenized_data))\n",
    "print('리뷰 평균 길이: ', sum(map(len, tokenized_data))/len(tokenized_data))\n",
    "plt.hist([len(review) for review in tokenized_data], bins = 50)\n",
    "plt.xlabel('length of samples')\n",
    "plt.ylabel('number of samples')\n",
    "plt.show()"
   ]
  },
  {
   "cell_type": "code",
   "execution_count": 18,
   "id": "820a4406",
   "metadata": {},
   "outputs": [
    {
     "name": "stdout",
     "output_type": "stream",
     "text": [
      "(17614, 100)\n",
      "[('한석규', 0.8473919034004211), ('안성기', 0.8259646892547607), ('박중훈', 0.8153495788574219), ('이정재', 0.8141316175460815), ('유다인', 0.8117566704750061), ('최민수', 0.8114067316055298), ('송강호', 0.8109113574028015), ('김수현', 0.8045221567153931), ('설경구', 0.8042004108428955), ('이주승', 0.8017957806587219)]\n",
      "[('슬래셔', 0.8401452898979187), ('sf', 0.8372343182563782), ('호러', 0.8316418528556824), ('무협', 0.8237218856811523), ('하이', 0.8194390535354614), ('틴', 0.8178562521934509), ('물의', 0.8058147430419922), ('무비', 0.8000170588493347), ('SF', 0.7953506708145142), ('블랙', 0.7861042022705078)]\n"
     ]
    }
   ],
   "source": [
    "# 영화 리뷰 데이터 학습\n",
    "\n",
    "from gensim.models import Word2Vec\n",
    "\n",
    "model = Word2Vec(sentences= tokenized_data, vector_size=100, window = 5, min_count = 5, sg = 0)\n",
    "\n",
    "# 모델 저장\n",
    "model.save('Data/230620/w2v.model')\n",
    "\n",
    "# 임베딩 매트릭스 크기 확인\n",
    "print(model.wv.vectors.shape)\n",
    "\n",
    "# 최민식과 유사한 단어\n",
    "print(model.wv.most_similar('최민식'))\n",
    "print(model.wv.most_similar('히어로'))"
   ]
  },
  {
   "cell_type": "code",
   "execution_count": null,
   "id": "01836d83",
   "metadata": {},
   "outputs": [],
   "source": []
  }
 ],
 "metadata": {
  "kernelspec": {
   "display_name": "Python 3 (ipykernel)",
   "language": "python",
   "name": "python3"
  },
  "language_info": {
   "codemirror_mode": {
    "name": "ipython",
    "version": 3
   },
   "file_extension": ".py",
   "mimetype": "text/x-python",
   "name": "python",
   "nbconvert_exporter": "python",
   "pygments_lexer": "ipython3",
   "version": "3.8.10"
  }
 },
 "nbformat": 4,
 "nbformat_minor": 5
}
