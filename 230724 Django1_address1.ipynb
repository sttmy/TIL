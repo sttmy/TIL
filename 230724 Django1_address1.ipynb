{
 "cells": [
  {
   "cell_type": "markdown",
   "metadata": {},
   "source": [
    "## Django\n",
    "- 파이썬 기반의 무료 오픈소스 웹 애플리케이션 프레임워크(Open Source Web Application Framework)\n",
    "- 장점\n",
    "    - Python 기반의 프레임웍으로 배우기 쉬움\n",
    "    - 빠른 개발속도, 개발 비용 절감\n",
    "    - 사용자 인증, 사용자 관리 등의 기능이 기본적으로 구현되어 있음\n",
    "- 성공적인 도입 사례 - Instagram\n",
    "- MTV pattern: 모델을 잘 만들어두면 테이블이 만들어짐\n",
    "    - Model 데이터베이스와 관련된 처리를 담당하는 코드: 데이터를 추상화. 테이블에 대한 모델 클래스 정의\n",
    "    - Template 사용자가 보는 화면을 정의하는 코드: 화면(html), template은 양식임\n",
    "    - View 데이터를 처리한 후 결과를 템플릿에 전달하는 코드: 화면으로 넘어가기 전 단계 (controller)\n",
    "\n",
    "- 머신러닝 모델을 만들어서 웹에 구현하는 것까지가 목표\n",
    "- 포트폴리오용으로 리눅스에 배포하는 걸 권함\n",
    "\n",
    "### Django 패키지 설치\n",
    "Anaconda Prompt에서 실행, 설치시간이 오래 걸림\n",
    "\n",
    "### 1.프로젝트 만들기 : myweb\n",
    "- PyCharm의 Terminal 메뉴에서 명령어 실행: django-admin startproject config .  \n",
    "    - myweb 디렉토리 밑에 config 디렉토리가 생성됨(config: 프로젝트이름)\n",
    "    - django-admin startproject config 까지만 입력하면 config 디렉토리 하위에 같은 이름의 디렉토리가 하나 더 생겨서 혼동될 수 있으므로 마침표(.)를 입력함 (.: 하위디렉토리를 만들지 않음)"
   ]
  },
  {
   "cell_type": "markdown",
   "metadata": {},
   "source": [
    "### 2.주소록 관리\n",
    "\n",
    "#### 슈퍼유저생성\n",
    "- python manage.py migrate\n",
    "    - migrate: DB를 구성하라: sqlite파일이 생성됨\n",
    "- python manage.py createsuperuser\n",
    "    - username: admin\n",
    "    - password: 1234\n",
    "\n",
    "#### 애플리케이션 생성\n",
    "- python manage.py startapp address\n",
    "    - address관련 디렉토리가 만들어짐\n",
    "    - subapp을 생성할 수 있음\n",
    "\n",
    "#### sqlite expert\n",
    "    - sqlite expert personal 설치\n",
    "    - auth_user > data : 암호화된 password 확인\n",
    "    - sql은 한 사람이 쓰고있으면 다른 사람이 사용하지 못함 (개인용으로 적합)\n",
    "\n",
    "#### mysql 패키지 설치\n",
    "    - pip install pymysql"
   ]
  },
  {
   "cell_type": "markdown",
   "metadata": {},
   "source": [
    "#### DB를 mysql로 변경\n",
    "\n",
    "#### config/settings.py\n",
    "```config/settings.py\n",
    "- INSTALLED_APPS = [\n",
    "    # 추가\n",
    "    'address',\n",
    "\n",
    "- DATABASES = {   # 교체\n",
    "'default': {\n",
    "    'ENGINE': 'django.db.backends.mysql',\n",
    "    'NAME': 'pyweb', # DB\n",
    "    'USER': 'web', # id\n",
    "    'PASSWORD': '1234', # password\n",
    "    'HOST': 'localhost', # host\n",
    "    'PORT': '3306', # port\n",
    "    }\n",
    "}\n",
    "\n",
    "- LANGUAGE_CODE = 'ko' \n",
    "- TIME_ZONE = 'Asia/Seoul' \n",
    "```"
   ]
  },
  {
   "cell_type": "markdown",
   "metadata": {},
   "source": [
    "#### (heidiSQL)\n",
    "    - create database pyweb;\n",
    "    - show databases;"
   ]
  },
  {
   "cell_type": "markdown",
   "metadata": {},
   "source": [
    "#### (pycharm)\n",
    "    - python manage.py migrate\n",
    "        - mysql로 테이블이 expert가 됨\n",
    "    - python manage.py createsuperuser  \n",
    "        - myslq에서 새롭게 유저 생성"
   ]
  },
  {
   "cell_type": "markdown",
   "metadata": {},
   "source": [
    "#### (heidiSQL)\n",
    "    - USE pyweb;\n",
    "    - SHOW TABLES;\n",
    "    - SELECT * FROM auth_user;"
   ]
  },
  {
   "cell_type": "markdown",
   "metadata": {},
   "source": [
    "#### address/models.py\n",
    "\n",
    "테이블을 새로 만들려면 models.py와 admin.py 2개의 파일을 수정해야 함\n",
    "테이블에 대한 모델 클래스 정의   \n",
    "\n",
    "```models.py  \n",
    "from django.db import models\n",
    "# Create your models here.\n",
    "class Address(models.Model):\n",
    "    idx = models.AutoField(primary_key=True)\n",
    "    필드명  autofield: 자동증가 일련번호 primary_key: 식별자(중복x)\n",
    "\n",
    "    name = models.CharField(max_length=50, blank=True, null=True)\n",
    "    charfield: 문자필드, \n",
    "    tel = models.CharField(max_length=50, blank=True, null=True)\n",
    "    email = models.CharField(max_length=50, blank=True, null=True)\n",
    "    address = models.CharField(max_length=500, blank=True, null=True)\n",
    "```"
   ]
  },
  {
   "cell_type": "markdown",
   "metadata": {},
   "source": [
    "#### address/admin.py\n",
    "- models.py에 등록한 테이블이 Admin 사이트에서도 보이도록 처리\n",
    "- 테이블을 하나의 클래스로 정의하고 테이블의 컬럼은 클래스의 변수로 매핑\n",
    "- 테이블 클래스는 django.db.models.Model 클래스를 상속받아 정의\n",
    "- 변수 자료형도 장고에서 미리 정의된 자료형을 사용\n",
    "\n",
    "```address/admin.py\n",
    "# Register your models here.\n",
    "from django.contrib import admin\n",
    "from address.models import Address\n",
    "\n",
    "class AddressAdmin(admin.ModelAdmin):\n",
    "\n",
    "    #화면에 출력할 필드 목록을 튜플로 지정\n",
    "    list_display = ('name', 'tel', 'email', 'address')\n",
    "\n",
    "# 관리자 화면에 클래스를 등록해라\n",
    "admin.site.register(Address, AddressAdmin)\n",
    "```"
   ]
  },
  {
   "cell_type": "markdown",
   "metadata": {},
   "source": [
    "#### DB에 변경사항 반영: (pycharm)\n",
    "    - python manage.py makemigrations   # 변경사항을 수집\n",
    "    - python manage.py migrate   # DB에 반영"
   ]
  },
  {
   "cell_type": "markdown",
   "metadata": {},
   "source": [
    "#### (HeidiSQL)\n",
    "    - select * from address_address; \n",
    "    만들었던 테이블 만들어졌는지 확인"
   ]
  },
  {
   "cell_type": "markdown",
   "metadata": {},
   "source": [
    "#### 웹서버 구동\n",
    "(pycharm) python manage.py runserver localhost:80\n",
    "\n",
    "http://localhost:80/ : 화면이 커지면 잘 된 것임\n",
    "\n",
    "#### 웹브라우저에서 확인\n",
    "http://localhost/admin\n",
    "\n",
    "admin /1234\n",
    "\n",
    "admin 테이블 +추가\n",
    "김철수 / 02-222-2222 / kim@naver.com / 서울 마포구 \n",
    "\n",
    "#### (HeidiSQL)\n",
    "SELECT * FROM address_address; \n",
    "\n",
    "입력된 내용(김철수~~) 확인"
   ]
  },
  {
   "cell_type": "markdown",
   "metadata": {},
   "source": [
    "주소에 함수를 매핑해야 함\n",
    "config.py에 url을 다 적어도 되지만, 패키지를 분산시키기 위해 \n",
    "address폴더에 urls.py를 생성\n",
    "\n",
    "#### address/urls.py\n",
    "```address/urls.py\n",
    "# 내장함수 url import\n",
    "from address import views\n",
    "from django.urls import path\n",
    "\n",
    "urlpatterns = [\n",
    "    path('', views.home),   # http://local/host/address : Home으로 감\n",
    "    path('write', views.write),   # http://local/host/address/write 으로 감\n",
    "                    # 모듈.함수\n",
    "    path('insert', views.insert),\n",
    "    path('detail', views.detail),\n",
    "    path('update', views.update),\n",
    "    path('delete', views.delete),\n",
    "]\n",
    "```"
   ]
  },
  {
   "cell_type": "markdown",
   "metadata": {},
   "source": [
    "#### config/urls.py\n",
    "- 모든 url이 모이게 됨\n",
    "- 따로 (address폴더에) 적은 url.py도 합쳐도 됨\n",
    "\n",
    "```config/ursl.py\n",
    "from django.contrib import admin\n",
    "from django.urls import path, include\n",
    "from config import views\n",
    "\n",
    "urlpatterns = [\n",
    "    # 관리자용 사이트\n",
    "    path('admin/', admin.site.urls),\n",
    "    path('', views.home),  # http://localhost: 시작화면\n",
    "    path('address/', include('address.urls')),\n",
    "    # http://localhost/address/ 까지 들어가면 include. 끌어와라\n",
    "]\n",
    "```"
   ]
  },
  {
   "cell_type": "markdown",
   "metadata": {},
   "source": [
    "#### config/views.py   \n",
    "- config에 views파일 만들기\n",
    "\n",
    "```config/views.py \n",
    "from django.shortcuts import render\n",
    "\n",
    "def home(request):\n",
    "    # request: 요청처리객체\n",
    "    # installed_app에 작성한 첫번째 앱인 address의 index.html 페이지로 출력됨\n",
    "    return render(request, 'index.html')\n",
    "    # render: 요청사항을 반영해서(템플릿 완성해서) index.html을 만들어내라(화면 출력)\n",
    "\n",
    "# http://localhost : urls.py : path('', views.home) 이 실행됨\n",
    "# request: 앞에서 뒤로 넘기면 이전 페이지에서 넘긴 정보가 전달됨\n",
    "```"
   ]
  },
  {
   "cell_type": "markdown",
   "metadata": {},
   "source": [
    "#### address 디렉토리 하위에 templates 디렉토리 추가\n",
    "#### address/templates/index.html\n",
    "```address/templates/index.html\n",
    "<!DOCTYPE html>\n",
    "<html lang=\"en\">\n",
    "<head>\n",
    "    <meta charset=\"UTF-8\">\n",
    "    <title>Title</title>\n",
    "</head>\n",
    "<body>\n",
    "<h2>시작 페이지</h2>\n",
    "<a href=\"admin/\">관리자</a><br>\n",
    "<a href=\"address/\">주소록</a><br>\n",
    "</body>\n",
    "</html>\n",
    "```"
   ]
  }
 ],
 "metadata": {
  "language_info": {
   "name": "python"
  },
  "orig_nbformat": 4
 },
 "nbformat": 4,
 "nbformat_minor": 2
}
