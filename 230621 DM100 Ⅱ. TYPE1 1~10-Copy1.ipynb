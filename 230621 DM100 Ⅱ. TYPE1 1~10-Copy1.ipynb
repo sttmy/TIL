{
 "cells": [
  {
   "cell_type": "markdown",
   "id": "a24b78b7",
   "metadata": {},
   "source": [
    "### 유튜브 인기동영상"
   ]
  },
  {
   "cell_type": "code",
   "execution_count": 1,
   "id": "c5450d44",
   "metadata": {},
   "outputs": [],
   "source": [
    "import pandas as pd\n",
    "import numpy as np\n",
    "import datetime as dt"
   ]
  },
  {
   "cell_type": "code",
   "execution_count": 2,
   "id": "5aaa7d4c",
   "metadata": {},
   "outputs": [],
   "source": [
    "url = 'https://raw.githubusercontent.com/Datamanim/datarepo/main/youtube/youtube.csv'\n",
    "df = pd.read_csv(url)"
   ]
  },
  {
   "cell_type": "code",
   "execution_count": 3,
   "id": "4a5c576d",
   "metadata": {},
   "outputs": [
    {
     "data": {
      "text/html": [
       "<div>\n",
       "<style scoped>\n",
       "    .dataframe tbody tr th:only-of-type {\n",
       "        vertical-align: middle;\n",
       "    }\n",
       "\n",
       "    .dataframe tbody tr th {\n",
       "        vertical-align: top;\n",
       "    }\n",
       "\n",
       "    .dataframe thead th {\n",
       "        text-align: right;\n",
       "    }\n",
       "</style>\n",
       "<table border=\"1\" class=\"dataframe\">\n",
       "  <thead>\n",
       "    <tr style=\"text-align: right;\">\n",
       "      <th></th>\n",
       "      <th>Unnamed: 0</th>\n",
       "      <th>title</th>\n",
       "      <th>channelTitle</th>\n",
       "      <th>categoryId</th>\n",
       "      <th>view_count</th>\n",
       "      <th>likes</th>\n",
       "      <th>dislikes</th>\n",
       "      <th>comment_count</th>\n",
       "      <th>channelId</th>\n",
       "      <th>trending_date2</th>\n",
       "    </tr>\n",
       "  </thead>\n",
       "  <tbody>\n",
       "    <tr>\n",
       "      <th>0</th>\n",
       "      <td>0</td>\n",
       "      <td>[신병] 물자창고</td>\n",
       "      <td>장삐쭈</td>\n",
       "      <td>23</td>\n",
       "      <td>1893473</td>\n",
       "      <td>38249</td>\n",
       "      <td>730</td>\n",
       "      <td>8595</td>\n",
       "      <td>UChbE5OZQ6dRHECsX0tEPEZQ</td>\n",
       "      <td>2021-01-01</td>\n",
       "    </tr>\n",
       "    <tr>\n",
       "      <th>1</th>\n",
       "      <td>1</td>\n",
       "      <td>RAIN(비) - 나로 바꾸자 Switch to me (duet with JYP) MV</td>\n",
       "      <td>RAIN's Official Channel</td>\n",
       "      <td>10</td>\n",
       "      <td>2600864</td>\n",
       "      <td>0</td>\n",
       "      <td>0</td>\n",
       "      <td>20129</td>\n",
       "      <td>UCxXgIeE5hxWxHG6dz9Scg2w</td>\n",
       "      <td>2021-01-01</td>\n",
       "    </tr>\n",
       "    <tr>\n",
       "      <th>2</th>\n",
       "      <td>2</td>\n",
       "      <td>2020년 제야의 종 온라인 타종행사 | 보신각 현장 행사는 진행하지 않습니다.</td>\n",
       "      <td>서울시 · Seoul</td>\n",
       "      <td>29</td>\n",
       "      <td>347049</td>\n",
       "      <td>3564</td>\n",
       "      <td>120</td>\n",
       "      <td>178</td>\n",
       "      <td>UCZUPZW5idAxYp-Asj__lVAA</td>\n",
       "      <td>2021-01-01</td>\n",
       "    </tr>\n",
       "  </tbody>\n",
       "</table>\n",
       "</div>"
      ],
      "text/plain": [
       "   Unnamed: 0                                             title   \n",
       "0           0                                         [신병] 물자창고  \\\n",
       "1           1  RAIN(비) - 나로 바꾸자 Switch to me (duet with JYP) MV   \n",
       "2           2      2020년 제야의 종 온라인 타종행사 | 보신각 현장 행사는 진행하지 않습니다.   \n",
       "\n",
       "              channelTitle  categoryId  view_count  likes  dislikes   \n",
       "0                      장삐쭈          23     1893473  38249       730  \\\n",
       "1  RAIN's Official Channel          10     2600864      0         0   \n",
       "2              서울시 · Seoul          29      347049   3564       120   \n",
       "\n",
       "   comment_count                 channelId trending_date2  \n",
       "0           8595  UChbE5OZQ6dRHECsX0tEPEZQ     2021-01-01  \n",
       "1          20129  UCxXgIeE5hxWxHG6dz9Scg2w     2021-01-01  \n",
       "2            178  UCZUPZW5idAxYp-Asj__lVAA     2021-01-01  "
      ]
     },
     "execution_count": 3,
     "metadata": {},
     "output_type": "execute_result"
    }
   ],
   "source": [
    "df.head(3)"
   ]
  },
  {
   "cell_type": "code",
   "execution_count": 4,
   "id": "3e7ab1ab",
   "metadata": {},
   "outputs": [
    {
     "name": "stdout",
     "output_type": "stream",
     "text": [
      "<class 'pandas.core.frame.DataFrame'>\n",
      "RangeIndex: 60399 entries, 0 to 60398\n",
      "Data columns (total 10 columns):\n",
      " #   Column          Non-Null Count  Dtype \n",
      "---  ------          --------------  ----- \n",
      " 0   Unnamed: 0      60399 non-null  int64 \n",
      " 1   title           60399 non-null  object\n",
      " 2   channelTitle    60399 non-null  object\n",
      " 3   categoryId      60399 non-null  int64 \n",
      " 4   view_count      60399 non-null  int64 \n",
      " 5   likes           60399 non-null  int64 \n",
      " 6   dislikes        60399 non-null  int64 \n",
      " 7   comment_count   60399 non-null  int64 \n",
      " 8   channelId       60399 non-null  object\n",
      " 9   trending_date2  60399 non-null  object\n",
      "dtypes: int64(6), object(4)\n",
      "memory usage: 4.6+ MB\n"
     ]
    }
   ],
   "source": [
    "df.info()"
   ]
  },
  {
   "cell_type": "markdown",
   "id": "0a9c8a20",
   "metadata": {},
   "source": [
    "## Q1. 인기동영상 제작횟수가 많은 채널 상위 10개명을 출력하라 (날짜기준, 중복포함)"
   ]
  },
  {
   "cell_type": "code",
   "execution_count": 5,
   "id": "73b96dd6",
   "metadata": {
    "collapsed": true
   },
   "outputs": [
    {
     "name": "stdout",
     "output_type": "stream",
     "text": [
      "<class 'pandas.core.frame.DataFrame'>\n",
      "RangeIndex: 60399 entries, 0 to 60398\n",
      "Data columns (total 10 columns):\n",
      " #   Column          Non-Null Count  Dtype         \n",
      "---  ------          --------------  -----         \n",
      " 0   Unnamed: 0      60399 non-null  int64         \n",
      " 1   title           60399 non-null  object        \n",
      " 2   channelTitle    60399 non-null  object        \n",
      " 3   categoryId      60399 non-null  int64         \n",
      " 4   view_count      60399 non-null  int64         \n",
      " 5   likes           60399 non-null  int64         \n",
      " 6   dislikes        60399 non-null  int64         \n",
      " 7   comment_count   60399 non-null  int64         \n",
      " 8   channelId       60399 non-null  object        \n",
      " 9   trending_date2  60399 non-null  datetime64[ns]\n",
      "dtypes: datetime64[ns](1), int64(6), object(3)\n",
      "memory usage: 4.6+ MB\n"
     ]
    }
   ],
   "source": [
    "df.trending_date2 = pd.to_datetime(df.trending_date2)\n",
    "df.info()"
   ]
  },
  {
   "cell_type": "code",
   "execution_count": 13,
   "id": "84614700",
   "metadata": {
    "scrolled": false
   },
   "outputs": [
    {
     "data": {
      "text/plain": [
       "Index(['짤툰', '파뿌리', 'SPOTV', '런닝맨 - 스브스 공식 채널', '엠뚜루마뚜루 : MBC 공식 종합 채널', '장삐쭈',\n",
       "       'BANGTANTV', '채널 십오야', '이과장', '총몇명'],\n",
       "      dtype='object', name='channelTitle')"
      ]
     },
     "execution_count": 13,
     "metadata": {},
     "output_type": "execute_result"
    }
   ],
   "source": [
    "df.groupby(['channelTitle']).size().sort_values(ascending = False).head(10).index"
   ]
  },
  {
   "cell_type": "code",
   "execution_count": 21,
   "id": "df156600",
   "metadata": {},
   "outputs": [
    {
     "data": {
      "text/plain": [
       "['장삐쭈',\n",
       " '총몇명',\n",
       " '파뿌리',\n",
       " '짤툰',\n",
       " '런닝맨 - 스브스 공식 채널',\n",
       " '엠뚜루마뚜루 : MBC 공식 종합 채널',\n",
       " 'SPOTV',\n",
       " '채널 십오야',\n",
       " '이과장',\n",
       " 'BANGTANTV']"
      ]
     },
     "execution_count": 21,
     "metadata": {},
     "output_type": "execute_result"
    }
   ],
   "source": [
    "list(df.loc[df.channelId.isin(df.channelId.value_counts().head(10).index)].channelTitle.unique())"
   ]
  },
  {
   "cell_type": "code",
   "execution_count": 18,
   "id": "1c596269",
   "metadata": {},
   "outputs": [
    {
     "data": {
      "text/plain": [
       "Index(['짤툰', '파뿌리', 'SPOTV', '런닝맨 - 스브스 공식 채널', '엠뚜루마뚜루 : MBC 공식 종합 채널', '장삐쭈',\n",
       "       'BANGTANTV', '채널 십오야', '이과장', '총몇명'],\n",
       "      dtype='object', name='channelTitle')"
      ]
     },
     "execution_count": 18,
     "metadata": {},
     "output_type": "execute_result"
    }
   ],
   "source": [
    "df.groupby('channelTitle')['title'].size().sort_values(ascending =False).head(10).index"
   ]
  },
  {
   "cell_type": "code",
   "execution_count": 24,
   "id": "0d36a010",
   "metadata": {},
   "outputs": [
    {
     "data": {
      "text/plain": [
       "Index(['UCszFjh7CEfwDb7UUGb4RzCQ', 'UClzB2iZ5jPoTNz0S-QU6Wiw',\n",
       "       'UCtm_QoN2SIxwCE-59shX7Qg', 'UCaKod3X1Tn4c7Ci0iUKcvzQ',\n",
       "       'UCiwQRG2sCcfjKkgxMEdJGPg', 'UChbE5OZQ6dRHECsX0tEPEZQ',\n",
       "       'UCLkAepWjdylmXSltofFvsYQ', 'UCQ2O-iftmnlfrBuNsUUTofQ',\n",
       "       'UCtfriFvIe5gIe8wRWb8UTMg', 'UCRuSxVu4iqTK5kCh90ntAgA'],\n",
       "      dtype='object')"
      ]
     },
     "execution_count": 24,
     "metadata": {},
     "output_type": "execute_result"
    }
   ],
   "source": [
    "df.channelId.value_counts().head(10).index"
   ]
  },
  {
   "cell_type": "code",
   "execution_count": 30,
   "id": "bf721547",
   "metadata": {},
   "outputs": [
    {
     "data": {
      "text/plain": [
       "['장삐쭈',\n",
       " '총몇명',\n",
       " '파뿌리',\n",
       " '짤툰',\n",
       " '런닝맨 - 스브스 공식 채널',\n",
       " '엠뚜루마뚜루 : MBC 공식 종합 채널',\n",
       " 'SPOTV',\n",
       " '채널 십오야',\n",
       " '이과장',\n",
       " 'BANGTANTV']"
      ]
     },
     "execution_count": 30,
     "metadata": {},
     "output_type": "execute_result"
    }
   ],
   "source": [
    "list(df.loc[df.channelId.isin(df.channelId.value_counts().head(10).index)].channelTitle.unique())"
   ]
  },
  {
   "cell_type": "code",
   "execution_count": 31,
   "id": "ebc94849",
   "metadata": {},
   "outputs": [
    {
     "data": {
      "text/plain": [
       "channelTitle\n",
       "짤툰                       372\n",
       "파뿌리                      318\n",
       "SPOTV                    318\n",
       "런닝맨 - 스브스 공식 채널          313\n",
       "엠뚜루마뚜루 : MBC 공식 종합 채널    293\n",
       "장삐쭈                      283\n",
       "BANGTANTV                275\n",
       "채널 십오야                   274\n",
       "이과장                      258\n",
       "총몇명                      255\n",
       "Name: title, dtype: int64"
      ]
     },
     "execution_count": 31,
     "metadata": {},
     "output_type": "execute_result"
    }
   ],
   "source": [
    "df.groupby('channelTitle')['title'].size().sort_values(ascending =False).head(10)"
   ]
  },
  {
   "cell_type": "code",
   "execution_count": 39,
   "id": "35bbce48",
   "metadata": {},
   "outputs": [
    {
     "data": {
      "text/plain": [
       "channelTitle\n",
       "짤툰                       372\n",
       "SPOTV                    318\n",
       "파뿌리                      318\n",
       "런닝맨 - 스브스 공식 채널          313\n",
       "엠뚜루마뚜루 : MBC 공식 종합 채널    293\n",
       "장삐쭈                      283\n",
       "BANGTANTV                275\n",
       "채널 십오야                   274\n",
       "이과장                      258\n",
       "총몇명                      255\n",
       "dtype: int64"
      ]
     },
     "execution_count": 39,
     "metadata": {},
     "output_type": "execute_result"
    }
   ],
   "source": [
    "df.loc[df.channelId.isin(df.channelId.value_counts().head(10).index)].value_counts('channelTitle')"
   ]
  },
  {
   "cell_type": "markdown",
   "id": "b6f75923",
   "metadata": {},
   "source": [
    "Q2. 논란으로 인기동영상이 된 케이스를 확인하고 싶다. dislikes수가 like 수보다 높은 동영상을 제작한 채널을 모두 출력하라"
   ]
  },
  {
   "cell_type": "code",
   "execution_count": 42,
   "id": "2a500111",
   "metadata": {},
   "outputs": [
    {
     "data": {
      "text/plain": [
       "['핫도그TV',\n",
       " 'ASMR 애정TV',\n",
       " '하얀트리HayanTree',\n",
       " '양팡 YangPang',\n",
       " '철구형 (CHULTUBE)',\n",
       " '왜냐맨하우스',\n",
       " '(MUTUBE)와꾸대장봉준',\n",
       " '오메킴TV',\n",
       " '육지담',\n",
       " 'MapleStory_KR',\n",
       " 'ROAD FIGHTING CHAMPIONSHIP',\n",
       " '사나이 김기훈',\n",
       " '나혼자산다 STUDIO',\n",
       " 'Gen.G esports']"
      ]
     },
     "execution_count": 42,
     "metadata": {},
     "output_type": "execute_result"
    }
   ],
   "source": [
    "list(df[df.dislikes > df.likes].channelTitle.unique())"
   ]
  },
  {
   "cell_type": "markdown",
   "id": "3d479217",
   "metadata": {},
   "source": [
    "## Q3. 채널명을 바꾼 케이스가 있는지 확인하고 싶다. channelId의 경우 고유값이므로 이를 통해 채널명을 한번이라도 바꾼 채널의 갯수를 구하여라"
   ]
  },
  {
   "cell_type": "code",
   "execution_count": 30,
   "id": "17a341ca",
   "metadata": {},
   "outputs": [
    {
     "data": {
      "text/plain": [
       "71"
      ]
     },
     "execution_count": 30,
     "metadata": {},
     "output_type": "execute_result"
    }
   ],
   "source": [
    "(df.groupby(['channelId','channelTitle']).size().groupby('channelId').size() != 1).sum()"
   ]
  },
  {
   "cell_type": "code",
   "execution_count": 53,
   "id": "b87db968",
   "metadata": {},
   "outputs": [
    {
     "data": {
      "text/plain": [
       "channelId\n",
       "UC-0229MiVYnQoUxdLJnFl_g     17\n",
       "UC-0C8yVGJy-cS4FGlYKelWw    138\n",
       "UC-0tICWyA0_AJAVMBHL8GdQ     12\n",
       "UC-2Y8dQb0S6DtpxNgAKoJKA      7\n",
       "UC-5acDjU6XFWu-__G17V_YQ     20\n",
       "                           ... \n",
       "UCznImSIaxZR7fdLCICLdgaQ     10\n",
       "UCzt24ffdUiJvJAm5HY084aw     22\n",
       "UCzteSXznVjwESizsCcSKSWw      7\n",
       "UCzxXBQnJy9guqVNM6KXi0Ig     10\n",
       "UCzz58-H0wzmGoFi3MO_9ePQ    102\n",
       "Length: 1770, dtype: int64"
      ]
     },
     "execution_count": 53,
     "metadata": {},
     "output_type": "execute_result"
    }
   ],
   "source": [
    "df.groupby('channelId').size()"
   ]
  },
  {
   "cell_type": "code",
   "execution_count": 72,
   "id": "a97b18fe",
   "metadata": {},
   "outputs": [
    {
     "data": {
      "text/plain": [
       "71"
      ]
     },
     "execution_count": 72,
     "metadata": {},
     "output_type": "execute_result"
    }
   ],
   "source": [
    "dd = df.groupby(['channelId','channelTitle']).size().to_frame()\n",
    "len(dd.groupby('channelId').size()[dd.groupby('channelId').size() != 1])"
   ]
  },
  {
   "cell_type": "code",
   "execution_count": 76,
   "id": "8a7d864b",
   "metadata": {},
   "outputs": [
    {
     "data": {
      "text/plain": [
       "71"
      ]
     },
     "execution_count": 76,
     "metadata": {},
     "output_type": "execute_result"
    }
   ],
   "source": [
    "len(df[['channelId','channelTitle']].drop_duplicates().channelId.value_counts()[df[['channelId','channelTitle']].drop_duplicates().channelId.value_counts() > 1])"
   ]
  },
  {
   "cell_type": "markdown",
   "id": "47f6d4e4",
   "metadata": {},
   "source": [
    "Q4. 일요일에 인기있었던 영상들중 가장많은 영상 종류(categoryId)는 무엇인가?"
   ]
  },
  {
   "cell_type": "code",
   "execution_count": 79,
   "id": "9e1cb3a1",
   "metadata": {},
   "outputs": [],
   "source": [
    "df.trending_date2 = df.trending_date2.astype('datetime64[ns]')"
   ]
  },
  {
   "cell_type": "code",
   "execution_count": 89,
   "id": "06673f55",
   "metadata": {},
   "outputs": [
    {
     "data": {
      "text/plain": [
       "24"
      ]
     },
     "execution_count": 89,
     "metadata": {},
     "output_type": "execute_result"
    }
   ],
   "source": [
    "df[df.trending_date2.dt.day_name() == 'Sunday'].groupby('categoryId').size().sort_values(ascending = False).index[0]"
   ]
  },
  {
   "cell_type": "code",
   "execution_count": 94,
   "id": "9f63e7b5",
   "metadata": {},
   "outputs": [
    {
     "data": {
      "text/plain": [
       "24"
      ]
     },
     "execution_count": 94,
     "metadata": {},
     "output_type": "execute_result"
    }
   ],
   "source": [
    "df[df.trending_date2.dt.day_name() == 'Sunday'].value_counts('categoryId').index[0]"
   ]
  },
  {
   "cell_type": "markdown",
   "id": "4333d423",
   "metadata": {},
   "source": [
    "## Q5. 각 요일별 인기 영상들의 categoryId는 각각 몇개 씩인지 하나의 데이터 프레임으로 표현하라"
   ]
  },
  {
   "cell_type": "code",
   "execution_count": 39,
   "id": "b1c78496",
   "metadata": {},
   "outputs": [
    {
     "data": {
      "text/html": [
       "<div>\n",
       "<style scoped>\n",
       "    .dataframe tbody tr th:only-of-type {\n",
       "        vertical-align: middle;\n",
       "    }\n",
       "\n",
       "    .dataframe tbody tr th {\n",
       "        vertical-align: top;\n",
       "    }\n",
       "\n",
       "    .dataframe thead th {\n",
       "        text-align: right;\n",
       "    }\n",
       "</style>\n",
       "<table border=\"1\" class=\"dataframe\">\n",
       "  <thead>\n",
       "    <tr style=\"text-align: right;\">\n",
       "      <th></th>\n",
       "      <th></th>\n",
       "      <th>counts</th>\n",
       "    </tr>\n",
       "    <tr>\n",
       "      <th>trending_date2</th>\n",
       "      <th>categoryId</th>\n",
       "      <th></th>\n",
       "    </tr>\n",
       "  </thead>\n",
       "  <tbody>\n",
       "    <tr>\n",
       "      <th rowspan=\"5\" valign=\"top\">Friday</th>\n",
       "      <th>1</th>\n",
       "      <td>243</td>\n",
       "    </tr>\n",
       "    <tr>\n",
       "      <th>2</th>\n",
       "      <td>120</td>\n",
       "    </tr>\n",
       "    <tr>\n",
       "      <th>10</th>\n",
       "      <td>833</td>\n",
       "    </tr>\n",
       "    <tr>\n",
       "      <th>15</th>\n",
       "      <td>187</td>\n",
       "    </tr>\n",
       "    <tr>\n",
       "      <th>17</th>\n",
       "      <td>633</td>\n",
       "    </tr>\n",
       "    <tr>\n",
       "      <th>...</th>\n",
       "      <th>...</th>\n",
       "      <td>...</td>\n",
       "    </tr>\n",
       "    <tr>\n",
       "      <th rowspan=\"5\" valign=\"top\">Wednesday</th>\n",
       "      <th>25</th>\n",
       "      <td>468</td>\n",
       "    </tr>\n",
       "    <tr>\n",
       "      <th>26</th>\n",
       "      <td>385</td>\n",
       "    </tr>\n",
       "    <tr>\n",
       "      <th>27</th>\n",
       "      <td>212</td>\n",
       "    </tr>\n",
       "    <tr>\n",
       "      <th>28</th>\n",
       "      <td>165</td>\n",
       "    </tr>\n",
       "    <tr>\n",
       "      <th>29</th>\n",
       "      <td>12</td>\n",
       "    </tr>\n",
       "  </tbody>\n",
       "</table>\n",
       "<p>105 rows × 1 columns</p>\n",
       "</div>"
      ],
      "text/plain": [
       "                           counts\n",
       "trending_date2 categoryId        \n",
       "Friday         1              243\n",
       "               2              120\n",
       "               10             833\n",
       "               15             187\n",
       "               17             633\n",
       "...                           ...\n",
       "Wednesday      25             468\n",
       "               26             385\n",
       "               27             212\n",
       "               28             165\n",
       "               29              12\n",
       "\n",
       "[105 rows x 1 columns]"
      ]
     },
     "execution_count": 39,
     "metadata": {},
     "output_type": "execute_result"
    }
   ],
   "source": [
    "df.groupby([df.trending_date2.dt.day_name(), 'categoryId']).size().to_frame('counts')"
   ]
  },
  {
   "cell_type": "code",
   "execution_count": 109,
   "id": "39a878e8",
   "metadata": {},
   "outputs": [
    {
     "data": {
      "text/html": [
       "<div>\n",
       "<style scoped>\n",
       "    .dataframe tbody tr th:only-of-type {\n",
       "        vertical-align: middle;\n",
       "    }\n",
       "\n",
       "    .dataframe tbody tr th {\n",
       "        vertical-align: top;\n",
       "    }\n",
       "\n",
       "    .dataframe thead th {\n",
       "        text-align: right;\n",
       "    }\n",
       "</style>\n",
       "<table border=\"1\" class=\"dataframe\">\n",
       "  <thead>\n",
       "    <tr style=\"text-align: right;\">\n",
       "      <th></th>\n",
       "      <th></th>\n",
       "      <th>counts</th>\n",
       "    </tr>\n",
       "    <tr>\n",
       "      <th>trending_date2</th>\n",
       "      <th>categoryId</th>\n",
       "      <th></th>\n",
       "    </tr>\n",
       "  </thead>\n",
       "  <tbody>\n",
       "    <tr>\n",
       "      <th rowspan=\"5\" valign=\"top\">Friday</th>\n",
       "      <th>1</th>\n",
       "      <td>243</td>\n",
       "    </tr>\n",
       "    <tr>\n",
       "      <th>2</th>\n",
       "      <td>120</td>\n",
       "    </tr>\n",
       "    <tr>\n",
       "      <th>10</th>\n",
       "      <td>833</td>\n",
       "    </tr>\n",
       "    <tr>\n",
       "      <th>15</th>\n",
       "      <td>187</td>\n",
       "    </tr>\n",
       "    <tr>\n",
       "      <th>17</th>\n",
       "      <td>633</td>\n",
       "    </tr>\n",
       "    <tr>\n",
       "      <th>...</th>\n",
       "      <th>...</th>\n",
       "      <td>...</td>\n",
       "    </tr>\n",
       "    <tr>\n",
       "      <th rowspan=\"5\" valign=\"top\">Wednesday</th>\n",
       "      <th>25</th>\n",
       "      <td>468</td>\n",
       "    </tr>\n",
       "    <tr>\n",
       "      <th>26</th>\n",
       "      <td>385</td>\n",
       "    </tr>\n",
       "    <tr>\n",
       "      <th>27</th>\n",
       "      <td>212</td>\n",
       "    </tr>\n",
       "    <tr>\n",
       "      <th>28</th>\n",
       "      <td>165</td>\n",
       "    </tr>\n",
       "    <tr>\n",
       "      <th>29</th>\n",
       "      <td>12</td>\n",
       "    </tr>\n",
       "  </tbody>\n",
       "</table>\n",
       "<p>105 rows × 1 columns</p>\n",
       "</div>"
      ],
      "text/plain": [
       "                           counts\n",
       "trending_date2 categoryId        \n",
       "Friday         1              243\n",
       "               2              120\n",
       "               10             833\n",
       "               15             187\n",
       "               17             633\n",
       "...                           ...\n",
       "Wednesday      25             468\n",
       "               26             385\n",
       "               27             212\n",
       "               28             165\n",
       "               29              12\n",
       "\n",
       "[105 rows x 1 columns]"
      ]
     },
     "execution_count": 109,
     "metadata": {},
     "output_type": "execute_result"
    }
   ],
   "source": [
    "df.groupby([df.trending_date2.dt.day_name(), 'categoryId']).size().to_frame('counts')"
   ]
  },
  {
   "cell_type": "code",
   "execution_count": 117,
   "id": "bc86c32a",
   "metadata": {},
   "outputs": [
    {
     "data": {
      "text/html": [
       "<div>\n",
       "<style scoped>\n",
       "    .dataframe tbody tr th:only-of-type {\n",
       "        vertical-align: middle;\n",
       "    }\n",
       "\n",
       "    .dataframe tbody tr th {\n",
       "        vertical-align: top;\n",
       "    }\n",
       "\n",
       "    .dataframe thead th {\n",
       "        text-align: right;\n",
       "    }\n",
       "</style>\n",
       "<table border=\"1\" class=\"dataframe\">\n",
       "  <thead>\n",
       "    <tr style=\"text-align: right;\">\n",
       "      <th></th>\n",
       "      <th>trending_date2</th>\n",
       "      <th>categoryId</th>\n",
       "      <th>size</th>\n",
       "    </tr>\n",
       "  </thead>\n",
       "  <tbody>\n",
       "    <tr>\n",
       "      <th>0</th>\n",
       "      <td>Friday</td>\n",
       "      <td>1</td>\n",
       "      <td>243</td>\n",
       "    </tr>\n",
       "    <tr>\n",
       "      <th>1</th>\n",
       "      <td>Friday</td>\n",
       "      <td>2</td>\n",
       "      <td>120</td>\n",
       "    </tr>\n",
       "    <tr>\n",
       "      <th>2</th>\n",
       "      <td>Friday</td>\n",
       "      <td>10</td>\n",
       "      <td>833</td>\n",
       "    </tr>\n",
       "    <tr>\n",
       "      <th>3</th>\n",
       "      <td>Friday</td>\n",
       "      <td>15</td>\n",
       "      <td>187</td>\n",
       "    </tr>\n",
       "    <tr>\n",
       "      <th>4</th>\n",
       "      <td>Friday</td>\n",
       "      <td>17</td>\n",
       "      <td>633</td>\n",
       "    </tr>\n",
       "    <tr>\n",
       "      <th>...</th>\n",
       "      <td>...</td>\n",
       "      <td>...</td>\n",
       "      <td>...</td>\n",
       "    </tr>\n",
       "    <tr>\n",
       "      <th>100</th>\n",
       "      <td>Wednesday</td>\n",
       "      <td>25</td>\n",
       "      <td>468</td>\n",
       "    </tr>\n",
       "    <tr>\n",
       "      <th>101</th>\n",
       "      <td>Wednesday</td>\n",
       "      <td>26</td>\n",
       "      <td>385</td>\n",
       "    </tr>\n",
       "    <tr>\n",
       "      <th>102</th>\n",
       "      <td>Wednesday</td>\n",
       "      <td>27</td>\n",
       "      <td>212</td>\n",
       "    </tr>\n",
       "    <tr>\n",
       "      <th>103</th>\n",
       "      <td>Wednesday</td>\n",
       "      <td>28</td>\n",
       "      <td>165</td>\n",
       "    </tr>\n",
       "    <tr>\n",
       "      <th>104</th>\n",
       "      <td>Wednesday</td>\n",
       "      <td>29</td>\n",
       "      <td>12</td>\n",
       "    </tr>\n",
       "  </tbody>\n",
       "</table>\n",
       "<p>105 rows × 3 columns</p>\n",
       "</div>"
      ],
      "text/plain": [
       "    trending_date2  categoryId  size\n",
       "0           Friday           1   243\n",
       "1           Friday           2   120\n",
       "2           Friday          10   833\n",
       "3           Friday          15   187\n",
       "4           Friday          17   633\n",
       "..             ...         ...   ...\n",
       "100      Wednesday          25   468\n",
       "101      Wednesday          26   385\n",
       "102      Wednesday          27   212\n",
       "103      Wednesday          28   165\n",
       "104      Wednesday          29    12\n",
       "\n",
       "[105 rows x 3 columns]"
      ]
     },
     "execution_count": 117,
     "metadata": {},
     "output_type": "execute_result"
    }
   ],
   "source": [
    "df.groupby([df.trending_date2.dt.day_name(), 'categoryId'], as_index= False).size()"
   ]
  },
  {
   "cell_type": "code",
   "execution_count": 120,
   "id": "5eee4d1b",
   "metadata": {
    "scrolled": false
   },
   "outputs": [
    {
     "data": {
      "text/html": [
       "<div>\n",
       "<style scoped>\n",
       "    .dataframe tbody tr th:only-of-type {\n",
       "        vertical-align: middle;\n",
       "    }\n",
       "\n",
       "    .dataframe tbody tr th {\n",
       "        vertical-align: top;\n",
       "    }\n",
       "\n",
       "    .dataframe thead th {\n",
       "        text-align: right;\n",
       "    }\n",
       "</style>\n",
       "<table border=\"1\" class=\"dataframe\">\n",
       "  <thead>\n",
       "    <tr style=\"text-align: right;\">\n",
       "      <th>trending_date2</th>\n",
       "      <th>Friday</th>\n",
       "      <th>Monday</th>\n",
       "      <th>Saturday</th>\n",
       "      <th>Sunday</th>\n",
       "      <th>Thursday</th>\n",
       "      <th>Tuesday</th>\n",
       "      <th>Wednesday</th>\n",
       "    </tr>\n",
       "    <tr>\n",
       "      <th>categoryId</th>\n",
       "      <th></th>\n",
       "      <th></th>\n",
       "      <th></th>\n",
       "      <th></th>\n",
       "      <th></th>\n",
       "      <th></th>\n",
       "      <th></th>\n",
       "    </tr>\n",
       "  </thead>\n",
       "  <tbody>\n",
       "    <tr>\n",
       "      <th>1</th>\n",
       "      <td>243</td>\n",
       "      <td>263</td>\n",
       "      <td>255</td>\n",
       "      <td>274</td>\n",
       "      <td>246</td>\n",
       "      <td>257</td>\n",
       "      <td>234</td>\n",
       "    </tr>\n",
       "    <tr>\n",
       "      <th>2</th>\n",
       "      <td>120</td>\n",
       "      <td>105</td>\n",
       "      <td>119</td>\n",
       "      <td>99</td>\n",
       "      <td>128</td>\n",
       "      <td>119</td>\n",
       "      <td>129</td>\n",
       "    </tr>\n",
       "    <tr>\n",
       "      <th>10</th>\n",
       "      <td>833</td>\n",
       "      <td>837</td>\n",
       "      <td>776</td>\n",
       "      <td>830</td>\n",
       "      <td>890</td>\n",
       "      <td>894</td>\n",
       "      <td>917</td>\n",
       "    </tr>\n",
       "    <tr>\n",
       "      <th>15</th>\n",
       "      <td>187</td>\n",
       "      <td>215</td>\n",
       "      <td>198</td>\n",
       "      <td>217</td>\n",
       "      <td>207</td>\n",
       "      <td>208</td>\n",
       "      <td>207</td>\n",
       "    </tr>\n",
       "    <tr>\n",
       "      <th>17</th>\n",
       "      <td>633</td>\n",
       "      <td>668</td>\n",
       "      <td>592</td>\n",
       "      <td>636</td>\n",
       "      <td>682</td>\n",
       "      <td>708</td>\n",
       "      <td>706</td>\n",
       "    </tr>\n",
       "    <tr>\n",
       "      <th>19</th>\n",
       "      <td>90</td>\n",
       "      <td>92</td>\n",
       "      <td>87</td>\n",
       "      <td>91</td>\n",
       "      <td>92</td>\n",
       "      <td>89</td>\n",
       "      <td>85</td>\n",
       "    </tr>\n",
       "    <tr>\n",
       "      <th>20</th>\n",
       "      <td>283</td>\n",
       "      <td>298</td>\n",
       "      <td>296</td>\n",
       "      <td>289</td>\n",
       "      <td>282</td>\n",
       "      <td>285</td>\n",
       "      <td>291</td>\n",
       "    </tr>\n",
       "    <tr>\n",
       "      <th>22</th>\n",
       "      <td>1288</td>\n",
       "      <td>1373</td>\n",
       "      <td>1289</td>\n",
       "      <td>1337</td>\n",
       "      <td>1341</td>\n",
       "      <td>1375</td>\n",
       "      <td>1333</td>\n",
       "    </tr>\n",
       "    <tr>\n",
       "      <th>23</th>\n",
       "      <td>568</td>\n",
       "      <td>594</td>\n",
       "      <td>570</td>\n",
       "      <td>556</td>\n",
       "      <td>560</td>\n",
       "      <td>569</td>\n",
       "      <td>566</td>\n",
       "    </tr>\n",
       "    <tr>\n",
       "      <th>24</th>\n",
       "      <td>2976</td>\n",
       "      <td>3148</td>\n",
       "      <td>3066</td>\n",
       "      <td>3096</td>\n",
       "      <td>2954</td>\n",
       "      <td>3084</td>\n",
       "      <td>3090</td>\n",
       "    </tr>\n",
       "    <tr>\n",
       "      <th>25</th>\n",
       "      <td>444</td>\n",
       "      <td>453</td>\n",
       "      <td>422</td>\n",
       "      <td>437</td>\n",
       "      <td>470</td>\n",
       "      <td>452</td>\n",
       "      <td>468</td>\n",
       "    </tr>\n",
       "    <tr>\n",
       "      <th>26</th>\n",
       "      <td>369</td>\n",
       "      <td>378</td>\n",
       "      <td>364</td>\n",
       "      <td>363</td>\n",
       "      <td>375</td>\n",
       "      <td>394</td>\n",
       "      <td>385</td>\n",
       "    </tr>\n",
       "    <tr>\n",
       "      <th>27</th>\n",
       "      <td>183</td>\n",
       "      <td>205</td>\n",
       "      <td>183</td>\n",
       "      <td>199</td>\n",
       "      <td>194</td>\n",
       "      <td>194</td>\n",
       "      <td>212</td>\n",
       "    </tr>\n",
       "    <tr>\n",
       "      <th>28</th>\n",
       "      <td>171</td>\n",
       "      <td>160</td>\n",
       "      <td>173</td>\n",
       "      <td>167</td>\n",
       "      <td>166</td>\n",
       "      <td>161</td>\n",
       "      <td>165</td>\n",
       "    </tr>\n",
       "    <tr>\n",
       "      <th>29</th>\n",
       "      <td>12</td>\n",
       "      <td>10</td>\n",
       "      <td>10</td>\n",
       "      <td>9</td>\n",
       "      <td>13</td>\n",
       "      <td>11</td>\n",
       "      <td>12</td>\n",
       "    </tr>\n",
       "  </tbody>\n",
       "</table>\n",
       "</div>"
      ],
      "text/plain": [
       "trending_date2  Friday  Monday  Saturday  Sunday  Thursday  Tuesday  Wednesday\n",
       "categoryId                                                                    \n",
       "1                  243     263       255     274       246      257        234\n",
       "2                  120     105       119      99       128      119        129\n",
       "10                 833     837       776     830       890      894        917\n",
       "15                 187     215       198     217       207      208        207\n",
       "17                 633     668       592     636       682      708        706\n",
       "19                  90      92        87      91        92       89         85\n",
       "20                 283     298       296     289       282      285        291\n",
       "22                1288    1373      1289    1337      1341     1375       1333\n",
       "23                 568     594       570     556       560      569        566\n",
       "24                2976    3148      3066    3096      2954     3084       3090\n",
       "25                 444     453       422     437       470      452        468\n",
       "26                 369     378       364     363       375      394        385\n",
       "27                 183     205       183     199       194      194        212\n",
       "28                 171     160       173     167       166      161        165\n",
       "29                  12      10        10       9        13       11         12"
      ]
     },
     "execution_count": 120,
     "metadata": {},
     "output_type": "execute_result"
    }
   ],
   "source": [
    "df.groupby([df.trending_date2.dt.day_name(), 'categoryId'], as_index= False).size().pivot(index = 'categoryId', columns = 'trending_date2', values = 'size')"
   ]
  },
  {
   "cell_type": "markdown",
   "id": "b480ff92",
   "metadata": {},
   "source": [
    "Q6. 댓글의 수로 (comment_count) 영상 반응에 대한 판단을 할 수 있다. viewcount대비 댓글수가 가장 높은 영상을 확인하라 (view_count값이 0인 경우는 제외한다)"
   ]
  },
  {
   "cell_type": "code",
   "execution_count": 137,
   "id": "4af2421a",
   "metadata": {},
   "outputs": [
    {
     "name": "stdout",
     "output_type": "stream",
     "text": [
      "<class 'pandas.core.frame.DataFrame'>\n",
      "RangeIndex: 60399 entries, 0 to 60398\n",
      "Data columns (total 10 columns):\n",
      " #   Column          Non-Null Count  Dtype         \n",
      "---  ------          --------------  -----         \n",
      " 0   Unnamed: 0      60399 non-null  int64         \n",
      " 1   title           60399 non-null  object        \n",
      " 2   channelTitle    60399 non-null  object        \n",
      " 3   categoryId      60399 non-null  int64         \n",
      " 4   view_count      60399 non-null  int64         \n",
      " 5   likes           60399 non-null  int64         \n",
      " 6   dislikes        60399 non-null  int64         \n",
      " 7   comment_count   60399 non-null  int64         \n",
      " 8   channelId       60399 non-null  object        \n",
      " 9   trending_date2  60399 non-null  datetime64[ns]\n",
      "dtypes: datetime64[ns](1), int64(6), object(3)\n",
      "memory usage: 4.6+ MB\n"
     ]
    }
   ],
   "source": [
    "df.info()"
   ]
  },
  {
   "cell_type": "code",
   "execution_count": 146,
   "id": "70652b61",
   "metadata": {},
   "outputs": [
    {
     "data": {
      "text/plain": [
       "'60분 동안 댓글이 달리지 않으면, 영상이 삭제됩니다. (챌린지)'"
      ]
     },
     "execution_count": 146,
     "metadata": {},
     "output_type": "execute_result"
    }
   ],
   "source": [
    "df2 = df[df.view_count != 0]\n",
    "df.iloc[(df2.comment_count / df2.view_count).sort_values(ascending = False).index[0]]['title']"
   ]
  },
  {
   "cell_type": "markdown",
   "id": "f1eb47ed",
   "metadata": {},
   "source": [
    "## Q7. 댓글의 수로 (comment_count) 영상 반응에 대한 판단을 할 수 있다.viewcount대비 댓글수가 가장 낮은 영상을 확인하라 (view_counts, ratio값이 0인경우는 제외한다.)"
   ]
  },
  {
   "cell_type": "code",
   "execution_count": 40,
   "id": "3dc0e6ba",
   "metadata": {
    "scrolled": false
   },
   "outputs": [
    {
     "data": {
      "text/html": [
       "<div>\n",
       "<style scoped>\n",
       "    .dataframe tbody tr th:only-of-type {\n",
       "        vertical-align: middle;\n",
       "    }\n",
       "\n",
       "    .dataframe tbody tr th {\n",
       "        vertical-align: top;\n",
       "    }\n",
       "\n",
       "    .dataframe thead th {\n",
       "        text-align: right;\n",
       "    }\n",
       "</style>\n",
       "<table border=\"1\" class=\"dataframe\">\n",
       "  <thead>\n",
       "    <tr style=\"text-align: right;\">\n",
       "      <th></th>\n",
       "      <th>Unnamed: 0</th>\n",
       "      <th>title</th>\n",
       "      <th>channelTitle</th>\n",
       "      <th>categoryId</th>\n",
       "      <th>view_count</th>\n",
       "      <th>likes</th>\n",
       "      <th>dislikes</th>\n",
       "      <th>comment_count</th>\n",
       "      <th>channelId</th>\n",
       "      <th>trending_date2</th>\n",
       "    </tr>\n",
       "  </thead>\n",
       "  <tbody>\n",
       "    <tr>\n",
       "      <th>0</th>\n",
       "      <td>0</td>\n",
       "      <td>[신병] 물자창고</td>\n",
       "      <td>장삐쭈</td>\n",
       "      <td>23</td>\n",
       "      <td>1893473</td>\n",
       "      <td>38249</td>\n",
       "      <td>730</td>\n",
       "      <td>8595</td>\n",
       "      <td>UChbE5OZQ6dRHECsX0tEPEZQ</td>\n",
       "      <td>2021-01-01</td>\n",
       "    </tr>\n",
       "    <tr>\n",
       "      <th>1</th>\n",
       "      <td>1</td>\n",
       "      <td>RAIN(비) - 나로 바꾸자 Switch to me (duet with JYP) MV</td>\n",
       "      <td>RAIN's Official Channel</td>\n",
       "      <td>10</td>\n",
       "      <td>2600864</td>\n",
       "      <td>0</td>\n",
       "      <td>0</td>\n",
       "      <td>20129</td>\n",
       "      <td>UCxXgIeE5hxWxHG6dz9Scg2w</td>\n",
       "      <td>2021-01-01</td>\n",
       "    </tr>\n",
       "    <tr>\n",
       "      <th>2</th>\n",
       "      <td>2</td>\n",
       "      <td>2020년 제야의 종 온라인 타종행사 | 보신각 현장 행사는 진행하지 않습니다.</td>\n",
       "      <td>서울시 · Seoul</td>\n",
       "      <td>29</td>\n",
       "      <td>347049</td>\n",
       "      <td>3564</td>\n",
       "      <td>120</td>\n",
       "      <td>178</td>\n",
       "      <td>UCZUPZW5idAxYp-Asj__lVAA</td>\n",
       "      <td>2021-01-01</td>\n",
       "    </tr>\n",
       "  </tbody>\n",
       "</table>\n",
       "</div>"
      ],
      "text/plain": [
       "   Unnamed: 0                                             title   \n",
       "0           0                                         [신병] 물자창고  \\\n",
       "1           1  RAIN(비) - 나로 바꾸자 Switch to me (duet with JYP) MV   \n",
       "2           2      2020년 제야의 종 온라인 타종행사 | 보신각 현장 행사는 진행하지 않습니다.   \n",
       "\n",
       "              channelTitle  categoryId  view_count  likes  dislikes   \n",
       "0                      장삐쭈          23     1893473  38249       730  \\\n",
       "1  RAIN's Official Channel          10     2600864      0         0   \n",
       "2              서울시 · Seoul          29      347049   3564       120   \n",
       "\n",
       "   comment_count                 channelId trending_date2  \n",
       "0           8595  UChbE5OZQ6dRHECsX0tEPEZQ     2021-01-01  \n",
       "1          20129  UCxXgIeE5hxWxHG6dz9Scg2w     2021-01-01  \n",
       "2            178  UCZUPZW5idAxYp-Asj__lVAA     2021-01-01  "
      ]
     },
     "execution_count": 40,
     "metadata": {},
     "output_type": "execute_result"
    }
   ],
   "source": [
    "df.head(3)"
   ]
  },
  {
   "cell_type": "code",
   "execution_count": 46,
   "id": "ffb298d4",
   "metadata": {},
   "outputs": [
    {
     "data": {
      "text/plain": [
       "'Join the BTS #PermissiontoDance Challenge only on YouTube #Shorts'"
      ]
     },
     "execution_count": 46,
     "metadata": {},
     "output_type": "execute_result"
    }
   ],
   "source": [
    "df2 = df.copy()\n",
    "df2['ratio'] = df2.comment_count / df2.view_count\n",
    "df2[(df2.view_count != 0) & (df2.ratio != 0)].sort_values('ratio').iloc[0].title"
   ]
  },
  {
   "cell_type": "code",
   "execution_count": 153,
   "id": "b6f6efff",
   "metadata": {},
   "outputs": [
    {
     "name": "stderr",
     "output_type": "stream",
     "text": [
      "C:\\Users\\User\\AppData\\Local\\Temp\\ipykernel_10788\\1416018370.py:1: SettingWithCopyWarning: \n",
      "A value is trying to be set on a copy of a slice from a DataFrame.\n",
      "Try using .loc[row_indexer,col_indexer] = value instead\n",
      "\n",
      "See the caveats in the documentation: https://pandas.pydata.org/pandas-docs/stable/user_guide/indexing.html#returning-a-view-versus-a-copy\n",
      "  df2['ratio'] = df2.comment_count / df2.view_count\n"
     ]
    },
    {
     "data": {
      "text/plain": [
       "'Join the BTS #PermissiontoDance Challenge only on YouTube #Shorts'"
      ]
     },
     "execution_count": 153,
     "metadata": {},
     "output_type": "execute_result"
    }
   ],
   "source": [
    "df2['ratio'] = df2.comment_count / df2.view_count\n",
    "df3 = df2[df2.ratio !=0]\n",
    "df.iloc[(df3.comment_count / df3.view_count).sort_values().index[0]]['title']"
   ]
  },
  {
   "cell_type": "code",
   "execution_count": 156,
   "id": "02b7cb2d",
   "metadata": {},
   "outputs": [
    {
     "data": {
      "text/plain": [
       "46005"
      ]
     },
     "execution_count": 156,
     "metadata": {},
     "output_type": "execute_result"
    }
   ],
   "source": [
    "ratio = (df.comment_count / df.view_count).dropna().sort_values()\n",
    "ratio[ratio !=0].index[0]"
   ]
  },
  {
   "cell_type": "code",
   "execution_count": 157,
   "id": "28a1ca87",
   "metadata": {},
   "outputs": [
    {
     "data": {
      "text/plain": [
       "'Join the BTS #PermissiontoDance Challenge only on YouTube #Shorts'"
      ]
     },
     "execution_count": 157,
     "metadata": {},
     "output_type": "execute_result"
    }
   ],
   "source": [
    "df.iloc[ratio[ratio !=0].index[0]].title"
   ]
  },
  {
   "cell_type": "markdown",
   "id": "b17343f6",
   "metadata": {},
   "source": [
    "Q8. like 대비 dislike의 수가 가장 적은 영상은 무엇인가? (like, dislike 값이 0인경우는 제외한다)"
   ]
  },
  {
   "cell_type": "code",
   "execution_count": 164,
   "id": "d9297667",
   "metadata": {},
   "outputs": [
    {
     "data": {
      "text/plain": [
       "'[줌터뷰] *최초공개* 사부작즈🐰🐶의 비공식 이름은 아이라인즈? 꿀조합 티키타카 가득한 NCT 127 도영&정우의 줌터뷰'"
      ]
     },
     "execution_count": 164,
     "metadata": {},
     "output_type": "execute_result"
    }
   ],
   "source": [
    "dff = df [( df.likes != 0 ) & ( df.dislikes != 0 ) ]\n",
    "df.iloc[(dff.dislikes / dff.likes).sort_values().index[0]].title"
   ]
  },
  {
   "cell_type": "markdown",
   "id": "26d1b9c7",
   "metadata": {},
   "source": [
    "Q9.가장많은 트렌드 영상을 제작한 채널의 이름은 무엇인가? (날짜기준, 중복포함)"
   ]
  },
  {
   "cell_type": "code",
   "execution_count": 175,
   "id": "57c79a0b",
   "metadata": {},
   "outputs": [
    {
     "data": {
      "text/plain": [
       "'짤툰'"
      ]
     },
     "execution_count": 175,
     "metadata": {},
     "output_type": "execute_result"
    }
   ],
   "source": [
    "df.groupby('channelTitle').size().sort_values(ascending = False).index[0]"
   ]
  },
  {
   "cell_type": "code",
   "execution_count": 184,
   "id": "37aea3d0",
   "metadata": {},
   "outputs": [
    {
     "data": {
      "text/plain": [
       "'짤툰'"
      ]
     },
     "execution_count": 184,
     "metadata": {},
     "output_type": "execute_result"
    }
   ],
   "source": [
    "df.loc[df.channelId == df.channelId.value_counts().index[0]].channelTitle.unique()[0]"
   ]
  },
  {
   "cell_type": "markdown",
   "id": "5e38e634",
   "metadata": {},
   "source": [
    "## Q10. 20회(20일)이상 인기동영상 리스트에 포함된 동영상의 숫자는?"
   ]
  },
  {
   "cell_type": "code",
   "execution_count": 47,
   "id": "a8149acc",
   "metadata": {},
   "outputs": [
    {
     "data": {
      "text/html": [
       "<div>\n",
       "<style scoped>\n",
       "    .dataframe tbody tr th:only-of-type {\n",
       "        vertical-align: middle;\n",
       "    }\n",
       "\n",
       "    .dataframe tbody tr th {\n",
       "        vertical-align: top;\n",
       "    }\n",
       "\n",
       "    .dataframe thead th {\n",
       "        text-align: right;\n",
       "    }\n",
       "</style>\n",
       "<table border=\"1\" class=\"dataframe\">\n",
       "  <thead>\n",
       "    <tr style=\"text-align: right;\">\n",
       "      <th></th>\n",
       "      <th>Unnamed: 0</th>\n",
       "      <th>title</th>\n",
       "      <th>channelTitle</th>\n",
       "      <th>categoryId</th>\n",
       "      <th>view_count</th>\n",
       "      <th>likes</th>\n",
       "      <th>dislikes</th>\n",
       "      <th>comment_count</th>\n",
       "      <th>channelId</th>\n",
       "      <th>trending_date2</th>\n",
       "    </tr>\n",
       "  </thead>\n",
       "  <tbody>\n",
       "    <tr>\n",
       "      <th>0</th>\n",
       "      <td>0</td>\n",
       "      <td>[신병] 물자창고</td>\n",
       "      <td>장삐쭈</td>\n",
       "      <td>23</td>\n",
       "      <td>1893473</td>\n",
       "      <td>38249</td>\n",
       "      <td>730</td>\n",
       "      <td>8595</td>\n",
       "      <td>UChbE5OZQ6dRHECsX0tEPEZQ</td>\n",
       "      <td>2021-01-01</td>\n",
       "    </tr>\n",
       "    <tr>\n",
       "      <th>1</th>\n",
       "      <td>1</td>\n",
       "      <td>RAIN(비) - 나로 바꾸자 Switch to me (duet with JYP) MV</td>\n",
       "      <td>RAIN's Official Channel</td>\n",
       "      <td>10</td>\n",
       "      <td>2600864</td>\n",
       "      <td>0</td>\n",
       "      <td>0</td>\n",
       "      <td>20129</td>\n",
       "      <td>UCxXgIeE5hxWxHG6dz9Scg2w</td>\n",
       "      <td>2021-01-01</td>\n",
       "    </tr>\n",
       "    <tr>\n",
       "      <th>2</th>\n",
       "      <td>2</td>\n",
       "      <td>2020년 제야의 종 온라인 타종행사 | 보신각 현장 행사는 진행하지 않습니다.</td>\n",
       "      <td>서울시 · Seoul</td>\n",
       "      <td>29</td>\n",
       "      <td>347049</td>\n",
       "      <td>3564</td>\n",
       "      <td>120</td>\n",
       "      <td>178</td>\n",
       "      <td>UCZUPZW5idAxYp-Asj__lVAA</td>\n",
       "      <td>2021-01-01</td>\n",
       "    </tr>\n",
       "  </tbody>\n",
       "</table>\n",
       "</div>"
      ],
      "text/plain": [
       "   Unnamed: 0                                             title   \n",
       "0           0                                         [신병] 물자창고  \\\n",
       "1           1  RAIN(비) - 나로 바꾸자 Switch to me (duet with JYP) MV   \n",
       "2           2      2020년 제야의 종 온라인 타종행사 | 보신각 현장 행사는 진행하지 않습니다.   \n",
       "\n",
       "              channelTitle  categoryId  view_count  likes  dislikes   \n",
       "0                      장삐쭈          23     1893473  38249       730  \\\n",
       "1  RAIN's Official Channel          10     2600864      0         0   \n",
       "2              서울시 · Seoul          29      347049   3564       120   \n",
       "\n",
       "   comment_count                 channelId trending_date2  \n",
       "0           8595  UChbE5OZQ6dRHECsX0tEPEZQ     2021-01-01  \n",
       "1          20129  UCxXgIeE5hxWxHG6dz9Scg2w     2021-01-01  \n",
       "2            178  UCZUPZW5idAxYp-Asj__lVAA     2021-01-01  "
      ]
     },
     "execution_count": 47,
     "metadata": {},
     "output_type": "execute_result"
    }
   ],
   "source": [
    "df.head(3)"
   ]
  },
  {
   "cell_type": "code",
   "execution_count": 51,
   "id": "66dd37a8",
   "metadata": {},
   "outputs": [
    {
     "data": {
      "text/plain": [
       "41"
      ]
     },
     "execution_count": 51,
     "metadata": {},
     "output_type": "execute_result"
    }
   ],
   "source": [
    "(df.groupby('title')['trending_date2'].size() >= 20).sum()   # title은 같을 수 있으므로, 채널ID까지 고려해줘야 함"
   ]
  },
  {
   "cell_type": "code",
   "execution_count": 193,
   "id": "f807814a",
   "metadata": {
    "scrolled": true
   },
   "outputs": [
    {
     "data": {
      "text/plain": [
       "40"
      ]
     },
     "execution_count": 193,
     "metadata": {},
     "output_type": "execute_result"
    }
   ],
   "source": [
    "(df[['title','channelId']].value_counts() >=20).sum()"
   ]
  },
  {
   "cell_type": "code",
   "execution_count": 66,
   "id": "8b8b168f",
   "metadata": {
    "scrolled": true
   },
   "outputs": [
    {
     "data": {
      "text/plain": [
       "40"
      ]
     },
     "execution_count": 66,
     "metadata": {},
     "output_type": "execute_result"
    }
   ],
   "source": [
    "(df.groupby(['title','channelId'])['trending_date2'].size() >= 20).sum()"
   ]
  },
  {
   "cell_type": "code",
   "execution_count": 71,
   "id": "2df174f7",
   "metadata": {},
   "outputs": [
    {
     "data": {
      "text/plain": [
       "0                #1. [슈퍼리그] 챔스 종결? 드디어 창설된 슈퍼리그, 형태와 방식은?\n",
       "1                               #181.왜 나만 갖고 그래?? #shorts\n",
       "2                            #254. 조만간 사고 낼 것 같아요 #shorts\n",
       "3                              #302. 끌바냐? 단속이냐?   #shorts\n",
       "4       #MtnDew3PT​ Contest Full Highlights | 2021 #NB...\n",
       "                              ...                        \n",
       "7862    🧳ep.12-1 좋은 거 다 주고 싶었던(?) 배우들의 역대급 몸으로 말해요 | 🧳...\n",
       "7863    🧳스페셜(1) 최다 출연 X 최단 시간, 이렇게 힘든 걸 금가즈가 해냅니다 | 🧳출...\n",
       "7864        🧳스페셜(2) 솔찍히 썸네일만 봐도 벌써 재밌다 | 🧳출장십오야 X 빈센조 스페셜\n",
       "7865    🧳최종화 BH의 안녕과 평화(?)가 걸린, 난이도 극악(!) 고요 속의 외침 | 🧳...\n",
       "7866    🩸괴담회에 어서오세요🩸: 첫 번째 이야기 | WELCOME TO NCT’S HORR...\n",
       "Name: title, Length: 7867, dtype: object"
      ]
     },
     "execution_count": 71,
     "metadata": {},
     "output_type": "execute_result"
    }
   ],
   "source": [
    "(df.groupby(['title','channelId'])['trending_date2'].size() >= 20).reset_index().title"
   ]
  },
  {
   "cell_type": "code",
   "execution_count": 76,
   "id": "ca53bf7b",
   "metadata": {},
   "outputs": [
    {
     "data": {
      "text/plain": [
       "0                #1. [슈퍼리그] 챔스 종결? 드디어 창설된 슈퍼리그, 형태와 방식은?\n",
       "1                               #181.왜 나만 갖고 그래?? #shorts\n",
       "2                            #254. 조만간 사고 낼 것 같아요 #shorts\n",
       "3                              #302. 끌바냐? 단속이냐?   #shorts\n",
       "4       #MtnDew3PT​ Contest Full Highlights | 2021 #NB...\n",
       "                              ...                        \n",
       "7849    🧳ep.12-1 좋은 거 다 주고 싶었던(?) 배우들의 역대급 몸으로 말해요 | 🧳...\n",
       "7850    🧳스페셜(1) 최다 출연 X 최단 시간, 이렇게 힘든 걸 금가즈가 해냅니다 | 🧳출...\n",
       "7851        🧳스페셜(2) 솔찍히 썸네일만 봐도 벌써 재밌다 | 🧳출장십오야 X 빈센조 스페셜\n",
       "7852    🧳최종화 BH의 안녕과 평화(?)가 걸린, 난이도 극악(!) 고요 속의 외침 | 🧳...\n",
       "7853    🩸괴담회에 어서오세요🩸: 첫 번째 이야기 | WELCOME TO NCT’S HORR...\n",
       "Name: title, Length: 7854, dtype: object"
      ]
     },
     "execution_count": 76,
     "metadata": {},
     "output_type": "execute_result"
    }
   ],
   "source": [
    "(df.groupby('title')['trending_date2'].size() >= 20).reset_index().title"
   ]
  },
  {
   "cell_type": "code",
   "execution_count": 110,
   "id": "140a922b",
   "metadata": {},
   "outputs": [
    {
     "data": {
      "text/html": [
       "<div>\n",
       "<style scoped>\n",
       "    .dataframe tbody tr th:only-of-type {\n",
       "        vertical-align: middle;\n",
       "    }\n",
       "\n",
       "    .dataframe tbody tr th {\n",
       "        vertical-align: top;\n",
       "    }\n",
       "\n",
       "    .dataframe thead th {\n",
       "        text-align: right;\n",
       "    }\n",
       "</style>\n",
       "<table border=\"1\" class=\"dataframe\">\n",
       "  <thead>\n",
       "    <tr style=\"text-align: right;\">\n",
       "      <th></th>\n",
       "      <th>title</th>\n",
       "      <th>trending_date2</th>\n",
       "    </tr>\n",
       "  </thead>\n",
       "  <tbody>\n",
       "    <tr>\n",
       "      <th>5</th>\n",
       "      <td>Go Back (고백)</td>\n",
       "      <td>42</td>\n",
       "    </tr>\n",
       "    <tr>\n",
       "      <th>35</th>\n",
       "      <td>컵라면 먹을 때 절대 일어날리 없는 상황들 ㅋㅋㅋ</td>\n",
       "      <td>24</td>\n",
       "    </tr>\n",
       "    <tr>\n",
       "      <th>22</th>\n",
       "      <td>대한민국 VS 투르크메니스탄 : FIFA 카타르 월드컵 2차 예선 하이라이트 - 2...</td>\n",
       "      <td>24</td>\n",
       "    </tr>\n",
       "    <tr>\n",
       "      <th>21</th>\n",
       "      <td>대박... 멧돼지를 아들로 삼은 할아버지｜KBS 주주클럽 050410 방송</td>\n",
       "      <td>23</td>\n",
       "    </tr>\n",
       "    <tr>\n",
       "      <th>2</th>\n",
       "      <td>2주더놀릴예정</td>\n",
       "      <td>23</td>\n",
       "    </tr>\n",
       "    <tr>\n",
       "      <th>19</th>\n",
       "      <td>극과 극을 살고 있는 인도의 갑부와 빈곤층들!</td>\n",
       "      <td>23</td>\n",
       "    </tr>\n",
       "    <tr>\n",
       "      <th>25</th>\n",
       "      <td>밤낮으로 우리집 비번 눌러대는 길고양이 좀 어떻게 해주세요ㅣStray Cat Ent...</td>\n",
       "      <td>22</td>\n",
       "    </tr>\n",
       "    <tr>\n",
       "      <th>16</th>\n",
       "      <td>[짐승친구들] 예비군</td>\n",
       "      <td>22</td>\n",
       "    </tr>\n",
       "    <tr>\n",
       "      <th>15</th>\n",
       "      <td>[진돗개 진솔쓰] 차박 일기. #Shorts</td>\n",
       "      <td>22</td>\n",
       "    </tr>\n",
       "    <tr>\n",
       "      <th>12</th>\n",
       "      <td>[도장TV 8회] 수박먹는 하영이^^;;</td>\n",
       "      <td>22</td>\n",
       "    </tr>\n",
       "    <tr>\n",
       "      <th>0</th>\n",
       "      <td>#shorts ｜김계란님 들고 더블폴</td>\n",
       "      <td>22</td>\n",
       "    </tr>\n",
       "    <tr>\n",
       "      <th>24</th>\n",
       "      <td>마술사의 마술을 타짜가 알아차릴 수 있을까..? ㅋㅋㅋㅋ</td>\n",
       "      <td>21</td>\n",
       "    </tr>\n",
       "    <tr>\n",
       "      <th>29</th>\n",
       "      <td>어몽어스 VR좀비2(SCP) 8화 [어몽어스 애니메이션] / [AMONG US AN...</td>\n",
       "      <td>21</td>\n",
       "    </tr>\n",
       "    <tr>\n",
       "      <th>23</th>\n",
       "      <td>릴카...제로투</td>\n",
       "      <td>21</td>\n",
       "    </tr>\n",
       "    <tr>\n",
       "      <th>30</th>\n",
       "      <td>여행만 가면 시작되는 선넘는 복불복 게임ㅋㅋㅋ 이번에는 또 무슨일이 벌어질까ㅋㅋㅋ</td>\n",
       "      <td>21</td>\n",
       "    </tr>\n",
       "    <tr>\n",
       "      <th>32</th>\n",
       "      <td>외국인 최초로 군부대 면회를 갔더니 부대에서 보인 충격적인 반응</td>\n",
       "      <td>21</td>\n",
       "    </tr>\n",
       "    <tr>\n",
       "      <th>39</th>\n",
       "      <td>황의조가 프랑스 감독 편견을 완전히 깨버렸던 경기</td>\n",
       "      <td>21</td>\n",
       "    </tr>\n",
       "    <tr>\n",
       "      <th>27</th>\n",
       "      <td>뱃살 아랫뱃살 최고의 운동</td>\n",
       "      <td>21</td>\n",
       "    </tr>\n",
       "    <tr>\n",
       "      <th>20</th>\n",
       "      <td>당신이 절대 '하얀색 신종 컵라면'을 알 수 없는 이유(마지막 소름 주의)</td>\n",
       "      <td>21</td>\n",
       "    </tr>\n",
       "    <tr>\n",
       "      <th>3</th>\n",
       "      <td>BTS performs ‘Dynamite’ l GMA</td>\n",
       "      <td>21</td>\n",
       "    </tr>\n",
       "    <tr>\n",
       "      <th>14</th>\n",
       "      <td>[안방1열 직캠4K] 에스파 'Next Level' 풀캠 (aespa Full Ca...</td>\n",
       "      <td>21</td>\n",
       "    </tr>\n",
       "    <tr>\n",
       "      <th>9</th>\n",
       "      <td>[20/21 UCL 결승] 맨시티 vs 첼시 H/L</td>\n",
       "      <td>21</td>\n",
       "    </tr>\n",
       "    <tr>\n",
       "      <th>6</th>\n",
       "      <td>MBN 뉴스파이터-친구 휴대전화 주운 환경미화원 인터뷰</td>\n",
       "      <td>21</td>\n",
       "    </tr>\n",
       "    <tr>\n",
       "      <th>18</th>\n",
       "      <td>계속 저어줄 필요없어요. 냄비에 넣고 10분이면 끝. 매일 먹었더니,  운동 안 해...</td>\n",
       "      <td>20</td>\n",
       "    </tr>\n",
       "    <tr>\n",
       "      <th>31</th>\n",
       "      <td>오늘은 간단하게 계란 한 판 먹을게요</td>\n",
       "      <td>20</td>\n",
       "    </tr>\n",
       "    <tr>\n",
       "      <th>38</th>\n",
       "      <td>한국에 시집간 딸을 보러 온 외국 부모님이 문화충격 받은 이유</td>\n",
       "      <td>20</td>\n",
       "    </tr>\n",
       "    <tr>\n",
       "      <th>37</th>\n",
       "      <td>퇴근 10분전 좋소회의  - 【좋좋소 Ep.16】</td>\n",
       "      <td>20</td>\n",
       "    </tr>\n",
       "    <tr>\n",
       "      <th>36</th>\n",
       "      <td>타짜의 야바위 기술을 일반인이 캐치 할 수 이...</td>\n",
       "      <td>20</td>\n",
       "    </tr>\n",
       "    <tr>\n",
       "      <th>4</th>\n",
       "      <td>EXO 엑소 'Don't fight the feeling' MV</td>\n",
       "      <td>20</td>\n",
       "    </tr>\n",
       "    <tr>\n",
       "      <th>34</th>\n",
       "      <td>유튜브를 8일간 업로드하지못한 이유</td>\n",
       "      <td>20</td>\n",
       "    </tr>\n",
       "    <tr>\n",
       "      <th>33</th>\n",
       "      <td>웅이 혼자 자취하는 데 식비 30인분 나왔읍니다 l [택슐랭가이드 시즌 2 EP.3]</td>\n",
       "      <td>20</td>\n",
       "    </tr>\n",
       "    <tr>\n",
       "      <th>7</th>\n",
       "      <td>SUB)7년만에 처음으로 권태기 고백했더니 사랑꾼 남친반응ㅜㅜ가슴아픔주의😭 헤각장!...</td>\n",
       "      <td>20</td>\n",
       "    </tr>\n",
       "    <tr>\n",
       "      <th>1</th>\n",
       "      <td>(EN/JP/IN) 하이브가 JYP, SM 제치고 1위한 이것은? 입구컷 당했던 ⭐...</td>\n",
       "      <td>20</td>\n",
       "    </tr>\n",
       "    <tr>\n",
       "      <th>8</th>\n",
       "      <td>[#습핫습핫] 표정은 왜 그러는지 모르겠는 천서진의 우당탕탕 감🍞 생활 | 펜트하우...</td>\n",
       "      <td>20</td>\n",
       "    </tr>\n",
       "    <tr>\n",
       "      <th>28</th>\n",
       "      <td>알고보니 유명인이 만들어낸 밈들 : 이걸 이 사람이 만든거였다구여?</td>\n",
       "      <td>20</td>\n",
       "    </tr>\n",
       "    <tr>\n",
       "      <th>26</th>\n",
       "      <td>방송 인생 최초로 여친이랑 합방했습니다</td>\n",
       "      <td>20</td>\n",
       "    </tr>\n",
       "    <tr>\n",
       "      <th>10</th>\n",
       "      <td>[4K] 헤이즈(Heize)의 킬링벌스를 라이브로! l 비도 오고 그래서, 돌아오지...</td>\n",
       "      <td>20</td>\n",
       "    </tr>\n",
       "    <tr>\n",
       "      <th>11</th>\n",
       "      <td>[놀면 뭐하니?] 9년 만에 맛보는 유부장님의 손맛👏 보고싶었어요 정과장💖ㅣ#정준하...</td>\n",
       "      <td>20</td>\n",
       "    </tr>\n",
       "    <tr>\n",
       "      <th>13</th>\n",
       "      <td>[상추무침]상추!아직도 생으로 무치나요?시금치무침보다 훨씬 맛있는 밑반찬  상추나물...</td>\n",
       "      <td>20</td>\n",
       "    </tr>\n",
       "    <tr>\n",
       "      <th>17</th>\n",
       "      <td>[충격] 비단잉어가 먹히는 현장... 왜가리 때문에 연못 시즌 종료...</td>\n",
       "      <td>20</td>\n",
       "    </tr>\n",
       "    <tr>\n",
       "      <th>40</th>\n",
       "      <td>＂그렇게 상호명 말하면 안 돼요＂ 넵! 연땡 사장님과 전화 연결📞 [골목식당|SBS...</td>\n",
       "      <td>20</td>\n",
       "    </tr>\n",
       "  </tbody>\n",
       "</table>\n",
       "</div>"
      ],
      "text/plain": [
       "                                                title  trending_date2\n",
       "5                                        Go Back (고백)              42\n",
       "35                        컵라면 먹을 때 절대 일어날리 없는 상황들 ㅋㅋㅋ              24\n",
       "22  대한민국 VS 투르크메니스탄 : FIFA 카타르 월드컵 2차 예선 하이라이트 - 2...              24\n",
       "21          대박... 멧돼지를 아들로 삼은 할아버지｜KBS 주주클럽 050410 방송              23\n",
       "2                                             2주더놀릴예정              23\n",
       "19                          극과 극을 살고 있는 인도의 갑부와 빈곤층들!              23\n",
       "25  밤낮으로 우리집 비번 눌러대는 길고양이 좀 어떻게 해주세요ㅣStray Cat Ent...              22\n",
       "16                                        [짐승친구들] 예비군              22\n",
       "15                           [진돗개 진솔쓰] 차박 일기. #Shorts              22\n",
       "12                             [도장TV 8회] 수박먹는 하영이^^;;              22\n",
       "0                                #shorts ｜김계란님 들고 더블폴              22\n",
       "24                    마술사의 마술을 타짜가 알아차릴 수 있을까..? ㅋㅋㅋㅋ              21\n",
       "29  어몽어스 VR좀비2(SCP) 8화 [어몽어스 애니메이션] / [AMONG US AN...              21\n",
       "23                                           릴카...제로투              21\n",
       "30      여행만 가면 시작되는 선넘는 복불복 게임ㅋㅋㅋ 이번에는 또 무슨일이 벌어질까ㅋㅋㅋ              21\n",
       "32                외국인 최초로 군부대 면회를 갔더니 부대에서 보인 충격적인 반응              21\n",
       "39                        황의조가 프랑스 감독 편견을 완전히 깨버렸던 경기              21\n",
       "27                                     뱃살 아랫뱃살 최고의 운동              21\n",
       "20          당신이 절대 '하얀색 신종 컵라면'을 알 수 없는 이유(마지막 소름 주의)              21\n",
       "3                       BTS performs ‘Dynamite’ l GMA              21\n",
       "14  [안방1열 직캠4K] 에스파 'Next Level' 풀캠 (aespa Full Ca...              21\n",
       "9                        [20/21 UCL 결승] 맨시티 vs 첼시 H/L              21\n",
       "6                      MBN 뉴스파이터-친구 휴대전화 주운 환경미화원 인터뷰              21\n",
       "18  계속 저어줄 필요없어요. 냄비에 넣고 10분이면 끝. 매일 먹었더니,  운동 안 해...              20\n",
       "31                               오늘은 간단하게 계란 한 판 먹을게요              20\n",
       "38                 한국에 시집간 딸을 보러 온 외국 부모님이 문화충격 받은 이유              20\n",
       "37                        퇴근 10분전 좋소회의  - 【좋좋소 Ep.16】              20\n",
       "36  타짜의 야바위 기술을 일반인이 캐치 할 수 이...              20\n",
       "4                 EXO 엑소 'Don't fight the feeling' MV              20\n",
       "34                                유튜브를 8일간 업로드하지못한 이유              20\n",
       "33    웅이 혼자 자취하는 데 식비 30인분 나왔읍니다 l [택슐랭가이드 시즌 2 EP.3]              20\n",
       "7   SUB)7년만에 처음으로 권태기 고백했더니 사랑꾼 남친반응ㅜㅜ가슴아픔주의😭 헤각장!...              20\n",
       "1   (EN/JP/IN) 하이브가 JYP, SM 제치고 1위한 이것은? 입구컷 당했던 ⭐...              20\n",
       "8   [#습핫습핫] 표정은 왜 그러는지 모르겠는 천서진의 우당탕탕 감🍞 생활 | 펜트하우...              20\n",
       "28              알고보니 유명인이 만들어낸 밈들 : 이걸 이 사람이 만든거였다구여?              20\n",
       "26                              방송 인생 최초로 여친이랑 합방했습니다              20\n",
       "10  [4K] 헤이즈(Heize)의 킬링벌스를 라이브로! l 비도 오고 그래서, 돌아오지...              20\n",
       "11  [놀면 뭐하니?] 9년 만에 맛보는 유부장님의 손맛👏 보고싶었어요 정과장💖ㅣ#정준하...              20\n",
       "13  [상추무침]상추!아직도 생으로 무치나요?시금치무침보다 훨씬 맛있는 밑반찬  상추나물...              20\n",
       "17           [충격] 비단잉어가 먹히는 현장... 왜가리 때문에 연못 시즌 종료...              20\n",
       "40  ＂그렇게 상호명 말하면 안 돼요＂ 넵! 연땡 사장님과 전화 연결📞 [골목식당|SBS...              20"
      ]
     },
     "execution_count": 110,
     "metadata": {},
     "output_type": "execute_result"
    }
   ],
   "source": [
    "df.groupby('title')['trending_date2'].size()[(df.groupby('title')['trending_date2'].size() >= 20)].reset_index().sort_values('trending_date2', ascending = False)"
   ]
  },
  {
   "cell_type": "code",
   "execution_count": 111,
   "id": "b068f1fd",
   "metadata": {},
   "outputs": [
    {
     "data": {
      "text/html": [
       "<div>\n",
       "<style scoped>\n",
       "    .dataframe tbody tr th:only-of-type {\n",
       "        vertical-align: middle;\n",
       "    }\n",
       "\n",
       "    .dataframe tbody tr th {\n",
       "        vertical-align: top;\n",
       "    }\n",
       "\n",
       "    .dataframe thead th {\n",
       "        text-align: right;\n",
       "    }\n",
       "</style>\n",
       "<table border=\"1\" class=\"dataframe\">\n",
       "  <thead>\n",
       "    <tr style=\"text-align: right;\">\n",
       "      <th></th>\n",
       "      <th>title</th>\n",
       "      <th>channelId</th>\n",
       "      <th>trending_date2</th>\n",
       "    </tr>\n",
       "  </thead>\n",
       "  <tbody>\n",
       "    <tr>\n",
       "      <th>34</th>\n",
       "      <td>컵라면 먹을 때 절대 일어날리 없는 상황들 ㅋㅋㅋ</td>\n",
       "      <td>UCmzMtXrJgfCqA0rfhz8_P4A</td>\n",
       "      <td>24</td>\n",
       "    </tr>\n",
       "    <tr>\n",
       "      <th>21</th>\n",
       "      <td>대한민국 VS 투르크메니스탄 : FIFA 카타르 월드컵 2차 예선 하이라이트 - 2...</td>\n",
       "      <td>UCpjOmwiy88a9EV3Rv8ukJgw</td>\n",
       "      <td>24</td>\n",
       "    </tr>\n",
       "    <tr>\n",
       "      <th>20</th>\n",
       "      <td>대박... 멧돼지를 아들로 삼은 할아버지｜KBS 주주클럽 050410 방송</td>\n",
       "      <td>UCAhKKbDO9-ymWZ_7iAFLBQQ</td>\n",
       "      <td>23</td>\n",
       "    </tr>\n",
       "    <tr>\n",
       "      <th>2</th>\n",
       "      <td>2주더놀릴예정</td>\n",
       "      <td>UCaKod3X1Tn4c7Ci0iUKcvzQ</td>\n",
       "      <td>23</td>\n",
       "    </tr>\n",
       "    <tr>\n",
       "      <th>18</th>\n",
       "      <td>극과 극을 살고 있는 인도의 갑부와 빈곤층들!</td>\n",
       "      <td>UCi9Sl8GnFdYoqEVXnojBPJw</td>\n",
       "      <td>23</td>\n",
       "    </tr>\n",
       "    <tr>\n",
       "      <th>11</th>\n",
       "      <td>[도장TV 8회] 수박먹는 하영이^^;;</td>\n",
       "      <td>UCkkWd02T76Zi5UcKRX0x3Bg</td>\n",
       "      <td>22</td>\n",
       "    </tr>\n",
       "    <tr>\n",
       "      <th>24</th>\n",
       "      <td>밤낮으로 우리집 비번 눌러대는 길고양이 좀 어떻게 해주세요ㅣStray Cat Ent...</td>\n",
       "      <td>UC22go5LdQEw-iDuxFb4C0hw</td>\n",
       "      <td>22</td>\n",
       "    </tr>\n",
       "    <tr>\n",
       "      <th>15</th>\n",
       "      <td>[짐승친구들] 예비군</td>\n",
       "      <td>UCszFjh7CEfwDb7UUGb4RzCQ</td>\n",
       "      <td>22</td>\n",
       "    </tr>\n",
       "    <tr>\n",
       "      <th>14</th>\n",
       "      <td>[진돗개 진솔쓰] 차박 일기. #Shorts</td>\n",
       "      <td>UCi_IoQN5pb2AUdmZwLhi2Ig</td>\n",
       "      <td>22</td>\n",
       "    </tr>\n",
       "    <tr>\n",
       "      <th>0</th>\n",
       "      <td>#shorts ｜김계란님 들고 더블폴</td>\n",
       "      <td>UCTS3Lw4fOEoYFM13IXUqsMA</td>\n",
       "      <td>22</td>\n",
       "    </tr>\n",
       "    <tr>\n",
       "      <th>19</th>\n",
       "      <td>당신이 절대 '하얀색 신종 컵라면'을 알 수 없는 이유(마지막 소름 주의)</td>\n",
       "      <td>UCR-qpXziP5pIqNHFKL-w12g</td>\n",
       "      <td>21</td>\n",
       "    </tr>\n",
       "    <tr>\n",
       "      <th>3</th>\n",
       "      <td>BTS performs ‘Dynamite’ l GMA</td>\n",
       "      <td>UCH1oRy1dINbMVp3UFWrKP0w</td>\n",
       "      <td>21</td>\n",
       "    </tr>\n",
       "    <tr>\n",
       "      <th>26</th>\n",
       "      <td>뱃살 아랫뱃살 최고의 운동</td>\n",
       "      <td>UCpg89Ys3E4BaLGgEEWVmI9g</td>\n",
       "      <td>21</td>\n",
       "    </tr>\n",
       "    <tr>\n",
       "      <th>31</th>\n",
       "      <td>외국인 최초로 군부대 면회를 갔더니 부대에서 보인 충격적인 반응</td>\n",
       "      <td>UCudezj2i6R94QOPqGJhbZwg</td>\n",
       "      <td>21</td>\n",
       "    </tr>\n",
       "    <tr>\n",
       "      <th>23</th>\n",
       "      <td>마술사의 마술을 타짜가 알아차릴 수 있을까..? ㅋㅋㅋㅋ</td>\n",
       "      <td>UCmCNgLHdknmCdQelpwxQvvg</td>\n",
       "      <td>21</td>\n",
       "    </tr>\n",
       "    <tr>\n",
       "      <th>22</th>\n",
       "      <td>릴카...제로투</td>\n",
       "      <td>UC48NSSfUBsmL0k0wKxSqRkw</td>\n",
       "      <td>21</td>\n",
       "    </tr>\n",
       "    <tr>\n",
       "      <th>5</th>\n",
       "      <td>MBN 뉴스파이터-친구 휴대전화 주운 환경미화원 인터뷰</td>\n",
       "      <td>UCG9aFJTZ-lMCHAiO1KJsirg</td>\n",
       "      <td>21</td>\n",
       "    </tr>\n",
       "    <tr>\n",
       "      <th>29</th>\n",
       "      <td>여행만 가면 시작되는 선넘는 복불복 게임ㅋㅋㅋ 이번에는 또 무슨일이 벌어질까ㅋㅋㅋ</td>\n",
       "      <td>UCyCL5k8P1iUOc1EymhhMW1A</td>\n",
       "      <td>21</td>\n",
       "    </tr>\n",
       "    <tr>\n",
       "      <th>28</th>\n",
       "      <td>어몽어스 VR좀비2(SCP) 8화 [어몽어스 애니메이션] / [AMONG US AN...</td>\n",
       "      <td>UCZ0dIs-Ao2v8eZF4WOYH5uw</td>\n",
       "      <td>21</td>\n",
       "    </tr>\n",
       "    <tr>\n",
       "      <th>8</th>\n",
       "      <td>[20/21 UCL 결승] 맨시티 vs 첼시 H/L</td>\n",
       "      <td>UCtm_QoN2SIxwCE-59shX7Qg</td>\n",
       "      <td>21</td>\n",
       "    </tr>\n",
       "    <tr>\n",
       "      <th>13</th>\n",
       "      <td>[안방1열 직캠4K] 에스파 'Next Level' 풀캠 (aespa Full Ca...</td>\n",
       "      <td>UCS_hnpJLQTvBkqALgapi_4g</td>\n",
       "      <td>21</td>\n",
       "    </tr>\n",
       "    <tr>\n",
       "      <th>38</th>\n",
       "      <td>황의조가 프랑스 감독 편견을 완전히 깨버렸던 경기</td>\n",
       "      <td>UC2qVOOz13xLXHaw9yW-aMXQ</td>\n",
       "      <td>21</td>\n",
       "    </tr>\n",
       "    <tr>\n",
       "      <th>35</th>\n",
       "      <td>타짜의 야바위 기술을 일반인이 캐치 할 수 이...</td>\n",
       "      <td>UCmCNgLHdknmCdQelpwxQvvg</td>\n",
       "      <td>20</td>\n",
       "    </tr>\n",
       "    <tr>\n",
       "      <th>33</th>\n",
       "      <td>유튜브를 8일간 업로드하지못한 이유</td>\n",
       "      <td>UC9nFMAQcn0bqIrEV9vUdU1g</td>\n",
       "      <td>20</td>\n",
       "    </tr>\n",
       "    <tr>\n",
       "      <th>36</th>\n",
       "      <td>퇴근 10분전 좋소회의  - 【좋좋소 Ep.16】</td>\n",
       "      <td>UCtfriFvIe5gIe8wRWb8UTMg</td>\n",
       "      <td>20</td>\n",
       "    </tr>\n",
       "    <tr>\n",
       "      <th>37</th>\n",
       "      <td>한국에 시집간 딸을 보러 온 외국 부모님이 문화충격 받은 이유</td>\n",
       "      <td>UCudezj2i6R94QOPqGJhbZwg</td>\n",
       "      <td>20</td>\n",
       "    </tr>\n",
       "    <tr>\n",
       "      <th>32</th>\n",
       "      <td>웅이 혼자 자취하는 데 식비 30인분 나왔읍니다 l [택슐랭가이드 시즌 2 EP.3]</td>\n",
       "      <td>UCrh6buNXjbfdU1by-R7IXUw</td>\n",
       "      <td>20</td>\n",
       "    </tr>\n",
       "    <tr>\n",
       "      <th>30</th>\n",
       "      <td>오늘은 간단하게 계란 한 판 먹을게요</td>\n",
       "      <td>UCF8W68PS2Ltz17lTDSptDvg</td>\n",
       "      <td>20</td>\n",
       "    </tr>\n",
       "    <tr>\n",
       "      <th>10</th>\n",
       "      <td>[놀면 뭐하니?] 9년 만에 맛보는 유부장님의 손맛👏 보고싶었어요 정과장💖ㅣ#정준하...</td>\n",
       "      <td>UCiwQRG2sCcfjKkgxMEdJGPg</td>\n",
       "      <td>20</td>\n",
       "    </tr>\n",
       "    <tr>\n",
       "      <th>25</th>\n",
       "      <td>방송 인생 최초로 여친이랑 합방했습니다</td>\n",
       "      <td>UCIA-LPHNERP2MDUQpp2RVHg</td>\n",
       "      <td>20</td>\n",
       "    </tr>\n",
       "    <tr>\n",
       "      <th>27</th>\n",
       "      <td>알고보니 유명인이 만들어낸 밈들 : 이걸 이 사람이 만든거였다구여?</td>\n",
       "      <td>UCuh6Br1vzgo1LivYgKvno5Q</td>\n",
       "      <td>20</td>\n",
       "    </tr>\n",
       "    <tr>\n",
       "      <th>9</th>\n",
       "      <td>[4K] 헤이즈(Heize)의 킬링벌스를 라이브로! l 비도 오고 그래서, 돌아오지...</td>\n",
       "      <td>UCviI9lzTe2pkxJ9M2ArA7WQ</td>\n",
       "      <td>20</td>\n",
       "    </tr>\n",
       "    <tr>\n",
       "      <th>4</th>\n",
       "      <td>EXO 엑소 'Don't fight the feeling' MV</td>\n",
       "      <td>UCEf_Bc-KVd7onSeifS3py9g</td>\n",
       "      <td>20</td>\n",
       "    </tr>\n",
       "    <tr>\n",
       "      <th>1</th>\n",
       "      <td>(EN/JP/IN) 하이브가 JYP, SM 제치고 1위한 이것은? 입구컷 당했던 ⭐...</td>\n",
       "      <td>UCYgUhR7EGKauFXgJS0pckGg</td>\n",
       "      <td>20</td>\n",
       "    </tr>\n",
       "    <tr>\n",
       "      <th>6</th>\n",
       "      <td>SUB)7년만에 처음으로 권태기 고백했더니 사랑꾼 남친반응ㅜㅜ가슴아픔주의😭 헤각장!...</td>\n",
       "      <td>UCj-durTg1W7uWsB8oq0u7kA</td>\n",
       "      <td>20</td>\n",
       "    </tr>\n",
       "    <tr>\n",
       "      <th>17</th>\n",
       "      <td>계속 저어줄 필요없어요. 냄비에 넣고 10분이면 끝. 매일 먹었더니,  운동 안 해...</td>\n",
       "      <td>UC6LBdArM8eIfOu-GFaq3amw</td>\n",
       "      <td>20</td>\n",
       "    </tr>\n",
       "    <tr>\n",
       "      <th>16</th>\n",
       "      <td>[충격] 비단잉어가 먹히는 현장... 왜가리 때문에 연못 시즌 종료...</td>\n",
       "      <td>UCPTM-NMXolwmnUE_rjFIoYQ</td>\n",
       "      <td>20</td>\n",
       "    </tr>\n",
       "    <tr>\n",
       "      <th>7</th>\n",
       "      <td>[#습핫습핫] 표정은 왜 그러는지 모르겠는 천서진의 우당탕탕 감🍞 생활 | 펜트하우...</td>\n",
       "      <td>UC6erIDuvbOaAO-OT5rB2Xew</td>\n",
       "      <td>20</td>\n",
       "    </tr>\n",
       "    <tr>\n",
       "      <th>12</th>\n",
       "      <td>[상추무침]상추!아직도 생으로 무치나요?시금치무침보다 훨씬 맛있는 밑반찬  상추나물...</td>\n",
       "      <td>UCKm-cusLT76t3t4s9OgCqcA</td>\n",
       "      <td>20</td>\n",
       "    </tr>\n",
       "    <tr>\n",
       "      <th>39</th>\n",
       "      <td>＂그렇게 상호명 말하면 안 돼요＂ 넵! 연땡 사장님과 전화 연결📞 [골목식당|SBS...</td>\n",
       "      <td>UCnx4Fi4cmkLGDiFfZ311wWw</td>\n",
       "      <td>20</td>\n",
       "    </tr>\n",
       "  </tbody>\n",
       "</table>\n",
       "</div>"
      ],
      "text/plain": [
       "                                                title   \n",
       "34                        컵라면 먹을 때 절대 일어날리 없는 상황들 ㅋㅋㅋ  \\\n",
       "21  대한민국 VS 투르크메니스탄 : FIFA 카타르 월드컵 2차 예선 하이라이트 - 2...   \n",
       "20          대박... 멧돼지를 아들로 삼은 할아버지｜KBS 주주클럽 050410 방송   \n",
       "2                                             2주더놀릴예정   \n",
       "18                          극과 극을 살고 있는 인도의 갑부와 빈곤층들!   \n",
       "11                             [도장TV 8회] 수박먹는 하영이^^;;   \n",
       "24  밤낮으로 우리집 비번 눌러대는 길고양이 좀 어떻게 해주세요ㅣStray Cat Ent...   \n",
       "15                                        [짐승친구들] 예비군   \n",
       "14                           [진돗개 진솔쓰] 차박 일기. #Shorts   \n",
       "0                                #shorts ｜김계란님 들고 더블폴   \n",
       "19          당신이 절대 '하얀색 신종 컵라면'을 알 수 없는 이유(마지막 소름 주의)   \n",
       "3                       BTS performs ‘Dynamite’ l GMA   \n",
       "26                                     뱃살 아랫뱃살 최고의 운동   \n",
       "31                외국인 최초로 군부대 면회를 갔더니 부대에서 보인 충격적인 반응   \n",
       "23                    마술사의 마술을 타짜가 알아차릴 수 있을까..? ㅋㅋㅋㅋ   \n",
       "22                                           릴카...제로투   \n",
       "5                      MBN 뉴스파이터-친구 휴대전화 주운 환경미화원 인터뷰   \n",
       "29      여행만 가면 시작되는 선넘는 복불복 게임ㅋㅋㅋ 이번에는 또 무슨일이 벌어질까ㅋㅋㅋ   \n",
       "28  어몽어스 VR좀비2(SCP) 8화 [어몽어스 애니메이션] / [AMONG US AN...   \n",
       "8                        [20/21 UCL 결승] 맨시티 vs 첼시 H/L   \n",
       "13  [안방1열 직캠4K] 에스파 'Next Level' 풀캠 (aespa Full Ca...   \n",
       "38                        황의조가 프랑스 감독 편견을 완전히 깨버렸던 경기   \n",
       "35  타짜의 야바위 기술을 일반인이 캐치 할 수 이...   \n",
       "33                                유튜브를 8일간 업로드하지못한 이유   \n",
       "36                        퇴근 10분전 좋소회의  - 【좋좋소 Ep.16】   \n",
       "37                 한국에 시집간 딸을 보러 온 외국 부모님이 문화충격 받은 이유   \n",
       "32    웅이 혼자 자취하는 데 식비 30인분 나왔읍니다 l [택슐랭가이드 시즌 2 EP.3]   \n",
       "30                               오늘은 간단하게 계란 한 판 먹을게요   \n",
       "10  [놀면 뭐하니?] 9년 만에 맛보는 유부장님의 손맛👏 보고싶었어요 정과장💖ㅣ#정준하...   \n",
       "25                              방송 인생 최초로 여친이랑 합방했습니다   \n",
       "27              알고보니 유명인이 만들어낸 밈들 : 이걸 이 사람이 만든거였다구여?   \n",
       "9   [4K] 헤이즈(Heize)의 킬링벌스를 라이브로! l 비도 오고 그래서, 돌아오지...   \n",
       "4                 EXO 엑소 'Don't fight the feeling' MV   \n",
       "1   (EN/JP/IN) 하이브가 JYP, SM 제치고 1위한 이것은? 입구컷 당했던 ⭐...   \n",
       "6   SUB)7년만에 처음으로 권태기 고백했더니 사랑꾼 남친반응ㅜㅜ가슴아픔주의😭 헤각장!...   \n",
       "17  계속 저어줄 필요없어요. 냄비에 넣고 10분이면 끝. 매일 먹었더니,  운동 안 해...   \n",
       "16           [충격] 비단잉어가 먹히는 현장... 왜가리 때문에 연못 시즌 종료...   \n",
       "7   [#습핫습핫] 표정은 왜 그러는지 모르겠는 천서진의 우당탕탕 감🍞 생활 | 펜트하우...   \n",
       "12  [상추무침]상추!아직도 생으로 무치나요?시금치무침보다 훨씬 맛있는 밑반찬  상추나물...   \n",
       "39  ＂그렇게 상호명 말하면 안 돼요＂ 넵! 연땡 사장님과 전화 연결📞 [골목식당|SBS...   \n",
       "\n",
       "                   channelId  trending_date2  \n",
       "34  UCmzMtXrJgfCqA0rfhz8_P4A              24  \n",
       "21  UCpjOmwiy88a9EV3Rv8ukJgw              24  \n",
       "20  UCAhKKbDO9-ymWZ_7iAFLBQQ              23  \n",
       "2   UCaKod3X1Tn4c7Ci0iUKcvzQ              23  \n",
       "18  UCi9Sl8GnFdYoqEVXnojBPJw              23  \n",
       "11  UCkkWd02T76Zi5UcKRX0x3Bg              22  \n",
       "24  UC22go5LdQEw-iDuxFb4C0hw              22  \n",
       "15  UCszFjh7CEfwDb7UUGb4RzCQ              22  \n",
       "14  UCi_IoQN5pb2AUdmZwLhi2Ig              22  \n",
       "0   UCTS3Lw4fOEoYFM13IXUqsMA              22  \n",
       "19  UCR-qpXziP5pIqNHFKL-w12g              21  \n",
       "3   UCH1oRy1dINbMVp3UFWrKP0w              21  \n",
       "26  UCpg89Ys3E4BaLGgEEWVmI9g              21  \n",
       "31  UCudezj2i6R94QOPqGJhbZwg              21  \n",
       "23  UCmCNgLHdknmCdQelpwxQvvg              21  \n",
       "22  UC48NSSfUBsmL0k0wKxSqRkw              21  \n",
       "5   UCG9aFJTZ-lMCHAiO1KJsirg              21  \n",
       "29  UCyCL5k8P1iUOc1EymhhMW1A              21  \n",
       "28  UCZ0dIs-Ao2v8eZF4WOYH5uw              21  \n",
       "8   UCtm_QoN2SIxwCE-59shX7Qg              21  \n",
       "13  UCS_hnpJLQTvBkqALgapi_4g              21  \n",
       "38  UC2qVOOz13xLXHaw9yW-aMXQ              21  \n",
       "35  UCmCNgLHdknmCdQelpwxQvvg              20  \n",
       "33  UC9nFMAQcn0bqIrEV9vUdU1g              20  \n",
       "36  UCtfriFvIe5gIe8wRWb8UTMg              20  \n",
       "37  UCudezj2i6R94QOPqGJhbZwg              20  \n",
       "32  UCrh6buNXjbfdU1by-R7IXUw              20  \n",
       "30  UCF8W68PS2Ltz17lTDSptDvg              20  \n",
       "10  UCiwQRG2sCcfjKkgxMEdJGPg              20  \n",
       "25  UCIA-LPHNERP2MDUQpp2RVHg              20  \n",
       "27  UCuh6Br1vzgo1LivYgKvno5Q              20  \n",
       "9   UCviI9lzTe2pkxJ9M2ArA7WQ              20  \n",
       "4   UCEf_Bc-KVd7onSeifS3py9g              20  \n",
       "1   UCYgUhR7EGKauFXgJS0pckGg              20  \n",
       "6   UCj-durTg1W7uWsB8oq0u7kA              20  \n",
       "17  UC6LBdArM8eIfOu-GFaq3amw              20  \n",
       "16  UCPTM-NMXolwmnUE_rjFIoYQ              20  \n",
       "7   UC6erIDuvbOaAO-OT5rB2Xew              20  \n",
       "12  UCKm-cusLT76t3t4s9OgCqcA              20  \n",
       "39  UCnx4Fi4cmkLGDiFfZ311wWw              20  "
      ]
     },
     "execution_count": 111,
     "metadata": {},
     "output_type": "execute_result"
    }
   ],
   "source": [
    "df.groupby(['title','channelId'])['trending_date2'].size()[(df.groupby(['title','channelId'])['trending_date2'].size() >= 20)].reset_index().sort_values('trending_date2', ascending = False)"
   ]
  },
  {
   "cell_type": "code",
   "execution_count": 115,
   "id": "27f7a1f1",
   "metadata": {
    "scrolled": false
   },
   "outputs": [
    {
     "data": {
      "text/plain": [
       "title                                                    trending_date2\n",
       "#1. [슈퍼리그] 챔스 종결? 드디어 창설된 슈퍼리그, 형태와 방식은?                 2021-04-20        1\n",
       "                                                         2021-04-21        1\n",
       "                                                         2021-04-22        1\n",
       "                                                         2021-04-23        1\n",
       "                                                         2021-04-24        1\n",
       "                                                                          ..\n",
       "🩸괴담회에 어서오세요🩸: 첫 번째 이야기 | WELCOME TO NCT’S HORROR NIGHTS  2021-08-28        1\n",
       "                                                         2021-08-29        1\n",
       "                                                         2021-08-30        1\n",
       "                                                         2021-08-31        1\n",
       "                                                         2021-09-01        1\n",
       "Name: title, Length: 56906, dtype: int64"
      ]
     },
     "execution_count": 115,
     "metadata": {},
     "output_type": "execute_result"
    }
   ],
   "source": [
    "df.groupby(['title','trending_date2'])['title'].size()"
   ]
  },
  {
   "cell_type": "code",
   "execution_count": 119,
   "id": "48e342a5",
   "metadata": {},
   "outputs": [
    {
     "data": {
      "text/plain": [
       "channelTitle            channelId               \n",
       "10cm - Topic            UC9oomNHPNLrh819sxCgcYTA     9\n",
       "Jang Beom June - Topic  UCvolP1xNN2maB52Tb1PkXzg    12\n",
       "MeloMance - Topic       UCwEIHtEIWaCjS3fmm2HLHHQ    11\n",
       "URBAN ZAKAPA - Topic    UCsYJTPdjnUFuBaV09tGDPOw    10\n",
       "dtype: int64"
      ]
     },
     "execution_count": 119,
     "metadata": {},
     "output_type": "execute_result"
    }
   ],
   "source": [
    "df[df.title == 'Go Back (고백)'].groupby(['channelTitle','channelId']).size()"
   ]
  },
  {
   "cell_type": "code",
   "execution_count": null,
   "id": "12196c34",
   "metadata": {},
   "outputs": [],
   "source": []
  }
 ],
 "metadata": {
  "kernelspec": {
   "display_name": "Python 3 (ipykernel)",
   "language": "python",
   "name": "python3"
  },
  "language_info": {
   "codemirror_mode": {
    "name": "ipython",
    "version": 3
   },
   "file_extension": ".py",
   "mimetype": "text/x-python",
   "name": "python",
   "nbconvert_exporter": "python",
   "pygments_lexer": "ipython3",
   "version": "3.8.10"
  }
 },
 "nbformat": 4,
 "nbformat_minor": 5
}
