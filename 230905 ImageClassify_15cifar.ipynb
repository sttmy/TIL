{
 "cells": [
  {
   "cell_type": "markdown",
   "metadata": {},
   "source": [
    "CIFAR-10 png format 파일 다운로드\n",
    "\n",
    "http://pjreddie.com/media/files/cifar.tgz"
   ]
  },
  {
   "cell_type": "markdown",
   "metadata": {},
   "source": [
    "#### cifar.py\n",
    "\n",
    "```cifar.py\n",
    "from flask import Flask, render_template, request\n",
    "from PIL import Image\n",
    "import numpy as np\n",
    "from keras.models import load_model\n",
    "\n",
    "app = Flask(__name__)\n",
    "\n",
    "@app.route('/')\n",
    "def main():\n",
    "    return render_template('cifar/index.html')\n",
    "\n",
    "@app.route('/uploader', methods=['POST'])\n",
    "def upload_image():\n",
    "    model = load_model('c:/workspace/Data/result/cifar.h5')\n",
    "    img = Image.open(request.files['file'].stream)\n",
    "    print(type(img))\n",
    "\n",
    "    # upload file size가 원본 이미지size와 같도록\n",
    "    img = img.resize((32, 32))\n",
    "\n",
    "    # numpy 배열로 변환\n",
    "    arr = np.array(img) / 255\n",
    "    print(arr.shape)\n",
    "\n",
    "    # keras모형에서 읽을 수 있도록 32x32 에서 1x32x32x3으로 차원변경\n",
    "    # 이미지개수x가로사이즈x세로사이즈x흑백(1)/컬러(3)\n",
    "    arr = arr.reshape(1,32,32,3)\n",
    "    import tensorflow as tf\n",
    "    with tf.device('/CPU:0'):\n",
    "        pred = model.predict(arr)\n",
    "        pred = np.argmax(pred, axis=1)\n",
    "        a = int(pred[0])\n",
    "    names = ['비행기','자동차','새','고양이','사슴','개','개구리','말','배','트럭']\n",
    "    return '이미지 분류 결과: ' +names[a]\n",
    "\n",
    "if __name__ == '__main__':\n",
    "    app.run(port=9000, threaded=False)\n",
    "```\n",
    "\n",
    "#### index.html\n",
    "```index.html\n",
    "<!DOCTYPE html>\n",
    "<html lang=\"en\">\n",
    "<head>\n",
    "    <meta charset=\"UTF-8\">\n",
    "    <title>Title</title>\n",
    "</head>\n",
    "<body>\n",
    "<form action=\"uploader\" method=\"post\" enctype=\"multipart/form-data\">\n",
    "  <input type=\"file\" name=\"file\">\n",
    "  <input type=\"submit\" value=\"확인\">\n",
    "</form>\n",
    "</body>\n",
    "</html>\n",
    "```"
   ]
  }
 ],
 "metadata": {
  "kernelspec": {
   "display_name": "Python 3",
   "language": "python",
   "name": "python3"
  },
  "language_info": {
   "codemirror_mode": {
    "name": "ipython",
    "version": 3
   },
   "file_extension": ".py",
   "mimetype": "text/x-python",
   "name": "python",
   "nbconvert_exporter": "python",
   "pygments_lexer": "ipython3",
   "version": "3.9.13"
  },
  "orig_nbformat": 4
 },
 "nbformat": 4,
 "nbformat_minor": 2
}
