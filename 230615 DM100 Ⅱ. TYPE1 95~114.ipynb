{
 "cells": [
  {
   "cell_type": "code",
   "execution_count": 2,
   "id": "069680ff",
   "metadata": {},
   "outputs": [],
   "source": [
    "import pandas as pd\n",
    "import datetime as dt"
   ]
  },
  {
   "cell_type": "markdown",
   "id": "9df3ab80",
   "metadata": {},
   "source": [
    "### Groupby()\n",
    "\n",
    "https://teddylee777.github.io/pandas/pandas-groupby/"
   ]
  },
  {
   "cell_type": "code",
   "execution_count": 194,
   "id": "f1f13d27",
   "metadata": {
    "scrolled": false
   },
   "outputs": [
    {
     "data": {
      "image/png": "[encoded data removed]",
      "text/plain": [
       "<IPython.core.display.Image object>"
      ]
     },
     "execution_count": 194,
     "metadata": {},
     "output_type": "execute_result"
    }
   ],
   "source": [
    "from IPython.display import Image\n",
    "Image(\"groupby.PNG\")"
   ]
  },
  {
   "cell_type": "markdown",
   "id": "dbcca9b5",
   "metadata": {},
   "source": [
    "groupby().agg()\n",
    "- count\n",
    "- sum\n",
    "- mean, median\n",
    "- var, std\n",
    "- min, max\n",
    "- unique, nunique\n",
    "- prod (곱)\n",
    "- first, last"
   ]
  },
  {
   "cell_type": "code",
   "execution_count": null,
   "id": "3934b8b9",
   "metadata": {},
   "outputs": [],
   "source": [
    "# 다중 통계 적용\n",
    "df.groupby('sex').agg(['mean', 'var'])\n",
    "\n",
    "# 컬럼별 다른 통계량 산출\n",
    "df.groupby('sex').agg({'total_bill': 'mean', \n",
    "                       'tip': ['sum', 'var'],\n",
    "                       'size': 'median'\n",
    "                      })\n",
    "\n",
    "# 사용자정의 함수\n",
    "df.groupby('sex')[['total_bill', 'tip']].agg(lambda x: x.mean() / x.std())\n",
    "\n",
    "# as_index=False로 하여 기존 인덱스의 유지\n",
    "df.groupby(['index'],as_index=False).sum()"
   ]
  },
  {
   "cell_type": "markdown",
   "id": "4bff3f51",
   "metadata": {},
   "source": [
    "## 킹카운티 주거지 가격예측문제 데이터"
   ]
  },
  {
   "cell_type": "code",
   "execution_count": 4,
   "id": "178a179f",
   "metadata": {
    "scrolled": true
   },
   "outputs": [
    {
     "data": {
      "text/html": [
       "<div>\n",
       "<style scoped>\n",
       "    .dataframe tbody tr th:only-of-type {\n",
       "        vertical-align: middle;\n",
       "    }\n",
       "\n",
       "    .dataframe tbody tr th {\n",
       "        vertical-align: top;\n",
       "    }\n",
       "\n",
       "    .dataframe thead th {\n",
       "        text-align: right;\n",
       "    }\n",
       "</style>\n",
       "<table border=\"1\" class=\"dataframe\">\n",
       "  <thead>\n",
       "    <tr style=\"text-align: right;\">\n",
       "      <th></th>\n",
       "      <th>id</th>\n",
       "      <th>date</th>\n",
       "      <th>price</th>\n",
       "      <th>bedrooms</th>\n",
       "      <th>bathrooms</th>\n",
       "      <th>sqft_living</th>\n",
       "      <th>sqft_lot</th>\n",
       "      <th>floors</th>\n",
       "      <th>waterfront</th>\n",
       "      <th>view</th>\n",
       "      <th>...</th>\n",
       "      <th>grade</th>\n",
       "      <th>sqft_above</th>\n",
       "      <th>sqft_basement</th>\n",
       "      <th>yr_built</th>\n",
       "      <th>yr_renovated</th>\n",
       "      <th>zipcode</th>\n",
       "      <th>lat</th>\n",
       "      <th>long</th>\n",
       "      <th>sqft_living15</th>\n",
       "      <th>sqft_lot15</th>\n",
       "    </tr>\n",
       "  </thead>\n",
       "  <tbody>\n",
       "    <tr>\n",
       "      <th>0</th>\n",
       "      <td>8961990160</td>\n",
       "      <td>20150413T000000</td>\n",
       "      <td>567500.0</td>\n",
       "      <td>3</td>\n",
       "      <td>2.5</td>\n",
       "      <td>2080</td>\n",
       "      <td>4556</td>\n",
       "      <td>2.0</td>\n",
       "      <td>0</td>\n",
       "      <td>0</td>\n",
       "      <td>...</td>\n",
       "      <td>8</td>\n",
       "      <td>2080</td>\n",
       "      <td>0</td>\n",
       "      <td>1999</td>\n",
       "      <td>0</td>\n",
       "      <td>98074</td>\n",
       "      <td>47.6036</td>\n",
       "      <td>-122.014</td>\n",
       "      <td>1530</td>\n",
       "      <td>5606</td>\n",
       "    </tr>\n",
       "    <tr>\n",
       "      <th>1</th>\n",
       "      <td>9455200205</td>\n",
       "      <td>20140604T000000</td>\n",
       "      <td>525000.0</td>\n",
       "      <td>3</td>\n",
       "      <td>2.0</td>\n",
       "      <td>1540</td>\n",
       "      <td>7800</td>\n",
       "      <td>1.0</td>\n",
       "      <td>0</td>\n",
       "      <td>0</td>\n",
       "      <td>...</td>\n",
       "      <td>8</td>\n",
       "      <td>1540</td>\n",
       "      <td>0</td>\n",
       "      <td>2004</td>\n",
       "      <td>0</td>\n",
       "      <td>98125</td>\n",
       "      <td>47.7041</td>\n",
       "      <td>-122.288</td>\n",
       "      <td>1510</td>\n",
       "      <td>7800</td>\n",
       "    </tr>\n",
       "    <tr>\n",
       "      <th>2</th>\n",
       "      <td>7853220670</td>\n",
       "      <td>20140918T000000</td>\n",
       "      <td>540000.0</td>\n",
       "      <td>3</td>\n",
       "      <td>2.5</td>\n",
       "      <td>2860</td>\n",
       "      <td>8935</td>\n",
       "      <td>2.0</td>\n",
       "      <td>0</td>\n",
       "      <td>0</td>\n",
       "      <td>...</td>\n",
       "      <td>8</td>\n",
       "      <td>2860</td>\n",
       "      <td>0</td>\n",
       "      <td>2004</td>\n",
       "      <td>0</td>\n",
       "      <td>98065</td>\n",
       "      <td>47.5336</td>\n",
       "      <td>-121.855</td>\n",
       "      <td>2650</td>\n",
       "      <td>6167</td>\n",
       "    </tr>\n",
       "    <tr>\n",
       "      <th>3</th>\n",
       "      <td>3298201170</td>\n",
       "      <td>20141110T000000</td>\n",
       "      <td>350000.0</td>\n",
       "      <td>3</td>\n",
       "      <td>1.0</td>\n",
       "      <td>940</td>\n",
       "      <td>7811</td>\n",
       "      <td>1.0</td>\n",
       "      <td>0</td>\n",
       "      <td>0</td>\n",
       "      <td>...</td>\n",
       "      <td>6</td>\n",
       "      <td>940</td>\n",
       "      <td>0</td>\n",
       "      <td>1959</td>\n",
       "      <td>0</td>\n",
       "      <td>98008</td>\n",
       "      <td>47.6195</td>\n",
       "      <td>-122.118</td>\n",
       "      <td>1180</td>\n",
       "      <td>7490</td>\n",
       "    </tr>\n",
       "    <tr>\n",
       "      <th>4</th>\n",
       "      <td>7972604355</td>\n",
       "      <td>20140521T000000</td>\n",
       "      <td>218000.0</td>\n",
       "      <td>3</td>\n",
       "      <td>1.0</td>\n",
       "      <td>1020</td>\n",
       "      <td>7874</td>\n",
       "      <td>1.0</td>\n",
       "      <td>0</td>\n",
       "      <td>0</td>\n",
       "      <td>...</td>\n",
       "      <td>7</td>\n",
       "      <td>1020</td>\n",
       "      <td>0</td>\n",
       "      <td>1956</td>\n",
       "      <td>0</td>\n",
       "      <td>98106</td>\n",
       "      <td>47.5175</td>\n",
       "      <td>-122.346</td>\n",
       "      <td>1290</td>\n",
       "      <td>7320</td>\n",
       "    </tr>\n",
       "  </tbody>\n",
       "</table>\n",
       "<p>5 rows × 21 columns</p>\n",
       "</div>"
      ],
      "text/plain": [
       "           id             date     price  bedrooms  bathrooms  sqft_living  \\\n",
       "0  8961990160  20150413T000000  567500.0         3        2.5         2080   \n",
       "1  9455200205  20140604T000000  525000.0         3        2.0         1540   \n",
       "2  7853220670  20140918T000000  540000.0         3        2.5         2860   \n",
       "3  3298201170  20141110T000000  350000.0         3        1.0          940   \n",
       "4  7972604355  20140521T000000  218000.0         3        1.0         1020   \n",
       "\n",
       "   sqft_lot  floors  waterfront  view  ...  grade  sqft_above  sqft_basement  \\\n",
       "0      4556     2.0           0     0  ...      8        2080              0   \n",
       "1      7800     1.0           0     0  ...      8        1540              0   \n",
       "2      8935     2.0           0     0  ...      8        2860              0   \n",
       "3      7811     1.0           0     0  ...      6         940              0   \n",
       "4      7874     1.0           0     0  ...      7        1020              0   \n",
       "\n",
       "   yr_built  yr_renovated  zipcode      lat     long  sqft_living15  \\\n",
       "0      1999             0    98074  47.6036 -122.014           1530   \n",
       "1      2004             0    98125  47.7041 -122.288           1510   \n",
       "2      2004             0    98065  47.5336 -121.855           2650   \n",
       "3      1959             0    98008  47.6195 -122.118           1180   \n",
       "4      1956             0    98106  47.5175 -122.346           1290   \n",
       "\n",
       "   sqft_lot15  \n",
       "0        5606  \n",
       "1        7800  \n",
       "2        6167  \n",
       "3        7490  \n",
       "4        7320  \n",
       "\n",
       "[5 rows x 21 columns]"
      ]
     },
     "execution_count": 4,
     "metadata": {},
     "output_type": "execute_result"
    }
   ],
   "source": [
    "df = pd.read_csv(\"https://raw.githubusercontent.com/Datamanim/datarepo/main/kingcountyprice//train.csv\")\n",
    "df.head()"
   ]
  },
  {
   "cell_type": "markdown",
   "id": "5279be58",
   "metadata": {},
   "source": [
    "Q95. bedrooms 의 빈도가 가장 높은 값을 가지는 데이터들의 price의 상위 10%와 하위 10%값의 차이를 구하여라"
   ]
  },
  {
   "cell_type": "code",
   "execution_count": 5,
   "id": "1085bba2",
   "metadata": {},
   "outputs": [
    {
     "name": "stdout",
     "output_type": "stream",
     "text": [
      "<class 'pandas.core.frame.DataFrame'>\n",
      "RangeIndex: 17290 entries, 0 to 17289\n",
      "Data columns (total 21 columns):\n",
      " #   Column         Non-Null Count  Dtype  \n",
      "---  ------         --------------  -----  \n",
      " 0   id             17290 non-null  int64  \n",
      " 1   date           17290 non-null  object \n",
      " 2   price          17290 non-null  float64\n",
      " 3   bedrooms       17290 non-null  int64  \n",
      " 4   bathrooms      17290 non-null  float64\n",
      " 5   sqft_living    17290 non-null  int64  \n",
      " 6   sqft_lot       17290 non-null  int64  \n",
      " 7   floors         17290 non-null  float64\n",
      " 8   waterfront     17290 non-null  int64  \n",
      " 9   view           17290 non-null  int64  \n",
      " 10  condition      17290 non-null  int64  \n",
      " 11  grade          17290 non-null  int64  \n",
      " 12  sqft_above     17290 non-null  int64  \n",
      " 13  sqft_basement  17290 non-null  int64  \n",
      " 14  yr_built       17290 non-null  int64  \n",
      " 15  yr_renovated   17290 non-null  int64  \n",
      " 16  zipcode        17290 non-null  int64  \n",
      " 17  lat            17290 non-null  float64\n",
      " 18  long           17290 non-null  float64\n",
      " 19  sqft_living15  17290 non-null  int64  \n",
      " 20  sqft_lot15     17290 non-null  int64  \n",
      "dtypes: float64(5), int64(15), object(1)\n",
      "memory usage: 2.8+ MB\n"
     ]
    }
   ],
   "source": [
    "df.info()"
   ]
  },
  {
   "cell_type": "code",
   "execution_count": 33,
   "id": "24d87160",
   "metadata": {},
   "outputs": [
    {
     "data": {
      "text/plain": [
       "505500.0"
      ]
     },
     "execution_count": 33,
     "metadata": {},
     "output_type": "execute_result"
    }
   ],
   "source": [
    "df[df.bedrooms == df.bedrooms.value_counts().reset_index().iloc[0][0]].price.quantile(0.9) - df[df.bedrooms == df.bedrooms.value_counts().reset_index().iloc[0][0]].price.quantile(0.1)"
   ]
  },
  {
   "cell_type": "markdown",
   "id": "8cdbeebe",
   "metadata": {},
   "source": [
    "## 대학원 입학가능성 데이터"
   ]
  },
  {
   "cell_type": "code",
   "execution_count": 75,
   "id": "0144a532",
   "metadata": {},
   "outputs": [
    {
     "data": {
      "text/html": [
       "<div>\n",
       "<style scoped>\n",
       "    .dataframe tbody tr th:only-of-type {\n",
       "        vertical-align: middle;\n",
       "    }\n",
       "\n",
       "    .dataframe tbody tr th {\n",
       "        vertical-align: top;\n",
       "    }\n",
       "\n",
       "    .dataframe thead th {\n",
       "        text-align: right;\n",
       "    }\n",
       "</style>\n",
       "<table border=\"1\" class=\"dataframe\">\n",
       "  <thead>\n",
       "    <tr style=\"text-align: right;\">\n",
       "      <th></th>\n",
       "      <th>Serial No.</th>\n",
       "      <th>GRE Score</th>\n",
       "      <th>TOEFL Score</th>\n",
       "      <th>University Rating</th>\n",
       "      <th>SOP</th>\n",
       "      <th>LOR</th>\n",
       "      <th>CGPA</th>\n",
       "      <th>Research</th>\n",
       "      <th>Chance of Admit</th>\n",
       "    </tr>\n",
       "  </thead>\n",
       "  <tbody>\n",
       "    <tr>\n",
       "      <th>0</th>\n",
       "      <td>246</td>\n",
       "      <td>328</td>\n",
       "      <td>110</td>\n",
       "      <td>4</td>\n",
       "      <td>4.0</td>\n",
       "      <td>2.5</td>\n",
       "      <td>9.02</td>\n",
       "      <td>1</td>\n",
       "      <td>0.81</td>\n",
       "    </tr>\n",
       "    <tr>\n",
       "      <th>1</th>\n",
       "      <td>100</td>\n",
       "      <td>323</td>\n",
       "      <td>113</td>\n",
       "      <td>3</td>\n",
       "      <td>4.0</td>\n",
       "      <td>4.0</td>\n",
       "      <td>8.88</td>\n",
       "      <td>1</td>\n",
       "      <td>0.79</td>\n",
       "    </tr>\n",
       "    <tr>\n",
       "      <th>2</th>\n",
       "      <td>79</td>\n",
       "      <td>296</td>\n",
       "      <td>95</td>\n",
       "      <td>2</td>\n",
       "      <td>3.0</td>\n",
       "      <td>2.0</td>\n",
       "      <td>7.54</td>\n",
       "      <td>1</td>\n",
       "      <td>0.44</td>\n",
       "    </tr>\n",
       "    <tr>\n",
       "      <th>3</th>\n",
       "      <td>53</td>\n",
       "      <td>334</td>\n",
       "      <td>116</td>\n",
       "      <td>4</td>\n",
       "      <td>4.0</td>\n",
       "      <td>3.0</td>\n",
       "      <td>8.00</td>\n",
       "      <td>1</td>\n",
       "      <td>0.78</td>\n",
       "    </tr>\n",
       "    <tr>\n",
       "      <th>4</th>\n",
       "      <td>444</td>\n",
       "      <td>321</td>\n",
       "      <td>114</td>\n",
       "      <td>5</td>\n",
       "      <td>4.5</td>\n",
       "      <td>4.5</td>\n",
       "      <td>9.16</td>\n",
       "      <td>1</td>\n",
       "      <td>0.87</td>\n",
       "    </tr>\n",
       "  </tbody>\n",
       "</table>\n",
       "</div>"
      ],
      "text/plain": [
       "   Serial No.  GRE Score  TOEFL Score  University Rating  SOP  LOR  CGPA  \\\n",
       "0         246        328          110                  4  4.0  2.5  9.02   \n",
       "1         100        323          113                  3  4.0  4.0  8.88   \n",
       "2          79        296           95                  2  3.0  2.0  7.54   \n",
       "3          53        334          116                  4  4.0  3.0  8.00   \n",
       "4         444        321          114                  5  4.5  4.5  9.16   \n",
       "\n",
       "   Research  Chance of Admit  \n",
       "0         1             0.81  \n",
       "1         1             0.79  \n",
       "2         1             0.44  \n",
       "3         1             0.78  \n",
       "4         1             0.87  "
      ]
     },
     "execution_count": 75,
     "metadata": {},
     "output_type": "execute_result"
    }
   ],
   "source": [
    "df = pd.read_csv(\"https://raw.githubusercontent.com/Datamanim/datarepo/main/admission/train.csv\")\n",
    "df.head()"
   ]
  },
  {
   "cell_type": "markdown",
   "id": "e875ff2f",
   "metadata": {},
   "source": [
    "Q96. Serial No. 컬럼을 제외하고 ‘Chance of Admit’을 종속변수, 나머지 변수를 독립변수라 할때, 랜덤포레스트를 통해 회귀 예측을 할 떄 변수중요도 값을 출력하라 (시드값에 따라 순서는 달라질수 있음)"
   ]
  },
  {
   "cell_type": "code",
   "execution_count": 70,
   "id": "7b612d22",
   "metadata": {},
   "outputs": [],
   "source": [
    "y = df.pop('Chance of Admit')\n",
    "x = df.drop([\"Serial No.\"],axis =1)"
   ]
  },
  {
   "cell_type": "code",
   "execution_count": 71,
   "id": "6e5b2ac0",
   "metadata": {
    "collapsed": true
   },
   "outputs": [
    {
     "data": {
      "text/html": [
       "<div>\n",
       "<style scoped>\n",
       "    .dataframe tbody tr th:only-of-type {\n",
       "        vertical-align: middle;\n",
       "    }\n",
       "\n",
       "    .dataframe tbody tr th {\n",
       "        vertical-align: top;\n",
       "    }\n",
       "\n",
       "    .dataframe thead th {\n",
       "        text-align: right;\n",
       "    }\n",
       "</style>\n",
       "<table border=\"1\" class=\"dataframe\">\n",
       "  <thead>\n",
       "    <tr style=\"text-align: right;\">\n",
       "      <th></th>\n",
       "      <th>GRE Score</th>\n",
       "      <th>TOEFL Score</th>\n",
       "      <th>University Rating</th>\n",
       "      <th>SOP</th>\n",
       "      <th>LOR</th>\n",
       "      <th>CGPA</th>\n",
       "      <th>Research</th>\n",
       "    </tr>\n",
       "  </thead>\n",
       "  <tbody>\n",
       "    <tr>\n",
       "      <th>0</th>\n",
       "      <td>328</td>\n",
       "      <td>110</td>\n",
       "      <td>4</td>\n",
       "      <td>4.0</td>\n",
       "      <td>2.5</td>\n",
       "      <td>9.02</td>\n",
       "      <td>1</td>\n",
       "    </tr>\n",
       "    <tr>\n",
       "      <th>1</th>\n",
       "      <td>323</td>\n",
       "      <td>113</td>\n",
       "      <td>3</td>\n",
       "      <td>4.0</td>\n",
       "      <td>4.0</td>\n",
       "      <td>8.88</td>\n",
       "      <td>1</td>\n",
       "    </tr>\n",
       "    <tr>\n",
       "      <th>2</th>\n",
       "      <td>296</td>\n",
       "      <td>95</td>\n",
       "      <td>2</td>\n",
       "      <td>3.0</td>\n",
       "      <td>2.0</td>\n",
       "      <td>7.54</td>\n",
       "      <td>1</td>\n",
       "    </tr>\n",
       "    <tr>\n",
       "      <th>3</th>\n",
       "      <td>334</td>\n",
       "      <td>116</td>\n",
       "      <td>4</td>\n",
       "      <td>4.0</td>\n",
       "      <td>3.0</td>\n",
       "      <td>8.00</td>\n",
       "      <td>1</td>\n",
       "    </tr>\n",
       "    <tr>\n",
       "      <th>4</th>\n",
       "      <td>321</td>\n",
       "      <td>114</td>\n",
       "      <td>5</td>\n",
       "      <td>4.5</td>\n",
       "      <td>4.5</td>\n",
       "      <td>9.16</td>\n",
       "      <td>1</td>\n",
       "    </tr>\n",
       "    <tr>\n",
       "      <th>...</th>\n",
       "      <td>...</td>\n",
       "      <td>...</td>\n",
       "      <td>...</td>\n",
       "      <td>...</td>\n",
       "      <td>...</td>\n",
       "      <td>...</td>\n",
       "      <td>...</td>\n",
       "    </tr>\n",
       "    <tr>\n",
       "      <th>395</th>\n",
       "      <td>329</td>\n",
       "      <td>114</td>\n",
       "      <td>5</td>\n",
       "      <td>4.0</td>\n",
       "      <td>5.0</td>\n",
       "      <td>9.30</td>\n",
       "      <td>1</td>\n",
       "    </tr>\n",
       "    <tr>\n",
       "      <th>396</th>\n",
       "      <td>307</td>\n",
       "      <td>109</td>\n",
       "      <td>3</td>\n",
       "      <td>4.0</td>\n",
       "      <td>3.0</td>\n",
       "      <td>8.00</td>\n",
       "      <td>1</td>\n",
       "    </tr>\n",
       "    <tr>\n",
       "      <th>397</th>\n",
       "      <td>298</td>\n",
       "      <td>98</td>\n",
       "      <td>2</td>\n",
       "      <td>1.5</td>\n",
       "      <td>2.5</td>\n",
       "      <td>7.50</td>\n",
       "      <td>1</td>\n",
       "    </tr>\n",
       "    <tr>\n",
       "      <th>398</th>\n",
       "      <td>339</td>\n",
       "      <td>116</td>\n",
       "      <td>4</td>\n",
       "      <td>4.0</td>\n",
       "      <td>3.5</td>\n",
       "      <td>9.80</td>\n",
       "      <td>1</td>\n",
       "    </tr>\n",
       "    <tr>\n",
       "      <th>399</th>\n",
       "      <td>326</td>\n",
       "      <td>114</td>\n",
       "      <td>4</td>\n",
       "      <td>4.0</td>\n",
       "      <td>3.5</td>\n",
       "      <td>9.16</td>\n",
       "      <td>1</td>\n",
       "    </tr>\n",
       "  </tbody>\n",
       "</table>\n",
       "<p>400 rows × 7 columns</p>\n",
       "</div>"
      ],
      "text/plain": [
       "     GRE Score  TOEFL Score  University Rating  SOP  LOR  CGPA  Research\n",
       "0          328          110                  4  4.0  2.5  9.02         1\n",
       "1          323          113                  3  4.0  4.0  8.88         1\n",
       "2          296           95                  2  3.0  2.0  7.54         1\n",
       "3          334          116                  4  4.0  3.0  8.00         1\n",
       "4          321          114                  5  4.5  4.5  9.16         1\n",
       "..         ...          ...                ...  ...  ...   ...       ...\n",
       "395        329          114                  5  4.0  5.0  9.30         1\n",
       "396        307          109                  3  4.0  3.0  8.00         1\n",
       "397        298           98                  2  1.5  2.5  7.50         1\n",
       "398        339          116                  4  4.0  3.5  9.80         1\n",
       "399        326          114                  4  4.0  3.5  9.16         1\n",
       "\n",
       "[400 rows x 7 columns]"
      ]
     },
     "execution_count": 71,
     "metadata": {},
     "output_type": "execute_result"
    }
   ],
   "source": [
    "x"
   ]
  },
  {
   "cell_type": "code",
   "execution_count": 72,
   "id": "c466af63",
   "metadata": {
    "collapsed": true
   },
   "outputs": [
    {
     "data": {
      "text/plain": [
       "0      0.81\n",
       "1      0.79\n",
       "2      0.44\n",
       "3      0.78\n",
       "4      0.87\n",
       "       ... \n",
       "395    0.86\n",
       "396    0.62\n",
       "397    0.44\n",
       "398    0.96\n",
       "399    0.86\n",
       "Name: Chance of Admit, Length: 400, dtype: float64"
      ]
     },
     "execution_count": 72,
     "metadata": {},
     "output_type": "execute_result"
    }
   ],
   "source": [
    "y"
   ]
  },
  {
   "cell_type": "code",
   "execution_count": 59,
   "id": "2f8c1c7b",
   "metadata": {},
   "outputs": [],
   "source": [
    "from sklearn.ensemble import RandomForestRegressor"
   ]
  },
  {
   "cell_type": "code",
   "execution_count": 83,
   "id": "ea44b99f",
   "metadata": {
    "scrolled": true
   },
   "outputs": [
    {
     "data": {
      "text/html": [
       "<div>\n",
       "<style scoped>\n",
       "    .dataframe tbody tr th:only-of-type {\n",
       "        vertical-align: middle;\n",
       "    }\n",
       "\n",
       "    .dataframe tbody tr th {\n",
       "        vertical-align: top;\n",
       "    }\n",
       "\n",
       "    .dataframe thead th {\n",
       "        text-align: right;\n",
       "    }\n",
       "</style>\n",
       "<table border=\"1\" class=\"dataframe\">\n",
       "  <thead>\n",
       "    <tr style=\"text-align: right;\">\n",
       "      <th></th>\n",
       "      <th>0</th>\n",
       "    </tr>\n",
       "  </thead>\n",
       "  <tbody>\n",
       "    <tr>\n",
       "      <th>CGPA</th>\n",
       "      <td>0.811479</td>\n",
       "    </tr>\n",
       "    <tr>\n",
       "      <th>GRE Score</th>\n",
       "      <td>0.086419</td>\n",
       "    </tr>\n",
       "    <tr>\n",
       "      <th>TOEFL Score</th>\n",
       "      <td>0.030362</td>\n",
       "    </tr>\n",
       "    <tr>\n",
       "      <th>SOP</th>\n",
       "      <td>0.025701</td>\n",
       "    </tr>\n",
       "    <tr>\n",
       "      <th>LOR</th>\n",
       "      <td>0.024444</td>\n",
       "    </tr>\n",
       "    <tr>\n",
       "      <th>University Rating</th>\n",
       "      <td>0.013524</td>\n",
       "    </tr>\n",
       "    <tr>\n",
       "      <th>Research</th>\n",
       "      <td>0.008070</td>\n",
       "    </tr>\n",
       "  </tbody>\n",
       "</table>\n",
       "</div>"
      ],
      "text/plain": [
       "                          0\n",
       "CGPA               0.811479\n",
       "GRE Score          0.086419\n",
       "TOEFL Score        0.030362\n",
       "SOP                0.025701\n",
       "LOR                0.024444\n",
       "University Rating  0.013524\n",
       "Research           0.008070"
      ]
     },
     "execution_count": 83,
     "metadata": {},
     "output_type": "execute_result"
    }
   ],
   "source": [
    "rf = RandomForestRegressor()\n",
    "rf.fit(x, y)\n",
    "pd.DataFrame(rf.feature_importances_, x.columns,).sort_values(0,ascending = False)"
   ]
  },
  {
   "cell_type": "code",
   "execution_count": 80,
   "id": "194b182b",
   "metadata": {
    "scrolled": true
   },
   "outputs": [],
   "source": [
    "df_t = df.drop([df.columns[0]],axis=1)\n",
    "x1 = df_t.drop([df.columns[-1]],axis=1)\n",
    "y1 = df_t[df.columns[-1]]"
   ]
  },
  {
   "cell_type": "code",
   "execution_count": 81,
   "id": "7ea32fdc",
   "metadata": {},
   "outputs": [
    {
     "data": {
      "text/html": [
       "<div>\n",
       "<style scoped>\n",
       "    .dataframe tbody tr th:only-of-type {\n",
       "        vertical-align: middle;\n",
       "    }\n",
       "\n",
       "    .dataframe tbody tr th {\n",
       "        vertical-align: top;\n",
       "    }\n",
       "\n",
       "    .dataframe thead th {\n",
       "        text-align: right;\n",
       "    }\n",
       "</style>\n",
       "<table border=\"1\" class=\"dataframe\">\n",
       "  <thead>\n",
       "    <tr style=\"text-align: right;\">\n",
       "      <th></th>\n",
       "      <th>importance</th>\n",
       "    </tr>\n",
       "  </thead>\n",
       "  <tbody>\n",
       "    <tr>\n",
       "      <th>CGPA</th>\n",
       "      <td>0.816028</td>\n",
       "    </tr>\n",
       "    <tr>\n",
       "      <th>GRE Score</th>\n",
       "      <td>0.077702</td>\n",
       "    </tr>\n",
       "    <tr>\n",
       "      <th>TOEFL Score</th>\n",
       "      <td>0.035373</td>\n",
       "    </tr>\n",
       "    <tr>\n",
       "      <th>LOR</th>\n",
       "      <td>0.026235</td>\n",
       "    </tr>\n",
       "    <tr>\n",
       "      <th>SOP</th>\n",
       "      <td>0.023683</td>\n",
       "    </tr>\n",
       "    <tr>\n",
       "      <th>University Rating</th>\n",
       "      <td>0.013260</td>\n",
       "    </tr>\n",
       "    <tr>\n",
       "      <th>Research</th>\n",
       "      <td>0.007719</td>\n",
       "    </tr>\n",
       "  </tbody>\n",
       "</table>\n",
       "</div>"
      ],
      "text/plain": [
       "                   importance\n",
       "CGPA                 0.816028\n",
       "GRE Score            0.077702\n",
       "TOEFL Score          0.035373\n",
       "LOR                  0.026235\n",
       "SOP                  0.023683\n",
       "University Rating    0.013260\n",
       "Research             0.007719"
      ]
     },
     "metadata": {},
     "output_type": "display_data"
    }
   ],
   "source": [
    "ml = RandomForestRegressor()\n",
    "\n",
    "ml.fit(x1,y1)\n",
    "\n",
    "result=pd.DataFrame({'importance':ml.feature_importances_},x.columns).sort_values('importance',ascending=False)\n",
    "display(result)"
   ]
  },
  {
   "cell_type": "markdown",
   "id": "8ccf7371",
   "metadata": {},
   "source": [
    "## 레드 와인 퀄리티 예측 데이터"
   ]
  },
  {
   "cell_type": "code",
   "execution_count": 84,
   "id": "3d46ba54",
   "metadata": {},
   "outputs": [
    {
     "data": {
      "text/html": [
       "<div>\n",
       "<style scoped>\n",
       "    .dataframe tbody tr th:only-of-type {\n",
       "        vertical-align: middle;\n",
       "    }\n",
       "\n",
       "    .dataframe tbody tr th {\n",
       "        vertical-align: top;\n",
       "    }\n",
       "\n",
       "    .dataframe thead th {\n",
       "        text-align: right;\n",
       "    }\n",
       "</style>\n",
       "<table border=\"1\" class=\"dataframe\">\n",
       "  <thead>\n",
       "    <tr style=\"text-align: right;\">\n",
       "      <th></th>\n",
       "      <th>fixed acidity</th>\n",
       "      <th>volatile acidity</th>\n",
       "      <th>citric acid</th>\n",
       "      <th>residual sugar</th>\n",
       "      <th>chlorides</th>\n",
       "      <th>free sulfur dioxide</th>\n",
       "      <th>total sulfur dioxide</th>\n",
       "      <th>density</th>\n",
       "      <th>pH</th>\n",
       "      <th>sulphates</th>\n",
       "      <th>alcohol</th>\n",
       "      <th>quality</th>\n",
       "    </tr>\n",
       "  </thead>\n",
       "  <tbody>\n",
       "    <tr>\n",
       "      <th>0</th>\n",
       "      <td>5.0</td>\n",
       "      <td>0.38</td>\n",
       "      <td>0.01</td>\n",
       "      <td>1.6</td>\n",
       "      <td>0.048</td>\n",
       "      <td>26.0</td>\n",
       "      <td>60.0</td>\n",
       "      <td>0.99084</td>\n",
       "      <td>3.70</td>\n",
       "      <td>0.75</td>\n",
       "      <td>14.0</td>\n",
       "      <td>6</td>\n",
       "    </tr>\n",
       "    <tr>\n",
       "      <th>1</th>\n",
       "      <td>5.0</td>\n",
       "      <td>0.42</td>\n",
       "      <td>0.24</td>\n",
       "      <td>2.0</td>\n",
       "      <td>0.060</td>\n",
       "      <td>19.0</td>\n",
       "      <td>50.0</td>\n",
       "      <td>0.99170</td>\n",
       "      <td>3.72</td>\n",
       "      <td>0.74</td>\n",
       "      <td>14.0</td>\n",
       "      <td>8</td>\n",
       "    </tr>\n",
       "    <tr>\n",
       "      <th>2</th>\n",
       "      <td>7.1</td>\n",
       "      <td>0.36</td>\n",
       "      <td>0.30</td>\n",
       "      <td>1.6</td>\n",
       "      <td>0.080</td>\n",
       "      <td>35.0</td>\n",
       "      <td>70.0</td>\n",
       "      <td>0.99693</td>\n",
       "      <td>3.44</td>\n",
       "      <td>0.50</td>\n",
       "      <td>9.4</td>\n",
       "      <td>5</td>\n",
       "    </tr>\n",
       "    <tr>\n",
       "      <th>3</th>\n",
       "      <td>7.6</td>\n",
       "      <td>0.29</td>\n",
       "      <td>0.49</td>\n",
       "      <td>2.7</td>\n",
       "      <td>0.092</td>\n",
       "      <td>25.0</td>\n",
       "      <td>60.0</td>\n",
       "      <td>0.99710</td>\n",
       "      <td>3.31</td>\n",
       "      <td>0.61</td>\n",
       "      <td>10.1</td>\n",
       "      <td>6</td>\n",
       "    </tr>\n",
       "    <tr>\n",
       "      <th>4</th>\n",
       "      <td>7.7</td>\n",
       "      <td>0.51</td>\n",
       "      <td>0.28</td>\n",
       "      <td>2.1</td>\n",
       "      <td>0.087</td>\n",
       "      <td>23.0</td>\n",
       "      <td>54.0</td>\n",
       "      <td>0.99800</td>\n",
       "      <td>3.42</td>\n",
       "      <td>0.74</td>\n",
       "      <td>9.2</td>\n",
       "      <td>5</td>\n",
       "    </tr>\n",
       "  </tbody>\n",
       "</table>\n",
       "</div>"
      ],
      "text/plain": [
       "   fixed acidity  volatile acidity  citric acid  residual sugar  chlorides  \\\n",
       "0            5.0              0.38         0.01             1.6      0.048   \n",
       "1            5.0              0.42         0.24             2.0      0.060   \n",
       "2            7.1              0.36         0.30             1.6      0.080   \n",
       "3            7.6              0.29         0.49             2.7      0.092   \n",
       "4            7.7              0.51         0.28             2.1      0.087   \n",
       "\n",
       "   free sulfur dioxide  total sulfur dioxide  density    pH  sulphates  \\\n",
       "0                 26.0                  60.0  0.99084  3.70       0.75   \n",
       "1                 19.0                  50.0  0.99170  3.72       0.74   \n",
       "2                 35.0                  70.0  0.99693  3.44       0.50   \n",
       "3                 25.0                  60.0  0.99710  3.31       0.61   \n",
       "4                 23.0                  54.0  0.99800  3.42       0.74   \n",
       "\n",
       "   alcohol  quality  \n",
       "0     14.0        6  \n",
       "1     14.0        8  \n",
       "2      9.4        5  \n",
       "3     10.1        6  \n",
       "4      9.2        5  "
      ]
     },
     "execution_count": 84,
     "metadata": {},
     "output_type": "execute_result"
    }
   ],
   "source": [
    "df = pd.read_csv(\"https://raw.githubusercontent.com/Datamanim/datarepo/main/redwine/train.csv\")\n",
    "df.head()"
   ]
  },
  {
   "cell_type": "markdown",
   "id": "d7e1c24b",
   "metadata": {},
   "source": [
    "Q97. quality 값이 3인 그룹과 8인 데이터그룹의 각 컬럼별 독립변수의 표준편차 값의 차이를 구할때 그값이 가장 큰 컬럼명을 구하여라"
   ]
  },
  {
   "cell_type": "code",
   "execution_count": 96,
   "id": "f6e1bad2",
   "metadata": {},
   "outputs": [
    {
     "data": {
      "text/plain": [
       "'total sulfur dioxide'"
      ]
     },
     "execution_count": 96,
     "metadata": {},
     "output_type": "execute_result"
    }
   ],
   "source": [
    "abs((df[df.quality == 3].std() - df[df.quality == 8].std())).sort_values().reset_index().iloc[-1]['index']"
   ]
  },
  {
   "cell_type": "code",
   "execution_count": 99,
   "id": "475a423f",
   "metadata": {},
   "outputs": [
    {
     "data": {
      "text/plain": [
       "'total sulfur dioxide'"
      ]
     },
     "execution_count": 99,
     "metadata": {},
     "output_type": "execute_result"
    }
   ],
   "source": [
    "abs((df[df.quality == 3].std() - df[df.quality == 8].std())).sort_values().index[-1]"
   ]
  },
  {
   "cell_type": "markdown",
   "id": "7a4a5ce8",
   "metadata": {},
   "source": [
    "## 약물 분류 데이터"
   ]
  },
  {
   "cell_type": "code",
   "execution_count": 104,
   "id": "d20fd5be",
   "metadata": {},
   "outputs": [
    {
     "data": {
      "text/html": [
       "<div>\n",
       "<style scoped>\n",
       "    .dataframe tbody tr th:only-of-type {\n",
       "        vertical-align: middle;\n",
       "    }\n",
       "\n",
       "    .dataframe tbody tr th {\n",
       "        vertical-align: top;\n",
       "    }\n",
       "\n",
       "    .dataframe thead th {\n",
       "        text-align: right;\n",
       "    }\n",
       "</style>\n",
       "<table border=\"1\" class=\"dataframe\">\n",
       "  <thead>\n",
       "    <tr style=\"text-align: right;\">\n",
       "      <th></th>\n",
       "      <th>Age</th>\n",
       "      <th>Sex</th>\n",
       "      <th>BP</th>\n",
       "      <th>Cholesterol</th>\n",
       "      <th>Na_to_K</th>\n",
       "      <th>Drug</th>\n",
       "    </tr>\n",
       "  </thead>\n",
       "  <tbody>\n",
       "    <tr>\n",
       "      <th>0</th>\n",
       "      <td>20</td>\n",
       "      <td>F</td>\n",
       "      <td>NORMAL</td>\n",
       "      <td>NORMAL</td>\n",
       "      <td>9.281</td>\n",
       "      <td>4</td>\n",
       "    </tr>\n",
       "    <tr>\n",
       "      <th>1</th>\n",
       "      <td>24</td>\n",
       "      <td>M</td>\n",
       "      <td>HIGH</td>\n",
       "      <td>NORMAL</td>\n",
       "      <td>9.475</td>\n",
       "      <td>1</td>\n",
       "    </tr>\n",
       "    <tr>\n",
       "      <th>2</th>\n",
       "      <td>34</td>\n",
       "      <td>M</td>\n",
       "      <td>NORMAL</td>\n",
       "      <td>HIGH</td>\n",
       "      <td>22.456</td>\n",
       "      <td>0</td>\n",
       "    </tr>\n",
       "    <tr>\n",
       "      <th>3</th>\n",
       "      <td>17</td>\n",
       "      <td>M</td>\n",
       "      <td>NORMAL</td>\n",
       "      <td>NORMAL</td>\n",
       "      <td>10.832</td>\n",
       "      <td>4</td>\n",
       "    </tr>\n",
       "    <tr>\n",
       "      <th>4</th>\n",
       "      <td>72</td>\n",
       "      <td>M</td>\n",
       "      <td>LOW</td>\n",
       "      <td>HIGH</td>\n",
       "      <td>16.310</td>\n",
       "      <td>0</td>\n",
       "    </tr>\n",
       "  </tbody>\n",
       "</table>\n",
       "</div>"
      ],
      "text/plain": [
       "   Age Sex      BP Cholesterol  Na_to_K  Drug\n",
       "0   20   F  NORMAL      NORMAL    9.281     4\n",
       "1   24   M    HIGH      NORMAL    9.475     1\n",
       "2   34   M  NORMAL        HIGH   22.456     0\n",
       "3   17   M  NORMAL      NORMAL   10.832     4\n",
       "4   72   M     LOW        HIGH   16.310     0"
      ]
     },
     "execution_count": 104,
     "metadata": {},
     "output_type": "execute_result"
    }
   ],
   "source": [
    "df = pd.read_csv(\"https://raw.githubusercontent.com/Datamanim/datarepo/main/drug/train.csv\")\n",
    "df.head()"
   ]
  },
  {
   "cell_type": "markdown",
   "id": "4b9bb893",
   "metadata": {},
   "source": [
    "Q98. 남성들의 연령대별 (10살씩 구분 0~9세 10~19세 …) Na_to_K값의 평균값을 구해서 데이터 프레임으로 표현하여라"
   ]
  },
  {
   "cell_type": "code",
   "execution_count": 105,
   "id": "a4f6e85d",
   "metadata": {},
   "outputs": [],
   "source": [
    "df['연령대'] = df.Age // 10 * 10"
   ]
  },
  {
   "cell_type": "code",
   "execution_count": 108,
   "id": "43da2878",
   "metadata": {},
   "outputs": [
    {
     "data": {
      "text/html": [
       "<div>\n",
       "<style scoped>\n",
       "    .dataframe tbody tr th:only-of-type {\n",
       "        vertical-align: middle;\n",
       "    }\n",
       "\n",
       "    .dataframe tbody tr th {\n",
       "        vertical-align: top;\n",
       "    }\n",
       "\n",
       "    .dataframe thead th {\n",
       "        text-align: right;\n",
       "    }\n",
       "</style>\n",
       "<table border=\"1\" class=\"dataframe\">\n",
       "  <thead>\n",
       "    <tr style=\"text-align: right;\">\n",
       "      <th></th>\n",
       "      <th>Na_to_K</th>\n",
       "    </tr>\n",
       "    <tr>\n",
       "      <th>연령대</th>\n",
       "      <th></th>\n",
       "    </tr>\n",
       "  </thead>\n",
       "  <tbody>\n",
       "    <tr>\n",
       "      <th>10</th>\n",
       "      <td>13.627000</td>\n",
       "    </tr>\n",
       "    <tr>\n",
       "      <th>20</th>\n",
       "      <td>18.260769</td>\n",
       "    </tr>\n",
       "    <tr>\n",
       "      <th>30</th>\n",
       "      <td>15.244143</td>\n",
       "    </tr>\n",
       "    <tr>\n",
       "      <th>40</th>\n",
       "      <td>13.897273</td>\n",
       "    </tr>\n",
       "    <tr>\n",
       "      <th>50</th>\n",
       "      <td>14.811273</td>\n",
       "    </tr>\n",
       "    <tr>\n",
       "      <th>60</th>\n",
       "      <td>14.284308</td>\n",
       "    </tr>\n",
       "    <tr>\n",
       "      <th>70</th>\n",
       "      <td>11.363857</td>\n",
       "    </tr>\n",
       "  </tbody>\n",
       "</table>\n",
       "</div>"
      ],
      "text/plain": [
       "       Na_to_K\n",
       "연령대           \n",
       "10   13.627000\n",
       "20   18.260769\n",
       "30   15.244143\n",
       "40   13.897273\n",
       "50   14.811273\n",
       "60   14.284308\n",
       "70   11.363857"
      ]
     },
     "execution_count": 108,
     "metadata": {},
     "output_type": "execute_result"
    }
   ],
   "source": [
    "df[df.Sex == 'M'].groupby(\"연령대\")['Na_to_K'].mean().to_frame()"
   ]
  },
  {
   "cell_type": "markdown",
   "id": "11575465",
   "metadata": {},
   "source": [
    "## 사기회사 분류 데이터"
   ]
  },
  {
   "cell_type": "code",
   "execution_count": 109,
   "id": "a36b7352",
   "metadata": {},
   "outputs": [
    {
     "data": {
      "text/html": [
       "<div>\n",
       "<style scoped>\n",
       "    .dataframe tbody tr th:only-of-type {\n",
       "        vertical-align: middle;\n",
       "    }\n",
       "\n",
       "    .dataframe tbody tr th {\n",
       "        vertical-align: top;\n",
       "    }\n",
       "\n",
       "    .dataframe thead th {\n",
       "        text-align: right;\n",
       "    }\n",
       "</style>\n",
       "<table border=\"1\" class=\"dataframe\">\n",
       "  <thead>\n",
       "    <tr style=\"text-align: right;\">\n",
       "      <th></th>\n",
       "      <th>Sector_score</th>\n",
       "      <th>LOCATION_ID</th>\n",
       "      <th>PARA_A</th>\n",
       "      <th>Score_A</th>\n",
       "      <th>Risk_A</th>\n",
       "      <th>PARA_B</th>\n",
       "      <th>Score_B</th>\n",
       "      <th>Risk_B</th>\n",
       "      <th>TOTAL</th>\n",
       "      <th>numbers</th>\n",
       "      <th>...</th>\n",
       "      <th>RiSk_E</th>\n",
       "      <th>History</th>\n",
       "      <th>Prob</th>\n",
       "      <th>Risk_F</th>\n",
       "      <th>Score</th>\n",
       "      <th>Inherent_Risk</th>\n",
       "      <th>CONTROL_RISK</th>\n",
       "      <th>Detection_Risk</th>\n",
       "      <th>Audit_Risk</th>\n",
       "      <th>Risk</th>\n",
       "    </tr>\n",
       "  </thead>\n",
       "  <tbody>\n",
       "    <tr>\n",
       "      <th>0</th>\n",
       "      <td>2.72</td>\n",
       "      <td>14</td>\n",
       "      <td>4.53</td>\n",
       "      <td>0.6</td>\n",
       "      <td>2.718</td>\n",
       "      <td>87.93</td>\n",
       "      <td>0.6</td>\n",
       "      <td>52.758</td>\n",
       "      <td>92.46</td>\n",
       "      <td>5.0</td>\n",
       "      <td>...</td>\n",
       "      <td>0.4</td>\n",
       "      <td>0</td>\n",
       "      <td>0.2</td>\n",
       "      <td>0.0</td>\n",
       "      <td>4.0</td>\n",
       "      <td>108.362</td>\n",
       "      <td>0.4</td>\n",
       "      <td>0.5</td>\n",
       "      <td>21.6724</td>\n",
       "      <td>1</td>\n",
       "    </tr>\n",
       "    <tr>\n",
       "      <th>1</th>\n",
       "      <td>3.41</td>\n",
       "      <td>16</td>\n",
       "      <td>12.68</td>\n",
       "      <td>0.6</td>\n",
       "      <td>7.608</td>\n",
       "      <td>41.00</td>\n",
       "      <td>0.6</td>\n",
       "      <td>24.600</td>\n",
       "      <td>53.68</td>\n",
       "      <td>5.5</td>\n",
       "      <td>...</td>\n",
       "      <td>0.4</td>\n",
       "      <td>0</td>\n",
       "      <td>0.2</td>\n",
       "      <td>0.0</td>\n",
       "      <td>4.4</td>\n",
       "      <td>41.936</td>\n",
       "      <td>0.4</td>\n",
       "      <td>0.5</td>\n",
       "      <td>8.3872</td>\n",
       "      <td>1</td>\n",
       "    </tr>\n",
       "    <tr>\n",
       "      <th>2</th>\n",
       "      <td>2.72</td>\n",
       "      <td>11</td>\n",
       "      <td>3.11</td>\n",
       "      <td>0.6</td>\n",
       "      <td>1.866</td>\n",
       "      <td>113.97</td>\n",
       "      <td>0.6</td>\n",
       "      <td>68.382</td>\n",
       "      <td>117.08</td>\n",
       "      <td>5.5</td>\n",
       "      <td>...</td>\n",
       "      <td>0.4</td>\n",
       "      <td>0</td>\n",
       "      <td>0.2</td>\n",
       "      <td>0.0</td>\n",
       "      <td>4.4</td>\n",
       "      <td>88.832</td>\n",
       "      <td>0.4</td>\n",
       "      <td>0.5</td>\n",
       "      <td>17.7664</td>\n",
       "      <td>1</td>\n",
       "    </tr>\n",
       "    <tr>\n",
       "      <th>3</th>\n",
       "      <td>3.41</td>\n",
       "      <td>8</td>\n",
       "      <td>1.12</td>\n",
       "      <td>0.4</td>\n",
       "      <td>0.448</td>\n",
       "      <td>0.00</td>\n",
       "      <td>0.2</td>\n",
       "      <td>0.000</td>\n",
       "      <td>1.12</td>\n",
       "      <td>5.0</td>\n",
       "      <td>...</td>\n",
       "      <td>0.4</td>\n",
       "      <td>0</td>\n",
       "      <td>0.2</td>\n",
       "      <td>0.0</td>\n",
       "      <td>2.2</td>\n",
       "      <td>1.848</td>\n",
       "      <td>0.4</td>\n",
       "      <td>0.5</td>\n",
       "      <td>0.3696</td>\n",
       "      <td>0</td>\n",
       "    </tr>\n",
       "    <tr>\n",
       "      <th>4</th>\n",
       "      <td>55.57</td>\n",
       "      <td>9</td>\n",
       "      <td>1.06</td>\n",
       "      <td>0.4</td>\n",
       "      <td>0.424</td>\n",
       "      <td>0.00</td>\n",
       "      <td>0.2</td>\n",
       "      <td>0.000</td>\n",
       "      <td>1.06</td>\n",
       "      <td>5.0</td>\n",
       "      <td>...</td>\n",
       "      <td>0.4</td>\n",
       "      <td>0</td>\n",
       "      <td>0.2</td>\n",
       "      <td>0.0</td>\n",
       "      <td>2.2</td>\n",
       "      <td>1.824</td>\n",
       "      <td>0.4</td>\n",
       "      <td>0.5</td>\n",
       "      <td>0.3648</td>\n",
       "      <td>0</td>\n",
       "    </tr>\n",
       "  </tbody>\n",
       "</table>\n",
       "<p>5 rows × 27 columns</p>\n",
       "</div>"
      ],
      "text/plain": [
       "   Sector_score LOCATION_ID  PARA_A  Score_A  Risk_A  PARA_B  Score_B  Risk_B  \\\n",
       "0          2.72          14    4.53      0.6   2.718   87.93      0.6  52.758   \n",
       "1          3.41          16   12.68      0.6   7.608   41.00      0.6  24.600   \n",
       "2          2.72          11    3.11      0.6   1.866  113.97      0.6  68.382   \n",
       "3          3.41           8    1.12      0.4   0.448    0.00      0.2   0.000   \n",
       "4         55.57           9    1.06      0.4   0.424    0.00      0.2   0.000   \n",
       "\n",
       "    TOTAL  numbers  ...  RiSk_E  History  Prob  Risk_F  Score  Inherent_Risk  \\\n",
       "0   92.46      5.0  ...     0.4        0   0.2     0.0    4.0        108.362   \n",
       "1   53.68      5.5  ...     0.4        0   0.2     0.0    4.4         41.936   \n",
       "2  117.08      5.5  ...     0.4        0   0.2     0.0    4.4         88.832   \n",
       "3    1.12      5.0  ...     0.4        0   0.2     0.0    2.2          1.848   \n",
       "4    1.06      5.0  ...     0.4        0   0.2     0.0    2.2          1.824   \n",
       "\n",
       "   CONTROL_RISK  Detection_Risk  Audit_Risk  Risk  \n",
       "0           0.4             0.5     21.6724     1  \n",
       "1           0.4             0.5      8.3872     1  \n",
       "2           0.4             0.5     17.7664     1  \n",
       "3           0.4             0.5      0.3696     0  \n",
       "4           0.4             0.5      0.3648     0  \n",
       "\n",
       "[5 rows x 27 columns]"
      ]
     },
     "execution_count": 109,
     "metadata": {},
     "output_type": "execute_result"
    }
   ],
   "source": [
    "df = pd.read_csv(\"https://raw.githubusercontent.com/Datamanim/datarepo/main/audit/train.csv\")\n",
    "df.head()"
   ]
  },
  {
   "cell_type": "markdown",
   "id": "45315bee",
   "metadata": {},
   "source": [
    "Q99. 데이터의 Risk 값에 따른 score_a와 score_b의 평균값을 구하여라"
   ]
  },
  {
   "cell_type": "code",
   "execution_count": 110,
   "id": "6abeea05",
   "metadata": {},
   "outputs": [
    {
     "name": "stdout",
     "output_type": "stream",
     "text": [
      "<class 'pandas.core.frame.DataFrame'>\n",
      "RangeIndex: 620 entries, 0 to 619\n",
      "Data columns (total 27 columns):\n",
      " #   Column          Non-Null Count  Dtype  \n",
      "---  ------          --------------  -----  \n",
      " 0   Sector_score    620 non-null    float64\n",
      " 1   LOCATION_ID     620 non-null    object \n",
      " 2   PARA_A          620 non-null    float64\n",
      " 3   Score_A         620 non-null    float64\n",
      " 4   Risk_A          620 non-null    float64\n",
      " 5   PARA_B          620 non-null    float64\n",
      " 6   Score_B         620 non-null    float64\n",
      " 7   Risk_B          620 non-null    float64\n",
      " 8   TOTAL           620 non-null    float64\n",
      " 9   numbers         620 non-null    float64\n",
      " 10  Score_B.1       620 non-null    float64\n",
      " 11  Risk_C          620 non-null    float64\n",
      " 12  Money_Value     619 non-null    float64\n",
      " 13  Score_MV        620 non-null    float64\n",
      " 14  Risk_D          620 non-null    float64\n",
      " 15  District_Loss   620 non-null    int64  \n",
      " 16  PROB            620 non-null    float64\n",
      " 17  RiSk_E          620 non-null    float64\n",
      " 18  History         620 non-null    int64  \n",
      " 19  Prob            620 non-null    float64\n",
      " 20  Risk_F          620 non-null    float64\n",
      " 21  Score           620 non-null    float64\n",
      " 22  Inherent_Risk   620 non-null    float64\n",
      " 23  CONTROL_RISK    620 non-null    float64\n",
      " 24  Detection_Risk  620 non-null    float64\n",
      " 25  Audit_Risk      620 non-null    float64\n",
      " 26  Risk            620 non-null    int64  \n",
      "dtypes: float64(23), int64(3), object(1)\n",
      "memory usage: 130.9+ KB\n"
     ]
    }
   ],
   "source": [
    "df.info()"
   ]
  },
  {
   "cell_type": "code",
   "execution_count": 111,
   "id": "85013562",
   "metadata": {},
   "outputs": [
    {
     "data": {
      "text/plain": [
       "array([1, 0], dtype=int64)"
      ]
     },
     "execution_count": 111,
     "metadata": {},
     "output_type": "execute_result"
    }
   ],
   "source": [
    "df.Risk.unique()"
   ]
  },
  {
   "cell_type": "code",
   "execution_count": 112,
   "id": "4d187c70",
   "metadata": {},
   "outputs": [
    {
     "data": {
      "text/html": [
       "<div>\n",
       "<style scoped>\n",
       "    .dataframe tbody tr th:only-of-type {\n",
       "        vertical-align: middle;\n",
       "    }\n",
       "\n",
       "    .dataframe tbody tr th {\n",
       "        vertical-align: top;\n",
       "    }\n",
       "\n",
       "    .dataframe thead th {\n",
       "        text-align: right;\n",
       "    }\n",
       "</style>\n",
       "<table border=\"1\" class=\"dataframe\">\n",
       "  <thead>\n",
       "    <tr style=\"text-align: right;\">\n",
       "      <th></th>\n",
       "      <th>Score_A</th>\n",
       "      <th>Score_B</th>\n",
       "    </tr>\n",
       "    <tr>\n",
       "      <th>Risk</th>\n",
       "      <th></th>\n",
       "      <th></th>\n",
       "    </tr>\n",
       "  </thead>\n",
       "  <tbody>\n",
       "    <tr>\n",
       "      <th>0</th>\n",
       "      <td>0.262234</td>\n",
       "      <td>0.225532</td>\n",
       "    </tr>\n",
       "    <tr>\n",
       "      <th>1</th>\n",
       "      <td>0.490164</td>\n",
       "      <td>0.444262</td>\n",
       "    </tr>\n",
       "  </tbody>\n",
       "</table>\n",
       "</div>"
      ],
      "text/plain": [
       "       Score_A   Score_B\n",
       "Risk                    \n",
       "0     0.262234  0.225532\n",
       "1     0.490164  0.444262"
      ]
     },
     "execution_count": 112,
     "metadata": {},
     "output_type": "execute_result"
    }
   ],
   "source": [
    "df.groupby(\"Risk\")[['Score_A','Score_B']].mean()"
   ]
  },
  {
   "cell_type": "markdown",
   "id": "0e876b9a",
   "metadata": {},
   "source": [
    "## 센서데이터 동작유형 분류 데이터"
   ]
  },
  {
   "cell_type": "code",
   "execution_count": 113,
   "id": "fb1d41bc",
   "metadata": {},
   "outputs": [
    {
     "data": {
      "text/html": [
       "<div>\n",
       "<style scoped>\n",
       "    .dataframe tbody tr th:only-of-type {\n",
       "        vertical-align: middle;\n",
       "    }\n",
       "\n",
       "    .dataframe tbody tr th {\n",
       "        vertical-align: top;\n",
       "    }\n",
       "\n",
       "    .dataframe thead th {\n",
       "        text-align: right;\n",
       "    }\n",
       "</style>\n",
       "<table border=\"1\" class=\"dataframe\">\n",
       "  <thead>\n",
       "    <tr style=\"text-align: right;\">\n",
       "      <th></th>\n",
       "      <th>motion_0</th>\n",
       "      <th>motion_1</th>\n",
       "      <th>motion_2</th>\n",
       "      <th>motion_3</th>\n",
       "      <th>motion_4</th>\n",
       "      <th>motion_5</th>\n",
       "      <th>motion_6</th>\n",
       "      <th>motion_7</th>\n",
       "      <th>motion_8</th>\n",
       "      <th>motion_9</th>\n",
       "      <th>...</th>\n",
       "      <th>motion_55</th>\n",
       "      <th>motion_56</th>\n",
       "      <th>motion_57</th>\n",
       "      <th>motion_58</th>\n",
       "      <th>motion_59</th>\n",
       "      <th>motion_60</th>\n",
       "      <th>motion_61</th>\n",
       "      <th>motion_62</th>\n",
       "      <th>motion_63</th>\n",
       "      <th>pose</th>\n",
       "    </tr>\n",
       "  </thead>\n",
       "  <tbody>\n",
       "    <tr>\n",
       "      <th>0</th>\n",
       "      <td>-6.0</td>\n",
       "      <td>8.0</td>\n",
       "      <td>5.0</td>\n",
       "      <td>6.0</td>\n",
       "      <td>-12.0</td>\n",
       "      <td>-27.0</td>\n",
       "      <td>5.0</td>\n",
       "      <td>24.0</td>\n",
       "      <td>-8.0</td>\n",
       "      <td>-5.0</td>\n",
       "      <td>...</td>\n",
       "      <td>-1.0</td>\n",
       "      <td>-3.0</td>\n",
       "      <td>-6.0</td>\n",
       "      <td>-9.0</td>\n",
       "      <td>-7.0</td>\n",
       "      <td>36.0</td>\n",
       "      <td>68.0</td>\n",
       "      <td>3.0</td>\n",
       "      <td>-3.0</td>\n",
       "      <td>1</td>\n",
       "    </tr>\n",
       "    <tr>\n",
       "      <th>1</th>\n",
       "      <td>-32.0</td>\n",
       "      <td>-3.0</td>\n",
       "      <td>-4.0</td>\n",
       "      <td>-5.0</td>\n",
       "      <td>-1.0</td>\n",
       "      <td>16.0</td>\n",
       "      <td>0.0</td>\n",
       "      <td>-5.0</td>\n",
       "      <td>42.0</td>\n",
       "      <td>2.0</td>\n",
       "      <td>...</td>\n",
       "      <td>-17.0</td>\n",
       "      <td>-12.0</td>\n",
       "      <td>-1.0</td>\n",
       "      <td>-1.0</td>\n",
       "      <td>0.0</td>\n",
       "      <td>-26.0</td>\n",
       "      <td>-11.0</td>\n",
       "      <td>-4.0</td>\n",
       "      <td>-9.0</td>\n",
       "      <td>1</td>\n",
       "    </tr>\n",
       "    <tr>\n",
       "      <th>2</th>\n",
       "      <td>35.0</td>\n",
       "      <td>-2.0</td>\n",
       "      <td>-1.0</td>\n",
       "      <td>1.0</td>\n",
       "      <td>-25.0</td>\n",
       "      <td>-16.0</td>\n",
       "      <td>-3.0</td>\n",
       "      <td>-20.0</td>\n",
       "      <td>10.0</td>\n",
       "      <td>1.0</td>\n",
       "      <td>...</td>\n",
       "      <td>6.0</td>\n",
       "      <td>-65.0</td>\n",
       "      <td>6.0</td>\n",
       "      <td>-10.0</td>\n",
       "      <td>-31.0</td>\n",
       "      <td>-19.0</td>\n",
       "      <td>-3.0</td>\n",
       "      <td>-47.0</td>\n",
       "      <td>-17.0</td>\n",
       "      <td>0</td>\n",
       "    </tr>\n",
       "    <tr>\n",
       "      <th>3</th>\n",
       "      <td>-15.0</td>\n",
       "      <td>-6.0</td>\n",
       "      <td>-3.0</td>\n",
       "      <td>-5.0</td>\n",
       "      <td>27.0</td>\n",
       "      <td>37.0</td>\n",
       "      <td>-2.0</td>\n",
       "      <td>-2.0</td>\n",
       "      <td>19.0</td>\n",
       "      <td>5.0</td>\n",
       "      <td>...</td>\n",
       "      <td>2.0</td>\n",
       "      <td>11.0</td>\n",
       "      <td>0.0</td>\n",
       "      <td>-2.0</td>\n",
       "      <td>-4.0</td>\n",
       "      <td>-7.0</td>\n",
       "      <td>15.0</td>\n",
       "      <td>3.0</td>\n",
       "      <td>14.0</td>\n",
       "      <td>1</td>\n",
       "    </tr>\n",
       "    <tr>\n",
       "      <th>4</th>\n",
       "      <td>60.0</td>\n",
       "      <td>3.0</td>\n",
       "      <td>0.0</td>\n",
       "      <td>-7.0</td>\n",
       "      <td>-6.0</td>\n",
       "      <td>-10.0</td>\n",
       "      <td>-6.0</td>\n",
       "      <td>7.0</td>\n",
       "      <td>-11.0</td>\n",
       "      <td>-4.0</td>\n",
       "      <td>...</td>\n",
       "      <td>-12.0</td>\n",
       "      <td>17.0</td>\n",
       "      <td>-3.0</td>\n",
       "      <td>1.0</td>\n",
       "      <td>2.0</td>\n",
       "      <td>-2.0</td>\n",
       "      <td>20.0</td>\n",
       "      <td>18.0</td>\n",
       "      <td>10.0</td>\n",
       "      <td>0</td>\n",
       "    </tr>\n",
       "  </tbody>\n",
       "</table>\n",
       "<p>5 rows × 65 columns</p>\n",
       "</div>"
      ],
      "text/plain": [
       "   motion_0  motion_1  motion_2  motion_3  motion_4  motion_5  motion_6  \\\n",
       "0      -6.0       8.0       5.0       6.0     -12.0     -27.0       5.0   \n",
       "1     -32.0      -3.0      -4.0      -5.0      -1.0      16.0       0.0   \n",
       "2      35.0      -2.0      -1.0       1.0     -25.0     -16.0      -3.0   \n",
       "3     -15.0      -6.0      -3.0      -5.0      27.0      37.0      -2.0   \n",
       "4      60.0       3.0       0.0      -7.0      -6.0     -10.0      -6.0   \n",
       "\n",
       "   motion_7  motion_8  motion_9  ...  motion_55  motion_56  motion_57  \\\n",
       "0      24.0      -8.0      -5.0  ...       -1.0       -3.0       -6.0   \n",
       "1      -5.0      42.0       2.0  ...      -17.0      -12.0       -1.0   \n",
       "2     -20.0      10.0       1.0  ...        6.0      -65.0        6.0   \n",
       "3      -2.0      19.0       5.0  ...        2.0       11.0        0.0   \n",
       "4       7.0     -11.0      -4.0  ...      -12.0       17.0       -3.0   \n",
       "\n",
       "   motion_58  motion_59  motion_60  motion_61  motion_62  motion_63  pose  \n",
       "0       -9.0       -7.0       36.0       68.0        3.0       -3.0     1  \n",
       "1       -1.0        0.0      -26.0      -11.0       -4.0       -9.0     1  \n",
       "2      -10.0      -31.0      -19.0       -3.0      -47.0      -17.0     0  \n",
       "3       -2.0       -4.0       -7.0       15.0        3.0       14.0     1  \n",
       "4        1.0        2.0       -2.0       20.0       18.0       10.0     0  \n",
       "\n",
       "[5 rows x 65 columns]"
      ]
     },
     "execution_count": 113,
     "metadata": {},
     "output_type": "execute_result"
    }
   ],
   "source": [
    "df = pd.read_csv(\"https://raw.githubusercontent.com/Datamanim/datarepo/main/muscle/train.csv\")\n",
    "df.head()"
   ]
  },
  {
   "cell_type": "markdown",
   "id": "2c48c6c4",
   "metadata": {},
   "source": [
    "Q100. pose값에 따른 각 motion컬럼의 중간값의 가장 큰 차이를 보이는 motion컬럼은 어디이며 그값은?"
   ]
  },
  {
   "cell_type": "code",
   "execution_count": 114,
   "id": "57efa986",
   "metadata": {
    "collapsed": true
   },
   "outputs": [
    {
     "name": "stdout",
     "output_type": "stream",
     "text": [
      "<class 'pandas.core.frame.DataFrame'>\n",
      "RangeIndex: 4650 entries, 0 to 4649\n",
      "Data columns (total 65 columns):\n",
      " #   Column     Non-Null Count  Dtype  \n",
      "---  ------     --------------  -----  \n",
      " 0   motion_0   4650 non-null   float64\n",
      " 1   motion_1   4650 non-null   float64\n",
      " 2   motion_2   4650 non-null   float64\n",
      " 3   motion_3   4650 non-null   float64\n",
      " 4   motion_4   4650 non-null   float64\n",
      " 5   motion_5   4650 non-null   float64\n",
      " 6   motion_6   4650 non-null   float64\n",
      " 7   motion_7   4650 non-null   float64\n",
      " 8   motion_8   4650 non-null   float64\n",
      " 9   motion_9   4650 non-null   float64\n",
      " 10  motion_10  4650 non-null   float64\n",
      " 11  motion_11  4650 non-null   float64\n",
      " 12  motion_12  4650 non-null   float64\n",
      " 13  motion_13  4650 non-null   float64\n",
      " 14  motion_14  4650 non-null   float64\n",
      " 15  motion_15  4650 non-null   float64\n",
      " 16  motion_16  4650 non-null   float64\n",
      " 17  motion_17  4650 non-null   float64\n",
      " 18  motion_18  4650 non-null   float64\n",
      " 19  motion_19  4650 non-null   float64\n",
      " 20  motion_20  4650 non-null   float64\n",
      " 21  motion_21  4650 non-null   float64\n",
      " 22  motion_22  4650 non-null   float64\n",
      " 23  motion_23  4650 non-null   float64\n",
      " 24  motion_24  4650 non-null   float64\n",
      " 25  motion_25  4650 non-null   float64\n",
      " 26  motion_26  4650 non-null   float64\n",
      " 27  motion_27  4650 non-null   float64\n",
      " 28  motion_28  4650 non-null   float64\n",
      " 29  motion_29  4650 non-null   float64\n",
      " 30  motion_30  4650 non-null   float64\n",
      " 31  motion_31  4650 non-null   float64\n",
      " 32  motion_32  4650 non-null   float64\n",
      " 33  motion_33  4650 non-null   float64\n",
      " 34  motion_34  4650 non-null   float64\n",
      " 35  motion_35  4650 non-null   float64\n",
      " 36  motion_36  4650 non-null   float64\n",
      " 37  motion_37  4650 non-null   float64\n",
      " 38  motion_38  4650 non-null   float64\n",
      " 39  motion_39  4650 non-null   float64\n",
      " 40  motion_40  4650 non-null   float64\n",
      " 41  motion_41  4650 non-null   float64\n",
      " 42  motion_42  4650 non-null   float64\n",
      " 43  motion_43  4650 non-null   float64\n",
      " 44  motion_44  4650 non-null   float64\n",
      " 45  motion_45  4650 non-null   float64\n",
      " 46  motion_46  4650 non-null   float64\n",
      " 47  motion_47  4650 non-null   float64\n",
      " 48  motion_48  4650 non-null   float64\n",
      " 49  motion_49  4650 non-null   float64\n",
      " 50  motion_50  4650 non-null   float64\n",
      " 51  motion_51  4650 non-null   float64\n",
      " 52  motion_52  4650 non-null   float64\n",
      " 53  motion_53  4650 non-null   float64\n",
      " 54  motion_54  4650 non-null   float64\n",
      " 55  motion_55  4650 non-null   float64\n",
      " 56  motion_56  4650 non-null   float64\n",
      " 57  motion_57  4650 non-null   float64\n",
      " 58  motion_58  4650 non-null   float64\n",
      " 59  motion_59  4650 non-null   float64\n",
      " 60  motion_60  4650 non-null   float64\n",
      " 61  motion_61  4650 non-null   float64\n",
      " 62  motion_62  4650 non-null   float64\n",
      " 63  motion_63  4650 non-null   float64\n",
      " 64  pose       4650 non-null   int64  \n",
      "dtypes: float64(64), int64(1)\n",
      "memory usage: 2.3 MB\n"
     ]
    }
   ],
   "source": [
    "df.info()"
   ]
  },
  {
   "cell_type": "code",
   "execution_count": 115,
   "id": "a4fb1cd0",
   "metadata": {},
   "outputs": [
    {
     "data": {
      "text/plain": [
       "array([1, 0], dtype=int64)"
      ]
     },
     "execution_count": 115,
     "metadata": {},
     "output_type": "execute_result"
    }
   ],
   "source": [
    "df.pose.unique()"
   ]
  },
  {
   "cell_type": "code",
   "execution_count": 132,
   "id": "e367d95c",
   "metadata": {},
   "outputs": [
    {
     "data": {
      "text/html": [
       "<div>\n",
       "<style scoped>\n",
       "    .dataframe tbody tr th:only-of-type {\n",
       "        vertical-align: middle;\n",
       "    }\n",
       "\n",
       "    .dataframe tbody tr th {\n",
       "        vertical-align: top;\n",
       "    }\n",
       "\n",
       "    .dataframe thead th {\n",
       "        text-align: right;\n",
       "    }\n",
       "</style>\n",
       "<table border=\"1\" class=\"dataframe\">\n",
       "  <thead>\n",
       "    <tr style=\"text-align: right;\">\n",
       "      <th>pose</th>\n",
       "      <th>0</th>\n",
       "      <th>1</th>\n",
       "    </tr>\n",
       "  </thead>\n",
       "  <tbody>\n",
       "    <tr>\n",
       "      <th>motion_0</th>\n",
       "      <td>-2.0</td>\n",
       "      <td>-2.0</td>\n",
       "    </tr>\n",
       "    <tr>\n",
       "      <th>motion_1</th>\n",
       "      <td>-1.0</td>\n",
       "      <td>-1.0</td>\n",
       "    </tr>\n",
       "    <tr>\n",
       "      <th>motion_2</th>\n",
       "      <td>-1.0</td>\n",
       "      <td>-1.0</td>\n",
       "    </tr>\n",
       "  </tbody>\n",
       "</table>\n",
       "</div>"
      ],
      "text/plain": [
       "pose        0    1\n",
       "motion_0 -2.0 -2.0\n",
       "motion_1 -1.0 -1.0\n",
       "motion_2 -1.0 -1.0"
      ]
     },
     "execution_count": 132,
     "metadata": {},
     "output_type": "execute_result"
    }
   ],
   "source": [
    "t = df.groupby('pose').median().T\n",
    "t.head(3)"
   ]
  },
  {
   "cell_type": "code",
   "execution_count": 135,
   "id": "70100f9b",
   "metadata": {},
   "outputs": [
    {
     "data": {
      "text/plain": [
       "'motion_62'"
      ]
     },
     "execution_count": 135,
     "metadata": {},
     "output_type": "execute_result"
    }
   ],
   "source": [
    "abs( t.iloc[:,0] - t.iloc[:,1] ).sort_values().index[-1]"
   ]
  },
  {
   "cell_type": "markdown",
   "id": "a30bce21",
   "metadata": {},
   "source": [
    "## 현대 차량 가격 분류문제 데이터"
   ]
  },
  {
   "cell_type": "code",
   "execution_count": 137,
   "id": "b25b4682",
   "metadata": {},
   "outputs": [
    {
     "data": {
      "text/html": [
       "<div>\n",
       "<style scoped>\n",
       "    .dataframe tbody tr th:only-of-type {\n",
       "        vertical-align: middle;\n",
       "    }\n",
       "\n",
       "    .dataframe tbody tr th {\n",
       "        vertical-align: top;\n",
       "    }\n",
       "\n",
       "    .dataframe thead th {\n",
       "        text-align: right;\n",
       "    }\n",
       "</style>\n",
       "<table border=\"1\" class=\"dataframe\">\n",
       "  <thead>\n",
       "    <tr style=\"text-align: right;\">\n",
       "      <th></th>\n",
       "      <th>model</th>\n",
       "      <th>year</th>\n",
       "      <th>price</th>\n",
       "      <th>transmission</th>\n",
       "      <th>mileage</th>\n",
       "      <th>fuelType</th>\n",
       "      <th>tax(£)</th>\n",
       "      <th>mpg</th>\n",
       "      <th>engineSize</th>\n",
       "    </tr>\n",
       "  </thead>\n",
       "  <tbody>\n",
       "    <tr>\n",
       "      <th>0</th>\n",
       "      <td>Tucson</td>\n",
       "      <td>2016</td>\n",
       "      <td>12795</td>\n",
       "      <td>Manual</td>\n",
       "      <td>36263</td>\n",
       "      <td>Diesel</td>\n",
       "      <td>30</td>\n",
       "      <td>61.7</td>\n",
       "      <td>1.7</td>\n",
       "    </tr>\n",
       "    <tr>\n",
       "      <th>1</th>\n",
       "      <td>I10</td>\n",
       "      <td>2012</td>\n",
       "      <td>3995</td>\n",
       "      <td>Manual</td>\n",
       "      <td>22089</td>\n",
       "      <td>Petrol</td>\n",
       "      <td>20</td>\n",
       "      <td>61.4</td>\n",
       "      <td>1.2</td>\n",
       "    </tr>\n",
       "    <tr>\n",
       "      <th>2</th>\n",
       "      <td>I30</td>\n",
       "      <td>2019</td>\n",
       "      <td>24000</td>\n",
       "      <td>Manual</td>\n",
       "      <td>555</td>\n",
       "      <td>Petrol</td>\n",
       "      <td>145</td>\n",
       "      <td>34.0</td>\n",
       "      <td>2.0</td>\n",
       "    </tr>\n",
       "    <tr>\n",
       "      <th>3</th>\n",
       "      <td>Tucson</td>\n",
       "      <td>2017</td>\n",
       "      <td>12995</td>\n",
       "      <td>Manual</td>\n",
       "      <td>32147</td>\n",
       "      <td>Diesel</td>\n",
       "      <td>30</td>\n",
       "      <td>61.7</td>\n",
       "      <td>1.7</td>\n",
       "    </tr>\n",
       "    <tr>\n",
       "      <th>4</th>\n",
       "      <td>Tucson</td>\n",
       "      <td>2018</td>\n",
       "      <td>14991</td>\n",
       "      <td>Semi-Auto</td>\n",
       "      <td>32217</td>\n",
       "      <td>Diesel</td>\n",
       "      <td>150</td>\n",
       "      <td>57.6</td>\n",
       "      <td>1.7</td>\n",
       "    </tr>\n",
       "  </tbody>\n",
       "</table>\n",
       "</div>"
      ],
      "text/plain": [
       "     model  year  price transmission  mileage fuelType  tax(£)   mpg  \\\n",
       "0   Tucson  2016  12795       Manual    36263   Diesel      30  61.7   \n",
       "1      I10  2012   3995       Manual    22089   Petrol      20  61.4   \n",
       "2      I30  2019  24000       Manual      555   Petrol     145  34.0   \n",
       "3   Tucson  2017  12995       Manual    32147   Diesel      30  61.7   \n",
       "4   Tucson  2018  14991    Semi-Auto    32217   Diesel     150  57.6   \n",
       "\n",
       "   engineSize  \n",
       "0         1.7  \n",
       "1         1.2  \n",
       "2         2.0  \n",
       "3         1.7  \n",
       "4         1.7  "
      ]
     },
     "execution_count": 137,
     "metadata": {},
     "output_type": "execute_result"
    }
   ],
   "source": [
    "df = pd.read_csv(\"https://raw.githubusercontent.com/Datamanim/datarepo/main/hyundai/train.csv\")\n",
    "df.head()"
   ]
  },
  {
   "cell_type": "markdown",
   "id": "3596293b",
   "metadata": {},
   "source": [
    "Q101. 정보(row수)가 가장 많은 상위 3차종의 price값의 각 평균값은?"
   ]
  },
  {
   "cell_type": "code",
   "execution_count": 143,
   "id": "bc97a97c",
   "metadata": {},
   "outputs": [
    {
     "data": {
      "text/plain": [
       "Index([' Tucson', ' I10', ' I30'], dtype='object')"
      ]
     },
     "execution_count": 143,
     "metadata": {},
     "output_type": "execute_result"
    }
   ],
   "source": [
    "df.model.value_counts().index[0:3]"
   ]
  },
  {
   "cell_type": "code",
   "execution_count": 150,
   "id": "736c7f0a",
   "metadata": {},
   "outputs": [
    {
     "data": {
      "text/html": [
       "<div>\n",
       "<style scoped>\n",
       "    .dataframe tbody tr th:only-of-type {\n",
       "        vertical-align: middle;\n",
       "    }\n",
       "\n",
       "    .dataframe tbody tr th {\n",
       "        vertical-align: top;\n",
       "    }\n",
       "\n",
       "    .dataframe thead th {\n",
       "        text-align: right;\n",
       "    }\n",
       "</style>\n",
       "<table border=\"1\" class=\"dataframe\">\n",
       "  <thead>\n",
       "    <tr style=\"text-align: right;\">\n",
       "      <th></th>\n",
       "      <th>price</th>\n",
       "    </tr>\n",
       "    <tr>\n",
       "      <th>model</th>\n",
       "      <th></th>\n",
       "    </tr>\n",
       "  </thead>\n",
       "  <tbody>\n",
       "    <tr>\n",
       "      <th>I10</th>\n",
       "      <td>7646.137891</td>\n",
       "    </tr>\n",
       "    <tr>\n",
       "      <th>I30</th>\n",
       "      <td>11651.821759</td>\n",
       "    </tr>\n",
       "    <tr>\n",
       "      <th>Tucson</th>\n",
       "      <td>15805.441373</td>\n",
       "    </tr>\n",
       "  </tbody>\n",
       "</table>\n",
       "</div>"
      ],
      "text/plain": [
       "                price\n",
       "model                \n",
       " I10      7646.137891\n",
       " I30     11651.821759\n",
       " Tucson  15805.441373"
      ]
     },
     "execution_count": 150,
     "metadata": {},
     "output_type": "execute_result"
    }
   ],
   "source": [
    "df[df.model.isin(df.model.value_counts().index[0:3])].groupby('model').mean()['price'].to_frame()"
   ]
  },
  {
   "cell_type": "markdown",
   "id": "106a7578",
   "metadata": {},
   "source": [
    "## 당뇨여부판단 데이터"
   ]
  },
  {
   "cell_type": "code",
   "execution_count": 151,
   "id": "1b053091",
   "metadata": {},
   "outputs": [
    {
     "data": {
      "text/html": [
       "<div>\n",
       "<style scoped>\n",
       "    .dataframe tbody tr th:only-of-type {\n",
       "        vertical-align: middle;\n",
       "    }\n",
       "\n",
       "    .dataframe tbody tr th {\n",
       "        vertical-align: top;\n",
       "    }\n",
       "\n",
       "    .dataframe thead th {\n",
       "        text-align: right;\n",
       "    }\n",
       "</style>\n",
       "<table border=\"1\" class=\"dataframe\">\n",
       "  <thead>\n",
       "    <tr style=\"text-align: right;\">\n",
       "      <th></th>\n",
       "      <th>Pregnancies</th>\n",
       "      <th>Glucose</th>\n",
       "      <th>BloodPressure</th>\n",
       "      <th>SkinThickness</th>\n",
       "      <th>Insulin</th>\n",
       "      <th>BMI</th>\n",
       "      <th>DiabetesPedigreeFunction</th>\n",
       "      <th>Age</th>\n",
       "      <th>Outcome</th>\n",
       "    </tr>\n",
       "  </thead>\n",
       "  <tbody>\n",
       "    <tr>\n",
       "      <th>0</th>\n",
       "      <td>3</td>\n",
       "      <td>102</td>\n",
       "      <td>74</td>\n",
       "      <td>0</td>\n",
       "      <td>0</td>\n",
       "      <td>29.5</td>\n",
       "      <td>0.121</td>\n",
       "      <td>32</td>\n",
       "      <td>0</td>\n",
       "    </tr>\n",
       "    <tr>\n",
       "      <th>1</th>\n",
       "      <td>2</td>\n",
       "      <td>144</td>\n",
       "      <td>58</td>\n",
       "      <td>33</td>\n",
       "      <td>135</td>\n",
       "      <td>31.6</td>\n",
       "      <td>0.422</td>\n",
       "      <td>25</td>\n",
       "      <td>1</td>\n",
       "    </tr>\n",
       "    <tr>\n",
       "      <th>2</th>\n",
       "      <td>5</td>\n",
       "      <td>136</td>\n",
       "      <td>82</td>\n",
       "      <td>0</td>\n",
       "      <td>0</td>\n",
       "      <td>0.0</td>\n",
       "      <td>0.640</td>\n",
       "      <td>69</td>\n",
       "      <td>0</td>\n",
       "    </tr>\n",
       "    <tr>\n",
       "      <th>3</th>\n",
       "      <td>13</td>\n",
       "      <td>145</td>\n",
       "      <td>82</td>\n",
       "      <td>19</td>\n",
       "      <td>110</td>\n",
       "      <td>22.2</td>\n",
       "      <td>0.245</td>\n",
       "      <td>57</td>\n",
       "      <td>0</td>\n",
       "    </tr>\n",
       "    <tr>\n",
       "      <th>4</th>\n",
       "      <td>1</td>\n",
       "      <td>117</td>\n",
       "      <td>60</td>\n",
       "      <td>23</td>\n",
       "      <td>106</td>\n",
       "      <td>33.8</td>\n",
       "      <td>0.466</td>\n",
       "      <td>27</td>\n",
       "      <td>0</td>\n",
       "    </tr>\n",
       "  </tbody>\n",
       "</table>\n",
       "</div>"
      ],
      "text/plain": [
       "   Pregnancies  Glucose  BloodPressure  SkinThickness  Insulin   BMI  \\\n",
       "0            3      102             74              0        0  29.5   \n",
       "1            2      144             58             33      135  31.6   \n",
       "2            5      136             82              0        0   0.0   \n",
       "3           13      145             82             19      110  22.2   \n",
       "4            1      117             60             23      106  33.8   \n",
       "\n",
       "   DiabetesPedigreeFunction  Age  Outcome  \n",
       "0                     0.121   32        0  \n",
       "1                     0.422   25        1  \n",
       "2                     0.640   69        0  \n",
       "3                     0.245   57        0  \n",
       "4                     0.466   27        0  "
      ]
     },
     "execution_count": 151,
     "metadata": {},
     "output_type": "execute_result"
    }
   ],
   "source": [
    "df = pd.read_csv(\"https://raw.githubusercontent.com/Datamanim/datarepo/main/diabetes/train.csv\")\n",
    "df.head()"
   ]
  },
  {
   "cell_type": "markdown",
   "id": "99099582",
   "metadata": {},
   "source": [
    "## Q102. Outcome 값에 따른 각 그룹의 각 컬럼의 평균 차이를 구하여라"
   ]
  },
  {
   "cell_type": "code",
   "execution_count": 154,
   "id": "73026e46",
   "metadata": {},
   "outputs": [
    {
     "data": {
      "text/plain": [
       "Pregnancies                  1.574159\n",
       "Glucose                     29.943995\n",
       "BloodPressure                3.202079\n",
       "SkinThickness                2.952033\n",
       "Insulin                     33.398645\n",
       "BMI                          4.541437\n",
       "DiabetesPedigreeFunction     0.143646\n",
       "Age                          5.866939\n",
       "dtype: float64"
      ]
     },
     "execution_count": 154,
     "metadata": {},
     "output_type": "execute_result"
    }
   ],
   "source": [
    "d = df.groupby('Outcome').mean().T\n",
    "d[1] - d[0]"
   ]
  },
  {
   "cell_type": "code",
   "execution_count": 157,
   "id": "132998a0",
   "metadata": {},
   "outputs": [
    {
     "data": {
      "text/plain": [
       "Pregnancies                  1.574159\n",
       "Glucose                     29.943995\n",
       "BloodPressure                3.202079\n",
       "SkinThickness                2.952033\n",
       "Insulin                     33.398645\n",
       "BMI                          4.541437\n",
       "DiabetesPedigreeFunction     0.143646\n",
       "Age                          5.866939\n",
       "Name: 1, dtype: float64"
      ]
     },
     "execution_count": 157,
     "metadata": {},
     "output_type": "execute_result"
    }
   ],
   "source": [
    "df.groupby('Outcome').mean().diff().iloc[1,:]"
   ]
  },
  {
   "cell_type": "markdown",
   "id": "131856b6",
   "metadata": {},
   "source": [
    "## 넷플릭스 주식 데이터"
   ]
  },
  {
   "cell_type": "code",
   "execution_count": 158,
   "id": "bb392cf4",
   "metadata": {},
   "outputs": [
    {
     "data": {
      "text/html": [
       "<div>\n",
       "<style scoped>\n",
       "    .dataframe tbody tr th:only-of-type {\n",
       "        vertical-align: middle;\n",
       "    }\n",
       "\n",
       "    .dataframe tbody tr th {\n",
       "        vertical-align: top;\n",
       "    }\n",
       "\n",
       "    .dataframe thead th {\n",
       "        text-align: right;\n",
       "    }\n",
       "</style>\n",
       "<table border=\"1\" class=\"dataframe\">\n",
       "  <thead>\n",
       "    <tr style=\"text-align: right;\">\n",
       "      <th></th>\n",
       "      <th>Date</th>\n",
       "      <th>Open</th>\n",
       "      <th>High</th>\n",
       "      <th>Low</th>\n",
       "      <th>Close</th>\n",
       "      <th>Adj Close</th>\n",
       "      <th>Volume</th>\n",
       "    </tr>\n",
       "  </thead>\n",
       "  <tbody>\n",
       "    <tr>\n",
       "      <th>0</th>\n",
       "      <td>2002-05-23</td>\n",
       "      <td>1.156429</td>\n",
       "      <td>1.242857</td>\n",
       "      <td>1.145714</td>\n",
       "      <td>1.196429</td>\n",
       "      <td>1.196429</td>\n",
       "      <td>104790000</td>\n",
       "    </tr>\n",
       "    <tr>\n",
       "      <th>1</th>\n",
       "      <td>2002-05-24</td>\n",
       "      <td>1.214286</td>\n",
       "      <td>1.225000</td>\n",
       "      <td>1.197143</td>\n",
       "      <td>1.210000</td>\n",
       "      <td>1.210000</td>\n",
       "      <td>11104800</td>\n",
       "    </tr>\n",
       "    <tr>\n",
       "      <th>2</th>\n",
       "      <td>2002-05-28</td>\n",
       "      <td>1.213571</td>\n",
       "      <td>1.232143</td>\n",
       "      <td>1.157143</td>\n",
       "      <td>1.157143</td>\n",
       "      <td>1.157143</td>\n",
       "      <td>6609400</td>\n",
       "    </tr>\n",
       "    <tr>\n",
       "      <th>3</th>\n",
       "      <td>2002-05-29</td>\n",
       "      <td>1.164286</td>\n",
       "      <td>1.164286</td>\n",
       "      <td>1.085714</td>\n",
       "      <td>1.103571</td>\n",
       "      <td>1.103571</td>\n",
       "      <td>6757800</td>\n",
       "    </tr>\n",
       "    <tr>\n",
       "      <th>4</th>\n",
       "      <td>2002-05-30</td>\n",
       "      <td>1.107857</td>\n",
       "      <td>1.107857</td>\n",
       "      <td>1.071429</td>\n",
       "      <td>1.071429</td>\n",
       "      <td>1.071429</td>\n",
       "      <td>10154200</td>\n",
       "    </tr>\n",
       "  </tbody>\n",
       "</table>\n",
       "</div>"
      ],
      "text/plain": [
       "         Date      Open      High       Low     Close  Adj Close     Volume\n",
       "0  2002-05-23  1.156429  1.242857  1.145714  1.196429   1.196429  104790000\n",
       "1  2002-05-24  1.214286  1.225000  1.197143  1.210000   1.210000   11104800\n",
       "2  2002-05-28  1.213571  1.232143  1.157143  1.157143   1.157143    6609400\n",
       "3  2002-05-29  1.164286  1.164286  1.085714  1.103571   1.103571    6757800\n",
       "4  2002-05-30  1.107857  1.107857  1.071429  1.071429   1.071429   10154200"
      ]
     },
     "execution_count": 158,
     "metadata": {},
     "output_type": "execute_result"
    }
   ],
   "source": [
    "df = pd.read_csv(\"https://raw.githubusercontent.com/Datamanim/datarepo/main/nflx/NFLX.csv\")\n",
    "df.head()"
   ]
  },
  {
   "cell_type": "markdown",
   "id": "68fe6b2a",
   "metadata": {},
   "source": [
    "## Q103. 매년 5월달의 open가격의 평균값을 데이터 프레임으로 표현하라"
   ]
  },
  {
   "cell_type": "code",
   "execution_count": 159,
   "id": "943ac149",
   "metadata": {},
   "outputs": [
    {
     "name": "stdout",
     "output_type": "stream",
     "text": [
      "<class 'pandas.core.frame.DataFrame'>\n",
      "RangeIndex: 4874 entries, 0 to 4873\n",
      "Data columns (total 7 columns):\n",
      " #   Column     Non-Null Count  Dtype  \n",
      "---  ------     --------------  -----  \n",
      " 0   Date       4874 non-null   object \n",
      " 1   Open       4874 non-null   float64\n",
      " 2   High       4874 non-null   float64\n",
      " 3   Low        4874 non-null   float64\n",
      " 4   Close      4874 non-null   float64\n",
      " 5   Adj Close  4874 non-null   float64\n",
      " 6   Volume     4874 non-null   int64  \n",
      "dtypes: float64(5), int64(1), object(1)\n",
      "memory usage: 266.7+ KB\n"
     ]
    }
   ],
   "source": [
    "df.info()"
   ]
  },
  {
   "cell_type": "code",
   "execution_count": 160,
   "id": "13e8fdc8",
   "metadata": {},
   "outputs": [
    {
     "data": {
      "text/plain": [
       "(Timestamp('2002-05-23 00:00:00'), Timestamp('2021-09-30 00:00:00'))"
      ]
     },
     "execution_count": 160,
     "metadata": {},
     "output_type": "execute_result"
    }
   ],
   "source": [
    "df.Date = pd.to_datetime(df.Date)\n",
    "df.Date.min(), df.Date.max()"
   ]
  },
  {
   "cell_type": "code",
   "execution_count": 161,
   "id": "f6c63f43",
   "metadata": {},
   "outputs": [],
   "source": [
    "import datetime as dt"
   ]
  },
  {
   "cell_type": "code",
   "execution_count": 163,
   "id": "52688618",
   "metadata": {},
   "outputs": [
    {
     "data": {
      "text/plain": [
       "Date\n",
       "2002      1.155833\n",
       "2003      1.641497\n",
       "2004      4.261143\n",
       "2005      1.951905\n",
       "2006      4.163571\n",
       "2007      3.159351\n",
       "2008      4.435034\n",
       "2009      5.790571\n",
       "2010     14.417071\n",
       "2011     34.650272\n",
       "2012     10.523247\n",
       "2013     31.936429\n",
       "2014     51.121292\n",
       "2015     85.057429\n",
       "2016     92.705715\n",
       "2017    158.255455\n",
       "2018    329.779541\n",
       "2019    359.664548\n",
       "2020    433.880499\n",
       "2021    496.923996\n",
       "Name: Open, dtype: float64"
      ]
     },
     "execution_count": 163,
     "metadata": {},
     "output_type": "execute_result"
    }
   ],
   "source": [
    "df[df.Date.dt.month == 5].groupby(df.Date.dt.year).mean().Open"
   ]
  },
  {
   "cell_type": "code",
   "execution_count": 164,
   "id": "b6ccd979",
   "metadata": {},
   "outputs": [
    {
     "data": {
      "text/plain": [
       "0       2002-05\n",
       "1       2002-05\n",
       "2       2002-05\n",
       "3       2002-05\n",
       "4       2002-05\n",
       "         ...   \n",
       "4869    2021-09\n",
       "4870    2021-09\n",
       "4871    2021-09\n",
       "4872    2021-09\n",
       "4873    2021-09\n",
       "Name: Date, Length: 4874, dtype: object"
      ]
     },
     "execution_count": 164,
     "metadata": {},
     "output_type": "execute_result"
    }
   ],
   "source": [
    "df.Date.dt.strftime(\"%Y-%m\")"
   ]
  },
  {
   "cell_type": "code",
   "execution_count": 171,
   "id": "13f259f2",
   "metadata": {},
   "outputs": [
    {
     "data": {
      "text/plain": [
       "Date\n",
       "2002-05      1.155833\n",
       "2003-05      1.641497\n",
       "2004-05      4.261143\n",
       "2005-05      1.951905\n",
       "2006-05      4.163571\n",
       "2007-05      3.159351\n",
       "2008-05      4.435034\n",
       "2009-05      5.790571\n",
       "2010-05     14.417071\n",
       "2011-05     34.650272\n",
       "2012-05     10.523247\n",
       "2013-05     31.936429\n",
       "2014-05     51.121292\n",
       "2015-05     85.057429\n",
       "2016-05     92.705715\n",
       "2017-05    158.255455\n",
       "2018-05    329.779541\n",
       "2019-05    359.664548\n",
       "2020-05    433.880499\n",
       "2021-05    496.923996\n",
       "Name: Open, dtype: float64"
      ]
     },
     "execution_count": 171,
     "metadata": {},
     "output_type": "execute_result"
    }
   ],
   "source": [
    "t = df.groupby(df.Date.dt.strftime(\"%Y-%m\")).mean()\n",
    "t.loc[t.index.str.contains('-05')].Open"
   ]
  },
  {
   "cell_type": "markdown",
   "id": "63b8c273",
   "metadata": {},
   "source": [
    "## nba 선수 능력치 데이터"
   ]
  },
  {
   "cell_type": "code",
   "execution_count": 172,
   "id": "5a5eda34",
   "metadata": {},
   "outputs": [
    {
     "data": {
      "text/html": [
       "<div>\n",
       "<style scoped>\n",
       "    .dataframe tbody tr th:only-of-type {\n",
       "        vertical-align: middle;\n",
       "    }\n",
       "\n",
       "    .dataframe tbody tr th {\n",
       "        vertical-align: top;\n",
       "    }\n",
       "\n",
       "    .dataframe thead th {\n",
       "        text-align: right;\n",
       "    }\n",
       "</style>\n",
       "<table border=\"1\" class=\"dataframe\">\n",
       "  <thead>\n",
       "    <tr style=\"text-align: right;\">\n",
       "      <th></th>\n",
       "      <th>Rk</th>\n",
       "      <th>Player</th>\n",
       "      <th>Pos</th>\n",
       "      <th>Age</th>\n",
       "      <th>Tm</th>\n",
       "      <th>G</th>\n",
       "      <th>GS</th>\n",
       "      <th>MP</th>\n",
       "      <th>FG</th>\n",
       "      <th>FGA</th>\n",
       "      <th>...</th>\n",
       "      <th>FT%</th>\n",
       "      <th>ORB</th>\n",
       "      <th>DRB</th>\n",
       "      <th>TRB</th>\n",
       "      <th>AST</th>\n",
       "      <th>STL</th>\n",
       "      <th>BLK</th>\n",
       "      <th>TOV</th>\n",
       "      <th>PF</th>\n",
       "      <th>PTS</th>\n",
       "    </tr>\n",
       "  </thead>\n",
       "  <tbody>\n",
       "    <tr>\n",
       "      <th>0</th>\n",
       "      <td>1</td>\n",
       "      <td>Precious Achiuwa</td>\n",
       "      <td>C</td>\n",
       "      <td>22</td>\n",
       "      <td>TOR</td>\n",
       "      <td>73</td>\n",
       "      <td>28</td>\n",
       "      <td>23.6</td>\n",
       "      <td>3.6</td>\n",
       "      <td>8.3</td>\n",
       "      <td>...</td>\n",
       "      <td>0.595</td>\n",
       "      <td>2.0</td>\n",
       "      <td>4.5</td>\n",
       "      <td>6.5</td>\n",
       "      <td>1.1</td>\n",
       "      <td>0.5</td>\n",
       "      <td>0.6</td>\n",
       "      <td>1.2</td>\n",
       "      <td>2.1</td>\n",
       "      <td>9.1</td>\n",
       "    </tr>\n",
       "    <tr>\n",
       "      <th>1</th>\n",
       "      <td>2</td>\n",
       "      <td>Steven Adams</td>\n",
       "      <td>C</td>\n",
       "      <td>28</td>\n",
       "      <td>MEM</td>\n",
       "      <td>76</td>\n",
       "      <td>75</td>\n",
       "      <td>26.3</td>\n",
       "      <td>2.8</td>\n",
       "      <td>5.1</td>\n",
       "      <td>...</td>\n",
       "      <td>0.543</td>\n",
       "      <td>4.6</td>\n",
       "      <td>5.4</td>\n",
       "      <td>10.0</td>\n",
       "      <td>3.4</td>\n",
       "      <td>0.9</td>\n",
       "      <td>0.8</td>\n",
       "      <td>1.5</td>\n",
       "      <td>2.0</td>\n",
       "      <td>6.9</td>\n",
       "    </tr>\n",
       "    <tr>\n",
       "      <th>2</th>\n",
       "      <td>3</td>\n",
       "      <td>Bam Adebayo</td>\n",
       "      <td>C</td>\n",
       "      <td>24</td>\n",
       "      <td>MIA</td>\n",
       "      <td>56</td>\n",
       "      <td>56</td>\n",
       "      <td>32.6</td>\n",
       "      <td>7.3</td>\n",
       "      <td>13.0</td>\n",
       "      <td>...</td>\n",
       "      <td>0.753</td>\n",
       "      <td>2.4</td>\n",
       "      <td>7.6</td>\n",
       "      <td>10.1</td>\n",
       "      <td>3.4</td>\n",
       "      <td>1.4</td>\n",
       "      <td>0.8</td>\n",
       "      <td>2.6</td>\n",
       "      <td>3.1</td>\n",
       "      <td>19.1</td>\n",
       "    </tr>\n",
       "    <tr>\n",
       "      <th>3</th>\n",
       "      <td>4</td>\n",
       "      <td>Santi Aldama</td>\n",
       "      <td>PF</td>\n",
       "      <td>21</td>\n",
       "      <td>MEM</td>\n",
       "      <td>32</td>\n",
       "      <td>0</td>\n",
       "      <td>11.3</td>\n",
       "      <td>1.7</td>\n",
       "      <td>4.1</td>\n",
       "      <td>...</td>\n",
       "      <td>0.625</td>\n",
       "      <td>1.0</td>\n",
       "      <td>1.7</td>\n",
       "      <td>2.7</td>\n",
       "      <td>0.7</td>\n",
       "      <td>0.2</td>\n",
       "      <td>0.3</td>\n",
       "      <td>0.5</td>\n",
       "      <td>1.1</td>\n",
       "      <td>4.1</td>\n",
       "    </tr>\n",
       "    <tr>\n",
       "      <th>4</th>\n",
       "      <td>5</td>\n",
       "      <td>LaMarcus Aldridge</td>\n",
       "      <td>C</td>\n",
       "      <td>36</td>\n",
       "      <td>BRK</td>\n",
       "      <td>47</td>\n",
       "      <td>12</td>\n",
       "      <td>22.3</td>\n",
       "      <td>5.4</td>\n",
       "      <td>9.7</td>\n",
       "      <td>...</td>\n",
       "      <td>0.873</td>\n",
       "      <td>1.6</td>\n",
       "      <td>3.9</td>\n",
       "      <td>5.5</td>\n",
       "      <td>0.9</td>\n",
       "      <td>0.3</td>\n",
       "      <td>1.0</td>\n",
       "      <td>0.9</td>\n",
       "      <td>1.7</td>\n",
       "      <td>12.9</td>\n",
       "    </tr>\n",
       "  </tbody>\n",
       "</table>\n",
       "<p>5 rows × 30 columns</p>\n",
       "</div>"
      ],
      "text/plain": [
       "   Rk             Player Pos  Age   Tm   G  GS    MP   FG   FGA  ...    FT%  \\\n",
       "0   1   Precious Achiuwa   C   22  TOR  73  28  23.6  3.6   8.3  ...  0.595   \n",
       "1   2       Steven Adams   C   28  MEM  76  75  26.3  2.8   5.1  ...  0.543   \n",
       "2   3        Bam Adebayo   C   24  MIA  56  56  32.6  7.3  13.0  ...  0.753   \n",
       "3   4       Santi Aldama  PF   21  MEM  32   0  11.3  1.7   4.1  ...  0.625   \n",
       "4   5  LaMarcus Aldridge   C   36  BRK  47  12  22.3  5.4   9.7  ...  0.873   \n",
       "\n",
       "   ORB  DRB   TRB  AST  STL  BLK  TOV   PF   PTS  \n",
       "0  2.0  4.5   6.5  1.1  0.5  0.6  1.2  2.1   9.1  \n",
       "1  4.6  5.4  10.0  3.4  0.9  0.8  1.5  2.0   6.9  \n",
       "2  2.4  7.6  10.1  3.4  1.4  0.8  2.6  3.1  19.1  \n",
       "3  1.0  1.7   2.7  0.7  0.2  0.3  0.5  1.1   4.1  \n",
       "4  1.6  3.9   5.5  0.9  0.3  1.0  0.9  1.7  12.9  \n",
       "\n",
       "[5 rows x 30 columns]"
      ]
     },
     "execution_count": 172,
     "metadata": {},
     "output_type": "execute_result"
    }
   ],
   "source": [
    "df = pd.read_csv(\"https://raw.githubusercontent.com/Datamanim/datarepo/main/nba/nba.csv\",encoding='latin',sep=';')\n",
    "df.head()"
   ]
  },
  {
   "cell_type": "markdown",
   "id": "274d60ba",
   "metadata": {},
   "source": [
    "Q104. Tm 컬럼은 각 팀의 이름을 의미한다. TOR팀의 평균나이를 소수 4째 자리까지 구하여라"
   ]
  },
  {
   "cell_type": "code",
   "execution_count": 173,
   "id": "e0fee205",
   "metadata": {},
   "outputs": [
    {
     "name": "stdout",
     "output_type": "stream",
     "text": [
      "<class 'pandas.core.frame.DataFrame'>\n",
      "RangeIndex: 812 entries, 0 to 811\n",
      "Data columns (total 30 columns):\n",
      " #   Column  Non-Null Count  Dtype  \n",
      "---  ------  --------------  -----  \n",
      " 0   Rk      812 non-null    int64  \n",
      " 1   Player  812 non-null    object \n",
      " 2   Pos     812 non-null    object \n",
      " 3   Age     812 non-null    int64  \n",
      " 4   Tm      812 non-null    object \n",
      " 5   G       812 non-null    int64  \n",
      " 6   GS      812 non-null    int64  \n",
      " 7   MP      812 non-null    float64\n",
      " 8   FG      812 non-null    float64\n",
      " 9   FGA     812 non-null    float64\n",
      " 10  FG%     812 non-null    float64\n",
      " 11  3P      812 non-null    float64\n",
      " 12  3PA     812 non-null    float64\n",
      " 13  3P%     812 non-null    float64\n",
      " 14  2P      812 non-null    float64\n",
      " 15  2PA     812 non-null    float64\n",
      " 16  2P%     812 non-null    float64\n",
      " 17  eFG%    812 non-null    float64\n",
      " 18  FT      812 non-null    float64\n",
      " 19  FTA     812 non-null    float64\n",
      " 20  FT%     812 non-null    float64\n",
      " 21  ORB     812 non-null    float64\n",
      " 22  DRB     812 non-null    float64\n",
      " 23  TRB     812 non-null    float64\n",
      " 24  AST     812 non-null    float64\n",
      " 25  STL     812 non-null    float64\n",
      " 26  BLK     812 non-null    float64\n",
      " 27  TOV     812 non-null    float64\n",
      " 28  PF      812 non-null    float64\n",
      " 29  PTS     812 non-null    float64\n",
      "dtypes: float64(23), int64(4), object(3)\n",
      "memory usage: 190.4+ KB\n"
     ]
    }
   ],
   "source": [
    "df.info()"
   ]
  },
  {
   "cell_type": "code",
   "execution_count": 174,
   "id": "f8e21a9d",
   "metadata": {},
   "outputs": [
    {
     "data": {
      "text/plain": [
       "24.8696"
      ]
     },
     "execution_count": 174,
     "metadata": {},
     "output_type": "execute_result"
    }
   ],
   "source": [
    "round(df[df.Tm == 'TOR'].Age.mean(),4)"
   ]
  },
  {
   "cell_type": "markdown",
   "id": "1fd63918",
   "metadata": {},
   "source": [
    "Q105. Pos 컬럼은 포지션을 의미한다. 전체 선수 중 최소나이대의 선수들을 필터하고 그들 중 가장 많은 포지션은 무엇인지 확인하라"
   ]
  },
  {
   "cell_type": "code",
   "execution_count": 180,
   "id": "655cca33",
   "metadata": {},
   "outputs": [
    {
     "data": {
      "text/plain": [
       "'SG'"
      ]
     },
     "execution_count": 180,
     "metadata": {},
     "output_type": "execute_result"
    }
   ],
   "source": [
    "df[df.Age == df.Age.min()].Pos.value_counts().index[0]"
   ]
  },
  {
   "cell_type": "markdown",
   "id": "31d7195d",
   "metadata": {},
   "source": [
    "## Q106. 선수들의 이름은 first_name+ 공백 + last_name으로 이루어져 있다. 가장 많은 first_name은 무엇이며 몇 회 발생하는지 확인하라"
   ]
  },
  {
   "cell_type": "code",
   "execution_count": 186,
   "id": "c31da9e5",
   "metadata": {},
   "outputs": [],
   "source": [
    "lst = []\n",
    "for i in range(len(df.Player)):\n",
    "     lst.append(df.Player.str.split(' ')[i][0])"
   ]
  },
  {
   "cell_type": "code",
   "execution_count": 223,
   "id": "f602976b",
   "metadata": {
    "scrolled": true
   },
   "outputs": [
    {
     "data": {
      "text/plain": [
       "0\n",
       "Justin    14\n",
       "dtype: int64"
      ]
     },
     "execution_count": 223,
     "metadata": {},
     "output_type": "execute_result"
    }
   ],
   "source": [
    "pd.DataFrame(lst).groupby(0).size().sort_values().tail(1)"
   ]
  },
  {
   "cell_type": "code",
   "execution_count": 222,
   "id": "7f065d6b",
   "metadata": {},
   "outputs": [
    {
     "data": {
      "text/plain": [
       "justin    14\n",
       "Name: Player, dtype: int64"
      ]
     },
     "execution_count": 222,
     "metadata": {},
     "output_type": "execute_result"
    }
   ],
   "source": [
    "df.Player.str.split().str[0].str.lower().value_counts().head(1)"
   ]
  },
  {
   "cell_type": "markdown",
   "id": "c9e5206f",
   "metadata": {},
   "source": [
    "Q107. PTS컬럼은 경기당 평균득점수 이다. 각포지션별로 경기당 평균득점수의 평균을 구하여라"
   ]
  },
  {
   "cell_type": "code",
   "execution_count": 225,
   "id": "a86000b5",
   "metadata": {},
   "outputs": [
    {
     "data": {
      "text/plain": [
       "Pos\n",
       "C         7.690769\n",
       "C-PF     12.850000\n",
       "PF        7.737500\n",
       "PF-SF     8.500000\n",
       "PG        8.325161\n",
       "PG-SG    22.000000\n",
       "SF        7.270253\n",
       "SF-SG     8.660000\n",
       "SG        7.810553\n",
       "SG-PG     9.525000\n",
       "SG-SF     7.360000\n",
       "Name: PTS, dtype: float64"
      ]
     },
     "execution_count": 225,
     "metadata": {},
     "output_type": "execute_result"
    }
   ],
   "source": [
    "df.groupby(\"Pos\").mean().PTS"
   ]
  },
  {
   "cell_type": "markdown",
   "id": "b15e056c",
   "metadata": {},
   "source": [
    "Q108. PTS컬럼은 경기당 평균득점수 이다. 각포지션별로 경기당 평균득점수의 평균을 구하여라"
   ]
  },
  {
   "cell_type": "code",
   "execution_count": null,
   "id": "1f18d90d",
   "metadata": {},
   "outputs": [],
   "source": [
    "= 107"
   ]
  },
  {
   "cell_type": "markdown",
   "id": "bbf893dd",
   "metadata": {},
   "source": [
    "Q109. G컬럼은 참여한 경기의 숫자이다. 각 팀별로 가장 높은 경기참여 수를 가진 선수들의 경기 참여 숫자의 평균을 구하여라"
   ]
  },
  {
   "cell_type": "code",
   "execution_count": 235,
   "id": "a30465c8",
   "metadata": {},
   "outputs": [
    {
     "data": {
      "text/plain": [
       "77.51612903225806"
      ]
     },
     "execution_count": 235,
     "metadata": {},
     "output_type": "execute_result"
    }
   ],
   "source": [
    "df.groupby('Tm').max().G.mean()"
   ]
  },
  {
   "cell_type": "markdown",
   "id": "e12bf342",
   "metadata": {},
   "source": [
    "Q110. Tm의 값이 MIA이며 Pos는 C또는 PF인 선수의 MP값의 평균은?"
   ]
  },
  {
   "cell_type": "code",
   "execution_count": 243,
   "id": "05214f15",
   "metadata": {},
   "outputs": [
    {
     "data": {
      "text/plain": [
       "16.7875"
      ]
     },
     "execution_count": 243,
     "metadata": {},
     "output_type": "execute_result"
    }
   ],
   "source": [
    "df[(df.Tm == 'MIA') & (df.Pos.isin(['C','PF']))].MP.mean()"
   ]
  },
  {
   "cell_type": "markdown",
   "id": "1ff0db42",
   "metadata": {},
   "source": [
    "Q111. 전체 데이터중 G의 평균값의 1.5배 이상인 데이터들만 추출했을때 3P값의 평균은?"
   ]
  },
  {
   "cell_type": "code",
   "execution_count": 248,
   "id": "f8e760d5",
   "metadata": {},
   "outputs": [
    {
     "data": {
      "text/plain": [
       "1.3853658536585365"
      ]
     },
     "execution_count": 248,
     "metadata": {},
     "output_type": "execute_result"
    }
   ],
   "source": [
    "df[df.G >= df.G.mean()*1.5]['3P'].mean()"
   ]
  },
  {
   "cell_type": "markdown",
   "id": "5e6bbc82",
   "metadata": {},
   "source": [
    "Q112. Age의 평균 이상인 그룹과 평균 미만인 그룹간의 G값의 평균의 차이는?"
   ]
  },
  {
   "cell_type": "code",
   "execution_count": 249,
   "id": "d442e0df",
   "metadata": {},
   "outputs": [
    {
     "data": {
      "text/plain": [
       "3.787674551781862"
      ]
     },
     "execution_count": 249,
     "metadata": {},
     "output_type": "execute_result"
    }
   ],
   "source": [
    "df[df.Age >= df.Age.mean()].G.mean() - df[df.Age < df.Age.mean()].G.mean()"
   ]
  },
  {
   "cell_type": "markdown",
   "id": "685957c1",
   "metadata": {},
   "source": [
    "Q113. 평균나이가 가장 젊은 팀은 어디인가"
   ]
  },
  {
   "cell_type": "code",
   "execution_count": 254,
   "id": "32eb5c07",
   "metadata": {},
   "outputs": [
    {
     "data": {
      "text/plain": [
       "'MEM'"
      ]
     },
     "execution_count": 254,
     "metadata": {},
     "output_type": "execute_result"
    }
   ],
   "source": [
    "df.groupby('Tm').mean().Age.sort_values().index[0]"
   ]
  },
  {
   "cell_type": "markdown",
   "id": "d72312e6",
   "metadata": {},
   "source": [
    "Q114. Pos그룹별 평균 MP값을 구하여라"
   ]
  },
  {
   "cell_type": "code",
   "execution_count": 255,
   "id": "a6ccbf42",
   "metadata": {},
   "outputs": [
    {
     "data": {
      "text/plain": [
       "Pos\n",
       "C        16.990000\n",
       "C-PF     25.350000\n",
       "PF       17.937500\n",
       "PF-SF    27.300000\n",
       "PG       19.547742\n",
       "PG-SG    37.200000\n",
       "SF       17.514557\n",
       "SF-SG    20.340000\n",
       "SG       18.554271\n",
       "SG-PG    22.950000\n",
       "SG-SF    19.620000\n",
       "Name: MP, dtype: float64"
      ]
     },
     "execution_count": 255,
     "metadata": {},
     "output_type": "execute_result"
    }
   ],
   "source": [
    "df.groupby(\"Pos\").mean().MP"
   ]
  }
 ],
 "metadata": {
  "kernelspec": {
   "display_name": "Python 3 (ipykernel)",
   "language": "python",
   "name": "python3"
  },
  "language_info": {
   "codemirror_mode": {
    "name": "ipython",
    "version": 3
   },
   "file_extension": ".py",
   "mimetype": "text/x-python",
   "name": "python",
   "nbconvert_exporter": "python",
   "pygments_lexer": "ipython3",
   "version": "3.10.4"
  }
 },
 "nbformat": 4,
 "nbformat_minor": 5
}
